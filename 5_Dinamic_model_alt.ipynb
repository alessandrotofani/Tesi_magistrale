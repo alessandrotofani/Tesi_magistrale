{
  "nbformat": 4,
  "nbformat_minor": 0,
  "metadata": {
    "colab": {
      "name": "5_Dinamic_model_new.ipynb",
      "provenance": [],
      "authorship_tag": "ABX9TyN8HQgiKwviv2yoTk9zAHdI",
      "include_colab_link": true
    },
    "kernelspec": {
      "name": "python3",
      "display_name": "Python 3"
    },
    "accelerator": "GPU"
  },
  "cells": [
    {
      "cell_type": "markdown",
      "metadata": {
        "id": "view-in-github",
        "colab_type": "text"
      },
      "source": [
        "<a href=\"https://colab.research.google.com/github/alessandrotofani/Tesi_magistrale/blob/master/5_Dinamic_model_alt.ipynb\" target=\"_parent\"><img src=\"https://colab.research.google.com/assets/colab-badge.svg\" alt=\"Open In Colab\"/></a>"
      ]
    },
    {
      "cell_type": "markdown",
      "metadata": {
        "id": "z-7rH_UhAPGR"
      },
      "source": [
        "# Import"
      ]
    },
    {
      "cell_type": "code",
      "metadata": {
        "id": "SwkBbxNMK8Fv",
        "colab": {
          "base_uri": "https://localhost:8080/"
        },
        "outputId": "60de6a46-04b7-4659-d789-9d05ae301d99"
      },
      "source": [
        "import numpy as np \r\n",
        "import pandas as pd \r\n",
        "import matplotlib\r\n",
        "import matplotlib.pyplot as plt\r\n",
        "import seaborn as sns\r\n",
        "import os\r\n",
        "from google.colab import drive\r\n",
        "drive.mount('/content/drive')\r\n",
        "from sklearn.model_selection import train_test_split"
      ],
      "execution_count": 1,
      "outputs": [
        {
          "output_type": "stream",
          "text": [
            "Drive already mounted at /content/drive; to attempt to forcibly remount, call drive.mount(\"/content/drive\", force_remount=True).\n"
          ],
          "name": "stdout"
        }
      ]
    },
    {
      "cell_type": "code",
      "metadata": {
        "id": "9UBtZ7vSkof3"
      },
      "source": [
        "import sys \r\n",
        "sys.path.append('/content/drive/MyDrive/Tesi_magistrale/Tesi_magistrale')\r\n",
        "import mf"
      ],
      "execution_count": 2,
      "outputs": []
    },
    {
      "cell_type": "code",
      "metadata": {
        "id": "RYEwRKTV1NvR"
      },
      "source": [
        "data = pd.read_csv('/content/drive/MyDrive/Tesi_magistrale/Dataset/IEEE/Output/data.csv')\r\n",
        "data.drop(data.columns[data.columns.str.contains('unnamed',case = False)],axis = 1, inplace = True)"
      ],
      "execution_count": 3,
      "outputs": []
    },
    {
      "cell_type": "markdown",
      "metadata": {
        "id": "ouPK38wK1Ytv"
      },
      "source": [
        "# Feature engineering and scaling"
      ]
    },
    {
      "cell_type": "code",
      "metadata": {
        "id": "8s7dk9_P1QQx"
      },
      "source": [
        "data = mf.feature_engineering(data)\r\n",
        "data = mf.feature_scaling(data)\r\n",
        "data = pd.get_dummies(data)"
      ],
      "execution_count": 4,
      "outputs": []
    },
    {
      "cell_type": "markdown",
      "metadata": {
        "id": "ufgfSciYOIqL"
      },
      "source": [
        "# Dinamic model"
      ]
    },
    {
      "cell_type": "code",
      "metadata": {
        "id": "NdLWKPHvOJb7"
      },
      "source": [
        "init_splits = 4 # numero di split su cui il modello iniziale (t=0) si allena \r\n",
        "incoming_splits = 2 # nuovi split che arrivano ad ogni nuovo dt, e su cui si allena il nuovo modello\r\n",
        "tot_splits = 10 # split totali in cui sarà diviso il dataset"
      ],
      "execution_count": 5,
      "outputs": []
    },
    {
      "cell_type": "code",
      "metadata": {
        "id": "jxTnn6PcOYqE"
      },
      "source": [
        "def get_split_id(data, init_splits, incoming_splits, tot_splits): # serve per splittare il dataset in tot_splits\r\n",
        "  '''\r\n",
        "  in\r\n",
        "  data: dataset che si vuole splittare\r\n",
        "  init_splits: numero di split su cui il modello iniziale (t=0) si allena \r\n",
        "  incoming_splits: nuovi split che arrivano ad ogni nuovo dt, e su cui si allena il nuovo modello\r\n",
        "  tot_splits: split totali in cui sarà diviso il dataset\r\n",
        "  out\r\n",
        "  id: dizionario che contiene (split : id righe selezionate)\r\n",
        "  id_fraud: come id, solo che sono selezionate solo le transazioni fraudolente \r\n",
        "  '''\r\n",
        "  id = {} # dizionario con (split : id_righe)\r\n",
        "  id_fraud = {} # dizionario con (split: id righe transazioni fraudolente)\r\n",
        "  for i in range(tot_splits):\r\n",
        "    id[i] = data[(data['TransactionDT']>=(i/tot_splits)) & (data['TransactionDT']<((i + 1)/tot_splits))].index.tolist()\r\n",
        "    id_fraud[i] = data[(data['TransactionDT']>=(i/tot_splits)) & (data['TransactionDT']<((i + 1)/tot_splits)) & (data['isFraud'] == 1)].index.tolist()\r\n",
        "    \r\n",
        "  return id, id_fraud"
      ],
      "execution_count": 6,
      "outputs": []
    },
    {
      "cell_type": "code",
      "metadata": {
        "id": "PtMpJb8jQ_B1"
      },
      "source": [
        "class model:\r\n",
        "  name = 'XGBoost'\r\n",
        "\r\n",
        "  def __init__(self, t): # costruttore\r\n",
        "    '''\r\n",
        "    in\r\n",
        "    t: istante temporale\r\n",
        "    '''\r\n",
        "    self.t = t\r\n",
        "    self.f1 = 0\r\n",
        "    self.precision = 0\r\n",
        "    self.recall = 0\r\n",
        "    self.roc = 0\r\n",
        "    self.proba = []\r\n",
        "    self.prediction = []\r\n",
        "    self.train_id = [] # lista con le righe su cui il modello si è allenato\r\n",
        "    self.val_id = [] # lista con le righe su cui il modello viene validato\r\n",
        "    return\r\n",
        "\r\n",
        "  def __str__(self): # print dell'oggetto\r\n",
        "    return f\"{self.name}, at time {self.t}, with f1 score of {self.f1}\"\r\n",
        "\r\n",
        "  def init_xgb(self, estimators = 1000, depth = 6): # inizializza xgb 2000, 6\r\n",
        "    import xgboost \r\n",
        "    from xgboost import XGBClassifier\r\n",
        "    self.xgb = XGBClassifier(n_estimators = estimators, max_depth = depth, \r\n",
        "                      objective='binary:logistic', learning_rate = 0.5, \r\n",
        "                      tree_method='gpu_hist')\r\n",
        "    return f'{self.name} at time {self.t}, has been initialized.'\r\n",
        "  \r\n",
        "  def train_xgb(self, X_train, y_train): # traina il modello\r\n",
        "    # self.xgb.fit(X_train.to_numpy(), y_train.to_numpy())\r\n",
        "    self.xgb.fit(X_train.to_numpy(), y_train)\r\n",
        "    return f'{self.name} is now trained!'\r\n",
        "\r\n",
        "  def get_set(self, data, id_list): # restituisce il subset dati gli id delle righe\r\n",
        "    # id_list: è l'elemento id[t] \r\n",
        "    subset = data.iloc[id_list,:]\r\n",
        "    return subset\r\n",
        "\r\n",
        "  def proba_predictions(self, X_val): # restituisce le probabilità\r\n",
        "    if not self.xgb:\r\n",
        "      return f'{self.name} is not declared. You need to use init_xgb'\r\n",
        "    self.proba = self.xgb.predict_proba(X_val, validate_features = False)\r\n",
        "    return self.proba\r\n",
        "\r\n",
        "  def aggregate(self, soglia = 0.05): # resituisce la classe\r\n",
        "    # if not self.proba:\r\n",
        "    #   return f'self.proba is empty. Before aggregate, you need to use proba_predictions'\r\n",
        "    self.prediction = []\r\n",
        "    for proba in self.proba[:,1]:\r\n",
        "      if proba > soglia:\r\n",
        "        self.prediction.append(1)\r\n",
        "      else:\r\n",
        "        self.prediction.append(0)\r\n",
        "    return f'Classification has been councluded!'\r\n",
        "\r\n",
        "  def performance(self, y_val, soglia = 0.05): # printa le performance del modello \r\n",
        "    from sklearn.metrics import roc_auc_score, f1_score, recall_score, precision_score\r\n",
        "    \r\n",
        "    print('\\n')\r\n",
        "    print('Confusion matrix of model', self.name,'of time', self.t)\r\n",
        "    mf.plot_cm(y_val, self.prediction, 'Blues', p = soglia, dynamic = True)\r\n",
        "    \r\n",
        "    self.score = f1_score(y_val, self.prediction).round(2)\r\n",
        "    self.roc = roc_auc_score(y_val, self.prediction).round(2)\r\n",
        "    self.precision = precision_score(y_val, self.prediction,  average='binary').round(2)\r\n",
        "    self.recall = recall_score(y_val, self.prediction, average='binary').round(2)\r\n",
        "\r\n",
        "    print('\\n')\r\n",
        "    print('Model f1 score: ', self.score)\r\n",
        "    print('Model roc auc score: ', self.roc)\r\n",
        "    print('Model recall: ', self.recall)\r\n",
        "    print('Model precision: ', self.precision)\r\n",
        "    print('\\n')\r\n",
        "    return "
      ],
      "execution_count": 7,
      "outputs": []
    },
    {
      "cell_type": "code",
      "metadata": {
        "id": "uNLoo0EXgNYT"
      },
      "source": [
        "class svm(model):\r\n",
        "  name = 'svm'\r\n",
        "\r\n",
        "  def init_svm(self):\r\n",
        "    from sklearn.svm import LinearSVC\r\n",
        "    self.svm = LinearSVC(max_iter=1000, random_state=0, tol=1e-2, class_weight='balanced',  \r\n",
        "                    loss='squared_hinge', dual = False )\r\n",
        "    return\r\n",
        "  \r\n",
        "  def train_svm(self, X_train, y_train):\r\n",
        "    self.svm.fit(X_train, y_train)\r\n",
        "    return\r\n",
        "\r\n",
        "  #override\r\n",
        "  def proba_predictions(self, X_val): # restituisce le probabilità\r\n",
        "    if not self.svm:\r\n",
        "      return f'{self.name} is not declared. You need to use init_nn'\r\n",
        "    self.proba = self.svm.predict(X_val.to_numpy())#, validate_features = False)\r\n",
        "    return self.proba\r\n",
        "\r\n",
        "  #override\r\n",
        "  def aggregate(self, soglia = 0.5): # resituisce la classe\r\n",
        "    self.prediction = []\r\n",
        "    for proba in self.proba:\r\n",
        "      if proba > soglia:\r\n",
        "        self.prediction.append(1)\r\n",
        "      else:\r\n",
        "        self.prediction.append(0)\r\n",
        "    return f'Classification has been councluded!'"
      ],
      "execution_count": 8,
      "outputs": []
    },
    {
      "cell_type": "code",
      "metadata": {
        "id": "AlIsUnQQZ8nU"
      },
      "source": [
        "class nn(model):\r\n",
        "  name = 'Neural network'\r\n",
        "\r\n",
        "  def init_nn(self, n_features):\r\n",
        "    import tensorflow as tf\r\n",
        "    from tensorflow import keras\r\n",
        "    from tensorflow.keras.models import Sequential\r\n",
        "    from tensorflow.keras.layers import Flatten, Dense, Dropout, Input\r\n",
        "    self.nn = Sequential()\r\n",
        "    self.nn.add(Input(shape=(n_features,))) \r\n",
        "    self.nn.add(Dense(1024, activation='relu')) \r\n",
        "    self.nn.add(Dropout(0.4)) \r\n",
        "    self.nn.add(Dense(512, activation='relu')) \r\n",
        "    self.nn.add(Dropout(0.4)) \r\n",
        "    self.nn.add(Dense(256, activation='relu')) \r\n",
        "    self.nn.add(Dropout(0.4))\r\n",
        "    self.nn.add(Dense(128, activation='relu')) \r\n",
        "    self.nn.add(Dropout(0.4))\r\n",
        "    self.nn.add(Dense(1, activation='sigmoid')) \r\n",
        "\r\n",
        "    self.nn.compile( loss='binary_crossentropy', optimizer='adam', metrics=['accuracy'])\r\n",
        "    return f'{self.name} initialized'\r\n",
        "\r\n",
        "  def train_nn(self, X_train, y_train, frac = 0.2):\r\n",
        "    from sklearn.model_selection import train_test_split\r\n",
        "    from imblearn.over_sampling import SMOTE\r\n",
        "    import tensorflow as tf\r\n",
        "    sm = SMOTE(sampling_strategy=frac, random_state=42)\r\n",
        "    X_res, y_res = sm.fit_resample(X_train, y_train)\r\n",
        "    X_train_res, X_val, y_train_res, y_val = train_test_split(X_res, y_res, test_size=0.2, random_state=42)\r\n",
        "    with tf.device('/device:GPU:0'):\r\n",
        "      history = self.nn.fit(X_train_res, y_train_res, \r\n",
        "                            epochs=20, batch_size=250, \r\n",
        "                            # epochs=20, batch_size=2000, \r\n",
        "                            validation_data=(X_val, y_val), verbose=1, shuffle = True)\r\n",
        "    return f'{self.name} trained.'\r\n",
        "\r\n",
        "  #override\r\n",
        "  def proba_predictions(self, X_val): # restituisce le probabilità\r\n",
        "    if not self.nn:\r\n",
        "      return f'{self.name} is not declared. You need to use init_nn'\r\n",
        "    self.proba = self.nn.predict(X_val.to_numpy())#, validate_features = False)\r\n",
        "    return self.proba\r\n",
        "\r\n",
        "  #override\r\n",
        "  def aggregate(self, soglia = 0.5): # resituisce la classe\r\n",
        "    self.prediction = []\r\n",
        "    for proba in self.proba:\r\n",
        "      if proba > soglia:\r\n",
        "        self.prediction.append(1)\r\n",
        "      else:\r\n",
        "        self.prediction.append(0)\r\n",
        "    return f'Classification has been councluded!'"
      ],
      "execution_count": 9,
      "outputs": []
    },
    {
      "cell_type": "code",
      "metadata": {
        "id": "72mPUBaza2zv"
      },
      "source": [
        "class ensemble(model): # child class di model\r\n",
        "  name = 'Ensemble'\r\n",
        "  # come model_dict passare il dizionario in cui si salvano gli ensemble\r\n",
        "\r\n",
        "  #override \r\n",
        "  def proba_predictions(self, model_dict, X_val): # restituisce le probabilità predette \r\n",
        "    prob = []\r\n",
        "    for t in model_dict:\r\n",
        "      if model_dict[t].name == 'XGBoost':\r\n",
        "        prob.append(model_dict[t].proba_predictions(X_val)[:,1])\r\n",
        "      if model_dict[t].name == 'Neural network':\r\n",
        "        prob.append(model_dict[t].proba_predictions(X_val))\r\n",
        "    self.proba = np.mean(prob, axis = 0)\r\n",
        "    return f'Proba acquired.'\r\n",
        "  \r\n",
        "  #override\r\n",
        "  def aggregate(self, soglia = 0.05): # restituisce la classe predetta \r\n",
        "    self.prediction = []\r\n",
        "    for proba in self.proba:\r\n",
        "      if proba > soglia:\r\n",
        "        self.prediction.append(1)\r\n",
        "      else:\r\n",
        "        self.prediction.append(0)\r\n",
        "    return f'Classification has been councluded!'"
      ],
      "execution_count": 10,
      "outputs": []
    },
    {
      "cell_type": "code",
      "metadata": {
        "id": "T6Neus5uAUhU"
      },
      "source": [
        "def get_t_id(data, id, id_fraud, t, init_splits, incoming_splits): # restituisce la lista degli id corrispondente all'istante temporale t \r\n",
        "  '''\r\n",
        "  data: dataset da cui selezionare le transazioni\r\n",
        "  id: lista con gli id delle righe\r\n",
        "  t: istante temporale\r\n",
        "  init_splits: split totali in cui sarà diviso il dataset\r\n",
        "  incoming_splits: nuovi split che arrivano ad ogni nuovo dt, e su cui si allena il nuovo modello\r\n",
        "  out\r\n",
        "  id_list: lista con gli id delle righe selezionate a seconda dell'istante temporale specificato  \r\n",
        "  '''\r\n",
        "  id_list = [] # lista che conterrà le righe da usare al tempo t\r\n",
        "  id_list_fraud = [] # lista che conterrà le righe con transazioni fraud da usare al tempo t\r\n",
        "\r\n",
        "  if t == 0: \r\n",
        "    start = 0\r\n",
        "    end = init_splits\r\n",
        "  else:\r\n",
        "    start = incoming_splits * (t - 1) + init_splits\r\n",
        "    end = start + incoming_splits\r\n",
        "\r\n",
        "  if t == 1:\r\n",
        "    start_fraud = 0\r\n",
        "    end_fraud = init_splits\r\n",
        "  else:\r\n",
        "    start_fraud = 0\r\n",
        "    end_fraud = incoming_splits * (t - 1) + init_splits + incoming_splits \r\n",
        "\r\n",
        "    \r\n",
        "\r\n",
        "  for n in range(start,end):\r\n",
        "    id_list += id[n]\r\n",
        "  \r\n",
        "  if t > 0:\r\n",
        "    for n in range(start_fraud, end_fraud):\r\n",
        "      id_list_fraud += id_fraud[n]\r\n",
        "\r\n",
        "  return id_list, id_list_fraud"
      ],
      "execution_count": 11,
      "outputs": []
    },
    {
      "cell_type": "code",
      "metadata": {
        "id": "H6Zv9r_eD1Nr"
      },
      "source": [
        "def train_model(sel_model, last_model, data, id_t, id_fraud_t, keep_fraud, keep_safe): # funzione per sistemare il dataset e trainare il modello\r\n",
        "  '''\r\n",
        "  sel_model: modello da trainare\r\n",
        "  data: dataset\r\n",
        "  id_t: id delle righe su cui trainare il modello\r\n",
        "  '''\r\n",
        "  import random \r\n",
        "\r\n",
        "\r\n",
        "\r\n",
        "  # Train test split\r\n",
        "  subset = sel_model.get_set(data, id_t) # seleziono il subset su cui il modello si allenerà\r\n",
        "  X_train, X_val, y_train, y_val = mf.split(subset, test_size = 0.2) # train test split\r\n",
        "\r\n",
        "  # unione transazioni fraudolente degli step precedenti\r\n",
        "  if keep_fraud:\r\n",
        "    X_train_fraud = sel_model.get_set(data, id_fraud_t)\r\n",
        "    X_train_fraud.drop(columns = ['isFraud'], inplace = True)\r\n",
        "  if keep_safe:\r\n",
        "    sample_size = int(np.ceil(len(last_model.train_id) * 0.1))\r\n",
        "    id_safe_t = random.sample(last_model.train_id, sample_size)\r\n",
        "    X_train_safe = last_model.get_set(data, id_safe_t)\r\n",
        "    X_train_safe.drop(columns = ['isFraud'], inplace = True)\r\n",
        "\r\n",
        "  if keep_safe and keep_fraud:\r\n",
        "    X_train = pd.concat([X_train, X_train_fraud, X_train_safe])\r\n",
        "    y_train_safe = np.zeros(X_train_safe.shape[0])\r\n",
        "    y_train_fraud = np.ones(X_train_fraud.shape[0])\r\n",
        "    y_train = np.concatenate((y_train, y_train_fraud, y_train_safe), axis=None)\r\n",
        "\r\n",
        "  if keep_safe and not keep_fraud:\r\n",
        "    X_train = pd.concat([X_train, X_train_fraud])\r\n",
        "    y_train_fraud = np.ones(X_train_fraud.shape[0])\r\n",
        "    y_train = np.concatenate((y_train, y_train_fraud), axis=None)\r\n",
        "\r\n",
        "  # salvataggio degli id nel modello\r\n",
        "  sel_model.train_id = X_train.index.tolist() # salvo gli id del training set \r\n",
        "  sel_model.val_id = X_val.index.tolist() # salvo gli id del test set\r\n",
        "\r\n",
        "  # Training del modello\r\n",
        "  print('Training', sel_model.name)\r\n",
        "  if sel_model.name == 'XGBoost':\r\n",
        "    sel_model.init_xgb() # inizializzo xgb\r\n",
        "    sel_model.train_xgb(X_train, y_train) # train di xgb \r\n",
        "\r\n",
        "  if sel_model.name == 'svm':\r\n",
        "    sel_model.init_svm() # inizializzo xgb\r\n",
        "    sel_model.train_svm(X_train, y_train) # train di xgb \r\n",
        "  \r\n",
        "  if sel_model.name == 'Neural network':\r\n",
        "    n_features = X_train.shape[1]\r\n",
        "    sel_model.init_nn(n_features)\r\n",
        "    sel_model.train_nn(X_train, y_train)\r\n",
        "\r\n",
        "  return f'Training ended. \\n'"
      ],
      "execution_count": 12,
      "outputs": []
    },
    {
      "cell_type": "code",
      "metadata": {
        "id": "wwC4yBClLSUs"
      },
      "source": [
        "def test_model(sel_model, model_dict, t, data, soglia): # test del modello\r\n",
        "  '''\r\n",
        "  in\r\n",
        "  sel_model: modello da trainare\r\n",
        "  model_dict: dizionario contenente i vari modelli\r\n",
        "  t: istante temporale\r\n",
        "  data: dataset\r\n",
        "  soglia: soglia sulla probabilità \r\n",
        "  '''\r\n",
        "  id_list = []\r\n",
        "  for i in model_dict:\r\n",
        "    id_list += model_dict[i].val_id\r\n",
        "  # id_list = last_model.val_id # seleziono le righe su cui va validato l'ultimo modello\r\n",
        "  subset = sel_model.get_set(data, id_list) # seleziono il set su cui valido i dati\r\n",
        "  y_val = subset['isFraud']\r\n",
        "  X_val = subset.drop(columns=['isFraud'], axis = 1)\r\n",
        "\r\n",
        "  sel_model.proba_predictions(X_val) # predict_proba\r\n",
        "  sel_model.aggregate(soglia = soglia) # predict\r\n",
        "\r\n",
        "  sel_model.performance(y_val, soglia = soglia) # valuta le performance del modello\r\n",
        "  return "
      ],
      "execution_count": 13,
      "outputs": []
    },
    {
      "cell_type": "code",
      "metadata": {
        "id": "oTVI-DcxJECb"
      },
      "source": [
        "def test_ensemble(ens, model_dict, t, data, id_t, soglia): # testa le performance dell'ensemble\r\n",
        "  '''\r\n",
        "  ens: ensemble da testare \r\n",
        "  model_dict: dizionario con i modelli\r\n",
        "  t: istante temporale\r\n",
        "  data: dataset\r\n",
        "  id_t: righe da usare all'istante t-esimo\r\n",
        "  '''\r\n",
        "  id_list = []\r\n",
        "  for i in model_dict:\r\n",
        "    id_list += model_dict[i].val_id\r\n",
        "  subset = model_dict[t].get_set(data, id_list) # seleziono il set su cui valido i dati\r\n",
        "  # subset = model_dict[t].get_set(data, id_t) # seleziono il set su cui valido i dati\r\n",
        "  y_val = subset['isFraud']\r\n",
        "  X_val = subset.drop(columns=['isFraud'], axis = 1)\r\n",
        "  ens.proba_predictions(model_dict, X_val) # predict_proba dell'ensemble\r\n",
        "  ens.aggregate(soglia = soglia) # predict dell'ensemble\r\n",
        "  ens.performance(y_val, soglia = soglia) # valuto le performance\r\n",
        "  return f'Ensemble testing ended. \\n'"
      ],
      "execution_count": 14,
      "outputs": []
    },
    {
      "cell_type": "code",
      "metadata": {
        "id": "tCjWWWdCfsix"
      },
      "source": [
        "def get_best_model(xgb, nn, svm):\r\n",
        "  import operator\r\n",
        "  scores = {\r\n",
        "      xgb: xgb.score, \r\n",
        "      nn: nn.score, \r\n",
        "      svm: svm.score}\r\n",
        "\r\n",
        "  return max(scores.items(), key=operator.itemgetter(1))[0]\r\n",
        "  # if xgb.score > nn.score:\r\n",
        "  #   return xgb\r\n",
        "  # else:\r\n",
        "  #   return nn"
      ],
      "execution_count": 15,
      "outputs": []
    },
    {
      "cell_type": "code",
      "metadata": {
        "id": "_GaailvFPVir"
      },
      "source": [
        "def dinamic_model(data, id, id_fraud, init_splits, incoming_splits, tot_splits, keep_fraud, keep_safe):\r\n",
        "  tmax = np.ceil((tot_splits - init_splits) / incoming_splits)\r\n",
        "  model_dict = {}\r\n",
        "  xgb_dict = {}\r\n",
        "  nn_dict = {}\r\n",
        "  svm_dict = {}\r\n",
        "  ensemble_dict = {}\r\n",
        "  soglia_xgb = 0.7 # 0.05\r\n",
        "  soglia_nn = 0.5\r\n",
        "  soglia_svm = 0.5\r\n",
        "  soglia_ens = 0.5\r\n",
        "\r\n",
        "  for t in range(int(tmax + 1)):\r\n",
        "    print('Time ', t)\r\n",
        "    id_t, id_fraud_t = get_t_id(data, id, id_fraud, t, init_splits, incoming_splits) # ottengo gli id delle righe da usare al tempo t-esimo\r\n",
        "    # model_dict[t] = model(t) # inizializzo il modello t-esimo \r\n",
        "    xgb_dict[t] = model(t)\r\n",
        "    nn_dict[t] = nn(t)\r\n",
        "    svm_dict[t] = svm(t)\r\n",
        "    if t == 0:\r\n",
        "      # train_model(model_dict[t], None, data, id_t, id_fraud_t, keep_fraud = False, keep_safe = False) # train e test del modello t-esimo\r\n",
        "      train_model(xgb_dict[t], None, data, id_t, id_fraud_t, keep_fraud = False, keep_safe = False) # train e test del modello t-esimo\r\n",
        "      train_model(nn_dict[t], None, data, id_t, id_fraud_t, keep_fraud = False, keep_safe = False) # train e test del modello t-esimo\r\n",
        "      train_model(svm_dict[t], None, data, id_t, id_fraud_t, keep_fraud = False, keep_safe = False) # train e test del modello t-esimo\r\n",
        "      \r\n",
        "      test_model(xgb_dict[t], xgb_dict, t, data, soglia_xgb)\r\n",
        "      test_model(nn_dict[t], nn_dict, t, data, soglia_nn)\r\n",
        "      test_model(svm_dict[t], nn_dict, t, data, soglia_nn)\r\n",
        "      model_dict[t] = get_best_model(xgb_dict[t], nn_dict[t], svm_dict[t])\r\n",
        "      print(model_dict[t].name, 'has been chosen.')\r\n",
        "\r\n",
        "    if t > 0:\r\n",
        "      # train_model(model_dict[t], model_dict[t-1], data, id_t, id_fraud_t, keep_fraud, keep_safe) # train e test del modello t-esimo\r\n",
        "      train_model(xgb_dict[t], model_dict[t-1], data, id_t, id_fraud_t, keep_fraud, keep_safe) # train e test del modello t-esimo\r\n",
        "      train_model(nn_dict[t], model_dict[t-1], data, id_t, id_fraud_t, keep_fraud, keep_safe) # train e test del modello t-esimo\r\n",
        "      train_model(svm_dict[t], model_dict[t-1], data, id_t, id_fraud_t, keep_fraud, keep_safe) # train e test del modello t-esimo\r\n",
        "      \r\n",
        "      test_model(xgb_dict[t], xgb_dict, t, data, soglia_xgb)\r\n",
        "      test_model(nn_dict[t], nn_dict, t, data, soglia_nn)\r\n",
        "      test_model(svm_dict[t], svm_dict, t, data, soglia_nn)\r\n",
        "      model_dict[t] = get_best_model(xgb_dict[t], nn_dict[t], svm_dict[t])\r\n",
        "      print(model_dict[t].name, 'has been chosen.')\r\n",
        "\r\n",
        "      ensemble_dict[t] = ensemble(t) # inizializzo l'ensemble t-esimo\r\n",
        "      test_ensemble(ensemble_dict[t], model_dict, t, data, id_t, soglia_ens) # testo l'ensemble\r\n",
        "    # for i in model_dict:\r\n",
        "    #   test_model(model_dict[i], model_dict, t, data, soglia)\r\n",
        "\r\n",
        "  return model_dict, ensemble_dict"
      ],
      "execution_count": 16,
      "outputs": []
    },
    {
      "cell_type": "code",
      "metadata": {
        "colab": {
          "base_uri": "https://localhost:8080/",
          "height": 1000
        },
        "id": "FiXWYKJ69d5J",
        "outputId": "56b3cb06-d88a-4475-fd0e-2aa467633794"
      },
      "source": [
        "id, id_fraud = get_split_id(data, init_splits, incoming_splits, tot_splits) # splitta le righe in base agli split dichiarati\r\n",
        "model_dict, ensemble_dict = dinamic_model(data, id, id_fraud, init_splits, incoming_splits, tot_splits, keep_fraud = True, keep_safe = True)"
      ],
      "execution_count": 17,
      "outputs": [
        {
          "output_type": "stream",
          "text": [
            "Time  0\n",
            "Training XGBoost\n",
            "Training Neural network\n"
          ],
          "name": "stdout"
        },
        {
          "output_type": "stream",
          "text": [
            "/usr/local/lib/python3.6/dist-packages/sklearn/externals/six.py:31: FutureWarning: The module is deprecated in version 0.21 and will be removed in version 0.23 since we've dropped support for Python 2.7. Please rely on the official version of six (https://pypi.org/project/six/).\n",
            "  \"(https://pypi.org/project/six/).\", FutureWarning)\n",
            "/usr/local/lib/python3.6/dist-packages/sklearn/utils/deprecation.py:144: FutureWarning: The sklearn.neighbors.base module is  deprecated in version 0.22 and will be removed in version 0.24. The corresponding classes / functions should instead be imported from sklearn.neighbors. Anything that cannot be imported from sklearn.neighbors is now part of the private API.\n",
            "  warnings.warn(message, FutureWarning)\n",
            "/usr/local/lib/python3.6/dist-packages/sklearn/utils/deprecation.py:87: FutureWarning: Function safe_indexing is deprecated; safe_indexing is deprecated in version 0.22 and will be removed in version 0.24.\n",
            "  warnings.warn(msg, category=FutureWarning)\n"
          ],
          "name": "stderr"
        },
        {
          "output_type": "stream",
          "text": [
            "Epoch 1/20\n",
            "784/784 [==============================] - 6s 5ms/step - loss: 0.3711 - accuracy: 0.8488 - val_loss: 0.2765 - val_accuracy: 0.8895\n",
            "Epoch 2/20\n",
            "784/784 [==============================] - 3s 4ms/step - loss: 0.2850 - accuracy: 0.8869 - val_loss: 0.2497 - val_accuracy: 0.9046\n",
            "Epoch 3/20\n",
            "784/784 [==============================] - 3s 4ms/step - loss: 0.2594 - accuracy: 0.8996 - val_loss: 0.2350 - val_accuracy: 0.9104\n",
            "Epoch 4/20\n",
            "784/784 [==============================] - 3s 4ms/step - loss: 0.2463 - accuracy: 0.9060 - val_loss: 0.2194 - val_accuracy: 0.9193\n",
            "Epoch 5/20\n",
            "784/784 [==============================] - 3s 4ms/step - loss: 0.2358 - accuracy: 0.9107 - val_loss: 0.2083 - val_accuracy: 0.9215\n",
            "Epoch 6/20\n",
            "784/784 [==============================] - 3s 4ms/step - loss: 0.2239 - accuracy: 0.9158 - val_loss: 0.2014 - val_accuracy: 0.9234\n",
            "Epoch 7/20\n",
            "784/784 [==============================] - 3s 4ms/step - loss: 0.2165 - accuracy: 0.9184 - val_loss: 0.1945 - val_accuracy: 0.9297\n",
            "Epoch 8/20\n",
            "784/784 [==============================] - 4s 4ms/step - loss: 0.2079 - accuracy: 0.9223 - val_loss: 0.1876 - val_accuracy: 0.9310\n",
            "Epoch 9/20\n",
            "784/784 [==============================] - 3s 4ms/step - loss: 0.1988 - accuracy: 0.9256 - val_loss: 0.1757 - val_accuracy: 0.9354\n",
            "Epoch 10/20\n",
            "784/784 [==============================] - 3s 4ms/step - loss: 0.1954 - accuracy: 0.9270 - val_loss: 0.1763 - val_accuracy: 0.9318\n",
            "Epoch 11/20\n",
            "784/784 [==============================] - 3s 4ms/step - loss: 0.1907 - accuracy: 0.9290 - val_loss: 0.1684 - val_accuracy: 0.9404\n",
            "Epoch 12/20\n",
            "784/784 [==============================] - 3s 4ms/step - loss: 0.1850 - accuracy: 0.9314 - val_loss: 0.1686 - val_accuracy: 0.9380\n",
            "Epoch 13/20\n",
            "784/784 [==============================] - 3s 4ms/step - loss: 0.1807 - accuracy: 0.9327 - val_loss: 0.1687 - val_accuracy: 0.9368\n",
            "Epoch 14/20\n",
            "784/784 [==============================] - 3s 4ms/step - loss: 0.1768 - accuracy: 0.9340 - val_loss: 0.1580 - val_accuracy: 0.9424\n",
            "Epoch 15/20\n",
            "784/784 [==============================] - 3s 4ms/step - loss: 0.1770 - accuracy: 0.9335 - val_loss: 0.1524 - val_accuracy: 0.9461\n",
            "Epoch 16/20\n",
            "784/784 [==============================] - 3s 4ms/step - loss: 0.1719 - accuracy: 0.9360 - val_loss: 0.1512 - val_accuracy: 0.9439\n",
            "Epoch 17/20\n",
            "784/784 [==============================] - 3s 4ms/step - loss: 0.1690 - accuracy: 0.9372 - val_loss: 0.1533 - val_accuracy: 0.9437\n",
            "Epoch 18/20\n",
            "784/784 [==============================] - 3s 4ms/step - loss: 0.1655 - accuracy: 0.9386 - val_loss: 0.1519 - val_accuracy: 0.9448\n",
            "Epoch 19/20\n",
            "784/784 [==============================] - 3s 4ms/step - loss: 0.1632 - accuracy: 0.9395 - val_loss: 0.1469 - val_accuracy: 0.9462\n",
            "Epoch 20/20\n",
            "784/784 [==============================] - 3s 4ms/step - loss: 0.1612 - accuracy: 0.9398 - val_loss: 0.1553 - val_accuracy: 0.9467\n",
            "Training svm\n",
            "\n",
            "\n",
            "Confusion matrix of model XGBoost of time 0\n"
          ],
          "name": "stdout"
        },
        {
          "output_type": "display_data",
          "data": {
            "image/png": "[encoded data removed]",
            "text/plain": [
              "<Figure size 360x360 with 2 Axes>"
            ]
          },
          "metadata": {
            "tags": [],
            "needs_background": "light"
          }
        },
        {
          "output_type": "stream",
          "text": [
            "\n",
            "\n",
            "Model f1 score:  0.78\n",
            "Model roc auc score:  0.82\n",
            "Model recall:  0.65\n",
            "Model precision:  0.97\n",
            "\n",
            "\n",
            "\n",
            "\n",
            "Confusion matrix of model Neural network of time 0\n"
          ],
          "name": "stdout"
        },
        {
          "output_type": "display_data",
          "data": {
            "image/png": "[encoded data removed]",
            "text/plain": [
              "<Figure size 360x360 with 2 Axes>"
            ]
          },
          "metadata": {
            "tags": [],
            "needs_background": "light"
          }
        },
        {
          "output_type": "stream",
          "text": [
            "\n",
            "\n",
            "Model f1 score:  0.54\n",
            "Model roc auc score:  0.75\n",
            "Model recall:  0.52\n",
            "Model precision:  0.56\n",
            "\n",
            "\n",
            "\n",
            "\n",
            "Confusion matrix of model svm of time 0\n"
          ],
          "name": "stdout"
        },
        {
          "output_type": "display_data",
          "data": {
            "image/png": "[encoded data removed]",
            "text/plain": [
              "<Figure size 360x360 with 2 Axes>"
            ]
          },
          "metadata": {
            "tags": [],
            "needs_background": "light"
          }
        },
        {
          "output_type": "stream",
          "text": [
            "\n",
            "\n",
            "Model f1 score:  0.21\n",
            "Model roc auc score:  0.78\n",
            "Model recall:  0.75\n",
            "Model precision:  0.12\n",
            "\n",
            "\n",
            "XGBoost has been chosen.\n",
            "Time  1\n"
          ],
          "name": "stdout"
        },
        {
          "output_type": "stream",
          "text": [
            "/usr/local/lib/python3.6/dist-packages/pandas/core/frame.py:4174: SettingWithCopyWarning: \n",
            "A value is trying to be set on a copy of a slice from a DataFrame\n",
            "\n",
            "See the caveats in the documentation: https://pandas.pydata.org/pandas-docs/stable/user_guide/indexing.html#returning-a-view-versus-a-copy\n",
            "  errors=errors,\n"
          ],
          "name": "stderr"
        },
        {
          "output_type": "stream",
          "text": [
            "Training XGBoost\n",
            "Training Neural network\n"
          ],
          "name": "stdout"
        },
        {
          "output_type": "stream",
          "text": [
            "/usr/local/lib/python3.6/dist-packages/sklearn/utils/deprecation.py:87: FutureWarning: Function safe_indexing is deprecated; safe_indexing is deprecated in version 0.22 and will be removed in version 0.24.\n",
            "  warnings.warn(msg, category=FutureWarning)\n"
          ],
          "name": "stderr"
        },
        {
          "output_type": "stream",
          "text": [
            "Epoch 1/20\n",
            "428/428 [==============================] - 3s 6ms/step - loss: 0.3801 - accuracy: 0.8444 - val_loss: 0.2920 - val_accuracy: 0.8832\n",
            "Epoch 2/20\n",
            "428/428 [==============================] - 2s 4ms/step - loss: 0.2994 - accuracy: 0.8802 - val_loss: 0.2817 - val_accuracy: 0.8845\n",
            "Epoch 3/20\n",
            "428/428 [==============================] - 2s 4ms/step - loss: 0.2856 - accuracy: 0.8863 - val_loss: 0.2748 - val_accuracy: 0.8927\n",
            "Epoch 4/20\n",
            "428/428 [==============================] - 2s 4ms/step - loss: 0.2724 - accuracy: 0.8924 - val_loss: 0.2585 - val_accuracy: 0.8964\n",
            "Epoch 5/20\n",
            "428/428 [==============================] - 2s 4ms/step - loss: 0.2643 - accuracy: 0.8977 - val_loss: 0.2522 - val_accuracy: 0.9019\n",
            "Epoch 6/20\n",
            "428/428 [==============================] - 2s 4ms/step - loss: 0.2610 - accuracy: 0.8982 - val_loss: 0.2518 - val_accuracy: 0.9005\n",
            "Epoch 7/20\n",
            "428/428 [==============================] - 2s 4ms/step - loss: 0.2587 - accuracy: 0.9010 - val_loss: 0.2413 - val_accuracy: 0.9068\n",
            "Epoch 8/20\n",
            "428/428 [==============================] - 2s 5ms/step - loss: 0.2517 - accuracy: 0.9018 - val_loss: 0.2426 - val_accuracy: 0.9067\n",
            "Epoch 9/20\n",
            "428/428 [==============================] - 2s 4ms/step - loss: 0.2453 - accuracy: 0.9047 - val_loss: 0.2417 - val_accuracy: 0.9074\n",
            "Epoch 10/20\n",
            "428/428 [==============================] - 2s 4ms/step - loss: 0.2434 - accuracy: 0.9058 - val_loss: 0.2367 - val_accuracy: 0.9079\n",
            "Epoch 11/20\n",
            "428/428 [==============================] - 2s 4ms/step - loss: 0.2458 - accuracy: 0.9056 - val_loss: 0.2415 - val_accuracy: 0.9060\n",
            "Epoch 12/20\n",
            "428/428 [==============================] - 2s 4ms/step - loss: 0.2385 - accuracy: 0.9082 - val_loss: 0.2310 - val_accuracy: 0.9128\n",
            "Epoch 13/20\n",
            "428/428 [==============================] - 2s 4ms/step - loss: 0.2344 - accuracy: 0.9108 - val_loss: 0.2302 - val_accuracy: 0.9111\n",
            "Epoch 14/20\n",
            "428/428 [==============================] - 2s 4ms/step - loss: 0.2295 - accuracy: 0.9117 - val_loss: 0.2269 - val_accuracy: 0.9137\n",
            "Epoch 15/20\n",
            "428/428 [==============================] - 2s 4ms/step - loss: 0.2306 - accuracy: 0.9117 - val_loss: 0.2267 - val_accuracy: 0.9147\n",
            "Epoch 16/20\n",
            "428/428 [==============================] - 2s 4ms/step - loss: 0.2322 - accuracy: 0.9133 - val_loss: 0.2246 - val_accuracy: 0.9159\n",
            "Epoch 17/20\n",
            "428/428 [==============================] - 2s 5ms/step - loss: 0.2263 - accuracy: 0.9154 - val_loss: 0.2259 - val_accuracy: 0.9180\n",
            "Epoch 18/20\n",
            "428/428 [==============================] - 2s 4ms/step - loss: 0.2213 - accuracy: 0.9168 - val_loss: 0.2213 - val_accuracy: 0.9156\n",
            "Epoch 19/20\n",
            "428/428 [==============================] - 2s 4ms/step - loss: 0.2196 - accuracy: 0.9158 - val_loss: 0.2200 - val_accuracy: 0.9168\n",
            "Epoch 20/20\n",
            "428/428 [==============================] - 2s 4ms/step - loss: 0.2194 - accuracy: 0.9164 - val_loss: 0.2244 - val_accuracy: 0.9170\n"
          ],
          "name": "stdout"
        },
        {
          "output_type": "stream",
          "text": [
            "/usr/local/lib/python3.6/dist-packages/pandas/core/frame.py:4174: SettingWithCopyWarning: \n",
            "A value is trying to be set on a copy of a slice from a DataFrame\n",
            "\n",
            "See the caveats in the documentation: https://pandas.pydata.org/pandas-docs/stable/user_guide/indexing.html#returning-a-view-versus-a-copy\n",
            "  errors=errors,\n"
          ],
          "name": "stderr"
        },
        {
          "output_type": "stream",
          "text": [
            "Training svm\n",
            "\n",
            "\n",
            "Confusion matrix of model XGBoost of time 1\n"
          ],
          "name": "stdout"
        },
        {
          "output_type": "display_data",
          "data": {
            "image/png": "[encoded data removed]",
            "text/plain": [
              "<Figure size 360x360 with 2 Axes>"
            ]
          },
          "metadata": {
            "tags": [],
            "needs_background": "light"
          }
        },
        {
          "output_type": "stream",
          "text": [
            "\n",
            "\n",
            "Model f1 score:  0.78\n",
            "Model roc auc score:  0.93\n",
            "Model recall:  0.88\n",
            "Model precision:  0.7\n",
            "\n",
            "\n",
            "\n",
            "\n",
            "Confusion matrix of model Neural network of time 1\n"
          ],
          "name": "stdout"
        },
        {
          "output_type": "display_data",
          "data": {
            "image/png": "[encoded data removed]",
            "text/plain": [
              "<Figure size 360x360 with 2 Axes>"
            ]
          },
          "metadata": {
            "tags": [],
            "needs_background": "light"
          }
        },
        {
          "output_type": "stream",
          "text": [
            "\n",
            "\n",
            "Model f1 score:  0.32\n",
            "Model roc auc score:  0.78\n",
            "Model recall:  0.64\n",
            "Model precision:  0.21\n",
            "\n",
            "\n",
            "\n",
            "\n",
            "Confusion matrix of model svm of time 1\n"
          ],
          "name": "stdout"
        },
        {
          "output_type": "display_data",
          "data": {
            "image/png": "[encoded data removed]",
            "text/plain": [
              "<Figure size 360x360 with 2 Axes>"
            ]
          },
          "metadata": {
            "tags": [],
            "needs_background": "light"
          }
        },
        {
          "output_type": "stream",
          "text": [
            "\n",
            "\n",
            "Model f1 score:  0.13\n",
            "Model roc auc score:  0.71\n",
            "Model recall:  0.79\n",
            "Model precision:  0.07\n",
            "\n",
            "\n",
            "XGBoost has been chosen.\n",
            "\n",
            "\n",
            "Confusion matrix of model Ensemble of time 1\n"
          ],
          "name": "stdout"
        },
        {
          "output_type": "display_data",
          "data": {
            "image/png": "[encoded data removed]",
            "text/plain": [
              "<Figure size 360x360 with 2 Axes>"
            ]
          },
          "metadata": {
            "tags": [],
            "needs_background": "light"
          }
        },
        {
          "output_type": "stream",
          "text": [
            "\n",
            "\n",
            "Model f1 score:  0.79\n",
            "Model roc auc score:  0.85\n",
            "Model recall:  0.71\n",
            "Model precision:  0.9\n",
            "\n",
            "\n",
            "Time  2\n"
          ],
          "name": "stdout"
        },
        {
          "output_type": "stream",
          "text": [
            "/usr/local/lib/python3.6/dist-packages/pandas/core/frame.py:4174: SettingWithCopyWarning: \n",
            "A value is trying to be set on a copy of a slice from a DataFrame\n",
            "\n",
            "See the caveats in the documentation: https://pandas.pydata.org/pandas-docs/stable/user_guide/indexing.html#returning-a-view-versus-a-copy\n",
            "  errors=errors,\n"
          ],
          "name": "stderr"
        },
        {
          "output_type": "stream",
          "text": [
            "Training XGBoost\n",
            "Training Neural network\n"
          ],
          "name": "stdout"
        },
        {
          "output_type": "stream",
          "text": [
            "/usr/local/lib/python3.6/dist-packages/sklearn/utils/deprecation.py:87: FutureWarning: Function safe_indexing is deprecated; safe_indexing is deprecated in version 0.22 and will be removed in version 0.24.\n",
            "  warnings.warn(msg, category=FutureWarning)\n"
          ],
          "name": "stderr"
        },
        {
          "output_type": "error",
          "ename": "ValueError",
          "evalue": "ignored",
          "traceback": [
            "\u001b[0;31m---------------------------------------------------------------------------\u001b[0m",
            "\u001b[0;31mValueError\u001b[0m                                Traceback (most recent call last)",
            "\u001b[0;32m<ipython-input-17-3eb4f69fbb30>\u001b[0m in \u001b[0;36m<module>\u001b[0;34m()\u001b[0m\n\u001b[1;32m      1\u001b[0m \u001b[0mid\u001b[0m\u001b[0;34m,\u001b[0m \u001b[0mid_fraud\u001b[0m \u001b[0;34m=\u001b[0m \u001b[0mget_split_id\u001b[0m\u001b[0;34m(\u001b[0m\u001b[0mdata\u001b[0m\u001b[0;34m,\u001b[0m \u001b[0minit_splits\u001b[0m\u001b[0;34m,\u001b[0m \u001b[0mincoming_splits\u001b[0m\u001b[0;34m,\u001b[0m \u001b[0mtot_splits\u001b[0m\u001b[0;34m)\u001b[0m \u001b[0;31m# splitta le righe in base agli split dichiarati\u001b[0m\u001b[0;34m\u001b[0m\u001b[0;34m\u001b[0m\u001b[0m\n\u001b[0;32m----> 2\u001b[0;31m \u001b[0mmodel_dict\u001b[0m\u001b[0;34m,\u001b[0m \u001b[0mensemble_dict\u001b[0m \u001b[0;34m=\u001b[0m \u001b[0mdinamic_model\u001b[0m\u001b[0;34m(\u001b[0m\u001b[0mdata\u001b[0m\u001b[0;34m,\u001b[0m \u001b[0mid\u001b[0m\u001b[0;34m,\u001b[0m \u001b[0mid_fraud\u001b[0m\u001b[0;34m,\u001b[0m \u001b[0minit_splits\u001b[0m\u001b[0;34m,\u001b[0m \u001b[0mincoming_splits\u001b[0m\u001b[0;34m,\u001b[0m \u001b[0mtot_splits\u001b[0m\u001b[0;34m,\u001b[0m \u001b[0mkeep_fraud\u001b[0m \u001b[0;34m=\u001b[0m \u001b[0;32mTrue\u001b[0m\u001b[0;34m,\u001b[0m \u001b[0mkeep_safe\u001b[0m \u001b[0;34m=\u001b[0m \u001b[0;32mTrue\u001b[0m\u001b[0;34m)\u001b[0m\u001b[0;34m\u001b[0m\u001b[0;34m\u001b[0m\u001b[0m\n\u001b[0m",
            "\u001b[0;32m<ipython-input-16-2389ba208814>\u001b[0m in \u001b[0;36mdinamic_model\u001b[0;34m(data, id, id_fraud, init_splits, incoming_splits, tot_splits, keep_fraud, keep_safe)\u001b[0m\n\u001b[1;32m     33\u001b[0m       \u001b[0;31m# train_model(model_dict[t], model_dict[t-1], data, id_t, id_fraud_t, keep_fraud, keep_safe) # train e test del modello t-esimo\u001b[0m\u001b[0;34m\u001b[0m\u001b[0;34m\u001b[0m\u001b[0;34m\u001b[0m\u001b[0m\n\u001b[1;32m     34\u001b[0m       \u001b[0mtrain_model\u001b[0m\u001b[0;34m(\u001b[0m\u001b[0mxgb_dict\u001b[0m\u001b[0;34m[\u001b[0m\u001b[0mt\u001b[0m\u001b[0;34m]\u001b[0m\u001b[0;34m,\u001b[0m \u001b[0mmodel_dict\u001b[0m\u001b[0;34m[\u001b[0m\u001b[0mt\u001b[0m\u001b[0;34m-\u001b[0m\u001b[0;36m1\u001b[0m\u001b[0;34m]\u001b[0m\u001b[0;34m,\u001b[0m \u001b[0mdata\u001b[0m\u001b[0;34m,\u001b[0m \u001b[0mid_t\u001b[0m\u001b[0;34m,\u001b[0m \u001b[0mid_fraud_t\u001b[0m\u001b[0;34m,\u001b[0m \u001b[0mkeep_fraud\u001b[0m\u001b[0;34m,\u001b[0m \u001b[0mkeep_safe\u001b[0m\u001b[0;34m)\u001b[0m \u001b[0;31m# train e test del modello t-esimo\u001b[0m\u001b[0;34m\u001b[0m\u001b[0;34m\u001b[0m\u001b[0m\n\u001b[0;32m---> 35\u001b[0;31m       \u001b[0mtrain_model\u001b[0m\u001b[0;34m(\u001b[0m\u001b[0mnn_dict\u001b[0m\u001b[0;34m[\u001b[0m\u001b[0mt\u001b[0m\u001b[0;34m]\u001b[0m\u001b[0;34m,\u001b[0m \u001b[0mmodel_dict\u001b[0m\u001b[0;34m[\u001b[0m\u001b[0mt\u001b[0m\u001b[0;34m-\u001b[0m\u001b[0;36m1\u001b[0m\u001b[0;34m]\u001b[0m\u001b[0;34m,\u001b[0m \u001b[0mdata\u001b[0m\u001b[0;34m,\u001b[0m \u001b[0mid_t\u001b[0m\u001b[0;34m,\u001b[0m \u001b[0mid_fraud_t\u001b[0m\u001b[0;34m,\u001b[0m \u001b[0mkeep_fraud\u001b[0m\u001b[0;34m,\u001b[0m \u001b[0mkeep_safe\u001b[0m\u001b[0;34m)\u001b[0m \u001b[0;31m# train e test del modello t-esimo\u001b[0m\u001b[0;34m\u001b[0m\u001b[0;34m\u001b[0m\u001b[0m\n\u001b[0m\u001b[1;32m     36\u001b[0m       \u001b[0mtrain_model\u001b[0m\u001b[0;34m(\u001b[0m\u001b[0msvm_dict\u001b[0m\u001b[0;34m[\u001b[0m\u001b[0mt\u001b[0m\u001b[0;34m]\u001b[0m\u001b[0;34m,\u001b[0m \u001b[0mmodel_dict\u001b[0m\u001b[0;34m[\u001b[0m\u001b[0mt\u001b[0m\u001b[0;34m-\u001b[0m\u001b[0;36m1\u001b[0m\u001b[0;34m]\u001b[0m\u001b[0;34m,\u001b[0m \u001b[0mdata\u001b[0m\u001b[0;34m,\u001b[0m \u001b[0mid_t\u001b[0m\u001b[0;34m,\u001b[0m \u001b[0mid_fraud_t\u001b[0m\u001b[0;34m,\u001b[0m \u001b[0mkeep_fraud\u001b[0m\u001b[0;34m,\u001b[0m \u001b[0mkeep_safe\u001b[0m\u001b[0;34m)\u001b[0m \u001b[0;31m# train e test del modello t-esimo\u001b[0m\u001b[0;34m\u001b[0m\u001b[0;34m\u001b[0m\u001b[0m\n\u001b[1;32m     37\u001b[0m \u001b[0;34m\u001b[0m\u001b[0m\n",
            "\u001b[0;32m<ipython-input-12-f79c1f1809ba>\u001b[0m in \u001b[0;36mtrain_model\u001b[0;34m(sel_model, last_model, data, id_t, id_fraud_t, keep_fraud, keep_safe)\u001b[0m\n\u001b[1;32m     51\u001b[0m     \u001b[0mn_features\u001b[0m \u001b[0;34m=\u001b[0m \u001b[0mX_train\u001b[0m\u001b[0;34m.\u001b[0m\u001b[0mshape\u001b[0m\u001b[0;34m[\u001b[0m\u001b[0;36m1\u001b[0m\u001b[0;34m]\u001b[0m\u001b[0;34m\u001b[0m\u001b[0;34m\u001b[0m\u001b[0m\n\u001b[1;32m     52\u001b[0m     \u001b[0msel_model\u001b[0m\u001b[0;34m.\u001b[0m\u001b[0minit_nn\u001b[0m\u001b[0;34m(\u001b[0m\u001b[0mn_features\u001b[0m\u001b[0;34m)\u001b[0m\u001b[0;34m\u001b[0m\u001b[0;34m\u001b[0m\u001b[0m\n\u001b[0;32m---> 53\u001b[0;31m     \u001b[0msel_model\u001b[0m\u001b[0;34m.\u001b[0m\u001b[0mtrain_nn\u001b[0m\u001b[0;34m(\u001b[0m\u001b[0mX_train\u001b[0m\u001b[0;34m,\u001b[0m \u001b[0my_train\u001b[0m\u001b[0;34m)\u001b[0m\u001b[0;34m\u001b[0m\u001b[0;34m\u001b[0m\u001b[0m\n\u001b[0m\u001b[1;32m     54\u001b[0m \u001b[0;34m\u001b[0m\u001b[0m\n\u001b[1;32m     55\u001b[0m   \u001b[0;32mreturn\u001b[0m \u001b[0;34mf'Training ended. \\n'\u001b[0m\u001b[0;34m\u001b[0m\u001b[0;34m\u001b[0m\u001b[0m\n",
            "\u001b[0;32m<ipython-input-9-6d5626c11247>\u001b[0m in \u001b[0;36mtrain_nn\u001b[0;34m(self, X_train, y_train, frac)\u001b[0m\n\u001b[1;32m     27\u001b[0m     \u001b[0;32mimport\u001b[0m \u001b[0mtensorflow\u001b[0m \u001b[0;32mas\u001b[0m \u001b[0mtf\u001b[0m\u001b[0;34m\u001b[0m\u001b[0;34m\u001b[0m\u001b[0m\n\u001b[1;32m     28\u001b[0m     \u001b[0msm\u001b[0m \u001b[0;34m=\u001b[0m \u001b[0mSMOTE\u001b[0m\u001b[0;34m(\u001b[0m\u001b[0msampling_strategy\u001b[0m\u001b[0;34m=\u001b[0m\u001b[0mfrac\u001b[0m\u001b[0;34m,\u001b[0m \u001b[0mrandom_state\u001b[0m\u001b[0;34m=\u001b[0m\u001b[0;36m42\u001b[0m\u001b[0;34m)\u001b[0m\u001b[0;34m\u001b[0m\u001b[0;34m\u001b[0m\u001b[0m\n\u001b[0;32m---> 29\u001b[0;31m     \u001b[0mX_res\u001b[0m\u001b[0;34m,\u001b[0m \u001b[0my_res\u001b[0m \u001b[0;34m=\u001b[0m \u001b[0msm\u001b[0m\u001b[0;34m.\u001b[0m\u001b[0mfit_resample\u001b[0m\u001b[0;34m(\u001b[0m\u001b[0mX_train\u001b[0m\u001b[0;34m,\u001b[0m \u001b[0my_train\u001b[0m\u001b[0;34m)\u001b[0m\u001b[0;34m\u001b[0m\u001b[0;34m\u001b[0m\u001b[0m\n\u001b[0m\u001b[1;32m     30\u001b[0m     \u001b[0mX_train_res\u001b[0m\u001b[0;34m,\u001b[0m \u001b[0mX_val\u001b[0m\u001b[0;34m,\u001b[0m \u001b[0my_train_res\u001b[0m\u001b[0;34m,\u001b[0m \u001b[0my_val\u001b[0m \u001b[0;34m=\u001b[0m \u001b[0mtrain_test_split\u001b[0m\u001b[0;34m(\u001b[0m\u001b[0mX_res\u001b[0m\u001b[0;34m,\u001b[0m \u001b[0my_res\u001b[0m\u001b[0;34m,\u001b[0m \u001b[0mtest_size\u001b[0m\u001b[0;34m=\u001b[0m\u001b[0;36m0.2\u001b[0m\u001b[0;34m,\u001b[0m \u001b[0mrandom_state\u001b[0m\u001b[0;34m=\u001b[0m\u001b[0;36m42\u001b[0m\u001b[0;34m)\u001b[0m\u001b[0;34m\u001b[0m\u001b[0;34m\u001b[0m\u001b[0m\n\u001b[1;32m     31\u001b[0m     \u001b[0;32mwith\u001b[0m \u001b[0mtf\u001b[0m\u001b[0;34m.\u001b[0m\u001b[0mdevice\u001b[0m\u001b[0;34m(\u001b[0m\u001b[0;34m'/device:GPU:0'\u001b[0m\u001b[0;34m)\u001b[0m\u001b[0;34m:\u001b[0m\u001b[0;34m\u001b[0m\u001b[0;34m\u001b[0m\u001b[0m\n",
            "\u001b[0;32m/usr/local/lib/python3.6/dist-packages/imblearn/base.py\u001b[0m in \u001b[0;36mfit_resample\u001b[0;34m(self, X, y)\u001b[0m\n\u001b[1;32m     83\u001b[0m             self.sampling_strategy, y, self._sampling_type)\n\u001b[1;32m     84\u001b[0m \u001b[0;34m\u001b[0m\u001b[0m\n\u001b[0;32m---> 85\u001b[0;31m         \u001b[0moutput\u001b[0m \u001b[0;34m=\u001b[0m \u001b[0mself\u001b[0m\u001b[0;34m.\u001b[0m\u001b[0m_fit_resample\u001b[0m\u001b[0;34m(\u001b[0m\u001b[0mX\u001b[0m\u001b[0;34m,\u001b[0m \u001b[0my\u001b[0m\u001b[0;34m)\u001b[0m\u001b[0;34m\u001b[0m\u001b[0;34m\u001b[0m\u001b[0m\n\u001b[0m\u001b[1;32m     86\u001b[0m \u001b[0;34m\u001b[0m\u001b[0m\n\u001b[1;32m     87\u001b[0m         \u001b[0;32mif\u001b[0m \u001b[0mbinarize_y\u001b[0m\u001b[0;34m:\u001b[0m\u001b[0;34m\u001b[0m\u001b[0;34m\u001b[0m\u001b[0m\n",
            "\u001b[0;32m/usr/local/lib/python3.6/dist-packages/imblearn/over_sampling/_smote.py\u001b[0m in \u001b[0;36m_fit_resample\u001b[0;34m(self, X, y)\u001b[0m\n\u001b[1;32m    794\u001b[0m     \u001b[0;32mdef\u001b[0m \u001b[0m_fit_resample\u001b[0m\u001b[0;34m(\u001b[0m\u001b[0mself\u001b[0m\u001b[0;34m,\u001b[0m \u001b[0mX\u001b[0m\u001b[0;34m,\u001b[0m \u001b[0my\u001b[0m\u001b[0;34m)\u001b[0m\u001b[0;34m:\u001b[0m\u001b[0;34m\u001b[0m\u001b[0;34m\u001b[0m\u001b[0m\n\u001b[1;32m    795\u001b[0m         \u001b[0mself\u001b[0m\u001b[0;34m.\u001b[0m\u001b[0m_validate_estimator\u001b[0m\u001b[0;34m(\u001b[0m\u001b[0;34m)\u001b[0m\u001b[0;34m\u001b[0m\u001b[0;34m\u001b[0m\u001b[0m\n\u001b[0;32m--> 796\u001b[0;31m         \u001b[0;32mreturn\u001b[0m \u001b[0mself\u001b[0m\u001b[0;34m.\u001b[0m\u001b[0m_sample\u001b[0m\u001b[0;34m(\u001b[0m\u001b[0mX\u001b[0m\u001b[0;34m,\u001b[0m \u001b[0my\u001b[0m\u001b[0;34m)\u001b[0m\u001b[0;34m\u001b[0m\u001b[0;34m\u001b[0m\u001b[0m\n\u001b[0m\u001b[1;32m    797\u001b[0m \u001b[0;34m\u001b[0m\u001b[0m\n\u001b[1;32m    798\u001b[0m     \u001b[0;32mdef\u001b[0m \u001b[0m_sample\u001b[0m\u001b[0;34m(\u001b[0m\u001b[0mself\u001b[0m\u001b[0;34m,\u001b[0m \u001b[0mX\u001b[0m\u001b[0;34m,\u001b[0m \u001b[0my\u001b[0m\u001b[0;34m)\u001b[0m\u001b[0;34m:\u001b[0m\u001b[0;34m\u001b[0m\u001b[0;34m\u001b[0m\u001b[0m\n",
            "\u001b[0;32m/usr/local/lib/python3.6/dist-packages/imblearn/over_sampling/_smote.py\u001b[0m in \u001b[0;36m_sample\u001b[0;34m(self, X, y)\u001b[0m\n\u001b[1;32m    812\u001b[0m             \u001b[0mnns\u001b[0m \u001b[0;34m=\u001b[0m \u001b[0mself\u001b[0m\u001b[0;34m.\u001b[0m\u001b[0mnn_k_\u001b[0m\u001b[0;34m.\u001b[0m\u001b[0mkneighbors\u001b[0m\u001b[0;34m(\u001b[0m\u001b[0mX_class\u001b[0m\u001b[0;34m,\u001b[0m \u001b[0mreturn_distance\u001b[0m\u001b[0;34m=\u001b[0m\u001b[0;32mFalse\u001b[0m\u001b[0;34m)\u001b[0m\u001b[0;34m[\u001b[0m\u001b[0;34m:\u001b[0m\u001b[0;34m,\u001b[0m \u001b[0;36m1\u001b[0m\u001b[0;34m:\u001b[0m\u001b[0;34m]\u001b[0m\u001b[0;34m\u001b[0m\u001b[0;34m\u001b[0m\u001b[0m\n\u001b[1;32m    813\u001b[0m             X_new, y_new = self._make_samples(X_class, y.dtype, class_sample,\n\u001b[0;32m--> 814\u001b[0;31m                                               X_class, nns, n_samples, 1.0)\n\u001b[0m\u001b[1;32m    815\u001b[0m \u001b[0;34m\u001b[0m\u001b[0m\n\u001b[1;32m    816\u001b[0m             \u001b[0;32mif\u001b[0m \u001b[0msparse\u001b[0m\u001b[0;34m.\u001b[0m\u001b[0missparse\u001b[0m\u001b[0;34m(\u001b[0m\u001b[0mX_new\u001b[0m\u001b[0;34m)\u001b[0m\u001b[0;34m:\u001b[0m\u001b[0;34m\u001b[0m\u001b[0;34m\u001b[0m\u001b[0m\n",
            "\u001b[0;32m/usr/local/lib/python3.6/dist-packages/imblearn/over_sampling/_smote.py\u001b[0m in \u001b[0;36m_make_samples\u001b[0;34m(self, X, y_dtype, y_type, nn_data, nn_num, n_samples, step_size)\u001b[0m\n\u001b[1;32m    106\u001b[0m         \u001b[0mrandom_state\u001b[0m \u001b[0;34m=\u001b[0m \u001b[0mcheck_random_state\u001b[0m\u001b[0;34m(\u001b[0m\u001b[0mself\u001b[0m\u001b[0;34m.\u001b[0m\u001b[0mrandom_state\u001b[0m\u001b[0;34m)\u001b[0m\u001b[0;34m\u001b[0m\u001b[0;34m\u001b[0m\u001b[0m\n\u001b[1;32m    107\u001b[0m         samples_indices = random_state.randint(\n\u001b[0;32m--> 108\u001b[0;31m             low=0, high=len(nn_num.flatten()), size=n_samples)\n\u001b[0m\u001b[1;32m    109\u001b[0m         \u001b[0msteps\u001b[0m \u001b[0;34m=\u001b[0m \u001b[0mstep_size\u001b[0m \u001b[0;34m*\u001b[0m \u001b[0mrandom_state\u001b[0m\u001b[0;34m.\u001b[0m\u001b[0muniform\u001b[0m\u001b[0;34m(\u001b[0m\u001b[0msize\u001b[0m\u001b[0;34m=\u001b[0m\u001b[0mn_samples\u001b[0m\u001b[0;34m)\u001b[0m\u001b[0;34m\u001b[0m\u001b[0;34m\u001b[0m\u001b[0m\n\u001b[1;32m    110\u001b[0m         \u001b[0mrows\u001b[0m \u001b[0;34m=\u001b[0m \u001b[0mnp\u001b[0m\u001b[0;34m.\u001b[0m\u001b[0mfloor_divide\u001b[0m\u001b[0;34m(\u001b[0m\u001b[0msamples_indices\u001b[0m\u001b[0;34m,\u001b[0m \u001b[0mnn_num\u001b[0m\u001b[0;34m.\u001b[0m\u001b[0mshape\u001b[0m\u001b[0;34m[\u001b[0m\u001b[0;36m1\u001b[0m\u001b[0;34m]\u001b[0m\u001b[0;34m)\u001b[0m\u001b[0;34m\u001b[0m\u001b[0;34m\u001b[0m\u001b[0m\n",
            "\u001b[0;32mmtrand.pyx\u001b[0m in \u001b[0;36mnumpy.random.mtrand.RandomState.randint\u001b[0;34m()\u001b[0m\n",
            "\u001b[0;32m_bounded_integers.pyx\u001b[0m in \u001b[0;36mnumpy.random._bounded_integers._rand_int64\u001b[0;34m()\u001b[0m\n",
            "\u001b[0;31mValueError\u001b[0m: negative dimensions are not allowed"
          ]
        }
      ]
    },
    {
      "cell_type": "code",
      "metadata": {
        "id": "0x86CNdAII-t"
      },
      "source": [
        "t = 3\r\n",
        "final_ensemble = ensemble_dict[t]\r\n",
        "soglie = [0.4, 0.5, 0.55, 0.6, 0.65, 0.7]\r\n",
        "for soglia in soglie:\r\n",
        "  final_ensemble.prediction = []\r\n",
        "  id_t = get_t_id(data, id, id_fraud, t, init_splits, incoming_splits) \r\n",
        "  test_ensemble(final_ensemble, model_dict, t, data, id_t, soglia)"
      ],
      "execution_count": null,
      "outputs": []
    },
    {
      "cell_type": "code",
      "metadata": {
        "id": "n_B1W0OPJMED"
      },
      "source": [
        ""
      ],
      "execution_count": null,
      "outputs": []
    }
  ]
}