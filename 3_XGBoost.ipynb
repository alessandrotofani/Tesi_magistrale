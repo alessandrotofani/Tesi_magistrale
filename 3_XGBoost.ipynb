{
  "nbformat": 4,
  "nbformat_minor": 0,
  "metadata": {
    "colab": {
      "name": "3_Pre_&_XGBoost.ipynb",
      "provenance": [],
      "authorship_tag": "ABX9TyOXNVN7+O4+HlYxpvVjSmFf",
      "include_colab_link": true
    },
    "kernelspec": {
      "name": "python3",
      "display_name": "Python 3"
    },
    "accelerator": "GPU"
  },
  "cells": [
    {
      "cell_type": "markdown",
      "metadata": {
        "id": "view-in-github",
        "colab_type": "text"
      },
      "source": [
        "<a href=\"https://colab.research.google.com/github/alessandrotofani/Tesi_magistrale/blob/master/3_XGBoost.ipynb\" target=\"_parent\"><img src=\"https://colab.research.google.com/assets/colab-badge.svg\" alt=\"Open In Colab\"/></a>"
      ]
    },
    {
      "cell_type": "markdown",
      "metadata": {
        "id": "z-7rH_UhAPGR"
      },
      "source": [
        "# Import"
      ]
    },
    {
      "cell_type": "code",
      "metadata": {
        "id": "SwkBbxNMK8Fv",
        "colab": {
          "base_uri": "https://localhost:8080/"
        },
        "outputId": "95c3b300-84c2-4639-bcc1-a9fe722f1a69"
      },
      "source": [
        "import numpy as np # linear algebra\r\n",
        "import pandas as pd # data processing\r\n",
        "import matplotlib\r\n",
        "import matplotlib.pyplot as plt\r\n",
        "import seaborn as sns\r\n",
        "import os\r\n",
        "from google.colab import drive\r\n",
        "drive.mount('/content/drive')\r\n",
        "from sklearn.model_selection import train_test_split"
      ],
      "execution_count": 2,
      "outputs": [
        {
          "output_type": "stream",
          "text": [
            "Drive already mounted at /content/drive; to attempt to forcibly remount, call drive.mount(\"/content/drive\", force_remount=True).\n"
          ],
          "name": "stdout"
        }
      ]
    },
    {
      "cell_type": "code",
      "metadata": {
        "id": "9UBtZ7vSkof3"
      },
      "source": [
        "import sys \r\n",
        "sys.path.append('/content/drive/MyDrive/Tesi_magistrale/Tesi_magistrale')\r\n",
        "import mf"
      ],
      "execution_count": 3,
      "outputs": []
    },
    {
      "cell_type": "markdown",
      "metadata": {
        "id": "snsMJMlJ3Dcu"
      },
      "source": [
        "#  Dataset import"
      ]
    },
    {
      "cell_type": "code",
      "metadata": {
        "id": "Kiu5JWhDvX3C"
      },
      "source": [
        "if not os.path.isfile('/content/drive/MyDrive/Tesi_magistrale/Dataset/IEEE/Output/corr_data.csv'):\r\n",
        "  correlation_data = min_max_scaling(correlation_data)\r\n",
        "  correlation_data.to_csv(r'./corr_data.csv')\r\n",
        "\r\n",
        "if not os.path.isfile('/content/drive/MyDrive/Tesi_magistrale/Dataset/IEEE/Output/data.csv'):\r\n",
        "  correlation_data = pd.read_csv('/content/drive/MyDrive/Tesi_magistrale/Dataset/IEEE/Output/corr_data.csv')"
      ],
      "execution_count": 4,
      "outputs": []
    },
    {
      "cell_type": "code",
      "metadata": {
        "id": "fUhFjfNyHixl"
      },
      "source": [
        "import warnings\r\n",
        "warnings.simplefilter(action='ignore', category=FutureWarning) # serve per ignorare i FutureWarning"
      ],
      "execution_count": 5,
      "outputs": []
    },
    {
      "cell_type": "markdown",
      "metadata": {
        "id": "P_aHaIF0QR8W"
      },
      "source": [
        "Rimpiazzo i missing values in categorical data con unknown. \r\n",
        "\r\n",
        "Unisco i dataset numerici e categorici nel dataframe data. \r\n",
        "\r\n",
        "Riferimento fillna: https://jamesrledoux.com/code/imputation"
      ]
    },
    {
      "cell_type": "code",
      "metadata": {
        "id": "3CA67WePVnds"
      },
      "source": [
        "if not os.path.isfile('/content/drive/MyDrive/Tesi_magistrale/Dataset/IEEE/Output/data.csv'):\r\n",
        "  col_to_drop = col_not_sign(categorical_data, cat_sign_col)\r\n",
        "  categorical_data = categorical_data.drop(col_to_drop, axis=1)\r\n",
        "  categorical_data = categorical_data.fillna('unknown')\r\n",
        "  data = pd.merge(correlation_data, categorical_data, left_on='TransactionID', right_on='TransactionID', how='left')\r\n",
        "  del correlation_data, categorical_data, numerical_data\r\n",
        "  data.to_csv(r'./data.csv')\r\n",
        "\r\n",
        "data = pd.read_csv('/content/drive/MyDrive/Tesi_magistrale/Dataset/IEEE/Output/data.csv')\r\n",
        "data.drop(data.columns[data.columns.str.contains('unnamed',case = False)],axis = 1, inplace = True)"
      ],
      "execution_count": 6,
      "outputs": []
    },
    {
      "cell_type": "markdown",
      "metadata": {
        "id": "rgXeAsqPAkuh"
      },
      "source": [
        "# Feature engineering and scaling"
      ]
    },
    {
      "cell_type": "markdown",
      "metadata": {
        "id": "0KeaLWKEx_kF"
      },
      "source": [
        "`feature_engineering(data)`: permette di sistemare i feature values categorici. \r\n",
        "Le features che vengono sistemate sono:\r\n",
        "* da `DeviceInfo` a `device_name` e `device_version`;\r\n",
        "* da `id_30` a `os_name` e `os_version`;\r\n",
        "* da `id_31` a `browser_name` e `browser_version`;\r\n",
        "* da `id_33` a `screen_w` e `screen_h`;\r\n",
        "* da `TransactionDT` si definiscono altre due feature: `day` e `hour`;\r\n",
        "* di `id_23` e `id_24` si seleziona solo la parte dopo `:`;\r\n",
        "\r\n",
        "`feature_scaling(data)`: permette di fare min_max scaling delle features numeriche. "
      ]
    },
    {
      "cell_type": "code",
      "metadata": {
        "id": "4P7ThMmAEkpV"
      },
      "source": [
        "data = mf.feature_engineering(data)\r\n",
        "data = mf.feature_scaling(data)"
      ],
      "execution_count": 7,
      "outputs": []
    },
    {
      "cell_type": "markdown",
      "metadata": {
        "id": "jacF5JtkXHvp"
      },
      "source": [
        "# One hot encoding"
      ]
    },
    {
      "cell_type": "markdown",
      "metadata": {
        "id": "0YusuKvQSS-V"
      },
      "source": [
        "`get_dummies(data)`: one hot encoding delle features categoriche. Serve sia per un eventuale smote o easy ensemble, ma soprattuto per XGBoost. \r\n"
      ]
    },
    {
      "cell_type": "code",
      "metadata": {
        "id": "uDzEOd7O-E03"
      },
      "source": [
        "data = pd.get_dummies(data)"
      ],
      "execution_count": 8,
      "outputs": []
    },
    {
      "cell_type": "code",
      "metadata": {
        "id": "ouq64I1r5lkR"
      },
      "source": [
        "cols = mf.get_col(data)"
      ],
      "execution_count": 9,
      "outputs": []
    },
    {
      "cell_type": "markdown",
      "metadata": {
        "id": "SMz_bK6DTJRl"
      },
      "source": [
        "Seleziono i dati appartenenti ai primi 60 giorni. \r\n",
        "\r\n",
        "Se ne seleziono di più, l'easy ensemble non va. "
      ]
    },
    {
      "cell_type": "code",
      "metadata": {
        "id": "dhRSkafFKcEn"
      },
      "source": [
        "# data = mf.select_days(data, 60)"
      ],
      "execution_count": 10,
      "outputs": []
    },
    {
      "cell_type": "markdown",
      "metadata": {
        "id": "RvUklSvA0XIn"
      },
      "source": [
        "`get_set(filename, data, alg, labels=False)`: permette di caricare i set su cui è stato allenato e validato il modello. "
      ]
    },
    {
      "cell_type": "code",
      "metadata": {
        "id": "e67PX2M7__c4"
      },
      "source": [
        "load = True\r\n",
        "save_id = False \r\n",
        "\r\n",
        "if load:\r\n",
        "  X_train, y_train = mf.get_set('train_id', data, 'xgboost_numpy', labels = True)\r\n",
        "  X_val, y_val = mf.get_set('val_id', data, 'xgboost_numpy', labels = True)\r\n",
        "  X_test, y_test = mf.get_set('test_id', data, 'xgboost_numpy', labels = True)"
      ],
      "execution_count": 11,
      "outputs": []
    },
    {
      "cell_type": "markdown",
      "metadata": {
        "id": "m8EkabwNTN1C"
      },
      "source": [
        "Splitto il dataset in train, validation e test set. "
      ]
    },
    {
      "cell_type": "code",
      "metadata": {
        "id": "0cz8y-FhBpi9"
      },
      "source": [
        "if not load:\r\n",
        "  X_train, X_val, y_train, y_val = mf.split(data, test_size = 0.2)\r\n",
        "  del data\r\n",
        "  X_train, X_test, y_train, y_test = train_test_split(X_train, y_train, test_size=0.25, random_state=42)"
      ],
      "execution_count": 12,
      "outputs": []
    },
    {
      "cell_type": "markdown",
      "metadata": {
        "id": "zeBXq4s40oIV"
      },
      "source": [
        "`save_list(filename, list)`: permette di salvare in un file .txt gli id dei dati su cui il modello verrà allenato e validato. "
      ]
    },
    {
      "cell_type": "code",
      "metadata": {
        "id": "MbcGznrT6siy"
      },
      "source": [
        "if save_id:\r\n",
        "  train_id = X_train.index.tolist()\r\n",
        "  val_id = X_val.index.tolist()\r\n",
        "  test_id = X_test.index.tolist()\r\n",
        "  mf.save_list('train_id',train_id)\r\n",
        "  mf.save_list('val_id', val_id)\r\n",
        "  mf.save_list('test_id', test_id)\r\n",
        "\r\n",
        "# load_id = False \r\n",
        "# if load_id:\r\n",
        "#   mf.load_list('train_id',train_id)\r\n",
        "#   mf.load_list('val_id', val_id)\r\n",
        "#   mf.load_list('test_id', test_id)"
      ],
      "execution_count": 13,
      "outputs": []
    },
    {
      "cell_type": "markdown",
      "metadata": {
        "id": "EIX6IijNRgn0"
      },
      "source": [
        "# Undersampling: Easy Ensemble"
      ]
    },
    {
      "cell_type": "markdown",
      "metadata": {
        "id": "sjJGUsMyNGuw"
      },
      "source": [
        "L'easy ensemble tramite un metodo unsupervised divide il dataset in diversi dataset undersampled. \r\n",
        "\r\n",
        "Documentazione easy ensemble: http://glemaitre.github.io/imbalanced-learn/generated/imblearn.ensemble.EasyEnsemble.html#imblearn.ensemble.EasyEnsemble\r\n",
        "\r\n",
        "Esempio applicazio ee: http://glemaitre.github.io/imbalanced-learn/auto_examples/ensemble/plot_easy_ensemble.html?highlight=easy%20ensemble"
      ]
    },
    {
      "cell_type": "code",
      "metadata": {
        "id": "vdiM8saOHFOI"
      },
      "source": [
        "# X_trainres, y_trainres = mf.easy_ensemble(5, X_train, y_train)"
      ],
      "execution_count": 14,
      "outputs": []
    },
    {
      "cell_type": "code",
      "metadata": {
        "id": "sV5gGRbjzBiq"
      },
      "source": [
        "# X_trainres_df = pd.DataFrame(data = X_trainres[0], columns = cols)\r\n",
        "# del X_trainres"
      ],
      "execution_count": 15,
      "outputs": []
    },
    {
      "cell_type": "markdown",
      "metadata": {
        "id": "nDxZx1ew9n2I"
      },
      "source": [
        "# XGBoost\r\n",
        "\r\n",
        "ROC curve: https://scikit-learn.org/stable/auto_examples/miscellaneous/plot_roc_curve_visualization_api.html#sphx-glr-auto-examples-miscellaneous-plot-roc-curve-visualization-api-py\r\n",
        "\r\n",
        "XGBoost: https://www.analyticsvidhya.com/blog/2016/03/complete-guide-parameter-tuning-xgboost-with-codes-python/\r\n",
        "\r\n",
        "gpu_hist method: https://xgboost.readthedocs.io/en/latest/parameter.html#additional-parameters-for-hist-and-gpu-hist-tree-method"
      ]
    },
    {
      "cell_type": "markdown",
      "metadata": {
        "id": "mkOwSxMn_7cH"
      },
      "source": [
        "## Load model"
      ]
    },
    {
      "cell_type": "markdown",
      "metadata": {
        "id": "yk_aebUnAlUf"
      },
      "source": [
        "Tramite la libreria `joblib` viene caricato il modello già allenato. \r\n",
        "\r\n",
        "Riferimento: https://xgboost.readthedocs.io/en/latest/python/python_intro.html"
      ]
    },
    {
      "cell_type": "code",
      "metadata": {
        "id": "9YlNReHV_88W"
      },
      "source": [
        "if load:\r\n",
        "  from joblib import load\r\n",
        "  from xgboost import XGBClassifier\r\n",
        "\r\n",
        "  clf = load(\"/content/drive/MyDrive/Tesi_magistrale/Dataset/IEEE/Output/xgboost_numpy/xgb_np.joblib.dat\")"
      ],
      "execution_count": 16,
      "outputs": []
    },
    {
      "cell_type": "markdown",
      "metadata": {
        "id": "hxgqo8cx_-D3"
      },
      "source": [
        "## Training"
      ]
    },
    {
      "cell_type": "markdown",
      "metadata": {
        "id": "tDvAwriO0-Kt"
      },
      "source": [
        "Fase di training e tuning dei parametri del modello. \r\n",
        "\r\n",
        "Notare che i set devono essere trasformati da dataframe a array numpy, poichè sarà necessario per la fase di XAI."
      ]
    },
    {
      "cell_type": "code",
      "metadata": {
        "id": "1ohOclWl9naz",
        "colab": {
          "base_uri": "https://localhost:8080/",
          "height": 279
        },
        "outputId": "5473bcaa-9b7d-4154-ca2e-2de988a0342a"
      },
      "source": [
        "from sklearn.metrics import plot_roc_curve\r\n",
        "import xgboost as xgb\r\n",
        "from xgboost import XGBClassifier\r\n",
        "\r\n",
        "if not load:\r\n",
        "  clf = XGBClassifier(n_estimators = 4000, max_depth = 10, \r\n",
        "                      objective='binary:logistic', learning_rate = 0.5, \r\n",
        "                      tree_method='gpu_hist') \r\n",
        "  \r\n",
        "  clf.fit(X_train.to_numpy(), y_train.to_numpy())\r\n",
        "\r\n",
        "plot_roc_curve(clf, X_val.to_numpy(), y_val.to_numpy())\r\n",
        "plt.show()"
      ],
      "execution_count": 17,
      "outputs": [
        {
          "output_type": "display_data",
          "data": {
            "image/png": "[encoded data removed]",
            "text/plain": [
              "<Figure size 432x288 with 1 Axes>"
            ]
          },
          "metadata": {
            "tags": [],
            "needs_background": "light"
          }
        }
      ]
    },
    {
      "cell_type": "markdown",
      "metadata": {
        "id": "TGMupol1_x1d"
      },
      "source": [
        "# Save model"
      ]
    },
    {
      "cell_type": "markdown",
      "metadata": {
        "id": "T77dRnUg1Bj1"
      },
      "source": [
        "Tramite `joblib` salvo il modello appena allenato. "
      ]
    },
    {
      "cell_type": "code",
      "metadata": {
        "id": "fRJtfinpJq8Y"
      },
      "source": [
        "save = False\r\n",
        "if save:\r\n",
        "  from joblib import dump\r\n",
        "  dump(clf, \"xgb_np.joblib.dat\")"
      ],
      "execution_count": 18,
      "outputs": []
    },
    {
      "cell_type": "markdown",
      "metadata": {
        "id": "97biuCLd4dtB"
      },
      "source": [
        "# Perfomance evaluation"
      ]
    },
    {
      "cell_type": "markdown",
      "metadata": {
        "id": "p-il22xD4vpT"
      },
      "source": [
        "## Confusion matrix"
      ]
    },
    {
      "cell_type": "code",
      "metadata": {
        "colab": {
          "base_uri": "https://localhost:8080/",
          "height": 329
        },
        "id": "152ZWY4k4xWd",
        "outputId": "7e9724ed-6d66-4773-c121-ce7e08cdd431"
      },
      "source": [
        "mf.conf_matrix(clf, X_val.to_numpy(), y_val.to_numpy())"
      ],
      "execution_count": 19,
      "outputs": [
        {
          "output_type": "stream",
          "text": [
            "[[113695    158]\n",
            " [  1414   2840]]\n"
          ],
          "name": "stdout"
        },
        {
          "output_type": "display_data",
          "data": {
            "image/png": "[encoded data removed]",
            "text/plain": [
              "<Figure size 432x288 with 2 Axes>"
            ]
          },
          "metadata": {
            "tags": [],
            "needs_background": "light"
          }
        }
      ]
    },
    {
      "cell_type": "markdown",
      "metadata": {
        "id": "YUTV54eK4iHR"
      },
      "source": [
        "## Mean average precision"
      ]
    },
    {
      "cell_type": "markdown",
      "metadata": {
        "id": "gVLAZnmzu8IS"
      },
      "source": [
        "AP max = 0.84\r\n",
        "\r\n",
        "AP: https://scikit-learn.org/stable/auto_examples/model_selection/plot_precision_recall.html#sphx-glr-auto-examples-model-selection-plot-precision-recall-py"
      ]
    },
    {
      "cell_type": "code",
      "metadata": {
        "id": "YOkqeK8SfH_L",
        "colab": {
          "base_uri": "https://localhost:8080/",
          "height": 295
        },
        "outputId": "fc3a2ef2-0f6e-4780-b1c4-300f542fc7cc"
      },
      "source": [
        "mf.ap_metric(clf, X_val.to_numpy(), y_val.to_numpy(), proba = True)"
      ],
      "execution_count": 20,
      "outputs": [
        {
          "output_type": "display_data",
          "data": {
            "image/png": "[encoded data removed]",
            "text/plain": [
              "<Figure size 432x288 with 1 Axes>"
            ]
          },
          "metadata": {
            "tags": [],
            "needs_background": "light"
          }
        }
      ]
    },
    {
      "cell_type": "markdown",
      "metadata": {
        "id": "MSOj-LJO4oUF"
      },
      "source": [
        "## Feature importance"
      ]
    },
    {
      "cell_type": "markdown",
      "metadata": {
        "id": "3dKb0FYl91xi"
      },
      "source": [
        "Cambio il nome delle feature assegnato di default da xgboost quando viene trainato su un array numpy. \r\n",
        "\r\n",
        "Riferimento: https://stackoverflow.com/questions/54933804/how-to-get-actual-feature-names-in-xgboost-feature-importance-plot-without-retra"
      ]
    },
    {
      "cell_type": "code",
      "metadata": {
        "id": "cwKIBo6b9mUZ"
      },
      "source": [
        "clf.get_booster().feature_names = cols"
      ],
      "execution_count": 21,
      "outputs": []
    },
    {
      "cell_type": "code",
      "metadata": {
        "colab": {
          "base_uri": "https://localhost:8080/",
          "height": 312
        },
        "id": "4QajIT0n-XsG",
        "outputId": "26658df4-b647-4974-f100-aea9b024baf2"
      },
      "source": [
        "xgb.plot_importance(clf, max_num_features = 10, importance_type='gain')"
      ],
      "execution_count": 22,
      "outputs": [
        {
          "output_type": "execute_result",
          "data": {
            "text/plain": [
              "<matplotlib.axes._subplots.AxesSubplot at 0x7ff726c91eb8>"
            ]
          },
          "metadata": {
            "tags": []
          },
          "execution_count": 22
        },
        {
          "output_type": "display_data",
          "data": {
            "image/png": "[encoded data removed]",
            "text/plain": [
              "<Figure size 432x288 with 1 Axes>"
            ]
          },
          "metadata": {
            "tags": [],
            "needs_background": "light"
          }
        }
      ]
    },
    {
      "cell_type": "markdown",
      "metadata": {
        "id": "rWQX6HxT1Uql"
      },
      "source": [
        "`ratio_dictionary(clf, data, n_features)`: permette di selezionare le n_features più importanti e controllare il ratio di eventi fraudolenti che tali features individuano. "
      ]
    },
    {
      "cell_type": "code",
      "metadata": {
        "id": "T3T9_eYp5syD"
      },
      "source": [
        "ratio = mf.ratio_dictionary(clf, data, 20)"
      ],
      "execution_count": null,
      "outputs": []
    },
    {
      "cell_type": "code",
      "metadata": {
        "id": "M2_kyqFSBwU0"
      },
      "source": [
        "ratio"
      ],
      "execution_count": null,
      "outputs": []
    },
    {
      "cell_type": "markdown",
      "metadata": {
        "id": "NVQd7Y0odndl"
      },
      "source": [
        "# Loss evaluation by day"
      ]
    },
    {
      "cell_type": "markdown",
      "metadata": {
        "id": "358AvvWA1rQr"
      },
      "source": [
        "`loss_by_day(X_test, y_test, clf)`: permette di calcolare la loss e la confusion matrix, valutando le performance del modello sui diversi giorni della settimana. \r\n",
        "\r\n",
        "L'idea è che potrebbero esserci uno o più giorni in cui le abitudini dei consumatori cambiano, ed il modello non riesce ad individuare bene le transazioni fraudolente. "
      ]
    },
    {
      "cell_type": "code",
      "metadata": {
        "id": "pwotqRTOd1Gf"
      },
      "source": [
        "loss, cm = mf.loss_by_day(X_test, y_test, clf)\r\n",
        "print(loss)\r\n",
        "for i in cm:\r\n",
        "  print(cm[i].round(3),'\\n')"
      ],
      "execution_count": null,
      "outputs": []
    }
  ]
}