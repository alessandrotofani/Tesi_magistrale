{
  "nbformat": 4,
  "nbformat_minor": 0,
  "metadata": {
    "colab": {
      "name": "5_Dinamic_model_new.ipynb",
      "provenance": [],
      "authorship_tag": "ABX9TyPirJt7+XEvsyVeO17yGEg7",
      "include_colab_link": true
    },
    "kernelspec": {
      "name": "python3",
      "display_name": "Python 3"
    },
    "accelerator": "GPU"
  },
  "cells": [
    {
      "cell_type": "markdown",
      "metadata": {
        "id": "view-in-github",
        "colab_type": "text"
      },
      "source": [
        "<a href=\"https://colab.research.google.com/github/alessandrotofani/Tesi_magistrale/blob/master/5_Dinamic_model.ipynb\" target=\"_parent\"><img src=\"https://colab.research.google.com/assets/colab-badge.svg\" alt=\"Open In Colab\"/></a>"
      ]
    },
    {
      "cell_type": "markdown",
      "metadata": {
        "id": "z-7rH_UhAPGR"
      },
      "source": [
        "# Import"
      ]
    },
    {
      "cell_type": "code",
      "metadata": {
        "id": "SwkBbxNMK8Fv",
        "colab": {
          "base_uri": "https://localhost:8080/"
        },
        "outputId": "a4d853b5-f2c2-4df2-d883-505e3c22a681"
      },
      "source": [
        "import numpy as np \r\n",
        "import pandas as pd \r\n",
        "import matplotlib\r\n",
        "import matplotlib.pyplot as plt\r\n",
        "import seaborn as sns\r\n",
        "import os\r\n",
        "from google.colab import drive\r\n",
        "drive.mount('/content/drive')\r\n",
        "from sklearn.model_selection import train_test_split"
      ],
      "execution_count": 1,
      "outputs": [
        {
          "output_type": "stream",
          "text": [
            "Drive already mounted at /content/drive; to attempt to forcibly remount, call drive.mount(\"/content/drive\", force_remount=True).\n"
          ],
          "name": "stdout"
        }
      ]
    },
    {
      "cell_type": "code",
      "metadata": {
        "id": "9UBtZ7vSkof3"
      },
      "source": [
        "import sys \r\n",
        "sys.path.append('/content/drive/MyDrive/Tesi_magistrale/Tesi_magistrale')\r\n",
        "import mf"
      ],
      "execution_count": 2,
      "outputs": []
    },
    {
      "cell_type": "code",
      "metadata": {
        "id": "RYEwRKTV1NvR"
      },
      "source": [
        "data = pd.read_csv('/content/drive/MyDrive/Tesi_magistrale/Dataset/IEEE/Output/data.csv')\r\n",
        "data.drop(data.columns[data.columns.str.contains('unnamed',case = False)],axis = 1, inplace = True)"
      ],
      "execution_count": 3,
      "outputs": []
    },
    {
      "cell_type": "markdown",
      "metadata": {
        "id": "ouPK38wK1Ytv"
      },
      "source": [
        "# Feature engineering and scaling"
      ]
    },
    {
      "cell_type": "code",
      "metadata": {
        "id": "8s7dk9_P1QQx"
      },
      "source": [
        "data = mf.feature_engineering(data)\r\n",
        "data = mf.feature_scaling(data)\r\n",
        "data = pd.get_dummies(data)"
      ],
      "execution_count": 4,
      "outputs": []
    },
    {
      "cell_type": "markdown",
      "metadata": {
        "id": "ufgfSciYOIqL"
      },
      "source": [
        "# Dinamic model"
      ]
    },
    {
      "cell_type": "code",
      "metadata": {
        "id": "NdLWKPHvOJb7"
      },
      "source": [
        "init_splits = 4 # numero di split su cui il modello iniziale (t=0) si allena \r\n",
        "incoming_splits = 2 # nuovi split che arrivano ad ogni nuovo dt, e su cui si allena il nuovo modello\r\n",
        "tot_splits = 10 # split totali in cui sarà diviso il dataset"
      ],
      "execution_count": 5,
      "outputs": []
    },
    {
      "cell_type": "code",
      "metadata": {
        "id": "jxTnn6PcOYqE"
      },
      "source": [
        "def get_split_id(data, init_splits, incoming_splits, tot_splits): # serve per splittare il dataset in tot_splits\r\n",
        "  '''\r\n",
        "  in\r\n",
        "  data: dataset che si vuole splittare\r\n",
        "  init_splits: numero di split su cui il modello iniziale (t=0) si allena \r\n",
        "  incoming_splits: nuovi split che arrivano ad ogni nuovo dt, e su cui si allena il nuovo modello\r\n",
        "  tot_splits: split totali in cui sarà diviso il dataset\r\n",
        "  out\r\n",
        "  id: dizionario che contiene (split : id righe selezionate)\r\n",
        "  id_fraud: come id, solo che sono selezionate solo le transazioni fraudolente \r\n",
        "  '''\r\n",
        "  id = {} # dizionario con (split : id_righe)\r\n",
        "  id_fraud = {} # dizionario con (split: id righe transazioni fraudolente)\r\n",
        "  for i in range(tot_splits):\r\n",
        "    id[i] = data[(data['TransactionDT']>=(i/tot_splits)) & (data['TransactionDT']<((i + 1)/tot_splits))].index.tolist()\r\n",
        "    id_fraud[i] = data[(data['TransactionDT']>=(i/tot_splits)) & (data['TransactionDT']<((i + 1)/tot_splits)) & (data['isFraud'] == 1)].index.tolist()\r\n",
        "    \r\n",
        "  return id, id_fraud"
      ],
      "execution_count": 6,
      "outputs": []
    },
    {
      "cell_type": "code",
      "metadata": {
        "id": "PtMpJb8jQ_B1"
      },
      "source": [
        "class model:\r\n",
        "  name = 'XGBoost'\r\n",
        "\r\n",
        "  def __init__(self, t): # costruttore\r\n",
        "    '''\r\n",
        "    in\r\n",
        "    t: istante temporale\r\n",
        "    '''\r\n",
        "    self.t = t\r\n",
        "    self.f1 = 0\r\n",
        "    self.precision = 0\r\n",
        "    self.recall = 0\r\n",
        "    self.roc = 0\r\n",
        "    self.proba = []\r\n",
        "    self.prediction = []\r\n",
        "    self.train_id = [] # lista con le righe su cui il modello si è allenato\r\n",
        "    self.val_id = [] # lista con le righe su cui il modello viene validato\r\n",
        "    return\r\n",
        "\r\n",
        "  def __str__(self): # print dell'oggetto\r\n",
        "    return f\"{self.name}, at time {self.t}, with f1 score of {self.f1}\"\r\n",
        "\r\n",
        "  def init_xgb(self, estimators = 1000, depth = 6): # inizializza xgb 2000, 6\r\n",
        "    import xgboost \r\n",
        "    from xgboost import XGBClassifier\r\n",
        "    self.xgb = XGBClassifier(n_estimators = estimators, max_depth = depth, \r\n",
        "                      objective='binary:logistic', learning_rate = 0.5, \r\n",
        "                      tree_method='gpu_hist')\r\n",
        "    return f'{self.name} at time {self.t}, has been initialized.'\r\n",
        "  \r\n",
        "  def train_xgb(self, X_train, y_train): # traina il modello\r\n",
        "    # self.xgb.fit(X_train.to_numpy(), y_train.to_numpy())\r\n",
        "    self.xgb.fit(X_train.to_numpy(), y_train)\r\n",
        "    return f'{self.name} is now trained!'\r\n",
        "\r\n",
        "  def get_set(self, data, id_list): # restituisce il subset dati gli id delle righe\r\n",
        "    # id_list: è l'elemento id[t] \r\n",
        "    subset = data.iloc[id_list,:]\r\n",
        "    return subset\r\n",
        "\r\n",
        "  def proba_predictions(self, X_val): # restituisce le probabilità\r\n",
        "    if not self.xgb:\r\n",
        "      return f'{self.name} is not declared. You need to use init_xgb'\r\n",
        "    self.proba = self.xgb.predict_proba(X_val, validate_features = False)\r\n",
        "    return self.proba\r\n",
        "\r\n",
        "  def aggregate(self, soglia = 0.05): # resituisce la classe\r\n",
        "    # if not self.proba:\r\n",
        "    #   return f'self.proba is empty. Before aggregate, you need to use proba_predictions'\r\n",
        "    self.prediction = []\r\n",
        "    for proba in self.proba[:,1]:\r\n",
        "      if proba > soglia:\r\n",
        "        self.prediction.append(1)\r\n",
        "      else:\r\n",
        "        self.prediction.append(0)\r\n",
        "    return f'Classification has been councluded!'\r\n",
        "\r\n",
        "  def performance(self, y_val, soglia = 0.05): # printa le performance del modello \r\n",
        "    from sklearn.metrics import roc_auc_score, f1_score, recall_score, precision_score\r\n",
        "    \r\n",
        "    print('\\n')\r\n",
        "    print('Confusion matrix of model', self.name,'of time', self.t)\r\n",
        "    mf.plot_cm(y_val, self.prediction, 'Blues', p = soglia, dynamic = True)\r\n",
        "    \r\n",
        "    self.score = f1_score(y_val, self.prediction).round(2)\r\n",
        "    self.roc = roc_auc_score(y_val, self.prediction).round(2)\r\n",
        "    self.precision = precision_score(y_val, self.prediction,  average='binary').round(2)\r\n",
        "    self.recall = recall_score(y_val, self.prediction, average='binary').round(2)\r\n",
        "\r\n",
        "    print('\\n')\r\n",
        "    print('Model f1 score: ', self.score)\r\n",
        "    print('Model roc auc score: ', self.roc)\r\n",
        "    print('Model recall: ', self.recall)\r\n",
        "    print('Model precision: ', self.precision)\r\n",
        "    print('\\n')\r\n",
        "    return "
      ],
      "execution_count": 7,
      "outputs": []
    },
    {
      "cell_type": "code",
      "metadata": {
        "id": "uNLoo0EXgNYT"
      },
      "source": [
        "class svm(model):\r\n",
        "  name = 'svm'\r\n",
        "\r\n",
        "  def init_svm(self):\r\n",
        "    from sklearn.svm import LinearSVC\r\n",
        "    self.svm = LinearSVC(max_iter=10000, random_state=0, tol=1e-3, class_weight='balanced',  \r\n",
        "                    loss='squared_hinge', dual = False )\r\n",
        "    return\r\n",
        "  \r\n",
        "  def train_svm(self, X_train, y_train):\r\n",
        "    self.svm.fit(X_train, y_train)\r\n",
        "    return\r\n",
        "\r\n",
        "  #override\r\n",
        "  def proba_predictions(self, X_val): # restituisce le probabilità\r\n",
        "    if not self.svm:\r\n",
        "      return f'{self.name} is not declared. You need to use init_nn'\r\n",
        "    self.proba = self.svm.predict(X_val.to_numpy())#, validate_features = False)\r\n",
        "    return self.proba\r\n",
        "\r\n",
        "  #override\r\n",
        "  def aggregate(self, soglia = 0.5): # resituisce la classe\r\n",
        "    self.prediction = []\r\n",
        "    for proba in self.proba:\r\n",
        "      if proba > soglia:\r\n",
        "        self.prediction.append(1)\r\n",
        "      else:\r\n",
        "        self.prediction.append(0)\r\n",
        "    return f'Classification has been councluded!'"
      ],
      "execution_count": 8,
      "outputs": []
    },
    {
      "cell_type": "code",
      "metadata": {
        "id": "AlIsUnQQZ8nU"
      },
      "source": [
        "class nn(model):\r\n",
        "  name = 'Neural network'\r\n",
        "\r\n",
        "  def init_nn(self, n_features):\r\n",
        "    import tensorflow as tf\r\n",
        "    from tensorflow import keras\r\n",
        "    from tensorflow.keras.models import Sequential\r\n",
        "    from tensorflow.keras.layers import Flatten, Dense, Dropout, Input\r\n",
        "    self.nn = Sequential()\r\n",
        "    self.nn.add(Input(shape=(n_features,))) \r\n",
        "    self.nn.add(Dense(1024, activation='relu')) \r\n",
        "    self.nn.add(Dropout(0.2)) \r\n",
        "    self.nn.add(Dense(512, activation='relu')) \r\n",
        "    self.nn.add(Dropout(0.2)) \r\n",
        "    self.nn.add(Dense(256, activation='relu')) \r\n",
        "    self.nn.add(Dropout(0.2))\r\n",
        "    self.nn.add(Dense(128, activation='relu')) \r\n",
        "    self.nn.add(Dropout(0.2))\r\n",
        "    self.nn.add(Dense(24, activation='relu')) \r\n",
        "    self.nn.add(Dropout(0.2))\r\n",
        "    self.nn.add(Dense(4, activation='relu')) \r\n",
        "    self.nn.add(Dropout(0.2))\r\n",
        "    self.nn.add(Dense(1, activation='sigmoid')) \r\n",
        "\r\n",
        "    self.nn.compile( loss='binary_crossentropy', optimizer='adam', metrics=['accuracy'])\r\n",
        "    return f'{self.name} initialized'\r\n",
        "\r\n",
        "  def train_nn(self, X_train, y_train):\r\n",
        "    from sklearn.model_selection import train_test_split\r\n",
        "    X_train, X_val, y_train, y_val = train_test_split(X_train, y_train, test_size=0.2, random_state=42)\r\n",
        "    history = self.nn.fit(X_train.to_numpy(), y_train, \r\n",
        "                          epochs=20, batch_size=2000, \r\n",
        "                          # epochs=20, batch_size=2000, \r\n",
        "                          validation_data=(X_val.to_numpy(), y_val), verbose=1, shuffle = True)\r\n",
        "    return f'{self.name} trained.'\r\n",
        "\r\n",
        "  #override\r\n",
        "  def proba_predictions(self, X_val): # restituisce le probabilità\r\n",
        "    if not self.nn:\r\n",
        "      return f'{self.name} is not declared. You need to use init_nn'\r\n",
        "    self.proba = self.nn.predict(X_val.to_numpy())#, validate_features = False)\r\n",
        "    return self.proba\r\n",
        "\r\n",
        "  #override\r\n",
        "  def aggregate(self, soglia = 0.5): # resituisce la classe\r\n",
        "    self.prediction = []\r\n",
        "    for proba in self.proba:\r\n",
        "      if proba > soglia:\r\n",
        "        self.prediction.append(1)\r\n",
        "      else:\r\n",
        "        self.prediction.append(0)\r\n",
        "    return f'Classification has been councluded!'"
      ],
      "execution_count": 9,
      "outputs": []
    },
    {
      "cell_type": "code",
      "metadata": {
        "id": "72mPUBaza2zv"
      },
      "source": [
        "class ensemble(model): # child class di model\r\n",
        "  name = 'Ensemble'\r\n",
        "  # come model_dict passare il dizionario in cui si salvano gli ensemble\r\n",
        "\r\n",
        "  #override \r\n",
        "  def proba_predictions(self, model_dict, X_val): # restituisce le probabilità predette \r\n",
        "    prob = []\r\n",
        "    for t in model_dict:\r\n",
        "      if model_dict[t].name == 'XGBoost':\r\n",
        "        prob.append(model_dict[t].proba_predictions(X_val)[:,1])\r\n",
        "      if model_dict[t].name == 'Neural network':\r\n",
        "        prob.append(model_dict[t].proba_predictions(X_val))\r\n",
        "    self.proba = np.mean(prob, axis = 0)\r\n",
        "    return f'Proba acquired.'\r\n",
        "  \r\n",
        "  #override\r\n",
        "  def aggregate(self, soglia = 0.05): # restituisce la classe predetta \r\n",
        "    for proba in self.proba:\r\n",
        "      if proba > soglia:\r\n",
        "        self.prediction.append(1)\r\n",
        "      else:\r\n",
        "        self.prediction.append(0)\r\n",
        "    return f'Classification has been councluded!'"
      ],
      "execution_count": 10,
      "outputs": []
    },
    {
      "cell_type": "code",
      "metadata": {
        "id": "T6Neus5uAUhU"
      },
      "source": [
        "def get_t_id(data, id, id_fraud, t, init_splits, incoming_splits): # restituisce la lista degli id corrispondente all'istante temporale t \r\n",
        "  '''\r\n",
        "  data: dataset da cui selezionare le transazioni\r\n",
        "  id: lista con gli id delle righe\r\n",
        "  t: istante temporale\r\n",
        "  init_splits: split totali in cui sarà diviso il dataset\r\n",
        "  incoming_splits: nuovi split che arrivano ad ogni nuovo dt, e su cui si allena il nuovo modello\r\n",
        "  out\r\n",
        "  id_list: lista con gli id delle righe selezionate a seconda dell'istante temporale specificato  \r\n",
        "  '''\r\n",
        "  id_list = [] # lista che conterrà le righe da usare al tempo t\r\n",
        "  id_list_fraud = [] # lista che conterrà le righe con transazioni fraud da usare al tempo t\r\n",
        "\r\n",
        "  if t == 0: \r\n",
        "    start = 0\r\n",
        "    end = init_splits\r\n",
        "  else:\r\n",
        "    start = incoming_splits * (t - 1) + init_splits\r\n",
        "    end = start + incoming_splits\r\n",
        "\r\n",
        "  if t == 1:\r\n",
        "    start_fraud = 0\r\n",
        "    end_fraud = init_splits\r\n",
        "  else:\r\n",
        "    start_fraud = 0\r\n",
        "    end_fraud = incoming_splits * (t - 1) + init_splits + incoming_splits \r\n",
        "\r\n",
        "    \r\n",
        "\r\n",
        "  for n in range(start,end):\r\n",
        "    id_list += id[n]\r\n",
        "  \r\n",
        "  if t > 0:\r\n",
        "    for n in range(start_fraud, end_fraud):\r\n",
        "      id_list_fraud += id_fraud[n]\r\n",
        "\r\n",
        "  return id_list, id_list_fraud"
      ],
      "execution_count": 11,
      "outputs": []
    },
    {
      "cell_type": "code",
      "metadata": {
        "id": "H6Zv9r_eD1Nr"
      },
      "source": [
        "def train_model(sel_model, last_model, data, id_t, id_fraud_t, keep_fraud, keep_safe): # funzione per sistemare il dataset e trainare il modello\r\n",
        "  '''\r\n",
        "  sel_model: modello da trainare\r\n",
        "  data: dataset\r\n",
        "  id_t: id delle righe su cui trainare il modello\r\n",
        "  '''\r\n",
        "  import random \r\n",
        "\r\n",
        "\r\n",
        "\r\n",
        "  # Train test split\r\n",
        "  subset = sel_model.get_set(data, id_t) # seleziono il subset su cui il modello si allenerà\r\n",
        "  X_train, X_val, y_train, y_val = mf.split(subset, test_size = 0.2) # train test split\r\n",
        "\r\n",
        "  # unione transazioni fraudolente degli step precedenti\r\n",
        "  if keep_fraud:\r\n",
        "    X_train_fraud = sel_model.get_set(data, id_fraud_t)\r\n",
        "    X_train_fraud.drop(columns = ['isFraud'], inplace = True)\r\n",
        "  if keep_safe:\r\n",
        "    sample_size = int(np.ceil(len(last_model.train_id) * 0.1))\r\n",
        "    id_safe_t = random.sample(last_model.train_id, sample_size)\r\n",
        "    X_train_safe = last_model.get_set(data, id_safe_t)\r\n",
        "    X_train_safe.drop(columns = ['isFraud'], inplace = True)\r\n",
        "\r\n",
        "  if keep_safe and keep_fraud:\r\n",
        "    X_train = pd.concat([X_train, X_train_fraud, X_train_safe])\r\n",
        "    y_train_safe = np.zeros(X_train_safe.shape[0])\r\n",
        "    y_train_fraud = np.ones(X_train_fraud.shape[0])\r\n",
        "    y_train = np.concatenate((y_train, y_train_fraud, y_train_safe), axis=None)\r\n",
        "\r\n",
        "  if keep_safe and not keep_fraud:\r\n",
        "    X_train = pd.concat([X_train, X_train_fraud])\r\n",
        "    y_train_fraud = np.ones(X_train_fraud.shape[0])\r\n",
        "    y_train = np.concatenate((y_train, y_train_fraud), axis=None)\r\n",
        "\r\n",
        "  # salvataggio degli id nel modello\r\n",
        "  sel_model.train_id = X_train.index.tolist() # salvo gli id del training set \r\n",
        "  sel_model.val_id = X_val.index.tolist() # salvo gli id del test set\r\n",
        "\r\n",
        "  # Training del modello\r\n",
        "  print('Training', sel_model.name)\r\n",
        "  if sel_model.name == 'XGBoost':\r\n",
        "    sel_model.init_xgb() # inizializzo xgb\r\n",
        "    sel_model.train_xgb(X_train, y_train) # train di xgb \r\n",
        "\r\n",
        "  if sel_model.name == 'svm':\r\n",
        "    sel_model.init_svm() # inizializzo xgb\r\n",
        "    sel_model.train_svm(X_train, y_train) # train di xgb \r\n",
        "  \r\n",
        "  if sel_model.name == 'Neural network':\r\n",
        "    n_features = X_train.shape[1]\r\n",
        "    sel_model.init_nn(n_features)\r\n",
        "    sel_model.train_nn(X_train, y_train)\r\n",
        "\r\n",
        "  return f'Training ended. \\n'"
      ],
      "execution_count": 12,
      "outputs": []
    },
    {
      "cell_type": "code",
      "metadata": {
        "id": "wwC4yBClLSUs"
      },
      "source": [
        "def test_model(sel_model, model_dict, t, data, soglia): # test del modello\r\n",
        "  '''\r\n",
        "  in\r\n",
        "  sel_model: modello da trainare\r\n",
        "  model_dict: dizionario contenente i vari modelli\r\n",
        "  t: istante temporale\r\n",
        "  data: dataset\r\n",
        "  soglia: soglia sulla probabilità \r\n",
        "  '''\r\n",
        "  id_list = []\r\n",
        "  for i in model_dict:\r\n",
        "    id_list += model_dict[i].val_id\r\n",
        "  # id_list = last_model.val_id # seleziono le righe su cui va validato l'ultimo modello\r\n",
        "  subset = sel_model.get_set(data, id_list) # seleziono il set su cui valido i dati\r\n",
        "  y_val = subset['isFraud']\r\n",
        "  X_val = subset.drop(columns=['isFraud'], axis = 1)\r\n",
        "\r\n",
        "  sel_model.proba_predictions(X_val) # predict_proba\r\n",
        "  sel_model.aggregate(soglia = soglia) # predict\r\n",
        "\r\n",
        "  sel_model.performance(y_val, soglia = soglia) # valuta le performance del modello\r\n",
        "  return "
      ],
      "execution_count": 13,
      "outputs": []
    },
    {
      "cell_type": "code",
      "metadata": {
        "id": "oTVI-DcxJECb"
      },
      "source": [
        "def test_ensemble(ens, model_dict, t, data, id_t, soglia): # testa le performance dell'ensemble\r\n",
        "  '''\r\n",
        "  ens: ensemble da testare \r\n",
        "  model_dict: dizionario con i modelli\r\n",
        "  t: istante temporale\r\n",
        "  data: dataset\r\n",
        "  id_t: righe da usare all'istante t-esimo\r\n",
        "  '''\r\n",
        "  id_list = []\r\n",
        "  for i in model_dict:\r\n",
        "    id_list += model_dict[i].val_id\r\n",
        "  subset = model_dict[t].get_set(data, id_list) # seleziono il set su cui valido i dati\r\n",
        "  # subset = model_dict[t].get_set(data, id_t) # seleziono il set su cui valido i dati\r\n",
        "  y_val = subset['isFraud']\r\n",
        "  X_val = subset.drop(columns=['isFraud'], axis = 1)\r\n",
        "  ens.proba_predictions(model_dict, X_val) # predict_proba dell'ensemble\r\n",
        "  ens.aggregate(soglia = soglia) # predict dell'ensemble\r\n",
        "  ens.performance(y_val, soglia = soglia) # valuto le performance\r\n",
        "  return f'Ensemble testing ended. \\n'"
      ],
      "execution_count": 14,
      "outputs": []
    },
    {
      "cell_type": "code",
      "metadata": {
        "id": "tCjWWWdCfsix"
      },
      "source": [
        "def get_best_model(xgb, nn, svm):\r\n",
        "  import operator\r\n",
        "  scores = {\r\n",
        "      xgb: xgb.score, \r\n",
        "      nn: nn.score, \r\n",
        "      svm: svm.score}\r\n",
        "\r\n",
        "  return max(scores.items(), key=operator.itemgetter(1))[0]\r\n",
        "  # if xgb.score > nn.score:\r\n",
        "  #   return xgb\r\n",
        "  # else:\r\n",
        "  #   return nn"
      ],
      "execution_count": 15,
      "outputs": []
    },
    {
      "cell_type": "code",
      "metadata": {
        "id": "_GaailvFPVir"
      },
      "source": [
        "def dinamic_model(data, id, id_fraud, init_splits, incoming_splits, tot_splits, keep_fraud, keep_safe):\r\n",
        "  tmax = np.ceil((tot_splits - init_splits) / incoming_splits)\r\n",
        "  model_dict = {}\r\n",
        "  xgb_dict = {}\r\n",
        "  nn_dict = {}\r\n",
        "  svm_dict = {}\r\n",
        "  ensemble_dict = {}\r\n",
        "  soglia_xgb = 0.7 # 0.05\r\n",
        "  soglia_nn = 0.7\r\n",
        "  soglia_svm = 0.5\r\n",
        "  soglia_ens = 0.5\r\n",
        "\r\n",
        "  for t in range(int(tmax + 1)):\r\n",
        "    print('Time ', t)\r\n",
        "    id_t, id_fraud_t = get_t_id(data, id, id_fraud, t, init_splits, incoming_splits) # ottengo gli id delle righe da usare al tempo t-esimo\r\n",
        "    # model_dict[t] = model(t) # inizializzo il modello t-esimo \r\n",
        "    xgb_dict[t] = model(t)\r\n",
        "    nn_dict[t] = nn(t)\r\n",
        "    svm_dict[t] = svm(t)\r\n",
        "    if t == 0:\r\n",
        "      # train_model(model_dict[t], None, data, id_t, id_fraud_t, keep_fraud = False, keep_safe = False) # train e test del modello t-esimo\r\n",
        "      train_model(xgb_dict[t], None, data, id_t, id_fraud_t, keep_fraud = False, keep_safe = False) # train e test del modello t-esimo\r\n",
        "      train_model(nn_dict[t], None, data, id_t, id_fraud_t, keep_fraud = False, keep_safe = False) # train e test del modello t-esimo\r\n",
        "      train_model(svm_dict[t], None, data, id_t, id_fraud_t, keep_fraud = False, keep_safe = False) # train e test del modello t-esimo\r\n",
        "      \r\n",
        "      test_model(xgb_dict[t], xgb_dict, t, data, soglia_xgb)\r\n",
        "      test_model(nn_dict[t], nn_dict, t, data, soglia_nn)\r\n",
        "      test_model(svm_dict[t], nn_dict, t, data, soglia_nn)\r\n",
        "      model_dict[t] = get_best_model(xgb_dict[t], nn_dict[t], svm_dict[t])\r\n",
        "      print(model_dict[t].name, 'has been chosen.')\r\n",
        "\r\n",
        "    if t > 0:\r\n",
        "      # train_model(model_dict[t], model_dict[t-1], data, id_t, id_fraud_t, keep_fraud, keep_safe) # train e test del modello t-esimo\r\n",
        "      train_model(xgb_dict[t], model_dict[t-1], data, id_t, id_fraud_t, keep_fraud, keep_safe) # train e test del modello t-esimo\r\n",
        "      train_model(nn_dict[t], model_dict[t-1], data, id_t, id_fraud_t, keep_fraud, keep_safe) # train e test del modello t-esimo\r\n",
        "      train_model(svm_dict[t], model_dict[t-1], data, id_t, id_fraud_t, keep_fraud, keep_safe) # train e test del modello t-esimo\r\n",
        "      \r\n",
        "      test_model(xgb_dict[t], xgb_dict, t, data, soglia_xgb)\r\n",
        "      test_model(nn_dict[t], nn_dict, t, data, soglia_nn)\r\n",
        "      test_model(svm_dict[t], svm_dict, t, data, soglia_nn)\r\n",
        "      model_dict[t] = get_best_model(xgb_dict[t], nn_dict[t], svm_dict[t])\r\n",
        "      print(model_dict[t].name, 'has been chosen.')\r\n",
        "\r\n",
        "      ensemble_dict[t] = ensemble(t) # inizializzo l'ensemble t-esimo\r\n",
        "      test_ensemble(ensemble_dict[t], model_dict, t, data, id_t, soglia_ens) # testo l'ensemble\r\n",
        "    # for i in model_dict:\r\n",
        "    #   test_model(model_dict[i], model_dict, t, data, soglia)\r\n",
        "\r\n",
        "  return model_dict, ensemble_dict"
      ],
      "execution_count": 16,
      "outputs": []
    },
    {
      "cell_type": "code",
      "metadata": {
        "colab": {
          "base_uri": "https://localhost:8080/",
          "height": 1000
        },
        "id": "FiXWYKJ69d5J",
        "outputId": "c4fe2c37-dda3-4209-d497-6a2a7dea99bb"
      },
      "source": [
        "id, id_fraud = get_split_id(data, init_splits, incoming_splits, tot_splits) # splitta le righe in base agli split dichiarati\r\n",
        "model_dict, ensemble_dict = dinamic_model(data, id, id_fraud, init_splits, incoming_splits, tot_splits, keep_fraud = True, keep_safe = True)"
      ],
      "execution_count": 17,
      "outputs": [
        {
          "output_type": "stream",
          "text": [
            "Time  0\n",
            "Training XGBoost\n",
            "Training Neural network\n",
            "Epoch 1/20\n",
            "85/85 [==============================] - 4s 32ms/step - loss: 0.2712 - accuracy: 0.9633 - val_loss: 0.1196 - val_accuracy: 0.9668\n",
            "Epoch 2/20\n",
            "85/85 [==============================] - 2s 21ms/step - loss: 0.1631 - accuracy: 0.9666 - val_loss: 0.1135 - val_accuracy: 0.9668\n",
            "Epoch 3/20\n",
            "85/85 [==============================] - 2s 21ms/step - loss: 0.1449 - accuracy: 0.9665 - val_loss: 0.1103 - val_accuracy: 0.9668\n",
            "Epoch 4/20\n",
            "85/85 [==============================] - 2s 22ms/step - loss: 0.1297 - accuracy: 0.9668 - val_loss: 0.1094 - val_accuracy: 0.9668\n",
            "Epoch 5/20\n",
            "85/85 [==============================] - 2s 21ms/step - loss: 0.1253 - accuracy: 0.9669 - val_loss: 0.1044 - val_accuracy: 0.9668\n",
            "Epoch 6/20\n",
            "85/85 [==============================] - 2s 20ms/step - loss: 0.1229 - accuracy: 0.9662 - val_loss: 0.1021 - val_accuracy: 0.9668\n",
            "Epoch 7/20\n",
            "85/85 [==============================] - 2s 21ms/step - loss: 0.1174 - accuracy: 0.9669 - val_loss: 0.1014 - val_accuracy: 0.9668\n",
            "Epoch 8/20\n",
            "85/85 [==============================] - 2s 21ms/step - loss: 0.1173 - accuracy: 0.9669 - val_loss: 0.1043 - val_accuracy: 0.9668\n",
            "Epoch 9/20\n",
            "85/85 [==============================] - 2s 21ms/step - loss: 0.1123 - accuracy: 0.9671 - val_loss: 0.1020 - val_accuracy: 0.9668\n",
            "Epoch 10/20\n",
            "85/85 [==============================] - 2s 21ms/step - loss: 0.1105 - accuracy: 0.9672 - val_loss: 0.0999 - val_accuracy: 0.9668\n",
            "Epoch 11/20\n",
            "85/85 [==============================] - 2s 21ms/step - loss: 0.1105 - accuracy: 0.9671 - val_loss: 0.1010 - val_accuracy: 0.9668\n",
            "Epoch 12/20\n",
            "85/85 [==============================] - 2s 23ms/step - loss: 0.1107 - accuracy: 0.9672 - val_loss: 0.0984 - val_accuracy: 0.9668\n",
            "Epoch 13/20\n",
            "85/85 [==============================] - 2s 21ms/step - loss: 0.1083 - accuracy: 0.9666 - val_loss: 0.1084 - val_accuracy: 0.9668\n",
            "Epoch 14/20\n",
            "85/85 [==============================] - 2s 21ms/step - loss: 0.1077 - accuracy: 0.9670 - val_loss: 0.0958 - val_accuracy: 0.9732\n",
            "Epoch 15/20\n",
            "85/85 [==============================] - 2s 21ms/step - loss: 0.1031 - accuracy: 0.9720 - val_loss: 0.0951 - val_accuracy: 0.9733\n",
            "Epoch 16/20\n",
            "85/85 [==============================] - 2s 21ms/step - loss: 0.1020 - accuracy: 0.9732 - val_loss: 0.0932 - val_accuracy: 0.9741\n",
            "Epoch 17/20\n",
            "85/85 [==============================] - 2s 21ms/step - loss: 0.0986 - accuracy: 0.9732 - val_loss: 0.0926 - val_accuracy: 0.9737\n",
            "Epoch 18/20\n",
            "85/85 [==============================] - 2s 21ms/step - loss: 0.0954 - accuracy: 0.9748 - val_loss: 0.0924 - val_accuracy: 0.9742\n",
            "Epoch 19/20\n",
            "85/85 [==============================] - 2s 21ms/step - loss: 0.0964 - accuracy: 0.9747 - val_loss: 0.0926 - val_accuracy: 0.9745\n",
            "Epoch 20/20\n",
            "85/85 [==============================] - 2s 22ms/step - loss: 0.0970 - accuracy: 0.9741 - val_loss: 0.0926 - val_accuracy: 0.9752\n",
            "Training svm\n",
            "\n",
            "\n",
            "Confusion matrix of model XGBoost of time 0\n"
          ],
          "name": "stdout"
        },
        {
          "output_type": "display_data",
          "data": {
            "image/png": "[encoded data removed]",
            "text/plain": [
              "<Figure size 360x360 with 2 Axes>"
            ]
          },
          "metadata": {
            "tags": [],
            "needs_background": "light"
          }
        },
        {
          "output_type": "stream",
          "text": [
            "\n",
            "\n",
            "Model f1 score:  0.78\n",
            "Model roc auc score:  0.83\n",
            "Model recall:  0.65\n",
            "Model precision:  0.98\n",
            "\n",
            "\n",
            "\n",
            "\n",
            "Confusion matrix of model Neural network of time 0\n"
          ],
          "name": "stdout"
        },
        {
          "output_type": "display_data",
          "data": {
            "image/png": "[encoded data removed]",
            "text/plain": [
              "<Figure size 360x360 with 2 Axes>"
            ]
          },
          "metadata": {
            "tags": [],
            "needs_background": "light"
          }
        },
        {
          "output_type": "stream",
          "text": [
            "\n",
            "\n",
            "Model f1 score:  0.39\n",
            "Model roc auc score:  0.62\n",
            "Model recall:  0.25\n",
            "Model precision:  0.9\n",
            "\n",
            "\n",
            "\n",
            "\n",
            "Confusion matrix of model svm of time 0\n"
          ],
          "name": "stdout"
        },
        {
          "output_type": "display_data",
          "data": {
            "image/png": "[encoded data removed]",
            "text/plain": [
              "<Figure size 360x360 with 2 Axes>"
            ]
          },
          "metadata": {
            "tags": [],
            "needs_background": "light"
          }
        },
        {
          "output_type": "stream",
          "text": [
            "\n",
            "\n",
            "Model f1 score:  0.21\n",
            "Model roc auc score:  0.78\n",
            "Model recall:  0.75\n",
            "Model precision:  0.12\n",
            "\n",
            "\n",
            "XGBoost has been chosen.\n",
            "Time  1\n"
          ],
          "name": "stdout"
        },
        {
          "output_type": "stream",
          "text": [
            "/usr/local/lib/python3.6/dist-packages/pandas/core/frame.py:4174: SettingWithCopyWarning: \n",
            "A value is trying to be set on a copy of a slice from a DataFrame\n",
            "\n",
            "See the caveats in the documentation: https://pandas.pydata.org/pandas-docs/stable/user_guide/indexing.html#returning-a-view-versus-a-copy\n",
            "  errors=errors,\n"
          ],
          "name": "stderr"
        },
        {
          "output_type": "stream",
          "text": [
            "Training XGBoost\n",
            "Training Neural network\n",
            "Epoch 1/20\n",
            "50/50 [==============================] - 3s 32ms/step - loss: 0.4187 - accuracy: 0.8661 - val_loss: 0.2558 - val_accuracy: 0.9027\n",
            "Epoch 2/20\n",
            "50/50 [==============================] - 1s 21ms/step - loss: 0.2944 - accuracy: 0.9007 - val_loss: 0.2302 - val_accuracy: 0.9027\n",
            "Epoch 3/20\n",
            "50/50 [==============================] - 1s 22ms/step - loss: 0.2765 - accuracy: 0.9015 - val_loss: 0.2296 - val_accuracy: 0.9027\n",
            "Epoch 4/20\n",
            "50/50 [==============================] - 1s 21ms/step - loss: 0.2648 - accuracy: 0.9064 - val_loss: 0.2117 - val_accuracy: 0.9206\n",
            "Epoch 5/20\n",
            "50/50 [==============================] - 1s 22ms/step - loss: 0.2515 - accuracy: 0.9176 - val_loss: 0.2046 - val_accuracy: 0.9232\n",
            "Epoch 6/20\n",
            "50/50 [==============================] - 1s 21ms/step - loss: 0.2439 - accuracy: 0.9216 - val_loss: 0.2004 - val_accuracy: 0.9268\n",
            "Epoch 7/20\n",
            "50/50 [==============================] - 1s 22ms/step - loss: 0.2309 - accuracy: 0.9265 - val_loss: 0.2040 - val_accuracy: 0.9230\n",
            "Epoch 8/20\n",
            "50/50 [==============================] - 1s 21ms/step - loss: 0.2309 - accuracy: 0.9268 - val_loss: 0.1957 - val_accuracy: 0.9275\n",
            "Epoch 9/20\n",
            "50/50 [==============================] - 1s 21ms/step - loss: 0.2238 - accuracy: 0.9294 - val_loss: 0.1892 - val_accuracy: 0.9303\n",
            "Epoch 10/20\n",
            "50/50 [==============================] - 1s 25ms/step - loss: 0.2152 - accuracy: 0.9335 - val_loss: 0.1904 - val_accuracy: 0.9313\n",
            "Epoch 11/20\n",
            "50/50 [==============================] - 1s 21ms/step - loss: 0.2164 - accuracy: 0.9331 - val_loss: 0.1917 - val_accuracy: 0.9319\n",
            "Epoch 12/20\n",
            "50/50 [==============================] - 1s 22ms/step - loss: 0.2118 - accuracy: 0.9327 - val_loss: 0.1901 - val_accuracy: 0.9329\n",
            "Epoch 13/20\n",
            "50/50 [==============================] - 1s 21ms/step - loss: 0.2065 - accuracy: 0.9355 - val_loss: 0.1862 - val_accuracy: 0.9327\n",
            "Epoch 14/20\n",
            "50/50 [==============================] - 1s 22ms/step - loss: 0.2036 - accuracy: 0.9366 - val_loss: 0.1842 - val_accuracy: 0.9351\n",
            "Epoch 15/20\n",
            "50/50 [==============================] - 1s 22ms/step - loss: 0.1987 - accuracy: 0.9375 - val_loss: 0.1948 - val_accuracy: 0.9333\n",
            "Epoch 16/20\n",
            "50/50 [==============================] - 1s 22ms/step - loss: 0.1993 - accuracy: 0.9374 - val_loss: 0.1858 - val_accuracy: 0.9352\n",
            "Epoch 17/20\n",
            "50/50 [==============================] - 1s 21ms/step - loss: 0.1936 - accuracy: 0.9394 - val_loss: 0.1870 - val_accuracy: 0.9339\n",
            "Epoch 18/20\n",
            "50/50 [==============================] - 1s 22ms/step - loss: 0.1943 - accuracy: 0.9385 - val_loss: 0.1845 - val_accuracy: 0.9349\n",
            "Epoch 19/20\n",
            "50/50 [==============================] - 1s 21ms/step - loss: 0.1922 - accuracy: 0.9398 - val_loss: 0.1858 - val_accuracy: 0.9363\n",
            "Epoch 20/20\n",
            "50/50 [==============================] - 1s 21ms/step - loss: 0.1879 - accuracy: 0.9404 - val_loss: 0.1840 - val_accuracy: 0.9351\n",
            "Training svm\n",
            "\n",
            "\n",
            "Confusion matrix of model XGBoost of time 1\n"
          ],
          "name": "stdout"
        },
        {
          "output_type": "display_data",
          "data": {
            "image/png": "[encoded data removed]",
            "text/plain": [
              "<Figure size 360x360 with 2 Axes>"
            ]
          },
          "metadata": {
            "tags": [],
            "needs_background": "light"
          }
        },
        {
          "output_type": "stream",
          "text": [
            "\n",
            "\n",
            "Model f1 score:  0.79\n",
            "Model roc auc score:  0.94\n",
            "Model recall:  0.88\n",
            "Model precision:  0.72\n",
            "\n",
            "\n",
            "\n",
            "\n",
            "Confusion matrix of model Neural network of time 1\n"
          ],
          "name": "stdout"
        },
        {
          "output_type": "display_data",
          "data": {
            "image/png": "[encoded data removed]",
            "text/plain": [
              "<Figure size 360x360 with 2 Axes>"
            ]
          },
          "metadata": {
            "tags": [],
            "needs_background": "light"
          }
        },
        {
          "output_type": "stream",
          "text": [
            "\n",
            "\n",
            "Model f1 score:  0.45\n",
            "Model roc auc score:  0.7\n",
            "Model recall:  0.41\n",
            "Model precision:  0.49\n",
            "\n",
            "\n",
            "\n",
            "\n",
            "Confusion matrix of model svm of time 1\n"
          ],
          "name": "stdout"
        },
        {
          "output_type": "display_data",
          "data": {
            "image/png": "[encoded data removed]",
            "text/plain": [
              "<Figure size 360x360 with 2 Axes>"
            ]
          },
          "metadata": {
            "tags": [],
            "needs_background": "light"
          }
        },
        {
          "output_type": "stream",
          "text": [
            "\n",
            "\n",
            "Model f1 score:  0.13\n",
            "Model roc auc score:  0.71\n",
            "Model recall:  0.8\n",
            "Model precision:  0.07\n",
            "\n",
            "\n",
            "XGBoost has been chosen.\n",
            "\n",
            "\n",
            "Confusion matrix of model Ensemble of time 1\n"
          ],
          "name": "stdout"
        },
        {
          "output_type": "display_data",
          "data": {
            "image/png": "[encoded data removed]",
            "text/plain": [
              "<Figure size 360x360 with 2 Axes>"
            ]
          },
          "metadata": {
            "tags": [],
            "needs_background": "light"
          }
        },
        {
          "output_type": "stream",
          "text": [
            "\n",
            "\n",
            "Model f1 score:  0.73\n",
            "Model roc auc score:  0.79\n",
            "Model recall:  0.59\n",
            "Model precision:  0.97\n",
            "\n",
            "\n",
            "Time  2\n"
          ],
          "name": "stdout"
        },
        {
          "output_type": "stream",
          "text": [
            "/usr/local/lib/python3.6/dist-packages/pandas/core/frame.py:4174: SettingWithCopyWarning: \n",
            "A value is trying to be set on a copy of a slice from a DataFrame\n",
            "\n",
            "See the caveats in the documentation: https://pandas.pydata.org/pandas-docs/stable/user_guide/indexing.html#returning-a-view-versus-a-copy\n",
            "  errors=errors,\n"
          ],
          "name": "stderr"
        },
        {
          "output_type": "stream",
          "text": [
            "Training XGBoost\n",
            "Training Neural network\n",
            "Epoch 1/20\n",
            "46/46 [==============================] - 2s 31ms/step - loss: 0.5369 - accuracy: 0.7675 - val_loss: 0.3587 - val_accuracy: 0.8469\n",
            "Epoch 2/20\n",
            "46/46 [==============================] - 1s 22ms/step - loss: 0.4156 - accuracy: 0.8496 - val_loss: 0.3069 - val_accuracy: 0.8742\n",
            "Epoch 3/20\n",
            "46/46 [==============================] - 1s 22ms/step - loss: 0.3804 - accuracy: 0.8739 - val_loss: 0.2883 - val_accuracy: 0.8833\n",
            "Epoch 4/20\n",
            "46/46 [==============================] - 1s 22ms/step - loss: 0.3645 - accuracy: 0.8832 - val_loss: 0.2740 - val_accuracy: 0.8903\n",
            "Epoch 5/20\n",
            "46/46 [==============================] - 1s 22ms/step - loss: 0.3460 - accuracy: 0.8886 - val_loss: 0.2724 - val_accuracy: 0.9017\n",
            "Epoch 6/20\n",
            "46/46 [==============================] - 1s 22ms/step - loss: 0.3375 - accuracy: 0.8951 - val_loss: 0.2873 - val_accuracy: 0.9007\n",
            "Epoch 7/20\n",
            "46/46 [==============================] - 1s 22ms/step - loss: 0.3365 - accuracy: 0.8975 - val_loss: 0.2568 - val_accuracy: 0.8986\n",
            "Epoch 8/20\n",
            "46/46 [==============================] - 1s 22ms/step - loss: 0.3242 - accuracy: 0.9003 - val_loss: 0.2709 - val_accuracy: 0.9082\n",
            "Epoch 9/20\n",
            "46/46 [==============================] - 1s 22ms/step - loss: 0.3200 - accuracy: 0.9004 - val_loss: 0.2487 - val_accuracy: 0.9039\n",
            "Epoch 10/20\n",
            "46/46 [==============================] - 1s 26ms/step - loss: 0.3101 - accuracy: 0.9036 - val_loss: 0.2463 - val_accuracy: 0.9089\n",
            "Epoch 11/20\n",
            "46/46 [==============================] - 1s 23ms/step - loss: 0.3011 - accuracy: 0.9066 - val_loss: 0.2423 - val_accuracy: 0.9122\n",
            "Epoch 12/20\n",
            "46/46 [==============================] - 1s 22ms/step - loss: 0.2984 - accuracy: 0.9084 - val_loss: 0.2405 - val_accuracy: 0.9123\n",
            "Epoch 13/20\n",
            "46/46 [==============================] - 1s 22ms/step - loss: 0.2956 - accuracy: 0.9096 - val_loss: 0.2382 - val_accuracy: 0.9136\n",
            "Epoch 14/20\n",
            "46/46 [==============================] - 1s 22ms/step - loss: 0.2860 - accuracy: 0.9125 - val_loss: 0.2362 - val_accuracy: 0.9104\n",
            "Epoch 15/20\n",
            "46/46 [==============================] - 1s 22ms/step - loss: 0.2854 - accuracy: 0.9104 - val_loss: 0.2296 - val_accuracy: 0.9134\n",
            "Epoch 16/20\n",
            "46/46 [==============================] - 1s 22ms/step - loss: 0.2765 - accuracy: 0.9155 - val_loss: 0.2348 - val_accuracy: 0.9167\n",
            "Epoch 17/20\n",
            "46/46 [==============================] - 1s 21ms/step - loss: 0.2751 - accuracy: 0.9132 - val_loss: 0.2310 - val_accuracy: 0.9170\n",
            "Epoch 18/20\n",
            "46/46 [==============================] - 1s 22ms/step - loss: 0.2710 - accuracy: 0.9141 - val_loss: 0.2313 - val_accuracy: 0.9139\n",
            "Epoch 19/20\n",
            "46/46 [==============================] - 1s 22ms/step - loss: 0.2691 - accuracy: 0.9154 - val_loss: 0.2247 - val_accuracy: 0.9166\n",
            "Epoch 20/20\n",
            "46/46 [==============================] - 1s 22ms/step - loss: 0.2604 - accuracy: 0.9185 - val_loss: 0.2436 - val_accuracy: 0.9116\n",
            "Training svm\n",
            "\n",
            "\n",
            "Confusion matrix of model XGBoost of time 2\n"
          ],
          "name": "stdout"
        },
        {
          "output_type": "display_data",
          "data": {
            "image/png": "[encoded data removed]",
            "text/plain": [
              "<Figure size 360x360 with 2 Axes>"
            ]
          },
          "metadata": {
            "tags": [],
            "needs_background": "light"
          }
        },
        {
          "output_type": "stream",
          "text": [
            "\n",
            "\n",
            "Model f1 score:  0.37\n",
            "Model roc auc score:  0.92\n",
            "Model recall:  0.95\n",
            "Model precision:  0.23\n",
            "\n",
            "\n",
            "\n",
            "\n",
            "Confusion matrix of model Neural network of time 2\n"
          ],
          "name": "stdout"
        },
        {
          "output_type": "display_data",
          "data": {
            "image/png": "[encoded data removed]",
            "text/plain": [
              "<Figure size 360x360 with 2 Axes>"
            ]
          },
          "metadata": {
            "tags": [],
            "needs_background": "light"
          }
        },
        {
          "output_type": "stream",
          "text": [
            "\n",
            "\n",
            "Model f1 score:  0.23\n",
            "Model roc auc score:  0.76\n",
            "Model recall:  0.66\n",
            "Model precision:  0.14\n",
            "\n",
            "\n",
            "\n",
            "\n",
            "Confusion matrix of model svm of time 2\n"
          ],
          "name": "stdout"
        },
        {
          "output_type": "display_data",
          "data": {
            "image/png": "[encoded data removed]",
            "text/plain": [
              "<Figure size 360x360 with 2 Axes>"
            ]
          },
          "metadata": {
            "tags": [],
            "needs_background": "light"
          }
        },
        {
          "output_type": "stream",
          "text": [
            "\n",
            "\n",
            "Model f1 score:  0.1\n",
            "Model roc auc score:  0.65\n",
            "Model recall:  0.86\n",
            "Model precision:  0.05\n",
            "\n",
            "\n",
            "XGBoost has been chosen.\n",
            "\n",
            "\n",
            "Confusion matrix of model Ensemble of time 2\n"
          ],
          "name": "stdout"
        },
        {
          "output_type": "display_data",
          "data": {
            "image/png": "[encoded data removed]",
            "text/plain": [
              "<Figure size 360x360 with 2 Axes>"
            ]
          },
          "metadata": {
            "tags": [],
            "needs_background": "light"
          }
        },
        {
          "output_type": "stream",
          "text": [
            "\n",
            "\n",
            "Model f1 score:  0.7\n",
            "Model roc auc score:  0.78\n",
            "Model recall:  0.56\n",
            "Model precision:  0.95\n",
            "\n",
            "\n",
            "Time  3\n"
          ],
          "name": "stdout"
        },
        {
          "output_type": "stream",
          "text": [
            "/usr/local/lib/python3.6/dist-packages/pandas/core/frame.py:4174: SettingWithCopyWarning: \n",
            "A value is trying to be set on a copy of a slice from a DataFrame\n",
            "\n",
            "See the caveats in the documentation: https://pandas.pydata.org/pandas-docs/stable/user_guide/indexing.html#returning-a-view-versus-a-copy\n",
            "  errors=errors,\n"
          ],
          "name": "stderr"
        },
        {
          "output_type": "stream",
          "text": [
            "Training XGBoost\n",
            "Training Neural network\n",
            "Epoch 1/20\n",
            "47/47 [==============================] - 3s 32ms/step - loss: 0.5312 - accuracy: 0.7772 - val_loss: 0.3643 - val_accuracy: 0.7978\n",
            "Epoch 2/20\n",
            "47/47 [==============================] - 1s 22ms/step - loss: 0.3960 - accuracy: 0.7963 - val_loss: 0.3227 - val_accuracy: 0.7978\n",
            "Epoch 3/20\n",
            "47/47 [==============================] - 1s 21ms/step - loss: 0.3431 - accuracy: 0.8207 - val_loss: 0.2994 - val_accuracy: 0.8846\n",
            "Epoch 4/20\n",
            "47/47 [==============================] - 1s 22ms/step - loss: 0.3099 - accuracy: 0.8728 - val_loss: 0.2619 - val_accuracy: 0.9038\n",
            "Epoch 5/20\n",
            "47/47 [==============================] - 1s 22ms/step - loss: 0.2928 - accuracy: 0.8800 - val_loss: 0.2675 - val_accuracy: 0.9024\n",
            "Epoch 6/20\n",
            "47/47 [==============================] - 1s 22ms/step - loss: 0.2837 - accuracy: 0.8836 - val_loss: 0.2505 - val_accuracy: 0.9076\n",
            "Epoch 7/20\n",
            "47/47 [==============================] - 1s 22ms/step - loss: 0.2667 - accuracy: 0.8892 - val_loss: 0.2656 - val_accuracy: 0.9049\n",
            "Epoch 8/20\n",
            "47/47 [==============================] - 1s 21ms/step - loss: 0.2684 - accuracy: 0.8890 - val_loss: 0.2403 - val_accuracy: 0.9105\n",
            "Epoch 9/20\n",
            "47/47 [==============================] - 1s 22ms/step - loss: 0.2612 - accuracy: 0.8912 - val_loss: 0.2402 - val_accuracy: 0.9123\n",
            "Epoch 10/20\n",
            "47/47 [==============================] - 1s 22ms/step - loss: 0.2516 - accuracy: 0.8954 - val_loss: 0.2427 - val_accuracy: 0.9091\n",
            "Epoch 11/20\n",
            "47/47 [==============================] - 1s 25ms/step - loss: 0.2521 - accuracy: 0.8934 - val_loss: 0.2391 - val_accuracy: 0.9104\n",
            "Epoch 12/20\n",
            "47/47 [==============================] - 1s 22ms/step - loss: 0.2467 - accuracy: 0.8951 - val_loss: 0.2313 - val_accuracy: 0.9154\n",
            "Epoch 13/20\n",
            "47/47 [==============================] - 1s 22ms/step - loss: 0.2496 - accuracy: 0.8942 - val_loss: 0.2409 - val_accuracy: 0.9071\n",
            "Epoch 14/20\n",
            "47/47 [==============================] - 1s 21ms/step - loss: 0.2418 - accuracy: 0.8955 - val_loss: 0.2303 - val_accuracy: 0.9148\n",
            "Epoch 15/20\n",
            "47/47 [==============================] - 1s 22ms/step - loss: 0.2395 - accuracy: 0.8972 - val_loss: 0.2303 - val_accuracy: 0.9150\n",
            "Epoch 16/20\n",
            "47/47 [==============================] - 1s 22ms/step - loss: 0.2355 - accuracy: 0.8987 - val_loss: 0.2332 - val_accuracy: 0.9136\n",
            "Epoch 17/20\n",
            "47/47 [==============================] - 1s 22ms/step - loss: 0.2330 - accuracy: 0.8989 - val_loss: 0.2302 - val_accuracy: 0.9179\n",
            "Epoch 18/20\n",
            "47/47 [==============================] - 1s 22ms/step - loss: 0.2274 - accuracy: 0.9010 - val_loss: 0.2471 - val_accuracy: 0.9030\n",
            "Epoch 19/20\n",
            "47/47 [==============================] - 1s 22ms/step - loss: 0.2384 - accuracy: 0.8958 - val_loss: 0.2396 - val_accuracy: 0.9179\n",
            "Epoch 20/20\n",
            "47/47 [==============================] - 1s 21ms/step - loss: 0.2269 - accuracy: 0.9005 - val_loss: 0.2303 - val_accuracy: 0.9165\n",
            "Training svm\n",
            "\n",
            "\n",
            "Confusion matrix of model XGBoost of time 3\n"
          ],
          "name": "stdout"
        },
        {
          "output_type": "display_data",
          "data": {
            "image/png": "[encoded data removed]",
            "text/plain": [
              "<Figure size 360x360 with 2 Axes>"
            ]
          },
          "metadata": {
            "tags": [],
            "needs_background": "light"
          }
        },
        {
          "output_type": "stream",
          "text": [
            "\n",
            "\n",
            "Model f1 score:  0.15\n",
            "Model roc auc score:  0.77\n",
            "Model recall:  0.91\n",
            "Model precision:  0.08\n",
            "\n",
            "\n",
            "\n",
            "\n",
            "Confusion matrix of model Neural network of time 3\n"
          ],
          "name": "stdout"
        },
        {
          "output_type": "display_data",
          "data": {
            "image/png": "[encoded data removed]",
            "text/plain": [
              "<Figure size 360x360 with 2 Axes>"
            ]
          },
          "metadata": {
            "tags": [],
            "needs_background": "light"
          }
        },
        {
          "output_type": "stream",
          "text": [
            "\n",
            "\n",
            "Model f1 score:  0.12\n",
            "Model roc auc score:  0.67\n",
            "Model recall:  0.68\n",
            "Model precision:  0.07\n",
            "\n",
            "\n",
            "\n",
            "\n",
            "Confusion matrix of model svm of time 3\n"
          ],
          "name": "stdout"
        },
        {
          "output_type": "display_data",
          "data": {
            "image/png": "[encoded data removed]",
            "text/plain": [
              "<Figure size 360x360 with 2 Axes>"
            ]
          },
          "metadata": {
            "tags": [],
            "needs_background": "light"
          }
        },
        {
          "output_type": "stream",
          "text": [
            "\n",
            "\n",
            "Model f1 score:  0.09\n",
            "Model roc auc score:  0.61\n",
            "Model recall:  0.87\n",
            "Model precision:  0.05\n",
            "\n",
            "\n",
            "XGBoost has been chosen.\n",
            "\n",
            "\n",
            "Confusion matrix of model Ensemble of time 3\n"
          ],
          "name": "stdout"
        },
        {
          "output_type": "display_data",
          "data": {
            "image/png": "[encoded data removed]",
            "text/plain": [
              "<Figure size 360x360 with 2 Axes>"
            ]
          },
          "metadata": {
            "tags": [],
            "needs_background": "light"
          }
        },
        {
          "output_type": "stream",
          "text": [
            "\n",
            "\n",
            "Model f1 score:  0.72\n",
            "Model roc auc score:  0.81\n",
            "Model recall:  0.63\n",
            "Model precision:  0.84\n",
            "\n",
            "\n"
          ],
          "name": "stdout"
        }
      ]
    },
    {
      "cell_type": "code",
      "metadata": {
        "id": "vWYvDvxAVgG9"
      },
      "source": [
        ""
      ],
      "execution_count": 17,
      "outputs": []
    }
  ]
}