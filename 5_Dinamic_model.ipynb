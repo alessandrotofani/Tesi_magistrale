{
  "nbformat": 4,
  "nbformat_minor": 0,
  "metadata": {
    "colab": {
      "name": "5_Dinamic_model_new.ipynb",
      "provenance": [],
      "authorship_tag": "ABX9TyMjnejauhxS1E63+DS92qtg",
      "include_colab_link": true
    },
    "kernelspec": {
      "name": "python3",
      "display_name": "Python 3"
    },
    "accelerator": "GPU"
  },
  "cells": [
    {
      "cell_type": "markdown",
      "metadata": {
        "id": "view-in-github",
        "colab_type": "text"
      },
      "source": [
        "<a href=\"https://colab.research.google.com/github/alessandrotofani/Tesi_magistrale/blob/master/5_Dinamic_model.ipynb\" target=\"_parent\"><img src=\"https://colab.research.google.com/assets/colab-badge.svg\" alt=\"Open In Colab\"/></a>"
      ]
    },
    {
      "cell_type": "markdown",
      "metadata": {
        "id": "z-7rH_UhAPGR"
      },
      "source": [
        "# Import"
      ]
    },
    {
      "cell_type": "code",
      "metadata": {
        "id": "SwkBbxNMK8Fv",
        "colab": {
          "base_uri": "https://localhost:8080/"
        },
        "outputId": "26d472a7-003a-4556-c890-f51964fe2c95"
      },
      "source": [
        "import numpy as np \r\n",
        "import pandas as pd \r\n",
        "import matplotlib\r\n",
        "import matplotlib.pyplot as plt\r\n",
        "import seaborn as sns\r\n",
        "import os\r\n",
        "from google.colab import drive\r\n",
        "drive.mount('/content/drive')\r\n",
        "from sklearn.model_selection import train_test_split"
      ],
      "execution_count": 1,
      "outputs": [
        {
          "output_type": "stream",
          "text": [
            "Drive already mounted at /content/drive; to attempt to forcibly remount, call drive.mount(\"/content/drive\", force_remount=True).\n"
          ],
          "name": "stdout"
        }
      ]
    },
    {
      "cell_type": "code",
      "metadata": {
        "id": "9UBtZ7vSkof3"
      },
      "source": [
        "import sys \r\n",
        "sys.path.append('/content/drive/MyDrive/Tesi_magistrale/Tesi_magistrale')\r\n",
        "import mf"
      ],
      "execution_count": 2,
      "outputs": []
    },
    {
      "cell_type": "code",
      "metadata": {
        "id": "RYEwRKTV1NvR"
      },
      "source": [
        "data = pd.read_csv('/content/drive/MyDrive/Tesi_magistrale/Dataset/IEEE/Output/data.csv')\r\n",
        "data.drop(data.columns[data.columns.str.contains('unnamed',case = False)],axis = 1, inplace = True)"
      ],
      "execution_count": 3,
      "outputs": []
    },
    {
      "cell_type": "markdown",
      "metadata": {
        "id": "ouPK38wK1Ytv"
      },
      "source": [
        "# Feature engineering and scaling"
      ]
    },
    {
      "cell_type": "code",
      "metadata": {
        "id": "8s7dk9_P1QQx"
      },
      "source": [
        "data = mf.feature_engineering(data)\r\n",
        "data = mf.feature_scaling(data)\r\n",
        "data = pd.get_dummies(data)"
      ],
      "execution_count": 4,
      "outputs": []
    },
    {
      "cell_type": "markdown",
      "metadata": {
        "id": "ufgfSciYOIqL"
      },
      "source": [
        "# Dinamic model"
      ]
    },
    {
      "cell_type": "code",
      "metadata": {
        "id": "NdLWKPHvOJb7"
      },
      "source": [
        "init_splits = 4 # numero di split su cui il modello iniziale (t=0) si allena \r\n",
        "incoming_splits = 2 # nuovi split che arrivano ad ogni nuovo dt, e su cui si allena il nuovo modello\r\n",
        "tot_splits = 10 # split totali in cui sarà diviso il dataset"
      ],
      "execution_count": 5,
      "outputs": []
    },
    {
      "cell_type": "code",
      "metadata": {
        "id": "jxTnn6PcOYqE"
      },
      "source": [
        "def get_split_id(data, init_splits, incoming_splits, tot_splits): # serve per splittare il dataset in tot_splits\r\n",
        "  '''\r\n",
        "  in\r\n",
        "  data: dataset che si vuole splittare\r\n",
        "  init_splits: numero di split su cui il modello iniziale (t=0) si allena \r\n",
        "  incoming_splits: nuovi split che arrivano ad ogni nuovo dt, e su cui si allena il nuovo modello\r\n",
        "  tot_splits: split totali in cui sarà diviso il dataset\r\n",
        "  out\r\n",
        "  id: dizionario che contiene (split : id righe selezionate)\r\n",
        "  id_fraud: come id, solo che sono selezionate solo le transazioni fraudolente \r\n",
        "  '''\r\n",
        "  id = {} # dizionario con (split : id_righe)\r\n",
        "  id_fraud = {} # dizionario con (split: id righe transazioni fraudolente)\r\n",
        "  for i in range(tot_splits):\r\n",
        "    id[i] = data[(data['TransactionDT']>=(i/tot_splits)) & (data['TransactionDT']<((i + 1)/tot_splits))].index.tolist()\r\n",
        "    id_fraud[i] = data[(data['TransactionDT']>=(i/tot_splits)) & (data['TransactionDT']<((i + 1)/tot_splits)) & (data['isFraud'] == 1)].index.tolist()\r\n",
        "    \r\n",
        "  return id, id_fraud"
      ],
      "execution_count": 6,
      "outputs": []
    },
    {
      "cell_type": "code",
      "metadata": {
        "id": "PtMpJb8jQ_B1"
      },
      "source": [
        "class model:\r\n",
        "  name = 'XGBoost'\r\n",
        "\r\n",
        "  def __init__(self, t): # costruttore\r\n",
        "    '''\r\n",
        "    in\r\n",
        "    t: istante temporale\r\n",
        "    '''\r\n",
        "    self.t = t\r\n",
        "    self.f1 = 0\r\n",
        "    self.precision = 0\r\n",
        "    self.recall = 0\r\n",
        "    self.roc = 0\r\n",
        "    self.proba = []\r\n",
        "    self.prediction = []\r\n",
        "    self.train_id = [] # lista con le righe su cui il modello si è allenato\r\n",
        "    self.val_id = [] # lista con le righe su cui il modello viene validato\r\n",
        "    return\r\n",
        "\r\n",
        "  def __str__(self): # print dell'oggetto\r\n",
        "    return f\"{self.name}, at time {self.t}, with f1 score of {self.f1}\"\r\n",
        "\r\n",
        "  def init_xgb(self, estimators = 2000, depth = 6): # inizializza xgb 2000, 6\r\n",
        "    import xgboost \r\n",
        "    from xgboost import XGBClassifier\r\n",
        "    self.xgb = XGBClassifier(n_estimators = estimators, max_depth = depth, \r\n",
        "                      objective='binary:logistic', learning_rate = 0.5, \r\n",
        "                      tree_method='gpu_hist')\r\n",
        "    return f'{self.name} at time {self.t}, has been initialized.'\r\n",
        "  \r\n",
        "  def train_xgb(self, X_train, y_train): # traina il modello\r\n",
        "    # self.xgb.fit(X_train.to_numpy(), y_train.to_numpy())\r\n",
        "    self.xgb.fit(X_train.to_numpy(), y_train)\r\n",
        "    return f'{self.name} is now trained!'\r\n",
        "\r\n",
        "  def get_set(self, data, id_list): # restituisce il subset dati gli id delle righe\r\n",
        "    # id_list: è l'elemento id[t] \r\n",
        "    subset = data.iloc[id_list,:]\r\n",
        "    return subset\r\n",
        "\r\n",
        "  def proba_predictions(self, X_val): # restituisce le probabilità\r\n",
        "    if not self.xgb:\r\n",
        "      return f'{self.name} is not declared. You need to use init_xgb'\r\n",
        "    self.proba = self.xgb.predict_proba(X_val, validate_features = False)\r\n",
        "    return self.proba\r\n",
        "\r\n",
        "  def aggregate(self, soglia = 0.05): # resituisce la classe\r\n",
        "    # if not self.proba:\r\n",
        "    #   return f'self.proba is empty. Before aggregate, you need to use proba_predictions'\r\n",
        "    self.prediction = []\r\n",
        "    for proba in self.proba[:,1]:\r\n",
        "      if proba > soglia:\r\n",
        "        self.prediction.append(1)\r\n",
        "      else:\r\n",
        "        self.prediction.append(0)\r\n",
        "    return f'Classification has been councluded!'\r\n",
        "\r\n",
        "  def performance(self, y_val, soglia = 0.05): # printa le performance del modello \r\n",
        "    from sklearn.metrics import roc_auc_score, f1_score, recall_score, precision_score\r\n",
        "    \r\n",
        "    print('\\n')\r\n",
        "    print('Confusion matrix of model', self.name,'of time', self.t)\r\n",
        "    mf.plot_cm(y_val, self.prediction, 'Blues', p = soglia, dynamic = True)\r\n",
        "    \r\n",
        "    self.score = f1_score(y_val, self.prediction).round(2)\r\n",
        "    self.roc = roc_auc_score(y_val, self.prediction).round(2)\r\n",
        "    self.precision = precision_score(y_val, self.prediction,  average='binary').round(2)\r\n",
        "    self.recall = recall_score(y_val, self.prediction, average='binary').round(2)\r\n",
        "\r\n",
        "    print('\\n')\r\n",
        "    print('Model f1 score: ', self.score)\r\n",
        "    print('Model roc auc score: ', self.roc)\r\n",
        "    print('Model recall: ', self.recall)\r\n",
        "    print('Model precision: ', self.precision)\r\n",
        "    print('\\n')\r\n",
        "    return "
      ],
      "execution_count": 7,
      "outputs": []
    },
    {
      "cell_type": "code",
      "metadata": {
        "id": "AlIsUnQQZ8nU"
      },
      "source": [
        "class nn(model):\r\n",
        "  name = 'Neural network'\r\n",
        "\r\n",
        "  def init_nn(self, n_features):\r\n",
        "    import tensorflow as tf\r\n",
        "    from tensorflow import keras\r\n",
        "    from tensorflow.keras.models import Sequential\r\n",
        "    from tensorflow.keras.layers import Flatten, Dense, Dropout, Input\r\n",
        "    self.nn = Sequential()\r\n",
        "    self.nn.add(Input(shape=(n_features,))) \r\n",
        "    self.nn.add(Dense(1024, activation='relu')) \r\n",
        "    self.nn.add(Dropout(0.2)) \r\n",
        "    self.nn.add(Dense(512, activation='relu')) \r\n",
        "    self.nn.add(Dropout(0.2)) \r\n",
        "    self.nn.add(Dense(256, activation='relu')) \r\n",
        "    self.nn.add(Dropout(0.2))\r\n",
        "    self.nn.add(Dense(128, activation='relu')) \r\n",
        "    self.nn.add(Dropout(0.2))\r\n",
        "    self.nn.add(Dense(24, activation='relu')) \r\n",
        "    self.nn.add(Dropout(0.2))\r\n",
        "    self.nn.add(Dense(4, activation='relu')) \r\n",
        "    self.nn.add(Dropout(0.2))\r\n",
        "    self.nn.add(Dense(1, activation='sigmoid')) \r\n",
        "\r\n",
        "    self.nn.compile( loss='binary_crossentropy', optimizer='adam', metrics=['accuracy'])\r\n",
        "    return f'{self.name} initialized'\r\n",
        "\r\n",
        "  def train_nn(self, X_train, y_train):\r\n",
        "    from sklearn.model_selection import train_test_split\r\n",
        "    X_train, X_val, y_train, y_val = train_test_split(X_train, y_train, test_size=0.2, random_state=42)\r\n",
        "    history = self.nn.fit(X_train.to_numpy(), y_train, \r\n",
        "                          epochs=20, batch_size=2000, \r\n",
        "                          # epochs=20, batch_size=2000, \r\n",
        "                          validation_data=(X_val.to_numpy(), y_val), verbose=1, shuffle = True)\r\n",
        "    return f'{self.name} trained.'\r\n",
        "\r\n",
        "  #override\r\n",
        "  def proba_predictions(self, X_val): # restituisce le probabilità\r\n",
        "    if not self.nn:\r\n",
        "      return f'{self.name} is not declared. You need to use init_nn'\r\n",
        "    self.proba = self.nn.predict(X_val.to_numpy())#, validate_features = False)\r\n",
        "    return self.proba\r\n",
        "\r\n",
        "  #override\r\n",
        "  def aggregate(self, soglia = 0.5): # resituisce la classe\r\n",
        "    self.prediction = []\r\n",
        "    for proba in self.proba:\r\n",
        "      if proba > soglia:\r\n",
        "        self.prediction.append(1)\r\n",
        "      else:\r\n",
        "        self.prediction.append(0)\r\n",
        "    return f'Classification has been councluded!'"
      ],
      "execution_count": 8,
      "outputs": []
    },
    {
      "cell_type": "code",
      "metadata": {
        "id": "72mPUBaza2zv"
      },
      "source": [
        "class ensemble(model): # child class di model\r\n",
        "  name = 'Ensemble'\r\n",
        "  # come model_dict passare il dizionario in cui si salvano gli ensemble\r\n",
        "\r\n",
        "  #override \r\n",
        "  def proba_predictions(self, model_dict, X_val): # restituisce le probabilità predette \r\n",
        "    prob = []\r\n",
        "    for t in model_dict:\r\n",
        "      if model_dict[t].name == 'XGBoost':\r\n",
        "        prob.append(model_dict[t].proba_predictions(X_val)[:,1])\r\n",
        "      if model_dict[t].name == 'Neural network':\r\n",
        "        prob.append(model_dict[t].proba_predictions(X_val))\r\n",
        "    self.proba = np.mean(prob, axis = 0)\r\n",
        "    return f'Proba acquired.'\r\n",
        "  \r\n",
        "  #override\r\n",
        "  def aggregate(self, soglia = 0.05): # restituisce la classe predetta \r\n",
        "    for proba in self.proba:\r\n",
        "      if proba > soglia:\r\n",
        "        self.prediction.append(1)\r\n",
        "      else:\r\n",
        "        self.prediction.append(0)\r\n",
        "    return f'Classification has been councluded!'"
      ],
      "execution_count": 9,
      "outputs": []
    },
    {
      "cell_type": "code",
      "metadata": {
        "id": "T6Neus5uAUhU"
      },
      "source": [
        "def get_t_id(data, id, id_fraud, t, init_splits, incoming_splits): # restituisce la lista degli id corrispondente all'istante temporale t \r\n",
        "  '''\r\n",
        "  data: dataset da cui selezionare le transazioni\r\n",
        "  id: lista con gli id delle righe\r\n",
        "  t: istante temporale\r\n",
        "  init_splits: split totali in cui sarà diviso il dataset\r\n",
        "  incoming_splits: nuovi split che arrivano ad ogni nuovo dt, e su cui si allena il nuovo modello\r\n",
        "  out\r\n",
        "  id_list: lista con gli id delle righe selezionate a seconda dell'istante temporale specificato  \r\n",
        "  '''\r\n",
        "  id_list = [] # lista che conterrà le righe da usare al tempo t\r\n",
        "  id_list_fraud = [] # lista che conterrà le righe con transazioni fraud da usare al tempo t\r\n",
        "\r\n",
        "  if t == 0: \r\n",
        "    start = 0\r\n",
        "    end = init_splits\r\n",
        "  else:\r\n",
        "    start = incoming_splits * (t - 1) + init_splits\r\n",
        "    end = start + incoming_splits\r\n",
        "\r\n",
        "  if t == 1:\r\n",
        "    start_fraud = 0\r\n",
        "    end_fraud = init_splits\r\n",
        "  else:\r\n",
        "    start_fraud = 0\r\n",
        "    end_fraud = incoming_splits * (t - 1) + init_splits + incoming_splits \r\n",
        "\r\n",
        "    \r\n",
        "\r\n",
        "  for n in range(start,end):\r\n",
        "    id_list += id[n]\r\n",
        "  \r\n",
        "  if t > 0:\r\n",
        "    for n in range(start_fraud, end_fraud):\r\n",
        "      id_list_fraud += id_fraud[n]\r\n",
        "\r\n",
        "  return id_list, id_list_fraud"
      ],
      "execution_count": 10,
      "outputs": []
    },
    {
      "cell_type": "code",
      "metadata": {
        "id": "H6Zv9r_eD1Nr"
      },
      "source": [
        "def train_model(sel_model, last_model, data, id_t, id_fraud_t, keep_fraud, keep_safe): # funzione per sistemare il dataset e trainare il modello\r\n",
        "  '''\r\n",
        "  sel_model: modello da trainare\r\n",
        "  data: dataset\r\n",
        "  id_t: id delle righe su cui trainare il modello\r\n",
        "  '''\r\n",
        "  import random \r\n",
        "\r\n",
        "\r\n",
        "\r\n",
        "  # Train test split\r\n",
        "  subset = sel_model.get_set(data, id_t) # seleziono il subset su cui il modello si allenerà\r\n",
        "  X_train, X_val, y_train, y_val = mf.split(subset, test_size = 0.2) # train test split\r\n",
        "\r\n",
        "  # unione transazioni fraudolente degli step precedenti\r\n",
        "  if keep_fraud:\r\n",
        "    X_train_fraud = sel_model.get_set(data, id_fraud_t)\r\n",
        "    X_train_fraud.drop(columns = ['isFraud'], inplace = True)\r\n",
        "  if keep_safe:\r\n",
        "    sample_size = int(np.ceil(len(last_model.train_id) * 0.1))\r\n",
        "    id_safe_t = random.sample(last_model.train_id, sample_size)\r\n",
        "    X_train_safe = last_model.get_set(data, id_safe_t)\r\n",
        "    X_train_safe.drop(columns = ['isFraud'], inplace = True)\r\n",
        "\r\n",
        "  if keep_safe and keep_fraud:\r\n",
        "    X_train = pd.concat([X_train, X_train_fraud, X_train_safe])\r\n",
        "    y_train_safe = np.zeros(X_train_safe.shape[0])\r\n",
        "    y_train_fraud = np.ones(X_train_fraud.shape[0])\r\n",
        "    y_train = np.concatenate((y_train, y_train_fraud, y_train_safe), axis=None)\r\n",
        "\r\n",
        "  if keep_safe and not keep_fraud:\r\n",
        "    X_train = pd.concat([X_train, X_train_fraud])\r\n",
        "    y_train_fraud = np.ones(X_train_fraud.shape[0])\r\n",
        "    y_train = np.concatenate((y_train, y_train_fraud), axis=None)\r\n",
        "\r\n",
        "  # salvataggio degli id nel modello\r\n",
        "  sel_model.train_id = X_train.index.tolist() # salvo gli id del training set \r\n",
        "  sel_model.val_id = X_val.index.tolist() # salvo gli id del test set\r\n",
        "\r\n",
        "  # Training del modello\r\n",
        "  if sel_model.name == 'XGBoost':\r\n",
        "    sel_model.init_xgb() # inizializzo xgb\r\n",
        "    sel_model.train_xgb(X_train, y_train) # train di xgb \r\n",
        "  \r\n",
        "  if sel_model.name == 'Neural network':\r\n",
        "    n_features = X_train.shape[1]\r\n",
        "    sel_model.init_nn(n_features)\r\n",
        "    sel_model.train_nn(X_train, y_train)\r\n",
        "\r\n",
        "\r\n",
        "  return f'Training ended. \\n'"
      ],
      "execution_count": 11,
      "outputs": []
    },
    {
      "cell_type": "code",
      "metadata": {
        "id": "wwC4yBClLSUs"
      },
      "source": [
        "def test_model(sel_model, model_dict, t, data, soglia): # test del modello\r\n",
        "  '''\r\n",
        "  in\r\n",
        "  sel_model: modello da trainare\r\n",
        "  model_dict: dizionario contenente i vari modelli\r\n",
        "  t: istante temporale\r\n",
        "  data: dataset\r\n",
        "  soglia: soglia sulla probabilità \r\n",
        "  '''\r\n",
        "  id_list = []\r\n",
        "  for i in model_dict:\r\n",
        "    id_list += model_dict[i].val_id\r\n",
        "  # id_list = last_model.val_id # seleziono le righe su cui va validato l'ultimo modello\r\n",
        "  subset = sel_model.get_set(data, id_list) # seleziono il set su cui valido i dati\r\n",
        "  y_val = subset['isFraud']\r\n",
        "  X_val = subset.drop(columns=['isFraud'], axis = 1)\r\n",
        "\r\n",
        "  sel_model.proba_predictions(X_val) # predict_proba\r\n",
        "  sel_model.aggregate(soglia = soglia) # predict\r\n",
        "\r\n",
        "  sel_model.performance(y_val, soglia = soglia) # valuta le performance del modello\r\n",
        "  return "
      ],
      "execution_count": 12,
      "outputs": []
    },
    {
      "cell_type": "code",
      "metadata": {
        "id": "oTVI-DcxJECb"
      },
      "source": [
        "def test_ensemble(ens, model_dict, t, data, id_t, soglia): # testa le performance dell'ensemble\r\n",
        "  '''\r\n",
        "  ens: ensemble da testare \r\n",
        "  model_dict: dizionario con i modelli\r\n",
        "  t: istante temporale\r\n",
        "  data: dataset\r\n",
        "  id_t: righe da usare all'istante t-esimo\r\n",
        "  '''\r\n",
        "  id_list = []\r\n",
        "  for i in model_dict:\r\n",
        "    id_list += model_dict[i].val_id\r\n",
        "  subset = model_dict[t].get_set(data, id_list) # seleziono il set su cui valido i dati\r\n",
        "  # subset = model_dict[t].get_set(data, id_t) # seleziono il set su cui valido i dati\r\n",
        "  y_val = subset['isFraud']\r\n",
        "  X_val = subset.drop(columns=['isFraud'], axis = 1)\r\n",
        "  ens.proba_predictions(model_dict, X_val) # predict_proba dell'ensemble\r\n",
        "  ens.aggregate(soglia = soglia) # predict dell'ensemble\r\n",
        "  ens.performance(y_val, soglia = soglia) # valuto le performance\r\n",
        "  return f'Ensemble testing ended. \\n'"
      ],
      "execution_count": 13,
      "outputs": []
    },
    {
      "cell_type": "code",
      "metadata": {
        "id": "tCjWWWdCfsix"
      },
      "source": [
        "def get_best_model(xgb, nn):\r\n",
        "  if xgb.score > nn.score:\r\n",
        "    return xgb\r\n",
        "  else:\r\n",
        "    return nn"
      ],
      "execution_count": 14,
      "outputs": []
    },
    {
      "cell_type": "code",
      "metadata": {
        "id": "_GaailvFPVir"
      },
      "source": [
        "def dinamic_model(data, id, id_fraud, init_splits, incoming_splits, tot_splits, keep_fraud, keep_safe):\r\n",
        "  tmax = np.ceil((tot_splits - init_splits) / incoming_splits)\r\n",
        "  model_dict = {}\r\n",
        "  xgb_dict = {}\r\n",
        "  nn_dict = {}\r\n",
        "  ensemble_dict = {}\r\n",
        "  soglia_xgb = 0.7 # 0.05\r\n",
        "  soglia_nn = 0.7\r\n",
        "  soglia_ens = 0.7\r\n",
        "\r\n",
        "  for t in range(int(tmax + 1)):\r\n",
        "    print('Time ', t)\r\n",
        "    id_t, id_fraud_t = get_t_id(data, id, id_fraud, t, init_splits, incoming_splits) # ottengo gli id delle righe da usare al tempo t-esimo\r\n",
        "    # model_dict[t] = model(t) # inizializzo il modello t-esimo \r\n",
        "    xgb_dict[t] = model(t)\r\n",
        "    nn_dict[t] = nn(t)\r\n",
        "    if t == 0:\r\n",
        "      # train_model(model_dict[t], None, data, id_t, id_fraud_t, keep_fraud = False, keep_safe = False) # train e test del modello t-esimo\r\n",
        "      train_model(xgb_dict[t], None, data, id_t, id_fraud_t, keep_fraud = False, keep_safe = False) # train e test del modello t-esimo\r\n",
        "      train_model(nn_dict[t], None, data, id_t, id_fraud_t, keep_fraud = False, keep_safe = False) # train e test del modello t-esimo\r\n",
        "      \r\n",
        "      test_model(xgb_dict[t], xgb_dict, t, data, soglia_xgb)\r\n",
        "      test_model(nn_dict[t], nn_dict, t, data, soglia_nn)\r\n",
        "      model_dict[t] = get_best_model(xgb_dict[t], nn_dict[t])\r\n",
        "      print(model_dict[t].name, 'has been chosen.')\r\n",
        "\r\n",
        "    if t > 0:\r\n",
        "      # train_model(model_dict[t], model_dict[t-1], data, id_t, id_fraud_t, keep_fraud, keep_safe) # train e test del modello t-esimo\r\n",
        "      train_model(xgb_dict[t], model_dict[t-1], data, id_t, id_fraud_t, keep_fraud, keep_safe) # train e test del modello t-esimo\r\n",
        "      train_model(nn_dict[t], model_dict[t-1], data, id_t, id_fraud_t, keep_fraud, keep_safe) # train e test del modello t-esimo\r\n",
        "      \r\n",
        "      test_model(xgb_dict[t], xgb_dict, t, data, soglia_xgb)\r\n",
        "      test_model(nn_dict[t], nn_dict, t, data, soglia_nn)\r\n",
        "      model_dict[t] = get_best_model(xgb_dict[t], nn_dict[t])\r\n",
        "      print(model_dict[t].name, 'has been chosen.')\r\n",
        "\r\n",
        "      ensemble_dict[t] = ensemble(t) # inizializzo l'ensemble t-esimo\r\n",
        "      test_ensemble(ensemble_dict[t], model_dict, t, data, id_t, soglia_ens) # testo l'ensemble\r\n",
        "    # for i in model_dict:\r\n",
        "    #   test_model(model_dict[i], model_dict, t, data, soglia)\r\n",
        "\r\n",
        "  return model_dict, ensemble_dict"
      ],
      "execution_count": 15,
      "outputs": []
    },
    {
      "cell_type": "code",
      "metadata": {
        "colab": {
          "base_uri": "https://localhost:8080/",
          "height": 1000
        },
        "id": "FiXWYKJ69d5J",
        "outputId": "16b0bde6-a5e4-4895-e14b-625ee97b9d91"
      },
      "source": [
        "id, id_fraud = get_split_id(data, init_splits, incoming_splits, tot_splits) # splitta le righe in base agli split dichiarati\r\n",
        "model_dict, ensemble_dict = dinamic_model(data, id, id_fraud, init_splits, incoming_splits, tot_splits, keep_fraud = True, keep_safe = True)"
      ],
      "execution_count": 16,
      "outputs": [
        {
          "output_type": "stream",
          "text": [
            "Time  0\n",
            "Epoch 1/20\n",
            "85/85 [==============================] - 3s 22ms/step - loss: 0.3298 - accuracy: 0.8727 - val_loss: 0.1310 - val_accuracy: 0.9668\n",
            "Epoch 2/20\n",
            "85/85 [==============================] - 1s 12ms/step - loss: 0.2344 - accuracy: 0.9575 - val_loss: 0.1188 - val_accuracy: 0.9668\n",
            "Epoch 3/20\n",
            "85/85 [==============================] - 1s 13ms/step - loss: 0.2231 - accuracy: 0.9625 - val_loss: 0.1180 - val_accuracy: 0.9668\n",
            "Epoch 4/20\n",
            "85/85 [==============================] - 1s 12ms/step - loss: 0.2103 - accuracy: 0.9661 - val_loss: 0.1099 - val_accuracy: 0.9670\n",
            "Epoch 5/20\n",
            "85/85 [==============================] - 1s 13ms/step - loss: 0.2027 - accuracy: 0.9684 - val_loss: 0.1060 - val_accuracy: 0.9713\n",
            "Epoch 6/20\n",
            "85/85 [==============================] - 1s 12ms/step - loss: 0.1929 - accuracy: 0.9704 - val_loss: 0.1054 - val_accuracy: 0.9719\n",
            "Epoch 7/20\n",
            "85/85 [==============================] - 1s 12ms/step - loss: 0.1872 - accuracy: 0.9708 - val_loss: 0.0998 - val_accuracy: 0.9727\n",
            "Epoch 8/20\n",
            "85/85 [==============================] - 1s 12ms/step - loss: 0.1773 - accuracy: 0.9729 - val_loss: 0.1021 - val_accuracy: 0.9726\n",
            "Epoch 9/20\n",
            "85/85 [==============================] - 1s 13ms/step - loss: 0.1727 - accuracy: 0.9730 - val_loss: 0.0973 - val_accuracy: 0.9733\n",
            "Epoch 10/20\n",
            "85/85 [==============================] - 1s 13ms/step - loss: 0.1649 - accuracy: 0.9738 - val_loss: 0.0999 - val_accuracy: 0.9732\n",
            "Epoch 11/20\n",
            "85/85 [==============================] - 1s 13ms/step - loss: 0.1594 - accuracy: 0.9739 - val_loss: 0.0955 - val_accuracy: 0.9732\n",
            "Epoch 12/20\n",
            "85/85 [==============================] - 1s 14ms/step - loss: 0.1529 - accuracy: 0.9746 - val_loss: 0.0956 - val_accuracy: 0.9737\n",
            "Epoch 13/20\n",
            "85/85 [==============================] - 1s 13ms/step - loss: 0.1487 - accuracy: 0.9750 - val_loss: 0.0945 - val_accuracy: 0.9736\n",
            "Epoch 14/20\n",
            "85/85 [==============================] - 1s 13ms/step - loss: 0.1450 - accuracy: 0.9756 - val_loss: 0.0995 - val_accuracy: 0.9747\n",
            "Epoch 15/20\n",
            "85/85 [==============================] - 1s 13ms/step - loss: 0.1394 - accuracy: 0.9759 - val_loss: 0.0912 - val_accuracy: 0.9745\n",
            "Epoch 16/20\n",
            "85/85 [==============================] - 1s 12ms/step - loss: 0.1366 - accuracy: 0.9759 - val_loss: 0.0938 - val_accuracy: 0.9749\n",
            "Epoch 17/20\n",
            "85/85 [==============================] - 1s 13ms/step - loss: 0.1331 - accuracy: 0.9762 - val_loss: 0.0923 - val_accuracy: 0.9746\n",
            "Epoch 18/20\n",
            "85/85 [==============================] - 1s 13ms/step - loss: 0.1292 - accuracy: 0.9764 - val_loss: 0.0957 - val_accuracy: 0.9750\n",
            "Epoch 19/20\n",
            "85/85 [==============================] - 1s 13ms/step - loss: 0.1249 - accuracy: 0.9765 - val_loss: 0.0926 - val_accuracy: 0.9753\n",
            "Epoch 20/20\n",
            "85/85 [==============================] - 1s 13ms/step - loss: 0.1242 - accuracy: 0.9762 - val_loss: 0.0923 - val_accuracy: 0.9743\n",
            "\n",
            "\n",
            "Confusion matrix of model XGBoost of time 0\n"
          ],
          "name": "stdout"
        },
        {
          "output_type": "display_data",
          "data": {
            "image/png": "[encoded data removed]",
            "text/plain": [
              "<Figure size 360x360 with 2 Axes>"
            ]
          },
          "metadata": {
            "tags": [],
            "needs_background": "light"
          }
        },
        {
          "output_type": "stream",
          "text": [
            "\n",
            "\n",
            "Model f1 score:  0.79\n",
            "Model roc auc score:  0.83\n",
            "Model recall:  0.66\n",
            "Model precision:  0.97\n",
            "\n",
            "\n",
            "\n",
            "\n",
            "Confusion matrix of model Neural network of time 0\n"
          ],
          "name": "stdout"
        },
        {
          "output_type": "display_data",
          "data": {
            "image/png": "[encoded data removed]",
            "text/plain": [
              "<Figure size 360x360 with 2 Axes>"
            ]
          },
          "metadata": {
            "tags": [],
            "needs_background": "light"
          }
        },
        {
          "output_type": "stream",
          "text": [
            "\n",
            "\n",
            "Model f1 score:  0.34\n",
            "Model roc auc score:  0.6\n",
            "Model recall:  0.2\n",
            "Model precision:  0.95\n",
            "\n",
            "\n",
            "XGBoost has been chosen.\n",
            "Time  1\n"
          ],
          "name": "stdout"
        },
        {
          "output_type": "stream",
          "text": [
            "/usr/local/lib/python3.6/dist-packages/pandas/core/frame.py:4174: SettingWithCopyWarning: \n",
            "A value is trying to be set on a copy of a slice from a DataFrame\n",
            "\n",
            "See the caveats in the documentation: https://pandas.pydata.org/pandas-docs/stable/user_guide/indexing.html#returning-a-view-versus-a-copy\n",
            "  errors=errors,\n"
          ],
          "name": "stderr"
        },
        {
          "output_type": "stream",
          "text": [
            "Epoch 1/20\n",
            "50/50 [==============================] - 2s 25ms/step - loss: 0.4146 - accuracy: 0.8292 - val_loss: 0.2448 - val_accuracy: 0.9027\n",
            "Epoch 2/20\n",
            "50/50 [==============================] - 1s 13ms/step - loss: 0.2873 - accuracy: 0.8995 - val_loss: 0.2293 - val_accuracy: 0.9027\n",
            "Epoch 3/20\n",
            "50/50 [==============================] - 1s 13ms/step - loss: 0.2692 - accuracy: 0.8998 - val_loss: 0.2237 - val_accuracy: 0.9158\n",
            "Epoch 4/20\n",
            "50/50 [==============================] - 1s 13ms/step - loss: 0.2594 - accuracy: 0.9102 - val_loss: 0.2131 - val_accuracy: 0.9202\n",
            "Epoch 5/20\n",
            "50/50 [==============================] - 1s 13ms/step - loss: 0.2500 - accuracy: 0.9149 - val_loss: 0.2047 - val_accuracy: 0.9244\n",
            "Epoch 6/20\n",
            "50/50 [==============================] - 1s 13ms/step - loss: 0.2381 - accuracy: 0.9201 - val_loss: 0.2002 - val_accuracy: 0.9267\n",
            "Epoch 7/20\n",
            "50/50 [==============================] - 1s 13ms/step - loss: 0.2374 - accuracy: 0.9240 - val_loss: 0.1999 - val_accuracy: 0.9283\n",
            "Epoch 8/20\n",
            "50/50 [==============================] - 1s 13ms/step - loss: 0.2266 - accuracy: 0.9261 - val_loss: 0.1920 - val_accuracy: 0.9307\n",
            "Epoch 9/20\n",
            "50/50 [==============================] - 1s 13ms/step - loss: 0.2253 - accuracy: 0.9280 - val_loss: 0.1892 - val_accuracy: 0.9320\n",
            "Epoch 10/20\n",
            "50/50 [==============================] - 1s 13ms/step - loss: 0.2204 - accuracy: 0.9298 - val_loss: 0.1870 - val_accuracy: 0.9324\n",
            "Epoch 11/20\n",
            "50/50 [==============================] - 1s 13ms/step - loss: 0.2150 - accuracy: 0.9326 - val_loss: 0.1896 - val_accuracy: 0.9331\n",
            "Epoch 12/20\n",
            "50/50 [==============================] - 1s 13ms/step - loss: 0.2106 - accuracy: 0.9335 - val_loss: 0.1887 - val_accuracy: 0.9333\n",
            "Epoch 13/20\n",
            "50/50 [==============================] - 1s 15ms/step - loss: 0.2090 - accuracy: 0.9342 - val_loss: 0.1856 - val_accuracy: 0.9338\n",
            "Epoch 14/20\n",
            "50/50 [==============================] - 1s 13ms/step - loss: 0.2041 - accuracy: 0.9335 - val_loss: 0.1854 - val_accuracy: 0.9346\n",
            "Epoch 15/20\n",
            "50/50 [==============================] - 1s 13ms/step - loss: 0.1991 - accuracy: 0.9375 - val_loss: 0.1872 - val_accuracy: 0.9338\n",
            "Epoch 16/20\n",
            "50/50 [==============================] - 1s 13ms/step - loss: 0.1980 - accuracy: 0.9373 - val_loss: 0.1812 - val_accuracy: 0.9366\n",
            "Epoch 17/20\n",
            "50/50 [==============================] - 1s 13ms/step - loss: 0.1956 - accuracy: 0.9390 - val_loss: 0.1836 - val_accuracy: 0.9354\n",
            "Epoch 18/20\n",
            "50/50 [==============================] - 1s 13ms/step - loss: 0.1923 - accuracy: 0.9390 - val_loss: 0.1795 - val_accuracy: 0.9375\n",
            "Epoch 19/20\n",
            "50/50 [==============================] - 1s 13ms/step - loss: 0.1909 - accuracy: 0.9394 - val_loss: 0.1934 - val_accuracy: 0.9319\n",
            "Epoch 20/20\n",
            "50/50 [==============================] - 1s 13ms/step - loss: 0.1926 - accuracy: 0.9383 - val_loss: 0.1863 - val_accuracy: 0.9376\n",
            "\n",
            "\n",
            "Confusion matrix of model XGBoost of time 1\n"
          ],
          "name": "stdout"
        },
        {
          "output_type": "display_data",
          "data": {
            "image/png": "[encoded data removed]",
            "text/plain": [
              "<Figure size 360x360 with 2 Axes>"
            ]
          },
          "metadata": {
            "tags": [],
            "needs_background": "light"
          }
        },
        {
          "output_type": "stream",
          "text": [
            "\n",
            "\n",
            "Model f1 score:  0.8\n",
            "Model roc auc score:  0.94\n",
            "Model recall:  0.89\n",
            "Model precision:  0.72\n",
            "\n",
            "\n",
            "\n",
            "\n",
            "Confusion matrix of model Neural network of time 1\n"
          ],
          "name": "stdout"
        },
        {
          "output_type": "display_data",
          "data": {
            "image/png": "[encoded data removed]",
            "text/plain": [
              "<Figure size 360x360 with 2 Axes>"
            ]
          },
          "metadata": {
            "tags": [],
            "needs_background": "light"
          }
        },
        {
          "output_type": "stream",
          "text": [
            "\n",
            "\n",
            "Model f1 score:  0.45\n",
            "Model roc auc score:  0.7\n",
            "Model recall:  0.41\n",
            "Model precision:  0.49\n",
            "\n",
            "\n",
            "XGBoost has been chosen.\n",
            "\n",
            "\n",
            "Confusion matrix of model Ensemble of time 1\n"
          ],
          "name": "stdout"
        },
        {
          "output_type": "display_data",
          "data": {
            "image/png": "[encoded data removed]",
            "text/plain": [
              "<Figure size 360x360 with 2 Axes>"
            ]
          },
          "metadata": {
            "tags": [],
            "needs_background": "light"
          }
        },
        {
          "output_type": "stream",
          "text": [
            "\n",
            "\n",
            "Model f1 score:  0.73\n",
            "Model roc auc score:  0.79\n",
            "Model recall:  0.59\n",
            "Model precision:  0.96\n",
            "\n",
            "\n",
            "Time  2\n"
          ],
          "name": "stdout"
        },
        {
          "output_type": "stream",
          "text": [
            "/usr/local/lib/python3.6/dist-packages/pandas/core/frame.py:4174: SettingWithCopyWarning: \n",
            "A value is trying to be set on a copy of a slice from a DataFrame\n",
            "\n",
            "See the caveats in the documentation: https://pandas.pydata.org/pandas-docs/stable/user_guide/indexing.html#returning-a-view-versus-a-copy\n",
            "  errors=errors,\n"
          ],
          "name": "stderr"
        },
        {
          "output_type": "stream",
          "text": [
            "Epoch 1/20\n",
            "46/46 [==============================] - 2s 22ms/step - loss: 0.5551 - accuracy: 0.7523 - val_loss: 0.3738 - val_accuracy: 0.8212\n",
            "Epoch 2/20\n",
            "46/46 [==============================] - 1s 16ms/step - loss: 0.4220 - accuracy: 0.8362 - val_loss: 0.3153 - val_accuracy: 0.8763\n",
            "Epoch 3/20\n",
            "46/46 [==============================] - 1s 13ms/step - loss: 0.3908 - accuracy: 0.8651 - val_loss: 0.2939 - val_accuracy: 0.8835\n",
            "Epoch 4/20\n",
            "46/46 [==============================] - 1s 13ms/step - loss: 0.3696 - accuracy: 0.8769 - val_loss: 0.2769 - val_accuracy: 0.8862\n",
            "Epoch 5/20\n",
            "46/46 [==============================] - 1s 13ms/step - loss: 0.3596 - accuracy: 0.8854 - val_loss: 0.2828 - val_accuracy: 0.8935\n",
            "Epoch 6/20\n",
            "46/46 [==============================] - 1s 13ms/step - loss: 0.3492 - accuracy: 0.8908 - val_loss: 0.2598 - val_accuracy: 0.8966\n",
            "Epoch 7/20\n",
            "46/46 [==============================] - 1s 13ms/step - loss: 0.3293 - accuracy: 0.8998 - val_loss: 0.2521 - val_accuracy: 0.9048\n",
            "Epoch 8/20\n",
            "46/46 [==============================] - 1s 14ms/step - loss: 0.3263 - accuracy: 0.8992 - val_loss: 0.2543 - val_accuracy: 0.9075\n",
            "Epoch 9/20\n",
            "46/46 [==============================] - 1s 13ms/step - loss: 0.3143 - accuracy: 0.9058 - val_loss: 0.2475 - val_accuracy: 0.9086\n",
            "Epoch 10/20\n",
            "46/46 [==============================] - 1s 13ms/step - loss: 0.3101 - accuracy: 0.9051 - val_loss: 0.2442 - val_accuracy: 0.9070\n",
            "Epoch 11/20\n",
            "46/46 [==============================] - 1s 13ms/step - loss: 0.3095 - accuracy: 0.9035 - val_loss: 0.2458 - val_accuracy: 0.9082\n",
            "Epoch 12/20\n",
            "46/46 [==============================] - 1s 13ms/step - loss: 0.3000 - accuracy: 0.9092 - val_loss: 0.2399 - val_accuracy: 0.9127\n",
            "Epoch 13/20\n",
            "46/46 [==============================] - 1s 13ms/step - loss: 0.2904 - accuracy: 0.9130 - val_loss: 0.2356 - val_accuracy: 0.9113\n",
            "Epoch 14/20\n",
            "46/46 [==============================] - 1s 16ms/step - loss: 0.2887 - accuracy: 0.9108 - val_loss: 0.2391 - val_accuracy: 0.9138\n",
            "Epoch 15/20\n",
            "46/46 [==============================] - 1s 13ms/step - loss: 0.2847 - accuracy: 0.9147 - val_loss: 0.2393 - val_accuracy: 0.9068\n",
            "Epoch 16/20\n",
            "46/46 [==============================] - 1s 13ms/step - loss: 0.2807 - accuracy: 0.9130 - val_loss: 0.2414 - val_accuracy: 0.9104\n",
            "Epoch 17/20\n",
            "46/46 [==============================] - 1s 13ms/step - loss: 0.2784 - accuracy: 0.9145 - val_loss: 0.2369 - val_accuracy: 0.9142\n",
            "Epoch 18/20\n",
            "46/46 [==============================] - 1s 13ms/step - loss: 0.2712 - accuracy: 0.9161 - val_loss: 0.2346 - val_accuracy: 0.9139\n",
            "Epoch 19/20\n",
            "46/46 [==============================] - 1s 13ms/step - loss: 0.2693 - accuracy: 0.9168 - val_loss: 0.2279 - val_accuracy: 0.9156\n",
            "Epoch 20/20\n",
            "46/46 [==============================] - 1s 13ms/step - loss: 0.2630 - accuracy: 0.9179 - val_loss: 0.2288 - val_accuracy: 0.9164\n",
            "\n",
            "\n",
            "Confusion matrix of model XGBoost of time 2\n"
          ],
          "name": "stdout"
        },
        {
          "output_type": "display_data",
          "data": {
            "image/png": "[encoded data removed]",
            "text/plain": [
              "<Figure size 360x360 with 2 Axes>"
            ]
          },
          "metadata": {
            "tags": [],
            "needs_background": "light"
          }
        },
        {
          "output_type": "stream",
          "text": [
            "\n",
            "\n",
            "Model f1 score:  0.36\n",
            "Model roc auc score:  0.91\n",
            "Model recall:  0.95\n",
            "Model precision:  0.22\n",
            "\n",
            "\n",
            "\n",
            "\n",
            "Confusion matrix of model Neural network of time 2\n"
          ],
          "name": "stdout"
        },
        {
          "output_type": "display_data",
          "data": {
            "image/png": "[encoded data removed]",
            "text/plain": [
              "<Figure size 360x360 with 2 Axes>"
            ]
          },
          "metadata": {
            "tags": [],
            "needs_background": "light"
          }
        },
        {
          "output_type": "stream",
          "text": [
            "\n",
            "\n",
            "Model f1 score:  0.25\n",
            "Model roc auc score:  0.75\n",
            "Model recall:  0.62\n",
            "Model precision:  0.15\n",
            "\n",
            "\n",
            "XGBoost has been chosen.\n",
            "\n",
            "\n",
            "Confusion matrix of model Ensemble of time 2\n"
          ],
          "name": "stdout"
        },
        {
          "output_type": "display_data",
          "data": {
            "image/png": "[encoded data removed]",
            "text/plain": [
              "<Figure size 360x360 with 2 Axes>"
            ]
          },
          "metadata": {
            "tags": [],
            "needs_background": "light"
          }
        },
        {
          "output_type": "stream",
          "text": [
            "\n",
            "\n",
            "Model f1 score:  0.7\n",
            "Model roc auc score:  0.78\n",
            "Model recall:  0.56\n",
            "Model precision:  0.95\n",
            "\n",
            "\n",
            "Time  3\n"
          ],
          "name": "stdout"
        },
        {
          "output_type": "stream",
          "text": [
            "/usr/local/lib/python3.6/dist-packages/pandas/core/frame.py:4174: SettingWithCopyWarning: \n",
            "A value is trying to be set on a copy of a slice from a DataFrame\n",
            "\n",
            "See the caveats in the documentation: https://pandas.pydata.org/pandas-docs/stable/user_guide/indexing.html#returning-a-view-versus-a-copy\n",
            "  errors=errors,\n"
          ],
          "name": "stderr"
        },
        {
          "output_type": "stream",
          "text": [
            "Epoch 1/20\n",
            "47/47 [==============================] - 2s 25ms/step - loss: 0.5051 - accuracy: 0.7961 - val_loss: 0.3603 - val_accuracy: 0.7978\n",
            "Epoch 2/20\n",
            "47/47 [==============================] - 1s 13ms/step - loss: 0.3893 - accuracy: 0.7947 - val_loss: 0.3247 - val_accuracy: 0.7978\n",
            "Epoch 3/20\n",
            "47/47 [==============================] - 1s 13ms/step - loss: 0.3468 - accuracy: 0.8008 - val_loss: 0.3019 - val_accuracy: 0.8947\n",
            "Epoch 4/20\n",
            "47/47 [==============================] - 1s 13ms/step - loss: 0.3278 - accuracy: 0.8873 - val_loss: 0.2951 - val_accuracy: 0.8992\n",
            "Epoch 5/20\n",
            "47/47 [==============================] - 1s 13ms/step - loss: 0.3124 - accuracy: 0.8962 - val_loss: 0.2961 - val_accuracy: 0.8980\n",
            "Epoch 6/20\n",
            "47/47 [==============================] - 1s 13ms/step - loss: 0.3114 - accuracy: 0.8985 - val_loss: 0.2872 - val_accuracy: 0.9038\n",
            "Epoch 7/20\n",
            "47/47 [==============================] - 1s 13ms/step - loss: 0.3039 - accuracy: 0.9030 - val_loss: 0.2829 - val_accuracy: 0.9022\n",
            "Epoch 8/20\n",
            "47/47 [==============================] - 1s 13ms/step - loss: 0.2949 - accuracy: 0.9066 - val_loss: 0.2794 - val_accuracy: 0.9088\n",
            "Epoch 9/20\n",
            "47/47 [==============================] - 1s 14ms/step - loss: 0.2862 - accuracy: 0.9087 - val_loss: 0.2724 - val_accuracy: 0.9056\n",
            "Epoch 10/20\n",
            "47/47 [==============================] - 1s 13ms/step - loss: 0.2773 - accuracy: 0.9108 - val_loss: 0.2676 - val_accuracy: 0.9109\n",
            "Epoch 11/20\n",
            "47/47 [==============================] - 1s 13ms/step - loss: 0.2749 - accuracy: 0.9122 - val_loss: 0.2745 - val_accuracy: 0.9073\n",
            "Epoch 12/20\n",
            "47/47 [==============================] - 1s 13ms/step - loss: 0.2763 - accuracy: 0.9120 - val_loss: 0.2601 - val_accuracy: 0.9101\n",
            "Epoch 13/20\n",
            "47/47 [==============================] - 1s 13ms/step - loss: 0.2650 - accuracy: 0.9140 - val_loss: 0.2550 - val_accuracy: 0.9156\n",
            "Epoch 14/20\n",
            "47/47 [==============================] - 1s 13ms/step - loss: 0.2623 - accuracy: 0.9144 - val_loss: 0.2645 - val_accuracy: 0.9130\n",
            "Epoch 15/20\n",
            "47/47 [==============================] - 1s 13ms/step - loss: 0.2622 - accuracy: 0.9177 - val_loss: 0.2514 - val_accuracy: 0.9150\n",
            "Epoch 16/20\n",
            "47/47 [==============================] - 1s 16ms/step - loss: 0.2529 - accuracy: 0.9192 - val_loss: 0.2495 - val_accuracy: 0.9141\n",
            "Epoch 17/20\n",
            "47/47 [==============================] - 1s 13ms/step - loss: 0.2524 - accuracy: 0.9176 - val_loss: 0.2837 - val_accuracy: 0.9091\n",
            "Epoch 18/20\n",
            "47/47 [==============================] - 1s 13ms/step - loss: 0.2528 - accuracy: 0.9189 - val_loss: 0.2453 - val_accuracy: 0.9176\n",
            "Epoch 19/20\n",
            "47/47 [==============================] - 1s 13ms/step - loss: 0.2455 - accuracy: 0.9193 - val_loss: 0.2446 - val_accuracy: 0.9143\n",
            "Epoch 20/20\n",
            "47/47 [==============================] - 1s 13ms/step - loss: 0.2412 - accuracy: 0.9219 - val_loss: 0.2483 - val_accuracy: 0.9195\n",
            "\n",
            "\n",
            "Confusion matrix of model XGBoost of time 3\n"
          ],
          "name": "stdout"
        },
        {
          "output_type": "display_data",
          "data": {
            "image/png": "[encoded data removed]",
            "text/plain": [
              "<Figure size 360x360 with 2 Axes>"
            ]
          },
          "metadata": {
            "tags": [],
            "needs_background": "light"
          }
        },
        {
          "output_type": "stream",
          "text": [
            "\n",
            "\n",
            "Model f1 score:  0.14\n",
            "Model roc auc score:  0.76\n",
            "Model recall:  0.92\n",
            "Model precision:  0.08\n",
            "\n",
            "\n",
            "\n",
            "\n",
            "Confusion matrix of model Neural network of time 3\n"
          ],
          "name": "stdout"
        },
        {
          "output_type": "display_data",
          "data": {
            "image/png": "[encoded data removed]",
            "text/plain": [
              "<Figure size 360x360 with 2 Axes>"
            ]
          },
          "metadata": {
            "tags": [],
            "needs_background": "light"
          }
        },
        {
          "output_type": "stream",
          "text": [
            "/usr/local/lib/python3.6/dist-packages/sklearn/metrics/_classification.py:1272: UndefinedMetricWarning: Precision is ill-defined and being set to 0.0 due to no predicted samples. Use `zero_division` parameter to control this behavior.\n",
            "  _warn_prf(average, modifier, msg_start, len(result))\n"
          ],
          "name": "stderr"
        },
        {
          "output_type": "stream",
          "text": [
            "\n",
            "\n",
            "Model f1 score:  0.0\n",
            "Model roc auc score:  0.5\n",
            "Model recall:  0.0\n",
            "Model precision:  0.0\n",
            "\n",
            "\n",
            "XGBoost has been chosen.\n",
            "\n",
            "\n",
            "Confusion matrix of model Ensemble of time 3\n"
          ],
          "name": "stdout"
        },
        {
          "output_type": "display_data",
          "data": {
            "image/png": "[encoded data removed]",
            "text/plain": [
              "<Figure size 360x360 with 2 Axes>"
            ]
          },
          "metadata": {
            "tags": [],
            "needs_background": "light"
          }
        },
        {
          "output_type": "stream",
          "text": [
            "\n",
            "\n",
            "Model f1 score:  0.73\n",
            "Model roc auc score:  0.82\n",
            "Model recall:  0.65\n",
            "Model precision:  0.82\n",
            "\n",
            "\n"
          ],
          "name": "stdout"
        }
      ]
    },
    {
      "cell_type": "code",
      "metadata": {
        "id": "vWYvDvxAVgG9"
      },
      "source": [
        ""
      ],
      "execution_count": 16,
      "outputs": []
    }
  ]
}