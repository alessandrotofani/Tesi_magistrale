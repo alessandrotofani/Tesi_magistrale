{
  "nbformat": 4,
  "nbformat_minor": 0,
  "metadata": {
    "colab": {
      "name": "5_Dinamic_model.ipynb",
      "provenance": [],
      "authorship_tag": "ABX9TyPA14LzLYBSmTaWcFFOpDKO",
      "include_colab_link": true
    },
    "kernelspec": {
      "name": "python3",
      "display_name": "Python 3"
    },
    "accelerator": "GPU"
  },
  "cells": [
    {
      "cell_type": "markdown",
      "metadata": {
        "id": "view-in-github",
        "colab_type": "text"
      },
      "source": [
        "<a href=\"https://colab.research.google.com/github/alessandrotofani/Tesi_magistrale/blob/master/5_Dinamic_model.ipynb\" target=\"_parent\"><img src=\"https://colab.research.google.com/assets/colab-badge.svg\" alt=\"Open In Colab\"/></a>"
      ]
    },
    {
      "cell_type": "markdown",
      "metadata": {
        "id": "z-7rH_UhAPGR"
      },
      "source": [
        "# Import"
      ]
    },
    {
      "cell_type": "code",
      "metadata": {
        "id": "SwkBbxNMK8Fv",
        "colab": {
          "base_uri": "https://localhost:8080/"
        },
        "outputId": "5dc6dc17-5c5c-4d17-f039-983b10ee0146"
      },
      "source": [
        "import numpy as np \r\n",
        "import pandas as pd \r\n",
        "import matplotlib\r\n",
        "import matplotlib.pyplot as plt\r\n",
        "import seaborn as sns\r\n",
        "import os\r\n",
        "from google.colab import drive\r\n",
        "drive.mount('/content/drive')\r\n",
        "from sklearn.model_selection import train_test_split"
      ],
      "execution_count": 1,
      "outputs": [
        {
          "output_type": "stream",
          "text": [
            "Drive already mounted at /content/drive; to attempt to forcibly remount, call drive.mount(\"/content/drive\", force_remount=True).\n"
          ],
          "name": "stdout"
        }
      ]
    },
    {
      "cell_type": "code",
      "metadata": {
        "id": "9UBtZ7vSkof3"
      },
      "source": [
        "import sys \r\n",
        "sys.path.append('/content/drive/MyDrive/Tesi_magistrale/Tesi_magistrale')\r\n",
        "import mf"
      ],
      "execution_count": 2,
      "outputs": []
    },
    {
      "cell_type": "code",
      "metadata": {
        "id": "RYEwRKTV1NvR"
      },
      "source": [
        "data = pd.read_csv('/content/drive/MyDrive/Tesi_magistrale/Dataset/IEEE/Output/data.csv')\r\n",
        "data.drop(data.columns[data.columns.str.contains('unnamed',case = False)],axis = 1, inplace = True)"
      ],
      "execution_count": 3,
      "outputs": []
    },
    {
      "cell_type": "markdown",
      "metadata": {
        "id": "ouPK38wK1Ytv"
      },
      "source": [
        "# Feature engineering and scaling"
      ]
    },
    {
      "cell_type": "code",
      "metadata": {
        "id": "8s7dk9_P1QQx"
      },
      "source": [
        "data = mf.feature_engineering(data)\r\n",
        "data = mf.feature_scaling(data)\r\n",
        "data = pd.get_dummies(data)"
      ],
      "execution_count": 4,
      "outputs": []
    },
    {
      "cell_type": "markdown",
      "metadata": {
        "id": "LrumdQoJ5QF8"
      },
      "source": [
        "# Dynamic model"
      ]
    },
    {
      "cell_type": "code",
      "metadata": {
        "id": "aDuj-i196KBr"
      },
      "source": [
        "initial_splits = 4\r\n",
        "splits = 2\r\n",
        "tot_splits = 10   \r\n",
        "\r\n",
        "def split_data(data, tot_splits, verbose = False):\r\n",
        "  n_data = {}\r\n",
        "  dati_splitted = []\r\n",
        "  dati_fraud = []\r\n",
        "\r\n",
        "  for i in range(tot_splits):\r\n",
        "    dati_splitted.append(data[(data['TransactionDT']>=(i/tot_splits)) & (data['TransactionDT']<((i + 1)/tot_splits))]) \r\n",
        "    dati_fraud.append(dati_splitted[i][dati_splitted[i]['isFraud'] == 1])\r\n",
        "    if verbose: \r\n",
        "      dati_per_split = dati_splitted[i].count()[0]  \r\n",
        "      fraud_per_split = dati_fraud[i].count()[0]  \r\n",
        "      density = fraud_per_split / dati_per_split\r\n",
        "      n_data[i] = [dati_per_split, fraud_per_split, density.round(3)]\r\n",
        "  if verbose:\r\n",
        "    print(n_data)\r\n",
        "    print(dati_splitted)\r\n",
        "    print(dati_fraud)\r\n",
        "\r\n",
        "  return dati_splitted, dati_fraud\r\n",
        "\r\n",
        "dati_splitted, dati_fraud = split_data(data, tot_splits, verbose = False)"
      ],
      "execution_count": 5,
      "outputs": []
    },
    {
      "cell_type": "code",
      "metadata": {
        "id": "smy8tjpw_DMs"
      },
      "source": [
        "class ensemble:\r\n",
        "  def __init__(self):\r\n",
        "    self.score = 0\r\n",
        "    self.precision = 0\r\n",
        "    self.recall = 0\r\n",
        "    self.pred = []\r\n",
        "    self.proba = []\r\n",
        "    self.roc = 0\r\n",
        "    return \r\n",
        "\r\n",
        "  def predictions(self, X_val, xgb, soglia = 0.05):\r\n",
        "    from sklearn.metrics import roc_auc_score\r\n",
        "    y_mean = []\r\n",
        "    y_pred = []\r\n",
        "    self.proba = []\r\n",
        "\r\n",
        "    for t in xgb:\r\n",
        "      ''' if model_t is ensemble: predict\r\n",
        "          else: predict_proba '''\r\n",
        "      self.proba.append(xgb[t].predict_proba(X_val, validate_features = False)[:, 1]) \r\n",
        "\r\n",
        "    y_mean = np.mean(self.proba, axis = 0)\r\n",
        "    for p in y_mean:\r\n",
        "      if p > soglia:\r\n",
        "        y_pred.append(1)\r\n",
        "      else:\r\n",
        "        y_pred.append(0)\r\n",
        "    return y_pred\r\n",
        "\r\n",
        "\r\n",
        "  def performance(self, y_val):\r\n",
        "    from sklearn.metrics import roc_auc_score\r\n",
        "    from sklearn.metrics import f1_score, recall_score, precision_score\r\n",
        "\r\n",
        "    mf.plot_cm(y_val, self.pred, 'Blues', p = 0.05, dynamic = True)\r\n",
        "    print('\\n')\r\n",
        "    print('Ensemble confusion matrix')\r\n",
        "\r\n",
        "    self.score = f1_score(y_val, self.pred).round(2)\r\n",
        "    self.roc = roc_auc_score(y_val, self.pred).round(2)\r\n",
        "    self.precision = precision_score(y_val, self.pred,  average='binary').round(2)\r\n",
        "    self.recall = recall_score(y_val, self.pred, average='binary').round(2)\r\n",
        "\r\n",
        "    print('\\n')\r\n",
        "    print('Ensemble f1 score: ', self.score)\r\n",
        "    print('Ensemble model roc auc score: ', self.roc)\r\n",
        "    print('Ensemble model recall: ', self.recall)\r\n",
        "    print('Ensemble model precision: ', self.precision)\r\n",
        "    print('\\n')\r\n",
        "\r\n",
        "    return\r\n",
        "\r\n",
        "\r\n",
        "  def voting(self, X_val, y_val, xgb):\r\n",
        "    self.pred = ensemble.predictions(self, X_val, xgb)\r\n",
        "    ensemble.performance(self, y_val)\r\n",
        "    return self.pred , self.score\r\n"
      ],
      "execution_count": 6,
      "outputs": []
    },
    {
      "cell_type": "code",
      "metadata": {
        "id": "QrUQ-ye9PSyt"
      },
      "source": [
        "def predictions(model, X_val, soglia = 0.05):\r\n",
        "  y_pred = []\r\n",
        "  proba = model.predict_proba(X_val, validate_features = False)\r\n",
        "  for p in proba[:, 1]:\r\n",
        "    if p > soglia:\r\n",
        "      y_pred.append(1)\r\n",
        "    else:\r\n",
        "      y_pred.append(0)\r\n",
        "  return y_pred, proba"
      ],
      "execution_count": 7,
      "outputs": []
    },
    {
      "cell_type": "code",
      "metadata": {
        "id": "FWeK7vFAKQfe"
      },
      "source": [
        "def fraud_extraction(data, X_train, y_train, t):\r\n",
        "  if t > 0:\r\n",
        "    y = data['isFraud']\r\n",
        "    X = data.drop(['isFraud'], axis = 1)\r\n",
        "    X_train = pd.concat([X_train, X], axis=0)\r\n",
        "    y_train = pd.concat([y_train, y], axis=0)\r\n",
        "  return X_train, y_train"
      ],
      "execution_count": 8,
      "outputs": []
    },
    {
      "cell_type": "code",
      "metadata": {
        "id": "Pdy_H64wz6DN"
      },
      "source": [
        "def train_and_test_model(data, data_fraud, model_t, xgb, ens, score_t, t, keep_fraud = False):\r\n",
        "  import xgboost \r\n",
        "  from xgboost import XGBClassifier\r\n",
        "  from sklearn.metrics import roc_auc_score\r\n",
        "  from sklearn.metrics import f1_score\r\n",
        "\r\n",
        "  print('Training new model')\r\n",
        "  X_train, X_val, y_train, y_val = mf.split(data, test_size = 0.2)\r\n",
        "  if keep_fraud:\r\n",
        "    X_train, y_train = fraud_extraction(data_fraud, X_train, y_train, t)\r\n",
        "\r\n",
        "  xgb[t] = XGBClassifier(n_estimators = 1000, max_depth = 6, \r\n",
        "                      objective='binary:logistic', learning_rate = 0.5, \r\n",
        "                      tree_method='gpu_hist')\r\n",
        "  xgb[t].fit(X_train.to_numpy(), y_train.to_numpy())\r\n",
        "\r\n",
        "  print('New xgb performance')\r\n",
        "  soglie = [0.05]  \r\n",
        "  y_pred, proba = predictions(xgb[t], X_val)\r\n",
        "  mf.tresh(soglie, proba, y_val.to_numpy(), 'Blues')\r\n",
        "  '''\r\n",
        "  il modello viene testato solo sui nuovi dati\r\n",
        "  potrebbe essere meglio testarlo su tutti i dati precedenti.\r\n",
        "  se si fa cos', implemetarlo anche per l'ensemble\r\n",
        "  '''\r\n",
        "  new_score = f1_score(y_val, y_pred) # test del nuovo xgb sui nuovi dati \r\n",
        "\r\n",
        "  if t > 0:\r\n",
        "    old_score = score_t[t-1]\r\n",
        "    ens.voting(X_val, y_val, xgb)\r\n",
        "\r\n",
        "    score_dict = {\r\n",
        "        'new': new_score,\r\n",
        "        'old': old_score,\r\n",
        "        'ensemble': ens.score\r\n",
        "    }\r\n",
        "\r\n",
        "    print('Scores \\n', score_dict)\r\n",
        "    print('Selecting best model')\r\n",
        "    import operator\r\n",
        "    best_model = max(score_dict.items(), key=operator.itemgetter(1))[0]\r\n",
        "    best_score = score_dict[best_model]\r\n",
        "\r\n",
        "    if best_model == 'new':\r\n",
        "      return xgb[t], best_score, xgb[t]\r\n",
        "    if best_model == 'old':\r\n",
        "      return model_t[t-1], best_score, xgb[t-1]\r\n",
        "    if best_model == 'ensemble':\r\n",
        "      return ens, ens.score, xgb[t]\r\n",
        "  else:\r\n",
        "    return xgb[t], new_score, xgb[t]"
      ],
      "execution_count": 9,
      "outputs": []
    },
    {
      "cell_type": "code",
      "metadata": {
        "colab": {
          "base_uri": "https://localhost:8080/",
          "height": 1000
        },
        "id": "uKiv5crhgqGt",
        "outputId": "23055d41-abf8-454a-bc6f-d0ded51705b7"
      },
      "source": [
        "def dinamic_model(initial_splits, splits, tot_splits, data, data_fraud):\r\n",
        "  tmax = np.ceil((tot_splits) / splits) #  massimo numero di iterazioni possibili \r\n",
        "  data_t = {} # contiene i dati dello split \r\n",
        "  data_fraud_t = {} # contiene le transazioni fraudolente \r\n",
        "  model_t = {} # contiene il modello in uso al tempo t\r\n",
        "  xgb = {} # contiene gli xgb trainati solo sullo split t \r\n",
        "  score_t = {} # contiene lo score dei modelli \r\n",
        "  ens = ensemble() # ensemble dei modelli \r\n",
        "\r\n",
        "  for t in range(int(tmax - 1)):\r\n",
        "    if t == 0:\r\n",
        "      start = 0\r\n",
        "      end = initial_splits\r\n",
        "      data_fraud_t[t] = None\r\n",
        "    else:\r\n",
        "      start = splits * (t - 1) + initial_splits\r\n",
        "      end = start + splits\r\n",
        "      start_fraud = splits * (t - 2) + initial_splits\r\n",
        "      end_fraud = start + splits\r\n",
        "      data_fraud_t[t] = pd.concat(data_fraud[start_fraud:end_fraud])\r\n",
        "    data_t[t] = pd.concat(dati_splitted[start:end])\r\n",
        "    print('\\n')\r\n",
        "    print('\\n')\r\n",
        "    print('Current iteration: ', t)\r\n",
        "    model_t[t], score_t[t], xgb[t] = train_and_test_model(data_t[t], data_fraud_t[t], model_t, xgb, ens, score_t, t, keep_fraud = False) # ricavo il modello più performante\r\n",
        "    print('Best current model f1 score: ', score_t[t].round(2)) \r\n",
        "    print('\\n')\r\n",
        "  return model_t[t], score_t[t], xgb[t]\r\n",
        "\r\n",
        "model, score, xgb = dinamic_model(initial_splits, splits, tot_splits, data, dati_fraud)\r\n",
        "print('Score: ', score)\r\n",
        "print('Model: ', model)"
      ],
      "execution_count": 10,
      "outputs": [
        {
          "output_type": "stream",
          "text": [
            "Current iteration:  0\n",
            "Training new model\n",
            "New xgb performance\n",
            "Soglia:  0.05\n",
            "F1 score:  0.79\n",
            "Recall:  0.8\n",
            "Precision:  0.79\n",
            "\n",
            "\n"
          ],
          "name": "stdout"
        },
        {
          "output_type": "display_data",
          "data": {
            "image/png": "[encoded data removed]",
            "text/plain": [
              "<Figure size 360x360 with 2 Axes>"
            ]
          },
          "metadata": {
            "tags": [],
            "needs_background": "light"
          }
        },
        {
          "output_type": "stream",
          "text": [
            "\n",
            "\n",
            "Best current model f1 score:  0.79\n",
            "Current iteration:  1\n",
            "Training new model\n",
            "New xgb performance\n",
            "Soglia:  0.05\n",
            "F1 score:  0.8\n",
            "Recall:  0.78\n",
            "Precision:  0.81\n",
            "\n",
            "\n"
          ],
          "name": "stdout"
        },
        {
          "output_type": "display_data",
          "data": {
            "image/png": "[encoded data removed]",
            "text/plain": [
              "<Figure size 360x360 with 2 Axes>"
            ]
          },
          "metadata": {
            "tags": [],
            "needs_background": "light"
          }
        },
        {
          "output_type": "stream",
          "text": [
            "\n",
            "\n"
          ],
          "name": "stdout"
        },
        {
          "output_type": "display_data",
          "data": {
            "image/png": "[encoded data removed]",
            "text/plain": [
              "<Figure size 360x360 with 2 Axes>"
            ]
          },
          "metadata": {
            "tags": [],
            "needs_background": "light"
          }
        },
        {
          "output_type": "stream",
          "text": [
            "Ensemble confusion matrix\n",
            "Ensemble f1 score:  0.72\n",
            "Ensemble model recall:  0.89\n",
            "Ensemble model recall:  0.79\n",
            "Ensemble model precision:  0.66\n",
            "Scores \n",
            " {'new': 0.7973219720024346, 'old': 0.7936872309899569, 'ensemble': 0.72}\n",
            "Selecting best model\n",
            "Best current model f1 score:  0.8\n",
            "Current iteration:  2\n",
            "Training new model\n",
            "New xgb performance\n",
            "Soglia:  0.05\n",
            "F1 score:  0.79\n",
            "Recall:  0.81\n",
            "Precision:  0.78\n",
            "\n",
            "\n"
          ],
          "name": "stdout"
        },
        {
          "output_type": "display_data",
          "data": {
            "image/png": "[encoded data removed]",
            "text/plain": [
              "<Figure size 360x360 with 2 Axes>"
            ]
          },
          "metadata": {
            "tags": [],
            "needs_background": "light"
          }
        },
        {
          "output_type": "stream",
          "text": [
            "\n",
            "\n"
          ],
          "name": "stdout"
        },
        {
          "output_type": "display_data",
          "data": {
            "image/png": "[encoded data removed]",
            "text/plain": [
              "<Figure size 360x360 with 2 Axes>"
            ]
          },
          "metadata": {
            "tags": [],
            "needs_background": "light"
          }
        },
        {
          "output_type": "stream",
          "text": [
            "Ensemble confusion matrix\n",
            "Ensemble f1 score:  0.68\n",
            "Ensemble model recall:  0.89\n",
            "Ensemble model recall:  0.8\n",
            "Ensemble model precision:  0.59\n",
            "Scores \n",
            " {'new': 0.794188861985472, 'old': 0.7973219720024346, 'ensemble': 0.68}\n",
            "Selecting best model\n",
            "Best current model f1 score:  0.8\n",
            "Current iteration:  3\n",
            "Training new model\n",
            "New xgb performance\n",
            "Soglia:  0.05\n",
            "F1 score:  0.8\n",
            "Recall:  0.78\n",
            "Precision:  0.82\n",
            "\n",
            "\n"
          ],
          "name": "stdout"
        },
        {
          "output_type": "display_data",
          "data": {
            "image/png": "[encoded data removed]",
            "text/plain": [
              "<Figure size 360x360 with 2 Axes>"
            ]
          },
          "metadata": {
            "tags": [],
            "needs_background": "light"
          }
        },
        {
          "output_type": "stream",
          "text": [
            "\n",
            "\n"
          ],
          "name": "stdout"
        },
        {
          "output_type": "display_data",
          "data": {
            "image/png": "[encoded data removed]",
            "text/plain": [
              "<Figure size 360x360 with 2 Axes>"
            ]
          },
          "metadata": {
            "tags": [],
            "needs_background": "light"
          }
        },
        {
          "output_type": "stream",
          "text": [
            "Ensemble confusion matrix\n",
            "Ensemble f1 score:  0.62\n",
            "Ensemble model recall:  0.87\n",
            "Ensemble model recall:  0.78\n",
            "Ensemble model precision:  0.52\n",
            "Scores \n",
            " {'new': 0.7963483146067416, 'old': 0.7973219720024346, 'ensemble': 0.62}\n",
            "Selecting best model\n",
            "Best current model f1 score:  0.8\n",
            "Score:  0.7973219720024346\n",
            "Model:  XGBClassifier(base_score=0.5, booster='gbtree', colsample_bylevel=1,\n",
            "              colsample_bynode=1, colsample_bytree=1, gamma=0,\n",
            "              learning_rate=0.5, max_delta_step=0, max_depth=6,\n",
            "              min_child_weight=1, missing=None, n_estimators=1000, n_jobs=1,\n",
            "              nthread=None, objective='binary:logistic', random_state=0,\n",
            "              reg_alpha=0, reg_lambda=1, scale_pos_weight=1, seed=None,\n",
            "              silent=None, subsample=1, tree_method='gpu_hist', verbosity=1)\n"
          ],
          "name": "stdout"
        }
      ]
    },
    {
      "cell_type": "code",
      "metadata": {
        "id": "hc7yVfb5n_Tv"
      },
      "source": [
        "# X_train, X_val, y_train, y_val = mf.split(pd.concat(dati_splitted[:initial_splits - 1]), test_size = 0.2)\r\n",
        "# X_train, X_test, y_train, y_test = train_test_split(X_train, y_train, test_size=0.25, random_state=42)"
      ],
      "execution_count": 11,
      "outputs": []
    }
  ]
}