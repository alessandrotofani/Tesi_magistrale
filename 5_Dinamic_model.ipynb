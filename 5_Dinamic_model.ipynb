{
  "nbformat": 4,
  "nbformat_minor": 0,
  "metadata": {
    "colab": {
      "name": "5_Dinamic_model_new.ipynb",
      "provenance": [],
      "authorship_tag": "ABX9TyNSN6qDnV7Vd9hvlwjL8aCF",
      "include_colab_link": true
    },
    "kernelspec": {
      "name": "python3",
      "display_name": "Python 3"
    },
    "accelerator": "GPU"
  },
  "cells": [
    {
      "cell_type": "markdown",
      "metadata": {
        "id": "view-in-github",
        "colab_type": "text"
      },
      "source": [
        "<a href=\"https://colab.research.google.com/github/alessandrotofani/Tesi_magistrale/blob/master/5_Dinamic_model.ipynb\" target=\"_parent\"><img src=\"https://colab.research.google.com/assets/colab-badge.svg\" alt=\"Open In Colab\"/></a>"
      ]
    },
    {
      "cell_type": "markdown",
      "metadata": {
        "id": "z-7rH_UhAPGR"
      },
      "source": [
        "# Import"
      ]
    },
    {
      "cell_type": "code",
      "metadata": {
        "id": "SwkBbxNMK8Fv",
        "colab": {
          "base_uri": "https://localhost:8080/"
        },
        "outputId": "486c3a98-8105-45e3-cece-0d4fd26b18ad"
      },
      "source": [
        "import numpy as np \r\n",
        "import pandas as pd \r\n",
        "import matplotlib\r\n",
        "import matplotlib.pyplot as plt\r\n",
        "import seaborn as sns\r\n",
        "import os\r\n",
        "from google.colab import drive\r\n",
        "drive.mount('/content/drive')\r\n",
        "from sklearn.model_selection import train_test_split"
      ],
      "execution_count": 1,
      "outputs": [
        {
          "output_type": "stream",
          "text": [
            "Drive already mounted at /content/drive; to attempt to forcibly remount, call drive.mount(\"/content/drive\", force_remount=True).\n"
          ],
          "name": "stdout"
        }
      ]
    },
    {
      "cell_type": "code",
      "metadata": {
        "id": "9UBtZ7vSkof3"
      },
      "source": [
        "import sys \r\n",
        "sys.path.append('/content/drive/MyDrive/Tesi_magistrale/Tesi_magistrale')\r\n",
        "import mf"
      ],
      "execution_count": 2,
      "outputs": []
    },
    {
      "cell_type": "code",
      "metadata": {
        "id": "RYEwRKTV1NvR"
      },
      "source": [
        "data = pd.read_csv('/content/drive/MyDrive/Tesi_magistrale/Dataset/IEEE/Output/data.csv')\r\n",
        "data.drop(data.columns[data.columns.str.contains('unnamed',case = False)],axis = 1, inplace = True)"
      ],
      "execution_count": 3,
      "outputs": []
    },
    {
      "cell_type": "markdown",
      "metadata": {
        "id": "ouPK38wK1Ytv"
      },
      "source": [
        "# Feature engineering and scaling"
      ]
    },
    {
      "cell_type": "code",
      "metadata": {
        "id": "8s7dk9_P1QQx"
      },
      "source": [
        "data = mf.feature_engineering(data)\r\n",
        "data = mf.feature_scaling(data)\r\n",
        "data = pd.get_dummies(data)"
      ],
      "execution_count": 4,
      "outputs": []
    },
    {
      "cell_type": "markdown",
      "metadata": {
        "id": "ufgfSciYOIqL"
      },
      "source": [
        "# Dinamic model"
      ]
    },
    {
      "cell_type": "code",
      "metadata": {
        "id": "NdLWKPHvOJb7"
      },
      "source": [
        "init_splits = 4 # numero di split su cui il modello iniziale (t=0) si allena \r\n",
        "incoming_splits = 2 # nuovi split che arrivano ad ogni nuovo dt, e su cui si allena il nuovo modello\r\n",
        "tot_splits = 10 # split totali in cui sarà diviso il dataset"
      ],
      "execution_count": 5,
      "outputs": []
    },
    {
      "cell_type": "code",
      "metadata": {
        "id": "jxTnn6PcOYqE"
      },
      "source": [
        "def get_split_id(data, init_splits, incoming_splits, tot_splits): # serve per splittare il dataset in tot_splits\r\n",
        "  '''\r\n",
        "  in\r\n",
        "  data: dataset che si vuole splittare\r\n",
        "  init_splits: numero di split su cui il modello iniziale (t=0) si allena \r\n",
        "  incoming_splits: nuovi split che arrivano ad ogni nuovo dt, e su cui si allena il nuovo modello\r\n",
        "  tot_splits: split totali in cui sarà diviso il dataset\r\n",
        "  out\r\n",
        "  id: dizionario che contiene (split : id righe selezionate)\r\n",
        "  id_fraud: come id, solo che sono selezionate solo le transazioni fraudolente \r\n",
        "  '''\r\n",
        "  id = {} # dizionario con (split : id_righe)\r\n",
        "  id_fraud = {} # dizionario con (split: id righe transazioni fraudolente)\r\n",
        "  for i in range(tot_splits):\r\n",
        "    id[i] = data[(data['TransactionDT']>=(i/tot_splits)) & (data['TransactionDT']<((i + 1)/tot_splits))].index.tolist()\r\n",
        "    id_fraud[i] = data[(data['TransactionDT']>=(i/tot_splits)) & (data['TransactionDT']<((i + 1)/tot_splits)) & (data['isFraud'] == 1)].index.tolist()\r\n",
        "    \r\n",
        "  return id, id_fraud"
      ],
      "execution_count": 6,
      "outputs": []
    },
    {
      "cell_type": "code",
      "metadata": {
        "id": "PtMpJb8jQ_B1"
      },
      "source": [
        "class model:\r\n",
        "  name = 'XGBoost'\r\n",
        "\r\n",
        "  def __init__(self, t): # costruttore\r\n",
        "    '''\r\n",
        "    in\r\n",
        "    t: istante temporale\r\n",
        "    '''\r\n",
        "    self.t = t\r\n",
        "    self.f1 = 0\r\n",
        "    self.precision = 0\r\n",
        "    self.recall = 0\r\n",
        "    self.roc = 0\r\n",
        "    self.proba = []\r\n",
        "    self.prediction = []\r\n",
        "    self.train_id = [] # lista con le righe su cui il modello si è allenato\r\n",
        "    self.val_id = [] # lista con le righe su cui il modello viene validato\r\n",
        "    return\r\n",
        "\r\n",
        "  def __str__(self): # print dell'oggetto\r\n",
        "    return f\"{self.name}, at time {self.t}, with f1 score of {self.f1}\"\r\n",
        "\r\n",
        "  def init_xgb(self, estimators = 10, depth = 2): # inizializza xgb 2000, 6\r\n",
        "    import xgboost \r\n",
        "    from xgboost import XGBClassifier\r\n",
        "    self.xgb = XGBClassifier(n_estimators = estimators, max_depth = depth, \r\n",
        "                      objective='binary:logistic', learning_rate = 0.5, \r\n",
        "                      tree_method='gpu_hist')\r\n",
        "    return f'{self.name} at time {self.t}, has been initialized.'\r\n",
        "  \r\n",
        "  def train_xgb(self, X_train, y_train): # traina il modello\r\n",
        "    # self.xgb.fit(X_train.to_numpy(), y_train.to_numpy())\r\n",
        "    self.xgb.fit(X_train.to_numpy(), y_train)\r\n",
        "    return f'{self.name} is now trained!'\r\n",
        "\r\n",
        "  def get_set(self, data, id_list): # restituisce il subset dati gli id delle righe\r\n",
        "    # id_list: è l'elemento id[t] \r\n",
        "    subset = data.iloc[id_list,:]\r\n",
        "    return subset\r\n",
        "\r\n",
        "  def proba_predictions(self, X_val): # restituisce le probabilità\r\n",
        "    if not self.xgb:\r\n",
        "      return f'{self.name} is not declared. You need to use init_xgb'\r\n",
        "    self.proba = self.xgb.predict_proba(X_val, validate_features = False)\r\n",
        "    return self.proba\r\n",
        "\r\n",
        "  def aggregate(self, soglia = 0.05): # resituisce la classe\r\n",
        "    # if not self.proba:\r\n",
        "    #   return f'self.proba is empty. Before aggregate, you need to use proba_predictions'\r\n",
        "    self.prediction = []\r\n",
        "    for proba in self.proba[:,1]:\r\n",
        "      if proba > soglia:\r\n",
        "        self.prediction.append(1)\r\n",
        "      else:\r\n",
        "        self.prediction.append(0)\r\n",
        "    return f'Classification has been councluded!'\r\n",
        "\r\n",
        "  def performance(self, y_val, soglia = 0.05): # printa le performance del modello \r\n",
        "    from sklearn.metrics import roc_auc_score, f1_score, recall_score, precision_score\r\n",
        "    \r\n",
        "    print('\\n')\r\n",
        "    print('Confusion matrix of model', self.name,'of time', self.t)\r\n",
        "    mf.plot_cm(y_val, self.prediction, 'Blues', p = soglia, dynamic = True)\r\n",
        "    \r\n",
        "    self.score = f1_score(y_val, self.prediction).round(2)\r\n",
        "    self.roc = roc_auc_score(y_val, self.prediction).round(2)\r\n",
        "    self.precision = precision_score(y_val, self.prediction,  average='binary').round(2)\r\n",
        "    self.recall = recall_score(y_val, self.prediction, average='binary').round(2)\r\n",
        "\r\n",
        "    print('\\n')\r\n",
        "    print('Model f1 score: ', self.score)\r\n",
        "    print('Model roc auc score: ', self.roc)\r\n",
        "    print('Model recall: ', self.recall)\r\n",
        "    print('Model precision: ', self.precision)\r\n",
        "    print('\\n')\r\n",
        "    return "
      ],
      "execution_count": 7,
      "outputs": []
    },
    {
      "cell_type": "code",
      "metadata": {
        "id": "AlIsUnQQZ8nU"
      },
      "source": [
        "class nn(model):\r\n",
        "  name = 'Neural network'\r\n",
        "\r\n",
        "  def init_nn(self, n_features):\r\n",
        "    import tensorflow as tf\r\n",
        "    from tensorflow import keras\r\n",
        "    from tensorflow.keras.models import Sequential\r\n",
        "    from tensorflow.keras.layers import Flatten, Dense, Dropout, Input\r\n",
        "    self.nn = Sequential()\r\n",
        "    self.nn.add(Input(shape=(n_features,))) \r\n",
        "    self.nn.add(Dense(1024, activation='relu')) \r\n",
        "    self.nn.add(Dropout(0.2)) \r\n",
        "    self.nn.add(Dense(512, activation='relu')) \r\n",
        "    self.nn.add(Dropout(0.2)) \r\n",
        "    self.nn.add(Dense(256, activation='relu')) \r\n",
        "    self.nn.add(Dropout(0.2))\r\n",
        "    self.nn.add(Dense(128, activation='relu')) \r\n",
        "    self.nn.add(Dropout(0.2))\r\n",
        "    self.nn.add(Dense(24, activation='relu')) \r\n",
        "    self.nn.add(Dropout(0.2))\r\n",
        "    self.nn.add(Dense(4, activation='relu')) \r\n",
        "    self.nn.add(Dropout(0.2))\r\n",
        "    self.nn.add(Dense(1, activation='sigmoid')) \r\n",
        "\r\n",
        "    self.nn.compile( loss='binary_crossentropy', optimizer='adam', metrics=['accuracy'])\r\n",
        "    return f'{self.name} initialized'\r\n",
        "\r\n",
        "  def train_nn(self, X_train, y_train):\r\n",
        "    from sklearn.model_selection import train_test_split\r\n",
        "    X_train, X_val, y_train, y_val = train_test_split(X_train, y_train, test_size=0.2, random_state=42)\r\n",
        "    history = self.nn.fit(X_train.to_numpy(), y_train, \r\n",
        "                          epochs=2, batch_size=2000, \r\n",
        "                          # epochs=20, batch_size=2000, \r\n",
        "                          validation_data=(X_val.to_numpy(), y_val), verbose=1, shuffle = True)\r\n",
        "    return f'{self.name} trained.'\r\n",
        "\r\n",
        "  #override\r\n",
        "  def proba_predictions(self, X_val): # restituisce le probabilità\r\n",
        "    if not self.nn:\r\n",
        "      return f'{self.name} is not declared. You need to use init_nn'\r\n",
        "    self.proba = self.nn.predict(X_val.to_numpy())#, validate_features = False)\r\n",
        "    return self.proba\r\n",
        "\r\n",
        "  #override\r\n",
        "  def aggregate(self, soglia = 0.05): # resituisce la classe\r\n",
        "    self.prediction = []\r\n",
        "    for proba in self.proba:\r\n",
        "      if proba > soglia:\r\n",
        "        self.prediction.append(1)\r\n",
        "      else:\r\n",
        "        self.prediction.append(0)\r\n",
        "    return f'Classification has been councluded!'"
      ],
      "execution_count": 8,
      "outputs": []
    },
    {
      "cell_type": "code",
      "metadata": {
        "id": "72mPUBaza2zv"
      },
      "source": [
        "class ensemble(model): # child class di model\r\n",
        "  name = 'Ensemble'\r\n",
        "  # come model_dict passare il dizionario in cui si salvano gli ensemble\r\n",
        "\r\n",
        "  #override \r\n",
        "  def proba_predictions(self, model_dict, X_val): # restituisce le probabilità predette \r\n",
        "    prob = []\r\n",
        "    for t in model_dict:\r\n",
        "      if model_dict[t].name == 'XGBoost':\r\n",
        "        prob.append(model_dict[t].proba_predictions(X_val)[:,1])\r\n",
        "      if model_dict[t].name == 'Neural network':\r\n",
        "        prob.append(model_dict[t].proba_predictions(X_val))\r\n",
        "    self.proba = np.mean(prob, axis = 0)\r\n",
        "    return f'Proba acquired.'\r\n",
        "  \r\n",
        "  #override\r\n",
        "  def aggregate(self, soglia = 0.05): # restituisce la classe predetta \r\n",
        "    for proba in self.proba:\r\n",
        "      if proba > soglia:\r\n",
        "        self.prediction.append(1)\r\n",
        "      else:\r\n",
        "        self.prediction.append(0)\r\n",
        "    return f'Classification has been councluded!'"
      ],
      "execution_count": 9,
      "outputs": []
    },
    {
      "cell_type": "code",
      "metadata": {
        "id": "T6Neus5uAUhU"
      },
      "source": [
        "def get_t_id(data, id, id_fraud, t, init_splits, incoming_splits): # restituisce la lista degli id corrispondente all'istante temporale t \r\n",
        "  '''\r\n",
        "  data: dataset da cui selezionare le transazioni\r\n",
        "  id: lista con gli id delle righe\r\n",
        "  t: istante temporale\r\n",
        "  init_splits: split totali in cui sarà diviso il dataset\r\n",
        "  incoming_splits: nuovi split che arrivano ad ogni nuovo dt, e su cui si allena il nuovo modello\r\n",
        "  out\r\n",
        "  id_list: lista con gli id delle righe selezionate a seconda dell'istante temporale specificato  \r\n",
        "  '''\r\n",
        "  id_list = [] # lista che conterrà le righe da usare al tempo t\r\n",
        "  id_list_fraud = [] # lista che conterrà le righe con transazioni fraud da usare al tempo t\r\n",
        "\r\n",
        "  if t == 0: \r\n",
        "    start = 0\r\n",
        "    end = init_splits\r\n",
        "  else:\r\n",
        "    start = incoming_splits * (t - 1) + init_splits\r\n",
        "    end = start + incoming_splits\r\n",
        "\r\n",
        "  if t == 1:\r\n",
        "    start_fraud = 0\r\n",
        "    end_fraud = init_splits\r\n",
        "  else:\r\n",
        "    start_fraud = 0\r\n",
        "    end_fraud = incoming_splits * (t - 1) + init_splits + incoming_splits \r\n",
        "\r\n",
        "    \r\n",
        "\r\n",
        "  for n in range(start,end):\r\n",
        "    id_list += id[n]\r\n",
        "  \r\n",
        "  if t > 0:\r\n",
        "    for n in range(start_fraud, end_fraud):\r\n",
        "      id_list_fraud += id_fraud[n]\r\n",
        "\r\n",
        "  return id_list, id_list_fraud"
      ],
      "execution_count": 10,
      "outputs": []
    },
    {
      "cell_type": "code",
      "metadata": {
        "id": "H6Zv9r_eD1Nr"
      },
      "source": [
        "def train_model(sel_model, last_model, data, id_t, id_fraud_t, keep_fraud, keep_safe): # funzione per sistemare il dataset e trainare il modello\r\n",
        "  '''\r\n",
        "  sel_model: modello da trainare\r\n",
        "  data: dataset\r\n",
        "  id_t: id delle righe su cui trainare il modello\r\n",
        "  '''\r\n",
        "  import random \r\n",
        "\r\n",
        "\r\n",
        "\r\n",
        "  # Train test split\r\n",
        "  subset = sel_model.get_set(data, id_t) # seleziono il subset su cui il modello si allenerà\r\n",
        "  X_train, X_val, y_train, y_val = mf.split(subset, test_size = 0.2) # train test split\r\n",
        "\r\n",
        "  # unione transazioni fraudolente degli step precedenti\r\n",
        "  if keep_fraud:\r\n",
        "    X_train_fraud = sel_model.get_set(data, id_fraud_t)\r\n",
        "  if keep_safe:\r\n",
        "    sample_size = int(np.ceil(len(last_model.train_id) * 0.1))\r\n",
        "    id_safe_t = random.sample(last_model.train_id, sample_size)\r\n",
        "    X_train_safe = last_model.get_set(data, id_safe_t)\r\n",
        "\r\n",
        "  if keep_safe and keep_fraud:\r\n",
        "    X_train = pd.concat([X_train, X_train_fraud, X_train_safe])\r\n",
        "    y_train_safe = np.zeros(X_train_safe.shape[0])\r\n",
        "    y_train_fraud = np.ones(X_train_fraud.shape[0])\r\n",
        "    y_train = np.concatenate((y_train, y_train_fraud, y_train_safe), axis=None)\r\n",
        "\r\n",
        "  if keep_safe and not keep_fraud:\r\n",
        "    X_train = pd.concat([X_train, X_train_fraud])\r\n",
        "    y_train_fraud = np.ones(X_train_fraud.shape[0])\r\n",
        "    y_train = np.concatenate((y_train, y_train_fraud), axis=None)\r\n",
        "\r\n",
        "  # salvataggio degli id nel modello\r\n",
        "  sel_model.train_id = X_train.index.tolist() # salvo gli id del training set \r\n",
        "  sel_model.val_id = X_val.index.tolist() # salvo gli id del test set\r\n",
        "\r\n",
        "  # Training del modello\r\n",
        "  soglia = 0.05\r\n",
        "  if sel_model.name == 'XGBoost':\r\n",
        "    sel_model.init_xgb() # inizializzo xgb\r\n",
        "    sel_model.train_xgb(X_train, y_train) # train di xgb \r\n",
        "  \r\n",
        "  if sel_model.name == 'Neural network':\r\n",
        "    n_features = X_train.shape[1]\r\n",
        "    sel_model.init_nn(n_features)\r\n",
        "    print(X_train)\r\n",
        "    sel_model.train_nn(X_train, y_train)\r\n",
        "\r\n",
        "\r\n",
        "  return f'Training ended. \\n'"
      ],
      "execution_count": 11,
      "outputs": []
    },
    {
      "cell_type": "code",
      "metadata": {
        "id": "wwC4yBClLSUs"
      },
      "source": [
        "def test_model(sel_model, model_dict, t, data, soglia): # test del modello\r\n",
        "  '''\r\n",
        "  in\r\n",
        "  sel_model: modello da trainare\r\n",
        "  model_dict: dizionario contenente i vari modelli\r\n",
        "  t: istante temporale\r\n",
        "  data: dataset\r\n",
        "  soglia: soglia sulla probabilità \r\n",
        "  '''\r\n",
        "  id_list = []\r\n",
        "  for i in model_dict:\r\n",
        "    id_list += model_dict[i].val_id\r\n",
        "  # id_list = last_model.val_id # seleziono le righe su cui va validato l'ultimo modello\r\n",
        "  subset = sel_model.get_set(data, id_list) # seleziono il set su cui valido i dati\r\n",
        "  y_val = subset['isFraud']\r\n",
        "  X_val = subset.drop(columns=['isFraud'], axis = 1)\r\n",
        "\r\n",
        "  sel_model.proba_predictions(X_val) # predict_proba\r\n",
        "  sel_model.aggregate(soglia = soglia) # predict\r\n",
        "\r\n",
        "  sel_model.performance(y_val, soglia = soglia) # valuta le performance del modello\r\n",
        "  return "
      ],
      "execution_count": 12,
      "outputs": []
    },
    {
      "cell_type": "code",
      "metadata": {
        "id": "oTVI-DcxJECb"
      },
      "source": [
        "def test_ensemble(ens, model_dict, t, data, id_t): # testa le performance dell'ensemble\r\n",
        "  '''\r\n",
        "  ens: ensemble da testare \r\n",
        "  model_dict: dizionario con i modelli\r\n",
        "  t: istante temporale\r\n",
        "  data: dataset\r\n",
        "  id_t: righe da usare all'istante t-esimo\r\n",
        "  '''\r\n",
        "  id_list = []\r\n",
        "  for i in model_dict:\r\n",
        "    id_list += model_dict[i].val_id\r\n",
        "  subset = model_dict[t].get_set(data, id_list) # seleziono il set su cui valido i dati\r\n",
        "  # subset = model_dict[t].get_set(data, id_t) # seleziono il set su cui valido i dati\r\n",
        "  y_val = subset['isFraud']\r\n",
        "  X_val = subset.drop(columns=['isFraud'], axis = 1)\r\n",
        "  ens.proba_predictions(model_dict, X_val) # predict_proba dell'ensemble\r\n",
        "  ens.aggregate() # predict dell'ensemble\r\n",
        "  ens.performance(y_val) # valuto le performance\r\n",
        "  return f'Ensemble testing ended. \\n'"
      ],
      "execution_count": 13,
      "outputs": []
    },
    {
      "cell_type": "code",
      "metadata": {
        "id": "tCjWWWdCfsix"
      },
      "source": [
        "def get_best_model(xgb, nn):\r\n",
        "  if xgb.f1 > nn.f1:\r\n",
        "    return xgb\r\n",
        "  else:\r\n",
        "    return nn"
      ],
      "execution_count": 14,
      "outputs": []
    },
    {
      "cell_type": "code",
      "metadata": {
        "id": "_GaailvFPVir"
      },
      "source": [
        "def dinamic_model(data, id, id_fraud, init_splits, incoming_splits, tot_splits, keep_fraud, keep_safe):\r\n",
        "  tmax = np.ceil((tot_splits - init_splits) / incoming_splits)\r\n",
        "  model_dict = {}\r\n",
        "  xgb_dict = {}\r\n",
        "  nn_dict = {}\r\n",
        "  ensemble_dict = {}\r\n",
        "  soglia = 0.05\r\n",
        "\r\n",
        "  for t in range(int(tmax + 1)):\r\n",
        "    print('Time ', t)\r\n",
        "    id_t, id_fraud_t = get_t_id(data, id, id_fraud, t, init_splits, incoming_splits) # ottengo gli id delle righe da usare al tempo t-esimo\r\n",
        "    # model_dict[t] = model(t) # inizializzo il modello t-esimo \r\n",
        "    xgb_dict[t] = model(t)\r\n",
        "    nn_dict[t] = nn(t)\r\n",
        "    if t == 0:\r\n",
        "      # train_model(model_dict[t], None, data, id_t, id_fraud_t, keep_fraud = False, keep_safe = False) # train e test del modello t-esimo\r\n",
        "      train_model(xgb_dict[t], None, data, id_t, id_fraud_t, keep_fraud = False, keep_safe = False) # train e test del modello t-esimo\r\n",
        "      train_model(nn_dict[t], None, data, id_t, id_fraud_t, keep_fraud = False, keep_safe = False) # train e test del modello t-esimo\r\n",
        "      \r\n",
        "      test_model(xgb_dict[t], xgb_dict, t, data, soglia)\r\n",
        "      test_model(nn_dict[t], nn_dict, t, data, soglia)\r\n",
        "      model_dict[t] = get_best_model(xgb_dict[t], nn_dict[t])\r\n",
        "      \r\n",
        "    if t > 0:\r\n",
        "      # train_model(model_dict[t], model_dict[t-1], data, id_t, id_fraud_t, keep_fraud, keep_safe) # train e test del modello t-esimo\r\n",
        "      train_model(xgb_dict[t], model_dict[t-1], data, id_t, id_fraud_t, keep_fraud, keep_safe) # train e test del modello t-esimo\r\n",
        "      train_model(nn_dict[t], model_dict[t-1], data, id_t, id_fraud_t, keep_fraud, keep_safe) # train e test del modello t-esimo\r\n",
        "      \r\n",
        "      test_model(xgb_dict[t], xgb_dict, t, data, soglia)\r\n",
        "      test_model(nn_dict[t], nn_dict, t, data, soglia)\r\n",
        "      model_dict[t] = get_best_model(xgb_dict[t], nn_dict[t])\r\n",
        "\r\n",
        "      ensemble_dict[t] = ensemble(t) # inizializzo l'ensemble t-esimo\r\n",
        "      test_ensemble(ensemble_dict[t], model_dict, t, data, id_t) # testo l'ensemble\r\n",
        "    # for i in model_dict:\r\n",
        "    #   test_model(model_dict[i], model_dict, t, data, soglia)\r\n",
        "\r\n",
        "  return model_dict, ensemble_dict"
      ],
      "execution_count": 15,
      "outputs": []
    },
    {
      "cell_type": "code",
      "metadata": {
        "colab": {
          "base_uri": "https://localhost:8080/",
          "height": 1000
        },
        "id": "FiXWYKJ69d5J",
        "outputId": "58e77435-05e7-4bdb-8657-b32ddb9d2938"
      },
      "source": [
        "id, id_fraud = get_split_id(data, init_splits, incoming_splits, tot_splits) # splitta le righe in base agli split dichiarati\r\n",
        "model_dict, ensemble_dict = dinamic_model(data, id, id_fraud, init_splits, incoming_splits, tot_splits, keep_fraud = False, keep_safe = False)"
      ],
      "execution_count": 16,
      "outputs": [
        {
          "output_type": "stream",
          "text": [
            "Time  0\n",
            "        TransactionDT  TransactionAmt  ...  screen_h_990  screen_h_992\n",
            "177769       0.240957        0.000492  ...             0             0\n",
            "117048       0.138588        0.001080  ...             0             0\n",
            "140471       0.177187        0.000719  ...             0             0\n",
            "114006       0.135713        0.002796  ...             0             0\n",
            "245549       0.366511        0.001714  ...             0             0\n",
            "...               ...             ...  ...           ...           ...\n",
            "119879       0.143011        0.000993  ...             0             0\n",
            "259178       0.389652        0.001840  ...             0             0\n",
            "131932       0.160772        0.051687  ...             0             0\n",
            "146867       0.186397        0.001494  ...             0             0\n",
            "121958       0.147102        0.005346  ...             0             0\n",
            "\n",
            "[211120 rows x 1103 columns]\n",
            "Epoch 1/2\n",
            "85/85 [==============================] - 5s 32ms/step - loss: 0.2142 - accuracy: 0.9598 - val_loss: 0.1179 - val_accuracy: 0.9668\n",
            "Epoch 2/2\n",
            "85/85 [==============================] - 2s 21ms/step - loss: 0.1437 - accuracy: 0.9663 - val_loss: 0.1170 - val_accuracy: 0.9668\n",
            "\n",
            "\n",
            "Confusion matrix of model XGBoost of time 0\n"
          ],
          "name": "stdout"
        },
        {
          "output_type": "display_data",
          "data": {
            "image/png": "[encoded data removed]",
            "text/plain": [
              "<Figure size 360x360 with 2 Axes>"
            ]
          },
          "metadata": {
            "tags": [],
            "needs_background": "light"
          }
        },
        {
          "output_type": "stream",
          "text": [
            "\n",
            "\n",
            "Model f1 score:  0.25\n",
            "Model roc auc score:  0.78\n",
            "Model recall:  0.68\n",
            "Model precision:  0.15\n",
            "\n",
            "\n",
            "\n",
            "\n",
            "Confusion matrix of model Neural network of time 0\n"
          ],
          "name": "stdout"
        },
        {
          "output_type": "display_data",
          "data": {
            "image/png": "[encoded data removed]",
            "text/plain": [
              "<Figure size 360x360 with 2 Axes>"
            ]
          },
          "metadata": {
            "tags": [],
            "needs_background": "light"
          }
        },
        {
          "output_type": "stream",
          "text": [
            "\n",
            "\n",
            "Model f1 score:  0.25\n",
            "Model roc auc score:  0.74\n",
            "Model recall:  0.58\n",
            "Model precision:  0.16\n",
            "\n",
            "\n",
            "Time  1\n",
            "        TransactionDT  TransactionAmt  ...  screen_h_990  screen_h_992\n",
            "326542       0.505675        0.001118  ...             0             0\n",
            "321981       0.503716        0.003389  ...             0             0\n",
            "291571       0.450933        0.001558  ...             0             0\n",
            "302633       0.470992        0.003029  ...             0             0\n",
            "342880       0.532159        0.003656  ...             0             0\n",
            "...               ...             ...  ...           ...           ...\n",
            "340721       0.527618        0.003389  ...             0             0\n",
            "374169       0.587313        0.000618  ...             0             0\n",
            "367595       0.575765        0.001840  ...             0             0\n",
            "264761       0.401134        0.001682  ...             0             0\n",
            "279696       0.427741        0.001354  ...             0             0\n",
            "\n",
            "[93526 rows x 1103 columns]\n",
            "Epoch 1/2\n",
            "38/38 [==============================] - 2s 31ms/step - loss: 0.3116 - accuracy: 0.9633 - val_loss: 0.1400 - val_accuracy: 0.9629\n",
            "Epoch 2/2\n",
            "38/38 [==============================] - 1s 22ms/step - loss: 0.1729 - accuracy: 0.9635 - val_loss: 0.1369 - val_accuracy: 0.9629\n",
            "\n",
            "\n",
            "Confusion matrix of model XGBoost of time 1\n"
          ],
          "name": "stdout"
        },
        {
          "output_type": "display_data",
          "data": {
            "image/png": "[encoded data removed]",
            "text/plain": [
              "<Figure size 360x360 with 2 Axes>"
            ]
          },
          "metadata": {
            "tags": [],
            "needs_background": "light"
          }
        },
        {
          "output_type": "stream",
          "text": [
            "\n",
            "\n",
            "Model f1 score:  0.24\n",
            "Model roc auc score:  0.76\n",
            "Model recall:  0.65\n",
            "Model precision:  0.15\n",
            "\n",
            "\n",
            "\n",
            "\n",
            "Confusion matrix of model Neural network of time 1\n"
          ],
          "name": "stdout"
        },
        {
          "output_type": "display_data",
          "data": {
            "image/png": "[encoded data removed]",
            "text/plain": [
              "<Figure size 360x360 with 2 Axes>"
            ]
          },
          "metadata": {
            "tags": [],
            "needs_background": "light"
          }
        },
        {
          "output_type": "stream",
          "text": [
            "\n",
            "\n",
            "Model f1 score:  0.21\n",
            "Model roc auc score:  0.7\n",
            "Model recall:  0.51\n",
            "Model precision:  0.13\n",
            "\n",
            "\n"
          ],
          "name": "stdout"
        },
        {
          "output_type": "error",
          "ename": "IndexError",
          "evalue": "ignored",
          "traceback": [
            "\u001b[0;31m---------------------------------------------------------------------------\u001b[0m",
            "\u001b[0;31mIndexError\u001b[0m                                Traceback (most recent call last)",
            "\u001b[0;32m<ipython-input-16-d72f0268db58>\u001b[0m in \u001b[0;36m<module>\u001b[0;34m()\u001b[0m\n\u001b[1;32m      1\u001b[0m \u001b[0mid\u001b[0m\u001b[0;34m,\u001b[0m \u001b[0mid_fraud\u001b[0m \u001b[0;34m=\u001b[0m \u001b[0mget_split_id\u001b[0m\u001b[0;34m(\u001b[0m\u001b[0mdata\u001b[0m\u001b[0;34m,\u001b[0m \u001b[0minit_splits\u001b[0m\u001b[0;34m,\u001b[0m \u001b[0mincoming_splits\u001b[0m\u001b[0;34m,\u001b[0m \u001b[0mtot_splits\u001b[0m\u001b[0;34m)\u001b[0m \u001b[0;31m# splitta le righe in base agli split dichiarati\u001b[0m\u001b[0;34m\u001b[0m\u001b[0;34m\u001b[0m\u001b[0m\n\u001b[0;32m----> 2\u001b[0;31m \u001b[0mmodel_dict\u001b[0m\u001b[0;34m,\u001b[0m \u001b[0mensemble_dict\u001b[0m \u001b[0;34m=\u001b[0m \u001b[0mdinamic_model\u001b[0m\u001b[0;34m(\u001b[0m\u001b[0mdata\u001b[0m\u001b[0;34m,\u001b[0m \u001b[0mid\u001b[0m\u001b[0;34m,\u001b[0m \u001b[0mid_fraud\u001b[0m\u001b[0;34m,\u001b[0m \u001b[0minit_splits\u001b[0m\u001b[0;34m,\u001b[0m \u001b[0mincoming_splits\u001b[0m\u001b[0;34m,\u001b[0m \u001b[0mtot_splits\u001b[0m\u001b[0;34m,\u001b[0m \u001b[0mkeep_fraud\u001b[0m \u001b[0;34m=\u001b[0m \u001b[0;32mFalse\u001b[0m\u001b[0;34m,\u001b[0m \u001b[0mkeep_safe\u001b[0m \u001b[0;34m=\u001b[0m \u001b[0;32mFalse\u001b[0m\u001b[0;34m)\u001b[0m\u001b[0;34m\u001b[0m\u001b[0;34m\u001b[0m\u001b[0m\n\u001b[0m",
            "\u001b[0;32m<ipython-input-15-7bb41f121504>\u001b[0m in \u001b[0;36mdinamic_model\u001b[0;34m(data, id, id_fraud, init_splits, incoming_splits, tot_splits, keep_fraud, keep_safe)\u001b[0m\n\u001b[1;32m     32\u001b[0m \u001b[0;34m\u001b[0m\u001b[0m\n\u001b[1;32m     33\u001b[0m       \u001b[0mensemble_dict\u001b[0m\u001b[0;34m[\u001b[0m\u001b[0mt\u001b[0m\u001b[0;34m]\u001b[0m \u001b[0;34m=\u001b[0m \u001b[0mensemble\u001b[0m\u001b[0;34m(\u001b[0m\u001b[0mt\u001b[0m\u001b[0;34m)\u001b[0m \u001b[0;31m# inizializzo l'ensemble t-esimo\u001b[0m\u001b[0;34m\u001b[0m\u001b[0;34m\u001b[0m\u001b[0m\n\u001b[0;32m---> 34\u001b[0;31m       \u001b[0mtest_ensemble\u001b[0m\u001b[0;34m(\u001b[0m\u001b[0mensemble_dict\u001b[0m\u001b[0;34m[\u001b[0m\u001b[0mt\u001b[0m\u001b[0;34m]\u001b[0m\u001b[0;34m,\u001b[0m \u001b[0mmodel_dict\u001b[0m\u001b[0;34m,\u001b[0m \u001b[0mt\u001b[0m\u001b[0;34m,\u001b[0m \u001b[0mdata\u001b[0m\u001b[0;34m,\u001b[0m \u001b[0mid_t\u001b[0m\u001b[0;34m)\u001b[0m \u001b[0;31m# testo l'ensemble\u001b[0m\u001b[0;34m\u001b[0m\u001b[0;34m\u001b[0m\u001b[0m\n\u001b[0m\u001b[1;32m     35\u001b[0m     \u001b[0;31m# for i in model_dict:\u001b[0m\u001b[0;34m\u001b[0m\u001b[0;34m\u001b[0m\u001b[0;34m\u001b[0m\u001b[0m\n\u001b[1;32m     36\u001b[0m     \u001b[0;31m#   test_model(model_dict[i], model_dict, t, data, soglia)\u001b[0m\u001b[0;34m\u001b[0m\u001b[0;34m\u001b[0m\u001b[0;34m\u001b[0m\u001b[0m\n",
            "\u001b[0;32m<ipython-input-13-8d05704363ba>\u001b[0m in \u001b[0;36mtest_ensemble\u001b[0;34m(ens, model_dict, t, data, id_t)\u001b[0m\n\u001b[1;32m     14\u001b[0m   \u001b[0my_val\u001b[0m \u001b[0;34m=\u001b[0m \u001b[0msubset\u001b[0m\u001b[0;34m[\u001b[0m\u001b[0;34m'isFraud'\u001b[0m\u001b[0;34m]\u001b[0m\u001b[0;34m\u001b[0m\u001b[0;34m\u001b[0m\u001b[0m\n\u001b[1;32m     15\u001b[0m   \u001b[0mX_val\u001b[0m \u001b[0;34m=\u001b[0m \u001b[0msubset\u001b[0m\u001b[0;34m.\u001b[0m\u001b[0mdrop\u001b[0m\u001b[0;34m(\u001b[0m\u001b[0mcolumns\u001b[0m\u001b[0;34m=\u001b[0m\u001b[0;34m[\u001b[0m\u001b[0;34m'isFraud'\u001b[0m\u001b[0;34m]\u001b[0m\u001b[0;34m,\u001b[0m \u001b[0maxis\u001b[0m \u001b[0;34m=\u001b[0m \u001b[0;36m1\u001b[0m\u001b[0;34m)\u001b[0m\u001b[0;34m\u001b[0m\u001b[0;34m\u001b[0m\u001b[0m\n\u001b[0;32m---> 16\u001b[0;31m   \u001b[0mens\u001b[0m\u001b[0;34m.\u001b[0m\u001b[0mproba_predictions\u001b[0m\u001b[0;34m(\u001b[0m\u001b[0mmodel_dict\u001b[0m\u001b[0;34m,\u001b[0m \u001b[0mX_val\u001b[0m\u001b[0;34m)\u001b[0m \u001b[0;31m# predict_proba dell'ensemble\u001b[0m\u001b[0;34m\u001b[0m\u001b[0;34m\u001b[0m\u001b[0m\n\u001b[0m\u001b[1;32m     17\u001b[0m   \u001b[0mens\u001b[0m\u001b[0;34m.\u001b[0m\u001b[0maggregate\u001b[0m\u001b[0;34m(\u001b[0m\u001b[0;34m)\u001b[0m \u001b[0;31m# predict dell'ensemble\u001b[0m\u001b[0;34m\u001b[0m\u001b[0;34m\u001b[0m\u001b[0m\n\u001b[1;32m     18\u001b[0m   \u001b[0mens\u001b[0m\u001b[0;34m.\u001b[0m\u001b[0mperformance\u001b[0m\u001b[0;34m(\u001b[0m\u001b[0my_val\u001b[0m\u001b[0;34m)\u001b[0m \u001b[0;31m# valuto le performance\u001b[0m\u001b[0;34m\u001b[0m\u001b[0;34m\u001b[0m\u001b[0m\n",
            "\u001b[0;32m<ipython-input-9-3acc6d78c07f>\u001b[0m in \u001b[0;36mproba_predictions\u001b[0;34m(self, model_dict, X_val)\u001b[0m\n\u001b[1;32m      7\u001b[0m     \u001b[0mprob\u001b[0m \u001b[0;34m=\u001b[0m \u001b[0;34m[\u001b[0m\u001b[0;34m]\u001b[0m\u001b[0;34m\u001b[0m\u001b[0;34m\u001b[0m\u001b[0m\n\u001b[1;32m      8\u001b[0m     \u001b[0;32mfor\u001b[0m \u001b[0mt\u001b[0m \u001b[0;32min\u001b[0m \u001b[0mmodel_dict\u001b[0m\u001b[0;34m:\u001b[0m\u001b[0;34m\u001b[0m\u001b[0;34m\u001b[0m\u001b[0m\n\u001b[0;32m----> 9\u001b[0;31m       \u001b[0mprob\u001b[0m\u001b[0;34m.\u001b[0m\u001b[0mappend\u001b[0m\u001b[0;34m(\u001b[0m\u001b[0mmodel_dict\u001b[0m\u001b[0;34m[\u001b[0m\u001b[0mt\u001b[0m\u001b[0;34m]\u001b[0m\u001b[0;34m.\u001b[0m\u001b[0mproba_predictions\u001b[0m\u001b[0;34m(\u001b[0m\u001b[0mX_val\u001b[0m\u001b[0;34m)\u001b[0m\u001b[0;34m[\u001b[0m\u001b[0;34m:\u001b[0m\u001b[0;34m,\u001b[0m\u001b[0;36m1\u001b[0m\u001b[0;34m]\u001b[0m\u001b[0;34m)\u001b[0m\u001b[0;34m\u001b[0m\u001b[0;34m\u001b[0m\u001b[0m\n\u001b[0m\u001b[1;32m     10\u001b[0m     \u001b[0mself\u001b[0m\u001b[0;34m.\u001b[0m\u001b[0mproba\u001b[0m \u001b[0;34m=\u001b[0m \u001b[0mnp\u001b[0m\u001b[0;34m.\u001b[0m\u001b[0mmean\u001b[0m\u001b[0;34m(\u001b[0m\u001b[0mprob\u001b[0m\u001b[0;34m,\u001b[0m \u001b[0maxis\u001b[0m \u001b[0;34m=\u001b[0m \u001b[0;36m0\u001b[0m\u001b[0;34m)\u001b[0m\u001b[0;34m\u001b[0m\u001b[0;34m\u001b[0m\u001b[0m\n\u001b[1;32m     11\u001b[0m     \u001b[0;32mreturn\u001b[0m \u001b[0;34mf'Proba acquired.'\u001b[0m\u001b[0;34m\u001b[0m\u001b[0;34m\u001b[0m\u001b[0m\n",
            "\u001b[0;31mIndexError\u001b[0m: index 1 is out of bounds for axis 1 with size 1"
          ]
        }
      ]
    },
    {
      "cell_type": "code",
      "metadata": {
        "id": "vWYvDvxAVgG9"
      },
      "source": [
        "# provare a passare X_train.to_numpy() quando alleno NN"
      ],
      "execution_count": null,
      "outputs": []
    }
  ]
}