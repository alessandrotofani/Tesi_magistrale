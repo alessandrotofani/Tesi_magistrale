{
  "nbformat": 4,
  "nbformat_minor": 0,
  "metadata": {
    "colab": {
      "name": "5_Dinamic_model_new.ipynb",
      "provenance": [],
      "authorship_tag": "ABX9TyMm3CrNThNsONbn77r3XWq3",
      "include_colab_link": true
    },
    "kernelspec": {
      "name": "python3",
      "display_name": "Python 3"
    },
    "accelerator": "GPU"
  },
  "cells": [
    {
      "cell_type": "markdown",
      "metadata": {
        "id": "view-in-github",
        "colab_type": "text"
      },
      "source": [
        "<a href=\"https://colab.research.google.com/github/alessandrotofani/Tesi_magistrale/blob/master/5_Dinamic_model.ipynb\" target=\"_parent\"><img src=\"https://colab.research.google.com/assets/colab-badge.svg\" alt=\"Open In Colab\"/></a>"
      ]
    },
    {
      "cell_type": "markdown",
      "metadata": {
        "id": "z-7rH_UhAPGR"
      },
      "source": [
        "# Import"
      ]
    },
    {
      "cell_type": "code",
      "metadata": {
        "id": "SwkBbxNMK8Fv",
        "colab": {
          "base_uri": "https://localhost:8080/"
        },
        "outputId": "4f21ace5-5178-45c6-e2bb-6d5ff25342fc"
      },
      "source": [
        "import numpy as np \r\n",
        "import pandas as pd \r\n",
        "import matplotlib\r\n",
        "import matplotlib.pyplot as plt\r\n",
        "import seaborn as sns\r\n",
        "import os\r\n",
        "from google.colab import drive\r\n",
        "drive.mount('/content/drive')\r\n",
        "from sklearn.model_selection import train_test_split"
      ],
      "execution_count": 1,
      "outputs": [
        {
          "output_type": "stream",
          "text": [
            "Drive already mounted at /content/drive; to attempt to forcibly remount, call drive.mount(\"/content/drive\", force_remount=True).\n"
          ],
          "name": "stdout"
        }
      ]
    },
    {
      "cell_type": "code",
      "metadata": {
        "id": "9UBtZ7vSkof3"
      },
      "source": [
        "import sys \r\n",
        "sys.path.append('/content/drive/MyDrive/Tesi_magistrale/Tesi_magistrale')\r\n",
        "import mf"
      ],
      "execution_count": 2,
      "outputs": []
    },
    {
      "cell_type": "code",
      "metadata": {
        "id": "RYEwRKTV1NvR"
      },
      "source": [
        "data = pd.read_csv('/content/drive/MyDrive/Tesi_magistrale/Dataset/IEEE/Output/data.csv')\r\n",
        "data.drop(data.columns[data.columns.str.contains('unnamed',case = False)],axis = 1, inplace = True)"
      ],
      "execution_count": 3,
      "outputs": []
    },
    {
      "cell_type": "markdown",
      "metadata": {
        "id": "ouPK38wK1Ytv"
      },
      "source": [
        "# Feature engineering and scaling"
      ]
    },
    {
      "cell_type": "code",
      "metadata": {
        "id": "8s7dk9_P1QQx"
      },
      "source": [
        "data = mf.feature_engineering(data)\r\n",
        "data = mf.feature_scaling(data)\r\n",
        "data = pd.get_dummies(data)"
      ],
      "execution_count": 4,
      "outputs": []
    },
    {
      "cell_type": "markdown",
      "metadata": {
        "id": "ufgfSciYOIqL"
      },
      "source": [
        "# Dinamic model"
      ]
    },
    {
      "cell_type": "code",
      "metadata": {
        "id": "NdLWKPHvOJb7"
      },
      "source": [
        "init_splits = 4 # numero di split su cui il modello iniziale (t=0) si allena \r\n",
        "incoming_splits = 2 # nuovi split che arrivano ad ogni nuovo dt, e su cui si allena il nuovo modello\r\n",
        "tot_splits = 10 # split totali in cui sarà diviso il dataset"
      ],
      "execution_count": 5,
      "outputs": []
    },
    {
      "cell_type": "code",
      "metadata": {
        "id": "jxTnn6PcOYqE"
      },
      "source": [
        "def get_split_id(data, init_splits, incoming_splits, tot_splits): # serve per splittare il dataset in tot_splits\r\n",
        "  '''\r\n",
        "  in\r\n",
        "  data: dataset che si vuole splittare\r\n",
        "  init_splits: numero di split su cui il modello iniziale (t=0) si allena \r\n",
        "  incoming_splits: nuovi split che arrivano ad ogni nuovo dt, e su cui si allena il nuovo modello\r\n",
        "  tot_splits: split totali in cui sarà diviso il dataset\r\n",
        "  out\r\n",
        "  id: dizionario che contiene (split : id righe selezionate)\r\n",
        "  id_fraud: come id, solo che sono selezionate solo le transazioni fraudolente \r\n",
        "  '''\r\n",
        "  id = {} # dizionario con (split : id_righe)\r\n",
        "  id_fraud = {} # dizionario con (split: id righe transazioni fraudolente)\r\n",
        "  for i in range(tot_splits):\r\n",
        "    id[i] = data[(data['TransactionDT']>=(i/tot_splits)) & (data['TransactionDT']<((i + 1)/tot_splits))].index.tolist()\r\n",
        "    id_fraud[i] = data[(data['TransactionDT']>=(i/tot_splits)) & (data['TransactionDT']<((i + 1)/tot_splits)) & (data['isFraud'] == 1)].index.tolist()\r\n",
        "    \r\n",
        "  return id, id_fraud"
      ],
      "execution_count": 6,
      "outputs": []
    },
    {
      "cell_type": "code",
      "metadata": {
        "id": "PtMpJb8jQ_B1"
      },
      "source": [
        "class model:\r\n",
        "  name = 'XGBoost'\r\n",
        "\r\n",
        "  def __init__(self, t): # costruttore\r\n",
        "    '''\r\n",
        "    in\r\n",
        "    t: istante temporale\r\n",
        "    '''\r\n",
        "    self.t = t\r\n",
        "    self.f1 = 0\r\n",
        "    self.precision = 0\r\n",
        "    self.recall = 0\r\n",
        "    self.roc = 0\r\n",
        "    self.proba = []\r\n",
        "    self.prediction = []\r\n",
        "    self.train_id = [] # lista con le righe su cui il modello si è allenato\r\n",
        "    self.val_id = [] # lista con le righe su cui il modello viene validato\r\n",
        "    return\r\n",
        "\r\n",
        "  def __str__(self): # print dell'oggetto\r\n",
        "    return f\"{self.name}, at time {self.t}, with f1 score of {self.f1}\"\r\n",
        "\r\n",
        "  def init_xgb(self, estimators = 2000, depth = 6): # inizializza xgb 2000, 6\r\n",
        "    import xgboost \r\n",
        "    from xgboost import XGBClassifier\r\n",
        "    self.xgb = XGBClassifier(n_estimators = estimators, max_depth = depth, \r\n",
        "                      objective='binary:logistic', learning_rate = 0.5, \r\n",
        "                      tree_method='gpu_hist')\r\n",
        "    return f'{self.name} at time {self.t}, has been initialized.'\r\n",
        "  \r\n",
        "  def train_xgb(self, X_train, y_train): # traina il modello\r\n",
        "    # self.xgb.fit(X_train.to_numpy(), y_train.to_numpy())\r\n",
        "    self.xgb.fit(X_train.to_numpy(), y_train)\r\n",
        "    return f'{self.name} is now trained!'\r\n",
        "\r\n",
        "  def get_set(self, data, id_list): # restituisce il subset dati gli id delle righe\r\n",
        "    # id_list: è l'elemento id[t] \r\n",
        "    subset = data.iloc[id_list,:]\r\n",
        "    return subset\r\n",
        "\r\n",
        "  def proba_predictions(self, X_val): # restituisce le probabilità\r\n",
        "    if not self.xgb:\r\n",
        "      return f'{self.name} is not declared. You need to use init_xgb'\r\n",
        "    self.proba = self.xgb.predict_proba(X_val, validate_features = False)\r\n",
        "    return self.proba\r\n",
        "\r\n",
        "  def aggregate(self, soglia = 0.05): # resituisce la classe\r\n",
        "    # if not self.proba:\r\n",
        "    #   return f'self.proba is empty. Before aggregate, you need to use proba_predictions'\r\n",
        "    self.prediction = []\r\n",
        "    for proba in self.proba[:,1]:\r\n",
        "      if proba > soglia:\r\n",
        "        self.prediction.append(1)\r\n",
        "      else:\r\n",
        "        self.prediction.append(0)\r\n",
        "    return f'Classification has been councluded!'\r\n",
        "\r\n",
        "  def performance(self, y_val, soglia = 0.05): # printa le performance del modello \r\n",
        "    from sklearn.metrics import roc_auc_score, f1_score, recall_score, precision_score\r\n",
        "    \r\n",
        "    print('\\n')\r\n",
        "    print('Confusion matrix of model', self.name,'of time', self.t)\r\n",
        "    mf.plot_cm(y_val, self.prediction, 'Blues', p = soglia, dynamic = True)\r\n",
        "    \r\n",
        "    self.score = f1_score(y_val, self.prediction).round(2)\r\n",
        "    self.roc = roc_auc_score(y_val, self.prediction).round(2)\r\n",
        "    self.precision = precision_score(y_val, self.prediction,  average='binary').round(2)\r\n",
        "    self.recall = recall_score(y_val, self.prediction, average='binary').round(2)\r\n",
        "\r\n",
        "    print('\\n')\r\n",
        "    print('Model f1 score: ', self.score)\r\n",
        "    print('Model roc auc score: ', self.roc)\r\n",
        "    print('Model recall: ', self.recall)\r\n",
        "    print('Model precision: ', self.precision)\r\n",
        "    print('\\n')\r\n",
        "    return "
      ],
      "execution_count": 7,
      "outputs": []
    },
    {
      "cell_type": "code",
      "metadata": {
        "id": "AlIsUnQQZ8nU"
      },
      "source": [
        "class nn(model):\r\n",
        "  name = 'Neural network'\r\n",
        "\r\n",
        "  def init_nn(self, n_features):\r\n",
        "    import tensorflow as tf\r\n",
        "    from tensorflow import keras\r\n",
        "    from tensorflow.keras.models import Sequential\r\n",
        "    from tensorflow.keras.layers import Flatten, Dense, Dropout, Input\r\n",
        "    self.nn = Sequential()\r\n",
        "    self.nn.add(Input(shape=(n_features,))) \r\n",
        "    self.nn.add(Dense(1024, activation='relu')) \r\n",
        "    self.nn.add(Dropout(0.2)) \r\n",
        "    self.nn.add(Dense(512, activation='relu')) \r\n",
        "    self.nn.add(Dropout(0.2)) \r\n",
        "    self.nn.add(Dense(256, activation='relu')) \r\n",
        "    self.nn.add(Dropout(0.2))\r\n",
        "    self.nn.add(Dense(128, activation='relu')) \r\n",
        "    self.nn.add(Dropout(0.2))\r\n",
        "    self.nn.add(Dense(24, activation='relu')) \r\n",
        "    self.nn.add(Dropout(0.2))\r\n",
        "    self.nn.add(Dense(4, activation='relu')) \r\n",
        "    self.nn.add(Dropout(0.2))\r\n",
        "    self.nn.add(Dense(1, activation='sigmoid')) \r\n",
        "\r\n",
        "    self.nn.compile( loss='binary_crossentropy', optimizer='adam', metrics=['accuracy'])\r\n",
        "    return f'{self.name} initialized'\r\n",
        "\r\n",
        "  def train_nn(self, X_train, y_train):\r\n",
        "    from sklearn.model_selection import train_test_split\r\n",
        "    X_train, X_val, y_train, y_val = train_test_split(X_train, y_train, test_size=0.2, random_state=42)\r\n",
        "    history = self.nn.fit(X_train.to_numpy(), y_train, \r\n",
        "                          epochs=20, batch_size=2000, \r\n",
        "                          # epochs=20, batch_size=2000, \r\n",
        "                          validation_data=(X_val.to_numpy(), y_val), verbose=1, shuffle = True)\r\n",
        "    return f'{self.name} trained.'\r\n",
        "\r\n",
        "  #override\r\n",
        "  def proba_predictions(self, X_val): # restituisce le probabilità\r\n",
        "    if not self.nn:\r\n",
        "      return f'{self.name} is not declared. You need to use init_nn'\r\n",
        "    self.proba = self.nn.predict(X_val.to_numpy())#, validate_features = False)\r\n",
        "    return self.proba\r\n",
        "\r\n",
        "  #override\r\n",
        "  def aggregate(self, soglia = 0.05): # resituisce la classe\r\n",
        "    self.prediction = []\r\n",
        "    for proba in self.proba:\r\n",
        "      if proba > soglia:\r\n",
        "        self.prediction.append(1)\r\n",
        "      else:\r\n",
        "        self.prediction.append(0)\r\n",
        "    return f'Classification has been councluded!'"
      ],
      "execution_count": 8,
      "outputs": []
    },
    {
      "cell_type": "code",
      "metadata": {
        "id": "72mPUBaza2zv"
      },
      "source": [
        "class ensemble(model): # child class di model\r\n",
        "  name = 'Ensemble'\r\n",
        "  # come model_dict passare il dizionario in cui si salvano gli ensemble\r\n",
        "\r\n",
        "  #override \r\n",
        "  def proba_predictions(self, model_dict, X_val): # restituisce le probabilità predette \r\n",
        "    prob = []\r\n",
        "    for t in model_dict:\r\n",
        "      if model_dict[t].name == 'XGBoost':\r\n",
        "        prob.append(model_dict[t].proba_predictions(X_val)[:,1])\r\n",
        "      if model_dict[t].name == 'Neural network':\r\n",
        "        prob.append(model_dict[t].proba_predictions(X_val))\r\n",
        "    self.proba = np.mean(prob, axis = 0)\r\n",
        "    return f'Proba acquired.'\r\n",
        "  \r\n",
        "  #override\r\n",
        "  def aggregate(self, soglia = 0.05): # restituisce la classe predetta \r\n",
        "    for proba in self.proba:\r\n",
        "      if proba > soglia:\r\n",
        "        self.prediction.append(1)\r\n",
        "      else:\r\n",
        "        self.prediction.append(0)\r\n",
        "    return f'Classification has been councluded!'"
      ],
      "execution_count": 9,
      "outputs": []
    },
    {
      "cell_type": "code",
      "metadata": {
        "id": "T6Neus5uAUhU"
      },
      "source": [
        "def get_t_id(data, id, id_fraud, t, init_splits, incoming_splits): # restituisce la lista degli id corrispondente all'istante temporale t \r\n",
        "  '''\r\n",
        "  data: dataset da cui selezionare le transazioni\r\n",
        "  id: lista con gli id delle righe\r\n",
        "  t: istante temporale\r\n",
        "  init_splits: split totali in cui sarà diviso il dataset\r\n",
        "  incoming_splits: nuovi split che arrivano ad ogni nuovo dt, e su cui si allena il nuovo modello\r\n",
        "  out\r\n",
        "  id_list: lista con gli id delle righe selezionate a seconda dell'istante temporale specificato  \r\n",
        "  '''\r\n",
        "  id_list = [] # lista che conterrà le righe da usare al tempo t\r\n",
        "  id_list_fraud = [] # lista che conterrà le righe con transazioni fraud da usare al tempo t\r\n",
        "\r\n",
        "  if t == 0: \r\n",
        "    start = 0\r\n",
        "    end = init_splits\r\n",
        "  else:\r\n",
        "    start = incoming_splits * (t - 1) + init_splits\r\n",
        "    end = start + incoming_splits\r\n",
        "\r\n",
        "  if t == 1:\r\n",
        "    start_fraud = 0\r\n",
        "    end_fraud = init_splits\r\n",
        "  else:\r\n",
        "    start_fraud = 0\r\n",
        "    end_fraud = incoming_splits * (t - 1) + init_splits + incoming_splits \r\n",
        "\r\n",
        "    \r\n",
        "\r\n",
        "  for n in range(start,end):\r\n",
        "    id_list += id[n]\r\n",
        "  \r\n",
        "  if t > 0:\r\n",
        "    for n in range(start_fraud, end_fraud):\r\n",
        "      id_list_fraud += id_fraud[n]\r\n",
        "\r\n",
        "  return id_list, id_list_fraud"
      ],
      "execution_count": 10,
      "outputs": []
    },
    {
      "cell_type": "code",
      "metadata": {
        "id": "H6Zv9r_eD1Nr"
      },
      "source": [
        "def train_model(sel_model, last_model, data, id_t, id_fraud_t, keep_fraud, keep_safe): # funzione per sistemare il dataset e trainare il modello\r\n",
        "  '''\r\n",
        "  sel_model: modello da trainare\r\n",
        "  data: dataset\r\n",
        "  id_t: id delle righe su cui trainare il modello\r\n",
        "  '''\r\n",
        "  import random \r\n",
        "\r\n",
        "\r\n",
        "\r\n",
        "  # Train test split\r\n",
        "  subset = sel_model.get_set(data, id_t) # seleziono il subset su cui il modello si allenerà\r\n",
        "  X_train, X_val, y_train, y_val = mf.split(subset, test_size = 0.2) # train test split\r\n",
        "\r\n",
        "  # unione transazioni fraudolente degli step precedenti\r\n",
        "  if keep_fraud:\r\n",
        "    X_train_fraud = sel_model.get_set(data, id_fraud_t)\r\n",
        "    X_train_fraud.drop(columns = ['isFraud'], inplace = True)\r\n",
        "  if keep_safe:\r\n",
        "    sample_size = int(np.ceil(len(last_model.train_id) * 0.1))\r\n",
        "    id_safe_t = random.sample(last_model.train_id, sample_size)\r\n",
        "    X_train_safe = last_model.get_set(data, id_safe_t)\r\n",
        "    X_train_safe.drop(columns = ['isFraud'], inplace = True)\r\n",
        "\r\n",
        "  if keep_safe and keep_fraud:\r\n",
        "    X_train = pd.concat([X_train, X_train_fraud, X_train_safe])\r\n",
        "    y_train_safe = np.zeros(X_train_safe.shape[0])\r\n",
        "    y_train_fraud = np.ones(X_train_fraud.shape[0])\r\n",
        "    y_train = np.concatenate((y_train, y_train_fraud, y_train_safe), axis=None)\r\n",
        "\r\n",
        "  if keep_safe and not keep_fraud:\r\n",
        "    X_train = pd.concat([X_train, X_train_fraud])\r\n",
        "    y_train_fraud = np.ones(X_train_fraud.shape[0])\r\n",
        "    y_train = np.concatenate((y_train, y_train_fraud), axis=None)\r\n",
        "\r\n",
        "  # salvataggio degli id nel modello\r\n",
        "  sel_model.train_id = X_train.index.tolist() # salvo gli id del training set \r\n",
        "  sel_model.val_id = X_val.index.tolist() # salvo gli id del test set\r\n",
        "\r\n",
        "  # Training del modello\r\n",
        "  soglia = 0.05\r\n",
        "  if sel_model.name == 'XGBoost':\r\n",
        "    sel_model.init_xgb() # inizializzo xgb\r\n",
        "    sel_model.train_xgb(X_train, y_train) # train di xgb \r\n",
        "  \r\n",
        "  if sel_model.name == 'Neural network':\r\n",
        "    n_features = X_train.shape[1]\r\n",
        "    sel_model.init_nn(n_features)\r\n",
        "    # print(X_train)\r\n",
        "    sel_model.train_nn(X_train, y_train)\r\n",
        "\r\n",
        "\r\n",
        "  return f'Training ended. \\n'"
      ],
      "execution_count": 11,
      "outputs": []
    },
    {
      "cell_type": "code",
      "metadata": {
        "id": "wwC4yBClLSUs"
      },
      "source": [
        "def test_model(sel_model, model_dict, t, data, soglia): # test del modello\r\n",
        "  '''\r\n",
        "  in\r\n",
        "  sel_model: modello da trainare\r\n",
        "  model_dict: dizionario contenente i vari modelli\r\n",
        "  t: istante temporale\r\n",
        "  data: dataset\r\n",
        "  soglia: soglia sulla probabilità \r\n",
        "  '''\r\n",
        "  id_list = []\r\n",
        "  for i in model_dict:\r\n",
        "    id_list += model_dict[i].val_id\r\n",
        "  # id_list = last_model.val_id # seleziono le righe su cui va validato l'ultimo modello\r\n",
        "  subset = sel_model.get_set(data, id_list) # seleziono il set su cui valido i dati\r\n",
        "  y_val = subset['isFraud']\r\n",
        "  X_val = subset.drop(columns=['isFraud'], axis = 1)\r\n",
        "\r\n",
        "  sel_model.proba_predictions(X_val) # predict_proba\r\n",
        "  sel_model.aggregate(soglia = soglia) # predict\r\n",
        "\r\n",
        "  sel_model.performance(y_val, soglia = soglia) # valuta le performance del modello\r\n",
        "  return "
      ],
      "execution_count": 12,
      "outputs": []
    },
    {
      "cell_type": "code",
      "metadata": {
        "id": "oTVI-DcxJECb"
      },
      "source": [
        "def test_ensemble(ens, model_dict, t, data, id_t): # testa le performance dell'ensemble\r\n",
        "  '''\r\n",
        "  ens: ensemble da testare \r\n",
        "  model_dict: dizionario con i modelli\r\n",
        "  t: istante temporale\r\n",
        "  data: dataset\r\n",
        "  id_t: righe da usare all'istante t-esimo\r\n",
        "  '''\r\n",
        "  id_list = []\r\n",
        "  for i in model_dict:\r\n",
        "    id_list += model_dict[i].val_id\r\n",
        "  subset = model_dict[t].get_set(data, id_list) # seleziono il set su cui valido i dati\r\n",
        "  # subset = model_dict[t].get_set(data, id_t) # seleziono il set su cui valido i dati\r\n",
        "  y_val = subset['isFraud']\r\n",
        "  X_val = subset.drop(columns=['isFraud'], axis = 1)\r\n",
        "  ens.proba_predictions(model_dict, X_val) # predict_proba dell'ensemble\r\n",
        "  ens.aggregate() # predict dell'ensemble\r\n",
        "  ens.performance(y_val) # valuto le performance\r\n",
        "  return f'Ensemble testing ended. \\n'"
      ],
      "execution_count": 13,
      "outputs": []
    },
    {
      "cell_type": "code",
      "metadata": {
        "id": "tCjWWWdCfsix"
      },
      "source": [
        "def get_best_model(xgb, nn):\r\n",
        "  if xgb.f1 > nn.f1:\r\n",
        "    return xgb\r\n",
        "  else:\r\n",
        "    return nn"
      ],
      "execution_count": 14,
      "outputs": []
    },
    {
      "cell_type": "code",
      "metadata": {
        "id": "_GaailvFPVir"
      },
      "source": [
        "def dinamic_model(data, id, id_fraud, init_splits, incoming_splits, tot_splits, keep_fraud, keep_safe):\r\n",
        "  tmax = np.ceil((tot_splits - init_splits) / incoming_splits)\r\n",
        "  model_dict = {}\r\n",
        "  xgb_dict = {}\r\n",
        "  nn_dict = {}\r\n",
        "  ensemble_dict = {}\r\n",
        "  soglia_xgb = 0.1 # 0.05\r\n",
        "  soglia_nn = 0.2\r\n",
        "\r\n",
        "  for t in range(int(tmax + 1)):\r\n",
        "    print('Time ', t)\r\n",
        "    id_t, id_fraud_t = get_t_id(data, id, id_fraud, t, init_splits, incoming_splits) # ottengo gli id delle righe da usare al tempo t-esimo\r\n",
        "    # model_dict[t] = model(t) # inizializzo il modello t-esimo \r\n",
        "    xgb_dict[t] = model(t)\r\n",
        "    nn_dict[t] = nn(t)\r\n",
        "    if t == 0:\r\n",
        "      # train_model(model_dict[t], None, data, id_t, id_fraud_t, keep_fraud = False, keep_safe = False) # train e test del modello t-esimo\r\n",
        "      train_model(xgb_dict[t], None, data, id_t, id_fraud_t, keep_fraud = False, keep_safe = False) # train e test del modello t-esimo\r\n",
        "      train_model(nn_dict[t], None, data, id_t, id_fraud_t, keep_fraud = False, keep_safe = False) # train e test del modello t-esimo\r\n",
        "      \r\n",
        "      test_model(xgb_dict[t], xgb_dict, t, data, soglia_xgb)\r\n",
        "      test_model(nn_dict[t], nn_dict, t, data, soglia_nn)\r\n",
        "      model_dict[t] = get_best_model(xgb_dict[t], nn_dict[t])\r\n",
        "      \r\n",
        "    if t > 0:\r\n",
        "      # train_model(model_dict[t], model_dict[t-1], data, id_t, id_fraud_t, keep_fraud, keep_safe) # train e test del modello t-esimo\r\n",
        "      train_model(xgb_dict[t], model_dict[t-1], data, id_t, id_fraud_t, keep_fraud, keep_safe) # train e test del modello t-esimo\r\n",
        "      train_model(nn_dict[t], model_dict[t-1], data, id_t, id_fraud_t, keep_fraud, keep_safe) # train e test del modello t-esimo\r\n",
        "      \r\n",
        "      test_model(xgb_dict[t], xgb_dict, t, data, soglia_xgb)\r\n",
        "      test_model(nn_dict[t], nn_dict, t, data, soglia_nn)\r\n",
        "      model_dict[t] = get_best_model(xgb_dict[t], nn_dict[t])\r\n",
        "\r\n",
        "      ensemble_dict[t] = ensemble(t) # inizializzo l'ensemble t-esimo\r\n",
        "      test_ensemble(ensemble_dict[t], model_dict, t, data, id_t) # testo l'ensemble\r\n",
        "    # for i in model_dict:\r\n",
        "    #   test_model(model_dict[i], model_dict, t, data, soglia)\r\n",
        "\r\n",
        "  return model_dict, ensemble_dict"
      ],
      "execution_count": 15,
      "outputs": []
    },
    {
      "cell_type": "code",
      "metadata": {
        "colab": {
          "base_uri": "https://localhost:8080/",
          "height": 1000
        },
        "id": "FiXWYKJ69d5J",
        "outputId": "44ec0c09-6609-4e0a-f8ba-1a0b0f57079d"
      },
      "source": [
        "id, id_fraud = get_split_id(data, init_splits, incoming_splits, tot_splits) # splitta le righe in base agli split dichiarati\r\n",
        "model_dict, ensemble_dict = dinamic_model(data, id, id_fraud, init_splits, incoming_splits, tot_splits, keep_fraud = True, keep_safe = True)"
      ],
      "execution_count": 16,
      "outputs": [
        {
          "output_type": "stream",
          "text": [
            "Time  0\n",
            "        TransactionDT  TransactionAmt  ...  screen_h_990  screen_h_992\n",
            "177769       0.240957        0.000492  ...             0             0\n",
            "117048       0.138588        0.001080  ...             0             0\n",
            "140471       0.177187        0.000719  ...             0             0\n",
            "114006       0.135713        0.002796  ...             0             0\n",
            "245549       0.366511        0.001714  ...             0             0\n",
            "...               ...             ...  ...           ...           ...\n",
            "119879       0.143011        0.000993  ...             0             0\n",
            "259178       0.389652        0.001840  ...             0             0\n",
            "131932       0.160772        0.051687  ...             0             0\n",
            "146867       0.186397        0.001494  ...             0             0\n",
            "121958       0.147102        0.005346  ...             0             0\n",
            "\n",
            "[211120 rows x 1103 columns]\n",
            "Epoch 1/20\n",
            "85/85 [==============================] - 4s 22ms/step - loss: 0.2289 - accuracy: 0.9609 - val_loss: 0.1186 - val_accuracy: 0.9668\n",
            "Epoch 2/20\n",
            "85/85 [==============================] - 1s 12ms/step - loss: 0.1591 - accuracy: 0.9665 - val_loss: 0.1171 - val_accuracy: 0.9668\n",
            "Epoch 3/20\n",
            "85/85 [==============================] - 1s 12ms/step - loss: 0.1521 - accuracy: 0.9667 - val_loss: 0.1121 - val_accuracy: 0.9668\n",
            "Epoch 4/20\n",
            "85/85 [==============================] - 1s 13ms/step - loss: 0.1425 - accuracy: 0.9673 - val_loss: 0.1161 - val_accuracy: 0.9671\n",
            "Epoch 5/20\n",
            "85/85 [==============================] - 1s 13ms/step - loss: 0.1399 - accuracy: 0.9691 - val_loss: 0.1034 - val_accuracy: 0.9712\n",
            "Epoch 6/20\n",
            "85/85 [==============================] - 1s 12ms/step - loss: 0.1339 - accuracy: 0.9698 - val_loss: 0.1030 - val_accuracy: 0.9717\n",
            "Epoch 7/20\n",
            "85/85 [==============================] - 1s 13ms/step - loss: 0.1259 - accuracy: 0.9719 - val_loss: 0.0994 - val_accuracy: 0.9715\n",
            "Epoch 8/20\n",
            "85/85 [==============================] - 1s 12ms/step - loss: 0.1245 - accuracy: 0.9712 - val_loss: 0.0987 - val_accuracy: 0.9720\n",
            "Epoch 9/20\n",
            "85/85 [==============================] - 1s 13ms/step - loss: 0.1226 - accuracy: 0.9721 - val_loss: 0.0963 - val_accuracy: 0.9732\n",
            "Epoch 10/20\n",
            "85/85 [==============================] - 1s 13ms/step - loss: 0.1185 - accuracy: 0.9733 - val_loss: 0.1008 - val_accuracy: 0.9711\n",
            "Epoch 11/20\n",
            "85/85 [==============================] - 1s 14ms/step - loss: 0.1179 - accuracy: 0.9738 - val_loss: 0.1012 - val_accuracy: 0.9725\n",
            "Epoch 12/20\n",
            "85/85 [==============================] - 1s 13ms/step - loss: 0.1146 - accuracy: 0.9734 - val_loss: 0.0931 - val_accuracy: 0.9738\n",
            "Epoch 13/20\n",
            "85/85 [==============================] - 1s 12ms/step - loss: 0.1090 - accuracy: 0.9746 - val_loss: 0.0960 - val_accuracy: 0.9733\n",
            "Epoch 14/20\n",
            "85/85 [==============================] - 1s 13ms/step - loss: 0.1061 - accuracy: 0.9756 - val_loss: 0.0917 - val_accuracy: 0.9745\n",
            "Epoch 15/20\n",
            "85/85 [==============================] - 1s 13ms/step - loss: 0.1055 - accuracy: 0.9754 - val_loss: 0.0951 - val_accuracy: 0.9741\n",
            "Epoch 16/20\n",
            "85/85 [==============================] - 1s 13ms/step - loss: 0.1015 - accuracy: 0.9757 - val_loss: 0.0926 - val_accuracy: 0.9742\n",
            "Epoch 17/20\n",
            "85/85 [==============================] - 1s 13ms/step - loss: 0.1016 - accuracy: 0.9759 - val_loss: 0.0933 - val_accuracy: 0.9740\n",
            "Epoch 18/20\n",
            "85/85 [==============================] - 1s 13ms/step - loss: 0.1013 - accuracy: 0.9756 - val_loss: 0.0918 - val_accuracy: 0.9747\n",
            "Epoch 19/20\n",
            "85/85 [==============================] - 1s 12ms/step - loss: 0.0974 - accuracy: 0.9762 - val_loss: 0.0921 - val_accuracy: 0.9747\n",
            "Epoch 20/20\n",
            "85/85 [==============================] - 1s 12ms/step - loss: 0.0976 - accuracy: 0.9760 - val_loss: 0.0916 - val_accuracy: 0.9747\n",
            "\n",
            "\n",
            "Confusion matrix of model XGBoost of time 0\n"
          ],
          "name": "stdout"
        },
        {
          "output_type": "display_data",
          "data": {
            "image/png": "[encoded data removed]",
            "text/plain": [
              "<Figure size 360x360 with 2 Axes>"
            ]
          },
          "metadata": {
            "tags": [],
            "needs_background": "light"
          }
        },
        {
          "output_type": "stream",
          "text": [
            "\n",
            "\n",
            "Model f1 score:  0.8\n",
            "Model roc auc score:  0.89\n",
            "Model recall:  0.78\n",
            "Model precision:  0.83\n",
            "\n",
            "\n",
            "\n",
            "\n",
            "Confusion matrix of model Neural network of time 0\n"
          ],
          "name": "stdout"
        },
        {
          "output_type": "display_data",
          "data": {
            "image/png": "[encoded data removed]",
            "text/plain": [
              "<Figure size 360x360 with 2 Axes>"
            ]
          },
          "metadata": {
            "tags": [],
            "needs_background": "light"
          }
        },
        {
          "output_type": "stream",
          "text": [
            "\n",
            "\n",
            "Model f1 score:  0.27\n",
            "Model roc auc score:  0.8\n",
            "Model recall:  0.73\n",
            "Model precision:  0.17\n",
            "\n",
            "\n",
            "Time  1\n"
          ],
          "name": "stdout"
        },
        {
          "output_type": "stream",
          "text": [
            "/usr/local/lib/python3.6/dist-packages/pandas/core/frame.py:4174: SettingWithCopyWarning: \n",
            "A value is trying to be set on a copy of a slice from a DataFrame\n",
            "\n",
            "See the caveats in the documentation: https://pandas.pydata.org/pandas-docs/stable/user_guide/indexing.html#returning-a-view-versus-a-copy\n",
            "  errors=errors,\n"
          ],
          "name": "stderr"
        },
        {
          "output_type": "stream",
          "text": [
            "        TransactionDT  TransactionAmt  ...  screen_h_990  screen_h_992\n",
            "326542       0.505675        0.001118  ...             0             0\n",
            "321981       0.503716        0.003389  ...             0             0\n",
            "291571       0.450933        0.001558  ...             0             0\n",
            "302633       0.470992        0.003029  ...             0             0\n",
            "342880       0.532159        0.003656  ...             0             0\n",
            "...               ...             ...  ...           ...           ...\n",
            "49927        0.070086        0.008759  ...             0             0\n",
            "55038        0.076144        0.000775  ...             0             0\n",
            "216064       0.313607        0.001558  ...             0             0\n",
            "157454       0.202898        0.003656  ...             0             0\n",
            "110482       0.131825        0.000961  ...             0             0\n",
            "\n",
            "[123403 rows x 1103 columns]\n",
            "Epoch 1/20\n",
            "50/50 [==============================] - 2s 24ms/step - loss: 0.4738 - accuracy: 0.8095 - val_loss: 0.2575 - val_accuracy: 0.9027\n",
            "Epoch 2/20\n",
            "50/50 [==============================] - 1s 13ms/step - loss: 0.3513 - accuracy: 0.8938 - val_loss: 0.2359 - val_accuracy: 0.9085\n",
            "Epoch 3/20\n",
            "50/50 [==============================] - 1s 13ms/step - loss: 0.3283 - accuracy: 0.9068 - val_loss: 0.2283 - val_accuracy: 0.9169\n",
            "Epoch 4/20\n",
            "50/50 [==============================] - 1s 13ms/step - loss: 0.3168 - accuracy: 0.9128 - val_loss: 0.2218 - val_accuracy: 0.9199\n",
            "Epoch 5/20\n",
            "50/50 [==============================] - 1s 13ms/step - loss: 0.3043 - accuracy: 0.9179 - val_loss: 0.2064 - val_accuracy: 0.9235\n",
            "Epoch 6/20\n",
            "50/50 [==============================] - 1s 13ms/step - loss: 0.2939 - accuracy: 0.9233 - val_loss: 0.2090 - val_accuracy: 0.9266\n",
            "Epoch 7/20\n",
            "50/50 [==============================] - 1s 13ms/step - loss: 0.2817 - accuracy: 0.9274 - val_loss: 0.2050 - val_accuracy: 0.9233\n",
            "Epoch 8/20\n",
            "50/50 [==============================] - 1s 13ms/step - loss: 0.2773 - accuracy: 0.9279 - val_loss: 0.2014 - val_accuracy: 0.9291\n",
            "Epoch 9/20\n",
            "50/50 [==============================] - 1s 13ms/step - loss: 0.2737 - accuracy: 0.9293 - val_loss: 0.1966 - val_accuracy: 0.9297\n",
            "Epoch 10/20\n",
            "50/50 [==============================] - 1s 13ms/step - loss: 0.2628 - accuracy: 0.9314 - val_loss: 0.1958 - val_accuracy: 0.9291\n",
            "Epoch 11/20\n",
            "50/50 [==============================] - 1s 13ms/step - loss: 0.2593 - accuracy: 0.9339 - val_loss: 0.1907 - val_accuracy: 0.9331\n",
            "Epoch 12/20\n",
            "50/50 [==============================] - 1s 13ms/step - loss: 0.2553 - accuracy: 0.9337 - val_loss: 0.1904 - val_accuracy: 0.9324\n",
            "Epoch 13/20\n",
            "50/50 [==============================] - 1s 16ms/step - loss: 0.2501 - accuracy: 0.9344 - val_loss: 0.1897 - val_accuracy: 0.9319\n",
            "Epoch 14/20\n",
            "50/50 [==============================] - 1s 13ms/step - loss: 0.2427 - accuracy: 0.9372 - val_loss: 0.1862 - val_accuracy: 0.9338\n",
            "Epoch 15/20\n",
            "50/50 [==============================] - 1s 13ms/step - loss: 0.2407 - accuracy: 0.9381 - val_loss: 0.1859 - val_accuracy: 0.9327\n",
            "Epoch 16/20\n",
            "50/50 [==============================] - 1s 13ms/step - loss: 0.2357 - accuracy: 0.9386 - val_loss: 0.1870 - val_accuracy: 0.9333\n",
            "Epoch 17/20\n",
            "50/50 [==============================] - 1s 13ms/step - loss: 0.2335 - accuracy: 0.9384 - val_loss: 0.1836 - val_accuracy: 0.9339\n",
            "Epoch 18/20\n",
            "50/50 [==============================] - 1s 13ms/step - loss: 0.2275 - accuracy: 0.9400 - val_loss: 0.1831 - val_accuracy: 0.9345\n",
            "Epoch 19/20\n",
            "50/50 [==============================] - 1s 13ms/step - loss: 0.2251 - accuracy: 0.9398 - val_loss: 0.1821 - val_accuracy: 0.9347\n",
            "Epoch 20/20\n",
            "50/50 [==============================] - 1s 13ms/step - loss: 0.2245 - accuracy: 0.9385 - val_loss: 0.1944 - val_accuracy: 0.9324\n",
            "\n",
            "\n",
            "Confusion matrix of model XGBoost of time 1\n"
          ],
          "name": "stdout"
        },
        {
          "output_type": "display_data",
          "data": {
            "image/png": "[encoded data removed]",
            "text/plain": [
              "<Figure size 360x360 with 2 Axes>"
            ]
          },
          "metadata": {
            "tags": [],
            "needs_background": "light"
          }
        },
        {
          "output_type": "stream",
          "text": [
            "\n",
            "\n",
            "Model f1 score:  0.45\n",
            "Model roc auc score:  0.93\n",
            "Model recall:  0.94\n",
            "Model precision:  0.29\n",
            "\n",
            "\n",
            "\n",
            "\n",
            "Confusion matrix of model Neural network of time 1\n"
          ],
          "name": "stdout"
        },
        {
          "output_type": "display_data",
          "data": {
            "image/png": "[encoded data removed]",
            "text/plain": [
              "<Figure size 360x360 with 2 Axes>"
            ]
          },
          "metadata": {
            "tags": [],
            "needs_background": "light"
          }
        },
        {
          "output_type": "stream",
          "text": [
            "\n",
            "\n",
            "Model f1 score:  0.09\n",
            "Model roc auc score:  0.64\n",
            "Model recall:  0.96\n",
            "Model precision:  0.05\n",
            "\n",
            "\n",
            "\n",
            "\n",
            "Confusion matrix of model Ensemble of time 1\n"
          ],
          "name": "stdout"
        },
        {
          "output_type": "display_data",
          "data": {
            "image/png": "[encoded data removed]",
            "text/plain": [
              "<Figure size 360x360 with 2 Axes>"
            ]
          },
          "metadata": {
            "tags": [],
            "needs_background": "light"
          }
        },
        {
          "output_type": "stream",
          "text": [
            "\n",
            "\n",
            "Model f1 score:  0.11\n",
            "Model roc auc score:  0.7\n",
            "Model recall:  0.93\n",
            "Model precision:  0.06\n",
            "\n",
            "\n",
            "Time  2\n"
          ],
          "name": "stdout"
        },
        {
          "output_type": "stream",
          "text": [
            "/usr/local/lib/python3.6/dist-packages/pandas/core/frame.py:4174: SettingWithCopyWarning: \n",
            "A value is trying to be set on a copy of a slice from a DataFrame\n",
            "\n",
            "See the caveats in the documentation: https://pandas.pydata.org/pandas-docs/stable/user_guide/indexing.html#returning-a-view-versus-a-copy\n",
            "  errors=errors,\n"
          ],
          "name": "stderr"
        },
        {
          "output_type": "stream",
          "text": [
            "        TransactionDT  TransactionAmt  ...  screen_h_990  screen_h_992\n",
            "422649       0.675000        0.009224  ...             0             0\n",
            "425989       0.679849        0.000492  ...             0             0\n",
            "441665       0.707909        0.013801  ...             0             0\n",
            "403523       0.642211        0.001683  ...             0             0\n",
            "458389       0.741184        0.007069  ...             0             0\n",
            "...               ...             ...  ...           ...           ...\n",
            "41594        0.059250        0.000775  ...             0             0\n",
            "46153        0.064860        0.000744  ...             0             0\n",
            "293678       0.455519        0.002607  ...             0             0\n",
            "172443       0.231170        0.005346  ...             0             0\n",
            "374059       0.587188        0.003560  ...             0             0\n",
            "\n",
            "[113511 rows x 1103 columns]\n",
            "Epoch 1/20\n",
            "46/46 [==============================] - 2s 23ms/step - loss: 0.5875 - accuracy: 0.7525 - val_loss: 0.3921 - val_accuracy: 0.8196\n",
            "Epoch 2/20\n",
            "46/46 [==============================] - 1s 16ms/step - loss: 0.4376 - accuracy: 0.8216 - val_loss: 0.3173 - val_accuracy: 0.8666\n",
            "Epoch 3/20\n",
            "46/46 [==============================] - 1s 13ms/step - loss: 0.3941 - accuracy: 0.8637 - val_loss: 0.2929 - val_accuracy: 0.8846\n",
            "Epoch 4/20\n",
            "46/46 [==============================] - 1s 13ms/step - loss: 0.3751 - accuracy: 0.8778 - val_loss: 0.3179 - val_accuracy: 0.8855\n",
            "Epoch 5/20\n",
            "46/46 [==============================] - 1s 13ms/step - loss: 0.3634 - accuracy: 0.8868 - val_loss: 0.2691 - val_accuracy: 0.8929\n",
            "Epoch 6/20\n",
            "46/46 [==============================] - 1s 13ms/step - loss: 0.3416 - accuracy: 0.8943 - val_loss: 0.2616 - val_accuracy: 0.9009\n",
            "Epoch 7/20\n",
            "46/46 [==============================] - 1s 13ms/step - loss: 0.3329 - accuracy: 0.8977 - val_loss: 0.2583 - val_accuracy: 0.8964\n",
            "Epoch 8/20\n",
            "46/46 [==============================] - 1s 13ms/step - loss: 0.3324 - accuracy: 0.8981 - val_loss: 0.2546 - val_accuracy: 0.9050\n",
            "Epoch 9/20\n",
            "46/46 [==============================] - 1s 13ms/step - loss: 0.3198 - accuracy: 0.9044 - val_loss: 0.2457 - val_accuracy: 0.9078\n",
            "Epoch 10/20\n",
            "46/46 [==============================] - 1s 14ms/step - loss: 0.3116 - accuracy: 0.9080 - val_loss: 0.2455 - val_accuracy: 0.9051\n",
            "Epoch 11/20\n",
            "46/46 [==============================] - 1s 13ms/step - loss: 0.3080 - accuracy: 0.9058 - val_loss: 0.2480 - val_accuracy: 0.9070\n",
            "Epoch 12/20\n",
            "46/46 [==============================] - 1s 13ms/step - loss: 0.3008 - accuracy: 0.9087 - val_loss: 0.2674 - val_accuracy: 0.9031\n",
            "Epoch 13/20\n",
            "46/46 [==============================] - 1s 13ms/step - loss: 0.3045 - accuracy: 0.9078 - val_loss: 0.2385 - val_accuracy: 0.9101\n",
            "Epoch 14/20\n",
            "46/46 [==============================] - 1s 16ms/step - loss: 0.2876 - accuracy: 0.9150 - val_loss: 0.2578 - val_accuracy: 0.9103\n",
            "Epoch 15/20\n",
            "46/46 [==============================] - 1s 13ms/step - loss: 0.2854 - accuracy: 0.9134 - val_loss: 0.2386 - val_accuracy: 0.9124\n",
            "Epoch 16/20\n",
            "46/46 [==============================] - 1s 13ms/step - loss: 0.2817 - accuracy: 0.9141 - val_loss: 0.2401 - val_accuracy: 0.9121\n",
            "Epoch 17/20\n",
            "46/46 [==============================] - 1s 13ms/step - loss: 0.2811 - accuracy: 0.9143 - val_loss: 0.2352 - val_accuracy: 0.9112\n",
            "Epoch 18/20\n",
            "46/46 [==============================] - 1s 13ms/step - loss: 0.2735 - accuracy: 0.9167 - val_loss: 0.2348 - val_accuracy: 0.9105\n",
            "Epoch 19/20\n",
            "46/46 [==============================] - 1s 13ms/step - loss: 0.2738 - accuracy: 0.9140 - val_loss: 0.2316 - val_accuracy: 0.9138\n",
            "Epoch 20/20\n",
            "46/46 [==============================] - 1s 13ms/step - loss: 0.2668 - accuracy: 0.9166 - val_loss: 0.2377 - val_accuracy: 0.9156\n",
            "\n",
            "\n",
            "Confusion matrix of model XGBoost of time 2\n"
          ],
          "name": "stdout"
        },
        {
          "output_type": "display_data",
          "data": {
            "image/png": "[encoded data removed]",
            "text/plain": [
              "<Figure size 360x360 with 2 Axes>"
            ]
          },
          "metadata": {
            "tags": [],
            "needs_background": "light"
          }
        },
        {
          "output_type": "stream",
          "text": [
            "\n",
            "\n",
            "Model f1 score:  0.17\n",
            "Model roc auc score:  0.82\n",
            "Model recall:  1.0\n",
            "Model precision:  0.09\n",
            "\n",
            "\n",
            "\n",
            "\n",
            "Confusion matrix of model Neural network of time 2\n"
          ],
          "name": "stdout"
        },
        {
          "output_type": "display_data",
          "data": {
            "image/png": "[encoded data removed]",
            "text/plain": [
              "<Figure size 360x360 with 2 Axes>"
            ]
          },
          "metadata": {
            "tags": [],
            "needs_background": "light"
          }
        },
        {
          "output_type": "stream",
          "text": [
            "\n",
            "\n",
            "Model f1 score:  0.08\n",
            "Model roc auc score:  0.58\n",
            "Model recall:  0.99\n",
            "Model precision:  0.04\n",
            "\n",
            "\n",
            "\n",
            "\n",
            "Confusion matrix of model Ensemble of time 2\n"
          ],
          "name": "stdout"
        },
        {
          "output_type": "display_data",
          "data": {
            "image/png": "[encoded data removed]",
            "text/plain": [
              "<Figure size 360x360 with 2 Axes>"
            ]
          },
          "metadata": {
            "tags": [],
            "needs_background": "light"
          }
        },
        {
          "output_type": "stream",
          "text": [
            "\n",
            "\n",
            "Model f1 score:  0.09\n",
            "Model roc auc score:  0.62\n",
            "Model recall:  0.96\n",
            "Model precision:  0.05\n",
            "\n",
            "\n",
            "Time  3\n"
          ],
          "name": "stdout"
        },
        {
          "output_type": "stream",
          "text": [
            "/usr/local/lib/python3.6/dist-packages/pandas/core/frame.py:4174: SettingWithCopyWarning: \n",
            "A value is trying to be set on a copy of a slice from a DataFrame\n",
            "\n",
            "See the caveats in the documentation: https://pandas.pydata.org/pandas-docs/stable/user_guide/indexing.html#returning-a-view-versus-a-copy\n",
            "  errors=errors,\n"
          ],
          "name": "stderr"
        },
        {
          "output_type": "stream",
          "text": [
            "        TransactionDT  TransactionAmt  ...  screen_h_990  screen_h_992\n",
            "526520       0.874243        0.002589  ...             0             0\n",
            "543019       0.905523        0.000623  ...             0             0\n",
            "486174       0.800369        0.001838  ...             0             0\n",
            "505120       0.835183        0.010482  ...             0             0\n",
            "551374       0.921423        0.007069  ...             0             0\n",
            "...               ...             ...  ...           ...           ...\n",
            "465446       0.756735        0.001840  ...             0             0\n",
            "437044       0.697328        0.012517  ...             0             0\n",
            "330966       0.511260        0.003656  ...             0             0\n",
            "476029       0.778328        0.001245  ...             0             0\n",
            "443632       0.712397        0.007069  ...             0             0\n",
            "\n",
            "[115722 rows x 1103 columns]\n",
            "Epoch 1/20\n",
            "47/47 [==============================] - 2s 27ms/step - loss: 0.5148 - accuracy: 0.7784 - val_loss: 0.3697 - val_accuracy: 0.8525\n",
            "Epoch 2/20\n",
            "47/47 [==============================] - 1s 13ms/step - loss: 0.3791 - accuracy: 0.8454 - val_loss: 0.2901 - val_accuracy: 0.8883\n",
            "Epoch 3/20\n",
            "47/47 [==============================] - 1s 13ms/step - loss: 0.3270 - accuracy: 0.8843 - val_loss: 0.2638 - val_accuracy: 0.9016\n",
            "Epoch 4/20\n",
            "47/47 [==============================] - 1s 13ms/step - loss: 0.3013 - accuracy: 0.8970 - val_loss: 0.2609 - val_accuracy: 0.9032\n",
            "Epoch 5/20\n",
            "47/47 [==============================] - 1s 13ms/step - loss: 0.2915 - accuracy: 0.9007 - val_loss: 0.2574 - val_accuracy: 0.9014\n",
            "Epoch 6/20\n",
            "47/47 [==============================] - 1s 13ms/step - loss: 0.2803 - accuracy: 0.9039 - val_loss: 0.2458 - val_accuracy: 0.9108\n",
            "Epoch 7/20\n",
            "47/47 [==============================] - 1s 13ms/step - loss: 0.2813 - accuracy: 0.9049 - val_loss: 0.2460 - val_accuracy: 0.9077\n",
            "Epoch 8/20\n",
            "47/47 [==============================] - 1s 13ms/step - loss: 0.2721 - accuracy: 0.9073 - val_loss: 0.2393 - val_accuracy: 0.9119\n",
            "Epoch 9/20\n",
            "47/47 [==============================] - 1s 13ms/step - loss: 0.2617 - accuracy: 0.9110 - val_loss: 0.2372 - val_accuracy: 0.9125\n",
            "Epoch 10/20\n",
            "47/47 [==============================] - 1s 13ms/step - loss: 0.2586 - accuracy: 0.9108 - val_loss: 0.2379 - val_accuracy: 0.9112\n",
            "Epoch 11/20\n",
            "47/47 [==============================] - 1s 13ms/step - loss: 0.2527 - accuracy: 0.9156 - val_loss: 0.2330 - val_accuracy: 0.9143\n",
            "Epoch 12/20\n",
            "47/47 [==============================] - 1s 13ms/step - loss: 0.2470 - accuracy: 0.9151 - val_loss: 0.2376 - val_accuracy: 0.9145\n",
            "Epoch 13/20\n",
            "47/47 [==============================] - 1s 13ms/step - loss: 0.2473 - accuracy: 0.9150 - val_loss: 0.2336 - val_accuracy: 0.9156\n",
            "Epoch 14/20\n",
            "47/47 [==============================] - 1s 13ms/step - loss: 0.2453 - accuracy: 0.9157 - val_loss: 0.2329 - val_accuracy: 0.9147\n",
            "Epoch 15/20\n",
            "47/47 [==============================] - 1s 13ms/step - loss: 0.2419 - accuracy: 0.9186 - val_loss: 0.2255 - val_accuracy: 0.9176\n",
            "Epoch 16/20\n",
            "47/47 [==============================] - 1s 16ms/step - loss: 0.2394 - accuracy: 0.9181 - val_loss: 0.2417 - val_accuracy: 0.9072\n",
            "Epoch 17/20\n",
            "47/47 [==============================] - 1s 13ms/step - loss: 0.2436 - accuracy: 0.9170 - val_loss: 0.2285 - val_accuracy: 0.9188\n",
            "Epoch 18/20\n",
            "47/47 [==============================] - 1s 13ms/step - loss: 0.2341 - accuracy: 0.9202 - val_loss: 0.2247 - val_accuracy: 0.9192\n",
            "Epoch 19/20\n",
            "47/47 [==============================] - 1s 13ms/step - loss: 0.2332 - accuracy: 0.9194 - val_loss: 0.2310 - val_accuracy: 0.9153\n",
            "Epoch 20/20\n",
            "47/47 [==============================] - 1s 14ms/step - loss: 0.2294 - accuracy: 0.9200 - val_loss: 0.2280 - val_accuracy: 0.9192\n",
            "\n",
            "\n",
            "Confusion matrix of model XGBoost of time 3\n"
          ],
          "name": "stdout"
        },
        {
          "output_type": "display_data",
          "data": {
            "image/png": "[encoded data removed]",
            "text/plain": [
              "<Figure size 360x360 with 2 Axes>"
            ]
          },
          "metadata": {
            "tags": [],
            "needs_background": "light"
          }
        },
        {
          "output_type": "stream",
          "text": [
            "\n",
            "\n",
            "Model f1 score:  0.11\n",
            "Model roc auc score:  0.7\n",
            "Model recall:  1.0\n",
            "Model precision:  0.06\n",
            "\n",
            "\n",
            "\n",
            "\n",
            "Confusion matrix of model Neural network of time 3\n"
          ],
          "name": "stdout"
        },
        {
          "output_type": "display_data",
          "data": {
            "image/png": "[encoded data removed]",
            "text/plain": [
              "<Figure size 360x360 with 2 Axes>"
            ]
          },
          "metadata": {
            "tags": [],
            "needs_background": "light"
          }
        },
        {
          "output_type": "stream",
          "text": [
            "\n",
            "\n",
            "Model f1 score:  0.08\n",
            "Model roc auc score:  0.6\n",
            "Model recall:  0.98\n",
            "Model precision:  0.04\n",
            "\n",
            "\n",
            "\n",
            "\n",
            "Confusion matrix of model Ensemble of time 3\n"
          ],
          "name": "stdout"
        },
        {
          "output_type": "display_data",
          "data": {
            "image/png": "[encoded data removed]",
            "text/plain": [
              "<Figure size 360x360 with 2 Axes>"
            ]
          },
          "metadata": {
            "tags": [],
            "needs_background": "light"
          }
        },
        {
          "output_type": "stream",
          "text": [
            "\n",
            "\n",
            "Model f1 score:  0.09\n",
            "Model roc auc score:  0.62\n",
            "Model recall:  0.96\n",
            "Model precision:  0.05\n",
            "\n",
            "\n"
          ],
          "name": "stdout"
        }
      ]
    },
    {
      "cell_type": "code",
      "metadata": {
        "id": "vWYvDvxAVgG9"
      },
      "source": [
        ""
      ],
      "execution_count": 16,
      "outputs": []
    }
  ]
}