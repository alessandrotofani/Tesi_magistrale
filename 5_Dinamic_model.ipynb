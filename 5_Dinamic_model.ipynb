{
  "nbformat": 4,
  "nbformat_minor": 0,
  "metadata": {
    "colab": {
      "name": "5_Dinamic_model_new.ipynb",
      "provenance": [],
      "authorship_tag": "ABX9TyOY6m0wF3b6LrIvG66i6dSJ",
      "include_colab_link": true
    },
    "kernelspec": {
      "name": "python3",
      "display_name": "Python 3"
    },
    "accelerator": "GPU"
  },
  "cells": [
    {
      "cell_type": "markdown",
      "metadata": {
        "id": "view-in-github",
        "colab_type": "text"
      },
      "source": [
        "<a href=\"https://colab.research.google.com/github/alessandrotofani/Tesi_magistrale/blob/master/5_Dinamic_model.ipynb\" target=\"_parent\"><img src=\"https://colab.research.google.com/assets/colab-badge.svg\" alt=\"Open In Colab\"/></a>"
      ]
    },
    {
      "cell_type": "markdown",
      "metadata": {
        "id": "z-7rH_UhAPGR"
      },
      "source": [
        "# Import"
      ]
    },
    {
      "cell_type": "code",
      "metadata": {
        "id": "SwkBbxNMK8Fv",
        "colab": {
          "base_uri": "https://localhost:8080/"
        },
        "outputId": "f544c0ac-d3e0-4541-91f2-154498085a42"
      },
      "source": [
        "import numpy as np \r\n",
        "import pandas as pd \r\n",
        "import matplotlib\r\n",
        "import matplotlib.pyplot as plt\r\n",
        "import seaborn as sns\r\n",
        "import os\r\n",
        "from google.colab import drive\r\n",
        "drive.mount('/content/drive')\r\n",
        "from sklearn.model_selection import train_test_split"
      ],
      "execution_count": 1,
      "outputs": [
        {
          "output_type": "stream",
          "text": [
            "Drive already mounted at /content/drive; to attempt to forcibly remount, call drive.mount(\"/content/drive\", force_remount=True).\n"
          ],
          "name": "stdout"
        }
      ]
    },
    {
      "cell_type": "code",
      "metadata": {
        "id": "9UBtZ7vSkof3"
      },
      "source": [
        "import sys \r\n",
        "sys.path.append('/content/drive/MyDrive/Tesi_magistrale/Tesi_magistrale')\r\n",
        "import mf"
      ],
      "execution_count": 2,
      "outputs": []
    },
    {
      "cell_type": "code",
      "metadata": {
        "id": "RYEwRKTV1NvR"
      },
      "source": [
        "data = pd.read_csv('/content/drive/MyDrive/Tesi_magistrale/Dataset/IEEE/Output/data.csv')\r\n",
        "data.drop(data.columns[data.columns.str.contains('unnamed',case = False)],axis = 1, inplace = True)"
      ],
      "execution_count": 3,
      "outputs": []
    },
    {
      "cell_type": "markdown",
      "metadata": {
        "id": "ouPK38wK1Ytv"
      },
      "source": [
        "# Feature engineering and scaling"
      ]
    },
    {
      "cell_type": "code",
      "metadata": {
        "id": "8s7dk9_P1QQx"
      },
      "source": [
        "data = mf.feature_engineering(data)\r\n",
        "data = mf.feature_scaling(data)\r\n",
        "data = pd.get_dummies(data)"
      ],
      "execution_count": 4,
      "outputs": []
    },
    {
      "cell_type": "markdown",
      "metadata": {
        "id": "ufgfSciYOIqL"
      },
      "source": [
        "# Dinamic model"
      ]
    },
    {
      "cell_type": "code",
      "metadata": {
        "id": "NdLWKPHvOJb7"
      },
      "source": [
        "init_splits = 4 # numero di split su cui il modello iniziale (t=0) si allena \r\n",
        "incoming_splits = 2 # nuovi split che arrivano ad ogni nuovo dt, e su cui si allena il nuovo modello\r\n",
        "tot_splits = 10 # split totali in cui sarà diviso il dataset"
      ],
      "execution_count": 5,
      "outputs": []
    },
    {
      "cell_type": "code",
      "metadata": {
        "id": "jxTnn6PcOYqE"
      },
      "source": [
        "def get_split_id(data, init_splits, incoming_splits, tot_splits): # serve per splittare il dataset in tot_splits\r\n",
        "  '''\r\n",
        "  in\r\n",
        "  data: dataset che si vuole splittare\r\n",
        "  init_splits: numero di split su cui il modello iniziale (t=0) si allena \r\n",
        "  incoming_splits: nuovi split che arrivano ad ogni nuovo dt, e su cui si allena il nuovo modello\r\n",
        "  tot_splits: split totali in cui sarà diviso il dataset\r\n",
        "  out\r\n",
        "  id: dizionario che contiene (split : id righe selezionate)\r\n",
        "  id_fraud: come id, solo che sono selezionate solo le transazioni fraudolente \r\n",
        "  '''\r\n",
        "  id = {} # dizionario con (split : id_righe)\r\n",
        "  id_fraud = {} # dizionario con (split: id righe transazioni fraudolente)\r\n",
        "  for i in range(tot_splits):\r\n",
        "    id[i] = data[(data['TransactionDT']>=(i/tot_splits)) & (data['TransactionDT']<((i + 1)/tot_splits))].index.tolist()\r\n",
        "    id_fraud[i] = data[(data['TransactionDT']>=(i/tot_splits)) & (data['TransactionDT']<((i + 1)/tot_splits)) & (data['isFraud'] == 1)].index.tolist()\r\n",
        "    \r\n",
        "  return id, id_fraud"
      ],
      "execution_count": 6,
      "outputs": []
    },
    {
      "cell_type": "code",
      "metadata": {
        "id": "PtMpJb8jQ_B1"
      },
      "source": [
        "class model:\r\n",
        "  name = 'XGBoost'\r\n",
        "\r\n",
        "  def __init__(self, t): # costruttore\r\n",
        "    '''\r\n",
        "    in\r\n",
        "    t: istante temporale\r\n",
        "    '''\r\n",
        "    self.t = t\r\n",
        "    self.f1 = 0\r\n",
        "    self.precision = 0\r\n",
        "    self.recall = 0\r\n",
        "    self.roc = 0\r\n",
        "    self.proba = []\r\n",
        "    self.prediction = []\r\n",
        "    self.train_id = [] # lista con le righe su cui il modello si è allenato\r\n",
        "    self.val_id = [] # lista con le righe su cui il modello viene validato\r\n",
        "    return\r\n",
        "\r\n",
        "  def __str__(self): # print dell'oggetto\r\n",
        "    return f\"{self.name}, at time {self.t}, with f1 score of {self.f1}\"\r\n",
        "\r\n",
        "  def init_xgb(self, estimators = 1000, depth = 6): # inizializza xgb 2000, 6\r\n",
        "    import xgboost \r\n",
        "    from xgboost import XGBClassifier\r\n",
        "    self.xgb = XGBClassifier(n_estimators = estimators, max_depth = depth, \r\n",
        "                      objective='binary:logistic', learning_rate = 0.5, \r\n",
        "                      tree_method='gpu_hist')\r\n",
        "    return f'{self.name} at time {self.t}, has been initialized.'\r\n",
        "  \r\n",
        "  def train_xgb(self, X_train, y_train): # traina il modello\r\n",
        "    # self.xgb.fit(X_train.to_numpy(), y_train.to_numpy())\r\n",
        "    self.xgb.fit(X_train.to_numpy(), y_train)\r\n",
        "    return f'{self.name} is now trained!'\r\n",
        "\r\n",
        "  def get_set(self, data, id_list): # restituisce il subset dati gli id delle righe\r\n",
        "    # id_list: è l'elemento id[t] \r\n",
        "    subset = data.iloc[id_list,:]\r\n",
        "    return subset\r\n",
        "\r\n",
        "  def proba_predictions(self, X_val): # restituisce le probabilità\r\n",
        "    if not self.xgb:\r\n",
        "      return f'{self.name} is not declared. You need to use init_xgb'\r\n",
        "    self.proba = self.xgb.predict_proba(X_val, validate_features = False)\r\n",
        "    return self.proba\r\n",
        "\r\n",
        "  def aggregate(self, soglia = 0.05): # resituisce la classe\r\n",
        "    # if not self.proba:\r\n",
        "    #   return f'self.proba is empty. Before aggregate, you need to use proba_predictions'\r\n",
        "    self.prediction = []\r\n",
        "    for proba in self.proba[:,1]:\r\n",
        "      if proba > soglia:\r\n",
        "        self.prediction.append(1)\r\n",
        "      else:\r\n",
        "        self.prediction.append(0)\r\n",
        "    return f'Classification has been councluded!'\r\n",
        "\r\n",
        "  def performance(self, y_val, soglia = 0.05): # printa le performance del modello \r\n",
        "    from sklearn.metrics import roc_auc_score, f1_score, recall_score, precision_score\r\n",
        "    \r\n",
        "    print('\\n')\r\n",
        "    print('Confusion matrix of model', self.name,'of time', self.t)\r\n",
        "    mf.plot_cm(y_val, self.prediction, 'Blues', p = soglia, dynamic = True)\r\n",
        "    \r\n",
        "    self.score = f1_score(y_val, self.prediction).round(2)\r\n",
        "    self.roc = roc_auc_score(y_val, self.prediction).round(2)\r\n",
        "    self.precision = precision_score(y_val, self.prediction,  average='binary').round(2)\r\n",
        "    self.recall = recall_score(y_val, self.prediction, average='binary').round(2)\r\n",
        "\r\n",
        "    print('\\n')\r\n",
        "    print('Model f1 score: ', self.score)\r\n",
        "    print('Model roc auc score: ', self.roc)\r\n",
        "    print('Model recall: ', self.recall)\r\n",
        "    print('Model precision: ', self.precision)\r\n",
        "    print('\\n')\r\n",
        "    return "
      ],
      "execution_count": 7,
      "outputs": []
    },
    {
      "cell_type": "code",
      "metadata": {
        "id": "AlIsUnQQZ8nU"
      },
      "source": [
        "class nn(model):\r\n",
        "  name = 'Neural network'\r\n",
        "\r\n",
        "  def init_nn(self, n_features):\r\n",
        "    import tensorflow as tf\r\n",
        "    from tensorflow import keras\r\n",
        "    from tensorflow.keras.models import Sequential\r\n",
        "    from tensorflow.keras.layers import Flatten, Dense, Dropout, Input\r\n",
        "    self.nn = Sequential()\r\n",
        "    self.nn.add(Input(shape=(n_features,))) \r\n",
        "    self.nn.add(Dense(1024, activation='relu')) \r\n",
        "    self.nn.add(Dropout(0.2)) \r\n",
        "    self.nn.add(Dense(512, activation='relu')) \r\n",
        "    self.nn.add(Dropout(0.2)) \r\n",
        "    self.nn.add(Dense(256, activation='relu')) \r\n",
        "    self.nn.add(Dropout(0.2))\r\n",
        "    self.nn.add(Dense(128, activation='relu')) \r\n",
        "    self.nn.add(Dropout(0.2))\r\n",
        "    self.nn.add(Dense(24, activation='relu')) \r\n",
        "    self.nn.add(Dropout(0.2))\r\n",
        "    self.nn.add(Dense(4, activation='relu')) \r\n",
        "    self.nn.add(Dropout(0.2))\r\n",
        "    self.nn.add(Dense(1, activation='sigmoid')) \r\n",
        "\r\n",
        "    self.nn.compile( loss='binary_crossentropy', optimizer='adam', metrics=['accuracy'])\r\n",
        "    return f'{self.name} initialized'\r\n",
        "\r\n",
        "  def train_nn(self, X_train, y_train):\r\n",
        "    from sklearn.model_selection import train_test_split\r\n",
        "    X_train, X_val, y_train, y_val = train_test_split(X_train, y_train, test_size=0.2, random_state=42)\r\n",
        "    history = self.nn.fit(X_train.to_numpy(), y_train, \r\n",
        "                          epochs=20, batch_size=2000, \r\n",
        "                          # epochs=20, batch_size=2000, \r\n",
        "                          validation_data=(X_val.to_numpy(), y_val), verbose=1, shuffle = True)\r\n",
        "    return f'{self.name} trained.'\r\n",
        "\r\n",
        "  #override\r\n",
        "  def proba_predictions(self, X_val): # restituisce le probabilità\r\n",
        "    if not self.nn:\r\n",
        "      return f'{self.name} is not declared. You need to use init_nn'\r\n",
        "    self.proba = self.nn.predict(X_val.to_numpy())#, validate_features = False)\r\n",
        "    return self.proba\r\n",
        "\r\n",
        "  #override\r\n",
        "  def aggregate(self, soglia = 0.5): # resituisce la classe\r\n",
        "    self.prediction = []\r\n",
        "    for proba in self.proba:\r\n",
        "      if proba > soglia:\r\n",
        "        self.prediction.append(1)\r\n",
        "      else:\r\n",
        "        self.prediction.append(0)\r\n",
        "    return f'Classification has been councluded!'"
      ],
      "execution_count": 8,
      "outputs": []
    },
    {
      "cell_type": "code",
      "metadata": {
        "id": "72mPUBaza2zv"
      },
      "source": [
        "class ensemble(model): # child class di model\r\n",
        "  name = 'Ensemble'\r\n",
        "  # come model_dict passare il dizionario in cui si salvano gli ensemble\r\n",
        "\r\n",
        "  #override \r\n",
        "  def proba_predictions(self, model_dict, X_val): # restituisce le probabilità predette \r\n",
        "    prob = []\r\n",
        "    for t in model_dict:\r\n",
        "      if model_dict[t].name == 'XGBoost':\r\n",
        "        prob.append(model_dict[t].proba_predictions(X_val)[:,1])\r\n",
        "      if model_dict[t].name == 'Neural network':\r\n",
        "        prob.append(model_dict[t].proba_predictions(X_val))\r\n",
        "    self.proba = np.mean(prob, axis = 0)\r\n",
        "    return f'Proba acquired.'\r\n",
        "  \r\n",
        "  #override\r\n",
        "  def aggregate(self, soglia = 0.05): # restituisce la classe predetta \r\n",
        "    for proba in self.proba:\r\n",
        "      if proba > soglia:\r\n",
        "        self.prediction.append(1)\r\n",
        "      else:\r\n",
        "        self.prediction.append(0)\r\n",
        "    return f'Classification has been councluded!'"
      ],
      "execution_count": 9,
      "outputs": []
    },
    {
      "cell_type": "code",
      "metadata": {
        "id": "T6Neus5uAUhU"
      },
      "source": [
        "def get_t_id(data, id, id_fraud, t, init_splits, incoming_splits): # restituisce la lista degli id corrispondente all'istante temporale t \r\n",
        "  '''\r\n",
        "  data: dataset da cui selezionare le transazioni\r\n",
        "  id: lista con gli id delle righe\r\n",
        "  t: istante temporale\r\n",
        "  init_splits: split totali in cui sarà diviso il dataset\r\n",
        "  incoming_splits: nuovi split che arrivano ad ogni nuovo dt, e su cui si allena il nuovo modello\r\n",
        "  out\r\n",
        "  id_list: lista con gli id delle righe selezionate a seconda dell'istante temporale specificato  \r\n",
        "  '''\r\n",
        "  id_list = [] # lista che conterrà le righe da usare al tempo t\r\n",
        "  id_list_fraud = [] # lista che conterrà le righe con transazioni fraud da usare al tempo t\r\n",
        "\r\n",
        "  if t == 0: \r\n",
        "    start = 0\r\n",
        "    end = init_splits\r\n",
        "  else:\r\n",
        "    start = incoming_splits * (t - 1) + init_splits\r\n",
        "    end = start + incoming_splits\r\n",
        "\r\n",
        "  if t == 1:\r\n",
        "    start_fraud = 0\r\n",
        "    end_fraud = init_splits\r\n",
        "  else:\r\n",
        "    start_fraud = 0\r\n",
        "    end_fraud = incoming_splits * (t - 1) + init_splits + incoming_splits \r\n",
        "\r\n",
        "    \r\n",
        "\r\n",
        "  for n in range(start,end):\r\n",
        "    id_list += id[n]\r\n",
        "  \r\n",
        "  if t > 0:\r\n",
        "    for n in range(start_fraud, end_fraud):\r\n",
        "      id_list_fraud += id_fraud[n]\r\n",
        "\r\n",
        "  return id_list, id_list_fraud"
      ],
      "execution_count": 10,
      "outputs": []
    },
    {
      "cell_type": "code",
      "metadata": {
        "id": "H6Zv9r_eD1Nr"
      },
      "source": [
        "def train_model(sel_model, last_model, data, id_t, id_fraud_t, keep_fraud, keep_safe): # funzione per sistemare il dataset e trainare il modello\r\n",
        "  '''\r\n",
        "  sel_model: modello da trainare\r\n",
        "  data: dataset\r\n",
        "  id_t: id delle righe su cui trainare il modello\r\n",
        "  '''\r\n",
        "  import random \r\n",
        "\r\n",
        "\r\n",
        "\r\n",
        "  # Train test split\r\n",
        "  subset = sel_model.get_set(data, id_t) # seleziono il subset su cui il modello si allenerà\r\n",
        "  X_train, X_val, y_train, y_val = mf.split(subset, test_size = 0.2) # train test split\r\n",
        "\r\n",
        "  # unione transazioni fraudolente degli step precedenti\r\n",
        "  if keep_fraud:\r\n",
        "    X_train_fraud = sel_model.get_set(data, id_fraud_t)\r\n",
        "    X_train_fraud.drop(columns = ['isFraud'], inplace = True)\r\n",
        "  if keep_safe:\r\n",
        "    sample_size = int(np.ceil(len(last_model.train_id) * 0.1))\r\n",
        "    id_safe_t = random.sample(last_model.train_id, sample_size)\r\n",
        "    X_train_safe = last_model.get_set(data, id_safe_t)\r\n",
        "    X_train_safe.drop(columns = ['isFraud'], inplace = True)\r\n",
        "\r\n",
        "  if keep_safe and keep_fraud:\r\n",
        "    X_train = pd.concat([X_train, X_train_fraud, X_train_safe])\r\n",
        "    y_train_safe = np.zeros(X_train_safe.shape[0])\r\n",
        "    y_train_fraud = np.ones(X_train_fraud.shape[0])\r\n",
        "    y_train = np.concatenate((y_train, y_train_fraud, y_train_safe), axis=None)\r\n",
        "\r\n",
        "  if keep_safe and not keep_fraud:\r\n",
        "    X_train = pd.concat([X_train, X_train_fraud])\r\n",
        "    y_train_fraud = np.ones(X_train_fraud.shape[0])\r\n",
        "    y_train = np.concatenate((y_train, y_train_fraud), axis=None)\r\n",
        "\r\n",
        "  # salvataggio degli id nel modello\r\n",
        "  sel_model.train_id = X_train.index.tolist() # salvo gli id del training set \r\n",
        "  sel_model.val_id = X_val.index.tolist() # salvo gli id del test set\r\n",
        "\r\n",
        "  # Training del modello\r\n",
        "  print('Training', sel_model.name)\r\n",
        "  if sel_model.name == 'XGBoost':\r\n",
        "    sel_model.init_xgb() # inizializzo xgb\r\n",
        "    sel_model.train_xgb(X_train, y_train) # train di xgb \r\n",
        "  \r\n",
        "  if sel_model.name == 'Neural network':\r\n",
        "    n_features = X_train.shape[1]\r\n",
        "    sel_model.init_nn(n_features)\r\n",
        "    sel_model.train_nn(X_train, y_train)\r\n",
        "\r\n",
        "\r\n",
        "  return f'Training ended. \\n'"
      ],
      "execution_count": 11,
      "outputs": []
    },
    {
      "cell_type": "code",
      "metadata": {
        "id": "wwC4yBClLSUs"
      },
      "source": [
        "def test_model(sel_model, model_dict, t, data, soglia): # test del modello\r\n",
        "  '''\r\n",
        "  in\r\n",
        "  sel_model: modello da trainare\r\n",
        "  model_dict: dizionario contenente i vari modelli\r\n",
        "  t: istante temporale\r\n",
        "  data: dataset\r\n",
        "  soglia: soglia sulla probabilità \r\n",
        "  '''\r\n",
        "  id_list = []\r\n",
        "  for i in model_dict:\r\n",
        "    id_list += model_dict[i].val_id\r\n",
        "  # id_list = last_model.val_id # seleziono le righe su cui va validato l'ultimo modello\r\n",
        "  subset = sel_model.get_set(data, id_list) # seleziono il set su cui valido i dati\r\n",
        "  y_val = subset['isFraud']\r\n",
        "  X_val = subset.drop(columns=['isFraud'], axis = 1)\r\n",
        "\r\n",
        "  sel_model.proba_predictions(X_val) # predict_proba\r\n",
        "  sel_model.aggregate(soglia = soglia) # predict\r\n",
        "\r\n",
        "  sel_model.performance(y_val, soglia = soglia) # valuta le performance del modello\r\n",
        "  return "
      ],
      "execution_count": 12,
      "outputs": []
    },
    {
      "cell_type": "code",
      "metadata": {
        "id": "oTVI-DcxJECb"
      },
      "source": [
        "def test_ensemble(ens, model_dict, t, data, id_t, soglia): # testa le performance dell'ensemble\r\n",
        "  '''\r\n",
        "  ens: ensemble da testare \r\n",
        "  model_dict: dizionario con i modelli\r\n",
        "  t: istante temporale\r\n",
        "  data: dataset\r\n",
        "  id_t: righe da usare all'istante t-esimo\r\n",
        "  '''\r\n",
        "  id_list = []\r\n",
        "  for i in model_dict:\r\n",
        "    id_list += model_dict[i].val_id\r\n",
        "  subset = model_dict[t].get_set(data, id_list) # seleziono il set su cui valido i dati\r\n",
        "  # subset = model_dict[t].get_set(data, id_t) # seleziono il set su cui valido i dati\r\n",
        "  y_val = subset['isFraud']\r\n",
        "  X_val = subset.drop(columns=['isFraud'], axis = 1)\r\n",
        "  ens.proba_predictions(model_dict, X_val) # predict_proba dell'ensemble\r\n",
        "  ens.aggregate(soglia = soglia) # predict dell'ensemble\r\n",
        "  ens.performance(y_val, soglia = soglia) # valuto le performance\r\n",
        "  return f'Ensemble testing ended. \\n'"
      ],
      "execution_count": 13,
      "outputs": []
    },
    {
      "cell_type": "code",
      "metadata": {
        "id": "tCjWWWdCfsix"
      },
      "source": [
        "def get_best_model(xgb, nn):\r\n",
        "  if xgb.score > nn.score:\r\n",
        "    return xgb\r\n",
        "  else:\r\n",
        "    return nn"
      ],
      "execution_count": 14,
      "outputs": []
    },
    {
      "cell_type": "code",
      "metadata": {
        "id": "_GaailvFPVir"
      },
      "source": [
        "def dinamic_model(data, id, id_fraud, init_splits, incoming_splits, tot_splits, keep_fraud, keep_safe):\r\n",
        "  tmax = np.ceil((tot_splits - init_splits) / incoming_splits)\r\n",
        "  model_dict = {}\r\n",
        "  xgb_dict = {}\r\n",
        "  nn_dict = {}\r\n",
        "  ensemble_dict = {}\r\n",
        "  soglia_xgb = 0.7 # 0.05\r\n",
        "  soglia_nn = 0.7\r\n",
        "  soglia_ens = 0.7\r\n",
        "\r\n",
        "  for t in range(int(tmax + 1)):\r\n",
        "    print('Time ', t)\r\n",
        "    id_t, id_fraud_t = get_t_id(data, id, id_fraud, t, init_splits, incoming_splits) # ottengo gli id delle righe da usare al tempo t-esimo\r\n",
        "    # model_dict[t] = model(t) # inizializzo il modello t-esimo \r\n",
        "    xgb_dict[t] = model(t)\r\n",
        "    nn_dict[t] = nn(t)\r\n",
        "    if t == 0:\r\n",
        "      # train_model(model_dict[t], None, data, id_t, id_fraud_t, keep_fraud = False, keep_safe = False) # train e test del modello t-esimo\r\n",
        "      train_model(xgb_dict[t], None, data, id_t, id_fraud_t, keep_fraud = False, keep_safe = False) # train e test del modello t-esimo\r\n",
        "      train_model(nn_dict[t], None, data, id_t, id_fraud_t, keep_fraud = False, keep_safe = False) # train e test del modello t-esimo\r\n",
        "      \r\n",
        "      test_model(xgb_dict[t], xgb_dict, t, data, soglia_xgb)\r\n",
        "      test_model(nn_dict[t], nn_dict, t, data, soglia_nn)\r\n",
        "      model_dict[t] = get_best_model(xgb_dict[t], nn_dict[t])\r\n",
        "      print(model_dict[t].name, 'has been chosen.')\r\n",
        "\r\n",
        "    if t > 0:\r\n",
        "      # train_model(model_dict[t], model_dict[t-1], data, id_t, id_fraud_t, keep_fraud, keep_safe) # train e test del modello t-esimo\r\n",
        "      train_model(xgb_dict[t], model_dict[t-1], data, id_t, id_fraud_t, keep_fraud, keep_safe) # train e test del modello t-esimo\r\n",
        "      train_model(nn_dict[t], model_dict[t-1], data, id_t, id_fraud_t, keep_fraud, keep_safe) # train e test del modello t-esimo\r\n",
        "      \r\n",
        "      test_model(xgb_dict[t], xgb_dict, t, data, soglia_xgb)\r\n",
        "      test_model(nn_dict[t], nn_dict, t, data, soglia_nn)\r\n",
        "      model_dict[t] = get_best_model(xgb_dict[t], nn_dict[t])\r\n",
        "      print(model_dict[t].name, 'has been chosen.')\r\n",
        "\r\n",
        "      ensemble_dict[t] = ensemble(t) # inizializzo l'ensemble t-esimo\r\n",
        "      test_ensemble(ensemble_dict[t], model_dict, t, data, id_t, soglia_ens) # testo l'ensemble\r\n",
        "    # for i in model_dict:\r\n",
        "    #   test_model(model_dict[i], model_dict, t, data, soglia)\r\n",
        "\r\n",
        "  return model_dict, ensemble_dict"
      ],
      "execution_count": 15,
      "outputs": []
    },
    {
      "cell_type": "code",
      "metadata": {
        "colab": {
          "base_uri": "https://localhost:8080/",
          "height": 1000
        },
        "id": "FiXWYKJ69d5J",
        "outputId": "25e8c92c-a9da-4681-e6c8-4be74538a5be"
      },
      "source": [
        "id, id_fraud = get_split_id(data, init_splits, incoming_splits, tot_splits) # splitta le righe in base agli split dichiarati\r\n",
        "model_dict, ensemble_dict = dinamic_model(data, id, id_fraud, init_splits, incoming_splits, tot_splits, keep_fraud = True, keep_safe = True)"
      ],
      "execution_count": 16,
      "outputs": [
        {
          "output_type": "stream",
          "text": [
            "Time  0\n",
            "Training XGBoost\n",
            "Training Neural network\n",
            "Epoch 1/20\n",
            "85/85 [==============================] - 4s 31ms/step - loss: 0.3025 - accuracy: 0.9367 - val_loss: 0.1318 - val_accuracy: 0.9668\n",
            "Epoch 2/20\n",
            "85/85 [==============================] - 2s 21ms/step - loss: 0.2328 - accuracy: 0.9649 - val_loss: 0.1185 - val_accuracy: 0.9668\n",
            "Epoch 3/20\n",
            "85/85 [==============================] - 2s 21ms/step - loss: 0.2211 - accuracy: 0.9657 - val_loss: 0.1239 - val_accuracy: 0.9668\n",
            "Epoch 4/20\n",
            "85/85 [==============================] - 2s 21ms/step - loss: 0.2078 - accuracy: 0.9673 - val_loss: 0.1099 - val_accuracy: 0.9710\n",
            "Epoch 5/20\n",
            "85/85 [==============================] - 2s 20ms/step - loss: 0.1992 - accuracy: 0.9700 - val_loss: 0.1058 - val_accuracy: 0.9716\n",
            "Epoch 6/20\n",
            "85/85 [==============================] - 2s 21ms/step - loss: 0.1895 - accuracy: 0.9717 - val_loss: 0.1060 - val_accuracy: 0.9722\n",
            "Epoch 7/20\n",
            "85/85 [==============================] - 2s 21ms/step - loss: 0.1838 - accuracy: 0.9718 - val_loss: 0.1045 - val_accuracy: 0.9724\n",
            "Epoch 8/20\n",
            "85/85 [==============================] - 2s 21ms/step - loss: 0.1743 - accuracy: 0.9727 - val_loss: 0.1032 - val_accuracy: 0.9723\n",
            "Epoch 9/20\n",
            "85/85 [==============================] - 2s 21ms/step - loss: 0.1713 - accuracy: 0.9730 - val_loss: 0.1014 - val_accuracy: 0.9730\n",
            "Epoch 10/20\n",
            "85/85 [==============================] - 2s 21ms/step - loss: 0.1643 - accuracy: 0.9733 - val_loss: 0.0958 - val_accuracy: 0.9735\n",
            "Epoch 11/20\n",
            "85/85 [==============================] - 2s 21ms/step - loss: 0.1594 - accuracy: 0.9738 - val_loss: 0.0993 - val_accuracy: 0.9736\n",
            "Epoch 12/20\n",
            "85/85 [==============================] - 2s 23ms/step - loss: 0.1508 - accuracy: 0.9750 - val_loss: 0.1005 - val_accuracy: 0.9732\n",
            "Epoch 13/20\n",
            "85/85 [==============================] - 2s 21ms/step - loss: 0.1468 - accuracy: 0.9751 - val_loss: 0.0948 - val_accuracy: 0.9735\n",
            "Epoch 14/20\n",
            "85/85 [==============================] - 2s 21ms/step - loss: 0.1449 - accuracy: 0.9746 - val_loss: 0.0928 - val_accuracy: 0.9741\n",
            "Epoch 15/20\n",
            "85/85 [==============================] - 2s 21ms/step - loss: 0.1384 - accuracy: 0.9756 - val_loss: 0.0952 - val_accuracy: 0.9735\n",
            "Epoch 16/20\n",
            "85/85 [==============================] - 2s 21ms/step - loss: 0.1362 - accuracy: 0.9754 - val_loss: 0.0948 - val_accuracy: 0.9745\n",
            "Epoch 17/20\n",
            "85/85 [==============================] - 2s 22ms/step - loss: 0.1337 - accuracy: 0.9752 - val_loss: 0.0934 - val_accuracy: 0.9751\n",
            "Epoch 18/20\n",
            "85/85 [==============================] - 2s 21ms/step - loss: 0.1278 - accuracy: 0.9767 - val_loss: 0.0911 - val_accuracy: 0.9746\n",
            "Epoch 19/20\n",
            "85/85 [==============================] - 2s 21ms/step - loss: 0.1235 - accuracy: 0.9769 - val_loss: 0.0908 - val_accuracy: 0.9744\n",
            "Epoch 20/20\n",
            "85/85 [==============================] - 2s 21ms/step - loss: 0.1232 - accuracy: 0.9759 - val_loss: 0.0911 - val_accuracy: 0.9754\n",
            "\n",
            "\n",
            "Confusion matrix of model XGBoost of time 0\n"
          ],
          "name": "stdout"
        },
        {
          "output_type": "display_data",
          "data": {
            "image/png": "[encoded data removed]",
            "text/plain": [
              "<Figure size 360x360 with 2 Axes>"
            ]
          },
          "metadata": {
            "tags": [],
            "needs_background": "light"
          }
        },
        {
          "output_type": "stream",
          "text": [
            "\n",
            "\n",
            "Model f1 score:  0.78\n",
            "Model roc auc score:  0.83\n",
            "Model recall:  0.65\n",
            "Model precision:  0.98\n",
            "\n",
            "\n",
            "\n",
            "\n",
            "Confusion matrix of model Neural network of time 0\n"
          ],
          "name": "stdout"
        },
        {
          "output_type": "display_data",
          "data": {
            "image/png": "[encoded data removed]",
            "text/plain": [
              "<Figure size 360x360 with 2 Axes>"
            ]
          },
          "metadata": {
            "tags": [],
            "needs_background": "light"
          }
        },
        {
          "output_type": "stream",
          "text": [
            "\n",
            "\n",
            "Model f1 score:  0.43\n",
            "Model roc auc score:  0.64\n",
            "Model recall:  0.28\n",
            "Model precision:  0.91\n",
            "\n",
            "\n",
            "XGBoost has been chosen.\n",
            "Time  1\n"
          ],
          "name": "stdout"
        },
        {
          "output_type": "stream",
          "text": [
            "/usr/local/lib/python3.6/dist-packages/pandas/core/frame.py:4174: SettingWithCopyWarning: \n",
            "A value is trying to be set on a copy of a slice from a DataFrame\n",
            "\n",
            "See the caveats in the documentation: https://pandas.pydata.org/pandas-docs/stable/user_guide/indexing.html#returning-a-view-versus-a-copy\n",
            "  errors=errors,\n"
          ],
          "name": "stderr"
        },
        {
          "output_type": "stream",
          "text": [
            "Training XGBoost\n",
            "Training Neural network\n",
            "Epoch 1/20\n",
            "50/50 [==============================] - 3s 34ms/step - loss: 0.3800 - accuracy: 0.8812 - val_loss: 0.2434 - val_accuracy: 0.9027\n",
            "Epoch 2/20\n",
            "50/50 [==============================] - 1s 22ms/step - loss: 0.2826 - accuracy: 0.9009 - val_loss: 0.2287 - val_accuracy: 0.9027\n",
            "Epoch 3/20\n",
            "50/50 [==============================] - 1s 21ms/step - loss: 0.2729 - accuracy: 0.8987 - val_loss: 0.2316 - val_accuracy: 0.9030\n",
            "Epoch 4/20\n",
            "50/50 [==============================] - 1s 22ms/step - loss: 0.2595 - accuracy: 0.9052 - val_loss: 0.2078 - val_accuracy: 0.9220\n",
            "Epoch 5/20\n",
            "50/50 [==============================] - 1s 21ms/step - loss: 0.2474 - accuracy: 0.9169 - val_loss: 0.2053 - val_accuracy: 0.9241\n",
            "Epoch 6/20\n",
            "50/50 [==============================] - 1s 21ms/step - loss: 0.2374 - accuracy: 0.9222 - val_loss: 0.1998 - val_accuracy: 0.9264\n",
            "Epoch 7/20\n",
            "50/50 [==============================] - 1s 22ms/step - loss: 0.2270 - accuracy: 0.9265 - val_loss: 0.1989 - val_accuracy: 0.9244\n",
            "Epoch 8/20\n",
            "50/50 [==============================] - 1s 21ms/step - loss: 0.2270 - accuracy: 0.9267 - val_loss: 0.2008 - val_accuracy: 0.9206\n",
            "Epoch 9/20\n",
            "50/50 [==============================] - 1s 22ms/step - loss: 0.2255 - accuracy: 0.9266 - val_loss: 0.1921 - val_accuracy: 0.9303\n",
            "Epoch 10/20\n",
            "50/50 [==============================] - 1s 22ms/step - loss: 0.2154 - accuracy: 0.9311 - val_loss: 0.1936 - val_accuracy: 0.9319\n",
            "Epoch 11/20\n",
            "50/50 [==============================] - 1s 22ms/step - loss: 0.2142 - accuracy: 0.9317 - val_loss: 0.1881 - val_accuracy: 0.9318\n",
            "Epoch 12/20\n",
            "50/50 [==============================] - 1s 22ms/step - loss: 0.2117 - accuracy: 0.9322 - val_loss: 0.1868 - val_accuracy: 0.9325\n",
            "Epoch 13/20\n",
            "50/50 [==============================] - 1s 24ms/step - loss: 0.2084 - accuracy: 0.9335 - val_loss: 0.1851 - val_accuracy: 0.9316\n",
            "Epoch 14/20\n",
            "50/50 [==============================] - 1s 21ms/step - loss: 0.1994 - accuracy: 0.9350 - val_loss: 0.1863 - val_accuracy: 0.9327\n",
            "Epoch 15/20\n",
            "50/50 [==============================] - 1s 21ms/step - loss: 0.1997 - accuracy: 0.9365 - val_loss: 0.1856 - val_accuracy: 0.9331\n",
            "Epoch 16/20\n",
            "50/50 [==============================] - 1s 22ms/step - loss: 0.1985 - accuracy: 0.9348 - val_loss: 0.1857 - val_accuracy: 0.9347\n",
            "Epoch 17/20\n",
            "50/50 [==============================] - 1s 22ms/step - loss: 0.1976 - accuracy: 0.9367 - val_loss: 0.1864 - val_accuracy: 0.9347\n",
            "Epoch 18/20\n",
            "50/50 [==============================] - 1s 22ms/step - loss: 0.1922 - accuracy: 0.9374 - val_loss: 0.1852 - val_accuracy: 0.9333\n",
            "Epoch 19/20\n",
            "50/50 [==============================] - 1s 22ms/step - loss: 0.1911 - accuracy: 0.9381 - val_loss: 0.1841 - val_accuracy: 0.9348\n",
            "Epoch 20/20\n",
            "50/50 [==============================] - 1s 21ms/step - loss: 0.1859 - accuracy: 0.9400 - val_loss: 0.1884 - val_accuracy: 0.9355\n",
            "\n",
            "\n",
            "Confusion matrix of model XGBoost of time 1\n"
          ],
          "name": "stdout"
        },
        {
          "output_type": "display_data",
          "data": {
            "image/png": "[encoded data removed]",
            "text/plain": [
              "<Figure size 360x360 with 2 Axes>"
            ]
          },
          "metadata": {
            "tags": [],
            "needs_background": "light"
          }
        },
        {
          "output_type": "stream",
          "text": [
            "\n",
            "\n",
            "Model f1 score:  0.79\n",
            "Model roc auc score:  0.94\n",
            "Model recall:  0.88\n",
            "Model precision:  0.71\n",
            "\n",
            "\n",
            "\n",
            "\n",
            "Confusion matrix of model Neural network of time 1\n"
          ],
          "name": "stdout"
        },
        {
          "output_type": "display_data",
          "data": {
            "image/png": "[encoded data removed]",
            "text/plain": [
              "<Figure size 360x360 with 2 Axes>"
            ]
          },
          "metadata": {
            "tags": [],
            "needs_background": "light"
          }
        },
        {
          "output_type": "stream",
          "text": [
            "\n",
            "\n",
            "Model f1 score:  0.45\n",
            "Model roc auc score:  0.69\n",
            "Model recall:  0.4\n",
            "Model precision:  0.52\n",
            "\n",
            "\n",
            "XGBoost has been chosen.\n",
            "\n",
            "\n",
            "Confusion matrix of model Ensemble of time 1\n"
          ],
          "name": "stdout"
        },
        {
          "output_type": "display_data",
          "data": {
            "image/png": "[encoded data removed]",
            "text/plain": [
              "<Figure size 360x360 with 2 Axes>"
            ]
          },
          "metadata": {
            "tags": [],
            "needs_background": "light"
          }
        },
        {
          "output_type": "stream",
          "text": [
            "\n",
            "\n",
            "Model f1 score:  0.73\n",
            "Model roc auc score:  0.79\n",
            "Model recall:  0.58\n",
            "Model precision:  0.97\n",
            "\n",
            "\n",
            "Time  2\n"
          ],
          "name": "stdout"
        },
        {
          "output_type": "stream",
          "text": [
            "/usr/local/lib/python3.6/dist-packages/pandas/core/frame.py:4174: SettingWithCopyWarning: \n",
            "A value is trying to be set on a copy of a slice from a DataFrame\n",
            "\n",
            "See the caveats in the documentation: https://pandas.pydata.org/pandas-docs/stable/user_guide/indexing.html#returning-a-view-versus-a-copy\n",
            "  errors=errors,\n"
          ],
          "name": "stderr"
        },
        {
          "output_type": "stream",
          "text": [
            "Training XGBoost\n",
            "Training Neural network\n",
            "Epoch 1/20\n",
            "46/46 [==============================] - 2s 33ms/step - loss: 0.4957 - accuracy: 0.7824 - val_loss: 0.3469 - val_accuracy: 0.8196\n",
            "Epoch 2/20\n",
            "46/46 [==============================] - 1s 26ms/step - loss: 0.3778 - accuracy: 0.8261 - val_loss: 0.2998 - val_accuracy: 0.8757\n",
            "Epoch 3/20\n",
            "46/46 [==============================] - 1s 22ms/step - loss: 0.3381 - accuracy: 0.8742 - val_loss: 0.2867 - val_accuracy: 0.8900\n",
            "Epoch 4/20\n",
            "46/46 [==============================] - 1s 22ms/step - loss: 0.3136 - accuracy: 0.8852 - val_loss: 0.2670 - val_accuracy: 0.8982\n",
            "Epoch 5/20\n",
            "46/46 [==============================] - 1s 22ms/step - loss: 0.3029 - accuracy: 0.8917 - val_loss: 0.2594 - val_accuracy: 0.8991\n",
            "Epoch 6/20\n",
            "46/46 [==============================] - 1s 22ms/step - loss: 0.2914 - accuracy: 0.8956 - val_loss: 0.2547 - val_accuracy: 0.9048\n",
            "Epoch 7/20\n",
            "46/46 [==============================] - 1s 22ms/step - loss: 0.2874 - accuracy: 0.8976 - val_loss: 0.2533 - val_accuracy: 0.9037\n",
            "Epoch 8/20\n",
            "46/46 [==============================] - 1s 21ms/step - loss: 0.2827 - accuracy: 0.9000 - val_loss: 0.2435 - val_accuracy: 0.9080\n",
            "Epoch 9/20\n",
            "46/46 [==============================] - 1s 22ms/step - loss: 0.2769 - accuracy: 0.9018 - val_loss: 0.2451 - val_accuracy: 0.9066\n",
            "Epoch 10/20\n",
            "46/46 [==============================] - 1s 22ms/step - loss: 0.2692 - accuracy: 0.9054 - val_loss: 0.2365 - val_accuracy: 0.9103\n",
            "Epoch 11/20\n",
            "46/46 [==============================] - 1s 22ms/step - loss: 0.2653 - accuracy: 0.9059 - val_loss: 0.2337 - val_accuracy: 0.9114\n",
            "Epoch 12/20\n",
            "46/46 [==============================] - 1s 22ms/step - loss: 0.2603 - accuracy: 0.9090 - val_loss: 0.2488 - val_accuracy: 0.9075\n",
            "Epoch 13/20\n",
            "46/46 [==============================] - 1s 22ms/step - loss: 0.2565 - accuracy: 0.9088 - val_loss: 0.2322 - val_accuracy: 0.9130\n",
            "Epoch 14/20\n",
            "46/46 [==============================] - 1s 25ms/step - loss: 0.2470 - accuracy: 0.9126 - val_loss: 0.2470 - val_accuracy: 0.9080\n",
            "Epoch 15/20\n",
            "46/46 [==============================] - 1s 22ms/step - loss: 0.2478 - accuracy: 0.9133 - val_loss: 0.2283 - val_accuracy: 0.9144\n",
            "Epoch 16/20\n",
            "46/46 [==============================] - 1s 22ms/step - loss: 0.2449 - accuracy: 0.9112 - val_loss: 0.2286 - val_accuracy: 0.9128\n",
            "Epoch 17/20\n",
            "46/46 [==============================] - 1s 21ms/step - loss: 0.2401 - accuracy: 0.9134 - val_loss: 0.2261 - val_accuracy: 0.9160\n",
            "Epoch 18/20\n",
            "46/46 [==============================] - 1s 22ms/step - loss: 0.2386 - accuracy: 0.9135 - val_loss: 0.2268 - val_accuracy: 0.9156\n",
            "Epoch 19/20\n",
            "46/46 [==============================] - 1s 22ms/step - loss: 0.2342 - accuracy: 0.9160 - val_loss: 0.2289 - val_accuracy: 0.9144\n",
            "Epoch 20/20\n",
            "46/46 [==============================] - 1s 22ms/step - loss: 0.2343 - accuracy: 0.9149 - val_loss: 0.2247 - val_accuracy: 0.9139\n",
            "\n",
            "\n",
            "Confusion matrix of model XGBoost of time 2\n"
          ],
          "name": "stdout"
        },
        {
          "output_type": "display_data",
          "data": {
            "image/png": "[encoded data removed]",
            "text/plain": [
              "<Figure size 360x360 with 2 Axes>"
            ]
          },
          "metadata": {
            "tags": [],
            "needs_background": "light"
          }
        },
        {
          "output_type": "stream",
          "text": [
            "\n",
            "\n",
            "Model f1 score:  0.37\n",
            "Model roc auc score:  0.92\n",
            "Model recall:  0.95\n",
            "Model precision:  0.23\n",
            "\n",
            "\n",
            "\n",
            "\n",
            "Confusion matrix of model Neural network of time 2\n"
          ],
          "name": "stdout"
        },
        {
          "output_type": "display_data",
          "data": {
            "image/png": "[encoded data removed]",
            "text/plain": [
              "<Figure size 360x360 with 2 Axes>"
            ]
          },
          "metadata": {
            "tags": [],
            "needs_background": "light"
          }
        },
        {
          "output_type": "stream",
          "text": [
            "\n",
            "\n",
            "Model f1 score:  0.28\n",
            "Model roc auc score:  0.73\n",
            "Model recall:  0.54\n",
            "Model precision:  0.19\n",
            "\n",
            "\n",
            "XGBoost has been chosen.\n",
            "\n",
            "\n",
            "Confusion matrix of model Ensemble of time 2\n"
          ],
          "name": "stdout"
        },
        {
          "output_type": "display_data",
          "data": {
            "image/png": "[encoded data removed]",
            "text/plain": [
              "<Figure size 360x360 with 2 Axes>"
            ]
          },
          "metadata": {
            "tags": [],
            "needs_background": "light"
          }
        },
        {
          "output_type": "stream",
          "text": [
            "\n",
            "\n",
            "Model f1 score:  0.7\n",
            "Model roc auc score:  0.78\n",
            "Model recall:  0.55\n",
            "Model precision:  0.95\n",
            "\n",
            "\n",
            "Time  3\n"
          ],
          "name": "stdout"
        },
        {
          "output_type": "stream",
          "text": [
            "/usr/local/lib/python3.6/dist-packages/pandas/core/frame.py:4174: SettingWithCopyWarning: \n",
            "A value is trying to be set on a copy of a slice from a DataFrame\n",
            "\n",
            "See the caveats in the documentation: https://pandas.pydata.org/pandas-docs/stable/user_guide/indexing.html#returning-a-view-versus-a-copy\n",
            "  errors=errors,\n"
          ],
          "name": "stderr"
        },
        {
          "output_type": "stream",
          "text": [
            "Training XGBoost\n",
            "Training Neural network\n",
            "Epoch 1/20\n",
            "47/47 [==============================] - 2s 35ms/step - loss: 0.4961 - accuracy: 0.7878 - val_loss: 0.3517 - val_accuracy: 0.7978\n",
            "Epoch 2/20\n",
            "47/47 [==============================] - 1s 21ms/step - loss: 0.3740 - accuracy: 0.8114 - val_loss: 0.2806 - val_accuracy: 0.8914\n",
            "Epoch 3/20\n",
            "47/47 [==============================] - 1s 22ms/step - loss: 0.3238 - accuracy: 0.8659 - val_loss: 0.2618 - val_accuracy: 0.9023\n",
            "Epoch 4/20\n",
            "47/47 [==============================] - 1s 22ms/step - loss: 0.2992 - accuracy: 0.8765 - val_loss: 0.2855 - val_accuracy: 0.8851\n",
            "Epoch 5/20\n",
            "47/47 [==============================] - 1s 21ms/step - loss: 0.2953 - accuracy: 0.8788 - val_loss: 0.2507 - val_accuracy: 0.9092\n",
            "Epoch 6/20\n",
            "47/47 [==============================] - 1s 22ms/step - loss: 0.2787 - accuracy: 0.8855 - val_loss: 0.2548 - val_accuracy: 0.9083\n",
            "Epoch 7/20\n",
            "47/47 [==============================] - 1s 22ms/step - loss: 0.2711 - accuracy: 0.8873 - val_loss: 0.2392 - val_accuracy: 0.9138\n",
            "Epoch 8/20\n",
            "47/47 [==============================] - 1s 22ms/step - loss: 0.2651 - accuracy: 0.8880 - val_loss: 0.2433 - val_accuracy: 0.9112\n",
            "Epoch 9/20\n",
            "47/47 [==============================] - 1s 22ms/step - loss: 0.2644 - accuracy: 0.8894 - val_loss: 0.2429 - val_accuracy: 0.9057\n",
            "Epoch 10/20\n",
            "47/47 [==============================] - 1s 22ms/step - loss: 0.2587 - accuracy: 0.8894 - val_loss: 0.2394 - val_accuracy: 0.9115\n",
            "Epoch 11/20\n",
            "47/47 [==============================] - 1s 22ms/step - loss: 0.2551 - accuracy: 0.8918 - val_loss: 0.2298 - val_accuracy: 0.9147\n",
            "Epoch 12/20\n",
            "47/47 [==============================] - 1s 22ms/step - loss: 0.2498 - accuracy: 0.8934 - val_loss: 0.2253 - val_accuracy: 0.9170\n",
            "Epoch 13/20\n",
            "47/47 [==============================] - 1s 22ms/step - loss: 0.2439 - accuracy: 0.8966 - val_loss: 0.2310 - val_accuracy: 0.9164\n",
            "Epoch 14/20\n",
            "47/47 [==============================] - 1s 22ms/step - loss: 0.2415 - accuracy: 0.8957 - val_loss: 0.2838 - val_accuracy: 0.9084\n",
            "Epoch 15/20\n",
            "47/47 [==============================] - 1s 22ms/step - loss: 0.2526 - accuracy: 0.8919 - val_loss: 0.2350 - val_accuracy: 0.9159\n",
            "Epoch 16/20\n",
            "47/47 [==============================] - 1s 25ms/step - loss: 0.2349 - accuracy: 0.8983 - val_loss: 0.2284 - val_accuracy: 0.9204\n",
            "Epoch 17/20\n",
            "47/47 [==============================] - 1s 22ms/step - loss: 0.2362 - accuracy: 0.8963 - val_loss: 0.2250 - val_accuracy: 0.9141\n",
            "Epoch 18/20\n",
            "47/47 [==============================] - 1s 22ms/step - loss: 0.2362 - accuracy: 0.8958 - val_loss: 0.2232 - val_accuracy: 0.9189\n",
            "Epoch 19/20\n",
            "47/47 [==============================] - 1s 22ms/step - loss: 0.2272 - accuracy: 0.9000 - val_loss: 0.2230 - val_accuracy: 0.9189\n",
            "Epoch 20/20\n",
            "47/47 [==============================] - 1s 22ms/step - loss: 0.2277 - accuracy: 0.9002 - val_loss: 0.2224 - val_accuracy: 0.9194\n",
            "\n",
            "\n",
            "Confusion matrix of model XGBoost of time 3\n"
          ],
          "name": "stdout"
        },
        {
          "output_type": "display_data",
          "data": {
            "image/png": "[encoded data removed]",
            "text/plain": [
              "<Figure size 360x360 with 2 Axes>"
            ]
          },
          "metadata": {
            "tags": [],
            "needs_background": "light"
          }
        },
        {
          "output_type": "stream",
          "text": [
            "\n",
            "\n",
            "Model f1 score:  0.15\n",
            "Model roc auc score:  0.77\n",
            "Model recall:  0.91\n",
            "Model precision:  0.08\n",
            "\n",
            "\n",
            "\n",
            "\n",
            "Confusion matrix of model Neural network of time 3\n"
          ],
          "name": "stdout"
        },
        {
          "output_type": "display_data",
          "data": {
            "image/png": "[encoded data removed]",
            "text/plain": [
              "<Figure size 360x360 with 2 Axes>"
            ]
          },
          "metadata": {
            "tags": [],
            "needs_background": "light"
          }
        },
        {
          "output_type": "stream",
          "text": [
            "\n",
            "\n",
            "Model f1 score:  0.11\n",
            "Model roc auc score:  0.66\n",
            "Model recall:  0.72\n",
            "Model precision:  0.06\n",
            "\n",
            "\n",
            "XGBoost has been chosen.\n",
            "\n",
            "\n",
            "Confusion matrix of model Ensemble of time 3\n"
          ],
          "name": "stdout"
        },
        {
          "output_type": "display_data",
          "data": {
            "image/png": "[encoded data removed]",
            "text/plain": [
              "<Figure size 360x360 with 2 Axes>"
            ]
          },
          "metadata": {
            "tags": [],
            "needs_background": "light"
          }
        },
        {
          "output_type": "stream",
          "text": [
            "\n",
            "\n",
            "Model f1 score:  0.72\n",
            "Model roc auc score:  0.82\n",
            "Model recall:  0.64\n",
            "Model precision:  0.83\n",
            "\n",
            "\n"
          ],
          "name": "stdout"
        }
      ]
    },
    {
      "cell_type": "code",
      "metadata": {
        "id": "vWYvDvxAVgG9"
      },
      "source": [
        ""
      ],
      "execution_count": 16,
      "outputs": []
    }
  ]
}