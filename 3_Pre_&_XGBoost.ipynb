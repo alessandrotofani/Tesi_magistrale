{
  "nbformat": 4,
  "nbformat_minor": 0,
  "metadata": {
    "colab": {
      "name": "3_Pre_&_XGBoost.ipynb",
      "provenance": [],
      "authorship_tag": "ABX9TyMK6f0AAbO6P495mTgnrGbN",
      "include_colab_link": true
    },
    "kernelspec": {
      "name": "python3",
      "display_name": "Python 3"
    },
    "accelerator": "GPU"
  },
  "cells": [
    {
      "cell_type": "markdown",
      "metadata": {
        "id": "view-in-github",
        "colab_type": "text"
      },
      "source": [
        "<a href=\"https://colab.research.google.com/github/alessandrotofani/Tesi_magistrale/blob/master/3_Pre_%26_XGBoost.ipynb\" target=\"_parent\"><img src=\"https://colab.research.google.com/assets/colab-badge.svg\" alt=\"Open In Colab\"/></a>"
      ]
    },
    {
      "cell_type": "markdown",
      "metadata": {
        "id": "z-7rH_UhAPGR"
      },
      "source": [
        "# Import"
      ]
    },
    {
      "cell_type": "code",
      "metadata": {
        "id": "SwkBbxNMK8Fv",
        "colab": {
          "base_uri": "https://localhost:8080/"
        },
        "outputId": "50af3d1f-600d-45a9-8d7c-e5e3f706e205"
      },
      "source": [
        "import numpy as np # linear algebra\r\n",
        "import pandas as pd # data processing\r\n",
        "import matplotlib\r\n",
        "import matplotlib.pyplot as plt\r\n",
        "import seaborn as sns\r\n",
        "import os\r\n",
        "from google.colab import drive\r\n",
        "drive.mount('/content/drive')\r\n",
        "from sklearn.model_selection import train_test_split"
      ],
      "execution_count": 16,
      "outputs": [
        {
          "output_type": "stream",
          "text": [
            "Drive already mounted at /content/drive; to attempt to forcibly remount, call drive.mount(\"/content/drive\", force_remount=True).\n"
          ],
          "name": "stdout"
        }
      ]
    },
    {
      "cell_type": "code",
      "metadata": {
        "id": "9UBtZ7vSkof3"
      },
      "source": [
        "import sys \r\n",
        "sys.path.append('/content/drive/MyDrive/Tesi_magistrale/Tesi_magistrale')\r\n",
        "import mf"
      ],
      "execution_count": 17,
      "outputs": []
    },
    {
      "cell_type": "markdown",
      "metadata": {
        "id": "snsMJMlJ3Dcu"
      },
      "source": [
        "#  Feature scaling"
      ]
    },
    {
      "cell_type": "code",
      "metadata": {
        "id": "Kiu5JWhDvX3C"
      },
      "source": [
        "if not os.path.isfile('/content/drive/MyDrive/Tesi_magistrale/Dataset/IEEE/Output/corr_data.csv'):\r\n",
        "  correlation_data = min_max_scaling(correlation_data)\r\n",
        "  correlation_data.to_csv(r'./corr_data.csv')\r\n",
        "\r\n",
        "if not os.path.isfile('/content/drive/MyDrive/Tesi_magistrale/Dataset/IEEE/Output/data.csv'):\r\n",
        "  correlation_data = pd.read_csv('/content/drive/MyDrive/Tesi_magistrale/Dataset/IEEE/Output/corr_data.csv')"
      ],
      "execution_count": 18,
      "outputs": []
    },
    {
      "cell_type": "code",
      "metadata": {
        "id": "fUhFjfNyHixl"
      },
      "source": [
        "import warnings\r\n",
        "warnings.simplefilter(action='ignore', category=FutureWarning) # serve per ignorare i FutureWarning"
      ],
      "execution_count": 19,
      "outputs": []
    },
    {
      "cell_type": "markdown",
      "metadata": {
        "id": "P_aHaIF0QR8W"
      },
      "source": [
        "Rimpiazzo i missing values in categorical data con unknown. \r\n",
        "\r\n",
        "Unisco i dataset numerici e categorici nel dataframe data. \r\n",
        "\r\n",
        "Riferimento fillna: https://jamesrledoux.com/code/imputation"
      ]
    },
    {
      "cell_type": "code",
      "metadata": {
        "id": "3CA67WePVnds"
      },
      "source": [
        "if not os.path.isfile('/content/drive/MyDrive/Tesi_magistrale/Dataset/IEEE/Output/data.csv'):\r\n",
        "  col_to_drop = col_not_sign(categorical_data, cat_sign_col)\r\n",
        "  categorical_data = categorical_data.drop(col_to_drop, axis=1)\r\n",
        "  categorical_data = categorical_data.fillna('unknown')\r\n",
        "  data = pd.merge(correlation_data, categorical_data, left_on='TransactionID', right_on='TransactionID', how='left')\r\n",
        "  del correlation_data, categorical_data, numerical_data\r\n",
        "  data.to_csv(r'./data.csv')\r\n",
        "\r\n",
        "data = pd.read_csv('/content/drive/MyDrive/Tesi_magistrale/Dataset/IEEE/Output/data.csv')\r\n",
        "data.drop(data.columns[data.columns.str.contains('unnamed',case = False)],axis = 1, inplace = True)"
      ],
      "execution_count": 20,
      "outputs": []
    },
    {
      "cell_type": "markdown",
      "metadata": {
        "id": "rgXeAsqPAkuh"
      },
      "source": [
        "# Feature engineering"
      ]
    },
    {
      "cell_type": "code",
      "metadata": {
        "id": "4P7ThMmAEkpV"
      },
      "source": [
        "# Riferimento: https://www.kaggle.com/davidcairuz/feature-engineering-lightgbm\r\n",
        "def feature_extraction(data):\r\n",
        "  data = device(data)\r\n",
        "  data = os_(data)\r\n",
        "  data = browser(data)\r\n",
        "  data = screen(data)\r\n",
        "  data = id_23_34(data)\r\n",
        "  data.drop(columns = ['DeviceInfo', 'id_30', 'id_31', 'id_33', 'id_34', 'id_23'], inplace=True)\r\n",
        "\r\n",
        "  data = date(data)\r\n",
        "  return data\r\n",
        "\r\n",
        "def device_name(data):\r\n",
        "  data['device_name'] = data['DeviceInfo'].str.split('/', expand=True)[0]\r\n",
        "  device_dict = {\r\n",
        "      'SM': 'Samsung',\r\n",
        "      'SAMSUNG': 'Samsung',\r\n",
        "      'GT-': 'Samsung',\r\n",
        "      'Moto G': 'Motorola',\r\n",
        "      'Moto': 'Motorola',\r\n",
        "      'moto': 'Motorola',\r\n",
        "      'LG-': 'LG',\r\n",
        "      'rv:': 'RV',\r\n",
        "      'HUAWEI': 'Huawei',\r\n",
        "      'ALE-': 'Huawei',\r\n",
        "      '-L': 'Huawei',\r\n",
        "      'Blade': 'ZTE',\r\n",
        "      'BLADE': 'ZTE',\r\n",
        "      'Linux': 'Linux',\r\n",
        "      'XT': 'Sony',\r\n",
        "      'HTC': 'HTC',\r\n",
        "      'ASUS': 'Asus'\r\n",
        "        }\r\n",
        "  for device in device_dict:\r\n",
        "    data.loc[data['device_name'].str.contains(device, na=False), 'device_name'] = device_dict[device]\r\n",
        "  data.loc[data.device_name.isin(data.device_name.value_counts()[data.device_name.value_counts() < 200].index), 'device_name'] = \"Others\"\r\n",
        "  return data\r\n",
        "\r\n",
        "def device(data):\r\n",
        "  data['device_version'] = data['DeviceInfo'].str.split('/', expand=True)[1]\r\n",
        "  return data\r\n",
        "\r\n",
        "def os_(data):\r\n",
        "  data['os_name'] = data['id_30'].str.split(' ', expand=True)[0]\r\n",
        "  data['os_version'] = data['id_30'].str.split(' ', expand=True)[1]\r\n",
        "  return data\r\n",
        "\r\n",
        "def browser(data):\r\n",
        "  data['browser_name'] = data['id_31'].str.split(' ', expand=True)[0]\r\n",
        "  data['bro wser_version'] = data['id_31'].str.split(' ', expand=True)[1]\r\n",
        "  return data\r\n",
        "\r\n",
        "def screen(data):\r\n",
        "  data['screen_w'] = data['id_33'].str.split('x', expand=True)[0]\r\n",
        "  data['screen_h'] = data['id_33'].str.split('x', expand=True)[1]\r\n",
        "  return data\r\n",
        "\r\n",
        "def id_23_34(data):\r\n",
        "  data['id_23'] = data['id_23'].str.split(':', expand=True)[1]\r\n",
        "  data['id_34'] = data['id_34'].str.split(':', expand=True)[1]  \r\n",
        "  return data\r\n",
        "\r\n",
        "def date(data):\r\n",
        "  data['day'] = np.floor((data['TransactionDT'] / (3600 * 24) - 1) % 7)\r\n",
        "  data['hour'] = np.floor(data['TransactionDT'] / 3600) % 24\r\n",
        "  return data\r\n",
        "\r\n",
        "data = feature_extraction(data)"
      ],
      "execution_count": 21,
      "outputs": []
    },
    {
      "cell_type": "markdown",
      "metadata": {
        "id": "jacF5JtkXHvp"
      },
      "source": [
        "# One hot encoding"
      ]
    },
    {
      "cell_type": "markdown",
      "metadata": {
        "id": "0YusuKvQSS-V"
      },
      "source": [
        "One hot encoding delle features categoriche. Serve per lo smote e easy ensemble. \r\n",
        "\r\n",
        "Bisogna farlo prima dello split del dataset poichè rischio di perdere delle colonne. "
      ]
    },
    {
      "cell_type": "code",
      "metadata": {
        "id": "uDzEOd7O-E03"
      },
      "source": [
        "data = pd.get_dummies(data)"
      ],
      "execution_count": 22,
      "outputs": []
    },
    {
      "cell_type": "code",
      "metadata": {
        "id": "ouq64I1r5lkR"
      },
      "source": [
        "cols = mf.get_col(data)"
      ],
      "execution_count": 23,
      "outputs": []
    },
    {
      "cell_type": "markdown",
      "metadata": {
        "id": "SMz_bK6DTJRl"
      },
      "source": [
        "Seleziono i dati appartenenti ai primi 60 giorni. \r\n",
        "\r\n",
        "Se ne seleziono di più, l'easy ensemble non va. "
      ]
    },
    {
      "cell_type": "code",
      "metadata": {
        "id": "dhRSkafFKcEn"
      },
      "source": [
        "data = mf.select_days(data, 60)"
      ],
      "execution_count": 24,
      "outputs": []
    },
    {
      "cell_type": "markdown",
      "metadata": {
        "id": "m8EkabwNTN1C"
      },
      "source": [
        "Splitto il dataset in train, validation e test set. "
      ]
    },
    {
      "cell_type": "code",
      "metadata": {
        "id": "0cz8y-FhBpi9"
      },
      "source": [
        "X_train, X_val, y_train, y_val = mf.split(data, test_size = 0.2)\r\n",
        "del data\r\n",
        "X_train, X_test, y_train, y_test = train_test_split(X_train, y_train, test_size=0.25, random_state=42)"
      ],
      "execution_count": 25,
      "outputs": []
    },
    {
      "cell_type": "markdown",
      "metadata": {
        "id": "EIX6IijNRgn0"
      },
      "source": [
        "# Undersampling: Easy Ensemble"
      ]
    },
    {
      "cell_type": "markdown",
      "metadata": {
        "id": "sjJGUsMyNGuw"
      },
      "source": [
        "L'easy ensemble tramite un metodo unsupervised divide il dataset in diversi dataset undersampled. \r\n",
        "\r\n",
        "Documentazione easy ensemble: http://glemaitre.github.io/imbalanced-learn/generated/imblearn.ensemble.EasyEnsemble.html#imblearn.ensemble.EasyEnsemble\r\n",
        "\r\n",
        "Esempio applicazio ee: http://glemaitre.github.io/imbalanced-learn/auto_examples/ensemble/plot_easy_ensemble.html?highlight=easy%20ensemble"
      ]
    },
    {
      "cell_type": "code",
      "metadata": {
        "id": "vdiM8saOHFOI"
      },
      "source": [
        "X_trainres, y_trainres = mf.easy_ensemble(5, X_train, y_train)"
      ],
      "execution_count": 26,
      "outputs": []
    },
    {
      "cell_type": "code",
      "metadata": {
        "id": "sV5gGRbjzBiq"
      },
      "source": [
        "X_trainres_df = pd.DataFrame(data = X_trainres[0], columns = cols)\r\n",
        "del X_trainres"
      ],
      "execution_count": 27,
      "outputs": []
    },
    {
      "cell_type": "markdown",
      "metadata": {
        "id": "nDxZx1ew9n2I"
      },
      "source": [
        "# XGBoost\r\n",
        "\r\n",
        "Provo a trainare un random forest con cross validation sui vari dataset splittati attraverso easy ensemble. \r\n",
        "\r\n",
        "ROC curve: https://scikit-learn.org/stable/auto_examples/miscellaneous/plot_roc_curve_visualization_api.html#sphx-glr-auto-examples-miscellaneous-plot-roc-curve-visualization-api-py\r\n",
        "\r\n",
        "XGBoost: https://www.analyticsvidhya.com/blog/2016/03/complete-guide-parameter-tuning-xgboost-with-codes-python/\r\n",
        "\r\n",
        "gpu_hist method: https://xgboost.readthedocs.io/en/latest/parameter.html#additional-parameters-for-hist-and-gpu-hist-tree-method"
      ]
    },
    {
      "cell_type": "code",
      "metadata": {
        "id": "1ohOclWl9naz",
        "colab": {
          "base_uri": "https://localhost:8080/",
          "height": 279
        },
        "outputId": "f4607a38-cfc7-471a-8cdf-8005077f10a5"
      },
      "source": [
        "from sklearn.ensemble import RandomForestClassifier\r\n",
        "from sklearn.datasets import make_classification\r\n",
        "from sklearn.metrics import plot_roc_curve\r\n",
        "from xgboost import XGBClassifier\r\n",
        "\r\n",
        "clf = XGBClassifier(n_estimators = 4000, max_depth = 10, #alpha=0.5, \r\n",
        "                    objective='binary:logistic', learning_rate = 0.5, \r\n",
        "                    tree_method='gpu_hist') \r\n",
        "\r\n",
        "# clf.fit(X_trainres_df, y_trainres[0])\r\n",
        "clf.fit(X_train, y_train)\r\n",
        "plot_roc_curve(clf, X_val, y_val)\r\n",
        "plt.show()"
      ],
      "execution_count": 54,
      "outputs": [
        {
          "output_type": "display_data",
          "data": {
            "image/png": "[encoded data removed]",
            "text/plain": [
              "<Figure size 432x288 with 1 Axes>"
            ]
          },
          "metadata": {
            "tags": [],
            "needs_background": "light"
          }
        }
      ]
    },
    {
      "cell_type": "markdown",
      "metadata": {
        "id": "gVLAZnmzu8IS"
      },
      "source": [
        "AP max = 0.79\r\n",
        "\r\n",
        "AP: https://scikit-learn.org/stable/auto_examples/model_selection/plot_precision_recall.html#sphx-glr-auto-examples-model-selection-plot-precision-recall-py"
      ]
    },
    {
      "cell_type": "code",
      "metadata": {
        "id": "YOkqeK8SfH_L",
        "outputId": "16413c85-d544-4e6c-bf3f-f1f5aef47341",
        "colab": {
          "base_uri": "https://localhost:8080/",
          "height": 295
        }
      },
      "source": [
        "mf.ap_metric(clf, X_val, y_val, proba = True)"
      ],
      "execution_count": 55,
      "outputs": [
        {
          "output_type": "display_data",
          "data": {
            "image/png": "[encoded data removed]",
            "text/plain": [
              "<Figure size 432x288 with 1 Axes>"
            ]
          },
          "metadata": {
            "tags": [],
            "needs_background": "light"
          }
        }
      ]
    },
    {
      "cell_type": "code",
      "metadata": {
        "id": "sk437X_johTS"
      },
      "source": [
        "feat_imp = pd.Series(clf.get_booster().get_fscore()).sort_values(ascending=False)\r\n",
        "feat_imp[:20].plot(kind='bar', title='Feature Importances')\r\n",
        "plt.ylabel('Feature Importance Score')"
      ],
      "execution_count": null,
      "outputs": []
    },
    {
      "cell_type": "markdown",
      "metadata": {
        "id": "nVRW3sLJCBMg"
      },
      "source": [
        "#### ROC AUC curve\r\n",
        "\r\n",
        "Riferimento: https://scikit-learn.org/stable/auto_examples/model_selection/plot_roc_crossval.html#sphx-glr-auto-examples-model-selection-plot-roc-crossval-py"
      ]
    },
    {
      "cell_type": "code",
      "metadata": {
        "id": "GV2tW6K5_Qjs"
      },
      "source": [
        "mf.roc_auc_subset(XGBClassifier(), X_trainres, y_trainres, X_val, y_val)"
      ],
      "execution_count": null,
      "outputs": []
    }
  ]
}