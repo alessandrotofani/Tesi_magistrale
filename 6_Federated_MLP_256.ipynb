{
  "nbformat": 4,
  "nbformat_minor": 0,
  "metadata": {
    "colab": {
      "name": "6_Federated.ipynb",
      "provenance": [],
      "authorship_tag": "ABX9TyNhcoKsTrGf7TZ/N+v66jAD",
      "include_colab_link": true
    },
    "kernelspec": {
      "name": "python3",
      "display_name": "Python 3"
    }
  },
  "cells": [
    {
      "cell_type": "markdown",
      "metadata": {
        "id": "view-in-github",
        "colab_type": "text"
      },
      "source": [
        "<a href=\"https://colab.research.google.com/github/alessandrotofani/Tesi_magistrale/blob/master/6_Federated_MLP_256.ipynb\" target=\"_parent\"><img src=\"https://colab.research.google.com/assets/colab-badge.svg\" alt=\"Open In Colab\"/></a>"
      ]
    },
    {
      "cell_type": "markdown",
      "metadata": {
        "id": "2XuZ_oMl43ft"
      },
      "source": [
        "Overview: https://www.tensorflow.org/federated\r\n",
        "\r\n",
        "Image classification tutorial: https://www.tensorflow.org/federated/tutorials/federated_learning_for_image_classification"
      ]
    },
    {
      "cell_type": "markdown",
      "metadata": {
        "id": "qOKJPHxH4j9j"
      },
      "source": [
        "# Installation"
      ]
    },
    {
      "cell_type": "code",
      "metadata": {
        "id": "lgkJJpzD4gVs"
      },
      "source": [
        "!pip install --quiet tensorflow==2.3.0\r\n",
        "!pip install --quiet tensorflow_federated==0.17.0\r\n",
        "!pip install --quiet --upgrade nest_asyncio"
      ],
      "execution_count": 1,
      "outputs": []
    },
    {
      "cell_type": "code",
      "metadata": {
        "id": "C6Oguz1e4p29"
      },
      "source": [
        "import nest_asyncio\r\n",
        "nest_asyncio.apply()\r\n",
        "%load_ext tensorboard"
      ],
      "execution_count": 2,
      "outputs": []
    },
    {
      "cell_type": "code",
      "metadata": {
        "id": "0u_qzOek4tlY",
        "colab": {
          "base_uri": "https://localhost:8080/"
        },
        "outputId": "def00185-c70d-433f-ce75-0a0e11b1533d"
      },
      "source": [
        "import collections\r\n",
        "import numpy as np\r\n",
        "import tensorflow as tf\r\n",
        "import tensorflow_federated as tff\r\n",
        "import pandas as pd \r\n",
        "import os\r\n",
        "from google.colab import drive\r\n",
        "drive.mount('/content/drive')"
      ],
      "execution_count": 3,
      "outputs": [
        {
          "output_type": "stream",
          "text": [
            "Drive already mounted at /content/drive; to attempt to forcibly remount, call drive.mount(\"/content/drive\", force_remount=True).\n"
          ],
          "name": "stdout"
        }
      ]
    },
    {
      "cell_type": "code",
      "metadata": {
        "id": "a5VvCBjWmrJC"
      },
      "source": [
        "import sys \n",
        "sys.path.append('/content/drive/MyDrive/Tesi_magistrale/Tesi_magistrale')\n",
        "import mf\n",
        "\n",
        "import warnings\n",
        "warnings.simplefilter(action='ignore', category=FutureWarning)"
      ],
      "execution_count": 4,
      "outputs": []
    },
    {
      "cell_type": "markdown",
      "metadata": {
        "id": "NDXvW9iFxqft"
      },
      "source": [
        "# Import data"
      ]
    },
    {
      "cell_type": "markdown",
      "metadata": {
        "id": "P8nvRkt1yB7_"
      },
      "source": [
        "I dati vengono importati e poi splittati in train e test. "
      ]
    },
    {
      "cell_type": "code",
      "metadata": {
        "id": "nU2jrVgkla8Y"
      },
      "source": [
        "data = pd.read_csv('/content/drive/MyDrive/Tesi_magistrale/Dataset/IEEE/Output/data.csv')\n",
        "data.drop(data.columns[data.columns.str.contains('unnamed',case = False)],axis = 1, inplace = True)"
      ],
      "execution_count": 5,
      "outputs": []
    },
    {
      "cell_type": "code",
      "metadata": {
        "id": "67D33H0kldvF"
      },
      "source": [
        "data = mf.feature_engineering(data)\n",
        "# data = mf.feature_scaling(data)\n",
        "data = pd.get_dummies(data)"
      ],
      "execution_count": 6,
      "outputs": []
    },
    {
      "cell_type": "code",
      "metadata": {
        "id": "0yGwMV9Us42h"
      },
      "source": [
        "# data = data[200000:500000]\n",
        "col_name = mf.get_col(data)"
      ],
      "execution_count": 7,
      "outputs": []
    },
    {
      "cell_type": "code",
      "metadata": {
        "colab": {
          "base_uri": "https://localhost:8080/"
        },
        "id": "XtEnrz70T013",
        "outputId": "1762b05d-023d-46df-e86b-4905a48e6ed3"
      },
      "source": [
        "print('Rate safe/fraud:', (mf.ratio(data)).round(3))"
      ],
      "execution_count": 8,
      "outputs": [
        {
          "output_type": "stream",
          "text": [
            "Rate safe/fraud: 28.0\n"
          ],
          "name": "stdout"
        }
      ]
    },
    {
      "cell_type": "code",
      "metadata": {
        "id": "InAYt4jcL1-Y"
      },
      "source": [
        "from sklearn.model_selection import train_test_split\n",
        "train_data, test_data = train_test_split(data, test_size=0.1)"
      ],
      "execution_count": 9,
      "outputs": []
    },
    {
      "cell_type": "markdown",
      "metadata": {
        "id": "Wl58v1U4XyO5"
      },
      "source": [
        "Smote: https://imbalanced-learn.org/stable/generated/imblearn.over_sampling.SMOTE.html\n",
        "\n",
        "RandomUnderSampler: https://imbalanced-learn.org/stable/generated/imblearn.under_sampling.RandomUnderSampler.html"
      ]
    },
    {
      "cell_type": "code",
      "metadata": {
        "id": "y3Jg0KuzJ6qq"
      },
      "source": [
        "def underSampling(data, frac_under=0.1):\n",
        "  from imblearn.under_sampling import RandomUnderSampler \n",
        "  us = RandomUnderSampler(sampling_strategy=frac_under, random_state=42)\n",
        "  y = data['isFraud']\n",
        "  X = data.drop(columns = ['isFraud'])\n",
        "  X_us, y_us = us.fit_resample(X, y)\n",
        "  return X_us, y_us\n",
        "\n",
        "def overSampling(X, y, frac_over=0.2):\n",
        "  from imblearn.over_sampling import SMOTE\n",
        "  sm = SMOTE(sampling_strategy=frac_over, random_state=42)\n",
        "  X_sm, y_sm = sm.fit_resample(X, y)  \n",
        "  return X_sm, y_sm\n",
        "\n",
        "def mergeResult(X, y, col_name):\n",
        "  y_res = np.ndarray(shape=(np.shape(y)[0],1), buffer = y)\n",
        "  data = np.concatenate((X,y_res), axis = 1)\n",
        "  col_name.append('isFraud')\n",
        "  dataset = pd.DataFrame(data=data, columns=col_name)  \n",
        "  return dataset"
      ],
      "execution_count": 10,
      "outputs": []
    },
    {
      "cell_type": "code",
      "metadata": {
        "id": "v4cddCAqK4pY"
      },
      "source": [
        "X, y = underSampling(train_data)"
      ],
      "execution_count": 11,
      "outputs": []
    },
    {
      "cell_type": "code",
      "metadata": {
        "id": "LqiPC-MkK_BX"
      },
      "source": [
        "X, y = overSampling(X, y)"
      ],
      "execution_count": 12,
      "outputs": []
    },
    {
      "cell_type": "code",
      "metadata": {
        "id": "CHpsO2hJLFeR"
      },
      "source": [
        "train_data = mergeResult(X, y, col_name)"
      ],
      "execution_count": 13,
      "outputs": []
    },
    {
      "cell_type": "code",
      "metadata": {
        "colab": {
          "base_uri": "https://localhost:8080/"
        },
        "id": "2bpOGbYXMAwY",
        "outputId": "427a2842-72d9-4f27-fae7-cee800d8c26f"
      },
      "source": [
        "print('Rate safe/fraud:', (mf.ratio(train_data)).round(3))\n",
        "print('Dataset size:', train_data.shape[0])"
      ],
      "execution_count": 14,
      "outputs": [
        {
          "output_type": "stream",
          "text": [
            "Rate safe/fraud: 5.0\n",
            "Dataset size: 223488\n"
          ],
          "name": "stdout"
        }
      ]
    },
    {
      "cell_type": "code",
      "metadata": {
        "id": "GawBnA83QyYj"
      },
      "source": [
        "del data, X, y"
      ],
      "execution_count": 15,
      "outputs": []
    },
    {
      "cell_type": "markdown",
      "metadata": {
        "id": "AhZXxAzVxt5B"
      },
      "source": [
        "# Convert data"
      ]
    },
    {
      "cell_type": "markdown",
      "metadata": {
        "id": "KyqEukFeyHXA"
      },
      "source": [
        "Il dataset deve essere convertito in un tensore, con componenti (feature_vector, label). "
      ]
    },
    {
      "cell_type": "code",
      "metadata": {
        "id": "LuQfRXzrqoW2"
      },
      "source": [
        "def to_tensor(data, n_clients = 1):\n",
        "  shuffled = data.sample(frac=1)\n",
        "  result = np.array_split(shuffled, n_clients)  \n",
        "\n",
        "  res = []\n",
        "\n",
        "  new_res = []\n",
        "  label = []\n",
        "\n",
        "  for dataset in result:\n",
        "    res.append(mf.feature_scaling(dataset))\n",
        "  \n",
        "  for subset in res:\n",
        "    label.append(subset['isFraud'])\n",
        "    new_res.append(subset.drop(columns = ['isFraud']).to_numpy())\n",
        "\n",
        "  dataset = {}\n",
        "  for i in range(n_clients):\n",
        "    dataset[i] = tf.data.Dataset.from_tensor_slices((new_res[i], label[i]))\n",
        "  return dataset"
      ],
      "execution_count": 16,
      "outputs": []
    },
    {
      "cell_type": "code",
      "metadata": {
        "id": "LozyQwZOrCub"
      },
      "source": [
        "dataset = to_tensor(train_data)\n",
        "test_set = to_tensor(test_data)"
      ],
      "execution_count": 17,
      "outputs": []
    },
    {
      "cell_type": "code",
      "metadata": {
        "id": "U0_iMvxDQs6l"
      },
      "source": [
        "del train_data, test_data"
      ],
      "execution_count": 18,
      "outputs": []
    },
    {
      "cell_type": "markdown",
      "metadata": {
        "id": "PbRUraJkxzmR"
      },
      "source": [
        "# Federated data"
      ]
    },
    {
      "cell_type": "markdown",
      "metadata": {
        "id": "wWq8QN4vyP1t"
      },
      "source": [
        "Si definisce la funzione di preprocessing del dataset, che serve a creare l'OrderedDict, su cui si andranno a creare le batch necessarie per il training del modello. "
      ]
    },
    {
      "cell_type": "code",
      "metadata": {
        "id": "vHxlJrXRs9qP"
      },
      "source": [
        "NUM_CLIENTS = 1\n",
        "NUM_EPOCHS = 10\n",
        "BATCH_SIZE = 500\n",
        "SHUFFLE_BUFFER = 10\n",
        "PREFETCH_BUFFER = 10\n",
        "\n",
        "def preprocess(dataset):\n",
        "  def batch_format_fn(e1, e2):\n",
        "    return collections.OrderedDict(\n",
        "        x = tf.cast(e1, tf.float32),\n",
        "        y = tf.cast(e2, tf.int32))\n",
        "  return dataset.repeat(NUM_EPOCHS).shuffle(SHUFFLE_BUFFER).batch(\n",
        "      BATCH_SIZE).map(batch_format_fn).prefetch(PREFETCH_BUFFER)\n",
        "\n",
        "preprocessed_example_dataset = preprocess(dataset[0])\n",
        "# sample_batch = tf.nest.map_structure(lambda x: x.numpy(), next(iter(preprocessed_example_dataset)))\n",
        "# sample_batch"
      ],
      "execution_count": 19,
      "outputs": []
    },
    {
      "cell_type": "markdown",
      "metadata": {
        "id": "tcIsH9tRyc0p"
      },
      "source": [
        "I dati federati sono una lista di dataset divisi per cliente. "
      ]
    },
    {
      "cell_type": "code",
      "metadata": {
        "id": "6coH5NXYrQ8A",
        "colab": {
          "base_uri": "https://localhost:8080/"
        },
        "outputId": "cb3b168b-25e1-477b-a4e3-399e657e5bfd"
      },
      "source": [
        "def make_federated_data(dataset):\n",
        "  federated = []\n",
        "  for i in dataset:\n",
        "    federated.append(preprocess(dataset[i]))\n",
        "  return federated\n",
        "\n",
        "federated_train_data = make_federated_data(dataset)\n",
        "\n",
        "print('Number of client datasets: {l}'.format(l=len(federated_train_data)))\n",
        "print('First dataset: {d}'.format(d=federated_train_data[0]))"
      ],
      "execution_count": 20,
      "outputs": [
        {
          "output_type": "stream",
          "text": [
            "Number of client datasets: 1\n",
            "First dataset: <PrefetchDataset shapes: OrderedDict([(x, (None, 1103)), (y, (None,))]), types: OrderedDict([(x, tf.float32), (y, tf.int32)])>\n"
          ],
          "name": "stdout"
        }
      ]
    },
    {
      "cell_type": "code",
      "metadata": {
        "id": "doNQKip2REvH"
      },
      "source": [
        "del dataset"
      ],
      "execution_count": 21,
      "outputs": []
    },
    {
      "cell_type": "markdown",
      "metadata": {
        "id": "57xoboqEx25g"
      },
      "source": [
        "# Model creation and training"
      ]
    },
    {
      "cell_type": "markdown",
      "metadata": {
        "id": "oACFRKebyl3u"
      },
      "source": [
        "Creazione della rete neurale che sarà trainata. \n",
        "\n",
        "Viene anche definita la model function, in cui si specifica il modello, il tipo di input, la loss e le metriche da utilizzare. \n",
        "\n",
        "Infine si costruisce il processo di averaging, specificando l'optimizer da usare, cioè SGD, e il learning rate del server e del client. "
      ]
    },
    {
      "cell_type": "code",
      "metadata": {
        "id": "F4A7FqBv8G7f"
      },
      "source": [
        "from tensorflow import keras\n",
        "from tensorflow.keras.models import Sequential\n",
        "from tensorflow.keras.layers import Flatten, Dense, Dropout, Input\n",
        "\n",
        "def create_keras_model():\n",
        "  model = Sequential()\n",
        "  model.add(Input(shape=(1103,)))  \n",
        "  # model.add(Dense(512, activation='relu')) \n",
        "  # model.add(Dropout(0.7))  \n",
        "  model.add(Dense(256, activation='relu')) \n",
        "  model.add(Dropout(0.7))\n",
        "  # model.add(Dense(128, activation='relu')) \n",
        "  # model.add(Dropout(0.7))\n",
        "  # model.add(Dense(64, activation='relu')) \n",
        "  # model.add(Dropout(0.5))\n",
        "  # model.add(Dense(32, activation='relu')) \n",
        "  # model.add(Dropout(0.7))\n",
        "  # model.add(Dense(16, activation='relu')) \n",
        "  # model.add(Dropout(0.7))\n",
        "  model.add(Dense(1, activation='sigmoid'))\n",
        "  return model\n",
        "\n",
        "def model_fn():\n",
        "  soglia = 0.4\n",
        "  keras_model = create_keras_model()\n",
        "  return tff.learning.from_keras_model(\n",
        "      keras_model,\n",
        "      input_spec=preprocessed_example_dataset.element_spec,\n",
        "      loss=tf.keras.losses.BinaryCrossentropy(),\n",
        "      metrics=[tf.keras.metrics.BinaryAccuracy(), \n",
        "               tf.keras.metrics.Recall(thresholds=soglia),\n",
        "               tf.keras.metrics.Precision(thresholds=soglia)])\n",
        "  \n",
        "iterative_process = tff.learning.build_federated_averaging_process(\n",
        "    model_fn,  \n",
        "    client_optimizer_fn=lambda: tf.keras.optimizers.SGD(learning_rate=0.04), #0.4\n",
        "    server_optimizer_fn=lambda: tf.keras.optimizers.SGD(learning_rate=1)) #0.8"
      ],
      "execution_count": 22,
      "outputs": []
    },
    {
      "cell_type": "markdown",
      "metadata": {
        "id": "GUUQi8kdzB3_"
      },
      "source": [
        "Training del modello. \n",
        "\n",
        "Gpu usage: https://colab.research.google.com/notebooks/gpu.ipynb#scrollTo=Y04m-jvKRDsJ"
      ]
    },
    {
      "cell_type": "code",
      "metadata": {
        "id": "vjLvHl-fA7wW",
        "colab": {
          "base_uri": "https://localhost:8080/"
        },
        "outputId": "5b5154d9-1fd1-4a95-a571-4157b0439bf8"
      },
      "source": [
        "NUM_ROUNDS = 41\n",
        "# with tf.device('/device:GPU:0'):\n",
        "state = iterative_process.initialize()\n",
        "state, metrics = iterative_process.next(state, federated_train_data)\n",
        "print('round  1, metrics={}'.format(metrics))\n",
        "for round_num in range(2, NUM_ROUNDS):\n",
        "  state, metrics = iterative_process.next(state, federated_train_data)\n",
        "  print('round {:2d}, metrics={}'.format(round_num, metrics))"
      ],
      "execution_count": 23,
      "outputs": [
        {
          "output_type": "stream",
          "text": [
            "round  1, metrics=OrderedDict([('broadcast', ()), ('aggregation', OrderedDict([('value_sum_process', ()), ('weight_sum_process', ())])), ('train', OrderedDict([('binary_accuracy', 0.8479207), ('recall', 0.3429446), ('precision', 0.56844324), ('loss', 0.36439654)]))])\n",
            "round  2, metrics=OrderedDict([('broadcast', ()), ('aggregation', OrderedDict([('value_sum_process', ()), ('weight_sum_process', ())])), ('train', OrderedDict([('binary_accuracy', 0.85910887), ('recall', 0.42898947), ('precision', 0.6140715), ('loss', 0.34087873)]))])\n",
            "round  3, metrics=OrderedDict([('broadcast', ()), ('aggregation', OrderedDict([('value_sum_process', ()), ('weight_sum_process', ())])), ('train', OrderedDict([('binary_accuracy', 0.8665959), ('recall', 0.47149378), ('precision', 0.63250285), ('loss', 0.33044007)]))])\n",
            "round  4, metrics=OrderedDict([('broadcast', ()), ('aggregation', OrderedDict([('value_sum_process', ()), ('weight_sum_process', ())])), ('train', OrderedDict([('binary_accuracy', 0.8721649), ('recall', 0.49983624), ('precision', 0.64486283), ('loss', 0.32285923)]))])\n",
            "round  5, metrics=OrderedDict([('broadcast', ()), ('aggregation', OrderedDict([('value_sum_process', ()), ('weight_sum_process', ())])), ('train', OrderedDict([('binary_accuracy', 0.8760882), ('recall', 0.5188332), ('precision', 0.6521857), ('loss', 0.31728092)]))])\n",
            "round  6, metrics=OrderedDict([('broadcast', ()), ('aggregation', OrderedDict([('value_sum_process', ()), ('weight_sum_process', ())])), ('train', OrderedDict([('binary_accuracy', 0.87909657), ('recall', 0.5320876), ('precision', 0.6581041), ('loss', 0.31251383)]))])\n",
            "round  7, metrics=OrderedDict([('broadcast', ()), ('aggregation', OrderedDict([('value_sum_process', ()), ('weight_sum_process', ())])), ('train', OrderedDict([('binary_accuracy', 0.8812335), ('recall', 0.5415002), ('precision', 0.6621016), ('loss', 0.3091058)]))])\n",
            "round  8, metrics=OrderedDict([('broadcast', ()), ('aggregation', OrderedDict([('value_sum_process', ()), ('weight_sum_process', ())])), ('train', OrderedDict([('binary_accuracy', 0.8831212), ('recall', 0.55012083), ('precision', 0.6670584), ('loss', 0.30557677)]))])\n",
            "round  9, metrics=OrderedDict([('broadcast', ()), ('aggregation', OrderedDict([('value_sum_process', ()), ('weight_sum_process', ())])), ('train', OrderedDict([('binary_accuracy', 0.884716), ('recall', 0.5577642), ('precision', 0.6699019), ('loss', 0.30277798)]))])\n",
            "round 10, metrics=OrderedDict([('broadcast', ()), ('aggregation', OrderedDict([('value_sum_process', ()), ('weight_sum_process', ())])), ('train', OrderedDict([('binary_accuracy', 0.88588583), ('recall', 0.56376183), ('precision', 0.6720067), ('loss', 0.3005941)]))])\n",
            "round 11, metrics=OrderedDict([('broadcast', ()), ('aggregation', OrderedDict([('value_sum_process', ()), ('weight_sum_process', ())])), ('train', OrderedDict([('binary_accuracy', 0.8869121), ('recall', 0.56937283), ('precision', 0.67447317), ('loss', 0.2981877)]))])\n",
            "round 12, metrics=OrderedDict([('broadcast', ()), ('aggregation', OrderedDict([('value_sum_process', ()), ('weight_sum_process', ())])), ('train', OrderedDict([('binary_accuracy', 0.88784796), ('recall', 0.5733704), ('precision', 0.6769781), ('loss', 0.2962359)]))])\n",
            "round 13, metrics=OrderedDict([('broadcast', ()), ('aggregation', OrderedDict([('value_sum_process', ()), ('weight_sum_process', ())])), ('train', OrderedDict([('binary_accuracy', 0.8888232), ('recall', 0.5782807), ('precision', 0.6793218), ('loss', 0.2942881)]))])\n",
            "round 14, metrics=OrderedDict([('broadcast', ()), ('aggregation', OrderedDict([('value_sum_process', ()), ('weight_sum_process', ())])), ('train', OrderedDict([('binary_accuracy', 0.8896679), ('recall', 0.581693), ('precision', 0.681152), ('loss', 0.2926284)]))])\n",
            "round 15, metrics=OrderedDict([('broadcast', ()), ('aggregation', OrderedDict([('value_sum_process', ()), ('weight_sum_process', ())])), ('train', OrderedDict([('binary_accuracy', 0.89034265), ('recall', 0.585371), ('precision', 0.6829619), ('loss', 0.29095972)]))])\n",
            "round 16, metrics=OrderedDict([('broadcast', ()), ('aggregation', OrderedDict([('value_sum_process', ()), ('weight_sum_process', ())])), ('train', OrderedDict([('binary_accuracy', 0.8910562), ('recall', 0.58927995), ('precision', 0.68435216), ('loss', 0.2894524)]))])\n",
            "round 17, metrics=OrderedDict([('broadcast', ()), ('aggregation', OrderedDict([('value_sum_process', ()), ('weight_sum_process', ())])), ('train', OrderedDict([('binary_accuracy', 0.8917912), ('recall', 0.5922197), ('precision', 0.6863944), ('loss', 0.28806466)]))])\n",
            "round 18, metrics=OrderedDict([('broadcast', ()), ('aggregation', OrderedDict([('value_sum_process', ()), ('weight_sum_process', ())])), ('train', OrderedDict([('binary_accuracy', 0.8922728), ('recall', 0.594593), ('precision', 0.6879698), ('loss', 0.28688264)]))])\n",
            "round 19, metrics=OrderedDict([('broadcast', ()), ('aggregation', OrderedDict([('value_sum_process', ()), ('weight_sum_process', ())])), ('train', OrderedDict([('binary_accuracy', 0.8928629), ('recall', 0.5974817), ('precision', 0.6890007), ('loss', 0.28582162)]))])\n",
            "round 20, metrics=OrderedDict([('broadcast', ()), ('aggregation', OrderedDict([('value_sum_process', ()), ('weight_sum_process', ())])), ('train', OrderedDict([('binary_accuracy', 0.89358085), ('recall', 0.60041344), ('precision', 0.69067943), ('loss', 0.28426963)]))])\n",
            "round 21, metrics=OrderedDict([('broadcast', ()), ('aggregation', OrderedDict([('value_sum_process', ()), ('weight_sum_process', ())])), ('train', OrderedDict([('binary_accuracy', 0.8938297), ('recall', 0.60238403), ('precision', 0.6912555), ('loss', 0.28344885)]))])\n",
            "round 22, metrics=OrderedDict([('broadcast', ()), ('aggregation', OrderedDict([('value_sum_process', ()), ('weight_sum_process', ())])), ('train', OrderedDict([('binary_accuracy', 0.8944006), ('recall', 0.6041801), ('precision', 0.69252926), ('loss', 0.28256607)]))])\n",
            "round 23, metrics=OrderedDict([('broadcast', ()), ('aggregation', OrderedDict([('value_sum_process', ()), ('weight_sum_process', ())])), ('train', OrderedDict([('binary_accuracy', 0.8948193), ('recall', 0.6065802), ('precision', 0.69403946), ('loss', 0.2813697)]))])\n",
            "round 24, metrics=OrderedDict([('broadcast', ()), ('aggregation', OrderedDict([('value_sum_process', ()), ('weight_sum_process', ())])), ('train', OrderedDict([('binary_accuracy', 0.89516485), ('recall', 0.60859376), ('precision', 0.6948428), ('loss', 0.28072473)]))])\n",
            "round 25, metrics=OrderedDict([('broadcast', ()), ('aggregation', OrderedDict([('value_sum_process', ()), ('weight_sum_process', ())])), ('train', OrderedDict([('binary_accuracy', 0.8957962), ('recall', 0.6103254), ('precision', 0.69636095), ('loss', 0.2796333)]))])\n",
            "round 26, metrics=OrderedDict([('broadcast', ()), ('aggregation', OrderedDict([('value_sum_process', ()), ('weight_sum_process', ())])), ('train', OrderedDict([('binary_accuracy', 0.8959523), ('recall', 0.6121295), ('precision', 0.69668865), ('loss', 0.2790471)]))])\n",
            "round 27, metrics=OrderedDict([('broadcast', ()), ('aggregation', OrderedDict([('value_sum_process', ()), ('weight_sum_process', ())])), ('train', OrderedDict([('binary_accuracy', 0.89642626), ('recall', 0.61394435), ('precision', 0.69790125), ('loss', 0.27815065)]))])\n",
            "round 28, metrics=OrderedDict([('broadcast', ()), ('aggregation', OrderedDict([('value_sum_process', ()), ('weight_sum_process', ())])), ('train', OrderedDict([('binary_accuracy', 0.8967911), ('recall', 0.6165136), ('precision', 0.70012957), ('loss', 0.27700636)]))])\n",
            "round 29, metrics=OrderedDict([('broadcast', ()), ('aggregation', OrderedDict([('value_sum_process', ()), ('weight_sum_process', ())])), ('train', OrderedDict([('binary_accuracy', 0.8971591), ('recall', 0.6178936), ('precision', 0.6997574), ('loss', 0.2764286)]))])\n",
            "round 30, metrics=OrderedDict([('broadcast', ()), ('aggregation', OrderedDict([('value_sum_process', ()), ('weight_sum_process', ())])), ('train', OrderedDict([('binary_accuracy', 0.89739835), ('recall', 0.61876076), ('precision', 0.70024973), ('loss', 0.27596354)]))])\n",
            "round 31, metrics=OrderedDict([('broadcast', ()), ('aggregation', OrderedDict([('value_sum_process', ()), ('weight_sum_process', ())])), ('train', OrderedDict([('binary_accuracy', 0.8979603), ('recall', 0.62036085), ('precision', 0.7022547), ('loss', 0.27501088)]))])\n",
            "round 32, metrics=OrderedDict([('broadcast', ()), ('aggregation', OrderedDict([('value_sum_process', ()), ('weight_sum_process', ())])), ('train', OrderedDict([('binary_accuracy', 0.898303), ('recall', 0.62242), ('precision', 0.70308995), ('loss', 0.2744331)]))])\n",
            "round 33, metrics=OrderedDict([('broadcast', ()), ('aggregation', OrderedDict([('value_sum_process', ()), ('weight_sum_process', ())])), ('train', OrderedDict([('binary_accuracy', 0.8983952), ('recall', 0.62350196), ('precision', 0.7034098), ('loss', 0.27349266)]))])\n",
            "round 34, metrics=OrderedDict([('broadcast', ()), ('aggregation', OrderedDict([('value_sum_process', ()), ('weight_sum_process', ())])), ('train', OrderedDict([('binary_accuracy', 0.89853966), ('recall', 0.6239637), ('precision', 0.70382416), ('loss', 0.27337524)]))])\n",
            "round 35, metrics=OrderedDict([('broadcast', ()), ('aggregation', OrderedDict([('value_sum_process', ()), ('weight_sum_process', ())])), ('train', OrderedDict([('binary_accuracy', 0.8989364), ('recall', 0.6253973), ('precision', 0.7050826), ('loss', 0.27269277)]))])\n",
            "round 36, metrics=OrderedDict([('broadcast', ()), ('aggregation', OrderedDict([('value_sum_process', ()), ('weight_sum_process', ())])), ('train', OrderedDict([('binary_accuracy', 0.8991626), ('recall', 0.62711287), ('precision', 0.706559), ('loss', 0.27186805)]))])\n",
            "round 37, metrics=OrderedDict([('broadcast', ()), ('aggregation', OrderedDict([('value_sum_process', ()), ('weight_sum_process', ())])), ('train', OrderedDict([('binary_accuracy', 0.8996134), ('recall', 0.62804717), ('precision', 0.7074233), ('loss', 0.27124417)]))])\n",
            "round 38, metrics=OrderedDict([('broadcast', ()), ('aggregation', OrderedDict([('value_sum_process', ()), ('weight_sum_process', ())])), ('train', OrderedDict([('binary_accuracy', 0.89993906), ('recall', 0.63024324), ('precision', 0.70842737), ('loss', 0.27059534)]))])\n",
            "round 39, metrics=OrderedDict([('broadcast', ()), ('aggregation', OrderedDict([('value_sum_process', ()), ('weight_sum_process', ())])), ('train', OrderedDict([('binary_accuracy', 0.9001142), ('recall', 0.6310379), ('precision', 0.7081901), ('loss', 0.27007243)]))])\n",
            "round 40, metrics=OrderedDict([('broadcast', ()), ('aggregation', OrderedDict([('value_sum_process', ()), ('weight_sum_process', ())])), ('train', OrderedDict([('binary_accuracy', 0.9006676), ('recall', 0.63235074), ('precision', 0.71052617), ('loss', 0.26908267)]))])\n"
          ],
          "name": "stdout"
        }
      ]
    },
    {
      "cell_type": "markdown",
      "metadata": {
        "id": "PA4yp86ex9NK"
      },
      "source": [
        "# Model evaluation"
      ]
    },
    {
      "cell_type": "markdown",
      "metadata": {
        "id": "LZ_L_WaVzGX4"
      },
      "source": [
        "Evaluation del modello sui test data. "
      ]
    },
    {
      "cell_type": "code",
      "metadata": {
        "id": "j-43k3etjd8P"
      },
      "source": [
        "evaluation = tff.learning.build_federated_evaluation(model_fn)\n",
        "train_metrics = evaluation(state.model, federated_train_data)"
      ],
      "execution_count": 24,
      "outputs": []
    },
    {
      "cell_type": "code",
      "metadata": {
        "id": "ECb3PNHFjk_k"
      },
      "source": [
        "federated_test_data = make_federated_data(test_set)"
      ],
      "execution_count": 25,
      "outputs": []
    },
    {
      "cell_type": "code",
      "metadata": {
        "id": "GoNPIG8Qj0G8",
        "colab": {
          "base_uri": "https://localhost:8080/",
          "height": 35
        },
        "outputId": "31201cb7-6e9a-4b3a-8fa0-282002fd4ec6"
      },
      "source": [
        "test_metrics = evaluation(state.model, federated_test_data)\n",
        "str(test_metrics)"
      ],
      "execution_count": 26,
      "outputs": [
        {
          "output_type": "execute_result",
          "data": {
            "application/vnd.google.colaboratory.intrinsic+json": {
              "type": "string"
            },
            "text/plain": [
              "\"OrderedDict([('binary_accuracy', 0.9544081), ('recall', 0.54416096), ('precision', 0.273692), ('loss', 0.16779414)])\""
            ]
          },
          "metadata": {
            "tags": []
          },
          "execution_count": 26
        }
      ]
    },
    {
      "cell_type": "markdown",
      "metadata": {
        "id": "m2TBCVOYzJal"
      },
      "source": [
        "Board di tensorboad, per visualizzare la loss e le metriche in modo interattivo. "
      ]
    },
    {
      "cell_type": "code",
      "metadata": {
        "id": "ezubvjWqluK-"
      },
      "source": [
        "# logdir = \"/tmp/logs/scalars/training/\"\n",
        "# summary_writer = tf.summary.create_file_writer(logdir)\n",
        "# state = iterative_process.initialize()\n",
        "# with summary_writer.as_default():\n",
        "#   for round_num in range(1, NUM_ROUNDS):\n",
        "#     state, metrics = iterative_process.next(state, federated_train_data)\n",
        "#     for name, value in metrics['train'].items():\n",
        "#       tf.summary.scalar(name, value, step=round_num)"
      ],
      "execution_count": 27,
      "outputs": []
    },
    {
      "cell_type": "code",
      "metadata": {
        "id": "pM1FgnQao2-h"
      },
      "source": [
        "# !ls {logdir}\n",
        "# %tensorboard --logdir {logdir} --port=0"
      ],
      "execution_count": 28,
      "outputs": []
    }
  ]
}