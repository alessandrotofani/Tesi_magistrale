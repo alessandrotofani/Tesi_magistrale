{
  "nbformat": 4,
  "nbformat_minor": 0,
  "metadata": {
    "colab": {
      "name": "Pre_&_CatBoost.ipynb",
      "provenance": [],
      "authorship_tag": "ABX9TyNYeEUsuCaUbzO4DCNVQ0Iq",
      "include_colab_link": true
    },
    "kernelspec": {
      "name": "python3",
      "display_name": "Python 3"
    },
    "accelerator": "GPU"
  },
  "cells": [
    {
      "cell_type": "markdown",
      "metadata": {
        "id": "view-in-github",
        "colab_type": "text"
      },
      "source": [
        "<a href=\"https://colab.research.google.com/github/alessandrotofani/Tesi_magistrale/blob/master/3_Pre_%26_CatBoost.ipynb\" target=\"_parent\"><img src=\"https://colab.research.google.com/assets/colab-badge.svg\" alt=\"Open In Colab\"/></a>"
      ]
    },
    {
      "cell_type": "markdown",
      "metadata": {
        "id": "9DfTHp7s8Ulb"
      },
      "source": [
        "# Import"
      ]
    },
    {
      "cell_type": "code",
      "metadata": {
        "id": "7feY4Xy8Odtr",
        "colab": {
          "base_uri": "https://localhost:8080/"
        },
        "outputId": "d9ea5dcb-49ea-4ca7-9861-77ba6fc526a2"
      },
      "source": [
        "import numpy as np \r\n",
        "import pandas as pd \r\n",
        "import matplotlib\r\n",
        "import matplotlib.pyplot as plt\r\n",
        "import seaborn as sns\r\n",
        "import os\r\n",
        "from google.colab import drive\r\n",
        "drive.mount('/content/drive')\r\n",
        "from sklearn.model_selection import train_test_split"
      ],
      "execution_count": 15,
      "outputs": [
        {
          "output_type": "stream",
          "text": [
            "Drive already mounted at /content/drive; to attempt to forcibly remount, call drive.mount(\"/content/drive\", force_remount=True).\n"
          ],
          "name": "stdout"
        }
      ]
    },
    {
      "cell_type": "code",
      "metadata": {
        "id": "ZgOp3wuag3E7"
      },
      "source": [
        "import sys \r\n",
        "sys.path.append('/content/drive/MyDrive/Tesi_magistrale/Tesi_magistrale')\r\n",
        "import mf"
      ],
      "execution_count": 16,
      "outputs": []
    },
    {
      "cell_type": "markdown",
      "metadata": {
        "id": "sCYU0wigh3ei"
      },
      "source": [
        "Riferimento: https://stackoverflow.com/questions/30483246/how-to-check-if-a-python-module-has-been-imported"
      ]
    },
    {
      "cell_type": "code",
      "metadata": {
        "id": "_HuG72TOO20w",
        "colab": {
          "base_uri": "https://localhost:8080/"
        },
        "outputId": "525ea596-9274-46a2-e42f-56789048a5b3"
      },
      "source": [
        "catboost = 'catboost'\r\n",
        "if catboost not in sys.modules:\r\n",
        "  !pip install catboost"
      ],
      "execution_count": 5,
      "outputs": [
        {
          "output_type": "stream",
          "text": [
            "Requirement already satisfied: catboost in /usr/local/lib/python3.6/dist-packages (0.24.4)\n",
            "Requirement already satisfied: plotly in /usr/local/lib/python3.6/dist-packages (from catboost) (4.4.1)\n",
            "Requirement already satisfied: numpy>=1.16.0 in /usr/local/lib/python3.6/dist-packages (from catboost) (1.19.4)\n",
            "Requirement already satisfied: graphviz in /usr/local/lib/python3.6/dist-packages (from catboost) (0.10.1)\n",
            "Requirement already satisfied: six in /usr/local/lib/python3.6/dist-packages (from catboost) (1.15.0)\n",
            "Requirement already satisfied: pandas>=0.24.0 in /usr/local/lib/python3.6/dist-packages (from catboost) (1.1.5)\n",
            "Requirement already satisfied: scipy in /usr/local/lib/python3.6/dist-packages (from catboost) (1.4.1)\n",
            "Requirement already satisfied: matplotlib in /usr/local/lib/python3.6/dist-packages (from catboost) (3.2.2)\n",
            "Requirement already satisfied: retrying>=1.3.3 in /usr/local/lib/python3.6/dist-packages (from plotly->catboost) (1.3.3)\n",
            "Requirement already satisfied: pytz>=2017.2 in /usr/local/lib/python3.6/dist-packages (from pandas>=0.24.0->catboost) (2018.9)\n",
            "Requirement already satisfied: python-dateutil>=2.7.3 in /usr/local/lib/python3.6/dist-packages (from pandas>=0.24.0->catboost) (2.8.1)\n",
            "Requirement already satisfied: pyparsing!=2.0.4,!=2.1.2,!=2.1.6,>=2.0.1 in /usr/local/lib/python3.6/dist-packages (from matplotlib->catboost) (2.4.7)\n",
            "Requirement already satisfied: kiwisolver>=1.0.1 in /usr/local/lib/python3.6/dist-packages (from matplotlib->catboost) (1.3.1)\n",
            "Requirement already satisfied: cycler>=0.10 in /usr/local/lib/python3.6/dist-packages (from matplotlib->catboost) (0.10.0)\n"
          ],
          "name": "stdout"
        }
      ]
    },
    {
      "cell_type": "markdown",
      "metadata": {
        "id": "snsMJMlJ3Dcu"
      },
      "source": [
        "# Feature scaling"
      ]
    },
    {
      "cell_type": "markdown",
      "metadata": {
        "id": "fkebeV1E5pX-"
      },
      "source": [
        "Implemento il min max scaling delle features. \r\n",
        "\r\n",
        "Riferimento: https://towardsdatascience.com/data-normalization-with-pandas-and-scikit-learn-7c1cc6ed6475"
      ]
    },
    {
      "cell_type": "code",
      "metadata": {
        "id": "Kiu5JWhDvX3C"
      },
      "source": [
        "if not os.path.isfile('/content/drive/MyDrive/Tesi_magistrale/Dataset/IEEE/Output/corr_data.csv'):\r\n",
        "  correlation_data = min_max_scaling(correlation_data)\r\n",
        "  correlation_data.to_csv(r'./corr_data.csv')\r\n",
        "\r\n",
        "if not os.path.isfile('/content/drive/MyDrive/Tesi_magistrale/Dataset/IEEE/Output/data.csv'):\r\n",
        "  correlation_data = pd.read_csv('/content/drive/MyDrive/Tesi_magistrale/Dataset/IEEE/Output/corr_data.csv')"
      ],
      "execution_count": 6,
      "outputs": []
    },
    {
      "cell_type": "markdown",
      "metadata": {
        "id": "Wm21M5BTc2-v"
      },
      "source": [
        "Riferimento `save_model` e `load_model`: https://stackoverflow.com/questions/56107259/how-to-save-a-trained-model-by-scikit-learn\r\n",
        "\r\n",
        "Riferimento confusion matrix: https://scikit-learn.org/stable/auto_examples/model_selection/plot_confusion_matrix.html\r\n"
      ]
    },
    {
      "cell_type": "markdown",
      "metadata": {
        "id": "FpbwsvUFX0iY"
      },
      "source": [
        "# Dataset merging"
      ]
    },
    {
      "cell_type": "markdown",
      "metadata": {
        "id": "6-XUASHDX0iY"
      },
      "source": [
        "Funzione che ritorna la lista delle colonne significative. "
      ]
    },
    {
      "cell_type": "code",
      "metadata": {
        "id": "fUhFjfNyHixl"
      },
      "source": [
        "import warnings\r\n",
        "warnings.simplefilter(action='ignore', category=FutureWarning) # serve per ignorare i FutureWarning"
      ],
      "execution_count": 7,
      "outputs": []
    },
    {
      "cell_type": "markdown",
      "metadata": {
        "id": "P_aHaIF0QR8W"
      },
      "source": [
        "Rimpiazzo i missing values in categorical data con unknown. \r\n",
        "\r\n",
        "Unisco i dataset numerici e categorici nel dataframe data. \r\n",
        "\r\n",
        "Riferimento fillna: https://jamesrledoux.com/code/imputation"
      ]
    },
    {
      "cell_type": "code",
      "metadata": {
        "id": "3CA67WePVnds"
      },
      "source": [
        "if not os.path.isfile('/content/drive/MyDrive/Tesi_magistrale/Dataset/IEEE/Output/data.csv'):\r\n",
        "  col_to_drop = col_not_sign(categorical_data, cat_sign_col)\r\n",
        "  categorical_data = categorical_data.drop(col_to_drop, axis=1)\r\n",
        "  categorical_data = categorical_data.fillna('unknown')\r\n",
        "  data = pd.merge(correlation_data, categorical_data, left_on='TransactionID', right_on='TransactionID', how='left')\r\n",
        "  del correlation_data, categorical_data, numerical_data\r\n",
        "  data.to_csv(r'./data.csv')\r\n",
        "\r\n",
        "data = pd.read_csv('/content/drive/MyDrive/Tesi_magistrale/Dataset/IEEE/Output/data.csv')\r\n",
        "data.drop(data.columns[data.columns.str.contains('unnamed',case = False)],axis = 1, inplace = True)\r\n",
        "data = mf.feature_scaling(data)\r\n",
        "data, categorical_names = mf.encoding(data, 'cat_sign_col')\r\n",
        "# ratio_transaction = mf.ratio(data)"
      ],
      "execution_count": 8,
      "outputs": []
    },
    {
      "cell_type": "markdown",
      "metadata": {
        "id": "t3SUZVBAcyyM"
      },
      "source": [
        "### Load"
      ]
    },
    {
      "cell_type": "code",
      "metadata": {
        "id": "9I6qXJsIcwmB"
      },
      "source": [
        "load = False\r\n",
        "if load:\r\n",
        "  model = CatBoostClassifier()\r\n",
        "  model.load_model('catboost')  \r\n",
        "  # model.load_model('catboost_class_weights')"
      ],
      "execution_count": 11,
      "outputs": []
    },
    {
      "cell_type": "markdown",
      "metadata": {
        "id": "G1PzOtagc3jn"
      },
      "source": [
        "### Train validation test split\r\n"
      ]
    },
    {
      "cell_type": "code",
      "metadata": {
        "id": "HFmlqWO6c8Jn"
      },
      "source": [
        "X_train, X_val, y_train, y_val = mf.split(data, test_size = 0.2)\r\n",
        "del data\r\n",
        "X_train, X_test, y_train, y_test = train_test_split(X_train, y_train, test_size=0.25, random_state=42)"
      ],
      "execution_count": 13,
      "outputs": []
    },
    {
      "cell_type": "code",
      "metadata": {
        "id": "vw0Y5Z5Se7qs"
      },
      "source": [
        "save_id = True \r\n",
        "\r\n",
        "if save_id:\r\n",
        "  train_id = X_train.index.tolist()\r\n",
        "  val_id = X_val.index.tolist()\r\n",
        "  test_id = X_test.index.tolist()\r\n",
        "  mf.save_list('train_id',train_id)\r\n",
        "  mf.save_list('val_id', val_id)\r\n",
        "  mf.save_list('test_id', test_id)\r\n",
        "\r\n",
        "load_id = False \r\n",
        "if load_id:\r\n",
        "  mf.load_list('train_id',train_id)\r\n",
        "  mf.load_list('val_id', val_id)\r\n",
        "  mf.load_list('test_id', test_id)"
      ],
      "execution_count": 64,
      "outputs": []
    },
    {
      "cell_type": "markdown",
      "metadata": {
        "id": "3F2vcs2gSS6P"
      },
      "source": [
        "# Categorical Boost"
      ]
    },
    {
      "cell_type": "markdown",
      "metadata": {
        "id": "Of4-16ucWeA_"
      },
      "source": [
        "Con 2000 iterazioni: AUC= 0.9, AP= 0.7\r\n",
        "\r\n",
        "Con 4000 iterazioni: AUC= 0.92, AP= 0.73\r\n",
        "\r\n",
        "Con class_weight: AUC = 0.91, AP = 0.68, F1 = 0.81, CM =  [[112057   1796]\r\n",
        " [  1459   2795]]\r\n",
        "\r\n",
        "Non è stato fatto nè il one hot encoding nè l'easy ensemble.\r\n",
        "\r\n",
        "Documentazione CatBoost: https://catboost.ai/docs/concepts/python-quickstart.html\r\n",
        "\r\n",
        "Categorical features parameter: https://github.com/catboost/catboost/issues/934\r\n",
        "\r\n",
        "gpu: https://catboost.ai/docs/features/training-on-gpu.html\r\n",
        "\r\n",
        "Riferimento salvataggio del modello: https://stackoverflow.com/questions/51895761/how-to-correctly-load-pretrained-model-in-catboost-in-python\r\n",
        "\r\n",
        "Riferimento class_weights: https://stackoverflow.com/questions/59746304/catboost-classifier-for-class-imbalance"
      ]
    },
    {
      "cell_type": "code",
      "metadata": {
        "id": "2XsWdnqDmTPk"
      },
      "source": [
        "cat_feature_list = np.arange(176,206)\r\n",
        "train_list = mf.to_list(X_train, cat_feature_list)"
      ],
      "execution_count": null,
      "outputs": []
    },
    {
      "cell_type": "code",
      "metadata": {
        "id": "9ahy1mp6SScV",
        "colab": {
          "base_uri": "https://localhost:8080/"
        },
        "outputId": "da35a4c6-651c-496b-820e-a269f71039ec"
      },
      "source": [
        "from catboost import CatBoostClassifier#, Pool\r\n",
        "model = CatBoostClassifier(iterations=3000, boosting_type='Plain', bootstrap_type='Bernoulli', \r\n",
        "                            subsample=0.5, border_count=32,\r\n",
        "                            depth=10, learning_rate=1, task_type=\"GPU\",\r\n",
        "                            cat_features = cat_feature_list,# categorical_features, \r\n",
        "                            loss_function='CrossEntropy', verbose=False)\r\n",
        "model.fit(train_list, y_train)"
      ],
      "execution_count": 57,
      "outputs": [
        {
          "output_type": "execute_result",
          "data": {
            "text/plain": [
              "<catboost.core.CatBoostClassifier at 0x7f8b2bb0aac8>"
            ]
          },
          "metadata": {
            "tags": []
          },
          "execution_count": 57
        }
      ]
    },
    {
      "cell_type": "code",
      "metadata": {
        "id": "ylrqOqSwpMO7"
      },
      "source": [
        "save = True\r\n",
        "if save:\r\n",
        "  model.save_model('catboost_new')"
      ],
      "execution_count": 58,
      "outputs": []
    },
    {
      "cell_type": "markdown",
      "metadata": {
        "id": "ern6nrrX8fKf"
      },
      "source": [
        "# Performance evaluation"
      ]
    },
    {
      "cell_type": "code",
      "metadata": {
        "id": "RNTC-0LYa65A",
        "colab": {
          "base_uri": "https://localhost:8080/",
          "height": 557
        },
        "outputId": "65af5038-40d9-43a2-bbf6-614bbb85fb07"
      },
      "source": [
        "mf.performance(model, X_val, y_val)"
      ],
      "execution_count": 59,
      "outputs": [
        {
          "output_type": "display_data",
          "data": {
            "image/png": "[encoded data removed]",
            "text/plain": [
              "<Figure size 432x288 with 1 Axes>"
            ]
          },
          "metadata": {
            "tags": [],
            "needs_background": "light"
          }
        },
        {
          "output_type": "display_data",
          "data": {
            "image/png": "[encoded data removed]",
            "text/plain": [
              "<Figure size 432x288 with 1 Axes>"
            ]
          },
          "metadata": {
            "tags": [],
            "needs_background": "light"
          }
        }
      ]
    },
    {
      "cell_type": "code",
      "metadata": {
        "id": "CpFZe8uzyPCE",
        "colab": {
          "base_uri": "https://localhost:8080/",
          "height": 329
        },
        "outputId": "d364412e-b9d2-4e12-8fc7-2660317bec26"
      },
      "source": [
        "mf.conf_matrix(model, X_val, y_val)"
      ],
      "execution_count": 60,
      "outputs": [
        {
          "output_type": "stream",
          "text": [
            "[[113367    486]\n",
            " [  1726   2528]]\n"
          ],
          "name": "stdout"
        },
        {
          "output_type": "display_data",
          "data": {
            "image/png": "[encoded data removed]",
            "text/plain": [
              "<Figure size 432x288 with 2 Axes>"
            ]
          },
          "metadata": {
            "tags": [],
            "needs_background": "light"
          }
        }
      ]
    },
    {
      "cell_type": "code",
      "metadata": {
        "colab": {
          "base_uri": "https://localhost:8080/"
        },
        "id": "YdxKXeIQ7Yf9",
        "outputId": "74444adb-2bc3-4ea5-ffce-8b92f6f8dd05"
      },
      "source": [
        "mf.f1(model, X_val, y_val)"
      ],
      "execution_count": 61,
      "outputs": [
        {
          "output_type": "execute_result",
          "data": {
            "text/plain": [
              "0.8429952534848734"
            ]
          },
          "metadata": {
            "tags": []
          },
          "execution_count": 61
        }
      ]
    }
  ]
}