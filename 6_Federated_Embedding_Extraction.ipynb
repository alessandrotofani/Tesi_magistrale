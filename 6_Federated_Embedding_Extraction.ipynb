{
  "nbformat": 4,
  "nbformat_minor": 0,
  "metadata": {
    "colab": {
      "name": "6_Federated.ipynb",
      "provenance": [],
      "authorship_tag": "ABX9TyN+JD1JTEsAuocg6nQmC/e/",
      "include_colab_link": true
    },
    "kernelspec": {
      "name": "python3",
      "display_name": "Python 3"
    },
    "accelerator": "GPU"
  },
  "cells": [
    {
      "cell_type": "markdown",
      "metadata": {
        "id": "view-in-github",
        "colab_type": "text"
      },
      "source": [
        "<a href=\"https://colab.research.google.com/github/alessandrotofani/Tesi_magistrale/blob/master/6_Federated_Embedding_Extraction.ipynb\" target=\"_parent\"><img src=\"https://colab.research.google.com/assets/colab-badge.svg\" alt=\"Open In Colab\"/></a>"
      ]
    },
    {
      "cell_type": "markdown",
      "metadata": {
        "id": "2XuZ_oMl43ft"
      },
      "source": [
        "Overview: https://www.tensorflow.org/federated\r\n",
        "\r\n",
        "Image classification tutorial: https://www.tensorflow.org/federated/tutorials/federated_learning_for_image_classification"
      ]
    },
    {
      "cell_type": "markdown",
      "metadata": {
        "id": "qOKJPHxH4j9j"
      },
      "source": [
        "# Installation"
      ]
    },
    {
      "cell_type": "code",
      "metadata": {
        "id": "lgkJJpzD4gVs",
        "colab": {
          "base_uri": "https://localhost:8080/"
        },
        "outputId": "7d0f8ad7-3d21-49b5-8c22-09836fd9aaeb"
      },
      "source": [
        "!pip install --quiet fastai==2.2.5\r\n",
        "!pip install --quiet folium==0.2.1\r\n",
        "!pip install --quiet imgaug==0.2.5\r\n",
        "!pip install --quiet tensorflow==2.3.0\r\n",
        "!pip install --quiet tensorflow_federated==0.17.0\r\n",
        "!pip install --quiet --upgrade nest_asyncio"
      ],
      "execution_count": 1,
      "outputs": [
        {
          "output_type": "stream",
          "text": [
            "\u001b[K     |████████████████████████████████| 320.4MB 50kB/s \n",
            "\u001b[K     |████████████████████████████████| 460kB 48.5MB/s \n",
            "\u001b[K     |████████████████████████████████| 20.1MB 65.0MB/s \n",
            "\u001b[K     |████████████████████████████████| 522kB 4.2MB/s \n",
            "\u001b[K     |████████████████████████████████| 112kB 37.4MB/s \n",
            "\u001b[K     |████████████████████████████████| 153kB 52.2MB/s \n",
            "\u001b[K     |████████████████████████████████| 3.0MB 44.5MB/s \n",
            "\u001b[K     |████████████████████████████████| 1.1MB 45.1MB/s \n",
            "\u001b[K     |████████████████████████████████| 174kB 46.2MB/s \n",
            "\u001b[?25h  Building wheel for absl-py (setup.py) ... \u001b[?25l\u001b[?25hdone\n"
          ],
          "name": "stdout"
        }
      ]
    },
    {
      "cell_type": "code",
      "metadata": {
        "id": "C6Oguz1e4p29"
      },
      "source": [
        "import nest_asyncio\r\n",
        "nest_asyncio.apply()\r\n",
        "%load_ext tensorboard"
      ],
      "execution_count": 2,
      "outputs": []
    },
    {
      "cell_type": "code",
      "metadata": {
        "id": "0u_qzOek4tlY",
        "colab": {
          "base_uri": "https://localhost:8080/"
        },
        "outputId": "2a95a716-0a5e-4224-bc46-3c6aa479df55"
      },
      "source": [
        "import collections\r\n",
        "import numpy as np\r\n",
        "import tensorflow as tf\r\n",
        "import tensorflow_federated as tff\r\n",
        "import pandas as pd \r\n",
        "import os\r\n",
        "from google.colab import drive\r\n",
        "drive.mount('/content/drive')"
      ],
      "execution_count": 3,
      "outputs": [
        {
          "output_type": "stream",
          "text": [
            "Mounted at /content/drive\n"
          ],
          "name": "stdout"
        }
      ]
    },
    {
      "cell_type": "code",
      "metadata": {
        "id": "a5VvCBjWmrJC"
      },
      "source": [
        "import sys \n",
        "sys.path.append('/content/drive/MyDrive/Tesi_magistrale/Tesi_magistrale')\n",
        "import mf\n",
        "\n",
        "import warnings\n",
        "warnings.simplefilter(action='ignore', category=FutureWarning)"
      ],
      "execution_count": 4,
      "outputs": []
    },
    {
      "cell_type": "markdown",
      "metadata": {
        "id": "NDXvW9iFxqft"
      },
      "source": [
        "# Import data"
      ]
    },
    {
      "cell_type": "markdown",
      "metadata": {
        "id": "P8nvRkt1yB7_"
      },
      "source": [
        "I dati vengono importati e poi splittati in train e test. "
      ]
    },
    {
      "cell_type": "code",
      "metadata": {
        "id": "nU2jrVgkla8Y"
      },
      "source": [
        "data = pd.read_csv('/content/drive/MyDrive/Tesi_magistrale/Dataset/IEEE/Output/data.csv')\n",
        "data = mf.new_processing(data)\n",
        "col_name = mf.get_col(data)"
      ],
      "execution_count": 5,
      "outputs": []
    },
    {
      "cell_type": "code",
      "metadata": {
        "colab": {
          "base_uri": "https://localhost:8080/"
        },
        "id": "XtEnrz70T013",
        "outputId": "4d574422-25c9-4668-91d1-5684abf3009c"
      },
      "source": [
        "print('Rate safe/fraud:', (1/mf.ratio(data)).round(3))"
      ],
      "execution_count": 6,
      "outputs": [
        {
          "output_type": "stream",
          "text": [
            "Rate safe/fraud: 0.036\n"
          ],
          "name": "stdout"
        }
      ]
    },
    {
      "cell_type": "code",
      "metadata": {
        "id": "ENsVg9iBZQ0h"
      },
      "source": [
        "data, categorical_col_toemb, numerical_col = mf.labelEncoding(data, merge = True)\n",
        "col_name = mf.get_col(data)"
      ],
      "execution_count": 7,
      "outputs": []
    },
    {
      "cell_type": "code",
      "metadata": {
        "id": "4Od2G2GXmbuw"
      },
      "source": [
        "input_size = {}\n",
        "for col in categorical_col_toemb:\n",
        "  input_size[col] = int(data[col].max() + 1)"
      ],
      "execution_count": 8,
      "outputs": []
    },
    {
      "cell_type": "code",
      "metadata": {
        "id": "FwLvcxedva43",
        "colab": {
          "base_uri": "https://localhost:8080/"
        },
        "outputId": "953b9fe0-55a1-4532-a555-60319b8c0089"
      },
      "source": [
        "input_size"
      ],
      "execution_count": 9,
      "outputs": [
        {
          "output_type": "execute_result",
          "data": {
            "text/plain": [
              "{'P_emaildomain': 61,\n",
              " 'R_emaildomain': 62,\n",
              " 'browser_name': 41,\n",
              " 'device_name': 15,\n",
              " 'device_version': 295,\n",
              " 'os_name': 9}"
            ]
          },
          "metadata": {
            "tags": []
          },
          "execution_count": 9
        }
      ]
    },
    {
      "cell_type": "code",
      "metadata": {
        "id": "ALxYKHaMJSa1"
      },
      "source": [
        "from sklearn.model_selection import train_test_split\n",
        "import tensorflow as tf\n",
        "from tensorflow import keras\n",
        "from tensorflow.keras import models\n",
        "from tensorflow.keras import layers\n",
        "\n",
        "def underSampling(data, frac_under=0.3):\n",
        "  from imblearn.under_sampling import RandomUnderSampler \n",
        "  us = RandomUnderSampler(sampling_strategy=frac_under, random_state=42)\n",
        "  y = data['isFraud']\n",
        "  X = data.drop(columns = ['isFraud'])\n",
        "  X_us, y_us = us.fit_resample(X, y)\n",
        "  return X_us, y_us\n",
        "\n",
        "def overSampling(X, y = None, frac_over=0.08, pd = False):\n",
        "  from imblearn.over_sampling import SMOTE\n",
        "  if pd:\n",
        "    y = X['isFraud']\n",
        "    X = X.drop(columns=['isFraud'])\n",
        "  sm = SMOTE(sampling_strategy=frac_over, random_state=42)\n",
        "  X_sm, y_sm = sm.fit_resample(X, y)  \n",
        "  return X_sm, y_sm\n",
        "\n",
        "def rate(y):\n",
        "  n_fraud = np.count_nonzero(y == 1)\n",
        "  n_safe = np.shape(y)[0] - n_fraud\n",
        "  return f'Rate safe/fraud: {n_safe/n_fraud}'\n",
        "\n",
        "def get_keras_dataset(X, cols):\n",
        "  df = pd.DataFrame(data=X, columns=cols)\n",
        "  X = {str(col) : np.array(df[col]) for col in df.columns}\n",
        "  return X\n",
        "\n",
        "def get_server_data(data, frac=0.2):\n",
        "  indici = np.arange(0,data.index[-1]+1, dtype=int)\n",
        "  server_id = np.random.choice(indici, int(len(indici)*frac))\n",
        "  client_id = [id for id in indici if id not in server_id]\n",
        "  return data.iloc[server_id,:], data.iloc[client_id,:]"
      ],
      "execution_count": 10,
      "outputs": []
    },
    {
      "cell_type": "code",
      "metadata": {
        "id": "YOJnEsf-KyTY"
      },
      "source": [
        "def server_embedding_model(data, input_size, epochs=20, performance=True):\n",
        "  from sklearn.metrics import f1_score, recall_score, precision_score\n",
        "\n",
        "  y = data['isFraud']\n",
        "  X = data.drop(columns = ['isFraud'])\n",
        "  X_train, X_test, y_train, y_test = train_test_split(X, y, test_size = 0.2)\n",
        "  X_train, y_train = overSampling(X_train, y_train)\n",
        "  X_train, X_val, y_train, y_val = train_test_split(X_train, y_train, test_size=0.25, random_state=42)\n",
        "\n",
        "  keras.backend.clear_session()\n",
        "  # Embedding for categorical features\n",
        "  cols = mf.get_col(data)\n",
        "  categorical_input = []\n",
        "  numerical_input = []\n",
        "  embeddings = []\n",
        "  embedding_layer_names = []\n",
        "  for col in categorical_col_toemb:\n",
        "  # for col in categorical_col:\n",
        "      _input = layers.Input(shape=[1], name=col)\n",
        "      _embed = layers.Embedding(input_size[col], 3, name=col+'_emb')(_input)\n",
        "      categorical_input.append(_input)\n",
        "      embeddings.append(_embed)\n",
        "      embedding_layer_names.append(col+'_emb')\n",
        "      \n",
        "  # Simple inputs for the numeric features\n",
        "  for col in numerical_col:\n",
        "      numeric_input = layers.Input(shape=(1,), name=col)\n",
        "      numerical_input.append(numeric_input)\n",
        "      \n",
        "  # Merge the numeric inputs\n",
        "  merged_num_inputs = layers.concatenate(numerical_input)\n",
        "\n",
        "  # Merge embedding and use a Droput to prevent overfittting\n",
        "  merged_inputs = layers.concatenate(embeddings)\n",
        "  spatial_dropout = layers.SpatialDropout1D(0.6)(merged_inputs) # 0.2\n",
        "  flat_embed = layers.Flatten()(spatial_dropout)\n",
        "\n",
        "  # Merge embedding and numeric features\n",
        "  all_features = layers.concatenate([flat_embed, merged_num_inputs])\n",
        "\n",
        "  # MLP for classification\n",
        "  x = layers.Dense(240, activation='relu')(all_features) #360\n",
        "  x = layers.BatchNormalization()(x)\n",
        "  x = layers.Dropout(0.4)(x) \n",
        "\n",
        "  # Final model\n",
        "  output = layers.Dense(1, activation='sigmoid')(x)\n",
        "  model = models.Model(inputs=categorical_input + numerical_input, outputs=output)\n",
        "  model.compile(loss='binary_crossentropy', optimizer='adam', metrics=['accuracy',tf.keras.metrics.Recall(), tf.keras.metrics.Precision()])\n",
        "  print('***************************************************************')\n",
        "  print('Model\\'s training')\n",
        "  history = model.fit(get_keras_dataset(X_train, cols), y_train, epochs=epochs, \n",
        "      batch_size=1024, validation_data=(get_keras_dataset(X_val, cols),y_val),\n",
        "      verbose=1,shuffle = True , class_weight = {0: 0.5, 1: 4} )\n",
        "\n",
        "  if performance:\n",
        "    y_pred = model.predict(get_keras_dataset(X_test, cols))\n",
        "    mf.plot_cm(y_test, y_pred, 'Blues')\n",
        "    mf.plot_roc(\"ROC curve\", y_test, y_pred,color='blue')\n",
        "    print('***************************************************************')\n",
        "    print('Model\\'s performances')\n",
        "    y_predicted = [1 if n >= 0.5 else 0 for n in y_pred ]\n",
        "    print('F1 score: ',f1_score(y_test, y_predicted, average=\"binary\"))\n",
        "    print('Recall: ', recall_score(y_test, y_predicted, average='binary'))\n",
        "    print('Precision: ', precision_score(y_test, y_predicted,  average='binary'))\n",
        "  return model"
      ],
      "execution_count": 11,
      "outputs": []
    },
    {
      "cell_type": "code",
      "metadata": {
        "id": "1PIkfQymM4Ph"
      },
      "source": [
        "server_data, client_data = get_server_data(data, frac=0.2)"
      ],
      "execution_count": 12,
      "outputs": []
    },
    {
      "cell_type": "code",
      "metadata": {
        "id": "ENdbYS1kKAsJ",
        "colab": {
          "base_uri": "https://localhost:8080/",
          "height": 1000
        },
        "outputId": "a7979ef5-bee3-4abb-d64e-847a2846ae2b"
      },
      "source": [
        "server_model = server_embedding_model(server_data, input_size)"
      ],
      "execution_count": 13,
      "outputs": [
        {
          "output_type": "stream",
          "text": [
            "***************************************************************\n",
            "Model's training\n",
            "Epoch 1/20\n",
            "73/73 [==============================] - 5s 62ms/step - loss: 0.4732 - accuracy: 0.7213 - recall: 0.6402 - precision: 0.1577 - val_loss: 0.4573 - val_accuracy: 0.9260 - val_recall: 0.2466 - val_precision: 0.5147\n",
            "Epoch 2/20\n",
            "73/73 [==============================] - 3s 43ms/step - loss: 0.3990 - accuracy: 0.8175 - recall: 0.6119 - precision: 0.2268 - val_loss: 0.4421 - val_accuracy: 0.9133 - val_recall: 0.4076 - val_precision: 0.4201\n",
            "Epoch 3/20\n",
            "73/73 [==============================] - 3s 44ms/step - loss: 0.3780 - accuracy: 0.8356 - recall: 0.6273 - precision: 0.2526 - val_loss: 0.4212 - val_accuracy: 0.9069 - val_recall: 0.4829 - val_precision: 0.4004\n",
            "Epoch 4/20\n",
            "73/73 [==============================] - 3s 45ms/step - loss: 0.3626 - accuracy: 0.8417 - recall: 0.6400 - precision: 0.2637 - val_loss: 0.4448 - val_accuracy: 0.8757 - val_recall: 0.6038 - val_precision: 0.3240\n",
            "Epoch 5/20\n",
            "73/73 [==============================] - 3s 47ms/step - loss: 0.3567 - accuracy: 0.8456 - recall: 0.6536 - precision: 0.2723 - val_loss: 0.4123 - val_accuracy: 0.8664 - val_recall: 0.6515 - val_precision: 0.3127\n",
            "Epoch 6/20\n",
            "73/73 [==============================] - 3s 45ms/step - loss: 0.3493 - accuracy: 0.8488 - recall: 0.6562 - precision: 0.2778 - val_loss: 0.4332 - val_accuracy: 0.8362 - val_recall: 0.7241 - val_precision: 0.2752\n",
            "Epoch 7/20\n",
            "73/73 [==============================] - 3s 44ms/step - loss: 0.3459 - accuracy: 0.8524 - recall: 0.6687 - precision: 0.2859 - val_loss: 0.3518 - val_accuracy: 0.8722 - val_recall: 0.6504 - val_precision: 0.3246\n",
            "Epoch 8/20\n",
            "73/73 [==============================] - 3s 44ms/step - loss: 0.3444 - accuracy: 0.8527 - recall: 0.6703 - precision: 0.2867 - val_loss: 0.3884 - val_accuracy: 0.8398 - val_recall: 0.7257 - val_precision: 0.2806\n",
            "Epoch 9/20\n",
            "73/73 [==============================] - 3s 44ms/step - loss: 0.3413 - accuracy: 0.8551 - recall: 0.6755 - precision: 0.2916 - val_loss: 0.4681 - val_accuracy: 0.7944 - val_recall: 0.7973 - val_precision: 0.2391\n",
            "Epoch 10/20\n",
            "73/73 [==============================] - 3s 45ms/step - loss: 0.3362 - accuracy: 0.8569 - recall: 0.6849 - precision: 0.2964 - val_loss: 0.4762 - val_accuracy: 0.7855 - val_recall: 0.7973 - val_precision: 0.2309\n",
            "Epoch 11/20\n",
            "73/73 [==============================] - 3s 45ms/step - loss: 0.3318 - accuracy: 0.8615 - recall: 0.6867 - precision: 0.3049 - val_loss: 0.4408 - val_accuracy: 0.8116 - val_recall: 0.7810 - val_precision: 0.2542\n",
            "Epoch 12/20\n",
            "73/73 [==============================] - 3s 44ms/step - loss: 0.3330 - accuracy: 0.8567 - recall: 0.6808 - precision: 0.2955 - val_loss: 0.3574 - val_accuracy: 0.8690 - val_recall: 0.6824 - val_precision: 0.3232\n",
            "Epoch 13/20\n",
            "73/73 [==============================] - 3s 45ms/step - loss: 0.3320 - accuracy: 0.8597 - recall: 0.6764 - precision: 0.2998 - val_loss: 0.3863 - val_accuracy: 0.8448 - val_recall: 0.7415 - val_precision: 0.2907\n",
            "Epoch 14/20\n",
            "73/73 [==============================] - 3s 44ms/step - loss: 0.3288 - accuracy: 0.8634 - recall: 0.6771 - precision: 0.3068 - val_loss: 0.4422 - val_accuracy: 0.8053 - val_recall: 0.7827 - val_precision: 0.2477\n",
            "Epoch 15/20\n",
            "73/73 [==============================] - 3s 45ms/step - loss: 0.3253 - accuracy: 0.8611 - recall: 0.6977 - precision: 0.3061 - val_loss: 0.3914 - val_accuracy: 0.8435 - val_recall: 0.7350 - val_precision: 0.2875\n",
            "Epoch 16/20\n",
            "73/73 [==============================] - 3s 45ms/step - loss: 0.3326 - accuracy: 0.8603 - recall: 0.6869 - precision: 0.3028 - val_loss: 0.4147 - val_accuracy: 0.8286 - val_recall: 0.7474 - val_precision: 0.2689\n",
            "Epoch 17/20\n",
            "73/73 [==============================] - 3s 44ms/step - loss: 0.3262 - accuracy: 0.8611 - recall: 0.6922 - precision: 0.3052 - val_loss: 0.4258 - val_accuracy: 0.8162 - val_recall: 0.7827 - val_precision: 0.2596\n",
            "Epoch 18/20\n",
            "73/73 [==============================] - 3s 44ms/step - loss: 0.3212 - accuracy: 0.8675 - recall: 0.6926 - precision: 0.3174 - val_loss: 0.4880 - val_accuracy: 0.7840 - val_recall: 0.8070 - val_precision: 0.2311\n",
            "Epoch 19/20\n",
            "73/73 [==============================] - 3s 45ms/step - loss: 0.3189 - accuracy: 0.8682 - recall: 0.6909 - precision: 0.3184 - val_loss: 0.4072 - val_accuracy: 0.8317 - val_recall: 0.7458 - val_precision: 0.2728\n",
            "Epoch 20/20\n",
            "73/73 [==============================] - 3s 45ms/step - loss: 0.3263 - accuracy: 0.8617 - recall: 0.6963 - precision: 0.3070 - val_loss: 0.3760 - val_accuracy: 0.8522 - val_recall: 0.7350 - val_precision: 0.3013\n"
          ],
          "name": "stdout"
        },
        {
          "output_type": "display_data",
          "data": {
            "image/png": "[encoded data removed]",
            "text/plain": [
              "<Figure size 360x360 with 2 Axes>"
            ]
          },
          "metadata": {
            "tags": [],
            "needs_background": "light"
          }
        },
        {
          "output_type": "stream",
          "text": [
            "AUC:  0.8592773192475024\n",
            "***************************************************************\n",
            "Model's performances\n",
            "F1 score:  0.2527993109388458\n",
            "Recall:  0.7046818727490997\n",
            "Precision:  0.15402781422198897\n"
          ],
          "name": "stdout"
        },
        {
          "output_type": "display_data",
          "data": {
            "image/png": "[encoded data removed]",
            "text/plain": [
              "<Figure size 432x288 with 1 Axes>"
            ]
          },
          "metadata": {
            "tags": [],
            "needs_background": "light"
          }
        }
      ]
    },
    {
      "cell_type": "markdown",
      "metadata": {
        "id": "SEP2tgXTNKDP"
      },
      "source": [
        "Estrarre i layer di embedding e trasformare i dati. "
      ]
    },
    {
      "cell_type": "code",
      "metadata": {
        "id": "4-l8se9tSZLX"
      },
      "source": [
        "def client_data_embedding(data, server_model):\n",
        "  embeddings = {}\n",
        "  for i in range(6,12):\n",
        "    embeddings[server_model.layers[i].name[:-4]] = server_model.layers[i].get_weights()[0] #https://stackoverflow.com/questions/51235118/how-to-get-word-vectors-from-keras-embedding-layer\n",
        "  new_data = data.copy()\n",
        "  new_cols = []\n",
        "  for col in categorical_col_toemb:\n",
        "    for i in range(1,4):\n",
        "      new_col = col + '_'+str(i)\n",
        "      new_cols.append(new_col)\n",
        "  x = {}\n",
        "  for i in new_cols:\n",
        "    x[i] = {}\n",
        "  for col in x:\n",
        "    for i in range(len(embeddings[col[:-2]])):\n",
        "      j = int(col[-1])\n",
        "      x[col][i+1] = embeddings[col[:-2]][i][j-1]\n",
        "  for col in x:\n",
        "    new_data[col] = new_data[col[:-2]]\n",
        "  for col in x:\n",
        "    new_data[col].replace(to_replace=x[col], inplace=True)\n",
        "  return new_data"
      ],
      "execution_count": 14,
      "outputs": []
    },
    {
      "cell_type": "code",
      "metadata": {
        "id": "giaj1KEL4wct"
      },
      "source": [
        "client_data_embedded = client_data_embedding(client_data, server_model)"
      ],
      "execution_count": 15,
      "outputs": []
    },
    {
      "cell_type": "code",
      "metadata": {
        "id": "InAYt4jcL1-Y"
      },
      "source": [
        "train_data, test_data = train_test_split(client_data_embedded, test_size=0.1)"
      ],
      "execution_count": 16,
      "outputs": []
    },
    {
      "cell_type": "code",
      "metadata": {
        "id": "v4cddCAqK4pY"
      },
      "source": [
        "# X, y = underSampling(train_data)\n",
        "# rate(y)"
      ],
      "execution_count": 17,
      "outputs": []
    },
    {
      "cell_type": "code",
      "metadata": {
        "id": "LqiPC-MkK_BX",
        "colab": {
          "base_uri": "https://localhost:8080/",
          "height": 35
        },
        "outputId": "895c5b14-4f14-4c18-bd34-c053560a5a9f"
      },
      "source": [
        "X, y = overSampling(train_data, pd=True)\n",
        "rate(y)"
      ],
      "execution_count": 18,
      "outputs": [
        {
          "output_type": "execute_result",
          "data": {
            "application/vnd.google.colaboratory.intrinsic+json": {
              "type": "string"
            },
            "text/plain": [
              "'Rate safe/fraud: 12.500029767220337'"
            ]
          },
          "metadata": {
            "tags": []
          },
          "execution_count": 18
        }
      ]
    },
    {
      "cell_type": "code",
      "metadata": {
        "id": "CHpsO2hJLFeR"
      },
      "source": [
        "cols = mf.get_col(client_data_embedded)\n",
        "train_data = mf.mergeResult(X, y, cols)"
      ],
      "execution_count": 19,
      "outputs": []
    },
    {
      "cell_type": "code",
      "metadata": {
        "colab": {
          "base_uri": "https://localhost:8080/"
        },
        "id": "2bpOGbYXMAwY",
        "outputId": "42f1f93a-3646-489c-c9f4-b7ffea88785b"
      },
      "source": [
        "print('Dataset size:', train_data.shape[0])"
      ],
      "execution_count": 20,
      "outputs": [
        {
          "output_type": "stream",
          "text": [
            "Dataset size: 453520\n"
          ],
          "name": "stdout"
        }
      ]
    },
    {
      "cell_type": "code",
      "metadata": {
        "id": "GawBnA83QyYj"
      },
      "source": [
        "del client_data_embedded, client_data, server_data, X, y"
      ],
      "execution_count": 21,
      "outputs": []
    },
    {
      "cell_type": "markdown",
      "metadata": {
        "id": "AhZXxAzVxt5B"
      },
      "source": [
        "# Convert data"
      ]
    },
    {
      "cell_type": "markdown",
      "metadata": {
        "id": "KyqEukFeyHXA"
      },
      "source": [
        "Il dataset deve essere convertito in un tensore, con componenti (feature_vector, label). "
      ]
    },
    {
      "cell_type": "code",
      "metadata": {
        "id": "LuQfRXzrqoW2"
      },
      "source": [
        "def to_tensor(data, cols, n_clients = 4):\n",
        "  shuffled = data.sample(frac=1)\n",
        "  result = np.array_split(shuffled, n_clients)  \n",
        "\n",
        "  res = []\n",
        "  label = []\n",
        "\n",
        "  for dataset in result:\n",
        "    label.append(dataset['isFraud'])\n",
        "    res.append(dataset.drop(columns = ['isFraud']))\n",
        "\n",
        "  dataset = {}\n",
        "  for i in range(n_clients):\n",
        "    dataset[i] = tf.data.Dataset.from_tensor_slices((res[i], label[i]))\n",
        "\n",
        "  return dataset"
      ],
      "execution_count": 22,
      "outputs": []
    },
    {
      "cell_type": "code",
      "metadata": {
        "id": "LozyQwZOrCub"
      },
      "source": [
        "dataset = to_tensor(train_data, cols)\n",
        "test_set = to_tensor(test_data, cols)"
      ],
      "execution_count": 23,
      "outputs": []
    },
    {
      "cell_type": "code",
      "metadata": {
        "id": "U0_iMvxDQs6l"
      },
      "source": [
        "# del train_data, test_data"
      ],
      "execution_count": 24,
      "outputs": []
    },
    {
      "cell_type": "markdown",
      "metadata": {
        "id": "PbRUraJkxzmR"
      },
      "source": [
        "# Federated data"
      ]
    },
    {
      "cell_type": "markdown",
      "metadata": {
        "id": "wWq8QN4vyP1t"
      },
      "source": [
        "Si definisce la funzione di preprocessing del dataset, che serve a creare l'OrderedDict, su cui si andranno a creare le batch necessarie per il training del modello. "
      ]
    },
    {
      "cell_type": "code",
      "metadata": {
        "id": "vHxlJrXRs9qP"
      },
      "source": [
        "NUM_CLIENTS = 4\n",
        "NUM_EPOCHS = 10\n",
        "BATCH_SIZE = 250 #250\n",
        "SHUFFLE_BUFFER = 10\n",
        "PREFETCH_BUFFER = 10\n",
        "\n",
        "def preprocess(dataset):\n",
        "  def batch_format_fn(e1, e2):\n",
        "    return collections.OrderedDict(\n",
        "        x = tf.cast(e1, tf.float32),\n",
        "        y = tf.cast(e2, tf.int32))\n",
        "  return dataset.repeat(NUM_EPOCHS).shuffle(SHUFFLE_BUFFER).batch(\n",
        "      BATCH_SIZE).map(batch_format_fn).prefetch(PREFETCH_BUFFER)\n",
        "\n",
        "preprocessed_example_dataset = preprocess(dataset[0])\n",
        "# sample_batch = tf.nest.map_structure(lambda x: x.numpy(), next(iter(preprocessed_example_dataset)))\n",
        "# sample_batch"
      ],
      "execution_count": 25,
      "outputs": []
    },
    {
      "cell_type": "markdown",
      "metadata": {
        "id": "tcIsH9tRyc0p"
      },
      "source": [
        "I dati federati sono una lista di dataset divisi per cliente. "
      ]
    },
    {
      "cell_type": "code",
      "metadata": {
        "id": "6coH5NXYrQ8A",
        "colab": {
          "base_uri": "https://localhost:8080/"
        },
        "outputId": "0e237bd6-e1f2-445a-cebf-09008984fbd1"
      },
      "source": [
        "def make_federated_data(dataset):\n",
        "  federated = []\n",
        "  for i in dataset:\n",
        "    federated.append(preprocess(dataset[i]))\n",
        "  return federated\n",
        "\n",
        "federated_train_data = make_federated_data(dataset)\n",
        "\n",
        "print('Number of client datasets: {l}'.format(l=len(federated_train_data)))\n",
        "print('First dataset: {d}'.format(d=federated_train_data[0]))"
      ],
      "execution_count": 26,
      "outputs": [
        {
          "output_type": "stream",
          "text": [
            "Number of client datasets: 4\n",
            "First dataset: <PrefetchDataset shapes: OrderedDict([(x, (None, 280)), (y, (None,))]), types: OrderedDict([(x, tf.float32), (y, tf.int32)])>\n"
          ],
          "name": "stdout"
        }
      ]
    },
    {
      "cell_type": "code",
      "metadata": {
        "id": "doNQKip2REvH"
      },
      "source": [
        "# del dataset"
      ],
      "execution_count": 27,
      "outputs": []
    },
    {
      "cell_type": "markdown",
      "metadata": {
        "id": "57xoboqEx25g"
      },
      "source": [
        "# Model creation and training"
      ]
    },
    {
      "cell_type": "markdown",
      "metadata": {
        "id": "oACFRKebyl3u"
      },
      "source": [
        "Creazione della rete neurale che sarà trainata. \n",
        "\n",
        "Viene anche definita la model function, in cui si specifica il modello, il tipo di input, la loss e le metriche da utilizzare. \n",
        "\n",
        "Infine si costruisce il processo di averaging, specificando l'optimizer da usare, cioè SGD, e il learning rate del server e del client. "
      ]
    },
    {
      "cell_type": "code",
      "metadata": {
        "colab": {
          "base_uri": "https://localhost:8080/"
        },
        "id": "XJ7I89xqY5MK",
        "outputId": "79fc797a-14a8-4ba5-b8bb-d7b0af84e891"
      },
      "source": [
        "test_set"
      ],
      "execution_count": 28,
      "outputs": [
        {
          "output_type": "execute_result",
          "data": {
            "text/plain": [
              "{0: <TensorSliceDataset shapes: ((280,), ()), types: (tf.float32, tf.float32)>,\n",
              " 1: <TensorSliceDataset shapes: ((280,), ()), types: (tf.float32, tf.float32)>,\n",
              " 2: <TensorSliceDataset shapes: ((280,), ()), types: (tf.float32, tf.float32)>,\n",
              " 3: <TensorSliceDataset shapes: ((280,), ()), types: (tf.float32, tf.float32)>}"
            ]
          },
          "metadata": {
            "tags": []
          },
          "execution_count": 28
        }
      ]
    },
    {
      "cell_type": "code",
      "metadata": {
        "id": "F4A7FqBv8G7f"
      },
      "source": [
        "from tensorflow import keras\n",
        "from tensorflow.keras.models import Sequential\n",
        "from tensorflow.keras.layers import Flatten, Dense, Dropout, Input, BatchNormalization\n",
        "\n",
        "def create_keras_model():\n",
        "  model = Sequential()\n",
        "  model.add(Input(shape=(280,)))   \n",
        "  model.add(Dense(256, activation='relu')) \n",
        "  model.add(Dense(1, activation='sigmoid'))\n",
        "  return model\n",
        "\n",
        "def model_fn():\n",
        "  soglia = 0.5\n",
        "  keras_model = create_keras_model()\n",
        "  return tff.learning.from_keras_model(\n",
        "      keras_model,\n",
        "      input_spec=preprocessed_example_dataset.element_spec,\n",
        "      loss=tf.keras.losses.BinaryCrossentropy(),\n",
        "      metrics=[tf.keras.metrics.BinaryAccuracy(), \n",
        "               tf.keras.metrics.Recall(thresholds=soglia),\n",
        "               tf.keras.metrics.Precision(thresholds=soglia)])\n",
        "  \n",
        "iterative_process = tff.learning.build_federated_averaging_process(\n",
        "    model_fn,  \n",
        "    client_optimizer_fn=lambda: tf.keras.optimizers.SGD(learning_rate=0.1, momentum=0.6), #0.05\n",
        "    server_optimizer_fn=lambda: tf.keras.optimizers.SGD(learning_rate=1))"
      ],
      "execution_count": 29,
      "outputs": []
    },
    {
      "cell_type": "markdown",
      "metadata": {
        "id": "GUUQi8kdzB3_"
      },
      "source": [
        "Training del modello. "
      ]
    },
    {
      "cell_type": "code",
      "metadata": {
        "id": "vjLvHl-fA7wW",
        "colab": {
          "base_uri": "https://localhost:8080/"
        },
        "outputId": "a9e6ddb8-23f4-4398-fd81-74d1263a7edc"
      },
      "source": [
        "NUM_ROUNDS = 80\n",
        "state = iterative_process.initialize()\n",
        "for round_num in range(1, NUM_ROUNDS + 1):\n",
        "  state, metrics = iterative_process.next(state, federated_train_data)\n",
        "  print('round {:2d}, metrics={}'.format(round_num, metrics))"
      ],
      "execution_count": 30,
      "outputs": [
        {
          "output_type": "stream",
          "text": [
            "round  1, metrics=OrderedDict([('broadcast', ()), ('aggregation', OrderedDict([('value_sum_process', ()), ('weight_sum_process', ())])), ('train', OrderedDict([('binary_accuracy', 0.92576885), ('recall', 0.003363696), ('precision', 0.38227335), ('loss', 0.23611957)]))])\n",
            "round  2, metrics=OrderedDict([('broadcast', ()), ('aggregation', OrderedDict([('value_sum_process', ()), ('weight_sum_process', ())])), ('train', OrderedDict([('binary_accuracy', 0.9259833), ('recall', 0.009067095), ('precision', 0.52309805), ('loss', 0.22249502)]))])\n",
            "round  3, metrics=OrderedDict([('broadcast', ()), ('aggregation', OrderedDict([('value_sum_process', ()), ('weight_sum_process', ())])), ('train', OrderedDict([('binary_accuracy', 0.92627364), ('recall', 0.02279276), ('precision', 0.5577651), ('loss', 0.21899867)]))])\n",
            "round  4, metrics=OrderedDict([('broadcast', ()), ('aggregation', OrderedDict([('value_sum_process', ()), ('weight_sum_process', ())])), ('train', OrderedDict([('binary_accuracy', 0.92670584), ('recall', 0.036765493), ('precision', 0.58372325), ('loss', 0.21647495)]))])\n",
            "round  5, metrics=OrderedDict([('broadcast', ()), ('aggregation', OrderedDict([('value_sum_process', ()), ('weight_sum_process', ())])), ('train', OrderedDict([('binary_accuracy', 0.92710745), ('recall', 0.04872001), ('precision', 0.59809977), ('loss', 0.21451218)]))])\n",
            "round  6, metrics=OrderedDict([('broadcast', ()), ('aggregation', OrderedDict([('value_sum_process', ()), ('weight_sum_process', ())])), ('train', OrderedDict([('binary_accuracy', 0.92749494), ('recall', 0.060239922), ('precision', 0.6068612), ('loss', 0.2127218)]))])\n",
            "round  7, metrics=OrderedDict([('broadcast', ()), ('aggregation', OrderedDict([('value_sum_process', ()), ('weight_sum_process', ())])), ('train', OrderedDict([('binary_accuracy', 0.9278618), ('recall', 0.06990534), ('precision', 0.615167), ('loss', 0.21110259)]))])\n",
            "round  8, metrics=OrderedDict([('broadcast', ()), ('aggregation', OrderedDict([('value_sum_process', ()), ('weight_sum_process', ())])), ('train', OrderedDict([('binary_accuracy', 0.92821836), ('recall', 0.07812705), ('precision', 0.62343526), ('loss', 0.2096839)]))])\n",
            "round  9, metrics=OrderedDict([('broadcast', ()), ('aggregation', OrderedDict([('value_sum_process', ()), ('weight_sum_process', ())])), ('train', OrderedDict([('binary_accuracy', 0.928532), ('recall', 0.08533369), ('precision', 0.6299055), ('loss', 0.20840764)]))])\n",
            "round 10, metrics=OrderedDict([('broadcast', ()), ('aggregation', OrderedDict([('value_sum_process', ()), ('weight_sum_process', ())])), ('train', OrderedDict([('binary_accuracy', 0.9288278), ('recall', 0.09162351), ('precision', 0.6361081), ('loss', 0.20723815)]))])\n",
            "round 11, metrics=OrderedDict([('broadcast', ()), ('aggregation', OrderedDict([('value_sum_process', ()), ('weight_sum_process', ())])), ('train', OrderedDict([('binary_accuracy', 0.92908424), ('recall', 0.09688635), ('precision', 0.64118826), ('loss', 0.2060841)]))])\n",
            "round 12, metrics=OrderedDict([('broadcast', ()), ('aggregation', OrderedDict([('value_sum_process', ()), ('weight_sum_process', ())])), ('train', OrderedDict([('binary_accuracy', 0.92924875), ('recall', 0.100812644), ('precision', 0.6431746), ('loss', 0.20508793)]))])\n",
            "round 13, metrics=OrderedDict([('broadcast', ()), ('aggregation', OrderedDict([('value_sum_process', ()), ('weight_sum_process', ())])), ('train', OrderedDict([('binary_accuracy', 0.9294707), ('recall', 0.10516461), ('precision', 0.6474663), ('loss', 0.20410143)]))])\n",
            "round 14, metrics=OrderedDict([('broadcast', ()), ('aggregation', OrderedDict([('value_sum_process', ()), ('weight_sum_process', ())])), ('train', OrderedDict([('binary_accuracy', 0.9296242), ('recall', 0.10898077), ('precision', 0.6487286), ('loss', 0.20316428)]))])\n",
            "round 15, metrics=OrderedDict([('broadcast', ()), ('aggregation', OrderedDict([('value_sum_process', ()), ('weight_sum_process', ())])), ('train', OrderedDict([('binary_accuracy', 0.9298681), ('recall', 0.112963624), ('precision', 0.654169), ('loss', 0.2023058)]))])\n",
            "round 16, metrics=OrderedDict([('broadcast', ()), ('aggregation', OrderedDict([('value_sum_process', ()), ('weight_sum_process', ())])), ('train', OrderedDict([('binary_accuracy', 0.93003625), ('recall', 0.11671132), ('precision', 0.65611297), ('loss', 0.2014062)]))])\n",
            "round 17, metrics=OrderedDict([('broadcast', ()), ('aggregation', OrderedDict([('value_sum_process', ()), ('weight_sum_process', ())])), ('train', OrderedDict([('binary_accuracy', 0.9302272), ('recall', 0.120339945), ('precision', 0.6590535), ('loss', 0.20060349)]))])\n",
            "round 18, metrics=OrderedDict([('broadcast', ()), ('aggregation', OrderedDict([('value_sum_process', ()), ('weight_sum_process', ())])), ('train', OrderedDict([('binary_accuracy', 0.930407), ('recall', 0.1240668), ('precision', 0.6613195), ('loss', 0.19978371)]))])\n",
            "round 19, metrics=OrderedDict([('broadcast', ()), ('aggregation', OrderedDict([('value_sum_process', ()), ('weight_sum_process', ())])), ('train', OrderedDict([('binary_accuracy', 0.9306005), ('recall', 0.12743644), ('precision', 0.664602), ('loss', 0.19901371)]))])\n",
            "round 20, metrics=OrderedDict([('broadcast', ()), ('aggregation', OrderedDict([('value_sum_process', ()), ('weight_sum_process', ())])), ('train', OrderedDict([('binary_accuracy', 0.9307576), ('recall', 0.13086265), ('precision', 0.6661111), ('loss', 0.19825135)]))])\n",
            "round 21, metrics=OrderedDict([('broadcast', ()), ('aggregation', OrderedDict([('value_sum_process', ()), ('weight_sum_process', ())])), ('train', OrderedDict([('binary_accuracy', 0.9309038), ('recall', 0.13357742), ('precision', 0.66811585), ('loss', 0.1975168)]))])\n",
            "round 22, metrics=OrderedDict([('broadcast', ()), ('aggregation', OrderedDict([('value_sum_process', ()), ('weight_sum_process', ())])), ('train', OrderedDict([('binary_accuracy', 0.93111706), ('recall', 0.13709293), ('precision', 0.6717474), ('loss', 0.19679058)]))])\n",
            "round 23, metrics=OrderedDict([('broadcast', ()), ('aggregation', OrderedDict([('value_sum_process', ()), ('weight_sum_process', ())])), ('train', OrderedDict([('binary_accuracy', 0.9312704), ('recall', 0.13991189), ('precision', 0.6737672), ('loss', 0.19618598)]))])\n",
            "round 24, metrics=OrderedDict([('broadcast', ()), ('aggregation', OrderedDict([('value_sum_process', ()), ('weight_sum_process', ())])), ('train', OrderedDict([('binary_accuracy', 0.93146646), ('recall', 0.14305829), ('precision', 0.6770018), ('loss', 0.1953837)]))])\n",
            "round 25, metrics=OrderedDict([('broadcast', ()), ('aggregation', OrderedDict([('value_sum_process', ()), ('weight_sum_process', ())])), ('train', OrderedDict([('binary_accuracy', 0.9316429), ('recall', 0.14626123), ('precision', 0.67928886), ('loss', 0.19466501)]))])\n",
            "round 26, metrics=OrderedDict([('broadcast', ()), ('aggregation', OrderedDict([('value_sum_process', ()), ('weight_sum_process', ())])), ('train', OrderedDict([('binary_accuracy', 0.93177015), ('recall', 0.14875573), ('precision', 0.68054366), ('loss', 0.19403264)]))])\n",
            "round 27, metrics=OrderedDict([('broadcast', ()), ('aggregation', OrderedDict([('value_sum_process', ()), ('weight_sum_process', ())])), ('train', OrderedDict([('binary_accuracy', 0.9318949), ('recall', 0.15138417), ('precision', 0.68134135), ('loss', 0.1933404)]))])\n",
            "round 28, metrics=OrderedDict([('broadcast', ()), ('aggregation', OrderedDict([('value_sum_process', ()), ('weight_sum_process', ())])), ('train', OrderedDict([('binary_accuracy', 0.93206704), ('recall', 0.15408406), ('precision', 0.68395394), ('loss', 0.19275591)]))])\n",
            "round 29, metrics=OrderedDict([('broadcast', ()), ('aggregation', OrderedDict([('value_sum_process', ()), ('weight_sum_process', ())])), ('train', OrderedDict([('binary_accuracy', 0.9322346), ('recall', 0.15736441), ('precision', 0.68555236), ('loss', 0.19218569)]))])\n",
            "round 30, metrics=OrderedDict([('broadcast', ()), ('aggregation', OrderedDict([('value_sum_process', ()), ('weight_sum_process', ())])), ('train', OrderedDict([('binary_accuracy', 0.9324102), ('recall', 0.16011788), ('precision', 0.68814206), ('loss', 0.1916405)]))])\n",
            "round 31, metrics=OrderedDict([('broadcast', ()), ('aggregation', OrderedDict([('value_sum_process', ()), ('weight_sum_process', ())])), ('train', OrderedDict([('binary_accuracy', 0.93248886), ('recall', 0.16221647), ('precision', 0.6879813), ('loss', 0.19096415)]))])\n",
            "round 32, metrics=OrderedDict([('broadcast', ()), ('aggregation', OrderedDict([('value_sum_process', ()), ('weight_sum_process', ())])), ('train', OrderedDict([('binary_accuracy', 0.93264884), ('recall', 0.16501161), ('precision', 0.68975216), ('loss', 0.19046685)]))])\n",
            "round 33, metrics=OrderedDict([('broadcast', ()), ('aggregation', OrderedDict([('value_sum_process', ()), ('weight_sum_process', ())])), ('train', OrderedDict([('binary_accuracy', 0.93277705), ('recall', 0.16739894), ('precision', 0.6909363), ('loss', 0.18989785)]))])\n",
            "round 34, metrics=OrderedDict([('broadcast', ()), ('aggregation', OrderedDict([('value_sum_process', ()), ('weight_sum_process', ())])), ('train', OrderedDict([('binary_accuracy', 0.9329034), ('recall', 0.16926534), ('precision', 0.69280064), ('loss', 0.18931317)]))])\n",
            "round 35, metrics=OrderedDict([('broadcast', ()), ('aggregation', OrderedDict([('value_sum_process', ()), ('weight_sum_process', ())])), ('train', OrderedDict([('binary_accuracy', 0.9330464), ('recall', 0.17166458), ('precision', 0.69444746), ('loss', 0.18875124)]))])\n",
            "round 36, metrics=OrderedDict([('broadcast', ()), ('aggregation', OrderedDict([('value_sum_process', ()), ('weight_sum_process', ())])), ('train', OrderedDict([('binary_accuracy', 0.9331859), ('recall', 0.17410251), ('precision', 0.69592947), ('loss', 0.18832444)]))])\n",
            "round 37, metrics=OrderedDict([('broadcast', ()), ('aggregation', OrderedDict([('value_sum_process', ()), ('weight_sum_process', ())])), ('train', OrderedDict([('binary_accuracy', 0.9333156), ('recall', 0.17625171), ('precision', 0.6974169), ('loss', 0.18784998)]))])\n",
            "round 38, metrics=OrderedDict([('broadcast', ()), ('aggregation', OrderedDict([('value_sum_process', ()), ('weight_sum_process', ())])), ('train', OrderedDict([('binary_accuracy', 0.9333972), ('recall', 0.17742157), ('precision', 0.69861454), ('loss', 0.1874264)]))])\n",
            "round 39, metrics=OrderedDict([('broadcast', ()), ('aggregation', OrderedDict([('value_sum_process', ()), ('weight_sum_process', ())])), ('train', OrderedDict([('binary_accuracy', 0.93354046), ('recall', 0.18069893), ('precision', 0.6988315), ('loss', 0.18681602)]))])\n",
            "round 40, metrics=OrderedDict([('broadcast', ()), ('aggregation', OrderedDict([('value_sum_process', ()), ('weight_sum_process', ())])), ('train', OrderedDict([('binary_accuracy', 0.9336748), ('recall', 0.18277967), ('precision', 0.7005077), ('loss', 0.18636931)]))])\n",
            "round 41, metrics=OrderedDict([('broadcast', ()), ('aggregation', OrderedDict([('value_sum_process', ()), ('weight_sum_process', ())])), ('train', OrderedDict([('binary_accuracy', 0.93380433), ('recall', 0.18468477), ('precision', 0.7022252), ('loss', 0.18588531)]))])\n",
            "round 42, metrics=OrderedDict([('broadcast', ()), ('aggregation', OrderedDict([('value_sum_process', ()), ('weight_sum_process', ())])), ('train', OrderedDict([('binary_accuracy', 0.9338648), ('recall', 0.1861761), ('precision', 0.7021972), ('loss', 0.18553835)]))])\n",
            "round 43, metrics=OrderedDict([('broadcast', ()), ('aggregation', OrderedDict([('value_sum_process', ()), ('weight_sum_process', ())])), ('train', OrderedDict([('binary_accuracy', 0.9340125), ('recall', 0.1884414), ('precision', 0.7039364), ('loss', 0.18506686)]))])\n",
            "round 44, metrics=OrderedDict([('broadcast', ()), ('aggregation', OrderedDict([('value_sum_process', ()), ('weight_sum_process', ())])), ('train', OrderedDict([('binary_accuracy', 0.9341516), ('recall', 0.19074835), ('precision', 0.7053074), ('loss', 0.18471587)]))])\n",
            "round 45, metrics=OrderedDict([('broadcast', ()), ('aggregation', OrderedDict([('value_sum_process', ()), ('weight_sum_process', ())])), ('train', OrderedDict([('binary_accuracy', 0.9342327), ('recall', 0.19193308), ('precision', 0.7064843), ('loss', 0.18434504)]))])\n",
            "round 46, metrics=OrderedDict([('broadcast', ()), ('aggregation', OrderedDict([('value_sum_process', ()), ('weight_sum_process', ())])), ('train', OrderedDict([('binary_accuracy', 0.9343525), ('recall', 0.19397512), ('precision', 0.707566), ('loss', 0.18385799)]))])\n",
            "round 47, metrics=OrderedDict([('broadcast', ()), ('aggregation', OrderedDict([('value_sum_process', ()), ('weight_sum_process', ())])), ('train', OrderedDict([('binary_accuracy', 0.9344633), ('recall', 0.19572245), ('precision', 0.7087223), ('loss', 0.18341567)]))])\n",
            "round 48, metrics=OrderedDict([('broadcast', ()), ('aggregation', OrderedDict([('value_sum_process', ()), ('weight_sum_process', ())])), ('train', OrderedDict([('binary_accuracy', 0.9345787), ('recall', 0.19744001), ('precision', 0.7101043), ('loss', 0.18301341)]))])\n",
            "round 49, metrics=OrderedDict([('broadcast', ()), ('aggregation', OrderedDict([('value_sum_process', ()), ('weight_sum_process', ())])), ('train', OrderedDict([('binary_accuracy', 0.9346638), ('recall', 0.19870512), ('precision', 0.7111445), ('loss', 0.18276924)]))])\n",
            "round 50, metrics=OrderedDict([('broadcast', ()), ('aggregation', OrderedDict([('value_sum_process', ()), ('weight_sum_process', ())])), ('train', OrderedDict([('binary_accuracy', 0.93479925), ('recall', 0.20130083), ('precision', 0.7118496), ('loss', 0.18229797)]))])\n",
            "round 51, metrics=OrderedDict([('broadcast', ()), ('aggregation', OrderedDict([('value_sum_process', ()), ('weight_sum_process', ())])), ('train', OrderedDict([('binary_accuracy', 0.9348757), ('recall', 0.20216408), ('precision', 0.71316063), ('loss', 0.18200235)]))])\n",
            "round 52, metrics=OrderedDict([('broadcast', ()), ('aggregation', OrderedDict([('value_sum_process', ()), ('weight_sum_process', ())])), ('train', OrderedDict([('binary_accuracy', 0.934994), ('recall', 0.20423885), ('precision', 0.7140612), ('loss', 0.1816363)]))])\n",
            "round 53, metrics=OrderedDict([('broadcast', ()), ('aggregation', OrderedDict([('value_sum_process', ()), ('weight_sum_process', ())])), ('train', OrderedDict([('binary_accuracy', 0.9351327), ('recall', 0.20637316), ('precision', 0.7155065), ('loss', 0.18131785)]))])\n",
            "round 54, metrics=OrderedDict([('broadcast', ()), ('aggregation', OrderedDict([('value_sum_process', ()), ('weight_sum_process', ())])), ('train', OrderedDict([('binary_accuracy', 0.9351851), ('recall', 0.20723046), ('precision', 0.71604013), ('loss', 0.18091615)]))])\n",
            "round 55, metrics=OrderedDict([('broadcast', ()), ('aggregation', OrderedDict([('value_sum_process', ()), ('weight_sum_process', ())])), ('train', OrderedDict([('binary_accuracy', 0.9352221), ('recall', 0.20851044), ('precision', 0.7153273), ('loss', 0.1807859)]))])\n",
            "round 56, metrics=OrderedDict([('broadcast', ()), ('aggregation', OrderedDict([('value_sum_process', ()), ('weight_sum_process', ())])), ('train', OrderedDict([('binary_accuracy', 0.93535405), ('recall', 0.21011193), ('precision', 0.7172981), ('loss', 0.18030538)]))])\n",
            "round 57, metrics=OrderedDict([('broadcast', ()), ('aggregation', OrderedDict([('value_sum_process', ()), ('weight_sum_process', ())])), ('train', OrderedDict([('binary_accuracy', 0.9354208), ('recall', 0.21159433), ('precision', 0.7172639), ('loss', 0.17994009)]))])\n",
            "round 58, metrics=OrderedDict([('broadcast', ()), ('aggregation', OrderedDict([('value_sum_process', ()), ('weight_sum_process', ())])), ('train', OrderedDict([('binary_accuracy', 0.9355358), ('recall', 0.21283264), ('precision', 0.7192841), ('loss', 0.17965458)]))])\n",
            "round 59, metrics=OrderedDict([('broadcast', ()), ('aggregation', OrderedDict([('value_sum_process', ()), ('weight_sum_process', ())])), ('train', OrderedDict([('binary_accuracy', 0.93561876), ('recall', 0.21446687), ('precision', 0.7195877), ('loss', 0.17931229)]))])\n",
            "round 60, metrics=OrderedDict([('broadcast', ()), ('aggregation', OrderedDict([('value_sum_process', ()), ('weight_sum_process', ())])), ('train', OrderedDict([('binary_accuracy', 0.935687), ('recall', 0.21528547), ('precision', 0.72057825), ('loss', 0.17904095)]))])\n",
            "round 61, metrics=OrderedDict([('broadcast', ()), ('aggregation', OrderedDict([('value_sum_process', ()), ('weight_sum_process', ())])), ('train', OrderedDict([('binary_accuracy', 0.9357813), ('recall', 0.21695541), ('precision', 0.7212025), ('loss', 0.17867029)]))])\n",
            "round 62, metrics=OrderedDict([('broadcast', ()), ('aggregation', OrderedDict([('value_sum_process', ()), ('weight_sum_process', ())])), ('train', OrderedDict([('binary_accuracy', 0.9358813), ('recall', 0.21861939), ('precision', 0.721912), ('loss', 0.17832167)]))])\n",
            "round 63, metrics=OrderedDict([('broadcast', ()), ('aggregation', OrderedDict([('value_sum_process', ()), ('weight_sum_process', ())])), ('train', OrderedDict([('binary_accuracy', 0.935919), ('recall', 0.21860749), ('precision', 0.7231878), ('loss', 0.17811087)]))])\n",
            "round 64, metrics=OrderedDict([('broadcast', ()), ('aggregation', OrderedDict([('value_sum_process', ()), ('weight_sum_process', ())])), ('train', OrderedDict([('binary_accuracy', 0.93605226), ('recall', 0.2205632), ('precision', 0.7246482), ('loss', 0.17776404)]))])\n",
            "round 65, metrics=OrderedDict([('broadcast', ()), ('aggregation', OrderedDict([('value_sum_process', ()), ('weight_sum_process', ())])), ('train', OrderedDict([('binary_accuracy', 0.9361452), ('recall', 0.2232601), ('precision', 0.7235664), ('loss', 0.177489)]))])\n",
            "round 66, metrics=OrderedDict([('broadcast', ()), ('aggregation', OrderedDict([('value_sum_process', ()), ('weight_sum_process', ())])), ('train', OrderedDict([('binary_accuracy', 0.9362635), ('recall', 0.22530809), ('precision', 0.72441715), ('loss', 0.1772051)]))])\n",
            "round 67, metrics=OrderedDict([('broadcast', ()), ('aggregation', OrderedDict([('value_sum_process', ()), ('weight_sum_process', ())])), ('train', OrderedDict([('binary_accuracy', 0.93635994), ('recall', 0.22641543), ('precision', 0.725824), ('loss', 0.1768322)]))])\n",
            "round 68, metrics=OrderedDict([('broadcast', ()), ('aggregation', OrderedDict([('value_sum_process', ()), ('weight_sum_process', ())])), ('train', OrderedDict([('binary_accuracy', 0.93640053), ('recall', 0.22627255), ('precision', 0.72728837), ('loss', 0.17660682)]))])\n",
            "round 69, metrics=OrderedDict([('broadcast', ()), ('aggregation', OrderedDict([('value_sum_process', ()), ('weight_sum_process', ())])), ('train', OrderedDict([('binary_accuracy', 0.9364836), ('recall', 0.22765078), ('precision', 0.72789484), ('loss', 0.17630716)]))])\n",
            "round 70, metrics=OrderedDict([('broadcast', ()), ('aggregation', OrderedDict([('value_sum_process', ()), ('weight_sum_process', ())])), ('train', OrderedDict([('binary_accuracy', 0.93664527), ('recall', 0.23249687), ('precision', 0.72600436), ('loss', 0.17597193)]))])\n",
            "round 71, metrics=OrderedDict([('broadcast', ()), ('aggregation', OrderedDict([('value_sum_process', ()), ('weight_sum_process', ())])), ('train', OrderedDict([('binary_accuracy', 0.93673176), ('recall', 0.23334822), ('precision', 0.7273782), ('loss', 0.17570104)]))])\n",
            "round 72, metrics=OrderedDict([('broadcast', ()), ('aggregation', OrderedDict([('value_sum_process', ()), ('weight_sum_process', ())])), ('train', OrderedDict([('binary_accuracy', 0.93691945), ('recall', 0.23879264), ('precision', 0.72554606), ('loss', 0.17542468)]))])\n",
            "round 73, metrics=OrderedDict([('broadcast', ()), ('aggregation', OrderedDict([('value_sum_process', ()), ('weight_sum_process', ())])), ('train', OrderedDict([('binary_accuracy', 0.937147), ('recall', 0.24324581), ('precision', 0.72614497), ('loss', 0.17513382)]))])\n",
            "round 74, metrics=OrderedDict([('broadcast', ()), ('aggregation', OrderedDict([('value_sum_process', ()), ('weight_sum_process', ())])), ('train', OrderedDict([('binary_accuracy', 0.93714905), ('recall', 0.24349883), ('precision', 0.7259456), ('loss', 0.17489463)]))])\n",
            "round 75, metrics=OrderedDict([('broadcast', ()), ('aggregation', OrderedDict([('value_sum_process', ()), ('weight_sum_process', ())])), ('train', OrderedDict([('binary_accuracy', 0.9372867), ('recall', 0.24720784), ('precision', 0.72489613), ('loss', 0.17467564)]))])\n",
            "round 76, metrics=OrderedDict([('broadcast', ()), ('aggregation', OrderedDict([('value_sum_process', ()), ('weight_sum_process', ())])), ('train', OrderedDict([('binary_accuracy', 0.9373832), ('recall', 0.24877657), ('precision', 0.7255569), ('loss', 0.17449754)]))])\n",
            "round 77, metrics=OrderedDict([('broadcast', ()), ('aggregation', OrderedDict([('value_sum_process', ()), ('weight_sum_process', ())])), ('train', OrderedDict([('binary_accuracy', 0.93748546), ('recall', 0.2513157), ('precision', 0.72514343), ('loss', 0.17428349)]))])\n",
            "round 78, metrics=OrderedDict([('broadcast', ()), ('aggregation', OrderedDict([('value_sum_process', ()), ('weight_sum_process', ())])), ('train', OrderedDict([('binary_accuracy', 0.93752605), ('recall', 0.2529678), ('precision', 0.7242249), ('loss', 0.1739491)]))])\n",
            "round 79, metrics=OrderedDict([('broadcast', ()), ('aggregation', OrderedDict([('value_sum_process', ()), ('weight_sum_process', ())])), ('train', OrderedDict([('binary_accuracy', 0.9377435), ('recall', 0.25961185), ('precision', 0.72179693), ('loss', 0.17361736)]))])\n",
            "round 80, metrics=OrderedDict([('broadcast', ()), ('aggregation', OrderedDict([('value_sum_process', ()), ('weight_sum_process', ())])), ('train', OrderedDict([('binary_accuracy', 0.9378543), ('recall', 0.26149014), ('precision', 0.72249866), ('loss', 0.17339489)]))])\n"
          ],
          "name": "stdout"
        }
      ]
    },
    {
      "cell_type": "markdown",
      "metadata": {
        "id": "PA4yp86ex9NK"
      },
      "source": [
        "# Model evaluation"
      ]
    },
    {
      "cell_type": "markdown",
      "metadata": {
        "id": "LZ_L_WaVzGX4"
      },
      "source": [
        "Evaluation del modello sui test data. "
      ]
    },
    {
      "cell_type": "code",
      "metadata": {
        "id": "j-43k3etjd8P"
      },
      "source": [
        "evaluation = tff.learning.build_federated_evaluation(model_fn)\n",
        "train_metrics = evaluation(state.model, federated_train_data)"
      ],
      "execution_count": 31,
      "outputs": []
    },
    {
      "cell_type": "code",
      "metadata": {
        "id": "ECb3PNHFjk_k"
      },
      "source": [
        "federated_test_data = make_federated_data(test_set)"
      ],
      "execution_count": 32,
      "outputs": []
    },
    {
      "cell_type": "code",
      "metadata": {
        "id": "GoNPIG8Qj0G8",
        "colab": {
          "base_uri": "https://localhost:8080/",
          "height": 53
        },
        "outputId": "25466416-62a6-45a3-f8f9-d2de730c0c78"
      },
      "source": [
        "test_metrics = evaluation(state.model, federated_test_data)\n",
        "str(test_metrics)"
      ],
      "execution_count": 33,
      "outputs": [
        {
          "output_type": "execute_result",
          "data": {
            "application/vnd.google.colaboratory.intrinsic+json": {
              "type": "string"
            },
            "text/plain": [
              "\"OrderedDict([('binary_accuracy', 0.9625028), ('recall', 0.27922472), ('precision', 0.42527676), ('loss', 0.12988283)])\""
            ]
          },
          "metadata": {
            "tags": []
          },
          "execution_count": 33
        }
      ]
    },
    {
      "cell_type": "markdown",
      "metadata": {
        "id": "m2TBCVOYzJal"
      },
      "source": [
        "Board di tensorboad, per visualizzare la loss e le metriche in modo interattivo. "
      ]
    },
    {
      "cell_type": "code",
      "metadata": {
        "id": "ezubvjWqluK-"
      },
      "source": [
        "# logdir = \"/tmp/logs/scalars/training/\"\n",
        "# summary_writer = tf.summary.create_file_writer(logdir)\n",
        "# state = iterative_process.initialize()\n",
        "# with summary_writer.as_default():\n",
        "#   for round_num in range(1, NUM_ROUNDS):\n",
        "#     state, metrics = iterative_process.next(state, federated_train_data)\n",
        "#     for name, value in metrics['train'].items():\n",
        "#       tf.summary.scalar(name, value, step=round_num)"
      ],
      "execution_count": 34,
      "outputs": []
    },
    {
      "cell_type": "code",
      "metadata": {
        "id": "pM1FgnQao2-h"
      },
      "source": [
        "# !ls {logdir}\n",
        "# %tensorboard --logdir {logdir} --port=0"
      ],
      "execution_count": 35,
      "outputs": []
    }
  ]
}