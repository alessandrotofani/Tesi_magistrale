{
  "nbformat": 4,
  "nbformat_minor": 0,
  "metadata": {
    "colab": {
      "name": "6_Federated.ipynb",
      "provenance": [],
      "authorship_tag": "ABX9TyNnstRuQu951onGordwOi7Q",
      "include_colab_link": true
    },
    "kernelspec": {
      "name": "python3",
      "display_name": "Python 3"
    },
    "accelerator": "GPU"
  },
  "cells": [
    {
      "cell_type": "markdown",
      "metadata": {
        "id": "view-in-github",
        "colab_type": "text"
      },
      "source": [
        "<a href=\"https://colab.research.google.com/github/alessandrotofani/Tesi_magistrale/blob/master/6_Federated_Embedding_Extraction.ipynb\" target=\"_parent\"><img src=\"https://colab.research.google.com/assets/colab-badge.svg\" alt=\"Open In Colab\"/></a>"
      ]
    },
    {
      "cell_type": "markdown",
      "metadata": {
        "id": "2XuZ_oMl43ft"
      },
      "source": [
        "Overview: https://www.tensorflow.org/federated\r\n",
        "\r\n",
        "Image classification tutorial: https://www.tensorflow.org/federated/tutorials/federated_learning_for_image_classification"
      ]
    },
    {
      "cell_type": "markdown",
      "metadata": {
        "id": "qOKJPHxH4j9j"
      },
      "source": [
        "# Installation"
      ]
    },
    {
      "cell_type": "code",
      "metadata": {
        "id": "lgkJJpzD4gVs"
      },
      "source": [
        "!pip install --quiet fastai==2.2.5\r\n",
        "!pip install --quiet folium==0.2.1\r\n",
        "!pip install --quiet imgaug==0.2.5\r\n",
        "!pip install --quiet tensorflow==2.3.0\r\n",
        "!pip install --quiet tensorflow_federated==0.17.0\r\n",
        "!pip install --quiet --upgrade nest_asyncio"
      ],
      "execution_count": 1,
      "outputs": []
    },
    {
      "cell_type": "code",
      "metadata": {
        "id": "C6Oguz1e4p29"
      },
      "source": [
        "import nest_asyncio\r\n",
        "nest_asyncio.apply()\r\n",
        "%load_ext tensorboard"
      ],
      "execution_count": 2,
      "outputs": []
    },
    {
      "cell_type": "code",
      "metadata": {
        "id": "0u_qzOek4tlY",
        "colab": {
          "base_uri": "https://localhost:8080/"
        },
        "outputId": "5a147b2d-a350-4406-c361-802dc1f731f4"
      },
      "source": [
        "import collections\r\n",
        "import numpy as np\r\n",
        "import tensorflow as tf\r\n",
        "import tensorflow_federated as tff\r\n",
        "import pandas as pd \r\n",
        "import os\r\n",
        "from google.colab import drive\r\n",
        "drive.mount('/content/drive')"
      ],
      "execution_count": 3,
      "outputs": [
        {
          "output_type": "stream",
          "text": [
            "Drive already mounted at /content/drive; to attempt to forcibly remount, call drive.mount(\"/content/drive\", force_remount=True).\n"
          ],
          "name": "stdout"
        }
      ]
    },
    {
      "cell_type": "code",
      "metadata": {
        "id": "a5VvCBjWmrJC"
      },
      "source": [
        "import sys \n",
        "sys.path.append('/content/drive/MyDrive/Tesi_magistrale/Tesi_magistrale')\n",
        "import mf\n",
        "\n",
        "import warnings\n",
        "warnings.simplefilter(action='ignore', category=FutureWarning)"
      ],
      "execution_count": 4,
      "outputs": []
    },
    {
      "cell_type": "markdown",
      "metadata": {
        "id": "NDXvW9iFxqft"
      },
      "source": [
        "# Import data"
      ]
    },
    {
      "cell_type": "markdown",
      "metadata": {
        "id": "P8nvRkt1yB7_"
      },
      "source": [
        "I dati vengono importati e poi splittati in train e test. "
      ]
    },
    {
      "cell_type": "code",
      "metadata": {
        "id": "nU2jrVgkla8Y"
      },
      "source": [
        "data = pd.read_csv('/content/drive/MyDrive/Tesi_magistrale/Dataset/IEEE/Output/data.csv')\n",
        "data = mf.new_processing(data)\n",
        "col_name = mf.get_col(data)"
      ],
      "execution_count": 5,
      "outputs": []
    },
    {
      "cell_type": "code",
      "metadata": {
        "colab": {
          "base_uri": "https://localhost:8080/"
        },
        "id": "XtEnrz70T013",
        "outputId": "905b39e4-9a59-4267-d7f9-d0fe6fdd55de"
      },
      "source": [
        "print('Rate safe/fraud:', (1/mf.ratio(data)).round(3))"
      ],
      "execution_count": 6,
      "outputs": [
        {
          "output_type": "stream",
          "text": [
            "Rate safe/fraud: 0.036\n"
          ],
          "name": "stdout"
        }
      ]
    },
    {
      "cell_type": "code",
      "metadata": {
        "id": "ENsVg9iBZQ0h"
      },
      "source": [
        "data, categorical_col_toemb, numerical_col = mf.labelEncoding(data, merge = True)\n",
        "col_name = mf.get_col(data)"
      ],
      "execution_count": 7,
      "outputs": []
    },
    {
      "cell_type": "code",
      "metadata": {
        "id": "4Od2G2GXmbuw"
      },
      "source": [
        "input_size = {}\n",
        "for col in categorical_col_toemb:\n",
        "  input_size[col] = int(data[col].max() + 1)"
      ],
      "execution_count": 8,
      "outputs": []
    },
    {
      "cell_type": "code",
      "metadata": {
        "id": "FwLvcxedva43",
        "colab": {
          "base_uri": "https://localhost:8080/"
        },
        "outputId": "9dfcb4ed-f598-446c-83dd-433329c29497"
      },
      "source": [
        "input_size"
      ],
      "execution_count": 9,
      "outputs": [
        {
          "output_type": "execute_result",
          "data": {
            "text/plain": [
              "{'P_emaildomain': 61,\n",
              " 'R_emaildomain': 62,\n",
              " 'browser_name': 41,\n",
              " 'device_name': 15,\n",
              " 'device_version': 295,\n",
              " 'os_name': 9}"
            ]
          },
          "metadata": {
            "tags": []
          },
          "execution_count": 9
        }
      ]
    },
    {
      "cell_type": "code",
      "metadata": {
        "id": "ALxYKHaMJSa1"
      },
      "source": [
        "from sklearn.model_selection import train_test_split\n",
        "import tensorflow as tf\n",
        "from tensorflow import keras\n",
        "from tensorflow.keras import models\n",
        "from tensorflow.keras import layers\n",
        "\n",
        "def underSampling(data, frac_under=0.3):\n",
        "  from imblearn.under_sampling import RandomUnderSampler \n",
        "  us = RandomUnderSampler(sampling_strategy=frac_under, random_state=42)\n",
        "  y = data['isFraud']\n",
        "  X = data.drop(columns = ['isFraud'])\n",
        "  X_us, y_us = us.fit_resample(X, y)\n",
        "  return X_us, y_us\n",
        "\n",
        "def overSampling(X, y = None, frac_over=0.4):\n",
        "  from imblearn.over_sampling import SMOTE\n",
        "  if y == None:\n",
        "    y = X['isFraud']\n",
        "    X = X.drop(columns=['isFraud'])\n",
        "  sm = SMOTE(sampling_strategy=frac_over, random_state=42)\n",
        "  X_sm, y_sm = sm.fit_resample(X, y)  \n",
        "  return X_sm, y_sm\n",
        "\n",
        "def rate(y):\n",
        "  n_fraud = np.count_nonzero(y == 1)\n",
        "  n_safe = np.shape(y)[0] - n_fraud\n",
        "  return f'Rate safe/fraud: {n_safe/n_fraud}'\n",
        "\n",
        "def get_keras_dataset(X, cols):\n",
        "  df = pd.DataFrame(data=X, columns=cols)\n",
        "  X = {str(col) : np.array(df[col]) for col in df.columns}\n",
        "  return X\n",
        "\n",
        "def get_server_data(data, frac=0.2):\n",
        "  indici = np.arange(0,data.index[-1]+1, dtype=int)\n",
        "  server_id = np.random.choice(indici, int(len(indici)*frac))\n",
        "  client_id = [id for id in indici if id not in server_id]\n",
        "  return data.iloc[server_id,:], data.iloc[client_id,:]"
      ],
      "execution_count": 32,
      "outputs": []
    },
    {
      "cell_type": "code",
      "metadata": {
        "id": "YOJnEsf-KyTY"
      },
      "source": [
        "def server_embedding_model(data, input_size, epochs=20, performance=True):\n",
        "  from sklearn.metrics import f1_score, recall_score, precision_score\n",
        "\n",
        "  y = data['isFraud']\n",
        "  X = data.drop(columns = ['isFraud'])\n",
        "  X_train, X_test, y_train, y_test = train_test_split(X, y, test_size = 0.2)\n",
        "  X_train, y_train = overSampling(X_train, y_train)\n",
        "  X_train, X_val, y_train, y_val = train_test_split(X_train, y_train, test_size=0.25, random_state=42)\n",
        "\n",
        "  keras.backend.clear_session()\n",
        "  # Embedding for categorical features\n",
        "  cols = mf.get_col(data)\n",
        "  categorical_input = []\n",
        "  numerical_input = []\n",
        "  embeddings = []\n",
        "  embedding_layer_names = []\n",
        "  for col in categorical_col_toemb:\n",
        "  # for col in categorical_col:\n",
        "      _input = layers.Input(shape=[1], name=col)\n",
        "      _embed = layers.Embedding(input_size[col], 3, name=col+'_emb')(_input)\n",
        "      categorical_input.append(_input)\n",
        "      embeddings.append(_embed)\n",
        "      embedding_layer_names.append(col+'_emb')\n",
        "      \n",
        "  # Simple inputs for the numeric features\n",
        "  for col in numerical_col:\n",
        "      numeric_input = layers.Input(shape=(1,), name=col)\n",
        "      numerical_input.append(numeric_input)\n",
        "      \n",
        "  # Merge the numeric inputs\n",
        "  merged_num_inputs = layers.concatenate(numerical_input)\n",
        "\n",
        "  # Merge embedding and use a Droput to prevent overfittting\n",
        "  merged_inputs = layers.concatenate(embeddings)\n",
        "  spatial_dropout = layers.SpatialDropout1D(0.6)(merged_inputs) # 0.2\n",
        "  flat_embed = layers.Flatten()(spatial_dropout)\n",
        "\n",
        "  # Merge embedding and numeric features\n",
        "  all_features = layers.concatenate([flat_embed, merged_num_inputs])\n",
        "\n",
        "  # MLP for classification\n",
        "  x = layers.Dense(240, activation='relu')(all_features) #360\n",
        "  x = layers.BatchNormalization()(x)\n",
        "  x = layers.Dropout(0.4)(x) \n",
        "\n",
        "  # Final model\n",
        "  output = layers.Dense(1, activation='sigmoid')(x)\n",
        "  model = models.Model(inputs=categorical_input + numerical_input, outputs=output)\n",
        "  model.compile(loss='binary_crossentropy', optimizer='adam', metrics=['accuracy',tf.keras.metrics.Recall(), tf.keras.metrics.Precision()])\n",
        "  print('***************************************************************')\n",
        "  print('Model\\'s training')\n",
        "  history = model.fit(get_keras_dataset(X_train, cols), y_train, epochs=epochs, \n",
        "      batch_size=1024, validation_data=(get_keras_dataset(X_val, cols),y_val),\n",
        "      verbose=1,shuffle = True , class_weight = {0: 0.5, 1: 4} )\n",
        "\n",
        "  if performance:\n",
        "    y_pred = model.predict(get_keras_dataset(X_test, cols))\n",
        "    mf.plot_cm(y_test, y_pred, 'Blues')\n",
        "    mf.plot_roc(\"ROC curve\", y_test, y_pred,color='blue')\n",
        "    print('***************************************************************')\n",
        "    print('Model\\'s performances')\n",
        "    y_predicted = [1 if n >= 0.5 else 0 for n in y_pred ]\n",
        "    print('F1 score: ',f1_score(y_test, y_predicted, average=\"binary\"))\n",
        "    print('Recall: ', recall_score(y_test, y_predicted, average='binary'))\n",
        "    print('Precision: ', precision_score(y_test, y_predicted,  average='binary'))\n",
        "  return model"
      ],
      "execution_count": 11,
      "outputs": []
    },
    {
      "cell_type": "code",
      "metadata": {
        "id": "1PIkfQymM4Ph"
      },
      "source": [
        "server_data, client_data = get_server_data(data, frac=0.2)"
      ],
      "execution_count": 12,
      "outputs": []
    },
    {
      "cell_type": "code",
      "metadata": {
        "id": "ENdbYS1kKAsJ",
        "outputId": "385446f8-d74a-4b70-d5d6-6b294117fc68",
        "colab": {
          "base_uri": "https://localhost:8080/",
          "height": 1000
        }
      },
      "source": [
        "server_model = server_embedding_model(server_data, input_size)"
      ],
      "execution_count": 13,
      "outputs": [
        {
          "output_type": "stream",
          "text": [
            "***************************************************************\n",
            "Model's training\n",
            "Epoch 1/20\n",
            "71/71 [==============================] - 4s 53ms/step - loss: 0.4068 - accuracy: 0.7308 - recall: 0.5909 - precision: 0.1017 - val_loss: 0.4364 - val_accuracy: 0.9547 - val_recall: 0.0845 - val_precision: 0.6333\n",
            "Epoch 2/20\n",
            "71/71 [==============================] - 2s 35ms/step - loss: 0.3297 - accuracy: 0.8700 - recall: 0.4758 - precision: 0.1782 - val_loss: 0.2807 - val_accuracy: 0.9545 - val_recall: 0.0489 - val_precision: 0.7432\n",
            "Epoch 3/20\n",
            "71/71 [==============================] - 2s 34ms/step - loss: 0.3135 - accuracy: 0.8843 - recall: 0.4790 - precision: 0.2015 - val_loss: 0.2712 - val_accuracy: 0.9542 - val_recall: 0.1557 - val_precision: 0.5435\n",
            "Epoch 4/20\n",
            "71/71 [==============================] - 2s 35ms/step - loss: 0.3064 - accuracy: 0.8905 - recall: 0.4846 - precision: 0.2146 - val_loss: 0.2605 - val_accuracy: 0.9496 - val_recall: 0.2536 - val_precision: 0.4378\n",
            "Epoch 5/20\n",
            "71/71 [==============================] - 2s 34ms/step - loss: 0.2995 - accuracy: 0.8964 - recall: 0.4945 - precision: 0.2294 - val_loss: 0.2852 - val_accuracy: 0.9462 - val_recall: 0.2972 - val_precision: 0.4024\n",
            "Epoch 6/20\n",
            "71/71 [==============================] - 2s 32ms/step - loss: 0.2930 - accuracy: 0.8998 - recall: 0.4988 - precision: 0.2382 - val_loss: 0.2546 - val_accuracy: 0.9331 - val_recall: 0.3790 - val_precision: 0.3205\n",
            "Epoch 7/20\n",
            "71/71 [==============================] - 2s 34ms/step - loss: 0.2901 - accuracy: 0.9026 - recall: 0.5146 - precision: 0.2492 - val_loss: 0.2833 - val_accuracy: 0.9046 - val_recall: 0.5205 - val_precision: 0.2512\n",
            "Epoch 8/20\n",
            "71/71 [==============================] - 2s 35ms/step - loss: 0.2889 - accuracy: 0.9027 - recall: 0.5172 - precision: 0.2501 - val_loss: 0.2743 - val_accuracy: 0.9115 - val_recall: 0.4938 - val_precision: 0.2640\n",
            "Epoch 9/20\n",
            "71/71 [==============================] - 2s 35ms/step - loss: 0.2895 - accuracy: 0.9022 - recall: 0.5163 - precision: 0.2486 - val_loss: 0.3182 - val_accuracy: 0.8998 - val_recall: 0.5676 - val_precision: 0.2502\n",
            "Epoch 10/20\n",
            "71/71 [==============================] - 2s 34ms/step - loss: 0.2850 - accuracy: 0.9035 - recall: 0.5166 - precision: 0.2518 - val_loss: 0.2506 - val_accuracy: 0.9281 - val_recall: 0.4217 - val_precision: 0.3068\n",
            "Epoch 11/20\n",
            "71/71 [==============================] - 2s 34ms/step - loss: 0.2826 - accuracy: 0.9066 - recall: 0.5204 - precision: 0.2609 - val_loss: 0.2696 - val_accuracy: 0.9212 - val_recall: 0.4956 - val_precision: 0.2969\n",
            "Epoch 12/20\n",
            "71/71 [==============================] - 2s 35ms/step - loss: 0.2806 - accuracy: 0.9066 - recall: 0.5227 - precision: 0.2614 - val_loss: 0.3721 - val_accuracy: 0.8640 - val_recall: 0.6557 - val_precision: 0.2046\n",
            "Epoch 13/20\n",
            "71/71 [==============================] - 2s 32ms/step - loss: 0.2806 - accuracy: 0.9074 - recall: 0.5312 - precision: 0.2657 - val_loss: 0.2356 - val_accuracy: 0.9330 - val_recall: 0.4395 - val_precision: 0.3370\n",
            "Epoch 14/20\n",
            "71/71 [==============================] - 2s 31ms/step - loss: 0.2800 - accuracy: 0.9089 - recall: 0.5259 - precision: 0.2687 - val_loss: 0.2584 - val_accuracy: 0.9180 - val_recall: 0.4902 - val_precision: 0.2842\n",
            "Epoch 15/20\n",
            "71/71 [==============================] - 2s 34ms/step - loss: 0.2783 - accuracy: 0.9053 - recall: 0.5388 - precision: 0.2618 - val_loss: 0.2183 - val_accuracy: 0.9288 - val_recall: 0.4609 - val_precision: 0.3205\n",
            "Epoch 16/20\n",
            "71/71 [==============================] - 2s 34ms/step - loss: 0.2771 - accuracy: 0.9079 - recall: 0.5315 - precision: 0.2671 - val_loss: 0.1926 - val_accuracy: 0.9431 - val_recall: 0.4075 - val_precision: 0.3969\n",
            "Epoch 17/20\n",
            "71/71 [==============================] - 2s 34ms/step - loss: 0.2765 - accuracy: 0.9063 - recall: 0.5388 - precision: 0.2646 - val_loss: 0.1914 - val_accuracy: 0.9440 - val_recall: 0.3754 - val_precision: 0.3985\n",
            "Epoch 18/20\n",
            "71/71 [==============================] - 2s 35ms/step - loss: 0.2748 - accuracy: 0.9092 - recall: 0.5396 - precision: 0.2729 - val_loss: 0.2840 - val_accuracy: 0.8981 - val_recall: 0.5516 - val_precision: 0.2429\n",
            "Epoch 19/20\n",
            "71/71 [==============================] - 2s 35ms/step - loss: 0.2764 - accuracy: 0.9091 - recall: 0.5390 - precision: 0.2723 - val_loss: 0.2659 - val_accuracy: 0.8994 - val_recall: 0.5347 - val_precision: 0.2419\n",
            "Epoch 20/20\n",
            "71/71 [==============================] - 2s 33ms/step - loss: 0.2745 - accuracy: 0.9082 - recall: 0.5492 - precision: 0.2722 - val_loss: 0.2834 - val_accuracy: 0.9131 - val_recall: 0.5356 - val_precision: 0.2790\n"
          ],
          "name": "stdout"
        },
        {
          "output_type": "display_data",
          "data": {
            "image/png": "[encoded data removed]",
            "text/plain": [
              "<Figure size 360x360 with 2 Axes>"
            ]
          },
          "metadata": {
            "tags": [],
            "needs_background": "light"
          }
        },
        {
          "output_type": "stream",
          "text": [
            "AUC:  0.8406548008155921\n",
            "***************************************************************\n",
            "Model's performances\n",
            "F1 score:  0.2942920681986657\n",
            "Recall:  0.5149156939040207\n",
            "Precision:  0.2060197197716658\n"
          ],
          "name": "stdout"
        },
        {
          "output_type": "display_data",
          "data": {
            "image/png": "[encoded data removed]",
            "text/plain": [
              "<Figure size 432x288 with 1 Axes>"
            ]
          },
          "metadata": {
            "tags": [],
            "needs_background": "light"
          }
        }
      ]
    },
    {
      "cell_type": "markdown",
      "metadata": {
        "id": "SEP2tgXTNKDP"
      },
      "source": [
        "Estrarre i layer di embedding e trasformare i dati. "
      ]
    },
    {
      "cell_type": "code",
      "metadata": {
        "id": "4-l8se9tSZLX"
      },
      "source": [
        "def client_data_embedding(data, server_model):\n",
        "  embeddings = {}\n",
        "  for i in range(6,12):\n",
        "    embeddings[server_model.layers[i].name[:-4]] = server_model.layers[i].get_weights()[0] #https://stackoverflow.com/questions/51235118/how-to-get-word-vectors-from-keras-embedding-layer\n",
        "  new_data = data.copy()\n",
        "  new_cols = []\n",
        "  for col in categorical_col_toemb:\n",
        "    for i in range(1,4):\n",
        "      new_col = col + '_'+str(i)\n",
        "      new_cols.append(new_col)\n",
        "  x = {}\n",
        "  for i in new_cols:\n",
        "    x[i] = {}\n",
        "  for col in x:\n",
        "    for i in range(len(embeddings[col[:-2]])):\n",
        "      j = int(col[-1])\n",
        "      x[col][i+1] = embeddings[col[:-2]][i][j-1]\n",
        "  for col in x:\n",
        "    new_data[col] = new_data[col[:-2]]\n",
        "  for col in x:\n",
        "    new_data[col].replace(to_replace=x[col], inplace=True)\n",
        "  return new_data"
      ],
      "execution_count": 23,
      "outputs": []
    },
    {
      "cell_type": "code",
      "metadata": {
        "id": "giaj1KEL4wct"
      },
      "source": [
        "client_data_embedded = client_data_embedding(client_data, server_model)"
      ],
      "execution_count": 25,
      "outputs": []
    },
    {
      "cell_type": "code",
      "metadata": {
        "id": "InAYt4jcL1-Y"
      },
      "source": [
        "train_data, test_data = train_test_split(client_data_embedded, test_size=0.1)"
      ],
      "execution_count": 28,
      "outputs": []
    },
    {
      "cell_type": "code",
      "metadata": {
        "id": "v4cddCAqK4pY"
      },
      "source": [
        "# X, y = underSampling(train_data)\n",
        "# rate(y)"
      ],
      "execution_count": 29,
      "outputs": []
    },
    {
      "cell_type": "code",
      "metadata": {
        "id": "LqiPC-MkK_BX",
        "colab": {
          "base_uri": "https://localhost:8080/",
          "height": 35
        },
        "outputId": "275d11ee-9c1c-409a-9cfa-e419565c440b"
      },
      "source": [
        "X, y = overSampling(train_data)\n",
        "rate(y)"
      ],
      "execution_count": 33,
      "outputs": [
        {
          "output_type": "execute_result",
          "data": {
            "application/vnd.google.colaboratory.intrinsic+json": {
              "type": "string"
            },
            "text/plain": [
              "'Rate safe/fraud: 20.000905063592626'"
            ]
          },
          "metadata": {
            "tags": []
          },
          "execution_count": 33
        }
      ]
    },
    {
      "cell_type": "code",
      "metadata": {
        "id": "CHpsO2hJLFeR"
      },
      "source": [
        "cols = mf.get_col(client_data_embedded)\n",
        "train_data = mf.mergeResult(X, y, cols)"
      ],
      "execution_count": 35,
      "outputs": []
    },
    {
      "cell_type": "code",
      "metadata": {
        "colab": {
          "base_uri": "https://localhost:8080/"
        },
        "id": "2bpOGbYXMAwY",
        "outputId": "e2232851-69f6-4d44-d6b2-4c185ab0ef4c"
      },
      "source": [
        "print('Dataset size:', train_data.shape[0])"
      ],
      "execution_count": 36,
      "outputs": [
        {
          "output_type": "stream",
          "text": [
            "Dataset size: 440872\n"
          ],
          "name": "stdout"
        }
      ]
    },
    {
      "cell_type": "code",
      "metadata": {
        "id": "GawBnA83QyYj"
      },
      "source": [
        "del client_data_embedded, client_data, server_data, X, y"
      ],
      "execution_count": 37,
      "outputs": []
    },
    {
      "cell_type": "markdown",
      "metadata": {
        "id": "AhZXxAzVxt5B"
      },
      "source": [
        "# Convert data"
      ]
    },
    {
      "cell_type": "markdown",
      "metadata": {
        "id": "KyqEukFeyHXA"
      },
      "source": [
        "Il dataset deve essere convertito in un tensore, con componenti (feature_vector, label). "
      ]
    },
    {
      "cell_type": "code",
      "metadata": {
        "id": "LuQfRXzrqoW2"
      },
      "source": [
        "def to_tensor(data, cols, n_clients = 5):\n",
        "  shuffled = data.sample(frac=1)\n",
        "  result = np.array_split(shuffled, n_clients)  \n",
        "\n",
        "  res = []\n",
        "  label = []\n",
        "\n",
        "  for dataset in result:\n",
        "    label.append(dataset['isFraud'])\n",
        "    res.append(dataset.drop(columns = ['isFraud']))\n",
        "\n",
        "  dataset = {}\n",
        "  for i in range(n_clients):\n",
        "    dataset[i] = tf.data.Dataset.from_tensor_slices((res[i], label[i]))\n",
        "\n",
        "  return dataset"
      ],
      "execution_count": 40,
      "outputs": []
    },
    {
      "cell_type": "code",
      "metadata": {
        "id": "LozyQwZOrCub"
      },
      "source": [
        "dataset = to_tensor(train_data, cols)\n",
        "test_set = to_tensor(test_data, cols)"
      ],
      "execution_count": 41,
      "outputs": []
    },
    {
      "cell_type": "code",
      "metadata": {
        "id": "U0_iMvxDQs6l"
      },
      "source": [
        "# del train_data, test_data"
      ],
      "execution_count": null,
      "outputs": []
    },
    {
      "cell_type": "markdown",
      "metadata": {
        "id": "PbRUraJkxzmR"
      },
      "source": [
        "# Federated data"
      ]
    },
    {
      "cell_type": "markdown",
      "metadata": {
        "id": "wWq8QN4vyP1t"
      },
      "source": [
        "Si definisce la funzione di preprocessing del dataset, che serve a creare l'OrderedDict, su cui si andranno a creare le batch necessarie per il training del modello. "
      ]
    },
    {
      "cell_type": "code",
      "metadata": {
        "id": "vHxlJrXRs9qP"
      },
      "source": [
        "NUM_CLIENTS = 5\n",
        "NUM_EPOCHS = 10\n",
        "BATCH_SIZE = 500 #250\n",
        "SHUFFLE_BUFFER = 10\n",
        "PREFETCH_BUFFER = 10\n",
        "\n",
        "def preprocess(dataset):\n",
        "  def batch_format_fn(e1, e2):\n",
        "    return collections.OrderedDict(\n",
        "        x = tf.cast(e1, tf.float32),\n",
        "        y = tf.cast(e2, tf.int32))\n",
        "  return dataset.repeat(NUM_EPOCHS).shuffle(SHUFFLE_BUFFER).batch(\n",
        "      BATCH_SIZE).map(batch_format_fn).prefetch(PREFETCH_BUFFER)\n",
        "\n",
        "preprocessed_example_dataset = preprocess(dataset[0])\n",
        "# sample_batch = tf.nest.map_structure(lambda x: x.numpy(), next(iter(preprocessed_example_dataset)))\n",
        "# sample_batch"
      ],
      "execution_count": null,
      "outputs": []
    },
    {
      "cell_type": "markdown",
      "metadata": {
        "id": "tcIsH9tRyc0p"
      },
      "source": [
        "I dati federati sono una lista di dataset divisi per cliente. "
      ]
    },
    {
      "cell_type": "code",
      "metadata": {
        "id": "6coH5NXYrQ8A",
        "colab": {
          "base_uri": "https://localhost:8080/"
        },
        "outputId": "ab797319-9cd3-46dc-cff6-a05fa7071b1e"
      },
      "source": [
        "def make_federated_data(dataset):\n",
        "  federated = []\n",
        "  for i in dataset:\n",
        "    federated.append(preprocess(dataset[i]))\n",
        "  return federated\n",
        "\n",
        "federated_train_data = make_federated_data(dataset)\n",
        "\n",
        "print('Number of client datasets: {l}'.format(l=len(federated_train_data)))\n",
        "print('First dataset: {d}'.format(d=federated_train_data[0]))"
      ],
      "execution_count": 44,
      "outputs": [
        {
          "output_type": "stream",
          "text": [
            "Number of client datasets: 5\n",
            "First dataset: <PrefetchDataset shapes: OrderedDict([(x, (None, 280)), (y, (None,))]), types: OrderedDict([(x, tf.float32), (y, tf.int32)])>\n"
          ],
          "name": "stdout"
        }
      ]
    },
    {
      "cell_type": "code",
      "metadata": {
        "id": "doNQKip2REvH"
      },
      "source": [
        "# del dataset"
      ],
      "execution_count": null,
      "outputs": []
    },
    {
      "cell_type": "markdown",
      "metadata": {
        "id": "57xoboqEx25g"
      },
      "source": [
        "# Model creation and training"
      ]
    },
    {
      "cell_type": "markdown",
      "metadata": {
        "id": "oACFRKebyl3u"
      },
      "source": [
        "Creazione della rete neurale che sarà trainata. \n",
        "\n",
        "Viene anche definita la model function, in cui si specifica il modello, il tipo di input, la loss e le metriche da utilizzare. \n",
        "\n",
        "Infine si costruisce il processo di averaging, specificando l'optimizer da usare, cioè SGD, e il learning rate del server e del client. "
      ]
    },
    {
      "cell_type": "code",
      "metadata": {
        "id": "XJ7I89xqY5MK",
        "outputId": "f2ec9dd3-bc81-4b0b-d201-c2800ca236fb",
        "colab": {
          "base_uri": "https://localhost:8080/"
        }
      },
      "source": [
        "test_set"
      ],
      "execution_count": 50,
      "outputs": [
        {
          "output_type": "execute_result",
          "data": {
            "text/plain": [
              "{0: <TensorSliceDataset shapes: ((280,), ()), types: (tf.float32, tf.float32)>,\n",
              " 1: <TensorSliceDataset shapes: ((280,), ()), types: (tf.float32, tf.float32)>,\n",
              " 2: <TensorSliceDataset shapes: ((280,), ()), types: (tf.float32, tf.float32)>,\n",
              " 3: <TensorSliceDataset shapes: ((280,), ()), types: (tf.float32, tf.float32)>,\n",
              " 4: <TensorSliceDataset shapes: ((280,), ()), types: (tf.float32, tf.float32)>}"
            ]
          },
          "metadata": {
            "tags": []
          },
          "execution_count": 50
        }
      ]
    },
    {
      "cell_type": "code",
      "metadata": {
        "id": "F4A7FqBv8G7f"
      },
      "source": [
        "from tensorflow import keras\n",
        "from tensorflow.keras.models import Sequential\n",
        "from tensorflow.keras.layers import Flatten, Dense, Dropout, Input, BatchNormalization\n",
        "\n",
        "def create_keras_model():\n",
        "  model = Sequential()\n",
        "  model.add(Input(shape=(280,)))   \n",
        "  model.add(Dense(360, activation='relu')) \n",
        "  model.add(BatchNormalization())\n",
        "  model.add(Dropout(0.4))\n",
        "  model.add(Dense(1, activation='sigmoid'))\n",
        "  return model\n",
        "\n",
        "def model_fn():\n",
        "  soglia = 0.5\n",
        "  keras_model = create_keras_model()\n",
        "  return tff.learning.from_keras_model(\n",
        "      keras_model,\n",
        "      input_spec=preprocessed_example_dataset.element_spec,\n",
        "      loss= tf.keras.losses.BinaryCrossentropy(),#tf.nn.weighted_cross_entropy_with_logits(tf.one_hot(labels, 2), logits, pos_weight=4),\n",
        "      metrics=[tf.keras.metrics.BinaryAccuracy(), \n",
        "               tf.keras.metrics.Recall(thresholds=soglia),\n",
        "               tf.keras.metrics.Precision(thresholds=soglia)])\n",
        "  \n",
        "iterative_process = tff.learning.build_federated_averaging_process(\n",
        "    model_fn,  \n",
        "    client_optimizer_fn=lambda: tf.keras.optimizers.SGD(learning_rate=0.5), #0.05\n",
        "    server_optimizer_fn=lambda: tf.keras.optimizers.SGD(learning_rate=1)) "
      ],
      "execution_count": 53,
      "outputs": []
    },
    {
      "cell_type": "markdown",
      "metadata": {
        "id": "GUUQi8kdzB3_"
      },
      "source": [
        "Training del modello. "
      ]
    },
    {
      "cell_type": "code",
      "metadata": {
        "id": "vjLvHl-fA7wW",
        "colab": {
          "base_uri": "https://localhost:8080/",
          "height": 591
        },
        "outputId": "8cfb31ff-9625-4f50-fd98-4f5d4e498f04"
      },
      "source": [
        "NUM_ROUNDS = 20\n",
        "state = iterative_process.initialize()\n",
        "for round_num in range(1, NUM_ROUNDS + 1):\n",
        "  state, metrics = iterative_process.next(state, federated_train_data)\n",
        "  print('round {:2d}, metrics={}'.format(round_num, metrics))"
      ],
      "execution_count": 46,
      "outputs": [
        {
          "output_type": "stream",
          "text": [
            "round  1, metrics=OrderedDict([('broadcast', ()), ('aggregation', OrderedDict([('value_sum_process', ()), ('weight_sum_process', ())])), ('train', OrderedDict([('binary_accuracy', 0.9482663), ('recall', 0.015114562), ('precision', 0.12957367), ('loss', 0.21446028)]))])\n",
            "round  2, metrics=OrderedDict([('broadcast', ()), ('aggregation', OrderedDict([('value_sum_process', ()), ('weight_sum_process', ())])), ('train', OrderedDict([('binary_accuracy', 0.95096505), ('recall', 0.0073643597), ('precision', 0.16559555), ('loss', 0.17588595)]))])\n",
            "round  3, metrics=OrderedDict([('broadcast', ()), ('aggregation', OrderedDict([('value_sum_process', ()), ('weight_sum_process', ())])), ('train', OrderedDict([('binary_accuracy', 0.95167166), ('recall', 0.0041728197), ('precision', 0.1795082), ('loss', 0.17043273)]))])\n",
            "round  4, metrics=OrderedDict([('broadcast', ()), ('aggregation', OrderedDict([('value_sum_process', ()), ('weight_sum_process', ())])), ('train', OrderedDict([('binary_accuracy', 0.95190054), ('recall', 0.0036297813), ('precision', 0.20899616), ('loss', 0.16839965)]))])\n",
            "round  5, metrics=OrderedDict([('broadcast', ()), ('aggregation', OrderedDict([('value_sum_process', ()), ('weight_sum_process', ())])), ('train', OrderedDict([('binary_accuracy', 0.9520213), ('recall', 0.0036393083), ('precision', 0.24518614), ('loss', 0.16682707)]))])\n",
            "round  6, metrics=OrderedDict([('broadcast', ()), ('aggregation', OrderedDict([('value_sum_process', ()), ('weight_sum_process', ())])), ('train', OrderedDict([('binary_accuracy', 0.9521386), ('recall', 0.0040584956), ('precision', 0.3073593), ('loss', 0.1657267)]))])\n",
            "round  7, metrics=OrderedDict([('broadcast', ()), ('aggregation', OrderedDict([('value_sum_process', ()), ('weight_sum_process', ())])), ('train', OrderedDict([('binary_accuracy', 0.952236), ('recall', 0.004644405), ('precision', 0.3758674), ('loss', 0.16474514)]))])\n",
            "round  8, metrics=OrderedDict([('broadcast', ()), ('aggregation', OrderedDict([('value_sum_process', ()), ('weight_sum_process', ())])), ('train', OrderedDict([('binary_accuracy', 0.9522969), ('recall', 0.0057781166), ('precision', 0.43336907), ('loss', 0.16391811)]))])\n",
            "round  9, metrics=OrderedDict([('broadcast', ()), ('aggregation', OrderedDict([('value_sum_process', ()), ('weight_sum_process', ())])), ('train', OrderedDict([('binary_accuracy', 0.9522898), ('recall', 0.0063211545), ('precision', 0.4343699), ('loss', 0.16342397)]))])\n",
            "round 10, metrics=OrderedDict([('broadcast', ()), ('aggregation', OrderedDict([('value_sum_process', ()), ('weight_sum_process', ())])), ('train', OrderedDict([('binary_accuracy', 0.9523102), ('recall', 0.007850235), ('precision', 0.4566362), ('loss', 0.16277298)]))])\n",
            "round 11, metrics=OrderedDict([('broadcast', ()), ('aggregation', OrderedDict([('value_sum_process', ()), ('weight_sum_process', ())])), ('train', OrderedDict([('binary_accuracy', 0.95232946), ('recall', 0.008283714), ('precision', 0.46898597), ('loss', 0.16227305)]))])\n"
          ],
          "name": "stdout"
        },
        {
          "output_type": "error",
          "ename": "KeyboardInterrupt",
          "evalue": "ignored",
          "traceback": [
            "\u001b[0;31m---------------------------------------------------------------------------\u001b[0m",
            "\u001b[0;31mKeyboardInterrupt\u001b[0m                         Traceback (most recent call last)",
            "\u001b[0;32m<ipython-input-46-c5af40ce5da7>\u001b[0m in \u001b[0;36m<module>\u001b[0;34m()\u001b[0m\n\u001b[1;32m      2\u001b[0m \u001b[0mstate\u001b[0m \u001b[0;34m=\u001b[0m \u001b[0miterative_process\u001b[0m\u001b[0;34m.\u001b[0m\u001b[0minitialize\u001b[0m\u001b[0;34m(\u001b[0m\u001b[0;34m)\u001b[0m\u001b[0;34m\u001b[0m\u001b[0;34m\u001b[0m\u001b[0m\n\u001b[1;32m      3\u001b[0m \u001b[0;32mfor\u001b[0m \u001b[0mround_num\u001b[0m \u001b[0;32min\u001b[0m \u001b[0mrange\u001b[0m\u001b[0;34m(\u001b[0m\u001b[0;36m1\u001b[0m\u001b[0;34m,\u001b[0m \u001b[0mNUM_ROUNDS\u001b[0m \u001b[0;34m+\u001b[0m \u001b[0;36m1\u001b[0m\u001b[0;34m)\u001b[0m\u001b[0;34m:\u001b[0m\u001b[0;34m\u001b[0m\u001b[0;34m\u001b[0m\u001b[0m\n\u001b[0;32m----> 4\u001b[0;31m   \u001b[0mstate\u001b[0m\u001b[0;34m,\u001b[0m \u001b[0mmetrics\u001b[0m \u001b[0;34m=\u001b[0m \u001b[0miterative_process\u001b[0m\u001b[0;34m.\u001b[0m\u001b[0mnext\u001b[0m\u001b[0;34m(\u001b[0m\u001b[0mstate\u001b[0m\u001b[0;34m,\u001b[0m \u001b[0mfederated_train_data\u001b[0m\u001b[0;34m)\u001b[0m\u001b[0;34m\u001b[0m\u001b[0;34m\u001b[0m\u001b[0m\n\u001b[0m\u001b[1;32m      5\u001b[0m   \u001b[0mprint\u001b[0m\u001b[0;34m(\u001b[0m\u001b[0;34m'round {:2d}, metrics={}'\u001b[0m\u001b[0;34m.\u001b[0m\u001b[0mformat\u001b[0m\u001b[0;34m(\u001b[0m\u001b[0mround_num\u001b[0m\u001b[0;34m,\u001b[0m \u001b[0mmetrics\u001b[0m\u001b[0;34m)\u001b[0m\u001b[0;34m)\u001b[0m\u001b[0;34m\u001b[0m\u001b[0;34m\u001b[0m\u001b[0m\n",
            "\u001b[0;32m/usr/local/lib/python3.6/dist-packages/tensorflow_federated/python/core/impl/utils/function_utils.py\u001b[0m in \u001b[0;36m__call__\u001b[0;34m(self, *args, **kwargs)\u001b[0m\n\u001b[1;32m    519\u001b[0m     \u001b[0mcontext\u001b[0m \u001b[0;34m=\u001b[0m \u001b[0mself\u001b[0m\u001b[0;34m.\u001b[0m\u001b[0m_context_stack\u001b[0m\u001b[0;34m.\u001b[0m\u001b[0mcurrent\u001b[0m\u001b[0;34m\u001b[0m\u001b[0;34m\u001b[0m\u001b[0m\n\u001b[1;32m    520\u001b[0m     \u001b[0marg\u001b[0m \u001b[0;34m=\u001b[0m \u001b[0mpack_args\u001b[0m\u001b[0;34m(\u001b[0m\u001b[0mself\u001b[0m\u001b[0;34m.\u001b[0m\u001b[0m_type_signature\u001b[0m\u001b[0;34m.\u001b[0m\u001b[0mparameter\u001b[0m\u001b[0;34m,\u001b[0m \u001b[0margs\u001b[0m\u001b[0;34m,\u001b[0m \u001b[0mkwargs\u001b[0m\u001b[0;34m,\u001b[0m \u001b[0mcontext\u001b[0m\u001b[0;34m)\u001b[0m\u001b[0;34m\u001b[0m\u001b[0;34m\u001b[0m\u001b[0m\n\u001b[0;32m--> 521\u001b[0;31m     \u001b[0;32mreturn\u001b[0m \u001b[0mcontext\u001b[0m\u001b[0;34m.\u001b[0m\u001b[0minvoke\u001b[0m\u001b[0;34m(\u001b[0m\u001b[0mself\u001b[0m\u001b[0;34m,\u001b[0m \u001b[0marg\u001b[0m\u001b[0;34m)\u001b[0m\u001b[0;34m\u001b[0m\u001b[0;34m\u001b[0m\u001b[0m\n\u001b[0m\u001b[1;32m    522\u001b[0m \u001b[0;34m\u001b[0m\u001b[0m\n\u001b[1;32m    523\u001b[0m   \u001b[0;32mdef\u001b[0m \u001b[0m__hash__\u001b[0m\u001b[0;34m(\u001b[0m\u001b[0mself\u001b[0m\u001b[0;34m)\u001b[0m\u001b[0;34m:\u001b[0m\u001b[0;34m\u001b[0m\u001b[0;34m\u001b[0m\u001b[0m\n",
            "\u001b[0;32m/usr/local/lib/python3.6/dist-packages/retrying.py\u001b[0m in \u001b[0;36mwrapped_f\u001b[0;34m(*args, **kw)\u001b[0m\n\u001b[1;32m     47\u001b[0m             \u001b[0;34m@\u001b[0m\u001b[0msix\u001b[0m\u001b[0;34m.\u001b[0m\u001b[0mwraps\u001b[0m\u001b[0;34m(\u001b[0m\u001b[0mf\u001b[0m\u001b[0;34m)\u001b[0m\u001b[0;34m\u001b[0m\u001b[0;34m\u001b[0m\u001b[0m\n\u001b[1;32m     48\u001b[0m             \u001b[0;32mdef\u001b[0m \u001b[0mwrapped_f\u001b[0m\u001b[0;34m(\u001b[0m\u001b[0;34m*\u001b[0m\u001b[0margs\u001b[0m\u001b[0;34m,\u001b[0m \u001b[0;34m**\u001b[0m\u001b[0mkw\u001b[0m\u001b[0;34m)\u001b[0m\u001b[0;34m:\u001b[0m\u001b[0;34m\u001b[0m\u001b[0;34m\u001b[0m\u001b[0m\n\u001b[0;32m---> 49\u001b[0;31m                 \u001b[0;32mreturn\u001b[0m \u001b[0mRetrying\u001b[0m\u001b[0;34m(\u001b[0m\u001b[0;34m*\u001b[0m\u001b[0mdargs\u001b[0m\u001b[0;34m,\u001b[0m \u001b[0;34m**\u001b[0m\u001b[0mdkw\u001b[0m\u001b[0;34m)\u001b[0m\u001b[0;34m.\u001b[0m\u001b[0mcall\u001b[0m\u001b[0;34m(\u001b[0m\u001b[0mf\u001b[0m\u001b[0;34m,\u001b[0m \u001b[0;34m*\u001b[0m\u001b[0margs\u001b[0m\u001b[0;34m,\u001b[0m \u001b[0;34m**\u001b[0m\u001b[0mkw\u001b[0m\u001b[0;34m)\u001b[0m\u001b[0;34m\u001b[0m\u001b[0;34m\u001b[0m\u001b[0m\n\u001b[0m\u001b[1;32m     50\u001b[0m \u001b[0;34m\u001b[0m\u001b[0m\n\u001b[1;32m     51\u001b[0m             \u001b[0;32mreturn\u001b[0m \u001b[0mwrapped_f\u001b[0m\u001b[0;34m\u001b[0m\u001b[0;34m\u001b[0m\u001b[0m\n",
            "\u001b[0;32m/usr/local/lib/python3.6/dist-packages/retrying.py\u001b[0m in \u001b[0;36mcall\u001b[0;34m(self, fn, *args, **kwargs)\u001b[0m\n\u001b[1;32m    204\u001b[0m \u001b[0;34m\u001b[0m\u001b[0m\n\u001b[1;32m    205\u001b[0m             \u001b[0;32mif\u001b[0m \u001b[0;32mnot\u001b[0m \u001b[0mself\u001b[0m\u001b[0;34m.\u001b[0m\u001b[0mshould_reject\u001b[0m\u001b[0;34m(\u001b[0m\u001b[0mattempt\u001b[0m\u001b[0;34m)\u001b[0m\u001b[0;34m:\u001b[0m\u001b[0;34m\u001b[0m\u001b[0;34m\u001b[0m\u001b[0m\n\u001b[0;32m--> 206\u001b[0;31m                 \u001b[0;32mreturn\u001b[0m \u001b[0mattempt\u001b[0m\u001b[0;34m.\u001b[0m\u001b[0mget\u001b[0m\u001b[0;34m(\u001b[0m\u001b[0mself\u001b[0m\u001b[0;34m.\u001b[0m\u001b[0m_wrap_exception\u001b[0m\u001b[0;34m)\u001b[0m\u001b[0;34m\u001b[0m\u001b[0;34m\u001b[0m\u001b[0m\n\u001b[0m\u001b[1;32m    207\u001b[0m \u001b[0;34m\u001b[0m\u001b[0m\n\u001b[1;32m    208\u001b[0m             \u001b[0mdelay_since_first_attempt_ms\u001b[0m \u001b[0;34m=\u001b[0m \u001b[0mint\u001b[0m\u001b[0;34m(\u001b[0m\u001b[0mround\u001b[0m\u001b[0;34m(\u001b[0m\u001b[0mtime\u001b[0m\u001b[0;34m.\u001b[0m\u001b[0mtime\u001b[0m\u001b[0;34m(\u001b[0m\u001b[0;34m)\u001b[0m \u001b[0;34m*\u001b[0m \u001b[0;36m1000\u001b[0m\u001b[0;34m)\u001b[0m\u001b[0;34m)\u001b[0m \u001b[0;34m-\u001b[0m \u001b[0mstart_time\u001b[0m\u001b[0;34m\u001b[0m\u001b[0;34m\u001b[0m\u001b[0m\n",
            "\u001b[0;32m/usr/local/lib/python3.6/dist-packages/retrying.py\u001b[0m in \u001b[0;36mget\u001b[0;34m(self, wrap_exception)\u001b[0m\n\u001b[1;32m    245\u001b[0m                 \u001b[0;32mraise\u001b[0m \u001b[0mRetryError\u001b[0m\u001b[0;34m(\u001b[0m\u001b[0mself\u001b[0m\u001b[0;34m)\u001b[0m\u001b[0;34m\u001b[0m\u001b[0;34m\u001b[0m\u001b[0m\n\u001b[1;32m    246\u001b[0m             \u001b[0;32melse\u001b[0m\u001b[0;34m:\u001b[0m\u001b[0;34m\u001b[0m\u001b[0;34m\u001b[0m\u001b[0m\n\u001b[0;32m--> 247\u001b[0;31m                 \u001b[0msix\u001b[0m\u001b[0;34m.\u001b[0m\u001b[0mreraise\u001b[0m\u001b[0;34m(\u001b[0m\u001b[0mself\u001b[0m\u001b[0;34m.\u001b[0m\u001b[0mvalue\u001b[0m\u001b[0;34m[\u001b[0m\u001b[0;36m0\u001b[0m\u001b[0;34m]\u001b[0m\u001b[0;34m,\u001b[0m \u001b[0mself\u001b[0m\u001b[0;34m.\u001b[0m\u001b[0mvalue\u001b[0m\u001b[0;34m[\u001b[0m\u001b[0;36m1\u001b[0m\u001b[0;34m]\u001b[0m\u001b[0;34m,\u001b[0m \u001b[0mself\u001b[0m\u001b[0;34m.\u001b[0m\u001b[0mvalue\u001b[0m\u001b[0;34m[\u001b[0m\u001b[0;36m2\u001b[0m\u001b[0;34m]\u001b[0m\u001b[0;34m)\u001b[0m\u001b[0;34m\u001b[0m\u001b[0;34m\u001b[0m\u001b[0m\n\u001b[0m\u001b[1;32m    248\u001b[0m         \u001b[0;32melse\u001b[0m\u001b[0;34m:\u001b[0m\u001b[0;34m\u001b[0m\u001b[0;34m\u001b[0m\u001b[0m\n\u001b[1;32m    249\u001b[0m             \u001b[0;32mreturn\u001b[0m \u001b[0mself\u001b[0m\u001b[0;34m.\u001b[0m\u001b[0mvalue\u001b[0m\u001b[0;34m\u001b[0m\u001b[0;34m\u001b[0m\u001b[0m\n",
            "\u001b[0;32m/usr/local/lib/python3.6/dist-packages/six.py\u001b[0m in \u001b[0;36mreraise\u001b[0;34m(tp, value, tb)\u001b[0m\n\u001b[1;32m    701\u001b[0m             \u001b[0;32mif\u001b[0m \u001b[0mvalue\u001b[0m\u001b[0;34m.\u001b[0m\u001b[0m__traceback__\u001b[0m \u001b[0;32mis\u001b[0m \u001b[0;32mnot\u001b[0m \u001b[0mtb\u001b[0m\u001b[0;34m:\u001b[0m\u001b[0;34m\u001b[0m\u001b[0;34m\u001b[0m\u001b[0m\n\u001b[1;32m    702\u001b[0m                 \u001b[0;32mraise\u001b[0m \u001b[0mvalue\u001b[0m\u001b[0;34m.\u001b[0m\u001b[0mwith_traceback\u001b[0m\u001b[0;34m(\u001b[0m\u001b[0mtb\u001b[0m\u001b[0;34m)\u001b[0m\u001b[0;34m\u001b[0m\u001b[0;34m\u001b[0m\u001b[0m\n\u001b[0;32m--> 703\u001b[0;31m             \u001b[0;32mraise\u001b[0m \u001b[0mvalue\u001b[0m\u001b[0;34m\u001b[0m\u001b[0;34m\u001b[0m\u001b[0m\n\u001b[0m\u001b[1;32m    704\u001b[0m         \u001b[0;32mfinally\u001b[0m\u001b[0;34m:\u001b[0m\u001b[0;34m\u001b[0m\u001b[0;34m\u001b[0m\u001b[0m\n\u001b[1;32m    705\u001b[0m             \u001b[0mvalue\u001b[0m \u001b[0;34m=\u001b[0m \u001b[0;32mNone\u001b[0m\u001b[0;34m\u001b[0m\u001b[0;34m\u001b[0m\u001b[0m\n",
            "\u001b[0;32m/usr/local/lib/python3.6/dist-packages/retrying.py\u001b[0m in \u001b[0;36mcall\u001b[0;34m(self, fn, *args, **kwargs)\u001b[0m\n\u001b[1;32m    198\u001b[0m         \u001b[0;32mwhile\u001b[0m \u001b[0;32mTrue\u001b[0m\u001b[0;34m:\u001b[0m\u001b[0;34m\u001b[0m\u001b[0;34m\u001b[0m\u001b[0m\n\u001b[1;32m    199\u001b[0m             \u001b[0;32mtry\u001b[0m\u001b[0;34m:\u001b[0m\u001b[0;34m\u001b[0m\u001b[0;34m\u001b[0m\u001b[0m\n\u001b[0;32m--> 200\u001b[0;31m                 \u001b[0mattempt\u001b[0m \u001b[0;34m=\u001b[0m \u001b[0mAttempt\u001b[0m\u001b[0;34m(\u001b[0m\u001b[0mfn\u001b[0m\u001b[0;34m(\u001b[0m\u001b[0;34m*\u001b[0m\u001b[0margs\u001b[0m\u001b[0;34m,\u001b[0m \u001b[0;34m**\u001b[0m\u001b[0mkwargs\u001b[0m\u001b[0;34m)\u001b[0m\u001b[0;34m,\u001b[0m \u001b[0mattempt_number\u001b[0m\u001b[0;34m,\u001b[0m \u001b[0;32mFalse\u001b[0m\u001b[0;34m)\u001b[0m\u001b[0;34m\u001b[0m\u001b[0;34m\u001b[0m\u001b[0m\n\u001b[0m\u001b[1;32m    201\u001b[0m             \u001b[0;32mexcept\u001b[0m\u001b[0;34m:\u001b[0m\u001b[0;34m\u001b[0m\u001b[0;34m\u001b[0m\u001b[0m\n\u001b[1;32m    202\u001b[0m                 \u001b[0mtb\u001b[0m \u001b[0;34m=\u001b[0m \u001b[0msys\u001b[0m\u001b[0;34m.\u001b[0m\u001b[0mexc_info\u001b[0m\u001b[0;34m(\u001b[0m\u001b[0;34m)\u001b[0m\u001b[0;34m\u001b[0m\u001b[0;34m\u001b[0m\u001b[0m\n",
            "\u001b[0;32m/usr/local/lib/python3.6/dist-packages/tensorflow_federated/python/core/impl/executors/execution_context.py\u001b[0m in \u001b[0;36minvoke\u001b[0;34m(self, comp, arg)\u001b[0m\n\u001b[1;32m    216\u001b[0m         return self._event_loop.run_until_complete(\n\u001b[1;32m    217\u001b[0m             tracing.wrap_coroutine_in_current_trace_context(\n\u001b[0;32m--> 218\u001b[0;31m                 _invoke(executor, comp, arg, result_type)))\n\u001b[0m",
            "\u001b[0;32m/usr/local/lib/python3.6/dist-packages/nest_asyncio.py\u001b[0m in \u001b[0;36mrun_until_complete\u001b[0;34m(self, future)\u001b[0m\n\u001b[1;32m     62\u001b[0m                 \u001b[0mf\u001b[0m\u001b[0;34m.\u001b[0m\u001b[0m_log_destroy_pending\u001b[0m \u001b[0;34m=\u001b[0m \u001b[0;32mFalse\u001b[0m\u001b[0;34m\u001b[0m\u001b[0;34m\u001b[0m\u001b[0m\n\u001b[1;32m     63\u001b[0m             \u001b[0;32mwhile\u001b[0m \u001b[0;32mnot\u001b[0m \u001b[0mf\u001b[0m\u001b[0;34m.\u001b[0m\u001b[0mdone\u001b[0m\u001b[0;34m(\u001b[0m\u001b[0;34m)\u001b[0m\u001b[0;34m:\u001b[0m\u001b[0;34m\u001b[0m\u001b[0;34m\u001b[0m\u001b[0m\n\u001b[0;32m---> 64\u001b[0;31m                 \u001b[0mself\u001b[0m\u001b[0;34m.\u001b[0m\u001b[0m_run_once\u001b[0m\u001b[0;34m(\u001b[0m\u001b[0;34m)\u001b[0m\u001b[0;34m\u001b[0m\u001b[0;34m\u001b[0m\u001b[0m\n\u001b[0m\u001b[1;32m     65\u001b[0m                 \u001b[0;32mif\u001b[0m \u001b[0mself\u001b[0m\u001b[0;34m.\u001b[0m\u001b[0m_stopping\u001b[0m\u001b[0;34m:\u001b[0m\u001b[0;34m\u001b[0m\u001b[0;34m\u001b[0m\u001b[0m\n\u001b[1;32m     66\u001b[0m                     \u001b[0;32mbreak\u001b[0m\u001b[0;34m\u001b[0m\u001b[0;34m\u001b[0m\u001b[0m\n",
            "\u001b[0;32m/usr/local/lib/python3.6/dist-packages/nest_asyncio.py\u001b[0m in \u001b[0;36m_run_once\u001b[0;34m(self)\u001b[0m\n\u001b[1;32m     85\u001b[0m             \u001b[0;32melse\u001b[0m \u001b[0mmin\u001b[0m\u001b[0;34m(\u001b[0m\u001b[0mmax\u001b[0m\u001b[0;34m(\u001b[0m\u001b[0mscheduled\u001b[0m\u001b[0;34m[\u001b[0m\u001b[0;36m0\u001b[0m\u001b[0;34m]\u001b[0m\u001b[0;34m.\u001b[0m\u001b[0m_when\u001b[0m \u001b[0;34m-\u001b[0m \u001b[0mnow\u001b[0m\u001b[0;34m,\u001b[0m \u001b[0;36m0\u001b[0m\u001b[0;34m)\u001b[0m\u001b[0;34m,\u001b[0m \u001b[0;36m86400\u001b[0m\u001b[0;34m)\u001b[0m \u001b[0;32mif\u001b[0m \u001b[0mscheduled\u001b[0m\u001b[0;34m\u001b[0m\u001b[0;34m\u001b[0m\u001b[0m\n\u001b[1;32m     86\u001b[0m             else None)\n\u001b[0;32m---> 87\u001b[0;31m         \u001b[0mevent_list\u001b[0m \u001b[0;34m=\u001b[0m \u001b[0mself\u001b[0m\u001b[0;34m.\u001b[0m\u001b[0m_selector\u001b[0m\u001b[0;34m.\u001b[0m\u001b[0mselect\u001b[0m\u001b[0;34m(\u001b[0m\u001b[0mtimeout\u001b[0m\u001b[0;34m)\u001b[0m\u001b[0;34m\u001b[0m\u001b[0;34m\u001b[0m\u001b[0m\n\u001b[0m\u001b[1;32m     88\u001b[0m         \u001b[0mself\u001b[0m\u001b[0;34m.\u001b[0m\u001b[0m_process_events\u001b[0m\u001b[0;34m(\u001b[0m\u001b[0mevent_list\u001b[0m\u001b[0;34m)\u001b[0m\u001b[0;34m\u001b[0m\u001b[0;34m\u001b[0m\u001b[0m\n\u001b[1;32m     89\u001b[0m \u001b[0;34m\u001b[0m\u001b[0m\n",
            "\u001b[0;32m/usr/lib/python3.6/selectors.py\u001b[0m in \u001b[0;36mselect\u001b[0;34m(self, timeout)\u001b[0m\n\u001b[1;32m    443\u001b[0m             \u001b[0mready\u001b[0m \u001b[0;34m=\u001b[0m \u001b[0;34m[\u001b[0m\u001b[0;34m]\u001b[0m\u001b[0;34m\u001b[0m\u001b[0;34m\u001b[0m\u001b[0m\n\u001b[1;32m    444\u001b[0m             \u001b[0;32mtry\u001b[0m\u001b[0;34m:\u001b[0m\u001b[0;34m\u001b[0m\u001b[0;34m\u001b[0m\u001b[0m\n\u001b[0;32m--> 445\u001b[0;31m                 \u001b[0mfd_event_list\u001b[0m \u001b[0;34m=\u001b[0m \u001b[0mself\u001b[0m\u001b[0;34m.\u001b[0m\u001b[0m_epoll\u001b[0m\u001b[0;34m.\u001b[0m\u001b[0mpoll\u001b[0m\u001b[0;34m(\u001b[0m\u001b[0mtimeout\u001b[0m\u001b[0;34m,\u001b[0m \u001b[0mmax_ev\u001b[0m\u001b[0;34m)\u001b[0m\u001b[0;34m\u001b[0m\u001b[0;34m\u001b[0m\u001b[0m\n\u001b[0m\u001b[1;32m    446\u001b[0m             \u001b[0;32mexcept\u001b[0m \u001b[0mInterruptedError\u001b[0m\u001b[0;34m:\u001b[0m\u001b[0;34m\u001b[0m\u001b[0;34m\u001b[0m\u001b[0m\n\u001b[1;32m    447\u001b[0m                 \u001b[0;32mreturn\u001b[0m \u001b[0mready\u001b[0m\u001b[0;34m\u001b[0m\u001b[0;34m\u001b[0m\u001b[0m\n",
            "\u001b[0;31mKeyboardInterrupt\u001b[0m: "
          ]
        }
      ]
    },
    {
      "cell_type": "markdown",
      "metadata": {
        "id": "PA4yp86ex9NK"
      },
      "source": [
        "# Model evaluation"
      ]
    },
    {
      "cell_type": "markdown",
      "metadata": {
        "id": "LZ_L_WaVzGX4"
      },
      "source": [
        "Evaluation del modello sui test data. "
      ]
    },
    {
      "cell_type": "code",
      "metadata": {
        "id": "j-43k3etjd8P"
      },
      "source": [
        "evaluation = tff.learning.build_federated_evaluation(model_fn)\n",
        "train_metrics = evaluation(state.model, federated_train_data)"
      ],
      "execution_count": null,
      "outputs": []
    },
    {
      "cell_type": "code",
      "metadata": {
        "id": "ECb3PNHFjk_k",
        "colab": {
          "base_uri": "https://localhost:8080/"
        },
        "outputId": "a54230cd-49b8-411b-a9e2-dc48275df5ae"
      },
      "source": [
        "federated_test_data = make_federated_data(test_set)"
      ],
      "execution_count": null,
      "outputs": [
        {
          "output_type": "stream",
          "text": [
            "(<tf.Tensor 'args_0:0' shape=(None,) dtype=float32>, <tf.Tensor 'args_1:0' shape=(None,) dtype=float32>, <tf.Tensor 'args_2:0' shape=(None,) dtype=float32>, <tf.Tensor 'args_3:0' shape=(None,) dtype=float32>, <tf.Tensor 'args_4:0' shape=(None,) dtype=float32>, <tf.Tensor 'args_5:0' shape=(None,) dtype=float32>, <tf.Tensor 'args_6:0' shape=(None,) dtype=float32>, <tf.Tensor 'args_7:0' shape=(None,) dtype=float32>, <tf.Tensor 'args_8:0' shape=(None,) dtype=float32>, <tf.Tensor 'args_9:0' shape=(None,) dtype=float32>, <tf.Tensor 'args_10:0' shape=(None,) dtype=float32>, <tf.Tensor 'args_11:0' shape=(None,) dtype=float32>, <tf.Tensor 'args_12:0' shape=(None,) dtype=float32>, <tf.Tensor 'args_13:0' shape=(None,) dtype=float32>, <tf.Tensor 'args_14:0' shape=(None,) dtype=float32>, <tf.Tensor 'args_15:0' shape=(None,) dtype=float32>, <tf.Tensor 'args_16:0' shape=(None,) dtype=float32>, <tf.Tensor 'args_17:0' shape=(None,) dtype=float32>, <tf.Tensor 'args_18:0' shape=(None,) dtype=float32>, <tf.Tensor 'args_19:0' shape=(None,) dtype=float32>, <tf.Tensor 'args_20:0' shape=(None,) dtype=float32>, <tf.Tensor 'args_21:0' shape=(None,) dtype=float32>, <tf.Tensor 'args_22:0' shape=(None,) dtype=float32>, <tf.Tensor 'args_23:0' shape=(None,) dtype=float32>, <tf.Tensor 'args_24:0' shape=(None,) dtype=float32>, <tf.Tensor 'args_25:0' shape=(None,) dtype=float32>, <tf.Tensor 'args_26:0' shape=(None,) dtype=float32>, <tf.Tensor 'args_27:0' shape=(None,) dtype=float32>, <tf.Tensor 'args_28:0' shape=(None,) dtype=float32>, <tf.Tensor 'args_29:0' shape=(None,) dtype=float32>, <tf.Tensor 'args_30:0' shape=(None,) dtype=float32>, <tf.Tensor 'args_31:0' shape=(None,) dtype=float32>, <tf.Tensor 'args_32:0' shape=(None,) dtype=float32>, <tf.Tensor 'args_33:0' shape=(None,) dtype=float32>, <tf.Tensor 'args_34:0' shape=(None,) dtype=float32>, <tf.Tensor 'args_35:0' shape=(None,) dtype=float32>, <tf.Tensor 'args_36:0' shape=(None,) dtype=float32>, <tf.Tensor 'args_37:0' shape=(None,) dtype=float32>, <tf.Tensor 'args_38:0' shape=(None,) dtype=float32>, <tf.Tensor 'args_39:0' shape=(None,) dtype=float32>, <tf.Tensor 'args_40:0' shape=(None,) dtype=float32>, <tf.Tensor 'args_41:0' shape=(None,) dtype=float32>, <tf.Tensor 'args_42:0' shape=(None,) dtype=float32>, <tf.Tensor 'args_43:0' shape=(None,) dtype=float32>, <tf.Tensor 'args_44:0' shape=(None,) dtype=float32>, <tf.Tensor 'args_45:0' shape=(None,) dtype=float32>, <tf.Tensor 'args_46:0' shape=(None,) dtype=float32>, <tf.Tensor 'args_47:0' shape=(None,) dtype=float32>, <tf.Tensor 'args_48:0' shape=(None,) dtype=float32>, <tf.Tensor 'args_49:0' shape=(None,) dtype=float32>, <tf.Tensor 'args_50:0' shape=(None,) dtype=float32>, <tf.Tensor 'args_51:0' shape=(None,) dtype=float32>, <tf.Tensor 'args_52:0' shape=(None,) dtype=float32>, <tf.Tensor 'args_53:0' shape=(None,) dtype=float32>, <tf.Tensor 'args_54:0' shape=(None,) dtype=float32>, <tf.Tensor 'args_55:0' shape=(None,) dtype=float32>, <tf.Tensor 'args_56:0' shape=(None,) dtype=float32>, <tf.Tensor 'args_57:0' shape=(None,) dtype=float32>, <tf.Tensor 'args_58:0' shape=(None,) dtype=float32>, <tf.Tensor 'args_59:0' shape=(None,) dtype=float32>, <tf.Tensor 'args_60:0' shape=(None,) dtype=float32>, <tf.Tensor 'args_61:0' shape=(None,) dtype=float32>, <tf.Tensor 'args_62:0' shape=(None,) dtype=float32>, <tf.Tensor 'args_63:0' shape=(None,) dtype=float32>, <tf.Tensor 'args_64:0' shape=(None,) dtype=float32>, <tf.Tensor 'args_65:0' shape=(None,) dtype=float32>, <tf.Tensor 'args_66:0' shape=(None,) dtype=float32>, <tf.Tensor 'args_67:0' shape=(None,) dtype=float32>, <tf.Tensor 'args_68:0' shape=(None,) dtype=float32>, <tf.Tensor 'args_69:0' shape=(None,) dtype=float32>, <tf.Tensor 'args_70:0' shape=(None,) dtype=float32>, <tf.Tensor 'args_71:0' shape=(None,) dtype=float32>, <tf.Tensor 'args_72:0' shape=(None,) dtype=float32>, <tf.Tensor 'args_73:0' shape=(None,) dtype=float32>, <tf.Tensor 'args_74:0' shape=(None,) dtype=float32>, <tf.Tensor 'args_75:0' shape=(None,) dtype=float32>, <tf.Tensor 'args_76:0' shape=(None,) dtype=float32>, <tf.Tensor 'args_77:0' shape=(None,) dtype=float32>, <tf.Tensor 'args_78:0' shape=(None,) dtype=float32>, <tf.Tensor 'args_79:0' shape=(None,) dtype=float32>, <tf.Tensor 'args_80:0' shape=(None,) dtype=float32>, <tf.Tensor 'args_81:0' shape=(None,) dtype=float32>, <tf.Tensor 'args_82:0' shape=(None,) dtype=float32>, <tf.Tensor 'args_83:0' shape=(None,) dtype=float32>, <tf.Tensor 'args_84:0' shape=(None,) dtype=float32>, <tf.Tensor 'args_85:0' shape=(None,) dtype=float32>, <tf.Tensor 'args_86:0' shape=(None,) dtype=float32>, <tf.Tensor 'args_87:0' shape=(None,) dtype=float32>, <tf.Tensor 'args_88:0' shape=(None,) dtype=float32>, <tf.Tensor 'args_89:0' shape=(None,) dtype=float32>, <tf.Tensor 'args_90:0' shape=(None,) dtype=float32>, <tf.Tensor 'args_91:0' shape=(None,) dtype=float32>, <tf.Tensor 'args_92:0' shape=(None,) dtype=float32>, <tf.Tensor 'args_93:0' shape=(None,) dtype=float32>, <tf.Tensor 'args_94:0' shape=(None,) dtype=float32>, <tf.Tensor 'args_95:0' shape=(None,) dtype=float32>, <tf.Tensor 'args_96:0' shape=(None,) dtype=float32>, <tf.Tensor 'args_97:0' shape=(None,) dtype=float32>, <tf.Tensor 'args_98:0' shape=(None,) dtype=float32>, <tf.Tensor 'args_99:0' shape=(None,) dtype=float32>, <tf.Tensor 'args_100:0' shape=(None,) dtype=float32>, <tf.Tensor 'args_101:0' shape=(None,) dtype=float32>, <tf.Tensor 'args_102:0' shape=(None,) dtype=float32>, <tf.Tensor 'args_103:0' shape=(None,) dtype=float32>, <tf.Tensor 'args_104:0' shape=(None,) dtype=float32>, <tf.Tensor 'args_105:0' shape=(None,) dtype=float32>, <tf.Tensor 'args_106:0' shape=(None,) dtype=float32>, <tf.Tensor 'args_107:0' shape=(None,) dtype=float32>, <tf.Tensor 'args_108:0' shape=(None,) dtype=float32>, <tf.Tensor 'args_109:0' shape=(None,) dtype=float32>, <tf.Tensor 'args_110:0' shape=(None,) dtype=float32>, <tf.Tensor 'args_111:0' shape=(None,) dtype=float32>, <tf.Tensor 'args_112:0' shape=(None,) dtype=float32>, <tf.Tensor 'args_113:0' shape=(None,) dtype=float32>, <tf.Tensor 'args_114:0' shape=(None,) dtype=float32>, <tf.Tensor 'args_115:0' shape=(None,) dtype=float32>, <tf.Tensor 'args_116:0' shape=(None,) dtype=float32>, <tf.Tensor 'args_117:0' shape=(None,) dtype=float32>, <tf.Tensor 'args_118:0' shape=(None,) dtype=float32>, <tf.Tensor 'args_119:0' shape=(None,) dtype=float32>, <tf.Tensor 'args_120:0' shape=(None,) dtype=float32>, <tf.Tensor 'args_121:0' shape=(None,) dtype=float32>, <tf.Tensor 'args_122:0' shape=(None,) dtype=float32>, <tf.Tensor 'args_123:0' shape=(None,) dtype=float32>, <tf.Tensor 'args_124:0' shape=(None,) dtype=float32>, <tf.Tensor 'args_125:0' shape=(None,) dtype=float32>, <tf.Tensor 'args_126:0' shape=(None,) dtype=float32>, <tf.Tensor 'args_127:0' shape=(None,) dtype=float32>, <tf.Tensor 'args_128:0' shape=(None,) dtype=float32>, <tf.Tensor 'args_129:0' shape=(None,) dtype=float32>, <tf.Tensor 'args_130:0' shape=(None,) dtype=float32>, <tf.Tensor 'args_131:0' shape=(None,) dtype=float32>, <tf.Tensor 'args_132:0' shape=(None,) dtype=float32>, <tf.Tensor 'args_133:0' shape=(None,) dtype=float32>, <tf.Tensor 'args_134:0' shape=(None,) dtype=float32>, <tf.Tensor 'args_135:0' shape=(None,) dtype=float32>, <tf.Tensor 'args_136:0' shape=(None,) dtype=float32>, <tf.Tensor 'args_137:0' shape=(None,) dtype=float32>, <tf.Tensor 'args_138:0' shape=(None,) dtype=float32>, <tf.Tensor 'args_139:0' shape=(None,) dtype=float32>, <tf.Tensor 'args_140:0' shape=(None,) dtype=float32>, <tf.Tensor 'args_141:0' shape=(None,) dtype=float32>, <tf.Tensor 'args_142:0' shape=(None,) dtype=float32>, <tf.Tensor 'args_143:0' shape=(None,) dtype=float32>, <tf.Tensor 'args_144:0' shape=(None,) dtype=float32>, <tf.Tensor 'args_145:0' shape=(None,) dtype=float32>, <tf.Tensor 'args_146:0' shape=(None,) dtype=float32>, <tf.Tensor 'args_147:0' shape=(None,) dtype=float32>, <tf.Tensor 'args_148:0' shape=(None,) dtype=float32>, <tf.Tensor 'args_149:0' shape=(None,) dtype=float32>, <tf.Tensor 'args_150:0' shape=(None,) dtype=float32>, <tf.Tensor 'args_151:0' shape=(None,) dtype=float32>, <tf.Tensor 'args_152:0' shape=(None,) dtype=float32>, <tf.Tensor 'args_153:0' shape=(None,) dtype=float32>, <tf.Tensor 'args_154:0' shape=(None,) dtype=float32>, <tf.Tensor 'args_155:0' shape=(None,) dtype=float32>, <tf.Tensor 'args_156:0' shape=(None,) dtype=float32>, <tf.Tensor 'args_157:0' shape=(None,) dtype=float32>, <tf.Tensor 'args_158:0' shape=(None,) dtype=float32>, <tf.Tensor 'args_159:0' shape=(None,) dtype=float32>, <tf.Tensor 'args_160:0' shape=(None,) dtype=float32>, <tf.Tensor 'args_161:0' shape=(None,) dtype=float32>, <tf.Tensor 'args_162:0' shape=(None,) dtype=float32>, <tf.Tensor 'args_163:0' shape=(None,) dtype=float32>, <tf.Tensor 'args_164:0' shape=(None,) dtype=float32>, <tf.Tensor 'args_165:0' shape=(None,) dtype=float32>, <tf.Tensor 'args_166:0' shape=(None,) dtype=float32>, <tf.Tensor 'args_167:0' shape=(None,) dtype=float32>, <tf.Tensor 'args_168:0' shape=(None,) dtype=float32>, <tf.Tensor 'args_169:0' shape=(None,) dtype=float32>, <tf.Tensor 'args_170:0' shape=(None,) dtype=float32>, <tf.Tensor 'args_171:0' shape=(None,) dtype=float32>, <tf.Tensor 'args_172:0' shape=(None,) dtype=float32>, <tf.Tensor 'args_173:0' shape=(None,) dtype=float32>, <tf.Tensor 'args_174:0' shape=(None,) dtype=float32>, <tf.Tensor 'args_175:0' shape=(None,) dtype=float32>, <tf.Tensor 'args_176:0' shape=(None,) dtype=float32>, <tf.Tensor 'args_177:0' shape=(None,) dtype=float32>, <tf.Tensor 'args_178:0' shape=(None,) dtype=float32>, <tf.Tensor 'args_179:0' shape=(None,) dtype=float32>, <tf.Tensor 'args_180:0' shape=(None,) dtype=float32>, <tf.Tensor 'args_181:0' shape=(None,) dtype=float32>, <tf.Tensor 'args_182:0' shape=(None,) dtype=float32>, <tf.Tensor 'args_183:0' shape=(None,) dtype=float32>, <tf.Tensor 'args_184:0' shape=(None,) dtype=float32>, <tf.Tensor 'args_185:0' shape=(None,) dtype=float32>, <tf.Tensor 'args_186:0' shape=(None,) dtype=float32>, <tf.Tensor 'args_187:0' shape=(None,) dtype=float32>, <tf.Tensor 'args_188:0' shape=(None,) dtype=float32>, <tf.Tensor 'args_189:0' shape=(None,) dtype=float32>, <tf.Tensor 'args_190:0' shape=(None,) dtype=float32>, <tf.Tensor 'args_191:0' shape=(None,) dtype=float32>, <tf.Tensor 'args_192:0' shape=(None,) dtype=float32>, <tf.Tensor 'args_193:0' shape=(None,) dtype=float32>, <tf.Tensor 'args_194:0' shape=(None,) dtype=float32>, <tf.Tensor 'args_195:0' shape=(None,) dtype=float32>, <tf.Tensor 'args_196:0' shape=(None,) dtype=float32>, <tf.Tensor 'args_197:0' shape=(None,) dtype=float32>, <tf.Tensor 'args_198:0' shape=(None,) dtype=float32>, <tf.Tensor 'args_199:0' shape=(None,) dtype=float32>, <tf.Tensor 'args_200:0' shape=(None,) dtype=float32>, <tf.Tensor 'args_201:0' shape=(None,) dtype=float32>, <tf.Tensor 'args_202:0' shape=(None,) dtype=float32>, <tf.Tensor 'args_203:0' shape=(None,) dtype=float32>, <tf.Tensor 'args_204:0' shape=(None,) dtype=float32>, <tf.Tensor 'args_205:0' shape=(None,) dtype=float32>, <tf.Tensor 'args_206:0' shape=(None,) dtype=float32>, <tf.Tensor 'args_207:0' shape=(None,) dtype=float32>, <tf.Tensor 'args_208:0' shape=(None,) dtype=float32>, <tf.Tensor 'args_209:0' shape=(None,) dtype=float32>, <tf.Tensor 'args_210:0' shape=(None,) dtype=float32>, <tf.Tensor 'args_211:0' shape=(None,) dtype=float32>, <tf.Tensor 'args_212:0' shape=(None,) dtype=float32>, <tf.Tensor 'args_213:0' shape=(None,) dtype=float32>, <tf.Tensor 'args_214:0' shape=(None,) dtype=float32>, <tf.Tensor 'args_215:0' shape=(None,) dtype=float32>, <tf.Tensor 'args_216:0' shape=(None,) dtype=float32>, <tf.Tensor 'args_217:0' shape=(None,) dtype=float32>, <tf.Tensor 'args_218:0' shape=(None,) dtype=float32>, <tf.Tensor 'args_219:0' shape=(None,) dtype=float32>, <tf.Tensor 'args_220:0' shape=(None,) dtype=float32>, <tf.Tensor 'args_221:0' shape=(None,) dtype=float32>, <tf.Tensor 'args_222:0' shape=(None,) dtype=float32>, <tf.Tensor 'args_223:0' shape=(None,) dtype=float32>, <tf.Tensor 'args_224:0' shape=(None,) dtype=float32>, <tf.Tensor 'args_225:0' shape=(None,) dtype=float32>, <tf.Tensor 'args_226:0' shape=(None,) dtype=float32>, <tf.Tensor 'args_227:0' shape=(None,) dtype=float32>, <tf.Tensor 'args_228:0' shape=(None,) dtype=float32>, <tf.Tensor 'args_229:0' shape=(None,) dtype=float32>, <tf.Tensor 'args_230:0' shape=(None,) dtype=float32>, <tf.Tensor 'args_231:0' shape=(None,) dtype=float32>, <tf.Tensor 'args_232:0' shape=(None,) dtype=float32>, <tf.Tensor 'args_233:0' shape=(None,) dtype=float32>, <tf.Tensor 'args_234:0' shape=(None,) dtype=float32>, <tf.Tensor 'args_235:0' shape=(None,) dtype=float32>, <tf.Tensor 'args_236:0' shape=(None,) dtype=float32>, <tf.Tensor 'args_237:0' shape=(None,) dtype=float32>, <tf.Tensor 'args_238:0' shape=(None,) dtype=float32>, <tf.Tensor 'args_239:0' shape=(None,) dtype=float32>, <tf.Tensor 'args_240:0' shape=(None,) dtype=float32>, <tf.Tensor 'args_241:0' shape=(None,) dtype=float32>, <tf.Tensor 'args_242:0' shape=(None,) dtype=float32>, <tf.Tensor 'args_243:0' shape=(None,) dtype=float32>, <tf.Tensor 'args_244:0' shape=(None,) dtype=float32>, <tf.Tensor 'args_245:0' shape=(None,) dtype=float32>, <tf.Tensor 'args_246:0' shape=(None,) dtype=float32>, <tf.Tensor 'args_247:0' shape=(None,) dtype=float32>, <tf.Tensor 'args_248:0' shape=(None,) dtype=float32>, <tf.Tensor 'args_249:0' shape=(None,) dtype=float32>, <tf.Tensor 'args_250:0' shape=(None,) dtype=float32>, <tf.Tensor 'args_251:0' shape=(None,) dtype=float32>, <tf.Tensor 'args_252:0' shape=(None,) dtype=float32>, <tf.Tensor 'args_253:0' shape=(None,) dtype=float32>, <tf.Tensor 'args_254:0' shape=(None,) dtype=float32>, <tf.Tensor 'args_255:0' shape=(None,) dtype=float32>, <tf.Tensor 'args_256:0' shape=(None,) dtype=float32>, <tf.Tensor 'args_257:0' shape=(None,) dtype=float32>, <tf.Tensor 'args_258:0' shape=(None,) dtype=float32>, <tf.Tensor 'args_259:0' shape=(None,) dtype=float32>, <tf.Tensor 'args_260:0' shape=(None,) dtype=float32>, <tf.Tensor 'args_261:0' shape=(None,) dtype=float32>, <tf.Tensor 'args_262:0' shape=(None,) dtype=float32>)\n",
            "(<tf.Tensor 'args_0:0' shape=(None,) dtype=float32>, <tf.Tensor 'args_1:0' shape=(None,) dtype=float32>, <tf.Tensor 'args_2:0' shape=(None,) dtype=float32>, <tf.Tensor 'args_3:0' shape=(None,) dtype=float32>, <tf.Tensor 'args_4:0' shape=(None,) dtype=float32>, <tf.Tensor 'args_5:0' shape=(None,) dtype=float32>, <tf.Tensor 'args_6:0' shape=(None,) dtype=float32>, <tf.Tensor 'args_7:0' shape=(None,) dtype=float32>, <tf.Tensor 'args_8:0' shape=(None,) dtype=float32>, <tf.Tensor 'args_9:0' shape=(None,) dtype=float32>, <tf.Tensor 'args_10:0' shape=(None,) dtype=float32>, <tf.Tensor 'args_11:0' shape=(None,) dtype=float32>, <tf.Tensor 'args_12:0' shape=(None,) dtype=float32>, <tf.Tensor 'args_13:0' shape=(None,) dtype=float32>, <tf.Tensor 'args_14:0' shape=(None,) dtype=float32>, <tf.Tensor 'args_15:0' shape=(None,) dtype=float32>, <tf.Tensor 'args_16:0' shape=(None,) dtype=float32>, <tf.Tensor 'args_17:0' shape=(None,) dtype=float32>, <tf.Tensor 'args_18:0' shape=(None,) dtype=float32>, <tf.Tensor 'args_19:0' shape=(None,) dtype=float32>, <tf.Tensor 'args_20:0' shape=(None,) dtype=float32>, <tf.Tensor 'args_21:0' shape=(None,) dtype=float32>, <tf.Tensor 'args_22:0' shape=(None,) dtype=float32>, <tf.Tensor 'args_23:0' shape=(None,) dtype=float32>, <tf.Tensor 'args_24:0' shape=(None,) dtype=float32>, <tf.Tensor 'args_25:0' shape=(None,) dtype=float32>, <tf.Tensor 'args_26:0' shape=(None,) dtype=float32>, <tf.Tensor 'args_27:0' shape=(None,) dtype=float32>, <tf.Tensor 'args_28:0' shape=(None,) dtype=float32>, <tf.Tensor 'args_29:0' shape=(None,) dtype=float32>, <tf.Tensor 'args_30:0' shape=(None,) dtype=float32>, <tf.Tensor 'args_31:0' shape=(None,) dtype=float32>, <tf.Tensor 'args_32:0' shape=(None,) dtype=float32>, <tf.Tensor 'args_33:0' shape=(None,) dtype=float32>, <tf.Tensor 'args_34:0' shape=(None,) dtype=float32>, <tf.Tensor 'args_35:0' shape=(None,) dtype=float32>, <tf.Tensor 'args_36:0' shape=(None,) dtype=float32>, <tf.Tensor 'args_37:0' shape=(None,) dtype=float32>, <tf.Tensor 'args_38:0' shape=(None,) dtype=float32>, <tf.Tensor 'args_39:0' shape=(None,) dtype=float32>, <tf.Tensor 'args_40:0' shape=(None,) dtype=float32>, <tf.Tensor 'args_41:0' shape=(None,) dtype=float32>, <tf.Tensor 'args_42:0' shape=(None,) dtype=float32>, <tf.Tensor 'args_43:0' shape=(None,) dtype=float32>, <tf.Tensor 'args_44:0' shape=(None,) dtype=float32>, <tf.Tensor 'args_45:0' shape=(None,) dtype=float32>, <tf.Tensor 'args_46:0' shape=(None,) dtype=float32>, <tf.Tensor 'args_47:0' shape=(None,) dtype=float32>, <tf.Tensor 'args_48:0' shape=(None,) dtype=float32>, <tf.Tensor 'args_49:0' shape=(None,) dtype=float32>, <tf.Tensor 'args_50:0' shape=(None,) dtype=float32>, <tf.Tensor 'args_51:0' shape=(None,) dtype=float32>, <tf.Tensor 'args_52:0' shape=(None,) dtype=float32>, <tf.Tensor 'args_53:0' shape=(None,) dtype=float32>, <tf.Tensor 'args_54:0' shape=(None,) dtype=float32>, <tf.Tensor 'args_55:0' shape=(None,) dtype=float32>, <tf.Tensor 'args_56:0' shape=(None,) dtype=float32>, <tf.Tensor 'args_57:0' shape=(None,) dtype=float32>, <tf.Tensor 'args_58:0' shape=(None,) dtype=float32>, <tf.Tensor 'args_59:0' shape=(None,) dtype=float32>, <tf.Tensor 'args_60:0' shape=(None,) dtype=float32>, <tf.Tensor 'args_61:0' shape=(None,) dtype=float32>, <tf.Tensor 'args_62:0' shape=(None,) dtype=float32>, <tf.Tensor 'args_63:0' shape=(None,) dtype=float32>, <tf.Tensor 'args_64:0' shape=(None,) dtype=float32>, <tf.Tensor 'args_65:0' shape=(None,) dtype=float32>, <tf.Tensor 'args_66:0' shape=(None,) dtype=float32>, <tf.Tensor 'args_67:0' shape=(None,) dtype=float32>, <tf.Tensor 'args_68:0' shape=(None,) dtype=float32>, <tf.Tensor 'args_69:0' shape=(None,) dtype=float32>, <tf.Tensor 'args_70:0' shape=(None,) dtype=float32>, <tf.Tensor 'args_71:0' shape=(None,) dtype=float32>, <tf.Tensor 'args_72:0' shape=(None,) dtype=float32>, <tf.Tensor 'args_73:0' shape=(None,) dtype=float32>, <tf.Tensor 'args_74:0' shape=(None,) dtype=float32>, <tf.Tensor 'args_75:0' shape=(None,) dtype=float32>, <tf.Tensor 'args_76:0' shape=(None,) dtype=float32>, <tf.Tensor 'args_77:0' shape=(None,) dtype=float32>, <tf.Tensor 'args_78:0' shape=(None,) dtype=float32>, <tf.Tensor 'args_79:0' shape=(None,) dtype=float32>, <tf.Tensor 'args_80:0' shape=(None,) dtype=float32>, <tf.Tensor 'args_81:0' shape=(None,) dtype=float32>, <tf.Tensor 'args_82:0' shape=(None,) dtype=float32>, <tf.Tensor 'args_83:0' shape=(None,) dtype=float32>, <tf.Tensor 'args_84:0' shape=(None,) dtype=float32>, <tf.Tensor 'args_85:0' shape=(None,) dtype=float32>, <tf.Tensor 'args_86:0' shape=(None,) dtype=float32>, <tf.Tensor 'args_87:0' shape=(None,) dtype=float32>, <tf.Tensor 'args_88:0' shape=(None,) dtype=float32>, <tf.Tensor 'args_89:0' shape=(None,) dtype=float32>, <tf.Tensor 'args_90:0' shape=(None,) dtype=float32>, <tf.Tensor 'args_91:0' shape=(None,) dtype=float32>, <tf.Tensor 'args_92:0' shape=(None,) dtype=float32>, <tf.Tensor 'args_93:0' shape=(None,) dtype=float32>, <tf.Tensor 'args_94:0' shape=(None,) dtype=float32>, <tf.Tensor 'args_95:0' shape=(None,) dtype=float32>, <tf.Tensor 'args_96:0' shape=(None,) dtype=float32>, <tf.Tensor 'args_97:0' shape=(None,) dtype=float32>, <tf.Tensor 'args_98:0' shape=(None,) dtype=float32>, <tf.Tensor 'args_99:0' shape=(None,) dtype=float32>, <tf.Tensor 'args_100:0' shape=(None,) dtype=float32>, <tf.Tensor 'args_101:0' shape=(None,) dtype=float32>, <tf.Tensor 'args_102:0' shape=(None,) dtype=float32>, <tf.Tensor 'args_103:0' shape=(None,) dtype=float32>, <tf.Tensor 'args_104:0' shape=(None,) dtype=float32>, <tf.Tensor 'args_105:0' shape=(None,) dtype=float32>, <tf.Tensor 'args_106:0' shape=(None,) dtype=float32>, <tf.Tensor 'args_107:0' shape=(None,) dtype=float32>, <tf.Tensor 'args_108:0' shape=(None,) dtype=float32>, <tf.Tensor 'args_109:0' shape=(None,) dtype=float32>, <tf.Tensor 'args_110:0' shape=(None,) dtype=float32>, <tf.Tensor 'args_111:0' shape=(None,) dtype=float32>, <tf.Tensor 'args_112:0' shape=(None,) dtype=float32>, <tf.Tensor 'args_113:0' shape=(None,) dtype=float32>, <tf.Tensor 'args_114:0' shape=(None,) dtype=float32>, <tf.Tensor 'args_115:0' shape=(None,) dtype=float32>, <tf.Tensor 'args_116:0' shape=(None,) dtype=float32>, <tf.Tensor 'args_117:0' shape=(None,) dtype=float32>, <tf.Tensor 'args_118:0' shape=(None,) dtype=float32>, <tf.Tensor 'args_119:0' shape=(None,) dtype=float32>, <tf.Tensor 'args_120:0' shape=(None,) dtype=float32>, <tf.Tensor 'args_121:0' shape=(None,) dtype=float32>, <tf.Tensor 'args_122:0' shape=(None,) dtype=float32>, <tf.Tensor 'args_123:0' shape=(None,) dtype=float32>, <tf.Tensor 'args_124:0' shape=(None,) dtype=float32>, <tf.Tensor 'args_125:0' shape=(None,) dtype=float32>, <tf.Tensor 'args_126:0' shape=(None,) dtype=float32>, <tf.Tensor 'args_127:0' shape=(None,) dtype=float32>, <tf.Tensor 'args_128:0' shape=(None,) dtype=float32>, <tf.Tensor 'args_129:0' shape=(None,) dtype=float32>, <tf.Tensor 'args_130:0' shape=(None,) dtype=float32>, <tf.Tensor 'args_131:0' shape=(None,) dtype=float32>, <tf.Tensor 'args_132:0' shape=(None,) dtype=float32>, <tf.Tensor 'args_133:0' shape=(None,) dtype=float32>, <tf.Tensor 'args_134:0' shape=(None,) dtype=float32>, <tf.Tensor 'args_135:0' shape=(None,) dtype=float32>, <tf.Tensor 'args_136:0' shape=(None,) dtype=float32>, <tf.Tensor 'args_137:0' shape=(None,) dtype=float32>, <tf.Tensor 'args_138:0' shape=(None,) dtype=float32>, <tf.Tensor 'args_139:0' shape=(None,) dtype=float32>, <tf.Tensor 'args_140:0' shape=(None,) dtype=float32>, <tf.Tensor 'args_141:0' shape=(None,) dtype=float32>, <tf.Tensor 'args_142:0' shape=(None,) dtype=float32>, <tf.Tensor 'args_143:0' shape=(None,) dtype=float32>, <tf.Tensor 'args_144:0' shape=(None,) dtype=float32>, <tf.Tensor 'args_145:0' shape=(None,) dtype=float32>, <tf.Tensor 'args_146:0' shape=(None,) dtype=float32>, <tf.Tensor 'args_147:0' shape=(None,) dtype=float32>, <tf.Tensor 'args_148:0' shape=(None,) dtype=float32>, <tf.Tensor 'args_149:0' shape=(None,) dtype=float32>, <tf.Tensor 'args_150:0' shape=(None,) dtype=float32>, <tf.Tensor 'args_151:0' shape=(None,) dtype=float32>, <tf.Tensor 'args_152:0' shape=(None,) dtype=float32>, <tf.Tensor 'args_153:0' shape=(None,) dtype=float32>, <tf.Tensor 'args_154:0' shape=(None,) dtype=float32>, <tf.Tensor 'args_155:0' shape=(None,) dtype=float32>, <tf.Tensor 'args_156:0' shape=(None,) dtype=float32>, <tf.Tensor 'args_157:0' shape=(None,) dtype=float32>, <tf.Tensor 'args_158:0' shape=(None,) dtype=float32>, <tf.Tensor 'args_159:0' shape=(None,) dtype=float32>, <tf.Tensor 'args_160:0' shape=(None,) dtype=float32>, <tf.Tensor 'args_161:0' shape=(None,) dtype=float32>, <tf.Tensor 'args_162:0' shape=(None,) dtype=float32>, <tf.Tensor 'args_163:0' shape=(None,) dtype=float32>, <tf.Tensor 'args_164:0' shape=(None,) dtype=float32>, <tf.Tensor 'args_165:0' shape=(None,) dtype=float32>, <tf.Tensor 'args_166:0' shape=(None,) dtype=float32>, <tf.Tensor 'args_167:0' shape=(None,) dtype=float32>, <tf.Tensor 'args_168:0' shape=(None,) dtype=float32>, <tf.Tensor 'args_169:0' shape=(None,) dtype=float32>, <tf.Tensor 'args_170:0' shape=(None,) dtype=float32>, <tf.Tensor 'args_171:0' shape=(None,) dtype=float32>, <tf.Tensor 'args_172:0' shape=(None,) dtype=float32>, <tf.Tensor 'args_173:0' shape=(None,) dtype=float32>, <tf.Tensor 'args_174:0' shape=(None,) dtype=float32>, <tf.Tensor 'args_175:0' shape=(None,) dtype=float32>, <tf.Tensor 'args_176:0' shape=(None,) dtype=float32>, <tf.Tensor 'args_177:0' shape=(None,) dtype=float32>, <tf.Tensor 'args_178:0' shape=(None,) dtype=float32>, <tf.Tensor 'args_179:0' shape=(None,) dtype=float32>, <tf.Tensor 'args_180:0' shape=(None,) dtype=float32>, <tf.Tensor 'args_181:0' shape=(None,) dtype=float32>, <tf.Tensor 'args_182:0' shape=(None,) dtype=float32>, <tf.Tensor 'args_183:0' shape=(None,) dtype=float32>, <tf.Tensor 'args_184:0' shape=(None,) dtype=float32>, <tf.Tensor 'args_185:0' shape=(None,) dtype=float32>, <tf.Tensor 'args_186:0' shape=(None,) dtype=float32>, <tf.Tensor 'args_187:0' shape=(None,) dtype=float32>, <tf.Tensor 'args_188:0' shape=(None,) dtype=float32>, <tf.Tensor 'args_189:0' shape=(None,) dtype=float32>, <tf.Tensor 'args_190:0' shape=(None,) dtype=float32>, <tf.Tensor 'args_191:0' shape=(None,) dtype=float32>, <tf.Tensor 'args_192:0' shape=(None,) dtype=float32>, <tf.Tensor 'args_193:0' shape=(None,) dtype=float32>, <tf.Tensor 'args_194:0' shape=(None,) dtype=float32>, <tf.Tensor 'args_195:0' shape=(None,) dtype=float32>, <tf.Tensor 'args_196:0' shape=(None,) dtype=float32>, <tf.Tensor 'args_197:0' shape=(None,) dtype=float32>, <tf.Tensor 'args_198:0' shape=(None,) dtype=float32>, <tf.Tensor 'args_199:0' shape=(None,) dtype=float32>, <tf.Tensor 'args_200:0' shape=(None,) dtype=float32>, <tf.Tensor 'args_201:0' shape=(None,) dtype=float32>, <tf.Tensor 'args_202:0' shape=(None,) dtype=float32>, <tf.Tensor 'args_203:0' shape=(None,) dtype=float32>, <tf.Tensor 'args_204:0' shape=(None,) dtype=float32>, <tf.Tensor 'args_205:0' shape=(None,) dtype=float32>, <tf.Tensor 'args_206:0' shape=(None,) dtype=float32>, <tf.Tensor 'args_207:0' shape=(None,) dtype=float32>, <tf.Tensor 'args_208:0' shape=(None,) dtype=float32>, <tf.Tensor 'args_209:0' shape=(None,) dtype=float32>, <tf.Tensor 'args_210:0' shape=(None,) dtype=float32>, <tf.Tensor 'args_211:0' shape=(None,) dtype=float32>, <tf.Tensor 'args_212:0' shape=(None,) dtype=float32>, <tf.Tensor 'args_213:0' shape=(None,) dtype=float32>, <tf.Tensor 'args_214:0' shape=(None,) dtype=float32>, <tf.Tensor 'args_215:0' shape=(None,) dtype=float32>, <tf.Tensor 'args_216:0' shape=(None,) dtype=float32>, <tf.Tensor 'args_217:0' shape=(None,) dtype=float32>, <tf.Tensor 'args_218:0' shape=(None,) dtype=float32>, <tf.Tensor 'args_219:0' shape=(None,) dtype=float32>, <tf.Tensor 'args_220:0' shape=(None,) dtype=float32>, <tf.Tensor 'args_221:0' shape=(None,) dtype=float32>, <tf.Tensor 'args_222:0' shape=(None,) dtype=float32>, <tf.Tensor 'args_223:0' shape=(None,) dtype=float32>, <tf.Tensor 'args_224:0' shape=(None,) dtype=float32>, <tf.Tensor 'args_225:0' shape=(None,) dtype=float32>, <tf.Tensor 'args_226:0' shape=(None,) dtype=float32>, <tf.Tensor 'args_227:0' shape=(None,) dtype=float32>, <tf.Tensor 'args_228:0' shape=(None,) dtype=float32>, <tf.Tensor 'args_229:0' shape=(None,) dtype=float32>, <tf.Tensor 'args_230:0' shape=(None,) dtype=float32>, <tf.Tensor 'args_231:0' shape=(None,) dtype=float32>, <tf.Tensor 'args_232:0' shape=(None,) dtype=float32>, <tf.Tensor 'args_233:0' shape=(None,) dtype=float32>, <tf.Tensor 'args_234:0' shape=(None,) dtype=float32>, <tf.Tensor 'args_235:0' shape=(None,) dtype=float32>, <tf.Tensor 'args_236:0' shape=(None,) dtype=float32>, <tf.Tensor 'args_237:0' shape=(None,) dtype=float32>, <tf.Tensor 'args_238:0' shape=(None,) dtype=float32>, <tf.Tensor 'args_239:0' shape=(None,) dtype=float32>, <tf.Tensor 'args_240:0' shape=(None,) dtype=float32>, <tf.Tensor 'args_241:0' shape=(None,) dtype=float32>, <tf.Tensor 'args_242:0' shape=(None,) dtype=float32>, <tf.Tensor 'args_243:0' shape=(None,) dtype=float32>, <tf.Tensor 'args_244:0' shape=(None,) dtype=float32>, <tf.Tensor 'args_245:0' shape=(None,) dtype=float32>, <tf.Tensor 'args_246:0' shape=(None,) dtype=float32>, <tf.Tensor 'args_247:0' shape=(None,) dtype=float32>, <tf.Tensor 'args_248:0' shape=(None,) dtype=float32>, <tf.Tensor 'args_249:0' shape=(None,) dtype=float32>, <tf.Tensor 'args_250:0' shape=(None,) dtype=float32>, <tf.Tensor 'args_251:0' shape=(None,) dtype=float32>, <tf.Tensor 'args_252:0' shape=(None,) dtype=float32>, <tf.Tensor 'args_253:0' shape=(None,) dtype=float32>, <tf.Tensor 'args_254:0' shape=(None,) dtype=float32>, <tf.Tensor 'args_255:0' shape=(None,) dtype=float32>, <tf.Tensor 'args_256:0' shape=(None,) dtype=float32>, <tf.Tensor 'args_257:0' shape=(None,) dtype=float32>, <tf.Tensor 'args_258:0' shape=(None,) dtype=float32>, <tf.Tensor 'args_259:0' shape=(None,) dtype=float32>, <tf.Tensor 'args_260:0' shape=(None,) dtype=float32>, <tf.Tensor 'args_261:0' shape=(None,) dtype=float32>, <tf.Tensor 'args_262:0' shape=(None,) dtype=float32>)\n",
            "(<tf.Tensor 'args_0:0' shape=(None,) dtype=float32>, <tf.Tensor 'args_1:0' shape=(None,) dtype=float32>, <tf.Tensor 'args_2:0' shape=(None,) dtype=float32>, <tf.Tensor 'args_3:0' shape=(None,) dtype=float32>, <tf.Tensor 'args_4:0' shape=(None,) dtype=float32>, <tf.Tensor 'args_5:0' shape=(None,) dtype=float32>, <tf.Tensor 'args_6:0' shape=(None,) dtype=float32>, <tf.Tensor 'args_7:0' shape=(None,) dtype=float32>, <tf.Tensor 'args_8:0' shape=(None,) dtype=float32>, <tf.Tensor 'args_9:0' shape=(None,) dtype=float32>, <tf.Tensor 'args_10:0' shape=(None,) dtype=float32>, <tf.Tensor 'args_11:0' shape=(None,) dtype=float32>, <tf.Tensor 'args_12:0' shape=(None,) dtype=float32>, <tf.Tensor 'args_13:0' shape=(None,) dtype=float32>, <tf.Tensor 'args_14:0' shape=(None,) dtype=float32>, <tf.Tensor 'args_15:0' shape=(None,) dtype=float32>, <tf.Tensor 'args_16:0' shape=(None,) dtype=float32>, <tf.Tensor 'args_17:0' shape=(None,) dtype=float32>, <tf.Tensor 'args_18:0' shape=(None,) dtype=float32>, <tf.Tensor 'args_19:0' shape=(None,) dtype=float32>, <tf.Tensor 'args_20:0' shape=(None,) dtype=float32>, <tf.Tensor 'args_21:0' shape=(None,) dtype=float32>, <tf.Tensor 'args_22:0' shape=(None,) dtype=float32>, <tf.Tensor 'args_23:0' shape=(None,) dtype=float32>, <tf.Tensor 'args_24:0' shape=(None,) dtype=float32>, <tf.Tensor 'args_25:0' shape=(None,) dtype=float32>, <tf.Tensor 'args_26:0' shape=(None,) dtype=float32>, <tf.Tensor 'args_27:0' shape=(None,) dtype=float32>, <tf.Tensor 'args_28:0' shape=(None,) dtype=float32>, <tf.Tensor 'args_29:0' shape=(None,) dtype=float32>, <tf.Tensor 'args_30:0' shape=(None,) dtype=float32>, <tf.Tensor 'args_31:0' shape=(None,) dtype=float32>, <tf.Tensor 'args_32:0' shape=(None,) dtype=float32>, <tf.Tensor 'args_33:0' shape=(None,) dtype=float32>, <tf.Tensor 'args_34:0' shape=(None,) dtype=float32>, <tf.Tensor 'args_35:0' shape=(None,) dtype=float32>, <tf.Tensor 'args_36:0' shape=(None,) dtype=float32>, <tf.Tensor 'args_37:0' shape=(None,) dtype=float32>, <tf.Tensor 'args_38:0' shape=(None,) dtype=float32>, <tf.Tensor 'args_39:0' shape=(None,) dtype=float32>, <tf.Tensor 'args_40:0' shape=(None,) dtype=float32>, <tf.Tensor 'args_41:0' shape=(None,) dtype=float32>, <tf.Tensor 'args_42:0' shape=(None,) dtype=float32>, <tf.Tensor 'args_43:0' shape=(None,) dtype=float32>, <tf.Tensor 'args_44:0' shape=(None,) dtype=float32>, <tf.Tensor 'args_45:0' shape=(None,) dtype=float32>, <tf.Tensor 'args_46:0' shape=(None,) dtype=float32>, <tf.Tensor 'args_47:0' shape=(None,) dtype=float32>, <tf.Tensor 'args_48:0' shape=(None,) dtype=float32>, <tf.Tensor 'args_49:0' shape=(None,) dtype=float32>, <tf.Tensor 'args_50:0' shape=(None,) dtype=float32>, <tf.Tensor 'args_51:0' shape=(None,) dtype=float32>, <tf.Tensor 'args_52:0' shape=(None,) dtype=float32>, <tf.Tensor 'args_53:0' shape=(None,) dtype=float32>, <tf.Tensor 'args_54:0' shape=(None,) dtype=float32>, <tf.Tensor 'args_55:0' shape=(None,) dtype=float32>, <tf.Tensor 'args_56:0' shape=(None,) dtype=float32>, <tf.Tensor 'args_57:0' shape=(None,) dtype=float32>, <tf.Tensor 'args_58:0' shape=(None,) dtype=float32>, <tf.Tensor 'args_59:0' shape=(None,) dtype=float32>, <tf.Tensor 'args_60:0' shape=(None,) dtype=float32>, <tf.Tensor 'args_61:0' shape=(None,) dtype=float32>, <tf.Tensor 'args_62:0' shape=(None,) dtype=float32>, <tf.Tensor 'args_63:0' shape=(None,) dtype=float32>, <tf.Tensor 'args_64:0' shape=(None,) dtype=float32>, <tf.Tensor 'args_65:0' shape=(None,) dtype=float32>, <tf.Tensor 'args_66:0' shape=(None,) dtype=float32>, <tf.Tensor 'args_67:0' shape=(None,) dtype=float32>, <tf.Tensor 'args_68:0' shape=(None,) dtype=float32>, <tf.Tensor 'args_69:0' shape=(None,) dtype=float32>, <tf.Tensor 'args_70:0' shape=(None,) dtype=float32>, <tf.Tensor 'args_71:0' shape=(None,) dtype=float32>, <tf.Tensor 'args_72:0' shape=(None,) dtype=float32>, <tf.Tensor 'args_73:0' shape=(None,) dtype=float32>, <tf.Tensor 'args_74:0' shape=(None,) dtype=float32>, <tf.Tensor 'args_75:0' shape=(None,) dtype=float32>, <tf.Tensor 'args_76:0' shape=(None,) dtype=float32>, <tf.Tensor 'args_77:0' shape=(None,) dtype=float32>, <tf.Tensor 'args_78:0' shape=(None,) dtype=float32>, <tf.Tensor 'args_79:0' shape=(None,) dtype=float32>, <tf.Tensor 'args_80:0' shape=(None,) dtype=float32>, <tf.Tensor 'args_81:0' shape=(None,) dtype=float32>, <tf.Tensor 'args_82:0' shape=(None,) dtype=float32>, <tf.Tensor 'args_83:0' shape=(None,) dtype=float32>, <tf.Tensor 'args_84:0' shape=(None,) dtype=float32>, <tf.Tensor 'args_85:0' shape=(None,) dtype=float32>, <tf.Tensor 'args_86:0' shape=(None,) dtype=float32>, <tf.Tensor 'args_87:0' shape=(None,) dtype=float32>, <tf.Tensor 'args_88:0' shape=(None,) dtype=float32>, <tf.Tensor 'args_89:0' shape=(None,) dtype=float32>, <tf.Tensor 'args_90:0' shape=(None,) dtype=float32>, <tf.Tensor 'args_91:0' shape=(None,) dtype=float32>, <tf.Tensor 'args_92:0' shape=(None,) dtype=float32>, <tf.Tensor 'args_93:0' shape=(None,) dtype=float32>, <tf.Tensor 'args_94:0' shape=(None,) dtype=float32>, <tf.Tensor 'args_95:0' shape=(None,) dtype=float32>, <tf.Tensor 'args_96:0' shape=(None,) dtype=float32>, <tf.Tensor 'args_97:0' shape=(None,) dtype=float32>, <tf.Tensor 'args_98:0' shape=(None,) dtype=float32>, <tf.Tensor 'args_99:0' shape=(None,) dtype=float32>, <tf.Tensor 'args_100:0' shape=(None,) dtype=float32>, <tf.Tensor 'args_101:0' shape=(None,) dtype=float32>, <tf.Tensor 'args_102:0' shape=(None,) dtype=float32>, <tf.Tensor 'args_103:0' shape=(None,) dtype=float32>, <tf.Tensor 'args_104:0' shape=(None,) dtype=float32>, <tf.Tensor 'args_105:0' shape=(None,) dtype=float32>, <tf.Tensor 'args_106:0' shape=(None,) dtype=float32>, <tf.Tensor 'args_107:0' shape=(None,) dtype=float32>, <tf.Tensor 'args_108:0' shape=(None,) dtype=float32>, <tf.Tensor 'args_109:0' shape=(None,) dtype=float32>, <tf.Tensor 'args_110:0' shape=(None,) dtype=float32>, <tf.Tensor 'args_111:0' shape=(None,) dtype=float32>, <tf.Tensor 'args_112:0' shape=(None,) dtype=float32>, <tf.Tensor 'args_113:0' shape=(None,) dtype=float32>, <tf.Tensor 'args_114:0' shape=(None,) dtype=float32>, <tf.Tensor 'args_115:0' shape=(None,) dtype=float32>, <tf.Tensor 'args_116:0' shape=(None,) dtype=float32>, <tf.Tensor 'args_117:0' shape=(None,) dtype=float32>, <tf.Tensor 'args_118:0' shape=(None,) dtype=float32>, <tf.Tensor 'args_119:0' shape=(None,) dtype=float32>, <tf.Tensor 'args_120:0' shape=(None,) dtype=float32>, <tf.Tensor 'args_121:0' shape=(None,) dtype=float32>, <tf.Tensor 'args_122:0' shape=(None,) dtype=float32>, <tf.Tensor 'args_123:0' shape=(None,) dtype=float32>, <tf.Tensor 'args_124:0' shape=(None,) dtype=float32>, <tf.Tensor 'args_125:0' shape=(None,) dtype=float32>, <tf.Tensor 'args_126:0' shape=(None,) dtype=float32>, <tf.Tensor 'args_127:0' shape=(None,) dtype=float32>, <tf.Tensor 'args_128:0' shape=(None,) dtype=float32>, <tf.Tensor 'args_129:0' shape=(None,) dtype=float32>, <tf.Tensor 'args_130:0' shape=(None,) dtype=float32>, <tf.Tensor 'args_131:0' shape=(None,) dtype=float32>, <tf.Tensor 'args_132:0' shape=(None,) dtype=float32>, <tf.Tensor 'args_133:0' shape=(None,) dtype=float32>, <tf.Tensor 'args_134:0' shape=(None,) dtype=float32>, <tf.Tensor 'args_135:0' shape=(None,) dtype=float32>, <tf.Tensor 'args_136:0' shape=(None,) dtype=float32>, <tf.Tensor 'args_137:0' shape=(None,) dtype=float32>, <tf.Tensor 'args_138:0' shape=(None,) dtype=float32>, <tf.Tensor 'args_139:0' shape=(None,) dtype=float32>, <tf.Tensor 'args_140:0' shape=(None,) dtype=float32>, <tf.Tensor 'args_141:0' shape=(None,) dtype=float32>, <tf.Tensor 'args_142:0' shape=(None,) dtype=float32>, <tf.Tensor 'args_143:0' shape=(None,) dtype=float32>, <tf.Tensor 'args_144:0' shape=(None,) dtype=float32>, <tf.Tensor 'args_145:0' shape=(None,) dtype=float32>, <tf.Tensor 'args_146:0' shape=(None,) dtype=float32>, <tf.Tensor 'args_147:0' shape=(None,) dtype=float32>, <tf.Tensor 'args_148:0' shape=(None,) dtype=float32>, <tf.Tensor 'args_149:0' shape=(None,) dtype=float32>, <tf.Tensor 'args_150:0' shape=(None,) dtype=float32>, <tf.Tensor 'args_151:0' shape=(None,) dtype=float32>, <tf.Tensor 'args_152:0' shape=(None,) dtype=float32>, <tf.Tensor 'args_153:0' shape=(None,) dtype=float32>, <tf.Tensor 'args_154:0' shape=(None,) dtype=float32>, <tf.Tensor 'args_155:0' shape=(None,) dtype=float32>, <tf.Tensor 'args_156:0' shape=(None,) dtype=float32>, <tf.Tensor 'args_157:0' shape=(None,) dtype=float32>, <tf.Tensor 'args_158:0' shape=(None,) dtype=float32>, <tf.Tensor 'args_159:0' shape=(None,) dtype=float32>, <tf.Tensor 'args_160:0' shape=(None,) dtype=float32>, <tf.Tensor 'args_161:0' shape=(None,) dtype=float32>, <tf.Tensor 'args_162:0' shape=(None,) dtype=float32>, <tf.Tensor 'args_163:0' shape=(None,) dtype=float32>, <tf.Tensor 'args_164:0' shape=(None,) dtype=float32>, <tf.Tensor 'args_165:0' shape=(None,) dtype=float32>, <tf.Tensor 'args_166:0' shape=(None,) dtype=float32>, <tf.Tensor 'args_167:0' shape=(None,) dtype=float32>, <tf.Tensor 'args_168:0' shape=(None,) dtype=float32>, <tf.Tensor 'args_169:0' shape=(None,) dtype=float32>, <tf.Tensor 'args_170:0' shape=(None,) dtype=float32>, <tf.Tensor 'args_171:0' shape=(None,) dtype=float32>, <tf.Tensor 'args_172:0' shape=(None,) dtype=float32>, <tf.Tensor 'args_173:0' shape=(None,) dtype=float32>, <tf.Tensor 'args_174:0' shape=(None,) dtype=float32>, <tf.Tensor 'args_175:0' shape=(None,) dtype=float32>, <tf.Tensor 'args_176:0' shape=(None,) dtype=float32>, <tf.Tensor 'args_177:0' shape=(None,) dtype=float32>, <tf.Tensor 'args_178:0' shape=(None,) dtype=float32>, <tf.Tensor 'args_179:0' shape=(None,) dtype=float32>, <tf.Tensor 'args_180:0' shape=(None,) dtype=float32>, <tf.Tensor 'args_181:0' shape=(None,) dtype=float32>, <tf.Tensor 'args_182:0' shape=(None,) dtype=float32>, <tf.Tensor 'args_183:0' shape=(None,) dtype=float32>, <tf.Tensor 'args_184:0' shape=(None,) dtype=float32>, <tf.Tensor 'args_185:0' shape=(None,) dtype=float32>, <tf.Tensor 'args_186:0' shape=(None,) dtype=float32>, <tf.Tensor 'args_187:0' shape=(None,) dtype=float32>, <tf.Tensor 'args_188:0' shape=(None,) dtype=float32>, <tf.Tensor 'args_189:0' shape=(None,) dtype=float32>, <tf.Tensor 'args_190:0' shape=(None,) dtype=float32>, <tf.Tensor 'args_191:0' shape=(None,) dtype=float32>, <tf.Tensor 'args_192:0' shape=(None,) dtype=float32>, <tf.Tensor 'args_193:0' shape=(None,) dtype=float32>, <tf.Tensor 'args_194:0' shape=(None,) dtype=float32>, <tf.Tensor 'args_195:0' shape=(None,) dtype=float32>, <tf.Tensor 'args_196:0' shape=(None,) dtype=float32>, <tf.Tensor 'args_197:0' shape=(None,) dtype=float32>, <tf.Tensor 'args_198:0' shape=(None,) dtype=float32>, <tf.Tensor 'args_199:0' shape=(None,) dtype=float32>, <tf.Tensor 'args_200:0' shape=(None,) dtype=float32>, <tf.Tensor 'args_201:0' shape=(None,) dtype=float32>, <tf.Tensor 'args_202:0' shape=(None,) dtype=float32>, <tf.Tensor 'args_203:0' shape=(None,) dtype=float32>, <tf.Tensor 'args_204:0' shape=(None,) dtype=float32>, <tf.Tensor 'args_205:0' shape=(None,) dtype=float32>, <tf.Tensor 'args_206:0' shape=(None,) dtype=float32>, <tf.Tensor 'args_207:0' shape=(None,) dtype=float32>, <tf.Tensor 'args_208:0' shape=(None,) dtype=float32>, <tf.Tensor 'args_209:0' shape=(None,) dtype=float32>, <tf.Tensor 'args_210:0' shape=(None,) dtype=float32>, <tf.Tensor 'args_211:0' shape=(None,) dtype=float32>, <tf.Tensor 'args_212:0' shape=(None,) dtype=float32>, <tf.Tensor 'args_213:0' shape=(None,) dtype=float32>, <tf.Tensor 'args_214:0' shape=(None,) dtype=float32>, <tf.Tensor 'args_215:0' shape=(None,) dtype=float32>, <tf.Tensor 'args_216:0' shape=(None,) dtype=float32>, <tf.Tensor 'args_217:0' shape=(None,) dtype=float32>, <tf.Tensor 'args_218:0' shape=(None,) dtype=float32>, <tf.Tensor 'args_219:0' shape=(None,) dtype=float32>, <tf.Tensor 'args_220:0' shape=(None,) dtype=float32>, <tf.Tensor 'args_221:0' shape=(None,) dtype=float32>, <tf.Tensor 'args_222:0' shape=(None,) dtype=float32>, <tf.Tensor 'args_223:0' shape=(None,) dtype=float32>, <tf.Tensor 'args_224:0' shape=(None,) dtype=float32>, <tf.Tensor 'args_225:0' shape=(None,) dtype=float32>, <tf.Tensor 'args_226:0' shape=(None,) dtype=float32>, <tf.Tensor 'args_227:0' shape=(None,) dtype=float32>, <tf.Tensor 'args_228:0' shape=(None,) dtype=float32>, <tf.Tensor 'args_229:0' shape=(None,) dtype=float32>, <tf.Tensor 'args_230:0' shape=(None,) dtype=float32>, <tf.Tensor 'args_231:0' shape=(None,) dtype=float32>, <tf.Tensor 'args_232:0' shape=(None,) dtype=float32>, <tf.Tensor 'args_233:0' shape=(None,) dtype=float32>, <tf.Tensor 'args_234:0' shape=(None,) dtype=float32>, <tf.Tensor 'args_235:0' shape=(None,) dtype=float32>, <tf.Tensor 'args_236:0' shape=(None,) dtype=float32>, <tf.Tensor 'args_237:0' shape=(None,) dtype=float32>, <tf.Tensor 'args_238:0' shape=(None,) dtype=float32>, <tf.Tensor 'args_239:0' shape=(None,) dtype=float32>, <tf.Tensor 'args_240:0' shape=(None,) dtype=float32>, <tf.Tensor 'args_241:0' shape=(None,) dtype=float32>, <tf.Tensor 'args_242:0' shape=(None,) dtype=float32>, <tf.Tensor 'args_243:0' shape=(None,) dtype=float32>, <tf.Tensor 'args_244:0' shape=(None,) dtype=float32>, <tf.Tensor 'args_245:0' shape=(None,) dtype=float32>, <tf.Tensor 'args_246:0' shape=(None,) dtype=float32>, <tf.Tensor 'args_247:0' shape=(None,) dtype=float32>, <tf.Tensor 'args_248:0' shape=(None,) dtype=float32>, <tf.Tensor 'args_249:0' shape=(None,) dtype=float32>, <tf.Tensor 'args_250:0' shape=(None,) dtype=float32>, <tf.Tensor 'args_251:0' shape=(None,) dtype=float32>, <tf.Tensor 'args_252:0' shape=(None,) dtype=float32>, <tf.Tensor 'args_253:0' shape=(None,) dtype=float32>, <tf.Tensor 'args_254:0' shape=(None,) dtype=float32>, <tf.Tensor 'args_255:0' shape=(None,) dtype=float32>, <tf.Tensor 'args_256:0' shape=(None,) dtype=float32>, <tf.Tensor 'args_257:0' shape=(None,) dtype=float32>, <tf.Tensor 'args_258:0' shape=(None,) dtype=float32>, <tf.Tensor 'args_259:0' shape=(None,) dtype=float32>, <tf.Tensor 'args_260:0' shape=(None,) dtype=float32>, <tf.Tensor 'args_261:0' shape=(None,) dtype=float32>, <tf.Tensor 'args_262:0' shape=(None,) dtype=float32>)\n",
            "(<tf.Tensor 'args_0:0' shape=(None,) dtype=float32>, <tf.Tensor 'args_1:0' shape=(None,) dtype=float32>, <tf.Tensor 'args_2:0' shape=(None,) dtype=float32>, <tf.Tensor 'args_3:0' shape=(None,) dtype=float32>, <tf.Tensor 'args_4:0' shape=(None,) dtype=float32>, <tf.Tensor 'args_5:0' shape=(None,) dtype=float32>, <tf.Tensor 'args_6:0' shape=(None,) dtype=float32>, <tf.Tensor 'args_7:0' shape=(None,) dtype=float32>, <tf.Tensor 'args_8:0' shape=(None,) dtype=float32>, <tf.Tensor 'args_9:0' shape=(None,) dtype=float32>, <tf.Tensor 'args_10:0' shape=(None,) dtype=float32>, <tf.Tensor 'args_11:0' shape=(None,) dtype=float32>, <tf.Tensor 'args_12:0' shape=(None,) dtype=float32>, <tf.Tensor 'args_13:0' shape=(None,) dtype=float32>, <tf.Tensor 'args_14:0' shape=(None,) dtype=float32>, <tf.Tensor 'args_15:0' shape=(None,) dtype=float32>, <tf.Tensor 'args_16:0' shape=(None,) dtype=float32>, <tf.Tensor 'args_17:0' shape=(None,) dtype=float32>, <tf.Tensor 'args_18:0' shape=(None,) dtype=float32>, <tf.Tensor 'args_19:0' shape=(None,) dtype=float32>, <tf.Tensor 'args_20:0' shape=(None,) dtype=float32>, <tf.Tensor 'args_21:0' shape=(None,) dtype=float32>, <tf.Tensor 'args_22:0' shape=(None,) dtype=float32>, <tf.Tensor 'args_23:0' shape=(None,) dtype=float32>, <tf.Tensor 'args_24:0' shape=(None,) dtype=float32>, <tf.Tensor 'args_25:0' shape=(None,) dtype=float32>, <tf.Tensor 'args_26:0' shape=(None,) dtype=float32>, <tf.Tensor 'args_27:0' shape=(None,) dtype=float32>, <tf.Tensor 'args_28:0' shape=(None,) dtype=float32>, <tf.Tensor 'args_29:0' shape=(None,) dtype=float32>, <tf.Tensor 'args_30:0' shape=(None,) dtype=float32>, <tf.Tensor 'args_31:0' shape=(None,) dtype=float32>, <tf.Tensor 'args_32:0' shape=(None,) dtype=float32>, <tf.Tensor 'args_33:0' shape=(None,) dtype=float32>, <tf.Tensor 'args_34:0' shape=(None,) dtype=float32>, <tf.Tensor 'args_35:0' shape=(None,) dtype=float32>, <tf.Tensor 'args_36:0' shape=(None,) dtype=float32>, <tf.Tensor 'args_37:0' shape=(None,) dtype=float32>, <tf.Tensor 'args_38:0' shape=(None,) dtype=float32>, <tf.Tensor 'args_39:0' shape=(None,) dtype=float32>, <tf.Tensor 'args_40:0' shape=(None,) dtype=float32>, <tf.Tensor 'args_41:0' shape=(None,) dtype=float32>, <tf.Tensor 'args_42:0' shape=(None,) dtype=float32>, <tf.Tensor 'args_43:0' shape=(None,) dtype=float32>, <tf.Tensor 'args_44:0' shape=(None,) dtype=float32>, <tf.Tensor 'args_45:0' shape=(None,) dtype=float32>, <tf.Tensor 'args_46:0' shape=(None,) dtype=float32>, <tf.Tensor 'args_47:0' shape=(None,) dtype=float32>, <tf.Tensor 'args_48:0' shape=(None,) dtype=float32>, <tf.Tensor 'args_49:0' shape=(None,) dtype=float32>, <tf.Tensor 'args_50:0' shape=(None,) dtype=float32>, <tf.Tensor 'args_51:0' shape=(None,) dtype=float32>, <tf.Tensor 'args_52:0' shape=(None,) dtype=float32>, <tf.Tensor 'args_53:0' shape=(None,) dtype=float32>, <tf.Tensor 'args_54:0' shape=(None,) dtype=float32>, <tf.Tensor 'args_55:0' shape=(None,) dtype=float32>, <tf.Tensor 'args_56:0' shape=(None,) dtype=float32>, <tf.Tensor 'args_57:0' shape=(None,) dtype=float32>, <tf.Tensor 'args_58:0' shape=(None,) dtype=float32>, <tf.Tensor 'args_59:0' shape=(None,) dtype=float32>, <tf.Tensor 'args_60:0' shape=(None,) dtype=float32>, <tf.Tensor 'args_61:0' shape=(None,) dtype=float32>, <tf.Tensor 'args_62:0' shape=(None,) dtype=float32>, <tf.Tensor 'args_63:0' shape=(None,) dtype=float32>, <tf.Tensor 'args_64:0' shape=(None,) dtype=float32>, <tf.Tensor 'args_65:0' shape=(None,) dtype=float32>, <tf.Tensor 'args_66:0' shape=(None,) dtype=float32>, <tf.Tensor 'args_67:0' shape=(None,) dtype=float32>, <tf.Tensor 'args_68:0' shape=(None,) dtype=float32>, <tf.Tensor 'args_69:0' shape=(None,) dtype=float32>, <tf.Tensor 'args_70:0' shape=(None,) dtype=float32>, <tf.Tensor 'args_71:0' shape=(None,) dtype=float32>, <tf.Tensor 'args_72:0' shape=(None,) dtype=float32>, <tf.Tensor 'args_73:0' shape=(None,) dtype=float32>, <tf.Tensor 'args_74:0' shape=(None,) dtype=float32>, <tf.Tensor 'args_75:0' shape=(None,) dtype=float32>, <tf.Tensor 'args_76:0' shape=(None,) dtype=float32>, <tf.Tensor 'args_77:0' shape=(None,) dtype=float32>, <tf.Tensor 'args_78:0' shape=(None,) dtype=float32>, <tf.Tensor 'args_79:0' shape=(None,) dtype=float32>, <tf.Tensor 'args_80:0' shape=(None,) dtype=float32>, <tf.Tensor 'args_81:0' shape=(None,) dtype=float32>, <tf.Tensor 'args_82:0' shape=(None,) dtype=float32>, <tf.Tensor 'args_83:0' shape=(None,) dtype=float32>, <tf.Tensor 'args_84:0' shape=(None,) dtype=float32>, <tf.Tensor 'args_85:0' shape=(None,) dtype=float32>, <tf.Tensor 'args_86:0' shape=(None,) dtype=float32>, <tf.Tensor 'args_87:0' shape=(None,) dtype=float32>, <tf.Tensor 'args_88:0' shape=(None,) dtype=float32>, <tf.Tensor 'args_89:0' shape=(None,) dtype=float32>, <tf.Tensor 'args_90:0' shape=(None,) dtype=float32>, <tf.Tensor 'args_91:0' shape=(None,) dtype=float32>, <tf.Tensor 'args_92:0' shape=(None,) dtype=float32>, <tf.Tensor 'args_93:0' shape=(None,) dtype=float32>, <tf.Tensor 'args_94:0' shape=(None,) dtype=float32>, <tf.Tensor 'args_95:0' shape=(None,) dtype=float32>, <tf.Tensor 'args_96:0' shape=(None,) dtype=float32>, <tf.Tensor 'args_97:0' shape=(None,) dtype=float32>, <tf.Tensor 'args_98:0' shape=(None,) dtype=float32>, <tf.Tensor 'args_99:0' shape=(None,) dtype=float32>, <tf.Tensor 'args_100:0' shape=(None,) dtype=float32>, <tf.Tensor 'args_101:0' shape=(None,) dtype=float32>, <tf.Tensor 'args_102:0' shape=(None,) dtype=float32>, <tf.Tensor 'args_103:0' shape=(None,) dtype=float32>, <tf.Tensor 'args_104:0' shape=(None,) dtype=float32>, <tf.Tensor 'args_105:0' shape=(None,) dtype=float32>, <tf.Tensor 'args_106:0' shape=(None,) dtype=float32>, <tf.Tensor 'args_107:0' shape=(None,) dtype=float32>, <tf.Tensor 'args_108:0' shape=(None,) dtype=float32>, <tf.Tensor 'args_109:0' shape=(None,) dtype=float32>, <tf.Tensor 'args_110:0' shape=(None,) dtype=float32>, <tf.Tensor 'args_111:0' shape=(None,) dtype=float32>, <tf.Tensor 'args_112:0' shape=(None,) dtype=float32>, <tf.Tensor 'args_113:0' shape=(None,) dtype=float32>, <tf.Tensor 'args_114:0' shape=(None,) dtype=float32>, <tf.Tensor 'args_115:0' shape=(None,) dtype=float32>, <tf.Tensor 'args_116:0' shape=(None,) dtype=float32>, <tf.Tensor 'args_117:0' shape=(None,) dtype=float32>, <tf.Tensor 'args_118:0' shape=(None,) dtype=float32>, <tf.Tensor 'args_119:0' shape=(None,) dtype=float32>, <tf.Tensor 'args_120:0' shape=(None,) dtype=float32>, <tf.Tensor 'args_121:0' shape=(None,) dtype=float32>, <tf.Tensor 'args_122:0' shape=(None,) dtype=float32>, <tf.Tensor 'args_123:0' shape=(None,) dtype=float32>, <tf.Tensor 'args_124:0' shape=(None,) dtype=float32>, <tf.Tensor 'args_125:0' shape=(None,) dtype=float32>, <tf.Tensor 'args_126:0' shape=(None,) dtype=float32>, <tf.Tensor 'args_127:0' shape=(None,) dtype=float32>, <tf.Tensor 'args_128:0' shape=(None,) dtype=float32>, <tf.Tensor 'args_129:0' shape=(None,) dtype=float32>, <tf.Tensor 'args_130:0' shape=(None,) dtype=float32>, <tf.Tensor 'args_131:0' shape=(None,) dtype=float32>, <tf.Tensor 'args_132:0' shape=(None,) dtype=float32>, <tf.Tensor 'args_133:0' shape=(None,) dtype=float32>, <tf.Tensor 'args_134:0' shape=(None,) dtype=float32>, <tf.Tensor 'args_135:0' shape=(None,) dtype=float32>, <tf.Tensor 'args_136:0' shape=(None,) dtype=float32>, <tf.Tensor 'args_137:0' shape=(None,) dtype=float32>, <tf.Tensor 'args_138:0' shape=(None,) dtype=float32>, <tf.Tensor 'args_139:0' shape=(None,) dtype=float32>, <tf.Tensor 'args_140:0' shape=(None,) dtype=float32>, <tf.Tensor 'args_141:0' shape=(None,) dtype=float32>, <tf.Tensor 'args_142:0' shape=(None,) dtype=float32>, <tf.Tensor 'args_143:0' shape=(None,) dtype=float32>, <tf.Tensor 'args_144:0' shape=(None,) dtype=float32>, <tf.Tensor 'args_145:0' shape=(None,) dtype=float32>, <tf.Tensor 'args_146:0' shape=(None,) dtype=float32>, <tf.Tensor 'args_147:0' shape=(None,) dtype=float32>, <tf.Tensor 'args_148:0' shape=(None,) dtype=float32>, <tf.Tensor 'args_149:0' shape=(None,) dtype=float32>, <tf.Tensor 'args_150:0' shape=(None,) dtype=float32>, <tf.Tensor 'args_151:0' shape=(None,) dtype=float32>, <tf.Tensor 'args_152:0' shape=(None,) dtype=float32>, <tf.Tensor 'args_153:0' shape=(None,) dtype=float32>, <tf.Tensor 'args_154:0' shape=(None,) dtype=float32>, <tf.Tensor 'args_155:0' shape=(None,) dtype=float32>, <tf.Tensor 'args_156:0' shape=(None,) dtype=float32>, <tf.Tensor 'args_157:0' shape=(None,) dtype=float32>, <tf.Tensor 'args_158:0' shape=(None,) dtype=float32>, <tf.Tensor 'args_159:0' shape=(None,) dtype=float32>, <tf.Tensor 'args_160:0' shape=(None,) dtype=float32>, <tf.Tensor 'args_161:0' shape=(None,) dtype=float32>, <tf.Tensor 'args_162:0' shape=(None,) dtype=float32>, <tf.Tensor 'args_163:0' shape=(None,) dtype=float32>, <tf.Tensor 'args_164:0' shape=(None,) dtype=float32>, <tf.Tensor 'args_165:0' shape=(None,) dtype=float32>, <tf.Tensor 'args_166:0' shape=(None,) dtype=float32>, <tf.Tensor 'args_167:0' shape=(None,) dtype=float32>, <tf.Tensor 'args_168:0' shape=(None,) dtype=float32>, <tf.Tensor 'args_169:0' shape=(None,) dtype=float32>, <tf.Tensor 'args_170:0' shape=(None,) dtype=float32>, <tf.Tensor 'args_171:0' shape=(None,) dtype=float32>, <tf.Tensor 'args_172:0' shape=(None,) dtype=float32>, <tf.Tensor 'args_173:0' shape=(None,) dtype=float32>, <tf.Tensor 'args_174:0' shape=(None,) dtype=float32>, <tf.Tensor 'args_175:0' shape=(None,) dtype=float32>, <tf.Tensor 'args_176:0' shape=(None,) dtype=float32>, <tf.Tensor 'args_177:0' shape=(None,) dtype=float32>, <tf.Tensor 'args_178:0' shape=(None,) dtype=float32>, <tf.Tensor 'args_179:0' shape=(None,) dtype=float32>, <tf.Tensor 'args_180:0' shape=(None,) dtype=float32>, <tf.Tensor 'args_181:0' shape=(None,) dtype=float32>, <tf.Tensor 'args_182:0' shape=(None,) dtype=float32>, <tf.Tensor 'args_183:0' shape=(None,) dtype=float32>, <tf.Tensor 'args_184:0' shape=(None,) dtype=float32>, <tf.Tensor 'args_185:0' shape=(None,) dtype=float32>, <tf.Tensor 'args_186:0' shape=(None,) dtype=float32>, <tf.Tensor 'args_187:0' shape=(None,) dtype=float32>, <tf.Tensor 'args_188:0' shape=(None,) dtype=float32>, <tf.Tensor 'args_189:0' shape=(None,) dtype=float32>, <tf.Tensor 'args_190:0' shape=(None,) dtype=float32>, <tf.Tensor 'args_191:0' shape=(None,) dtype=float32>, <tf.Tensor 'args_192:0' shape=(None,) dtype=float32>, <tf.Tensor 'args_193:0' shape=(None,) dtype=float32>, <tf.Tensor 'args_194:0' shape=(None,) dtype=float32>, <tf.Tensor 'args_195:0' shape=(None,) dtype=float32>, <tf.Tensor 'args_196:0' shape=(None,) dtype=float32>, <tf.Tensor 'args_197:0' shape=(None,) dtype=float32>, <tf.Tensor 'args_198:0' shape=(None,) dtype=float32>, <tf.Tensor 'args_199:0' shape=(None,) dtype=float32>, <tf.Tensor 'args_200:0' shape=(None,) dtype=float32>, <tf.Tensor 'args_201:0' shape=(None,) dtype=float32>, <tf.Tensor 'args_202:0' shape=(None,) dtype=float32>, <tf.Tensor 'args_203:0' shape=(None,) dtype=float32>, <tf.Tensor 'args_204:0' shape=(None,) dtype=float32>, <tf.Tensor 'args_205:0' shape=(None,) dtype=float32>, <tf.Tensor 'args_206:0' shape=(None,) dtype=float32>, <tf.Tensor 'args_207:0' shape=(None,) dtype=float32>, <tf.Tensor 'args_208:0' shape=(None,) dtype=float32>, <tf.Tensor 'args_209:0' shape=(None,) dtype=float32>, <tf.Tensor 'args_210:0' shape=(None,) dtype=float32>, <tf.Tensor 'args_211:0' shape=(None,) dtype=float32>, <tf.Tensor 'args_212:0' shape=(None,) dtype=float32>, <tf.Tensor 'args_213:0' shape=(None,) dtype=float32>, <tf.Tensor 'args_214:0' shape=(None,) dtype=float32>, <tf.Tensor 'args_215:0' shape=(None,) dtype=float32>, <tf.Tensor 'args_216:0' shape=(None,) dtype=float32>, <tf.Tensor 'args_217:0' shape=(None,) dtype=float32>, <tf.Tensor 'args_218:0' shape=(None,) dtype=float32>, <tf.Tensor 'args_219:0' shape=(None,) dtype=float32>, <tf.Tensor 'args_220:0' shape=(None,) dtype=float32>, <tf.Tensor 'args_221:0' shape=(None,) dtype=float32>, <tf.Tensor 'args_222:0' shape=(None,) dtype=float32>, <tf.Tensor 'args_223:0' shape=(None,) dtype=float32>, <tf.Tensor 'args_224:0' shape=(None,) dtype=float32>, <tf.Tensor 'args_225:0' shape=(None,) dtype=float32>, <tf.Tensor 'args_226:0' shape=(None,) dtype=float32>, <tf.Tensor 'args_227:0' shape=(None,) dtype=float32>, <tf.Tensor 'args_228:0' shape=(None,) dtype=float32>, <tf.Tensor 'args_229:0' shape=(None,) dtype=float32>, <tf.Tensor 'args_230:0' shape=(None,) dtype=float32>, <tf.Tensor 'args_231:0' shape=(None,) dtype=float32>, <tf.Tensor 'args_232:0' shape=(None,) dtype=float32>, <tf.Tensor 'args_233:0' shape=(None,) dtype=float32>, <tf.Tensor 'args_234:0' shape=(None,) dtype=float32>, <tf.Tensor 'args_235:0' shape=(None,) dtype=float32>, <tf.Tensor 'args_236:0' shape=(None,) dtype=float32>, <tf.Tensor 'args_237:0' shape=(None,) dtype=float32>, <tf.Tensor 'args_238:0' shape=(None,) dtype=float32>, <tf.Tensor 'args_239:0' shape=(None,) dtype=float32>, <tf.Tensor 'args_240:0' shape=(None,) dtype=float32>, <tf.Tensor 'args_241:0' shape=(None,) dtype=float32>, <tf.Tensor 'args_242:0' shape=(None,) dtype=float32>, <tf.Tensor 'args_243:0' shape=(None,) dtype=float32>, <tf.Tensor 'args_244:0' shape=(None,) dtype=float32>, <tf.Tensor 'args_245:0' shape=(None,) dtype=float32>, <tf.Tensor 'args_246:0' shape=(None,) dtype=float32>, <tf.Tensor 'args_247:0' shape=(None,) dtype=float32>, <tf.Tensor 'args_248:0' shape=(None,) dtype=float32>, <tf.Tensor 'args_249:0' shape=(None,) dtype=float32>, <tf.Tensor 'args_250:0' shape=(None,) dtype=float32>, <tf.Tensor 'args_251:0' shape=(None,) dtype=float32>, <tf.Tensor 'args_252:0' shape=(None,) dtype=float32>, <tf.Tensor 'args_253:0' shape=(None,) dtype=float32>, <tf.Tensor 'args_254:0' shape=(None,) dtype=float32>, <tf.Tensor 'args_255:0' shape=(None,) dtype=float32>, <tf.Tensor 'args_256:0' shape=(None,) dtype=float32>, <tf.Tensor 'args_257:0' shape=(None,) dtype=float32>, <tf.Tensor 'args_258:0' shape=(None,) dtype=float32>, <tf.Tensor 'args_259:0' shape=(None,) dtype=float32>, <tf.Tensor 'args_260:0' shape=(None,) dtype=float32>, <tf.Tensor 'args_261:0' shape=(None,) dtype=float32>, <tf.Tensor 'args_262:0' shape=(None,) dtype=float32>)\n",
            "(<tf.Tensor 'args_0:0' shape=(None,) dtype=float32>, <tf.Tensor 'args_1:0' shape=(None,) dtype=float32>, <tf.Tensor 'args_2:0' shape=(None,) dtype=float32>, <tf.Tensor 'args_3:0' shape=(None,) dtype=float32>, <tf.Tensor 'args_4:0' shape=(None,) dtype=float32>, <tf.Tensor 'args_5:0' shape=(None,) dtype=float32>, <tf.Tensor 'args_6:0' shape=(None,) dtype=float32>, <tf.Tensor 'args_7:0' shape=(None,) dtype=float32>, <tf.Tensor 'args_8:0' shape=(None,) dtype=float32>, <tf.Tensor 'args_9:0' shape=(None,) dtype=float32>, <tf.Tensor 'args_10:0' shape=(None,) dtype=float32>, <tf.Tensor 'args_11:0' shape=(None,) dtype=float32>, <tf.Tensor 'args_12:0' shape=(None,) dtype=float32>, <tf.Tensor 'args_13:0' shape=(None,) dtype=float32>, <tf.Tensor 'args_14:0' shape=(None,) dtype=float32>, <tf.Tensor 'args_15:0' shape=(None,) dtype=float32>, <tf.Tensor 'args_16:0' shape=(None,) dtype=float32>, <tf.Tensor 'args_17:0' shape=(None,) dtype=float32>, <tf.Tensor 'args_18:0' shape=(None,) dtype=float32>, <tf.Tensor 'args_19:0' shape=(None,) dtype=float32>, <tf.Tensor 'args_20:0' shape=(None,) dtype=float32>, <tf.Tensor 'args_21:0' shape=(None,) dtype=float32>, <tf.Tensor 'args_22:0' shape=(None,) dtype=float32>, <tf.Tensor 'args_23:0' shape=(None,) dtype=float32>, <tf.Tensor 'args_24:0' shape=(None,) dtype=float32>, <tf.Tensor 'args_25:0' shape=(None,) dtype=float32>, <tf.Tensor 'args_26:0' shape=(None,) dtype=float32>, <tf.Tensor 'args_27:0' shape=(None,) dtype=float32>, <tf.Tensor 'args_28:0' shape=(None,) dtype=float32>, <tf.Tensor 'args_29:0' shape=(None,) dtype=float32>, <tf.Tensor 'args_30:0' shape=(None,) dtype=float32>, <tf.Tensor 'args_31:0' shape=(None,) dtype=float32>, <tf.Tensor 'args_32:0' shape=(None,) dtype=float32>, <tf.Tensor 'args_33:0' shape=(None,) dtype=float32>, <tf.Tensor 'args_34:0' shape=(None,) dtype=float32>, <tf.Tensor 'args_35:0' shape=(None,) dtype=float32>, <tf.Tensor 'args_36:0' shape=(None,) dtype=float32>, <tf.Tensor 'args_37:0' shape=(None,) dtype=float32>, <tf.Tensor 'args_38:0' shape=(None,) dtype=float32>, <tf.Tensor 'args_39:0' shape=(None,) dtype=float32>, <tf.Tensor 'args_40:0' shape=(None,) dtype=float32>, <tf.Tensor 'args_41:0' shape=(None,) dtype=float32>, <tf.Tensor 'args_42:0' shape=(None,) dtype=float32>, <tf.Tensor 'args_43:0' shape=(None,) dtype=float32>, <tf.Tensor 'args_44:0' shape=(None,) dtype=float32>, <tf.Tensor 'args_45:0' shape=(None,) dtype=float32>, <tf.Tensor 'args_46:0' shape=(None,) dtype=float32>, <tf.Tensor 'args_47:0' shape=(None,) dtype=float32>, <tf.Tensor 'args_48:0' shape=(None,) dtype=float32>, <tf.Tensor 'args_49:0' shape=(None,) dtype=float32>, <tf.Tensor 'args_50:0' shape=(None,) dtype=float32>, <tf.Tensor 'args_51:0' shape=(None,) dtype=float32>, <tf.Tensor 'args_52:0' shape=(None,) dtype=float32>, <tf.Tensor 'args_53:0' shape=(None,) dtype=float32>, <tf.Tensor 'args_54:0' shape=(None,) dtype=float32>, <tf.Tensor 'args_55:0' shape=(None,) dtype=float32>, <tf.Tensor 'args_56:0' shape=(None,) dtype=float32>, <tf.Tensor 'args_57:0' shape=(None,) dtype=float32>, <tf.Tensor 'args_58:0' shape=(None,) dtype=float32>, <tf.Tensor 'args_59:0' shape=(None,) dtype=float32>, <tf.Tensor 'args_60:0' shape=(None,) dtype=float32>, <tf.Tensor 'args_61:0' shape=(None,) dtype=float32>, <tf.Tensor 'args_62:0' shape=(None,) dtype=float32>, <tf.Tensor 'args_63:0' shape=(None,) dtype=float32>, <tf.Tensor 'args_64:0' shape=(None,) dtype=float32>, <tf.Tensor 'args_65:0' shape=(None,) dtype=float32>, <tf.Tensor 'args_66:0' shape=(None,) dtype=float32>, <tf.Tensor 'args_67:0' shape=(None,) dtype=float32>, <tf.Tensor 'args_68:0' shape=(None,) dtype=float32>, <tf.Tensor 'args_69:0' shape=(None,) dtype=float32>, <tf.Tensor 'args_70:0' shape=(None,) dtype=float32>, <tf.Tensor 'args_71:0' shape=(None,) dtype=float32>, <tf.Tensor 'args_72:0' shape=(None,) dtype=float32>, <tf.Tensor 'args_73:0' shape=(None,) dtype=float32>, <tf.Tensor 'args_74:0' shape=(None,) dtype=float32>, <tf.Tensor 'args_75:0' shape=(None,) dtype=float32>, <tf.Tensor 'args_76:0' shape=(None,) dtype=float32>, <tf.Tensor 'args_77:0' shape=(None,) dtype=float32>, <tf.Tensor 'args_78:0' shape=(None,) dtype=float32>, <tf.Tensor 'args_79:0' shape=(None,) dtype=float32>, <tf.Tensor 'args_80:0' shape=(None,) dtype=float32>, <tf.Tensor 'args_81:0' shape=(None,) dtype=float32>, <tf.Tensor 'args_82:0' shape=(None,) dtype=float32>, <tf.Tensor 'args_83:0' shape=(None,) dtype=float32>, <tf.Tensor 'args_84:0' shape=(None,) dtype=float32>, <tf.Tensor 'args_85:0' shape=(None,) dtype=float32>, <tf.Tensor 'args_86:0' shape=(None,) dtype=float32>, <tf.Tensor 'args_87:0' shape=(None,) dtype=float32>, <tf.Tensor 'args_88:0' shape=(None,) dtype=float32>, <tf.Tensor 'args_89:0' shape=(None,) dtype=float32>, <tf.Tensor 'args_90:0' shape=(None,) dtype=float32>, <tf.Tensor 'args_91:0' shape=(None,) dtype=float32>, <tf.Tensor 'args_92:0' shape=(None,) dtype=float32>, <tf.Tensor 'args_93:0' shape=(None,) dtype=float32>, <tf.Tensor 'args_94:0' shape=(None,) dtype=float32>, <tf.Tensor 'args_95:0' shape=(None,) dtype=float32>, <tf.Tensor 'args_96:0' shape=(None,) dtype=float32>, <tf.Tensor 'args_97:0' shape=(None,) dtype=float32>, <tf.Tensor 'args_98:0' shape=(None,) dtype=float32>, <tf.Tensor 'args_99:0' shape=(None,) dtype=float32>, <tf.Tensor 'args_100:0' shape=(None,) dtype=float32>, <tf.Tensor 'args_101:0' shape=(None,) dtype=float32>, <tf.Tensor 'args_102:0' shape=(None,) dtype=float32>, <tf.Tensor 'args_103:0' shape=(None,) dtype=float32>, <tf.Tensor 'args_104:0' shape=(None,) dtype=float32>, <tf.Tensor 'args_105:0' shape=(None,) dtype=float32>, <tf.Tensor 'args_106:0' shape=(None,) dtype=float32>, <tf.Tensor 'args_107:0' shape=(None,) dtype=float32>, <tf.Tensor 'args_108:0' shape=(None,) dtype=float32>, <tf.Tensor 'args_109:0' shape=(None,) dtype=float32>, <tf.Tensor 'args_110:0' shape=(None,) dtype=float32>, <tf.Tensor 'args_111:0' shape=(None,) dtype=float32>, <tf.Tensor 'args_112:0' shape=(None,) dtype=float32>, <tf.Tensor 'args_113:0' shape=(None,) dtype=float32>, <tf.Tensor 'args_114:0' shape=(None,) dtype=float32>, <tf.Tensor 'args_115:0' shape=(None,) dtype=float32>, <tf.Tensor 'args_116:0' shape=(None,) dtype=float32>, <tf.Tensor 'args_117:0' shape=(None,) dtype=float32>, <tf.Tensor 'args_118:0' shape=(None,) dtype=float32>, <tf.Tensor 'args_119:0' shape=(None,) dtype=float32>, <tf.Tensor 'args_120:0' shape=(None,) dtype=float32>, <tf.Tensor 'args_121:0' shape=(None,) dtype=float32>, <tf.Tensor 'args_122:0' shape=(None,) dtype=float32>, <tf.Tensor 'args_123:0' shape=(None,) dtype=float32>, <tf.Tensor 'args_124:0' shape=(None,) dtype=float32>, <tf.Tensor 'args_125:0' shape=(None,) dtype=float32>, <tf.Tensor 'args_126:0' shape=(None,) dtype=float32>, <tf.Tensor 'args_127:0' shape=(None,) dtype=float32>, <tf.Tensor 'args_128:0' shape=(None,) dtype=float32>, <tf.Tensor 'args_129:0' shape=(None,) dtype=float32>, <tf.Tensor 'args_130:0' shape=(None,) dtype=float32>, <tf.Tensor 'args_131:0' shape=(None,) dtype=float32>, <tf.Tensor 'args_132:0' shape=(None,) dtype=float32>, <tf.Tensor 'args_133:0' shape=(None,) dtype=float32>, <tf.Tensor 'args_134:0' shape=(None,) dtype=float32>, <tf.Tensor 'args_135:0' shape=(None,) dtype=float32>, <tf.Tensor 'args_136:0' shape=(None,) dtype=float32>, <tf.Tensor 'args_137:0' shape=(None,) dtype=float32>, <tf.Tensor 'args_138:0' shape=(None,) dtype=float32>, <tf.Tensor 'args_139:0' shape=(None,) dtype=float32>, <tf.Tensor 'args_140:0' shape=(None,) dtype=float32>, <tf.Tensor 'args_141:0' shape=(None,) dtype=float32>, <tf.Tensor 'args_142:0' shape=(None,) dtype=float32>, <tf.Tensor 'args_143:0' shape=(None,) dtype=float32>, <tf.Tensor 'args_144:0' shape=(None,) dtype=float32>, <tf.Tensor 'args_145:0' shape=(None,) dtype=float32>, <tf.Tensor 'args_146:0' shape=(None,) dtype=float32>, <tf.Tensor 'args_147:0' shape=(None,) dtype=float32>, <tf.Tensor 'args_148:0' shape=(None,) dtype=float32>, <tf.Tensor 'args_149:0' shape=(None,) dtype=float32>, <tf.Tensor 'args_150:0' shape=(None,) dtype=float32>, <tf.Tensor 'args_151:0' shape=(None,) dtype=float32>, <tf.Tensor 'args_152:0' shape=(None,) dtype=float32>, <tf.Tensor 'args_153:0' shape=(None,) dtype=float32>, <tf.Tensor 'args_154:0' shape=(None,) dtype=float32>, <tf.Tensor 'args_155:0' shape=(None,) dtype=float32>, <tf.Tensor 'args_156:0' shape=(None,) dtype=float32>, <tf.Tensor 'args_157:0' shape=(None,) dtype=float32>, <tf.Tensor 'args_158:0' shape=(None,) dtype=float32>, <tf.Tensor 'args_159:0' shape=(None,) dtype=float32>, <tf.Tensor 'args_160:0' shape=(None,) dtype=float32>, <tf.Tensor 'args_161:0' shape=(None,) dtype=float32>, <tf.Tensor 'args_162:0' shape=(None,) dtype=float32>, <tf.Tensor 'args_163:0' shape=(None,) dtype=float32>, <tf.Tensor 'args_164:0' shape=(None,) dtype=float32>, <tf.Tensor 'args_165:0' shape=(None,) dtype=float32>, <tf.Tensor 'args_166:0' shape=(None,) dtype=float32>, <tf.Tensor 'args_167:0' shape=(None,) dtype=float32>, <tf.Tensor 'args_168:0' shape=(None,) dtype=float32>, <tf.Tensor 'args_169:0' shape=(None,) dtype=float32>, <tf.Tensor 'args_170:0' shape=(None,) dtype=float32>, <tf.Tensor 'args_171:0' shape=(None,) dtype=float32>, <tf.Tensor 'args_172:0' shape=(None,) dtype=float32>, <tf.Tensor 'args_173:0' shape=(None,) dtype=float32>, <tf.Tensor 'args_174:0' shape=(None,) dtype=float32>, <tf.Tensor 'args_175:0' shape=(None,) dtype=float32>, <tf.Tensor 'args_176:0' shape=(None,) dtype=float32>, <tf.Tensor 'args_177:0' shape=(None,) dtype=float32>, <tf.Tensor 'args_178:0' shape=(None,) dtype=float32>, <tf.Tensor 'args_179:0' shape=(None,) dtype=float32>, <tf.Tensor 'args_180:0' shape=(None,) dtype=float32>, <tf.Tensor 'args_181:0' shape=(None,) dtype=float32>, <tf.Tensor 'args_182:0' shape=(None,) dtype=float32>, <tf.Tensor 'args_183:0' shape=(None,) dtype=float32>, <tf.Tensor 'args_184:0' shape=(None,) dtype=float32>, <tf.Tensor 'args_185:0' shape=(None,) dtype=float32>, <tf.Tensor 'args_186:0' shape=(None,) dtype=float32>, <tf.Tensor 'args_187:0' shape=(None,) dtype=float32>, <tf.Tensor 'args_188:0' shape=(None,) dtype=float32>, <tf.Tensor 'args_189:0' shape=(None,) dtype=float32>, <tf.Tensor 'args_190:0' shape=(None,) dtype=float32>, <tf.Tensor 'args_191:0' shape=(None,) dtype=float32>, <tf.Tensor 'args_192:0' shape=(None,) dtype=float32>, <tf.Tensor 'args_193:0' shape=(None,) dtype=float32>, <tf.Tensor 'args_194:0' shape=(None,) dtype=float32>, <tf.Tensor 'args_195:0' shape=(None,) dtype=float32>, <tf.Tensor 'args_196:0' shape=(None,) dtype=float32>, <tf.Tensor 'args_197:0' shape=(None,) dtype=float32>, <tf.Tensor 'args_198:0' shape=(None,) dtype=float32>, <tf.Tensor 'args_199:0' shape=(None,) dtype=float32>, <tf.Tensor 'args_200:0' shape=(None,) dtype=float32>, <tf.Tensor 'args_201:0' shape=(None,) dtype=float32>, <tf.Tensor 'args_202:0' shape=(None,) dtype=float32>, <tf.Tensor 'args_203:0' shape=(None,) dtype=float32>, <tf.Tensor 'args_204:0' shape=(None,) dtype=float32>, <tf.Tensor 'args_205:0' shape=(None,) dtype=float32>, <tf.Tensor 'args_206:0' shape=(None,) dtype=float32>, <tf.Tensor 'args_207:0' shape=(None,) dtype=float32>, <tf.Tensor 'args_208:0' shape=(None,) dtype=float32>, <tf.Tensor 'args_209:0' shape=(None,) dtype=float32>, <tf.Tensor 'args_210:0' shape=(None,) dtype=float32>, <tf.Tensor 'args_211:0' shape=(None,) dtype=float32>, <tf.Tensor 'args_212:0' shape=(None,) dtype=float32>, <tf.Tensor 'args_213:0' shape=(None,) dtype=float32>, <tf.Tensor 'args_214:0' shape=(None,) dtype=float32>, <tf.Tensor 'args_215:0' shape=(None,) dtype=float32>, <tf.Tensor 'args_216:0' shape=(None,) dtype=float32>, <tf.Tensor 'args_217:0' shape=(None,) dtype=float32>, <tf.Tensor 'args_218:0' shape=(None,) dtype=float32>, <tf.Tensor 'args_219:0' shape=(None,) dtype=float32>, <tf.Tensor 'args_220:0' shape=(None,) dtype=float32>, <tf.Tensor 'args_221:0' shape=(None,) dtype=float32>, <tf.Tensor 'args_222:0' shape=(None,) dtype=float32>, <tf.Tensor 'args_223:0' shape=(None,) dtype=float32>, <tf.Tensor 'args_224:0' shape=(None,) dtype=float32>, <tf.Tensor 'args_225:0' shape=(None,) dtype=float32>, <tf.Tensor 'args_226:0' shape=(None,) dtype=float32>, <tf.Tensor 'args_227:0' shape=(None,) dtype=float32>, <tf.Tensor 'args_228:0' shape=(None,) dtype=float32>, <tf.Tensor 'args_229:0' shape=(None,) dtype=float32>, <tf.Tensor 'args_230:0' shape=(None,) dtype=float32>, <tf.Tensor 'args_231:0' shape=(None,) dtype=float32>, <tf.Tensor 'args_232:0' shape=(None,) dtype=float32>, <tf.Tensor 'args_233:0' shape=(None,) dtype=float32>, <tf.Tensor 'args_234:0' shape=(None,) dtype=float32>, <tf.Tensor 'args_235:0' shape=(None,) dtype=float32>, <tf.Tensor 'args_236:0' shape=(None,) dtype=float32>, <tf.Tensor 'args_237:0' shape=(None,) dtype=float32>, <tf.Tensor 'args_238:0' shape=(None,) dtype=float32>, <tf.Tensor 'args_239:0' shape=(None,) dtype=float32>, <tf.Tensor 'args_240:0' shape=(None,) dtype=float32>, <tf.Tensor 'args_241:0' shape=(None,) dtype=float32>, <tf.Tensor 'args_242:0' shape=(None,) dtype=float32>, <tf.Tensor 'args_243:0' shape=(None,) dtype=float32>, <tf.Tensor 'args_244:0' shape=(None,) dtype=float32>, <tf.Tensor 'args_245:0' shape=(None,) dtype=float32>, <tf.Tensor 'args_246:0' shape=(None,) dtype=float32>, <tf.Tensor 'args_247:0' shape=(None,) dtype=float32>, <tf.Tensor 'args_248:0' shape=(None,) dtype=float32>, <tf.Tensor 'args_249:0' shape=(None,) dtype=float32>, <tf.Tensor 'args_250:0' shape=(None,) dtype=float32>, <tf.Tensor 'args_251:0' shape=(None,) dtype=float32>, <tf.Tensor 'args_252:0' shape=(None,) dtype=float32>, <tf.Tensor 'args_253:0' shape=(None,) dtype=float32>, <tf.Tensor 'args_254:0' shape=(None,) dtype=float32>, <tf.Tensor 'args_255:0' shape=(None,) dtype=float32>, <tf.Tensor 'args_256:0' shape=(None,) dtype=float32>, <tf.Tensor 'args_257:0' shape=(None,) dtype=float32>, <tf.Tensor 'args_258:0' shape=(None,) dtype=float32>, <tf.Tensor 'args_259:0' shape=(None,) dtype=float32>, <tf.Tensor 'args_260:0' shape=(None,) dtype=float32>, <tf.Tensor 'args_261:0' shape=(None,) dtype=float32>, <tf.Tensor 'args_262:0' shape=(None,) dtype=float32>)\n"
          ],
          "name": "stdout"
        }
      ]
    },
    {
      "cell_type": "code",
      "metadata": {
        "id": "GoNPIG8Qj0G8",
        "colab": {
          "base_uri": "https://localhost:8080/",
          "height": 35
        },
        "outputId": "afa34460-72a0-4f2c-98a0-39806d4c0f87"
      },
      "source": [
        "test_metrics = evaluation(state.model, federated_test_data)\n",
        "str(test_metrics)"
      ],
      "execution_count": null,
      "outputs": [
        {
          "output_type": "execute_result",
          "data": {
            "application/vnd.google.colaboratory.intrinsic+json": {
              "type": "string"
            },
            "text/plain": [
              "\"OrderedDict([('binary_accuracy', 0.9652067), ('recall', 0.0), ('precision', 0.0), ('loss', 0.15449838)])\""
            ]
          },
          "metadata": {
            "tags": []
          },
          "execution_count": 28
        }
      ]
    },
    {
      "cell_type": "markdown",
      "metadata": {
        "id": "m2TBCVOYzJal"
      },
      "source": [
        "Board di tensorboad, per visualizzare la loss e le metriche in modo interattivo. "
      ]
    },
    {
      "cell_type": "code",
      "metadata": {
        "id": "ezubvjWqluK-"
      },
      "source": [
        "# logdir = \"/tmp/logs/scalars/training/\"\n",
        "# summary_writer = tf.summary.create_file_writer(logdir)\n",
        "# state = iterative_process.initialize()\n",
        "# with summary_writer.as_default():\n",
        "#   for round_num in range(1, NUM_ROUNDS):\n",
        "#     state, metrics = iterative_process.next(state, federated_train_data)\n",
        "#     for name, value in metrics['train'].items():\n",
        "#       tf.summary.scalar(name, value, step=round_num)"
      ],
      "execution_count": null,
      "outputs": []
    },
    {
      "cell_type": "code",
      "metadata": {
        "id": "pM1FgnQao2-h"
      },
      "source": [
        "# !ls {logdir}\n",
        "# %tensorboard --logdir {logdir} --port=0"
      ],
      "execution_count": null,
      "outputs": []
    }
  ]
}