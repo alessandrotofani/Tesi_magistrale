{
  "nbformat": 4,
  "nbformat_minor": 0,
  "metadata": {
    "colab": {
      "name": "6_Federated.ipynb",
      "provenance": [],
      "authorship_tag": "ABX9TyMlNP3oa6Pobl7fD6aRiKo/",
      "include_colab_link": true
    },
    "kernelspec": {
      "name": "python3",
      "display_name": "Python 3"
    },
    "accelerator": "GPU"
  },
  "cells": [
    {
      "cell_type": "markdown",
      "metadata": {
        "id": "view-in-github",
        "colab_type": "text"
      },
      "source": [
        "<a href=\"https://colab.research.google.com/github/alessandrotofani/Tesi_magistrale/blob/master/6_Federated_Embedding_Extraction.ipynb\" target=\"_parent\"><img src=\"https://colab.research.google.com/assets/colab-badge.svg\" alt=\"Open In Colab\"/></a>"
      ]
    },
    {
      "cell_type": "markdown",
      "metadata": {
        "id": "2XuZ_oMl43ft"
      },
      "source": [
        "Overview: https://www.tensorflow.org/federated\r\n",
        "\r\n",
        "Image classification tutorial: https://www.tensorflow.org/federated/tutorials/federated_learning_for_image_classification"
      ]
    },
    {
      "cell_type": "markdown",
      "metadata": {
        "id": "qOKJPHxH4j9j"
      },
      "source": [
        "# Installation"
      ]
    },
    {
      "cell_type": "code",
      "metadata": {
        "id": "lgkJJpzD4gVs",
        "colab": {
          "base_uri": "https://localhost:8080/"
        },
        "outputId": "325a0286-bfa0-4812-8a06-49233501cdd1"
      },
      "source": [
        "!pip install --quiet fastai==2.2.5\r\n",
        "!pip install --quiet folium==0.2.1\r\n",
        "!pip install --quiet imgaug==0.2.5\r\n",
        "!pip install --quiet tensorflow==2.3.0\r\n",
        "!pip install --quiet tensorflow_federated==0.17.0\r\n",
        "!pip install --quiet --upgrade nest_asyncio"
      ],
      "execution_count": 1,
      "outputs": [
        {
          "output_type": "stream",
          "text": [
            "\u001b[?25l\r\u001b[K     |█▊                              | 10kB 26.0MB/s eta 0:00:01\r\u001b[K     |███▍                            | 20kB 16.1MB/s eta 0:00:01\r\u001b[K     |█████▏                          | 30kB 13.5MB/s eta 0:00:01\r\u001b[K     |██████▉                         | 40kB 12.7MB/s eta 0:00:01\r\u001b[K     |████████▋                       | 51kB 8.5MB/s eta 0:00:01\r\u001b[K     |██████████▎                     | 61kB 8.8MB/s eta 0:00:01\r\u001b[K     |████████████                    | 71kB 9.0MB/s eta 0:00:01\r\u001b[K     |█████████████▊                  | 81kB 9.9MB/s eta 0:00:01\r\u001b[K     |███████████████▍                | 92kB 9.3MB/s eta 0:00:01\r\u001b[K     |█████████████████▏              | 102kB 8.3MB/s eta 0:00:01\r\u001b[K     |██████████████████▉             | 112kB 8.3MB/s eta 0:00:01\r\u001b[K     |████████████████████▋           | 122kB 8.3MB/s eta 0:00:01\r\u001b[K     |██████████████████████▎         | 133kB 8.3MB/s eta 0:00:01\r\u001b[K     |████████████████████████        | 143kB 8.3MB/s eta 0:00:01\r\u001b[K     |█████████████████████████▊      | 153kB 8.3MB/s eta 0:00:01\r\u001b[K     |███████████████████████████▍    | 163kB 8.3MB/s eta 0:00:01\r\u001b[K     |█████████████████████████████▏  | 174kB 8.3MB/s eta 0:00:01\r\u001b[K     |██████████████████████████████▉ | 184kB 8.3MB/s eta 0:00:01\r\u001b[K     |████████████████████████████████| 194kB 8.3MB/s \n",
            "\u001b[K     |████████████████████████████████| 61kB 8.4MB/s \n",
            "\u001b[K     |████████████████████████████████| 71kB 5.3MB/s \n",
            "\u001b[?25h  Building wheel for folium (setup.py) ... \u001b[?25l\u001b[?25hdone\n",
            "\u001b[K     |████████████████████████████████| 563kB 8.1MB/s \n",
            "\u001b[?25h  Building wheel for imgaug (setup.py) ... \u001b[?25l\u001b[?25hdone\n",
            "\u001b[K     |████████████████████████████████| 320.4MB 54kB/s \n",
            "\u001b[K     |████████████████████████████████| 460kB 52.0MB/s \n",
            "\u001b[K     |████████████████████████████████| 20.1MB 1.4MB/s \n",
            "\u001b[K     |████████████████████████████████| 522kB 7.7MB/s \n",
            "\u001b[K     |████████████████████████████████| 112kB 18.0MB/s \n",
            "\u001b[K     |████████████████████████████████| 153kB 18.4MB/s \n",
            "\u001b[K     |████████████████████████████████| 1.1MB 18.8MB/s \n",
            "\u001b[K     |████████████████████████████████| 174kB 47.3MB/s \n",
            "\u001b[K     |████████████████████████████████| 3.0MB 39.9MB/s \n",
            "\u001b[?25h  Building wheel for absl-py (setup.py) ... \u001b[?25l\u001b[?25hdone\n"
          ],
          "name": "stdout"
        }
      ]
    },
    {
      "cell_type": "code",
      "metadata": {
        "id": "C6Oguz1e4p29"
      },
      "source": [
        "import nest_asyncio\r\n",
        "nest_asyncio.apply()\r\n",
        "%load_ext tensorboard"
      ],
      "execution_count": 2,
      "outputs": []
    },
    {
      "cell_type": "code",
      "metadata": {
        "id": "0u_qzOek4tlY",
        "colab": {
          "base_uri": "https://localhost:8080/"
        },
        "outputId": "bbed7b61-bbbe-49b0-f47e-b8dcf5eacb08"
      },
      "source": [
        "import collections\r\n",
        "import numpy as np\r\n",
        "import tensorflow as tf\r\n",
        "import tensorflow_federated as tff\r\n",
        "import pandas as pd \r\n",
        "import os\r\n",
        "from google.colab import drive\r\n",
        "drive.mount('/content/drive')"
      ],
      "execution_count": 3,
      "outputs": [
        {
          "output_type": "stream",
          "text": [
            "Mounted at /content/drive\n"
          ],
          "name": "stdout"
        }
      ]
    },
    {
      "cell_type": "code",
      "metadata": {
        "id": "a5VvCBjWmrJC"
      },
      "source": [
        "import sys \n",
        "sys.path.append('/content/drive/MyDrive/Tesi_magistrale/Tesi_magistrale')\n",
        "import mf\n",
        "\n",
        "import warnings\n",
        "warnings.simplefilter(action='ignore', category=FutureWarning)"
      ],
      "execution_count": 4,
      "outputs": []
    },
    {
      "cell_type": "markdown",
      "metadata": {
        "id": "NDXvW9iFxqft"
      },
      "source": [
        "# Import data"
      ]
    },
    {
      "cell_type": "markdown",
      "metadata": {
        "id": "P8nvRkt1yB7_"
      },
      "source": [
        "I dati vengono importati e poi splittati in train e test. "
      ]
    },
    {
      "cell_type": "code",
      "metadata": {
        "id": "nU2jrVgkla8Y"
      },
      "source": [
        "data = pd.read_csv('/content/drive/MyDrive/Tesi_magistrale/Dataset/IEEE/Output/data.csv')\n",
        "data = mf.new_processing(data)\n",
        "col_name = mf.get_col(data)"
      ],
      "execution_count": 5,
      "outputs": []
    },
    {
      "cell_type": "code",
      "metadata": {
        "colab": {
          "base_uri": "https://localhost:8080/"
        },
        "id": "XtEnrz70T013",
        "outputId": "93822ee6-14d6-42b6-b6bc-0e265155fe87"
      },
      "source": [
        "print('Rate safe/fraud:', (1/mf.ratio(data)).round(3))"
      ],
      "execution_count": 6,
      "outputs": [
        {
          "output_type": "stream",
          "text": [
            "Rate safe/fraud: 0.036\n"
          ],
          "name": "stdout"
        }
      ]
    },
    {
      "cell_type": "code",
      "metadata": {
        "id": "ENsVg9iBZQ0h"
      },
      "source": [
        "data, categorical_col_toemb, numerical_col = mf.labelEncoding(data, merge = True)\n",
        "col_name = mf.get_col(data)"
      ],
      "execution_count": 7,
      "outputs": []
    },
    {
      "cell_type": "code",
      "metadata": {
        "id": "4Od2G2GXmbuw"
      },
      "source": [
        "input_size = {}\n",
        "for col in categorical_col_toemb:\n",
        "  input_size[col] = int(data[col].max() + 1)"
      ],
      "execution_count": 8,
      "outputs": []
    },
    {
      "cell_type": "code",
      "metadata": {
        "id": "FwLvcxedva43",
        "colab": {
          "base_uri": "https://localhost:8080/"
        },
        "outputId": "033795a8-e642-406f-c5b7-ad2a723559f3"
      },
      "source": [
        "input_size"
      ],
      "execution_count": 9,
      "outputs": [
        {
          "output_type": "execute_result",
          "data": {
            "text/plain": [
              "{'P_emaildomain': 61,\n",
              " 'R_emaildomain': 62,\n",
              " 'browser_name': 41,\n",
              " 'device_name': 15,\n",
              " 'device_version': 295,\n",
              " 'os_name': 9}"
            ]
          },
          "metadata": {
            "tags": []
          },
          "execution_count": 9
        }
      ]
    },
    {
      "cell_type": "code",
      "metadata": {
        "id": "ALxYKHaMJSa1"
      },
      "source": [
        "from sklearn.model_selection import train_test_split\n",
        "import tensorflow as tf\n",
        "from tensorflow import keras\n",
        "from tensorflow.keras import models\n",
        "from tensorflow.keras import layers\n",
        "\n",
        "def underSampling(data, frac_under=0.3):\n",
        "  from imblearn.under_sampling import RandomUnderSampler \n",
        "  us = RandomUnderSampler(sampling_strategy=frac_under, random_state=42)\n",
        "  y = data['isFraud']\n",
        "  X = data.drop(columns = ['isFraud'])\n",
        "  X_us, y_us = us.fit_resample(X, y)\n",
        "  return X_us, y_us\n",
        "\n",
        "def overSampling(X, y = None, frac_over=0.08, pd = False):\n",
        "  from imblearn.over_sampling import SMOTE\n",
        "  if pd:\n",
        "    y = X['isFraud']\n",
        "    X = X.drop(columns=['isFraud'])\n",
        "  sm = SMOTE(sampling_strategy=frac_over, random_state=42)\n",
        "  X_sm, y_sm = sm.fit_resample(X, y)  \n",
        "  return X_sm, y_sm\n",
        "\n",
        "def rate(y):\n",
        "  n_fraud = np.count_nonzero(y == 1)\n",
        "  n_safe = np.shape(y)[0] - n_fraud\n",
        "  return f'Rate safe/fraud: {n_safe/n_fraud}'\n",
        "\n",
        "def get_keras_dataset(X, cols):\n",
        "  df = pd.DataFrame(data=X, columns=cols)\n",
        "  X = {str(col) : np.array(df[col]) for col in df.columns}\n",
        "  return X\n",
        "\n",
        "def get_server_data(data, frac=0.2):\n",
        "  indici = np.arange(0,data.index[-1]+1, dtype=int)\n",
        "  server_id = np.random.choice(indici, int(len(indici)*frac))\n",
        "  client_id = [id for id in indici if id not in server_id]\n",
        "  return data.iloc[server_id,:], data.iloc[client_id,:]"
      ],
      "execution_count": 10,
      "outputs": []
    },
    {
      "cell_type": "code",
      "metadata": {
        "id": "YOJnEsf-KyTY"
      },
      "source": [
        "def server_embedding_model(data, input_size, epochs=20, performance=True):\n",
        "  from sklearn.metrics import f1_score, recall_score, precision_score\n",
        "\n",
        "  y = data['isFraud']\n",
        "  X = data.drop(columns = ['isFraud'])\n",
        "  X_train, X_test, y_train, y_test = train_test_split(X, y, test_size = 0.2)\n",
        "  X_train, y_train = overSampling(X_train, y_train)\n",
        "  X_train, X_val, y_train, y_val = train_test_split(X_train, y_train, test_size=0.25, random_state=42)\n",
        "\n",
        "  keras.backend.clear_session()\n",
        "  # Embedding for categorical features\n",
        "  cols = mf.get_col(data)\n",
        "  categorical_input = []\n",
        "  numerical_input = []\n",
        "  embeddings = []\n",
        "  embedding_layer_names = []\n",
        "  for col in categorical_col_toemb:\n",
        "  # for col in categorical_col:\n",
        "      _input = layers.Input(shape=[1], name=col)\n",
        "      _embed = layers.Embedding(input_size[col], 3, name=col+'_emb')(_input)\n",
        "      categorical_input.append(_input)\n",
        "      embeddings.append(_embed)\n",
        "      embedding_layer_names.append(col+'_emb')\n",
        "      \n",
        "  # Simple inputs for the numeric features\n",
        "  for col in numerical_col:\n",
        "      numeric_input = layers.Input(shape=(1,), name=col)\n",
        "      numerical_input.append(numeric_input)\n",
        "      \n",
        "  # Merge the numeric inputs\n",
        "  merged_num_inputs = layers.concatenate(numerical_input)\n",
        "\n",
        "  # Merge embedding and use a Droput to prevent overfittting\n",
        "  merged_inputs = layers.concatenate(embeddings)\n",
        "  spatial_dropout = layers.SpatialDropout1D(0.6)(merged_inputs) # 0.2\n",
        "  flat_embed = layers.Flatten()(spatial_dropout)\n",
        "\n",
        "  # Merge embedding and numeric features\n",
        "  all_features = layers.concatenate([flat_embed, merged_num_inputs])\n",
        "\n",
        "  # MLP for classification\n",
        "  x = layers.Dense(240, activation='relu')(all_features) #360\n",
        "  x = layers.BatchNormalization()(x)\n",
        "  x = layers.Dropout(0.4)(x) \n",
        "\n",
        "  # Final model\n",
        "  output = layers.Dense(1, activation='sigmoid')(x)\n",
        "  model = models.Model(inputs=categorical_input + numerical_input, outputs=output)\n",
        "  model.compile(loss='binary_crossentropy', optimizer='adam', metrics=['accuracy',tf.keras.metrics.Recall(), tf.keras.metrics.Precision()])\n",
        "  print('***************************************************************')\n",
        "  print('Model\\'s training')\n",
        "  history = model.fit(get_keras_dataset(X_train, cols), y_train, epochs=epochs, \n",
        "      batch_size=1024, validation_data=(get_keras_dataset(X_val, cols),y_val),\n",
        "      verbose=1,shuffle = True , class_weight = {0: 0.5, 1: 4} )\n",
        "\n",
        "  if performance:\n",
        "    y_pred = model.predict(get_keras_dataset(X_test, cols))\n",
        "    mf.plot_cm(y_test, y_pred, 'Blues')\n",
        "    mf.plot_roc(\"ROC curve\", y_test, y_pred,color='blue')\n",
        "    print('***************************************************************')\n",
        "    print('Model\\'s performances')\n",
        "    y_predicted = [1 if n >= 0.5 else 0 for n in y_pred ]\n",
        "    print('F1 score: ',f1_score(y_test, y_predicted, average=\"binary\"))\n",
        "    print('Recall: ', recall_score(y_test, y_predicted, average='binary'))\n",
        "    print('Precision: ', precision_score(y_test, y_predicted,  average='binary'))\n",
        "  return model"
      ],
      "execution_count": 11,
      "outputs": []
    },
    {
      "cell_type": "code",
      "metadata": {
        "id": "1PIkfQymM4Ph"
      },
      "source": [
        "server_data, client_data = get_server_data(data, frac=0.2)"
      ],
      "execution_count": 12,
      "outputs": []
    },
    {
      "cell_type": "code",
      "metadata": {
        "id": "ENdbYS1kKAsJ",
        "colab": {
          "base_uri": "https://localhost:8080/",
          "height": 1000
        },
        "outputId": "9bb4eb11-1b5f-4184-af2b-0ab392bbd7ad"
      },
      "source": [
        "server_model = server_embedding_model(server_data, input_size)"
      ],
      "execution_count": 13,
      "outputs": [
        {
          "output_type": "stream",
          "text": [
            "***************************************************************\n",
            "Model's training\n",
            "Epoch 1/20\n",
            "73/73 [==============================] - 3s 45ms/step - loss: 0.4595 - accuracy: 0.7144 - recall: 0.6682 - precision: 0.1590 - val_loss: 0.5482 - val_accuracy: 0.8713 - val_recall: 0.5595 - val_precision: 0.3037\n",
            "Epoch 2/20\n",
            "73/73 [==============================] - 2s 29ms/step - loss: 0.3886 - accuracy: 0.8179 - recall: 0.6281 - precision: 0.2308 - val_loss: 0.4246 - val_accuracy: 0.9291 - val_recall: 0.3480 - val_precision: 0.5387\n",
            "Epoch 3/20\n",
            "73/73 [==============================] - 2s 30ms/step - loss: 0.3683 - accuracy: 0.8357 - recall: 0.6394 - precision: 0.2554 - val_loss: 0.4452 - val_accuracy: 0.8877 - val_recall: 0.5661 - val_precision: 0.3460\n",
            "Epoch 4/20\n",
            "73/73 [==============================] - 2s 32ms/step - loss: 0.3569 - accuracy: 0.8426 - recall: 0.6488 - precision: 0.2672 - val_loss: 0.3405 - val_accuracy: 0.9172 - val_recall: 0.4633 - val_precision: 0.4475\n",
            "Epoch 5/20\n",
            "73/73 [==============================] - 2s 30ms/step - loss: 0.3512 - accuracy: 0.8517 - recall: 0.6541 - precision: 0.2824 - val_loss: 0.3627 - val_accuracy: 0.8954 - val_recall: 0.5987 - val_precision: 0.3746\n",
            "Epoch 6/20\n",
            "73/73 [==============================] - 2s 34ms/step - loss: 0.3436 - accuracy: 0.8509 - recall: 0.6686 - precision: 0.2839 - val_loss: 0.3765 - val_accuracy: 0.8732 - val_recall: 0.6694 - val_precision: 0.3287\n",
            "Epoch 7/20\n",
            "73/73 [==============================] - 2s 32ms/step - loss: 0.3390 - accuracy: 0.8566 - recall: 0.6695 - precision: 0.2937 - val_loss: 0.3861 - val_accuracy: 0.8497 - val_recall: 0.7308 - val_precision: 0.2953\n",
            "Epoch 8/20\n",
            "73/73 [==============================] - 2s 33ms/step - loss: 0.3346 - accuracy: 0.8580 - recall: 0.6807 - precision: 0.2981 - val_loss: 0.3250 - val_accuracy: 0.8868 - val_recall: 0.6596 - val_precision: 0.3595\n",
            "Epoch 9/20\n",
            "73/73 [==============================] - 2s 30ms/step - loss: 0.3350 - accuracy: 0.8551 - recall: 0.6829 - precision: 0.2933 - val_loss: 0.3689 - val_accuracy: 0.8465 - val_recall: 0.7297 - val_precision: 0.2901\n",
            "Epoch 10/20\n",
            "73/73 [==============================] - 2s 30ms/step - loss: 0.3296 - accuracy: 0.8619 - recall: 0.6849 - precision: 0.3059 - val_loss: 0.3983 - val_accuracy: 0.8365 - val_recall: 0.7694 - val_precision: 0.2820\n",
            "Epoch 11/20\n",
            "73/73 [==============================] - 2s 31ms/step - loss: 0.3243 - accuracy: 0.8599 - recall: 0.6971 - precision: 0.3044 - val_loss: 0.2743 - val_accuracy: 0.9106 - val_recall: 0.5889 - val_precision: 0.4281\n",
            "Epoch 12/20\n",
            "73/73 [==============================] - 2s 30ms/step - loss: 0.3255 - accuracy: 0.8603 - recall: 0.6905 - precision: 0.3039 - val_loss: 0.2702 - val_accuracy: 0.9033 - val_recall: 0.6438 - val_precision: 0.4069\n",
            "Epoch 13/20\n",
            "73/73 [==============================] - 2s 31ms/step - loss: 0.3204 - accuracy: 0.8659 - recall: 0.6957 - precision: 0.3152 - val_loss: 0.2648 - val_accuracy: 0.9110 - val_recall: 0.6128 - val_precision: 0.4323\n",
            "Epoch 14/20\n",
            "73/73 [==============================] - 3s 35ms/step - loss: 0.3205 - accuracy: 0.8649 - recall: 0.6973 - precision: 0.3137 - val_loss: 0.3278 - val_accuracy: 0.8734 - val_recall: 0.7129 - val_precision: 0.3362\n",
            "Epoch 15/20\n",
            "73/73 [==============================] - 2s 31ms/step - loss: 0.3182 - accuracy: 0.8671 - recall: 0.7017 - precision: 0.3187 - val_loss: 0.3358 - val_accuracy: 0.8719 - val_recall: 0.7314 - val_precision: 0.3357\n",
            "Epoch 16/20\n",
            "73/73 [==============================] - 2s 32ms/step - loss: 0.3175 - accuracy: 0.8657 - recall: 0.7037 - precision: 0.3162 - val_loss: 0.4002 - val_accuracy: 0.8324 - val_recall: 0.7885 - val_precision: 0.2794\n",
            "Epoch 17/20\n",
            "73/73 [==============================] - 2s 32ms/step - loss: 0.3145 - accuracy: 0.8680 - recall: 0.7036 - precision: 0.3207 - val_loss: 0.2966 - val_accuracy: 0.9034 - val_recall: 0.6433 - val_precision: 0.4072\n",
            "Epoch 18/20\n",
            "73/73 [==============================] - 2s 29ms/step - loss: 0.3128 - accuracy: 0.8710 - recall: 0.7036 - precision: 0.3268 - val_loss: 0.2075 - val_accuracy: 0.9302 - val_recall: 0.5280 - val_precision: 0.5326\n",
            "Epoch 19/20\n",
            "73/73 [==============================] - 2s 32ms/step - loss: 0.3137 - accuracy: 0.8672 - recall: 0.7094 - precision: 0.3201 - val_loss: 0.3058 - val_accuracy: 0.8911 - val_recall: 0.6955 - val_precision: 0.3762\n",
            "Epoch 20/20\n",
            "73/73 [==============================] - 2s 30ms/step - loss: 0.3119 - accuracy: 0.8695 - recall: 0.7136 - precision: 0.3253 - val_loss: 0.3286 - val_accuracy: 0.8719 - val_recall: 0.7461 - val_precision: 0.3380\n"
          ],
          "name": "stdout"
        },
        {
          "output_type": "display_data",
          "data": {
            "image/png": "[encoded data removed]",
            "text/plain": [
              "<Figure size 360x360 with 2 Axes>"
            ]
          },
          "metadata": {
            "tags": [],
            "needs_background": "light"
          }
        },
        {
          "output_type": "stream",
          "text": [
            "AUC:  0.8541770550346157\n",
            "***************************************************************\n",
            "Model's performances\n",
            "F1 score:  0.25353486104339346\n",
            "Recall:  0.65\n",
            "Precision:  0.15748031496062992\n"
          ],
          "name": "stdout"
        },
        {
          "output_type": "display_data",
          "data": {
            "image/png": "[encoded data removed]",
            "text/plain": [
              "<Figure size 432x288 with 1 Axes>"
            ]
          },
          "metadata": {
            "tags": [],
            "needs_background": "light"
          }
        }
      ]
    },
    {
      "cell_type": "markdown",
      "metadata": {
        "id": "SEP2tgXTNKDP"
      },
      "source": [
        "Estrarre i layer di embedding e trasformare i dati. "
      ]
    },
    {
      "cell_type": "code",
      "metadata": {
        "id": "4-l8se9tSZLX"
      },
      "source": [
        "def client_data_embedding(data, server_model):\n",
        "  embeddings = {}\n",
        "  for i in range(6,12):\n",
        "    embeddings[server_model.layers[i].name[:-4]] = server_model.layers[i].get_weights()[0] #https://stackoverflow.com/questions/51235118/how-to-get-word-vectors-from-keras-embedding-layer\n",
        "  new_data = data.copy()\n",
        "  new_cols = []\n",
        "  for col in categorical_col_toemb:\n",
        "    for i in range(1,4):\n",
        "      new_col = col + '_'+str(i)\n",
        "      new_cols.append(new_col)\n",
        "  x = {}\n",
        "  for i in new_cols:\n",
        "    x[i] = {}\n",
        "  for col in x:\n",
        "    for i in range(len(embeddings[col[:-2]])):\n",
        "      j = int(col[-1])\n",
        "      x[col][i+1] = embeddings[col[:-2]][i][j-1]\n",
        "  for col in x:\n",
        "    new_data[col] = new_data[col[:-2]]\n",
        "  for col in x:\n",
        "    new_data[col].replace(to_replace=x[col], inplace=True)\n",
        "  return new_data"
      ],
      "execution_count": 14,
      "outputs": []
    },
    {
      "cell_type": "code",
      "metadata": {
        "id": "giaj1KEL4wct"
      },
      "source": [
        "client_data_embedded = client_data_embedding(client_data, server_model)"
      ],
      "execution_count": 15,
      "outputs": []
    },
    {
      "cell_type": "code",
      "metadata": {
        "id": "InAYt4jcL1-Y"
      },
      "source": [
        "train_data, test_data = train_test_split(client_data_embedded, test_size=0.1)"
      ],
      "execution_count": 16,
      "outputs": []
    },
    {
      "cell_type": "code",
      "metadata": {
        "id": "v4cddCAqK4pY"
      },
      "source": [
        "# X, y = underSampling(train_data)\n",
        "# rate(y)"
      ],
      "execution_count": 17,
      "outputs": []
    },
    {
      "cell_type": "code",
      "metadata": {
        "id": "LqiPC-MkK_BX",
        "colab": {
          "base_uri": "https://localhost:8080/",
          "height": 35
        },
        "outputId": "32ab9fca-5ad8-41f5-8d35-0d93548ebe92"
      },
      "source": [
        "X, y = overSampling(train_data, pd=True)\n",
        "rate(y)"
      ],
      "execution_count": 18,
      "outputs": [
        {
          "output_type": "execute_result",
          "data": {
            "application/vnd.google.colaboratory.intrinsic+json": {
              "type": "string"
            },
            "text/plain": [
              "'Rate safe/fraud: 12.500327380952381'"
            ]
          },
          "metadata": {
            "tags": []
          },
          "execution_count": 18
        }
      ]
    },
    {
      "cell_type": "code",
      "metadata": {
        "id": "CHpsO2hJLFeR"
      },
      "source": [
        "cols = mf.get_col(client_data_embedded)\n",
        "train_data = mf.mergeResult(X, y, cols)"
      ],
      "execution_count": 19,
      "outputs": []
    },
    {
      "cell_type": "code",
      "metadata": {
        "colab": {
          "base_uri": "https://localhost:8080/"
        },
        "id": "2bpOGbYXMAwY",
        "outputId": "5695253c-45b3-47a6-9b56-85fc9d3d1ee8"
      },
      "source": [
        "print('Dataset size:', train_data.shape[0])"
      ],
      "execution_count": 20,
      "outputs": [
        {
          "output_type": "stream",
          "text": [
            "Dataset size: 453611\n"
          ],
          "name": "stdout"
        }
      ]
    },
    {
      "cell_type": "code",
      "metadata": {
        "id": "GawBnA83QyYj"
      },
      "source": [
        "del client_data_embedded, client_data, server_data, X, y"
      ],
      "execution_count": 21,
      "outputs": []
    },
    {
      "cell_type": "markdown",
      "metadata": {
        "id": "AhZXxAzVxt5B"
      },
      "source": [
        "# Convert data"
      ]
    },
    {
      "cell_type": "markdown",
      "metadata": {
        "id": "KyqEukFeyHXA"
      },
      "source": [
        "Il dataset deve essere convertito in un tensore, con componenti (feature_vector, label). "
      ]
    },
    {
      "cell_type": "code",
      "metadata": {
        "id": "LuQfRXzrqoW2"
      },
      "source": [
        "def to_tensor(data, cols, n_clients = 5):\n",
        "  shuffled = data.sample(frac=1)\n",
        "  result = np.array_split(shuffled, n_clients)  \n",
        "\n",
        "  res = []\n",
        "  label = []\n",
        "\n",
        "  for dataset in result:\n",
        "    label.append(dataset['isFraud'])\n",
        "    res.append(dataset.drop(columns = ['isFraud']))\n",
        "\n",
        "  dataset = {}\n",
        "  for i in range(n_clients):\n",
        "    dataset[i] = tf.data.Dataset.from_tensor_slices((res[i], label[i]))\n",
        "\n",
        "  return dataset"
      ],
      "execution_count": 22,
      "outputs": []
    },
    {
      "cell_type": "code",
      "metadata": {
        "id": "LozyQwZOrCub"
      },
      "source": [
        "dataset = to_tensor(train_data, cols)\n",
        "test_set = to_tensor(test_data, cols)"
      ],
      "execution_count": 23,
      "outputs": []
    },
    {
      "cell_type": "code",
      "metadata": {
        "id": "U0_iMvxDQs6l"
      },
      "source": [
        "# del train_data, test_data"
      ],
      "execution_count": 24,
      "outputs": []
    },
    {
      "cell_type": "markdown",
      "metadata": {
        "id": "PbRUraJkxzmR"
      },
      "source": [
        "# Federated data"
      ]
    },
    {
      "cell_type": "markdown",
      "metadata": {
        "id": "wWq8QN4vyP1t"
      },
      "source": [
        "Si definisce la funzione di preprocessing del dataset, che serve a creare l'OrderedDict, su cui si andranno a creare le batch necessarie per il training del modello. "
      ]
    },
    {
      "cell_type": "code",
      "metadata": {
        "id": "vHxlJrXRs9qP"
      },
      "source": [
        "NUM_CLIENTS = 5\n",
        "NUM_EPOCHS = 10\n",
        "BATCH_SIZE = 500 #250\n",
        "SHUFFLE_BUFFER = 10\n",
        "PREFETCH_BUFFER = 10\n",
        "\n",
        "def preprocess(dataset):\n",
        "  def batch_format_fn(e1, e2):\n",
        "    return collections.OrderedDict(\n",
        "        x = tf.cast(e1, tf.float32),\n",
        "        y = tf.cast(e2, tf.int32))\n",
        "  return dataset.repeat(NUM_EPOCHS).shuffle(SHUFFLE_BUFFER).batch(\n",
        "      BATCH_SIZE).map(batch_format_fn).prefetch(PREFETCH_BUFFER)\n",
        "\n",
        "preprocessed_example_dataset = preprocess(dataset[0])\n",
        "# sample_batch = tf.nest.map_structure(lambda x: x.numpy(), next(iter(preprocessed_example_dataset)))\n",
        "# sample_batch"
      ],
      "execution_count": 41,
      "outputs": []
    },
    {
      "cell_type": "markdown",
      "metadata": {
        "id": "tcIsH9tRyc0p"
      },
      "source": [
        "I dati federati sono una lista di dataset divisi per cliente. "
      ]
    },
    {
      "cell_type": "code",
      "metadata": {
        "id": "6coH5NXYrQ8A",
        "colab": {
          "base_uri": "https://localhost:8080/"
        },
        "outputId": "576397bf-6ce5-4c9c-945f-3e406ef22b8b"
      },
      "source": [
        "def make_federated_data(dataset):\n",
        "  federated = []\n",
        "  for i in dataset:\n",
        "    federated.append(preprocess(dataset[i]))\n",
        "  return federated\n",
        "\n",
        "federated_train_data = make_federated_data(dataset)\n",
        "\n",
        "print('Number of client datasets: {l}'.format(l=len(federated_train_data)))\n",
        "print('First dataset: {d}'.format(d=federated_train_data[0]))"
      ],
      "execution_count": 42,
      "outputs": [
        {
          "output_type": "stream",
          "text": [
            "Number of client datasets: 5\n",
            "First dataset: <PrefetchDataset shapes: OrderedDict([(x, (None, 280)), (y, (None,))]), types: OrderedDict([(x, tf.float32), (y, tf.int32)])>\n"
          ],
          "name": "stdout"
        }
      ]
    },
    {
      "cell_type": "code",
      "metadata": {
        "id": "doNQKip2REvH"
      },
      "source": [
        "# del dataset"
      ],
      "execution_count": 27,
      "outputs": []
    },
    {
      "cell_type": "markdown",
      "metadata": {
        "id": "57xoboqEx25g"
      },
      "source": [
        "# Model creation and training"
      ]
    },
    {
      "cell_type": "markdown",
      "metadata": {
        "id": "oACFRKebyl3u"
      },
      "source": [
        "Creazione della rete neurale che sarà trainata. \n",
        "\n",
        "Viene anche definita la model function, in cui si specifica il modello, il tipo di input, la loss e le metriche da utilizzare. \n",
        "\n",
        "Infine si costruisce il processo di averaging, specificando l'optimizer da usare, cioè SGD, e il learning rate del server e del client. "
      ]
    },
    {
      "cell_type": "code",
      "metadata": {
        "colab": {
          "base_uri": "https://localhost:8080/"
        },
        "id": "XJ7I89xqY5MK",
        "outputId": "b80e18e0-e4db-45d5-a4e4-b671f855b2a6"
      },
      "source": [
        "test_set"
      ],
      "execution_count": 28,
      "outputs": [
        {
          "output_type": "execute_result",
          "data": {
            "text/plain": [
              "{0: <TensorSliceDataset shapes: ((280,), ()), types: (tf.float32, tf.float32)>,\n",
              " 1: <TensorSliceDataset shapes: ((280,), ()), types: (tf.float32, tf.float32)>,\n",
              " 2: <TensorSliceDataset shapes: ((280,), ()), types: (tf.float32, tf.float32)>,\n",
              " 3: <TensorSliceDataset shapes: ((280,), ()), types: (tf.float32, tf.float32)>,\n",
              " 4: <TensorSliceDataset shapes: ((280,), ()), types: (tf.float32, tf.float32)>}"
            ]
          },
          "metadata": {
            "tags": []
          },
          "execution_count": 28
        }
      ]
    },
    {
      "cell_type": "code",
      "metadata": {
        "id": "F4A7FqBv8G7f"
      },
      "source": [
        "from tensorflow import keras\n",
        "from tensorflow.keras.models import Sequential\n",
        "from tensorflow.keras.layers import Flatten, Dense, Dropout, Input, BatchNormalization\n",
        "\n",
        "def create_keras_model():\n",
        "  model = Sequential()\n",
        "  model.add(Input(shape=(280,)))   \n",
        "  model.add(Dense(360, activation='relu')) \n",
        "  model.add(BatchNormalization())\n",
        "  model.add(Dropout(0.4))\n",
        "  model.add(Dense(1, activation='sigmoid'))\n",
        "  return model\n",
        "\n",
        "\n",
        "def model_fn():\n",
        "  soglia = 0.5\n",
        "  keras_model = create_keras_model()\n",
        "  return tff.learning.from_keras_model(\n",
        "      keras_model,\n",
        "      input_spec=preprocessed_example_dataset.element_spec,\n",
        "      loss= tf.keras.losses.BinaryCrossentropy(),\n",
        "      metrics=[tf.keras.metrics.BinaryAccuracy(), \n",
        "               tf.keras.metrics.Recall(thresholds=soglia),\n",
        "               tf.keras.metrics.Precision(thresholds=soglia)])\n",
        "  \n",
        "iterative_process = tff.learning.build_federated_averaging_process(\n",
        "    model_fn,  \n",
        "    client_optimizer_fn=lambda: tf.keras.optimizers.SGD(learning_rate=0.5), #0.05\n",
        "    server_optimizer_fn=lambda: tf.keras.optimizers.SGD(learning_rate=1)) "
      ],
      "execution_count": 45,
      "outputs": []
    },
    {
      "cell_type": "markdown",
      "metadata": {
        "id": "GUUQi8kdzB3_"
      },
      "source": [
        "Training del modello. "
      ]
    },
    {
      "cell_type": "code",
      "metadata": {
        "id": "vjLvHl-fA7wW",
        "colab": {
          "base_uri": "https://localhost:8080/"
        },
        "outputId": "e7c7d98e-ce78-409c-d960-91b89704b55c"
      },
      "source": [
        "NUM_ROUNDS = 20\n",
        "state = iterative_process.initialize()\n",
        "for round_num in range(1, NUM_ROUNDS + 1):\n",
        "  state, metrics = iterative_process.next(state, federated_train_data)\n",
        "  print('round {:2d}, metrics={}'.format(round_num, metrics))"
      ],
      "execution_count": 46,
      "outputs": [
        {
          "output_type": "stream",
          "text": [
            "round  1, metrics=OrderedDict([('broadcast', ()), ('aggregation', OrderedDict([('value_sum_process', ()), ('weight_sum_process', ())])), ('train', OrderedDict([('binary_accuracy', 0.9206693), ('recall', 0.027806548), ('precision', 0.21970606), ('loss', 0.28699204)]))])\n",
            "round  2, metrics=OrderedDict([('broadcast', ()), ('aggregation', OrderedDict([('value_sum_process', ()), ('weight_sum_process', ())])), ('train', OrderedDict([('binary_accuracy', 0.92360365), ('recall', 0.018092262), ('precision', 0.2679272), ('loss', 0.23801723)]))])\n",
            "round  3, metrics=OrderedDict([('broadcast', ()), ('aggregation', OrderedDict([('value_sum_process', ()), ('weight_sum_process', ())])), ('train', OrderedDict([('binary_accuracy', 0.9244272), ('recall', 0.014559524), ('precision', 0.29523236), ('loss', 0.2309947)]))])\n",
            "round  4, metrics=OrderedDict([('broadcast', ()), ('aggregation', OrderedDict([('value_sum_process', ()), ('weight_sum_process', ())])), ('train', OrderedDict([('binary_accuracy', 0.9248967), ('recall', 0.013922619), ('precision', 0.3336186), ('loss', 0.22773586)]))])\n",
            "round  5, metrics=OrderedDict([('broadcast', ()), ('aggregation', OrderedDict([('value_sum_process', ()), ('weight_sum_process', ())])), ('train', OrderedDict([('binary_accuracy', 0.9251224), ('recall', 0.015872024), ('precision', 0.3725723), ('loss', 0.22551396)]))])\n",
            "round  6, metrics=OrderedDict([('broadcast', ()), ('aggregation', OrderedDict([('value_sum_process', ()), ('weight_sum_process', ())])), ('train', OrderedDict([('binary_accuracy', 0.92534745), ('recall', 0.016684525), ('precision', 0.40529206), ('loss', 0.22415249)]))])\n",
            "round  7, metrics=OrderedDict([('broadcast', ()), ('aggregation', OrderedDict([('value_sum_process', ()), ('weight_sum_process', ())])), ('train', OrderedDict([('binary_accuracy', 0.9255274), ('recall', 0.018369047), ('precision', 0.43627626), ('loss', 0.22290727)]))])\n",
            "round  8, metrics=OrderedDict([('broadcast', ()), ('aggregation', OrderedDict([('value_sum_process', ()), ('weight_sum_process', ())])), ('train', OrderedDict([('binary_accuracy', 0.9255488), ('recall', 0.021559523), ('precision', 0.4471881), ('loss', 0.22190294)]))])\n",
            "round  9, metrics=OrderedDict([('broadcast', ()), ('aggregation', OrderedDict([('value_sum_process', ()), ('weight_sum_process', ())])), ('train', OrderedDict([('binary_accuracy', 0.92568517), ('recall', 0.02367262), ('precision', 0.46802), ('loss', 0.22072493)]))])\n",
            "round 10, metrics=OrderedDict([('broadcast', ()), ('aggregation', OrderedDict([('value_sum_process', ()), ('weight_sum_process', ())])), ('train', OrderedDict([('binary_accuracy', 0.9258088), ('recall', 0.026220238), ('precision', 0.4853727), ('loss', 0.22004384)]))])\n",
            "round 11, metrics=OrderedDict([('broadcast', ()), ('aggregation', OrderedDict([('value_sum_process', ()), ('weight_sum_process', ())])), ('train', OrderedDict([('binary_accuracy', 0.92587733), ('recall', 0.028166667), ('precision', 0.49438438), ('loss', 0.21934518)]))])\n",
            "round 12, metrics=OrderedDict([('broadcast', ()), ('aggregation', OrderedDict([('value_sum_process', ()), ('weight_sum_process', ())])), ('train', OrderedDict([('binary_accuracy', 0.9259476), ('recall', 0.030669643), ('precision', 0.50238883), ('loss', 0.21877705)]))])\n",
            "round 13, metrics=OrderedDict([('broadcast', ()), ('aggregation', OrderedDict([('value_sum_process', ()), ('weight_sum_process', ())])), ('train', OrderedDict([('binary_accuracy', 0.92605793), ('recall', 0.033041667), ('precision', 0.51386255), ('loss', 0.21830179)]))])\n",
            "round 14, metrics=OrderedDict([('broadcast', ()), ('aggregation', OrderedDict([('value_sum_process', ()), ('weight_sum_process', ())])), ('train', OrderedDict([('binary_accuracy', 0.92610675), ('recall', 0.03579464), ('precision', 0.51778024), ('loss', 0.21777238)]))])\n",
            "round 15, metrics=OrderedDict([('broadcast', ()), ('aggregation', OrderedDict([('value_sum_process', ()), ('weight_sum_process', ())])), ('train', OrderedDict([('binary_accuracy', 0.9261527), ('recall', 0.038875), ('precision', 0.5205021), ('loss', 0.21705359)]))])\n",
            "round 16, metrics=OrderedDict([('broadcast', ()), ('aggregation', OrderedDict([('value_sum_process', ()), ('weight_sum_process', ())])), ('train', OrderedDict([('binary_accuracy', 0.92625624), ('recall', 0.04022619), ('precision', 0.52931273), ('loss', 0.2165269)]))])\n",
            "round 17, metrics=OrderedDict([('broadcast', ()), ('aggregation', OrderedDict([('value_sum_process', ()), ('weight_sum_process', ())])), ('train', OrderedDict([('binary_accuracy', 0.92628413), ('recall', 0.041752975), ('precision', 0.53057754), ('loss', 0.21619573)]))])\n",
            "round 18, metrics=OrderedDict([('broadcast', ()), ('aggregation', OrderedDict([('value_sum_process', ()), ('weight_sum_process', ())])), ('train', OrderedDict([('binary_accuracy', 0.92638665), ('recall', 0.044547617), ('precision', 0.5374699), ('loss', 0.21568635)]))])\n",
            "round 19, metrics=OrderedDict([('broadcast', ()), ('aggregation', OrderedDict([('value_sum_process', ()), ('weight_sum_process', ())])), ('train', OrderedDict([('binary_accuracy', 0.9263787), ('recall', 0.04581845), ('precision', 0.5357205), ('loss', 0.21521455)]))])\n",
            "round 20, metrics=OrderedDict([('broadcast', ()), ('aggregation', OrderedDict([('value_sum_process', ()), ('weight_sum_process', ())])), ('train', OrderedDict([('binary_accuracy', 0.9264959), ('recall', 0.048863094), ('precision', 0.5427797), ('loss', 0.21491934)]))])\n"
          ],
          "name": "stdout"
        }
      ]
    },
    {
      "cell_type": "markdown",
      "metadata": {
        "id": "PA4yp86ex9NK"
      },
      "source": [
        "# Model evaluation"
      ]
    },
    {
      "cell_type": "markdown",
      "metadata": {
        "id": "LZ_L_WaVzGX4"
      },
      "source": [
        "Evaluation del modello sui test data. "
      ]
    },
    {
      "cell_type": "code",
      "metadata": {
        "id": "j-43k3etjd8P"
      },
      "source": [
        "evaluation = tff.learning.build_federated_evaluation(model_fn)\n",
        "train_metrics = evaluation(state.model, federated_train_data)"
      ],
      "execution_count": 31,
      "outputs": []
    },
    {
      "cell_type": "code",
      "metadata": {
        "id": "ECb3PNHFjk_k"
      },
      "source": [
        "federated_test_data = make_federated_data(test_set)"
      ],
      "execution_count": 32,
      "outputs": []
    },
    {
      "cell_type": "code",
      "metadata": {
        "id": "GoNPIG8Qj0G8",
        "colab": {
          "base_uri": "https://localhost:8080/",
          "height": 35
        },
        "outputId": "352c8d9c-b496-4fb3-821c-98cfef5a4814"
      },
      "source": [
        "test_metrics = evaluation(state.model, federated_test_data)\n",
        "str(test_metrics)"
      ],
      "execution_count": 33,
      "outputs": [
        {
          "output_type": "execute_result",
          "data": {
            "application/vnd.google.colaboratory.intrinsic+json": {
              "type": "string"
            },
            "text/plain": [
              "\"OrderedDict([('binary_accuracy', 0.964395), ('recall', 0.025175644), ('precision', 0.4387755), ('loss', 0.17402428)])\""
            ]
          },
          "metadata": {
            "tags": []
          },
          "execution_count": 33
        }
      ]
    },
    {
      "cell_type": "markdown",
      "metadata": {
        "id": "m2TBCVOYzJal"
      },
      "source": [
        "Board di tensorboad, per visualizzare la loss e le metriche in modo interattivo. "
      ]
    },
    {
      "cell_type": "code",
      "metadata": {
        "id": "ezubvjWqluK-"
      },
      "source": [
        "# logdir = \"/tmp/logs/scalars/training/\"\n",
        "# summary_writer = tf.summary.create_file_writer(logdir)\n",
        "# state = iterative_process.initialize()\n",
        "# with summary_writer.as_default():\n",
        "#   for round_num in range(1, NUM_ROUNDS):\n",
        "#     state, metrics = iterative_process.next(state, federated_train_data)\n",
        "#     for name, value in metrics['train'].items():\n",
        "#       tf.summary.scalar(name, value, step=round_num)"
      ],
      "execution_count": 34,
      "outputs": []
    },
    {
      "cell_type": "code",
      "metadata": {
        "id": "pM1FgnQao2-h"
      },
      "source": [
        "# !ls {logdir}\n",
        "# %tensorboard --logdir {logdir} --port=0"
      ],
      "execution_count": 35,
      "outputs": []
    }
  ]
}