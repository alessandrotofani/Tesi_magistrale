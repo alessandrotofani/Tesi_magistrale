{
  "nbformat": 4,
  "nbformat_minor": 0,
  "metadata": {
    "colab": {
      "name": "5_Dinamic_model_new.ipynb",
      "provenance": [],
      "authorship_tag": "ABX9TyMvG9E3ZrxGk/aogOg7SAvQ",
      "include_colab_link": true
    },
    "kernelspec": {
      "name": "python3",
      "display_name": "Python 3"
    },
    "accelerator": "GPU"
  },
  "cells": [
    {
      "cell_type": "markdown",
      "metadata": {
        "id": "view-in-github",
        "colab_type": "text"
      },
      "source": [
        "<a href=\"https://colab.research.google.com/github/alessandrotofani/Tesi_magistrale/blob/master/5_Dinamic_model_new.ipynb\" target=\"_parent\"><img src=\"https://colab.research.google.com/assets/colab-badge.svg\" alt=\"Open In Colab\"/></a>"
      ]
    },
    {
      "cell_type": "markdown",
      "metadata": {
        "id": "z-7rH_UhAPGR"
      },
      "source": [
        "# Import"
      ]
    },
    {
      "cell_type": "code",
      "metadata": {
        "id": "SwkBbxNMK8Fv",
        "colab": {
          "base_uri": "https://localhost:8080/"
        },
        "outputId": "5dc6dc17-5c5c-4d17-f039-983b10ee0146"
      },
      "source": [
        "import numpy as np \r\n",
        "import pandas as pd \r\n",
        "import matplotlib\r\n",
        "import matplotlib.pyplot as plt\r\n",
        "import seaborn as sns\r\n",
        "import os\r\n",
        "from google.colab import drive\r\n",
        "drive.mount('/content/drive')\r\n",
        "from sklearn.model_selection import train_test_split"
      ],
      "execution_count": null,
      "outputs": [
        {
          "output_type": "stream",
          "text": [
            "Drive already mounted at /content/drive; to attempt to forcibly remount, call drive.mount(\"/content/drive\", force_remount=True).\n"
          ],
          "name": "stdout"
        }
      ]
    },
    {
      "cell_type": "code",
      "metadata": {
        "id": "9UBtZ7vSkof3"
      },
      "source": [
        "import sys \r\n",
        "sys.path.append('/content/drive/MyDrive/Tesi_magistrale/Tesi_magistrale')\r\n",
        "import mf"
      ],
      "execution_count": null,
      "outputs": []
    },
    {
      "cell_type": "code",
      "metadata": {
        "id": "RYEwRKTV1NvR"
      },
      "source": [
        "data = pd.read_csv('/content/drive/MyDrive/Tesi_magistrale/Dataset/IEEE/Output/data.csv')\r\n",
        "data.drop(data.columns[data.columns.str.contains('unnamed',case = False)],axis = 1, inplace = True)"
      ],
      "execution_count": null,
      "outputs": []
    },
    {
      "cell_type": "markdown",
      "metadata": {
        "id": "ouPK38wK1Ytv"
      },
      "source": [
        "# Feature engineering and scaling"
      ]
    },
    {
      "cell_type": "code",
      "metadata": {
        "id": "8s7dk9_P1QQx"
      },
      "source": [
        "data = mf.feature_engineering(data)\r\n",
        "data = mf.feature_scaling(data)\r\n",
        "data = pd.get_dummies(data)"
      ],
      "execution_count": null,
      "outputs": []
    },
    {
      "cell_type": "markdown",
      "metadata": {
        "id": "ufgfSciYOIqL"
      },
      "source": [
        "# Dinamic model"
      ]
    },
    {
      "cell_type": "code",
      "metadata": {
        "id": "NdLWKPHvOJb7"
      },
      "source": [
        "init_splits = 4\r\n",
        "incoming_splits = 2\r\n",
        "tot_splits = 10"
      ],
      "execution_count": null,
      "outputs": []
    },
    {
      "cell_type": "code",
      "metadata": {
        "id": "jxTnn6PcOYqE"
      },
      "source": [
        "def get_split_id(data, init_splits, incoming_splits, tot_splits):\r\n",
        "  id = {} # dizionario con (split : id_righe)\r\n",
        "  id_fraud = {} # dizionario con (split: id righe transazioni fraudolente)\r\n",
        "  for i in range(tot_splits):\r\n",
        "    id[i] = data[(data['TransactionDT']>=(i/tot_splits)) & (data['TransactionDT']<((i + 1)/tot_splits))].index.tolist()\r\n",
        "    id_fraud[i] = data[(data['TransactionDT']>=(i/tot_splits)) & (data['TransactionDT']<((i + 1)/tot_splits)) & (data['isFraud'] == 1)].index.tolist()\r\n",
        "    \r\n",
        "  return id, id_fraud"
      ],
      "execution_count": null,
      "outputs": []
    },
    {
      "cell_type": "code",
      "metadata": {
        "id": "PtMpJb8jQ_B1"
      },
      "source": [
        "class model:\r\n",
        "  name = 'XGBoost'\r\n",
        "\r\n",
        "  def __init__(self, t, model_dict):\r\n",
        "    self.t = t\r\n",
        "    self.f1 = 0\r\n",
        "    self.precision = 0\r\n",
        "    self.recall = 0\r\n",
        "    self.roc = 0\r\n",
        "    self.proba = []\r\n",
        "    self.prediction = []\r\n",
        "    self.train_id = [] # lista con le righe su cui il modello si è allenato\r\n",
        "    self.val_id = [] # lista con le righe su cui il modello viene validato\r\n",
        "    model_dict[t] = self\r\n",
        "    return\r\n",
        "\r\n",
        "  def __str__(self):\r\n",
        "    return f\"{name}, at time {self.t}, with f1 score of{self.f1}\"\r\n",
        "\r\n",
        "  def proba_predictions(self, X_val):\r\n",
        "    self.proba = self.predict_proba(X_val, validate_features = False)\r\n",
        "    return \r\n",
        "\r\n",
        "  def aggregate(self, soglia = 0.05):\r\n",
        "    for proba in self.proba[:,1]:\r\n",
        "      if proba > soglia:\r\n",
        "        self.prediction.append(1)\r\n",
        "      else:\r\n",
        "        self.prediction.append(0)\r\n",
        "    return\r\n",
        "\r\n",
        "  def performance(self, soglia = 0.05):\r\n",
        "    from sklearn.metrics import roc_auc_score, f1_score, recall_score, precision_score\r\n",
        "    mf.plot_cm(y_val, self.pred, 'Blues', p = soglia, dynamic = True)\r\n",
        "    print('\\n')\r\n",
        "    print('Ensemble confusion matrix')\r\n",
        "\r\n",
        "    self.score = f1_score(y_val, self.pred).round(2)\r\n",
        "    self.roc = roc_auc_score(y_val, self.pred).round(2)\r\n",
        "    self.precision = precision_score(y_val, self.pred,  average='binary').round(2)\r\n",
        "    self.recall = recall_score(y_val, self.pred, average='binary').round(2)\r\n",
        "\r\n",
        "    print('\\n')\r\n",
        "    print('Ensemble f1 score: ', self.score)\r\n",
        "    print('Ensemble model roc auc score: ', self.roc)\r\n",
        "    print('Ensemble model recall: ', self.recall)\r\n",
        "    print('Ensemble model precision: ', self.precision)\r\n",
        "    print('\\n')\r\n",
        "    return "
      ],
      "execution_count": null,
      "outputs": []
    },
    {
      "cell_type": "code",
      "metadata": {
        "id": "72mPUBaza2zv"
      },
      "source": [
        "class ensemble(model): # child class di model\r\n",
        "  name = 'Ensemble'\r\n",
        "\r\n",
        "  @override \r\n",
        "  def proba_predictions(self, X_val, model_dict):\r\n",
        "    proba = []\r\n",
        "    for t in model_dict:\r\n",
        "      proba.append(model_dict[t].predict_proba(X_val, validate_features = False)[:, 1])\r\n",
        "    self.proba = np.mean(proba, axis = 0)\r\n",
        "    return \r\n",
        "  \r\n",
        "  @override\r\n",
        "  def aggregate(self, soglia = 0.05):\r\n",
        "    for proba in self.proba:\r\n",
        "      if proba > soglia:\r\n",
        "        self.prediction.append(1)\r\n",
        "      else:\r\n",
        "        self.prediction.append(0)\r\n",
        "    return \r\n",
        "\r\n"
      ],
      "execution_count": null,
      "outputs": []
    },
    {
      "cell_type": "code",
      "metadata": {
        "id": "_GaailvFPVir"
      },
      "source": [
        "def dinamic_model(data, id, id_fraud, incoming_splits, tot_splits):\r\n",
        "  tmax = np.ceil((tot_splits) / incoming_splits)\r\n",
        "\r\n",
        "  for t in range(tmax):\r\n",
        "    selected_id = get_t_id(data, id, t)\r\n",
        "    current_model = train_model(data, selected_id, id_fraud)\r\n",
        "\r\n",
        "  return current_model"
      ],
      "execution_count": null,
      "outputs": []
    }
  ]
}