{
  "nbformat": 4,
  "nbformat_minor": 0,
  "metadata": {
    "colab": {
      "name": "4_LIME.ipynb",
      "provenance": [],
      "authorship_tag": "ABX9TyNr5lHROL2R3lHCcmNCMJki",
      "include_colab_link": true
    },
    "kernelspec": {
      "name": "python3",
      "display_name": "Python 3"
    }
  },
  "cells": [
    {
      "cell_type": "markdown",
      "metadata": {
        "id": "view-in-github",
        "colab_type": "text"
      },
      "source": [
        "<a href=\"https://colab.research.google.com/github/alessandrotofani/Tesi_magistrale/blob/master/4_LIME.ipynb\" target=\"_parent\"><img src=\"https://colab.research.google.com/assets/colab-badge.svg\" alt=\"Open In Colab\"/></a>"
      ]
    },
    {
      "cell_type": "markdown",
      "metadata": {
        "id": "9DfTHp7s8Ulb"
      },
      "source": [
        "# Import"
      ]
    },
    {
      "cell_type": "code",
      "metadata": {
        "id": "7feY4Xy8Odtr",
        "colab": {
          "base_uri": "https://localhost:8080/"
        },
        "outputId": "97ae5cc5-b84c-4838-abe9-4cccbb1a1e47"
      },
      "source": [
        "import numpy as np \r\n",
        "import pandas as pd \r\n",
        "import matplotlib\r\n",
        "import matplotlib.pyplot as plt\r\n",
        "import seaborn as sns\r\n",
        "import os\r\n",
        "from google.colab import drive\r\n",
        "drive.mount('/content/drive')\r\n",
        "from sklearn.model_selection import train_test_split"
      ],
      "execution_count": 1,
      "outputs": [
        {
          "output_type": "stream",
          "text": [
            "Drive already mounted at /content/drive; to attempt to forcibly remount, call drive.mount(\"/content/drive\", force_remount=True).\n"
          ],
          "name": "stdout"
        }
      ]
    },
    {
      "cell_type": "code",
      "metadata": {
        "id": "ZgOp3wuag3E7"
      },
      "source": [
        "import sys \r\n",
        "sys.path.append('/content/drive/MyDrive/Tesi_magistrale/Tesi_magistrale')\r\n",
        "import mf"
      ],
      "execution_count": 2,
      "outputs": []
    },
    {
      "cell_type": "markdown",
      "metadata": {
        "id": "caGM5pO_dt0Z"
      },
      "source": [
        "# Dataset import"
      ]
    },
    {
      "cell_type": "code",
      "metadata": {
        "id": "k2Dzm6O4dvmE"
      },
      "source": [
        "data = pd.read_csv('/content/drive/MyDrive/Tesi_magistrale/Dataset/IEEE/Output/data.csv')\r\n",
        "data.drop(data.columns[data.columns.str.contains('unnamed',case = False)],axis = 1, inplace = True)\r\n",
        "data = mf.feature_scaling(data)\r\n",
        "feature_names = get_col(data)"
      ],
      "execution_count": 3,
      "outputs": []
    },
    {
      "cell_type": "markdown",
      "metadata": {
        "id": "lIMk5z4wfCLr"
      },
      "source": [
        "# Model import"
      ]
    },
    {
      "cell_type": "markdown",
      "metadata": {
        "id": "CZ_XVFEWfFD2"
      },
      "source": [
        "### Catboost "
      ]
    },
    {
      "cell_type": "code",
      "metadata": {
        "id": "U2RHlokIA1gp"
      },
      "source": [
        "data, categorical_names = mf.encoding(data, 'cat_sign_col')\r\n",
        "categorical_features = np.arange(176,206)\r\n",
        "\r\n",
        "X_train = mf.get_set('train_id', data, 'catboost_new')\r\n",
        "X_val = mf.get_set('val_id', data, 'catboost_new')\r\n",
        "X_test = mf.get_set('test_id', data, 'catboost_new')\r\n",
        "\r\n",
        "X_train = mf.to_list(X_train, categorical_features)\r\n",
        "X_val = mf.to_list(X_val, categorical_features)\r\n",
        "X_test = mf.to_list(X_test, categorical_features)"
      ],
      "execution_count": null,
      "outputs": []
    },
    {
      "cell_type": "markdown",
      "metadata": {
        "id": "VWwxiEZY3SZ8"
      },
      "source": [
        "Riferimento: https://stackoverflow.com/questions/30483246/how-to-check-if-a-python-module-has-been-imported"
      ]
    },
    {
      "cell_type": "code",
      "metadata": {
        "id": "x2N5_UsDfHi_"
      },
      "source": [
        "load_catboost = True\r\n",
        "if load_catboost:\r\n",
        "  if 'catboost' not in sys.modules:\r\n",
        "    !pip install catboost \r\n",
        "  from catboost import CatBoostClassifier\r\n",
        "  cat = CatBoostClassifier()\r\n",
        "  cat.load_model('/content/drive/MyDrive/Tesi_magistrale/Dataset/IEEE/Output/modelli/catboost_new')  "
      ],
      "execution_count": null,
      "outputs": []
    },
    {
      "cell_type": "markdown",
      "metadata": {
        "id": "_c9SvRtMZzE3"
      },
      "source": [
        "# LIME"
      ]
    },
    {
      "cell_type": "markdown",
      "metadata": {
        "id": "LhX5K73uZ1Ba"
      },
      "source": [
        "**LIME Local interpretable model-agnostic explanations**\r\n",
        "\r\n",
        "1. LIME generates a new dataset consisting of: \r\n",
        "  * permuted samples, drawing from a normal distribution with mean and standard deviation taken from the feature (in case of tabular data);\r\n",
        "  * the corresponding predictions of the black box model;\r\n",
        "2. On this new dataset LIME then trains an interpretable model;\r\n",
        "3. The model is weighted by the proximity of the sampled instances to the instance of interest.\r\n",
        "\r\n",
        "The **recipe for training local surrogate models**:\r\n",
        "1. Select your instance of interest for which you want to have an explanation of its black box prediction.\r\n",
        "2. Perturb your dataset and get the black box predictions for these new points.\r\n",
        "3. Weight the new samples according to their proximity to the instance of interest.\r\n",
        "4. Train a weighted, interpretable model on the dataset with the variations.\r\n",
        "5. Explain the prediction by interpreting the local model.\r\n",
        "\r\n",
        "Tutorial LIME: https://marcotcr.github.io/lime/tutorials/Tutorial%20-%20continuous%20and%20categorical%20features.html\r\n",
        "\r\n",
        "Documentazione LIME: https://lime-ml.readthedocs.io/en/latest/lime.html\r\n",
        "\r\n",
        "Repository github di lime: https://github.com/marcotcr/lime"
      ]
    },
    {
      "cell_type": "code",
      "metadata": {
        "id": "rIQ-A-e0562s"
      },
      "source": [
        "!pip install lime"
      ],
      "execution_count": null,
      "outputs": []
    },
    {
      "cell_type": "markdown",
      "metadata": {
        "id": "RX8fdkJB8IP1"
      },
      "source": [
        "Riferimento: https://stackoverflow.com/questions/13021654/get-column-index-from-column-name-in-python-pandas"
      ]
    },
    {
      "cell_type": "markdown",
      "metadata": {
        "id": "kusiY3sBDBtA"
      },
      "source": [
        "Riferimento: https://stackoverflow.com/questions/52404971/get-a-list-of-categories-of-categorical-variable-python-pandas"
      ]
    },
    {
      "cell_type": "code",
      "metadata": {
        "id": "fSWWTw4teW3x"
      },
      "source": [
        "def lime(X_train, X_test, categorical_features, categorical_names, clf, n_features, j):\r\n",
        "  import lime\r\n",
        "  import lime.lime_tabular\r\n",
        "\r\n",
        "  # setup dell'esxplainer\r\n",
        "  explainer = lime.lime_tabular.LimeTabularExplainer(X_train, \r\n",
        "                                                      feature_names=feature_names,\r\n",
        "                                                      class_names=[0,1],\r\n",
        "                                                      categorical_features=categorical_features,\r\n",
        "                                                      categorical_names=categorical_names,\r\n",
        "                                                      verbose=True, mode='classification')#,\r\n",
        "                                                      # discretize_continuous = True, discretizer='decile')\r\n",
        "  \r\n",
        "  # explanation\r\n",
        "  exp = explainer.explain_instance(X_test.values[j], clf.predict_proba, num_features=n_features)\r\n",
        "  exp.show_in_notebook(show_table=True)\r\n",
        "  return  "
      ],
      "execution_count": 15,
      "outputs": []
    },
    {
      "cell_type": "code",
      "metadata": {
        "id": "iLMgJm2cjl7O"
      },
      "source": [
        "lime(X_train, X_test, categorical_features, categorical_names, cat, 10, 0)"
      ],
      "execution_count": null,
      "outputs": []
    },
    {
      "cell_type": "code",
      "metadata": {
        "id": "UEWTzBy68CSW"
      },
      "source": [
        ""
      ],
      "execution_count": null,
      "outputs": []
    }
  ]
}