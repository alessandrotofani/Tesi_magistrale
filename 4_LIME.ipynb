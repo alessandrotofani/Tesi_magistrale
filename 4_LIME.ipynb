{
  "nbformat": 4,
  "nbformat_minor": 0,
  "metadata": {
    "colab": {
      "name": "4_LIME.ipynb",
      "provenance": [],
      "authorship_tag": "ABX9TyPf1J2R1ypi5tuUt3rza3M7",
      "include_colab_link": true
    },
    "kernelspec": {
      "name": "python3",
      "display_name": "Python 3"
    }
  },
  "cells": [
    {
      "cell_type": "markdown",
      "metadata": {
        "id": "view-in-github",
        "colab_type": "text"
      },
      "source": [
        "<a href=\"https://colab.research.google.com/github/alessandrotofani/Tesi_magistrale/blob/master/4_LIME.ipynb\" target=\"_parent\"><img src=\"https://colab.research.google.com/assets/colab-badge.svg\" alt=\"Open In Colab\"/></a>"
      ]
    },
    {
      "cell_type": "markdown",
      "metadata": {
        "id": "9DfTHp7s8Ulb"
      },
      "source": [
        "# Import"
      ]
    },
    {
      "cell_type": "code",
      "metadata": {
        "id": "7feY4Xy8Odtr",
        "colab": {
          "base_uri": "https://localhost:8080/"
        },
        "outputId": "cc04429f-a7e3-4096-a87e-2d8d30df83a8"
      },
      "source": [
        "import numpy as np \r\n",
        "import pandas as pd \r\n",
        "import matplotlib\r\n",
        "import matplotlib.pyplot as plt\r\n",
        "import seaborn as sns\r\n",
        "import os\r\n",
        "from google.colab import drive\r\n",
        "drive.mount('/content/drive')\r\n",
        "from sklearn.model_selection import train_test_split"
      ],
      "execution_count": 1,
      "outputs": [
        {
          "output_type": "stream",
          "text": [
            "Mounted at /content/drive\n"
          ],
          "name": "stdout"
        }
      ]
    },
    {
      "cell_type": "code",
      "metadata": {
        "id": "ZgOp3wuag3E7"
      },
      "source": [
        "import sys \r\n",
        "sys.path.append('/content/drive/MyDrive/Tesi_magistrale/Tesi_magistrale')\r\n",
        "import mf"
      ],
      "execution_count": 2,
      "outputs": []
    },
    {
      "cell_type": "markdown",
      "metadata": {
        "id": "caGM5pO_dt0Z"
      },
      "source": [
        "# Dataset import"
      ]
    },
    {
      "cell_type": "code",
      "metadata": {
        "id": "k2Dzm6O4dvmE"
      },
      "source": [
        "data = pd.read_csv('/content/drive/MyDrive/Tesi_magistrale/Dataset/IEEE/Output/data.csv')\r\n",
        "data.drop(data.columns[data.columns.str.contains('unnamed',case = False)],axis = 1, inplace = True)\r\n",
        "data = mf.feature_scaling(data)\r\n",
        "feature_names = mf.get_col(data)"
      ],
      "execution_count": 4,
      "outputs": []
    },
    {
      "cell_type": "markdown",
      "metadata": {
        "id": "lIMk5z4wfCLr"
      },
      "source": [
        "# Model import"
      ]
    },
    {
      "cell_type": "markdown",
      "metadata": {
        "id": "CZ_XVFEWfFD2"
      },
      "source": [
        "### Catboost "
      ]
    },
    {
      "cell_type": "code",
      "metadata": {
        "id": "U2RHlokIA1gp"
      },
      "source": [
        "data, categorical_names = mf.encoding(data, 'cat_sign_col')\r\n",
        "categorical_features = np.arange(176,206)\r\n",
        "\r\n",
        "X_train = mf.get_set('train_id', data, 'catboost_new')\r\n",
        "X_val = mf.get_set('val_id', data, 'catboost_new')\r\n",
        "X_test = mf.get_set('test_id', data, 'catboost_new')\r\n",
        "\r\n",
        "X_train = mf.to_list(X_train, categorical_features)\r\n",
        "X_val = mf.to_list(X_val, categorical_features)\r\n",
        "X_test = mf.to_list(X_test, categorical_features)"
      ],
      "execution_count": 5,
      "outputs": []
    },
    {
      "cell_type": "markdown",
      "metadata": {
        "id": "VWwxiEZY3SZ8"
      },
      "source": [
        "Riferimento: https://stackoverflow.com/questions/30483246/how-to-check-if-a-python-module-has-been-imported"
      ]
    },
    {
      "cell_type": "code",
      "metadata": {
        "id": "x2N5_UsDfHi_",
        "outputId": "c4bdbe89-b221-41bf-f379-91adab08d2ce",
        "colab": {
          "base_uri": "https://localhost:8080/"
        }
      },
      "source": [
        "load_catboost = True\r\n",
        "if load_catboost:\r\n",
        "  if 'catboost' not in sys.modules:\r\n",
        "    !pip install catboost \r\n",
        "  from catboost import CatBoostClassifier\r\n",
        "  cat = CatBoostClassifier()\r\n",
        "  cat.load_model('/content/drive/MyDrive/Tesi_magistrale/Dataset/IEEE/Output/modelli/catboost_new')  "
      ],
      "execution_count": 6,
      "outputs": [
        {
          "output_type": "stream",
          "text": [
            "Installing collected packages: catboost\n",
            "Successfully installed catboost-0.24.4\n"
          ],
          "name": "stdout"
        }
      ]
    },
    {
      "cell_type": "markdown",
      "metadata": {
        "id": "_c9SvRtMZzE3"
      },
      "source": [
        "# LIME"
      ]
    },
    {
      "cell_type": "markdown",
      "metadata": {
        "id": "LhX5K73uZ1Ba"
      },
      "source": [
        "**LIME Local interpretable model-agnostic explanations**\r\n",
        "\r\n",
        "1. LIME generates a new dataset consisting of: \r\n",
        "  * permuted samples, drawing from a normal distribution with mean and standard deviation taken from the feature (in case of tabular data);\r\n",
        "  * the corresponding predictions of the black box model;\r\n",
        "2. On this new dataset LIME then trains an interpretable model;\r\n",
        "3. The model is weighted by the proximity of the sampled instances to the instance of interest.\r\n",
        "\r\n",
        "The **recipe for training local surrogate models**:\r\n",
        "1. Select your instance of interest for which you want to have an explanation of its black box prediction.\r\n",
        "2. Perturb your dataset and get the black box predictions for these new points.\r\n",
        "3. Weight the new samples according to their proximity to the instance of interest.\r\n",
        "4. Train a weighted, interpretable model on the dataset with the variations.\r\n",
        "5. Explain the prediction by interpreting the local model.\r\n",
        "\r\n",
        "Tutorial LIME: https://marcotcr.github.io/lime/tutorials/Tutorial%20-%20continuous%20and%20categorical%20features.html\r\n",
        "\r\n",
        "Documentazione LIME: https://lime-ml.readthedocs.io/en/latest/lime.html\r\n",
        "\r\n",
        "Repository github di lime: https://github.com/marcotcr/lime"
      ]
    },
    {
      "cell_type": "code",
      "metadata": {
        "id": "rIQ-A-e0562s"
      },
      "source": [
        "!pip install lime"
      ],
      "execution_count": null,
      "outputs": []
    },
    {
      "cell_type": "markdown",
      "metadata": {
        "id": "RX8fdkJB8IP1"
      },
      "source": [
        "Riferimento: https://stackoverflow.com/questions/13021654/get-column-index-from-column-name-in-python-pandas"
      ]
    },
    {
      "cell_type": "markdown",
      "metadata": {
        "id": "kusiY3sBDBtA"
      },
      "source": [
        "Riferimento: https://stackoverflow.com/questions/52404971/get-a-list-of-categories-of-categorical-variable-python-pandas"
      ]
    },
    {
      "cell_type": "code",
      "metadata": {
        "id": "63rjJyWmySSw"
      },
      "source": [
        "zipped = list(zip(*X_train))"
      ],
      "execution_count": 15,
      "outputs": []
    },
    {
      "cell_type": "code",
      "metadata": {
        "id": "QimaFybZ1KkX"
      },
      "source": [
        ""
      ],
      "execution_count": null,
      "outputs": []
    },
    {
      "cell_type": "code",
      "metadata": {
        "id": "fSWWTw4teW3x"
      },
      "source": [
        "def lime(X_train, X_test, categorical_features, categorical_names, clf, n_features, j):\r\n",
        "  import lime\r\n",
        "  import lime.lime_tabular\r\n",
        "\r\n",
        "  # setup dell'esxplainer\r\n",
        "  explainer = lime.lime_tabular.LimeTabularExplainer(X_train, \r\n",
        "                                                      feature_names=feature_names,\r\n",
        "                                                      class_names=[0,1],\r\n",
        "                                                      categorical_features=categorical_features,\r\n",
        "                                                      categorical_names=categorical_names,\r\n",
        "                                                      verbose=True, mode='classification')#,\r\n",
        "                                                      # discretize_continuous = True, discretizer='decile')\r\n",
        "  \r\n",
        "  # explanation\r\n",
        "  exp = explainer.explain_instance(X_test.values[j], clf.predict_proba, num_features=n_features)\r\n",
        "  exp.show_in_notebook(show_table=True)\r\n",
        "  return  "
      ],
      "execution_count": 26,
      "outputs": []
    },
    {
      "cell_type": "code",
      "metadata": {
        "id": "iLMgJm2cjl7O",
        "outputId": "2043a2e1-47d4-4b7c-ef15-7631bb2ff483",
        "colab": {
          "base_uri": "https://localhost:8080/",
          "height": 323
        }
      },
      "source": [
        "lime(zipped, X_test, categorical_features, categorical_names, cat, 10, 0)"
      ],
      "execution_count": 27,
      "outputs": [
        {
          "output_type": "error",
          "ename": "AttributeError",
          "evalue": "ignored",
          "traceback": [
            "\u001b[0;31m---------------------------------------------------------------------------\u001b[0m",
            "\u001b[0;31mAttributeError\u001b[0m                            Traceback (most recent call last)",
            "\u001b[0;32m<ipython-input-27-77e3d85745f3>\u001b[0m in \u001b[0;36m<module>\u001b[0;34m()\u001b[0m\n\u001b[0;32m----> 1\u001b[0;31m \u001b[0mlime\u001b[0m\u001b[0;34m(\u001b[0m\u001b[0mzipped\u001b[0m\u001b[0;34m,\u001b[0m \u001b[0mX_test\u001b[0m\u001b[0;34m,\u001b[0m \u001b[0mcategorical_features\u001b[0m\u001b[0;34m,\u001b[0m \u001b[0mcategorical_names\u001b[0m\u001b[0;34m,\u001b[0m \u001b[0mcat\u001b[0m\u001b[0;34m,\u001b[0m \u001b[0;36m10\u001b[0m\u001b[0;34m,\u001b[0m \u001b[0;36m0\u001b[0m\u001b[0;34m)\u001b[0m\u001b[0;34m\u001b[0m\u001b[0;34m\u001b[0m\u001b[0m\n\u001b[0m",
            "\u001b[0;32m<ipython-input-26-3af083a6674b>\u001b[0m in \u001b[0;36mlime\u001b[0;34m(X_train, X_test, categorical_features, categorical_names, clf, n_features, j)\u001b[0m\n\u001b[1;32m      9\u001b[0m                                                       \u001b[0mcategorical_features\u001b[0m\u001b[0;34m=\u001b[0m\u001b[0mcategorical_features\u001b[0m\u001b[0;34m,\u001b[0m\u001b[0;34m\u001b[0m\u001b[0;34m\u001b[0m\u001b[0m\n\u001b[1;32m     10\u001b[0m                                                       \u001b[0mcategorical_names\u001b[0m\u001b[0;34m=\u001b[0m\u001b[0mcategorical_names\u001b[0m\u001b[0;34m,\u001b[0m\u001b[0;34m\u001b[0m\u001b[0;34m\u001b[0m\u001b[0m\n\u001b[0;32m---> 11\u001b[0;31m                                                       verbose=True, mode='classification')#,\n\u001b[0m\u001b[1;32m     12\u001b[0m                                                       \u001b[0;31m# discretize_continuous = True, discretizer='decile')\u001b[0m\u001b[0;34m\u001b[0m\u001b[0;34m\u001b[0m\u001b[0;34m\u001b[0m\u001b[0m\n\u001b[1;32m     13\u001b[0m \u001b[0;34m\u001b[0m\u001b[0m\n",
            "\u001b[0;32m/usr/local/lib/python3.6/dist-packages/lime/lime_tabular.py\u001b[0m in \u001b[0;36m__init__\u001b[0;34m(self, training_data, mode, training_labels, feature_names, categorical_features, categorical_names, kernel_width, kernel, verbose, class_names, feature_selection, discretize_continuous, discretizer, sample_around_instance, random_state, training_data_stats)\u001b[0m\n\u001b[1;32m    216\u001b[0m                         \u001b[0mtraining_data\u001b[0m\u001b[0;34m,\u001b[0m \u001b[0mself\u001b[0m\u001b[0;34m.\u001b[0m\u001b[0mcategorical_features\u001b[0m\u001b[0;34m,\u001b[0m\u001b[0;34m\u001b[0m\u001b[0;34m\u001b[0m\u001b[0m\n\u001b[1;32m    217\u001b[0m                         \u001b[0mself\u001b[0m\u001b[0;34m.\u001b[0m\u001b[0mfeature_names\u001b[0m\u001b[0;34m,\u001b[0m \u001b[0mlabels\u001b[0m\u001b[0;34m=\u001b[0m\u001b[0mtraining_labels\u001b[0m\u001b[0;34m,\u001b[0m\u001b[0;34m\u001b[0m\u001b[0;34m\u001b[0m\u001b[0m\n\u001b[0;32m--> 218\u001b[0;31m                         random_state=self.random_state)\n\u001b[0m\u001b[1;32m    219\u001b[0m             \u001b[0;32melif\u001b[0m \u001b[0mdiscretizer\u001b[0m \u001b[0;34m==\u001b[0m \u001b[0;34m'decile'\u001b[0m\u001b[0;34m:\u001b[0m\u001b[0;34m\u001b[0m\u001b[0;34m\u001b[0m\u001b[0m\n\u001b[1;32m    220\u001b[0m                 self.discretizer = DecileDiscretizer(\n",
            "\u001b[0;32m/usr/local/lib/python3.6/dist-packages/lime/discretize.py\u001b[0m in \u001b[0;36m__init__\u001b[0;34m(self, data, categorical_features, feature_names, labels, random_state)\u001b[0m\n\u001b[1;32m    178\u001b[0m         BaseDiscretizer.__init__(self, data, categorical_features,\n\u001b[1;32m    179\u001b[0m                                  \u001b[0mfeature_names\u001b[0m\u001b[0;34m,\u001b[0m \u001b[0mlabels\u001b[0m\u001b[0;34m=\u001b[0m\u001b[0mlabels\u001b[0m\u001b[0;34m,\u001b[0m\u001b[0;34m\u001b[0m\u001b[0;34m\u001b[0m\u001b[0m\n\u001b[0;32m--> 180\u001b[0;31m                                  random_state=random_state)\n\u001b[0m\u001b[1;32m    181\u001b[0m \u001b[0;34m\u001b[0m\u001b[0m\n\u001b[1;32m    182\u001b[0m     \u001b[0;32mdef\u001b[0m \u001b[0mbins\u001b[0m\u001b[0;34m(\u001b[0m\u001b[0mself\u001b[0m\u001b[0;34m,\u001b[0m \u001b[0mdata\u001b[0m\u001b[0;34m,\u001b[0m \u001b[0mlabels\u001b[0m\u001b[0;34m)\u001b[0m\u001b[0;34m:\u001b[0m\u001b[0;34m\u001b[0m\u001b[0;34m\u001b[0m\u001b[0m\n",
            "\u001b[0;32m/usr/local/lib/python3.6/dist-packages/lime/discretize.py\u001b[0m in \u001b[0;36m__init__\u001b[0;34m(self, data, categorical_features, feature_names, labels, random_state, data_stats)\u001b[0m\n\u001b[1;32m     37\u001b[0m                 \u001b[0;32mif\u001b[0m \u001b[0myou\u001b[0m \u001b[0mdon\u001b[0m\u001b[0;31m'\u001b[0m\u001b[0mt\u001b[0m \u001b[0mwant\u001b[0m \u001b[0mthese\u001b[0m \u001b[0mvalues\u001b[0m \u001b[0mto\u001b[0m \u001b[0mbe\u001b[0m \u001b[0mcomputed\u001b[0m \u001b[0;32mfrom\u001b[0m \u001b[0mdata\u001b[0m\u001b[0;34m\u001b[0m\u001b[0;34m\u001b[0m\u001b[0m\n\u001b[1;32m     38\u001b[0m         \"\"\"\n\u001b[0;32m---> 39\u001b[0;31m         self.to_discretize = ([x for x in range(len(data))\n\u001b[0m\u001b[1;32m     40\u001b[0m                                if x not in categorical_features])\n\u001b[1;32m     41\u001b[0m         \u001b[0mself\u001b[0m\u001b[0;34m.\u001b[0m\u001b[0mdata_stats\u001b[0m \u001b[0;34m=\u001b[0m \u001b[0mdata_stats\u001b[0m\u001b[0;34m\u001b[0m\u001b[0;34m\u001b[0m\u001b[0m\n",
            "\u001b[0;31mAttributeError\u001b[0m: 'list' object has no attribute 'shape'"
          ]
        }
      ]
    },
    {
      "cell_type": "code",
      "metadata": {
        "id": "UEWTzBy68CSW"
      },
      "source": [
        ""
      ],
      "execution_count": null,
      "outputs": []
    }
  ]
}