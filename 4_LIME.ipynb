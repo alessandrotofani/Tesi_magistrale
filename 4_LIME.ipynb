{
  "nbformat": 4,
  "nbformat_minor": 0,
  "metadata": {
    "colab": {
      "name": "4_LIME.ipynb",
      "provenance": [],
      "authorship_tag": "ABX9TyOuCmqGKJjuseGEzimmuWdu",
      "include_colab_link": true
    },
    "kernelspec": {
      "name": "python3",
      "display_name": "Python 3"
    },
    "accelerator": "GPU"
  },
  "cells": [
    {
      "cell_type": "markdown",
      "metadata": {
        "id": "view-in-github",
        "colab_type": "text"
      },
      "source": [
        "<a href=\"https://colab.research.google.com/github/alessandrotofani/Tesi_magistrale/blob/master/4_LIME.ipynb\" target=\"_parent\"><img src=\"https://colab.research.google.com/assets/colab-badge.svg\" alt=\"Open In Colab\"/></a>"
      ]
    },
    {
      "cell_type": "markdown",
      "metadata": {
        "id": "9DfTHp7s8Ulb"
      },
      "source": [
        "# Import"
      ]
    },
    {
      "cell_type": "code",
      "metadata": {
        "id": "7feY4Xy8Odtr",
        "colab": {
          "base_uri": "https://localhost:8080/"
        },
        "outputId": "2211cf68-89e7-42c7-ba13-e2429ed90b88"
      },
      "source": [
        "import numpy as np \r\n",
        "import pandas as pd \r\n",
        "import matplotlib\r\n",
        "import matplotlib.pyplot as plt\r\n",
        "import seaborn as sns\r\n",
        "import os\r\n",
        "from google.colab import drive\r\n",
        "drive.mount('/content/drive')\r\n",
        "from sklearn.model_selection import train_test_split"
      ],
      "execution_count": 1,
      "outputs": [
        {
          "output_type": "stream",
          "text": [
            "Mounted at /content/drive\n"
          ],
          "name": "stdout"
        }
      ]
    },
    {
      "cell_type": "code",
      "metadata": {
        "id": "ZgOp3wuag3E7"
      },
      "source": [
        "import sys \r\n",
        "sys.path.append('/content/drive/MyDrive/Tesi_magistrale/Tesi_magistrale')\r\n",
        "import mf"
      ],
      "execution_count": 2,
      "outputs": []
    },
    {
      "cell_type": "markdown",
      "metadata": {
        "id": "caGM5pO_dt0Z"
      },
      "source": [
        "# Dataset import"
      ]
    },
    {
      "cell_type": "code",
      "metadata": {
        "id": "k2Dzm6O4dvmE"
      },
      "source": [
        "data = pd.read_csv('/content/drive/MyDrive/Tesi_magistrale/Dataset/IEEE/Output/data.csv')\r\n",
        "data.drop(data.columns[data.columns.str.contains('unnamed',case = False)],axis = 1, inplace = True)\r\n",
        "data = mf.feature_scaling(data)\r\n",
        "data = mf.feature_engineering(data)\r\n",
        "data = pd.get_dummies(data)\r\n",
        "feature_names = mf.get_col(data)"
      ],
      "execution_count": 3,
      "outputs": []
    },
    {
      "cell_type": "markdown",
      "metadata": {
        "id": "lIMk5z4wfCLr"
      },
      "source": [
        "# Model import"
      ]
    },
    {
      "cell_type": "markdown",
      "metadata": {
        "id": "CZ_XVFEWfFD2"
      },
      "source": [
        "### Catboost "
      ]
    },
    {
      "cell_type": "code",
      "metadata": {
        "id": "U2RHlokIA1gp"
      },
      "source": [
        "# data, categorical_names = mf.encoding(data, 'cat_sign_col')\r\n",
        "# categorical_features = np.arange(176,206)\r\n",
        "\r\n",
        "# X_train = mf.get_set('train_id', data, 'catboost_new')\r\n",
        "# X_val = mf.get_set('val_id', data, 'catboost_new')\r\n",
        "# X_test = mf.get_set('test_id', data, 'catboost_new')\r\n",
        "\r\n",
        "# X_train = mf.to_list(X_train, categorical_features)\r\n",
        "# X_val = mf.to_list(X_val, categorical_features)\r\n",
        "# X_test = mf.to_list(X_test, categorical_features)"
      ],
      "execution_count": 4,
      "outputs": []
    },
    {
      "cell_type": "markdown",
      "metadata": {
        "id": "VWwxiEZY3SZ8"
      },
      "source": [
        "Riferimento: https://stackoverflow.com/questions/30483246/how-to-check-if-a-python-module-has-been-imported"
      ]
    },
    {
      "cell_type": "code",
      "metadata": {
        "id": "x2N5_UsDfHi_"
      },
      "source": [
        "# load_catboost = False\r\n",
        "# if load_catboost:\r\n",
        "#   if 'catboost' not in sys.modules:\r\n",
        "#     !pip install catboost \r\n",
        "#   from catboost import CatBoostClassifier\r\n",
        "#   cat = CatBoostClassifier()\r\n",
        "#   cat.load_model('/content/drive/MyDrive/Tesi_magistrale/Dataset/IEEE/Output/modelli/catboost_new')  "
      ],
      "execution_count": 5,
      "outputs": []
    },
    {
      "cell_type": "markdown",
      "metadata": {
        "id": "2x81ZX6CDHpn"
      },
      "source": [
        "## XGBoost"
      ]
    },
    {
      "cell_type": "code",
      "metadata": {
        "id": "3wN3183LFmF5"
      },
      "source": [
        "categorical_features = np.arange(178,1091).tolist()"
      ],
      "execution_count": 6,
      "outputs": []
    },
    {
      "cell_type": "code",
      "metadata": {
        "id": "4NmlZsbPDKyS",
        "colab": {
          "base_uri": "https://localhost:8080/"
        },
        "outputId": "d8e171b8-a89d-4377-e0f2-e9f7d309af5e"
      },
      "source": [
        "X_train = mf.get_set('train_id', data, 'xgboost')\r\n",
        "X_val = mf.get_set('val_id', data, 'xgboost')\r\n",
        "X_test = mf.get_set('test_id', data, 'xgboost')"
      ],
      "execution_count": 7,
      "outputs": [
        {
          "output_type": "stream",
          "text": [
            "/usr/local/lib/python3.6/dist-packages/pandas/core/frame.py:4174: SettingWithCopyWarning: \n",
            "A value is trying to be set on a copy of a slice from a DataFrame\n",
            "\n",
            "See the caveats in the documentation: https://pandas.pydata.org/pandas-docs/stable/user_guide/indexing.html#returning-a-view-versus-a-copy\n",
            "  errors=errors,\n"
          ],
          "name": "stderr"
        }
      ]
    },
    {
      "cell_type": "code",
      "metadata": {
        "id": "7cccqNV9DKvT"
      },
      "source": [
        "load = True\r\n",
        "if load:\r\n",
        "  from joblib import load\r\n",
        "  from xgboost import XGBClassifier\r\n",
        "\r\n",
        "  xgb = load(\"/content/drive/MyDrive/Tesi_magistrale/Dataset/IEEE/Output/xgboost/xgb.joblib.dat\")"
      ],
      "execution_count": 8,
      "outputs": []
    },
    {
      "cell_type": "markdown",
      "metadata": {
        "id": "_c9SvRtMZzE3"
      },
      "source": [
        "# LIME"
      ]
    },
    {
      "cell_type": "markdown",
      "metadata": {
        "id": "LhX5K73uZ1Ba"
      },
      "source": [
        "**LIME Local interpretable model-agnostic explanations**\r\n",
        "\r\n",
        "1. LIME generates a new dataset consisting of: \r\n",
        "  * permuted samples, drawing from a normal distribution with mean and standard deviation taken from the feature (in case of tabular data);\r\n",
        "  * the corresponding predictions of the black box model;\r\n",
        "2. On this new dataset LIME then trains an interpretable model;\r\n",
        "3. The model is weighted by the proximity of the sampled instances to the instance of interest.\r\n",
        "\r\n",
        "The **recipe for training local surrogate models**:\r\n",
        "1. Select your instance of interest for which you want to have an explanation of its black box prediction.\r\n",
        "2. Perturb your dataset and get the black box predictions for these new points.\r\n",
        "3. Weight the new samples according to their proximity to the instance of interest.\r\n",
        "4. Train a weighted, interpretable model on the dataset with the variations.\r\n",
        "5. Explain the prediction by interpreting the local model.\r\n",
        "\r\n",
        "Tutorial LIME: https://marcotcr.github.io/lime/tutorials/Tutorial%20-%20continuous%20and%20categorical%20features.html\r\n",
        "\r\n",
        "Documentazione LIME: https://lime-ml.readthedocs.io/en/latest/lime.html\r\n",
        "\r\n",
        "Repository github di lime: https://github.com/marcotcr/lime"
      ]
    },
    {
      "cell_type": "code",
      "metadata": {
        "id": "rIQ-A-e0562s",
        "colab": {
          "base_uri": "https://localhost:8080/"
        },
        "outputId": "96d11bfa-45e9-414b-a4b2-50f24d1ddf3c"
      },
      "source": [
        "!pip install lime"
      ],
      "execution_count": 9,
      "outputs": [
        {
          "output_type": "stream",
          "text": [
            "Collecting lime\n",
            "\u001b[?25l  Downloading https://files.pythonhosted.org/packages/f5/86/91a13127d83d793ecb50eb75e716f76e6eda809b6803c5a4ff462339789e/lime-0.2.0.1.tar.gz (275kB)\n",
            "\r\u001b[K     |█▏                              | 10kB 20.7MB/s eta 0:00:01\r\u001b[K     |██▍                             | 20kB 18.2MB/s eta 0:00:01\r\u001b[K     |███▋                            | 30kB 15.4MB/s eta 0:00:01\r\u001b[K     |████▊                           | 40kB 14.9MB/s eta 0:00:01\r\u001b[K     |██████                          | 51kB 12.0MB/s eta 0:00:01\r\u001b[K     |███████▏                        | 61kB 12.2MB/s eta 0:00:01\r\u001b[K     |████████▎                       | 71kB 11.9MB/s eta 0:00:01\r\u001b[K     |█████████▌                      | 81kB 12.2MB/s eta 0:00:01\r\u001b[K     |██████████▊                     | 92kB 11.9MB/s eta 0:00:01\r\u001b[K     |███████████▉                    | 102kB 12.0MB/s eta 0:00:01\r\u001b[K     |█████████████                   | 112kB 12.0MB/s eta 0:00:01\r\u001b[K     |██████████████▎                 | 122kB 12.0MB/s eta 0:00:01\r\u001b[K     |███████████████▌                | 133kB 12.0MB/s eta 0:00:01\r\u001b[K     |████████████████▋               | 143kB 12.0MB/s eta 0:00:01\r\u001b[K     |█████████████████▉              | 153kB 12.0MB/s eta 0:00:01\r\u001b[K     |███████████████████             | 163kB 12.0MB/s eta 0:00:01\r\u001b[K     |████████████████████▏           | 174kB 12.0MB/s eta 0:00:01\r\u001b[K     |█████████████████████▍          | 184kB 12.0MB/s eta 0:00:01\r\u001b[K     |██████████████████████▋         | 194kB 12.0MB/s eta 0:00:01\r\u001b[K     |███████████████████████▊        | 204kB 12.0MB/s eta 0:00:01\r\u001b[K     |█████████████████████████       | 215kB 12.0MB/s eta 0:00:01\r\u001b[K     |██████████████████████████▏     | 225kB 12.0MB/s eta 0:00:01\r\u001b[K     |███████████████████████████▍    | 235kB 12.0MB/s eta 0:00:01\r\u001b[K     |████████████████████████████▌   | 245kB 12.0MB/s eta 0:00:01\r\u001b[K     |█████████████████████████████▊  | 256kB 12.0MB/s eta 0:00:01\r\u001b[K     |███████████████████████████████ | 266kB 12.0MB/s eta 0:00:01\r\u001b[K     |████████████████████████████████| 276kB 12.0MB/s \n",
            "\u001b[?25hRequirement already satisfied: matplotlib in /usr/local/lib/python3.6/dist-packages (from lime) (3.2.2)\n",
            "Requirement already satisfied: numpy in /usr/local/lib/python3.6/dist-packages (from lime) (1.19.4)\n",
            "Requirement already satisfied: scipy in /usr/local/lib/python3.6/dist-packages (from lime) (1.4.1)\n",
            "Requirement already satisfied: tqdm in /usr/local/lib/python3.6/dist-packages (from lime) (4.41.1)\n",
            "Requirement already satisfied: scikit-learn>=0.18 in /usr/local/lib/python3.6/dist-packages (from lime) (0.22.2.post1)\n",
            "Requirement already satisfied: scikit-image>=0.12 in /usr/local/lib/python3.6/dist-packages (from lime) (0.16.2)\n",
            "Requirement already satisfied: cycler>=0.10 in /usr/local/lib/python3.6/dist-packages (from matplotlib->lime) (0.10.0)\n",
            "Requirement already satisfied: pyparsing!=2.0.4,!=2.1.2,!=2.1.6,>=2.0.1 in /usr/local/lib/python3.6/dist-packages (from matplotlib->lime) (2.4.7)\n",
            "Requirement already satisfied: kiwisolver>=1.0.1 in /usr/local/lib/python3.6/dist-packages (from matplotlib->lime) (1.3.1)\n",
            "Requirement already satisfied: python-dateutil>=2.1 in /usr/local/lib/python3.6/dist-packages (from matplotlib->lime) (2.8.1)\n",
            "Requirement already satisfied: joblib>=0.11 in /usr/local/lib/python3.6/dist-packages (from scikit-learn>=0.18->lime) (1.0.0)\n",
            "Requirement already satisfied: imageio>=2.3.0 in /usr/local/lib/python3.6/dist-packages (from scikit-image>=0.12->lime) (2.4.1)\n",
            "Requirement already satisfied: PyWavelets>=0.4.0 in /usr/local/lib/python3.6/dist-packages (from scikit-image>=0.12->lime) (1.1.1)\n",
            "Requirement already satisfied: networkx>=2.0 in /usr/local/lib/python3.6/dist-packages (from scikit-image>=0.12->lime) (2.5)\n",
            "Requirement already satisfied: pillow>=4.3.0 in /usr/local/lib/python3.6/dist-packages (from scikit-image>=0.12->lime) (7.0.0)\n",
            "Requirement already satisfied: six in /usr/local/lib/python3.6/dist-packages (from cycler>=0.10->matplotlib->lime) (1.15.0)\n",
            "Requirement already satisfied: decorator>=4.3.0 in /usr/local/lib/python3.6/dist-packages (from networkx>=2.0->scikit-image>=0.12->lime) (4.4.2)\n",
            "Building wheels for collected packages: lime\n",
            "  Building wheel for lime (setup.py) ... \u001b[?25l\u001b[?25hdone\n",
            "  Created wheel for lime: filename=lime-0.2.0.1-cp36-none-any.whl size=283846 sha256=13ec27c3fd7657fae15057d051d8456ef259084a617c9a5ff688e4f5fdb6e5a8\n",
            "  Stored in directory: /root/.cache/pip/wheels/4c/4f/a5/0bc765457bd41378bf3ce8d17d7495369d6e7ca3b712c60c89\n",
            "Successfully built lime\n",
            "Installing collected packages: lime\n",
            "Successfully installed lime-0.2.0.1\n"
          ],
          "name": "stdout"
        }
      ]
    },
    {
      "cell_type": "markdown",
      "metadata": {
        "id": "RX8fdkJB8IP1"
      },
      "source": [
        "Riferimento: https://stackoverflow.com/questions/13021654/get-column-index-from-column-name-in-python-pandas"
      ]
    },
    {
      "cell_type": "markdown",
      "metadata": {
        "id": "kusiY3sBDBtA"
      },
      "source": [
        "Riferimento: https://stackoverflow.com/questions/52404971/get-a-list-of-categories-of-categorical-variable-python-pandas"
      ]
    },
    {
      "cell_type": "code",
      "metadata": {
        "id": "fSWWTw4teW3x"
      },
      "source": [
        "def lime(X_train, X_test, categorical_features, feature_names, clf, n_features, j):\r\n",
        "  import lime\r\n",
        "  import lime.lime_tabular\r\n",
        "\r\n",
        "  # setup dell'esxplainer\r\n",
        "  explainer = lime.lime_tabular.LimeTabularExplainer(X_train.to_numpy(), \r\n",
        "                                                      feature_names=feature_names,\r\n",
        "                                                      class_names=[0,1],\r\n",
        "                                                      categorical_features=categorical_features,\r\n",
        "                                                      categorical_names=None,\r\n",
        "                                                      verbose=True, mode='classification')#,\r\n",
        "                                                      # discretize_continuous = True, discretizer='decile')\r\n",
        "  \r\n",
        "  # explanation\r\n",
        "  exp = explainer.explain_instance(X_test.to_numpy()[j], \r\n",
        "                                   clf.predict_proba, num_features=n_features)\r\n",
        "  exp.show_in_notebook(show_table=True)\r\n",
        "  return"
      ],
      "execution_count": 26,
      "outputs": []
    },
    {
      "cell_type": "code",
      "metadata": {
        "id": "iLMgJm2cjl7O",
        "colab": {
          "base_uri": "https://localhost:8080/",
          "height": 1000
        },
        "outputId": "8327f6ec-3886-4b30-dc21-cccfe36ec815"
      },
      "source": [
        "lime(X_train[:10000], X_test, categorical_features, feature_names, xgb, 10, 2)"
      ],
      "execution_count": 27,
      "outputs": [
        {
          "output_type": "error",
          "ename": "ValueError",
          "evalue": "ignored",
          "traceback": [
            "\u001b[0;31m---------------------------------------------------------------------------\u001b[0m",
            "\u001b[0;31mValueError\u001b[0m                                Traceback (most recent call last)",
            "\u001b[0;32m<ipython-input-27-549704e1a4a9>\u001b[0m in \u001b[0;36m<module>\u001b[0;34m()\u001b[0m\n\u001b[0;32m----> 1\u001b[0;31m \u001b[0mlime\u001b[0m\u001b[0;34m(\u001b[0m\u001b[0mX_train\u001b[0m\u001b[0;34m[\u001b[0m\u001b[0;34m:\u001b[0m\u001b[0;36m10000\u001b[0m\u001b[0;34m]\u001b[0m\u001b[0;34m,\u001b[0m \u001b[0mX_test\u001b[0m\u001b[0;34m,\u001b[0m \u001b[0mcategorical_features\u001b[0m\u001b[0;34m,\u001b[0m \u001b[0mfeature_names\u001b[0m\u001b[0;34m,\u001b[0m \u001b[0mxgb\u001b[0m\u001b[0;34m,\u001b[0m \u001b[0;36m10\u001b[0m\u001b[0;34m,\u001b[0m \u001b[0;36m2\u001b[0m\u001b[0;34m)\u001b[0m\u001b[0;34m\u001b[0m\u001b[0;34m\u001b[0m\u001b[0m\n\u001b[0m",
            "\u001b[0;32m<ipython-input-26-4e63e1884032>\u001b[0m in \u001b[0;36mlime\u001b[0;34m(X_train, X_test, categorical_features, feature_names, clf, n_features, j)\u001b[0m\n\u001b[1;32m     14\u001b[0m   \u001b[0;31m# explanation\u001b[0m\u001b[0;34m\u001b[0m\u001b[0;34m\u001b[0m\u001b[0;34m\u001b[0m\u001b[0m\n\u001b[1;32m     15\u001b[0m   exp = explainer.explain_instance(X_test.to_numpy()[j], \n\u001b[0;32m---> 16\u001b[0;31m                                    clf.predict_proba, num_features=n_features)\n\u001b[0m\u001b[1;32m     17\u001b[0m   \u001b[0mexp\u001b[0m\u001b[0;34m.\u001b[0m\u001b[0mshow_in_notebook\u001b[0m\u001b[0;34m(\u001b[0m\u001b[0mshow_table\u001b[0m\u001b[0;34m=\u001b[0m\u001b[0;32mTrue\u001b[0m\u001b[0;34m)\u001b[0m\u001b[0;34m\u001b[0m\u001b[0;34m\u001b[0m\u001b[0m\n\u001b[1;32m     18\u001b[0m   \u001b[0;32mreturn\u001b[0m\u001b[0;34m\u001b[0m\u001b[0;34m\u001b[0m\u001b[0m\n",
            "\u001b[0;32m/usr/local/lib/python3.6/dist-packages/lime/lime_tabular.py\u001b[0m in \u001b[0;36mexplain_instance\u001b[0;34m(self, data_row, predict_fn, labels, top_labels, num_features, num_samples, distance_metric, model_regressor)\u001b[0m\n\u001b[1;32m    353\u001b[0m         ).ravel()\n\u001b[1;32m    354\u001b[0m \u001b[0;34m\u001b[0m\u001b[0m\n\u001b[0;32m--> 355\u001b[0;31m         \u001b[0myss\u001b[0m \u001b[0;34m=\u001b[0m \u001b[0mpredict_fn\u001b[0m\u001b[0;34m(\u001b[0m\u001b[0minverse\u001b[0m\u001b[0;34m)\u001b[0m\u001b[0;34m\u001b[0m\u001b[0;34m\u001b[0m\u001b[0m\n\u001b[0m\u001b[1;32m    356\u001b[0m \u001b[0;34m\u001b[0m\u001b[0m\n\u001b[1;32m    357\u001b[0m         \u001b[0;31m# for classification, the model needs to provide a list of tuples - classes\u001b[0m\u001b[0;34m\u001b[0m\u001b[0;34m\u001b[0m\u001b[0;34m\u001b[0m\u001b[0m\n",
            "\u001b[0;32m/usr/local/lib/python3.6/dist-packages/xgboost/sklearn.py\u001b[0m in \u001b[0;36mpredict_proba\u001b[0;34m(self, data, ntree_limit, validate_features)\u001b[0m\n\u001b[1;32m    832\u001b[0m         class_probs = self.get_booster().predict(test_dmatrix,\n\u001b[1;32m    833\u001b[0m                                                  \u001b[0mntree_limit\u001b[0m\u001b[0;34m=\u001b[0m\u001b[0mntree_limit\u001b[0m\u001b[0;34m,\u001b[0m\u001b[0;34m\u001b[0m\u001b[0;34m\u001b[0m\u001b[0m\n\u001b[0;32m--> 834\u001b[0;31m                                                  validate_features=validate_features)\n\u001b[0m\u001b[1;32m    835\u001b[0m         \u001b[0;32mif\u001b[0m \u001b[0mself\u001b[0m\u001b[0;34m.\u001b[0m\u001b[0mobjective\u001b[0m \u001b[0;34m==\u001b[0m \u001b[0;34m\"multi:softprob\"\u001b[0m\u001b[0;34m:\u001b[0m\u001b[0;34m\u001b[0m\u001b[0;34m\u001b[0m\u001b[0m\n\u001b[1;32m    836\u001b[0m             \u001b[0;32mreturn\u001b[0m \u001b[0mclass_probs\u001b[0m\u001b[0;34m\u001b[0m\u001b[0;34m\u001b[0m\u001b[0m\n",
            "\u001b[0;32m/usr/local/lib/python3.6/dist-packages/xgboost/core.py\u001b[0m in \u001b[0;36mpredict\u001b[0;34m(self, data, output_margin, ntree_limit, pred_leaf, pred_contribs, approx_contribs, pred_interactions, validate_features)\u001b[0m\n\u001b[1;32m   1282\u001b[0m \u001b[0;34m\u001b[0m\u001b[0m\n\u001b[1;32m   1283\u001b[0m         \u001b[0;32mif\u001b[0m \u001b[0mvalidate_features\u001b[0m\u001b[0;34m:\u001b[0m\u001b[0;34m\u001b[0m\u001b[0;34m\u001b[0m\u001b[0m\n\u001b[0;32m-> 1284\u001b[0;31m             \u001b[0mself\u001b[0m\u001b[0;34m.\u001b[0m\u001b[0m_validate_features\u001b[0m\u001b[0;34m(\u001b[0m\u001b[0mdata\u001b[0m\u001b[0;34m)\u001b[0m\u001b[0;34m\u001b[0m\u001b[0;34m\u001b[0m\u001b[0m\n\u001b[0m\u001b[1;32m   1285\u001b[0m \u001b[0;34m\u001b[0m\u001b[0m\n\u001b[1;32m   1286\u001b[0m         \u001b[0mlength\u001b[0m \u001b[0;34m=\u001b[0m \u001b[0mc_bst_ulong\u001b[0m\u001b[0;34m(\u001b[0m\u001b[0;34m)\u001b[0m\u001b[0;34m\u001b[0m\u001b[0;34m\u001b[0m\u001b[0m\n",
            "\u001b[0;32m/usr/local/lib/python3.6/dist-packages/xgboost/core.py\u001b[0m in \u001b[0;36m_validate_features\u001b[0;34m(self, data)\u001b[0m\n\u001b[1;32m   1688\u001b[0m \u001b[0;34m\u001b[0m\u001b[0m\n\u001b[1;32m   1689\u001b[0m                 raise ValueError(msg.format(self.feature_names,\n\u001b[0;32m-> 1690\u001b[0;31m                                             data.feature_names))\n\u001b[0m\u001b[1;32m   1691\u001b[0m \u001b[0;34m\u001b[0m\u001b[0m\n\u001b[1;32m   1692\u001b[0m     \u001b[0;32mdef\u001b[0m \u001b[0mget_split_value_histogram\u001b[0m\u001b[0;34m(\u001b[0m\u001b[0mself\u001b[0m\u001b[0;34m,\u001b[0m \u001b[0mfeature\u001b[0m\u001b[0;34m,\u001b[0m \u001b[0mfmap\u001b[0m\u001b[0;34m=\u001b[0m\u001b[0;34m''\u001b[0m\u001b[0;34m,\u001b[0m \u001b[0mbins\u001b[0m\u001b[0;34m=\u001b[0m\u001b[0;32mNone\u001b[0m\u001b[0;34m,\u001b[0m \u001b[0mas_pandas\u001b[0m\u001b[0;34m=\u001b[0m\u001b[0;32mTrue\u001b[0m\u001b[0;34m)\u001b[0m\u001b[0;34m:\u001b[0m\u001b[0;34m\u001b[0m\u001b[0;34m\u001b[0m\u001b[0m\n",
            "\u001b[0;31mValueError\u001b[0m: feature_names mismatch: ['TransactionDT', 'TransactionAmt', 'card1', 'card2', 'card3', 'card5', 'addr1', 'addr2', 'C1', 'C2', 'C3', 'C4', 'C5', 'C6', 'C7', 'C8', 'C9', 'C10', 'C11', 'C12', 'C13', 'C14', 'D1', 'D10', 'D15', 'V12', 'V13', 'V14', 'V15', 'V16', 'V17', 'V18', 'V19', 'V20', 'V21', 'V22', 'V23', 'V24', 'V25', 'V26', 'V27', 'V28', 'V29', 'V30', 'V31', 'V32', 'V33', 'V34', 'V53', 'V54', 'V55', 'V56', 'V57', 'V58', 'V59', 'V60', 'V61', 'V62', 'V63', 'V64', 'V65', 'V66', 'V67', 'V68', 'V69', 'V70', 'V71', 'V72', 'V73', 'V74', 'V75', 'V76', 'V77', 'V78', 'V79', 'V80', 'V81', 'V82', 'V83', 'V84', 'V85', 'V86', 'V87', 'V88', 'V89', 'V90', 'V91', 'V92', 'V93', 'V94', 'V95', 'V96', 'V97', 'V98', 'V99', 'V100', 'V101', 'V102', 'V103', 'V104', 'V105', 'V106', 'V107', 'V108', 'V109', 'V110', 'V111', 'V112', 'V113', 'V114', 'V115', 'V116', 'V117', 'V118', 'V119', 'V120', 'V121', 'V122', 'V123', 'V124', 'V125', 'V126', 'V127', 'V128', 'V129', 'V130', 'V131', 'V132', 'V133', 'V134', 'V135', 'V136', 'V137', 'V279', 'V280', 'V281', 'V282', 'V283', 'V284', 'V285', 'V286', 'V287', 'V288', 'V289', 'V290', 'V291', 'V292', 'V293', 'V294', 'V295', 'V296', 'V297', 'V298', 'V299', 'V300', 'V301', 'V302', 'V303', 'V304', 'V305', 'V306', 'V307', 'V308', 'V309', 'V310', 'V311', 'V312', 'V313', 'V314', 'V315', 'V316', 'V317', 'V318', 'V319', 'V320', 'V321', 'day', 'hour', 'ProductCD_C', 'ProductCD_H', 'ProductCD_R', 'ProductCD_S', 'ProductCD_W', 'card4_american express...\nexpected device_version_MPD24.65-33, R_emaildomain_me.com, screen_w_3000, V33, V22, screen_h_924, V25, R_emaildomain_ymail.com, card4_unknown, device_version_NRD90N, ProductCD_R, device_version_OPM1.171019.012, os_version_11.0.0, screen_h_1825, screen_h_3000, device_version_LMY47D, V101, screen_h_2400, R_emaildomain_anonymous.com, device_version_NMA26.42-142, device_version_NDSS26.118-23-19-6, R_emaildomain_protonmail.com, device_version_OPN27.76-12-22, browser_name_chrome, device_version_KXB21.14-L1.40, device_version_NCLS26.118-23-13-3, screen_w_2255, screen_h_1081, device_version_V41020c, screen_h_840, device_version_NPIS26.48-36-2, P_emaildomain_netzero.net, screen_h_732, P_emaildomain_ymail.com, device_version_OPM1.171019.011, P_emaildomain_twc.com, V34, device_version_NPJS25.93-14-15, device_version_NPNS25.137-92-4, screen_w_2880, device_version_42.0.A.4.101, V85, V304, V282, P_emaildomain_live.com, V32, device_version_NRD90M.054, os_version_11.3.0, screen_w_2001, R_emaildomain_cox.net, screen_h_1155, browser_name_Mozilla/Firefox, device_version_OPM3.171019.013, V288, screen_h_774, device_version_H81021z, V79, P_emaildomain_yahoo.com, screen_w_2736, device_version_H81022f, screen_h_1728, device_version_OPM1.171019.019, os_version_10.0.2, screen_h_792, screen_h_803, screen_w_1371, device_version_NPJS25.93-14-8, device_version_HUAWEINXT-L09, screen_w_2559, screen_h_801, browser_name_safari, V91, id_16_NotFound, V77, browser_name_iron, browser_name_maxthon, device_versi...\ntraining data did not have the following fields: f912, f250, f811, f46, f660, f314, f545, f672, f512, f544, f491, f15, f1011, f729, f92, f677, f254, f186, f595, f266, f50, f483, f1042, f988, f1055, f1016, f376, f783, f375, f909, f985, f1067, f1076, f557, f463, f683, f744, f457, f382, f67, f87, f514, f586, f642, f883, f58, f404, f222, f54, f312, f534, f14, f189, f594, f177, f667, f690, f372, f97, f798, f972, f1031, f613, f1087, f267, f198, f30, f857, f286, f205, f343, f780, f816, f123, f165, f388, f910, f662, f280, f669, f366, f583, f1059, f167, f850, f505, f606, f76, f399, f686, f169, f243, f38, f253, f371, f866, f476, f867, f1075, f324, f661, f392, f181, f147, f485, f560, f709, f310, f488, f911, f53, f932, f1028, f217, f391, f415, f516, f943, f494, f231, f109, f256, f260, f330, f572, f694, f921, f928, f149, f452, f477, f720, f772, f978, f1052, f992, f862, f640, f1056, f1033, f453, f73, f552, f45, f466, f294, f841, f908, f361, f1035, f701, f157, f161, f707, f212, f394, f935, f588, f499, f728, f334, f571, f418, f1034, f187, f616, f37, f1058, f385, f299, f920, f142, f201, f945, f1070, f1088, f77, f41, f750, f405, f459, f810, f339, f829, f689, f119, f275, f511, f351, f192, f757, f417, f380, f752, f526, f953, f698, f994, f89, f1002, f830, f141, f675, f172, f983, f950, f753, f951, f23, f13, f357, f403, f369, f851, f929, f1017, f107, f193, f408, f426, f472, f618, f578, f955, f890, f549, f535, f1030, f305, f774, f777, f1025, f112, f174, f680, f738, f258, f797, f1036, f550, f584, ..."
          ]
        }
      ]
    },
    {
      "cell_type": "code",
      "metadata": {
        "id": "D9biecaKKgjo"
      },
      "source": [
        ""
      ],
      "execution_count": null,
      "outputs": []
    }
  ]
}