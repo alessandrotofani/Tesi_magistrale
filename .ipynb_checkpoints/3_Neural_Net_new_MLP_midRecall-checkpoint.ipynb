{
  "nbformat": 4,
  "nbformat_minor": 0,
  "metadata": {
    "colab": {
      "name": "3_Neural_Net.ipynb",
      "provenance": [],
      "authorship_tag": "ABX9TyORecTWwKuZA/DvoDLF4iyK",
      "include_colab_link": true
    },
    "kernelspec": {
      "name": "python3",
      "display_name": "Python 3"
    },
    "accelerator": "GPU"
  },
  "cells": [
    {
      "cell_type": "markdown",
      "metadata": {
        "id": "view-in-github",
        "colab_type": "text"
      },
      "source": [
        "<a href=\"https://colab.research.google.com/github/alessandrotofani/Tesi_magistrale/blob/master/3_Neural_Net_new_MLP_midRecall.ipynb\" target=\"_parent\"><img src=\"https://colab.research.google.com/assets/colab-badge.svg\" alt=\"Open In Colab\"/></a>"
      ]
    },
    {
      "cell_type": "markdown",
      "metadata": {
        "id": "8-eTUKS6D9Fs"
      },
      "source": [
        "# Import"
      ]
    },
    {
      "cell_type": "code",
      "metadata": {
        "colab": {
          "base_uri": "https://localhost:8080/"
        },
        "id": "xtV-QCEPDVju",
        "outputId": "bf70c3cb-76c2-42a3-b15e-9ccad931c834"
      },
      "source": [
        "import numpy as np # linear algebra\r\n",
        "import pandas as pd # data processing\r\n",
        "import matplotlib\r\n",
        "import matplotlib.pyplot as plt\r\n",
        "import seaborn as sns\r\n",
        "import os\r\n",
        "from google.colab import drive\r\n",
        "drive.mount('/content/drive')\r\n",
        "from sklearn.model_selection import train_test_split"
      ],
      "execution_count": 1,
      "outputs": [
        {
          "output_type": "stream",
          "text": [
            "Mounted at /content/drive\n"
          ],
          "name": "stdout"
        }
      ]
    },
    {
      "cell_type": "code",
      "metadata": {
        "id": "QSvV9n8XDd1_"
      },
      "source": [
        "import sys \r\n",
        "sys.path.append('/content/drive/MyDrive/Tesi_magistrale/Tesi_magistrale')\r\n",
        "import mf\r\n",
        "import warnings\r\n",
        "warnings.simplefilter(action='ignore', category=FutureWarning)"
      ],
      "execution_count": 2,
      "outputs": []
    },
    {
      "cell_type": "code",
      "metadata": {
        "id": "vLwIrSvoSR7S",
        "colab": {
          "base_uri": "https://localhost:8080/"
        },
        "outputId": "5b78875a-1149-42df-b641-607e3170259a"
      },
      "source": [
        "!pip install --quiet fastai==2.2.5"
      ],
      "execution_count": 3,
      "outputs": [
        {
          "output_type": "stream",
          "text": [
            "\u001b[K     |████████████████████████████████| 194kB 8.4MB/s \n",
            "\u001b[K     |████████████████████████████████| 61kB 10.3MB/s \n",
            "\u001b[?25h"
          ],
          "name": "stdout"
        }
      ]
    },
    {
      "cell_type": "markdown",
      "metadata": {
        "id": "k5aTQo_7D3KW"
      },
      "source": [
        "# Preprocessing"
      ]
    },
    {
      "cell_type": "code",
      "metadata": {
        "id": "3CA67WePVnds"
      },
      "source": [
        "data = pd.read_csv('/content/drive/MyDrive/Tesi_magistrale/Dataset/IEEE/Output/data.csv')\r\n",
        "data = mf.new_processing(data)\r\n",
        "# data = pd.get_dummies(data)"
      ],
      "execution_count": 4,
      "outputs": []
    },
    {
      "cell_type": "code",
      "metadata": {
        "id": "ouq64I1r5lkR"
      },
      "source": [
        "cols = mf.get_col(data)"
      ],
      "execution_count": 5,
      "outputs": []
    },
    {
      "cell_type": "code",
      "metadata": {
        "id": "GRYQU4obQE8V"
      },
      "source": [
        "from fastai.tabular.all import *"
      ],
      "execution_count": 6,
      "outputs": []
    },
    {
      "cell_type": "code",
      "metadata": {
        "id": "ruoqZDmGS48a"
      },
      "source": [
        "categorical_col = data.select_dtypes(include=['object']).columns.tolist()"
      ],
      "execution_count": 7,
      "outputs": []
    },
    {
      "cell_type": "code",
      "metadata": {
        "id": "9WHzC-MHVTBV"
      },
      "source": [
        "def get_numerical_col(data, categorical_col):\n",
        "  numerical_col = []\n",
        "  for col in data.columns:\n",
        "    if col not in categorical_col and col != 'isFraud':\n",
        "      numerical_col.append(col)\n",
        "  return numerical_col\n",
        "\n",
        "numerical_col = get_numerical_col(data, categorical_col)"
      ],
      "execution_count": 8,
      "outputs": []
    },
    {
      "cell_type": "markdown",
      "metadata": {
        "id": "_IkJQpHuhnXm"
      },
      "source": [
        "Tutorial: https://docs.fast.ai/tutorial.tabular.html\n",
        "\n",
        "Book: https://github.com/fastai/fastbook/blob/master/09_tabular.ipynb"
      ]
    },
    {
      "cell_type": "code",
      "metadata": {
        "id": "uss-vsWXQE3E"
      },
      "source": [
        "fasted = TabularPandas(data, procs=[Categorify],\n",
        "                   cat_names = categorical_col,\n",
        "                   cont_names = numerical_col,\n",
        "                   y_names='isFraud')\n",
        "                  #  splits=splits)"
      ],
      "execution_count": 9,
      "outputs": []
    },
    {
      "cell_type": "code",
      "metadata": {
        "id": "X-fjffG1UwkY"
      },
      "source": [
        "X_train, y_train = fasted.xs, fasted.ys.values.ravel()\n",
        "# X_test, y_test = fasted.valid.xs, fasted.valid.ys.values.ravel()"
      ],
      "execution_count": 10,
      "outputs": []
    },
    {
      "cell_type": "code",
      "metadata": {
        "id": "GAffYKlMcKoQ"
      },
      "source": [
        "# for col in categorical_col:\n",
        "#   print('Feature',col, 'has',X_train[col].max(), 'different categorical values')"
      ],
      "execution_count": 11,
      "outputs": []
    },
    {
      "cell_type": "code",
      "metadata": {
        "id": "Da6EBrZcrZpF"
      },
      "source": [
        "categorical_col_toemb = []\n",
        "one_hot_encode = []\n",
        "for col in categorical_col:\n",
        "  if X_train[col].max() > 7:\n",
        "    categorical_col_toemb.append(col)\n",
        "  else:\n",
        "    one_hot_encode.append(col)\n",
        "\n",
        "X_train = pd.get_dummies(X_train, columns=one_hot_encode)\n",
        "cols = mf.get_col(X_train)"
      ],
      "execution_count": 12,
      "outputs": []
    },
    {
      "cell_type": "code",
      "metadata": {
        "id": "pDwfRa1mr7Jy"
      },
      "source": [
        "numerical_col = get_numerical_col(X_train, categorical_col_toemb)"
      ],
      "execution_count": 13,
      "outputs": []
    },
    {
      "cell_type": "markdown",
      "metadata": {
        "id": "WLwNC-RfdpGF"
      },
      "source": [
        "## Train validation test split"
      ]
    },
    {
      "cell_type": "markdown",
      "metadata": {
        "id": "m8EkabwNTN1C"
      },
      "source": [
        "Splitto il dataset in train, validation e test set. "
      ]
    },
    {
      "cell_type": "code",
      "metadata": {
        "id": "QTS6eJT9AGlU"
      },
      "source": [
        "def overSampling(X, y, frac_over=0.1):\n",
        "  from imblearn.over_sampling import SMOTE\n",
        "  sm = SMOTE(sampling_strategy=frac_over, random_state=42)\n",
        "  X_sm, y_sm = sm.fit_resample(X, y)  \n",
        "  return X_sm, y_sm"
      ],
      "execution_count": 14,
      "outputs": []
    },
    {
      "cell_type": "code",
      "metadata": {
        "id": "b1lw52XFUZBG"
      },
      "source": [
        "X_train, X_test, y_train, y_test = train_test_split(X_train, y_train, test_size = 0.2)\n",
        "X_train, y_train = overSampling(X_train, y_train)\n",
        "X_train, X_val, y_train, y_val = train_test_split(X_train, y_train, test_size=0.25, random_state=42)"
      ],
      "execution_count": 15,
      "outputs": []
    },
    {
      "cell_type": "code",
      "metadata": {
        "id": "dqOMoTQ-xkQo"
      },
      "source": [
        "save_id = False \r\n",
        "\r\n",
        "if save_id:\r\n",
        "  train_id = X_train.index.tolist()\r\n",
        "  val_id = X_val.index.tolist()\r\n",
        "  test_id = X_test.index.tolist()\r\n",
        "  mf.save_list('train_id',train_id)\r\n",
        "  mf.save_list('val_id', val_id)\r\n",
        "  mf.save_list('test_id', test_id)\r\n",
        "\r\n",
        "load_id = False \r\n",
        "if load_id:\r\n",
        "  mf.load_list('train_id',train_id)\r\n",
        "  mf.load_list('val_id', val_id)\r\n",
        "  mf.load_list('test_id', test_id)"
      ],
      "execution_count": 16,
      "outputs": []
    },
    {
      "cell_type": "markdown",
      "metadata": {
        "id": "XcNlmAIrLUcB"
      },
      "source": [
        "# Neural Network"
      ]
    },
    {
      "cell_type": "markdown",
      "metadata": {
        "id": "HypjIBuVX2UT"
      },
      "source": [
        "Kaggle tutorial https://www.kaggle.com/colinmorris/embedding-layers\n",
        "\n",
        "Implementation: https://www.kaggle.com/blaskowitz100/dnn-keras-and-categorical-feature-embedding"
      ]
    },
    {
      "cell_type": "code",
      "metadata": {
        "id": "-19ItfoMTD0L"
      },
      "source": [
        "import tensorflow as tf\n",
        "from tensorflow import keras\n",
        "from tensorflow.keras import models\n",
        "from tensorflow.keras import layers\n",
        "\n",
        "keras.backend.clear_session()\n",
        "# Embedding for categorical features\n",
        "categorical_input = []\n",
        "numerical_input = []\n",
        "embeddings = []\n",
        "embedding_layer_names = []\n",
        "for col in categorical_col_toemb:\n",
        "# for col in categorical_col:\n",
        "    _input = layers.Input(shape=[1], name=col)\n",
        "    _embed = layers.Embedding(fasted[col].max() + 1, 3, name=col+'_emb')(_input)\n",
        "    categorical_input.append(_input)\n",
        "    embeddings.append(_embed)\n",
        "    embedding_layer_names.append(col+'_emb')\n",
        "    \n",
        "# Simple inputs for the numeric features\n",
        "for col in numerical_col:\n",
        "    numeric_input = layers.Input(shape=(1,), name=col)\n",
        "    numerical_input.append(numeric_input)\n",
        "    \n",
        "# Merge the numeric inputs\n",
        "merged_num_inputs = layers.concatenate(numerical_input)\n",
        "\n",
        "# Merge embedding and use a Droput to prevent overfittting\n",
        "merged_inputs = layers.concatenate(embeddings)\n",
        "spatial_dropout = layers.SpatialDropout1D(0.3)(merged_inputs) # 0.2\n",
        "flat_embed = layers.Flatten()(spatial_dropout)\n",
        "\n",
        "# Merge embedding and numeric features\n",
        "all_features = layers.concatenate([flat_embed, merged_num_inputs])\n",
        "\n",
        "# MLP for classification\n",
        "x = layers.Dense(360, activation=tf.keras.activations.gelu)(all_features) \n",
        "x = layers.BatchNormalization()(x)\n",
        "x = layers.Dropout(0.2)(x) #0.05 0.2\n",
        "\n",
        "# Final model\n",
        "output = layers.Dense(1, activation='sigmoid')(x)\n",
        "model = models.Model(inputs=categorical_input + numerical_input, outputs=output)"
      ],
      "execution_count": 83,
      "outputs": []
    },
    {
      "cell_type": "code",
      "metadata": {
        "id": "UtPJD6YkUKZe"
      },
      "source": [
        "model.compile(loss='binary_crossentropy', optimizer='adam', metrics=['accuracy',tf.keras.metrics.Recall(), tf.keras.metrics.Precision()])\n",
        "# print(model.summary())"
      ],
      "execution_count": 84,
      "outputs": []
    },
    {
      "cell_type": "code",
      "metadata": {
        "id": "kJxOM99jPYxe"
      },
      "source": [
        "def get_keras_dataset(X, cols):\n",
        "  df = pd.DataFrame(data=X, columns=cols)\n",
        "  X = {str(col) : np.array(df[col]) for col in df.columns}\n",
        "  return X"
      ],
      "execution_count": 85,
      "outputs": []
    },
    {
      "cell_type": "code",
      "metadata": {
        "colab": {
          "base_uri": "https://localhost:8080/"
        },
        "id": "DcxHJc6-OD5P",
        "outputId": "b630228e-8109-4104-ffa6-793d6a759243"
      },
      "source": [
        "history = model.fit(\r\n",
        "    get_keras_dataset(X_train, cols), \r\n",
        "    y_train,\r\n",
        "    epochs=40, #30 \r\n",
        "    batch_size=512, # 512\r\n",
        "    validation_data=(get_keras_dataset(X_val, cols),y_val),\r\n",
        "    verbose=1,\r\n",
        "    shuffle = True , \r\n",
        "    class_weight = {0: 0.5, 1: 4} #3.5\r\n",
        ")"
      ],
      "execution_count": 86,
      "outputs": [
        {
          "output_type": "stream",
          "text": [
            "Epoch 1/40\n",
            "735/735 [==============================] - 23s 29ms/step - loss: 0.4352 - accuracy: 0.7752 - recall: 0.6830 - precision: 0.2441 - val_loss: 0.5108 - val_accuracy: 0.7615 - val_recall: 0.7968 - val_precision: 0.2514\n",
            "Epoch 2/40\n",
            "735/735 [==============================] - 20s 27ms/step - loss: 0.3680 - accuracy: 0.8374 - recall: 0.7137 - precision: 0.3207 - val_loss: 0.4499 - val_accuracy: 0.8013 - val_recall: 0.7767 - val_precision: 0.2876\n",
            "Epoch 3/40\n",
            "735/735 [==============================] - 19s 26ms/step - loss: 0.3498 - accuracy: 0.8444 - recall: 0.7337 - precision: 0.3325 - val_loss: 0.4013 - val_accuracy: 0.8237 - val_recall: 0.7706 - val_precision: 0.3150\n",
            "Epoch 4/40\n",
            "735/735 [==============================] - 19s 26ms/step - loss: 0.3393 - accuracy: 0.8482 - recall: 0.7529 - precision: 0.3461 - val_loss: 0.4299 - val_accuracy: 0.8189 - val_recall: 0.7886 - val_precision: 0.3112\n",
            "Epoch 5/40\n",
            "735/735 [==============================] - 20s 27ms/step - loss: 0.3308 - accuracy: 0.8535 - recall: 0.7601 - precision: 0.3535 - val_loss: 0.3711 - val_accuracy: 0.8478 - val_recall: 0.7930 - val_precision: 0.3556\n",
            "Epoch 6/40\n",
            "735/735 [==============================] - 19s 26ms/step - loss: 0.3253 - accuracy: 0.8571 - recall: 0.7704 - precision: 0.3633 - val_loss: 0.2927 - val_accuracy: 0.8844 - val_recall: 0.7260 - val_precision: 0.4269\n",
            "Epoch 7/40\n",
            "735/735 [==============================] - 19s 26ms/step - loss: 0.3188 - accuracy: 0.8594 - recall: 0.7708 - precision: 0.3666 - val_loss: 0.2949 - val_accuracy: 0.8859 - val_recall: 0.7244 - val_precision: 0.4307\n",
            "Epoch 8/40\n",
            "735/735 [==============================] - 20s 27ms/step - loss: 0.3150 - accuracy: 0.8607 - recall: 0.7745 - precision: 0.3708 - val_loss: 0.3292 - val_accuracy: 0.8651 - val_recall: 0.7771 - val_precision: 0.3863\n",
            "Epoch 9/40\n",
            "735/735 [==============================] - 20s 27ms/step - loss: 0.3082 - accuracy: 0.8641 - recall: 0.7820 - precision: 0.3803 - val_loss: 0.2531 - val_accuracy: 0.8996 - val_recall: 0.6934 - val_precision: 0.4712\n",
            "Epoch 10/40\n",
            "735/735 [==============================] - 19s 26ms/step - loss: 0.3043 - accuracy: 0.8660 - recall: 0.7880 - precision: 0.3849 - val_loss: 0.4210 - val_accuracy: 0.8109 - val_recall: 0.8504 - val_precision: 0.3099\n",
            "Epoch 11/40\n",
            "735/735 [==============================] - 20s 27ms/step - loss: 0.3032 - accuracy: 0.8675 - recall: 0.7882 - precision: 0.3872 - val_loss: 0.2417 - val_accuracy: 0.9037 - val_recall: 0.6920 - val_precision: 0.4859\n",
            "Epoch 12/40\n",
            "735/735 [==============================] - 19s 26ms/step - loss: 0.2962 - accuracy: 0.8689 - recall: 0.7949 - precision: 0.3911 - val_loss: 0.3126 - val_accuracy: 0.8754 - val_recall: 0.7982 - val_precision: 0.4108\n",
            "Epoch 13/40\n",
            "735/735 [==============================] - 19s 26ms/step - loss: 0.2921 - accuracy: 0.8727 - recall: 0.7948 - precision: 0.3962 - val_loss: 0.4105 - val_accuracy: 0.8106 - val_recall: 0.8643 - val_precision: 0.3115\n",
            "Epoch 14/40\n",
            "735/735 [==============================] - 19s 26ms/step - loss: 0.2904 - accuracy: 0.8717 - recall: 0.8014 - precision: 0.3957 - val_loss: 0.3802 - val_accuracy: 0.8424 - val_recall: 0.8351 - val_precision: 0.3519\n",
            "Epoch 15/40\n",
            "735/735 [==============================] - 19s 26ms/step - loss: 0.2889 - accuracy: 0.8731 - recall: 0.8017 - precision: 0.4002 - val_loss: 0.3054 - val_accuracy: 0.8790 - val_recall: 0.7843 - val_precision: 0.4182\n",
            "Epoch 16/40\n",
            "735/735 [==============================] - 19s 26ms/step - loss: 0.2877 - accuracy: 0.8736 - recall: 0.8003 - precision: 0.3983 - val_loss: 0.3233 - val_accuracy: 0.8720 - val_recall: 0.8024 - val_precision: 0.4038\n",
            "Epoch 17/40\n",
            "735/735 [==============================] - 19s 26ms/step - loss: 0.2872 - accuracy: 0.8743 - recall: 0.8030 - precision: 0.4049 - val_loss: 0.3372 - val_accuracy: 0.8595 - val_recall: 0.8321 - val_precision: 0.3813\n",
            "Epoch 18/40\n",
            "735/735 [==============================] - 19s 26ms/step - loss: 0.2813 - accuracy: 0.8775 - recall: 0.8095 - precision: 0.4105 - val_loss: 0.3638 - val_accuracy: 0.8439 - val_recall: 0.8551 - val_precision: 0.3568\n",
            "Epoch 19/40\n",
            "735/735 [==============================] - 19s 26ms/step - loss: 0.2822 - accuracy: 0.8764 - recall: 0.8062 - precision: 0.4064 - val_loss: 0.2900 - val_accuracy: 0.8809 - val_recall: 0.8063 - val_precision: 0.4245\n",
            "Epoch 20/40\n",
            "735/735 [==============================] - 19s 27ms/step - loss: 0.2784 - accuracy: 0.8789 - recall: 0.8115 - precision: 0.4143 - val_loss: 0.2562 - val_accuracy: 0.9027 - val_recall: 0.7789 - val_precision: 0.4842\n",
            "Epoch 21/40\n",
            "735/735 [==============================] - 19s 26ms/step - loss: 0.2731 - accuracy: 0.8805 - recall: 0.8124 - precision: 0.4154 - val_loss: 0.2325 - val_accuracy: 0.9109 - val_recall: 0.7459 - val_precision: 0.5127\n",
            "Epoch 22/40\n",
            "735/735 [==============================] - 19s 26ms/step - loss: 0.2736 - accuracy: 0.8814 - recall: 0.8154 - precision: 0.4203 - val_loss: 0.2683 - val_accuracy: 0.8915 - val_recall: 0.7954 - val_precision: 0.4512\n",
            "Epoch 23/40\n",
            "735/735 [==============================] - 19s 26ms/step - loss: 0.2687 - accuracy: 0.8826 - recall: 0.8191 - precision: 0.4215 - val_loss: 0.2795 - val_accuracy: 0.8884 - val_recall: 0.8136 - val_precision: 0.4439\n",
            "Epoch 24/40\n",
            "735/735 [==============================] - 19s 26ms/step - loss: 0.2672 - accuracy: 0.8842 - recall: 0.8186 - precision: 0.4273 - val_loss: 0.2741 - val_accuracy: 0.8905 - val_recall: 0.8036 - val_precision: 0.4488\n",
            "Epoch 25/40\n",
            "735/735 [==============================] - 19s 26ms/step - loss: 0.2684 - accuracy: 0.8835 - recall: 0.8195 - precision: 0.4263 - val_loss: 0.2871 - val_accuracy: 0.8821 - val_recall: 0.8278 - val_precision: 0.4291\n",
            "Epoch 26/40\n",
            "735/735 [==============================] - 19s 25ms/step - loss: 0.2627 - accuracy: 0.8862 - recall: 0.8252 - precision: 0.4313 - val_loss: 0.3001 - val_accuracy: 0.8759 - val_recall: 0.8345 - val_precision: 0.4152\n",
            "Epoch 27/40\n",
            "735/735 [==============================] - 19s 27ms/step - loss: 0.2615 - accuracy: 0.8845 - recall: 0.8235 - precision: 0.4278 - val_loss: 0.2292 - val_accuracy: 0.9090 - val_recall: 0.7715 - val_precision: 0.5055\n",
            "Epoch 28/40\n",
            "735/735 [==============================] - 20s 27ms/step - loss: 0.2625 - accuracy: 0.8861 - recall: 0.8228 - precision: 0.4332 - val_loss: 0.2757 - val_accuracy: 0.8871 - val_recall: 0.8195 - val_precision: 0.4409\n",
            "Epoch 29/40\n",
            "735/735 [==============================] - 19s 26ms/step - loss: 0.2590 - accuracy: 0.8882 - recall: 0.8292 - precision: 0.4383 - val_loss: 0.2791 - val_accuracy: 0.8873 - val_recall: 0.8272 - val_precision: 0.4419\n",
            "Epoch 30/40\n",
            "735/735 [==============================] - 19s 26ms/step - loss: 0.2561 - accuracy: 0.8882 - recall: 0.8296 - precision: 0.4365 - val_loss: 0.4381 - val_accuracy: 0.7889 - val_recall: 0.9028 - val_precision: 0.2925\n",
            "Epoch 31/40\n",
            "735/735 [==============================] - 19s 26ms/step - loss: 0.2519 - accuracy: 0.8901 - recall: 0.8341 - precision: 0.4413 - val_loss: 0.2092 - val_accuracy: 0.9228 - val_recall: 0.7599 - val_precision: 0.5612\n",
            "Epoch 32/40\n",
            "735/735 [==============================] - 19s 26ms/step - loss: 0.2499 - accuracy: 0.8918 - recall: 0.8341 - precision: 0.4449 - val_loss: 0.3047 - val_accuracy: 0.8743 - val_recall: 0.8478 - val_precision: 0.4128\n",
            "Epoch 33/40\n",
            "735/735 [==============================] - 19s 26ms/step - loss: 0.2537 - accuracy: 0.8904 - recall: 0.8319 - precision: 0.4425 - val_loss: 0.2061 - val_accuracy: 0.9221 - val_recall: 0.7576 - val_precision: 0.5584\n",
            "Epoch 34/40\n",
            "735/735 [==============================] - 19s 26ms/step - loss: 0.2502 - accuracy: 0.8919 - recall: 0.8367 - precision: 0.4494 - val_loss: 0.3704 - val_accuracy: 0.8388 - val_recall: 0.8883 - val_precision: 0.3527\n",
            "Epoch 35/40\n",
            "735/735 [==============================] - 19s 26ms/step - loss: 0.2496 - accuracy: 0.8911 - recall: 0.8334 - precision: 0.4449 - val_loss: 0.2643 - val_accuracy: 0.8944 - val_recall: 0.8343 - val_precision: 0.4610\n",
            "Epoch 36/40\n",
            "735/735 [==============================] - 19s 26ms/step - loss: 0.2446 - accuracy: 0.8937 - recall: 0.8387 - precision: 0.4515 - val_loss: 0.2099 - val_accuracy: 0.9189 - val_recall: 0.7716 - val_precision: 0.5437\n",
            "Epoch 37/40\n",
            "735/735 [==============================] - 19s 26ms/step - loss: 0.2486 - accuracy: 0.8906 - recall: 0.8361 - precision: 0.4445 - val_loss: 0.3116 - val_accuracy: 0.8674 - val_recall: 0.8668 - val_precision: 0.4002\n",
            "Epoch 38/40\n",
            "735/735 [==============================] - 19s 26ms/step - loss: 0.2493 - accuracy: 0.8924 - recall: 0.8343 - precision: 0.4511 - val_loss: 0.2210 - val_accuracy: 0.9164 - val_recall: 0.7960 - val_precision: 0.5324\n",
            "Epoch 39/40\n",
            "735/735 [==============================] - 19s 26ms/step - loss: 0.2435 - accuracy: 0.8948 - recall: 0.8380 - precision: 0.4518 - val_loss: 0.1865 - val_accuracy: 0.9298 - val_recall: 0.7573 - val_precision: 0.5950\n",
            "Epoch 40/40\n",
            "735/735 [==============================] - 20s 27ms/step - loss: 0.2449 - accuracy: 0.8923 - recall: 0.8400 - precision: 0.4521 - val_loss: 0.2362 - val_accuracy: 0.9070 - val_recall: 0.8033 - val_precision: 0.4985\n"
          ],
          "name": "stdout"
        }
      ]
    },
    {
      "cell_type": "markdown",
      "metadata": {
        "id": "p-TwZZx0AOxO"
      },
      "source": [
        "# Performance evaluation"
      ]
    },
    {
      "cell_type": "code",
      "metadata": {
        "id": "WKOHvmiVOsaP"
      },
      "source": [
        "# test_loss, test_acc = model.evaluate(get_keras_dataset(X_test, cols), y_test)\r\n",
        "\r\n",
        "# print()\r\n",
        "# print('Test Loss:\\t', test_loss)\r\n",
        "# print('Test Accuracy:\\t', test_acc)"
      ],
      "execution_count": 87,
      "outputs": []
    },
    {
      "cell_type": "code",
      "metadata": {
        "id": "ujQ7C2bhQXLN"
      },
      "source": [
        "y_pred = model.predict(get_keras_dataset(X_test, cols))"
      ],
      "execution_count": 88,
      "outputs": []
    },
    {
      "cell_type": "code",
      "metadata": {
        "id": "TWs-nW4IPaQC",
        "colab": {
          "base_uri": "https://localhost:8080/",
          "height": 350
        },
        "outputId": "fe86410a-0974-4b4b-f749-a53a04455d75"
      },
      "source": [
        "mf.plot_cm(y_test, y_pred, 'Blues')"
      ],
      "execution_count": 89,
      "outputs": [
        {
          "output_type": "display_data",
          "data": {
            "image/png": "[encoded data removed]",
            "text/plain": [
              "<Figure size 360x360 with 2 Axes>"
            ]
          },
          "metadata": {
            "tags": [],
            "needs_background": "light"
          }
        }
      ]
    },
    {
      "cell_type": "code",
      "metadata": {
        "id": "4ivKw-JpPkVG",
        "colab": {
          "base_uri": "https://localhost:8080/",
          "height": 297
        },
        "outputId": "3322a8ad-795e-4d4e-fd8d-4a4ce247639d"
      },
      "source": [
        "mf.plot_roc(\"ROC curve\", y_test, y_pred,color='blue')"
      ],
      "execution_count": 90,
      "outputs": [
        {
          "output_type": "stream",
          "text": [
            "AUC:  0.9005300979544351\n"
          ],
          "name": "stdout"
        },
        {
          "output_type": "display_data",
          "data": {
            "image/png": "[encoded data removed]",
            "text/plain": [
              "<Figure size 432x288 with 1 Axes>"
            ]
          },
          "metadata": {
            "tags": [],
            "needs_background": "light"
          }
        }
      ]
    },
    {
      "cell_type": "code",
      "metadata": {
        "id": "mbjYisJaYevS",
        "colab": {
          "base_uri": "https://localhost:8080/",
          "height": 297
        },
        "outputId": "0b8b56f0-850f-4c7c-c632-07739c4cdf41"
      },
      "source": [
        "mf.plot_ap('Precision-Recall curve', y_test, y_pred, color = 'red')"
      ],
      "execution_count": 91,
      "outputs": [
        {
          "output_type": "stream",
          "text": [
            "Average precision:  0.5103241100336677\n"
          ],
          "name": "stdout"
        },
        {
          "output_type": "display_data",
          "data": {
            "image/png": "[encoded data removed]",
            "text/plain": [
              "<Figure size 432x288 with 1 Axes>"
            ]
          },
          "metadata": {
            "tags": [],
            "needs_background": "light"
          }
        }
      ]
    },
    {
      "cell_type": "code",
      "metadata": {
        "id": "2G6888leAwmt"
      },
      "source": [
        "y_predicted = []\r\n",
        "for prob in y_pred:\r\n",
        "  if prob >= 0.5:\r\n",
        "    y_predicted.append(1)\r\n",
        "  else:\r\n",
        "    y_predicted.append(0)"
      ],
      "execution_count": 92,
      "outputs": []
    },
    {
      "cell_type": "code",
      "metadata": {
        "id": "9O9ms_BTfptM",
        "colab": {
          "base_uri": "https://localhost:8080/"
        },
        "outputId": "1e79f9b1-6135-49a8-c1e7-976f5e65b4e4"
      },
      "source": [
        "from sklearn.metrics import f1_score, recall_score, precision_score\r\n",
        "print('F1 score: ',f1_score(y_test, y_predicted, average=\"binary\"))\r\n",
        "print('Recall: ', recall_score(y_test, y_predicted, average='binary'))\r\n",
        "print('Precision: ', precision_score(y_test, y_predicted,  average='binary'))"
      ],
      "execution_count": 93,
      "outputs": [
        {
          "output_type": "stream",
          "text": [
            "F1 score:  0.3600825543280321\n",
            "Recall:  0.7172914147521161\n",
            "Precision:  0.24037604343950078\n"
          ],
          "name": "stdout"
        }
      ]
    },
    {
      "cell_type": "code",
      "metadata": {
        "id": "aYR5BCcTm108"
      },
      "source": [
        ""
      ],
      "execution_count": 93,
      "outputs": []
    }
  ]
}