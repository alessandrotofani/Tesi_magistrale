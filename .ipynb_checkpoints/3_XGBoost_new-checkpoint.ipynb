{
  "nbformat": 4,
  "nbformat_minor": 0,
  "metadata": {
    "colab": {
      "name": "3_Pre_&_XGBoost.ipynb",
      "provenance": [],
      "authorship_tag": "ABX9TyPFKIi2oM/of9BPVe/FSYLY",
      "include_colab_link": true
    },
    "kernelspec": {
      "name": "python3",
      "display_name": "Python 3"
    },
    "accelerator": "GPU"
  },
  "cells": [
    {
      "cell_type": "markdown",
      "metadata": {
        "id": "view-in-github",
        "colab_type": "text"
      },
      "source": [
        "<a href=\"https://colab.research.google.com/github/alessandrotofani/Tesi_magistrale/blob/master/3_XGBoost_new.ipynb\" target=\"_parent\"><img src=\"https://colab.research.google.com/assets/colab-badge.svg\" alt=\"Open In Colab\"/></a>"
      ]
    },
    {
      "cell_type": "markdown",
      "metadata": {
        "id": "z-7rH_UhAPGR"
      },
      "source": [
        "# Import"
      ]
    },
    {
      "cell_type": "code",
      "metadata": {
        "id": "SwkBbxNMK8Fv",
        "colab": {
          "base_uri": "https://localhost:8080/"
        },
        "outputId": "c8ca247d-f922-4da3-9671-7bda7cbba155"
      },
      "source": [
        "import numpy as np # linear algebra\r\n",
        "import pandas as pd # data processing\r\n",
        "import matplotlib\r\n",
        "import matplotlib.pyplot as plt\r\n",
        "import seaborn as sns\r\n",
        "import os\r\n",
        "from google.colab import drive\r\n",
        "drive.mount('/content/drive')\r\n",
        "from sklearn.model_selection import train_test_split"
      ],
      "execution_count": 1,
      "outputs": [
        {
          "output_type": "stream",
          "text": [
            "Drive already mounted at /content/drive; to attempt to forcibly remount, call drive.mount(\"/content/drive\", force_remount=True).\n"
          ],
          "name": "stdout"
        }
      ]
    },
    {
      "cell_type": "code",
      "metadata": {
        "id": "9UBtZ7vSkof3"
      },
      "source": [
        "import sys \r\n",
        "sys.path.append('/content/drive/MyDrive/Tesi_magistrale/Tesi_magistrale')\r\n",
        "import mf"
      ],
      "execution_count": 2,
      "outputs": []
    },
    {
      "cell_type": "markdown",
      "metadata": {
        "id": "snsMJMlJ3Dcu"
      },
      "source": [
        "#  Dataset import"
      ]
    },
    {
      "cell_type": "code",
      "metadata": {
        "id": "3CA67WePVnds"
      },
      "source": [
        "data = pd.read_csv('/content/drive/MyDrive/Tesi_magistrale/Dataset/IEEE/Output/data.csv')\r\n",
        "data = mf.new_processing(data)\r\n",
        "data = pd.get_dummies(data)"
      ],
      "execution_count": 3,
      "outputs": []
    },
    {
      "cell_type": "code",
      "metadata": {
        "id": "X_JsaLIj2xyk"
      },
      "source": [
        "cols = mf.get_col(data)"
      ],
      "execution_count": 4,
      "outputs": []
    },
    {
      "cell_type": "code",
      "metadata": {
        "id": "e67PX2M7__c4"
      },
      "source": [
        "load = False\r\n",
        "save_id = True \r\n",
        "\r\n",
        "if load:\r\n",
        "  X_train, y_train = mf.get_set('train_id', data, 'xgboost_numpy', labels = True)\r\n",
        "  X_val, y_val = mf.get_set('val_id', data, 'xgboost_numpy', labels = True)\r\n",
        "  X_test, y_test = mf.get_set('test_id', data, 'xgboost_numpy', labels = True)"
      ],
      "execution_count": 5,
      "outputs": []
    },
    {
      "cell_type": "markdown",
      "metadata": {
        "id": "m8EkabwNTN1C"
      },
      "source": [
        "Splitto il dataset in train, validation e test set. "
      ]
    },
    {
      "cell_type": "code",
      "metadata": {
        "id": "wLWOp7sa2_rE"
      },
      "source": [
        "def overSampling(X, y, frac_over=0.1):\n",
        "  from imblearn.over_sampling import SMOTE\n",
        "  sm = SMOTE(sampling_strategy=frac_over, random_state=42)\n",
        "  X_sm, y_sm = sm.fit_resample(X, y)  \n",
        "  return X_sm, y_sm"
      ],
      "execution_count": 6,
      "outputs": []
    },
    {
      "cell_type": "code",
      "metadata": {
        "id": "0cz8y-FhBpi9",
        "outputId": "ef992347-a209-491b-ce7b-36effa34115f",
        "colab": {
          "base_uri": "https://localhost:8080/"
        }
      },
      "source": [
        "if not load:\r\n",
        "  X_train, X_test, y_train, y_test = mf.split(data, test_size = 0.2)\r\n",
        "  X_train, y_train = overSampling(X_train, y_train)\r\n",
        "  del data\r\n",
        "  X_train, X_val, y_train, y_val = train_test_split(X_train, y_train, test_size=0.25, random_state=42)"
      ],
      "execution_count": 7,
      "outputs": [
        {
          "output_type": "stream",
          "text": [
            "/usr/local/lib/python3.6/dist-packages/sklearn/externals/six.py:31: FutureWarning: The module is deprecated in version 0.21 and will be removed in version 0.23 since we've dropped support for Python 2.7. Please rely on the official version of six (https://pypi.org/project/six/).\n",
            "  \"(https://pypi.org/project/six/).\", FutureWarning)\n",
            "/usr/local/lib/python3.6/dist-packages/sklearn/utils/deprecation.py:144: FutureWarning: The sklearn.neighbors.base module is  deprecated in version 0.22 and will be removed in version 0.24. The corresponding classes / functions should instead be imported from sklearn.neighbors. Anything that cannot be imported from sklearn.neighbors is now part of the private API.\n",
            "  warnings.warn(message, FutureWarning)\n",
            "/usr/local/lib/python3.6/dist-packages/sklearn/utils/deprecation.py:87: FutureWarning: Function safe_indexing is deprecated; safe_indexing is deprecated in version 0.22 and will be removed in version 0.24.\n",
            "  warnings.warn(msg, category=FutureWarning)\n"
          ],
          "name": "stderr"
        }
      ]
    },
    {
      "cell_type": "markdown",
      "metadata": {
        "id": "zeBXq4s40oIV"
      },
      "source": [
        "`save_list(filename, list)`: permette di salvare in un file .txt gli id dei dati su cui il modello verrà allenato e validato. "
      ]
    },
    {
      "cell_type": "code",
      "metadata": {
        "id": "MbcGznrT6siy"
      },
      "source": [
        "if save_id:\r\n",
        "  train_id = X_train.index.tolist()\r\n",
        "  val_id = X_val.index.tolist()\r\n",
        "  test_id = X_test.index.tolist()\r\n",
        "  mf.save_list('train_id',train_id)\r\n",
        "  mf.save_list('val_id', val_id)\r\n",
        "  mf.save_list('test_id', test_id)\r\n",
        "\r\n",
        "# load_id = False \r\n",
        "# if load_id:\r\n",
        "#   mf.load_list('train_id',train_id)\r\n",
        "#   mf.load_list('val_id', val_id)\r\n",
        "#   mf.load_list('test_id', test_id)"
      ],
      "execution_count": null,
      "outputs": []
    },
    {
      "cell_type": "markdown",
      "metadata": {
        "id": "nDxZx1ew9n2I"
      },
      "source": [
        "# XGBoost\r\n",
        "\r\n",
        "ROC curve: https://scikit-learn.org/stable/auto_examples/miscellaneous/plot_roc_curve_visualization_api.html#sphx-glr-auto-examples-miscellaneous-plot-roc-curve-visualization-api-py\r\n",
        "\r\n",
        "XGBoost: https://www.analyticsvidhya.com/blog/2016/03/complete-guide-parameter-tuning-xgboost-with-codes-python/\r\n",
        "\r\n",
        "gpu_hist method: https://xgboost.readthedocs.io/en/latest/parameter.html#additional-parameters-for-hist-and-gpu-hist-tree-method"
      ]
    },
    {
      "cell_type": "markdown",
      "metadata": {
        "id": "mkOwSxMn_7cH"
      },
      "source": [
        "## Load model"
      ]
    },
    {
      "cell_type": "markdown",
      "metadata": {
        "id": "yk_aebUnAlUf"
      },
      "source": [
        "Tramite la libreria `joblib` viene caricato il modello già allenato. \r\n",
        "\r\n",
        "Riferimento: https://xgboost.readthedocs.io/en/latest/python/python_intro.html"
      ]
    },
    {
      "cell_type": "code",
      "metadata": {
        "id": "9YlNReHV_88W"
      },
      "source": [
        "if load:\r\n",
        "  from joblib import load\r\n",
        "  from xgboost import XGBClassifier\r\n",
        "\r\n",
        "  clf = load(\"/content/drive/MyDrive/Tesi_magistrale/Dataset/IEEE/Output/xgboost_numpy/xgb_np.joblib.dat\")"
      ],
      "execution_count": null,
      "outputs": []
    },
    {
      "cell_type": "markdown",
      "metadata": {
        "id": "hxgqo8cx_-D3"
      },
      "source": [
        "## Training"
      ]
    },
    {
      "cell_type": "markdown",
      "metadata": {
        "id": "tDvAwriO0-Kt"
      },
      "source": [
        "Fase di training e tuning dei parametri del modello. \r\n",
        "\r\n",
        "Notare che i set devono essere trasformati da dataframe a array numpy, poichè sarà necessario per la fase di XAI."
      ]
    },
    {
      "cell_type": "code",
      "metadata": {
        "id": "1ohOclWl9naz",
        "colab": {
          "base_uri": "https://localhost:8080/",
          "height": 279
        },
        "outputId": "be0569b2-69f8-4007-a4b4-18d9ad895547"
      },
      "source": [
        "from sklearn.metrics import plot_roc_curve\r\n",
        "import xgboost as xgb\r\n",
        "from xgboost import XGBClassifier\r\n",
        "\r\n",
        "if not load:\r\n",
        "  clf = XGBClassifier(n_estimators = 4000, max_depth = 10, \r\n",
        "                      objective='binary:logistic', learning_rate = 0.5, \r\n",
        "                      tree_method='gpu_hist') #, sample_weight = [1,30] ) \r\n",
        "  \r\n",
        "  clf.fit(X_train, y_train)\r\n",
        "\r\n",
        "plot_roc_curve(clf, X_val, y_val)\r\n",
        "plt.show()"
      ],
      "execution_count": 10,
      "outputs": [
        {
          "output_type": "display_data",
          "data": {
            "image/png": "[encoded data removed]",
            "text/plain": [
              "<Figure size 432x288 with 1 Axes>"
            ]
          },
          "metadata": {
            "tags": [],
            "needs_background": "light"
          }
        }
      ]
    },
    {
      "cell_type": "markdown",
      "metadata": {
        "id": "TGMupol1_x1d"
      },
      "source": [
        "# Save model"
      ]
    },
    {
      "cell_type": "markdown",
      "metadata": {
        "id": "T77dRnUg1Bj1"
      },
      "source": [
        "Tramite `joblib` salvo il modello appena allenato. "
      ]
    },
    {
      "cell_type": "code",
      "metadata": {
        "id": "fRJtfinpJq8Y"
      },
      "source": [
        "save = True\r\n",
        "if save:\r\n",
        "  from joblib import dump\r\n",
        "  dump(clf, \"xgb_np.joblib.dat\")"
      ],
      "execution_count": 11,
      "outputs": []
    },
    {
      "cell_type": "markdown",
      "metadata": {
        "id": "97biuCLd4dtB"
      },
      "source": [
        "# Perfomance evaluation"
      ]
    },
    {
      "cell_type": "markdown",
      "metadata": {
        "id": "p-il22xD4vpT"
      },
      "source": [
        "## Confusion matrix"
      ]
    },
    {
      "cell_type": "code",
      "metadata": {
        "id": "WEzog6YN68SL",
        "outputId": "a6b84574-d9a6-420f-c932-1453b6983863",
        "colab": {
          "base_uri": "https://localhost:8080/",
          "height": 456
        }
      },
      "source": [
        "X_test"
      ],
      "execution_count": 16,
      "outputs": [
        {
          "output_type": "execute_result",
          "data": {
            "text/html": [
              "<div>\n",
              "<style scoped>\n",
              "    .dataframe tbody tr th:only-of-type {\n",
              "        vertical-align: middle;\n",
              "    }\n",
              "\n",
              "    .dataframe tbody tr th {\n",
              "        vertical-align: top;\n",
              "    }\n",
              "\n",
              "    .dataframe thead th {\n",
              "        text-align: right;\n",
              "    }\n",
              "</style>\n",
              "<table border=\"1\" class=\"dataframe\">\n",
              "  <thead>\n",
              "    <tr style=\"text-align: right;\">\n",
              "      <th></th>\n",
              "      <th>TransactionDT</th>\n",
              "      <th>TransactionAmt</th>\n",
              "      <th>card1</th>\n",
              "      <th>card2</th>\n",
              "      <th>card3</th>\n",
              "      <th>card5</th>\n",
              "      <th>addr1</th>\n",
              "      <th>addr2</th>\n",
              "      <th>C1</th>\n",
              "      <th>C2</th>\n",
              "      <th>C3</th>\n",
              "      <th>C4</th>\n",
              "      <th>C5</th>\n",
              "      <th>C6</th>\n",
              "      <th>C7</th>\n",
              "      <th>C8</th>\n",
              "      <th>C9</th>\n",
              "      <th>C10</th>\n",
              "      <th>C11</th>\n",
              "      <th>C12</th>\n",
              "      <th>C13</th>\n",
              "      <th>C14</th>\n",
              "      <th>D1</th>\n",
              "      <th>D10</th>\n",
              "      <th>D15</th>\n",
              "      <th>V12</th>\n",
              "      <th>V13</th>\n",
              "      <th>V14</th>\n",
              "      <th>V15</th>\n",
              "      <th>V16</th>\n",
              "      <th>V17</th>\n",
              "      <th>V18</th>\n",
              "      <th>V19</th>\n",
              "      <th>V20</th>\n",
              "      <th>V21</th>\n",
              "      <th>V22</th>\n",
              "      <th>V23</th>\n",
              "      <th>V24</th>\n",
              "      <th>V25</th>\n",
              "      <th>V26</th>\n",
              "      <th>...</th>\n",
              "      <th>browser_name_0</th>\n",
              "      <th>browser_name_BLU/Dash</th>\n",
              "      <th>browser_name_Cherry</th>\n",
              "      <th>browser_name_Generic/Android</th>\n",
              "      <th>browser_name_Inco/Minion</th>\n",
              "      <th>browser_name_LG/K-200</th>\n",
              "      <th>browser_name_Lanix/Ilium</th>\n",
              "      <th>browser_name_M4Tel/M4</th>\n",
              "      <th>browser_name_Microsoft/Windows</th>\n",
              "      <th>browser_name_Mozilla/Firefox</th>\n",
              "      <th>browser_name_Nokia/Lumia</th>\n",
              "      <th>browser_name_Samsung/SCH</th>\n",
              "      <th>browser_name_Samsung/SM-G531H</th>\n",
              "      <th>browser_name_Samsung/SM-G532M</th>\n",
              "      <th>browser_name_ZTE/Blade</th>\n",
              "      <th>browser_name_android</th>\n",
              "      <th>browser_name_aol</th>\n",
              "      <th>browser_name_chrome</th>\n",
              "      <th>browser_name_chromium</th>\n",
              "      <th>browser_name_comodo</th>\n",
              "      <th>browser_name_cyberfox</th>\n",
              "      <th>browser_name_edge</th>\n",
              "      <th>browser_name_facebook</th>\n",
              "      <th>browser_name_firefox</th>\n",
              "      <th>browser_name_google</th>\n",
              "      <th>browser_name_icedragon</th>\n",
              "      <th>browser_name_ie</th>\n",
              "      <th>browser_name_iron</th>\n",
              "      <th>browser_name_line</th>\n",
              "      <th>browser_name_maxthon</th>\n",
              "      <th>browser_name_mobile</th>\n",
              "      <th>browser_name_opera</th>\n",
              "      <th>browser_name_other</th>\n",
              "      <th>browser_name_palemoon</th>\n",
              "      <th>browser_name_puffin</th>\n",
              "      <th>browser_name_safari</th>\n",
              "      <th>browser_name_samsung</th>\n",
              "      <th>browser_name_seamonkey</th>\n",
              "      <th>browser_name_silk</th>\n",
              "      <th>browser_name_waterfox</th>\n",
              "    </tr>\n",
              "  </thead>\n",
              "  <tbody>\n",
              "    <tr>\n",
              "      <th>556898</th>\n",
              "      <td>0.931874</td>\n",
              "      <td>0.009760</td>\n",
              "      <td>0.900149</td>\n",
              "      <td>0.123638</td>\n",
              "      <td>0.381679</td>\n",
              "      <td>0.589388</td>\n",
              "      <td>0.331931</td>\n",
              "      <td>0.877533</td>\n",
              "      <td>0.001067</td>\n",
              "      <td>0.000527</td>\n",
              "      <td>0.0</td>\n",
              "      <td>0.000000</td>\n",
              "      <td>0.002865</td>\n",
              "      <td>0.001332</td>\n",
              "      <td>0.000000</td>\n",
              "      <td>0.000000</td>\n",
              "      <td>0.014286</td>\n",
              "      <td>0.000000</td>\n",
              "      <td>0.001255</td>\n",
              "      <td>0.000000</td>\n",
              "      <td>0.005483</td>\n",
              "      <td>0.003499</td>\n",
              "      <td>0.066997</td>\n",
              "      <td>0.369835</td>\n",
              "      <td>0.645347</td>\n",
              "      <td>0.409871</td>\n",
              "      <td>0.301649</td>\n",
              "      <td>0.956897</td>\n",
              "      <td>0.694597</td>\n",
              "      <td>0.103407</td>\n",
              "      <td>0.167129</td>\n",
              "      <td>0.051233</td>\n",
              "      <td>0.401198</td>\n",
              "      <td>0.186992</td>\n",
              "      <td>0.114973</td>\n",
              "      <td>0.194361</td>\n",
              "      <td>0.096386</td>\n",
              "      <td>0.140401</td>\n",
              "      <td>0.436620</td>\n",
              "      <td>0.281007</td>\n",
              "      <td>...</td>\n",
              "      <td>1</td>\n",
              "      <td>0</td>\n",
              "      <td>0</td>\n",
              "      <td>0</td>\n",
              "      <td>0</td>\n",
              "      <td>0</td>\n",
              "      <td>0</td>\n",
              "      <td>0</td>\n",
              "      <td>0</td>\n",
              "      <td>0</td>\n",
              "      <td>0</td>\n",
              "      <td>0</td>\n",
              "      <td>0</td>\n",
              "      <td>0</td>\n",
              "      <td>0</td>\n",
              "      <td>0</td>\n",
              "      <td>0</td>\n",
              "      <td>0</td>\n",
              "      <td>0</td>\n",
              "      <td>0</td>\n",
              "      <td>0</td>\n",
              "      <td>0</td>\n",
              "      <td>0</td>\n",
              "      <td>0</td>\n",
              "      <td>0</td>\n",
              "      <td>0</td>\n",
              "      <td>0</td>\n",
              "      <td>0</td>\n",
              "      <td>0</td>\n",
              "      <td>0</td>\n",
              "      <td>0</td>\n",
              "      <td>0</td>\n",
              "      <td>0</td>\n",
              "      <td>0</td>\n",
              "      <td>0</td>\n",
              "      <td>0</td>\n",
              "      <td>0</td>\n",
              "      <td>0</td>\n",
              "      <td>0</td>\n",
              "      <td>0</td>\n",
              "    </tr>\n",
              "    <tr>\n",
              "      <th>134548</th>\n",
              "      <td>0.165069</td>\n",
              "      <td>0.001821</td>\n",
              "      <td>0.276615</td>\n",
              "      <td>0.544006</td>\n",
              "      <td>0.648855</td>\n",
              "      <td>0.585568</td>\n",
              "      <td>0.327548</td>\n",
              "      <td>0.877517</td>\n",
              "      <td>0.059979</td>\n",
              "      <td>0.106835</td>\n",
              "      <td>0.0</td>\n",
              "      <td>0.036840</td>\n",
              "      <td>0.000000</td>\n",
              "      <td>0.036840</td>\n",
              "      <td>0.036807</td>\n",
              "      <td>0.035125</td>\n",
              "      <td>0.000000</td>\n",
              "      <td>0.033773</td>\n",
              "      <td>0.041719</td>\n",
              "      <td>0.041719</td>\n",
              "      <td>0.005826</td>\n",
              "      <td>0.008397</td>\n",
              "      <td>0.027489</td>\n",
              "      <td>0.287333</td>\n",
              "      <td>0.544486</td>\n",
              "      <td>0.409871</td>\n",
              "      <td>0.301649</td>\n",
              "      <td>0.956897</td>\n",
              "      <td>0.720700</td>\n",
              "      <td>0.163180</td>\n",
              "      <td>0.222654</td>\n",
              "      <td>0.114485</td>\n",
              "      <td>0.401198</td>\n",
              "      <td>0.186992</td>\n",
              "      <td>0.248663</td>\n",
              "      <td>0.295065</td>\n",
              "      <td>0.096386</td>\n",
              "      <td>0.140401</td>\n",
              "      <td>0.436620</td>\n",
              "      <td>0.281007</td>\n",
              "      <td>...</td>\n",
              "      <td>0</td>\n",
              "      <td>0</td>\n",
              "      <td>0</td>\n",
              "      <td>0</td>\n",
              "      <td>0</td>\n",
              "      <td>0</td>\n",
              "      <td>0</td>\n",
              "      <td>0</td>\n",
              "      <td>0</td>\n",
              "      <td>0</td>\n",
              "      <td>0</td>\n",
              "      <td>0</td>\n",
              "      <td>0</td>\n",
              "      <td>0</td>\n",
              "      <td>0</td>\n",
              "      <td>0</td>\n",
              "      <td>0</td>\n",
              "      <td>1</td>\n",
              "      <td>0</td>\n",
              "      <td>0</td>\n",
              "      <td>0</td>\n",
              "      <td>0</td>\n",
              "      <td>0</td>\n",
              "      <td>0</td>\n",
              "      <td>0</td>\n",
              "      <td>0</td>\n",
              "      <td>0</td>\n",
              "      <td>0</td>\n",
              "      <td>0</td>\n",
              "      <td>0</td>\n",
              "      <td>0</td>\n",
              "      <td>0</td>\n",
              "      <td>0</td>\n",
              "      <td>0</td>\n",
              "      <td>0</td>\n",
              "      <td>0</td>\n",
              "      <td>0</td>\n",
              "      <td>0</td>\n",
              "      <td>0</td>\n",
              "      <td>0</td>\n",
              "    </tr>\n",
              "    <tr>\n",
              "      <th>248198</th>\n",
              "      <td>0.370584</td>\n",
              "      <td>0.003029</td>\n",
              "      <td>0.397735</td>\n",
              "      <td>0.166028</td>\n",
              "      <td>0.381679</td>\n",
              "      <td>0.543548</td>\n",
              "      <td>0.350937</td>\n",
              "      <td>0.877533</td>\n",
              "      <td>0.000427</td>\n",
              "      <td>0.000527</td>\n",
              "      <td>0.0</td>\n",
              "      <td>0.000000</td>\n",
              "      <td>0.000000</td>\n",
              "      <td>0.000444</td>\n",
              "      <td>0.000000</td>\n",
              "      <td>0.000000</td>\n",
              "      <td>0.004762</td>\n",
              "      <td>0.000000</td>\n",
              "      <td>0.000314</td>\n",
              "      <td>0.000000</td>\n",
              "      <td>0.002399</td>\n",
              "      <td>0.001400</td>\n",
              "      <td>0.027489</td>\n",
              "      <td>0.370742</td>\n",
              "      <td>0.584210</td>\n",
              "      <td>0.517167</td>\n",
              "      <td>0.398642</td>\n",
              "      <td>0.956897</td>\n",
              "      <td>0.694597</td>\n",
              "      <td>0.103407</td>\n",
              "      <td>0.167129</td>\n",
              "      <td>0.051233</td>\n",
              "      <td>0.401198</td>\n",
              "      <td>0.186992</td>\n",
              "      <td>0.114973</td>\n",
              "      <td>0.194361</td>\n",
              "      <td>0.096386</td>\n",
              "      <td>0.140401</td>\n",
              "      <td>0.436620</td>\n",
              "      <td>0.281007</td>\n",
              "      <td>...</td>\n",
              "      <td>1</td>\n",
              "      <td>0</td>\n",
              "      <td>0</td>\n",
              "      <td>0</td>\n",
              "      <td>0</td>\n",
              "      <td>0</td>\n",
              "      <td>0</td>\n",
              "      <td>0</td>\n",
              "      <td>0</td>\n",
              "      <td>0</td>\n",
              "      <td>0</td>\n",
              "      <td>0</td>\n",
              "      <td>0</td>\n",
              "      <td>0</td>\n",
              "      <td>0</td>\n",
              "      <td>0</td>\n",
              "      <td>0</td>\n",
              "      <td>0</td>\n",
              "      <td>0</td>\n",
              "      <td>0</td>\n",
              "      <td>0</td>\n",
              "      <td>0</td>\n",
              "      <td>0</td>\n",
              "      <td>0</td>\n",
              "      <td>0</td>\n",
              "      <td>0</td>\n",
              "      <td>0</td>\n",
              "      <td>0</td>\n",
              "      <td>0</td>\n",
              "      <td>0</td>\n",
              "      <td>0</td>\n",
              "      <td>0</td>\n",
              "      <td>0</td>\n",
              "      <td>0</td>\n",
              "      <td>0</td>\n",
              "      <td>0</td>\n",
              "      <td>0</td>\n",
              "      <td>0</td>\n",
              "      <td>0</td>\n",
              "      <td>0</td>\n",
              "    </tr>\n",
              "    <tr>\n",
              "      <th>243062</th>\n",
              "      <td>0.361554</td>\n",
              "      <td>0.001807</td>\n",
              "      <td>0.217291</td>\n",
              "      <td>0.803646</td>\n",
              "      <td>0.381679</td>\n",
              "      <td>0.589388</td>\n",
              "      <td>0.261425</td>\n",
              "      <td>0.877533</td>\n",
              "      <td>0.000640</td>\n",
              "      <td>0.000527</td>\n",
              "      <td>0.0</td>\n",
              "      <td>0.000000</td>\n",
              "      <td>0.002865</td>\n",
              "      <td>0.000888</td>\n",
              "      <td>0.000000</td>\n",
              "      <td>0.000000</td>\n",
              "      <td>0.014286</td>\n",
              "      <td>0.000000</td>\n",
              "      <td>0.000941</td>\n",
              "      <td>0.000000</td>\n",
              "      <td>0.001371</td>\n",
              "      <td>0.002099</td>\n",
              "      <td>0.065477</td>\n",
              "      <td>0.299119</td>\n",
              "      <td>0.533780</td>\n",
              "      <td>0.517167</td>\n",
              "      <td>0.398642</td>\n",
              "      <td>0.956897</td>\n",
              "      <td>0.694597</td>\n",
              "      <td>0.103407</td>\n",
              "      <td>0.167129</td>\n",
              "      <td>0.051233</td>\n",
              "      <td>0.301397</td>\n",
              "      <td>0.128920</td>\n",
              "      <td>0.114973</td>\n",
              "      <td>0.194361</td>\n",
              "      <td>0.096386</td>\n",
              "      <td>0.140401</td>\n",
              "      <td>0.436620</td>\n",
              "      <td>0.281007</td>\n",
              "      <td>...</td>\n",
              "      <td>1</td>\n",
              "      <td>0</td>\n",
              "      <td>0</td>\n",
              "      <td>0</td>\n",
              "      <td>0</td>\n",
              "      <td>0</td>\n",
              "      <td>0</td>\n",
              "      <td>0</td>\n",
              "      <td>0</td>\n",
              "      <td>0</td>\n",
              "      <td>0</td>\n",
              "      <td>0</td>\n",
              "      <td>0</td>\n",
              "      <td>0</td>\n",
              "      <td>0</td>\n",
              "      <td>0</td>\n",
              "      <td>0</td>\n",
              "      <td>0</td>\n",
              "      <td>0</td>\n",
              "      <td>0</td>\n",
              "      <td>0</td>\n",
              "      <td>0</td>\n",
              "      <td>0</td>\n",
              "      <td>0</td>\n",
              "      <td>0</td>\n",
              "      <td>0</td>\n",
              "      <td>0</td>\n",
              "      <td>0</td>\n",
              "      <td>0</td>\n",
              "      <td>0</td>\n",
              "      <td>0</td>\n",
              "      <td>0</td>\n",
              "      <td>0</td>\n",
              "      <td>0</td>\n",
              "      <td>0</td>\n",
              "      <td>0</td>\n",
              "      <td>0</td>\n",
              "      <td>0</td>\n",
              "      <td>0</td>\n",
              "      <td>0</td>\n",
              "    </tr>\n",
              "    <tr>\n",
              "      <th>537107</th>\n",
              "      <td>0.894620</td>\n",
              "      <td>0.007037</td>\n",
              "      <td>0.308634</td>\n",
              "      <td>0.367381</td>\n",
              "      <td>0.381679</td>\n",
              "      <td>0.589388</td>\n",
              "      <td>0.252842</td>\n",
              "      <td>0.877533</td>\n",
              "      <td>0.309285</td>\n",
              "      <td>0.282376</td>\n",
              "      <td>0.0</td>\n",
              "      <td>0.474478</td>\n",
              "      <td>0.000000</td>\n",
              "      <td>0.488682</td>\n",
              "      <td>0.000000</td>\n",
              "      <td>0.168118</td>\n",
              "      <td>0.000000</td>\n",
              "      <td>0.157814</td>\n",
              "      <td>0.363237</td>\n",
              "      <td>0.000000</td>\n",
              "      <td>0.281014</td>\n",
              "      <td>0.534640</td>\n",
              "      <td>0.027489</td>\n",
              "      <td>0.351544</td>\n",
              "      <td>0.564776</td>\n",
              "      <td>0.473176</td>\n",
              "      <td>0.338506</td>\n",
              "      <td>0.956897</td>\n",
              "      <td>0.699034</td>\n",
              "      <td>0.110580</td>\n",
              "      <td>0.177124</td>\n",
              "      <td>0.075269</td>\n",
              "      <td>0.386228</td>\n",
              "      <td>0.180604</td>\n",
              "      <td>0.137701</td>\n",
              "      <td>0.209466</td>\n",
              "      <td>0.098645</td>\n",
              "      <td>0.141834</td>\n",
              "      <td>0.435681</td>\n",
              "      <td>0.281007</td>\n",
              "      <td>...</td>\n",
              "      <td>0</td>\n",
              "      <td>0</td>\n",
              "      <td>0</td>\n",
              "      <td>0</td>\n",
              "      <td>0</td>\n",
              "      <td>0</td>\n",
              "      <td>0</td>\n",
              "      <td>0</td>\n",
              "      <td>0</td>\n",
              "      <td>0</td>\n",
              "      <td>0</td>\n",
              "      <td>0</td>\n",
              "      <td>0</td>\n",
              "      <td>0</td>\n",
              "      <td>0</td>\n",
              "      <td>0</td>\n",
              "      <td>0</td>\n",
              "      <td>0</td>\n",
              "      <td>0</td>\n",
              "      <td>0</td>\n",
              "      <td>0</td>\n",
              "      <td>0</td>\n",
              "      <td>0</td>\n",
              "      <td>0</td>\n",
              "      <td>0</td>\n",
              "      <td>0</td>\n",
              "      <td>1</td>\n",
              "      <td>0</td>\n",
              "      <td>0</td>\n",
              "      <td>0</td>\n",
              "      <td>0</td>\n",
              "      <td>0</td>\n",
              "      <td>0</td>\n",
              "      <td>0</td>\n",
              "      <td>0</td>\n",
              "      <td>0</td>\n",
              "      <td>0</td>\n",
              "      <td>0</td>\n",
              "      <td>0</td>\n",
              "      <td>0</td>\n",
              "    </tr>\n",
              "    <tr>\n",
              "      <th>...</th>\n",
              "      <td>...</td>\n",
              "      <td>...</td>\n",
              "      <td>...</td>\n",
              "      <td>...</td>\n",
              "      <td>...</td>\n",
              "      <td>...</td>\n",
              "      <td>...</td>\n",
              "      <td>...</td>\n",
              "      <td>...</td>\n",
              "      <td>...</td>\n",
              "      <td>...</td>\n",
              "      <td>...</td>\n",
              "      <td>...</td>\n",
              "      <td>...</td>\n",
              "      <td>...</td>\n",
              "      <td>...</td>\n",
              "      <td>...</td>\n",
              "      <td>...</td>\n",
              "      <td>...</td>\n",
              "      <td>...</td>\n",
              "      <td>...</td>\n",
              "      <td>...</td>\n",
              "      <td>...</td>\n",
              "      <td>...</td>\n",
              "      <td>...</td>\n",
              "      <td>...</td>\n",
              "      <td>...</td>\n",
              "      <td>...</td>\n",
              "      <td>...</td>\n",
              "      <td>...</td>\n",
              "      <td>...</td>\n",
              "      <td>...</td>\n",
              "      <td>...</td>\n",
              "      <td>...</td>\n",
              "      <td>...</td>\n",
              "      <td>...</td>\n",
              "      <td>...</td>\n",
              "      <td>...</td>\n",
              "      <td>...</td>\n",
              "      <td>...</td>\n",
              "      <td>...</td>\n",
              "      <td>...</td>\n",
              "      <td>...</td>\n",
              "      <td>...</td>\n",
              "      <td>...</td>\n",
              "      <td>...</td>\n",
              "      <td>...</td>\n",
              "      <td>...</td>\n",
              "      <td>...</td>\n",
              "      <td>...</td>\n",
              "      <td>...</td>\n",
              "      <td>...</td>\n",
              "      <td>...</td>\n",
              "      <td>...</td>\n",
              "      <td>...</td>\n",
              "      <td>...</td>\n",
              "      <td>...</td>\n",
              "      <td>...</td>\n",
              "      <td>...</td>\n",
              "      <td>...</td>\n",
              "      <td>...</td>\n",
              "      <td>...</td>\n",
              "      <td>...</td>\n",
              "      <td>...</td>\n",
              "      <td>...</td>\n",
              "      <td>...</td>\n",
              "      <td>...</td>\n",
              "      <td>...</td>\n",
              "      <td>...</td>\n",
              "      <td>...</td>\n",
              "      <td>...</td>\n",
              "      <td>...</td>\n",
              "      <td>...</td>\n",
              "      <td>...</td>\n",
              "      <td>...</td>\n",
              "      <td>...</td>\n",
              "      <td>...</td>\n",
              "      <td>...</td>\n",
              "      <td>...</td>\n",
              "      <td>...</td>\n",
              "      <td>...</td>\n",
              "    </tr>\n",
              "    <tr>\n",
              "      <th>266115</th>\n",
              "      <td>0.404802</td>\n",
              "      <td>0.045862</td>\n",
              "      <td>0.736549</td>\n",
              "      <td>0.068884</td>\n",
              "      <td>0.381679</td>\n",
              "      <td>0.381198</td>\n",
              "      <td>0.259586</td>\n",
              "      <td>0.877533</td>\n",
              "      <td>0.000213</td>\n",
              "      <td>0.000176</td>\n",
              "      <td>0.0</td>\n",
              "      <td>0.000000</td>\n",
              "      <td>0.002865</td>\n",
              "      <td>0.000444</td>\n",
              "      <td>0.000000</td>\n",
              "      <td>0.000000</td>\n",
              "      <td>0.004762</td>\n",
              "      <td>0.000000</td>\n",
              "      <td>0.000627</td>\n",
              "      <td>0.000000</td>\n",
              "      <td>0.002399</td>\n",
              "      <td>0.000700</td>\n",
              "      <td>0.185522</td>\n",
              "      <td>0.334477</td>\n",
              "      <td>0.555755</td>\n",
              "      <td>0.517167</td>\n",
              "      <td>0.398642</td>\n",
              "      <td>0.956897</td>\n",
              "      <td>0.694597</td>\n",
              "      <td>0.103407</td>\n",
              "      <td>0.167129</td>\n",
              "      <td>0.051233</td>\n",
              "      <td>0.401198</td>\n",
              "      <td>0.186992</td>\n",
              "      <td>0.114973</td>\n",
              "      <td>0.194361</td>\n",
              "      <td>0.096386</td>\n",
              "      <td>0.140401</td>\n",
              "      <td>0.436620</td>\n",
              "      <td>0.281007</td>\n",
              "      <td>...</td>\n",
              "      <td>1</td>\n",
              "      <td>0</td>\n",
              "      <td>0</td>\n",
              "      <td>0</td>\n",
              "      <td>0</td>\n",
              "      <td>0</td>\n",
              "      <td>0</td>\n",
              "      <td>0</td>\n",
              "      <td>0</td>\n",
              "      <td>0</td>\n",
              "      <td>0</td>\n",
              "      <td>0</td>\n",
              "      <td>0</td>\n",
              "      <td>0</td>\n",
              "      <td>0</td>\n",
              "      <td>0</td>\n",
              "      <td>0</td>\n",
              "      <td>0</td>\n",
              "      <td>0</td>\n",
              "      <td>0</td>\n",
              "      <td>0</td>\n",
              "      <td>0</td>\n",
              "      <td>0</td>\n",
              "      <td>0</td>\n",
              "      <td>0</td>\n",
              "      <td>0</td>\n",
              "      <td>0</td>\n",
              "      <td>0</td>\n",
              "      <td>0</td>\n",
              "      <td>0</td>\n",
              "      <td>0</td>\n",
              "      <td>0</td>\n",
              "      <td>0</td>\n",
              "      <td>0</td>\n",
              "      <td>0</td>\n",
              "      <td>0</td>\n",
              "      <td>0</td>\n",
              "      <td>0</td>\n",
              "      <td>0</td>\n",
              "      <td>0</td>\n",
              "    </tr>\n",
              "    <tr>\n",
              "      <th>92304</th>\n",
              "      <td>0.115774</td>\n",
              "      <td>0.001526</td>\n",
              "      <td>0.991550</td>\n",
              "      <td>0.459226</td>\n",
              "      <td>0.381679</td>\n",
              "      <td>0.474788</td>\n",
              "      <td>0.273687</td>\n",
              "      <td>0.877533</td>\n",
              "      <td>0.000213</td>\n",
              "      <td>0.000176</td>\n",
              "      <td>0.0</td>\n",
              "      <td>0.000000</td>\n",
              "      <td>0.000000</td>\n",
              "      <td>0.000444</td>\n",
              "      <td>0.000000</td>\n",
              "      <td>0.000000</td>\n",
              "      <td>0.004762</td>\n",
              "      <td>0.000000</td>\n",
              "      <td>0.000314</td>\n",
              "      <td>0.000000</td>\n",
              "      <td>0.000343</td>\n",
              "      <td>0.000700</td>\n",
              "      <td>0.039645</td>\n",
              "      <td>0.290960</td>\n",
              "      <td>0.528709</td>\n",
              "      <td>0.409871</td>\n",
              "      <td>0.301649</td>\n",
              "      <td>0.956897</td>\n",
              "      <td>0.694597</td>\n",
              "      <td>0.103407</td>\n",
              "      <td>0.167129</td>\n",
              "      <td>0.051233</td>\n",
              "      <td>0.301397</td>\n",
              "      <td>0.128920</td>\n",
              "      <td>0.114973</td>\n",
              "      <td>0.194361</td>\n",
              "      <td>0.096386</td>\n",
              "      <td>0.140401</td>\n",
              "      <td>0.436620</td>\n",
              "      <td>0.281007</td>\n",
              "      <td>...</td>\n",
              "      <td>1</td>\n",
              "      <td>0</td>\n",
              "      <td>0</td>\n",
              "      <td>0</td>\n",
              "      <td>0</td>\n",
              "      <td>0</td>\n",
              "      <td>0</td>\n",
              "      <td>0</td>\n",
              "      <td>0</td>\n",
              "      <td>0</td>\n",
              "      <td>0</td>\n",
              "      <td>0</td>\n",
              "      <td>0</td>\n",
              "      <td>0</td>\n",
              "      <td>0</td>\n",
              "      <td>0</td>\n",
              "      <td>0</td>\n",
              "      <td>0</td>\n",
              "      <td>0</td>\n",
              "      <td>0</td>\n",
              "      <td>0</td>\n",
              "      <td>0</td>\n",
              "      <td>0</td>\n",
              "      <td>0</td>\n",
              "      <td>0</td>\n",
              "      <td>0</td>\n",
              "      <td>0</td>\n",
              "      <td>0</td>\n",
              "      <td>0</td>\n",
              "      <td>0</td>\n",
              "      <td>0</td>\n",
              "      <td>0</td>\n",
              "      <td>0</td>\n",
              "      <td>0</td>\n",
              "      <td>0</td>\n",
              "      <td>0</td>\n",
              "      <td>0</td>\n",
              "      <td>0</td>\n",
              "      <td>0</td>\n",
              "      <td>0</td>\n",
              "    </tr>\n",
              "    <tr>\n",
              "      <th>351923</th>\n",
              "      <td>0.547507</td>\n",
              "      <td>0.020052</td>\n",
              "      <td>0.836284</td>\n",
              "      <td>0.019429</td>\n",
              "      <td>0.381679</td>\n",
              "      <td>0.419398</td>\n",
              "      <td>0.261425</td>\n",
              "      <td>0.877533</td>\n",
              "      <td>0.000213</td>\n",
              "      <td>0.000176</td>\n",
              "      <td>0.0</td>\n",
              "      <td>0.000000</td>\n",
              "      <td>0.002865</td>\n",
              "      <td>0.000444</td>\n",
              "      <td>0.000000</td>\n",
              "      <td>0.000000</td>\n",
              "      <td>0.004762</td>\n",
              "      <td>0.000000</td>\n",
              "      <td>0.000314</td>\n",
              "      <td>0.000000</td>\n",
              "      <td>0.000343</td>\n",
              "      <td>0.000700</td>\n",
              "      <td>0.027489</td>\n",
              "      <td>0.287333</td>\n",
              "      <td>0.526455</td>\n",
              "      <td>0.517167</td>\n",
              "      <td>0.398642</td>\n",
              "      <td>0.956897</td>\n",
              "      <td>0.694597</td>\n",
              "      <td>0.103407</td>\n",
              "      <td>0.167129</td>\n",
              "      <td>0.051233</td>\n",
              "      <td>0.401198</td>\n",
              "      <td>0.186992</td>\n",
              "      <td>0.114973</td>\n",
              "      <td>0.194361</td>\n",
              "      <td>0.096386</td>\n",
              "      <td>0.140401</td>\n",
              "      <td>0.436620</td>\n",
              "      <td>0.281007</td>\n",
              "      <td>...</td>\n",
              "      <td>1</td>\n",
              "      <td>0</td>\n",
              "      <td>0</td>\n",
              "      <td>0</td>\n",
              "      <td>0</td>\n",
              "      <td>0</td>\n",
              "      <td>0</td>\n",
              "      <td>0</td>\n",
              "      <td>0</td>\n",
              "      <td>0</td>\n",
              "      <td>0</td>\n",
              "      <td>0</td>\n",
              "      <td>0</td>\n",
              "      <td>0</td>\n",
              "      <td>0</td>\n",
              "      <td>0</td>\n",
              "      <td>0</td>\n",
              "      <td>0</td>\n",
              "      <td>0</td>\n",
              "      <td>0</td>\n",
              "      <td>0</td>\n",
              "      <td>0</td>\n",
              "      <td>0</td>\n",
              "      <td>0</td>\n",
              "      <td>0</td>\n",
              "      <td>0</td>\n",
              "      <td>0</td>\n",
              "      <td>0</td>\n",
              "      <td>0</td>\n",
              "      <td>0</td>\n",
              "      <td>0</td>\n",
              "      <td>0</td>\n",
              "      <td>0</td>\n",
              "      <td>0</td>\n",
              "      <td>0</td>\n",
              "      <td>0</td>\n",
              "      <td>0</td>\n",
              "      <td>0</td>\n",
              "      <td>0</td>\n",
              "      <td>0</td>\n",
              "    </tr>\n",
              "    <tr>\n",
              "      <th>307909</th>\n",
              "      <td>0.481893</td>\n",
              "      <td>0.016429</td>\n",
              "      <td>0.808577</td>\n",
              "      <td>0.123638</td>\n",
              "      <td>0.381679</td>\n",
              "      <td>0.352548</td>\n",
              "      <td>0.265717</td>\n",
              "      <td>0.877533</td>\n",
              "      <td>0.000213</td>\n",
              "      <td>0.000176</td>\n",
              "      <td>0.0</td>\n",
              "      <td>0.000000</td>\n",
              "      <td>0.002865</td>\n",
              "      <td>0.000444</td>\n",
              "      <td>0.000000</td>\n",
              "      <td>0.000000</td>\n",
              "      <td>0.000000</td>\n",
              "      <td>0.000000</td>\n",
              "      <td>0.000314</td>\n",
              "      <td>0.000000</td>\n",
              "      <td>0.000343</td>\n",
              "      <td>0.000700</td>\n",
              "      <td>0.027489</td>\n",
              "      <td>0.287333</td>\n",
              "      <td>0.526455</td>\n",
              "      <td>0.409871</td>\n",
              "      <td>0.301649</td>\n",
              "      <td>0.956897</td>\n",
              "      <td>0.694597</td>\n",
              "      <td>0.103407</td>\n",
              "      <td>0.167129</td>\n",
              "      <td>0.051233</td>\n",
              "      <td>0.401198</td>\n",
              "      <td>0.186992</td>\n",
              "      <td>0.114973</td>\n",
              "      <td>0.194361</td>\n",
              "      <td>0.096386</td>\n",
              "      <td>0.140401</td>\n",
              "      <td>0.436620</td>\n",
              "      <td>0.281007</td>\n",
              "      <td>...</td>\n",
              "      <td>1</td>\n",
              "      <td>0</td>\n",
              "      <td>0</td>\n",
              "      <td>0</td>\n",
              "      <td>0</td>\n",
              "      <td>0</td>\n",
              "      <td>0</td>\n",
              "      <td>0</td>\n",
              "      <td>0</td>\n",
              "      <td>0</td>\n",
              "      <td>0</td>\n",
              "      <td>0</td>\n",
              "      <td>0</td>\n",
              "      <td>0</td>\n",
              "      <td>0</td>\n",
              "      <td>0</td>\n",
              "      <td>0</td>\n",
              "      <td>0</td>\n",
              "      <td>0</td>\n",
              "      <td>0</td>\n",
              "      <td>0</td>\n",
              "      <td>0</td>\n",
              "      <td>0</td>\n",
              "      <td>0</td>\n",
              "      <td>0</td>\n",
              "      <td>0</td>\n",
              "      <td>0</td>\n",
              "      <td>0</td>\n",
              "      <td>0</td>\n",
              "      <td>0</td>\n",
              "      <td>0</td>\n",
              "      <td>0</td>\n",
              "      <td>0</td>\n",
              "      <td>0</td>\n",
              "      <td>0</td>\n",
              "      <td>0</td>\n",
              "      <td>0</td>\n",
              "      <td>0</td>\n",
              "      <td>0</td>\n",
              "      <td>0</td>\n",
              "    </tr>\n",
              "    <tr>\n",
              "      <th>559549</th>\n",
              "      <td>0.937625</td>\n",
              "      <td>0.003311</td>\n",
              "      <td>0.849333</td>\n",
              "      <td>0.672943</td>\n",
              "      <td>0.381679</td>\n",
              "      <td>0.352548</td>\n",
              "      <td>0.350937</td>\n",
              "      <td>0.877533</td>\n",
              "      <td>0.001067</td>\n",
              "      <td>0.000527</td>\n",
              "      <td>0.0</td>\n",
              "      <td>0.001332</td>\n",
              "      <td>0.000000</td>\n",
              "      <td>0.000000</td>\n",
              "      <td>0.000000</td>\n",
              "      <td>0.002402</td>\n",
              "      <td>0.000000</td>\n",
              "      <td>0.000921</td>\n",
              "      <td>0.001568</td>\n",
              "      <td>0.000000</td>\n",
              "      <td>0.020905</td>\n",
              "      <td>0.003499</td>\n",
              "      <td>0.091310</td>\n",
              "      <td>0.402020</td>\n",
              "      <td>0.612237</td>\n",
              "      <td>0.409871</td>\n",
              "      <td>0.301649</td>\n",
              "      <td>0.956897</td>\n",
              "      <td>0.694597</td>\n",
              "      <td>0.103407</td>\n",
              "      <td>0.222654</td>\n",
              "      <td>0.114485</td>\n",
              "      <td>0.301397</td>\n",
              "      <td>0.128920</td>\n",
              "      <td>0.248663</td>\n",
              "      <td>0.295065</td>\n",
              "      <td>0.096386</td>\n",
              "      <td>0.140401</td>\n",
              "      <td>0.436620</td>\n",
              "      <td>0.281007</td>\n",
              "      <td>...</td>\n",
              "      <td>0</td>\n",
              "      <td>0</td>\n",
              "      <td>0</td>\n",
              "      <td>0</td>\n",
              "      <td>0</td>\n",
              "      <td>0</td>\n",
              "      <td>0</td>\n",
              "      <td>0</td>\n",
              "      <td>0</td>\n",
              "      <td>0</td>\n",
              "      <td>0</td>\n",
              "      <td>0</td>\n",
              "      <td>0</td>\n",
              "      <td>0</td>\n",
              "      <td>0</td>\n",
              "      <td>0</td>\n",
              "      <td>0</td>\n",
              "      <td>0</td>\n",
              "      <td>0</td>\n",
              "      <td>0</td>\n",
              "      <td>0</td>\n",
              "      <td>1</td>\n",
              "      <td>0</td>\n",
              "      <td>0</td>\n",
              "      <td>0</td>\n",
              "      <td>0</td>\n",
              "      <td>0</td>\n",
              "      <td>0</td>\n",
              "      <td>0</td>\n",
              "      <td>0</td>\n",
              "      <td>0</td>\n",
              "      <td>0</td>\n",
              "      <td>0</td>\n",
              "      <td>0</td>\n",
              "      <td>0</td>\n",
              "      <td>0</td>\n",
              "      <td>0</td>\n",
              "      <td>0</td>\n",
              "      <td>0</td>\n",
              "      <td>0</td>\n",
              "    </tr>\n",
              "  </tbody>\n",
              "</table>\n",
              "<p>118107 rows × 733 columns</p>\n",
              "</div>"
            ],
            "text/plain": [
              "        TransactionDT  TransactionAmt  ...  browser_name_silk  browser_name_waterfox\n",
              "556898       0.931874        0.009760  ...                  0                      0\n",
              "134548       0.165069        0.001821  ...                  0                      0\n",
              "248198       0.370584        0.003029  ...                  0                      0\n",
              "243062       0.361554        0.001807  ...                  0                      0\n",
              "537107       0.894620        0.007037  ...                  0                      0\n",
              "...               ...             ...  ...                ...                    ...\n",
              "266115       0.404802        0.045862  ...                  0                      0\n",
              "92304        0.115774        0.001526  ...                  0                      0\n",
              "351923       0.547507        0.020052  ...                  0                      0\n",
              "307909       0.481893        0.016429  ...                  0                      0\n",
              "559549       0.937625        0.003311  ...                  0                      0\n",
              "\n",
              "[118107 rows x 733 columns]"
            ]
          },
          "metadata": {
            "tags": []
          },
          "execution_count": 16
        }
      ]
    },
    {
      "cell_type": "code",
      "metadata": {
        "colab": {
          "base_uri": "https://localhost:8080/",
          "height": 331
        },
        "id": "152ZWY4k4xWd",
        "outputId": "b32a7cbf-9791-4b25-e8b1-8327dae1ef28"
      },
      "source": [
        "mf.conf_matrix(clf, X_test.to_numpy(), y_test.to_numpy())"
      ],
      "execution_count": 17,
      "outputs": [
        {
          "output_type": "stream",
          "text": [
            "[[113711    142]\n",
            " [  1413   2841]]\n"
          ],
          "name": "stdout"
        },
        {
          "output_type": "display_data",
          "data": {
            "image/png": "[encoded data removed]",
            "text/plain": [
              "<Figure size 432x288 with 2 Axes>"
            ]
          },
          "metadata": {
            "tags": [],
            "needs_background": "light"
          }
        }
      ]
    },
    {
      "cell_type": "markdown",
      "metadata": {
        "id": "YUTV54eK4iHR"
      },
      "source": [
        "## Mean average precision"
      ]
    },
    {
      "cell_type": "markdown",
      "metadata": {
        "id": "gVLAZnmzu8IS"
      },
      "source": [
        "AP max = 0.84\r\n",
        "\r\n",
        "AP: https://scikit-learn.org/stable/auto_examples/model_selection/plot_precision_recall.html#sphx-glr-auto-examples-model-selection-plot-precision-recall-py"
      ]
    },
    {
      "cell_type": "code",
      "metadata": {
        "id": "YOkqeK8SfH_L",
        "colab": {
          "base_uri": "https://localhost:8080/",
          "height": 295
        },
        "outputId": "e3c5aad6-e72b-4337-df9c-efe5627a24e3"
      },
      "source": [
        "mf.ap_metric(clf, X_test.to_numpy(), y_test.to_numpy(), proba = True)"
      ],
      "execution_count": 18,
      "outputs": [
        {
          "output_type": "display_data",
          "data": {
            "image/png": "[encoded data removed]",
            "text/plain": [
              "<Figure size 432x288 with 1 Axes>"
            ]
          },
          "metadata": {
            "tags": [],
            "needs_background": "light"
          }
        }
      ]
    },
    {
      "cell_type": "code",
      "metadata": {
        "colab": {
          "base_uri": "https://localhost:8080/"
        },
        "id": "xQUfQxSkh7PC",
        "outputId": "40bee091-519f-4475-ec46-d084715cf27a"
      },
      "source": [
        "mf.f1(clf, X_test.to_numpy(), y_test.to_numpy())"
      ],
      "execution_count": 19,
      "outputs": [
        {
          "output_type": "execute_result",
          "data": {
            "text/plain": [
              "0.7851319607572199"
            ]
          },
          "metadata": {
            "tags": []
          },
          "execution_count": 19
        }
      ]
    },
    {
      "cell_type": "code",
      "metadata": {
        "id": "cHKlwO5Q1Qfl",
        "colab": {
          "base_uri": "https://localhost:8080/",
          "height": 1000
        },
        "outputId": "79fccead-d8b7-41d2-fb2e-81dc5eceafa8"
      },
      "source": [
        "soglie = [0.5, 0.2, 0.1, 0.05, 0.02, 0.01, 0.005, 0.002]\r\n",
        "proba = clf.predict_proba(X_test.to_numpy())\r\n",
        "cmap = 'Blues'\r\n",
        "precision, recall, f1 = mf.tresh(soglie, proba, y_test.to_numpy(), cmap)"
      ],
      "execution_count": 20,
      "outputs": [
        {
          "output_type": "stream",
          "text": [
            "Soglia:  0.5\n",
            "F1 score:  0.79\n",
            "Recall:  0.67\n",
            "Precision:  0.95\n",
            "\n",
            "\n"
          ],
          "name": "stdout"
        },
        {
          "output_type": "display_data",
          "data": {
            "image/png": "[encoded data removed]",
            "text/plain": [
              "<Figure size 360x360 with 2 Axes>"
            ]
          },
          "metadata": {
            "tags": [],
            "needs_background": "light"
          }
        },
        {
          "output_type": "stream",
          "text": [
            "\n",
            "\n",
            "Soglia:  0.2\n",
            "F1 score:  0.8\n",
            "Recall:  0.71\n",
            "Precision:  0.92\n",
            "\n",
            "\n"
          ],
          "name": "stdout"
        },
        {
          "output_type": "display_data",
          "data": {
            "image/png": "[encoded data removed]",
            "text/plain": [
              "<Figure size 360x360 with 2 Axes>"
            ]
          },
          "metadata": {
            "tags": [],
            "needs_background": "light"
          }
        },
        {
          "output_type": "stream",
          "text": [
            "\n",
            "\n",
            "Soglia:  0.1\n",
            "F1 score:  0.8\n",
            "Recall:  0.73\n",
            "Precision:  0.88\n",
            "\n",
            "\n"
          ],
          "name": "stdout"
        },
        {
          "output_type": "display_data",
          "data": {
            "image/png": "[encoded data removed]",
            "text/plain": [
              "<Figure size 360x360 with 2 Axes>"
            ]
          },
          "metadata": {
            "tags": [],
            "needs_background": "light"
          }
        },
        {
          "output_type": "stream",
          "text": [
            "\n",
            "\n",
            "Soglia:  0.05\n",
            "F1 score:  0.79\n",
            "Recall:  0.75\n",
            "Precision:  0.85\n",
            "\n",
            "\n"
          ],
          "name": "stdout"
        },
        {
          "output_type": "display_data",
          "data": {
            "image/png": "[encoded data removed]",
            "text/plain": [
              "<Figure size 360x360 with 2 Axes>"
            ]
          },
          "metadata": {
            "tags": [],
            "needs_background": "light"
          }
        },
        {
          "output_type": "stream",
          "text": [
            "\n",
            "\n",
            "Soglia:  0.02\n",
            "F1 score:  0.78\n",
            "Recall:  0.78\n",
            "Precision:  0.79\n",
            "\n",
            "\n"
          ],
          "name": "stdout"
        },
        {
          "output_type": "display_data",
          "data": {
            "image/png": "[encoded data removed]",
            "text/plain": [
              "<Figure size 360x360 with 2 Axes>"
            ]
          },
          "metadata": {
            "tags": [],
            "needs_background": "light"
          }
        },
        {
          "output_type": "stream",
          "text": [
            "\n",
            "\n",
            "Soglia:  0.01\n",
            "F1 score:  0.76\n",
            "Recall:  0.8\n",
            "Precision:  0.73\n",
            "\n",
            "\n"
          ],
          "name": "stdout"
        },
        {
          "output_type": "display_data",
          "data": {
            "image/png": "[encoded data removed]",
            "text/plain": [
              "<Figure size 360x360 with 2 Axes>"
            ]
          },
          "metadata": {
            "tags": [],
            "needs_background": "light"
          }
        },
        {
          "output_type": "stream",
          "text": [
            "\n",
            "\n",
            "Soglia:  0.005\n",
            "F1 score:  0.73\n",
            "Recall:  0.81\n",
            "Precision:  0.67\n",
            "\n",
            "\n"
          ],
          "name": "stdout"
        },
        {
          "output_type": "display_data",
          "data": {
            "image/png": "[encoded data removed]",
            "text/plain": [
              "<Figure size 360x360 with 2 Axes>"
            ]
          },
          "metadata": {
            "tags": [],
            "needs_background": "light"
          }
        },
        {
          "output_type": "stream",
          "text": [
            "\n",
            "\n",
            "Soglia:  0.002\n",
            "F1 score:  0.68\n",
            "Recall:  0.83\n",
            "Precision:  0.57\n",
            "\n",
            "\n"
          ],
          "name": "stdout"
        },
        {
          "output_type": "display_data",
          "data": {
            "image/png": "[encoded data removed]",
            "text/plain": [
              "<Figure size 360x360 with 2 Axes>"
            ]
          },
          "metadata": {
            "tags": [],
            "needs_background": "light"
          }
        },
        {
          "output_type": "stream",
          "text": [
            "\n",
            "\n"
          ],
          "name": "stdout"
        }
      ]
    },
    {
      "cell_type": "markdown",
      "metadata": {
        "id": "MSOj-LJO4oUF"
      },
      "source": [
        "## Feature importance"
      ]
    },
    {
      "cell_type": "markdown",
      "metadata": {
        "id": "3dKb0FYl91xi"
      },
      "source": [
        "Cambio il nome delle feature assegnato di default da xgboost quando viene trainato su un array numpy. \r\n",
        "\r\n",
        "Riferimento: https://stackoverflow.com/questions/54933804/how-to-get-actual-feature-names-in-xgboost-feature-importance-plot-without-retra"
      ]
    },
    {
      "cell_type": "code",
      "metadata": {
        "id": "cwKIBo6b9mUZ"
      },
      "source": [
        "clf.get_booster().feature_names = cols"
      ],
      "execution_count": 21,
      "outputs": []
    },
    {
      "cell_type": "code",
      "metadata": {
        "colab": {
          "base_uri": "https://localhost:8080/",
          "height": 313
        },
        "id": "4QajIT0n-XsG",
        "outputId": "26e0bf1e-b560-49da-d458-335e6595870e"
      },
      "source": [
        "xgb.plot_importance(clf, max_num_features = 10, importance_type='gain', show_values=False, title='Feature importance by gain')"
      ],
      "execution_count": 22,
      "outputs": [
        {
          "output_type": "execute_result",
          "data": {
            "text/plain": [
              "<matplotlib.axes._subplots.AxesSubplot at 0x7fb01cd361d0>"
            ]
          },
          "metadata": {
            "tags": []
          },
          "execution_count": 22
        },
        {
          "output_type": "display_data",
          "data": {
            "image/png": "[encoded data removed]",
            "text/plain": [
              "<Figure size 432x288 with 1 Axes>"
            ]
          },
          "metadata": {
            "tags": [],
            "needs_background": "light"
          }
        }
      ]
    },
    {
      "cell_type": "code",
      "metadata": {
        "id": "PwH_lULojeHr",
        "colab": {
          "base_uri": "https://localhost:8080/",
          "height": 313
        },
        "outputId": "70d9a8ae-14fe-4056-c54d-1fd614c4c802"
      },
      "source": [
        "xgb.plot_importance(clf, max_num_features = 10, importance_type='weight', show_values=False, title='Feature importance by weight')"
      ],
      "execution_count": 23,
      "outputs": [
        {
          "output_type": "execute_result",
          "data": {
            "text/plain": [
              "<matplotlib.axes._subplots.AxesSubplot at 0x7fb01cd956a0>"
            ]
          },
          "metadata": {
            "tags": []
          },
          "execution_count": 23
        },
        {
          "output_type": "display_data",
          "data": {
            "image/png": "[encoded data removed]",
            "text/plain": [
              "<Figure size 432x288 with 1 Axes>"
            ]
          },
          "metadata": {
            "tags": [],
            "needs_background": "light"
          }
        }
      ]
    },
    {
      "cell_type": "code",
      "metadata": {
        "id": "3bOfpsCmjiJR",
        "colab": {
          "base_uri": "https://localhost:8080/",
          "height": 313
        },
        "outputId": "827fddd0-dd67-42db-cfca-27b7a059bf06"
      },
      "source": [
        "xgb.plot_importance(clf, max_num_features = 10, importance_type='cover', show_values=False, title='Feature importance by cover')"
      ],
      "execution_count": 24,
      "outputs": [
        {
          "output_type": "execute_result",
          "data": {
            "text/plain": [
              "<matplotlib.axes._subplots.AxesSubplot at 0x7fb01d2216d8>"
            ]
          },
          "metadata": {
            "tags": []
          },
          "execution_count": 24
        },
        {
          "output_type": "display_data",
          "data": {
            "image/png": "[encoded data removed]",
            "text/plain": [
              "<Figure size 432x288 with 1 Axes>"
            ]
          },
          "metadata": {
            "tags": [],
            "needs_background": "light"
          }
        }
      ]
    },
    {
      "cell_type": "markdown",
      "metadata": {
        "id": "rWQX6HxT1Uql"
      },
      "source": [
        "`ratio_dictionary(clf, data, n_features)`: permette di selezionare le n_features più importanti e controllare il ratio di eventi fraudolenti che tali features individuano. "
      ]
    }
  ]
}