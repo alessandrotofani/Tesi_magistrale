{
  "nbformat": 4,
  "nbformat_minor": 0,
  "metadata": {
    "colab": {
      "name": "3_Neural_Net.ipynb",
      "provenance": [],
      "authorship_tag": "ABX9TyOaTOz5LU8YSAnsqInT0cc5",
      "include_colab_link": true
    },
    "kernelspec": {
      "name": "python3",
      "display_name": "Python 3"
    },
    "accelerator": "GPU"
  },
  "cells": [
    {
      "cell_type": "markdown",
      "metadata": {
        "id": "view-in-github",
        "colab_type": "text"
      },
      "source": [
        "<a href=\"https://colab.research.google.com/github/alessandrotofani/Tesi_magistrale/blob/master/3_Neural_Net_new_MLP_highDropout.ipynb\" target=\"_parent\"><img src=\"https://colab.research.google.com/assets/colab-badge.svg\" alt=\"Open In Colab\"/></a>"
      ]
    },
    {
      "cell_type": "markdown",
      "metadata": {
        "id": "8-eTUKS6D9Fs"
      },
      "source": [
        "# Import"
      ]
    },
    {
      "cell_type": "code",
      "metadata": {
        "colab": {
          "base_uri": "https://localhost:8080/"
        },
        "id": "xtV-QCEPDVju",
        "outputId": "bf70c3cb-76c2-42a3-b15e-9ccad931c834"
      },
      "source": [
        "import numpy as np # linear algebra\r\n",
        "import pandas as pd # data processing\r\n",
        "import matplotlib\r\n",
        "import matplotlib.pyplot as plt\r\n",
        "import seaborn as sns\r\n",
        "import os\r\n",
        "from google.colab import drive\r\n",
        "drive.mount('/content/drive')\r\n",
        "from sklearn.model_selection import train_test_split"
      ],
      "execution_count": 1,
      "outputs": [
        {
          "output_type": "stream",
          "text": [
            "Mounted at /content/drive\n"
          ],
          "name": "stdout"
        }
      ]
    },
    {
      "cell_type": "code",
      "metadata": {
        "id": "QSvV9n8XDd1_"
      },
      "source": [
        "import sys \r\n",
        "sys.path.append('/content/drive/MyDrive/Tesi_magistrale/Tesi_magistrale')\r\n",
        "import mf\r\n",
        "import warnings\r\n",
        "warnings.simplefilter(action='ignore', category=FutureWarning)"
      ],
      "execution_count": 2,
      "outputs": []
    },
    {
      "cell_type": "code",
      "metadata": {
        "id": "vLwIrSvoSR7S",
        "outputId": "5b78875a-1149-42df-b641-607e3170259a",
        "colab": {
          "base_uri": "https://localhost:8080/"
        }
      },
      "source": [
        "!pip install --quiet fastai==2.2.5"
      ],
      "execution_count": 3,
      "outputs": [
        {
          "output_type": "stream",
          "text": [
            "\u001b[K     |████████████████████████████████| 194kB 8.4MB/s \n",
            "\u001b[K     |████████████████████████████████| 61kB 10.3MB/s \n",
            "\u001b[?25h"
          ],
          "name": "stdout"
        }
      ]
    },
    {
      "cell_type": "markdown",
      "metadata": {
        "id": "k5aTQo_7D3KW"
      },
      "source": [
        "# Preprocessing"
      ]
    },
    {
      "cell_type": "code",
      "metadata": {
        "id": "3CA67WePVnds"
      },
      "source": [
        "data = pd.read_csv('/content/drive/MyDrive/Tesi_magistrale/Dataset/IEEE/Output/data.csv')\r\n",
        "data = mf.new_processing(data)\r\n",
        "# data = pd.get_dummies(data)"
      ],
      "execution_count": 4,
      "outputs": []
    },
    {
      "cell_type": "code",
      "metadata": {
        "id": "ouq64I1r5lkR"
      },
      "source": [
        "cols = mf.get_col(data)"
      ],
      "execution_count": 5,
      "outputs": []
    },
    {
      "cell_type": "code",
      "metadata": {
        "id": "GRYQU4obQE8V"
      },
      "source": [
        "from fastai.tabular.all import *"
      ],
      "execution_count": 6,
      "outputs": []
    },
    {
      "cell_type": "code",
      "metadata": {
        "id": "ruoqZDmGS48a"
      },
      "source": [
        "categorical_col = data.select_dtypes(include=['object']).columns.tolist()"
      ],
      "execution_count": 7,
      "outputs": []
    },
    {
      "cell_type": "code",
      "metadata": {
        "id": "9WHzC-MHVTBV"
      },
      "source": [
        "def get_numerical_col(data, categorical_col):\n",
        "  numerical_col = []\n",
        "  for col in data.columns:\n",
        "    if col not in categorical_col and col != 'isFraud':\n",
        "      numerical_col.append(col)\n",
        "  return numerical_col\n",
        "\n",
        "numerical_col = get_numerical_col(data, categorical_col)"
      ],
      "execution_count": 8,
      "outputs": []
    },
    {
      "cell_type": "markdown",
      "metadata": {
        "id": "_IkJQpHuhnXm"
      },
      "source": [
        "Tutorial: https://docs.fast.ai/tutorial.tabular.html\n",
        "\n",
        "Book: https://github.com/fastai/fastbook/blob/master/09_tabular.ipynb"
      ]
    },
    {
      "cell_type": "code",
      "metadata": {
        "id": "uss-vsWXQE3E"
      },
      "source": [
        "fasted = TabularPandas(data, procs=[Categorify],\n",
        "                   cat_names = categorical_col,\n",
        "                   cont_names = numerical_col,\n",
        "                   y_names='isFraud')\n",
        "                  #  splits=splits)"
      ],
      "execution_count": 9,
      "outputs": []
    },
    {
      "cell_type": "code",
      "metadata": {
        "id": "X-fjffG1UwkY"
      },
      "source": [
        "X_train, y_train = fasted.xs, fasted.ys.values.ravel()\n",
        "# X_test, y_test = fasted.valid.xs, fasted.valid.ys.values.ravel()"
      ],
      "execution_count": 10,
      "outputs": []
    },
    {
      "cell_type": "code",
      "metadata": {
        "id": "GAffYKlMcKoQ"
      },
      "source": [
        "# for col in categorical_col:\n",
        "#   print('Feature',col, 'has',X_train[col].max(), 'different categorical values')"
      ],
      "execution_count": 11,
      "outputs": []
    },
    {
      "cell_type": "code",
      "metadata": {
        "id": "Da6EBrZcrZpF"
      },
      "source": [
        "categorical_col_toemb = []\n",
        "one_hot_encode = []\n",
        "for col in categorical_col:\n",
        "  if X_train[col].max() > 7:\n",
        "    categorical_col_toemb.append(col)\n",
        "  else:\n",
        "    one_hot_encode.append(col)\n",
        "\n",
        "X_train = pd.get_dummies(X_train, columns=one_hot_encode)\n",
        "cols = mf.get_col(X_train)"
      ],
      "execution_count": 12,
      "outputs": []
    },
    {
      "cell_type": "code",
      "metadata": {
        "id": "pDwfRa1mr7Jy"
      },
      "source": [
        "numerical_col = get_numerical_col(X_train, categorical_col_toemb)"
      ],
      "execution_count": 13,
      "outputs": []
    },
    {
      "cell_type": "markdown",
      "metadata": {
        "id": "WLwNC-RfdpGF"
      },
      "source": [
        "## Train validation test split"
      ]
    },
    {
      "cell_type": "markdown",
      "metadata": {
        "id": "m8EkabwNTN1C"
      },
      "source": [
        "Splitto il dataset in train, validation e test set. "
      ]
    },
    {
      "cell_type": "code",
      "metadata": {
        "id": "QTS6eJT9AGlU"
      },
      "source": [
        "def overSampling(X, y, frac_over=0.1):\n",
        "  from imblearn.over_sampling import SMOTE\n",
        "  sm = SMOTE(sampling_strategy=frac_over, random_state=42)\n",
        "  X_sm, y_sm = sm.fit_resample(X, y)  \n",
        "  return X_sm, y_sm"
      ],
      "execution_count": 14,
      "outputs": []
    },
    {
      "cell_type": "code",
      "metadata": {
        "id": "b1lw52XFUZBG"
      },
      "source": [
        "X_train, X_test, y_train, y_test = train_test_split(X_train, y_train, test_size = 0.2)\n",
        "X_train, y_train = overSampling(X_train, y_train)\n",
        "X_train, X_val, y_train, y_val = train_test_split(X_train, y_train, test_size=0.25, random_state=42)"
      ],
      "execution_count": 15,
      "outputs": []
    },
    {
      "cell_type": "code",
      "metadata": {
        "id": "dqOMoTQ-xkQo"
      },
      "source": [
        "save_id = False \r\n",
        "\r\n",
        "if save_id:\r\n",
        "  train_id = X_train.index.tolist()\r\n",
        "  val_id = X_val.index.tolist()\r\n",
        "  test_id = X_test.index.tolist()\r\n",
        "  mf.save_list('train_id',train_id)\r\n",
        "  mf.save_list('val_id', val_id)\r\n",
        "  mf.save_list('test_id', test_id)\r\n",
        "\r\n",
        "load_id = False \r\n",
        "if load_id:\r\n",
        "  mf.load_list('train_id',train_id)\r\n",
        "  mf.load_list('val_id', val_id)\r\n",
        "  mf.load_list('test_id', test_id)"
      ],
      "execution_count": 16,
      "outputs": []
    },
    {
      "cell_type": "markdown",
      "metadata": {
        "id": "XcNlmAIrLUcB"
      },
      "source": [
        "# Neural Network"
      ]
    },
    {
      "cell_type": "markdown",
      "metadata": {
        "id": "HypjIBuVX2UT"
      },
      "source": [
        "Kaggle tutorial https://www.kaggle.com/colinmorris/embedding-layers\n",
        "\n",
        "Implementation: https://www.kaggle.com/blaskowitz100/dnn-keras-and-categorical-feature-embedding"
      ]
    },
    {
      "cell_type": "code",
      "metadata": {
        "id": "-19ItfoMTD0L"
      },
      "source": [
        "import tensorflow as tf\n",
        "from tensorflow import keras\n",
        "from tensorflow.keras import models\n",
        "from tensorflow.keras import layers\n",
        "\n",
        "keras.backend.clear_session()\n",
        "# Embedding for categorical features\n",
        "categorical_input = []\n",
        "numerical_input = []\n",
        "embeddings = []\n",
        "embedding_layer_names = []\n",
        "for col in categorical_col_toemb:\n",
        "# for col in categorical_col:\n",
        "    _input = layers.Input(shape=[1], name=col)\n",
        "    _embed = layers.Embedding(fasted[col].max() + 1, 3, name=col+'_emb')(_input)\n",
        "    categorical_input.append(_input)\n",
        "    embeddings.append(_embed)\n",
        "    embedding_layer_names.append(col+'_emb')\n",
        "    \n",
        "# Simple inputs for the numeric features\n",
        "for col in numerical_col:\n",
        "    numeric_input = layers.Input(shape=(1,), name=col)\n",
        "    numerical_input.append(numeric_input)\n",
        "    \n",
        "# Merge the numeric inputs\n",
        "merged_num_inputs = layers.concatenate(numerical_input)\n",
        "\n",
        "# Merge embedding and use a Droput to prevent overfittting\n",
        "merged_inputs = layers.concatenate(embeddings)\n",
        "spatial_dropout = layers.SpatialDropout1D(0.6)(merged_inputs) # 0.2\n",
        "flat_embed = layers.Flatten()(spatial_dropout)\n",
        "\n",
        "# Merge embedding and numeric features\n",
        "all_features = layers.concatenate([flat_embed, merged_num_inputs])\n",
        "\n",
        "# MLP for classification\n",
        "x = layers.Dense(360, activation=tf.keras.activations.gelu)(all_features) \n",
        "x = layers.BatchNormalization()(x)\n",
        "x = layers.Dropout(0.4)(x) #0.05 0.2\n",
        "\n",
        "# Final model\n",
        "output = layers.Dense(1, activation='sigmoid')(x)\n",
        "model = models.Model(inputs=categorical_input + numerical_input, outputs=output)"
      ],
      "execution_count": 72,
      "outputs": []
    },
    {
      "cell_type": "code",
      "metadata": {
        "id": "UtPJD6YkUKZe"
      },
      "source": [
        "model.compile(loss='binary_crossentropy', optimizer='adam', metrics=['accuracy',tf.keras.metrics.Recall(), tf.keras.metrics.Precision()])\n",
        "# print(model.summary())"
      ],
      "execution_count": 73,
      "outputs": []
    },
    {
      "cell_type": "code",
      "metadata": {
        "id": "kJxOM99jPYxe"
      },
      "source": [
        "def get_keras_dataset(X, cols):\n",
        "  df = pd.DataFrame(data=X, columns=cols)\n",
        "  X = {str(col) : np.array(df[col]) for col in df.columns}\n",
        "  return X"
      ],
      "execution_count": 74,
      "outputs": []
    },
    {
      "cell_type": "code",
      "metadata": {
        "colab": {
          "base_uri": "https://localhost:8080/"
        },
        "id": "DcxHJc6-OD5P",
        "outputId": "9642ec9e-c92c-4046-a1f0-6f5e12cc6f9d"
      },
      "source": [
        "history = model.fit(\r\n",
        "    get_keras_dataset(X_train, cols), \r\n",
        "    y_train,\r\n",
        "    epochs=40, #30 \r\n",
        "    batch_size=512, # 512\r\n",
        "    validation_data=(get_keras_dataset(X_val, cols),y_val),\r\n",
        "    verbose=1,\r\n",
        "    shuffle = True , \r\n",
        "    class_weight = {0: 0.5, 1: 4} #3.5\r\n",
        ")"
      ],
      "execution_count": 75,
      "outputs": [
        {
          "output_type": "stream",
          "text": [
            "Epoch 1/40\n",
            "735/735 [==============================] - 22s 27ms/step - loss: 0.4636 - accuracy: 0.7585 - recall: 0.6659 - precision: 0.2255 - val_loss: 0.3827 - val_accuracy: 0.8405 - val_recall: 0.6848 - val_precision: 0.3271\n",
            "Epoch 2/40\n",
            "735/735 [==============================] - 19s 26ms/step - loss: 0.3797 - accuracy: 0.8273 - recall: 0.7079 - precision: 0.3048 - val_loss: 0.3888 - val_accuracy: 0.8360 - val_recall: 0.7262 - val_precision: 0.3266\n",
            "Epoch 3/40\n",
            "735/735 [==============================] - 19s 26ms/step - loss: 0.3623 - accuracy: 0.8375 - recall: 0.7315 - precision: 0.3230 - val_loss: 0.3368 - val_accuracy: 0.8711 - val_recall: 0.7082 - val_precision: 0.3914\n",
            "Epoch 4/40\n",
            "735/735 [==============================] - 19s 26ms/step - loss: 0.3577 - accuracy: 0.8396 - recall: 0.7393 - precision: 0.3303 - val_loss: 0.3417 - val_accuracy: 0.8611 - val_recall: 0.7082 - val_precision: 0.3695\n",
            "Epoch 5/40\n",
            "735/735 [==============================] - 20s 27ms/step - loss: 0.3442 - accuracy: 0.8450 - recall: 0.7472 - precision: 0.3390 - val_loss: 0.2913 - val_accuracy: 0.8864 - val_recall: 0.6877 - val_precision: 0.4291\n",
            "Epoch 6/40\n",
            "735/735 [==============================] - 19s 26ms/step - loss: 0.3445 - accuracy: 0.8464 - recall: 0.7494 - precision: 0.3421 - val_loss: 0.3217 - val_accuracy: 0.8703 - val_recall: 0.7252 - val_precision: 0.3917\n",
            "Epoch 7/40\n",
            "735/735 [==============================] - 19s 26ms/step - loss: 0.3349 - accuracy: 0.8516 - recall: 0.7569 - precision: 0.3516 - val_loss: 0.2790 - val_accuracy: 0.8912 - val_recall: 0.6712 - val_precision: 0.4422\n",
            "Epoch 8/40\n",
            "735/735 [==============================] - 19s 26ms/step - loss: 0.3308 - accuracy: 0.8535 - recall: 0.7600 - precision: 0.3539 - val_loss: 0.4478 - val_accuracy: 0.8004 - val_recall: 0.8413 - val_precision: 0.2963\n",
            "Epoch 9/40\n",
            "735/735 [==============================] - 20s 27ms/step - loss: 0.3276 - accuracy: 0.8547 - recall: 0.7631 - precision: 0.3552 - val_loss: 0.3099 - val_accuracy: 0.8719 - val_recall: 0.7505 - val_precision: 0.3982\n",
            "Epoch 10/40\n",
            "735/735 [==============================] - 19s 26ms/step - loss: 0.3264 - accuracy: 0.8553 - recall: 0.7649 - precision: 0.3591 - val_loss: 0.3345 - val_accuracy: 0.8670 - val_recall: 0.7760 - val_precision: 0.3902\n",
            "Epoch 11/40\n",
            "735/735 [==============================] - 19s 26ms/step - loss: 0.3234 - accuracy: 0.8563 - recall: 0.7696 - precision: 0.3619 - val_loss: 0.2841 - val_accuracy: 0.8904 - val_recall: 0.7260 - val_precision: 0.4437\n",
            "Epoch 12/40\n",
            "735/735 [==============================] - 20s 27ms/step - loss: 0.3186 - accuracy: 0.8602 - recall: 0.7729 - precision: 0.3674 - val_loss: 0.3503 - val_accuracy: 0.8528 - val_recall: 0.7999 - val_precision: 0.3652\n",
            "Epoch 13/40\n",
            "735/735 [==============================] - 19s 26ms/step - loss: 0.3172 - accuracy: 0.8586 - recall: 0.7765 - precision: 0.3659 - val_loss: 0.2909 - val_accuracy: 0.8870 - val_recall: 0.7348 - val_precision: 0.4347\n",
            "Epoch 14/40\n",
            "735/735 [==============================] - 19s 26ms/step - loss: 0.3131 - accuracy: 0.8620 - recall: 0.7818 - precision: 0.3754 - val_loss: 0.2207 - val_accuracy: 0.9219 - val_recall: 0.6190 - val_precision: 0.5721\n",
            "Epoch 15/40\n",
            "735/735 [==============================] - 19s 26ms/step - loss: 0.3144 - accuracy: 0.8602 - recall: 0.7787 - precision: 0.3722 - val_loss: 0.2997 - val_accuracy: 0.8842 - val_recall: 0.7655 - val_precision: 0.4295\n",
            "Epoch 16/40\n",
            "735/735 [==============================] - 19s 26ms/step - loss: 0.3062 - accuracy: 0.8644 - recall: 0.7850 - precision: 0.3809 - val_loss: 0.2499 - val_accuracy: 0.9078 - val_recall: 0.7121 - val_precision: 0.5013\n",
            "Epoch 17/40\n",
            "735/735 [==============================] - 21s 28ms/step - loss: 0.3081 - accuracy: 0.8631 - recall: 0.7837 - precision: 0.3775 - val_loss: 0.1916 - val_accuracy: 0.9308 - val_recall: 0.5573 - val_precision: 0.6462\n",
            "Epoch 18/40\n",
            "735/735 [==============================] - 20s 28ms/step - loss: 0.3056 - accuracy: 0.8645 - recall: 0.7856 - precision: 0.3789 - val_loss: 0.3400 - val_accuracy: 0.8586 - val_recall: 0.8174 - val_precision: 0.3779\n",
            "Epoch 19/40\n",
            "735/735 [==============================] - 19s 26ms/step - loss: 0.3060 - accuracy: 0.8653 - recall: 0.7918 - precision: 0.3839 - val_loss: 0.3765 - val_accuracy: 0.8410 - val_recall: 0.8357 - val_precision: 0.3497\n",
            "Epoch 20/40\n",
            "735/735 [==============================] - 19s 26ms/step - loss: 0.2996 - accuracy: 0.8667 - recall: 0.7923 - precision: 0.3839 - val_loss: 0.3171 - val_accuracy: 0.8724 - val_recall: 0.8033 - val_precision: 0.4047\n",
            "Epoch 21/40\n",
            "735/735 [==============================] - 20s 27ms/step - loss: 0.2982 - accuracy: 0.8698 - recall: 0.7922 - precision: 0.3906 - val_loss: 0.2209 - val_accuracy: 0.9222 - val_recall: 0.6956 - val_precision: 0.5646\n",
            "Epoch 22/40\n",
            "735/735 [==============================] - 19s 26ms/step - loss: 0.2975 - accuracy: 0.8680 - recall: 0.7943 - precision: 0.3858 - val_loss: 0.3960 - val_accuracy: 0.8252 - val_recall: 0.8564 - val_precision: 0.3292\n",
            "Epoch 23/40\n",
            "735/735 [==============================] - 19s 26ms/step - loss: 0.2938 - accuracy: 0.8698 - recall: 0.7982 - precision: 0.3899 - val_loss: 0.2777 - val_accuracy: 0.8887 - val_recall: 0.7778 - val_precision: 0.4425\n",
            "Epoch 24/40\n",
            "735/735 [==============================] - 19s 26ms/step - loss: 0.2930 - accuracy: 0.8689 - recall: 0.8035 - precision: 0.3905 - val_loss: 0.3279 - val_accuracy: 0.8649 - val_recall: 0.8207 - val_precision: 0.3905\n",
            "Epoch 25/40\n",
            "735/735 [==============================] - 19s 26ms/step - loss: 0.2894 - accuracy: 0.8726 - recall: 0.8036 - precision: 0.3966 - val_loss: 0.3770 - val_accuracy: 0.8418 - val_recall: 0.8565 - val_precision: 0.3535\n",
            "Epoch 26/40\n",
            "735/735 [==============================] - 19s 26ms/step - loss: 0.2893 - accuracy: 0.8734 - recall: 0.8024 - precision: 0.3994 - val_loss: 0.3945 - val_accuracy: 0.8263 - val_recall: 0.8619 - val_precision: 0.3314\n",
            "Epoch 27/40\n",
            "735/735 [==============================] - 20s 27ms/step - loss: 0.2904 - accuracy: 0.8728 - recall: 0.8029 - precision: 0.3993 - val_loss: 0.4078 - val_accuracy: 0.8202 - val_recall: 0.8745 - val_precision: 0.3249\n",
            "Epoch 28/40\n",
            "735/735 [==============================] - 19s 26ms/step - loss: 0.2870 - accuracy: 0.8728 - recall: 0.8039 - precision: 0.3979 - val_loss: 0.2929 - val_accuracy: 0.8803 - val_recall: 0.7964 - val_precision: 0.4223\n",
            "Epoch 29/40\n",
            "735/735 [==============================] - 19s 26ms/step - loss: 0.2866 - accuracy: 0.8725 - recall: 0.8052 - precision: 0.3995 - val_loss: 0.2928 - val_accuracy: 0.8873 - val_recall: 0.7726 - val_precision: 0.4382\n",
            "Epoch 30/40\n",
            "735/735 [==============================] - 20s 27ms/step - loss: 0.2855 - accuracy: 0.8732 - recall: 0.8034 - precision: 0.3999 - val_loss: 0.2726 - val_accuracy: 0.8898 - val_recall: 0.7867 - val_precision: 0.4459\n",
            "Epoch 31/40\n",
            "735/735 [==============================] - 19s 26ms/step - loss: 0.2832 - accuracy: 0.8738 - recall: 0.8093 - precision: 0.4028 - val_loss: 0.3716 - val_accuracy: 0.8374 - val_recall: 0.8654 - val_precision: 0.3478\n",
            "Epoch 32/40\n",
            "735/735 [==============================] - 19s 26ms/step - loss: 0.2815 - accuracy: 0.8772 - recall: 0.8108 - precision: 0.4099 - val_loss: 0.3246 - val_accuracy: 0.8679 - val_recall: 0.8257 - val_precision: 0.3973\n",
            "Epoch 33/40\n",
            "735/735 [==============================] - 19s 26ms/step - loss: 0.2818 - accuracy: 0.8763 - recall: 0.8113 - precision: 0.4074 - val_loss: 0.3639 - val_accuracy: 0.8413 - val_recall: 0.8575 - val_precision: 0.3529\n",
            "Epoch 34/40\n",
            "735/735 [==============================] - 19s 26ms/step - loss: 0.2784 - accuracy: 0.8770 - recall: 0.8112 - precision: 0.4074 - val_loss: 0.3245 - val_accuracy: 0.8673 - val_recall: 0.8448 - val_precision: 0.3978\n",
            "Epoch 35/40\n",
            "735/735 [==============================] - 19s 26ms/step - loss: 0.2769 - accuracy: 0.8773 - recall: 0.8127 - precision: 0.4125 - val_loss: 0.3428 - val_accuracy: 0.8562 - val_recall: 0.8549 - val_precision: 0.3776\n",
            "Epoch 36/40\n",
            "735/735 [==============================] - 19s 26ms/step - loss: 0.2740 - accuracy: 0.8793 - recall: 0.8168 - precision: 0.4150 - val_loss: 0.2721 - val_accuracy: 0.8898 - val_recall: 0.7858 - val_precision: 0.4460\n",
            "Epoch 37/40\n",
            "735/735 [==============================] - 19s 26ms/step - loss: 0.2754 - accuracy: 0.8792 - recall: 0.8151 - precision: 0.4153 - val_loss: 0.2384 - val_accuracy: 0.9068 - val_recall: 0.7752 - val_precision: 0.4979\n",
            "Epoch 38/40\n",
            "735/735 [==============================] - 19s 26ms/step - loss: 0.2742 - accuracy: 0.8796 - recall: 0.8167 - precision: 0.4160 - val_loss: 0.3094 - val_accuracy: 0.8714 - val_recall: 0.8368 - val_precision: 0.4057\n",
            "Epoch 39/40\n",
            "735/735 [==============================] - 19s 26ms/step - loss: 0.2722 - accuracy: 0.8800 - recall: 0.8197 - precision: 0.4190 - val_loss: 0.2906 - val_accuracy: 0.8891 - val_recall: 0.8221 - val_precision: 0.4462\n",
            "Epoch 40/40\n",
            "735/735 [==============================] - 19s 25ms/step - loss: 0.2715 - accuracy: 0.8803 - recall: 0.8157 - precision: 0.4153 - val_loss: 0.2529 - val_accuracy: 0.9002 - val_recall: 0.7937 - val_precision: 0.4766\n"
          ],
          "name": "stdout"
        }
      ]
    },
    {
      "cell_type": "markdown",
      "metadata": {
        "id": "p-TwZZx0AOxO"
      },
      "source": [
        "# Performance evaluation"
      ]
    },
    {
      "cell_type": "code",
      "metadata": {
        "id": "WKOHvmiVOsaP"
      },
      "source": [
        "# test_loss, test_acc = model.evaluate(get_keras_dataset(X_test, cols), y_test)\r\n",
        "\r\n",
        "# print()\r\n",
        "# print('Test Loss:\\t', test_loss)\r\n",
        "# print('Test Accuracy:\\t', test_acc)"
      ],
      "execution_count": 76,
      "outputs": []
    },
    {
      "cell_type": "code",
      "metadata": {
        "id": "ujQ7C2bhQXLN"
      },
      "source": [
        "y_pred = model.predict(get_keras_dataset(X_test, cols))"
      ],
      "execution_count": 77,
      "outputs": []
    },
    {
      "cell_type": "code",
      "metadata": {
        "id": "TWs-nW4IPaQC",
        "colab": {
          "base_uri": "https://localhost:8080/",
          "height": 350
        },
        "outputId": "34b1be61-ab9a-4dcf-e3de-58d9728ca9bd"
      },
      "source": [
        "mf.plot_cm(y_test, y_pred, 'Blues')"
      ],
      "execution_count": 78,
      "outputs": [
        {
          "output_type": "display_data",
          "data": {
            "image/png": "[encoded data removed]",
            "text/plain": [
              "<Figure size 360x360 with 2 Axes>"
            ]
          },
          "metadata": {
            "tags": [],
            "needs_background": "light"
          }
        }
      ]
    },
    {
      "cell_type": "code",
      "metadata": {
        "id": "4ivKw-JpPkVG",
        "colab": {
          "base_uri": "https://localhost:8080/",
          "height": 297
        },
        "outputId": "3fe2be83-d00a-4c8a-eb47-0e81cf91db04"
      },
      "source": [
        "mf.plot_roc(\"ROC curve\", y_test, y_pred,color='blue')"
      ],
      "execution_count": 79,
      "outputs": [
        {
          "output_type": "stream",
          "text": [
            "AUC:  0.8987031085638421\n"
          ],
          "name": "stdout"
        },
        {
          "output_type": "display_data",
          "data": {
            "image/png": "[encoded data removed]",
            "text/plain": [
              "<Figure size 432x288 with 1 Axes>"
            ]
          },
          "metadata": {
            "tags": [],
            "needs_background": "light"
          }
        }
      ]
    },
    {
      "cell_type": "code",
      "metadata": {
        "id": "mbjYisJaYevS",
        "colab": {
          "base_uri": "https://localhost:8080/",
          "height": 297
        },
        "outputId": "eccada6b-733f-405a-d52f-6f6a33164069"
      },
      "source": [
        "mf.plot_ap('Precision-Recall curve', y_test, y_pred, color = 'red')"
      ],
      "execution_count": 80,
      "outputs": [
        {
          "output_type": "stream",
          "text": [
            "Average precision:  0.4976862520426754\n"
          ],
          "name": "stdout"
        },
        {
          "output_type": "display_data",
          "data": {
            "image/png": "[encoded data removed]",
            "text/plain": [
              "<Figure size 432x288 with 1 Axes>"
            ]
          },
          "metadata": {
            "tags": [],
            "needs_background": "light"
          }
        }
      ]
    },
    {
      "cell_type": "code",
      "metadata": {
        "id": "2G6888leAwmt"
      },
      "source": [
        "y_predicted = []\r\n",
        "for prob in y_pred:\r\n",
        "  if prob >= 0.5:\r\n",
        "    y_predicted.append(1)\r\n",
        "  else:\r\n",
        "    y_predicted.append(0)"
      ],
      "execution_count": 81,
      "outputs": []
    },
    {
      "cell_type": "code",
      "metadata": {
        "id": "9O9ms_BTfptM",
        "colab": {
          "base_uri": "https://localhost:8080/"
        },
        "outputId": "43161b00-e11c-4678-c2b5-5216258f3439"
      },
      "source": [
        "from sklearn.metrics import f1_score, recall_score, precision_score\r\n",
        "print('F1 score: ',f1_score(y_test, y_predicted, average=\"binary\"))\r\n",
        "print('Recall: ', recall_score(y_test, y_predicted, average='binary'))\r\n",
        "print('Precision: ', precision_score(y_test, y_predicted,  average='binary'))"
      ],
      "execution_count": 82,
      "outputs": [
        {
          "output_type": "stream",
          "text": [
            "F1 score:  0.34379342288096343\n",
            "Recall:  0.7180169286577993\n",
            "Precision:  0.2260028925934384\n"
          ],
          "name": "stdout"
        }
      ]
    },
    {
      "cell_type": "code",
      "metadata": {
        "id": "aYR5BCcTm108"
      },
      "source": [
        ""
      ],
      "execution_count": 82,
      "outputs": []
    }
  ]
}