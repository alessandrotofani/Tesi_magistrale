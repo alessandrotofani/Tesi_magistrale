{
  "nbformat": 4,
  "nbformat_minor": 0,
  "metadata": {
    "colab": {
      "name": "3_Neural_Net.ipynb",
      "provenance": [],
      "authorship_tag": "ABX9TyOM0ZxJxO+9Xcg55SDg209d",
      "include_colab_link": true
    },
    "kernelspec": {
      "name": "python3",
      "display_name": "Python 3"
    },
    "accelerator": "GPU"
  },
  "cells": [
    {
      "cell_type": "markdown",
      "metadata": {
        "id": "view-in-github",
        "colab_type": "text"
      },
      "source": [
        "<a href=\"https://colab.research.google.com/github/alessandrotofani/Tesi_magistrale/blob/master/3_Neural_Net.ipynb\" target=\"_parent\"><img src=\"https://colab.research.google.com/assets/colab-badge.svg\" alt=\"Open In Colab\"/></a>"
      ]
    },
    {
      "cell_type": "markdown",
      "metadata": {
        "id": "8-eTUKS6D9Fs"
      },
      "source": [
        "# Import"
      ]
    },
    {
      "cell_type": "code",
      "metadata": {
        "colab": {
          "base_uri": "https://localhost:8080/"
        },
        "id": "xtV-QCEPDVju",
        "outputId": "0292d03a-43c2-4fcd-891a-8bfd05f7783d"
      },
      "source": [
        "import numpy as np # linear algebra\r\n",
        "import pandas as pd # data processing\r\n",
        "import matplotlib\r\n",
        "import matplotlib.pyplot as plt\r\n",
        "import seaborn as sns\r\n",
        "import os\r\n",
        "from google.colab import drive\r\n",
        "drive.mount('/content/drive')\r\n",
        "from sklearn.model_selection import train_test_split"
      ],
      "execution_count": 1,
      "outputs": [
        {
          "output_type": "stream",
          "text": [
            "Mounted at /content/drive\n"
          ],
          "name": "stdout"
        }
      ]
    },
    {
      "cell_type": "code",
      "metadata": {
        "id": "QSvV9n8XDd1_"
      },
      "source": [
        "import sys \r\n",
        "sys.path.append('/content/drive/MyDrive/Tesi_magistrale/Tesi_magistrale')\r\n",
        "import mf"
      ],
      "execution_count": 2,
      "outputs": []
    },
    {
      "cell_type": "markdown",
      "metadata": {
        "id": "k5aTQo_7D3KW"
      },
      "source": [
        "# Preprocessing"
      ]
    },
    {
      "cell_type": "markdown",
      "metadata": {
        "id": "snsMJMlJ3Dcu"
      },
      "source": [
        "## Feature scaling"
      ]
    },
    {
      "cell_type": "markdown",
      "metadata": {
        "id": "fkebeV1E5pX-"
      },
      "source": [
        "Implemento il min max scaling delle features. \r\n",
        "\r\n",
        "Riferimento: https://towardsdatascience.com/data-normalization-with-pandas-and-scikit-learn-7c1cc6ed6475"
      ]
    },
    {
      "cell_type": "code",
      "metadata": {
        "id": "Kiu5JWhDvX3C"
      },
      "source": [
        "if not os.path.isfile('/content/drive/MyDrive/Tesi_magistrale/Dataset/IEEE/Output/corr_data.csv'):\r\n",
        "  correlation_data = min_max_scaling(correlation_data)\r\n",
        "  correlation_data.to_csv(r'./corr_data.csv')\r\n",
        "\r\n",
        "if not os.path.isfile('/content/drive/MyDrive/Tesi_magistrale/Dataset/IEEE/Output/data.csv'):\r\n",
        "  correlation_data = pd.read_csv('/content/drive/MyDrive/Tesi_magistrale/Dataset/IEEE/Output/corr_data.csv')"
      ],
      "execution_count": 3,
      "outputs": []
    },
    {
      "cell_type": "markdown",
      "metadata": {
        "id": "Wm21M5BTc2-v"
      },
      "source": [
        "Riferimento `save_model` e `load_model`: https://stackoverflow.com/questions/56107259/how-to-save-a-trained-model-by-scikit-learn\r\n",
        "\r\n",
        "Riferimento confusion matrix: https://scikit-learn.org/stable/auto_examples/model_selection/plot_confusion_matrix.html\r\n"
      ]
    },
    {
      "cell_type": "markdown",
      "metadata": {
        "id": "FpbwsvUFX0iY"
      },
      "source": [
        "### Dataset merging"
      ]
    },
    {
      "cell_type": "markdown",
      "metadata": {
        "id": "6-XUASHDX0iY"
      },
      "source": [
        "Funzione che ritorna la lista delle colonne significative. "
      ]
    },
    {
      "cell_type": "code",
      "metadata": {
        "id": "fUhFjfNyHixl"
      },
      "source": [
        "import warnings\r\n",
        "warnings.simplefilter(action='ignore', category=FutureWarning) # serve per ignorare i FutureWarning"
      ],
      "execution_count": 4,
      "outputs": []
    },
    {
      "cell_type": "markdown",
      "metadata": {
        "id": "P_aHaIF0QR8W"
      },
      "source": [
        "Rimpiazzo i missing values in categorical data con unknown. \r\n",
        "\r\n",
        "Unisco i dataset numerici e categorici nel dataframe data. \r\n",
        "\r\n",
        "Riferimento fillna: https://jamesrledoux.com/code/imputation"
      ]
    },
    {
      "cell_type": "code",
      "metadata": {
        "id": "3CA67WePVnds"
      },
      "source": [
        "if not os.path.isfile('/content/drive/MyDrive/Tesi_magistrale/Dataset/IEEE/Output/data.csv'):\r\n",
        "  col_to_drop = col_not_sign(categorical_data, cat_sign_col)\r\n",
        "  categorical_data = categorical_data.drop(col_to_drop, axis=1)\r\n",
        "  categorical_data = categorical_data.fillna('unknown')\r\n",
        "  data = pd.merge(correlation_data, categorical_data, left_on='TransactionID', right_on='TransactionID', how='left')\r\n",
        "  del correlation_data, categorical_data, numerical_data\r\n",
        "  data.to_csv(r'./data.csv')\r\n",
        "\r\n",
        "data = pd.read_csv('/content/drive/MyDrive/Tesi_magistrale/Dataset/IEEE/Output/data.csv')\r\n",
        "data.drop(data.columns[data.columns.str.contains('unnamed',case = False)],axis = 1, inplace = True)\r\n",
        "data = mf.feature_engineering(data)\r\n",
        "data = mf.feature_scaling(data)"
      ],
      "execution_count": 5,
      "outputs": []
    },
    {
      "cell_type": "code",
      "metadata": {
        "id": "NVvj5uy0dwJX"
      },
      "source": [
        "# fraud = (data['isFraud'] == 1).sum()\r\n",
        "# safe = (data['isFraud'] == 0).sum()\r\n",
        "# ratio = np.ceil(safe/fraud)"
      ],
      "execution_count": 6,
      "outputs": []
    },
    {
      "cell_type": "markdown",
      "metadata": {
        "id": "jacF5JtkXHvp"
      },
      "source": [
        "## One hot encoding"
      ]
    },
    {
      "cell_type": "markdown",
      "metadata": {
        "id": "0YusuKvQSS-V"
      },
      "source": [
        "One hot encoding delle features categoriche. Serve per lo smote e easy ensemble. \r\n",
        "\r\n",
        "Bisogna farlo prima dello split del dataset poichè rischio di perdere delle colonne. "
      ]
    },
    {
      "cell_type": "code",
      "metadata": {
        "id": "uDzEOd7O-E03"
      },
      "source": [
        "data = pd.get_dummies(data)"
      ],
      "execution_count": 7,
      "outputs": []
    },
    {
      "cell_type": "code",
      "metadata": {
        "id": "ouq64I1r5lkR"
      },
      "source": [
        "cols = mf.get_col(data)"
      ],
      "execution_count": 8,
      "outputs": []
    },
    {
      "cell_type": "markdown",
      "metadata": {
        "id": "SMz_bK6DTJRl"
      },
      "source": [
        "Seleziono i dati appartenenti ai primi 60 giorni. \r\n",
        "\r\n",
        "Se ne seleziono di più, l'easy ensemble non va. "
      ]
    },
    {
      "cell_type": "code",
      "metadata": {
        "id": "dhRSkafFKcEn"
      },
      "source": [
        "# data = mf.select_days(data, 60)"
      ],
      "execution_count": 9,
      "outputs": []
    },
    {
      "cell_type": "markdown",
      "metadata": {
        "id": "WLwNC-RfdpGF"
      },
      "source": [
        "## Train validation test split"
      ]
    },
    {
      "cell_type": "code",
      "metadata": {
        "id": "PhL83KaZjNkI"
      },
      "source": [
        "# data.drop(columns=['TransactionID'], inplace=True)"
      ],
      "execution_count": 10,
      "outputs": []
    },
    {
      "cell_type": "markdown",
      "metadata": {
        "id": "m8EkabwNTN1C"
      },
      "source": [
        "Splitto il dataset in train, validation e test set. "
      ]
    },
    {
      "cell_type": "code",
      "metadata": {
        "id": "0cz8y-FhBpi9"
      },
      "source": [
        "X_train, X_val, y_train, y_val = mf.split(data, test_size = 0.2)\r\n",
        "del data\r\n",
        "X_train, X_test, y_train, y_test = train_test_split(X_train, y_train, test_size=0.25, random_state=42)"
      ],
      "execution_count": 11,
      "outputs": []
    },
    {
      "cell_type": "code",
      "metadata": {
        "id": "dqOMoTQ-xkQo"
      },
      "source": [
        "save_id = True \r\n",
        "\r\n",
        "if save_id:\r\n",
        "  train_id = X_train.index.tolist()\r\n",
        "  val_id = X_val.index.tolist()\r\n",
        "  test_id = X_test.index.tolist()\r\n",
        "  mf.save_list('train_id',train_id)\r\n",
        "  mf.save_list('val_id', val_id)\r\n",
        "  mf.save_list('test_id', test_id)\r\n",
        "\r\n",
        "load_id = False \r\n",
        "if load_id:\r\n",
        "  mf.load_list('train_id',train_id)\r\n",
        "  mf.load_list('val_id', val_id)\r\n",
        "  mf.load_list('test_id', test_id)"
      ],
      "execution_count": 12,
      "outputs": []
    },
    {
      "cell_type": "markdown",
      "metadata": {
        "id": "EIX6IijNRgn0"
      },
      "source": [
        "## Undersampling: Easy Ensemble"
      ]
    },
    {
      "cell_type": "markdown",
      "metadata": {
        "id": "sjJGUsMyNGuw"
      },
      "source": [
        "L'easy ensemble tramite un metodo unsupervised divide il dataset in diversi dataset undersampled. \r\n",
        "\r\n",
        "Documentazione easy ensemble: http://glemaitre.github.io/imbalanced-learn/generated/imblearn.ensemble.EasyEnsemble.html#imblearn.ensemble.EasyEnsemble\r\n",
        "\r\n",
        "Esempio applicazio ee: http://glemaitre.github.io/imbalanced-learn/auto_examples/ensemble/plot_easy_ensemble.html?highlight=easy%20ensemble"
      ]
    },
    {
      "cell_type": "code",
      "metadata": {
        "id": "vdiM8saOHFOI"
      },
      "source": [
        "# X_trainres, y_trainres = mf.easy_ensemble(5, X_train, y_train)"
      ],
      "execution_count": 13,
      "outputs": []
    },
    {
      "cell_type": "markdown",
      "metadata": {
        "id": "XcNlmAIrLUcB"
      },
      "source": [
        "# Neural Network"
      ]
    },
    {
      "cell_type": "code",
      "metadata": {
        "id": "O4QoM8IfLXDx"
      },
      "source": [
        "import tensorflow as tf\r\n",
        "from tensorflow import keras\r\n",
        "from tensorflow.keras.models import Sequential\r\n",
        "from tensorflow.keras.layers import Flatten, Dense, Dropout, Input\r\n",
        "\r\n",
        "keras.backend.clear_session()\r\n",
        "\r\n",
        "model = Sequential()\r\n",
        "model.add(Input(shape=(X_train.shape[1],))) \r\n",
        "model.add(Dense(1024, activation='relu')) \r\n",
        "model.add(Dropout(0.2)) \r\n",
        "model.add(Dense(512, activation='relu')) \r\n",
        "model.add(Dropout(0.2)) \r\n",
        "model.add(Dense(256, activation='relu')) \r\n",
        "model.add(Dropout(0.2))\r\n",
        "model.add(Dense(128, activation='relu')) \r\n",
        "model.add(Dropout(0.2))\r\n",
        "model.add(Dense(24, activation='relu')) \r\n",
        "model.add(Dropout(0.2))\r\n",
        "model.add(Dense(4, activation='relu')) \r\n",
        "model.add(Dropout(0.2))\r\n",
        "model.add(Dense(1, activation='sigmoid'))\r\n",
        "# model.summary()"
      ],
      "execution_count": 14,
      "outputs": []
    },
    {
      "cell_type": "code",
      "metadata": {
        "id": "o6cl3yJ_NBEm"
      },
      "source": [
        "model.compile(\r\n",
        "    loss='binary_crossentropy',\r\n",
        "    optimizer='adam',\r\n",
        "    metrics=['accuracy']\r\n",
        ")"
      ],
      "execution_count": 15,
      "outputs": []
    },
    {
      "cell_type": "code",
      "metadata": {
        "colab": {
          "base_uri": "https://localhost:8080/"
        },
        "id": "DcxHJc6-OD5P",
        "outputId": "538e8663-bd07-4787-858d-7fe3d83f18e6"
      },
      "source": [
        "history = model.fit(\r\n",
        "    # X_trainres[0], y_trainres[0],    \r\n",
        "    X_train, y_train,\r\n",
        "    epochs=20, #20\r\n",
        "    batch_size=2000, # 1000\r\n",
        "    validation_data=(X_val,y_val),\r\n",
        "    # validation_data=(X_trainres[1],y_trainres[1]),\r\n",
        "    verbose=1,\r\n",
        "    shuffle = True , #class_weight = {0: 1, 1: ratio / 2}\r\n",
        ")"
      ],
      "execution_count": 16,
      "outputs": [
        {
          "output_type": "stream",
          "text": [
            "Epoch 1/20\n",
            "178/178 [==============================] - 9s 37ms/step - loss: 0.2234 - accuracy: 0.9564 - val_loss: 0.1265 - val_accuracy: 0.9640\n",
            "Epoch 2/20\n",
            "178/178 [==============================] - 5s 25ms/step - loss: 0.1412 - accuracy: 0.9659 - val_loss: 0.1233 - val_accuracy: 0.9640\n",
            "Epoch 3/20\n",
            "178/178 [==============================] - 5s 26ms/step - loss: 0.1361 - accuracy: 0.9653 - val_loss: 0.1158 - val_accuracy: 0.9680\n",
            "Epoch 4/20\n",
            "178/178 [==============================] - 5s 26ms/step - loss: 0.1289 - accuracy: 0.9681 - val_loss: 0.1162 - val_accuracy: 0.9678\n",
            "Epoch 5/20\n",
            "178/178 [==============================] - 5s 26ms/step - loss: 0.1244 - accuracy: 0.9690 - val_loss: 0.1122 - val_accuracy: 0.9681\n",
            "Epoch 6/20\n",
            "178/178 [==============================] - 5s 26ms/step - loss: 0.1205 - accuracy: 0.9693 - val_loss: 0.1089 - val_accuracy: 0.9700\n",
            "Epoch 7/20\n",
            "178/178 [==============================] - 5s 26ms/step - loss: 0.1163 - accuracy: 0.9698 - val_loss: 0.1115 - val_accuracy: 0.9688\n",
            "Epoch 8/20\n",
            "178/178 [==============================] - 5s 26ms/step - loss: 0.1163 - accuracy: 0.9696 - val_loss: 0.1078 - val_accuracy: 0.9696\n",
            "Epoch 9/20\n",
            "178/178 [==============================] - 5s 26ms/step - loss: 0.1135 - accuracy: 0.9705 - val_loss: 0.1061 - val_accuracy: 0.9701\n",
            "Epoch 10/20\n",
            "178/178 [==============================] - 5s 26ms/step - loss: 0.1111 - accuracy: 0.9706 - val_loss: 0.1070 - val_accuracy: 0.9707\n",
            "Epoch 11/20\n",
            "178/178 [==============================] - 4s 25ms/step - loss: 0.1084 - accuracy: 0.9714 - val_loss: 0.1034 - val_accuracy: 0.9710\n",
            "Epoch 12/20\n",
            "178/178 [==============================] - 5s 25ms/step - loss: 0.1075 - accuracy: 0.9712 - val_loss: 0.1038 - val_accuracy: 0.9712\n",
            "Epoch 13/20\n",
            "178/178 [==============================] - 5s 26ms/step - loss: 0.1063 - accuracy: 0.9716 - val_loss: 0.1038 - val_accuracy: 0.9712\n",
            "Epoch 14/20\n",
            "178/178 [==============================] - 5s 26ms/step - loss: 0.1047 - accuracy: 0.9717 - val_loss: 0.1036 - val_accuracy: 0.9712\n",
            "Epoch 15/20\n",
            "178/178 [==============================] - 5s 26ms/step - loss: 0.1023 - accuracy: 0.9720 - val_loss: 0.1026 - val_accuracy: 0.9712\n",
            "Epoch 16/20\n",
            "178/178 [==============================] - 5s 26ms/step - loss: 0.1004 - accuracy: 0.9726 - val_loss: 0.1031 - val_accuracy: 0.9718\n",
            "Epoch 17/20\n",
            "178/178 [==============================] - 4s 25ms/step - loss: 0.0992 - accuracy: 0.9729 - val_loss: 0.1021 - val_accuracy: 0.9719\n",
            "Epoch 18/20\n",
            "178/178 [==============================] - 5s 25ms/step - loss: 0.0991 - accuracy: 0.9728 - val_loss: 0.1001 - val_accuracy: 0.9722\n",
            "Epoch 19/20\n",
            "178/178 [==============================] - 5s 26ms/step - loss: 0.0963 - accuracy: 0.9730 - val_loss: 0.1011 - val_accuracy: 0.9722\n",
            "Epoch 20/20\n",
            "178/178 [==============================] - 5s 26ms/step - loss: 0.0970 - accuracy: 0.9729 - val_loss: 0.1026 - val_accuracy: 0.9714\n"
          ],
          "name": "stdout"
        }
      ]
    },
    {
      "cell_type": "markdown",
      "metadata": {
        "id": "p-TwZZx0AOxO"
      },
      "source": [
        "# Performance evaluation"
      ]
    },
    {
      "cell_type": "code",
      "metadata": {
        "colab": {
          "base_uri": "https://localhost:8080/"
        },
        "id": "WKOHvmiVOsaP",
        "outputId": "965d2af9-2d4e-4138-fcf5-8bdfff29fb1d"
      },
      "source": [
        "test_loss, test_acc = model.evaluate(X_test, y_test)\r\n",
        "\r\n",
        "print()\r\n",
        "print('Test Loss:\\t', test_loss)\r\n",
        "print('Test Accuracy:\\t', test_acc)"
      ],
      "execution_count": 17,
      "outputs": [
        {
          "output_type": "stream",
          "text": [
            "3691/3691 [==============================] - 11s 3ms/step - loss: 0.1013 - accuracy: 0.9722\n",
            "\n",
            "Test Loss:\t 0.10132121294736862\n",
            "Test Accuracy:\t 0.9721523523330688\n"
          ],
          "name": "stdout"
        }
      ]
    },
    {
      "cell_type": "code",
      "metadata": {
        "id": "ujQ7C2bhQXLN"
      },
      "source": [
        "y_pred = model.predict(X_test)"
      ],
      "execution_count": 18,
      "outputs": []
    },
    {
      "cell_type": "code",
      "metadata": {
        "colab": {
          "base_uri": "https://localhost:8080/",
          "height": 350
        },
        "id": "TWs-nW4IPaQC",
        "outputId": "3a51887a-afe0-4894-81fb-b1a524f7a1fb"
      },
      "source": [
        "mf.plot_cm(y_test, y_pred)"
      ],
      "execution_count": 19,
      "outputs": [
        {
          "output_type": "display_data",
          "data": {
            "image/png": "[encoded data removed]",
            "text/plain": [
              "<Figure size 360x360 with 2 Axes>"
            ]
          },
          "metadata": {
            "tags": [],
            "needs_background": "light"
          }
        }
      ]
    },
    {
      "cell_type": "code",
      "metadata": {
        "colab": {
          "base_uri": "https://localhost:8080/",
          "height": 296
        },
        "id": "4ivKw-JpPkVG",
        "outputId": "8f29ca51-1270-4ca4-ac92-5bf62acf8466"
      },
      "source": [
        "mf.plot_roc(\"ROC curve\", y_test, y_pred,color='blue')"
      ],
      "execution_count": 20,
      "outputs": [
        {
          "output_type": "stream",
          "text": [
            "AUC:  0.8735006913579741\n"
          ],
          "name": "stdout"
        },
        {
          "output_type": "display_data",
          "data": {
            "image/png": "[encoded data removed]",
            "text/plain": [
              "<Figure size 432x288 with 1 Axes>"
            ]
          },
          "metadata": {
            "tags": [],
            "needs_background": "light"
          }
        }
      ]
    },
    {
      "cell_type": "code",
      "metadata": {
        "colab": {
          "base_uri": "https://localhost:8080/",
          "height": 296
        },
        "id": "mbjYisJaYevS",
        "outputId": "f0ccb768-6559-4848-b252-b5e03e72446e"
      },
      "source": [
        "mf.plot_ap('Precision-Recall curve', y_test, y_pred, color = 'red')"
      ],
      "execution_count": 21,
      "outputs": [
        {
          "output_type": "stream",
          "text": [
            "Average precision:  0.4957848455173631\n"
          ],
          "name": "stdout"
        },
        {
          "output_type": "display_data",
          "data": {
            "image/png": "[encoded data removed]",
            "text/plain": [
              "<Figure size 432x288 with 1 Axes>"
            ]
          },
          "metadata": {
            "tags": [],
            "needs_background": "light"
          }
        }
      ]
    },
    {
      "cell_type": "code",
      "metadata": {
        "id": "2G6888leAwmt"
      },
      "source": [
        "y_predicted = []\r\n",
        "for prob in y_pred:\r\n",
        "  if prob >= 0.5:\r\n",
        "    y_predicted.append(1)\r\n",
        "  else:\r\n",
        "    y_predicted.append(0)"
      ],
      "execution_count": 22,
      "outputs": []
    },
    {
      "cell_type": "code",
      "metadata": {
        "id": "9O9ms_BTfptM",
        "colab": {
          "base_uri": "https://localhost:8080/"
        },
        "outputId": "ddef313d-5627-42d0-f835-44d0b65afe04"
      },
      "source": [
        "from sklearn.metrics import f1_score, recall_score, precision_score\r\n",
        "print('F1 score: ',f1_score(y_test, y_predicted, average=\"binary\"))\r\n",
        "print('Recall: ', recall_score(y_test, y_predicted, average='binary'))\r\n",
        "print('Precision: ', precision_score(y_test, y_predicted,  average='binary'))"
      ],
      "execution_count": 42,
      "outputs": [
        {
          "output_type": "stream",
          "text": [
            "F1 score:  0.37507125213756415\n",
            "Recall:  0.23777403035413153\n",
            "Precision:  0.887589928057554\n"
          ],
          "name": "stdout"
        }
      ]
    },
    {
      "cell_type": "code",
      "metadata": {
        "id": "aYR5BCcTm108"
      },
      "source": [
        ""
      ],
      "execution_count": null,
      "outputs": []
    }
  ]
}