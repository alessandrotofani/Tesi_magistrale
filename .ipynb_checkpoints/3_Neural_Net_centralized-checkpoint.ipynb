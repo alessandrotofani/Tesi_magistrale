{
  "nbformat": 4,
  "nbformat_minor": 0,
  "metadata": {
    "colab": {
      "name": "3_Neural_Net.ipynb",
      "provenance": [],
      "authorship_tag": "ABX9TyNIjPiynA8qTBSqhgl6wY8V",
      "include_colab_link": true
    },
    "kernelspec": {
      "name": "python3",
      "display_name": "Python 3"
    },
    "accelerator": "GPU"
  },
  "cells": [
    {
      "cell_type": "markdown",
      "metadata": {
        "id": "view-in-github",
        "colab_type": "text"
      },
      "source": [
        "<a href=\"https://colab.research.google.com/github/alessandrotofani/Tesi_magistrale/blob/master/3_Neural_Net_centralized.ipynb\" target=\"_parent\"><img src=\"https://colab.research.google.com/assets/colab-badge.svg\" alt=\"Open In Colab\"/></a>"
      ]
    },
    {
      "cell_type": "markdown",
      "metadata": {
        "id": "8-eTUKS6D9Fs"
      },
      "source": [
        "# Import"
      ]
    },
    {
      "cell_type": "code",
      "metadata": {
        "colab": {
          "base_uri": "https://localhost:8080/"
        },
        "id": "xtV-QCEPDVju",
        "outputId": "dcf9e8d1-8c5f-4b86-cad3-a25cc62cf2cf"
      },
      "source": [
        "import numpy as np # linear algebra\r\n",
        "import pandas as pd # data processing\r\n",
        "import matplotlib\r\n",
        "import matplotlib.pyplot as plt\r\n",
        "import seaborn as sns\r\n",
        "import os\r\n",
        "from google.colab import drive\r\n",
        "drive.mount('/content/drive')\r\n",
        "from sklearn.model_selection import train_test_split"
      ],
      "execution_count": 1,
      "outputs": [
        {
          "output_type": "stream",
          "text": [
            "Mounted at /content/drive\n"
          ],
          "name": "stdout"
        }
      ]
    },
    {
      "cell_type": "code",
      "metadata": {
        "id": "MqrKUdU4hrjb",
        "outputId": "61489d4b-8d56-452d-b25b-8fa4e17db2c2",
        "colab": {
          "base_uri": "https://localhost:8080/"
        }
      },
      "source": [
        "!pip install --quiet fastai==2.2.5"
      ],
      "execution_count": 2,
      "outputs": [
        {
          "output_type": "stream",
          "text": [
            "\u001b[K     |████████████████████████████████| 194kB 6.6MB/s \n",
            "\u001b[K     |████████████████████████████████| 61kB 5.3MB/s \n",
            "\u001b[K     |████████████████████████████████| 12.8MB 229kB/s \n",
            "\u001b[K     |████████████████████████████████| 776.8MB 24kB/s \n",
            "\u001b[31mERROR: torchtext 0.9.0 has requirement torch==1.8.0, but you'll have torch 1.7.1 which is incompatible.\u001b[0m\n",
            "\u001b[?25h"
          ],
          "name": "stdout"
        }
      ]
    },
    {
      "cell_type": "code",
      "metadata": {
        "id": "QSvV9n8XDd1_"
      },
      "source": [
        "import sys \r\n",
        "sys.path.append('/content/drive/MyDrive/Tesi_magistrale/Tesi_magistrale')\r\n",
        "import mf"
      ],
      "execution_count": 3,
      "outputs": []
    },
    {
      "cell_type": "markdown",
      "metadata": {
        "id": "k5aTQo_7D3KW"
      },
      "source": [
        "# Preprocessing"
      ]
    },
    {
      "cell_type": "code",
      "metadata": {
        "id": "-xz3VhtPhwbc"
      },
      "source": [
        "data = pd.read_csv('/content/drive/MyDrive/Tesi_magistrale/Dataset/IEEE/Output/data.csv')\n",
        "data = mf.new_processing(data)\n",
        "data = pd.get_dummies(data)\n",
        "cols = mf.get_col(data)"
      ],
      "execution_count": 4,
      "outputs": []
    },
    {
      "cell_type": "code",
      "metadata": {
        "id": "LEDgw60shwY5"
      },
      "source": [
        "load = False\n",
        "save_id = True \n",
        "\n",
        "if load:\n",
        "  X_test, y_test = mf.get_set('test_id', data, 'xgboost_numpy', labels = True)\n",
        "if not load:\n",
        "  X_train, X_test, y_train, y_test = mf.split(data, test_size = 0.2)\n",
        "  # X_train, y_train = overSampling(X_train, y_train)\n",
        "  del data\n",
        "  X_train, X_val, y_train, y_val = train_test_split(X_train, y_train, test_size=0.25, random_state=42)\n",
        "if save_id:\n",
        "  train_id = X_train.index.tolist()\n",
        "  val_id = X_val.index.tolist()\n",
        "  test_id = X_test.index.tolist()\n",
        "  mf.save_list('train_id',train_id)\n",
        "  mf.save_list('val_id', val_id)\n",
        "  mf.save_list('test_id', test_id)"
      ],
      "execution_count": 5,
      "outputs": []
    },
    {
      "cell_type": "code",
      "metadata": {
        "id": "2L6lBEX2hwRD"
      },
      "source": [
        ""
      ],
      "execution_count": 5,
      "outputs": []
    },
    {
      "cell_type": "markdown",
      "metadata": {
        "id": "XcNlmAIrLUcB"
      },
      "source": [
        "# Neural Network"
      ]
    },
    {
      "cell_type": "code",
      "metadata": {
        "id": "O4QoM8IfLXDx"
      },
      "source": [
        "import tensorflow as tf\r\n",
        "from tensorflow import keras\r\n",
        "from tensorflow.keras.models import Sequential\r\n",
        "from tensorflow.keras.layers import Flatten, Dense, Dropout, Input, BatchNormalization\r\n",
        "\r\n",
        "keras.backend.clear_session()\r\n",
        "\r\n",
        "model = Sequential()\r\n",
        "model.add(Input(shape=(X_train.shape[1],))) \r\n",
        "model.add(Dense(360, activation=tf.keras.activations.gelu)) \r\n",
        "model.add(BatchNormalization())\r\n",
        "model.add(Dense(1, activation='sigmoid'))"
      ],
      "execution_count": 7,
      "outputs": []
    },
    {
      "cell_type": "code",
      "metadata": {
        "id": "o6cl3yJ_NBEm"
      },
      "source": [
        "model.compile(\r\n",
        "    loss='binary_crossentropy',\r\n",
        "    optimizer='adam',\r\n",
        "    metrics=['accuracy',tf.keras.metrics.Recall(), tf.keras.metrics.Precision()])"
      ],
      "execution_count": 10,
      "outputs": []
    },
    {
      "cell_type": "code",
      "metadata": {
        "colab": {
          "base_uri": "https://localhost:8080/"
        },
        "id": "DcxHJc6-OD5P",
        "outputId": "95054fd6-1cd6-4f6c-de53-79fa2aabfd8c"
      },
      "source": [
        "history = model.fit(\r\n",
        "    X_train, y_train,\r\n",
        "    epochs=40,\r\n",
        "    batch_size=512, # 1000\r\n",
        "    validation_data=(X_val,y_val),\r\n",
        "    verbose=1,\r\n",
        "    shuffle = True , \r\n",
        "    class_weight = {0: 1, 1: 3.5}\r\n",
        ")"
      ],
      "execution_count": 11,
      "outputs": [
        {
          "output_type": "stream",
          "text": [
            "Epoch 1/40\n",
            "693/693 [==============================] - 11s 11ms/step - loss: 0.3846 - accuracy: 0.9072 - recall: 0.3641 - precision: 0.1960 - val_loss: 0.2178 - val_accuracy: 0.9086 - val_recall: 0.4830 - val_precision: 0.1882\n",
            "Epoch 2/40\n",
            "693/693 [==============================] - 7s 9ms/step - loss: 0.2675 - accuracy: 0.9591 - recall: 0.3512 - precision: 0.4044 - val_loss: 0.1598 - val_accuracy: 0.9449 - val_recall: 0.4401 - val_precision: 0.3042\n",
            "Epoch 3/40\n",
            "693/693 [==============================] - 6s 9ms/step - loss: 0.2514 - accuracy: 0.9624 - recall: 0.3749 - precision: 0.4490 - val_loss: 0.1462 - val_accuracy: 0.9608 - val_recall: 0.3483 - val_precision: 0.4296\n",
            "Epoch 4/40\n",
            "693/693 [==============================] - 6s 9ms/step - loss: 0.2450 - accuracy: 0.9638 - recall: 0.3917 - precision: 0.4637 - val_loss: 0.1155 - val_accuracy: 0.9665 - val_recall: 0.3228 - val_precision: 0.5379\n",
            "Epoch 5/40\n",
            "693/693 [==============================] - 7s 10ms/step - loss: 0.2466 - accuracy: 0.9617 - recall: 0.4084 - precision: 0.4469 - val_loss: 0.1380 - val_accuracy: 0.9622 - val_recall: 0.3989 - val_precision: 0.4568\n",
            "Epoch 6/40\n",
            "693/693 [==============================] - 7s 10ms/step - loss: 0.2386 - accuracy: 0.9635 - recall: 0.4165 - precision: 0.4710 - val_loss: 0.1403 - val_accuracy: 0.9574 - val_recall: 0.4589 - val_precision: 0.4060\n",
            "Epoch 7/40\n",
            "693/693 [==============================] - 6s 9ms/step - loss: 0.2350 - accuracy: 0.9647 - recall: 0.4303 - precision: 0.4884 - val_loss: 0.1096 - val_accuracy: 0.9686 - val_recall: 0.3387 - val_precision: 0.5922\n",
            "Epoch 8/40\n",
            "693/693 [==============================] - 6s 9ms/step - loss: 0.2280 - accuracy: 0.9659 - recall: 0.4365 - precision: 0.4993 - val_loss: 0.1123 - val_accuracy: 0.9678 - val_recall: 0.3676 - val_precision: 0.5637\n",
            "Epoch 9/40\n",
            "693/693 [==============================] - 6s 9ms/step - loss: 0.2266 - accuracy: 0.9654 - recall: 0.4557 - precision: 0.4969 - val_loss: 0.1313 - val_accuracy: 0.9617 - val_recall: 0.4380 - val_precision: 0.4537\n",
            "Epoch 10/40\n",
            "693/693 [==============================] - 6s 9ms/step - loss: 0.2232 - accuracy: 0.9663 - recall: 0.4609 - precision: 0.5073 - val_loss: 0.1262 - val_accuracy: 0.9662 - val_recall: 0.4257 - val_precision: 0.5232\n",
            "Epoch 11/40\n",
            "693/693 [==============================] - 6s 9ms/step - loss: 0.2200 - accuracy: 0.9674 - recall: 0.4685 - precision: 0.5275 - val_loss: 0.1477 - val_accuracy: 0.9598 - val_recall: 0.4748 - val_precision: 0.4344\n",
            "Epoch 12/40\n",
            "693/693 [==============================] - 6s 9ms/step - loss: 0.2214 - accuracy: 0.9667 - recall: 0.4810 - precision: 0.5289 - val_loss: 0.1458 - val_accuracy: 0.9534 - val_recall: 0.5083 - val_precision: 0.3790\n",
            "Epoch 13/40\n",
            "693/693 [==============================] - 6s 9ms/step - loss: 0.2165 - accuracy: 0.9669 - recall: 0.4796 - precision: 0.5140 - val_loss: 0.1331 - val_accuracy: 0.9598 - val_recall: 0.4960 - val_precision: 0.4372\n",
            "Epoch 14/40\n",
            "693/693 [==============================] - 6s 9ms/step - loss: 0.2131 - accuracy: 0.9678 - recall: 0.4957 - precision: 0.5330 - val_loss: 0.1176 - val_accuracy: 0.9645 - val_recall: 0.4572 - val_precision: 0.4941\n",
            "Epoch 15/40\n",
            "693/693 [==============================] - 6s 9ms/step - loss: 0.2110 - accuracy: 0.9687 - recall: 0.4990 - precision: 0.5512 - val_loss: 0.1197 - val_accuracy: 0.9679 - val_recall: 0.4351 - val_precision: 0.5554\n",
            "Epoch 16/40\n",
            "693/693 [==============================] - 6s 9ms/step - loss: 0.2062 - accuracy: 0.9691 - recall: 0.5157 - precision: 0.5560 - val_loss: 0.1275 - val_accuracy: 0.9640 - val_recall: 0.4105 - val_precision: 0.4851\n",
            "Epoch 17/40\n",
            "693/693 [==============================] - 6s 9ms/step - loss: 0.2084 - accuracy: 0.9683 - recall: 0.5105 - precision: 0.5442 - val_loss: 0.1425 - val_accuracy: 0.9567 - val_recall: 0.5237 - val_precision: 0.4092\n",
            "Epoch 18/40\n",
            "693/693 [==============================] - 7s 9ms/step - loss: 0.2088 - accuracy: 0.9689 - recall: 0.5119 - precision: 0.5531 - val_loss: 0.1151 - val_accuracy: 0.9653 - val_recall: 0.4621 - val_precision: 0.5063\n",
            "Epoch 19/40\n",
            "693/693 [==============================] - 7s 10ms/step - loss: 0.2047 - accuracy: 0.9692 - recall: 0.5235 - precision: 0.5650 - val_loss: 0.1270 - val_accuracy: 0.9646 - val_recall: 0.4780 - val_precision: 0.4958\n",
            "Epoch 20/40\n",
            "693/693 [==============================] - 7s 9ms/step - loss: 0.2000 - accuracy: 0.9698 - recall: 0.5354 - precision: 0.5712 - val_loss: 0.1092 - val_accuracy: 0.9671 - val_recall: 0.4505 - val_precision: 0.5387\n",
            "Epoch 21/40\n",
            "693/693 [==============================] - 7s 10ms/step - loss: 0.2021 - accuracy: 0.9684 - recall: 0.5341 - precision: 0.5430 - val_loss: 0.1487 - val_accuracy: 0.9556 - val_recall: 0.5457 - val_precision: 0.4029\n",
            "Epoch 22/40\n",
            "693/693 [==============================] - 6s 9ms/step - loss: 0.1995 - accuracy: 0.9706 - recall: 0.5351 - precision: 0.5849 - val_loss: 0.1413 - val_accuracy: 0.9572 - val_recall: 0.5428 - val_precision: 0.4161\n",
            "Epoch 23/40\n",
            "693/693 [==============================] - 7s 9ms/step - loss: 0.1967 - accuracy: 0.9704 - recall: 0.5444 - precision: 0.5789 - val_loss: 0.1291 - val_accuracy: 0.9606 - val_recall: 0.5179 - val_precision: 0.4475\n",
            "Epoch 24/40\n",
            "693/693 [==============================] - 6s 9ms/step - loss: 0.1947 - accuracy: 0.9709 - recall: 0.5459 - precision: 0.5895 - val_loss: 0.1190 - val_accuracy: 0.9669 - val_recall: 0.4833 - val_precision: 0.5317\n",
            "Epoch 25/40\n",
            "693/693 [==============================] - 6s 9ms/step - loss: 0.1941 - accuracy: 0.9709 - recall: 0.5573 - precision: 0.5876 - val_loss: 0.1085 - val_accuracy: 0.9695 - val_recall: 0.4353 - val_precision: 0.5886\n",
            "Epoch 26/40\n",
            "693/693 [==============================] - 6s 9ms/step - loss: 0.1904 - accuracy: 0.9712 - recall: 0.5528 - precision: 0.5805 - val_loss: 0.1096 - val_accuracy: 0.9686 - val_recall: 0.4609 - val_precision: 0.5646\n",
            "Epoch 27/40\n",
            "693/693 [==============================] - 7s 9ms/step - loss: 0.1897 - accuracy: 0.9712 - recall: 0.5679 - precision: 0.5914 - val_loss: 0.1279 - val_accuracy: 0.9634 - val_recall: 0.5213 - val_precision: 0.4807\n",
            "Epoch 28/40\n",
            "693/693 [==============================] - 7s 9ms/step - loss: 0.1866 - accuracy: 0.9721 - recall: 0.5625 - precision: 0.5991 - val_loss: 0.1089 - val_accuracy: 0.9705 - val_recall: 0.4510 - val_precision: 0.6090\n",
            "Epoch 29/40\n",
            "693/693 [==============================] - 6s 9ms/step - loss: 0.1840 - accuracy: 0.9723 - recall: 0.5749 - precision: 0.6027 - val_loss: 0.1026 - val_accuracy: 0.9713 - val_recall: 0.4437 - val_precision: 0.6297\n",
            "Epoch 30/40\n",
            "693/693 [==============================] - 7s 10ms/step - loss: 0.1821 - accuracy: 0.9724 - recall: 0.5721 - precision: 0.5990 - val_loss: 0.0990 - val_accuracy: 0.9727 - val_recall: 0.4095 - val_precision: 0.6869\n",
            "Epoch 31/40\n",
            "693/693 [==============================] - 7s 10ms/step - loss: 0.1796 - accuracy: 0.9732 - recall: 0.5883 - precision: 0.6150 - val_loss: 0.0995 - val_accuracy: 0.9728 - val_recall: 0.3768 - val_precision: 0.7142\n",
            "Epoch 32/40\n",
            "693/693 [==============================] - 7s 10ms/step - loss: 0.1814 - accuracy: 0.9723 - recall: 0.5758 - precision: 0.6003 - val_loss: 0.1122 - val_accuracy: 0.9684 - val_recall: 0.4960 - val_precision: 0.5560\n",
            "Epoch 33/40\n",
            "693/693 [==============================] - 7s 10ms/step - loss: 0.1808 - accuracy: 0.9727 - recall: 0.5877 - precision: 0.6174 - val_loss: 0.1786 - val_accuracy: 0.9360 - val_recall: 0.6100 - val_precision: 0.2990\n",
            "Epoch 34/40\n",
            "693/693 [==============================] - 7s 9ms/step - loss: 0.1801 - accuracy: 0.9724 - recall: 0.5855 - precision: 0.6018 - val_loss: 0.1084 - val_accuracy: 0.9702 - val_recall: 0.4751 - val_precision: 0.5961\n",
            "Epoch 35/40\n",
            "693/693 [==============================] - 7s 9ms/step - loss: 0.1769 - accuracy: 0.9731 - recall: 0.5941 - precision: 0.6171 - val_loss: 0.1078 - val_accuracy: 0.9679 - val_recall: 0.4946 - val_precision: 0.5475\n",
            "Epoch 36/40\n",
            "693/693 [==============================] - 7s 9ms/step - loss: 0.1776 - accuracy: 0.9729 - recall: 0.5988 - precision: 0.6115 - val_loss: 0.1064 - val_accuracy: 0.9705 - val_recall: 0.4353 - val_precision: 0.6123\n",
            "Epoch 37/40\n",
            "693/693 [==============================] - 7s 10ms/step - loss: 0.1746 - accuracy: 0.9732 - recall: 0.5955 - precision: 0.6122 - val_loss: 0.1239 - val_accuracy: 0.9652 - val_recall: 0.5095 - val_precision: 0.5045\n",
            "Epoch 38/40\n",
            "693/693 [==============================] - 7s 10ms/step - loss: 0.1744 - accuracy: 0.9737 - recall: 0.6028 - precision: 0.6239 - val_loss: 0.0976 - val_accuracy: 0.9726 - val_recall: 0.4558 - val_precision: 0.6602\n",
            "Epoch 39/40\n",
            "693/693 [==============================] - 7s 10ms/step - loss: 0.1787 - accuracy: 0.9723 - recall: 0.5924 - precision: 0.5962 - val_loss: 0.1179 - val_accuracy: 0.9653 - val_recall: 0.5440 - val_precision: 0.5064\n",
            "Epoch 40/40\n",
            "693/693 [==============================] - 7s 10ms/step - loss: 0.1726 - accuracy: 0.9737 - recall: 0.6043 - precision: 0.6218 - val_loss: 0.1177 - val_accuracy: 0.9654 - val_recall: 0.5211 - val_precision: 0.5073\n"
          ],
          "name": "stdout"
        }
      ]
    },
    {
      "cell_type": "markdown",
      "metadata": {
        "id": "p-TwZZx0AOxO"
      },
      "source": [
        "# Performance evaluation"
      ]
    },
    {
      "cell_type": "code",
      "metadata": {
        "id": "WKOHvmiVOsaP"
      },
      "source": [
        "# test_loss, test_acc = model.evaluate(X_test, y_test)\r\n",
        "\r\n",
        "# print()\r\n",
        "# print('Test Loss:\\t', test_loss)\r\n",
        "# print('Test Accuracy:\\t', test_acc)"
      ],
      "execution_count": 12,
      "outputs": []
    },
    {
      "cell_type": "code",
      "metadata": {
        "id": "ujQ7C2bhQXLN"
      },
      "source": [
        "y_pred = model.predict(X_test)"
      ],
      "execution_count": 13,
      "outputs": []
    },
    {
      "cell_type": "code",
      "metadata": {
        "colab": {
          "base_uri": "https://localhost:8080/",
          "height": 350
        },
        "id": "TWs-nW4IPaQC",
        "outputId": "b3891b29-e45e-4c80-dee1-add640771cd8"
      },
      "source": [
        "mf.plot_cm(y_test, y_pred,  'Blues')"
      ],
      "execution_count": 15,
      "outputs": [
        {
          "output_type": "display_data",
          "data": {
            "image/png": "[encoded data removed]",
            "text/plain": [
              "<Figure size 360x360 with 2 Axes>"
            ]
          },
          "metadata": {
            "tags": [],
            "needs_background": "light"
          }
        }
      ]
    },
    {
      "cell_type": "code",
      "metadata": {
        "colab": {
          "base_uri": "https://localhost:8080/",
          "height": 297
        },
        "id": "4ivKw-JpPkVG",
        "outputId": "aacfb326-86e3-45b9-c327-da7b8a2056b6"
      },
      "source": [
        "mf.plot_roc(\"ROC curve\", y_test, y_pred,color='blue')"
      ],
      "execution_count": 16,
      "outputs": [
        {
          "output_type": "stream",
          "text": [
            "AUC:  0.8966453955376461\n"
          ],
          "name": "stdout"
        },
        {
          "output_type": "display_data",
          "data": {
            "image/png": "[encoded data removed]",
            "text/plain": [
              "<Figure size 432x288 with 1 Axes>"
            ]
          },
          "metadata": {
            "tags": [],
            "needs_background": "light"
          }
        }
      ]
    },
    {
      "cell_type": "code",
      "metadata": {
        "colab": {
          "base_uri": "https://localhost:8080/",
          "height": 297
        },
        "id": "mbjYisJaYevS",
        "outputId": "9ce371c3-0120-48c8-ce3b-17453b1db3a3"
      },
      "source": [
        "mf.plot_ap('Precision-Recall curve', y_test, y_pred, color = 'red')"
      ],
      "execution_count": 17,
      "outputs": [
        {
          "output_type": "stream",
          "text": [
            "Average precision:  0.5554506866421277\n"
          ],
          "name": "stdout"
        },
        {
          "output_type": "display_data",
          "data": {
            "image/png": "[encoded data removed]",
            "text/plain": [
              "<Figure size 432x288 with 1 Axes>"
            ]
          },
          "metadata": {
            "tags": [],
            "needs_background": "light"
          }
        }
      ]
    },
    {
      "cell_type": "code",
      "metadata": {
        "id": "2G6888leAwmt"
      },
      "source": [
        "y_predicted = []\r\n",
        "for prob in y_pred:\r\n",
        "  if prob >= 0.5:\r\n",
        "    y_predicted.append(1)\r\n",
        "  else:\r\n",
        "    y_predicted.append(0)"
      ],
      "execution_count": 18,
      "outputs": []
    },
    {
      "cell_type": "code",
      "metadata": {
        "id": "9O9ms_BTfptM",
        "colab": {
          "base_uri": "https://localhost:8080/"
        },
        "outputId": "2d752dd3-0ea6-4914-a322-6f4310762cb1"
      },
      "source": [
        "from sklearn.metrics import f1_score, recall_score, precision_score\r\n",
        "print('F1 score: ',f1_score(y_test, y_predicted, average=\"binary\"))\r\n",
        "print('Recall: ', recall_score(y_test, y_predicted, average='binary'))\r\n",
        "print('Precision: ', precision_score(y_test, y_predicted,  average='binary'))"
      ],
      "execution_count": 19,
      "outputs": [
        {
          "output_type": "stream",
          "text": [
            "F1 score:  0.5293499824950403\n",
            "Recall:  0.5331452750352609\n",
            "Precision:  0.5256083429895713\n"
          ],
          "name": "stdout"
        }
      ]
    },
    {
      "cell_type": "code",
      "metadata": {
        "id": "aYR5BCcTm108",
        "outputId": "20dc287a-5aff-4b05-b681-68cf045fdc25",
        "colab": {
          "base_uri": "https://localhost:8080/"
        }
      },
      "source": [
        "save = True\n",
        "if save:\n",
        "  model.save('centralized_mlp')"
      ],
      "execution_count": 21,
      "outputs": [
        {
          "output_type": "stream",
          "text": [
            "INFO:tensorflow:Assets written to: centralized_mlp/assets\n"
          ],
          "name": "stdout"
        }
      ]
    },
    {
      "cell_type": "code",
      "metadata": {
        "id": "bVPdo0GRlcJa"
      },
      "source": [
        ""
      ],
      "execution_count": null,
      "outputs": []
    }
  ]
}