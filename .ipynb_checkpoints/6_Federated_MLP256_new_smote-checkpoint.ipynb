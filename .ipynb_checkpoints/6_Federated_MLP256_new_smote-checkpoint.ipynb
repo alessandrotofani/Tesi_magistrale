{
  "nbformat": 4,
  "nbformat_minor": 0,
  "metadata": {
    "colab": {
      "name": "6_Federated.ipynb",
      "provenance": [],
      "authorship_tag": "ABX9TyMu+VCIRt6eOPcNvsgVxb7w",
      "include_colab_link": true
    },
    "kernelspec": {
      "name": "python3",
      "display_name": "Python 3"
    },
    "accelerator": "GPU"
  },
  "cells": [
    {
      "cell_type": "markdown",
      "metadata": {
        "id": "view-in-github",
        "colab_type": "text"
      },
      "source": [
        "<a href=\"https://colab.research.google.com/github/alessandrotofani/Tesi_magistrale/blob/master/6_Federated_MLP256_new_smote.ipynb\" target=\"_parent\"><img src=\"https://colab.research.google.com/assets/colab-badge.svg\" alt=\"Open In Colab\"/></a>"
      ]
    },
    {
      "cell_type": "markdown",
      "metadata": {
        "id": "2XuZ_oMl43ft"
      },
      "source": [
        "Overview: https://www.tensorflow.org/federated\r\n",
        "\r\n",
        "Image classification tutorial: https://www.tensorflow.org/federated/tutorials/federated_learning_for_image_classification"
      ]
    },
    {
      "cell_type": "markdown",
      "metadata": {
        "id": "qOKJPHxH4j9j"
      },
      "source": [
        "# Installation"
      ]
    },
    {
      "cell_type": "code",
      "metadata": {
        "id": "lgkJJpzD4gVs"
      },
      "source": [
        "!pip install --quiet fastai==2.2.5\r\n",
        "!pip install --quiet folium==0.2.1\r\n",
        "!pip install --quiet imgaug==0.2.5\r\n",
        "!pip install --quiet tensorflow==2.3.0\r\n",
        "!pip install --quiet tensorflow_federated==0.17.0\r\n",
        "!pip install --quiet --upgrade nest_asyncio"
      ],
      "execution_count": 1,
      "outputs": []
    },
    {
      "cell_type": "code",
      "metadata": {
        "id": "C6Oguz1e4p29"
      },
      "source": [
        "import nest_asyncio\r\n",
        "nest_asyncio.apply()\r\n",
        "%load_ext tensorboard"
      ],
      "execution_count": 2,
      "outputs": []
    },
    {
      "cell_type": "code",
      "metadata": {
        "id": "0u_qzOek4tlY",
        "colab": {
          "base_uri": "https://localhost:8080/"
        },
        "outputId": "a96e0467-b2a3-4609-d593-b4cb635f3f69"
      },
      "source": [
        "import collections\r\n",
        "import numpy as np\r\n",
        "import tensorflow as tf\r\n",
        "import tensorflow_federated as tff\r\n",
        "import pandas as pd \r\n",
        "import os\r\n",
        "from google.colab import drive\r\n",
        "drive.mount('/content/drive')"
      ],
      "execution_count": 3,
      "outputs": [
        {
          "output_type": "stream",
          "text": [
            "Drive already mounted at /content/drive; to attempt to forcibly remount, call drive.mount(\"/content/drive\", force_remount=True).\n"
          ],
          "name": "stdout"
        }
      ]
    },
    {
      "cell_type": "code",
      "metadata": {
        "id": "a5VvCBjWmrJC"
      },
      "source": [
        "import sys \n",
        "sys.path.append('/content/drive/MyDrive/Tesi_magistrale/Tesi_magistrale')\n",
        "import mf\n",
        "\n",
        "import warnings\n",
        "warnings.simplefilter(action='ignore', category=FutureWarning)"
      ],
      "execution_count": 4,
      "outputs": []
    },
    {
      "cell_type": "markdown",
      "metadata": {
        "id": "NDXvW9iFxqft"
      },
      "source": [
        "# Import data"
      ]
    },
    {
      "cell_type": "markdown",
      "metadata": {
        "id": "P8nvRkt1yB7_"
      },
      "source": [
        "I dati vengono importati e poi splittati in train e test. "
      ]
    },
    {
      "cell_type": "code",
      "metadata": {
        "id": "nU2jrVgkla8Y"
      },
      "source": [
        "data = pd.read_csv('/content/drive/MyDrive/Tesi_magistrale/Dataset/IEEE/Output/data.csv')"
      ],
      "execution_count": 5,
      "outputs": []
    },
    {
      "cell_type": "code",
      "metadata": {
        "id": "67D33H0kldvF"
      },
      "source": [
        "data = mf.new_processing(data)\n",
        "data = pd.get_dummies(data)"
      ],
      "execution_count": 6,
      "outputs": []
    },
    {
      "cell_type": "code",
      "metadata": {
        "id": "0yGwMV9Us42h"
      },
      "source": [
        "col_name = mf.get_col(data)"
      ],
      "execution_count": 7,
      "outputs": []
    },
    {
      "cell_type": "code",
      "metadata": {
        "colab": {
          "base_uri": "https://localhost:8080/"
        },
        "id": "XtEnrz70T013",
        "outputId": "1c5126e9-4eb8-466c-c3d8-b7ec20cb186e"
      },
      "source": [
        "print('Rate safe/fraud:', (1/mf.ratio(data)).round(3))"
      ],
      "execution_count": 8,
      "outputs": [
        {
          "output_type": "stream",
          "text": [
            "Rate safe/fraud: 0.036\n"
          ],
          "name": "stdout"
        }
      ]
    },
    {
      "cell_type": "code",
      "metadata": {
        "id": "InAYt4jcL1-Y"
      },
      "source": [
        "from sklearn.model_selection import train_test_split\n",
        "train_data, test_data = train_test_split(data, test_size=0.2)"
      ],
      "execution_count": 9,
      "outputs": []
    },
    {
      "cell_type": "markdown",
      "metadata": {
        "id": "Wl58v1U4XyO5"
      },
      "source": [
        "Smote: https://imbalanced-learn.org/stable/generated/imblearn.over_sampling.SMOTE.html\n",
        "\n",
        "RandomUnderSampler: https://imbalanced-learn.org/stable/generated/imblearn.under_sampling.RandomUnderSampler.html"
      ]
    },
    {
      "cell_type": "code",
      "metadata": {
        "id": "y3Jg0KuzJ6qq"
      },
      "source": [
        "def underSampling(data, frac_under=0.05):\n",
        "  from imblearn.under_sampling import RandomUnderSampler \n",
        "  us = RandomUnderSampler(sampling_strategy=frac_under, random_state=42)\n",
        "  y = data['isFraud']\n",
        "  X = data.drop(columns = ['isFraud'])\n",
        "  X_us, y_us = us.fit_resample(X, y)\n",
        "  return X_us, y_us\n",
        "\n",
        "def overSampling(X, y, frac_over=0.1):\n",
        "  from imblearn.over_sampling import SMOTE\n",
        "  sm = SMOTE(sampling_strategy=frac_over, random_state=42)\n",
        "  X_sm, y_sm = sm.fit_resample(X, y)  \n",
        "  return X_sm, y_sm\n",
        "\n",
        "def mergeResult(X, y, col_name):\n",
        "  y_res = np.ndarray(shape=(np.shape(y)[0],1), buffer = y)\n",
        "  data = np.concatenate((X,y_res), axis = 1)\n",
        "  col_name.append('isFraud')\n",
        "  dataset = pd.DataFrame(data=data, columns=col_name)  \n",
        "  return dataset\n",
        "\n",
        "def rate(y):\n",
        "  n_fraud = np.count_nonzero(y == 1)\n",
        "  n_safe = np.shape(y)[0] - n_fraud\n",
        "  return f'Rate safe/fraud: {n_safe/n_fraud}'"
      ],
      "execution_count": 10,
      "outputs": []
    },
    {
      "cell_type": "code",
      "metadata": {
        "id": "v4cddCAqK4pY",
        "colab": {
          "base_uri": "https://localhost:8080/",
          "height": 35
        },
        "outputId": "753f2e8a-934e-4881-8d1a-d17a0ff4de0b"
      },
      "source": [
        "X, y = underSampling(train_data)\n",
        "rate(y)"
      ],
      "execution_count": 11,
      "outputs": [
        {
          "output_type": "execute_result",
          "data": {
            "application/vnd.google.colaboratory.intrinsic+json": {
              "type": "string"
            },
            "text/plain": [
              "'Rate safe/fraud: 20.0'"
            ]
          },
          "metadata": {
            "tags": []
          },
          "execution_count": 11
        }
      ]
    },
    {
      "cell_type": "code",
      "metadata": {
        "id": "LqiPC-MkK_BX",
        "colab": {
          "base_uri": "https://localhost:8080/",
          "height": 35
        },
        "outputId": "cc0ba7ce-c0ed-4ec5-a53f-1f279a3a7ec2"
      },
      "source": [
        "X, y = overSampling(X, y)\n",
        "rate(y)"
      ],
      "execution_count": 12,
      "outputs": [
        {
          "output_type": "execute_result",
          "data": {
            "application/vnd.google.colaboratory.intrinsic+json": {
              "type": "string"
            },
            "text/plain": [
              "'Rate safe/fraud: 10.0'"
            ]
          },
          "metadata": {
            "tags": []
          },
          "execution_count": 12
        }
      ]
    },
    {
      "cell_type": "code",
      "metadata": {
        "id": "CHpsO2hJLFeR"
      },
      "source": [
        "train_data = mergeResult(X, y, col_name)"
      ],
      "execution_count": 13,
      "outputs": []
    },
    {
      "cell_type": "code",
      "metadata": {
        "colab": {
          "base_uri": "https://localhost:8080/"
        },
        "id": "2bpOGbYXMAwY",
        "outputId": "31dab11e-1198-4e7b-c6ba-1d4a5fde1cb4"
      },
      "source": [
        "# print('Rate safe/fraud:', (mf.ratio(train_data)).round(3))\n",
        "print('Dataset size:', train_data.shape[0])"
      ],
      "execution_count": 14,
      "outputs": [
        {
          "output_type": "stream",
          "text": [
            "Dataset size: 363638\n"
          ],
          "name": "stdout"
        }
      ]
    },
    {
      "cell_type": "code",
      "metadata": {
        "id": "GawBnA83QyYj"
      },
      "source": [
        "del data, X, y"
      ],
      "execution_count": 15,
      "outputs": []
    },
    {
      "cell_type": "code",
      "metadata": {
        "id": "AU9MLDmI2b_o",
        "colab": {
          "base_uri": "https://localhost:8080/"
        },
        "outputId": "b81dc7f7-5260-4323-8583-2cd99f8ad7d7"
      },
      "source": [
        "train_data.shape"
      ],
      "execution_count": 16,
      "outputs": [
        {
          "output_type": "execute_result",
          "data": {
            "text/plain": [
              "(363638, 734)"
            ]
          },
          "metadata": {
            "tags": []
          },
          "execution_count": 16
        }
      ]
    },
    {
      "cell_type": "markdown",
      "metadata": {
        "id": "AhZXxAzVxt5B"
      },
      "source": [
        "# Convert data"
      ]
    },
    {
      "cell_type": "markdown",
      "metadata": {
        "id": "KyqEukFeyHXA"
      },
      "source": [
        "Il dataset deve essere convertito in un tensore, con componenti (feature_vector, label). "
      ]
    },
    {
      "cell_type": "code",
      "metadata": {
        "id": "LuQfRXzrqoW2"
      },
      "source": [
        "def to_tensor(data, n_clients = 4):\n",
        "  shuffled = data.sample(frac=1)\n",
        "  result = np.array_split(shuffled, n_clients)  \n",
        "\n",
        "  res = []\n",
        "  label = []\n",
        "\n",
        "  for dataset in result:\n",
        "    label.append(dataset['isFraud'])\n",
        "    res.append(dataset.drop(columns = ['isFraud']))\n",
        "\n",
        "  dataset = {}\n",
        "  for i in range(n_clients):\n",
        "    dataset[i] = tf.data.Dataset.from_tensor_slices((res[i], label[i]))\n",
        "  return dataset"
      ],
      "execution_count": 17,
      "outputs": []
    },
    {
      "cell_type": "code",
      "metadata": {
        "id": "LozyQwZOrCub"
      },
      "source": [
        "dataset = to_tensor(train_data)\n",
        "test_set = to_tensor(test_data)"
      ],
      "execution_count": 18,
      "outputs": []
    },
    {
      "cell_type": "code",
      "metadata": {
        "id": "U0_iMvxDQs6l"
      },
      "source": [
        "del train_data, test_data"
      ],
      "execution_count": 19,
      "outputs": []
    },
    {
      "cell_type": "markdown",
      "metadata": {
        "id": "PbRUraJkxzmR"
      },
      "source": [
        "# Federated data"
      ]
    },
    {
      "cell_type": "markdown",
      "metadata": {
        "id": "wWq8QN4vyP1t"
      },
      "source": [
        "Si definisce la funzione di preprocessing del dataset, che serve a creare l'OrderedDict, su cui si andranno a creare le batch necessarie per il training del modello. "
      ]
    },
    {
      "cell_type": "code",
      "metadata": {
        "id": "vHxlJrXRs9qP"
      },
      "source": [
        "NUM_CLIENTS = 4\n",
        "NUM_EPOCHS = 10\n",
        "BATCH_SIZE = 250\n",
        "SHUFFLE_BUFFER = 10\n",
        "PREFETCH_BUFFER = 10\n",
        "\n",
        "def preprocess(dataset):\n",
        "  def batch_format_fn(e1, e2):\n",
        "    return collections.OrderedDict(\n",
        "        x = tf.cast(e1, tf.float32),\n",
        "        y = tf.cast(e2, tf.int32))\n",
        "  return dataset.repeat(NUM_EPOCHS).shuffle(SHUFFLE_BUFFER).batch(\n",
        "      BATCH_SIZE).map(batch_format_fn).prefetch(PREFETCH_BUFFER)\n",
        "\n",
        "preprocessed_example_dataset = preprocess(dataset[0])"
      ],
      "execution_count": 20,
      "outputs": []
    },
    {
      "cell_type": "markdown",
      "metadata": {
        "id": "tcIsH9tRyc0p"
      },
      "source": [
        "I dati federati sono una lista di dataset divisi per cliente. "
      ]
    },
    {
      "cell_type": "code",
      "metadata": {
        "id": "6coH5NXYrQ8A",
        "colab": {
          "base_uri": "https://localhost:8080/"
        },
        "outputId": "0de8d99a-d8f4-47d1-801f-08b308190168"
      },
      "source": [
        "def make_federated_data(dataset):\n",
        "  federated = []\n",
        "  for i in dataset:\n",
        "    federated.append(preprocess(dataset[i]))\n",
        "  return federated\n",
        "\n",
        "federated_train_data = make_federated_data(dataset)\n",
        "\n",
        "print('Number of client datasets: {l}'.format(l=len(federated_train_data)))\n",
        "print('First dataset: {d}'.format(d=federated_train_data[0]))"
      ],
      "execution_count": 21,
      "outputs": [
        {
          "output_type": "stream",
          "text": [
            "Number of client datasets: 4\n",
            "First dataset: <PrefetchDataset shapes: OrderedDict([(x, (None, 733)), (y, (None,))]), types: OrderedDict([(x, tf.float32), (y, tf.int32)])>\n"
          ],
          "name": "stdout"
        }
      ]
    },
    {
      "cell_type": "code",
      "metadata": {
        "id": "doNQKip2REvH"
      },
      "source": [
        "del dataset"
      ],
      "execution_count": 22,
      "outputs": []
    },
    {
      "cell_type": "markdown",
      "metadata": {
        "id": "57xoboqEx25g"
      },
      "source": [
        "# Model creation and training"
      ]
    },
    {
      "cell_type": "markdown",
      "metadata": {
        "id": "oACFRKebyl3u"
      },
      "source": [
        "Creazione della rete neurale che sarà trainata. \n",
        "\n",
        "Viene anche definita la model function, in cui si specifica il modello, il tipo di input, la loss e le metriche da utilizzare. \n",
        "\n",
        "Infine si costruisce il processo di averaging, specificando l'optimizer da usare, cioè SGD, e il learning rate del server e del client. \n",
        "\n",
        "BatchNormalization Layer: https://stackoverflow.com/questions/56514398/why-the-tensorflow-federated-performance-is-worse-than-single-keras-model"
      ]
    },
    {
      "cell_type": "code",
      "metadata": {
        "id": "F4A7FqBv8G7f"
      },
      "source": [
        "from tensorflow import keras\n",
        "from tensorflow.keras.models import Sequential\n",
        "from tensorflow.keras.layers import Flatten, Dense, Dropout, Input, BatchNormalization\n",
        "\n",
        "def create_keras_model():\n",
        "  model = Sequential()\n",
        "  model.add(Input(shape=(733,)))   \n",
        "  model.add(Dense(256, activation='relu')) \n",
        "  # model.add(BatchNormalization())\n",
        "  model.add(Dropout(0.02))\n",
        "  model.add(Dense(1, activation='sigmoid'))\n",
        "  return model\n",
        "\n",
        "def model_fn():\n",
        "  soglia = 0.5\n",
        "  keras_model = create_keras_model()\n",
        "  return tff.learning.from_keras_model(\n",
        "      keras_model,\n",
        "      input_spec=preprocessed_example_dataset.element_spec,\n",
        "      loss=tf.keras.losses.BinaryCrossentropy(),\n",
        "      metrics=[tf.keras.metrics.BinaryAccuracy(), \n",
        "               tf.keras.metrics.Recall(thresholds=soglia),\n",
        "               tf.keras.metrics.Precision(thresholds=soglia)])\n",
        "  \n",
        "iterative_process = tff.learning.build_federated_averaging_process(\n",
        "    model_fn,  \n",
        "    client_optimizer_fn=lambda: tf.keras.optimizers.SGD(learning_rate=0.05, momentum=0.6), #0.05\n",
        "    server_optimizer_fn=lambda: tf.keras.optimizers.SGD(learning_rate=1)) "
      ],
      "execution_count": 23,
      "outputs": []
    },
    {
      "cell_type": "markdown",
      "metadata": {
        "id": "GUUQi8kdzB3_"
      },
      "source": [
        "Training del modello. \n",
        "\n",
        "Gpu usage: https://colab.research.google.com/notebooks/gpu.ipynb#scrollTo=Y04m-jvKRDsJ"
      ]
    },
    {
      "cell_type": "code",
      "metadata": {
        "id": "vjLvHl-fA7wW",
        "colab": {
          "base_uri": "https://localhost:8080/"
        },
        "outputId": "0ef572be-577f-4561-822d-6cd148636408"
      },
      "source": [
        "NUM_ROUNDS = 40\n",
        "state = iterative_process.initialize()\n",
        "for round_num in range(1, NUM_ROUNDS + 1):\n",
        "  state, metrics = iterative_process.next(state, federated_train_data)\n",
        "  print('round {:2d}, metrics={}'.format(round_num, metrics))"
      ],
      "execution_count": 24,
      "outputs": [
        {
          "output_type": "stream",
          "text": [
            "round  1, metrics=OrderedDict([('broadcast', ()), ('aggregation', OrderedDict([('value_sum_process', ()), ('weight_sum_process', ())])), ('train', OrderedDict([('binary_accuracy', 0.91484034), ('recall', 0.12346785), ('precision', 0.67221135), ('loss', 0.24280807)]))])\n",
            "round  2, metrics=OrderedDict([('broadcast', ()), ('aggregation', OrderedDict([('value_sum_process', ()), ('weight_sum_process', ())])), ('train', OrderedDict([('binary_accuracy', 0.9205126), ('recall', 0.20488232), ('precision', 0.721138), ('loss', 0.22508182)]))])\n",
            "round  3, metrics=OrderedDict([('broadcast', ()), ('aggregation', OrderedDict([('value_sum_process', ()), ('weight_sum_process', ())])), ('train', OrderedDict([('binary_accuracy', 0.924224), ('recall', 0.25577772), ('precision', 0.74123585), ('loss', 0.21507072)]))])\n",
            "round  4, metrics=OrderedDict([('broadcast', ()), ('aggregation', OrderedDict([('value_sum_process', ()), ('weight_sum_process', ())])), ('train', OrderedDict([('binary_accuracy', 0.9267892), ('recall', 0.2884506), ('precision', 0.75468534), ('loss', 0.20779842)]))])\n",
            "round  5, metrics=OrderedDict([('broadcast', ()), ('aggregation', OrderedDict([('value_sum_process', ()), ('weight_sum_process', ())])), ('train', OrderedDict([('binary_accuracy', 0.9287972), ('recall', 0.31382418), ('precision', 0.7638232), ('loss', 0.20195302)]))])\n",
            "round  6, metrics=OrderedDict([('broadcast', ()), ('aggregation', OrderedDict([('value_sum_process', ()), ('weight_sum_process', ())])), ('train', OrderedDict([('binary_accuracy', 0.9306486), ('recall', 0.33676872), ('precision', 0.77174073), ('loss', 0.1968926)]))])\n",
            "round  7, metrics=OrderedDict([('broadcast', ()), ('aggregation', OrderedDict([('value_sum_process', ()), ('weight_sum_process', ())])), ('train', OrderedDict([('binary_accuracy', 0.93219924), ('recall', 0.3555841), ('precision', 0.7781713), ('loss', 0.19257264)]))])\n",
            "round  8, metrics=OrderedDict([('broadcast', ()), ('aggregation', OrderedDict([('value_sum_process', ()), ('weight_sum_process', ())])), ('train', OrderedDict([('binary_accuracy', 0.9334787), ('recall', 0.37133825), ('precision', 0.78275925), ('loss', 0.18878642)]))])\n",
            "round  9, metrics=OrderedDict([('broadcast', ()), ('aggregation', OrderedDict([('value_sum_process', ()), ('weight_sum_process', ())])), ('train', OrderedDict([('binary_accuracy', 0.93475384), ('recall', 0.38681105), ('precision', 0.7873407), ('loss', 0.18536866)]))])\n",
            "round 10, metrics=OrderedDict([('broadcast', ()), ('aggregation', OrderedDict([('value_sum_process', ()), ('weight_sum_process', ())])), ('train', OrderedDict([('binary_accuracy', 0.93589026), ('recall', 0.40001816), ('precision', 0.79178745), ('loss', 0.18218726)]))])\n",
            "round 11, metrics=OrderedDict([('broadcast', ()), ('aggregation', OrderedDict([('value_sum_process', ()), ('weight_sum_process', ())])), ('train', OrderedDict([('binary_accuracy', 0.9369725), ('recall', 0.4123964), ('precision', 0.79603183), ('loss', 0.17938815)]))])\n",
            "round 12, metrics=OrderedDict([('broadcast', ()), ('aggregation', OrderedDict([('value_sum_process', ()), ('weight_sum_process', ())])), ('train', OrderedDict([('binary_accuracy', 0.93794626), ('recall', 0.42392159), ('precision', 0.79922897), ('loss', 0.17675127)]))])\n",
            "round 13, metrics=OrderedDict([('broadcast', ()), ('aggregation', OrderedDict([('value_sum_process', ()), ('weight_sum_process', ())])), ('train', OrderedDict([('binary_accuracy', 0.93883073), ('recall', 0.43469357), ('precision', 0.8017061), ('loss', 0.17427981)]))])\n",
            "round 14, metrics=OrderedDict([('broadcast', ()), ('aggregation', OrderedDict([('value_sum_process', ()), ('weight_sum_process', ())])), ('train', OrderedDict([('binary_accuracy', 0.9396532), ('recall', 0.44406196), ('precision', 0.80460185), ('loss', 0.17193906)]))])\n",
            "round 15, metrics=OrderedDict([('broadcast', ()), ('aggregation', OrderedDict([('value_sum_process', ()), ('weight_sum_process', ())])), ('train', OrderedDict([('binary_accuracy', 0.94050956), ('recall', 0.45362392), ('precision', 0.80769897), ('loss', 0.16983399)]))])\n",
            "round 16, metrics=OrderedDict([('broadcast', ()), ('aggregation', OrderedDict([('value_sum_process', ()), ('weight_sum_process', ())])), ('train', OrderedDict([('binary_accuracy', 0.9411466), ('recall', 0.461625), ('precision', 0.8089995), ('loss', 0.16790414)]))])\n",
            "round 17, metrics=OrderedDict([('broadcast', ()), ('aggregation', OrderedDict([('value_sum_process', ()), ('weight_sum_process', ())])), ('train', OrderedDict([('binary_accuracy', 0.94179994), ('recall', 0.46945065), ('precision', 0.8106763), ('loss', 0.16604605)]))])\n",
            "round 18, metrics=OrderedDict([('broadcast', ()), ('aggregation', OrderedDict([('value_sum_process', ()), ('weight_sum_process', ())])), ('train', OrderedDict([('binary_accuracy', 0.9424651), ('recall', 0.47654122), ('precision', 0.81326854), ('loss', 0.16431382)]))])\n",
            "round 19, metrics=OrderedDict([('broadcast', ()), ('aggregation', OrderedDict([('value_sum_process', ()), ('weight_sum_process', ())])), ('train', OrderedDict([('binary_accuracy', 0.94307876), ('recall', 0.48369533), ('precision', 0.81495976), ('loss', 0.1625967)]))])\n",
            "round 20, metrics=OrderedDict([('broadcast', ()), ('aggregation', OrderedDict([('value_sum_process', ()), ('weight_sum_process', ())])), ('train', OrderedDict([('binary_accuracy', 0.94368166), ('recall', 0.490922), ('precision', 0.81638825), ('loss', 0.16098896)]))])\n",
            "round 21, metrics=OrderedDict([('broadcast', ()), ('aggregation', OrderedDict([('value_sum_process', ()), ('weight_sum_process', ())])), ('train', OrderedDict([('binary_accuracy', 0.94417036), ('recall', 0.4966483), ('precision', 0.81765574), ('loss', 0.15953672)]))])\n",
            "round 22, metrics=OrderedDict([('broadcast', ()), ('aggregation', OrderedDict([('value_sum_process', ()), ('weight_sum_process', ())])), ('train', OrderedDict([('binary_accuracy', 0.9447283), ('recall', 0.5026196), ('precision', 0.8196532), ('loss', 0.1579199)]))])\n",
            "round 23, metrics=OrderedDict([('broadcast', ()), ('aggregation', OrderedDict([('value_sum_process', ()), ('weight_sum_process', ())])), ('train', OrderedDict([('binary_accuracy', 0.9451935), ('recall', 0.5078498), ('precision', 0.8209977), ('loss', 0.15660991)]))])\n",
            "round 24, metrics=OrderedDict([('broadcast', ()), ('aggregation', OrderedDict([('value_sum_process', ()), ('weight_sum_process', ())])), ('train', OrderedDict([('binary_accuracy', 0.9456667), ('recall', 0.51351565), ('precision', 0.8220289), ('loss', 0.1552753)]))])\n",
            "round 25, metrics=OrderedDict([('broadcast', ()), ('aggregation', OrderedDict([('value_sum_process', ()), ('weight_sum_process', ())])), ('train', OrderedDict([('binary_accuracy', 0.94615), ('recall', 0.5183617), ('precision', 0.8240363), ('loss', 0.15388109)]))])\n",
            "round 26, metrics=OrderedDict([('broadcast', ()), ('aggregation', OrderedDict([('value_sum_process', ()), ('weight_sum_process', ())])), ('train', OrderedDict([('binary_accuracy', 0.9464996), ('recall', 0.52281445), ('precision', 0.8244661), ('loss', 0.15266855)]))])\n",
            "round 27, metrics=OrderedDict([('broadcast', ()), ('aggregation', OrderedDict([('value_sum_process', ()), ('weight_sum_process', ())])), ('train', OrderedDict([('binary_accuracy', 0.94694734), ('recall', 0.5277936), ('precision', 0.82575935), ('loss', 0.15147719)]))])\n",
            "round 28, metrics=OrderedDict([('broadcast', ()), ('aggregation', OrderedDict([('value_sum_process', ()), ('weight_sum_process', ())])), ('train', OrderedDict([('binary_accuracy', 0.9472081), ('recall', 0.53111196), ('precision', 0.82606035), ('loss', 0.15039246)]))])\n",
            "round 29, metrics=OrderedDict([('broadcast', ()), ('aggregation', OrderedDict([('value_sum_process', ()), ('weight_sum_process', ())])), ('train', OrderedDict([('binary_accuracy', 0.9476301), ('recall', 0.5357009), ('precision', 0.8274013), ('loss', 0.14916211)]))])\n",
            "round 30, metrics=OrderedDict([('broadcast', ()), ('aggregation', OrderedDict([('value_sum_process', ()), ('weight_sum_process', ())])), ('train', OrderedDict([('binary_accuracy', 0.948123), ('recall', 0.54059833), ('precision', 0.8293239), ('loss', 0.14797689)]))])\n",
            "round 31, metrics=OrderedDict([('broadcast', ()), ('aggregation', OrderedDict([('value_sum_process', ()), ('weight_sum_process', ())])), ('train', OrderedDict([('binary_accuracy', 0.9484583), ('recall', 0.5442283), ('precision', 0.8303419), ('loss', 0.1470338)]))])\n",
            "round 32, metrics=OrderedDict([('broadcast', ()), ('aggregation', OrderedDict([('value_sum_process', ()), ('weight_sum_process', ())])), ('train', OrderedDict([('binary_accuracy', 0.9488069), ('recall', 0.5484179), ('precision', 0.830966), ('loss', 0.14580818)]))])\n",
            "round 33, metrics=OrderedDict([('broadcast', ()), ('aggregation', OrderedDict([('value_sum_process', ()), ('weight_sum_process', ())])), ('train', OrderedDict([('binary_accuracy', 0.949056), ('recall', 0.5511283), ('precision', 0.8316839), ('loss', 0.14503427)]))])\n",
            "round 34, metrics=OrderedDict([('broadcast', ()), ('aggregation', OrderedDict([('value_sum_process', ()), ('weight_sum_process', ())])), ('train', OrderedDict([('binary_accuracy', 0.9494984), ('recall', 0.55558413), ('precision', 0.8333825), ('loss', 0.14401837)]))])\n",
            "round 35, metrics=OrderedDict([('broadcast', ()), ('aggregation', OrderedDict([('value_sum_process', ()), ('weight_sum_process', ())])), ('train', OrderedDict([('binary_accuracy', 0.94977355), ('recall', 0.55886626), ('precision', 0.83383733), ('loss', 0.1431047)]))])\n",
            "round 36, metrics=OrderedDict([('broadcast', ()), ('aggregation', OrderedDict([('value_sum_process', ()), ('weight_sum_process', ())])), ('train', OrderedDict([('binary_accuracy', 0.95013684), ('recall', 0.56278056), ('precision', 0.83489954), ('loss', 0.14216645)]))])\n",
            "round 37, metrics=OrderedDict([('broadcast', ()), ('aggregation', OrderedDict([('value_sum_process', ()), ('weight_sum_process', ())])), ('train', OrderedDict([('binary_accuracy', 0.95045817), ('recall', 0.5663228), ('precision', 0.83574396), ('loss', 0.14112762)]))])\n",
            "round 38, metrics=OrderedDict([('broadcast', ()), ('aggregation', OrderedDict([('value_sum_process', ()), ('weight_sum_process', ())])), ('train', OrderedDict([('binary_accuracy', 0.95070076), ('recall', 0.56915116), ('precision', 0.8362334), ('loss', 0.1405276)]))])\n",
            "round 39, metrics=OrderedDict([('broadcast', ()), ('aggregation', OrderedDict([('value_sum_process', ()), ('weight_sum_process', ())])), ('train', OrderedDict([('binary_accuracy', 0.950983), ('recall', 0.5719856), ('precision', 0.8372349), ('loss', 0.13963014)]))])\n",
            "round 40, metrics=OrderedDict([('broadcast', ()), ('aggregation', OrderedDict([('value_sum_process', ()), ('weight_sum_process', ())])), ('train', OrderedDict([('binary_accuracy', 0.95135653), ('recall', 0.57574564), ('precision', 0.83859855), ('loss', 0.1386694)]))])\n"
          ],
          "name": "stdout"
        }
      ]
    },
    {
      "cell_type": "markdown",
      "metadata": {
        "id": "PA4yp86ex9NK"
      },
      "source": [
        "# Model evaluation"
      ]
    },
    {
      "cell_type": "markdown",
      "metadata": {
        "id": "LZ_L_WaVzGX4"
      },
      "source": [
        "Evaluation del modello sui test data. "
      ]
    },
    {
      "cell_type": "code",
      "metadata": {
        "id": "j-43k3etjd8P"
      },
      "source": [
        "evaluation = tff.learning.build_federated_evaluation(model_fn)\n",
        "train_metrics = evaluation(state.model, federated_train_data)"
      ],
      "execution_count": 25,
      "outputs": []
    },
    {
      "cell_type": "code",
      "metadata": {
        "id": "ECb3PNHFjk_k"
      },
      "source": [
        "federated_test_data = make_federated_data(test_set)"
      ],
      "execution_count": 26,
      "outputs": []
    },
    {
      "cell_type": "code",
      "metadata": {
        "id": "GoNPIG8Qj0G8",
        "colab": {
          "base_uri": "https://localhost:8080/",
          "height": 35
        },
        "outputId": "e2ef9c9a-d74d-4400-a4ed-d52be39c59b3"
      },
      "source": [
        "test_metrics = evaluation(state.model, federated_test_data)\n",
        "str(test_metrics)"
      ],
      "execution_count": 27,
      "outputs": [
        {
          "output_type": "execute_result",
          "data": {
            "application/vnd.google.colaboratory.intrinsic+json": {
              "type": "string"
            },
            "text/plain": [
              "\"OrderedDict([('binary_accuracy', 0.96886307), ('recall', 0.4773772), ('precision', 0.56516755), ('loss', 0.106665425)])\""
            ]
          },
          "metadata": {
            "tags": []
          },
          "execution_count": 27
        }
      ]
    },
    {
      "cell_type": "markdown",
      "metadata": {
        "id": "m2TBCVOYzJal"
      },
      "source": [
        "Board di tensorboad, per visualizzare la loss e le metriche in modo interattivo. "
      ]
    },
    {
      "cell_type": "code",
      "metadata": {
        "id": "ezubvjWqluK-"
      },
      "source": [
        "# logdir = \"/tmp/logs/scalars/training/\"\n",
        "# summary_writer = tf.summary.create_file_writer(logdir)\n",
        "# state = iterative_process.initialize()\n",
        "# with summary_writer.as_default():\n",
        "#   for round_num in range(1, NUM_ROUNDS):\n",
        "#     state, metrics = iterative_process.next(state, federated_train_data)\n",
        "#     for name, value in metrics['train'].items():\n",
        "#       tf.summary.scalar(name, value, step=round_num)"
      ],
      "execution_count": 28,
      "outputs": []
    },
    {
      "cell_type": "code",
      "metadata": {
        "id": "pM1FgnQao2-h"
      },
      "source": [
        "# !ls {logdir}\n",
        "# %tensorboard --logdir {logdir} --port=0"
      ],
      "execution_count": 29,
      "outputs": []
    }
  ]
}