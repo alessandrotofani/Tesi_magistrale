{
  "nbformat": 4,
  "nbformat_minor": 0,
  "metadata": {
    "colab": {
      "name": "3_Autoencoder.ipynb",
      "provenance": [],
      "authorship_tag": "ABX9TyPWieqsEp8rUMiITG85ZdjA",
      "include_colab_link": true
    },
    "kernelspec": {
      "name": "python3",
      "display_name": "Python 3"
    },
    "accelerator": "GPU"
  },
  "cells": [
    {
      "cell_type": "markdown",
      "metadata": {
        "id": "view-in-github",
        "colab_type": "text"
      },
      "source": [
        "<a href=\"https://colab.research.google.com/github/alessandrotofani/Tesi_magistrale/blob/master/3_Autoencoder.ipynb\" target=\"_parent\"><img src=\"https://colab.research.google.com/assets/colab-badge.svg\" alt=\"Open In Colab\"/></a>"
      ]
    },
    {
      "cell_type": "markdown",
      "metadata": {
        "id": "8-eTUKS6D9Fs"
      },
      "source": [
        "# Import"
      ]
    },
    {
      "cell_type": "code",
      "metadata": {
        "colab": {
          "base_uri": "https://localhost:8080/"
        },
        "id": "xtV-QCEPDVju",
        "outputId": "39da6df3-de80-4491-cefd-0145e5bbfd89"
      },
      "source": [
        "import numpy as np # linear algebra\r\n",
        "import pandas as pd # data processing\r\n",
        "import matplotlib\r\n",
        "import matplotlib.pyplot as plt\r\n",
        "import seaborn as sns\r\n",
        "import os\r\n",
        "from google.colab import drive\r\n",
        "drive.mount('/content/drive')\r\n",
        "from sklearn.model_selection import train_test_split\r\n",
        "\r\n",
        "\r\n",
        "for dirname, _, filenames in os.walk('/content/drive/MyDrive/Tesi_magistrale/Dataset/IEEE'):\r\n",
        "    for filename in filenames:\r\n",
        "        print(os.path.join(dirname, filename))"
      ],
      "execution_count": 1,
      "outputs": [
        {
          "output_type": "stream",
          "text": [
            "Drive already mounted at /content/drive; to attempt to forcibly remount, call drive.mount(\"/content/drive\", force_remount=True).\n",
            "/content/drive/MyDrive/Tesi_magistrale/Dataset/IEEE/train_transaction.csv\n",
            "/content/drive/MyDrive/Tesi_magistrale/Dataset/IEEE/train_identity.csv\n",
            "/content/drive/MyDrive/Tesi_magistrale/Dataset/IEEE/Output/original_data.csv\n",
            "/content/drive/MyDrive/Tesi_magistrale/Dataset/IEEE/Output/num_sign_col.txt\n",
            "/content/drive/MyDrive/Tesi_magistrale/Dataset/IEEE/Output/fitted.csv\n",
            "/content/drive/MyDrive/Tesi_magistrale/Dataset/IEEE/Output/num_sign_col_mice.txt\n",
            "/content/drive/MyDrive/Tesi_magistrale/Dataset/IEEE/Output/cat_sign_col.txt\n",
            "/content/drive/MyDrive/Tesi_magistrale/Dataset/IEEE/Output/corr_data.csv\n",
            "/content/drive/MyDrive/Tesi_magistrale/Dataset/IEEE/Output/data.csv\n",
            "/content/drive/MyDrive/Tesi_magistrale/Dataset/IEEE/Output/fitted_old/fitted.csv\n",
            "/content/drive/MyDrive/Tesi_magistrale/Dataset/IEEE/Output/fitted_old/cat_sign_col.txt\n",
            "/content/drive/MyDrive/Tesi_magistrale/Dataset/IEEE/Output/fitted_old/num_sign_col_mice.txt\n",
            "/content/drive/MyDrive/Tesi_magistrale/Dataset/IEEE/Output/fitted_old/readme.txt\n",
            "/content/drive/MyDrive/Tesi_magistrale/Dataset/IEEE/Output/modelli/catboost\n",
            "/content/drive/MyDrive/Tesi_magistrale/Dataset/IEEE/Output/modelli/catboost_class_weights\n"
          ],
          "name": "stdout"
        }
      ]
    },
    {
      "cell_type": "code",
      "metadata": {
        "id": "QSvV9n8XDd1_"
      },
      "source": [
        "import sys \r\n",
        "sys.path.append('/content/drive/MyDrive/Tesi_magistrale/Tesi_magistrale')\r\n",
        "import mf"
      ],
      "execution_count": 2,
      "outputs": []
    },
    {
      "cell_type": "markdown",
      "metadata": {
        "id": "k5aTQo_7D3KW"
      },
      "source": [
        "# Preprocessing"
      ]
    },
    {
      "cell_type": "markdown",
      "metadata": {
        "id": "snsMJMlJ3Dcu"
      },
      "source": [
        "## Feature scaling"
      ]
    },
    {
      "cell_type": "markdown",
      "metadata": {
        "id": "fkebeV1E5pX-"
      },
      "source": [
        "Implemento il min max scaling delle features. \r\n",
        "\r\n",
        "Riferimento: https://towardsdatascience.com/data-normalization-with-pandas-and-scikit-learn-7c1cc6ed6475"
      ]
    },
    {
      "cell_type": "code",
      "metadata": {
        "id": "Kiu5JWhDvX3C"
      },
      "source": [
        "if not os.path.isfile('/content/drive/MyDrive/Tesi_magistrale/Dataset/IEEE/Output/corr_data.csv'):\r\n",
        "  correlation_data = min_max_scaling(correlation_data)\r\n",
        "  correlation_data.to_csv(r'./corr_data.csv')\r\n",
        "\r\n",
        "if not os.path.isfile('/content/drive/MyDrive/Tesi_magistrale/Dataset/IEEE/Output/data.csv'):\r\n",
        "  correlation_data = pd.read_csv('/content/drive/MyDrive/Tesi_magistrale/Dataset/IEEE/Output/corr_data.csv')"
      ],
      "execution_count": 3,
      "outputs": []
    },
    {
      "cell_type": "markdown",
      "metadata": {
        "id": "Wm21M5BTc2-v"
      },
      "source": [
        "Riferimento `save_model` e `load_model`: https://stackoverflow.com/questions/56107259/how-to-save-a-trained-model-by-scikit-learn\r\n",
        "\r\n",
        "Riferimento confusion matrix: https://scikit-learn.org/stable/auto_examples/model_selection/plot_confusion_matrix.html\r\n"
      ]
    },
    {
      "cell_type": "markdown",
      "metadata": {
        "id": "FpbwsvUFX0iY"
      },
      "source": [
        "### Dataset merging"
      ]
    },
    {
      "cell_type": "markdown",
      "metadata": {
        "id": "6-XUASHDX0iY"
      },
      "source": [
        "Funzione che ritorna la lista delle colonne significative. "
      ]
    },
    {
      "cell_type": "code",
      "metadata": {
        "id": "fUhFjfNyHixl"
      },
      "source": [
        "import warnings\r\n",
        "warnings.simplefilter(action='ignore', category=FutureWarning) # serve per ignorare i FutureWarning"
      ],
      "execution_count": 4,
      "outputs": []
    },
    {
      "cell_type": "markdown",
      "metadata": {
        "id": "P_aHaIF0QR8W"
      },
      "source": [
        "Rimpiazzo i missing values in categorical data con unknown. \r\n",
        "\r\n",
        "Unisco i dataset numerici e categorici nel dataframe data. \r\n",
        "\r\n",
        "Riferimento fillna: https://jamesrledoux.com/code/imputation"
      ]
    },
    {
      "cell_type": "code",
      "metadata": {
        "id": "3CA67WePVnds"
      },
      "source": [
        "if not os.path.isfile('/content/drive/MyDrive/Tesi_magistrale/Dataset/IEEE/Output/data.csv'):\r\n",
        "  col_to_drop = col_not_sign(categorical_data, cat_sign_col)\r\n",
        "  categorical_data = categorical_data.drop(col_to_drop, axis=1)\r\n",
        "  categorical_data = categorical_data.fillna('unknown')\r\n",
        "  data = pd.merge(correlation_data, categorical_data, left_on='TransactionID', right_on='TransactionID', how='left')\r\n",
        "  del correlation_data, categorical_data, numerical_data\r\n",
        "  data.to_csv(r'./data.csv')\r\n",
        "\r\n",
        "data = pd.read_csv('/content/drive/MyDrive/Tesi_magistrale/Dataset/IEEE/Output/data.csv')\r\n",
        "data.drop(data.columns[data.columns.str.contains('unnamed',case = False)],axis = 1, inplace = True)"
      ],
      "execution_count": 5,
      "outputs": []
    },
    {
      "cell_type": "markdown",
      "metadata": {
        "id": "jacF5JtkXHvp"
      },
      "source": [
        "## One hot encoding"
      ]
    },
    {
      "cell_type": "markdown",
      "metadata": {
        "id": "0YusuKvQSS-V"
      },
      "source": [
        "One hot encoding delle features categoriche. Serve per lo smote e easy ensemble. \r\n",
        "\r\n",
        "Bisogna farlo prima dello split del dataset poichè rischio di perdere delle colonne. "
      ]
    },
    {
      "cell_type": "code",
      "metadata": {
        "id": "uDzEOd7O-E03"
      },
      "source": [
        "data = pd.get_dummies(data)"
      ],
      "execution_count": 6,
      "outputs": []
    },
    {
      "cell_type": "code",
      "metadata": {
        "id": "ouq64I1r5lkR"
      },
      "source": [
        "cols = mf.get_col(data)"
      ],
      "execution_count": 7,
      "outputs": []
    },
    {
      "cell_type": "markdown",
      "metadata": {
        "id": "SMz_bK6DTJRl"
      },
      "source": [
        "Seleziono i dati appartenenti ai primi 60 giorni. \r\n",
        "\r\n",
        "Se ne seleziono di più, l'easy ensemble non va. "
      ]
    },
    {
      "cell_type": "code",
      "metadata": {
        "id": "dhRSkafFKcEn"
      },
      "source": [
        "data = mf.select_days(data, 60)"
      ],
      "execution_count": 8,
      "outputs": []
    },
    {
      "cell_type": "markdown",
      "metadata": {
        "id": "9Li-JBOzcNjL"
      },
      "source": [
        "## Time scaling"
      ]
    },
    {
      "cell_type": "code",
      "metadata": {
        "id": "nbBciwGXTU6j"
      },
      "source": [
        "from sklearn import preprocessing\r\n",
        "\r\n",
        "min_max_scaler = preprocessing.MinMaxScaler()\r\n",
        "time = data['TransactionDT'].values.reshape(-1,1)\r\n",
        "data['TransactionDT'] = min_max_scaler.fit_transform(time)"
      ],
      "execution_count": 9,
      "outputs": []
    },
    {
      "cell_type": "markdown",
      "metadata": {
        "id": "WLwNC-RfdpGF"
      },
      "source": [
        "## Train validation test split"
      ]
    },
    {
      "cell_type": "code",
      "metadata": {
        "id": "PhL83KaZjNkI"
      },
      "source": [
        "data.drop(columns=['TransactionID'], inplace=True)"
      ],
      "execution_count": 10,
      "outputs": []
    },
    {
      "cell_type": "code",
      "metadata": {
        "id": "uVJxf4nfd3Ed"
      },
      "source": [
        "safe = data[data['isFraud'] == 0]\r\n",
        "fraud = data[data['isFraud'] == 1]\r\n",
        "# fraud.drop(columns=['isFraud'], inplace=True)\r\n",
        "del data"
      ],
      "execution_count": 11,
      "outputs": []
    },
    {
      "cell_type": "markdown",
      "metadata": {
        "id": "m8EkabwNTN1C"
      },
      "source": [
        "Splitto il dataset in train, validation e test set. "
      ]
    },
    {
      "cell_type": "code",
      "metadata": {
        "id": "0cz8y-FhBpi9"
      },
      "source": [
        "X_train, X_val, y_train, y_val = mf.split(safe, test_size = 0.2)\r\n",
        "del safe\r\n",
        "X_train, X_test, y_train, y_test = train_test_split(X_train, y_train, test_size=0.25, random_state=42)\r\n",
        "del y_train, y_val, y_test"
      ],
      "execution_count": 12,
      "outputs": []
    },
    {
      "cell_type": "code",
      "metadata": {
        "id": "VFqrEQ_cDcqN"
      },
      "source": [
        "fraud_train, fraud_test, y_fraud_train, y_fraud_test = mf.split(fraud, test_size = 0.2)\r\n",
        "del fraud, y_fraud_train, y_fraud_test"
      ],
      "execution_count": 13,
      "outputs": []
    },
    {
      "cell_type": "markdown",
      "metadata": {
        "id": "WaM9aKNRCbki"
      },
      "source": [
        "# Autoencoder"
      ]
    },
    {
      "cell_type": "markdown",
      "metadata": {
        "id": "n_fueW_6Ctr9"
      },
      "source": [
        "### Training"
      ]
    },
    {
      "cell_type": "markdown",
      "metadata": {
        "id": "hd3-OVT5CeRW"
      },
      "source": [
        "Codice: https://medium.com/swlh/anomaly-detection-with-autoencoders-2bd23dedbd9e\r\n",
        "\r\n",
        "Altro su keras: https://medium.com/datadriveninvestor/deep-autoencoder-using-keras-b77cd3e8be95"
      ]
    },
    {
      "cell_type": "code",
      "metadata": {
        "id": "HWrpIT6ICdvF"
      },
      "source": [
        "from keras.layers import Input, Dense\r\n",
        "from keras.models import Model\r\n",
        "\r\n",
        "input = Input(shape=(X_train.shape[1],))\r\n",
        "encoded = Dense(units=128, activation='relu')(input)\r\n",
        "# encoded = Dense(units=64, activation='relu')(encoded)\r\n",
        "# encoded = Dense(units=32, activation='relu')(encoded)\r\n",
        "decoded = Dense(units=32, activation='relu')(encoded)\r\n",
        "# decoded = Dense(units=64, activation='relu')(encoded)\r\n",
        "decoded = Dense(units=128, activation='relu')(decoded)\r\n",
        "decoded = Dense(units=X_train.shape[1], activation='sigmoid')(decoded)"
      ],
      "execution_count": 14,
      "outputs": []
    },
    {
      "cell_type": "code",
      "metadata": {
        "id": "Wcj7kxyAdRmS"
      },
      "source": [
        "autoencoder=Model(input, decoded)\r\n",
        "encoder = Model(input, encoded)\r\n",
        "# autoencoder.summary()\r\n",
        "autoencoder.compile(optimizer='adam', loss='mean_squared_error', metrics=['accuracy'])"
      ],
      "execution_count": 15,
      "outputs": []
    },
    {
      "cell_type": "code",
      "metadata": {
        "id": "j0nxRIf-gViW",
        "colab": {
          "base_uri": "https://localhost:8080/",
          "height": 1000
        },
        "outputId": "bd7004ca-908b-46ee-b308-a7c23fe1e1f5"
      },
      "source": [
        "# history = autoencoder.fit(X_train, X_train, epochs=30, batch_size=10000, shuffle=True,\r\n",
        "history = autoencoder.fit(X_train, X_train, epochs=30, batch_size=20000, shuffle=True,\r\n",
        "                validation_data=(X_val, X_val))\r\n",
        "\r\n",
        "plt.plot(history.history['loss'])\r\n",
        "plt.plot(history.history['val_loss'])\r\n",
        "plt.title('Model Loss')\r\n",
        "plt.ylabel('Loss')\r\n",
        "plt.xlabel('Epoch')\r\n",
        "plt.legend(['Train', 'Test'], loc='upper left')\r\n",
        "plt.show()"
      ],
      "execution_count": 16,
      "outputs": [
        {
          "output_type": "stream",
          "text": [
            "Epoch 1/30\n",
            "7/7 [==============================] - 8s 943ms/step - loss: 0.2420 - accuracy: 0.0018 - val_loss: 0.2199 - val_accuracy: 1.1686e-04\n",
            "Epoch 2/30\n",
            "7/7 [==============================] - 4s 563ms/step - loss: 0.2001 - accuracy: 5.9394e-05 - val_loss: 0.1066 - val_accuracy: 0.0000e+00\n",
            "Epoch 3/30\n",
            "7/7 [==============================] - 4s 558ms/step - loss: 0.0750 - accuracy: 5.1487e-05 - val_loss: 0.0103 - val_accuracy: 0.4869\n",
            "Epoch 4/30\n",
            "7/7 [==============================] - 4s 555ms/step - loss: 0.0083 - accuracy: 0.8222 - val_loss: 0.0061 - val_accuracy: 0.9999\n",
            "Epoch 5/30\n",
            "7/7 [==============================] - 4s 553ms/step - loss: 0.0060 - accuracy: 0.9998 - val_loss: 0.0059 - val_accuracy: 0.9999\n",
            "Epoch 6/30\n",
            "7/7 [==============================] - 4s 552ms/step - loss: 0.0059 - accuracy: 0.9998 - val_loss: 0.0058 - val_accuracy: 0.9999\n",
            "Epoch 7/30\n",
            "7/7 [==============================] - 4s 566ms/step - loss: 0.0057 - accuracy: 0.9998 - val_loss: 0.0057 - val_accuracy: 0.9999\n",
            "Epoch 8/30\n",
            "7/7 [==============================] - 4s 559ms/step - loss: 0.0057 - accuracy: 0.9997 - val_loss: 0.0056 - val_accuracy: 0.9999\n",
            "Epoch 9/30\n",
            "7/7 [==============================] - 4s 536ms/step - loss: 0.0056 - accuracy: 0.9998 - val_loss: 0.0055 - val_accuracy: 0.9999\n",
            "Epoch 10/30\n",
            "7/7 [==============================] - 4s 553ms/step - loss: 0.0055 - accuracy: 0.9998 - val_loss: 0.0054 - val_accuracy: 0.9999\n",
            "Epoch 11/30\n",
            "7/7 [==============================] - 4s 568ms/step - loss: 0.0054 - accuracy: 0.9998 - val_loss: 0.0053 - val_accuracy: 0.9999\n",
            "Epoch 12/30\n",
            "7/7 [==============================] - 4s 536ms/step - loss: 0.0052 - accuracy: 0.9998 - val_loss: 0.0051 - val_accuracy: 0.9999\n",
            "Epoch 13/30\n",
            "7/7 [==============================] - 4s 550ms/step - loss: 0.0051 - accuracy: 0.9998 - val_loss: 0.0048 - val_accuracy: 0.9999\n",
            "Epoch 14/30\n",
            "7/7 [==============================] - 4s 564ms/step - loss: 0.0047 - accuracy: 0.9998 - val_loss: 0.0044 - val_accuracy: 0.9999\n",
            "Epoch 15/30\n",
            "7/7 [==============================] - 4s 539ms/step - loss: 0.0043 - accuracy: 0.9997 - val_loss: 0.0040 - val_accuracy: 0.9999\n",
            "Epoch 16/30\n",
            "7/7 [==============================] - 4s 553ms/step - loss: 0.0039 - accuracy: 0.9998 - val_loss: 0.0036 - val_accuracy: 0.9999\n",
            "Epoch 17/30\n",
            "7/7 [==============================] - 4s 541ms/step - loss: 0.0035 - accuracy: 0.9998 - val_loss: 0.0034 - val_accuracy: 0.9999\n",
            "Epoch 18/30\n",
            "7/7 [==============================] - 4s 549ms/step - loss: 0.0034 - accuracy: 0.9994 - val_loss: 0.0033 - val_accuracy: 0.9615\n",
            "Epoch 19/30\n",
            "7/7 [==============================] - 4s 539ms/step - loss: 0.0033 - accuracy: 0.8523 - val_loss: 0.0032 - val_accuracy: 0.3910\n",
            "Epoch 20/30\n",
            "7/7 [==============================] - 4s 555ms/step - loss: 0.0032 - accuracy: 0.3365 - val_loss: 0.0032 - val_accuracy: 0.1676\n",
            "Epoch 21/30\n",
            "7/7 [==============================] - 4s 555ms/step - loss: 0.0032 - accuracy: 0.1237 - val_loss: 0.0031 - val_accuracy: 7.9463e-04\n",
            "Epoch 22/30\n",
            "7/7 [==============================] - 4s 569ms/step - loss: 0.0031 - accuracy: 2.1813e-04 - val_loss: 0.0030 - val_accuracy: 0.0000e+00\n",
            "Epoch 23/30\n",
            "7/7 [==============================] - 4s 553ms/step - loss: 0.0030 - accuracy: 0.0000e+00 - val_loss: 0.0030 - val_accuracy: 0.0000e+00\n",
            "Epoch 24/30\n",
            "7/7 [==============================] - 4s 553ms/step - loss: 0.0030 - accuracy: 0.0000e+00 - val_loss: 0.0030 - val_accuracy: 0.0000e+00\n",
            "Epoch 25/30\n",
            "7/7 [==============================] - 4s 541ms/step - loss: 0.0030 - accuracy: 0.0000e+00 - val_loss: 0.0029 - val_accuracy: 0.0000e+00\n",
            "Epoch 26/30\n",
            "7/7 [==============================] - 4s 549ms/step - loss: 0.0029 - accuracy: 0.0000e+00 - val_loss: 0.0029 - val_accuracy: 0.0000e+00\n",
            "Epoch 27/30\n",
            "7/7 [==============================] - 4s 547ms/step - loss: 0.0029 - accuracy: 0.0000e+00 - val_loss: 0.0029 - val_accuracy: 0.0000e+00\n",
            "Epoch 28/30\n",
            "7/7 [==============================] - 4s 534ms/step - loss: 0.0029 - accuracy: 0.0000e+00 - val_loss: 0.0028 - val_accuracy: 0.0000e+00\n",
            "Epoch 29/30\n",
            "7/7 [==============================] - 4s 537ms/step - loss: 0.0028 - accuracy: 0.0000e+00 - val_loss: 0.0028 - val_accuracy: 0.0000e+00\n",
            "Epoch 30/30\n",
            "7/7 [==============================] - 3s 479ms/step - loss: 0.0028 - accuracy: 0.0000e+00 - val_loss: 0.0028 - val_accuracy: 0.0000e+00\n"
          ],
          "name": "stdout"
        },
        {
          "output_type": "display_data",
          "data": {
            "image/png": "[encoded data removed]",
            "text/plain": [
              "<Figure size 432x288 with 1 Axes>"
            ]
          },
          "metadata": {
            "tags": [],
            "needs_background": "light"
          }
        }
      ]
    },
    {
      "cell_type": "markdown",
      "metadata": {
        "id": "GR9t7x9nCyh5"
      },
      "source": [
        "### Scelta della soglia"
      ]
    },
    {
      "cell_type": "markdown",
      "metadata": {
        "id": "ellhVkSE7yCT"
      },
      "source": [
        "Calcolo la ricostruzione dei validation set fatta dall'autoencoder. "
      ]
    },
    {
      "cell_type": "markdown",
      "metadata": {
        "id": "YdKKRbGx75e6"
      },
      "source": [
        "Calcolo il MSE per ogni feature vector e costruisco due dataset che poi unirò. "
      ]
    },
    {
      "cell_type": "code",
      "metadata": {
        "id": "bfIcyPZlKGdT"
      },
      "source": [
        "mse_df = mf.make_df(X_val, fraud_train, autoencoder)"
      ],
      "execution_count": 17,
      "outputs": []
    },
    {
      "cell_type": "markdown",
      "metadata": {
        "id": "p8mD5OG-EsjL"
      },
      "source": [
        "hline: https://stackoverflow.com/questions/60309406/draw-horizontal-line-on-facetplot-seaborn-relplot"
      ]
    },
    {
      "cell_type": "code",
      "metadata": {
        "id": "fC-Gsdat21Ks",
        "colab": {
          "base_uri": "https://localhost:8080/",
          "height": 279
        },
        "outputId": "ee2562f4-086d-4934-ed02-260f74e55679"
      },
      "source": [
        "plot = sns.boxplot(x='anomaly', y='mse', hue='anomaly', data = mse_df)\r\n",
        "soglia = 0.0008\r\n",
        "plot.axhline(soglia, ls='--', linewidth=1, color='red')\r\n",
        "\r\n",
        "plt.show()"
      ],
      "execution_count": 18,
      "outputs": [
        {
          "output_type": "display_data",
          "data": {
            "image/png": "[encoded data removed]",
            "text/plain": [
              "<Figure size 432x288 with 1 Axes>"
            ]
          },
          "metadata": {
            "tags": [],
            "needs_background": "light"
          }
        }
      ]
    },
    {
      "cell_type": "code",
      "metadata": {
        "colab": {
          "base_uri": "https://localhost:8080/",
          "height": 386
        },
        "id": "aT6O8AMsDhFP",
        "outputId": "787d9a2e-0ea6-494c-d895-4fe22ffa27b9"
      },
      "source": [
        "sns.displot(mse_df, x=\"mse\", hue=\"anomaly\", stat=\"probability\", common_norm=False, multiple = 'dodge')"
      ],
      "execution_count": 19,
      "outputs": [
        {
          "output_type": "execute_result",
          "data": {
            "text/plain": [
              "<seaborn.axisgrid.FacetGrid at 0x7f68b8248eb8>"
            ]
          },
          "metadata": {
            "tags": []
          },
          "execution_count": 19
        },
        {
          "output_type": "display_data",
          "data": {
            "image/png": "[encoded data removed]",
            "text/plain": [
              "<Figure size 411.875x360 with 1 Axes>"
            ]
          },
          "metadata": {
            "tags": [],
            "needs_background": "light"
          }
        }
      ]
    },
    {
      "cell_type": "code",
      "metadata": {
        "colab": {
          "base_uri": "https://localhost:8080/",
          "height": 386
        },
        "id": "f--G6NfMEEPt",
        "outputId": "5d60d613-1b4d-4e70-9a71-da8cd02f2b83"
      },
      "source": [
        "sns.displot(mse_df, x=\"mse\", hue=\"anomaly\", kind=\"ecdf\")"
      ],
      "execution_count": 20,
      "outputs": [
        {
          "output_type": "execute_result",
          "data": {
            "text/plain": [
              "<seaborn.axisgrid.FacetGrid at 0x7f6954f0f320>"
            ]
          },
          "metadata": {
            "tags": []
          },
          "execution_count": 20
        },
        {
          "output_type": "display_data",
          "data": {
            "image/png": "[encoded data removed]",
            "text/plain": [
              "<Figure size 411.875x360 with 1 Axes>"
            ]
          },
          "metadata": {
            "tags": [],
            "needs_background": "light"
          }
        }
      ]
    },
    {
      "cell_type": "markdown",
      "metadata": {
        "id": "LKq698g-ePWL"
      },
      "source": [
        "Pandas quantile: https://pandas.pydata.org/pandas-docs/stable/reference/api/pandas.DataFrame.quantile.html"
      ]
    },
    {
      "cell_type": "code",
      "metadata": {
        "colab": {
          "base_uri": "https://localhost:8080/"
        },
        "id": "PfCA-Zpm9R6e",
        "outputId": "bde12bab-3f4b-4b91-8c34-b949d0581ab4"
      },
      "source": [
        "print(mse_df[mse_df['anomaly'] == 0].quantile(0.5)[0].round(5))\r\n",
        "print(mse_df[mse_df['anomaly'] == 1].quantile(0.3)[0].round(5))"
      ],
      "execution_count": 21,
      "outputs": [
        {
          "output_type": "stream",
          "text": [
            "0.00211\n",
            "0.00227\n"
          ],
          "name": "stdout"
        }
      ]
    },
    {
      "cell_type": "code",
      "metadata": {
        "id": "XeCofPUZIJZY"
      },
      "source": [
        "soglia = mse_df[mse_df['anomaly'] == 0].quantile(0.5)[0].round(5)"
      ],
      "execution_count": 22,
      "outputs": []
    },
    {
      "cell_type": "markdown",
      "metadata": {
        "id": "HQy_ZoUBJgRH"
      },
      "source": [
        "### Test modello"
      ]
    },
    {
      "cell_type": "code",
      "metadata": {
        "id": "dD2YPO0v-tpR",
        "colab": {
          "base_uri": "https://localhost:8080/"
        },
        "outputId": "bd9c4239-d678-42e4-8000-d545795d7efe"
      },
      "source": [
        "mf.performance_autoencoder(X_test, fraud_test, autoencoder, soglia)"
      ],
      "execution_count": 23,
      "outputs": [
        {
          "output_type": "stream",
          "text": [
            "[[21241 21546]\n",
            " [ 1032   342]]\n"
          ],
          "name": "stdout"
        }
      ]
    },
    {
      "cell_type": "code",
      "metadata": {
        "id": "1yuiBv73MyuG"
      },
      "source": [
        ""
      ],
      "execution_count": null,
      "outputs": []
    }
  ]
}