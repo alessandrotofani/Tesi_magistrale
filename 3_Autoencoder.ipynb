{
  "nbformat": 4,
  "nbformat_minor": 0,
  "metadata": {
    "colab": {
      "name": "3_Autoencoder.ipynb",
      "provenance": [],
      "authorship_tag": "ABX9TyPxiUYvjvQCU+zGT4McOKI5",
      "include_colab_link": true
    },
    "kernelspec": {
      "name": "python3",
      "display_name": "Python 3"
    },
    "accelerator": "GPU"
  },
  "cells": [
    {
      "cell_type": "markdown",
      "metadata": {
        "id": "view-in-github",
        "colab_type": "text"
      },
      "source": [
        "<a href=\"https://colab.research.google.com/github/alessandrotofani/Tesi_magistrale/blob/master/3_Autoencoder.ipynb\" target=\"_parent\"><img src=\"https://colab.research.google.com/assets/colab-badge.svg\" alt=\"Open In Colab\"/></a>"
      ]
    },
    {
      "cell_type": "markdown",
      "metadata": {
        "id": "8-eTUKS6D9Fs"
      },
      "source": [
        "# Import"
      ]
    },
    {
      "cell_type": "code",
      "metadata": {
        "colab": {
          "base_uri": "https://localhost:8080/"
        },
        "id": "xtV-QCEPDVju",
        "outputId": "05bc234a-ea85-4a66-e242-54569ba96fe5"
      },
      "source": [
        "import numpy as np # linear algebra\r\n",
        "import pandas as pd # data processing\r\n",
        "import matplotlib\r\n",
        "import matplotlib.pyplot as plt\r\n",
        "import seaborn as sns\r\n",
        "import os\r\n",
        "from google.colab import drive\r\n",
        "drive.mount('/content/drive')\r\n",
        "from sklearn.model_selection import train_test_split"
      ],
      "execution_count": 1,
      "outputs": [
        {
          "output_type": "stream",
          "text": [
            "Drive already mounted at /content/drive; to attempt to forcibly remount, call drive.mount(\"/content/drive\", force_remount=True).\n"
          ],
          "name": "stdout"
        }
      ]
    },
    {
      "cell_type": "code",
      "metadata": {
        "id": "QSvV9n8XDd1_"
      },
      "source": [
        "import sys \r\n",
        "sys.path.append('/content/drive/MyDrive/Tesi_magistrale/Tesi_magistrale')\r\n",
        "import mf"
      ],
      "execution_count": 2,
      "outputs": []
    },
    {
      "cell_type": "markdown",
      "metadata": {
        "id": "k5aTQo_7D3KW"
      },
      "source": [
        "# Preprocessing"
      ]
    },
    {
      "cell_type": "markdown",
      "metadata": {
        "id": "snsMJMlJ3Dcu"
      },
      "source": [
        "## Feature scaling"
      ]
    },
    {
      "cell_type": "markdown",
      "metadata": {
        "id": "fkebeV1E5pX-"
      },
      "source": [
        "Implemento il min max scaling delle features. \r\n",
        "\r\n",
        "Riferimento: https://towardsdatascience.com/data-normalization-with-pandas-and-scikit-learn-7c1cc6ed6475"
      ]
    },
    {
      "cell_type": "code",
      "metadata": {
        "id": "Kiu5JWhDvX3C"
      },
      "source": [
        "if not os.path.isfile('/content/drive/MyDrive/Tesi_magistrale/Dataset/IEEE/Output/corr_data.csv'):\r\n",
        "  correlation_data = min_max_scaling(correlation_data)\r\n",
        "  correlation_data.to_csv(r'./corr_data.csv')\r\n",
        "\r\n",
        "if not os.path.isfile('/content/drive/MyDrive/Tesi_magistrale/Dataset/IEEE/Output/data.csv'):\r\n",
        "  correlation_data = pd.read_csv('/content/drive/MyDrive/Tesi_magistrale/Dataset/IEEE/Output/corr_data.csv')"
      ],
      "execution_count": 3,
      "outputs": []
    },
    {
      "cell_type": "markdown",
      "metadata": {
        "id": "Wm21M5BTc2-v"
      },
      "source": [
        "Riferimento `save_model` e `load_model`: https://stackoverflow.com/questions/56107259/how-to-save-a-trained-model-by-scikit-learn\r\n",
        "\r\n",
        "Riferimento confusion matrix: https://scikit-learn.org/stable/auto_examples/model_selection/plot_confusion_matrix.html\r\n"
      ]
    },
    {
      "cell_type": "markdown",
      "metadata": {
        "id": "FpbwsvUFX0iY"
      },
      "source": [
        "### Dataset merging"
      ]
    },
    {
      "cell_type": "markdown",
      "metadata": {
        "id": "6-XUASHDX0iY"
      },
      "source": [
        "Funzione che ritorna la lista delle colonne significative. "
      ]
    },
    {
      "cell_type": "code",
      "metadata": {
        "id": "fUhFjfNyHixl"
      },
      "source": [
        "import warnings\r\n",
        "warnings.simplefilter(action='ignore', category=FutureWarning) # serve per ignorare i FutureWarning"
      ],
      "execution_count": 4,
      "outputs": []
    },
    {
      "cell_type": "markdown",
      "metadata": {
        "id": "P_aHaIF0QR8W"
      },
      "source": [
        "Rimpiazzo i missing values in categorical data con unknown. \r\n",
        "\r\n",
        "Unisco i dataset numerici e categorici nel dataframe data. \r\n",
        "\r\n",
        "Riferimento fillna: https://jamesrledoux.com/code/imputation"
      ]
    },
    {
      "cell_type": "code",
      "metadata": {
        "id": "3CA67WePVnds"
      },
      "source": [
        "if not os.path.isfile('/content/drive/MyDrive/Tesi_magistrale/Dataset/IEEE/Output/data.csv'):\r\n",
        "  col_to_drop = col_not_sign(categorical_data, cat_sign_col)\r\n",
        "  categorical_data = categorical_data.drop(col_to_drop, axis=1)\r\n",
        "  categorical_data = categorical_data.fillna('unknown')\r\n",
        "  data = pd.merge(correlation_data, categorical_data, left_on='TransactionID', right_on='TransactionID', how='left')\r\n",
        "  del correlation_data, categorical_data, numerical_data\r\n",
        "  data.to_csv(r'./data.csv')\r\n",
        "\r\n",
        "data = pd.read_csv('/content/drive/MyDrive/Tesi_magistrale/Dataset/IEEE/Output/data.csv')\r\n",
        "data.drop(data.columns[data.columns.str.contains('unnamed',case = False)],axis = 1, inplace = True)\r\n",
        "data = mf.select_days(data, 60)\r\n",
        "data = mf.feature_engineering(data)\r\n",
        "data = mf.feature_scaling(data)"
      ],
      "execution_count": 5,
      "outputs": []
    },
    {
      "cell_type": "markdown",
      "metadata": {
        "id": "jacF5JtkXHvp"
      },
      "source": [
        "## One hot encoding"
      ]
    },
    {
      "cell_type": "markdown",
      "metadata": {
        "id": "0YusuKvQSS-V"
      },
      "source": [
        "One hot encoding delle features categoriche. Serve per lo smote e easy ensemble. \r\n",
        "\r\n",
        "Bisogna farlo prima dello split del dataset poichè rischio di perdere delle colonne. "
      ]
    },
    {
      "cell_type": "code",
      "metadata": {
        "id": "uDzEOd7O-E03"
      },
      "source": [
        "data = pd.get_dummies(data)"
      ],
      "execution_count": 6,
      "outputs": []
    },
    {
      "cell_type": "code",
      "metadata": {
        "id": "ouq64I1r5lkR"
      },
      "source": [
        "cols = mf.get_col(data)"
      ],
      "execution_count": 7,
      "outputs": []
    },
    {
      "cell_type": "markdown",
      "metadata": {
        "id": "SMz_bK6DTJRl"
      },
      "source": [
        "Seleziono i dati appartenenti ai primi 60 giorni. \r\n",
        "\r\n",
        "Se ne seleziono di più, l'easy ensemble non va. "
      ]
    },
    {
      "cell_type": "code",
      "metadata": {
        "id": "dhRSkafFKcEn"
      },
      "source": [
        "# data = mf.select_days(data, 60)"
      ],
      "execution_count": 8,
      "outputs": []
    },
    {
      "cell_type": "markdown",
      "metadata": {
        "id": "WLwNC-RfdpGF"
      },
      "source": [
        "## Train validation test split"
      ]
    },
    {
      "cell_type": "code",
      "metadata": {
        "id": "PhL83KaZjNkI"
      },
      "source": [
        "# data.drop(columns=['TransactionID'], inplace=True)"
      ],
      "execution_count": 9,
      "outputs": []
    },
    {
      "cell_type": "code",
      "metadata": {
        "id": "uVJxf4nfd3Ed"
      },
      "source": [
        "safe = data[data['isFraud'] == 0]\r\n",
        "fraud = data[data['isFraud'] == 1]\r\n",
        "# fraud.drop(columns=['isFraud'], inplace=True)\r\n",
        "del data"
      ],
      "execution_count": 10,
      "outputs": []
    },
    {
      "cell_type": "markdown",
      "metadata": {
        "id": "m8EkabwNTN1C"
      },
      "source": [
        "Splitto il dataset in train, validation e test set. "
      ]
    },
    {
      "cell_type": "code",
      "metadata": {
        "id": "0cz8y-FhBpi9"
      },
      "source": [
        "X_train, X_val, y_train, y_val = mf.split(safe, test_size = 0.2)\r\n",
        "del safe\r\n",
        "X_train, X_test, y_train, y_test = train_test_split(X_train, y_train, test_size=0.25, random_state=42)\r\n",
        "del y_train, y_val, y_test"
      ],
      "execution_count": 11,
      "outputs": []
    },
    {
      "cell_type": "code",
      "metadata": {
        "id": "VFqrEQ_cDcqN"
      },
      "source": [
        "fraud_train, fraud_test, y_fraud_train, y_fraud_test = mf.split(fraud, test_size = 0.2)\r\n",
        "del fraud, y_fraud_train, y_fraud_test"
      ],
      "execution_count": 12,
      "outputs": []
    },
    {
      "cell_type": "markdown",
      "metadata": {
        "id": "WaM9aKNRCbki"
      },
      "source": [
        "# Autoencoder"
      ]
    },
    {
      "cell_type": "markdown",
      "metadata": {
        "id": "n_fueW_6Ctr9"
      },
      "source": [
        "### Training"
      ]
    },
    {
      "cell_type": "markdown",
      "metadata": {
        "id": "hd3-OVT5CeRW"
      },
      "source": [
        "Codice: https://medium.com/swlh/anomaly-detection-with-autoencoders-2bd23dedbd9e\r\n",
        "\r\n",
        "Altro su keras: https://medium.com/datadriveninvestor/deep-autoencoder-using-keras-b77cd3e8be95"
      ]
    },
    {
      "cell_type": "code",
      "metadata": {
        "id": "HWrpIT6ICdvF"
      },
      "source": [
        "from keras.layers import Input, Dense\r\n",
        "from keras.models import Model\r\n",
        "\r\n",
        "input = Input(shape=(X_train.shape[1],))\r\n",
        "encoded = Dense(units=128, activation='relu')(input)\r\n",
        "# encoded = Dense(units=64, activation='relu')(encoded)\r\n",
        "# encoded = Dense(units=32, activation='relu')(encoded)\r\n",
        "decoded = Dense(units=32, activation='relu')(encoded)\r\n",
        "# decoded = Dense(units=64, activation='relu')(encoded)\r\n",
        "decoded = Dense(units=128, activation='relu')(decoded)\r\n",
        "decoded = Dense(units=X_train.shape[1], activation='sigmoid')(decoded)"
      ],
      "execution_count": 13,
      "outputs": []
    },
    {
      "cell_type": "code",
      "metadata": {
        "id": "Wcj7kxyAdRmS"
      },
      "source": [
        "autoencoder=Model(input, decoded)\r\n",
        "encoder = Model(input, encoded)\r\n",
        "# autoencoder.summary()\r\n",
        "autoencoder.compile(optimizer='adam', loss='mean_squared_error', metrics=['accuracy'])"
      ],
      "execution_count": 14,
      "outputs": []
    },
    {
      "cell_type": "code",
      "metadata": {
        "id": "j0nxRIf-gViW",
        "colab": {
          "base_uri": "https://localhost:8080/",
          "height": 1000
        },
        "outputId": "82c176ed-29a3-4294-9196-dfdac2d48bb0"
      },
      "source": [
        "# history = autoencoder.fit(X_train, X_train, epochs=30, batch_size=10000, shuffle=True,\r\n",
        "history = autoencoder.fit(X_train, X_train, epochs=30, batch_size=10000, shuffle=True,\r\n",
        "                validation_data=(X_val, X_val))\r\n",
        "\r\n",
        "plt.plot(history.history['loss'])\r\n",
        "plt.plot(history.history['val_loss'])\r\n",
        "plt.title('Model Loss')\r\n",
        "plt.ylabel('Loss')\r\n",
        "plt.xlabel('Epoch')\r\n",
        "plt.legend(['Train', 'Test'], loc='upper left')\r\n",
        "plt.show()"
      ],
      "execution_count": 15,
      "outputs": [
        {
          "output_type": "stream",
          "text": [
            "Epoch 1/30\n",
            "13/13 [==============================] - 4s 167ms/step - loss: 0.4907 - accuracy: 0.0000e+00 - val_loss: 0.3495 - val_accuracy: 0.0000e+00\n",
            "Epoch 2/30\n",
            "13/13 [==============================] - 1s 95ms/step - loss: 0.3159 - accuracy: 0.0000e+00 - val_loss: 0.2820 - val_accuracy: 0.0000e+00\n",
            "Epoch 3/30\n",
            "13/13 [==============================] - 1s 99ms/step - loss: 0.2820 - accuracy: 0.0000e+00 - val_loss: 0.2808 - val_accuracy: 0.0000e+00\n",
            "Epoch 4/30\n",
            "13/13 [==============================] - 1s 102ms/step - loss: 0.2806 - accuracy: 0.0093 - val_loss: 0.2794 - val_accuracy: 0.1189\n",
            "Epoch 5/30\n",
            "13/13 [==============================] - 1s 99ms/step - loss: 0.2788 - accuracy: 0.1153 - val_loss: 0.2771 - val_accuracy: 0.1192\n",
            "Epoch 6/30\n",
            "13/13 [==============================] - 1s 100ms/step - loss: 0.2773 - accuracy: 0.1376 - val_loss: 0.2748 - val_accuracy: 0.1525\n",
            "Epoch 7/30\n",
            "13/13 [==============================] - 1s 102ms/step - loss: 0.2739 - accuracy: 0.1550 - val_loss: 0.2740 - val_accuracy: 0.1536\n",
            "Epoch 8/30\n",
            "13/13 [==============================] - 1s 100ms/step - loss: 0.2739 - accuracy: 0.1556 - val_loss: 0.2734 - val_accuracy: 0.1514\n",
            "Epoch 9/30\n",
            "13/13 [==============================] - 1s 99ms/step - loss: 0.2739 - accuracy: 0.1541 - val_loss: 0.2730 - val_accuracy: 0.1527\n",
            "Epoch 10/30\n",
            "13/13 [==============================] - 1s 100ms/step - loss: 0.2727 - accuracy: 0.1564 - val_loss: 0.2726 - val_accuracy: 0.1528\n",
            "Epoch 11/30\n",
            "13/13 [==============================] - 1s 101ms/step - loss: 0.2734 - accuracy: 0.1533 - val_loss: 0.2723 - val_accuracy: 0.1544\n",
            "Epoch 12/30\n",
            "13/13 [==============================] - 1s 104ms/step - loss: 0.2724 - accuracy: 0.1497 - val_loss: 0.2720 - val_accuracy: 0.1315\n",
            "Epoch 13/30\n",
            "13/13 [==============================] - 1s 97ms/step - loss: 0.2725 - accuracy: 0.1295 - val_loss: 0.2718 - val_accuracy: 0.1172\n",
            "Epoch 14/30\n",
            "13/13 [==============================] - 1s 100ms/step - loss: 0.2720 - accuracy: 0.1151 - val_loss: 0.2715 - val_accuracy: 0.1100\n",
            "Epoch 15/30\n",
            "13/13 [==============================] - 1s 99ms/step - loss: 0.2717 - accuracy: 0.1097 - val_loss: 0.2711 - val_accuracy: 0.1064\n",
            "Epoch 16/30\n",
            "13/13 [==============================] - 1s 100ms/step - loss: 0.2712 - accuracy: 0.1070 - val_loss: 0.2707 - val_accuracy: 0.1102\n",
            "Epoch 17/30\n",
            "13/13 [==============================] - 1s 100ms/step - loss: 0.2709 - accuracy: 0.1126 - val_loss: 0.2704 - val_accuracy: 0.1163\n",
            "Epoch 18/30\n",
            "13/13 [==============================] - 1s 98ms/step - loss: 0.2716 - accuracy: 0.1177 - val_loss: 0.2702 - val_accuracy: 0.1209\n",
            "Epoch 19/30\n",
            "13/13 [==============================] - 1s 100ms/step - loss: 0.2702 - accuracy: 0.1234 - val_loss: 0.2701 - val_accuracy: 0.1241\n",
            "Epoch 20/30\n",
            "13/13 [==============================] - 1s 101ms/step - loss: 0.2702 - accuracy: 0.1279 - val_loss: 0.2699 - val_accuracy: 0.1307\n",
            "Epoch 21/30\n",
            "13/13 [==============================] - 1s 103ms/step - loss: 0.2701 - accuracy: 0.1338 - val_loss: 0.2698 - val_accuracy: 0.1377\n",
            "Epoch 22/30\n",
            "13/13 [==============================] - 1s 101ms/step - loss: 0.2698 - accuracy: 0.1420 - val_loss: 0.2696 - val_accuracy: 0.1430\n",
            "Epoch 23/30\n",
            "13/13 [==============================] - 1s 100ms/step - loss: 0.2708 - accuracy: 0.1445 - val_loss: 0.2694 - val_accuracy: 0.1466\n",
            "Epoch 24/30\n",
            "13/13 [==============================] - 1s 96ms/step - loss: 0.2691 - accuracy: 0.1507 - val_loss: 0.2693 - val_accuracy: 0.1494\n",
            "Epoch 25/30\n",
            "13/13 [==============================] - 1s 103ms/step - loss: 0.2690 - accuracy: 0.1523 - val_loss: 0.2691 - val_accuracy: 0.1509\n",
            "Epoch 26/30\n",
            "13/13 [==============================] - 1s 101ms/step - loss: 0.2696 - accuracy: 0.1534 - val_loss: 0.2690 - val_accuracy: 0.1518\n",
            "Epoch 27/30\n",
            "13/13 [==============================] - 1s 98ms/step - loss: 0.2693 - accuracy: 0.1530 - val_loss: 0.2688 - val_accuracy: 0.1520\n",
            "Epoch 28/30\n",
            "13/13 [==============================] - 1s 102ms/step - loss: 0.2690 - accuracy: 0.1545 - val_loss: 0.2687 - val_accuracy: 0.1516\n",
            "Epoch 29/30\n",
            "13/13 [==============================] - 1s 101ms/step - loss: 0.2693 - accuracy: 0.1522 - val_loss: 0.2685 - val_accuracy: 0.1501\n",
            "Epoch 30/30\n",
            "13/13 [==============================] - 1s 97ms/step - loss: 0.2688 - accuracy: 0.1500 - val_loss: 0.2683 - val_accuracy: 0.1432\n"
          ],
          "name": "stdout"
        },
        {
          "output_type": "display_data",
          "data": {
            "image/png": "[encoded data removed]",
            "text/plain": [
              "<Figure size 432x288 with 1 Axes>"
            ]
          },
          "metadata": {
            "tags": [],
            "needs_background": "light"
          }
        }
      ]
    },
    {
      "cell_type": "markdown",
      "metadata": {
        "id": "GR9t7x9nCyh5"
      },
      "source": [
        "### Scelta della soglia"
      ]
    },
    {
      "cell_type": "markdown",
      "metadata": {
        "id": "ellhVkSE7yCT"
      },
      "source": [
        "Calcolo la ricostruzione dei validation set fatta dall'autoencoder. "
      ]
    },
    {
      "cell_type": "markdown",
      "metadata": {
        "id": "YdKKRbGx75e6"
      },
      "source": [
        "Calcolo il MSE per ogni feature vector e costruisco due dataset che poi unirò. "
      ]
    },
    {
      "cell_type": "code",
      "metadata": {
        "id": "bfIcyPZlKGdT"
      },
      "source": [
        "mse_df = mf.make_df(X_val, fraud_train, autoencoder)"
      ],
      "execution_count": 16,
      "outputs": []
    },
    {
      "cell_type": "markdown",
      "metadata": {
        "id": "p8mD5OG-EsjL"
      },
      "source": [
        "hline: https://stackoverflow.com/questions/60309406/draw-horizontal-line-on-facetplot-seaborn-relplot"
      ]
    },
    {
      "cell_type": "code",
      "metadata": {
        "id": "fC-Gsdat21Ks",
        "colab": {
          "base_uri": "https://localhost:8080/",
          "height": 279
        },
        "outputId": "f14772de-915f-4cea-9093-0bd67d5f3918"
      },
      "source": [
        "plot = sns.boxplot(x='anomaly', y='mse', hue='anomaly', data = mse_df)\r\n",
        "soglia = 0.0015\r\n",
        "plot.axhline(soglia, ls='--', linewidth=1, color='red')\r\n",
        "\r\n",
        "plt.show()"
      ],
      "execution_count": 17,
      "outputs": [
        {
          "output_type": "display_data",
          "data": {
            "image/png": "[encoded data removed]",
            "text/plain": [
              "<Figure size 432x288 with 1 Axes>"
            ]
          },
          "metadata": {
            "tags": [],
            "needs_background": "light"
          }
        }
      ]
    },
    {
      "cell_type": "code",
      "metadata": {
        "colab": {
          "base_uri": "https://localhost:8080/",
          "height": 386
        },
        "id": "aT6O8AMsDhFP",
        "outputId": "525f2641-937a-4190-f0ca-812fe6e59410"
      },
      "source": [
        "sns.displot(mse_df, x=\"mse\", hue=\"anomaly\", stat=\"probability\", common_norm=False, multiple = 'dodge')"
      ],
      "execution_count": 18,
      "outputs": [
        {
          "output_type": "execute_result",
          "data": {
            "text/plain": [
              "<seaborn.axisgrid.FacetGrid at 0x7fd140096278>"
            ]
          },
          "metadata": {
            "tags": []
          },
          "execution_count": 18
        },
        {
          "output_type": "display_data",
          "data": {
            "image/png": "[encoded data removed]",
            "text/plain": [
              "<Figure size 411.875x360 with 1 Axes>"
            ]
          },
          "metadata": {
            "tags": [],
            "needs_background": "light"
          }
        }
      ]
    },
    {
      "cell_type": "code",
      "metadata": {
        "colab": {
          "base_uri": "https://localhost:8080/",
          "height": 386
        },
        "id": "f--G6NfMEEPt",
        "outputId": "8a163b6e-a94a-46d6-8539-3c3d9ffce0f2"
      },
      "source": [
        "sns.displot(mse_df, x=\"mse\", hue=\"anomaly\", kind=\"ecdf\")"
      ],
      "execution_count": 19,
      "outputs": [
        {
          "output_type": "execute_result",
          "data": {
            "text/plain": [
              "<seaborn.axisgrid.FacetGrid at 0x7fd1400dd4e0>"
            ]
          },
          "metadata": {
            "tags": []
          },
          "execution_count": 19
        },
        {
          "output_type": "display_data",
          "data": {
            "image/png": "[encoded data removed]",
            "text/plain": [
              "<Figure size 411.875x360 with 1 Axes>"
            ]
          },
          "metadata": {
            "tags": [],
            "needs_background": "light"
          }
        }
      ]
    },
    {
      "cell_type": "markdown",
      "metadata": {
        "id": "LKq698g-ePWL"
      },
      "source": [
        "Pandas quantile: https://pandas.pydata.org/pandas-docs/stable/reference/api/pandas.DataFrame.quantile.html"
      ]
    },
    {
      "cell_type": "code",
      "metadata": {
        "colab": {
          "base_uri": "https://localhost:8080/"
        },
        "id": "PfCA-Zpm9R6e",
        "outputId": "ffd70ea9-a7d4-4036-de18-65460cca0822"
      },
      "source": [
        "print(mse_df[mse_df['anomaly'] == 0].quantile(0.5)[0].round(5))\r\n",
        "print(mse_df[mse_df['anomaly'] == 1].quantile(0.3)[0].round(5))"
      ],
      "execution_count": 20,
      "outputs": [
        {
          "output_type": "stream",
          "text": [
            "0.2922\n",
            "0.06051\n"
          ],
          "name": "stdout"
        }
      ]
    },
    {
      "cell_type": "code",
      "metadata": {
        "id": "XeCofPUZIJZY"
      },
      "source": [
        "soglia = mse_df[mse_df['anomaly'] == 0].quantile(0.5)[0].round(5)"
      ],
      "execution_count": 21,
      "outputs": []
    },
    {
      "cell_type": "markdown",
      "metadata": {
        "id": "HQy_ZoUBJgRH"
      },
      "source": [
        "# Performance measure"
      ]
    },
    {
      "cell_type": "code",
      "metadata": {
        "id": "dD2YPO0v-tpR",
        "colab": {
          "base_uri": "https://localhost:8080/",
          "height": 381
        },
        "outputId": "50c15aff-7f8a-427d-ba49-4f8952638aac"
      },
      "source": [
        "conf_matrix, recall, precision, f1 = mf.performance_autoencoder(X_test, fraud_test, autoencoder, soglia)"
      ],
      "execution_count": 22,
      "outputs": [
        {
          "output_type": "stream",
          "text": [
            "Recall:  0.5021209713230654\n",
            "Average Precision:  0.031242360683226594\n",
            "F1 score:  0.3611922317947061\n",
            "[[21575 21212]\n",
            " [  687   687]]\n",
            "AUC:  0.5021209713230654\n"
          ],
          "name": "stdout"
        },
        {
          "output_type": "display_data",
          "data": {
            "image/png": "[encoded data removed]",
            "text/plain": [
              "<Figure size 432x288 with 1 Axes>"
            ]
          },
          "metadata": {
            "tags": [],
            "needs_background": "light"
          }
        }
      ]
    }
  ]
}