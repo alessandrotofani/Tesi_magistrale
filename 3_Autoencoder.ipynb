{
  "nbformat": 4,
  "nbformat_minor": 0,
  "metadata": {
    "colab": {
      "name": "3_Autoencoder.ipynb",
      "provenance": [],
      "authorship_tag": "ABX9TyMqxen/VxTv/ynuetCHz08F",
      "include_colab_link": true
    },
    "kernelspec": {
      "name": "python3",
      "display_name": "Python 3"
    },
    "accelerator": "GPU"
  },
  "cells": [
    {
      "cell_type": "markdown",
      "metadata": {
        "id": "view-in-github",
        "colab_type": "text"
      },
      "source": [
        "<a href=\"https://colab.research.google.com/github/alessandrotofani/Tesi_magistrale/blob/master/3_Autoencoder.ipynb\" target=\"_parent\"><img src=\"https://colab.research.google.com/assets/colab-badge.svg\" alt=\"Open In Colab\"/></a>"
      ]
    },
    {
      "cell_type": "markdown",
      "metadata": {
        "id": "8-eTUKS6D9Fs"
      },
      "source": [
        "# Import"
      ]
    },
    {
      "cell_type": "code",
      "metadata": {
        "colab": {
          "base_uri": "https://localhost:8080/"
        },
        "id": "xtV-QCEPDVju",
        "outputId": "634ed6e7-0563-47f4-b96b-9ae194aaa284"
      },
      "source": [
        "import numpy as np # linear algebra\r\n",
        "import pandas as pd # data processing\r\n",
        "import matplotlib\r\n",
        "import matplotlib.pyplot as plt\r\n",
        "import seaborn as sns\r\n",
        "import os\r\n",
        "from google.colab import drive\r\n",
        "drive.mount('/content/drive')\r\n",
        "from sklearn.model_selection import train_test_split\r\n",
        "\r\n",
        "\r\n",
        "for dirname, _, filenames in os.walk('/content/drive/MyDrive/Tesi_magistrale/Dataset/IEEE'):\r\n",
        "    for filename in filenames:\r\n",
        "        print(os.path.join(dirname, filename))"
      ],
      "execution_count": null,
      "outputs": [
        {
          "output_type": "stream",
          "text": [
            "Drive already mounted at /content/drive; to attempt to forcibly remount, call drive.mount(\"/content/drive\", force_remount=True).\n",
            "/content/drive/MyDrive/Tesi_magistrale/Dataset/IEEE/train_transaction.csv\n",
            "/content/drive/MyDrive/Tesi_magistrale/Dataset/IEEE/train_identity.csv\n",
            "/content/drive/MyDrive/Tesi_magistrale/Dataset/IEEE/Output/original_data.csv\n",
            "/content/drive/MyDrive/Tesi_magistrale/Dataset/IEEE/Output/num_sign_col.txt\n",
            "/content/drive/MyDrive/Tesi_magistrale/Dataset/IEEE/Output/fitted.csv\n",
            "/content/drive/MyDrive/Tesi_magistrale/Dataset/IEEE/Output/num_sign_col_mice.txt\n",
            "/content/drive/MyDrive/Tesi_magistrale/Dataset/IEEE/Output/cat_sign_col.txt\n",
            "/content/drive/MyDrive/Tesi_magistrale/Dataset/IEEE/Output/corr_data.csv\n",
            "/content/drive/MyDrive/Tesi_magistrale/Dataset/IEEE/Output/data.csv\n",
            "/content/drive/MyDrive/Tesi_magistrale/Dataset/IEEE/Output/fitted_old/fitted.csv\n",
            "/content/drive/MyDrive/Tesi_magistrale/Dataset/IEEE/Output/fitted_old/cat_sign_col.txt\n",
            "/content/drive/MyDrive/Tesi_magistrale/Dataset/IEEE/Output/fitted_old/num_sign_col_mice.txt\n",
            "/content/drive/MyDrive/Tesi_magistrale/Dataset/IEEE/Output/fitted_old/readme.txt\n",
            "/content/drive/MyDrive/Tesi_magistrale/Dataset/IEEE/Output/modelli/catboost\n",
            "/content/drive/MyDrive/Tesi_magistrale/Dataset/IEEE/Output/modelli/catboost_class_weights\n"
          ],
          "name": "stdout"
        }
      ]
    },
    {
      "cell_type": "code",
      "metadata": {
        "id": "QSvV9n8XDd1_"
      },
      "source": [
        "import sys \r\n",
        "sys.path.append('/content/drive/MyDrive/Tesi_magistrale/Tesi_magistrale')\r\n",
        "import mf"
      ],
      "execution_count": null,
      "outputs": []
    },
    {
      "cell_type": "markdown",
      "metadata": {
        "id": "k5aTQo_7D3KW"
      },
      "source": [
        "# Preprocessing"
      ]
    },
    {
      "cell_type": "markdown",
      "metadata": {
        "id": "snsMJMlJ3Dcu"
      },
      "source": [
        "## Feature scaling"
      ]
    },
    {
      "cell_type": "markdown",
      "metadata": {
        "id": "fkebeV1E5pX-"
      },
      "source": [
        "Implemento il min max scaling delle features. \r\n",
        "\r\n",
        "Riferimento: https://towardsdatascience.com/data-normalization-with-pandas-and-scikit-learn-7c1cc6ed6475"
      ]
    },
    {
      "cell_type": "code",
      "metadata": {
        "id": "Kiu5JWhDvX3C"
      },
      "source": [
        "if not os.path.isfile('/content/drive/MyDrive/Tesi_magistrale/Dataset/IEEE/Output/corr_data.csv'):\r\n",
        "  correlation_data = min_max_scaling(correlation_data)\r\n",
        "  correlation_data.to_csv(r'./corr_data.csv')\r\n",
        "\r\n",
        "if not os.path.isfile('/content/drive/MyDrive/Tesi_magistrale/Dataset/IEEE/Output/data.csv'):\r\n",
        "  correlation_data = pd.read_csv('/content/drive/MyDrive/Tesi_magistrale/Dataset/IEEE/Output/corr_data.csv')"
      ],
      "execution_count": null,
      "outputs": []
    },
    {
      "cell_type": "markdown",
      "metadata": {
        "id": "Wm21M5BTc2-v"
      },
      "source": [
        "Riferimento `save_model` e `load_model`: https://stackoverflow.com/questions/56107259/how-to-save-a-trained-model-by-scikit-learn\r\n",
        "\r\n",
        "Riferimento confusion matrix: https://scikit-learn.org/stable/auto_examples/model_selection/plot_confusion_matrix.html\r\n"
      ]
    },
    {
      "cell_type": "markdown",
      "metadata": {
        "id": "FpbwsvUFX0iY"
      },
      "source": [
        "### Dataset merging"
      ]
    },
    {
      "cell_type": "markdown",
      "metadata": {
        "id": "6-XUASHDX0iY"
      },
      "source": [
        "Funzione che ritorna la lista delle colonne significative. "
      ]
    },
    {
      "cell_type": "code",
      "metadata": {
        "id": "fUhFjfNyHixl"
      },
      "source": [
        "import warnings\r\n",
        "warnings.simplefilter(action='ignore', category=FutureWarning) # serve per ignorare i FutureWarning"
      ],
      "execution_count": null,
      "outputs": []
    },
    {
      "cell_type": "markdown",
      "metadata": {
        "id": "P_aHaIF0QR8W"
      },
      "source": [
        "Rimpiazzo i missing values in categorical data con unknown. \r\n",
        "\r\n",
        "Unisco i dataset numerici e categorici nel dataframe data. \r\n",
        "\r\n",
        "Riferimento fillna: https://jamesrledoux.com/code/imputation"
      ]
    },
    {
      "cell_type": "code",
      "metadata": {
        "id": "3CA67WePVnds"
      },
      "source": [
        "if not os.path.isfile('/content/drive/MyDrive/Tesi_magistrale/Dataset/IEEE/Output/data.csv'):\r\n",
        "  col_to_drop = col_not_sign(categorical_data, cat_sign_col)\r\n",
        "  categorical_data = categorical_data.drop(col_to_drop, axis=1)\r\n",
        "  categorical_data = categorical_data.fillna('unknown')\r\n",
        "  data = pd.merge(correlation_data, categorical_data, left_on='TransactionID', right_on='TransactionID', how='left')\r\n",
        "  del correlation_data, categorical_data, numerical_data\r\n",
        "  data.to_csv(r'./data.csv')\r\n",
        "\r\n",
        "data = pd.read_csv('/content/drive/MyDrive/Tesi_magistrale/Dataset/IEEE/Output/data.csv')\r\n",
        "data.drop(data.columns[data.columns.str.contains('unnamed',case = False)],axis = 1, inplace = True)"
      ],
      "execution_count": null,
      "outputs": []
    },
    {
      "cell_type": "markdown",
      "metadata": {
        "id": "jacF5JtkXHvp"
      },
      "source": [
        "## One hot encoding"
      ]
    },
    {
      "cell_type": "markdown",
      "metadata": {
        "id": "0YusuKvQSS-V"
      },
      "source": [
        "One hot encoding delle features categoriche. Serve per lo smote e easy ensemble. \r\n",
        "\r\n",
        "Bisogna farlo prima dello split del dataset poichè rischio di perdere delle colonne. "
      ]
    },
    {
      "cell_type": "code",
      "metadata": {
        "id": "uDzEOd7O-E03"
      },
      "source": [
        "data = pd.get_dummies(data)"
      ],
      "execution_count": null,
      "outputs": []
    },
    {
      "cell_type": "code",
      "metadata": {
        "id": "ouq64I1r5lkR"
      },
      "source": [
        "cols = mf.get_col(data)"
      ],
      "execution_count": null,
      "outputs": []
    },
    {
      "cell_type": "markdown",
      "metadata": {
        "id": "SMz_bK6DTJRl"
      },
      "source": [
        "Seleziono i dati appartenenti ai primi 60 giorni. \r\n",
        "\r\n",
        "Se ne seleziono di più, l'easy ensemble non va. "
      ]
    },
    {
      "cell_type": "code",
      "metadata": {
        "id": "dhRSkafFKcEn"
      },
      "source": [
        "data = mf.select_days(data, 60)"
      ],
      "execution_count": null,
      "outputs": []
    },
    {
      "cell_type": "markdown",
      "metadata": {
        "id": "9Li-JBOzcNjL"
      },
      "source": [
        "## Time scaling"
      ]
    },
    {
      "cell_type": "code",
      "metadata": {
        "id": "nbBciwGXTU6j"
      },
      "source": [
        "from sklearn import preprocessing\r\n",
        "\r\n",
        "min_max_scaler = preprocessing.MinMaxScaler()\r\n",
        "time = data['TransactionDT'].values.reshape(-1,1)\r\n",
        "data['TransactionDT'] = min_max_scaler.fit_transform(time)"
      ],
      "execution_count": null,
      "outputs": []
    },
    {
      "cell_type": "markdown",
      "metadata": {
        "id": "WLwNC-RfdpGF"
      },
      "source": [
        "## Train validation test split"
      ]
    },
    {
      "cell_type": "code",
      "metadata": {
        "id": "PhL83KaZjNkI"
      },
      "source": [
        "data.drop(columns=['TransactionID'], inplace=True)"
      ],
      "execution_count": null,
      "outputs": []
    },
    {
      "cell_type": "code",
      "metadata": {
        "id": "uVJxf4nfd3Ed"
      },
      "source": [
        "safe = data[data['isFraud'] == 0]\r\n",
        "fraud = data[data['isFraud'] == 1]\r\n",
        "fraud.drop(columns=['isFraud'], inplace=True)\r\n",
        "del data"
      ],
      "execution_count": null,
      "outputs": []
    },
    {
      "cell_type": "markdown",
      "metadata": {
        "id": "m8EkabwNTN1C"
      },
      "source": [
        "Splitto il dataset in train, validation e test set. "
      ]
    },
    {
      "cell_type": "code",
      "metadata": {
        "id": "0cz8y-FhBpi9"
      },
      "source": [
        "X_train, X_val, y_train, y_val = mf.split(safe, test_size = 0.2)\r\n",
        "del safe\r\n",
        "X_train, X_test, y_train, y_test = train_test_split(X_train, y_train, test_size=0.25, random_state=42)"
      ],
      "execution_count": null,
      "outputs": []
    },
    {
      "cell_type": "code",
      "metadata": {
        "id": "VFqrEQ_cDcqN"
      },
      "source": [
        "fraud_train, fraud_test, y_fraud_train, y_fraud_test = mf.split(fraud, test_size = 0.2)"
      ],
      "execution_count": null,
      "outputs": []
    },
    {
      "cell_type": "markdown",
      "metadata": {
        "id": "WaM9aKNRCbki"
      },
      "source": [
        "# Autoencoder"
      ]
    },
    {
      "cell_type": "markdown",
      "metadata": {
        "id": "n_fueW_6Ctr9"
      },
      "source": [
        "### Training"
      ]
    },
    {
      "cell_type": "markdown",
      "metadata": {
        "id": "hd3-OVT5CeRW"
      },
      "source": [
        "Codice: https://medium.com/swlh/anomaly-detection-with-autoencoders-2bd23dedbd9e\r\n",
        "\r\n",
        "Altro su keras: https://medium.com/datadriveninvestor/deep-autoencoder-using-keras-b77cd3e8be95"
      ]
    },
    {
      "cell_type": "code",
      "metadata": {
        "id": "HWrpIT6ICdvF"
      },
      "source": [
        "from keras.layers import Input, Dense\r\n",
        "from keras.models import Model\r\n",
        "\r\n",
        "input = Input(shape=(X_train.shape[1],))\r\n",
        "encoded = Dense(units=128, activation='relu')(input)\r\n",
        "# encoded = Dense(units=64, activation='relu')(encoded)\r\n",
        "# encoded = Dense(units=32, activation='relu')(encoded)\r\n",
        "decoded = Dense(units=32, activation='relu')(encoded)\r\n",
        "# decoded = Dense(units=64, activation='relu')(encoded)\r\n",
        "decoded = Dense(units=128, activation='relu')(decoded)\r\n",
        "decoded = Dense(units=X_train.shape[1], activation='sigmoid')(decoded)"
      ],
      "execution_count": null,
      "outputs": []
    },
    {
      "cell_type": "code",
      "metadata": {
        "id": "Wcj7kxyAdRmS"
      },
      "source": [
        "autoencoder=Model(input, decoded)\r\n",
        "encoder = Model(input, encoded)\r\n",
        "# autoencoder.summary()\r\n",
        "autoencoder.compile(optimizer='adam', loss='mean_squared_error', metrics=['accuracy'])"
      ],
      "execution_count": null,
      "outputs": []
    },
    {
      "cell_type": "code",
      "metadata": {
        "id": "j0nxRIf-gViW"
      },
      "source": [
        "history = autoencoder.fit(X_train, X_train, epochs=30, batch_size=1000, shuffle=True,\r\n",
        "                validation_data=(X_val, X_val))\r\n",
        "\r\n",
        "plt.plot(history.history['loss'])\r\n",
        "plt.plot(history.history['val_loss'])\r\n",
        "plt.title('Model Loss')\r\n",
        "plt.ylabel('Loss')\r\n",
        "plt.xlabel('Epoch')\r\n",
        "plt.legend(['Train', 'Test'], loc='upper left')\r\n",
        "plt.show()"
      ],
      "execution_count": null,
      "outputs": []
    },
    {
      "cell_type": "markdown",
      "metadata": {
        "id": "GR9t7x9nCyh5"
      },
      "source": [
        "### Scelta della soglia"
      ]
    },
    {
      "cell_type": "markdown",
      "metadata": {
        "id": "ellhVkSE7yCT"
      },
      "source": [
        "Calcolo la ricostruzione dei validation set fatta dall'autoencoder. "
      ]
    },
    {
      "cell_type": "code",
      "metadata": {
        "id": "eQO5DtAQgdKp"
      },
      "source": [
        "# encoded = encoder.predict(X_val)\r\n",
        "# n = fraud.shape[0]\r\n",
        "\r\n",
        "X_val_predicted = autoencoder.predict(X_val)\r\n",
        "# X_val_predicted = autoencoder.predict(X_val[:n])\r\n",
        "fraud_train_predicted = autoencoder.predict(fraud_train)"
      ],
      "execution_count": null,
      "outputs": []
    },
    {
      "cell_type": "markdown",
      "metadata": {
        "id": "YdKKRbGx75e6"
      },
      "source": [
        "Calcolo il MSE per ogni feature vector e costruisco due dataset che poi unirò. "
      ]
    },
    {
      "cell_type": "code",
      "metadata": {
        "id": "bfIcyPZlKGdT"
      },
      "source": [
        "def mse_calc(X, X_pred):\r\n",
        "  err = []\r\n",
        "\r\n",
        "  for i in range(X.shape[0]):\r\n",
        "    err.append(mean_squared_error(X.iloc[i], X_pred[i]))\r\n",
        "\r\n",
        "  return err\r\n",
        "\r\n",
        "def mse(safe, fraud, autoencoder):\r\n",
        "  from sklearn.metrics import mean_squared_error\r\n",
        "\r\n",
        "  safe_predicted = autoencoder.predict(safe)\r\n",
        "  fraud_predicted = autoencoder.predict(fraud)\r\n",
        "\r\n",
        "  safe_errors = mse_calc(safe, safe_predicted)\r\n",
        "  fraud_errors = mse_calc(fraud, fraud_predicted)\r\n",
        "\r\n",
        "  return safe_errors, fraud_errors\r\n",
        "\r\n",
        "def make_df(X_val, fraud_train, autoencoder):\r\n",
        "  safe_errors, fraud_errors = mse(X_val, fraud_train, autoencoder) \r\n",
        "\r\n",
        "  safe_df = pd.DataFrame({'mse': safe_errors, 'anomaly': np.zeros(n)})\r\n",
        "  fraud_df = pd.DataFrame({'mse': fraud_errors,\t'anomaly': np.ones(n)})\r\n",
        "\r\n",
        "  mse_df = pd.concat([safe_df, fraud_df])\r\n",
        "\r\n",
        "  return mse_df\r\n",
        "\r\n",
        "mse_df = make_df(X_val, fraud_train, autoencoder)"
      ],
      "execution_count": null,
      "outputs": []
    },
    {
      "cell_type": "code",
      "metadata": {
        "id": "kILKSr5GygAl"
      },
      "source": [
        "# from sklearn.metrics import mean_squared_error\r\n",
        "# safe_errors = []\r\n",
        "# fraud_errors = []\r\n",
        "# for i in range(fraud_train.shape[0]):\r\n",
        "#   fraud_errors.append(mean_squared_error(fraud_train.iloc[i], fraud_train_predicted[i]))\r\n",
        "\r\n",
        "# for i in range(X_val.shape[0]):\r\n",
        "#   safe_errors.append(mean_squared_error(X_val.iloc[i], X_val_predicted[i]))"
      ],
      "execution_count": null,
      "outputs": []
    },
    {
      "cell_type": "code",
      "metadata": {
        "id": "EujV5RxM12zA"
      },
      "source": [
        "# safe_df = pd.DataFrame({'mse': safe_errors, 'anomaly': np.zeros(n)})\r\n",
        "# fraud_df = pd.DataFrame({'mse': fraud_errors,\t'anomaly': np.ones(n)})\r\n",
        "# del safe_errors, fraud_errors\r\n",
        "# mse_df = pd.concat([safe_df, fraud_df])\r\n",
        "# del safe_df, fraud_df"
      ],
      "execution_count": null,
      "outputs": []
    },
    {
      "cell_type": "markdown",
      "metadata": {
        "id": "p8mD5OG-EsjL"
      },
      "source": [
        "hline: https://stackoverflow.com/questions/60309406/draw-horizontal-line-on-facetplot-seaborn-relplot"
      ]
    },
    {
      "cell_type": "code",
      "metadata": {
        "id": "fC-Gsdat21Ks",
        "colab": {
          "base_uri": "https://localhost:8080/",
          "height": 279
        },
        "outputId": "354153a8-bcbb-48c4-85ca-4290a516a1dc"
      },
      "source": [
        "plot = sns.boxplot(x='anomaly', y='mse', hue='anomaly', data = mse_df)\r\n",
        "soglia = 0.0008\r\n",
        "plot.axhline(soglia, ls='--', linewidth=1, color='red')\r\n",
        "\r\n",
        "plt.show()"
      ],
      "execution_count": null,
      "outputs": [
        {
          "output_type": "display_data",
          "data": {
            "image/png": "[encoded data removed]",
            "text/plain": [
              "<Figure size 432x288 with 1 Axes>"
            ]
          },
          "metadata": {
            "tags": [],
            "needs_background": "light"
          }
        }
      ]
    },
    {
      "cell_type": "markdown",
      "metadata": {
        "id": "HQy_ZoUBJgRH"
      },
      "source": [
        "### Test modello"
      ]
    },
    {
      "cell_type": "code",
      "metadata": {
        "id": "dD2YPO0v-tpR"
      },
      "source": [
        ""
      ],
      "execution_count": null,
      "outputs": []
    }
  ]
}