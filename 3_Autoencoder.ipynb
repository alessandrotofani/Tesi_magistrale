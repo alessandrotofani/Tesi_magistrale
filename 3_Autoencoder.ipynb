{
  "nbformat": 4,
  "nbformat_minor": 0,
  "metadata": {
    "colab": {
      "name": "3_Autoencoder.ipynb",
      "provenance": [],
      "authorship_tag": "ABX9TyPcumoSwchMGopZG6B88JmI",
      "include_colab_link": true
    },
    "kernelspec": {
      "name": "python3",
      "display_name": "Python 3"
    }
  },
  "cells": [
    {
      "cell_type": "markdown",
      "metadata": {
        "id": "view-in-github",
        "colab_type": "text"
      },
      "source": [
        "<a href=\"https://colab.research.google.com/github/alessandrotofani/Tesi_magistrale/blob/master/3_Autoencoder.ipynb\" target=\"_parent\"><img src=\"https://colab.research.google.com/assets/colab-badge.svg\" alt=\"Open In Colab\"/></a>"
      ]
    },
    {
      "cell_type": "markdown",
      "metadata": {
        "id": "8-eTUKS6D9Fs"
      },
      "source": [
        "# Import"
      ]
    },
    {
      "cell_type": "code",
      "metadata": {
        "colab": {
          "base_uri": "https://localhost:8080/"
        },
        "id": "xtV-QCEPDVju",
        "outputId": "1d4d0f8b-de5d-4aea-f645-702bf02472ee"
      },
      "source": [
        "import numpy as np # linear algebra\r\n",
        "import pandas as pd # data processing\r\n",
        "import matplotlib\r\n",
        "import matplotlib.pyplot as plt\r\n",
        "import seaborn as sns\r\n",
        "import os\r\n",
        "from google.colab import drive\r\n",
        "drive.mount('/content/drive')\r\n",
        "from sklearn.model_selection import train_test_split\r\n",
        "\r\n",
        "\r\n",
        "for dirname, _, filenames in os.walk('/content/drive/MyDrive/Tesi_magistrale/Dataset/IEEE'):\r\n",
        "    for filename in filenames:\r\n",
        "        print(os.path.join(dirname, filename))"
      ],
      "execution_count": null,
      "outputs": [
        {
          "output_type": "stream",
          "text": [
            "Drive already mounted at /content/drive; to attempt to forcibly remount, call drive.mount(\"/content/drive\", force_remount=True).\n",
            "/content/drive/MyDrive/Tesi_magistrale/Dataset/IEEE/train_transaction.csv\n",
            "/content/drive/MyDrive/Tesi_magistrale/Dataset/IEEE/train_identity.csv\n",
            "/content/drive/MyDrive/Tesi_magistrale/Dataset/IEEE/Output/original_data.csv\n",
            "/content/drive/MyDrive/Tesi_magistrale/Dataset/IEEE/Output/num_sign_col.txt\n",
            "/content/drive/MyDrive/Tesi_magistrale/Dataset/IEEE/Output/fitted.csv\n",
            "/content/drive/MyDrive/Tesi_magistrale/Dataset/IEEE/Output/num_sign_col_mice.txt\n",
            "/content/drive/MyDrive/Tesi_magistrale/Dataset/IEEE/Output/cat_sign_col.txt\n",
            "/content/drive/MyDrive/Tesi_magistrale/Dataset/IEEE/Output/corr_data.csv\n",
            "/content/drive/MyDrive/Tesi_magistrale/Dataset/IEEE/Output/data.csv\n",
            "/content/drive/MyDrive/Tesi_magistrale/Dataset/IEEE/Output/fitted_old/fitted.csv\n",
            "/content/drive/MyDrive/Tesi_magistrale/Dataset/IEEE/Output/fitted_old/cat_sign_col.txt\n",
            "/content/drive/MyDrive/Tesi_magistrale/Dataset/IEEE/Output/fitted_old/num_sign_col_mice.txt\n",
            "/content/drive/MyDrive/Tesi_magistrale/Dataset/IEEE/Output/fitted_old/readme.txt\n",
            "/content/drive/MyDrive/Tesi_magistrale/Dataset/IEEE/Output/modelli/catboost\n",
            "/content/drive/MyDrive/Tesi_magistrale/Dataset/IEEE/Output/modelli/catboost_class_weights\n"
          ],
          "name": "stdout"
        }
      ]
    },
    {
      "cell_type": "code",
      "metadata": {
        "id": "QSvV9n8XDd1_"
      },
      "source": [
        "import sys \r\n",
        "sys.path.append('/content/drive/MyDrive/Tesi_magistrale/Tesi_magistrale')\r\n",
        "import mf"
      ],
      "execution_count": null,
      "outputs": []
    },
    {
      "cell_type": "markdown",
      "metadata": {
        "id": "k5aTQo_7D3KW"
      },
      "source": [
        "# Preprocessing"
      ]
    },
    {
      "cell_type": "markdown",
      "metadata": {
        "id": "snsMJMlJ3Dcu"
      },
      "source": [
        "## Feature scaling"
      ]
    },
    {
      "cell_type": "markdown",
      "metadata": {
        "id": "fkebeV1E5pX-"
      },
      "source": [
        "Implemento il min max scaling delle features. \r\n",
        "\r\n",
        "Riferimento: https://towardsdatascience.com/data-normalization-with-pandas-and-scikit-learn-7c1cc6ed6475"
      ]
    },
    {
      "cell_type": "code",
      "metadata": {
        "id": "Kiu5JWhDvX3C"
      },
      "source": [
        "if not os.path.isfile('/content/drive/MyDrive/Tesi_magistrale/Dataset/IEEE/Output/corr_data.csv'):\r\n",
        "  correlation_data = min_max_scaling(correlation_data)\r\n",
        "  correlation_data.to_csv(r'./corr_data.csv')\r\n",
        "\r\n",
        "if not os.path.isfile('/content/drive/MyDrive/Tesi_magistrale/Dataset/IEEE/Output/data.csv'):\r\n",
        "  correlation_data = pd.read_csv('/content/drive/MyDrive/Tesi_magistrale/Dataset/IEEE/Output/corr_data.csv')"
      ],
      "execution_count": null,
      "outputs": []
    },
    {
      "cell_type": "markdown",
      "metadata": {
        "id": "Wm21M5BTc2-v"
      },
      "source": [
        "Riferimento `save_model` e `load_model`: https://stackoverflow.com/questions/56107259/how-to-save-a-trained-model-by-scikit-learn\r\n",
        "\r\n",
        "Riferimento confusion matrix: https://scikit-learn.org/stable/auto_examples/model_selection/plot_confusion_matrix.html\r\n"
      ]
    },
    {
      "cell_type": "markdown",
      "metadata": {
        "id": "FpbwsvUFX0iY"
      },
      "source": [
        "### Dataset merging"
      ]
    },
    {
      "cell_type": "markdown",
      "metadata": {
        "id": "6-XUASHDX0iY"
      },
      "source": [
        "Funzione che ritorna la lista delle colonne significative. "
      ]
    },
    {
      "cell_type": "code",
      "metadata": {
        "id": "fUhFjfNyHixl"
      },
      "source": [
        "import warnings\r\n",
        "warnings.simplefilter(action='ignore', category=FutureWarning) # serve per ignorare i FutureWarning"
      ],
      "execution_count": null,
      "outputs": []
    },
    {
      "cell_type": "markdown",
      "metadata": {
        "id": "P_aHaIF0QR8W"
      },
      "source": [
        "Rimpiazzo i missing values in categorical data con unknown. \r\n",
        "\r\n",
        "Unisco i dataset numerici e categorici nel dataframe data. \r\n",
        "\r\n",
        "Riferimento fillna: https://jamesrledoux.com/code/imputation"
      ]
    },
    {
      "cell_type": "code",
      "metadata": {
        "id": "3CA67WePVnds"
      },
      "source": [
        "if not os.path.isfile('/content/drive/MyDrive/Tesi_magistrale/Dataset/IEEE/Output/data.csv'):\r\n",
        "  col_to_drop = col_not_sign(categorical_data, cat_sign_col)\r\n",
        "  categorical_data = categorical_data.drop(col_to_drop, axis=1)\r\n",
        "  categorical_data = categorical_data.fillna('unknown')\r\n",
        "  data = pd.merge(correlation_data, categorical_data, left_on='TransactionID', right_on='TransactionID', how='left')\r\n",
        "  del correlation_data, categorical_data, numerical_data\r\n",
        "  data.to_csv(r'./data.csv')\r\n",
        "\r\n",
        "data = pd.read_csv('/content/drive/MyDrive/Tesi_magistrale/Dataset/IEEE/Output/data.csv')\r\n",
        "data.drop(data.columns[data.columns.str.contains('unnamed',case = False)],axis = 1, inplace = True)"
      ],
      "execution_count": null,
      "outputs": []
    },
    {
      "cell_type": "markdown",
      "metadata": {
        "id": "jacF5JtkXHvp"
      },
      "source": [
        "## One hot encoding"
      ]
    },
    {
      "cell_type": "markdown",
      "metadata": {
        "id": "0YusuKvQSS-V"
      },
      "source": [
        "One hot encoding delle features categoriche. Serve per lo smote e easy ensemble. \r\n",
        "\r\n",
        "Bisogna farlo prima dello split del dataset poichè rischio di perdere delle colonne. "
      ]
    },
    {
      "cell_type": "code",
      "metadata": {
        "id": "uDzEOd7O-E03"
      },
      "source": [
        "data = pd.get_dummies(data)"
      ],
      "execution_count": null,
      "outputs": []
    },
    {
      "cell_type": "code",
      "metadata": {
        "id": "ouq64I1r5lkR"
      },
      "source": [
        "cols = mf.get_col(data)"
      ],
      "execution_count": null,
      "outputs": []
    },
    {
      "cell_type": "markdown",
      "metadata": {
        "id": "SMz_bK6DTJRl"
      },
      "source": [
        "Seleziono i dati appartenenti ai primi 60 giorni. \r\n",
        "\r\n",
        "Se ne seleziono di più, l'easy ensemble non va. "
      ]
    },
    {
      "cell_type": "code",
      "metadata": {
        "id": "dhRSkafFKcEn"
      },
      "source": [
        "data = mf.select_days(data, 60)"
      ],
      "execution_count": null,
      "outputs": []
    },
    {
      "cell_type": "code",
      "metadata": {
        "id": "nbBciwGXTU6j"
      },
      "source": [
        "from sklearn import preprocessing\r\n",
        "\r\n",
        "min_max_scaler = preprocessing.MinMaxScaler()\r\n",
        "time = data['TransactionDT'].values.reshape(-1,1)\r\n",
        "# t = min_max_scaler.fit_transform(time)\r\n",
        "data['TransactionDT'] = min_max_scaler.fit_transform(time)"
      ],
      "execution_count": null,
      "outputs": []
    },
    {
      "cell_type": "markdown",
      "metadata": {
        "id": "m8EkabwNTN1C"
      },
      "source": [
        "Splitto il dataset in train, validation e test set. "
      ]
    },
    {
      "cell_type": "code",
      "metadata": {
        "id": "0cz8y-FhBpi9"
      },
      "source": [
        "X_train, X_val, y_train, y_val = mf.split(data, test_size = 0.2)\r\n",
        "del data\r\n",
        "X_train, X_test, y_train, y_test = train_test_split(X_train, y_train, test_size=0.25, random_state=42)"
      ],
      "execution_count": null,
      "outputs": []
    },
    {
      "cell_type": "markdown",
      "metadata": {
        "id": "EIX6IijNRgn0"
      },
      "source": [
        "## Undersampling: Easy Ensemble"
      ]
    },
    {
      "cell_type": "markdown",
      "metadata": {
        "id": "sjJGUsMyNGuw"
      },
      "source": [
        "L'easy ensemble tramite un metodo unsupervised divide il dataset in diversi dataset undersampled. \r\n",
        "\r\n",
        "Documentazione easy ensemble: http://glemaitre.github.io/imbalanced-learn/generated/imblearn.ensemble.EasyEnsemble.html#imblearn.ensemble.EasyEnsemble\r\n",
        "\r\n",
        "Esempio applicazio ee: http://glemaitre.github.io/imbalanced-learn/auto_examples/ensemble/plot_easy_ensemble.html?highlight=easy%20ensemble"
      ]
    },
    {
      "cell_type": "code",
      "metadata": {
        "id": "vdiM8saOHFOI"
      },
      "source": [
        "X_trainres, y_trainres = mf.easy_ensemble(5, X_train, y_train)"
      ],
      "execution_count": null,
      "outputs": []
    },
    {
      "cell_type": "code",
      "metadata": {
        "id": "sV5gGRbjzBiq"
      },
      "source": [
        "X_trainres_df = pd.DataFrame(data = X_trainres[0], columns = cols)\r\n",
        "del X_trainres"
      ],
      "execution_count": null,
      "outputs": []
    },
    {
      "cell_type": "markdown",
      "metadata": {
        "id": "WaM9aKNRCbki"
      },
      "source": [
        "# Autoencoder"
      ]
    },
    {
      "cell_type": "markdown",
      "metadata": {
        "id": "hd3-OVT5CeRW"
      },
      "source": [
        "Codice: https://medium.com/swlh/anomaly-detection-with-autoencoders-2bd23dedbd9e\r\n",
        "\r\n",
        "Altro su keras: https://medium.com/datadriveninvestor/deep-autoencoder-using-keras-b77cd3e8be95"
      ]
    },
    {
      "cell_type": "code",
      "metadata": {
        "id": "HWrpIT6ICdvF"
      },
      "source": [
        ""
      ],
      "execution_count": null,
      "outputs": []
    }
  ]
}