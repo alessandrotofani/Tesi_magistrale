{
  "nbformat": 4,
  "nbformat_minor": 0,
  "metadata": {
    "colab": {
      "name": "3_Autoencoder.ipynb",
      "provenance": [],
      "authorship_tag": "ABX9TyN4RLOtKTen/G4EtnqGztbl",
      "include_colab_link": true
    },
    "kernelspec": {
      "name": "python3",
      "display_name": "Python 3"
    },
    "accelerator": "GPU"
  },
  "cells": [
    {
      "cell_type": "markdown",
      "metadata": {
        "id": "view-in-github",
        "colab_type": "text"
      },
      "source": [
        "<a href=\"https://colab.research.google.com/github/alessandrotofani/Tesi_magistrale/blob/master/3_Autoencoder.ipynb\" target=\"_parent\"><img src=\"https://colab.research.google.com/assets/colab-badge.svg\" alt=\"Open In Colab\"/></a>"
      ]
    },
    {
      "cell_type": "markdown",
      "metadata": {
        "id": "8-eTUKS6D9Fs"
      },
      "source": [
        "# Import"
      ]
    },
    {
      "cell_type": "code",
      "metadata": {
        "colab": {
          "base_uri": "https://localhost:8080/"
        },
        "id": "xtV-QCEPDVju",
        "outputId": "5660a88e-2c69-419e-fc84-47fc436e5968"
      },
      "source": [
        "import numpy as np # linear algebra\r\n",
        "import pandas as pd # data processing\r\n",
        "import matplotlib\r\n",
        "import matplotlib.pyplot as plt\r\n",
        "import seaborn as sns\r\n",
        "import os\r\n",
        "from google.colab import drive\r\n",
        "drive.mount('/content/drive')\r\n",
        "from sklearn.model_selection import train_test_split\r\n",
        "\r\n",
        "\r\n",
        "for dirname, _, filenames in os.walk('/content/drive/MyDrive/Tesi_magistrale/Dataset/IEEE'):\r\n",
        "    for filename in filenames:\r\n",
        "        print(os.path.join(dirname, filename))"
      ],
      "execution_count": 1,
      "outputs": [
        {
          "output_type": "stream",
          "text": [
            "Drive already mounted at /content/drive; to attempt to forcibly remount, call drive.mount(\"/content/drive\", force_remount=True).\n",
            "/content/drive/MyDrive/Tesi_magistrale/Dataset/IEEE/train_transaction.csv\n",
            "/content/drive/MyDrive/Tesi_magistrale/Dataset/IEEE/train_identity.csv\n",
            "/content/drive/MyDrive/Tesi_magistrale/Dataset/IEEE/Output/original_data.csv\n",
            "/content/drive/MyDrive/Tesi_magistrale/Dataset/IEEE/Output/num_sign_col.txt\n",
            "/content/drive/MyDrive/Tesi_magistrale/Dataset/IEEE/Output/fitted.csv\n",
            "/content/drive/MyDrive/Tesi_magistrale/Dataset/IEEE/Output/num_sign_col_mice.txt\n",
            "/content/drive/MyDrive/Tesi_magistrale/Dataset/IEEE/Output/cat_sign_col.txt\n",
            "/content/drive/MyDrive/Tesi_magistrale/Dataset/IEEE/Output/corr_data.csv\n",
            "/content/drive/MyDrive/Tesi_magistrale/Dataset/IEEE/Output/data.csv\n",
            "/content/drive/MyDrive/Tesi_magistrale/Dataset/IEEE/Output/fitted_old/fitted.csv\n",
            "/content/drive/MyDrive/Tesi_magistrale/Dataset/IEEE/Output/fitted_old/cat_sign_col.txt\n",
            "/content/drive/MyDrive/Tesi_magistrale/Dataset/IEEE/Output/fitted_old/num_sign_col_mice.txt\n",
            "/content/drive/MyDrive/Tesi_magistrale/Dataset/IEEE/Output/fitted_old/readme.txt\n",
            "/content/drive/MyDrive/Tesi_magistrale/Dataset/IEEE/Output/modelli/catboost\n",
            "/content/drive/MyDrive/Tesi_magistrale/Dataset/IEEE/Output/modelli/catboost_class_weights\n"
          ],
          "name": "stdout"
        }
      ]
    },
    {
      "cell_type": "code",
      "metadata": {
        "id": "QSvV9n8XDd1_"
      },
      "source": [
        "import sys \r\n",
        "sys.path.append('/content/drive/MyDrive/Tesi_magistrale/Tesi_magistrale')\r\n",
        "import mf"
      ],
      "execution_count": 2,
      "outputs": []
    },
    {
      "cell_type": "markdown",
      "metadata": {
        "id": "k5aTQo_7D3KW"
      },
      "source": [
        "# Preprocessing"
      ]
    },
    {
      "cell_type": "markdown",
      "metadata": {
        "id": "snsMJMlJ3Dcu"
      },
      "source": [
        "## Feature scaling"
      ]
    },
    {
      "cell_type": "markdown",
      "metadata": {
        "id": "fkebeV1E5pX-"
      },
      "source": [
        "Implemento il min max scaling delle features. \r\n",
        "\r\n",
        "Riferimento: https://towardsdatascience.com/data-normalization-with-pandas-and-scikit-learn-7c1cc6ed6475"
      ]
    },
    {
      "cell_type": "code",
      "metadata": {
        "id": "Kiu5JWhDvX3C"
      },
      "source": [
        "if not os.path.isfile('/content/drive/MyDrive/Tesi_magistrale/Dataset/IEEE/Output/corr_data.csv'):\r\n",
        "  correlation_data = min_max_scaling(correlation_data)\r\n",
        "  correlation_data.to_csv(r'./corr_data.csv')\r\n",
        "\r\n",
        "if not os.path.isfile('/content/drive/MyDrive/Tesi_magistrale/Dataset/IEEE/Output/data.csv'):\r\n",
        "  correlation_data = pd.read_csv('/content/drive/MyDrive/Tesi_magistrale/Dataset/IEEE/Output/corr_data.csv')"
      ],
      "execution_count": 3,
      "outputs": []
    },
    {
      "cell_type": "markdown",
      "metadata": {
        "id": "Wm21M5BTc2-v"
      },
      "source": [
        "Riferimento `save_model` e `load_model`: https://stackoverflow.com/questions/56107259/how-to-save-a-trained-model-by-scikit-learn\r\n",
        "\r\n",
        "Riferimento confusion matrix: https://scikit-learn.org/stable/auto_examples/model_selection/plot_confusion_matrix.html\r\n"
      ]
    },
    {
      "cell_type": "markdown",
      "metadata": {
        "id": "FpbwsvUFX0iY"
      },
      "source": [
        "### Dataset merging"
      ]
    },
    {
      "cell_type": "markdown",
      "metadata": {
        "id": "6-XUASHDX0iY"
      },
      "source": [
        "Funzione che ritorna la lista delle colonne significative. "
      ]
    },
    {
      "cell_type": "code",
      "metadata": {
        "id": "fUhFjfNyHixl"
      },
      "source": [
        "import warnings\r\n",
        "warnings.simplefilter(action='ignore', category=FutureWarning) # serve per ignorare i FutureWarning"
      ],
      "execution_count": 4,
      "outputs": []
    },
    {
      "cell_type": "markdown",
      "metadata": {
        "id": "P_aHaIF0QR8W"
      },
      "source": [
        "Rimpiazzo i missing values in categorical data con unknown. \r\n",
        "\r\n",
        "Unisco i dataset numerici e categorici nel dataframe data. \r\n",
        "\r\n",
        "Riferimento fillna: https://jamesrledoux.com/code/imputation"
      ]
    },
    {
      "cell_type": "code",
      "metadata": {
        "id": "3CA67WePVnds"
      },
      "source": [
        "if not os.path.isfile('/content/drive/MyDrive/Tesi_magistrale/Dataset/IEEE/Output/data.csv'):\r\n",
        "  col_to_drop = col_not_sign(categorical_data, cat_sign_col)\r\n",
        "  categorical_data = categorical_data.drop(col_to_drop, axis=1)\r\n",
        "  categorical_data = categorical_data.fillna('unknown')\r\n",
        "  data = pd.merge(correlation_data, categorical_data, left_on='TransactionID', right_on='TransactionID', how='left')\r\n",
        "  del correlation_data, categorical_data, numerical_data\r\n",
        "  data.to_csv(r'./data.csv')\r\n",
        "\r\n",
        "data = pd.read_csv('/content/drive/MyDrive/Tesi_magistrale/Dataset/IEEE/Output/data.csv')\r\n",
        "data.drop(data.columns[data.columns.str.contains('unnamed',case = False)],axis = 1, inplace = True)"
      ],
      "execution_count": 5,
      "outputs": []
    },
    {
      "cell_type": "markdown",
      "metadata": {
        "id": "jacF5JtkXHvp"
      },
      "source": [
        "## One hot encoding"
      ]
    },
    {
      "cell_type": "markdown",
      "metadata": {
        "id": "0YusuKvQSS-V"
      },
      "source": [
        "One hot encoding delle features categoriche. Serve per lo smote e easy ensemble. \r\n",
        "\r\n",
        "Bisogna farlo prima dello split del dataset poichè rischio di perdere delle colonne. "
      ]
    },
    {
      "cell_type": "code",
      "metadata": {
        "id": "uDzEOd7O-E03"
      },
      "source": [
        "data = pd.get_dummies(data)"
      ],
      "execution_count": 6,
      "outputs": []
    },
    {
      "cell_type": "code",
      "metadata": {
        "id": "ouq64I1r5lkR"
      },
      "source": [
        "cols = mf.get_col(data)"
      ],
      "execution_count": 7,
      "outputs": []
    },
    {
      "cell_type": "markdown",
      "metadata": {
        "id": "SMz_bK6DTJRl"
      },
      "source": [
        "Seleziono i dati appartenenti ai primi 60 giorni. \r\n",
        "\r\n",
        "Se ne seleziono di più, l'easy ensemble non va. "
      ]
    },
    {
      "cell_type": "code",
      "metadata": {
        "id": "dhRSkafFKcEn"
      },
      "source": [
        "data = mf.select_days(data, 60)"
      ],
      "execution_count": 8,
      "outputs": []
    },
    {
      "cell_type": "markdown",
      "metadata": {
        "id": "9Li-JBOzcNjL"
      },
      "source": [
        "## Time scaling"
      ]
    },
    {
      "cell_type": "code",
      "metadata": {
        "id": "nbBciwGXTU6j"
      },
      "source": [
        "from sklearn import preprocessing\r\n",
        "\r\n",
        "min_max_scaler = preprocessing.MinMaxScaler()\r\n",
        "time = data['TransactionDT'].values.reshape(-1,1)\r\n",
        "data['TransactionDT'] = min_max_scaler.fit_transform(time)"
      ],
      "execution_count": 9,
      "outputs": []
    },
    {
      "cell_type": "markdown",
      "metadata": {
        "id": "WLwNC-RfdpGF"
      },
      "source": [
        "## Train validation test split"
      ]
    },
    {
      "cell_type": "code",
      "metadata": {
        "id": "PhL83KaZjNkI"
      },
      "source": [
        "data.drop(columns=['TransactionID'], inplace=True)"
      ],
      "execution_count": 10,
      "outputs": []
    },
    {
      "cell_type": "code",
      "metadata": {
        "id": "uVJxf4nfd3Ed"
      },
      "source": [
        "safe = data[data['isFraud'] == 0]\r\n",
        "fraud = data[data['isFraud'] == 1]\r\n",
        "# fraud.drop(columns=['isFraud'], inplace=True)\r\n",
        "del data"
      ],
      "execution_count": 11,
      "outputs": []
    },
    {
      "cell_type": "markdown",
      "metadata": {
        "id": "m8EkabwNTN1C"
      },
      "source": [
        "Splitto il dataset in train, validation e test set. "
      ]
    },
    {
      "cell_type": "code",
      "metadata": {
        "id": "0cz8y-FhBpi9"
      },
      "source": [
        "X_train, X_val, y_train, y_val = mf.split(safe, test_size = 0.2)\r\n",
        "del safe\r\n",
        "X_train, X_test, y_train, y_test = train_test_split(X_train, y_train, test_size=0.25, random_state=42)\r\n",
        "del y_train, y_val, y_test"
      ],
      "execution_count": 12,
      "outputs": []
    },
    {
      "cell_type": "code",
      "metadata": {
        "id": "VFqrEQ_cDcqN"
      },
      "source": [
        "fraud_train, fraud_test, y_fraud_train, y_fraud_test = mf.split(fraud, test_size = 0.2)\r\n",
        "del fraud, y_fraud_train, y_fraud_test"
      ],
      "execution_count": 13,
      "outputs": []
    },
    {
      "cell_type": "markdown",
      "metadata": {
        "id": "WaM9aKNRCbki"
      },
      "source": [
        "# Autoencoder"
      ]
    },
    {
      "cell_type": "markdown",
      "metadata": {
        "id": "n_fueW_6Ctr9"
      },
      "source": [
        "### Training"
      ]
    },
    {
      "cell_type": "markdown",
      "metadata": {
        "id": "hd3-OVT5CeRW"
      },
      "source": [
        "Codice: https://medium.com/swlh/anomaly-detection-with-autoencoders-2bd23dedbd9e\r\n",
        "\r\n",
        "Altro su keras: https://medium.com/datadriveninvestor/deep-autoencoder-using-keras-b77cd3e8be95"
      ]
    },
    {
      "cell_type": "code",
      "metadata": {
        "id": "HWrpIT6ICdvF"
      },
      "source": [
        "from keras.layers import Input, Dense\r\n",
        "from keras.models import Model\r\n",
        "\r\n",
        "input = Input(shape=(X_train.shape[1],))\r\n",
        "encoded = Dense(units=128, activation='relu')(input)\r\n",
        "# encoded = Dense(units=64, activation='relu')(encoded)\r\n",
        "# encoded = Dense(units=32, activation='relu')(encoded)\r\n",
        "decoded = Dense(units=32, activation='relu')(encoded)\r\n",
        "# decoded = Dense(units=64, activation='relu')(encoded)\r\n",
        "decoded = Dense(units=128, activation='relu')(decoded)\r\n",
        "decoded = Dense(units=X_train.shape[1], activation='sigmoid')(decoded)"
      ],
      "execution_count": 14,
      "outputs": []
    },
    {
      "cell_type": "code",
      "metadata": {
        "id": "Wcj7kxyAdRmS"
      },
      "source": [
        "autoencoder=Model(input, decoded)\r\n",
        "encoder = Model(input, encoded)\r\n",
        "# autoencoder.summary()\r\n",
        "autoencoder.compile(optimizer='adam', loss='mean_squared_error', metrics=['accuracy'])"
      ],
      "execution_count": 15,
      "outputs": []
    },
    {
      "cell_type": "code",
      "metadata": {
        "id": "j0nxRIf-gViW",
        "outputId": "dcae5dbb-fafb-49aa-f0d9-51698a0f404f",
        "colab": {
          "base_uri": "https://localhost:8080/",
          "height": 1000
        }
      },
      "source": [
        "# history = autoencoder.fit(X_train, X_train, epochs=30, batch_size=1000, shuffle=True,\r\n",
        "history = autoencoder.fit(X_train, X_train, epochs=30, batch_size=10000, shuffle=True,\r\n",
        "                validation_data=(X_val, X_val))\r\n",
        "\r\n",
        "plt.plot(history.history['loss'])\r\n",
        "plt.plot(history.history['val_loss'])\r\n",
        "plt.title('Model Loss')\r\n",
        "plt.ylabel('Loss')\r\n",
        "plt.xlabel('Epoch')\r\n",
        "plt.legend(['Train', 'Test'], loc='upper left')\r\n",
        "plt.show()"
      ],
      "execution_count": 16,
      "outputs": [
        {
          "output_type": "stream",
          "text": [
            "Epoch 1/30\n",
            "13/13 [==============================] - 11s 760ms/step - loss: 0.2326 - accuracy: 0.0000e+00 - val_loss: 0.1189 - val_accuracy: 0.0000e+00\n",
            "Epoch 2/30\n",
            "13/13 [==============================] - 4s 314ms/step - loss: 0.0654 - accuracy: 0.0000e+00 - val_loss: 0.0062 - val_accuracy: 0.0000e+00\n",
            "Epoch 3/30\n",
            "13/13 [==============================] - 4s 294ms/step - loss: 0.0061 - accuracy: 0.0000e+00 - val_loss: 0.0058 - val_accuracy: 0.0000e+00\n",
            "Epoch 4/30\n",
            "13/13 [==============================] - 4s 293ms/step - loss: 0.0057 - accuracy: 0.0000e+00 - val_loss: 0.0056 - val_accuracy: 0.0000e+00\n",
            "Epoch 5/30\n",
            "13/13 [==============================] - 4s 296ms/step - loss: 0.0055 - accuracy: 0.0000e+00 - val_loss: 0.0053 - val_accuracy: 0.0000e+00\n",
            "Epoch 6/30\n",
            "13/13 [==============================] - 4s 282ms/step - loss: 0.0053 - accuracy: 0.0000e+00 - val_loss: 0.0050 - val_accuracy: 0.0000e+00\n",
            "Epoch 7/30\n",
            "13/13 [==============================] - 4s 290ms/step - loss: 0.0049 - accuracy: 0.0000e+00 - val_loss: 0.0044 - val_accuracy: 0.0000e+00\n",
            "Epoch 8/30\n",
            "13/13 [==============================] - 4s 292ms/step - loss: 0.0042 - accuracy: 0.0000e+00 - val_loss: 0.0036 - val_accuracy: 0.0000e+00\n",
            "Epoch 9/30\n",
            "13/13 [==============================] - 4s 294ms/step - loss: 0.0035 - accuracy: 0.0000e+00 - val_loss: 0.0033 - val_accuracy: 0.0000e+00\n",
            "Epoch 10/30\n",
            "13/13 [==============================] - 4s 293ms/step - loss: 0.0033 - accuracy: 0.0000e+00 - val_loss: 0.0032 - val_accuracy: 0.0000e+00\n",
            "Epoch 11/30\n",
            "13/13 [==============================] - 4s 290ms/step - loss: 0.0032 - accuracy: 0.0000e+00 - val_loss: 0.0031 - val_accuracy: 0.0000e+00\n",
            "Epoch 12/30\n",
            "13/13 [==============================] - 4s 289ms/step - loss: 0.0031 - accuracy: 3.4443e-04 - val_loss: 0.0030 - val_accuracy: 0.0206\n",
            "Epoch 13/30\n",
            "13/13 [==============================] - 4s 289ms/step - loss: 0.0030 - accuracy: 0.0606 - val_loss: 0.0029 - val_accuracy: 0.1286\n",
            "Epoch 14/30\n",
            "13/13 [==============================] - 4s 295ms/step - loss: 0.0029 - accuracy: 0.0712 - val_loss: 0.0029 - val_accuracy: 0.0000e+00\n",
            "Epoch 15/30\n",
            "13/13 [==============================] - 4s 292ms/step - loss: 0.0029 - accuracy: 0.0000e+00 - val_loss: 0.0028 - val_accuracy: 0.0000e+00\n",
            "Epoch 16/30\n",
            "13/13 [==============================] - 4s 291ms/step - loss: 0.0028 - accuracy: 0.0000e+00 - val_loss: 0.0027 - val_accuracy: 0.0000e+00\n",
            "Epoch 17/30\n",
            "13/13 [==============================] - 4s 282ms/step - loss: 0.0027 - accuracy: 0.0000e+00 - val_loss: 0.0027 - val_accuracy: 0.0000e+00\n",
            "Epoch 18/30\n",
            "13/13 [==============================] - 4s 286ms/step - loss: 0.0027 - accuracy: 0.0000e+00 - val_loss: 0.0026 - val_accuracy: 0.0000e+00\n",
            "Epoch 19/30\n",
            "13/13 [==============================] - 4s 293ms/step - loss: 0.0026 - accuracy: 0.0000e+00 - val_loss: 0.0026 - val_accuracy: 0.0000e+00\n",
            "Epoch 20/30\n",
            "13/13 [==============================] - 4s 286ms/step - loss: 0.0026 - accuracy: 0.0000e+00 - val_loss: 0.0025 - val_accuracy: 0.0000e+00\n",
            "Epoch 21/30\n",
            "13/13 [==============================] - 4s 299ms/step - loss: 0.0025 - accuracy: 0.0000e+00 - val_loss: 0.0025 - val_accuracy: 0.0000e+00\n",
            "Epoch 22/30\n",
            "13/13 [==============================] - 4s 288ms/step - loss: 0.0024 - accuracy: 0.0000e+00 - val_loss: 0.0024 - val_accuracy: 0.0000e+00\n",
            "Epoch 23/30\n",
            "13/13 [==============================] - 4s 287ms/step - loss: 0.0023 - accuracy: 0.0000e+00 - val_loss: 0.0023 - val_accuracy: 0.0000e+00\n",
            "Epoch 24/30\n",
            "13/13 [==============================] - 4s 295ms/step - loss: 0.0022 - accuracy: 0.0000e+00 - val_loss: 0.0022 - val_accuracy: 0.0000e+00\n",
            "Epoch 25/30\n",
            "13/13 [==============================] - 4s 288ms/step - loss: 0.0022 - accuracy: 0.0000e+00 - val_loss: 0.0021 - val_accuracy: 0.0000e+00\n",
            "Epoch 26/30\n",
            "13/13 [==============================] - 4s 288ms/step - loss: 0.0021 - accuracy: 0.0000e+00 - val_loss: 0.0020 - val_accuracy: 0.0000e+00\n",
            "Epoch 27/30\n",
            "13/13 [==============================] - 4s 290ms/step - loss: 0.0020 - accuracy: 0.0000e+00 - val_loss: 0.0020 - val_accuracy: 0.0000e+00\n",
            "Epoch 28/30\n",
            "13/13 [==============================] - 4s 286ms/step - loss: 0.0020 - accuracy: 0.0000e+00 - val_loss: 0.0020 - val_accuracy: 0.0000e+00\n",
            "Epoch 29/30\n",
            "13/13 [==============================] - 4s 286ms/step - loss: 0.0020 - accuracy: 0.0000e+00 - val_loss: 0.0020 - val_accuracy: 0.0000e+00\n",
            "Epoch 30/30\n",
            "13/13 [==============================] - 4s 285ms/step - loss: 0.0020 - accuracy: 0.0000e+00 - val_loss: 0.0019 - val_accuracy: 0.0000e+00\n"
          ],
          "name": "stdout"
        },
        {
          "output_type": "display_data",
          "data": {
            "image/png": "[encoded data removed]",
            "text/plain": [
              "<Figure size 432x288 with 1 Axes>"
            ]
          },
          "metadata": {
            "tags": [],
            "needs_background": "light"
          }
        }
      ]
    },
    {
      "cell_type": "markdown",
      "metadata": {
        "id": "GR9t7x9nCyh5"
      },
      "source": [
        "### Scelta della soglia"
      ]
    },
    {
      "cell_type": "markdown",
      "metadata": {
        "id": "ellhVkSE7yCT"
      },
      "source": [
        "Calcolo la ricostruzione dei validation set fatta dall'autoencoder. "
      ]
    },
    {
      "cell_type": "code",
      "metadata": {
        "id": "eQO5DtAQgdKp"
      },
      "source": [
        "# encoded = encoder.predict(X_val)\r\n",
        "# n = fraud.shape[0]\r\n",
        "\r\n",
        "# X_val_predicted = autoencoder.predict(X_val)\r\n",
        "# # X_val_predicted = autoencoder.predict(X_val[:n])\r\n",
        "# fraud_train_predicted = autoencoder.predict(fraud_train)"
      ],
      "execution_count": 17,
      "outputs": []
    },
    {
      "cell_type": "markdown",
      "metadata": {
        "id": "YdKKRbGx75e6"
      },
      "source": [
        "Calcolo il MSE per ogni feature vector e costruisco due dataset che poi unirò. "
      ]
    },
    {
      "cell_type": "code",
      "metadata": {
        "id": "bfIcyPZlKGdT"
      },
      "source": [
        "def mse_calc(X, X_pred):\r\n",
        "  from sklearn.metrics import mean_squared_error\r\n",
        "  err = []\r\n",
        "\r\n",
        "  for i in range(X.shape[0]):\r\n",
        "    err.append(mean_squared_error(X.iloc[i], X_pred[i]))\r\n",
        "\r\n",
        "  return err\r\n",
        "\r\n",
        "def mse(safe, fraud, autoencoder):\r\n",
        "\r\n",
        "  safe_predicted = autoencoder.predict(safe)\r\n",
        "  fraud_predicted = autoencoder.predict(fraud)\r\n",
        "\r\n",
        "  safe_errors = mse_calc(safe, safe_predicted)\r\n",
        "  fraud_errors = mse_calc(fraud, fraud_predicted)\r\n",
        "\r\n",
        "  return safe_errors, fraud_errors\r\n",
        "\r\n",
        "def make_df(X_val, fraud_train, autoencoder):\r\n",
        "  safe_errors, fraud_errors = mse(X_val, fraud_train, autoencoder) \r\n",
        "\r\n",
        "  safe_df = pd.DataFrame({'mse': safe_errors, 'anomaly': np.zeros(len(safe_errors))})\r\n",
        "  fraud_df = pd.DataFrame({'mse': fraud_errors,\t'anomaly': np.ones(len(fraud_errors))})\r\n",
        "\r\n",
        "  mse_df = pd.concat([safe_df, fraud_df])\r\n",
        "\r\n",
        "  return mse_df\r\n",
        "\r\n",
        "mse_df = make_df(X_val, fraud_train, autoencoder)"
      ],
      "execution_count": 18,
      "outputs": []
    },
    {
      "cell_type": "markdown",
      "metadata": {
        "id": "p8mD5OG-EsjL"
      },
      "source": [
        "hline: https://stackoverflow.com/questions/60309406/draw-horizontal-line-on-facetplot-seaborn-relplot"
      ]
    },
    {
      "cell_type": "code",
      "metadata": {
        "id": "fC-Gsdat21Ks",
        "colab": {
          "base_uri": "https://localhost:8080/",
          "height": 279
        },
        "outputId": "562a825d-c27b-426a-b432-69a3df4cde43"
      },
      "source": [
        "plot = sns.boxplot(x='anomaly', y='mse', hue='anomaly', data = mse_df)\r\n",
        "soglia = 0.0008\r\n",
        "plot.axhline(soglia, ls='--', linewidth=1, color='red')\r\n",
        "\r\n",
        "plt.show()"
      ],
      "execution_count": 21,
      "outputs": [
        {
          "output_type": "display_data",
          "data": {
            "image/png": "[encoded data removed]",
            "text/plain": [
              "<Figure size 432x288 with 1 Axes>"
            ]
          },
          "metadata": {
            "tags": [],
            "needs_background": "light"
          }
        }
      ]
    },
    {
      "cell_type": "code",
      "metadata": {
        "id": "aT6O8AMsDhFP",
        "outputId": "c44a6798-3425-439e-bf28-6ba00e37aba6",
        "colab": {
          "base_uri": "https://localhost:8080/",
          "height": 386
        }
      },
      "source": [
        "sns.displot(mse_df, x=\"mse\", hue=\"anomaly\", stat=\"probability\", common_norm=False, multiple = 'dodge')"
      ],
      "execution_count": 22,
      "outputs": [
        {
          "output_type": "execute_result",
          "data": {
            "text/plain": [
              "<seaborn.axisgrid.FacetGrid at 0x7fc032a1fcf8>"
            ]
          },
          "metadata": {
            "tags": []
          },
          "execution_count": 22
        },
        {
          "output_type": "display_data",
          "data": {
            "image/png": "[encoded data removed]",
            "text/plain": [
              "<Figure size 411.875x360 with 1 Axes>"
            ]
          },
          "metadata": {
            "tags": [],
            "needs_background": "light"
          }
        }
      ]
    },
    {
      "cell_type": "code",
      "metadata": {
        "id": "f--G6NfMEEPt",
        "outputId": "7d18445d-2ad7-47d8-987d-907bf34781a0",
        "colab": {
          "base_uri": "https://localhost:8080/",
          "height": 386
        }
      },
      "source": [
        "sns.displot(mse_df, x=\"mse\", hue=\"anomaly\", kind=\"ecdf\")"
      ],
      "execution_count": 23,
      "outputs": [
        {
          "output_type": "execute_result",
          "data": {
            "text/plain": [
              "<seaborn.axisgrid.FacetGrid at 0x7fbff0268a90>"
            ]
          },
          "metadata": {
            "tags": []
          },
          "execution_count": 23
        },
        {
          "output_type": "display_data",
          "data": {
            "image/png": "[encoded data removed]",
            "text/plain": [
              "<Figure size 411.875x360 with 1 Axes>"
            ]
          },
          "metadata": {
            "tags": [],
            "needs_background": "light"
          }
        }
      ]
    },
    {
      "cell_type": "code",
      "metadata": {
        "id": "PfCA-Zpm9R6e",
        "outputId": "a3218d4a-3129-4d63-8334-5fe0416ea785",
        "colab": {
          "base_uri": "https://localhost:8080/"
        }
      },
      "source": [
        "print(mse_df[mse_df['anomaly'] == 0].quantile(0.5)[0].round(5))\r\n",
        "print(mse_df[mse_df['anomaly'] == 1].quantile(0.3)[0].round(5))"
      ],
      "execution_count": 28,
      "outputs": [
        {
          "output_type": "stream",
          "text": [
            "0.00161\n",
            "0.00164\n"
          ],
          "name": "stdout"
        }
      ]
    },
    {
      "cell_type": "code",
      "metadata": {
        "id": "XeCofPUZIJZY"
      },
      "source": [
        "soglia = mse_df[mse_df['anomaly'] == 0].quantile(0.5)[0].round(5)"
      ],
      "execution_count": 29,
      "outputs": []
    },
    {
      "cell_type": "markdown",
      "metadata": {
        "id": "HQy_ZoUBJgRH"
      },
      "source": [
        "### Test modello"
      ]
    },
    {
      "cell_type": "code",
      "metadata": {
        "id": "dD2YPO0v-tpR",
        "outputId": "7c2aad28-a88f-479b-8177-711420f7c49f",
        "colab": {
          "base_uri": "https://localhost:8080/"
        }
      },
      "source": [
        "def performance_autoencoder(X_test, fraud_test, autoencoder, soglia):\r\n",
        "  from sklearn.metrics import confusion_matrix\r\n",
        "\r\n",
        "  mse_df = make_df(X_test, fraud_test, autoencoder)\r\n",
        "  y_pred = []\r\n",
        "  for mse in mse_df['mse']:\r\n",
        "    if mse > soglia:\r\n",
        "      y_pred.append(0)\r\n",
        "    if mse < soglia:\r\n",
        "      y_pred.append(1)\r\n",
        "\r\n",
        "  y_safe = np.zeros(X_test.shape[0])\r\n",
        "  y_fraud = np.ones(fraud_test.shape[0])\r\n",
        "  y_true = np.concatenate((y_safe, y_fraud))\r\n",
        "\r\n",
        "  print(confusion_matrix(y_true, y_pred))\r\n",
        "  return \r\n",
        "\r\n",
        "performance_autoencoder(X_test, fraud_test, autoencoder, soglia)"
      ],
      "execution_count": 44,
      "outputs": [
        {
          "output_type": "stream",
          "text": [
            "[[21256 21531]\n",
            " [  983   391]]\n"
          ],
          "name": "stdout"
        }
      ]
    },
    {
      "cell_type": "code",
      "metadata": {
        "id": "1yuiBv73MyuG"
      },
      "source": [
        ""
      ],
      "execution_count": null,
      "outputs": []
    }
  ]
}