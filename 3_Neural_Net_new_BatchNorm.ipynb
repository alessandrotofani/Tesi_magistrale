{
  "nbformat": 4,
  "nbformat_minor": 0,
  "metadata": {
    "colab": {
      "name": "3_Neural_Net.ipynb",
      "provenance": [],
      "authorship_tag": "ABX9TyOy83yAlBo9+1jB8CrPH/cc",
      "include_colab_link": true
    },
    "kernelspec": {
      "name": "python3",
      "display_name": "Python 3"
    },
    "accelerator": "GPU"
  },
  "cells": [
    {
      "cell_type": "markdown",
      "metadata": {
        "id": "view-in-github",
        "colab_type": "text"
      },
      "source": [
        "<a href=\"https://colab.research.google.com/github/alessandrotofani/Tesi_magistrale/blob/master/3_Neural_Net_new_BatchNorm.ipynb\" target=\"_parent\"><img src=\"https://colab.research.google.com/assets/colab-badge.svg\" alt=\"Open In Colab\"/></a>"
      ]
    },
    {
      "cell_type": "markdown",
      "metadata": {
        "id": "8-eTUKS6D9Fs"
      },
      "source": [
        "# Import"
      ]
    },
    {
      "cell_type": "code",
      "metadata": {
        "colab": {
          "base_uri": "https://localhost:8080/"
        },
        "id": "xtV-QCEPDVju",
        "outputId": "ddd3d819-a107-4885-a4a4-19760b4d0bc5"
      },
      "source": [
        "import numpy as np # linear algebra\r\n",
        "import pandas as pd # data processing\r\n",
        "import matplotlib\r\n",
        "import matplotlib.pyplot as plt\r\n",
        "import seaborn as sns\r\n",
        "import os\r\n",
        "from google.colab import drive\r\n",
        "drive.mount('/content/drive')\r\n",
        "from sklearn.model_selection import train_test_split"
      ],
      "execution_count": 1,
      "outputs": [
        {
          "output_type": "stream",
          "text": [
            "Mounted at /content/drive\n"
          ],
          "name": "stdout"
        }
      ]
    },
    {
      "cell_type": "code",
      "metadata": {
        "id": "QSvV9n8XDd1_"
      },
      "source": [
        "import sys \r\n",
        "sys.path.append('/content/drive/MyDrive/Tesi_magistrale/Tesi_magistrale')\r\n",
        "import mf\r\n",
        "import warnings\r\n",
        "warnings.simplefilter(action='ignore', category=FutureWarning)"
      ],
      "execution_count": 2,
      "outputs": []
    },
    {
      "cell_type": "code",
      "metadata": {
        "id": "vLwIrSvoSR7S",
        "colab": {
          "base_uri": "https://localhost:8080/"
        },
        "outputId": "c974a709-9523-45f9-9c51-45a88b2f55d2"
      },
      "source": [
        "!pip install --quiet fastai==2.2.5"
      ],
      "execution_count": 3,
      "outputs": [
        {
          "output_type": "stream",
          "text": [
            "\u001b[K     |████████████████████████████████| 194kB 17.0MB/s \n",
            "\u001b[K     |████████████████████████████████| 61kB 9.3MB/s \n",
            "\u001b[?25h"
          ],
          "name": "stdout"
        }
      ]
    },
    {
      "cell_type": "markdown",
      "metadata": {
        "id": "k5aTQo_7D3KW"
      },
      "source": [
        "# Preprocessing"
      ]
    },
    {
      "cell_type": "code",
      "metadata": {
        "id": "3CA67WePVnds"
      },
      "source": [
        "data = pd.read_csv('/content/drive/MyDrive/Tesi_magistrale/Dataset/IEEE/Output/data.csv')\r\n",
        "data = mf.new_processing(data)\r\n",
        "# data = pd.get_dummies(data)"
      ],
      "execution_count": 4,
      "outputs": []
    },
    {
      "cell_type": "code",
      "metadata": {
        "id": "ouq64I1r5lkR"
      },
      "source": [
        "cols = mf.get_col(data)"
      ],
      "execution_count": 5,
      "outputs": []
    },
    {
      "cell_type": "code",
      "metadata": {
        "id": "GRYQU4obQE8V"
      },
      "source": [
        "from fastai.tabular.all import *"
      ],
      "execution_count": 6,
      "outputs": []
    },
    {
      "cell_type": "code",
      "metadata": {
        "id": "ruoqZDmGS48a"
      },
      "source": [
        "categorical_col = data.select_dtypes(include=['object']).columns.tolist()"
      ],
      "execution_count": 7,
      "outputs": []
    },
    {
      "cell_type": "code",
      "metadata": {
        "id": "9WHzC-MHVTBV"
      },
      "source": [
        "def get_numerical_col(data, categorical_col):\n",
        "  numerical_col = []\n",
        "  for col in data.columns:\n",
        "    if col not in categorical_col and col != 'isFraud':\n",
        "      numerical_col.append(col)\n",
        "  return numerical_col\n",
        "\n",
        "numerical_col = get_numerical_col(data, categorical_col)"
      ],
      "execution_count": 8,
      "outputs": []
    },
    {
      "cell_type": "markdown",
      "metadata": {
        "id": "_IkJQpHuhnXm"
      },
      "source": [
        "Tutorial: https://docs.fast.ai/tutorial.tabular.html\n",
        "\n",
        "Book: https://github.com/fastai/fastbook/blob/master/09_tabular.ipynb"
      ]
    },
    {
      "cell_type": "code",
      "metadata": {
        "id": "uss-vsWXQE3E"
      },
      "source": [
        "fasted = TabularPandas(data, procs=[Categorify],\n",
        "                   cat_names = categorical_col,\n",
        "                   cont_names = numerical_col,\n",
        "                   y_names='isFraud')\n",
        "                  #  splits=splits)"
      ],
      "execution_count": 9,
      "outputs": []
    },
    {
      "cell_type": "code",
      "metadata": {
        "id": "X-fjffG1UwkY"
      },
      "source": [
        "X_train, y_train = fasted.xs, fasted.ys.values.ravel()\n",
        "# X_test, y_test = fasted.valid.xs, fasted.valid.ys.values.ravel()"
      ],
      "execution_count": 10,
      "outputs": []
    },
    {
      "cell_type": "code",
      "metadata": {
        "id": "GAffYKlMcKoQ",
        "colab": {
          "base_uri": "https://localhost:8080/"
        },
        "outputId": "689aafbe-3ad3-46b8-86a3-dadd351beaa6"
      },
      "source": [
        "for col in categorical_col:\n",
        "  print('Feature',col, 'has',X_train[col].max(), 'different categorical values')"
      ],
      "execution_count": 11,
      "outputs": [
        {
          "output_type": "stream",
          "text": [
            "Feature ProductCD has 5 different categorical values\n",
            "Feature card4 has 5 different categorical values\n",
            "Feature card6 has 5 different categorical values\n",
            "Feature P_emaildomain has 60 different categorical values\n",
            "Feature R_emaildomain has 61 different categorical values\n",
            "Feature M2 has 3 different categorical values\n",
            "Feature M3 has 3 different categorical values\n",
            "Feature M4 has 4 different categorical values\n",
            "Feature M5 has 3 different categorical values\n",
            "Feature M6 has 3 different categorical values\n",
            "Feature M7 has 3 different categorical values\n",
            "Feature M8 has 3 different categorical values\n",
            "Feature M9 has 3 different categorical values\n",
            "Feature id_12 has 3 different categorical values\n",
            "Feature id_15 has 4 different categorical values\n",
            "Feature id_16 has 3 different categorical values\n",
            "Feature id_27 has 3 different categorical values\n",
            "Feature id_28 has 3 different categorical values\n",
            "Feature id_29 has 3 different categorical values\n",
            "Feature id_35 has 3 different categorical values\n",
            "Feature id_36 has 3 different categorical values\n",
            "Feature id_37 has 3 different categorical values\n",
            "Feature id_38 has 3 different categorical values\n",
            "Feature DeviceType has 3 different categorical values\n",
            "Feature device_name has 14 different categorical values\n",
            "Feature device_version has 294 different categorical values\n",
            "Feature os_name has 8 different categorical values\n",
            "Feature browser_name has 40 different categorical values\n"
          ],
          "name": "stdout"
        }
      ]
    },
    {
      "cell_type": "code",
      "metadata": {
        "id": "Da6EBrZcrZpF"
      },
      "source": [
        "categorical_col_toemb = []\n",
        "one_hot_encode = []\n",
        "for col in categorical_col:\n",
        "  if X_train[col].max() > 7:\n",
        "    categorical_col_toemb.append(col)\n",
        "  else:\n",
        "    one_hot_encode.append(col)\n",
        "\n",
        "X_train = pd.get_dummies(X_train, columns=one_hot_encode)\n",
        "cols = mf.get_col(X_train)"
      ],
      "execution_count": 12,
      "outputs": []
    },
    {
      "cell_type": "code",
      "metadata": {
        "id": "pDwfRa1mr7Jy"
      },
      "source": [
        "numerical_col = get_numerical_col(X_train, categorical_col_toemb)"
      ],
      "execution_count": 13,
      "outputs": []
    },
    {
      "cell_type": "markdown",
      "metadata": {
        "id": "WLwNC-RfdpGF"
      },
      "source": [
        "## Train validation test split"
      ]
    },
    {
      "cell_type": "markdown",
      "metadata": {
        "id": "m8EkabwNTN1C"
      },
      "source": [
        "Splitto il dataset in train, validation e test set. "
      ]
    },
    {
      "cell_type": "code",
      "metadata": {
        "id": "QTS6eJT9AGlU"
      },
      "source": [
        "def overSampling(X, y, frac_over=0.1):\n",
        "  from imblearn.over_sampling import SMOTE\n",
        "  sm = SMOTE(sampling_strategy=frac_over, random_state=42)\n",
        "  X_sm, y_sm = sm.fit_resample(X, y)  \n",
        "  return X_sm, y_sm"
      ],
      "execution_count": 14,
      "outputs": []
    },
    {
      "cell_type": "code",
      "metadata": {
        "id": "b1lw52XFUZBG"
      },
      "source": [
        "X_train, X_test, y_train, y_test = train_test_split(X_train, y_train, test_size = 0.2)\n",
        "X_train, y_train = overSampling(X_train, y_train)\n",
        "X_train, X_val, y_train, y_val = train_test_split(X_train, y_train, test_size=0.25, random_state=42)"
      ],
      "execution_count": 15,
      "outputs": []
    },
    {
      "cell_type": "code",
      "metadata": {
        "id": "dqOMoTQ-xkQo"
      },
      "source": [
        "save_id = False \r\n",
        "\r\n",
        "if save_id:\r\n",
        "  train_id = X_train.index.tolist()\r\n",
        "  val_id = X_val.index.tolist()\r\n",
        "  test_id = X_test.index.tolist()\r\n",
        "  mf.save_list('train_id',train_id)\r\n",
        "  mf.save_list('val_id', val_id)\r\n",
        "  mf.save_list('test_id', test_id)\r\n",
        "\r\n",
        "load_id = False \r\n",
        "if load_id:\r\n",
        "  mf.load_list('train_id',train_id)\r\n",
        "  mf.load_list('val_id', val_id)\r\n",
        "  mf.load_list('test_id', test_id)"
      ],
      "execution_count": 16,
      "outputs": []
    },
    {
      "cell_type": "markdown",
      "metadata": {
        "id": "XcNlmAIrLUcB"
      },
      "source": [
        "# Neural Network"
      ]
    },
    {
      "cell_type": "markdown",
      "metadata": {
        "id": "HypjIBuVX2UT"
      },
      "source": [
        "Kaggle tutorial https://www.kaggle.com/colinmorris/embedding-layers\n",
        "\n",
        "Implementation: https://www.kaggle.com/blaskowitz100/dnn-keras-and-categorical-feature-embedding"
      ]
    },
    {
      "cell_type": "code",
      "metadata": {
        "id": "-19ItfoMTD0L"
      },
      "source": [
        "import tensorflow as tf\n",
        "from tensorflow import keras\n",
        "from tensorflow.keras import models\n",
        "from tensorflow.keras import layers\n",
        "\n",
        "keras.backend.clear_session()\n",
        "# Embedding for categorical features\n",
        "categorical_input = []\n",
        "numerical_input = []\n",
        "embeddings = []\n",
        "embedding_layer_names = []\n",
        "for col in categorical_col_toemb:\n",
        "# for col in categorical_col:\n",
        "    _input = layers.Input(shape=[1], name=col)\n",
        "    _embed = layers.Embedding(fasted[col].max() + 1, 3, name=col+'_emb')(_input)\n",
        "    categorical_input.append(_input)\n",
        "    embeddings.append(_embed)\n",
        "    embedding_layer_names.append(col+'_emb')\n",
        "    \n",
        "# Simple inputs for the numeric features\n",
        "for col in numerical_col:\n",
        "    numeric_input = layers.Input(shape=(1,), name=col)\n",
        "    numerical_input.append(numeric_input)\n",
        "    \n",
        "# Merge the numeric inputs\n",
        "merged_num_inputs = layers.concatenate(numerical_input)\n",
        "\n",
        "# Merge embedding and use a Droput to prevent overfittting\n",
        "merged_inputs = layers.concatenate(embeddings)\n",
        "spatial_dropout = layers.SpatialDropout1D(0.5)(merged_inputs)\n",
        "flat_embed = layers.Flatten()(spatial_dropout)\n",
        "\n",
        "# Merge embedding and numeric features\n",
        "all_features = layers.concatenate([flat_embed, merged_num_inputs])\n",
        "\n",
        "# MLP for classification\n",
        "# x = layers.Dense(512, activation=tf.keras.activations.gelu)(all_features)\n",
        "# x = layers.BatchNormalization()(x)\n",
        "# x = layers.Dropout(0.3)(x)\n",
        "x = layers.Dense(256, activation=tf.keras.activations.gelu)(all_features)\n",
        "x = layers.BatchNormalization()(x)\n",
        "x = layers.Dense(128, activation=tf.keras.activations.gelu)(x)\n",
        "x = layers.BatchNormalization()(x)\n",
        "x = layers.Dropout(0.3)(x)\n",
        "\n",
        "# Final model\n",
        "output = layers.Dense(1, activation='sigmoid')(x)\n",
        "model = models.Model(inputs=categorical_input + numerical_input, outputs=output)"
      ],
      "execution_count": 52,
      "outputs": []
    },
    {
      "cell_type": "code",
      "metadata": {
        "id": "UtPJD6YkUKZe"
      },
      "source": [
        "model.compile(loss='binary_crossentropy', optimizer='adam', metrics=['accuracy',tf.keras.metrics.Recall(), tf.keras.metrics.Precision()])\n",
        "# print(model.summary())"
      ],
      "execution_count": 53,
      "outputs": []
    },
    {
      "cell_type": "code",
      "metadata": {
        "id": "kJxOM99jPYxe"
      },
      "source": [
        "def get_keras_dataset(X, cols):\n",
        "  df = pd.DataFrame(data=X, columns=cols)\n",
        "  X = {str(col) : np.array(df[col]) for col in df.columns}\n",
        "  return X"
      ],
      "execution_count": 54,
      "outputs": []
    },
    {
      "cell_type": "code",
      "metadata": {
        "colab": {
          "base_uri": "https://localhost:8080/"
        },
        "id": "DcxHJc6-OD5P",
        "outputId": "6a5d9995-cb3b-4ee1-b783-26d914f2169d"
      },
      "source": [
        "history = model.fit(\r\n",
        "    get_keras_dataset(X_train, cols), \r\n",
        "    y_train,\r\n",
        "    epochs=20, \r\n",
        "    batch_size=2048, \r\n",
        "    validation_data=(get_keras_dataset(X_val, cols),y_val),\r\n",
        "    verbose=1,\r\n",
        "    shuffle = True , #class_weight = {0: 1, 1: ratio / 2}\r\n",
        ")"
      ],
      "execution_count": 55,
      "outputs": [
        {
          "output_type": "stream",
          "text": [
            "Epoch 1/20\n",
            "184/184 [==============================] - 11s 48ms/step - loss: 0.5967 - accuracy: 0.7305 - recall: 0.5160 - precision: 0.1840 - val_loss: 0.2932 - val_accuracy: 0.9147 - val_recall: 0.0848 - val_precision: 0.9101\n",
            "Epoch 2/20\n",
            "184/184 [==============================] - 8s 41ms/step - loss: 0.2430 - accuracy: 0.9179 - recall: 0.3347 - precision: 0.5854 - val_loss: 0.2742 - val_accuracy: 0.9265 - val_recall: 0.3356 - val_precision: 0.7188\n",
            "Epoch 3/20\n",
            "184/184 [==============================] - 7s 41ms/step - loss: 0.2091 - accuracy: 0.9278 - recall: 0.3440 - precision: 0.7034 - val_loss: 0.3028 - val_accuracy: 0.8889 - val_recall: 0.6165 - val_precision: 0.4293\n",
            "Epoch 4/20\n",
            "184/184 [==============================] - 7s 40ms/step - loss: 0.1946 - accuracy: 0.9321 - recall: 0.3798 - precision: 0.7391 - val_loss: 0.2177 - val_accuracy: 0.9318 - val_recall: 0.5090 - val_precision: 0.6726\n",
            "Epoch 5/20\n",
            "184/184 [==============================] - 7s 41ms/step - loss: 0.1874 - accuracy: 0.9346 - recall: 0.3984 - precision: 0.7641 - val_loss: 0.1912 - val_accuracy: 0.9361 - val_recall: 0.4097 - val_precision: 0.8023\n",
            "Epoch 6/20\n",
            "184/184 [==============================] - 7s 40ms/step - loss: 0.1789 - accuracy: 0.9374 - recall: 0.4326 - precision: 0.7727 - val_loss: 0.1932 - val_accuracy: 0.9336 - val_recall: 0.5061 - val_precision: 0.6928\n",
            "Epoch 7/20\n",
            "184/184 [==============================] - 8s 41ms/step - loss: 0.1734 - accuracy: 0.9394 - recall: 0.4526 - precision: 0.7821 - val_loss: 0.1787 - val_accuracy: 0.9375 - val_recall: 0.5132 - val_precision: 0.7306\n",
            "Epoch 8/20\n",
            "184/184 [==============================] - 7s 41ms/step - loss: 0.1695 - accuracy: 0.9405 - recall: 0.4682 - precision: 0.7884 - val_loss: 0.1733 - val_accuracy: 0.9396 - val_recall: 0.4168 - val_precision: 0.8552\n",
            "Epoch 9/20\n",
            "184/184 [==============================] - 7s 40ms/step - loss: 0.1636 - accuracy: 0.9421 - recall: 0.4834 - precision: 0.7983 - val_loss: 0.1851 - val_accuracy: 0.9367 - val_recall: 0.6336 - val_precision: 0.6650\n",
            "Epoch 10/20\n",
            "184/184 [==============================] - 8s 41ms/step - loss: 0.1596 - accuracy: 0.9441 - recall: 0.5014 - precision: 0.8083 - val_loss: 0.1789 - val_accuracy: 0.9410 - val_recall: 0.4953 - val_precision: 0.7867\n",
            "Epoch 11/20\n",
            "184/184 [==============================] - 7s 40ms/step - loss: 0.1540 - accuracy: 0.9463 - recall: 0.5299 - precision: 0.8094 - val_loss: 0.1883 - val_accuracy: 0.9381 - val_recall: 0.3623 - val_precision: 0.9190\n",
            "Epoch 12/20\n",
            "184/184 [==============================] - 7s 41ms/step - loss: 0.1491 - accuracy: 0.9479 - recall: 0.5424 - precision: 0.8207 - val_loss: 0.1991 - val_accuracy: 0.9415 - val_recall: 0.4065 - val_precision: 0.9101\n",
            "Epoch 13/20\n",
            "184/184 [==============================] - 7s 40ms/step - loss: 0.1441 - accuracy: 0.9492 - recall: 0.5565 - precision: 0.8255 - val_loss: 0.1570 - val_accuracy: 0.9467 - val_recall: 0.4876 - val_precision: 0.8823\n",
            "Epoch 14/20\n",
            "184/184 [==============================] - 7s 40ms/step - loss: 0.1416 - accuracy: 0.9505 - recall: 0.5676 - precision: 0.8329 - val_loss: 0.1507 - val_accuracy: 0.9481 - val_recall: 0.5705 - val_precision: 0.8114\n",
            "Epoch 15/20\n",
            "184/184 [==============================] - 8s 41ms/step - loss: 0.1372 - accuracy: 0.9522 - recall: 0.5789 - precision: 0.8417 - val_loss: 0.1779 - val_accuracy: 0.9389 - val_recall: 0.4594 - val_precision: 0.7917\n",
            "Epoch 16/20\n",
            "184/184 [==============================] - 8s 41ms/step - loss: 0.1329 - accuracy: 0.9533 - recall: 0.5979 - precision: 0.8405 - val_loss: 0.1475 - val_accuracy: 0.9514 - val_recall: 0.5649 - val_precision: 0.8606\n",
            "Epoch 17/20\n",
            "184/184 [==============================] - 7s 41ms/step - loss: 0.1306 - accuracy: 0.9545 - recall: 0.6073 - precision: 0.8451 - val_loss: 0.1453 - val_accuracy: 0.9515 - val_recall: 0.5815 - val_precision: 0.8458\n",
            "Epoch 18/20\n",
            "184/184 [==============================] - 8s 41ms/step - loss: 0.1289 - accuracy: 0.9549 - recall: 0.6100 - precision: 0.8456 - val_loss: 0.1609 - val_accuracy: 0.9480 - val_recall: 0.4842 - val_precision: 0.9113\n",
            "Epoch 19/20\n",
            "184/184 [==============================] - 7s 41ms/step - loss: 0.1254 - accuracy: 0.9566 - recall: 0.6277 - precision: 0.8556 - val_loss: 0.1468 - val_accuracy: 0.9500 - val_recall: 0.4989 - val_precision: 0.9251\n",
            "Epoch 20/20\n",
            "184/184 [==============================] - 7s 40ms/step - loss: 0.1213 - accuracy: 0.9579 - recall: 0.6321 - precision: 0.8591 - val_loss: 0.1470 - val_accuracy: 0.9481 - val_recall: 0.6608 - val_precision: 0.7481\n"
          ],
          "name": "stdout"
        }
      ]
    },
    {
      "cell_type": "markdown",
      "metadata": {
        "id": "p-TwZZx0AOxO"
      },
      "source": [
        "# Performance evaluation"
      ]
    },
    {
      "cell_type": "code",
      "metadata": {
        "id": "WKOHvmiVOsaP"
      },
      "source": [
        "# test_loss, test_acc = model.evaluate(get_keras_dataset(X_test, cols), y_test)\r\n",
        "\r\n",
        "# print()\r\n",
        "# print('Test Loss:\\t', test_loss)\r\n",
        "# print('Test Accuracy:\\t', test_acc)"
      ],
      "execution_count": 56,
      "outputs": []
    },
    {
      "cell_type": "code",
      "metadata": {
        "id": "ujQ7C2bhQXLN"
      },
      "source": [
        "y_pred = model.predict(get_keras_dataset(X_test, cols))"
      ],
      "execution_count": 57,
      "outputs": []
    },
    {
      "cell_type": "code",
      "metadata": {
        "colab": {
          "base_uri": "https://localhost:8080/",
          "height": 350
        },
        "id": "TWs-nW4IPaQC",
        "outputId": "1653bc8a-cb6f-4cde-86f2-06c0e1c8276e"
      },
      "source": [
        "mf.plot_cm(y_test, y_pred, 'Blues')"
      ],
      "execution_count": 58,
      "outputs": [
        {
          "output_type": "display_data",
          "data": {
            "image/png": "[encoded data removed]",
            "text/plain": [
              "<Figure size 360x360 with 2 Axes>"
            ]
          },
          "metadata": {
            "tags": [],
            "needs_background": "light"
          }
        }
      ]
    },
    {
      "cell_type": "code",
      "metadata": {
        "colab": {
          "base_uri": "https://localhost:8080/",
          "height": 297
        },
        "id": "4ivKw-JpPkVG",
        "outputId": "7f0dfbd7-b0ba-41a8-fef2-6f724fb26ff2"
      },
      "source": [
        "mf.plot_roc(\"ROC curve\", y_test, y_pred,color='blue')"
      ],
      "execution_count": 59,
      "outputs": [
        {
          "output_type": "stream",
          "text": [
            "AUC:  0.8907678113030059\n"
          ],
          "name": "stdout"
        },
        {
          "output_type": "display_data",
          "data": {
            "image/png": "[encoded data removed]",
            "text/plain": [
              "<Figure size 432x288 with 1 Axes>"
            ]
          },
          "metadata": {
            "tags": [],
            "needs_background": "light"
          }
        }
      ]
    },
    {
      "cell_type": "code",
      "metadata": {
        "colab": {
          "base_uri": "https://localhost:8080/",
          "height": 297
        },
        "id": "mbjYisJaYevS",
        "outputId": "ce5ef1c9-6411-4cf8-9f59-37d13b6b1bc2"
      },
      "source": [
        "mf.plot_ap('Precision-Recall curve', y_test, y_pred, color = 'red')"
      ],
      "execution_count": 60,
      "outputs": [
        {
          "output_type": "stream",
          "text": [
            "Average precision:  0.5210934270116719\n"
          ],
          "name": "stdout"
        },
        {
          "output_type": "display_data",
          "data": {
            "image/png": "[encoded data removed]",
            "text/plain": [
              "<Figure size 432x288 with 1 Axes>"
            ]
          },
          "metadata": {
            "tags": [],
            "needs_background": "light"
          }
        }
      ]
    },
    {
      "cell_type": "code",
      "metadata": {
        "id": "2G6888leAwmt"
      },
      "source": [
        "y_predicted = []\r\n",
        "for prob in y_pred:\r\n",
        "  if prob >= 0.5:\r\n",
        "    y_predicted.append(1)\r\n",
        "  else:\r\n",
        "    y_predicted.append(0)"
      ],
      "execution_count": 61,
      "outputs": []
    },
    {
      "cell_type": "code",
      "metadata": {
        "id": "9O9ms_BTfptM",
        "colab": {
          "base_uri": "https://localhost:8080/"
        },
        "outputId": "2bc20c1e-77e4-4fe6-c4e8-289a28aac9c9"
      },
      "source": [
        "from sklearn.metrics import f1_score, recall_score, precision_score\r\n",
        "print('F1 score: ',f1_score(y_test, y_predicted, average=\"binary\"))\r\n",
        "print('Recall: ', recall_score(y_test, y_predicted, average='binary'))\r\n",
        "print('Precision: ', precision_score(y_test, y_predicted,  average='binary'))"
      ],
      "execution_count": 62,
      "outputs": [
        {
          "output_type": "stream",
          "text": [
            "F1 score:  0.4840997483413407\n",
            "Recall:  0.5133430373605046\n",
            "Precision:  0.45800865800865803\n"
          ],
          "name": "stdout"
        }
      ]
    },
    {
      "cell_type": "code",
      "metadata": {
        "id": "aYR5BCcTm108"
      },
      "source": [
        ""
      ],
      "execution_count": 62,
      "outputs": []
    }
  ]
}