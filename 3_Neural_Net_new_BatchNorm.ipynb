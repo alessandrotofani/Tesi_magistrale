{
  "nbformat": 4,
  "nbformat_minor": 0,
  "metadata": {
    "colab": {
      "name": "3_Neural_Net.ipynb",
      "provenance": [],
      "authorship_tag": "ABX9TyPUW9rCO0WyRTHMaEhLBXK3",
      "include_colab_link": true
    },
    "kernelspec": {
      "name": "python3",
      "display_name": "Python 3"
    },
    "accelerator": "GPU"
  },
  "cells": [
    {
      "cell_type": "markdown",
      "metadata": {
        "id": "view-in-github",
        "colab_type": "text"
      },
      "source": [
        "<a href=\"https://colab.research.google.com/github/alessandrotofani/Tesi_magistrale/blob/master/3_Neural_Net_new_BatchNorm.ipynb\" target=\"_parent\"><img src=\"https://colab.research.google.com/assets/colab-badge.svg\" alt=\"Open In Colab\"/></a>"
      ]
    },
    {
      "cell_type": "markdown",
      "metadata": {
        "id": "8-eTUKS6D9Fs"
      },
      "source": [
        "# Import"
      ]
    },
    {
      "cell_type": "code",
      "metadata": {
        "colab": {
          "base_uri": "https://localhost:8080/"
        },
        "id": "xtV-QCEPDVju",
        "outputId": "bdf2e9f2-9a49-4353-a131-8aa3b7bfb185"
      },
      "source": [
        "import numpy as np # linear algebra\r\n",
        "import pandas as pd # data processing\r\n",
        "import matplotlib\r\n",
        "import matplotlib.pyplot as plt\r\n",
        "import seaborn as sns\r\n",
        "import os\r\n",
        "from google.colab import drive\r\n",
        "drive.mount('/content/drive')\r\n",
        "from sklearn.model_selection import train_test_split"
      ],
      "execution_count": 1,
      "outputs": [
        {
          "output_type": "stream",
          "text": [
            "Mounted at /content/drive\n"
          ],
          "name": "stdout"
        }
      ]
    },
    {
      "cell_type": "code",
      "metadata": {
        "id": "QSvV9n8XDd1_"
      },
      "source": [
        "import sys \r\n",
        "sys.path.append('/content/drive/MyDrive/Tesi_magistrale/Tesi_magistrale')\r\n",
        "import mf\r\n",
        "import warnings\r\n",
        "warnings.simplefilter(action='ignore', category=FutureWarning)"
      ],
      "execution_count": 2,
      "outputs": []
    },
    {
      "cell_type": "code",
      "metadata": {
        "id": "vLwIrSvoSR7S",
        "colab": {
          "base_uri": "https://localhost:8080/"
        },
        "outputId": "4d960167-8f26-4f2f-fe89-4abfb2b1ce46"
      },
      "source": [
        "!pip install --quiet fastai==2.2.5"
      ],
      "execution_count": 3,
      "outputs": [
        {
          "output_type": "stream",
          "text": [
            "\u001b[K     |████████████████████████████████| 194kB 20.7MB/s \n",
            "\u001b[K     |████████████████████████████████| 61kB 10.1MB/s \n",
            "\u001b[?25h"
          ],
          "name": "stdout"
        }
      ]
    },
    {
      "cell_type": "markdown",
      "metadata": {
        "id": "k5aTQo_7D3KW"
      },
      "source": [
        "# Preprocessing"
      ]
    },
    {
      "cell_type": "code",
      "metadata": {
        "id": "3CA67WePVnds"
      },
      "source": [
        "data = pd.read_csv('/content/drive/MyDrive/Tesi_magistrale/Dataset/IEEE/Output/data.csv')\r\n",
        "data = mf.new_processing(data)\r\n",
        "# data = pd.get_dummies(data)"
      ],
      "execution_count": 4,
      "outputs": []
    },
    {
      "cell_type": "code",
      "metadata": {
        "id": "ouq64I1r5lkR"
      },
      "source": [
        "cols = mf.get_col(data)"
      ],
      "execution_count": 5,
      "outputs": []
    },
    {
      "cell_type": "code",
      "metadata": {
        "id": "GRYQU4obQE8V"
      },
      "source": [
        "from fastai.tabular.all import *"
      ],
      "execution_count": 6,
      "outputs": []
    },
    {
      "cell_type": "code",
      "metadata": {
        "id": "ruoqZDmGS48a"
      },
      "source": [
        "categorical_col = data.select_dtypes(include=['object']).columns.tolist()"
      ],
      "execution_count": 7,
      "outputs": []
    },
    {
      "cell_type": "code",
      "metadata": {
        "id": "9WHzC-MHVTBV"
      },
      "source": [
        "def get_numerical_col(data, categorical_col):\n",
        "  numerical_col = []\n",
        "  for col in data.columns:\n",
        "    if col not in categorical_col and col != 'isFraud':\n",
        "      numerical_col.append(col)\n",
        "  return numerical_col\n",
        "\n",
        "numerical_col = get_numerical_col(data, categorical_col)"
      ],
      "execution_count": 8,
      "outputs": []
    },
    {
      "cell_type": "markdown",
      "metadata": {
        "id": "_IkJQpHuhnXm"
      },
      "source": [
        "Tutorial: https://docs.fast.ai/tutorial.tabular.html\n",
        "\n",
        "Book: https://github.com/fastai/fastbook/blob/master/09_tabular.ipynb"
      ]
    },
    {
      "cell_type": "code",
      "metadata": {
        "id": "uss-vsWXQE3E"
      },
      "source": [
        "fasted = TabularPandas(data, procs=[Categorify],\n",
        "                   cat_names = categorical_col,\n",
        "                   cont_names = numerical_col,\n",
        "                   y_names='isFraud')\n",
        "                  #  splits=splits)"
      ],
      "execution_count": 9,
      "outputs": []
    },
    {
      "cell_type": "code",
      "metadata": {
        "id": "X-fjffG1UwkY"
      },
      "source": [
        "X_train, y_train = fasted.xs, fasted.ys.values.ravel()\n",
        "# X_test, y_test = fasted.valid.xs, fasted.valid.ys.values.ravel()"
      ],
      "execution_count": 10,
      "outputs": []
    },
    {
      "cell_type": "code",
      "metadata": {
        "id": "GAffYKlMcKoQ"
      },
      "source": [
        "# for col in categorical_col:\n",
        "#   print('Feature',col, 'has',X_train[col].max(), 'different categorical values')"
      ],
      "execution_count": null,
      "outputs": []
    },
    {
      "cell_type": "code",
      "metadata": {
        "id": "Da6EBrZcrZpF"
      },
      "source": [
        "categorical_col_toemb = []\n",
        "one_hot_encode = []\n",
        "for col in categorical_col:\n",
        "  if X_train[col].max() > 7:\n",
        "    categorical_col_toemb.append(col)\n",
        "  else:\n",
        "    one_hot_encode.append(col)\n",
        "\n",
        "X_train = pd.get_dummies(X_train, columns=one_hot_encode)\n",
        "cols = mf.get_col(X_train)"
      ],
      "execution_count": 12,
      "outputs": []
    },
    {
      "cell_type": "code",
      "metadata": {
        "id": "pDwfRa1mr7Jy"
      },
      "source": [
        "numerical_col = get_numerical_col(X_train, categorical_col_toemb)"
      ],
      "execution_count": 13,
      "outputs": []
    },
    {
      "cell_type": "markdown",
      "metadata": {
        "id": "WLwNC-RfdpGF"
      },
      "source": [
        "## Train validation test split"
      ]
    },
    {
      "cell_type": "markdown",
      "metadata": {
        "id": "m8EkabwNTN1C"
      },
      "source": [
        "Splitto il dataset in train, validation e test set. "
      ]
    },
    {
      "cell_type": "code",
      "metadata": {
        "id": "QTS6eJT9AGlU"
      },
      "source": [
        "def overSampling(X, y, frac_over=0.1):\n",
        "  from imblearn.over_sampling import SMOTE\n",
        "  sm = SMOTE(sampling_strategy=frac_over, random_state=42)\n",
        "  X_sm, y_sm = sm.fit_resample(X, y)  \n",
        "  return X_sm, y_sm"
      ],
      "execution_count": 14,
      "outputs": []
    },
    {
      "cell_type": "code",
      "metadata": {
        "id": "b1lw52XFUZBG"
      },
      "source": [
        "X_train, X_test, y_train, y_test = train_test_split(X_train, y_train, test_size = 0.2)\n",
        "X_train, y_train = overSampling(X_train, y_train)\n",
        "X_train, X_val, y_train, y_val = train_test_split(X_train, y_train, test_size=0.25, random_state=42)"
      ],
      "execution_count": 15,
      "outputs": []
    },
    {
      "cell_type": "code",
      "metadata": {
        "id": "dqOMoTQ-xkQo"
      },
      "source": [
        "save_id = False \r\n",
        "\r\n",
        "if save_id:\r\n",
        "  train_id = X_train.index.tolist()\r\n",
        "  val_id = X_val.index.tolist()\r\n",
        "  test_id = X_test.index.tolist()\r\n",
        "  mf.save_list('train_id',train_id)\r\n",
        "  mf.save_list('val_id', val_id)\r\n",
        "  mf.save_list('test_id', test_id)\r\n",
        "\r\n",
        "load_id = False \r\n",
        "if load_id:\r\n",
        "  mf.load_list('train_id',train_id)\r\n",
        "  mf.load_list('val_id', val_id)\r\n",
        "  mf.load_list('test_id', test_id)"
      ],
      "execution_count": 16,
      "outputs": []
    },
    {
      "cell_type": "markdown",
      "metadata": {
        "id": "XcNlmAIrLUcB"
      },
      "source": [
        "# Neural Network"
      ]
    },
    {
      "cell_type": "markdown",
      "metadata": {
        "id": "HypjIBuVX2UT"
      },
      "source": [
        "Kaggle tutorial https://www.kaggle.com/colinmorris/embedding-layers\n",
        "\n",
        "Implementation: https://www.kaggle.com/blaskowitz100/dnn-keras-and-categorical-feature-embedding"
      ]
    },
    {
      "cell_type": "code",
      "metadata": {
        "id": "-19ItfoMTD0L"
      },
      "source": [
        "import tensorflow as tf\n",
        "from tensorflow import keras\n",
        "from tensorflow.keras import models\n",
        "from tensorflow.keras import layers\n",
        "\n",
        "keras.backend.clear_session()\n",
        "# Embedding for categorical features\n",
        "categorical_input = []\n",
        "numerical_input = []\n",
        "embeddings = []\n",
        "embedding_layer_names = []\n",
        "for col in categorical_col_toemb:\n",
        "# for col in categorical_col:\n",
        "    _input = layers.Input(shape=[1], name=col)\n",
        "    _embed = layers.Embedding(fasted[col].max() + 1, 3, name=col+'_emb')(_input)\n",
        "    categorical_input.append(_input)\n",
        "    embeddings.append(_embed)\n",
        "    embedding_layer_names.append(col+'_emb')\n",
        "    \n",
        "# Simple inputs for the numeric features\n",
        "for col in numerical_col:\n",
        "    numeric_input = layers.Input(shape=(1,), name=col)\n",
        "    numerical_input.append(numeric_input)\n",
        "    \n",
        "# Merge the numeric inputs\n",
        "merged_num_inputs = layers.concatenate(numerical_input)\n",
        "\n",
        "# Merge embedding and use a Droput to prevent overfittting\n",
        "merged_inputs = layers.concatenate(embeddings)\n",
        "spatial_dropout = layers.SpatialDropout1D(0.5)(merged_inputs)\n",
        "flat_embed = layers.Flatten()(spatial_dropout)\n",
        "\n",
        "# Merge embedding and numeric features\n",
        "all_features = layers.concatenate([flat_embed, merged_num_inputs])\n",
        "\n",
        "# MLP for classification\n",
        "# x = layers.Dense(512, activation=tf.keras.activations.gelu)(all_features)\n",
        "# x = layers.BatchNormalization()(x)\n",
        "# x = layers.Dropout(0.3)(x)\n",
        "x = layers.Dense(256, activation=tf.keras.activations.gelu)(all_features)\n",
        "x = layers.BatchNormalization()(x)\n",
        "x = layers.Dropout(0.2)(x)\n",
        "x = layers.Dense(128, activation=tf.keras.activations.gelu)(x)\n",
        "x = layers.BatchNormalization()(x)\n",
        "x = layers.Dropout(0.2)(x)\n",
        "x = layers.Dense(64, activation=tf.keras.activations.gelu)(x)\n",
        "x = layers.BatchNormalization()(x)\n",
        "x = layers.Dropout(0.2)(x)\n",
        "x = layers.Dense(32, activation=tf.keras.activations.gelu)(x)\n",
        "x = layers.BatchNormalization()(x)\n",
        "x = layers.Dropout(0.2)(x)\n",
        "x = layers.Dense(16, activation=tf.keras.activations.gelu)(x)\n",
        "x = layers.BatchNormalization()(x)\n",
        "x = layers.Dropout(0.2)(x)\n",
        "x = layers.Dense(8, activation=tf.keras.activations.gelu)(x)\n",
        "x = layers.BatchNormalization()(x)\n",
        "x = layers.Dropout(0.2)(x)\n",
        "\n",
        "# Final model\n",
        "output = layers.Dense(1, activation='sigmoid')(x)\n",
        "model = models.Model(inputs=categorical_input + numerical_input, outputs=output)"
      ],
      "execution_count": 113,
      "outputs": []
    },
    {
      "cell_type": "code",
      "metadata": {
        "id": "UtPJD6YkUKZe"
      },
      "source": [
        "model.compile(loss='binary_crossentropy', optimizer='adam', metrics=['accuracy',tf.keras.metrics.Recall(), tf.keras.metrics.Precision()])\n",
        "# print(model.summary())"
      ],
      "execution_count": 114,
      "outputs": []
    },
    {
      "cell_type": "code",
      "metadata": {
        "id": "kJxOM99jPYxe"
      },
      "source": [
        "def get_keras_dataset(X, cols):\n",
        "  df = pd.DataFrame(data=X, columns=cols)\n",
        "  X = {str(col) : np.array(df[col]) for col in df.columns}\n",
        "  return X"
      ],
      "execution_count": 115,
      "outputs": []
    },
    {
      "cell_type": "code",
      "metadata": {
        "colab": {
          "base_uri": "https://localhost:8080/"
        },
        "id": "DcxHJc6-OD5P",
        "outputId": "12bb15ee-bc65-4db1-93ff-a5b76f18a7de"
      },
      "source": [
        "history = model.fit(\r\n",
        "    get_keras_dataset(X_train, cols), \r\n",
        "    y_train,\r\n",
        "    epochs=50, \r\n",
        "    batch_size=512, # 2048 1024\r\n",
        "    validation_data=(get_keras_dataset(X_val, cols),y_val),\r\n",
        "    verbose=1,\r\n",
        "    shuffle = True , #class_weight = {0: 1, 1: ratio / 2}\r\n",
        ")"
      ],
      "execution_count": 116,
      "outputs": [
        {
          "output_type": "stream",
          "text": [
            "Epoch 1/50\n",
            "735/735 [==============================] - 28s 33ms/step - loss: 0.5242 - accuracy: 0.7516 - recall: 0.4281 - precision: 0.1842 - val_loss: 0.2391 - val_accuracy: 0.9228 - val_recall: 0.3019 - val_precision: 0.6715\n",
            "Epoch 2/50\n",
            "735/735 [==============================] - 22s 30ms/step - loss: 0.2362 - accuracy: 0.9202 - recall: 0.2171 - precision: 0.6950 - val_loss: 0.2092 - val_accuracy: 0.9261 - val_recall: 0.2518 - val_precision: 0.8020\n",
            "Epoch 3/50\n",
            "735/735 [==============================] - 22s 30ms/step - loss: 0.2209 - accuracy: 0.9232 - recall: 0.2493 - precision: 0.7208 - val_loss: 0.2279 - val_accuracy: 0.9221 - val_recall: 0.1611 - val_precision: 0.9155\n",
            "Epoch 4/50\n",
            "735/735 [==============================] - 22s 31ms/step - loss: 0.2095 - accuracy: 0.9265 - recall: 0.2930 - precision: 0.7350 - val_loss: 0.2088 - val_accuracy: 0.9210 - val_recall: 0.4669 - val_precision: 0.5838\n",
            "Epoch 5/50\n",
            "735/735 [==============================] - 22s 30ms/step - loss: 0.2015 - accuracy: 0.9293 - recall: 0.3352 - precision: 0.7401 - val_loss: 0.1830 - val_accuracy: 0.9353 - val_recall: 0.4221 - val_precision: 0.7624\n",
            "Epoch 6/50\n",
            "735/735 [==============================] - 22s 30ms/step - loss: 0.1944 - accuracy: 0.9321 - recall: 0.3831 - precision: 0.7563 - val_loss: 0.1909 - val_accuracy: 0.9297 - val_recall: 0.5192 - val_precision: 0.6418\n",
            "Epoch 7/50\n",
            "735/735 [==============================] - 22s 31ms/step - loss: 0.1865 - accuracy: 0.9350 - recall: 0.4166 - precision: 0.7579 - val_loss: 0.1753 - val_accuracy: 0.9384 - val_recall: 0.4711 - val_precision: 0.7631\n",
            "Epoch 8/50\n",
            "735/735 [==============================] - 22s 31ms/step - loss: 0.1829 - accuracy: 0.9363 - recall: 0.4435 - precision: 0.7632 - val_loss: 0.1733 - val_accuracy: 0.9394 - val_recall: 0.4066 - val_precision: 0.8510\n",
            "Epoch 9/50\n",
            "735/735 [==============================] - 22s 31ms/step - loss: 0.1773 - accuracy: 0.9383 - recall: 0.4543 - precision: 0.7692 - val_loss: 0.1648 - val_accuracy: 0.9432 - val_recall: 0.4602 - val_precision: 0.8470\n",
            "Epoch 10/50\n",
            "735/735 [==============================] - 22s 31ms/step - loss: 0.1711 - accuracy: 0.9408 - recall: 0.4718 - precision: 0.7897 - val_loss: 0.1668 - val_accuracy: 0.9439 - val_recall: 0.5017 - val_precision: 0.8114\n",
            "Epoch 11/50\n",
            "735/735 [==============================] - 22s 31ms/step - loss: 0.1693 - accuracy: 0.9416 - recall: 0.4933 - precision: 0.7847 - val_loss: 0.1601 - val_accuracy: 0.9435 - val_recall: 0.5306 - val_precision: 0.7795\n",
            "Epoch 12/50\n",
            "735/735 [==============================] - 22s 31ms/step - loss: 0.1656 - accuracy: 0.9428 - recall: 0.5056 - precision: 0.7912 - val_loss: 0.1520 - val_accuracy: 0.9469 - val_recall: 0.5769 - val_precision: 0.7836\n",
            "Epoch 13/50\n",
            "735/735 [==============================] - 22s 31ms/step - loss: 0.1606 - accuracy: 0.9444 - recall: 0.5168 - precision: 0.8001 - val_loss: 0.1589 - val_accuracy: 0.9448 - val_recall: 0.4412 - val_precision: 0.9046\n",
            "Epoch 14/50\n",
            "735/735 [==============================] - 22s 31ms/step - loss: 0.1577 - accuracy: 0.9458 - recall: 0.5238 - precision: 0.8097 - val_loss: 0.1460 - val_accuracy: 0.9488 - val_recall: 0.5168 - val_precision: 0.8680\n",
            "Epoch 15/50\n",
            "735/735 [==============================] - 23s 31ms/step - loss: 0.1566 - accuracy: 0.9459 - recall: 0.5284 - precision: 0.8107 - val_loss: 0.1516 - val_accuracy: 0.9470 - val_recall: 0.4781 - val_precision: 0.8892\n",
            "Epoch 16/50\n",
            "735/735 [==============================] - 22s 31ms/step - loss: 0.1519 - accuracy: 0.9474 - recall: 0.5427 - precision: 0.8138 - val_loss: 0.1424 - val_accuracy: 0.9500 - val_recall: 0.5175 - val_precision: 0.8867\n",
            "Epoch 17/50\n",
            "735/735 [==============================] - 22s 30ms/step - loss: 0.1508 - accuracy: 0.9475 - recall: 0.5452 - precision: 0.8145 - val_loss: 0.1484 - val_accuracy: 0.9466 - val_recall: 0.4766 - val_precision: 0.8850\n",
            "Epoch 18/50\n",
            "735/735 [==============================] - 23s 31ms/step - loss: 0.1495 - accuracy: 0.9482 - recall: 0.5521 - precision: 0.8234 - val_loss: 0.1471 - val_accuracy: 0.9495 - val_recall: 0.5516 - val_precision: 0.8403\n",
            "Epoch 19/50\n",
            "735/735 [==============================] - 22s 30ms/step - loss: 0.1482 - accuracy: 0.9489 - recall: 0.5619 - precision: 0.8210 - val_loss: 0.1402 - val_accuracy: 0.9519 - val_recall: 0.5670 - val_precision: 0.8580\n",
            "Epoch 20/50\n",
            "735/735 [==============================] - 23s 31ms/step - loss: 0.1466 - accuracy: 0.9495 - recall: 0.5603 - precision: 0.8260 - val_loss: 0.1642 - val_accuracy: 0.9382 - val_recall: 0.6707 - val_precision: 0.6585\n",
            "Epoch 21/50\n",
            "735/735 [==============================] - 23s 31ms/step - loss: 0.1445 - accuracy: 0.9503 - recall: 0.5763 - precision: 0.8268 - val_loss: 0.1352 - val_accuracy: 0.9533 - val_recall: 0.6092 - val_precision: 0.8342\n",
            "Epoch 22/50\n",
            "735/735 [==============================] - 23s 31ms/step - loss: 0.1425 - accuracy: 0.9507 - recall: 0.5794 - precision: 0.8313 - val_loss: 0.1412 - val_accuracy: 0.9516 - val_recall: 0.6575 - val_precision: 0.7772\n",
            "Epoch 23/50\n",
            "735/735 [==============================] - 23s 31ms/step - loss: 0.1398 - accuracy: 0.9517 - recall: 0.5813 - precision: 0.8305 - val_loss: 0.1377 - val_accuracy: 0.9529 - val_recall: 0.5605 - val_precision: 0.8800\n",
            "Epoch 24/50\n",
            "735/735 [==============================] - 22s 31ms/step - loss: 0.1398 - accuracy: 0.9521 - recall: 0.5969 - precision: 0.8300 - val_loss: 0.1367 - val_accuracy: 0.9547 - val_recall: 0.5997 - val_precision: 0.8619\n",
            "Epoch 25/50\n",
            "735/735 [==============================] - 23s 31ms/step - loss: 0.1386 - accuracy: 0.9518 - recall: 0.5910 - precision: 0.8293 - val_loss: 0.1396 - val_accuracy: 0.9517 - val_recall: 0.6829 - val_precision: 0.7625\n",
            "Epoch 26/50\n",
            "735/735 [==============================] - 23s 31ms/step - loss: 0.1365 - accuracy: 0.9526 - recall: 0.5958 - precision: 0.8367 - val_loss: 0.1364 - val_accuracy: 0.9524 - val_recall: 0.6578 - val_precision: 0.7859\n",
            "Epoch 27/50\n",
            "735/735 [==============================] - 23s 31ms/step - loss: 0.1349 - accuracy: 0.9533 - recall: 0.5974 - precision: 0.8396 - val_loss: 0.1410 - val_accuracy: 0.9501 - val_recall: 0.5017 - val_precision: 0.9108\n",
            "Epoch 28/50\n",
            "735/735 [==============================] - 23s 31ms/step - loss: 0.1349 - accuracy: 0.9537 - recall: 0.6005 - precision: 0.8435 - val_loss: 0.1379 - val_accuracy: 0.9516 - val_recall: 0.6488 - val_precision: 0.7829\n",
            "Epoch 29/50\n",
            "735/735 [==============================] - 23s 31ms/step - loss: 0.1335 - accuracy: 0.9540 - recall: 0.6056 - precision: 0.8458 - val_loss: 0.1255 - val_accuracy: 0.9558 - val_recall: 0.5792 - val_precision: 0.9011\n",
            "Epoch 30/50\n",
            "735/735 [==============================] - 22s 30ms/step - loss: 0.1345 - accuracy: 0.9538 - recall: 0.6027 - precision: 0.8460 - val_loss: 0.1405 - val_accuracy: 0.9486 - val_recall: 0.7137 - val_precision: 0.7205\n",
            "Epoch 31/50\n",
            "735/735 [==============================] - 23s 31ms/step - loss: 0.1325 - accuracy: 0.9542 - recall: 0.6117 - precision: 0.8452 - val_loss: 0.1302 - val_accuracy: 0.9549 - val_recall: 0.6129 - val_precision: 0.8510\n",
            "Epoch 32/50\n",
            "735/735 [==============================] - 23s 31ms/step - loss: 0.1299 - accuracy: 0.9551 - recall: 0.6180 - precision: 0.8462 - val_loss: 0.1254 - val_accuracy: 0.9569 - val_recall: 0.6027 - val_precision: 0.8896\n",
            "Epoch 33/50\n",
            "735/735 [==============================] - 22s 31ms/step - loss: 0.1304 - accuracy: 0.9556 - recall: 0.6175 - precision: 0.8516 - val_loss: 0.1310 - val_accuracy: 0.9535 - val_recall: 0.5452 - val_precision: 0.9090\n",
            "Epoch 34/50\n",
            "735/735 [==============================] - 23s 31ms/step - loss: 0.1290 - accuracy: 0.9556 - recall: 0.6178 - precision: 0.8492 - val_loss: 0.1559 - val_accuracy: 0.9399 - val_recall: 0.7386 - val_precision: 0.6503\n",
            "Epoch 35/50\n",
            "735/735 [==============================] - 23s 31ms/step - loss: 0.1268 - accuracy: 0.9560 - recall: 0.6282 - precision: 0.8482 - val_loss: 0.1322 - val_accuracy: 0.9539 - val_recall: 0.7276 - val_precision: 0.7576\n",
            "Epoch 36/50\n",
            "735/735 [==============================] - 23s 31ms/step - loss: 0.1269 - accuracy: 0.9562 - recall: 0.6296 - precision: 0.8464 - val_loss: 0.1202 - val_accuracy: 0.9586 - val_recall: 0.6407 - val_precision: 0.8716\n",
            "Epoch 37/50\n",
            "735/735 [==============================] - 22s 30ms/step - loss: 0.1253 - accuracy: 0.9569 - recall: 0.6386 - precision: 0.8515 - val_loss: 0.1459 - val_accuracy: 0.9459 - val_recall: 0.7026 - val_precision: 0.7038\n",
            "Epoch 38/50\n",
            "735/735 [==============================] - 22s 31ms/step - loss: 0.1249 - accuracy: 0.9573 - recall: 0.6354 - precision: 0.8543 - val_loss: 0.1173 - val_accuracy: 0.9599 - val_recall: 0.6593 - val_precision: 0.8696\n",
            "Epoch 39/50\n",
            "735/735 [==============================] - 23s 31ms/step - loss: 0.1230 - accuracy: 0.9573 - recall: 0.6448 - precision: 0.8497 - val_loss: 0.1342 - val_accuracy: 0.9534 - val_recall: 0.7548 - val_precision: 0.7400\n",
            "Epoch 40/50\n",
            "735/735 [==============================] - 22s 30ms/step - loss: 0.1231 - accuracy: 0.9578 - recall: 0.6482 - precision: 0.8531 - val_loss: 0.1208 - val_accuracy: 0.9589 - val_recall: 0.6725 - val_precision: 0.8448\n",
            "Epoch 41/50\n",
            "735/735 [==============================] - 22s 30ms/step - loss: 0.1237 - accuracy: 0.9574 - recall: 0.6406 - precision: 0.8540 - val_loss: 0.1144 - val_accuracy: 0.9605 - val_recall: 0.6873 - val_precision: 0.8514\n",
            "Epoch 42/50\n",
            "735/735 [==============================] - 22s 31ms/step - loss: 0.1241 - accuracy: 0.9572 - recall: 0.6449 - precision: 0.8514 - val_loss: 0.1244 - val_accuracy: 0.9573 - val_recall: 0.7182 - val_precision: 0.7941\n",
            "Epoch 43/50\n",
            "735/735 [==============================] - 23s 31ms/step - loss: 0.1216 - accuracy: 0.9583 - recall: 0.6434 - precision: 0.8602 - val_loss: 0.1267 - val_accuracy: 0.9559 - val_recall: 0.5660 - val_precision: 0.9193\n",
            "Epoch 44/50\n",
            "735/735 [==============================] - 23s 31ms/step - loss: 0.1209 - accuracy: 0.9582 - recall: 0.6427 - precision: 0.8575 - val_loss: 0.1118 - val_accuracy: 0.9626 - val_recall: 0.6893 - val_precision: 0.8744\n",
            "Epoch 45/50\n",
            "735/735 [==============================] - 23s 31ms/step - loss: 0.1203 - accuracy: 0.9586 - recall: 0.6525 - precision: 0.8609 - val_loss: 0.1458 - val_accuracy: 0.9456 - val_recall: 0.7482 - val_precision: 0.6850\n",
            "Epoch 46/50\n",
            "735/735 [==============================] - 22s 31ms/step - loss: 0.1195 - accuracy: 0.9586 - recall: 0.6515 - precision: 0.8584 - val_loss: 0.1155 - val_accuracy: 0.9595 - val_recall: 0.6015 - val_precision: 0.9288\n",
            "Epoch 47/50\n",
            "735/735 [==============================] - 23s 31ms/step - loss: 0.1192 - accuracy: 0.9589 - recall: 0.6533 - precision: 0.8625 - val_loss: 0.1135 - val_accuracy: 0.9613 - val_recall: 0.6397 - val_precision: 0.9088\n",
            "Epoch 48/50\n",
            "735/735 [==============================] - 22s 31ms/step - loss: 0.1172 - accuracy: 0.9598 - recall: 0.6628 - precision: 0.8631 - val_loss: 0.1208 - val_accuracy: 0.9573 - val_recall: 0.7706 - val_precision: 0.7631\n",
            "Epoch 49/50\n",
            "735/735 [==============================] - 23s 31ms/step - loss: 0.1204 - accuracy: 0.9589 - recall: 0.6589 - precision: 0.8585 - val_loss: 0.1430 - val_accuracy: 0.9460 - val_recall: 0.7731 - val_precision: 0.6790\n",
            "Epoch 50/50\n",
            "735/735 [==============================] - 23s 31ms/step - loss: 0.1179 - accuracy: 0.9596 - recall: 0.6636 - precision: 0.8593 - val_loss: 0.1147 - val_accuracy: 0.9610 - val_recall: 0.6323 - val_precision: 0.9131\n"
          ],
          "name": "stdout"
        }
      ]
    },
    {
      "cell_type": "markdown",
      "metadata": {
        "id": "p-TwZZx0AOxO"
      },
      "source": [
        "# Performance evaluation"
      ]
    },
    {
      "cell_type": "code",
      "metadata": {
        "id": "WKOHvmiVOsaP"
      },
      "source": [
        "# test_loss, test_acc = model.evaluate(get_keras_dataset(X_test, cols), y_test)\r\n",
        "\r\n",
        "# print()\r\n",
        "# print('Test Loss:\\t', test_loss)\r\n",
        "# print('Test Accuracy:\\t', test_acc)"
      ],
      "execution_count": 117,
      "outputs": []
    },
    {
      "cell_type": "code",
      "metadata": {
        "id": "ujQ7C2bhQXLN"
      },
      "source": [
        "y_pred = model.predict(get_keras_dataset(X_test, cols))"
      ],
      "execution_count": 118,
      "outputs": []
    },
    {
      "cell_type": "code",
      "metadata": {
        "colab": {
          "base_uri": "https://localhost:8080/",
          "height": 350
        },
        "id": "TWs-nW4IPaQC",
        "outputId": "7d8665a6-986d-486f-a25f-c6a6c453c469"
      },
      "source": [
        "mf.plot_cm(y_test, y_pred, 'Blues')"
      ],
      "execution_count": 119,
      "outputs": [
        {
          "output_type": "display_data",
          "data": {
            "image/png": "[encoded data removed]",
            "text/plain": [
              "<Figure size 360x360 with 2 Axes>"
            ]
          },
          "metadata": {
            "tags": [],
            "needs_background": "light"
          }
        }
      ]
    },
    {
      "cell_type": "code",
      "metadata": {
        "colab": {
          "base_uri": "https://localhost:8080/",
          "height": 297
        },
        "id": "4ivKw-JpPkVG",
        "outputId": "baedb695-c25a-41f2-8110-816f9a182fea"
      },
      "source": [
        "mf.plot_roc(\"ROC curve\", y_test, y_pred,color='blue')"
      ],
      "execution_count": 120,
      "outputs": [
        {
          "output_type": "stream",
          "text": [
            "AUC:  0.9200429028334496\n"
          ],
          "name": "stdout"
        },
        {
          "output_type": "display_data",
          "data": {
            "image/png": "[encoded data removed]",
            "text/plain": [
              "<Figure size 432x288 with 1 Axes>"
            ]
          },
          "metadata": {
            "tags": [],
            "needs_background": "light"
          }
        }
      ]
    },
    {
      "cell_type": "code",
      "metadata": {
        "colab": {
          "base_uri": "https://localhost:8080/",
          "height": 297
        },
        "id": "mbjYisJaYevS",
        "outputId": "167bb127-0927-40f9-f862-8449f7764618"
      },
      "source": [
        "mf.plot_ap('Precision-Recall curve', y_test, y_pred, color = 'red')"
      ],
      "execution_count": 121,
      "outputs": [
        {
          "output_type": "stream",
          "text": [
            "Average precision:  0.620787262319514\n"
          ],
          "name": "stdout"
        },
        {
          "output_type": "display_data",
          "data": {
            "image/png": "[encoded data removed]",
            "text/plain": [
              "<Figure size 432x288 with 1 Axes>"
            ]
          },
          "metadata": {
            "tags": [],
            "needs_background": "light"
          }
        }
      ]
    },
    {
      "cell_type": "code",
      "metadata": {
        "id": "2G6888leAwmt"
      },
      "source": [
        "y_predicted = []\r\n",
        "for prob in y_pred:\r\n",
        "  if prob >= 0.5:\r\n",
        "    y_predicted.append(1)\r\n",
        "  else:\r\n",
        "    y_predicted.append(0)"
      ],
      "execution_count": 122,
      "outputs": []
    },
    {
      "cell_type": "code",
      "metadata": {
        "id": "9O9ms_BTfptM",
        "colab": {
          "base_uri": "https://localhost:8080/"
        },
        "outputId": "f0c37aab-ac3f-4211-c39e-43e5fd06e96e"
      },
      "source": [
        "from sklearn.metrics import f1_score, recall_score, precision_score\r\n",
        "print('F1 score: ',f1_score(y_test, y_predicted, average=\"binary\"))\r\n",
        "print('Recall: ', recall_score(y_test, y_predicted, average='binary'))\r\n",
        "print('Precision: ', precision_score(y_test, y_predicted,  average='binary'))"
      ],
      "execution_count": 123,
      "outputs": [
        {
          "output_type": "stream",
          "text": [
            "F1 score:  0.5901111761263896\n",
            "Recall:  0.48508898508898507\n",
            "Precision:  0.7531740104555639\n"
          ],
          "name": "stdout"
        }
      ]
    },
    {
      "cell_type": "code",
      "metadata": {
        "id": "aYR5BCcTm108"
      },
      "source": [
        ""
      ],
      "execution_count": 123,
      "outputs": []
    }
  ]
}