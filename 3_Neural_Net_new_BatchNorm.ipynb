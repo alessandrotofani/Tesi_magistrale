{
  "nbformat": 4,
  "nbformat_minor": 0,
  "metadata": {
    "colab": {
      "name": "3_Neural_Net.ipynb",
      "provenance": [],
      "authorship_tag": "ABX9TyN3utt3CrH6XVxZweE4krWe",
      "include_colab_link": true
    },
    "kernelspec": {
      "name": "python3",
      "display_name": "Python 3"
    },
    "accelerator": "GPU"
  },
  "cells": [
    {
      "cell_type": "markdown",
      "metadata": {
        "id": "view-in-github",
        "colab_type": "text"
      },
      "source": [
        "<a href=\"https://colab.research.google.com/github/alessandrotofani/Tesi_magistrale/blob/master/3_Neural_Net_new_BatchNorm.ipynb\" target=\"_parent\"><img src=\"https://colab.research.google.com/assets/colab-badge.svg\" alt=\"Open In Colab\"/></a>"
      ]
    },
    {
      "cell_type": "markdown",
      "metadata": {
        "id": "8-eTUKS6D9Fs"
      },
      "source": [
        "# Import"
      ]
    },
    {
      "cell_type": "code",
      "metadata": {
        "colab": {
          "base_uri": "https://localhost:8080/"
        },
        "id": "xtV-QCEPDVju",
        "outputId": "da901b46-eeed-417c-b61a-e0aad8b9f6f1"
      },
      "source": [
        "import numpy as np # linear algebra\r\n",
        "import pandas as pd # data processing\r\n",
        "import matplotlib\r\n",
        "import matplotlib.pyplot as plt\r\n",
        "import seaborn as sns\r\n",
        "import os\r\n",
        "from google.colab import drive\r\n",
        "drive.mount('/content/drive')\r\n",
        "from sklearn.model_selection import train_test_split"
      ],
      "execution_count": 1,
      "outputs": [
        {
          "output_type": "stream",
          "text": [
            "Drive already mounted at /content/drive; to attempt to forcibly remount, call drive.mount(\"/content/drive\", force_remount=True).\n"
          ],
          "name": "stdout"
        }
      ]
    },
    {
      "cell_type": "code",
      "metadata": {
        "id": "QSvV9n8XDd1_"
      },
      "source": [
        "import sys \r\n",
        "sys.path.append('/content/drive/MyDrive/Tesi_magistrale/Tesi_magistrale')\r\n",
        "import mf\r\n",
        "import warnings\r\n",
        "warnings.simplefilter(action='ignore', category=FutureWarning)"
      ],
      "execution_count": 2,
      "outputs": []
    },
    {
      "cell_type": "code",
      "metadata": {
        "id": "vLwIrSvoSR7S"
      },
      "source": [
        "!pip install --quiet fastai==2.2.5"
      ],
      "execution_count": 3,
      "outputs": []
    },
    {
      "cell_type": "markdown",
      "metadata": {
        "id": "k5aTQo_7D3KW"
      },
      "source": [
        "# Preprocessing"
      ]
    },
    {
      "cell_type": "code",
      "metadata": {
        "id": "3CA67WePVnds"
      },
      "source": [
        "data = pd.read_csv('/content/drive/MyDrive/Tesi_magistrale/Dataset/IEEE/Output/data.csv')\r\n",
        "data = mf.new_processing(data)\r\n",
        "# data = pd.get_dummies(data)"
      ],
      "execution_count": 4,
      "outputs": []
    },
    {
      "cell_type": "code",
      "metadata": {
        "id": "ouq64I1r5lkR"
      },
      "source": [
        "cols = mf.get_col(data)"
      ],
      "execution_count": 5,
      "outputs": []
    },
    {
      "cell_type": "code",
      "metadata": {
        "id": "GRYQU4obQE8V"
      },
      "source": [
        "from fastai.tabular.all import *"
      ],
      "execution_count": 6,
      "outputs": []
    },
    {
      "cell_type": "code",
      "metadata": {
        "id": "ruoqZDmGS48a"
      },
      "source": [
        "categorical_col = data.select_dtypes(include=['object']).columns.tolist()"
      ],
      "execution_count": 7,
      "outputs": []
    },
    {
      "cell_type": "code",
      "metadata": {
        "id": "9WHzC-MHVTBV"
      },
      "source": [
        "def get_numerical_col(data, categorical_col):\n",
        "  numerical_col = []\n",
        "  for col in data.columns:\n",
        "    if col not in categorical_col and col != 'isFraud':\n",
        "      numerical_col.append(col)\n",
        "  return numerical_col\n",
        "\n",
        "numerical_col = get_numerical_col(data, categorical_col)"
      ],
      "execution_count": 8,
      "outputs": []
    },
    {
      "cell_type": "markdown",
      "metadata": {
        "id": "_IkJQpHuhnXm"
      },
      "source": [
        "Tutorial: https://docs.fast.ai/tutorial.tabular.html\n",
        "\n",
        "Book: https://github.com/fastai/fastbook/blob/master/09_tabular.ipynb"
      ]
    },
    {
      "cell_type": "code",
      "metadata": {
        "id": "uss-vsWXQE3E"
      },
      "source": [
        "fasted = TabularPandas(data, procs=[Categorify],\n",
        "                   cat_names = categorical_col,\n",
        "                   cont_names = numerical_col,\n",
        "                   y_names='isFraud')\n",
        "                  #  splits=splits)"
      ],
      "execution_count": 9,
      "outputs": []
    },
    {
      "cell_type": "code",
      "metadata": {
        "id": "X-fjffG1UwkY"
      },
      "source": [
        "X_train, y_train = fasted.xs, fasted.ys.values.ravel()\n",
        "# X_test, y_test = fasted.valid.xs, fasted.valid.ys.values.ravel()"
      ],
      "execution_count": 10,
      "outputs": []
    },
    {
      "cell_type": "code",
      "metadata": {
        "id": "GAffYKlMcKoQ"
      },
      "source": [
        "# for col in categorical_col:\n",
        "#   print('Feature',col, 'has',X_train[col].max(), 'different categorical values')"
      ],
      "execution_count": 11,
      "outputs": []
    },
    {
      "cell_type": "code",
      "metadata": {
        "id": "Da6EBrZcrZpF"
      },
      "source": [
        "categorical_col_toemb = []\n",
        "one_hot_encode = []\n",
        "for col in categorical_col:\n",
        "  if X_train[col].max() > 7:\n",
        "    categorical_col_toemb.append(col)\n",
        "  else:\n",
        "    one_hot_encode.append(col)\n",
        "\n",
        "X_train = pd.get_dummies(X_train, columns=one_hot_encode)\n",
        "cols = mf.get_col(X_train)"
      ],
      "execution_count": 12,
      "outputs": []
    },
    {
      "cell_type": "code",
      "metadata": {
        "id": "pDwfRa1mr7Jy"
      },
      "source": [
        "numerical_col = get_numerical_col(X_train, categorical_col_toemb)"
      ],
      "execution_count": 13,
      "outputs": []
    },
    {
      "cell_type": "markdown",
      "metadata": {
        "id": "WLwNC-RfdpGF"
      },
      "source": [
        "## Train validation test split"
      ]
    },
    {
      "cell_type": "markdown",
      "metadata": {
        "id": "m8EkabwNTN1C"
      },
      "source": [
        "Splitto il dataset in train, validation e test set. "
      ]
    },
    {
      "cell_type": "code",
      "metadata": {
        "id": "QTS6eJT9AGlU"
      },
      "source": [
        "def overSampling(X, y, frac_over=0.1):\n",
        "  from imblearn.over_sampling import SMOTE\n",
        "  sm = SMOTE(sampling_strategy=frac_over, random_state=42)\n",
        "  X_sm, y_sm = sm.fit_resample(X, y)  \n",
        "  return X_sm, y_sm"
      ],
      "execution_count": 14,
      "outputs": []
    },
    {
      "cell_type": "code",
      "metadata": {
        "id": "b1lw52XFUZBG"
      },
      "source": [
        "X_train, X_test, y_train, y_test = train_test_split(X_train, y_train, test_size = 0.2)\n",
        "X_train, y_train = overSampling(X_train, y_train)\n",
        "X_train, X_val, y_train, y_val = train_test_split(X_train, y_train, test_size=0.25, random_state=42)"
      ],
      "execution_count": 15,
      "outputs": []
    },
    {
      "cell_type": "code",
      "metadata": {
        "id": "dqOMoTQ-xkQo"
      },
      "source": [
        "save_id = False \r\n",
        "\r\n",
        "if save_id:\r\n",
        "  train_id = X_train.index.tolist()\r\n",
        "  val_id = X_val.index.tolist()\r\n",
        "  test_id = X_test.index.tolist()\r\n",
        "  mf.save_list('train_id',train_id)\r\n",
        "  mf.save_list('val_id', val_id)\r\n",
        "  mf.save_list('test_id', test_id)\r\n",
        "\r\n",
        "load_id = False \r\n",
        "if load_id:\r\n",
        "  mf.load_list('train_id',train_id)\r\n",
        "  mf.load_list('val_id', val_id)\r\n",
        "  mf.load_list('test_id', test_id)"
      ],
      "execution_count": 16,
      "outputs": []
    },
    {
      "cell_type": "markdown",
      "metadata": {
        "id": "XcNlmAIrLUcB"
      },
      "source": [
        "# Neural Network"
      ]
    },
    {
      "cell_type": "markdown",
      "metadata": {
        "id": "HypjIBuVX2UT"
      },
      "source": [
        "Kaggle tutorial https://www.kaggle.com/colinmorris/embedding-layers\n",
        "\n",
        "Implementation: https://www.kaggle.com/blaskowitz100/dnn-keras-and-categorical-feature-embedding"
      ]
    },
    {
      "cell_type": "code",
      "metadata": {
        "id": "-19ItfoMTD0L"
      },
      "source": [
        "import tensorflow as tf\n",
        "from tensorflow import keras\n",
        "from tensorflow.keras import models\n",
        "from tensorflow.keras import layers\n",
        "\n",
        "keras.backend.clear_session()\n",
        "# Embedding for categorical features\n",
        "categorical_input = []\n",
        "numerical_input = []\n",
        "embeddings = []\n",
        "embedding_layer_names = []\n",
        "for col in categorical_col_toemb:\n",
        "# for col in categorical_col:\n",
        "    _input = layers.Input(shape=[1], name=col)\n",
        "    _embed = layers.Embedding(fasted[col].max() + 1, 3, name=col+'_emb')(_input)\n",
        "    categorical_input.append(_input)\n",
        "    embeddings.append(_embed)\n",
        "    embedding_layer_names.append(col+'_emb')\n",
        "    \n",
        "# Simple inputs for the numeric features\n",
        "for col in numerical_col:\n",
        "    numeric_input = layers.Input(shape=(1,), name=col)\n",
        "    numerical_input.append(numeric_input)\n",
        "    \n",
        "# Merge the numeric inputs\n",
        "merged_num_inputs = layers.concatenate(numerical_input)\n",
        "\n",
        "# Merge embedding and use a Droput to prevent overfittting\n",
        "merged_inputs = layers.concatenate(embeddings)\n",
        "spatial_dropout = layers.SpatialDropout1D(0.5)(merged_inputs)\n",
        "flat_embed = layers.Flatten()(spatial_dropout)\n",
        "\n",
        "# Merge embedding and numeric features\n",
        "all_features = layers.concatenate([flat_embed, merged_num_inputs])\n",
        "\n",
        "# MLP for classification\n",
        "# x = layers.Dense(512, activation=tf.keras.activations.gelu)(all_features)\n",
        "# x = layers.BatchNormalization()(x)\n",
        "# x = layers.Dropout(0.5)(x)\n",
        "x = layers.Dense(256, activation=tf.keras.activations.gelu)(all_features)\n",
        "x = layers.BatchNormalization()(x)\n",
        "x = layers.Dropout(0.4)(x)\n",
        "x = layers.Dense(128, activation=tf.keras.activations.gelu)(x)\n",
        "x = layers.BatchNormalization()(x)\n",
        "x = layers.Dropout(0.3)(x)\n",
        "x = layers.Dense(64, activation=tf.keras.activations.gelu)(x)\n",
        "x = layers.BatchNormalization()(x)\n",
        "x = layers.Dropout(0.2)(x)\n",
        "x = layers.Dense(32, activation=tf.keras.activations.gelu)(x)\n",
        "x = layers.BatchNormalization()(x)\n",
        "x = layers.Dropout(0.2)(x)\n",
        "x = layers.Dense(16, activation=tf.keras.activations.gelu)(x)\n",
        "x = layers.BatchNormalization()(x)\n",
        "# x = layers.Dropout(0.2)(x)\n",
        "# x = layers.Dense(8, activation=tf.keras.activations.gelu)(x)\n",
        "# x = layers.BatchNormalization()(x)\n",
        "# x = layers.Dropout(0.2)(x)\n",
        "# x = layers.Dense(4, activation=tf.keras.activations.gelu)(x)\n",
        "# x = layers.BatchNormalization()(x)\n",
        "# x = layers.Dropout(0.2)(x)\n",
        "\n",
        "# Final model\n",
        "output = layers.Dense(1, activation='sigmoid')(x)\n",
        "model = models.Model(inputs=categorical_input + numerical_input, outputs=output)"
      ],
      "execution_count": 29,
      "outputs": []
    },
    {
      "cell_type": "code",
      "metadata": {
        "id": "UtPJD6YkUKZe"
      },
      "source": [
        "model.compile(loss='binary_crossentropy', optimizer='adam', metrics=['accuracy',tf.keras.metrics.Recall(), tf.keras.metrics.Precision()])\n",
        "# print(model.summary())"
      ],
      "execution_count": 30,
      "outputs": []
    },
    {
      "cell_type": "code",
      "metadata": {
        "id": "kJxOM99jPYxe"
      },
      "source": [
        "def get_keras_dataset(X, cols):\n",
        "  df = pd.DataFrame(data=X, columns=cols)\n",
        "  X = {str(col) : np.array(df[col]) for col in df.columns}\n",
        "  return X"
      ],
      "execution_count": 31,
      "outputs": []
    },
    {
      "cell_type": "code",
      "metadata": {
        "colab": {
          "base_uri": "https://localhost:8080/"
        },
        "id": "DcxHJc6-OD5P",
        "outputId": "a4087a6a-c64c-4daa-8c95-463c05f2d631"
      },
      "source": [
        "history = model.fit(\r\n",
        "    get_keras_dataset(X_train, cols), \r\n",
        "    y_train,\r\n",
        "    epochs=30, \r\n",
        "    batch_size=512, # 2048 1024 512\r\n",
        "    validation_data=(get_keras_dataset(X_val, cols),y_val),\r\n",
        "    verbose=1,\r\n",
        "    shuffle = True , #class_weight = {0: 1, 1: ratio / 2}\r\n",
        ")"
      ],
      "execution_count": 32,
      "outputs": [
        {
          "output_type": "stream",
          "text": [
            "Epoch 1/30\n",
            "735/735 [==============================] - 26s 31ms/step - loss: 0.4632 - accuracy: 0.8177 - recall: 0.3238 - precision: 0.2306 - val_loss: 0.2376 - val_accuracy: 0.9149 - val_recall: 0.3448 - val_precision: 0.5524\n",
            "Epoch 2/30\n",
            "735/735 [==============================] - 21s 29ms/step - loss: 0.2270 - accuracy: 0.9203 - recall: 0.2204 - precision: 0.6862 - val_loss: 0.2116 - val_accuracy: 0.9261 - val_recall: 0.2781 - val_precision: 0.7552\n",
            "Epoch 3/30\n",
            "735/735 [==============================] - 22s 30ms/step - loss: 0.2142 - accuracy: 0.9239 - recall: 0.2736 - precision: 0.7171 - val_loss: 0.2023 - val_accuracy: 0.9269 - val_recall: 0.2482 - val_precision: 0.8286\n",
            "Epoch 4/30\n",
            "735/735 [==============================] - 21s 29ms/step - loss: 0.2056 - accuracy: 0.9264 - recall: 0.3017 - precision: 0.7250 - val_loss: 0.1951 - val_accuracy: 0.9325 - val_recall: 0.3626 - val_precision: 0.7777\n",
            "Epoch 5/30\n",
            "735/735 [==============================] - 21s 29ms/step - loss: 0.1983 - accuracy: 0.9293 - recall: 0.3374 - precision: 0.7404 - val_loss: 0.2009 - val_accuracy: 0.9277 - val_recall: 0.2267 - val_precision: 0.9158\n",
            "Epoch 6/30\n",
            "735/735 [==============================] - 21s 29ms/step - loss: 0.1935 - accuracy: 0.9308 - recall: 0.3580 - precision: 0.7457 - val_loss: 0.1823 - val_accuracy: 0.9358 - val_recall: 0.3921 - val_precision: 0.8019\n",
            "Epoch 7/30\n",
            "735/735 [==============================] - 21s 29ms/step - loss: 0.1890 - accuracy: 0.9329 - recall: 0.3885 - precision: 0.7475 - val_loss: 0.1788 - val_accuracy: 0.9371 - val_recall: 0.4000 - val_precision: 0.8156\n",
            "Epoch 8/30\n",
            "735/735 [==============================] - 21s 29ms/step - loss: 0.1844 - accuracy: 0.9348 - recall: 0.4034 - precision: 0.7581 - val_loss: 0.1774 - val_accuracy: 0.9390 - val_recall: 0.4424 - val_precision: 0.7972\n",
            "Epoch 9/30\n",
            "735/735 [==============================] - 21s 29ms/step - loss: 0.1818 - accuracy: 0.9359 - recall: 0.4247 - precision: 0.7638 - val_loss: 0.1882 - val_accuracy: 0.9359 - val_recall: 0.3434 - val_precision: 0.8789\n",
            "Epoch 10/30\n",
            "735/735 [==============================] - 21s 29ms/step - loss: 0.1787 - accuracy: 0.9368 - recall: 0.4400 - precision: 0.7617 - val_loss: 0.1709 - val_accuracy: 0.9412 - val_recall: 0.4250 - val_precision: 0.8577\n",
            "Epoch 11/30\n",
            "735/735 [==============================] - 21s 29ms/step - loss: 0.1772 - accuracy: 0.9378 - recall: 0.4517 - precision: 0.7715 - val_loss: 0.1684 - val_accuracy: 0.9422 - val_recall: 0.4783 - val_precision: 0.8081\n",
            "Epoch 12/30\n",
            "735/735 [==============================] - 21s 29ms/step - loss: 0.1734 - accuracy: 0.9394 - recall: 0.4632 - precision: 0.7781 - val_loss: 0.1653 - val_accuracy: 0.9427 - val_recall: 0.4401 - val_precision: 0.8631\n",
            "Epoch 13/30\n",
            "735/735 [==============================] - 21s 29ms/step - loss: 0.1718 - accuracy: 0.9397 - recall: 0.4696 - precision: 0.7805 - val_loss: 0.1753 - val_accuracy: 0.9402 - val_recall: 0.5869 - val_precision: 0.7068\n",
            "Epoch 14/30\n",
            "735/735 [==============================] - 21s 29ms/step - loss: 0.1701 - accuracy: 0.9405 - recall: 0.4785 - precision: 0.7835 - val_loss: 0.1817 - val_accuracy: 0.9387 - val_recall: 0.3626 - val_precision: 0.9091\n",
            "Epoch 15/30\n",
            "735/735 [==============================] - 21s 29ms/step - loss: 0.1666 - accuracy: 0.9419 - recall: 0.4948 - precision: 0.7815 - val_loss: 0.1590 - val_accuracy: 0.9450 - val_recall: 0.4732 - val_precision: 0.8603\n",
            "Epoch 16/30\n",
            "735/735 [==============================] - 21s 29ms/step - loss: 0.1659 - accuracy: 0.9418 - recall: 0.4983 - precision: 0.7851 - val_loss: 0.1597 - val_accuracy: 0.9451 - val_recall: 0.4864 - val_precision: 0.8445\n",
            "Epoch 17/30\n",
            "735/735 [==============================] - 21s 29ms/step - loss: 0.1640 - accuracy: 0.9435 - recall: 0.5124 - precision: 0.7936 - val_loss: 0.1558 - val_accuracy: 0.9464 - val_recall: 0.5190 - val_precision: 0.8286\n",
            "Epoch 18/30\n",
            "735/735 [==============================] - 21s 29ms/step - loss: 0.1634 - accuracy: 0.9431 - recall: 0.5097 - precision: 0.7938 - val_loss: 0.1605 - val_accuracy: 0.9458 - val_recall: 0.4715 - val_precision: 0.8754\n",
            "Epoch 19/30\n",
            "735/735 [==============================] - 21s 29ms/step - loss: 0.1612 - accuracy: 0.9439 - recall: 0.5121 - precision: 0.7931 - val_loss: 0.1514 - val_accuracy: 0.9486 - val_recall: 0.5276 - val_precision: 0.8512\n",
            "Epoch 20/30\n",
            "735/735 [==============================] - 21s 29ms/step - loss: 0.1588 - accuracy: 0.9444 - recall: 0.5250 - precision: 0.7963 - val_loss: 0.1782 - val_accuracy: 0.9387 - val_recall: 0.3510 - val_precision: 0.9353\n",
            "Epoch 21/30\n",
            "735/735 [==============================] - 21s 29ms/step - loss: 0.1580 - accuracy: 0.9449 - recall: 0.5287 - precision: 0.7984 - val_loss: 0.1511 - val_accuracy: 0.9494 - val_recall: 0.5515 - val_precision: 0.8368\n",
            "Epoch 22/30\n",
            "735/735 [==============================] - 21s 29ms/step - loss: 0.1562 - accuracy: 0.9457 - recall: 0.5324 - precision: 0.8058 - val_loss: 0.1643 - val_accuracy: 0.9447 - val_recall: 0.6177 - val_precision: 0.7325\n",
            "Epoch 23/30\n",
            "735/735 [==============================] - 21s 29ms/step - loss: 0.1554 - accuracy: 0.9463 - recall: 0.5353 - precision: 0.8060 - val_loss: 0.1431 - val_accuracy: 0.9514 - val_recall: 0.5656 - val_precision: 0.8512\n",
            "Epoch 24/30\n",
            "735/735 [==============================] - 21s 29ms/step - loss: 0.1542 - accuracy: 0.9459 - recall: 0.5377 - precision: 0.7991 - val_loss: 0.1441 - val_accuracy: 0.9512 - val_recall: 0.5610 - val_precision: 0.8528\n",
            "Epoch 25/30\n",
            "735/735 [==============================] - 21s 29ms/step - loss: 0.1533 - accuracy: 0.9468 - recall: 0.5397 - precision: 0.8063 - val_loss: 0.1469 - val_accuracy: 0.9503 - val_recall: 0.5439 - val_precision: 0.8580\n",
            "Epoch 26/30\n",
            "735/735 [==============================] - 21s 29ms/step - loss: 0.1511 - accuracy: 0.9479 - recall: 0.5508 - precision: 0.8111 - val_loss: 0.1596 - val_accuracy: 0.9455 - val_recall: 0.4484 - val_precision: 0.9059\n",
            "Epoch 27/30\n",
            "735/735 [==============================] - 21s 29ms/step - loss: 0.1511 - accuracy: 0.9478 - recall: 0.5519 - precision: 0.8149 - val_loss: 0.1552 - val_accuracy: 0.9447 - val_recall: 0.6168 - val_precision: 0.7333\n",
            "Epoch 28/30\n",
            "735/735 [==============================] - 21s 29ms/step - loss: 0.1523 - accuracy: 0.9478 - recall: 0.5513 - precision: 0.8124 - val_loss: 0.1418 - val_accuracy: 0.9519 - val_recall: 0.5650 - val_precision: 0.8578\n",
            "Epoch 29/30\n",
            "735/735 [==============================] - 21s 28ms/step - loss: 0.1505 - accuracy: 0.9481 - recall: 0.5527 - precision: 0.8122 - val_loss: 0.1689 - val_accuracy: 0.9366 - val_recall: 0.6943 - val_precision: 0.6400\n",
            "Epoch 30/30\n",
            "735/735 [==============================] - 21s 29ms/step - loss: 0.1493 - accuracy: 0.9489 - recall: 0.5576 - precision: 0.8169 - val_loss: 0.1459 - val_accuracy: 0.9501 - val_recall: 0.6382 - val_precision: 0.7745\n"
          ],
          "name": "stdout"
        }
      ]
    },
    {
      "cell_type": "markdown",
      "metadata": {
        "id": "p-TwZZx0AOxO"
      },
      "source": [
        "# Performance evaluation"
      ]
    },
    {
      "cell_type": "code",
      "metadata": {
        "id": "WKOHvmiVOsaP"
      },
      "source": [
        "# test_loss, test_acc = model.evaluate(get_keras_dataset(X_test, cols), y_test)\r\n",
        "\r\n",
        "# print()\r\n",
        "# print('Test Loss:\\t', test_loss)\r\n",
        "# print('Test Accuracy:\\t', test_acc)"
      ],
      "execution_count": 33,
      "outputs": []
    },
    {
      "cell_type": "code",
      "metadata": {
        "id": "ujQ7C2bhQXLN"
      },
      "source": [
        "y_pred = model.predict(get_keras_dataset(X_test, cols))"
      ],
      "execution_count": 34,
      "outputs": []
    },
    {
      "cell_type": "code",
      "metadata": {
        "colab": {
          "base_uri": "https://localhost:8080/",
          "height": 350
        },
        "id": "TWs-nW4IPaQC",
        "outputId": "0fe46361-8f4c-4b6c-fa45-dce4a6fbf174"
      },
      "source": [
        "mf.plot_cm(y_test, y_pred, 'Blues')"
      ],
      "execution_count": 35,
      "outputs": [
        {
          "output_type": "display_data",
          "data": {
            "image/png": "[encoded data removed]",
            "text/plain": [
              "<Figure size 360x360 with 2 Axes>"
            ]
          },
          "metadata": {
            "tags": [],
            "needs_background": "light"
          }
        }
      ]
    },
    {
      "cell_type": "code",
      "metadata": {
        "colab": {
          "base_uri": "https://localhost:8080/",
          "height": 297
        },
        "id": "4ivKw-JpPkVG",
        "outputId": "88cbeca9-4786-4145-9555-e0cfd8d577b1"
      },
      "source": [
        "mf.plot_roc(\"ROC curve\", y_test, y_pred,color='blue')"
      ],
      "execution_count": 36,
      "outputs": [
        {
          "output_type": "stream",
          "text": [
            "AUC:  0.9008414180106936\n"
          ],
          "name": "stdout"
        },
        {
          "output_type": "display_data",
          "data": {
            "image/png": "[encoded data removed]",
            "text/plain": [
              "<Figure size 432x288 with 1 Axes>"
            ]
          },
          "metadata": {
            "tags": [],
            "needs_background": "light"
          }
        }
      ]
    },
    {
      "cell_type": "code",
      "metadata": {
        "colab": {
          "base_uri": "https://localhost:8080/",
          "height": 297
        },
        "id": "mbjYisJaYevS",
        "outputId": "06583989-5547-4840-8c83-ae9c69d54ddf"
      },
      "source": [
        "mf.plot_ap('Precision-Recall curve', y_test, y_pred, color = 'red')"
      ],
      "execution_count": 37,
      "outputs": [
        {
          "output_type": "stream",
          "text": [
            "Average precision:  0.5430512964523844\n"
          ],
          "name": "stdout"
        },
        {
          "output_type": "display_data",
          "data": {
            "image/png": "[encoded data removed]",
            "text/plain": [
              "<Figure size 432x288 with 1 Axes>"
            ]
          },
          "metadata": {
            "tags": [],
            "needs_background": "light"
          }
        }
      ]
    },
    {
      "cell_type": "code",
      "metadata": {
        "id": "2G6888leAwmt"
      },
      "source": [
        "y_predicted = []\r\n",
        "for prob in y_pred:\r\n",
        "  if prob >= 0.5:\r\n",
        "    y_predicted.append(1)\r\n",
        "  else:\r\n",
        "    y_predicted.append(0)"
      ],
      "execution_count": 38,
      "outputs": []
    },
    {
      "cell_type": "code",
      "metadata": {
        "id": "9O9ms_BTfptM",
        "colab": {
          "base_uri": "https://localhost:8080/"
        },
        "outputId": "6b8d732e-2ff6-4d30-d670-7612c8384091"
      },
      "source": [
        "from sklearn.metrics import f1_score, recall_score, precision_score\r\n",
        "print('F1 score: ',f1_score(y_test, y_predicted, average=\"binary\"))\r\n",
        "print('Recall: ', recall_score(y_test, y_predicted, average='binary'))\r\n",
        "print('Precision: ', precision_score(y_test, y_predicted,  average='binary'))"
      ],
      "execution_count": 39,
      "outputs": [
        {
          "output_type": "stream",
          "text": [
            "F1 score:  0.5137465051258154\n",
            "Recall:  0.5353241077931536\n",
            "Precision:  0.49384098544232924\n"
          ],
          "name": "stdout"
        }
      ]
    },
    {
      "cell_type": "code",
      "metadata": {
        "id": "aYR5BCcTm108"
      },
      "source": [
        ""
      ],
      "execution_count": 39,
      "outputs": []
    }
  ]
}