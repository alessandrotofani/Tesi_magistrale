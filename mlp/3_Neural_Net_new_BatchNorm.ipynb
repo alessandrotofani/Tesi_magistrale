{
  "nbformat": 4,
  "nbformat_minor": 0,
  "metadata": {
    "colab": {
      "name": "3_Neural_Net.ipynb",
      "provenance": [],
      "authorship_tag": "ABX9TyNRYh4oXqVsbtdnFbX5iBH3",
      "include_colab_link": true
    },
    "kernelspec": {
      "name": "python3",
      "display_name": "Python 3"
    },
    "accelerator": "GPU"
  },
  "cells": [
    {
      "cell_type": "markdown",
      "metadata": {
        "id": "view-in-github",
        "colab_type": "text"
      },
      "source": [
        "<a href=\"https://colab.research.google.com/github/alessandrotofani/Tesi_magistrale/blob/master/3_Neural_Net_new_BatchNorm.ipynb\" target=\"_parent\"><img src=\"https://colab.research.google.com/assets/colab-badge.svg\" alt=\"Open In Colab\"/></a>"
      ]
    },
    {
      "cell_type": "markdown",
      "metadata": {
        "id": "8-eTUKS6D9Fs"
      },
      "source": [
        "# Import"
      ]
    },
    {
      "cell_type": "code",
      "metadata": {
        "colab": {
          "base_uri": "https://localhost:8080/"
        },
        "id": "xtV-QCEPDVju",
        "outputId": "586681b2-1f5e-4943-8131-50ecf812c3fd"
      },
      "source": [
        "import numpy as np # linear algebra\r\n",
        "import pandas as pd # data processing\r\n",
        "import matplotlib\r\n",
        "import matplotlib.pyplot as plt\r\n",
        "import seaborn as sns\r\n",
        "import os\r\n",
        "from google.colab import drive\r\n",
        "drive.mount('/content/drive')\r\n",
        "from sklearn.model_selection import train_test_split"
      ],
      "execution_count": 1,
      "outputs": [
        {
          "output_type": "stream",
          "text": [
            "Mounted at /content/drive\n"
          ],
          "name": "stdout"
        }
      ]
    },
    {
      "cell_type": "code",
      "metadata": {
        "id": "QSvV9n8XDd1_"
      },
      "source": [
        "import sys \r\n",
        "sys.path.append('/content/drive/MyDrive/Tesi_magistrale/Tesi_magistrale')\r\n",
        "import mf\r\n",
        "import warnings\r\n",
        "warnings.simplefilter(action='ignore', category=FutureWarning)"
      ],
      "execution_count": 2,
      "outputs": []
    },
    {
      "cell_type": "code",
      "metadata": {
        "id": "vLwIrSvoSR7S",
        "outputId": "72bdf687-9b17-4fee-9e30-e446809db9e4",
        "colab": {
          "base_uri": "https://localhost:8080/"
        }
      },
      "source": [
        "!pip install --quiet fastai==2.2.5"
      ],
      "execution_count": 3,
      "outputs": [
        {
          "output_type": "stream",
          "text": [
            "\u001b[K     |████████████████████████████████| 194kB 8.8MB/s \n",
            "\u001b[K     |████████████████████████████████| 61kB 7.9MB/s \n",
            "\u001b[?25h"
          ],
          "name": "stdout"
        }
      ]
    },
    {
      "cell_type": "markdown",
      "metadata": {
        "id": "k5aTQo_7D3KW"
      },
      "source": [
        "# Preprocessing"
      ]
    },
    {
      "cell_type": "code",
      "metadata": {
        "id": "3CA67WePVnds"
      },
      "source": [
        "data = pd.read_csv('/content/drive/MyDrive/Tesi_magistrale/Dataset/IEEE/Output/data.csv')\r\n",
        "data = mf.new_processing(data)\r\n",
        "# data = pd.get_dummies(data)"
      ],
      "execution_count": 4,
      "outputs": []
    },
    {
      "cell_type": "code",
      "metadata": {
        "id": "ouq64I1r5lkR"
      },
      "source": [
        "cols = mf.get_col(data)"
      ],
      "execution_count": 5,
      "outputs": []
    },
    {
      "cell_type": "code",
      "metadata": {
        "id": "GRYQU4obQE8V"
      },
      "source": [
        "from fastai.tabular.all import *"
      ],
      "execution_count": 6,
      "outputs": []
    },
    {
      "cell_type": "code",
      "metadata": {
        "id": "ruoqZDmGS48a"
      },
      "source": [
        "categorical_col = data.select_dtypes(include=['object']).columns.tolist()"
      ],
      "execution_count": 7,
      "outputs": []
    },
    {
      "cell_type": "code",
      "metadata": {
        "id": "9WHzC-MHVTBV"
      },
      "source": [
        "def get_numerical_col(data, categorical_col):\n",
        "  numerical_col = []\n",
        "  for col in data.columns:\n",
        "    if col not in categorical_col and col != 'isFraud':\n",
        "      numerical_col.append(col)\n",
        "  return numerical_col\n",
        "\n",
        "numerical_col = get_numerical_col(data, categorical_col)"
      ],
      "execution_count": 8,
      "outputs": []
    },
    {
      "cell_type": "markdown",
      "metadata": {
        "id": "_IkJQpHuhnXm"
      },
      "source": [
        "Tutorial: https://docs.fast.ai/tutorial.tabular.html\n",
        "\n",
        "Book: https://github.com/fastai/fastbook/blob/master/09_tabular.ipynb"
      ]
    },
    {
      "cell_type": "code",
      "metadata": {
        "id": "uss-vsWXQE3E"
      },
      "source": [
        "fasted = TabularPandas(data, procs=[Categorify],\n",
        "                   cat_names = categorical_col,\n",
        "                   cont_names = numerical_col,\n",
        "                   y_names='isFraud')\n",
        "                  #  splits=splits)"
      ],
      "execution_count": 9,
      "outputs": []
    },
    {
      "cell_type": "code",
      "metadata": {
        "id": "X-fjffG1UwkY"
      },
      "source": [
        "X_train, y_train = fasted.xs, fasted.ys.values.ravel()\n",
        "# X_test, y_test = fasted.valid.xs, fasted.valid.ys.values.ravel()"
      ],
      "execution_count": 10,
      "outputs": []
    },
    {
      "cell_type": "code",
      "metadata": {
        "id": "GAffYKlMcKoQ"
      },
      "source": [
        "# for col in categorical_col:\n",
        "#   print('Feature',col, 'has',X_train[col].max(), 'different categorical values')"
      ],
      "execution_count": 11,
      "outputs": []
    },
    {
      "cell_type": "code",
      "metadata": {
        "id": "Da6EBrZcrZpF"
      },
      "source": [
        "categorical_col_toemb = []\n",
        "one_hot_encode = []\n",
        "for col in categorical_col:\n",
        "  if X_train[col].max() > 7:\n",
        "    categorical_col_toemb.append(col)\n",
        "  else:\n",
        "    one_hot_encode.append(col)\n",
        "\n",
        "X_train = pd.get_dummies(X_train, columns=one_hot_encode)\n",
        "cols = mf.get_col(X_train)"
      ],
      "execution_count": 12,
      "outputs": []
    },
    {
      "cell_type": "code",
      "metadata": {
        "id": "pDwfRa1mr7Jy"
      },
      "source": [
        "numerical_col = get_numerical_col(X_train, categorical_col_toemb)"
      ],
      "execution_count": 13,
      "outputs": []
    },
    {
      "cell_type": "markdown",
      "metadata": {
        "id": "WLwNC-RfdpGF"
      },
      "source": [
        "## Train validation test split"
      ]
    },
    {
      "cell_type": "markdown",
      "metadata": {
        "id": "m8EkabwNTN1C"
      },
      "source": [
        "Splitto il dataset in train, validation e test set. "
      ]
    },
    {
      "cell_type": "code",
      "metadata": {
        "id": "QTS6eJT9AGlU"
      },
      "source": [
        "def overSampling(X, y, frac_over=0.05):\n",
        "  from imblearn.over_sampling import SMOTE\n",
        "  sm = SMOTE(sampling_strategy=frac_over, random_state=42)\n",
        "  X_sm, y_sm = sm.fit_resample(X, y)  \n",
        "  return X_sm, y_sm"
      ],
      "execution_count": 14,
      "outputs": []
    },
    {
      "cell_type": "code",
      "metadata": {
        "id": "b1lw52XFUZBG"
      },
      "source": [
        "X_train, X_test, y_train, y_test = train_test_split(X_train, y_train, test_size = 0.2)\n",
        "X_train, y_train = overSampling(X_train, y_train)\n",
        "X_train, X_val, y_train, y_val = train_test_split(X_train, y_train, test_size=0.25, random_state=42)"
      ],
      "execution_count": 15,
      "outputs": []
    },
    {
      "cell_type": "code",
      "metadata": {
        "id": "dqOMoTQ-xkQo"
      },
      "source": [
        "save_id = False \r\n",
        "\r\n",
        "if save_id:\r\n",
        "  train_id = X_train.index.tolist()\r\n",
        "  val_id = X_val.index.tolist()\r\n",
        "  test_id = X_test.index.tolist()\r\n",
        "  mf.save_list('train_id',train_id)\r\n",
        "  mf.save_list('val_id', val_id)\r\n",
        "  mf.save_list('test_id', test_id)\r\n",
        "\r\n",
        "load_id = False \r\n",
        "if load_id:\r\n",
        "  mf.load_list('train_id',train_id)\r\n",
        "  mf.load_list('val_id', val_id)\r\n",
        "  mf.load_list('test_id', test_id)"
      ],
      "execution_count": 16,
      "outputs": []
    },
    {
      "cell_type": "markdown",
      "metadata": {
        "id": "XcNlmAIrLUcB"
      },
      "source": [
        "# Neural Network"
      ]
    },
    {
      "cell_type": "markdown",
      "metadata": {
        "id": "HypjIBuVX2UT"
      },
      "source": [
        "Kaggle tutorial https://www.kaggle.com/colinmorris/embedding-layers\n",
        "\n",
        "Implementation: https://www.kaggle.com/blaskowitz100/dnn-keras-and-categorical-feature-embedding"
      ]
    },
    {
      "cell_type": "code",
      "metadata": {
        "id": "-19ItfoMTD0L"
      },
      "source": [
        "import tensorflow as tf\n",
        "from tensorflow import keras\n",
        "from tensorflow.keras import models\n",
        "from tensorflow.keras import layers\n",
        "\n",
        "keras.backend.clear_session()\n",
        "# Embedding for categorical features\n",
        "categorical_input = []\n",
        "numerical_input = []\n",
        "embeddings = []\n",
        "embedding_layer_names = []\n",
        "for col in categorical_col_toemb:\n",
        "# for col in categorical_col:\n",
        "    _input = layers.Input(shape=[1], name=col)\n",
        "    _embed = layers.Embedding(fasted[col].max() + 1, 3, name=col+'_emb')(_input)\n",
        "    categorical_input.append(_input)\n",
        "    embeddings.append(_embed)\n",
        "    embedding_layer_names.append(col+'_emb')\n",
        "    \n",
        "# Simple inputs for the numeric features\n",
        "for col in numerical_col:\n",
        "    numeric_input = layers.Input(shape=(1,), name=col)\n",
        "    numerical_input.append(numeric_input)\n",
        "    \n",
        "# Merge the numeric inputs\n",
        "merged_num_inputs = layers.concatenate(numerical_input)\n",
        "\n",
        "# Merge embedding and use a Droput to prevent overfittting\n",
        "merged_inputs = layers.concatenate(embeddings)\n",
        "spatial_dropout = layers.SpatialDropout1D(0.5)(merged_inputs)\n",
        "flat_embed = layers.Flatten()(spatial_dropout)\n",
        "\n",
        "# Merge embedding and numeric features\n",
        "all_features = layers.concatenate([flat_embed, merged_num_inputs])\n",
        "\n",
        "# MLP for classification\n",
        "# x = layers.Dense(512, activation=tf.keras.activations.gelu)(all_features)\n",
        "# x = layers.BatchNormalization()(x)\n",
        "# x = layers.Dropout(0.5)(x)\n",
        "x = layers.Dense(256, activation=tf.keras.activations.gelu)(all_features)\n",
        "x = layers.BatchNormalization()(x)\n",
        "x = layers.Dropout(0.7)(x)\n",
        "x = layers.Dense(128, activation=tf.keras.activations.gelu)(x)\n",
        "x = layers.BatchNormalization()(x)\n",
        "x = layers.Dropout(0.5)(x)\n",
        "x = layers.Dense(64, activation=tf.keras.activations.gelu)(x)\n",
        "x = layers.BatchNormalization()(x)\n",
        "x = layers.Dropout(0.3)(x)\n",
        "x = layers.Dense(32, activation=tf.keras.activations.gelu)(x)\n",
        "x = layers.BatchNormalization()(x)\n",
        "x = layers.Dropout(0.2)(x)\n",
        "x = layers.Dense(16, activation=tf.keras.activations.gelu)(x)\n",
        "x = layers.BatchNormalization()(x)\n",
        "x = layers.Dropout(0.1)(x)\n",
        "# x = layers.Dense(8, activation=tf.keras.activations.gelu)(x)\n",
        "# x = layers.BatchNormalization()(x)\n",
        "# x = layers.Dropout(0.2)(x)\n",
        "# x = layers.Dense(4, activation=tf.keras.activations.gelu)(x)\n",
        "# x = layers.BatchNormalization()(x)\n",
        "# x = layers.Dropout(0.2)(x)\n",
        "\n",
        "# Final model\n",
        "output = layers.Dense(1, activation='sigmoid')(x)\n",
        "model = models.Model(inputs=categorical_input + numerical_input, outputs=output)"
      ],
      "execution_count": 17,
      "outputs": []
    },
    {
      "cell_type": "code",
      "metadata": {
        "id": "UtPJD6YkUKZe"
      },
      "source": [
        "model.compile(loss='binary_crossentropy', optimizer='adam', metrics=['accuracy',tf.keras.metrics.Recall(), tf.keras.metrics.Precision()])\n",
        "# print(model.summary())"
      ],
      "execution_count": 18,
      "outputs": []
    },
    {
      "cell_type": "code",
      "metadata": {
        "id": "kJxOM99jPYxe"
      },
      "source": [
        "def get_keras_dataset(X, cols):\n",
        "  df = pd.DataFrame(data=X, columns=cols)\n",
        "  X = {str(col) : np.array(df[col]) for col in df.columns}\n",
        "  return X"
      ],
      "execution_count": 19,
      "outputs": []
    },
    {
      "cell_type": "code",
      "metadata": {
        "colab": {
          "base_uri": "https://localhost:8080/"
        },
        "id": "DcxHJc6-OD5P",
        "outputId": "0ba50732-9619-4149-a7bf-ed066eeb9a76"
      },
      "source": [
        "history = model.fit(\r\n",
        "    get_keras_dataset(X_train, cols), \r\n",
        "    y_train,\r\n",
        "    epochs=30, \r\n",
        "    batch_size=512, # 2048 1024 512\r\n",
        "    validation_data=(get_keras_dataset(X_val, cols),y_val),\r\n",
        "    verbose=1,\r\n",
        "    shuffle = True , \r\n",
        "    class_weight = {0: 0.5, 1: 5}\r\n",
        ")"
      ],
      "execution_count": 20,
      "outputs": [
        {
          "output_type": "stream",
          "text": [
            "Epoch 1/30\n",
            "702/702 [==============================] - 27s 31ms/step - loss: 0.4453 - accuracy: 0.7400 - recall: 0.5007 - precision: 0.0961 - val_loss: 0.3570 - val_accuracy: 0.8576 - val_recall: 0.5781 - val_precision: 0.1873\n",
            "Epoch 2/30\n",
            "702/702 [==============================] - 20s 29ms/step - loss: 0.3551 - accuracy: 0.8674 - recall: 0.5288 - precision: 0.1858 - val_loss: 0.3184 - val_accuracy: 0.8785 - val_recall: 0.5458 - val_precision: 0.2105\n",
            "Epoch 3/30\n",
            "702/702 [==============================] - 21s 31ms/step - loss: 0.3385 - accuracy: 0.8717 - recall: 0.5642 - precision: 0.1976 - val_loss: 0.3661 - val_accuracy: 0.8235 - val_recall: 0.6787 - val_precision: 0.1701\n",
            "Epoch 4/30\n",
            "702/702 [==============================] - 20s 28ms/step - loss: 0.3320 - accuracy: 0.8712 - recall: 0.5853 - precision: 0.2021 - val_loss: 0.3168 - val_accuracy: 0.8703 - val_recall: 0.6207 - val_precision: 0.2132\n",
            "Epoch 5/30\n",
            "702/702 [==============================] - 21s 30ms/step - loss: 0.3292 - accuracy: 0.8710 - recall: 0.6037 - precision: 0.2099 - val_loss: 0.3091 - val_accuracy: 0.8732 - val_recall: 0.6316 - val_precision: 0.2198\n",
            "Epoch 6/30\n",
            "702/702 [==============================] - 20s 29ms/step - loss: 0.3209 - accuracy: 0.8736 - recall: 0.6073 - precision: 0.2100 - val_loss: 0.3118 - val_accuracy: 0.8676 - val_recall: 0.6498 - val_precision: 0.2148\n",
            "Epoch 7/30\n",
            "702/702 [==============================] - 20s 29ms/step - loss: 0.3215 - accuracy: 0.8734 - recall: 0.6165 - precision: 0.2144 - val_loss: 0.3165 - val_accuracy: 0.8705 - val_recall: 0.6476 - val_precision: 0.2187\n",
            "Epoch 8/30\n",
            "702/702 [==============================] - 20s 28ms/step - loss: 0.3151 - accuracy: 0.8792 - recall: 0.6232 - precision: 0.2242 - val_loss: 0.3030 - val_accuracy: 0.8798 - val_recall: 0.6445 - val_precision: 0.2333\n",
            "Epoch 9/30\n",
            "702/702 [==============================] - 21s 30ms/step - loss: 0.3177 - accuracy: 0.8792 - recall: 0.6139 - precision: 0.2235 - val_loss: 0.2985 - val_accuracy: 0.8858 - val_recall: 0.6264 - val_precision: 0.2405\n",
            "Epoch 10/30\n",
            "702/702 [==============================] - 21s 30ms/step - loss: 0.3112 - accuracy: 0.8799 - recall: 0.6264 - precision: 0.2246 - val_loss: 0.2357 - val_accuracy: 0.9141 - val_recall: 0.5499 - val_precision: 0.2943\n",
            "Epoch 11/30\n",
            "702/702 [==============================] - 20s 28ms/step - loss: 0.3098 - accuracy: 0.8805 - recall: 0.6307 - precision: 0.2280 - val_loss: 0.2412 - val_accuracy: 0.9167 - val_recall: 0.5574 - val_precision: 0.3045\n",
            "Epoch 12/30\n",
            "702/702 [==============================] - 21s 29ms/step - loss: 0.3084 - accuracy: 0.8819 - recall: 0.6242 - precision: 0.2269 - val_loss: 0.2858 - val_accuracy: 0.8788 - val_recall: 0.6498 - val_precision: 0.2325\n",
            "Epoch 13/30\n",
            "702/702 [==============================] - 20s 28ms/step - loss: 0.3034 - accuracy: 0.8810 - recall: 0.6428 - precision: 0.2270 - val_loss: 0.2891 - val_accuracy: 0.8810 - val_recall: 0.6606 - val_precision: 0.2384\n",
            "Epoch 14/30\n",
            "702/702 [==============================] - 20s 29ms/step - loss: 0.3038 - accuracy: 0.8829 - recall: 0.6388 - precision: 0.2320 - val_loss: 0.2989 - val_accuracy: 0.8858 - val_recall: 0.6622 - val_precision: 0.2475\n",
            "Epoch 15/30\n",
            "702/702 [==============================] - 20s 29ms/step - loss: 0.3053 - accuracy: 0.8868 - recall: 0.6266 - precision: 0.2377 - val_loss: 0.2575 - val_accuracy: 0.9124 - val_recall: 0.5900 - val_precision: 0.2974\n",
            "Epoch 16/30\n",
            "702/702 [==============================] - 21s 29ms/step - loss: 0.3026 - accuracy: 0.8874 - recall: 0.6416 - precision: 0.2428 - val_loss: 0.2756 - val_accuracy: 0.8994 - val_recall: 0.6287 - val_precision: 0.2699\n",
            "Epoch 17/30\n",
            "702/702 [==============================] - 20s 29ms/step - loss: 0.3006 - accuracy: 0.8862 - recall: 0.6398 - precision: 0.2386 - val_loss: 0.2497 - val_accuracy: 0.9105 - val_recall: 0.6004 - val_precision: 0.2938\n",
            "Epoch 18/30\n",
            "702/702 [==============================] - 21s 29ms/step - loss: 0.2990 - accuracy: 0.8832 - recall: 0.6493 - precision: 0.2356 - val_loss: 0.2784 - val_accuracy: 0.8893 - val_recall: 0.6663 - val_precision: 0.2552\n",
            "Epoch 19/30\n",
            "702/702 [==============================] - 21s 30ms/step - loss: 0.3007 - accuracy: 0.8897 - recall: 0.6406 - precision: 0.2471 - val_loss: 0.2838 - val_accuracy: 0.8925 - val_recall: 0.6529 - val_precision: 0.2592\n",
            "Epoch 20/30\n",
            "702/702 [==============================] - 20s 29ms/step - loss: 0.2972 - accuracy: 0.8896 - recall: 0.6478 - precision: 0.2473 - val_loss: 0.2584 - val_accuracy: 0.8934 - val_recall: 0.6474 - val_precision: 0.2600\n",
            "Epoch 21/30\n",
            "702/702 [==============================] - 21s 30ms/step - loss: 0.3006 - accuracy: 0.8861 - recall: 0.6486 - precision: 0.2427 - val_loss: 0.2647 - val_accuracy: 0.8953 - val_recall: 0.6574 - val_precision: 0.2662\n",
            "Epoch 22/30\n",
            "702/702 [==============================] - 21s 30ms/step - loss: 0.2959 - accuracy: 0.8883 - recall: 0.6474 - precision: 0.2438 - val_loss: 0.2831 - val_accuracy: 0.8972 - val_recall: 0.6615 - val_precision: 0.2711\n",
            "Epoch 23/30\n",
            "702/702 [==============================] - 20s 29ms/step - loss: 0.2951 - accuracy: 0.8923 - recall: 0.6471 - precision: 0.2508 - val_loss: 0.2864 - val_accuracy: 0.8907 - val_recall: 0.6796 - val_precision: 0.2605\n",
            "Epoch 24/30\n",
            "702/702 [==============================] - 20s 29ms/step - loss: 0.2914 - accuracy: 0.8904 - recall: 0.6564 - precision: 0.2482 - val_loss: 0.3562 - val_accuracy: 0.8435 - val_recall: 0.7398 - val_precision: 0.1999\n",
            "Epoch 25/30\n",
            "702/702 [==============================] - 20s 29ms/step - loss: 0.2924 - accuracy: 0.8907 - recall: 0.6598 - precision: 0.2521 - val_loss: 0.2849 - val_accuracy: 0.8931 - val_recall: 0.6756 - val_precision: 0.2649\n",
            "Epoch 26/30\n",
            "702/702 [==============================] - 21s 30ms/step - loss: 0.2917 - accuracy: 0.8897 - recall: 0.6594 - precision: 0.2488 - val_loss: 0.3089 - val_accuracy: 0.8690 - val_recall: 0.7229 - val_precision: 0.2300\n",
            "Epoch 27/30\n",
            "702/702 [==============================] - 21s 29ms/step - loss: 0.2904 - accuracy: 0.8902 - recall: 0.6642 - precision: 0.2524 - val_loss: 0.2801 - val_accuracy: 0.8980 - val_recall: 0.6701 - val_precision: 0.2747\n",
            "Epoch 28/30\n",
            "702/702 [==============================] - 21s 30ms/step - loss: 0.2922 - accuracy: 0.8902 - recall: 0.6578 - precision: 0.2520 - val_loss: 0.2592 - val_accuracy: 0.9008 - val_recall: 0.6644 - val_precision: 0.2803\n",
            "Epoch 29/30\n",
            "702/702 [==============================] - 21s 30ms/step - loss: 0.2879 - accuracy: 0.8942 - recall: 0.6643 - precision: 0.2589 - val_loss: 0.2837 - val_accuracy: 0.8800 - val_recall: 0.7057 - val_precision: 0.2450\n",
            "Epoch 30/30\n",
            "702/702 [==============================] - 20s 28ms/step - loss: 0.2879 - accuracy: 0.8904 - recall: 0.6705 - precision: 0.2530 - val_loss: 0.2355 - val_accuracy: 0.9179 - val_recall: 0.6216 - val_precision: 0.3216\n"
          ],
          "name": "stdout"
        }
      ]
    },
    {
      "cell_type": "markdown",
      "metadata": {
        "id": "p-TwZZx0AOxO"
      },
      "source": [
        "# Performance evaluation"
      ]
    },
    {
      "cell_type": "code",
      "metadata": {
        "id": "WKOHvmiVOsaP"
      },
      "source": [
        "# test_loss, test_acc = model.evaluate(get_keras_dataset(X_test, cols), y_test)\r\n",
        "\r\n",
        "# print()\r\n",
        "# print('Test Loss:\\t', test_loss)\r\n",
        "# print('Test Accuracy:\\t', test_acc)"
      ],
      "execution_count": 21,
      "outputs": []
    },
    {
      "cell_type": "code",
      "metadata": {
        "id": "ujQ7C2bhQXLN"
      },
      "source": [
        "y_pred = model.predict(get_keras_dataset(X_test, cols))"
      ],
      "execution_count": 22,
      "outputs": []
    },
    {
      "cell_type": "code",
      "metadata": {
        "colab": {
          "base_uri": "https://localhost:8080/",
          "height": 350
        },
        "id": "TWs-nW4IPaQC",
        "outputId": "466d36d7-fd8e-451c-dc81-075ad01c9725"
      },
      "source": [
        "mf.plot_cm(y_test, y_pred, 'Blues')"
      ],
      "execution_count": 23,
      "outputs": [
        {
          "output_type": "display_data",
          "data": {
            "image/png": "[encoded data removed]",
            "text/plain": [
              "<Figure size 360x360 with 2 Axes>"
            ]
          },
          "metadata": {
            "tags": [],
            "needs_background": "light"
          }
        }
      ]
    },
    {
      "cell_type": "code",
      "metadata": {
        "colab": {
          "base_uri": "https://localhost:8080/",
          "height": 297
        },
        "id": "4ivKw-JpPkVG",
        "outputId": "7999feb4-ce5c-4367-87bb-a4cc14074d46"
      },
      "source": [
        "mf.plot_roc(\"ROC curve\", y_test, y_pred,color='blue')"
      ],
      "execution_count": 24,
      "outputs": [
        {
          "output_type": "stream",
          "text": [
            "AUC:  0.8808831467289187\n"
          ],
          "name": "stdout"
        },
        {
          "output_type": "display_data",
          "data": {
            "image/png": "[encoded data removed]",
            "text/plain": [
              "<Figure size 432x288 with 1 Axes>"
            ]
          },
          "metadata": {
            "tags": [],
            "needs_background": "light"
          }
        }
      ]
    },
    {
      "cell_type": "code",
      "metadata": {
        "colab": {
          "base_uri": "https://localhost:8080/",
          "height": 297
        },
        "id": "mbjYisJaYevS",
        "outputId": "83933803-cdfa-4ee7-ccc0-013cee77d2a7"
      },
      "source": [
        "mf.plot_ap('Precision-Recall curve', y_test, y_pred, color = 'red')"
      ],
      "execution_count": 25,
      "outputs": [
        {
          "output_type": "stream",
          "text": [
            "Average precision:  0.41890313263589196\n"
          ],
          "name": "stdout"
        },
        {
          "output_type": "display_data",
          "data": {
            "image/png": "[encoded data removed]",
            "text/plain": [
              "<Figure size 432x288 with 1 Axes>"
            ]
          },
          "metadata": {
            "tags": [],
            "needs_background": "light"
          }
        }
      ]
    },
    {
      "cell_type": "code",
      "metadata": {
        "id": "2G6888leAwmt"
      },
      "source": [
        "y_predicted = []\r\n",
        "for prob in y_pred:\r\n",
        "  if prob >= 0.5:\r\n",
        "    y_predicted.append(1)\r\n",
        "  else:\r\n",
        "    y_predicted.append(0)"
      ],
      "execution_count": 26,
      "outputs": []
    },
    {
      "cell_type": "code",
      "metadata": {
        "id": "9O9ms_BTfptM",
        "colab": {
          "base_uri": "https://localhost:8080/"
        },
        "outputId": "e5250d44-dd98-445c-f354-e2e959f47f51"
      },
      "source": [
        "from sklearn.metrics import f1_score, recall_score, precision_score\r\n",
        "print('F1 score: ',f1_score(y_test, y_predicted, average=\"binary\"))\r\n",
        "print('Recall: ', recall_score(y_test, y_predicted, average='binary'))\r\n",
        "print('Precision: ', precision_score(y_test, y_predicted,  average='binary'))"
      ],
      "execution_count": 27,
      "outputs": [
        {
          "output_type": "stream",
          "text": [
            "F1 score:  0.3619749238506765\n",
            "Recall:  0.61256293454807\n",
            "Precision:  0.2568871908304846\n"
          ],
          "name": "stdout"
        }
      ]
    },
    {
      "cell_type": "code",
      "metadata": {
        "id": "aYR5BCcTm108"
      },
      "source": [
        ""
      ],
      "execution_count": 27,
      "outputs": []
    }
  ]
}