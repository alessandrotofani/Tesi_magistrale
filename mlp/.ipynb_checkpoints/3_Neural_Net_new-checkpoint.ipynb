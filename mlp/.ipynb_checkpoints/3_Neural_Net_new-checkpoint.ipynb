{
  "nbformat": 4,
  "nbformat_minor": 0,
  "metadata": {
    "colab": {
      "name": "3_Neural_Net.ipynb",
      "provenance": [],
      "authorship_tag": "ABX9TyMCd3yPRLI5VG76oOGI6+qk",
      "include_colab_link": true
    },
    "kernelspec": {
      "name": "python3",
      "display_name": "Python 3"
    },
    "accelerator": "GPU"
  },
  "cells": [
    {
      "cell_type": "markdown",
      "metadata": {
        "id": "view-in-github",
        "colab_type": "text"
      },
      "source": [
        "<a href=\"https://colab.research.google.com/github/alessandrotofani/Tesi_magistrale/blob/master/3_Neural_Net_new.ipynb\" target=\"_parent\"><img src=\"https://colab.research.google.com/assets/colab-badge.svg\" alt=\"Open In Colab\"/></a>"
      ]
    },
    {
      "cell_type": "markdown",
      "metadata": {
        "id": "8-eTUKS6D9Fs"
      },
      "source": [
        "# Import"
      ]
    },
    {
      "cell_type": "code",
      "metadata": {
        "colab": {
          "base_uri": "https://localhost:8080/"
        },
        "id": "xtV-QCEPDVju",
        "outputId": "5836565e-4c41-42eb-c6e0-a8867b60a9b7"
      },
      "source": [
        "import numpy as np # linear algebra\r\n",
        "import pandas as pd # data processing\r\n",
        "import matplotlib\r\n",
        "import matplotlib.pyplot as plt\r\n",
        "import seaborn as sns\r\n",
        "import os\r\n",
        "from google.colab import drive\r\n",
        "drive.mount('/content/drive')\r\n",
        "from sklearn.model_selection import train_test_split"
      ],
      "execution_count": 1,
      "outputs": [
        {
          "output_type": "stream",
          "text": [
            "Mounted at /content/drive\n"
          ],
          "name": "stdout"
        }
      ]
    },
    {
      "cell_type": "code",
      "metadata": {
        "id": "QSvV9n8XDd1_"
      },
      "source": [
        "import sys \r\n",
        "sys.path.append('/content/drive/MyDrive/Tesi_magistrale/Tesi_magistrale')\r\n",
        "import mf\r\n",
        "import warnings\r\n",
        "warnings.simplefilter(action='ignore', category=FutureWarning)"
      ],
      "execution_count": 2,
      "outputs": []
    },
    {
      "cell_type": "code",
      "metadata": {
        "id": "vLwIrSvoSR7S",
        "outputId": "586f500d-151b-40cb-ed1a-dbcdf1a89641",
        "colab": {
          "base_uri": "https://localhost:8080/"
        }
      },
      "source": [
        "!pip install --quiet fastai==2.2.5"
      ],
      "execution_count": 3,
      "outputs": [
        {
          "output_type": "stream",
          "text": [
            "\u001b[K     |████████████████████████████████| 194kB 4.1MB/s \n",
            "\u001b[K     |████████████████████████████████| 61kB 9.3MB/s \n",
            "\u001b[?25h"
          ],
          "name": "stdout"
        }
      ]
    },
    {
      "cell_type": "markdown",
      "metadata": {
        "id": "k5aTQo_7D3KW"
      },
      "source": [
        "# Preprocessing"
      ]
    },
    {
      "cell_type": "code",
      "metadata": {
        "id": "3CA67WePVnds"
      },
      "source": [
        "data = pd.read_csv('/content/drive/MyDrive/Tesi_magistrale/Dataset/IEEE/Output/data.csv')\r\n",
        "data = mf.new_processing(data)\r\n",
        "# data = pd.get_dummies(data)"
      ],
      "execution_count": 4,
      "outputs": []
    },
    {
      "cell_type": "code",
      "metadata": {
        "id": "ouq64I1r5lkR"
      },
      "source": [
        "cols = mf.get_col(data)"
      ],
      "execution_count": 5,
      "outputs": []
    },
    {
      "cell_type": "code",
      "metadata": {
        "id": "GRYQU4obQE8V"
      },
      "source": [
        "from fastai.tabular.all import *"
      ],
      "execution_count": 6,
      "outputs": []
    },
    {
      "cell_type": "code",
      "metadata": {
        "id": "ruoqZDmGS48a"
      },
      "source": [
        "categorical_col = data.select_dtypes(include=['object']).columns.tolist()"
      ],
      "execution_count": 7,
      "outputs": []
    },
    {
      "cell_type": "code",
      "metadata": {
        "id": "9WHzC-MHVTBV"
      },
      "source": [
        "def get_numerical_col(data, categorical_col):\n",
        "  numerical_col = []\n",
        "  for col in data.columns:\n",
        "    if col not in categorical_col and col != 'isFraud':\n",
        "      numerical_col.append(col)\n",
        "  return numerical_col\n",
        "\n",
        "numerical_col = get_numerical_col(data, categorical_col)"
      ],
      "execution_count": 8,
      "outputs": []
    },
    {
      "cell_type": "markdown",
      "metadata": {
        "id": "_IkJQpHuhnXm"
      },
      "source": [
        "Tutorial: https://docs.fast.ai/tutorial.tabular.html\n",
        "\n",
        "Book: https://github.com/fastai/fastbook/blob/master/09_tabular.ipynb"
      ]
    },
    {
      "cell_type": "code",
      "metadata": {
        "id": "uss-vsWXQE3E"
      },
      "source": [
        "fasted = TabularPandas(data, procs=[Categorify],\n",
        "                   cat_names = categorical_col,\n",
        "                   cont_names = numerical_col,\n",
        "                   y_names='isFraud')\n",
        "                  #  splits=splits)"
      ],
      "execution_count": 9,
      "outputs": []
    },
    {
      "cell_type": "code",
      "metadata": {
        "id": "X-fjffG1UwkY"
      },
      "source": [
        "X_train, y_train = fasted.xs, fasted.ys.values.ravel()\n",
        "# X_test, y_test = fasted.valid.xs, fasted.valid.ys.values.ravel()"
      ],
      "execution_count": 11,
      "outputs": []
    },
    {
      "cell_type": "code",
      "metadata": {
        "id": "GAffYKlMcKoQ",
        "outputId": "f7d43ca7-ceac-4667-a899-705b604efdfb",
        "colab": {
          "base_uri": "https://localhost:8080/"
        }
      },
      "source": [
        "for col in categorical_col:\n",
        "  print('Feature',col, 'has',X_train[col].max(), 'different categorical values')"
      ],
      "execution_count": 17,
      "outputs": [
        {
          "output_type": "stream",
          "text": [
            "Feature ProductCD has 5 different categorical values\n",
            "Feature card4 has 5 different categorical values\n",
            "Feature card6 has 5 different categorical values\n",
            "Feature P_emaildomain has 60 different categorical values\n",
            "Feature R_emaildomain has 61 different categorical values\n",
            "Feature M2 has 3 different categorical values\n",
            "Feature M3 has 3 different categorical values\n",
            "Feature M4 has 4 different categorical values\n",
            "Feature M5 has 3 different categorical values\n",
            "Feature M6 has 3 different categorical values\n",
            "Feature M7 has 3 different categorical values\n",
            "Feature M8 has 3 different categorical values\n",
            "Feature M9 has 3 different categorical values\n",
            "Feature id_12 has 3 different categorical values\n",
            "Feature id_15 has 4 different categorical values\n",
            "Feature id_16 has 3 different categorical values\n",
            "Feature id_27 has 3 different categorical values\n",
            "Feature id_28 has 3 different categorical values\n",
            "Feature id_29 has 3 different categorical values\n",
            "Feature id_35 has 3 different categorical values\n",
            "Feature id_36 has 3 different categorical values\n",
            "Feature id_37 has 3 different categorical values\n",
            "Feature id_38 has 3 different categorical values\n",
            "Feature DeviceType has 3 different categorical values\n",
            "Feature device_name has 14 different categorical values\n",
            "Feature device_version has 294 different categorical values\n",
            "Feature os_name has 8 different categorical values\n",
            "Feature browser_name has 40 different categorical values\n"
          ],
          "name": "stdout"
        }
      ]
    },
    {
      "cell_type": "code",
      "metadata": {
        "id": "Da6EBrZcrZpF"
      },
      "source": [
        "categorical_col_toemb = []\n",
        "one_hot_encode = []\n",
        "for col in categorical_col:\n",
        "  if X_train[col].max() > 7:\n",
        "    categorical_col_toemb.append(col)\n",
        "  else:\n",
        "    one_hot_encode.append(col)\n",
        "\n",
        "X_train = pd.get_dummies(X_train, columns=one_hot_encode)\n",
        "cols = mf.get_col(X_train)"
      ],
      "execution_count": 18,
      "outputs": []
    },
    {
      "cell_type": "code",
      "metadata": {
        "id": "pDwfRa1mr7Jy"
      },
      "source": [
        "numerical_col = get_numerical_col(X_train, categorical_col_toemb)"
      ],
      "execution_count": 19,
      "outputs": []
    },
    {
      "cell_type": "markdown",
      "metadata": {
        "id": "WLwNC-RfdpGF"
      },
      "source": [
        "## Train validation test split"
      ]
    },
    {
      "cell_type": "markdown",
      "metadata": {
        "id": "m8EkabwNTN1C"
      },
      "source": [
        "Splitto il dataset in train, validation e test set. "
      ]
    },
    {
      "cell_type": "code",
      "metadata": {
        "id": "QTS6eJT9AGlU"
      },
      "source": [
        "def overSampling(X, y, frac_over=0.1):\n",
        "  from imblearn.over_sampling import SMOTE\n",
        "  sm = SMOTE(sampling_strategy=frac_over, random_state=42)\n",
        "  X_sm, y_sm = sm.fit_resample(X, y)  \n",
        "  return X_sm, y_sm"
      ],
      "execution_count": 20,
      "outputs": []
    },
    {
      "cell_type": "code",
      "metadata": {
        "id": "b1lw52XFUZBG"
      },
      "source": [
        "X_train, X_test, y_train, y_test = train_test_split(X_train, y_train, test_size = 0.2)\n",
        "X_train, y_train = overSampling(X_train, y_train)\n",
        "X_train, X_val, y_train, y_val = train_test_split(X_train, y_train, test_size=0.25, random_state=42)"
      ],
      "execution_count": 21,
      "outputs": []
    },
    {
      "cell_type": "code",
      "metadata": {
        "id": "dqOMoTQ-xkQo"
      },
      "source": [
        "save_id = False \r\n",
        "\r\n",
        "if save_id:\r\n",
        "  train_id = X_train.index.tolist()\r\n",
        "  val_id = X_val.index.tolist()\r\n",
        "  test_id = X_test.index.tolist()\r\n",
        "  mf.save_list('train_id',train_id)\r\n",
        "  mf.save_list('val_id', val_id)\r\n",
        "  mf.save_list('test_id', test_id)\r\n",
        "\r\n",
        "load_id = False \r\n",
        "if load_id:\r\n",
        "  mf.load_list('train_id',train_id)\r\n",
        "  mf.load_list('val_id', val_id)\r\n",
        "  mf.load_list('test_id', test_id)"
      ],
      "execution_count": 22,
      "outputs": []
    },
    {
      "cell_type": "markdown",
      "metadata": {
        "id": "XcNlmAIrLUcB"
      },
      "source": [
        "# Neural Network"
      ]
    },
    {
      "cell_type": "markdown",
      "metadata": {
        "id": "HypjIBuVX2UT"
      },
      "source": [
        "Kaggle tutorial https://www.kaggle.com/colinmorris/embedding-layers\n",
        "\n",
        "Implementation: https://www.kaggle.com/blaskowitz100/dnn-keras-and-categorical-feature-embedding"
      ]
    },
    {
      "cell_type": "code",
      "metadata": {
        "id": "-19ItfoMTD0L"
      },
      "source": [
        "import tensorflow as tf\n",
        "from tensorflow import keras\n",
        "from tensorflow.keras import models\n",
        "from tensorflow.keras import layers\n",
        "\n",
        "keras.backend.clear_session()\n",
        "# Embedding for categorical features\n",
        "categorical_input = []\n",
        "numerical_input = []\n",
        "embeddings = []\n",
        "embedding_layer_names = []\n",
        "for col in categorical_col_toemb:\n",
        "# for col in categorical_col:\n",
        "    _input = layers.Input(shape=[1], name=col)\n",
        "    _embed = layers.Embedding(fasted[col].max() + 1, 3, name=col+'_emb')(_input)\n",
        "    categorical_input.append(_input)\n",
        "    embeddings.append(_embed)\n",
        "    embedding_layer_names.append(col+'_emb')\n",
        "    \n",
        "# Simple inputs for the numeric features\n",
        "for col in numerical_col:\n",
        "    numeric_input = layers.Input(shape=(1,), name=col)\n",
        "    numerical_input.append(numeric_input)\n",
        "    \n",
        "# Merge the numeric inputs\n",
        "merged_num_inputs = layers.concatenate(numerical_input)\n",
        "\n",
        "# Merge embedding and use a Droput to prevent overfittting\n",
        "merged_inputs = layers.concatenate(embeddings)\n",
        "spatial_dropout = layers.SpatialDropout1D(0.5)(merged_inputs)\n",
        "flat_embed = layers.Flatten()(spatial_dropout)\n",
        "\n",
        "# Merge embedding and numeric features\n",
        "all_features = layers.concatenate([flat_embed, merged_num_inputs])\n",
        "\n",
        "# MLP for classification\n",
        "x = layers.Dense(256, activation='tanh')(all_features)\n",
        "x = layers.Dropout(0.7)(x)\n",
        "\n",
        "# Final model\n",
        "output = layers.Dense(1, activation='sigmoid')(x)\n",
        "model = models.Model(inputs=categorical_input + numerical_input, outputs=output)"
      ],
      "execution_count": 35,
      "outputs": []
    },
    {
      "cell_type": "code",
      "metadata": {
        "id": "UtPJD6YkUKZe"
      },
      "source": [
        "model.compile(loss='binary_crossentropy', optimizer='adam', metrics=['accuracy'])\n",
        "# print(model.summary())"
      ],
      "execution_count": 36,
      "outputs": []
    },
    {
      "cell_type": "code",
      "metadata": {
        "id": "kJxOM99jPYxe"
      },
      "source": [
        "def get_keras_dataset(X, cols):\n",
        "  df = pd.DataFrame(data=X, columns=cols)\n",
        "  X = {str(col) : np.array(df[col]) for col in df.columns}\n",
        "  return X"
      ],
      "execution_count": 37,
      "outputs": []
    },
    {
      "cell_type": "code",
      "metadata": {
        "colab": {
          "base_uri": "https://localhost:8080/"
        },
        "id": "DcxHJc6-OD5P",
        "outputId": "fcf26cfc-93df-4128-cb1b-e1fa30026f01"
      },
      "source": [
        "history = model.fit(\r\n",
        "    get_keras_dataset(X_train, cols), \r\n",
        "    y_train,\r\n",
        "    epochs=30, \r\n",
        "    batch_size=500, \r\n",
        "    validation_data=(get_keras_dataset(X_val, cols),y_val),\r\n",
        "    verbose=1,\r\n",
        "    shuffle = True , #class_weight = {0: 1, 1: ratio / 2}\r\n",
        ")"
      ],
      "execution_count": 38,
      "outputs": [
        {
          "output_type": "stream",
          "text": [
            "Epoch 1/30\n",
            "753/753 [==============================] - 20s 24ms/step - loss: 0.2716 - accuracy: 0.9081 - val_loss: 0.2410 - val_accuracy: 0.9145\n",
            "Epoch 2/30\n",
            "753/753 [==============================] - 17s 23ms/step - loss: 0.2400 - accuracy: 0.9173 - val_loss: 0.2302 - val_accuracy: 0.9191\n",
            "Epoch 3/30\n",
            "753/753 [==============================] - 17s 23ms/step - loss: 0.2352 - accuracy: 0.9190 - val_loss: 0.2278 - val_accuracy: 0.9205\n",
            "Epoch 4/30\n",
            "753/753 [==============================] - 17s 23ms/step - loss: 0.2314 - accuracy: 0.9210 - val_loss: 0.2272 - val_accuracy: 0.9213\n",
            "Epoch 5/30\n",
            "753/753 [==============================] - 17s 23ms/step - loss: 0.2321 - accuracy: 0.9201 - val_loss: 0.2247 - val_accuracy: 0.9216\n",
            "Epoch 6/30\n",
            "753/753 [==============================] - 17s 23ms/step - loss: 0.2286 - accuracy: 0.9215 - val_loss: 0.2237 - val_accuracy: 0.9218\n",
            "Epoch 7/30\n",
            "753/753 [==============================] - 17s 23ms/step - loss: 0.2274 - accuracy: 0.9219 - val_loss: 0.2244 - val_accuracy: 0.9225\n",
            "Epoch 8/30\n",
            "753/753 [==============================] - 17s 23ms/step - loss: 0.2259 - accuracy: 0.9228 - val_loss: 0.2224 - val_accuracy: 0.9219\n",
            "Epoch 9/30\n",
            "753/753 [==============================] - 18s 23ms/step - loss: 0.2261 - accuracy: 0.9222 - val_loss: 0.2214 - val_accuracy: 0.9228\n",
            "Epoch 10/30\n",
            "753/753 [==============================] - 18s 23ms/step - loss: 0.2256 - accuracy: 0.9232 - val_loss: 0.2204 - val_accuracy: 0.9233\n",
            "Epoch 11/30\n",
            "753/753 [==============================] - 17s 23ms/step - loss: 0.2262 - accuracy: 0.9223 - val_loss: 0.2234 - val_accuracy: 0.9219\n",
            "Epoch 12/30\n",
            "753/753 [==============================] - 17s 23ms/step - loss: 0.2225 - accuracy: 0.9239 - val_loss: 0.2193 - val_accuracy: 0.9227\n",
            "Epoch 13/30\n",
            "753/753 [==============================] - 18s 24ms/step - loss: 0.2233 - accuracy: 0.9232 - val_loss: 0.2178 - val_accuracy: 0.9239\n",
            "Epoch 14/30\n",
            "753/753 [==============================] - 17s 23ms/step - loss: 0.2249 - accuracy: 0.9231 - val_loss: 0.2198 - val_accuracy: 0.9241\n",
            "Epoch 15/30\n",
            "753/753 [==============================] - 17s 23ms/step - loss: 0.2211 - accuracy: 0.9244 - val_loss: 0.2169 - val_accuracy: 0.9239\n",
            "Epoch 16/30\n",
            "753/753 [==============================] - 18s 23ms/step - loss: 0.2236 - accuracy: 0.9228 - val_loss: 0.2172 - val_accuracy: 0.9234\n",
            "Epoch 17/30\n",
            "753/753 [==============================] - 17s 23ms/step - loss: 0.2216 - accuracy: 0.9237 - val_loss: 0.2157 - val_accuracy: 0.9245\n",
            "Epoch 18/30\n",
            "753/753 [==============================] - 17s 23ms/step - loss: 0.2204 - accuracy: 0.9242 - val_loss: 0.2149 - val_accuracy: 0.9246\n",
            "Epoch 19/30\n",
            "753/753 [==============================] - 17s 23ms/step - loss: 0.2190 - accuracy: 0.9242 - val_loss: 0.2168 - val_accuracy: 0.9252\n",
            "Epoch 20/30\n",
            "753/753 [==============================] - 17s 23ms/step - loss: 0.2207 - accuracy: 0.9241 - val_loss: 0.2141 - val_accuracy: 0.9258\n",
            "Epoch 21/30\n",
            "753/753 [==============================] - 17s 23ms/step - loss: 0.2186 - accuracy: 0.9247 - val_loss: 0.2155 - val_accuracy: 0.9240\n",
            "Epoch 22/30\n",
            "753/753 [==============================] - 18s 23ms/step - loss: 0.2184 - accuracy: 0.9249 - val_loss: 0.2125 - val_accuracy: 0.9262\n",
            "Epoch 23/30\n",
            "753/753 [==============================] - 17s 23ms/step - loss: 0.2166 - accuracy: 0.9259 - val_loss: 0.2122 - val_accuracy: 0.9258\n",
            "Epoch 24/30\n",
            "753/753 [==============================] - 17s 23ms/step - loss: 0.2175 - accuracy: 0.9252 - val_loss: 0.2111 - val_accuracy: 0.9262\n",
            "Epoch 25/30\n",
            "753/753 [==============================] - 18s 23ms/step - loss: 0.2192 - accuracy: 0.9244 - val_loss: 0.2113 - val_accuracy: 0.9265\n",
            "Epoch 26/30\n",
            "753/753 [==============================] - 17s 23ms/step - loss: 0.2173 - accuracy: 0.9250 - val_loss: 0.2112 - val_accuracy: 0.9262\n",
            "Epoch 27/30\n",
            "753/753 [==============================] - 18s 24ms/step - loss: 0.2163 - accuracy: 0.9250 - val_loss: 0.2101 - val_accuracy: 0.9268\n",
            "Epoch 28/30\n",
            "753/753 [==============================] - 17s 23ms/step - loss: 0.2181 - accuracy: 0.9245 - val_loss: 0.2095 - val_accuracy: 0.9273\n",
            "Epoch 29/30\n",
            "753/753 [==============================] - 17s 23ms/step - loss: 0.2154 - accuracy: 0.9259 - val_loss: 0.2089 - val_accuracy: 0.9269\n",
            "Epoch 30/30\n",
            "753/753 [==============================] - 17s 23ms/step - loss: 0.2157 - accuracy: 0.9256 - val_loss: 0.2104 - val_accuracy: 0.9264\n"
          ],
          "name": "stdout"
        }
      ]
    },
    {
      "cell_type": "markdown",
      "metadata": {
        "id": "p-TwZZx0AOxO"
      },
      "source": [
        "# Performance evaluation"
      ]
    },
    {
      "cell_type": "code",
      "metadata": {
        "colab": {
          "base_uri": "https://localhost:8080/"
        },
        "id": "WKOHvmiVOsaP",
        "outputId": "86dd3da0-59f9-455a-9489-fb60f7570376"
      },
      "source": [
        "test_loss, test_acc = model.evaluate(get_keras_dataset(X_test, cols), y_test)\r\n",
        "\r\n",
        "print()\r\n",
        "print('Test Loss:\\t', test_loss)\r\n",
        "print('Test Accuracy:\\t', test_acc)"
      ],
      "execution_count": 39,
      "outputs": [
        {
          "output_type": "stream",
          "text": [
            "3691/3691 [==============================] - 105s 28ms/step - loss: 0.1183 - accuracy: 0.9690\n",
            "\n",
            "Test Loss:\t 0.11832720786333084\n",
            "Test Accuracy:\t 0.9690280556678772\n"
          ],
          "name": "stdout"
        }
      ]
    },
    {
      "cell_type": "code",
      "metadata": {
        "id": "ujQ7C2bhQXLN"
      },
      "source": [
        "y_pred = model.predict(get_keras_dataset(X_test, cols))"
      ],
      "execution_count": 40,
      "outputs": []
    },
    {
      "cell_type": "code",
      "metadata": {
        "colab": {
          "base_uri": "https://localhost:8080/",
          "height": 350
        },
        "id": "TWs-nW4IPaQC",
        "outputId": "de34efb5-a21e-4350-eb42-e1eea0464de1"
      },
      "source": [
        "mf.plot_cm(y_test, y_pred, 'Blues')"
      ],
      "execution_count": 41,
      "outputs": [
        {
          "output_type": "display_data",
          "data": {
            "image/png": "[encoded data removed]",
            "text/plain": [
              "<Figure size 360x360 with 2 Axes>"
            ]
          },
          "metadata": {
            "tags": [],
            "needs_background": "light"
          }
        }
      ]
    },
    {
      "cell_type": "code",
      "metadata": {
        "colab": {
          "base_uri": "https://localhost:8080/",
          "height": 297
        },
        "id": "4ivKw-JpPkVG",
        "outputId": "28e5cef0-0619-43f6-a1a0-f062bd0415fb"
      },
      "source": [
        "mf.plot_roc(\"ROC curve\", y_test, y_pred,color='blue')"
      ],
      "execution_count": 42,
      "outputs": [
        {
          "output_type": "stream",
          "text": [
            "AUC:  0.8575845518425915\n"
          ],
          "name": "stdout"
        },
        {
          "output_type": "display_data",
          "data": {
            "image/png": "[encoded data removed]",
            "text/plain": [
              "<Figure size 432x288 with 1 Axes>"
            ]
          },
          "metadata": {
            "tags": [],
            "needs_background": "light"
          }
        }
      ]
    },
    {
      "cell_type": "code",
      "metadata": {
        "colab": {
          "base_uri": "https://localhost:8080/",
          "height": 297
        },
        "id": "mbjYisJaYevS",
        "outputId": "5289da8d-636d-480d-ef9e-93741c7442a0"
      },
      "source": [
        "mf.plot_ap('Precision-Recall curve', y_test, y_pred, color = 'red')"
      ],
      "execution_count": 43,
      "outputs": [
        {
          "output_type": "stream",
          "text": [
            "Average precision:  0.38685874990434954\n"
          ],
          "name": "stdout"
        },
        {
          "output_type": "display_data",
          "data": {
            "image/png": "[encoded data removed]",
            "text/plain": [
              "<Figure size 432x288 with 1 Axes>"
            ]
          },
          "metadata": {
            "tags": [],
            "needs_background": "light"
          }
        }
      ]
    },
    {
      "cell_type": "code",
      "metadata": {
        "id": "2G6888leAwmt"
      },
      "source": [
        "y_predicted = []\r\n",
        "for prob in y_pred:\r\n",
        "  if prob >= 0.5:\r\n",
        "    y_predicted.append(1)\r\n",
        "  else:\r\n",
        "    y_predicted.append(0)"
      ],
      "execution_count": 44,
      "outputs": []
    },
    {
      "cell_type": "code",
      "metadata": {
        "id": "9O9ms_BTfptM",
        "colab": {
          "base_uri": "https://localhost:8080/"
        },
        "outputId": "3503747c-6052-499b-e387-c763137030b8"
      },
      "source": [
        "from sklearn.metrics import f1_score, recall_score, precision_score\r\n",
        "print('F1 score: ',f1_score(y_test, y_predicted, average=\"binary\"))\r\n",
        "print('Recall: ', recall_score(y_test, y_predicted, average='binary'))\r\n",
        "print('Precision: ', precision_score(y_test, y_predicted,  average='binary'))"
      ],
      "execution_count": 45,
      "outputs": [
        {
          "output_type": "stream",
          "text": [
            "F1 score:  0.3543946346629015\n",
            "Recall:  0.2415203271590089\n",
            "Precision:  0.6653412856196156\n"
          ],
          "name": "stdout"
        }
      ]
    },
    {
      "cell_type": "code",
      "metadata": {
        "id": "aYR5BCcTm108"
      },
      "source": [
        ""
      ],
      "execution_count": 45,
      "outputs": []
    }
  ]
}