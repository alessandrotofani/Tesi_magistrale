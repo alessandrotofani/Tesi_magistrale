{
  "nbformat": 4,
  "nbformat_minor": 0,
  "metadata": {
    "colab": {
      "name": "3_Neural_Net.ipynb",
      "provenance": [],
      "authorship_tag": "ABX9TyPLRg8uY7dqQu/uYiCyJvcJ",
      "include_colab_link": true
    },
    "kernelspec": {
      "name": "python3",
      "display_name": "Python 3"
    },
    "accelerator": "GPU"
  },
  "cells": [
    {
      "cell_type": "markdown",
      "metadata": {
        "id": "view-in-github",
        "colab_type": "text"
      },
      "source": [
        "<a href=\"https://colab.research.google.com/github/alessandrotofani/Tesi_magistrale/blob/master/3_Neural_Net_MLP_underSampling.ipynb\" target=\"_parent\"><img src=\"https://colab.research.google.com/assets/colab-badge.svg\" alt=\"Open In Colab\"/></a>"
      ]
    },
    {
      "cell_type": "markdown",
      "metadata": {
        "id": "8-eTUKS6D9Fs"
      },
      "source": [
        "# Import"
      ]
    },
    {
      "cell_type": "code",
      "metadata": {
        "colab": {
          "base_uri": "https://localhost:8080/"
        },
        "id": "xtV-QCEPDVju",
        "outputId": "32f6dfd6-a123-4483-9be9-d6c636d0c4af"
      },
      "source": [
        "import numpy as np # linear algebra\r\n",
        "import pandas as pd # data processing\r\n",
        "import matplotlib\r\n",
        "import matplotlib.pyplot as plt\r\n",
        "import seaborn as sns\r\n",
        "import os\r\n",
        "from google.colab import drive\r\n",
        "drive.mount('/content/drive')\r\n",
        "from sklearn.model_selection import train_test_split"
      ],
      "execution_count": 1,
      "outputs": [
        {
          "output_type": "stream",
          "text": [
            "Mounted at /content/drive\n"
          ],
          "name": "stdout"
        }
      ]
    },
    {
      "cell_type": "code",
      "metadata": {
        "id": "QSvV9n8XDd1_"
      },
      "source": [
        "import sys \r\n",
        "sys.path.append('/content/drive/MyDrive/Tesi_magistrale/Tesi_magistrale')\r\n",
        "import mf\r\n",
        "import warnings\r\n",
        "warnings.simplefilter(action='ignore', category=FutureWarning)"
      ],
      "execution_count": 2,
      "outputs": []
    },
    {
      "cell_type": "code",
      "metadata": {
        "id": "vLwIrSvoSR7S",
        "colab": {
          "base_uri": "https://localhost:8080/"
        },
        "outputId": "1e62b312-3a38-4889-86a9-3788941a42c8"
      },
      "source": [
        "!pip install --quiet fastai==2.2.5"
      ],
      "execution_count": 3,
      "outputs": [
        {
          "output_type": "stream",
          "text": [
            "\u001b[K     |████████████████████████████████| 194kB 5.4MB/s \n",
            "\u001b[K     |████████████████████████████████| 61kB 5.5MB/s \n",
            "\u001b[?25h"
          ],
          "name": "stdout"
        }
      ]
    },
    {
      "cell_type": "markdown",
      "metadata": {
        "id": "k5aTQo_7D3KW"
      },
      "source": [
        "# Preprocessing"
      ]
    },
    {
      "cell_type": "code",
      "metadata": {
        "id": "3CA67WePVnds"
      },
      "source": [
        "data = pd.read_csv('/content/drive/MyDrive/Tesi_magistrale/Dataset/IEEE/Output/data.csv')\r\n",
        "data = mf.new_processing(data)\r\n",
        "# data = pd.get_dummies(data)"
      ],
      "execution_count": 4,
      "outputs": []
    },
    {
      "cell_type": "code",
      "metadata": {
        "id": "ouq64I1r5lkR"
      },
      "source": [
        "cols = mf.get_col(data)"
      ],
      "execution_count": 5,
      "outputs": []
    },
    {
      "cell_type": "code",
      "metadata": {
        "id": "GRYQU4obQE8V"
      },
      "source": [
        "from fastai.tabular.all import *"
      ],
      "execution_count": 6,
      "outputs": []
    },
    {
      "cell_type": "code",
      "metadata": {
        "id": "ruoqZDmGS48a"
      },
      "source": [
        "categorical_col = data.select_dtypes(include=['object']).columns.tolist()"
      ],
      "execution_count": 7,
      "outputs": []
    },
    {
      "cell_type": "code",
      "metadata": {
        "id": "9WHzC-MHVTBV"
      },
      "source": [
        "def get_numerical_col(data, categorical_col):\n",
        "  numerical_col = []\n",
        "  for col in data.columns:\n",
        "    if col not in categorical_col and col != 'isFraud':\n",
        "      numerical_col.append(col)\n",
        "  return numerical_col\n",
        "\n",
        "numerical_col = get_numerical_col(data, categorical_col)"
      ],
      "execution_count": 8,
      "outputs": []
    },
    {
      "cell_type": "markdown",
      "metadata": {
        "id": "_IkJQpHuhnXm"
      },
      "source": [
        "Tutorial: https://docs.fast.ai/tutorial.tabular.html\n",
        "\n",
        "Book: https://github.com/fastai/fastbook/blob/master/09_tabular.ipynb"
      ]
    },
    {
      "cell_type": "code",
      "metadata": {
        "id": "uss-vsWXQE3E"
      },
      "source": [
        "fasted = TabularPandas(data, procs=[Categorify],\n",
        "                   cat_names = categorical_col,\n",
        "                   cont_names = numerical_col,\n",
        "                   y_names='isFraud')\n",
        "                  #  splits=splits)"
      ],
      "execution_count": 9,
      "outputs": []
    },
    {
      "cell_type": "code",
      "metadata": {
        "id": "X-fjffG1UwkY"
      },
      "source": [
        "X_train, y_train = fasted.xs, fasted.ys.values.ravel()"
      ],
      "execution_count": 10,
      "outputs": []
    },
    {
      "cell_type": "code",
      "metadata": {
        "id": "Da6EBrZcrZpF"
      },
      "source": [
        "categorical_col_toemb = []\n",
        "one_hot_encode = []\n",
        "for col in categorical_col:\n",
        "  if X_train[col].max() > 7:\n",
        "    categorical_col_toemb.append(col)\n",
        "  else:\n",
        "    one_hot_encode.append(col)\n",
        "\n",
        "X_train = pd.get_dummies(X_train, columns=one_hot_encode)\n",
        "cols = mf.get_col(X_train)"
      ],
      "execution_count": 11,
      "outputs": []
    },
    {
      "cell_type": "code",
      "metadata": {
        "id": "pDwfRa1mr7Jy"
      },
      "source": [
        "numerical_col = get_numerical_col(X_train, categorical_col_toemb)"
      ],
      "execution_count": 12,
      "outputs": []
    },
    {
      "cell_type": "markdown",
      "metadata": {
        "id": "WLwNC-RfdpGF"
      },
      "source": [
        "## Train validation test split"
      ]
    },
    {
      "cell_type": "markdown",
      "metadata": {
        "id": "m8EkabwNTN1C"
      },
      "source": [
        "Splitto il dataset in train, validation e test set. "
      ]
    },
    {
      "cell_type": "code",
      "metadata": {
        "id": "QTS6eJT9AGlU"
      },
      "source": [
        "def underSampling(X, y, frac_under=0.1):\n",
        "  from imblearn.under_sampling import RandomUnderSampler \n",
        "  us = RandomUnderSampler(sampling_strategy=frac_under, random_state=42)\n",
        "  X_us, y_us = us.fit_resample(X, y)\n",
        "  return X_us, y_us\n",
        "\n",
        "def overSampling(X, y, frac_over=0.3):\n",
        "  from imblearn.over_sampling import SMOTE\n",
        "  sm = SMOTE(sampling_strategy=frac_over, random_state=42)\n",
        "  X_sm, y_sm = sm.fit_resample(X, y)\n",
        "  return X_sm, y_sm"
      ],
      "execution_count": 13,
      "outputs": []
    },
    {
      "cell_type": "code",
      "metadata": {
        "id": "b1lw52XFUZBG"
      },
      "source": [
        "X_train, X_test, y_train, y_test = train_test_split(X_train, y_train, test_size = 0.2)\n",
        "X_train, y_train = underSampling(X_train, y_train)\n",
        "X_train, y_train = overSampling(X_train, y_train)\n",
        "X_train, X_val, y_train, y_val = train_test_split(X_train, y_train, test_size=0.2, random_state=42)"
      ],
      "execution_count": 14,
      "outputs": []
    },
    {
      "cell_type": "markdown",
      "metadata": {
        "id": "XcNlmAIrLUcB"
      },
      "source": [
        "# Neural Network"
      ]
    },
    {
      "cell_type": "markdown",
      "metadata": {
        "id": "HypjIBuVX2UT"
      },
      "source": [
        "Kaggle tutorial https://www.kaggle.com/colinmorris/embedding-layers\n",
        "\n",
        "Implementation: https://www.kaggle.com/blaskowitz100/dnn-keras-and-categorical-feature-embedding"
      ]
    },
    {
      "cell_type": "code",
      "metadata": {
        "id": "-19ItfoMTD0L"
      },
      "source": [
        "import tensorflow as tf\n",
        "from tensorflow import keras\n",
        "from tensorflow.keras import models\n",
        "from tensorflow.keras import layers\n",
        "\n",
        "keras.backend.clear_session()\n",
        "# Embedding for categorical features\n",
        "categorical_input = []\n",
        "numerical_input = []\n",
        "embeddings = []\n",
        "embedding_layer_names = []\n",
        "for col in categorical_col_toemb:\n",
        "# for col in categorical_col:\n",
        "    _input = layers.Input(shape=[1], name=col)\n",
        "    _embed = layers.Embedding(fasted[col].max() + 1, 3, name=col+'_emb')(_input)\n",
        "    categorical_input.append(_input)\n",
        "    embeddings.append(_embed)\n",
        "    embedding_layer_names.append(col+'_emb')\n",
        "    \n",
        "# Simple inputs for the numeric features\n",
        "for col in numerical_col:\n",
        "    numeric_input = layers.Input(shape=(1,), name=col)\n",
        "    numerical_input.append(numeric_input)\n",
        "    \n",
        "# Merge the numeric inputs\n",
        "merged_num_inputs = layers.concatenate(numerical_input)\n",
        "\n",
        "# Merge embedding and use a Droput to prevent overfittting\n",
        "merged_inputs = layers.concatenate(embeddings)\n",
        "spatial_dropout = layers.SpatialDropout1D(0.6)(merged_inputs) # 0.2\n",
        "flat_embed = layers.Flatten()(spatial_dropout)\n",
        "\n",
        "# Merge embedding and numeric features\n",
        "all_features = layers.concatenate([flat_embed, merged_num_inputs])\n",
        "\n",
        "# MLP for classification\n",
        "x = layers.Dense(360, activation=tf.keras.activations.gelu)(all_features) \n",
        "x = layers.BatchNormalization()(x)\n",
        "x = layers.Dropout(0.4)(x) #0.05 0.2\n",
        "\n",
        "# Final model\n",
        "output = layers.Dense(1, activation='sigmoid')(x)\n",
        "model = models.Model(inputs=categorical_input + numerical_input, outputs=output)"
      ],
      "execution_count": 19,
      "outputs": []
    },
    {
      "cell_type": "code",
      "metadata": {
        "id": "UtPJD6YkUKZe"
      },
      "source": [
        "model.compile(loss='binary_crossentropy', optimizer='adam', metrics=['accuracy',tf.keras.metrics.Recall(), tf.keras.metrics.Precision()])\n",
        "# print(model.summary())"
      ],
      "execution_count": 20,
      "outputs": []
    },
    {
      "cell_type": "code",
      "metadata": {
        "id": "kJxOM99jPYxe"
      },
      "source": [
        "def get_keras_dataset(X, cols):\n",
        "  df = pd.DataFrame(data=X, columns=cols)\n",
        "  X = {str(col) : np.array(df[col]) for col in df.columns}\n",
        "  return X"
      ],
      "execution_count": 21,
      "outputs": []
    },
    {
      "cell_type": "code",
      "metadata": {
        "colab": {
          "base_uri": "https://localhost:8080/"
        },
        "id": "DcxHJc6-OD5P",
        "outputId": "0f4d71bc-8b4c-4e6e-9590-37b9539b926e"
      },
      "source": [
        "history = model.fit(\r\n",
        "    get_keras_dataset(X_train, cols), \r\n",
        "    y_train,\r\n",
        "    epochs=40, #30 \r\n",
        "    batch_size=512, # 512\r\n",
        "    validation_data=(get_keras_dataset(X_val, cols),y_val),\r\n",
        "    verbose=1,\r\n",
        "    shuffle = True , \r\n",
        "    class_weight = {0: 0.5, 1: 1} #3.5\r\n",
        ")"
      ],
      "execution_count": 22,
      "outputs": [
        {
          "output_type": "stream",
          "text": [
            "Epoch 1/40\n",
            "336/336 [==============================] - 17s 41ms/step - loss: 0.3536 - accuracy: 0.7498 - recall: 0.6201 - precision: 0.4790 - val_loss: 0.5312 - val_accuracy: 0.7846 - val_recall: 0.7063 - val_precision: 0.5291\n",
            "Epoch 2/40\n",
            "336/336 [==============================] - 12s 36ms/step - loss: 0.2769 - accuracy: 0.8248 - recall: 0.6537 - precision: 0.6125 - val_loss: 0.4176 - val_accuracy: 0.8227 - val_recall: 0.7079 - val_precision: 0.6025\n",
            "Epoch 3/40\n",
            "336/336 [==============================] - 12s 36ms/step - loss: 0.2639 - accuracy: 0.8362 - recall: 0.6711 - precision: 0.6357 - val_loss: 0.4091 - val_accuracy: 0.8215 - val_recall: 0.7622 - val_precision: 0.5915\n",
            "Epoch 4/40\n",
            "336/336 [==============================] - 12s 36ms/step - loss: 0.2584 - accuracy: 0.8396 - recall: 0.6827 - precision: 0.6427 - val_loss: 0.3797 - val_accuracy: 0.8340 - val_recall: 0.7082 - val_precision: 0.6282\n",
            "Epoch 5/40\n",
            "336/336 [==============================] - 12s 36ms/step - loss: 0.2526 - accuracy: 0.8448 - recall: 0.7000 - precision: 0.6545 - val_loss: 0.3438 - val_accuracy: 0.8524 - val_recall: 0.6564 - val_precision: 0.6950\n",
            "Epoch 6/40\n",
            "336/336 [==============================] - 12s 36ms/step - loss: 0.2480 - accuracy: 0.8482 - recall: 0.7001 - precision: 0.6590 - val_loss: 0.3464 - val_accuracy: 0.8499 - val_recall: 0.6745 - val_precision: 0.6802\n",
            "Epoch 7/40\n",
            "336/336 [==============================] - 12s 37ms/step - loss: 0.2437 - accuracy: 0.8509 - recall: 0.7102 - precision: 0.6645 - val_loss: 0.3481 - val_accuracy: 0.8522 - val_recall: 0.7120 - val_precision: 0.6738\n",
            "Epoch 8/40\n",
            "336/336 [==============================] - 12s 36ms/step - loss: 0.2415 - accuracy: 0.8524 - recall: 0.7134 - precision: 0.6682 - val_loss: 0.3342 - val_accuracy: 0.8588 - val_recall: 0.7141 - val_precision: 0.6916\n",
            "Epoch 9/40\n",
            "336/336 [==============================] - 12s 36ms/step - loss: 0.2403 - accuracy: 0.8548 - recall: 0.7146 - precision: 0.6743 - val_loss: 0.3418 - val_accuracy: 0.8587 - val_recall: 0.7396 - val_precision: 0.6823\n",
            "Epoch 10/40\n",
            "336/336 [==============================] - 12s 36ms/step - loss: 0.2370 - accuracy: 0.8557 - recall: 0.7231 - precision: 0.6744 - val_loss: 0.3482 - val_accuracy: 0.8524 - val_recall: 0.7446 - val_precision: 0.6641\n",
            "Epoch 11/40\n",
            "336/336 [==============================] - 13s 38ms/step - loss: 0.2352 - accuracy: 0.8572 - recall: 0.7207 - precision: 0.6770 - val_loss: 0.3527 - val_accuracy: 0.8518 - val_recall: 0.7619 - val_precision: 0.6579\n",
            "Epoch 12/40\n",
            "336/336 [==============================] - 12s 36ms/step - loss: 0.2312 - accuracy: 0.8605 - recall: 0.7295 - precision: 0.6824 - val_loss: 0.3222 - val_accuracy: 0.8641 - val_recall: 0.7117 - val_precision: 0.7080\n",
            "Epoch 13/40\n",
            "336/336 [==============================] - 12s 36ms/step - loss: 0.2308 - accuracy: 0.8611 - recall: 0.7279 - precision: 0.6875 - val_loss: 0.3374 - val_accuracy: 0.8629 - val_recall: 0.7532 - val_precision: 0.6889\n",
            "Epoch 14/40\n",
            "336/336 [==============================] - 12s 37ms/step - loss: 0.2290 - accuracy: 0.8619 - recall: 0.7322 - precision: 0.6849 - val_loss: 0.3032 - val_accuracy: 0.8760 - val_recall: 0.6644 - val_precision: 0.7728\n",
            "Epoch 15/40\n",
            "336/336 [==============================] - 12s 37ms/step - loss: 0.2295 - accuracy: 0.8617 - recall: 0.7311 - precision: 0.6891 - val_loss: 0.3132 - val_accuracy: 0.8703 - val_recall: 0.5334 - val_precision: 0.8574\n",
            "Epoch 16/40\n",
            "336/336 [==============================] - 12s 36ms/step - loss: 0.2271 - accuracy: 0.8637 - recall: 0.7353 - precision: 0.6910 - val_loss: 0.3238 - val_accuracy: 0.8675 - val_recall: 0.5146 - val_precision: 0.8628\n",
            "Epoch 17/40\n",
            "336/336 [==============================] - 12s 36ms/step - loss: 0.2255 - accuracy: 0.8639 - recall: 0.7386 - precision: 0.6909 - val_loss: 0.3304 - val_accuracy: 0.8674 - val_recall: 0.7694 - val_precision: 0.6953\n",
            "Epoch 18/40\n",
            "336/336 [==============================] - 12s 36ms/step - loss: 0.2243 - accuracy: 0.8650 - recall: 0.7337 - precision: 0.6929 - val_loss: 0.3117 - val_accuracy: 0.8753 - val_recall: 0.7373 - val_precision: 0.7310\n",
            "Epoch 19/40\n",
            "336/336 [==============================] - 12s 35ms/step - loss: 0.2232 - accuracy: 0.8662 - recall: 0.7418 - precision: 0.6977 - val_loss: 0.3529 - val_accuracy: 0.8475 - val_recall: 0.7923 - val_precision: 0.6403\n",
            "Epoch 20/40\n",
            "336/336 [==============================] - 12s 35ms/step - loss: 0.2215 - accuracy: 0.8668 - recall: 0.7425 - precision: 0.6969 - val_loss: 0.3317 - val_accuracy: 0.8635 - val_recall: 0.7908 - val_precision: 0.6782\n",
            "Epoch 21/40\n",
            "336/336 [==============================] - 12s 36ms/step - loss: 0.2196 - accuracy: 0.8685 - recall: 0.7456 - precision: 0.7018 - val_loss: 0.2909 - val_accuracy: 0.8816 - val_recall: 0.6575 - val_precision: 0.7999\n",
            "Epoch 22/40\n",
            "336/336 [==============================] - 12s 36ms/step - loss: 0.2186 - accuracy: 0.8692 - recall: 0.7480 - precision: 0.7036 - val_loss: 0.2949 - val_accuracy: 0.8795 - val_recall: 0.7061 - val_precision: 0.7606\n",
            "Epoch 23/40\n",
            "336/336 [==============================] - 12s 36ms/step - loss: 0.2190 - accuracy: 0.8685 - recall: 0.7451 - precision: 0.7024 - val_loss: 0.3151 - val_accuracy: 0.8715 - val_recall: 0.7775 - val_precision: 0.7035\n",
            "Epoch 24/40\n",
            "336/336 [==============================] - 12s 36ms/step - loss: 0.2151 - accuracy: 0.8709 - recall: 0.7526 - precision: 0.7062 - val_loss: 0.3027 - val_accuracy: 0.8750 - val_recall: 0.7269 - val_precision: 0.7349\n",
            "Epoch 25/40\n",
            "336/336 [==============================] - 12s 37ms/step - loss: 0.2161 - accuracy: 0.8707 - recall: 0.7500 - precision: 0.7058 - val_loss: 0.2966 - val_accuracy: 0.8798 - val_recall: 0.7413 - val_precision: 0.7435\n",
            "Epoch 26/40\n",
            "336/336 [==============================] - 12s 37ms/step - loss: 0.2174 - accuracy: 0.8697 - recall: 0.7557 - precision: 0.7025 - val_loss: 0.3129 - val_accuracy: 0.8714 - val_recall: 0.7692 - val_precision: 0.7063\n",
            "Epoch 27/40\n",
            "336/336 [==============================] - 12s 37ms/step - loss: 0.2161 - accuracy: 0.8693 - recall: 0.7547 - precision: 0.7001 - val_loss: 0.2985 - val_accuracy: 0.8802 - val_recall: 0.7530 - val_precision: 0.7390\n",
            "Epoch 28/40\n",
            "336/336 [==============================] - 12s 36ms/step - loss: 0.2136 - accuracy: 0.8728 - recall: 0.7571 - precision: 0.7071 - val_loss: 0.2795 - val_accuracy: 0.8880 - val_recall: 0.6969 - val_precision: 0.7980\n",
            "Epoch 29/40\n",
            "336/336 [==============================] - 12s 36ms/step - loss: 0.2124 - accuracy: 0.8724 - recall: 0.7544 - precision: 0.7117 - val_loss: 0.2915 - val_accuracy: 0.8832 - val_recall: 0.7602 - val_precision: 0.7451\n",
            "Epoch 30/40\n",
            "336/336 [==============================] - 12s 36ms/step - loss: 0.2118 - accuracy: 0.8748 - recall: 0.7606 - precision: 0.7154 - val_loss: 0.3246 - val_accuracy: 0.8665 - val_recall: 0.8196 - val_precision: 0.6768\n",
            "Epoch 31/40\n",
            "336/336 [==============================] - 13s 38ms/step - loss: 0.2100 - accuracy: 0.8754 - recall: 0.7615 - precision: 0.7158 - val_loss: 0.3339 - val_accuracy: 0.8638 - val_recall: 0.8280 - val_precision: 0.6682\n",
            "Epoch 32/40\n",
            "336/336 [==============================] - 12s 37ms/step - loss: 0.2093 - accuracy: 0.8757 - recall: 0.7626 - precision: 0.7145 - val_loss: 0.3343 - val_accuracy: 0.8654 - val_recall: 0.8372 - val_precision: 0.6693\n",
            "Epoch 33/40\n",
            "336/336 [==============================] - 12s 37ms/step - loss: 0.2067 - accuracy: 0.8781 - recall: 0.7693 - precision: 0.7178 - val_loss: 0.2802 - val_accuracy: 0.8882 - val_recall: 0.7437 - val_precision: 0.7699\n",
            "Epoch 34/40\n",
            "336/336 [==============================] - 12s 36ms/step - loss: 0.2068 - accuracy: 0.8777 - recall: 0.7710 - precision: 0.7202 - val_loss: 0.2718 - val_accuracy: 0.8914 - val_recall: 0.6910 - val_precision: 0.8161\n",
            "Epoch 35/40\n",
            "336/336 [==============================] - 12s 36ms/step - loss: 0.2081 - accuracy: 0.8765 - recall: 0.7626 - precision: 0.7171 - val_loss: 0.3728 - val_accuracy: 0.8411 - val_recall: 0.8654 - val_precision: 0.6132\n",
            "Epoch 36/40\n",
            "336/336 [==============================] - 12s 36ms/step - loss: 0.2079 - accuracy: 0.8765 - recall: 0.7672 - precision: 0.7180 - val_loss: 0.3342 - val_accuracy: 0.8602 - val_recall: 0.8347 - val_precision: 0.6583\n",
            "Epoch 37/40\n",
            "336/336 [==============================] - 13s 37ms/step - loss: 0.2066 - accuracy: 0.8767 - recall: 0.7670 - precision: 0.7163 - val_loss: 0.2984 - val_accuracy: 0.8771 - val_recall: 0.7860 - val_precision: 0.7157\n",
            "Epoch 38/40\n",
            "336/336 [==============================] - 12s 36ms/step - loss: 0.2058 - accuracy: 0.8781 - recall: 0.7700 - precision: 0.7211 - val_loss: 0.2751 - val_accuracy: 0.8919 - val_recall: 0.7190 - val_precision: 0.7983\n",
            "Epoch 39/40\n",
            "336/336 [==============================] - 13s 38ms/step - loss: 0.2053 - accuracy: 0.8797 - recall: 0.7705 - precision: 0.7242 - val_loss: 0.3250 - val_accuracy: 0.8663 - val_recall: 0.8300 - val_precision: 0.6734\n",
            "Epoch 40/40\n",
            "336/336 [==============================] - 12s 36ms/step - loss: 0.2042 - accuracy: 0.8793 - recall: 0.7675 - precision: 0.7245 - val_loss: 0.2775 - val_accuracy: 0.8900 - val_recall: 0.7540 - val_precision: 0.7702\n"
          ],
          "name": "stdout"
        }
      ]
    },
    {
      "cell_type": "markdown",
      "metadata": {
        "id": "p-TwZZx0AOxO"
      },
      "source": [
        "# Performance evaluation"
      ]
    },
    {
      "cell_type": "code",
      "metadata": {
        "id": "WKOHvmiVOsaP"
      },
      "source": [
        "# test_loss, test_acc = model.evaluate(get_keras_dataset(X_test, cols), y_test)\r\n",
        "\r\n",
        "# print()\r\n",
        "# print('Test Loss:\\t', test_loss)\r\n",
        "# print('Test Accuracy:\\t', test_acc)"
      ],
      "execution_count": 23,
      "outputs": []
    },
    {
      "cell_type": "code",
      "metadata": {
        "id": "ujQ7C2bhQXLN"
      },
      "source": [
        "y_pred = model.predict(get_keras_dataset(X_test, cols))"
      ],
      "execution_count": 24,
      "outputs": []
    },
    {
      "cell_type": "code",
      "metadata": {
        "id": "TWs-nW4IPaQC",
        "colab": {
          "base_uri": "https://localhost:8080/",
          "height": 350
        },
        "outputId": "8d1e9b4a-cd6f-45c9-c0b6-4f09fbf69127"
      },
      "source": [
        "mf.plot_cm(y_test, y_pred, 'Blues')"
      ],
      "execution_count": 25,
      "outputs": [
        {
          "output_type": "display_data",
          "data": {
            "image/png": "[encoded data removed]",
            "text/plain": [
              "<Figure size 360x360 with 2 Axes>"
            ]
          },
          "metadata": {
            "tags": [],
            "needs_background": "light"
          }
        }
      ]
    },
    {
      "cell_type": "code",
      "metadata": {
        "id": "4ivKw-JpPkVG",
        "colab": {
          "base_uri": "https://localhost:8080/",
          "height": 297
        },
        "outputId": "e76a030c-b938-4dca-8d38-549c90fd64a6"
      },
      "source": [
        "mf.plot_roc(\"ROC curve\", y_test, y_pred,color='blue')"
      ],
      "execution_count": 26,
      "outputs": [
        {
          "output_type": "stream",
          "text": [
            "AUC:  0.8873659217538261\n"
          ],
          "name": "stdout"
        },
        {
          "output_type": "display_data",
          "data": {
            "image/png": "[encoded data removed]",
            "text/plain": [
              "<Figure size 432x288 with 1 Axes>"
            ]
          },
          "metadata": {
            "tags": [],
            "needs_background": "light"
          }
        }
      ]
    },
    {
      "cell_type": "code",
      "metadata": {
        "id": "mbjYisJaYevS",
        "colab": {
          "base_uri": "https://localhost:8080/",
          "height": 297
        },
        "outputId": "c8914f52-2fcc-4a6b-d3ee-4d11d56fd9d7"
      },
      "source": [
        "mf.plot_ap('Precision-Recall curve', y_test, y_pred, color = 'red')"
      ],
      "execution_count": 27,
      "outputs": [
        {
          "output_type": "stream",
          "text": [
            "Average precision:  0.4597635102349572\n"
          ],
          "name": "stdout"
        },
        {
          "output_type": "display_data",
          "data": {
            "image/png": "[encoded data removed]",
            "text/plain": [
              "<Figure size 432x288 with 1 Axes>"
            ]
          },
          "metadata": {
            "tags": [],
            "needs_background": "light"
          }
        }
      ]
    },
    {
      "cell_type": "code",
      "metadata": {
        "id": "2G6888leAwmt"
      },
      "source": [
        "y_predicted = []\r\n",
        "for prob in y_pred:\r\n",
        "  if prob >= 0.5:\r\n",
        "    y_predicted.append(1)\r\n",
        "  else:\r\n",
        "    y_predicted.append(0)"
      ],
      "execution_count": 28,
      "outputs": []
    },
    {
      "cell_type": "code",
      "metadata": {
        "id": "9O9ms_BTfptM",
        "colab": {
          "base_uri": "https://localhost:8080/"
        },
        "outputId": "ee38e20a-c93e-40c5-876a-a2ac050c9df0"
      },
      "source": [
        "from sklearn.metrics import f1_score, recall_score, precision_score\r\n",
        "print('F1 score: ',f1_score(y_test, y_predicted, average=\"binary\"))\r\n",
        "print('Recall: ', recall_score(y_test, y_predicted, average='binary'))\r\n",
        "print('Precision: ', precision_score(y_test, y_predicted,  average='binary'))"
      ],
      "execution_count": 29,
      "outputs": [
        {
          "output_type": "stream",
          "text": [
            "F1 score:  0.36406844106463876\n",
            "Recall:  0.6468033775633293\n",
            "Precision:  0.2533308135689313\n"
          ],
          "name": "stdout"
        }
      ]
    },
    {
      "cell_type": "code",
      "metadata": {
        "id": "aYR5BCcTm108"
      },
      "source": [
        ""
      ],
      "execution_count": 29,
      "outputs": []
    }
  ]
}