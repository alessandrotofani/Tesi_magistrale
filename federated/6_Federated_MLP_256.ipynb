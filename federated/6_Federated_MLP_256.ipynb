{
  "nbformat": 4,
  "nbformat_minor": 0,
  "metadata": {
    "colab": {
      "name": "6_Federated.ipynb",
      "provenance": [],
      "authorship_tag": "ABX9TyMKSyKyjz1I1cB9YKFogME5",
      "include_colab_link": true
    },
    "kernelspec": {
      "name": "python3",
      "display_name": "Python 3"
    },
    "accelerator": "GPU"
  },
  "cells": [
    {
      "cell_type": "markdown",
      "metadata": {
        "id": "view-in-github",
        "colab_type": "text"
      },
      "source": [
        "<a href=\"https://colab.research.google.com/github/alessandrotofani/Tesi_magistrale/blob/master/6_Federated_MLP_256.ipynb\" target=\"_parent\"><img src=\"https://colab.research.google.com/assets/colab-badge.svg\" alt=\"Open In Colab\"/></a>"
      ]
    },
    {
      "cell_type": "markdown",
      "metadata": {
        "id": "2XuZ_oMl43ft"
      },
      "source": [
        "Overview: https://www.tensorflow.org/federated\r\n",
        "\r\n",
        "Image classification tutorial: https://www.tensorflow.org/federated/tutorials/federated_learning_for_image_classification"
      ]
    },
    {
      "cell_type": "markdown",
      "metadata": {
        "id": "qOKJPHxH4j9j"
      },
      "source": [
        "# Installation"
      ]
    },
    {
      "cell_type": "code",
      "metadata": {
        "id": "lgkJJpzD4gVs"
      },
      "source": [
        "!pip install --quiet tensorflow==2.3.0\r\n",
        "!pip install --quiet tensorflow_federated==0.17.0\r\n",
        "!pip install --quiet --upgrade nest_asyncio"
      ],
      "execution_count": 1,
      "outputs": []
    },
    {
      "cell_type": "code",
      "metadata": {
        "id": "C6Oguz1e4p29"
      },
      "source": [
        "import nest_asyncio\r\n",
        "nest_asyncio.apply()\r\n",
        "%load_ext tensorboard"
      ],
      "execution_count": 2,
      "outputs": []
    },
    {
      "cell_type": "code",
      "metadata": {
        "id": "0u_qzOek4tlY",
        "colab": {
          "base_uri": "https://localhost:8080/"
        },
        "outputId": "d7a82215-40d2-4986-c35f-c48013b30d67"
      },
      "source": [
        "import collections\r\n",
        "import numpy as np\r\n",
        "import tensorflow as tf\r\n",
        "import tensorflow_federated as tff\r\n",
        "import pandas as pd \r\n",
        "import os\r\n",
        "from google.colab import drive\r\n",
        "drive.mount('/content/drive')"
      ],
      "execution_count": 3,
      "outputs": [
        {
          "output_type": "stream",
          "text": [
            "Drive already mounted at /content/drive; to attempt to forcibly remount, call drive.mount(\"/content/drive\", force_remount=True).\n"
          ],
          "name": "stdout"
        }
      ]
    },
    {
      "cell_type": "code",
      "metadata": {
        "id": "a5VvCBjWmrJC"
      },
      "source": [
        "import sys \n",
        "sys.path.append('/content/drive/MyDrive/Tesi_magistrale/Tesi_magistrale')\n",
        "import mf\n",
        "\n",
        "import warnings\n",
        "warnings.simplefilter(action='ignore', category=FutureWarning)"
      ],
      "execution_count": 4,
      "outputs": []
    },
    {
      "cell_type": "markdown",
      "metadata": {
        "id": "NDXvW9iFxqft"
      },
      "source": [
        "# Import data"
      ]
    },
    {
      "cell_type": "markdown",
      "metadata": {
        "id": "P8nvRkt1yB7_"
      },
      "source": [
        "I dati vengono importati e poi splittati in train e test. "
      ]
    },
    {
      "cell_type": "code",
      "metadata": {
        "id": "nU2jrVgkla8Y"
      },
      "source": [
        "data = pd.read_csv('/content/drive/MyDrive/Tesi_magistrale/Dataset/IEEE/Output/data.csv')\n",
        "data.drop(data.columns[data.columns.str.contains('unnamed',case = False)],axis = 1, inplace = True)"
      ],
      "execution_count": 5,
      "outputs": []
    },
    {
      "cell_type": "code",
      "metadata": {
        "id": "67D33H0kldvF"
      },
      "source": [
        "data = mf.feature_engineering(data)\n",
        "# data = mf.feature_scaling(data)\n",
        "data = pd.get_dummies(data)"
      ],
      "execution_count": 6,
      "outputs": []
    },
    {
      "cell_type": "code",
      "metadata": {
        "id": "0yGwMV9Us42h"
      },
      "source": [
        "# data = data[200000:500000]\n",
        "col_name = mf.get_col(data)"
      ],
      "execution_count": 7,
      "outputs": []
    },
    {
      "cell_type": "code",
      "metadata": {
        "colab": {
          "base_uri": "https://localhost:8080/"
        },
        "id": "XtEnrz70T013",
        "outputId": "ac698a48-385e-4c99-8602-558dc7778696"
      },
      "source": [
        "print('Rate safe/fraud:', (1/mf.ratio(data)).round(3))"
      ],
      "execution_count": 8,
      "outputs": [
        {
          "output_type": "stream",
          "text": [
            "Rate safe/fraud: 0.036\n"
          ],
          "name": "stdout"
        }
      ]
    },
    {
      "cell_type": "code",
      "metadata": {
        "id": "InAYt4jcL1-Y"
      },
      "source": [
        "from sklearn.model_selection import train_test_split\n",
        "train_data, test_data = train_test_split(data, test_size=0.1)"
      ],
      "execution_count": 9,
      "outputs": []
    },
    {
      "cell_type": "markdown",
      "metadata": {
        "id": "Wl58v1U4XyO5"
      },
      "source": [
        "Smote: https://imbalanced-learn.org/stable/generated/imblearn.over_sampling.SMOTE.html\n",
        "\n",
        "RandomUnderSampler: https://imbalanced-learn.org/stable/generated/imblearn.under_sampling.RandomUnderSampler.html"
      ]
    },
    {
      "cell_type": "code",
      "metadata": {
        "id": "y3Jg0KuzJ6qq"
      },
      "source": [
        "def underSampling(data, frac_under=0.1):\n",
        "  from imblearn.under_sampling import RandomUnderSampler \n",
        "  us = RandomUnderSampler(sampling_strategy=frac_under, random_state=42)\n",
        "  y = data['isFraud']\n",
        "  X = data.drop(columns = ['isFraud'])\n",
        "  X_us, y_us = us.fit_resample(X, y)\n",
        "  return X_us, y_us\n",
        "\n",
        "def overSampling(X, y, frac_over=0.2):\n",
        "  from imblearn.over_sampling import SMOTE\n",
        "  sm = SMOTE(sampling_strategy=frac_over, random_state=42)\n",
        "  X_sm, y_sm = sm.fit_resample(X, y)  \n",
        "  return X_sm, y_sm\n",
        "\n",
        "def mergeResult(X, y, col_name):\n",
        "  y_res = np.ndarray(shape=(np.shape(y)[0],1), buffer = y)\n",
        "  data = np.concatenate((X,y_res), axis = 1)\n",
        "  col_name.append('isFraud')\n",
        "  dataset = pd.DataFrame(data=data, columns=col_name)  \n",
        "  return dataset\n",
        "\n",
        "def rate(y):\n",
        "  n_fraud = np.count_nonzero(y == 1)\n",
        "  n_safe = np.shape(y)[0] - n_fraud\n",
        "  return f'Rate safe/fraud: {n_safe/n_fraud}'"
      ],
      "execution_count": 10,
      "outputs": []
    },
    {
      "cell_type": "code",
      "metadata": {
        "id": "v4cddCAqK4pY",
        "colab": {
          "base_uri": "https://localhost:8080/",
          "height": 35
        },
        "outputId": "382d71f9-2883-4a33-ffd8-8cebb2ab3c2f"
      },
      "source": [
        "X, y = underSampling(train_data)\n",
        "rate(y)"
      ],
      "execution_count": 11,
      "outputs": [
        {
          "output_type": "execute_result",
          "data": {
            "application/vnd.google.colaboratory.intrinsic+json": {
              "type": "string"
            },
            "text/plain": [
              "'Rate safe/fraud: 10.0'"
            ]
          },
          "metadata": {
            "tags": []
          },
          "execution_count": 11
        }
      ]
    },
    {
      "cell_type": "code",
      "metadata": {
        "id": "LqiPC-MkK_BX",
        "colab": {
          "base_uri": "https://localhost:8080/",
          "height": 35
        },
        "outputId": "96503418-484e-40c5-e3ab-16da98925397"
      },
      "source": [
        "X, y = overSampling(X, y)\n",
        "rate(y)"
      ],
      "execution_count": 12,
      "outputs": [
        {
          "output_type": "execute_result",
          "data": {
            "application/vnd.google.colaboratory.intrinsic+json": {
              "type": "string"
            },
            "text/plain": [
              "'Rate safe/fraud: 5.0'"
            ]
          },
          "metadata": {
            "tags": []
          },
          "execution_count": 12
        }
      ]
    },
    {
      "cell_type": "code",
      "metadata": {
        "id": "CHpsO2hJLFeR"
      },
      "source": [
        "train_data = mergeResult(X, y, col_name)"
      ],
      "execution_count": 13,
      "outputs": []
    },
    {
      "cell_type": "code",
      "metadata": {
        "colab": {
          "base_uri": "https://localhost:8080/"
        },
        "id": "2bpOGbYXMAwY",
        "outputId": "bdb4ba61-e1e7-4265-c264-eb88b7f177e2"
      },
      "source": [
        "print('Rate safe/fraud:', (mf.ratio(train_data)).round(3))\n",
        "print('Dataset size:', train_data.shape[0])"
      ],
      "execution_count": 14,
      "outputs": [
        {
          "output_type": "stream",
          "text": [
            "Rate safe/fraud: 5.0\n",
            "Dataset size: 222444\n"
          ],
          "name": "stdout"
        }
      ]
    },
    {
      "cell_type": "code",
      "metadata": {
        "id": "GawBnA83QyYj"
      },
      "source": [
        "del data, X, y"
      ],
      "execution_count": 15,
      "outputs": []
    },
    {
      "cell_type": "markdown",
      "metadata": {
        "id": "AhZXxAzVxt5B"
      },
      "source": [
        "# Convert data"
      ]
    },
    {
      "cell_type": "markdown",
      "metadata": {
        "id": "KyqEukFeyHXA"
      },
      "source": [
        "Il dataset deve essere convertito in un tensore, con componenti (feature_vector, label). "
      ]
    },
    {
      "cell_type": "code",
      "metadata": {
        "id": "LuQfRXzrqoW2"
      },
      "source": [
        "def to_tensor(data, n_clients = 4):\n",
        "  shuffled = data.sample(frac=1)\n",
        "  result = np.array_split(shuffled, n_clients)  \n",
        "\n",
        "  res = []\n",
        "\n",
        "  new_res = []\n",
        "  label = []\n",
        "\n",
        "  for dataset in result:\n",
        "    res.append(mf.feature_scaling(dataset))\n",
        "  \n",
        "  for subset in res:\n",
        "    label.append(subset['isFraud'])\n",
        "    new_res.append(subset.drop(columns = ['isFraud']).to_numpy())\n",
        "\n",
        "  dataset = {}\n",
        "  for i in range(n_clients):\n",
        "    dataset[i] = tf.data.Dataset.from_tensor_slices((new_res[i], label[i]))\n",
        "  return dataset"
      ],
      "execution_count": 16,
      "outputs": []
    },
    {
      "cell_type": "code",
      "metadata": {
        "id": "LozyQwZOrCub"
      },
      "source": [
        "dataset = to_tensor(train_data)\n",
        "test_set = to_tensor(test_data)"
      ],
      "execution_count": 17,
      "outputs": []
    },
    {
      "cell_type": "code",
      "metadata": {
        "id": "U0_iMvxDQs6l"
      },
      "source": [
        "del train_data, test_data"
      ],
      "execution_count": 18,
      "outputs": []
    },
    {
      "cell_type": "markdown",
      "metadata": {
        "id": "PbRUraJkxzmR"
      },
      "source": [
        "# Federated data"
      ]
    },
    {
      "cell_type": "markdown",
      "metadata": {
        "id": "wWq8QN4vyP1t"
      },
      "source": [
        "Si definisce la funzione di preprocessing del dataset, che serve a creare l'OrderedDict, su cui si andranno a creare le batch necessarie per il training del modello. "
      ]
    },
    {
      "cell_type": "code",
      "metadata": {
        "id": "vHxlJrXRs9qP"
      },
      "source": [
        "NUM_CLIENTS = 4\n",
        "NUM_EPOCHS = 10\n",
        "BATCH_SIZE = 250\n",
        "SHUFFLE_BUFFER = 10\n",
        "PREFETCH_BUFFER = 10\n",
        "\n",
        "def preprocess(dataset):\n",
        "  def batch_format_fn(e1, e2):\n",
        "    return collections.OrderedDict(\n",
        "        x = tf.cast(e1, tf.float32),\n",
        "        y = tf.cast(e2, tf.int32))\n",
        "  return dataset.repeat(NUM_EPOCHS).shuffle(SHUFFLE_BUFFER).batch(\n",
        "      BATCH_SIZE).map(batch_format_fn).prefetch(PREFETCH_BUFFER)\n",
        "\n",
        "preprocessed_example_dataset = preprocess(dataset[0])\n",
        "# sample_batch = tf.nest.map_structure(lambda x: x.numpy(), next(iter(preprocessed_example_dataset)))\n",
        "# sample_batch"
      ],
      "execution_count": 19,
      "outputs": []
    },
    {
      "cell_type": "markdown",
      "metadata": {
        "id": "tcIsH9tRyc0p"
      },
      "source": [
        "I dati federati sono una lista di dataset divisi per cliente. "
      ]
    },
    {
      "cell_type": "code",
      "metadata": {
        "id": "6coH5NXYrQ8A",
        "colab": {
          "base_uri": "https://localhost:8080/"
        },
        "outputId": "77746878-8532-43cf-838e-8a3a24fa5f76"
      },
      "source": [
        "def make_federated_data(dataset):\n",
        "  federated = []\n",
        "  for i in dataset:\n",
        "    federated.append(preprocess(dataset[i]))\n",
        "  return federated\n",
        "\n",
        "federated_train_data = make_federated_data(dataset)\n",
        "\n",
        "print('Number of client datasets: {l}'.format(l=len(federated_train_data)))\n",
        "print('First dataset: {d}'.format(d=federated_train_data[0]))"
      ],
      "execution_count": 20,
      "outputs": [
        {
          "output_type": "stream",
          "text": [
            "Number of client datasets: 4\n",
            "First dataset: <PrefetchDataset shapes: OrderedDict([(x, (None, 1103)), (y, (None,))]), types: OrderedDict([(x, tf.float32), (y, tf.int32)])>\n"
          ],
          "name": "stdout"
        }
      ]
    },
    {
      "cell_type": "code",
      "metadata": {
        "id": "doNQKip2REvH"
      },
      "source": [
        "del dataset"
      ],
      "execution_count": 21,
      "outputs": []
    },
    {
      "cell_type": "markdown",
      "metadata": {
        "id": "57xoboqEx25g"
      },
      "source": [
        "# Model creation and training"
      ]
    },
    {
      "cell_type": "markdown",
      "metadata": {
        "id": "oACFRKebyl3u"
      },
      "source": [
        "Creazione della rete neurale che sarà trainata. \n",
        "\n",
        "Viene anche definita la model function, in cui si specifica il modello, il tipo di input, la loss e le metriche da utilizzare. \n",
        "\n",
        "Infine si costruisce il processo di averaging, specificando l'optimizer da usare, cioè SGD, e il learning rate del server e del client. "
      ]
    },
    {
      "cell_type": "code",
      "metadata": {
        "id": "F4A7FqBv8G7f"
      },
      "source": [
        "from tensorflow import keras\n",
        "from tensorflow.keras.models import Sequential\n",
        "from tensorflow.keras.layers import Flatten, Dense, Dropout, Input\n",
        "\n",
        "def create_keras_model():\n",
        "  model = Sequential()\n",
        "  model.add(Input(shape=(1103,)))  \n",
        "  # model.add(Dense(512, activation='relu')) \n",
        "  # model.add(Dropout(0.7))  \n",
        "  model.add(Dense(256, activation='relu')) \n",
        "  model.add(Dropout(0.7))\n",
        "  # model.add(Dense(128, activation='relu')) \n",
        "  # model.add(Dropout(0.7))\n",
        "  # model.add(Dense(64, activation='relu')) \n",
        "  # model.add(Dropout(0.5))\n",
        "  # model.add(Dense(32, activation='relu')) \n",
        "  # model.add(Dropout(0.7))\n",
        "  # model.add(Dense(16, activation='relu')) \n",
        "  # model.add(Dropout(0.7))\n",
        "  model.add(Dense(1, activation='sigmoid'))\n",
        "  return model\n",
        "\n",
        "def model_fn():\n",
        "  soglia = 0.4\n",
        "  keras_model = create_keras_model()\n",
        "  return tff.learning.from_keras_model(\n",
        "      keras_model,\n",
        "      input_spec=preprocessed_example_dataset.element_spec,\n",
        "      loss=tf.keras.losses.BinaryCrossentropy(),\n",
        "      metrics=[tf.keras.metrics.BinaryAccuracy(), \n",
        "               tf.keras.metrics.Recall(thresholds=soglia),\n",
        "               tf.keras.metrics.Precision(thresholds=soglia)])\n",
        "  \n",
        "iterative_process = tff.learning.build_federated_averaging_process(\n",
        "    model_fn,  \n",
        "    client_optimizer_fn=lambda: tf.keras.optimizers.SGD(learning_rate=0.05), #0.4\n",
        "    server_optimizer_fn=lambda: tf.keras.optimizers.SGD(learning_rate=1)) #0.8"
      ],
      "execution_count": 22,
      "outputs": []
    },
    {
      "cell_type": "markdown",
      "metadata": {
        "id": "GUUQi8kdzB3_"
      },
      "source": [
        "Training del modello. \n",
        "\n",
        "Gpu usage: https://colab.research.google.com/notebooks/gpu.ipynb#scrollTo=Y04m-jvKRDsJ"
      ]
    },
    {
      "cell_type": "code",
      "metadata": {
        "id": "vjLvHl-fA7wW",
        "colab": {
          "base_uri": "https://localhost:8080/"
        },
        "outputId": "026de735-48d0-4135-9d2e-690adf40e25b"
      },
      "source": [
        "NUM_ROUNDS =81\n",
        "# with tf.device('/device:GPU:0'):\n",
        "state = iterative_process.initialize()\n",
        "state, metrics = iterative_process.next(state, federated_train_data)\n",
        "print('round  1, metrics={}'.format(metrics))\n",
        "for round_num in range(2, NUM_ROUNDS):\n",
        "  state, metrics = iterative_process.next(state, federated_train_data)\n",
        "  print('round {:2d}, metrics={}'.format(round_num, metrics))"
      ],
      "execution_count": 23,
      "outputs": [
        {
          "output_type": "stream",
          "text": [
            "round  1, metrics=OrderedDict([('broadcast', ()), ('aggregation', OrderedDict([('value_sum_process', ()), ('weight_sum_process', ())])), ('train', OrderedDict([('binary_accuracy', 0.84340054), ('recall', 0.3072126), ('precision', 0.5394949), ('loss', 0.37725344)]))])\n",
            "round  2, metrics=OrderedDict([('broadcast', ()), ('aggregation', OrderedDict([('value_sum_process', ()), ('weight_sum_process', ())])), ('train', OrderedDict([('binary_accuracy', 0.85067874), ('recall', 0.3756433), ('precision', 0.5780399), ('loss', 0.35623986)]))])\n",
            "round  3, metrics=OrderedDict([('broadcast', ()), ('aggregation', OrderedDict([('value_sum_process', ()), ('weight_sum_process', ())])), ('train', OrderedDict([('binary_accuracy', 0.85491455), ('recall', 0.40413767), ('precision', 0.594422), ('loss', 0.34826672)]))])\n",
            "round  4, metrics=OrderedDict([('broadcast', ()), ('aggregation', OrderedDict([('value_sum_process', ()), ('weight_sum_process', ())])), ('train', OrderedDict([('binary_accuracy', 0.8588481), ('recall', 0.42893133), ('precision', 0.60758495), ('loss', 0.34213305)]))])\n",
            "round  5, metrics=OrderedDict([('broadcast', ()), ('aggregation', OrderedDict([('value_sum_process', ()), ('weight_sum_process', ())])), ('train', OrderedDict([('binary_accuracy', 0.86200917), ('recall', 0.4495927), ('precision', 0.6161586), ('loss', 0.3373748)]))])\n",
            "round  6, metrics=OrderedDict([('broadcast', ()), ('aggregation', OrderedDict([('value_sum_process', ()), ('weight_sum_process', ())])), ('train', OrderedDict([('binary_accuracy', 0.86514014), ('recall', 0.46528566), ('precision', 0.62444794), ('loss', 0.33342457)]))])\n",
            "round  7, metrics=OrderedDict([('broadcast', ()), ('aggregation', OrderedDict([('value_sum_process', ()), ('weight_sum_process', ())])), ('train', OrderedDict([('binary_accuracy', 0.86764455), ('recall', 0.47833523), ('precision', 0.62969774), ('loss', 0.3298091)]))])\n",
            "round  8, metrics=OrderedDict([('broadcast', ()), ('aggregation', OrderedDict([('value_sum_process', ()), ('weight_sum_process', ())])), ('train', OrderedDict([('binary_accuracy', 0.87020105), ('recall', 0.48929977), ('precision', 0.635416), ('loss', 0.3268878)]))])\n",
            "round  9, metrics=OrderedDict([('broadcast', ()), ('aggregation', OrderedDict([('value_sum_process', ()), ('weight_sum_process', ())])), ('train', OrderedDict([('binary_accuracy', 0.87191105), ('recall', 0.49649888), ('precision', 0.6392321), ('loss', 0.32430273)]))])\n",
            "round 10, metrics=OrderedDict([('broadcast', ()), ('aggregation', OrderedDict([('value_sum_process', ()), ('weight_sum_process', ())])), ('train', OrderedDict([('binary_accuracy', 0.87355655), ('recall', 0.50428605), ('precision', 0.6424774), ('loss', 0.32193455)]))])\n",
            "round 11, metrics=OrderedDict([('broadcast', ()), ('aggregation', OrderedDict([('value_sum_process', ()), ('weight_sum_process', ())])), ('train', OrderedDict([('binary_accuracy', 0.87501085), ('recall', 0.5127421), ('precision', 0.6470867), ('loss', 0.3195539)]))])\n",
            "round 12, metrics=OrderedDict([('broadcast', ()), ('aggregation', OrderedDict([('value_sum_process', ()), ('weight_sum_process', ())])), ('train', OrderedDict([('binary_accuracy', 0.8762481), ('recall', 0.51820683), ('precision', 0.6492624), ('loss', 0.31742248)]))])\n",
            "round 13, metrics=OrderedDict([('broadcast', ()), ('aggregation', OrderedDict([('value_sum_process', ()), ('weight_sum_process', ())])), ('train', OrderedDict([('binary_accuracy', 0.877573), ('recall', 0.5227734), ('precision', 0.6511702), ('loss', 0.3157603)]))])\n",
            "round 14, metrics=OrderedDict([('broadcast', ()), ('aggregation', OrderedDict([('value_sum_process', ()), ('weight_sum_process', ())])), ('train', OrderedDict([('binary_accuracy', 0.87841445), ('recall', 0.52772295), ('precision', 0.65410924), ('loss', 0.31397346)]))])\n",
            "round 15, metrics=OrderedDict([('broadcast', ()), ('aggregation', OrderedDict([('value_sum_process', ()), ('weight_sum_process', ())])), ('train', OrderedDict([('binary_accuracy', 0.87938505), ('recall', 0.5321276), ('precision', 0.65651786), ('loss', 0.31250137)]))])\n",
            "round 16, metrics=OrderedDict([('broadcast', ()), ('aggregation', OrderedDict([('value_sum_process', ()), ('weight_sum_process', ())])), ('train', OrderedDict([('binary_accuracy', 0.8802428), ('recall', 0.53662676), ('precision', 0.657861), ('loss', 0.31116036)]))])\n",
            "round 17, metrics=OrderedDict([('broadcast', ()), ('aggregation', OrderedDict([('value_sum_process', ()), ('weight_sum_process', ())])), ('train', OrderedDict([('binary_accuracy', 0.8807305), ('recall', 0.53936183), ('precision', 0.65936506), ('loss', 0.3098142)]))])\n",
            "round 18, metrics=OrderedDict([('broadcast', ()), ('aggregation', OrderedDict([('value_sum_process', ()), ('weight_sum_process', ())])), ('train', OrderedDict([('binary_accuracy', 0.88155246), ('recall', 0.54304093), ('precision', 0.66071457), ('loss', 0.30826005)]))])\n",
            "round 19, metrics=OrderedDict([('broadcast', ()), ('aggregation', OrderedDict([('value_sum_process', ()), ('weight_sum_process', ())])), ('train', OrderedDict([('binary_accuracy', 0.8823896), ('recall', 0.54654205), ('precision', 0.6631571), ('loss', 0.30719715)]))])\n",
            "round 20, metrics=OrderedDict([('broadcast', ()), ('aggregation', OrderedDict([('value_sum_process', ()), ('weight_sum_process', ())])), ('train', OrderedDict([('binary_accuracy', 0.88296664), ('recall', 0.5498382), ('precision', 0.66386485), ('loss', 0.30599353)]))])\n",
            "round 21, metrics=OrderedDict([('broadcast', ()), ('aggregation', OrderedDict([('value_sum_process', ()), ('weight_sum_process', ())])), ('train', OrderedDict([('binary_accuracy', 0.88355607), ('recall', 0.5523952), ('precision', 0.6653898), ('loss', 0.3048451)]))])\n",
            "round 22, metrics=OrderedDict([('broadcast', ()), ('aggregation', OrderedDict([('value_sum_process', ()), ('weight_sum_process', ())])), ('train', OrderedDict([('binary_accuracy', 0.88411057), ('recall', 0.5546987), ('precision', 0.66693366), ('loss', 0.30401483)]))])\n",
            "round 23, metrics=OrderedDict([('broadcast', ()), ('aggregation', OrderedDict([('value_sum_process', ()), ('weight_sum_process', ())])), ('train', OrderedDict([('binary_accuracy', 0.8844929), ('recall', 0.55668396), ('precision', 0.6683885), ('loss', 0.30281338)]))])\n",
            "round 24, metrics=OrderedDict([('broadcast', ()), ('aggregation', OrderedDict([('value_sum_process', ()), ('weight_sum_process', ())])), ('train', OrderedDict([('binary_accuracy', 0.8849534), ('recall', 0.5594082), ('precision', 0.6691888), ('loss', 0.301885)]))])\n",
            "round 25, metrics=OrderedDict([('broadcast', ()), ('aggregation', OrderedDict([('value_sum_process', ()), ('weight_sum_process', ())])), ('train', OrderedDict([('binary_accuracy', 0.8854937), ('recall', 0.5611183), ('precision', 0.66953003), ('loss', 0.30112326)]))])\n",
            "round 26, metrics=OrderedDict([('broadcast', ()), ('aggregation', OrderedDict([('value_sum_process', ()), ('weight_sum_process', ())])), ('train', OrderedDict([('binary_accuracy', 0.8857787), ('recall', 0.56329775), ('precision', 0.67075324), ('loss', 0.3003378)]))])\n",
            "round 27, metrics=OrderedDict([('broadcast', ()), ('aggregation', OrderedDict([('value_sum_process', ()), ('weight_sum_process', ())])), ('train', OrderedDict([('binary_accuracy', 0.88624287), ('recall', 0.5654475), ('precision', 0.6720309), ('loss', 0.29932034)]))])\n",
            "round 28, metrics=OrderedDict([('broadcast', ()), ('aggregation', OrderedDict([('value_sum_process', ()), ('weight_sum_process', ())])), ('train', OrderedDict([('binary_accuracy', 0.88693494), ('recall', 0.56775635), ('precision', 0.6746496), ('loss', 0.2982696)]))])\n",
            "round 29, metrics=OrderedDict([('broadcast', ()), ('aggregation', OrderedDict([('value_sum_process', ()), ('weight_sum_process', ())])), ('train', OrderedDict([('binary_accuracy', 0.8871906), ('recall', 0.5696175), ('precision', 0.673586), ('loss', 0.2978101)]))])\n",
            "round 30, metrics=OrderedDict([('broadcast', ()), ('aggregation', OrderedDict([('value_sum_process', ()), ('weight_sum_process', ())])), ('train', OrderedDict([('binary_accuracy', 0.8874771), ('recall', 0.5707261), ('precision', 0.6755865), ('loss', 0.29711238)]))])\n",
            "round 31, metrics=OrderedDict([('broadcast', ()), ('aggregation', OrderedDict([('value_sum_process', ()), ('weight_sum_process', ())])), ('train', OrderedDict([('binary_accuracy', 0.8878881), ('recall', 0.5723391), ('precision', 0.6755266), ('loss', 0.29626885)]))])\n",
            "round 32, metrics=OrderedDict([('broadcast', ()), ('aggregation', OrderedDict([('value_sum_process', ()), ('weight_sum_process', ())])), ('train', OrderedDict([('binary_accuracy', 0.8884171), ('recall', 0.5737471), ('precision', 0.678517), ('loss', 0.29532635)]))])\n",
            "round 33, metrics=OrderedDict([('broadcast', ()), ('aggregation', OrderedDict([('value_sum_process', ()), ('weight_sum_process', ())])), ('train', OrderedDict([('binary_accuracy', 0.88859403), ('recall', 0.5757188), ('precision', 0.6775872), ('loss', 0.29482043)]))])\n",
            "round 34, metrics=OrderedDict([('broadcast', ()), ('aggregation', OrderedDict([('value_sum_process', ()), ('weight_sum_process', ())])), ('train', OrderedDict([('binary_accuracy', 0.88895035), ('recall', 0.57736146), ('precision', 0.678663), ('loss', 0.29416877)]))])\n",
            "round 35, metrics=OrderedDict([('broadcast', ()), ('aggregation', OrderedDict([('value_sum_process', ()), ('weight_sum_process', ())])), ('train', OrderedDict([('binary_accuracy', 0.889267), ('recall', 0.5788612), ('precision', 0.67931235), ('loss', 0.29323858)]))])\n",
            "round 36, metrics=OrderedDict([('broadcast', ()), ('aggregation', OrderedDict([('value_sum_process', ()), ('weight_sum_process', ())])), ('train', OrderedDict([('binary_accuracy', 0.88948923), ('recall', 0.5800885), ('precision', 0.68014765), ('loss', 0.2927719)]))])\n",
            "round 37, metrics=OrderedDict([('broadcast', ()), ('aggregation', OrderedDict([('value_sum_process', ()), ('weight_sum_process', ())])), ('train', OrderedDict([('binary_accuracy', 0.88986105), ('recall', 0.58181477), ('precision', 0.6817577), ('loss', 0.2921252)]))])\n",
            "round 38, metrics=OrderedDict([('broadcast', ()), ('aggregation', OrderedDict([('value_sum_process', ()), ('weight_sum_process', ())])), ('train', OrderedDict([('binary_accuracy', 0.89030296), ('recall', 0.5830798), ('precision', 0.68238163), ('loss', 0.29174143)]))])\n",
            "round 39, metrics=OrderedDict([('broadcast', ()), ('aggregation', OrderedDict([('value_sum_process', ()), ('weight_sum_process', ())])), ('train', OrderedDict([('binary_accuracy', 0.89033884), ('recall', 0.5840481), ('precision', 0.68341565), ('loss', 0.29140675)]))])\n",
            "round 40, metrics=OrderedDict([('broadcast', ()), ('aggregation', OrderedDict([('value_sum_process', ()), ('weight_sum_process', ())])), ('train', OrderedDict([('binary_accuracy', 0.8906753), ('recall', 0.58508927), ('precision', 0.6844374), ('loss', 0.29062426)]))])\n",
            "round 41, metrics=OrderedDict([('broadcast', ()), ('aggregation', OrderedDict([('value_sum_process', ()), ('weight_sum_process', ())])), ('train', OrderedDict([('binary_accuracy', 0.89098525), ('recall', 0.5866672), ('precision', 0.6848139), ('loss', 0.29005283)]))])\n",
            "round 42, metrics=OrderedDict([('broadcast', ()), ('aggregation', OrderedDict([('value_sum_process', ()), ('weight_sum_process', ())])), ('train', OrderedDict([('binary_accuracy', 0.8911365), ('recall', 0.5870637), ('precision', 0.6849856), ('loss', 0.28965083)]))])\n",
            "round 43, metrics=OrderedDict([('broadcast', ()), ('aggregation', OrderedDict([('value_sum_process', ()), ('weight_sum_process', ())])), ('train', OrderedDict([('binary_accuracy', 0.89136124), ('recall', 0.5892431), ('precision', 0.68682384), ('loss', 0.28876483)]))])\n",
            "round 44, metrics=OrderedDict([('broadcast', ()), ('aggregation', OrderedDict([('value_sum_process', ()), ('weight_sum_process', ())])), ('train', OrderedDict([('binary_accuracy', 0.89170384), ('recall', 0.5900604), ('precision', 0.685967), ('loss', 0.28855515)]))])\n",
            "round 45, metrics=OrderedDict([('broadcast', ()), ('aggregation', OrderedDict([('value_sum_process', ()), ('weight_sum_process', ())])), ('train', OrderedDict([('binary_accuracy', 0.8919967), ('recall', 0.5906484), ('precision', 0.68791467), ('loss', 0.28797325)]))])\n",
            "round 46, metrics=OrderedDict([('broadcast', ()), ('aggregation', OrderedDict([('value_sum_process', ()), ('weight_sum_process', ())])), ('train', OrderedDict([('binary_accuracy', 0.8922619), ('recall', 0.5921104), ('precision', 0.6878088), ('loss', 0.28748214)]))])\n",
            "round 47, metrics=OrderedDict([('broadcast', ()), ('aggregation', OrderedDict([('value_sum_process', ()), ('weight_sum_process', ())])), ('train', OrderedDict([('binary_accuracy', 0.8925242), ('recall', 0.59285486), ('precision', 0.688924), ('loss', 0.2868552)]))])\n",
            "round 48, metrics=OrderedDict([('broadcast', ()), ('aggregation', OrderedDict([('value_sum_process', ()), ('weight_sum_process', ())])), ('train', OrderedDict([('binary_accuracy', 0.89276445), ('recall', 0.5940363), ('precision', 0.6892879), ('loss', 0.28646433)]))])\n",
            "round 49, metrics=OrderedDict([('broadcast', ()), ('aggregation', OrderedDict([('value_sum_process', ()), ('weight_sum_process', ())])), ('train', OrderedDict([('binary_accuracy', 0.89275455), ('recall', 0.5944921), ('precision', 0.69008464), ('loss', 0.28593403)]))])\n",
            "round 50, metrics=OrderedDict([('broadcast', ()), ('aggregation', OrderedDict([('value_sum_process', ()), ('weight_sum_process', ())])), ('train', OrderedDict([('binary_accuracy', 0.89318365), ('recall', 0.5956088), ('precision', 0.69027), ('loss', 0.28544572)]))])\n",
            "round 51, metrics=OrderedDict([('broadcast', ()), ('aggregation', OrderedDict([('value_sum_process', ()), ('weight_sum_process', ())])), ('train', OrderedDict([('binary_accuracy', 0.89313453), ('recall', 0.5960862), ('precision', 0.6908406), ('loss', 0.2853717)]))])\n",
            "round 52, metrics=OrderedDict([('broadcast', ()), ('aggregation', OrderedDict([('value_sum_process', ()), ('weight_sum_process', ())])), ('train', OrderedDict([('binary_accuracy', 0.8933171), ('recall', 0.5976533), ('precision', 0.6911358), ('loss', 0.28475907)]))])\n",
            "round 53, metrics=OrderedDict([('broadcast', ()), ('aggregation', OrderedDict([('value_sum_process', ()), ('weight_sum_process', ())])), ('train', OrderedDict([('binary_accuracy', 0.8936854), ('recall', 0.5990613), ('precision', 0.69259125), ('loss', 0.28397912)]))])\n",
            "round 54, metrics=OrderedDict([('broadcast', ()), ('aggregation', OrderedDict([('value_sum_process', ()), ('weight_sum_process', ())])), ('train', OrderedDict([('binary_accuracy', 0.89384884), ('recall', 0.59806335), ('precision', 0.6922037), ('loss', 0.28402424)]))])\n",
            "round 55, metrics=OrderedDict([('broadcast', ()), ('aggregation', OrderedDict([('value_sum_process', ()), ('weight_sum_process', ())])), ('train', OrderedDict([('binary_accuracy', 0.893993), ('recall', 0.60036415), ('precision', 0.6941321), ('loss', 0.28329396)]))])\n",
            "round 56, metrics=OrderedDict([('broadcast', ()), ('aggregation', OrderedDict([('value_sum_process', ()), ('weight_sum_process', ())])), ('train', OrderedDict([('binary_accuracy', 0.8942756), ('recall', 0.600437), ('precision', 0.6933859), ('loss', 0.2828756)]))])\n",
            "round 57, metrics=OrderedDict([('broadcast', ()), ('aggregation', OrderedDict([('value_sum_process', ()), ('weight_sum_process', ())])), ('train', OrderedDict([('binary_accuracy', 0.8943955), ('recall', 0.60179913), ('precision', 0.69458246), ('loss', 0.2825954)]))])\n",
            "round 58, metrics=OrderedDict([('broadcast', ()), ('aggregation', OrderedDict([('value_sum_process', ()), ('weight_sum_process', ())])), ('train', OrderedDict([('binary_accuracy', 0.8945443), ('recall', 0.6016292), ('precision', 0.6941011), ('loss', 0.2821699)]))])\n",
            "round 59, metrics=OrderedDict([('broadcast', ()), ('aggregation', OrderedDict([('value_sum_process', ()), ('weight_sum_process', ())])), ('train', OrderedDict([('binary_accuracy', 0.8946557), ('recall', 0.60293734), ('precision', 0.694547), ('loss', 0.28221238)]))])\n",
            "round 60, metrics=OrderedDict([('broadcast', ()), ('aggregation', OrderedDict([('value_sum_process', ()), ('weight_sum_process', ())])), ('train', OrderedDict([('binary_accuracy', 0.8949899), ('recall', 0.60444784), ('precision', 0.69639516), ('loss', 0.2817293)]))])\n",
            "round 61, metrics=OrderedDict([('broadcast', ()), ('aggregation', OrderedDict([('value_sum_process', ()), ('weight_sum_process', ())])), ('train', OrderedDict([('binary_accuracy', 0.89518785), ('recall', 0.6043939), ('precision', 0.6963395), ('loss', 0.28099474)]))])\n",
            "round 62, metrics=OrderedDict([('broadcast', ()), ('aggregation', OrderedDict([('value_sum_process', ()), ('weight_sum_process', ())])), ('train', OrderedDict([('binary_accuracy', 0.89521694), ('recall', 0.6051222), ('precision', 0.6963908), ('loss', 0.2809311)]))])\n",
            "round 63, metrics=OrderedDict([('broadcast', ()), ('aggregation', OrderedDict([('value_sum_process', ()), ('weight_sum_process', ())])), ('train', OrderedDict([('binary_accuracy', 0.89550954), ('recall', 0.60630363), ('precision', 0.6976075), ('loss', 0.2803129)]))])\n",
            "round 64, metrics=OrderedDict([('broadcast', ()), ('aggregation', OrderedDict([('value_sum_process', ()), ('weight_sum_process', ())])), ('train', OrderedDict([('binary_accuracy', 0.8958412), ('recall', 0.60744727), ('precision', 0.6987434), ('loss', 0.27997416)]))])\n",
            "round 65, metrics=OrderedDict([('broadcast', ()), ('aggregation', OrderedDict([('value_sum_process', ()), ('weight_sum_process', ())])), ('train', OrderedDict([('binary_accuracy', 0.8959488), ('recall', 0.60754436), ('precision', 0.6987944), ('loss', 0.27942997)]))])\n",
            "round 66, metrics=OrderedDict([('broadcast', ()), ('aggregation', OrderedDict([('value_sum_process', ()), ('weight_sum_process', ())])), ('train', OrderedDict([('binary_accuracy', 0.89611953), ('recall', 0.6081297), ('precision', 0.69844484), ('loss', 0.27939186)]))])\n",
            "round 67, metrics=OrderedDict([('broadcast', ()), ('aggregation', OrderedDict([('value_sum_process', ()), ('weight_sum_process', ())])), ('train', OrderedDict([('binary_accuracy', 0.8960706), ('recall', 0.6088391), ('precision', 0.6990409), ('loss', 0.27906278)]))])\n",
            "round 68, metrics=OrderedDict([('broadcast', ()), ('aggregation', OrderedDict([('value_sum_process', ()), ('weight_sum_process', ())])), ('train', OrderedDict([('binary_accuracy', 0.89637625), ('recall', 0.60996115), ('precision', 0.6999802), ('loss', 0.2788776)]))])\n",
            "round 69, metrics=OrderedDict([('broadcast', ()), ('aggregation', OrderedDict([('value_sum_process', ()), ('weight_sum_process', ())])), ('train', OrderedDict([('binary_accuracy', 0.89644814), ('recall', 0.6111399), ('precision', 0.6998014), ('loss', 0.27822328)]))])\n",
            "round 70, metrics=OrderedDict([('broadcast', ()), ('aggregation', OrderedDict([('value_sum_process', ()), ('weight_sum_process', ())])), ('train', OrderedDict([('binary_accuracy', 0.8963913), ('recall', 0.6097831), ('precision', 0.69912016), ('loss', 0.2784284)]))])\n",
            "round 71, metrics=OrderedDict([('broadcast', ()), ('aggregation', OrderedDict([('value_sum_process', ()), ('weight_sum_process', ())])), ('train', OrderedDict([('binary_accuracy', 0.8967441), ('recall', 0.61098075), ('precision', 0.70079666), ('loss', 0.27798936)]))])\n",
            "round 72, metrics=OrderedDict([('broadcast', ()), ('aggregation', OrderedDict([('value_sum_process', ()), ('weight_sum_process', ())])), ('train', OrderedDict([('binary_accuracy', 0.8965975), ('recall', 0.6117171), ('precision', 0.699611), ('loss', 0.27784252)]))])\n",
            "round 73, metrics=OrderedDict([('broadcast', ()), ('aggregation', OrderedDict([('value_sum_process', ()), ('weight_sum_process', ())])), ('train', OrderedDict([('binary_accuracy', 0.896805), ('recall', 0.61227274), ('precision', 0.7006204), ('loss', 0.27759427)]))])\n",
            "round 74, metrics=OrderedDict([('broadcast', ()), ('aggregation', OrderedDict([('value_sum_process', ()), ('weight_sum_process', ())])), ('train', OrderedDict([('binary_accuracy', 0.8971535), ('recall', 0.6134245), ('precision', 0.7021377), ('loss', 0.27730748)]))])\n",
            "round 75, metrics=OrderedDict([('broadcast', ()), ('aggregation', OrderedDict([('value_sum_process', ()), ('weight_sum_process', ())])), ('train', OrderedDict([('binary_accuracy', 0.897206), ('recall', 0.6133139), ('precision', 0.70240146), ('loss', 0.2765269)]))])\n",
            "round 76, metrics=OrderedDict([('broadcast', ()), ('aggregation', OrderedDict([('value_sum_process', ()), ('weight_sum_process', ())])), ('train', OrderedDict([('binary_accuracy', 0.89752316), ('recall', 0.6140557), ('precision', 0.7023809), ('loss', 0.27629402)]))])\n",
            "round 77, metrics=OrderedDict([('broadcast', ()), ('aggregation', OrderedDict([('value_sum_process', ()), ('weight_sum_process', ())])), ('train', OrderedDict([('binary_accuracy', 0.8973585), ('recall', 0.6144036), ('precision', 0.703139), ('loss', 0.2762315)]))])\n",
            "round 78, metrics=OrderedDict([('broadcast', ()), ('aggregation', OrderedDict([('value_sum_process', ()), ('weight_sum_process', ())])), ('train', OrderedDict([('binary_accuracy', 0.89736325), ('recall', 0.61445487), ('precision', 0.70291346), ('loss', 0.2759742)]))])\n",
            "round 79, metrics=OrderedDict([('broadcast', ()), ('aggregation', OrderedDict([('value_sum_process', ()), ('weight_sum_process', ())])), ('train', OrderedDict([('binary_accuracy', 0.897753), ('recall', 0.61560935), ('precision', 0.7030994), ('loss', 0.27571657)]))])\n",
            "round 80, metrics=OrderedDict([('broadcast', ()), ('aggregation', OrderedDict([('value_sum_process', ()), ('weight_sum_process', ())])), ('train', OrderedDict([('binary_accuracy', 0.8980019), ('recall', 0.6164131), ('precision', 0.70313805), ('loss', 0.27541733)]))])\n"
          ],
          "name": "stdout"
        }
      ]
    },
    {
      "cell_type": "markdown",
      "metadata": {
        "id": "PA4yp86ex9NK"
      },
      "source": [
        "# Model evaluation"
      ]
    },
    {
      "cell_type": "markdown",
      "metadata": {
        "id": "LZ_L_WaVzGX4"
      },
      "source": [
        "Evaluation del modello sui test data. "
      ]
    },
    {
      "cell_type": "code",
      "metadata": {
        "id": "j-43k3etjd8P"
      },
      "source": [
        "evaluation = tff.learning.build_federated_evaluation(model_fn)\n",
        "train_metrics = evaluation(state.model, federated_train_data)"
      ],
      "execution_count": 24,
      "outputs": []
    },
    {
      "cell_type": "code",
      "metadata": {
        "id": "ECb3PNHFjk_k"
      },
      "source": [
        "federated_test_data = make_federated_data(test_set)"
      ],
      "execution_count": 25,
      "outputs": []
    },
    {
      "cell_type": "code",
      "metadata": {
        "id": "GoNPIG8Qj0G8",
        "colab": {
          "base_uri": "https://localhost:8080/",
          "height": 35
        },
        "outputId": "865c6e4f-802d-4d08-827f-1124d8b278b0"
      },
      "source": [
        "test_metrics = evaluation(state.model, federated_test_data)\n",
        "str(test_metrics)"
      ],
      "execution_count": 26,
      "outputs": [
        {
          "output_type": "execute_result",
          "data": {
            "application/vnd.google.colaboratory.intrinsic+json": {
              "type": "string"
            },
            "text/plain": [
              "\"OrderedDict([('binary_accuracy', 0.95723987), ('recall', 0.49364707), ('precision', 0.31501502), ('loss', 0.15080403)])\""
            ]
          },
          "metadata": {
            "tags": []
          },
          "execution_count": 26
        }
      ]
    },
    {
      "cell_type": "markdown",
      "metadata": {
        "id": "m2TBCVOYzJal"
      },
      "source": [
        "Board di tensorboad, per visualizzare la loss e le metriche in modo interattivo. "
      ]
    },
    {
      "cell_type": "code",
      "metadata": {
        "id": "ezubvjWqluK-"
      },
      "source": [
        "# logdir = \"/tmp/logs/scalars/training/\"\n",
        "# summary_writer = tf.summary.create_file_writer(logdir)\n",
        "# state = iterative_process.initialize()\n",
        "# with summary_writer.as_default():\n",
        "#   for round_num in range(1, NUM_ROUNDS):\n",
        "#     state, metrics = iterative_process.next(state, federated_train_data)\n",
        "#     for name, value in metrics['train'].items():\n",
        "#       tf.summary.scalar(name, value, step=round_num)"
      ],
      "execution_count": 27,
      "outputs": []
    },
    {
      "cell_type": "code",
      "metadata": {
        "id": "pM1FgnQao2-h"
      },
      "source": [
        "# !ls {logdir}\n",
        "# %tensorboard --logdir {logdir} --port=0"
      ],
      "execution_count": 28,
      "outputs": []
    }
  ]
}