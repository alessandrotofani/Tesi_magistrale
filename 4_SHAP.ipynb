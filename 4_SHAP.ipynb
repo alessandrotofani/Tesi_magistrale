{
  "nbformat": 4,
  "nbformat_minor": 0,
  "metadata": {
    "colab": {
      "name": "4_SHAP.ipynb",
      "provenance": [],
      "authorship_tag": "ABX9TyP9zaBJJvUzZdPCC17uCx86",
      "include_colab_link": true
    },
    "kernelspec": {
      "name": "python3",
      "display_name": "Python 3"
    }
  },
  "cells": [
    {
      "cell_type": "markdown",
      "metadata": {
        "id": "view-in-github",
        "colab_type": "text"
      },
      "source": [
        "<a href=\"https://colab.research.google.com/github/alessandrotofani/Tesi_magistrale/blob/master/4_SHAP.ipynb\" target=\"_parent\"><img src=\"https://colab.research.google.com/assets/colab-badge.svg\" alt=\"Open In Colab\"/></a>"
      ]
    },
    {
      "cell_type": "markdown",
      "metadata": {
        "id": "9DfTHp7s8Ulb"
      },
      "source": [
        "# Import"
      ]
    },
    {
      "cell_type": "code",
      "metadata": {
        "id": "7feY4Xy8Odtr",
        "colab": {
          "base_uri": "https://localhost:8080/"
        },
        "outputId": "e7a286d4-f781-4d23-a130-d7d4df536728"
      },
      "source": [
        "import numpy as np \r\n",
        "import pandas as pd \r\n",
        "import matplotlib\r\n",
        "import matplotlib.pyplot as plt\r\n",
        "import seaborn as sns\r\n",
        "import os\r\n",
        "from google.colab import drive\r\n",
        "drive.mount('/content/drive')\r\n",
        "from sklearn.model_selection import train_test_split"
      ],
      "execution_count": 1,
      "outputs": [
        {
          "output_type": "stream",
          "text": [
            "Drive already mounted at /content/drive; to attempt to forcibly remount, call drive.mount(\"/content/drive\", force_remount=True).\n"
          ],
          "name": "stdout"
        }
      ]
    },
    {
      "cell_type": "code",
      "metadata": {
        "id": "ZgOp3wuag3E7"
      },
      "source": [
        "import sys \r\n",
        "sys.path.append('/content/drive/MyDrive/Tesi_magistrale/Tesi_magistrale')\r\n",
        "import mf"
      ],
      "execution_count": 2,
      "outputs": []
    },
    {
      "cell_type": "markdown",
      "metadata": {
        "id": "caGM5pO_dt0Z"
      },
      "source": [
        "# Dataset import"
      ]
    },
    {
      "cell_type": "code",
      "metadata": {
        "id": "k2Dzm6O4dvmE"
      },
      "source": [
        "data = pd.read_csv('/content/drive/MyDrive/Tesi_magistrale/Dataset/IEEE/Output/data.csv')\r\n",
        "data.drop(data.columns[data.columns.str.contains('unnamed',case = False)],axis = 1, inplace = True)\r\n",
        "data = mf.feature_scaling(data)\r\n",
        "data = mf.feature_engineering(data)\r\n",
        "data = pd.get_dummies(data)\r\n",
        "feature_names = mf.get_col(data)"
      ],
      "execution_count": 3,
      "outputs": []
    },
    {
      "cell_type": "markdown",
      "metadata": {
        "id": "F29iJwKO4yMh"
      },
      "source": [
        "# Model import"
      ]
    },
    {
      "cell_type": "markdown",
      "metadata": {
        "id": "2x81ZX6CDHpn"
      },
      "source": [
        "## XGBoost"
      ]
    },
    {
      "cell_type": "code",
      "metadata": {
        "id": "3wN3183LFmF5"
      },
      "source": [
        "categorical_features = np.arange(178,1091).tolist()"
      ],
      "execution_count": 4,
      "outputs": []
    },
    {
      "cell_type": "code",
      "metadata": {
        "id": "4NmlZsbPDKyS",
        "colab": {
          "base_uri": "https://localhost:8080/"
        },
        "outputId": "6fbe9590-4d7f-4267-ad16-b44135a81e6d"
      },
      "source": [
        "X_train = mf.get_set('train_id', data, 'xgboost')\r\n",
        "X_val = mf.get_set('val_id', data, 'xgboost')\r\n",
        "X_test = mf.get_set('test_id', data, 'xgboost')"
      ],
      "execution_count": 5,
      "outputs": [
        {
          "output_type": "stream",
          "text": [
            "/usr/local/lib/python3.6/dist-packages/pandas/core/frame.py:4174: SettingWithCopyWarning: \n",
            "A value is trying to be set on a copy of a slice from a DataFrame\n",
            "\n",
            "See the caveats in the documentation: https://pandas.pydata.org/pandas-docs/stable/user_guide/indexing.html#returning-a-view-versus-a-copy\n",
            "  errors=errors,\n"
          ],
          "name": "stderr"
        }
      ]
    },
    {
      "cell_type": "code",
      "metadata": {
        "id": "7cccqNV9DKvT"
      },
      "source": [
        "load = True\r\n",
        "if load:\r\n",
        "  from joblib import load\r\n",
        "  from xgboost import XGBClassifier\r\n",
        "\r\n",
        "  xgb = load(\"/content/drive/MyDrive/Tesi_magistrale/Dataset/IEEE/Output/xgboost/xgb.joblib.dat\")"
      ],
      "execution_count": 6,
      "outputs": []
    },
    {
      "cell_type": "code",
      "metadata": {
        "colab": {
          "base_uri": "https://localhost:8080/"
        },
        "id": "LVCwYs9QUa-i",
        "outputId": "e6b196af-6fcb-4442-b057-6eacf03c3c7e"
      },
      "source": [
        "xgb.predict_proba(X_test)"
      ],
      "execution_count": 7,
      "outputs": [
        {
          "output_type": "execute_result",
          "data": {
            "text/plain": [
              "array([[0.5, 0.5],\n",
              "       [0.5, 0.5],\n",
              "       [0.5, 0.5],\n",
              "       ...,\n",
              "       [0.5, 0.5],\n",
              "       [0.5, 0.5],\n",
              "       [0.5, 0.5]], dtype=float32)"
            ]
          },
          "metadata": {
            "tags": []
          },
          "execution_count": 7
        }
      ]
    },
    {
      "cell_type": "markdown",
      "metadata": {
        "id": "ueCNZ7me42hw"
      },
      "source": [
        "# SHAP"
      ]
    },
    {
      "cell_type": "markdown",
      "metadata": {
        "id": "nSQdnm0t45mk"
      },
      "source": [
        "**Idea**\r\n",
        "\r\n",
        "A prediction can be explained by assuming that each feature value of the instance is a “player” in a game where the prediction is the payout. Shapley values – a method from coalitional game theory – tells us how to fairly distribute the “payout” among the features.\r\n",
        "\r\n",
        "**Definition**\r\n",
        "\r\n",
        "The Shapley value is the average marginal contribution of a feature value across all possible coalitions. \r\n",
        "\r\n",
        "The Shapley value is NOT the difference in prediction when we would remove the feature from the model. \r\n",
        "\r\n",
        "**Interpretation**\r\n",
        "\r\n",
        "Given the current set of feature values, the contribution of a feature value to the difference between the actual prediction and the mean prediction is the estimated Shapley value.\r\n",
        "\r\n",
        "**Theoretical algorithm**\r\n",
        "\r\n",
        "Per determinare il valore di Shapley della feature x_j, si elimina la feature dal dataset, e delle altre si fanno tutte le possibili estrazioni, andando a fare la predizione solo con le feature selezionate e aggiungendo x_j. Facendo la differenza tra ogni predizione con e senza x_j si ottiene il contributo marginale di x_j. \r\n",
        "Per fare la predizione con il modello quando delle feature sono state eliminate, si rimpiazzano i loro valori con valori random (ovviamente tra quelli delle feature rimosse) estratti dal dataset. \r\n",
        "\r\n",
        "\r\n",
        "**Implementation**\r\n",
        "\r\n",
        "SHAP turns the Shapley values method into an optimization problem and uses a special kernel function to measure proximity of data instances. The results of SHAP are sparse\r\n",
        "\r\n",
        "**Riferimenti**\r\n",
        "\r\n",
        "Repo github: https://github.com/slundberg/shap\r\n",
        "\r\n",
        "Tutorial XGBoost: https://shap.readthedocs.io/en/latest/example_notebooks/tabular_examples/tree_based_models/Front%20page%20example%20%28XGBoost%29.html\r\n",
        "\r\n",
        "Tutorial model-agnostic: https://shap.readthedocs.io/en/latest/example_notebooks/tabular_examples/model_agnostic/Iris%20classification%20with%20scikit-learn.html\r\n",
        "\r\n"
      ]
    },
    {
      "cell_type": "code",
      "metadata": {
        "id": "96Ll6DNb436s"
      },
      "source": [
        "!pip install shap"
      ],
      "execution_count": null,
      "outputs": []
    },
    {
      "cell_type": "code",
      "metadata": {
        "id": "kBey12PmDFMD"
      },
      "source": [
        "xgb"
      ],
      "execution_count": null,
      "outputs": []
    },
    {
      "cell_type": "code",
      "metadata": {
        "id": "_qrDnaSG6PUx"
      },
      "source": [
        "import shap\r\n",
        "# shap.initjs()\r\n",
        "\r\n",
        "background =  shap.maskers.Independent(X_test)\r\n",
        "explainer = shap.Explainer(xgb, background)\r\n",
        "shap_values = explainer(X_test)\r\n",
        "shap.plots.waterfall(shap_values[0])"
      ],
      "execution_count": null,
      "outputs": []
    },
    {
      "cell_type": "code",
      "metadata": {
        "id": "j_YECgEFAJCZ"
      },
      "source": [
        ""
      ],
      "execution_count": null,
      "outputs": []
    }
  ]
}