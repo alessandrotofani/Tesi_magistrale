{
  "nbformat": 4,
  "nbformat_minor": 0,
  "metadata": {
    "colab": {
      "name": "6_Federated.ipynb",
      "provenance": [],
      "authorship_tag": "ABX9TyMJdzp6icKU9NRVmKBE3Sk+",
      "include_colab_link": true
    },
    "kernelspec": {
      "name": "python3",
      "display_name": "Python 3"
    },
    "accelerator": "GPU"
  },
  "cells": [
    {
      "cell_type": "markdown",
      "metadata": {
        "id": "view-in-github",
        "colab_type": "text"
      },
      "source": [
        "<a href=\"https://colab.research.google.com/github/alessandrotofani/Tesi_magistrale/blob/master/6_Federated_MLP256_newProcessing_Momentum1.ipynb\" target=\"_parent\"><img src=\"https://colab.research.google.com/assets/colab-badge.svg\" alt=\"Open In Colab\"/></a>"
      ]
    },
    {
      "cell_type": "markdown",
      "metadata": {
        "id": "2XuZ_oMl43ft"
      },
      "source": [
        "Overview: https://www.tensorflow.org/federated\r\n",
        "\r\n",
        "Image classification tutorial: https://www.tensorflow.org/federated/tutorials/federated_learning_for_image_classification"
      ]
    },
    {
      "cell_type": "markdown",
      "metadata": {
        "id": "qOKJPHxH4j9j"
      },
      "source": [
        "# Installation"
      ]
    },
    {
      "cell_type": "code",
      "metadata": {
        "id": "lgkJJpzD4gVs"
      },
      "source": [
        "!pip install --quiet fastai==2.2.5\r\n",
        "!pip install --quiet folium==0.2.1\r\n",
        "!pip install --quiet imgaug==0.2.5\r\n",
        "!pip install --quiet tensorflow==2.3.0\r\n",
        "!pip install --quiet tensorflow_federated==0.17.0\r\n",
        "!pip install --quiet --upgrade nest_asyncio"
      ],
      "execution_count": 1,
      "outputs": []
    },
    {
      "cell_type": "code",
      "metadata": {
        "id": "C6Oguz1e4p29"
      },
      "source": [
        "import nest_asyncio\r\n",
        "nest_asyncio.apply()\r\n",
        "%load_ext tensorboard"
      ],
      "execution_count": 2,
      "outputs": []
    },
    {
      "cell_type": "code",
      "metadata": {
        "id": "0u_qzOek4tlY",
        "colab": {
          "base_uri": "https://localhost:8080/"
        },
        "outputId": "93e2cd2b-f9dd-430f-f01f-72909921b3c1"
      },
      "source": [
        "import collections\r\n",
        "import numpy as np\r\n",
        "import tensorflow as tf\r\n",
        "import tensorflow_federated as tff\r\n",
        "import pandas as pd \r\n",
        "import os\r\n",
        "from google.colab import drive\r\n",
        "drive.mount('/content/drive')"
      ],
      "execution_count": 3,
      "outputs": [
        {
          "output_type": "stream",
          "text": [
            "Drive already mounted at /content/drive; to attempt to forcibly remount, call drive.mount(\"/content/drive\", force_remount=True).\n"
          ],
          "name": "stdout"
        }
      ]
    },
    {
      "cell_type": "code",
      "metadata": {
        "id": "a5VvCBjWmrJC"
      },
      "source": [
        "import sys \n",
        "sys.path.append('/content/drive/MyDrive/Tesi_magistrale/Tesi_magistrale')\n",
        "import mf\n",
        "\n",
        "import warnings\n",
        "warnings.simplefilter(action='ignore', category=FutureWarning)"
      ],
      "execution_count": 4,
      "outputs": []
    },
    {
      "cell_type": "markdown",
      "metadata": {
        "id": "NDXvW9iFxqft"
      },
      "source": [
        "# Import data"
      ]
    },
    {
      "cell_type": "markdown",
      "metadata": {
        "id": "P8nvRkt1yB7_"
      },
      "source": [
        "I dati vengono importati e poi splittati in train e test. "
      ]
    },
    {
      "cell_type": "code",
      "metadata": {
        "id": "nU2jrVgkla8Y"
      },
      "source": [
        "data = pd.read_csv('/content/drive/MyDrive/Tesi_magistrale/Dataset/IEEE/Output/data.csv')"
      ],
      "execution_count": 5,
      "outputs": []
    },
    {
      "cell_type": "code",
      "metadata": {
        "id": "67D33H0kldvF"
      },
      "source": [
        "data = mf.new_processing(data)\n",
        "data = pd.get_dummies(data)"
      ],
      "execution_count": 6,
      "outputs": []
    },
    {
      "cell_type": "code",
      "metadata": {
        "id": "0yGwMV9Us42h"
      },
      "source": [
        "col_name = mf.get_col(data)"
      ],
      "execution_count": 7,
      "outputs": []
    },
    {
      "cell_type": "code",
      "metadata": {
        "colab": {
          "base_uri": "https://localhost:8080/"
        },
        "id": "XtEnrz70T013",
        "outputId": "154b3be0-6559-454c-9881-aaf3e1570767"
      },
      "source": [
        "print('Rate safe/fraud:', (1/mf.ratio(data)).round(3))"
      ],
      "execution_count": 8,
      "outputs": [
        {
          "output_type": "stream",
          "text": [
            "Rate safe/fraud: 0.036\n"
          ],
          "name": "stdout"
        }
      ]
    },
    {
      "cell_type": "code",
      "metadata": {
        "id": "InAYt4jcL1-Y"
      },
      "source": [
        "from sklearn.model_selection import train_test_split\n",
        "train_data, test_data = train_test_split(data, test_size=0.2)"
      ],
      "execution_count": 9,
      "outputs": []
    },
    {
      "cell_type": "markdown",
      "metadata": {
        "id": "Wl58v1U4XyO5"
      },
      "source": [
        "Smote: https://imbalanced-learn.org/stable/generated/imblearn.over_sampling.SMOTE.html\n",
        "\n",
        "RandomUnderSampler: https://imbalanced-learn.org/stable/generated/imblearn.under_sampling.RandomUnderSampler.html"
      ]
    },
    {
      "cell_type": "code",
      "metadata": {
        "id": "y3Jg0KuzJ6qq"
      },
      "source": [
        "def underSampling(data, frac_under=0.1):\n",
        "  from imblearn.under_sampling import RandomUnderSampler \n",
        "  us = RandomUnderSampler(sampling_strategy=frac_under, random_state=42)\n",
        "  y = data['isFraud']\n",
        "  X = data.drop(columns = ['isFraud'])\n",
        "  X_us, y_us = us.fit_resample(X, y)\n",
        "  return X_us, y_us\n",
        "\n",
        "def overSampling(X, y, frac_over=0.3):\n",
        "  from imblearn.over_sampling import SMOTE\n",
        "  sm = SMOTE(sampling_strategy=frac_over, random_state=42)\n",
        "  X_sm, y_sm = sm.fit_resample(X, y)  \n",
        "  return X_sm, y_sm\n",
        "\n",
        "def mergeResult(X, y, col_name):\n",
        "  y_res = np.ndarray(shape=(np.shape(y)[0],1), buffer = y)\n",
        "  data = np.concatenate((X,y_res), axis = 1)\n",
        "  col_name.append('isFraud')\n",
        "  dataset = pd.DataFrame(data=data, columns=col_name)  \n",
        "  return dataset\n",
        "\n",
        "def rate(y):\n",
        "  n_fraud = np.count_nonzero(y == 1)\n",
        "  n_safe = np.shape(y)[0] - n_fraud\n",
        "  return f'Rate safe/fraud: {n_safe/n_fraud}'"
      ],
      "execution_count": 10,
      "outputs": []
    },
    {
      "cell_type": "code",
      "metadata": {
        "id": "v4cddCAqK4pY",
        "colab": {
          "base_uri": "https://localhost:8080/",
          "height": 35
        },
        "outputId": "0ae3c37e-3602-4bab-b3d2-5add59ef7bce"
      },
      "source": [
        "X, y = underSampling(train_data)\n",
        "rate(y)"
      ],
      "execution_count": 11,
      "outputs": [
        {
          "output_type": "execute_result",
          "data": {
            "application/vnd.google.colaboratory.intrinsic+json": {
              "type": "string"
            },
            "text/plain": [
              "'Rate safe/fraud: 10.0'"
            ]
          },
          "metadata": {
            "tags": []
          },
          "execution_count": 11
        }
      ]
    },
    {
      "cell_type": "code",
      "metadata": {
        "id": "LqiPC-MkK_BX",
        "colab": {
          "base_uri": "https://localhost:8080/",
          "height": 35
        },
        "outputId": "ed1081f7-b381-4b6a-a0be-b78be9bf0e9c"
      },
      "source": [
        "X, y = overSampling(X, y)\n",
        "rate(y)"
      ],
      "execution_count": 12,
      "outputs": [
        {
          "output_type": "execute_result",
          "data": {
            "application/vnd.google.colaboratory.intrinsic+json": {
              "type": "string"
            },
            "text/plain": [
              "'Rate safe/fraud: 3.3333333333333335'"
            ]
          },
          "metadata": {
            "tags": []
          },
          "execution_count": 12
        }
      ]
    },
    {
      "cell_type": "code",
      "metadata": {
        "id": "CHpsO2hJLFeR"
      },
      "source": [
        "train_data = mergeResult(X, y, col_name)"
      ],
      "execution_count": 13,
      "outputs": []
    },
    {
      "cell_type": "code",
      "metadata": {
        "colab": {
          "base_uri": "https://localhost:8080/"
        },
        "id": "2bpOGbYXMAwY",
        "outputId": "055add56-7845-44be-e2b0-fb8d9824cdb2"
      },
      "source": [
        "# print('Rate safe/fraud:', (mf.ratio(train_data)).round(3))\n",
        "print('Dataset size:', train_data.shape[0])"
      ],
      "execution_count": 14,
      "outputs": [
        {
          "output_type": "stream",
          "text": [
            "Dataset size: 215345\n"
          ],
          "name": "stdout"
        }
      ]
    },
    {
      "cell_type": "code",
      "metadata": {
        "id": "GawBnA83QyYj"
      },
      "source": [
        "del data, X, y"
      ],
      "execution_count": 15,
      "outputs": []
    },
    {
      "cell_type": "code",
      "metadata": {
        "id": "AU9MLDmI2b_o",
        "colab": {
          "base_uri": "https://localhost:8080/"
        },
        "outputId": "ded69aad-edc4-4646-db40-d19287e4583c"
      },
      "source": [
        "train_data.shape"
      ],
      "execution_count": 16,
      "outputs": [
        {
          "output_type": "execute_result",
          "data": {
            "text/plain": [
              "(215345, 734)"
            ]
          },
          "metadata": {
            "tags": []
          },
          "execution_count": 16
        }
      ]
    },
    {
      "cell_type": "markdown",
      "metadata": {
        "id": "AhZXxAzVxt5B"
      },
      "source": [
        "# Convert data"
      ]
    },
    {
      "cell_type": "markdown",
      "metadata": {
        "id": "KyqEukFeyHXA"
      },
      "source": [
        "Il dataset deve essere convertito in un tensore, con componenti (feature_vector, label). "
      ]
    },
    {
      "cell_type": "code",
      "metadata": {
        "id": "LuQfRXzrqoW2"
      },
      "source": [
        "def to_tensor(data, n_clients = 4):\n",
        "  shuffled = data.sample(frac=1)\n",
        "  result = np.array_split(shuffled, n_clients)  \n",
        "\n",
        "  res = []\n",
        "  label = []\n",
        "\n",
        "  for dataset in result:\n",
        "    label.append(dataset['isFraud'])\n",
        "    res.append(dataset.drop(columns = ['isFraud']))\n",
        "\n",
        "  dataset = {}\n",
        "  for i in range(n_clients):\n",
        "    dataset[i] = tf.data.Dataset.from_tensor_slices((res[i], label[i]))\n",
        "  return dataset"
      ],
      "execution_count": 17,
      "outputs": []
    },
    {
      "cell_type": "code",
      "metadata": {
        "id": "LozyQwZOrCub"
      },
      "source": [
        "dataset = to_tensor(train_data)\n",
        "test_set = to_tensor(test_data)"
      ],
      "execution_count": 18,
      "outputs": []
    },
    {
      "cell_type": "code",
      "metadata": {
        "id": "U0_iMvxDQs6l"
      },
      "source": [
        "del train_data, test_data"
      ],
      "execution_count": 19,
      "outputs": []
    },
    {
      "cell_type": "markdown",
      "metadata": {
        "id": "PbRUraJkxzmR"
      },
      "source": [
        "# Federated data"
      ]
    },
    {
      "cell_type": "markdown",
      "metadata": {
        "id": "wWq8QN4vyP1t"
      },
      "source": [
        "Si definisce la funzione di preprocessing del dataset, che serve a creare l'OrderedDict, su cui si andranno a creare le batch necessarie per il training del modello. "
      ]
    },
    {
      "cell_type": "code",
      "metadata": {
        "id": "vHxlJrXRs9qP"
      },
      "source": [
        "NUM_CLIENTS = 4\n",
        "NUM_EPOCHS = 10\n",
        "BATCH_SIZE = 250\n",
        "SHUFFLE_BUFFER = 10\n",
        "PREFETCH_BUFFER = 10\n",
        "\n",
        "def preprocess(dataset):\n",
        "  def batch_format_fn(e1, e2):\n",
        "    return collections.OrderedDict(\n",
        "        x = tf.cast(e1, tf.float32),\n",
        "        y = tf.cast(e2, tf.int32))\n",
        "  return dataset.repeat(NUM_EPOCHS).shuffle(SHUFFLE_BUFFER).batch(\n",
        "      BATCH_SIZE).map(batch_format_fn).prefetch(PREFETCH_BUFFER)\n",
        "\n",
        "preprocessed_example_dataset = preprocess(dataset[0])"
      ],
      "execution_count": 20,
      "outputs": []
    },
    {
      "cell_type": "markdown",
      "metadata": {
        "id": "tcIsH9tRyc0p"
      },
      "source": [
        "I dati federati sono una lista di dataset divisi per cliente. "
      ]
    },
    {
      "cell_type": "code",
      "metadata": {
        "id": "6coH5NXYrQ8A",
        "colab": {
          "base_uri": "https://localhost:8080/"
        },
        "outputId": "2dbf581d-9327-4bca-a0e9-aec472011dff"
      },
      "source": [
        "def make_federated_data(dataset):\n",
        "  federated = []\n",
        "  for i in dataset:\n",
        "    federated.append(preprocess(dataset[i]))\n",
        "  return federated\n",
        "\n",
        "federated_train_data = make_federated_data(dataset)\n",
        "\n",
        "print('Number of client datasets: {l}'.format(l=len(federated_train_data)))\n",
        "print('First dataset: {d}'.format(d=federated_train_data[0]))"
      ],
      "execution_count": 21,
      "outputs": [
        {
          "output_type": "stream",
          "text": [
            "Number of client datasets: 4\n",
            "First dataset: <PrefetchDataset shapes: OrderedDict([(x, (None, 733)), (y, (None,))]), types: OrderedDict([(x, tf.float32), (y, tf.int32)])>\n"
          ],
          "name": "stdout"
        }
      ]
    },
    {
      "cell_type": "code",
      "metadata": {
        "id": "doNQKip2REvH"
      },
      "source": [
        "del dataset"
      ],
      "execution_count": 22,
      "outputs": []
    },
    {
      "cell_type": "markdown",
      "metadata": {
        "id": "57xoboqEx25g"
      },
      "source": [
        "# Model creation and training"
      ]
    },
    {
      "cell_type": "markdown",
      "metadata": {
        "id": "oACFRKebyl3u"
      },
      "source": [
        "Creazione della rete neurale che sarà trainata. \n",
        "\n",
        "Viene anche definita la model function, in cui si specifica il modello, il tipo di input, la loss e le metriche da utilizzare. \n",
        "\n",
        "Infine si costruisce il processo di averaging, specificando l'optimizer da usare, cioè SGD, e il learning rate del server e del client. \n",
        "\n",
        "BatchNormalization Layer: https://stackoverflow.com/questions/56514398/why-the-tensorflow-federated-performance-is-worse-than-single-keras-model"
      ]
    },
    {
      "cell_type": "code",
      "metadata": {
        "id": "F4A7FqBv8G7f"
      },
      "source": [
        "from tensorflow import keras\n",
        "from tensorflow.keras.models import Sequential\n",
        "from tensorflow.keras.layers import Flatten, Dense, Dropout, Input, BatchNormalization\n",
        "\n",
        "def create_keras_model():\n",
        "  model = Sequential()\n",
        "  model.add(Input(shape=(733,)))   \n",
        "  model.add(Dense(256, activation='relu')) \n",
        "  # model.add(BatchNormalization())\n",
        "  model.add(Dropout(0.05))\n",
        "  model.add(Dense(1, activation='sigmoid'))\n",
        "  return model\n",
        "\n",
        "def model_fn():\n",
        "  soglia = 0.5\n",
        "  keras_model = create_keras_model()\n",
        "  return tff.learning.from_keras_model(\n",
        "      keras_model,\n",
        "      input_spec=preprocessed_example_dataset.element_spec,\n",
        "      loss=tf.keras.losses.BinaryCrossentropy(),\n",
        "      metrics=[tf.keras.metrics.BinaryAccuracy(), \n",
        "               tf.keras.metrics.Recall(thresholds=soglia),\n",
        "               tf.keras.metrics.Precision(thresholds=soglia)])\n",
        "  \n",
        "iterative_process = tff.learning.build_federated_averaging_process(\n",
        "    model_fn,  \n",
        "    client_optimizer_fn=lambda: tf.keras.optimizers.SGD(learning_rate=0.05, momentum=0.4), #0.05\n",
        "    server_optimizer_fn=lambda: tf.keras.optimizers.SGD(learning_rate=1)) "
      ],
      "execution_count": 42,
      "outputs": []
    },
    {
      "cell_type": "markdown",
      "metadata": {
        "id": "GUUQi8kdzB3_"
      },
      "source": [
        "Training del modello. \n",
        "\n",
        "Gpu usage: https://colab.research.google.com/notebooks/gpu.ipynb#scrollTo=Y04m-jvKRDsJ"
      ]
    },
    {
      "cell_type": "code",
      "metadata": {
        "id": "vjLvHl-fA7wW",
        "colab": {
          "base_uri": "https://localhost:8080/"
        },
        "outputId": "d7306992-f7ce-43e2-efda-2c16edc09edb"
      },
      "source": [
        "NUM_ROUNDS = 40\n",
        "state = iterative_process.initialize()\n",
        "for round_num in range(1, NUM_ROUNDS + 1):\n",
        "  state, metrics = iterative_process.next(state, federated_train_data)\n",
        "  print('round {:2d}, metrics={}'.format(round_num, metrics))"
      ],
      "execution_count": 43,
      "outputs": [
        {
          "output_type": "stream",
          "text": [
            "round  1, metrics=OrderedDict([('broadcast', ()), ('aggregation', OrderedDict([('value_sum_process', ()), ('weight_sum_process', ())])), ('train', OrderedDict([('binary_accuracy', 0.8143693), ('recall', 0.35660127), ('precision', 0.6889095), ('loss', 0.41950417)]))])\n",
            "round  2, metrics=OrderedDict([('broadcast', ()), ('aggregation', OrderedDict([('value_sum_process', ()), ('weight_sum_process', ())])), ('train', OrderedDict([('binary_accuracy', 0.83052063), ('recall', 0.43256262), ('precision', 0.7214676), ('loss', 0.3907136)]))])\n",
            "round  3, metrics=OrderedDict([('broadcast', ()), ('aggregation', OrderedDict([('value_sum_process', ()), ('weight_sum_process', ())])), ('train', OrderedDict([('binary_accuracy', 0.83996075), ('recall', 0.4726371), ('precision', 0.73990524), ('loss', 0.37309143)]))])\n",
            "round  4, metrics=OrderedDict([('broadcast', ()), ('aggregation', OrderedDict([('value_sum_process', ()), ('weight_sum_process', ())])), ('train', OrderedDict([('binary_accuracy', 0.8470223), ('recall', 0.5020384), ('precision', 0.75269186), ('loss', 0.36035606)]))])\n",
            "round  5, metrics=OrderedDict([('broadcast', ()), ('aggregation', OrderedDict([('value_sum_process', ()), ('weight_sum_process', ())])), ('train', OrderedDict([('binary_accuracy', 0.8523927), ('recall', 0.5237871), ('precision', 0.7621892), ('loss', 0.34998903)]))])\n",
            "round  6, metrics=OrderedDict([('broadcast', ()), ('aggregation', OrderedDict([('value_sum_process', ()), ('weight_sum_process', ())])), ('train', OrderedDict([('binary_accuracy', 0.8566196), ('recall', 0.5401751), ('precision', 0.76984847), ('loss', 0.34109226)]))])\n",
            "round  7, metrics=OrderedDict([('broadcast', ()), ('aggregation', OrderedDict([('value_sum_process', ()), ('weight_sum_process', ())])), ('train', OrderedDict([('binary_accuracy', 0.86056876), ('recall', 0.5546695), ('precision', 0.7773526), ('loss', 0.33331233)]))])\n",
            "round  8, metrics=OrderedDict([('broadcast', ()), ('aggregation', OrderedDict([('value_sum_process', ()), ('weight_sum_process', ())])), ('train', OrderedDict([('binary_accuracy', 0.86367613), ('recall', 0.56638896), ('precision', 0.78283566), ('loss', 0.32664365)]))])\n",
            "round  9, metrics=OrderedDict([('broadcast', ()), ('aggregation', OrderedDict([('value_sum_process', ()), ('weight_sum_process', ())])), ('train', OrderedDict([('binary_accuracy', 0.86669385), ('recall', 0.5776476), ('precision', 0.78811437), ('loss', 0.32058072)]))])\n",
            "round 10, metrics=OrderedDict([('broadcast', ()), ('aggregation', OrderedDict([('value_sum_process', ()), ('weight_sum_process', ())])), ('train', OrderedDict([('binary_accuracy', 0.86929566), ('recall', 0.5875319), ('precision', 0.79241276), ('loss', 0.31490028)]))])\n",
            "round 11, metrics=OrderedDict([('broadcast', ()), ('aggregation', OrderedDict([('value_sum_process', ()), ('weight_sum_process', ())])), ('train', OrderedDict([('binary_accuracy', 0.8721791), ('recall', 0.5975893), ('precision', 0.7977864), ('loss', 0.30986366)]))])\n",
            "round 12, metrics=OrderedDict([('broadcast', ()), ('aggregation', OrderedDict([('value_sum_process', ()), ('weight_sum_process', ())])), ('train', OrderedDict([('binary_accuracy', 0.87411124), ('recall', 0.60529834), ('precision', 0.800553), ('loss', 0.30512416)]))])\n",
            "round 13, metrics=OrderedDict([('broadcast', ()), ('aggregation', OrderedDict([('value_sum_process', ()), ('weight_sum_process', ())])), ('train', OrderedDict([('binary_accuracy', 0.8760279), ('recall', 0.6126472), ('precision', 0.8034852), ('loss', 0.3008128)]))])\n",
            "round 14, metrics=OrderedDict([('broadcast', ()), ('aggregation', OrderedDict([('value_sum_process', ()), ('weight_sum_process', ())])), ('train', OrderedDict([('binary_accuracy', 0.8778001), ('recall', 0.61975855), ('precision', 0.80589527), ('loss', 0.2968511)]))])\n",
            "round 15, metrics=OrderedDict([('broadcast', ()), ('aggregation', OrderedDict([('value_sum_process', ()), ('weight_sum_process', ())])), ('train', OrderedDict([('binary_accuracy', 0.87966436), ('recall', 0.6266184), ('precision', 0.8088848), ('loss', 0.29301164)]))])\n",
            "round 16, metrics=OrderedDict([('broadcast', ()), ('aggregation', OrderedDict([('value_sum_process', ()), ('weight_sum_process', ())])), ('train', OrderedDict([('binary_accuracy', 0.8811107), ('recall', 0.6320938), ('precision', 0.8110462), ('loss', 0.28956562)]))])\n",
            "round 17, metrics=OrderedDict([('broadcast', ()), ('aggregation', OrderedDict([('value_sum_process', ()), ('weight_sum_process', ())])), ('train', OrderedDict([('binary_accuracy', 0.882673), ('recall', 0.6379032), ('precision', 0.8134345), ('loss', 0.28627765)]))])\n",
            "round 18, metrics=OrderedDict([('broadcast', ()), ('aggregation', OrderedDict([('value_sum_process', ()), ('weight_sum_process', ())])), ('train', OrderedDict([('binary_accuracy', 0.8839966), ('recall', 0.64322364), ('precision', 0.8151342), ('loss', 0.28315884)]))])\n",
            "round 19, metrics=OrderedDict([('broadcast', ()), ('aggregation', OrderedDict([('value_sum_process', ()), ('weight_sum_process', ())])), ('train', OrderedDict([('binary_accuracy', 0.8855419), ('recall', 0.6485099), ('precision', 0.81783324), ('loss', 0.2800061)]))])\n",
            "round 20, metrics=OrderedDict([('broadcast', ()), ('aggregation', OrderedDict([('value_sum_process', ()), ('weight_sum_process', ())])), ('train', OrderedDict([('binary_accuracy', 0.88685924), ('recall', 0.6533555), ('precision', 0.81980395), ('loss', 0.27702978)]))])\n",
            "round 21, metrics=OrderedDict([('broadcast', ()), ('aggregation', OrderedDict([('value_sum_process', ()), ('weight_sum_process', ())])), ('train', OrderedDict([('binary_accuracy', 0.88795316), ('recall', 0.6575551), ('precision', 0.8213096), ('loss', 0.2744879)]))])\n",
            "round 22, metrics=OrderedDict([('broadcast', ()), ('aggregation', OrderedDict([('value_sum_process', ()), ('weight_sum_process', ())])), ('train', OrderedDict([('binary_accuracy', 0.8892463), ('recall', 0.6624147), ('precision', 0.8231445), ('loss', 0.27163255)]))])\n",
            "round 23, metrics=OrderedDict([('broadcast', ()), ('aggregation', OrderedDict([('value_sum_process', ()), ('weight_sum_process', ())])), ('train', OrderedDict([('binary_accuracy', 0.8902649), ('recall', 0.66624004), ('precision', 0.82458246), ('loss', 0.26936367)]))])\n",
            "round 24, metrics=OrderedDict([('broadcast', ()), ('aggregation', OrderedDict([('value_sum_process', ()), ('weight_sum_process', ())])), ('train', OrderedDict([('binary_accuracy', 0.8914066), ('recall', 0.67017406), ('precision', 0.8264689), ('loss', 0.26676005)]))])\n",
            "round 25, metrics=OrderedDict([('broadcast', ()), ('aggregation', OrderedDict([('value_sum_process', ()), ('weight_sum_process', ())])), ('train', OrderedDict([('binary_accuracy', 0.89231604), ('recall', 0.6741201), ('precision', 0.82728887), ('loss', 0.2646917)]))])\n",
            "round 26, metrics=OrderedDict([('broadcast', ()), ('aggregation', OrderedDict([('value_sum_process', ()), ('weight_sum_process', ())])), ('train', OrderedDict([('binary_accuracy', 0.8934595), ('recall', 0.6777704), ('precision', 0.8293865), ('loss', 0.2625312)]))])\n",
            "round 27, metrics=OrderedDict([('broadcast', ()), ('aggregation', OrderedDict([('value_sum_process', ()), ('weight_sum_process', ())])), ('train', OrderedDict([('binary_accuracy', 0.8945092), ('recall', 0.6815394), ('precision', 0.8309458), ('loss', 0.26016122)]))])\n",
            "round 28, metrics=OrderedDict([('broadcast', ()), ('aggregation', OrderedDict([('value_sum_process', ()), ('weight_sum_process', ())])), ('train', OrderedDict([('binary_accuracy', 0.89542556), ('recall', 0.6848858), ('precision', 0.8322713), ('loss', 0.25826493)]))])\n",
            "round 29, metrics=OrderedDict([('broadcast', ()), ('aggregation', OrderedDict([('value_sum_process', ()), ('weight_sum_process', ())])), ('train', OrderedDict([('binary_accuracy', 0.8961326), ('recall', 0.6874736), ('precision', 0.83329064), ('loss', 0.25634143)]))])\n",
            "round 30, metrics=OrderedDict([('broadcast', ()), ('aggregation', OrderedDict([('value_sum_process', ()), ('weight_sum_process', ())])), ('train', OrderedDict([('binary_accuracy', 0.89704585), ('recall', 0.6910776), ('precision', 0.83438045), ('loss', 0.25420743)]))])\n",
            "round 31, metrics=OrderedDict([('broadcast', ()), ('aggregation', OrderedDict([('value_sum_process', ()), ('weight_sum_process', ())])), ('train', OrderedDict([('binary_accuracy', 0.89786255), ('recall', 0.6938988), ('precision', 0.83565086), ('loss', 0.25238183)]))])\n",
            "round 32, metrics=OrderedDict([('broadcast', ()), ('aggregation', OrderedDict([('value_sum_process', ()), ('weight_sum_process', ())])), ('train', OrderedDict([('binary_accuracy', 0.89847445), ('recall', 0.6963437), ('precision', 0.8363233), ('loss', 0.2504951)]))])\n",
            "round 33, metrics=OrderedDict([('broadcast', ()), ('aggregation', OrderedDict([('value_sum_process', ()), ('weight_sum_process', ())])), ('train', OrderedDict([('binary_accuracy', 0.89950866), ('recall', 0.6997042), ('precision', 0.8381191), ('loss', 0.24863811)]))])\n",
            "round 34, metrics=OrderedDict([('broadcast', ()), ('aggregation', OrderedDict([('value_sum_process', ()), ('weight_sum_process', ())])), ('train', OrderedDict([('binary_accuracy', 0.90023863), ('recall', 0.7021833), ('precision', 0.83926797), ('loss', 0.24700291)]))])\n",
            "round 35, metrics=OrderedDict([('broadcast', ()), ('aggregation', OrderedDict([('value_sum_process', ()), ('weight_sum_process', ())])), ('train', OrderedDict([('binary_accuracy', 0.90083355), ('recall', 0.7049864), ('precision', 0.8396075), ('loss', 0.24529363)]))])\n",
            "round 36, metrics=OrderedDict([('broadcast', ()), ('aggregation', OrderedDict([('value_sum_process', ()), ('weight_sum_process', ())])), ('train', OrderedDict([('binary_accuracy', 0.9015246), ('recall', 0.70697856), ('precision', 0.8409703), ('loss', 0.24393578)]))])\n",
            "round 37, metrics=OrderedDict([('broadcast', ()), ('aggregation', OrderedDict([('value_sum_process', ()), ('weight_sum_process', ())])), ('train', OrderedDict([('binary_accuracy', 0.90234685), ('recall', 0.7098078), ('precision', 0.8422411), ('loss', 0.24230963)]))])\n",
            "round 38, metrics=OrderedDict([('broadcast', ()), ('aggregation', OrderedDict([('value_sum_process', ()), ('weight_sum_process', ())])), ('train', OrderedDict([('binary_accuracy', 0.90285003), ('recall', 0.7118724), ('precision', 0.8427511), ('loss', 0.24087662)]))])\n",
            "round 39, metrics=OrderedDict([('broadcast', ()), ('aggregation', OrderedDict([('value_sum_process', ()), ('weight_sum_process', ())])), ('train', OrderedDict([('binary_accuracy', 0.9035047), ('recall', 0.71439785), ('precision', 0.8435364), ('loss', 0.2393238)]))])\n",
            "round 40, metrics=OrderedDict([('broadcast', ()), ('aggregation', OrderedDict([('value_sum_process', ()), ('weight_sum_process', ())])), ('train', OrderedDict([('binary_accuracy', 0.9042143), ('recall', 0.7162129), ('precision', 0.8451133), ('loss', 0.23806791)]))])\n"
          ],
          "name": "stdout"
        }
      ]
    },
    {
      "cell_type": "markdown",
      "metadata": {
        "id": "PA4yp86ex9NK"
      },
      "source": [
        "# Model evaluation"
      ]
    },
    {
      "cell_type": "markdown",
      "metadata": {
        "id": "LZ_L_WaVzGX4"
      },
      "source": [
        "Evaluation del modello sui test data. "
      ]
    },
    {
      "cell_type": "code",
      "metadata": {
        "id": "j-43k3etjd8P"
      },
      "source": [
        "evaluation = tff.learning.build_federated_evaluation(model_fn)\n",
        "train_metrics = evaluation(state.model, federated_train_data)"
      ],
      "execution_count": 44,
      "outputs": []
    },
    {
      "cell_type": "code",
      "metadata": {
        "id": "ECb3PNHFjk_k"
      },
      "source": [
        "federated_test_data = make_federated_data(test_set)"
      ],
      "execution_count": 45,
      "outputs": []
    },
    {
      "cell_type": "code",
      "metadata": {
        "id": "GoNPIG8Qj0G8",
        "colab": {
          "base_uri": "https://localhost:8080/",
          "height": 53
        },
        "outputId": "99b882ca-0f76-4fb3-a62c-365f4c265d14"
      },
      "source": [
        "test_metrics = evaluation(state.model, federated_test_data)\n",
        "str(test_metrics)"
      ],
      "execution_count": 46,
      "outputs": [
        {
          "output_type": "execute_result",
          "data": {
            "application/vnd.google.colaboratory.intrinsic+json": {
              "type": "string"
            },
            "text/plain": [
              "\"OrderedDict([('binary_accuracy', 0.9555656), ('recall', 0.5372224), ('precision', 0.3961483), ('loss', 0.14394546)])\""
            ]
          },
          "metadata": {
            "tags": []
          },
          "execution_count": 46
        }
      ]
    },
    {
      "cell_type": "markdown",
      "metadata": {
        "id": "m2TBCVOYzJal"
      },
      "source": [
        "Board di tensorboad, per visualizzare la loss e le metriche in modo interattivo. "
      ]
    },
    {
      "cell_type": "code",
      "metadata": {
        "id": "ezubvjWqluK-"
      },
      "source": [
        "# logdir = \"/tmp/logs/scalars/training/\"\n",
        "# summary_writer = tf.summary.create_file_writer(logdir)\n",
        "# state = iterative_process.initialize()\n",
        "# with summary_writer.as_default():\n",
        "#   for round_num in range(1, NUM_ROUNDS):\n",
        "#     state, metrics = iterative_process.next(state, federated_train_data)\n",
        "#     for name, value in metrics['train'].items():\n",
        "#       tf.summary.scalar(name, value, step=round_num)"
      ],
      "execution_count": 47,
      "outputs": []
    },
    {
      "cell_type": "code",
      "metadata": {
        "id": "pM1FgnQao2-h"
      },
      "source": [
        "# !ls {logdir}\n",
        "# %tensorboard --logdir {logdir} --port=0"
      ],
      "execution_count": 48,
      "outputs": []
    }
  ]
}