{
  "nbformat": 4,
  "nbformat_minor": 0,
  "metadata": {
    "colab": {
      "name": "3_Autoencoder.ipynb",
      "provenance": [],
      "authorship_tag": "ABX9TyOpIMndBSY5+DQkNqWc4Nj1",
      "include_colab_link": true
    },
    "kernelspec": {
      "name": "python3",
      "display_name": "Python 3"
    },
    "accelerator": "GPU"
  },
  "cells": [
    {
      "cell_type": "markdown",
      "metadata": {
        "id": "view-in-github",
        "colab_type": "text"
      },
      "source": [
        "<a href=\"https://colab.research.google.com/github/alessandrotofani/Tesi_magistrale/blob/master/3_Autoencoder_new.ipynb\" target=\"_parent\"><img src=\"https://colab.research.google.com/assets/colab-badge.svg\" alt=\"Open In Colab\"/></a>"
      ]
    },
    {
      "cell_type": "markdown",
      "metadata": {
        "id": "8-eTUKS6D9Fs"
      },
      "source": [
        "# Import"
      ]
    },
    {
      "cell_type": "code",
      "metadata": {
        "colab": {
          "base_uri": "https://localhost:8080/"
        },
        "id": "xtV-QCEPDVju",
        "outputId": "95d6f754-3618-444a-fc0c-4d3f46833f7e"
      },
      "source": [
        "import numpy as np # linear algebra\r\n",
        "import pandas as pd # data processing\r\n",
        "import matplotlib\r\n",
        "import matplotlib.pyplot as plt\r\n",
        "import seaborn as sns\r\n",
        "import os\r\n",
        "from google.colab import drive\r\n",
        "drive.mount('/content/drive')\r\n",
        "from sklearn.model_selection import train_test_split"
      ],
      "execution_count": 1,
      "outputs": [
        {
          "output_type": "stream",
          "text": [
            "Mounted at /content/drive\n"
          ],
          "name": "stdout"
        }
      ]
    },
    {
      "cell_type": "code",
      "metadata": {
        "id": "QSvV9n8XDd1_"
      },
      "source": [
        "import sys \r\n",
        "sys.path.append('/content/drive/MyDrive/Tesi_magistrale/Tesi_magistrale')\r\n",
        "import mf"
      ],
      "execution_count": 2,
      "outputs": []
    },
    {
      "cell_type": "markdown",
      "metadata": {
        "id": "k5aTQo_7D3KW"
      },
      "source": [
        "# Preprocessing"
      ]
    },
    {
      "cell_type": "markdown",
      "metadata": {
        "id": "snsMJMlJ3Dcu"
      },
      "source": [
        "## Feature scaling"
      ]
    },
    {
      "cell_type": "markdown",
      "metadata": {
        "id": "fkebeV1E5pX-"
      },
      "source": [
        "Implemento il min max scaling delle features. \r\n",
        "\r\n",
        "Riferimento: https://towardsdatascience.com/data-normalization-with-pandas-and-scikit-learn-7c1cc6ed6475"
      ]
    },
    {
      "cell_type": "code",
      "metadata": {
        "id": "Kiu5JWhDvX3C"
      },
      "source": [
        "if not os.path.isfile('/content/drive/MyDrive/Tesi_magistrale/Dataset/IEEE/Output/corr_data.csv'):\r\n",
        "  correlation_data = min_max_scaling(correlation_data)\r\n",
        "  correlation_data.to_csv(r'./corr_data.csv')\r\n",
        "\r\n",
        "if not os.path.isfile('/content/drive/MyDrive/Tesi_magistrale/Dataset/IEEE/Output/data.csv'):\r\n",
        "  correlation_data = pd.read_csv('/content/drive/MyDrive/Tesi_magistrale/Dataset/IEEE/Output/corr_data.csv')"
      ],
      "execution_count": 3,
      "outputs": []
    },
    {
      "cell_type": "markdown",
      "metadata": {
        "id": "Wm21M5BTc2-v"
      },
      "source": [
        "Riferimento `save_model` e `load_model`: https://stackoverflow.com/questions/56107259/how-to-save-a-trained-model-by-scikit-learn\r\n",
        "\r\n",
        "Riferimento confusion matrix: https://scikit-learn.org/stable/auto_examples/model_selection/plot_confusion_matrix.html\r\n"
      ]
    },
    {
      "cell_type": "markdown",
      "metadata": {
        "id": "FpbwsvUFX0iY"
      },
      "source": [
        "### Dataset merging"
      ]
    },
    {
      "cell_type": "markdown",
      "metadata": {
        "id": "6-XUASHDX0iY"
      },
      "source": [
        "Funzione che ritorna la lista delle colonne significative. "
      ]
    },
    {
      "cell_type": "code",
      "metadata": {
        "id": "fUhFjfNyHixl"
      },
      "source": [
        "import warnings\r\n",
        "warnings.simplefilter(action='ignore', category=FutureWarning) # serve per ignorare i FutureWarning"
      ],
      "execution_count": 4,
      "outputs": []
    },
    {
      "cell_type": "markdown",
      "metadata": {
        "id": "P_aHaIF0QR8W"
      },
      "source": [
        "Rimpiazzo i missing values in categorical data con unknown. \r\n",
        "\r\n",
        "Unisco i dataset numerici e categorici nel dataframe data. \r\n",
        "\r\n",
        "Riferimento fillna: https://jamesrledoux.com/code/imputation"
      ]
    },
    {
      "cell_type": "code",
      "metadata": {
        "id": "3CA67WePVnds"
      },
      "source": [
        "if not os.path.isfile('/content/drive/MyDrive/Tesi_magistrale/Dataset/IEEE/Output/data.csv'):\r\n",
        "  col_to_drop = col_not_sign(categorical_data, cat_sign_col)\r\n",
        "  categorical_data = categorical_data.drop(col_to_drop, axis=1)\r\n",
        "  categorical_data = categorical_data.fillna('unknown')\r\n",
        "  data = pd.merge(correlation_data, categorical_data, left_on='TransactionID', right_on='TransactionID', how='left')\r\n",
        "  del correlation_data, categorical_data, numerical_data\r\n",
        "  data.to_csv(r'./data.csv')\r\n",
        "\r\n",
        "data = pd.read_csv('/content/drive/MyDrive/Tesi_magistrale/Dataset/IEEE/Output/data.csv')\r\n",
        "data.drop(data.columns[data.columns.str.contains('unnamed',case = False)],axis = 1, inplace = True)\r\n",
        "data = mf.select_days(data, 60)\r\n",
        "data = mf.feature_engineering(data)\r\n",
        "data = mf.feature_scaling(data)"
      ],
      "execution_count": 5,
      "outputs": []
    },
    {
      "cell_type": "markdown",
      "metadata": {
        "id": "jacF5JtkXHvp"
      },
      "source": [
        "## One hot encoding"
      ]
    },
    {
      "cell_type": "markdown",
      "metadata": {
        "id": "0YusuKvQSS-V"
      },
      "source": [
        "One hot encoding delle features categoriche. Serve per lo smote e easy ensemble. \r\n",
        "\r\n",
        "Bisogna farlo prima dello split del dataset poichè rischio di perdere delle colonne. "
      ]
    },
    {
      "cell_type": "code",
      "metadata": {
        "id": "uDzEOd7O-E03"
      },
      "source": [
        "data = pd.get_dummies(data)"
      ],
      "execution_count": 6,
      "outputs": []
    },
    {
      "cell_type": "code",
      "metadata": {
        "id": "ouq64I1r5lkR"
      },
      "source": [
        "cols = mf.get_col(data)"
      ],
      "execution_count": 7,
      "outputs": []
    },
    {
      "cell_type": "markdown",
      "metadata": {
        "id": "SMz_bK6DTJRl"
      },
      "source": [
        "Seleziono i dati appartenenti ai primi 60 giorni. \r\n",
        "\r\n",
        "Se ne seleziono di più, l'easy ensemble non va. "
      ]
    },
    {
      "cell_type": "code",
      "metadata": {
        "id": "dhRSkafFKcEn"
      },
      "source": [
        "# data = mf.select_days(data, 60)"
      ],
      "execution_count": 8,
      "outputs": []
    },
    {
      "cell_type": "markdown",
      "metadata": {
        "id": "WLwNC-RfdpGF"
      },
      "source": [
        "## Train validation test split"
      ]
    },
    {
      "cell_type": "code",
      "metadata": {
        "id": "PhL83KaZjNkI"
      },
      "source": [
        "# data.drop(columns=['TransactionID'], inplace=True)"
      ],
      "execution_count": 9,
      "outputs": []
    },
    {
      "cell_type": "code",
      "metadata": {
        "id": "uVJxf4nfd3Ed"
      },
      "source": [
        "safe = data[data['isFraud'] == 0]\r\n",
        "fraud = data[data['isFraud'] == 1]\r\n",
        "# fraud.drop(columns=['isFraud'], inplace=True)\r\n",
        "del data"
      ],
      "execution_count": 10,
      "outputs": []
    },
    {
      "cell_type": "markdown",
      "metadata": {
        "id": "m8EkabwNTN1C"
      },
      "source": [
        "Splitto il dataset in train, validation e test set. "
      ]
    },
    {
      "cell_type": "code",
      "metadata": {
        "id": "0cz8y-FhBpi9"
      },
      "source": [
        "X_train, X_val, y_train, y_val = mf.split(safe, test_size = 0.2)\r\n",
        "del safe\r\n",
        "X_train, X_test, y_train, y_test = train_test_split(X_train, y_train, test_size=0.25, random_state=42)\r\n",
        "del y_train, y_val, y_test"
      ],
      "execution_count": 11,
      "outputs": []
    },
    {
      "cell_type": "code",
      "metadata": {
        "id": "VFqrEQ_cDcqN"
      },
      "source": [
        "fraud_train, fraud_test, y_fraud_train, y_fraud_test = mf.split(fraud, test_size = 0.2)\r\n",
        "del fraud, y_fraud_train, y_fraud_test"
      ],
      "execution_count": 12,
      "outputs": []
    },
    {
      "cell_type": "code",
      "metadata": {
        "id": "F8A2zctK90e4"
      },
      "source": [
        "train_data = X_train[:10000]"
      ],
      "execution_count": 14,
      "outputs": []
    },
    {
      "cell_type": "markdown",
      "metadata": {
        "id": "WaM9aKNRCbki"
      },
      "source": [
        "# Autoencoder"
      ]
    },
    {
      "cell_type": "markdown",
      "metadata": {
        "id": "n_fueW_6Ctr9"
      },
      "source": [
        "### Training"
      ]
    },
    {
      "cell_type": "markdown",
      "metadata": {
        "id": "hd3-OVT5CeRW"
      },
      "source": [
        "Codice: https://medium.com/swlh/anomaly-detection-with-autoencoders-2bd23dedbd9e\r\n",
        "\r\n",
        "Altro su keras: https://medium.com/datadriveninvestor/deep-autoencoder-using-keras-b77cd3e8be95"
      ]
    },
    {
      "cell_type": "code",
      "metadata": {
        "id": "HWrpIT6ICdvF"
      },
      "source": [
        "from keras.layers import Input, Dense\r\n",
        "from keras.models import Model\r\n",
        "from tensorflow.keras import metrics\r\n",
        "\r\n",
        "input = Input(shape=(train_data.shape[1],))\r\n",
        "encoded = Dense(units=1024, activation='tanh')(input)\r\n",
        "encoded = Dense(units=512, activation='relu')(encoded)\r\n",
        "encoded = Dense(units=128, activation='relu')(encoded)\r\n",
        "##########\r\n",
        "decoded = Dense(units=512, activation='tanh')(encoded)\r\n",
        "decoded = Dense(units=1024, activation='relu')(decoded)\r\n",
        "decoded = Dense(units=train_data.shape[1], activation='relu')(decoded)"
      ],
      "execution_count": 22,
      "outputs": []
    },
    {
      "cell_type": "code",
      "metadata": {
        "id": "Wcj7kxyAdRmS",
        "outputId": "df0d82bd-e87b-4c4b-95ef-f311dd2f1696",
        "colab": {
          "base_uri": "https://localhost:8080/"
        }
      },
      "source": [
        "autoencoder=Model(input, decoded)\r\n",
        "encoder = Model(input, encoded)\r\n",
        "autoencoder.summary()\r\n",
        "autoencoder.compile(optimizer='adam', loss='mean_squared_error', metrics=[metrics.MeanSquaredError()])"
      ],
      "execution_count": 26,
      "outputs": [
        {
          "output_type": "stream",
          "text": [
            "Model: \"model_10\"\n",
            "_________________________________________________________________\n",
            "Layer (type)                 Output Shape              Param #   \n",
            "=================================================================\n",
            "input_3 (InputLayer)         [(None, 882)]             0         \n",
            "_________________________________________________________________\n",
            "dense_12 (Dense)             (None, 1024)              904192    \n",
            "_________________________________________________________________\n",
            "dense_13 (Dense)             (None, 512)               524800    \n",
            "_________________________________________________________________\n",
            "dense_14 (Dense)             (None, 128)               65664     \n",
            "_________________________________________________________________\n",
            "dense_15 (Dense)             (None, 512)               66048     \n",
            "_________________________________________________________________\n",
            "dense_16 (Dense)             (None, 1024)              525312    \n",
            "_________________________________________________________________\n",
            "dense_17 (Dense)             (None, 882)               904050    \n",
            "=================================================================\n",
            "Total params: 2,990,066\n",
            "Trainable params: 2,990,066\n",
            "Non-trainable params: 0\n",
            "_________________________________________________________________\n"
          ],
          "name": "stdout"
        }
      ]
    },
    {
      "cell_type": "code",
      "metadata": {
        "id": "j0nxRIf-gViW"
      },
      "source": [
        "# history = autoencoder.fit(X_train, X_train, epochs=30, batch_size=10000, shuffle=True,\r\n",
        "history = autoencoder.fit(train_data, train_data, epochs=100, batch_size=256, shuffle=True)\r\n",
        "\r\n",
        "# plt.plot(history.history['loss'])\r\n",
        "# plt.plot(history.history['val_loss'])\r\n",
        "# plt.title('Model Loss')\r\n",
        "# plt.ylabel('Loss')\r\n",
        "# plt.xlabel('Epoch')\r\n",
        "# plt.legend(['Train', 'Test'], loc='upper left')\r\n",
        "# plt.show()"
      ],
      "execution_count": null,
      "outputs": []
    },
    {
      "cell_type": "code",
      "metadata": {
        "id": "gQcAuq6jA0Si",
        "outputId": "91c256d8-085b-4649-c771-101b19f199a2",
        "colab": {
          "base_uri": "https://localhost:8080/"
        }
      },
      "source": [
        "from keras.models import Sequential\n",
        "# autoencoder = load_model(autoencoder_fname)\n",
        "# autoencoder.layers[0].trainable = False\n",
        "# autoencoder.layers[1].trainable = False\n",
        "# autoencoder.layers[2].trainable = False\n",
        "latent_model = Sequential()\n",
        "latent_model.add(autoencoder.layers[0])\n",
        "latent_model.add(autoencoder.layers[1])\n",
        "latent_model.add(autoencoder.layers[2])\n",
        "latent_model.add(autoencoder.layers[3])\n",
        "latent_model.summary()"
      ],
      "execution_count": 31,
      "outputs": [
        {
          "output_type": "stream",
          "text": [
            "Model: \"sequential_2\"\n",
            "_________________________________________________________________\n",
            "Layer (type)                 Output Shape              Param #   \n",
            "=================================================================\n",
            "dense_12 (Dense)             (None, 1024)              904192    \n",
            "_________________________________________________________________\n",
            "dense_13 (Dense)             (None, 512)               524800    \n",
            "_________________________________________________________________\n",
            "dense_14 (Dense)             (None, 128)               65664     \n",
            "=================================================================\n",
            "Total params: 1,494,656\n",
            "Trainable params: 1,494,656\n",
            "Non-trainable params: 0\n",
            "_________________________________________________________________\n"
          ],
          "name": "stdout"
        }
      ]
    },
    {
      "cell_type": "code",
      "metadata": {
        "id": "Z5Dq1EyJBzA6"
      },
      "source": [
        "safe_test = X_test[:1000]\n",
        "fraud_test = fraud_test[:1000]"
      ],
      "execution_count": null,
      "outputs": []
    },
    {
      "cell_type": "code",
      "metadata": {
        "id": "8Pi9bFmTCJ27"
      },
      "source": [
        "X = pd.concat([safe_test, fraud_test], axis = 0).values"
      ],
      "execution_count": 35,
      "outputs": []
    },
    {
      "cell_type": "code",
      "metadata": {
        "id": "wB3aJ2w4CWbL"
      },
      "source": [
        "y_safe = np.zeros(1000)\n",
        "y_fraud = np.ones(1000)\n",
        "y = np.concatenate((y_safe,y_fraud))"
      ],
      "execution_count": 36,
      "outputs": []
    },
    {
      "cell_type": "code",
      "metadata": {
        "id": "SQW7SB-1CN_4"
      },
      "source": [
        "from sklearn.manifold import TSNE\n",
        "def tsne_plot(X, y):\n",
        "  tsne = TSNE(n_components=2, random_state=0)\n",
        "  X_t = tsne.fit_transform(X)\n",
        "  plt.figure(figsize=(12, 8))\n",
        "  plt.scatter(X_t[np.where(y == 0), 0], X_t[np.where(y == 0), 1], label='Non Fraud', marker='o', color='g')\n",
        "  plt.scatter(X_t[np.where(y == 1), 0], X_t[np.where(y == 1), 1], label='Fraud', marker='o', color='r')\n",
        "  plt.legend(loc=\"best\")\n",
        "  plt.show()"
      ],
      "execution_count": 39,
      "outputs": []
    },
    {
      "cell_type": "code",
      "metadata": {
        "id": "7gtzA61GC8dT",
        "outputId": "6093a57b-c296-44cc-9505-279d791d7c71",
        "colab": {
          "base_uri": "https://localhost:8080/",
          "height": 483
        }
      },
      "source": [
        "tsne_plot(X,y)"
      ],
      "execution_count": 40,
      "outputs": [
        {
          "output_type": "display_data",
          "data": {
            "image/png": "[encoded data removed]",
            "text/plain": [
              "<Figure size 864x576 with 1 Axes>"
            ]
          },
          "metadata": {
            "tags": [],
            "needs_background": "light"
          }
        }
      ]
    },
    {
      "cell_type": "code",
      "metadata": {
        "id": "NHaIb4oTDSoT"
      },
      "source": [
        "latent_model.compile(optimizer='adam', loss='mean_squared_error', metrics=[metrics.MeanSquaredError()])"
      ],
      "execution_count": 41,
      "outputs": []
    },
    {
      "cell_type": "code",
      "metadata": {
        "id": "w40j-f5JDX6H",
        "outputId": "196ede57-7b96-4952-a17c-8e65011bbc04",
        "colab": {
          "base_uri": "https://localhost:8080/"
        }
      },
      "source": [
        "X_latent = []\n",
        "for element in X:\n",
        "  X_latent.append(latent_model.predict(np.expand_dims(element, axis=0))[0])\n",
        "X_latent[0].shape"
      ],
      "execution_count": 45,
      "outputs": [
        {
          "output_type": "execute_result",
          "data": {
            "text/plain": [
              "(128,)"
            ]
          },
          "metadata": {
            "tags": []
          },
          "execution_count": 45
        }
      ]
    },
    {
      "cell_type": "code",
      "metadata": {
        "id": "sKRtGtc3EEty",
        "outputId": "19103afe-0fe6-4b18-f13b-104b4724f0d5",
        "colab": {
          "base_uri": "https://localhost:8080/",
          "height": 483
        }
      },
      "source": [
        "tsne_plot(X_latent,y)"
      ],
      "execution_count": 46,
      "outputs": [
        {
          "output_type": "display_data",
          "data": {
            "image/png": "[encoded data removed]",
            "text/plain": [
              "<Figure size 864x576 with 1 Axes>"
            ]
          },
          "metadata": {
            "tags": [],
            "needs_background": "light"
          }
        }
      ]
    },
    {
      "cell_type": "code",
      "metadata": {
        "id": "6VAqV4NMHm3g",
        "outputId": "43ebb067-75bb-412d-fbc4-f2931966a86e",
        "colab": {
          "base_uri": "https://localhost:8080/",
          "height": 439
        }
      },
      "source": [
        "X_train"
      ],
      "execution_count": 47,
      "outputs": [
        {
          "output_type": "execute_result",
          "data": {
            "text/html": [
              "<div>\n",
              "<style scoped>\n",
              "    .dataframe tbody tr th:only-of-type {\n",
              "        vertical-align: middle;\n",
              "    }\n",
              "\n",
              "    .dataframe tbody tr th {\n",
              "        vertical-align: top;\n",
              "    }\n",
              "\n",
              "    .dataframe thead th {\n",
              "        text-align: right;\n",
              "    }\n",
              "</style>\n",
              "<table border=\"1\" class=\"dataframe\">\n",
              "  <thead>\n",
              "    <tr style=\"text-align: right;\">\n",
              "      <th></th>\n",
              "      <th>TransactionDT</th>\n",
              "      <th>TransactionAmt</th>\n",
              "      <th>card1</th>\n",
              "      <th>card2</th>\n",
              "      <th>card3</th>\n",
              "      <th>card5</th>\n",
              "      <th>addr1</th>\n",
              "      <th>addr2</th>\n",
              "      <th>C1</th>\n",
              "      <th>C2</th>\n",
              "      <th>C3</th>\n",
              "      <th>C4</th>\n",
              "      <th>C5</th>\n",
              "      <th>C6</th>\n",
              "      <th>C7</th>\n",
              "      <th>C8</th>\n",
              "      <th>C9</th>\n",
              "      <th>C10</th>\n",
              "      <th>C11</th>\n",
              "      <th>C12</th>\n",
              "      <th>C13</th>\n",
              "      <th>C14</th>\n",
              "      <th>D1</th>\n",
              "      <th>D10</th>\n",
              "      <th>D15</th>\n",
              "      <th>V12</th>\n",
              "      <th>V13</th>\n",
              "      <th>V14</th>\n",
              "      <th>V15</th>\n",
              "      <th>V16</th>\n",
              "      <th>V17</th>\n",
              "      <th>V18</th>\n",
              "      <th>V19</th>\n",
              "      <th>V20</th>\n",
              "      <th>V21</th>\n",
              "      <th>V22</th>\n",
              "      <th>V23</th>\n",
              "      <th>V24</th>\n",
              "      <th>V25</th>\n",
              "      <th>V26</th>\n",
              "      <th>...</th>\n",
              "      <th>screen_h_3150</th>\n",
              "      <th>screen_h_3240</th>\n",
              "      <th>screen_h_3600</th>\n",
              "      <th>screen_h_450</th>\n",
              "      <th>screen_h_480</th>\n",
              "      <th>screen_h_5000</th>\n",
              "      <th>screen_h_540</th>\n",
              "      <th>screen_h_576</th>\n",
              "      <th>screen_h_600</th>\n",
              "      <th>screen_h_615</th>\n",
              "      <th>screen_h_640</th>\n",
              "      <th>screen_h_648</th>\n",
              "      <th>screen_h_675</th>\n",
              "      <th>screen_h_697</th>\n",
              "      <th>screen_h_712</th>\n",
              "      <th>screen_h_720</th>\n",
              "      <th>screen_h_721</th>\n",
              "      <th>screen_h_750</th>\n",
              "      <th>screen_h_756</th>\n",
              "      <th>screen_h_768</th>\n",
              "      <th>screen_h_774</th>\n",
              "      <th>screen_h_800</th>\n",
              "      <th>screen_h_801</th>\n",
              "      <th>screen_h_803</th>\n",
              "      <th>screen_h_810</th>\n",
              "      <th>screen_h_837</th>\n",
              "      <th>screen_h_840</th>\n",
              "      <th>screen_h_857</th>\n",
              "      <th>screen_h_864</th>\n",
              "      <th>screen_h_889</th>\n",
              "      <th>screen_h_900</th>\n",
              "      <th>screen_h_922</th>\n",
              "      <th>screen_h_924</th>\n",
              "      <th>screen_h_945</th>\n",
              "      <th>screen_h_946</th>\n",
              "      <th>screen_h_947</th>\n",
              "      <th>screen_h_960</th>\n",
              "      <th>screen_h_972</th>\n",
              "      <th>screen_h_990</th>\n",
              "      <th>screen_h_992</th>\n",
              "    </tr>\n",
              "  </thead>\n",
              "  <tbody>\n",
              "    <tr>\n",
              "      <th>134079</th>\n",
              "      <td>0.507657</td>\n",
              "      <td>0.001149</td>\n",
              "      <td>0.930559</td>\n",
              "      <td>0.390342</td>\n",
              "      <td>0.381679</td>\n",
              "      <td>0.589388</td>\n",
              "      <td>0.338675</td>\n",
              "      <td>0.877533</td>\n",
              "      <td>0.000213</td>\n",
              "      <td>0.000527</td>\n",
              "      <td>0.0</td>\n",
              "      <td>0.000000</td>\n",
              "      <td>0.002865</td>\n",
              "      <td>0.000444</td>\n",
              "      <td>0.000000</td>\n",
              "      <td>0.0000</td>\n",
              "      <td>0.004762</td>\n",
              "      <td>0.000000</td>\n",
              "      <td>0.000314</td>\n",
              "      <td>0.000000</td>\n",
              "      <td>0.003084</td>\n",
              "      <td>0.000700</td>\n",
              "      <td>0.287332</td>\n",
              "      <td>0.301386</td>\n",
              "      <td>0.665632</td>\n",
              "      <td>0.517167</td>\n",
              "      <td>0.398642</td>\n",
              "      <td>0.956897</td>\n",
              "      <td>0.694597</td>\n",
              "      <td>0.103407</td>\n",
              "      <td>0.167129</td>\n",
              "      <td>0.051233</td>\n",
              "      <td>0.401198</td>\n",
              "      <td>0.186992</td>\n",
              "      <td>0.114973</td>\n",
              "      <td>0.194361</td>\n",
              "      <td>0.096386</td>\n",
              "      <td>0.140401</td>\n",
              "      <td>0.43662</td>\n",
              "      <td>0.281007</td>\n",
              "      <td>...</td>\n",
              "      <td>0</td>\n",
              "      <td>0</td>\n",
              "      <td>0</td>\n",
              "      <td>0</td>\n",
              "      <td>0</td>\n",
              "      <td>0</td>\n",
              "      <td>0</td>\n",
              "      <td>0</td>\n",
              "      <td>0</td>\n",
              "      <td>0</td>\n",
              "      <td>0</td>\n",
              "      <td>0</td>\n",
              "      <td>0</td>\n",
              "      <td>0</td>\n",
              "      <td>0</td>\n",
              "      <td>0</td>\n",
              "      <td>0</td>\n",
              "      <td>0</td>\n",
              "      <td>0</td>\n",
              "      <td>0</td>\n",
              "      <td>0</td>\n",
              "      <td>0</td>\n",
              "      <td>0</td>\n",
              "      <td>0</td>\n",
              "      <td>0</td>\n",
              "      <td>0</td>\n",
              "      <td>0</td>\n",
              "      <td>0</td>\n",
              "      <td>0</td>\n",
              "      <td>0</td>\n",
              "      <td>0</td>\n",
              "      <td>0</td>\n",
              "      <td>0</td>\n",
              "      <td>0</td>\n",
              "      <td>0</td>\n",
              "      <td>0</td>\n",
              "      <td>0</td>\n",
              "      <td>0</td>\n",
              "      <td>0</td>\n",
              "      <td>0</td>\n",
              "    </tr>\n",
              "    <tr>\n",
              "      <th>131824</th>\n",
              "      <td>0.494994</td>\n",
              "      <td>0.006630</td>\n",
              "      <td>0.586744</td>\n",
              "      <td>0.460992</td>\n",
              "      <td>0.381679</td>\n",
              "      <td>0.589388</td>\n",
              "      <td>0.347872</td>\n",
              "      <td>0.877533</td>\n",
              "      <td>0.000213</td>\n",
              "      <td>0.000176</td>\n",
              "      <td>0.0</td>\n",
              "      <td>0.000000</td>\n",
              "      <td>0.000000</td>\n",
              "      <td>0.000444</td>\n",
              "      <td>0.000000</td>\n",
              "      <td>0.0000</td>\n",
              "      <td>0.004762</td>\n",
              "      <td>0.000000</td>\n",
              "      <td>0.000314</td>\n",
              "      <td>0.000000</td>\n",
              "      <td>0.000000</td>\n",
              "      <td>0.000000</td>\n",
              "      <td>0.027489</td>\n",
              "      <td>0.287333</td>\n",
              "      <td>0.526455</td>\n",
              "      <td>0.517167</td>\n",
              "      <td>0.398642</td>\n",
              "      <td>0.956897</td>\n",
              "      <td>0.694597</td>\n",
              "      <td>0.103407</td>\n",
              "      <td>0.167129</td>\n",
              "      <td>0.051233</td>\n",
              "      <td>0.401198</td>\n",
              "      <td>0.186992</td>\n",
              "      <td>0.114973</td>\n",
              "      <td>0.194361</td>\n",
              "      <td>0.096386</td>\n",
              "      <td>0.140401</td>\n",
              "      <td>0.43662</td>\n",
              "      <td>0.281007</td>\n",
              "      <td>...</td>\n",
              "      <td>0</td>\n",
              "      <td>0</td>\n",
              "      <td>0</td>\n",
              "      <td>0</td>\n",
              "      <td>0</td>\n",
              "      <td>0</td>\n",
              "      <td>0</td>\n",
              "      <td>0</td>\n",
              "      <td>0</td>\n",
              "      <td>0</td>\n",
              "      <td>0</td>\n",
              "      <td>0</td>\n",
              "      <td>0</td>\n",
              "      <td>0</td>\n",
              "      <td>0</td>\n",
              "      <td>0</td>\n",
              "      <td>0</td>\n",
              "      <td>0</td>\n",
              "      <td>0</td>\n",
              "      <td>0</td>\n",
              "      <td>0</td>\n",
              "      <td>0</td>\n",
              "      <td>0</td>\n",
              "      <td>0</td>\n",
              "      <td>0</td>\n",
              "      <td>0</td>\n",
              "      <td>0</td>\n",
              "      <td>0</td>\n",
              "      <td>0</td>\n",
              "      <td>0</td>\n",
              "      <td>0</td>\n",
              "      <td>0</td>\n",
              "      <td>0</td>\n",
              "      <td>0</td>\n",
              "      <td>0</td>\n",
              "      <td>0</td>\n",
              "      <td>0</td>\n",
              "      <td>0</td>\n",
              "      <td>0</td>\n",
              "      <td>0</td>\n",
              "    </tr>\n",
              "    <tr>\n",
              "      <th>102208</th>\n",
              "      <td>0.386023</td>\n",
              "      <td>0.013926</td>\n",
              "      <td>0.586744</td>\n",
              "      <td>0.460992</td>\n",
              "      <td>0.381679</td>\n",
              "      <td>0.589388</td>\n",
              "      <td>0.225865</td>\n",
              "      <td>0.877533</td>\n",
              "      <td>0.000213</td>\n",
              "      <td>0.000176</td>\n",
              "      <td>0.0</td>\n",
              "      <td>0.000000</td>\n",
              "      <td>0.000000</td>\n",
              "      <td>0.000444</td>\n",
              "      <td>0.000000</td>\n",
              "      <td>0.0000</td>\n",
              "      <td>0.004762</td>\n",
              "      <td>0.000000</td>\n",
              "      <td>0.000314</td>\n",
              "      <td>0.000000</td>\n",
              "      <td>0.000343</td>\n",
              "      <td>0.000700</td>\n",
              "      <td>0.027489</td>\n",
              "      <td>0.287333</td>\n",
              "      <td>0.526455</td>\n",
              "      <td>0.517167</td>\n",
              "      <td>0.398642</td>\n",
              "      <td>0.956897</td>\n",
              "      <td>0.694597</td>\n",
              "      <td>0.103407</td>\n",
              "      <td>0.167129</td>\n",
              "      <td>0.051233</td>\n",
              "      <td>0.401198</td>\n",
              "      <td>0.186992</td>\n",
              "      <td>0.114973</td>\n",
              "      <td>0.194361</td>\n",
              "      <td>0.096386</td>\n",
              "      <td>0.140401</td>\n",
              "      <td>0.43662</td>\n",
              "      <td>0.281007</td>\n",
              "      <td>...</td>\n",
              "      <td>0</td>\n",
              "      <td>0</td>\n",
              "      <td>0</td>\n",
              "      <td>0</td>\n",
              "      <td>0</td>\n",
              "      <td>0</td>\n",
              "      <td>0</td>\n",
              "      <td>0</td>\n",
              "      <td>0</td>\n",
              "      <td>0</td>\n",
              "      <td>0</td>\n",
              "      <td>0</td>\n",
              "      <td>0</td>\n",
              "      <td>0</td>\n",
              "      <td>0</td>\n",
              "      <td>0</td>\n",
              "      <td>0</td>\n",
              "      <td>0</td>\n",
              "      <td>0</td>\n",
              "      <td>0</td>\n",
              "      <td>0</td>\n",
              "      <td>0</td>\n",
              "      <td>0</td>\n",
              "      <td>0</td>\n",
              "      <td>0</td>\n",
              "      <td>0</td>\n",
              "      <td>0</td>\n",
              "      <td>0</td>\n",
              "      <td>0</td>\n",
              "      <td>0</td>\n",
              "      <td>0</td>\n",
              "      <td>0</td>\n",
              "      <td>0</td>\n",
              "      <td>0</td>\n",
              "      <td>0</td>\n",
              "      <td>0</td>\n",
              "      <td>0</td>\n",
              "      <td>0</td>\n",
              "      <td>0</td>\n",
              "      <td>0</td>\n",
              "    </tr>\n",
              "    <tr>\n",
              "      <th>17463</th>\n",
              "      <td>0.077140</td>\n",
              "      <td>0.003656</td>\n",
              "      <td>0.456024</td>\n",
              "      <td>0.604059</td>\n",
              "      <td>0.381679</td>\n",
              "      <td>0.589388</td>\n",
              "      <td>0.273687</td>\n",
              "      <td>0.877533</td>\n",
              "      <td>0.000213</td>\n",
              "      <td>0.000351</td>\n",
              "      <td>0.0</td>\n",
              "      <td>0.000000</td>\n",
              "      <td>0.000000</td>\n",
              "      <td>0.000444</td>\n",
              "      <td>0.000000</td>\n",
              "      <td>0.0000</td>\n",
              "      <td>0.004762</td>\n",
              "      <td>0.000000</td>\n",
              "      <td>0.000314</td>\n",
              "      <td>0.000000</td>\n",
              "      <td>0.002742</td>\n",
              "      <td>0.000700</td>\n",
              "      <td>0.746235</td>\n",
              "      <td>0.287333</td>\n",
              "      <td>0.659715</td>\n",
              "      <td>0.517167</td>\n",
              "      <td>0.398642</td>\n",
              "      <td>0.956897</td>\n",
              "      <td>0.694597</td>\n",
              "      <td>0.103407</td>\n",
              "      <td>0.167129</td>\n",
              "      <td>0.051233</td>\n",
              "      <td>0.401198</td>\n",
              "      <td>0.186992</td>\n",
              "      <td>0.114973</td>\n",
              "      <td>0.194361</td>\n",
              "      <td>0.096386</td>\n",
              "      <td>0.140401</td>\n",
              "      <td>0.43662</td>\n",
              "      <td>0.281007</td>\n",
              "      <td>...</td>\n",
              "      <td>0</td>\n",
              "      <td>0</td>\n",
              "      <td>0</td>\n",
              "      <td>0</td>\n",
              "      <td>0</td>\n",
              "      <td>0</td>\n",
              "      <td>0</td>\n",
              "      <td>0</td>\n",
              "      <td>0</td>\n",
              "      <td>0</td>\n",
              "      <td>0</td>\n",
              "      <td>0</td>\n",
              "      <td>0</td>\n",
              "      <td>0</td>\n",
              "      <td>0</td>\n",
              "      <td>0</td>\n",
              "      <td>0</td>\n",
              "      <td>0</td>\n",
              "      <td>0</td>\n",
              "      <td>0</td>\n",
              "      <td>0</td>\n",
              "      <td>0</td>\n",
              "      <td>0</td>\n",
              "      <td>0</td>\n",
              "      <td>0</td>\n",
              "      <td>0</td>\n",
              "      <td>0</td>\n",
              "      <td>0</td>\n",
              "      <td>0</td>\n",
              "      <td>0</td>\n",
              "      <td>0</td>\n",
              "      <td>0</td>\n",
              "      <td>0</td>\n",
              "      <td>0</td>\n",
              "      <td>0</td>\n",
              "      <td>0</td>\n",
              "      <td>0</td>\n",
              "      <td>0</td>\n",
              "      <td>0</td>\n",
              "      <td>0</td>\n",
              "    </tr>\n",
              "    <tr>\n",
              "      <th>10131</th>\n",
              "      <td>0.044958</td>\n",
              "      <td>0.001871</td>\n",
              "      <td>0.672281</td>\n",
              "      <td>0.688839</td>\n",
              "      <td>0.381679</td>\n",
              "      <td>0.589388</td>\n",
              "      <td>0.418991</td>\n",
              "      <td>0.877533</td>\n",
              "      <td>0.000213</td>\n",
              "      <td>0.000351</td>\n",
              "      <td>0.0</td>\n",
              "      <td>0.000000</td>\n",
              "      <td>0.000000</td>\n",
              "      <td>0.000444</td>\n",
              "      <td>0.000000</td>\n",
              "      <td>0.0000</td>\n",
              "      <td>0.004762</td>\n",
              "      <td>0.000000</td>\n",
              "      <td>0.000314</td>\n",
              "      <td>0.000000</td>\n",
              "      <td>0.006511</td>\n",
              "      <td>0.000700</td>\n",
              "      <td>0.762950</td>\n",
              "      <td>0.336290</td>\n",
              "      <td>0.578601</td>\n",
              "      <td>0.517167</td>\n",
              "      <td>0.398642</td>\n",
              "      <td>0.956897</td>\n",
              "      <td>0.694597</td>\n",
              "      <td>0.103407</td>\n",
              "      <td>0.167129</td>\n",
              "      <td>0.051233</td>\n",
              "      <td>0.401198</td>\n",
              "      <td>0.186992</td>\n",
              "      <td>0.114973</td>\n",
              "      <td>0.194361</td>\n",
              "      <td>0.096386</td>\n",
              "      <td>0.140401</td>\n",
              "      <td>0.43662</td>\n",
              "      <td>0.281007</td>\n",
              "      <td>...</td>\n",
              "      <td>0</td>\n",
              "      <td>0</td>\n",
              "      <td>0</td>\n",
              "      <td>0</td>\n",
              "      <td>0</td>\n",
              "      <td>0</td>\n",
              "      <td>0</td>\n",
              "      <td>0</td>\n",
              "      <td>0</td>\n",
              "      <td>0</td>\n",
              "      <td>0</td>\n",
              "      <td>0</td>\n",
              "      <td>0</td>\n",
              "      <td>0</td>\n",
              "      <td>0</td>\n",
              "      <td>0</td>\n",
              "      <td>0</td>\n",
              "      <td>0</td>\n",
              "      <td>0</td>\n",
              "      <td>0</td>\n",
              "      <td>0</td>\n",
              "      <td>0</td>\n",
              "      <td>0</td>\n",
              "      <td>0</td>\n",
              "      <td>0</td>\n",
              "      <td>0</td>\n",
              "      <td>0</td>\n",
              "      <td>0</td>\n",
              "      <td>0</td>\n",
              "      <td>0</td>\n",
              "      <td>0</td>\n",
              "      <td>0</td>\n",
              "      <td>0</td>\n",
              "      <td>0</td>\n",
              "      <td>0</td>\n",
              "      <td>0</td>\n",
              "      <td>0</td>\n",
              "      <td>0</td>\n",
              "      <td>0</td>\n",
              "      <td>0</td>\n",
              "    </tr>\n",
              "    <tr>\n",
              "      <th>...</th>\n",
              "      <td>...</td>\n",
              "      <td>...</td>\n",
              "      <td>...</td>\n",
              "      <td>...</td>\n",
              "      <td>...</td>\n",
              "      <td>...</td>\n",
              "      <td>...</td>\n",
              "      <td>...</td>\n",
              "      <td>...</td>\n",
              "      <td>...</td>\n",
              "      <td>...</td>\n",
              "      <td>...</td>\n",
              "      <td>...</td>\n",
              "      <td>...</td>\n",
              "      <td>...</td>\n",
              "      <td>...</td>\n",
              "      <td>...</td>\n",
              "      <td>...</td>\n",
              "      <td>...</td>\n",
              "      <td>...</td>\n",
              "      <td>...</td>\n",
              "      <td>...</td>\n",
              "      <td>...</td>\n",
              "      <td>...</td>\n",
              "      <td>...</td>\n",
              "      <td>...</td>\n",
              "      <td>...</td>\n",
              "      <td>...</td>\n",
              "      <td>...</td>\n",
              "      <td>...</td>\n",
              "      <td>...</td>\n",
              "      <td>...</td>\n",
              "      <td>...</td>\n",
              "      <td>...</td>\n",
              "      <td>...</td>\n",
              "      <td>...</td>\n",
              "      <td>...</td>\n",
              "      <td>...</td>\n",
              "      <td>...</td>\n",
              "      <td>...</td>\n",
              "      <td>...</td>\n",
              "      <td>...</td>\n",
              "      <td>...</td>\n",
              "      <td>...</td>\n",
              "      <td>...</td>\n",
              "      <td>...</td>\n",
              "      <td>...</td>\n",
              "      <td>...</td>\n",
              "      <td>...</td>\n",
              "      <td>...</td>\n",
              "      <td>...</td>\n",
              "      <td>...</td>\n",
              "      <td>...</td>\n",
              "      <td>...</td>\n",
              "      <td>...</td>\n",
              "      <td>...</td>\n",
              "      <td>...</td>\n",
              "      <td>...</td>\n",
              "      <td>...</td>\n",
              "      <td>...</td>\n",
              "      <td>...</td>\n",
              "      <td>...</td>\n",
              "      <td>...</td>\n",
              "      <td>...</td>\n",
              "      <td>...</td>\n",
              "      <td>...</td>\n",
              "      <td>...</td>\n",
              "      <td>...</td>\n",
              "      <td>...</td>\n",
              "      <td>...</td>\n",
              "      <td>...</td>\n",
              "      <td>...</td>\n",
              "      <td>...</td>\n",
              "      <td>...</td>\n",
              "      <td>...</td>\n",
              "      <td>...</td>\n",
              "      <td>...</td>\n",
              "      <td>...</td>\n",
              "      <td>...</td>\n",
              "      <td>...</td>\n",
              "      <td>...</td>\n",
              "    </tr>\n",
              "    <tr>\n",
              "      <th>214743</th>\n",
              "      <td>0.963473</td>\n",
              "      <td>0.003372</td>\n",
              "      <td>0.543056</td>\n",
              "      <td>0.688839</td>\n",
              "      <td>0.381679</td>\n",
              "      <td>0.589388</td>\n",
              "      <td>0.341741</td>\n",
              "      <td>0.877533</td>\n",
              "      <td>0.000213</td>\n",
              "      <td>0.000351</td>\n",
              "      <td>0.0</td>\n",
              "      <td>0.000000</td>\n",
              "      <td>0.002865</td>\n",
              "      <td>0.000444</td>\n",
              "      <td>0.000000</td>\n",
              "      <td>0.0000</td>\n",
              "      <td>0.009524</td>\n",
              "      <td>0.000000</td>\n",
              "      <td>0.000314</td>\n",
              "      <td>0.000000</td>\n",
              "      <td>0.003427</td>\n",
              "      <td>0.000700</td>\n",
              "      <td>0.527420</td>\n",
              "      <td>0.368475</td>\n",
              "      <td>0.619427</td>\n",
              "      <td>0.517167</td>\n",
              "      <td>0.398642</td>\n",
              "      <td>0.956897</td>\n",
              "      <td>0.694597</td>\n",
              "      <td>0.103407</td>\n",
              "      <td>0.167129</td>\n",
              "      <td>0.051233</td>\n",
              "      <td>0.401198</td>\n",
              "      <td>0.186992</td>\n",
              "      <td>0.114973</td>\n",
              "      <td>0.194361</td>\n",
              "      <td>0.096386</td>\n",
              "      <td>0.140401</td>\n",
              "      <td>0.43662</td>\n",
              "      <td>0.281007</td>\n",
              "      <td>...</td>\n",
              "      <td>0</td>\n",
              "      <td>0</td>\n",
              "      <td>0</td>\n",
              "      <td>0</td>\n",
              "      <td>0</td>\n",
              "      <td>0</td>\n",
              "      <td>0</td>\n",
              "      <td>0</td>\n",
              "      <td>0</td>\n",
              "      <td>0</td>\n",
              "      <td>0</td>\n",
              "      <td>0</td>\n",
              "      <td>0</td>\n",
              "      <td>0</td>\n",
              "      <td>0</td>\n",
              "      <td>0</td>\n",
              "      <td>0</td>\n",
              "      <td>0</td>\n",
              "      <td>0</td>\n",
              "      <td>0</td>\n",
              "      <td>0</td>\n",
              "      <td>0</td>\n",
              "      <td>0</td>\n",
              "      <td>0</td>\n",
              "      <td>0</td>\n",
              "      <td>0</td>\n",
              "      <td>0</td>\n",
              "      <td>0</td>\n",
              "      <td>0</td>\n",
              "      <td>0</td>\n",
              "      <td>0</td>\n",
              "      <td>0</td>\n",
              "      <td>0</td>\n",
              "      <td>0</td>\n",
              "      <td>0</td>\n",
              "      <td>0</td>\n",
              "      <td>0</td>\n",
              "      <td>0</td>\n",
              "      <td>0</td>\n",
              "      <td>0</td>\n",
              "    </tr>\n",
              "    <tr>\n",
              "      <th>99121</th>\n",
              "      <td>0.373844</td>\n",
              "      <td>0.002403</td>\n",
              "      <td>0.543458</td>\n",
              "      <td>0.460233</td>\n",
              "      <td>0.381679</td>\n",
              "      <td>0.474788</td>\n",
              "      <td>0.274300</td>\n",
              "      <td>0.877533</td>\n",
              "      <td>0.000213</td>\n",
              "      <td>0.000176</td>\n",
              "      <td>0.0</td>\n",
              "      <td>0.000000</td>\n",
              "      <td>0.000000</td>\n",
              "      <td>0.000444</td>\n",
              "      <td>0.000000</td>\n",
              "      <td>0.0000</td>\n",
              "      <td>0.004762</td>\n",
              "      <td>0.000000</td>\n",
              "      <td>0.000314</td>\n",
              "      <td>0.000000</td>\n",
              "      <td>0.000343</td>\n",
              "      <td>0.000700</td>\n",
              "      <td>0.027489</td>\n",
              "      <td>0.287333</td>\n",
              "      <td>0.526455</td>\n",
              "      <td>0.517167</td>\n",
              "      <td>0.398642</td>\n",
              "      <td>0.956897</td>\n",
              "      <td>0.694597</td>\n",
              "      <td>0.103407</td>\n",
              "      <td>0.167129</td>\n",
              "      <td>0.051233</td>\n",
              "      <td>0.401198</td>\n",
              "      <td>0.186992</td>\n",
              "      <td>0.114973</td>\n",
              "      <td>0.194361</td>\n",
              "      <td>0.096386</td>\n",
              "      <td>0.140401</td>\n",
              "      <td>0.43662</td>\n",
              "      <td>0.281007</td>\n",
              "      <td>...</td>\n",
              "      <td>0</td>\n",
              "      <td>0</td>\n",
              "      <td>0</td>\n",
              "      <td>0</td>\n",
              "      <td>0</td>\n",
              "      <td>0</td>\n",
              "      <td>0</td>\n",
              "      <td>0</td>\n",
              "      <td>0</td>\n",
              "      <td>0</td>\n",
              "      <td>0</td>\n",
              "      <td>0</td>\n",
              "      <td>0</td>\n",
              "      <td>0</td>\n",
              "      <td>0</td>\n",
              "      <td>0</td>\n",
              "      <td>0</td>\n",
              "      <td>0</td>\n",
              "      <td>0</td>\n",
              "      <td>0</td>\n",
              "      <td>0</td>\n",
              "      <td>0</td>\n",
              "      <td>0</td>\n",
              "      <td>0</td>\n",
              "      <td>0</td>\n",
              "      <td>0</td>\n",
              "      <td>0</td>\n",
              "      <td>0</td>\n",
              "      <td>0</td>\n",
              "      <td>0</td>\n",
              "      <td>0</td>\n",
              "      <td>0</td>\n",
              "      <td>0</td>\n",
              "      <td>0</td>\n",
              "      <td>0</td>\n",
              "      <td>0</td>\n",
              "      <td>0</td>\n",
              "      <td>0</td>\n",
              "      <td>0</td>\n",
              "      <td>0</td>\n",
              "    </tr>\n",
              "    <tr>\n",
              "      <th>181498</th>\n",
              "      <td>0.767206</td>\n",
              "      <td>0.003656</td>\n",
              "      <td>0.338928</td>\n",
              "      <td>0.582864</td>\n",
              "      <td>0.381679</td>\n",
              "      <td>0.585568</td>\n",
              "      <td>0.347872</td>\n",
              "      <td>0.877533</td>\n",
              "      <td>0.000427</td>\n",
              "      <td>0.000351</td>\n",
              "      <td>0.0</td>\n",
              "      <td>0.000000</td>\n",
              "      <td>0.000000</td>\n",
              "      <td>0.000444</td>\n",
              "      <td>0.000000</td>\n",
              "      <td>0.0000</td>\n",
              "      <td>0.004762</td>\n",
              "      <td>0.000000</td>\n",
              "      <td>0.000314</td>\n",
              "      <td>0.000000</td>\n",
              "      <td>0.006169</td>\n",
              "      <td>0.000700</td>\n",
              "      <td>0.769029</td>\n",
              "      <td>0.382528</td>\n",
              "      <td>0.663941</td>\n",
              "      <td>0.409871</td>\n",
              "      <td>0.301649</td>\n",
              "      <td>0.956897</td>\n",
              "      <td>0.694597</td>\n",
              "      <td>0.103407</td>\n",
              "      <td>0.167129</td>\n",
              "      <td>0.051233</td>\n",
              "      <td>0.401198</td>\n",
              "      <td>0.186992</td>\n",
              "      <td>0.114973</td>\n",
              "      <td>0.194361</td>\n",
              "      <td>0.096386</td>\n",
              "      <td>0.140401</td>\n",
              "      <td>0.43662</td>\n",
              "      <td>0.281007</td>\n",
              "      <td>...</td>\n",
              "      <td>0</td>\n",
              "      <td>0</td>\n",
              "      <td>0</td>\n",
              "      <td>0</td>\n",
              "      <td>0</td>\n",
              "      <td>0</td>\n",
              "      <td>0</td>\n",
              "      <td>0</td>\n",
              "      <td>0</td>\n",
              "      <td>0</td>\n",
              "      <td>0</td>\n",
              "      <td>0</td>\n",
              "      <td>0</td>\n",
              "      <td>0</td>\n",
              "      <td>0</td>\n",
              "      <td>0</td>\n",
              "      <td>0</td>\n",
              "      <td>0</td>\n",
              "      <td>0</td>\n",
              "      <td>0</td>\n",
              "      <td>0</td>\n",
              "      <td>0</td>\n",
              "      <td>0</td>\n",
              "      <td>0</td>\n",
              "      <td>0</td>\n",
              "      <td>0</td>\n",
              "      <td>0</td>\n",
              "      <td>0</td>\n",
              "      <td>0</td>\n",
              "      <td>0</td>\n",
              "      <td>0</td>\n",
              "      <td>0</td>\n",
              "      <td>0</td>\n",
              "      <td>0</td>\n",
              "      <td>0</td>\n",
              "      <td>0</td>\n",
              "      <td>0</td>\n",
              "      <td>0</td>\n",
              "      <td>0</td>\n",
              "      <td>0</td>\n",
              "    </tr>\n",
              "    <tr>\n",
              "      <th>200841</th>\n",
              "      <td>0.879980</td>\n",
              "      <td>0.004205</td>\n",
              "      <td>0.855656</td>\n",
              "      <td>0.785983</td>\n",
              "      <td>0.648855</td>\n",
              "      <td>0.421308</td>\n",
              "      <td>0.327817</td>\n",
              "      <td>0.877541</td>\n",
              "      <td>0.000213</td>\n",
              "      <td>0.000176</td>\n",
              "      <td>0.0</td>\n",
              "      <td>0.000444</td>\n",
              "      <td>0.000000</td>\n",
              "      <td>0.000444</td>\n",
              "      <td>0.000443</td>\n",
              "      <td>0.0003</td>\n",
              "      <td>0.000000</td>\n",
              "      <td>0.000307</td>\n",
              "      <td>0.000314</td>\n",
              "      <td>0.000314</td>\n",
              "      <td>0.000343</td>\n",
              "      <td>0.000700</td>\n",
              "      <td>0.027489</td>\n",
              "      <td>0.287333</td>\n",
              "      <td>0.526455</td>\n",
              "      <td>0.409871</td>\n",
              "      <td>0.301649</td>\n",
              "      <td>0.956897</td>\n",
              "      <td>0.720700</td>\n",
              "      <td>0.163180</td>\n",
              "      <td>0.222654</td>\n",
              "      <td>0.114485</td>\n",
              "      <td>0.401198</td>\n",
              "      <td>0.186992</td>\n",
              "      <td>0.248663</td>\n",
              "      <td>0.295065</td>\n",
              "      <td>0.096386</td>\n",
              "      <td>0.140401</td>\n",
              "      <td>0.43662</td>\n",
              "      <td>0.281007</td>\n",
              "      <td>...</td>\n",
              "      <td>0</td>\n",
              "      <td>0</td>\n",
              "      <td>0</td>\n",
              "      <td>0</td>\n",
              "      <td>0</td>\n",
              "      <td>0</td>\n",
              "      <td>0</td>\n",
              "      <td>0</td>\n",
              "      <td>0</td>\n",
              "      <td>0</td>\n",
              "      <td>0</td>\n",
              "      <td>0</td>\n",
              "      <td>0</td>\n",
              "      <td>0</td>\n",
              "      <td>0</td>\n",
              "      <td>0</td>\n",
              "      <td>0</td>\n",
              "      <td>0</td>\n",
              "      <td>0</td>\n",
              "      <td>0</td>\n",
              "      <td>0</td>\n",
              "      <td>0</td>\n",
              "      <td>0</td>\n",
              "      <td>0</td>\n",
              "      <td>0</td>\n",
              "      <td>0</td>\n",
              "      <td>0</td>\n",
              "      <td>0</td>\n",
              "      <td>0</td>\n",
              "      <td>0</td>\n",
              "      <td>0</td>\n",
              "      <td>0</td>\n",
              "      <td>0</td>\n",
              "      <td>0</td>\n",
              "      <td>0</td>\n",
              "      <td>0</td>\n",
              "      <td>0</td>\n",
              "      <td>0</td>\n",
              "      <td>0</td>\n",
              "      <td>0</td>\n",
              "    </tr>\n",
              "    <tr>\n",
              "      <th>179134</th>\n",
              "      <td>0.750503</td>\n",
              "      <td>0.001902</td>\n",
              "      <td>0.120372</td>\n",
              "      <td>0.310861</td>\n",
              "      <td>0.381679</td>\n",
              "      <td>0.589388</td>\n",
              "      <td>0.265717</td>\n",
              "      <td>0.877533</td>\n",
              "      <td>0.000854</td>\n",
              "      <td>0.001230</td>\n",
              "      <td>0.0</td>\n",
              "      <td>0.000000</td>\n",
              "      <td>0.022923</td>\n",
              "      <td>0.000888</td>\n",
              "      <td>0.000000</td>\n",
              "      <td>0.0000</td>\n",
              "      <td>0.019048</td>\n",
              "      <td>0.000000</td>\n",
              "      <td>0.000627</td>\n",
              "      <td>0.000000</td>\n",
              "      <td>0.020219</td>\n",
              "      <td>0.002799</td>\n",
              "      <td>0.117142</td>\n",
              "      <td>0.324958</td>\n",
              "      <td>0.618582</td>\n",
              "      <td>0.517167</td>\n",
              "      <td>0.398642</td>\n",
              "      <td>0.956897</td>\n",
              "      <td>0.694597</td>\n",
              "      <td>0.103407</td>\n",
              "      <td>0.167129</td>\n",
              "      <td>0.051233</td>\n",
              "      <td>0.401198</td>\n",
              "      <td>0.245064</td>\n",
              "      <td>0.114973</td>\n",
              "      <td>0.194361</td>\n",
              "      <td>0.096386</td>\n",
              "      <td>0.140401</td>\n",
              "      <td>0.43662</td>\n",
              "      <td>0.281007</td>\n",
              "      <td>...</td>\n",
              "      <td>0</td>\n",
              "      <td>0</td>\n",
              "      <td>0</td>\n",
              "      <td>0</td>\n",
              "      <td>0</td>\n",
              "      <td>0</td>\n",
              "      <td>0</td>\n",
              "      <td>0</td>\n",
              "      <td>0</td>\n",
              "      <td>0</td>\n",
              "      <td>0</td>\n",
              "      <td>0</td>\n",
              "      <td>0</td>\n",
              "      <td>0</td>\n",
              "      <td>0</td>\n",
              "      <td>0</td>\n",
              "      <td>0</td>\n",
              "      <td>0</td>\n",
              "      <td>0</td>\n",
              "      <td>0</td>\n",
              "      <td>0</td>\n",
              "      <td>0</td>\n",
              "      <td>0</td>\n",
              "      <td>0</td>\n",
              "      <td>0</td>\n",
              "      <td>0</td>\n",
              "      <td>0</td>\n",
              "      <td>0</td>\n",
              "      <td>0</td>\n",
              "      <td>0</td>\n",
              "      <td>0</td>\n",
              "      <td>0</td>\n",
              "      <td>0</td>\n",
              "      <td>0</td>\n",
              "      <td>0</td>\n",
              "      <td>0</td>\n",
              "      <td>0</td>\n",
              "      <td>0</td>\n",
              "      <td>0</td>\n",
              "      <td>0</td>\n",
              "    </tr>\n",
              "  </tbody>\n",
              "</table>\n",
              "<p>128360 rows × 882 columns</p>\n",
              "</div>"
            ],
            "text/plain": [
              "        TransactionDT  TransactionAmt  ...  screen_h_990  screen_h_992\n",
              "134079       0.507657        0.001149  ...             0             0\n",
              "131824       0.494994        0.006630  ...             0             0\n",
              "102208       0.386023        0.013926  ...             0             0\n",
              "17463        0.077140        0.003656  ...             0             0\n",
              "10131        0.044958        0.001871  ...             0             0\n",
              "...               ...             ...  ...           ...           ...\n",
              "214743       0.963473        0.003372  ...             0             0\n",
              "99121        0.373844        0.002403  ...             0             0\n",
              "181498       0.767206        0.003656  ...             0             0\n",
              "200841       0.879980        0.004205  ...             0             0\n",
              "179134       0.750503        0.001902  ...             0             0\n",
              "\n",
              "[128360 rows x 882 columns]"
            ]
          },
          "metadata": {
            "tags": []
          },
          "execution_count": 47
        }
      ]
    },
    {
      "cell_type": "markdown",
      "metadata": {
        "id": "GR9t7x9nCyh5"
      },
      "source": [
        "### Scelta della soglia"
      ]
    },
    {
      "cell_type": "markdown",
      "metadata": {
        "id": "ellhVkSE7yCT"
      },
      "source": [
        "Calcolo la ricostruzione dei validation set fatta dall'autoencoder. "
      ]
    },
    {
      "cell_type": "markdown",
      "metadata": {
        "id": "YdKKRbGx75e6"
      },
      "source": [
        "Calcolo il MSE per ogni feature vector e costruisco due dataset che poi unirò. "
      ]
    },
    {
      "cell_type": "code",
      "metadata": {
        "id": "bfIcyPZlKGdT"
      },
      "source": [
        "mse_df = mf.make_df(X_val, fraud_train, autoencoder)"
      ],
      "execution_count": null,
      "outputs": []
    },
    {
      "cell_type": "markdown",
      "metadata": {
        "id": "p8mD5OG-EsjL"
      },
      "source": [
        "hline: https://stackoverflow.com/questions/60309406/draw-horizontal-line-on-facetplot-seaborn-relplot"
      ]
    },
    {
      "cell_type": "code",
      "metadata": {
        "id": "fC-Gsdat21Ks",
        "colab": {
          "base_uri": "https://localhost:8080/",
          "height": 279
        },
        "outputId": "f14772de-915f-4cea-9093-0bd67d5f3918"
      },
      "source": [
        "plot = sns.boxplot(x='anomaly', y='mse', hue='anomaly', data = mse_df)\r\n",
        "soglia = 0.0015\r\n",
        "plot.axhline(soglia, ls='--', linewidth=1, color='red')\r\n",
        "\r\n",
        "plt.show()"
      ],
      "execution_count": null,
      "outputs": [
        {
          "output_type": "display_data",
          "data": {
            "image/png": "[encoded data removed]",
            "text/plain": [
              "<Figure size 432x288 with 1 Axes>"
            ]
          },
          "metadata": {
            "tags": [],
            "needs_background": "light"
          }
        }
      ]
    },
    {
      "cell_type": "code",
      "metadata": {
        "colab": {
          "base_uri": "https://localhost:8080/",
          "height": 386
        },
        "id": "aT6O8AMsDhFP",
        "outputId": "525f2641-937a-4190-f0ca-812fe6e59410"
      },
      "source": [
        "sns.displot(mse_df, x=\"mse\", hue=\"anomaly\", stat=\"probability\", common_norm=False, multiple = 'dodge')"
      ],
      "execution_count": null,
      "outputs": [
        {
          "output_type": "execute_result",
          "data": {
            "text/plain": [
              "<seaborn.axisgrid.FacetGrid at 0x7fd140096278>"
            ]
          },
          "metadata": {
            "tags": []
          },
          "execution_count": 18
        },
        {
          "output_type": "display_data",
          "data": {
            "image/png": "[encoded data removed]",
            "text/plain": [
              "<Figure size 411.875x360 with 1 Axes>"
            ]
          },
          "metadata": {
            "tags": [],
            "needs_background": "light"
          }
        }
      ]
    },
    {
      "cell_type": "code",
      "metadata": {
        "colab": {
          "base_uri": "https://localhost:8080/",
          "height": 386
        },
        "id": "f--G6NfMEEPt",
        "outputId": "8a163b6e-a94a-46d6-8539-3c3d9ffce0f2"
      },
      "source": [
        "sns.displot(mse_df, x=\"mse\", hue=\"anomaly\", kind=\"ecdf\")"
      ],
      "execution_count": null,
      "outputs": [
        {
          "output_type": "execute_result",
          "data": {
            "text/plain": [
              "<seaborn.axisgrid.FacetGrid at 0x7fd1400dd4e0>"
            ]
          },
          "metadata": {
            "tags": []
          },
          "execution_count": 19
        },
        {
          "output_type": "display_data",
          "data": {
            "image/png": "[encoded data removed]",
            "text/plain": [
              "<Figure size 411.875x360 with 1 Axes>"
            ]
          },
          "metadata": {
            "tags": [],
            "needs_background": "light"
          }
        }
      ]
    },
    {
      "cell_type": "markdown",
      "metadata": {
        "id": "LKq698g-ePWL"
      },
      "source": [
        "Pandas quantile: https://pandas.pydata.org/pandas-docs/stable/reference/api/pandas.DataFrame.quantile.html"
      ]
    },
    {
      "cell_type": "code",
      "metadata": {
        "colab": {
          "base_uri": "https://localhost:8080/"
        },
        "id": "PfCA-Zpm9R6e",
        "outputId": "ffd70ea9-a7d4-4036-de18-65460cca0822"
      },
      "source": [
        "print(mse_df[mse_df['anomaly'] == 0].quantile(0.5)[0].round(5))\r\n",
        "print(mse_df[mse_df['anomaly'] == 1].quantile(0.3)[0].round(5))"
      ],
      "execution_count": null,
      "outputs": [
        {
          "output_type": "stream",
          "text": [
            "0.2922\n",
            "0.06051\n"
          ],
          "name": "stdout"
        }
      ]
    },
    {
      "cell_type": "code",
      "metadata": {
        "id": "XeCofPUZIJZY"
      },
      "source": [
        "soglia = mse_df[mse_df['anomaly'] == 0].quantile(0.5)[0].round(5)"
      ],
      "execution_count": null,
      "outputs": []
    },
    {
      "cell_type": "markdown",
      "metadata": {
        "id": "HQy_ZoUBJgRH"
      },
      "source": [
        "# Performance measure"
      ]
    },
    {
      "cell_type": "code",
      "metadata": {
        "id": "dD2YPO0v-tpR",
        "colab": {
          "base_uri": "https://localhost:8080/",
          "height": 381
        },
        "outputId": "50c15aff-7f8a-427d-ba49-4f8952638aac"
      },
      "source": [
        "conf_matrix, recall, precision, f1 = mf.performance_autoencoder(X_test, fraud_test, autoencoder, soglia)"
      ],
      "execution_count": null,
      "outputs": [
        {
          "output_type": "stream",
          "text": [
            "Recall:  0.5021209713230654\n",
            "Average Precision:  0.031242360683226594\n",
            "F1 score:  0.3611922317947061\n",
            "[[21575 21212]\n",
            " [  687   687]]\n",
            "AUC:  0.5021209713230654\n"
          ],
          "name": "stdout"
        },
        {
          "output_type": "display_data",
          "data": {
            "image/png": "[encoded data removed]",
            "text/plain": [
              "<Figure size 432x288 with 1 Axes>"
            ]
          },
          "metadata": {
            "tags": [],
            "needs_background": "light"
          }
        }
      ]
    }
  ]
}