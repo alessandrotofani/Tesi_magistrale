{
  "nbformat": 4,
  "nbformat_minor": 0,
  "metadata": {
    "colab": {
      "name": "6_Federated.ipynb",
      "provenance": [],
      "authorship_tag": "ABX9TyP3UfHNbqef0R0105JVEk6F",
      "include_colab_link": true
    },
    "kernelspec": {
      "name": "python3",
      "display_name": "Python 3"
    },
    "accelerator": "GPU"
  },
  "cells": [
    {
      "cell_type": "markdown",
      "metadata": {
        "id": "view-in-github",
        "colab_type": "text"
      },
      "source": [
        "<a href=\"https://colab.research.google.com/github/alessandrotofani/Tesi_magistrale/blob/master/6_Federated.ipynb\" target=\"_parent\"><img src=\"https://colab.research.google.com/assets/colab-badge.svg\" alt=\"Open In Colab\"/></a>"
      ]
    },
    {
      "cell_type": "markdown",
      "metadata": {
        "id": "2XuZ_oMl43ft"
      },
      "source": [
        "Overview: https://www.tensorflow.org/federated\r\n",
        "\r\n",
        "Image classification tutorial: https://www.tensorflow.org/federated/tutorials/federated_learning_for_image_classification"
      ]
    },
    {
      "cell_type": "markdown",
      "metadata": {
        "id": "qOKJPHxH4j9j"
      },
      "source": [
        "# Installation"
      ]
    },
    {
      "cell_type": "code",
      "metadata": {
        "colab": {
          "base_uri": "https://localhost:8080/"
        },
        "id": "lgkJJpzD4gVs",
        "outputId": "b909ebd6-b929-41a5-8db2-acd165dbb643"
      },
      "source": [
        "!pip install --quiet tensorflow==2.3.0\r\n",
        "!pip install --quiet tensorflow_federated==0.17.0\r\n",
        "!pip install --quiet --upgrade nest_asyncio"
      ],
      "execution_count": 1,
      "outputs": [
        {
          "output_type": "stream",
          "text": [
            "\u001b[K     |████████████████████████████████| 320.4MB 56kB/s \n",
            "\u001b[K     |████████████████████████████████| 20.1MB 74.8MB/s \n",
            "\u001b[K     |████████████████████████████████| 460kB 53.1MB/s \n",
            "\u001b[31mERROR: datascience 0.10.6 has requirement folium==0.2.1, but you'll have folium 0.8.3 which is incompatible.\u001b[0m\n",
            "\u001b[31mERROR: albumentations 0.1.12 has requirement imgaug<0.2.7,>=0.2.5, but you'll have imgaug 0.2.9 which is incompatible.\u001b[0m\n",
            "\u001b[K     |████████████████████████████████| 522kB 8.5MB/s \n",
            "\u001b[K     |████████████████████████████████| 1.1MB 14.5MB/s \n",
            "\u001b[K     |████████████████████████████████| 153kB 34.3MB/s \n",
            "\u001b[K     |████████████████████████████████| 3.0MB 29.4MB/s \n",
            "\u001b[K     |████████████████████████████████| 174kB 48.1MB/s \n",
            "\u001b[K     |████████████████████████████████| 112kB 53.2MB/s \n",
            "\u001b[?25h  Building wheel for absl-py (setup.py) ... \u001b[?25l\u001b[?25hdone\n",
            "\u001b[31mERROR: datascience 0.10.6 has requirement folium==0.2.1, but you'll have folium 0.8.3 which is incompatible.\u001b[0m\n",
            "\u001b[31mERROR: nbclient 0.5.1 has requirement jupyter-client>=6.1.5, but you'll have jupyter-client 5.3.5 which is incompatible.\u001b[0m\n"
          ],
          "name": "stdout"
        }
      ]
    },
    {
      "cell_type": "code",
      "metadata": {
        "id": "C6Oguz1e4p29"
      },
      "source": [
        "import nest_asyncio\r\n",
        "nest_asyncio.apply()\r\n",
        "%load_ext tensorboard"
      ],
      "execution_count": 2,
      "outputs": []
    },
    {
      "cell_type": "code",
      "metadata": {
        "id": "0u_qzOek4tlY"
      },
      "source": [
        "import collections\r\n",
        "import numpy as np\r\n",
        "import tensorflow as tf\r\n",
        "import tensorflow_federated as tff\r\n"
      ],
      "execution_count": 3,
      "outputs": []
    },
    {
      "cell_type": "code",
      "metadata": {
        "colab": {
          "base_uri": "https://localhost:8080/"
        },
        "id": "H2aTM9GP5KxH",
        "outputId": "aea7c093-1dd9-4557-ccd7-c5f916b7d6bc"
      },
      "source": [
        "import tensorflow as tf\r\n",
        "import tensorflow_federated as tff\r\n",
        "\r\n",
        "# Load simulation data.\r\n",
        "source, _ = tff.simulation.datasets.emnist.load_data()\r\n",
        "def client_data(n):\r\n",
        "  return source.create_tf_dataset_for_client(source.client_ids[n]).map(\r\n",
        "      lambda e: (tf.reshape(e['pixels'], [-1]), e['label'])\r\n",
        "  ).repeat(10).batch(20)\r\n",
        "\r\n",
        "# Pick a subset of client devices to participate in training.\r\n",
        "train_data = [client_data(n) for n in range(3)]\r\n",
        "\r\n",
        "# Wrap a Keras model for use with TFF.\r\n",
        "def model_fn():\r\n",
        "  model = tf.keras.models.Sequential([\r\n",
        "      tf.keras.layers.Dense(10, tf.nn.softmax, input_shape=(784,),\r\n",
        "                            kernel_initializer='zeros')\r\n",
        "  ])\r\n",
        "  return tff.learning.from_keras_model(\r\n",
        "      model,\r\n",
        "      input_spec=train_data[0].element_spec,\r\n",
        "      loss=tf.keras.losses.SparseCategoricalCrossentropy(),\r\n",
        "      metrics=[tf.keras.metrics.SparseCategoricalAccuracy()])\r\n",
        "\r\n",
        "# Simulate a few rounds of training with the selected client devices.\r\n",
        "trainer = tff.learning.build_federated_averaging_process(\r\n",
        "  model_fn,\r\n",
        "  client_optimizer_fn=lambda: tf.keras.optimizers.SGD(0.1))\r\n",
        "state = trainer.initialize()\r\n",
        "for _ in range(5):\r\n",
        "  state, metrics = trainer.next(state, train_data)\r\n",
        "  print(metrics['train']['loss'])"
      ],
      "execution_count": 4,
      "outputs": [
        {
          "output_type": "stream",
          "text": [
            "Downloading data from https://storage.googleapis.com/tff-datasets-public/fed_emnist_digitsonly.tar.bz2\n",
            "97402880/97398400 [==============================] - 1s 0us/step\n",
            "11.604351\n",
            "12.113227\n",
            "10.949227\n",
            "10.628151\n",
            "8.89565\n"
          ],
          "name": "stdout"
        }
      ]
    }
  ]
}