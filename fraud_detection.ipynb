{
  "nbformat": 4,
  "nbformat_minor": 0,
  "metadata": {
    "kernelspec": {
      "name": "python3",
      "display_name": "Python 3",
      "language": "python"
    },
    "language_info": {
      "name": "python",
      "version": "3.7.6",
      "mimetype": "text/x-python",
      "codemirror_mode": {
        "name": "ipython",
        "version": 3
      },
      "pygments_lexer": "ipython3",
      "nbconvert_exporter": "python",
      "file_extension": ".py"
    },
    "colab": {
      "name": "fraud_detection.ipynb",
      "provenance": [],
      "include_colab_link": true
    }
  },
  "cells": [
    {
      "cell_type": "markdown",
      "metadata": {
        "id": "view-in-github",
        "colab_type": "text"
      },
      "source": [
        "<a href=\"https://colab.research.google.com/github/alessandrotofani/Tesi_magistrale/blob/master/fraud_detection.ipynb\" target=\"_parent\"><img src=\"https://colab.research.google.com/assets/colab-badge.svg\" alt=\"Open In Colab\"/></a>"
      ]
    },
    {
      "cell_type": "markdown",
      "metadata": {
        "id": "o1vlfmJ5X0h4"
      },
      "source": [
        "# 0. Import e installazione librerie\n",
        "\n",
        "Bisogna aggiungere il drive dove sono i dataset. \n"
      ]
    },
    {
      "cell_type": "code",
      "metadata": {
        "_uuid": "f00914fe-0133-4dc8-8328-ada46990186d",
        "_cell_guid": "536ef7b0-873a-41a4-97e0-9600a3b49601",
        "trusted": true,
        "_kg_hide-output": true,
        "_kg_hide-input": true,
        "id": "dFu77X_AX0iH",
        "colab": {
          "base_uri": "https://localhost:8080/"
        },
        "outputId": "5ee44f76-b79d-4f95-ad0b-e1ed098a951c"
      },
      "source": [
        "import numpy as np # linear algebra\n",
        "import pandas as pd # data processing\n",
        "import matplotlib\n",
        "import matplotlib.pyplot as plt\n",
        "import seaborn as sns\n",
        "import os\n",
        "from google.colab import drive\n",
        "drive.mount('/content/drive')\n",
        "\n",
        "for dirname, _, filenames in os.walk('/content/drive/MyDrive/Tesi_magistrale/Dataset/IEEE'):\n",
        "    for filename in filenames:\n",
        "        print(os.path.join(dirname, filename))"
      ],
      "execution_count": 58,
      "outputs": [
        {
          "output_type": "stream",
          "text": [
            "Drive already mounted at /content/drive; to attempt to forcibly remount, call drive.mount(\"/content/drive\", force_remount=True).\n",
            "/content/drive/MyDrive/Tesi_magistrale/Dataset/IEEE/train_transaction.csv\n",
            "/content/drive/MyDrive/Tesi_magistrale/Dataset/IEEE/train_identity.csv\n",
            "/content/drive/MyDrive/Tesi_magistrale/Dataset/IEEE/Output/original_data.csv\n",
            "/content/drive/MyDrive/Tesi_magistrale/Dataset/IEEE/Output/num_sign_col.txt\n",
            "/content/drive/MyDrive/Tesi_magistrale/Dataset/IEEE/Output/fitted.csv\n",
            "/content/drive/MyDrive/Tesi_magistrale/Dataset/IEEE/Output/num_sign_col_mice.txt\n",
            "/content/drive/MyDrive/Tesi_magistrale/Dataset/IEEE/Output/cat_sign_col.txt\n",
            "/content/drive/MyDrive/Tesi_magistrale/Dataset/IEEE/Output/fitted_old/fitted.csv\n",
            "/content/drive/MyDrive/Tesi_magistrale/Dataset/IEEE/Output/fitted_old/cat_sign_col.txt\n",
            "/content/drive/MyDrive/Tesi_magistrale/Dataset/IEEE/Output/fitted_old/num_sign_col_mice.txt\n",
            "/content/drive/MyDrive/Tesi_magistrale/Dataset/IEEE/Output/fitted_old/readme.txt\n"
          ],
          "name": "stdout"
        }
      ]
    },
    {
      "cell_type": "markdown",
      "metadata": {
        "id": "rO46rSRKX0iI"
      },
      "source": [
        "# 1. Import dataset e descrizione feature\n",
        "\n"
      ]
    },
    {
      "cell_type": "markdown",
      "metadata": {
        "id": "EKaN_rm_ulxg"
      },
      "source": [
        "* TransactionDT: timedelta from a given reference datetime\r\n",
        "\r\n",
        "* TransactionAMT: transaction payment amount in USD\r\n",
        "\r\n",
        "* card4: mastercard, visa and other.\r\n",
        "\r\n",
        "* card6: credit or debit.\r\n",
        "\r\n",
        "* P_ and (R__) emaildomain: purchaser and recipient email domain. Categorical: gmail.com, hotmail.com and others.\r\n",
        "\r\n",
        "ProductCD: product code, the product for each transaction. Categorical. \r\n",
        "\r\n",
        "C1-C14: counting, such as how many addresses are found to be associated with the payment card, etc. The actual meaning is masked.\r\n",
        "\r\n",
        "D1-D15: timedelta, such as days between previous transaction, etc.\r\n",
        "\r\n",
        "M1-M9: match, such as names on card and address, etc. Categorical: T or F.  \r\n",
        "\r\n",
        "Vxxx: Vesta engineered rich features, including ranking, counting, and other entity relations.\r\n",
        "\r\n",
        "* DeviceType: type of device used, mobile or desktop.\r\n",
        "\r\n",
        "* DeviceInfo: info on device.\r\n",
        "\r\n",
        "* id_30: OS name and version.\r\n",
        "\r\n",
        "* id_31: browser name and version.\r\n",
        "\r\n",
        "* id_33: screen size.\r\n",
        "\r\n",
        "id_35 to 38: T or F.\r\n",
        "\r\n",
        "id_34: match_status:1 or 2.\r\n",
        " \r\n",
        "id_15 and 28: New or Found. Maybe Found if a customer is registered in Vesta database. \r\n",
        "\r\n",
        "id_12 and 16: Found or NotFound. \r\n",
        "\r\n",
        "id_27: Null of Found.\r\n",
        "\r\n",
        "Vado ad importare il training set\r\n",
        "\r\n",
        "Unisco i due dataset tramite la funzione `merge`, che li unisce rispetto alla colonna `TransactionID`. \r\n",
        "\r\n",
        "`original_data` conterrà il dataset originale, senza rimpiazzamento dei missing values nè encoding delle features categoriche. \r\n",
        "\r\n",
        "Funzione `merge`: https://stackoverflow.com/questions/41463119/join-two-dataframes-on-common-column-in-python\r\n",
        "\r\n",
        "`to_csv`: https://datatofish.com/export-dataframe-to-csv/"
      ]
    },
    {
      "cell_type": "code",
      "metadata": {
        "trusted": true,
        "id": "Di5qRzKVX0iJ"
      },
      "source": [
        "if not os.path.isfile('/content/drive/MyDrive/Tesi_magistrale/Dataset/IEEE/Output/original_data.csv'):\n",
        "    data_identity = pd.read_csv('/content/drive/MyDrive/Tesi_magistrale/Dataset/IEEE/train_identity.csv')\n",
        "    data_transaction = pd.read_csv('/content/drive/MyDrive/Tesi_magistrale/Dataset/IEEE/train_transaction.csv')\n",
        "    # unisco i due dataframe\n",
        "    data = pd.merge(data_transaction, data_identity, left_on='TransactionID', right_on='TransactionID', how='left')\n",
        "    original_data = data\n",
        "\n",
        "    del data\n",
        "    del data_transaction\n",
        "    del data_identity\n",
        "\n",
        "    original_data.to_csv(r'./original_data.csv')"
      ],
      "execution_count": 59,
      "outputs": []
    },
    {
      "cell_type": "code",
      "metadata": {
        "trusted": true,
        "id": "2pSa0wWuX0iJ"
      },
      "source": [
        "original_data = pd.read_csv('/content/drive/MyDrive/Tesi_magistrale/Dataset/IEEE/Output/original_data.csv')\n",
        "original_data.drop(original_data.columns[original_data.columns.str.contains('unnamed',case = False)],axis = 1, inplace = True)"
      ],
      "execution_count": 60,
      "outputs": []
    },
    {
      "cell_type": "markdown",
      "metadata": {
        "id": "LK23PjHEX0iK"
      },
      "source": [
        "## 1.1 Missing values: MICE method\n",
        "\n",
        "Seleziono i NaN dal dataframe e li conto. \n",
        "\n",
        "Costruisco `nans`, che è un dataframe che contiene (feature, nan_totali). \n",
        "\n",
        "https://stackoverflow.com/questions/28503445/assigning-column-names-to-a-pandas-series\n"
      ]
    },
    {
      "cell_type": "code",
      "metadata": {
        "trusted": true,
        "id": "BGsh5GpjX0iK"
      },
      "source": [
        "nan_values = original_data.isna().sum()\n",
        "nans = pd.DataFrame(nan_values).reset_index()\n",
        "nans.columns = ['feature', 'count']\n",
        "nans = nans[nans['count'] != 0]\n",
        "del nan_values"
      ],
      "execution_count": 61,
      "outputs": []
    },
    {
      "cell_type": "markdown",
      "metadata": {
        "id": "oqr5NcyUX0iK"
      },
      "source": [
        "Plotto i NaN contati per ogni feature. "
      ]
    },
    {
      "cell_type": "code",
      "metadata": {
        "trusted": true,
        "id": "3NfrK2SnX0iL"
      },
      "source": [
        "do = False\n",
        "if do:\n",
        "    i = 0\n",
        "    while i < 404:\n",
        "        sns.catplot(y ='feature', x=\"count\", kind=\"bar\", original_data=nans[i:i + 30])\n",
        "        i += 30\n",
        "    # ax.set(xscale=\"log\")"
      ],
      "execution_count": 62,
      "outputs": []
    },
    {
      "cell_type": "markdown",
      "metadata": {
        "id": "JIRwIcCbX0iL"
      },
      "source": [
        "Faccio il plot dei NaN avendo ordinato le features in modo crescente. (si può migliorare)"
      ]
    },
    {
      "cell_type": "code",
      "metadata": {
        "trusted": true,
        "id": "2gyymE5wX0iL"
      },
      "source": [
        "do = False\n",
        "if do:\n",
        "    nans_sorted = nans['count'].sort_values()\n",
        "    plt.figure(figsize=(20,10))\n",
        "    nans_sorted.plot(kind = 'bar')\n",
        "    plt.show()"
      ],
      "execution_count": 63,
      "outputs": []
    },
    {
      "cell_type": "code",
      "metadata": {
        "trusted": true,
        "id": "pyO3HOD_X0iM"
      },
      "source": [
        "del nans"
      ],
      "execution_count": 64,
      "outputs": []
    },
    {
      "cell_type": "markdown",
      "metadata": {
        "id": "oO5WFh7JX0iM"
      },
      "source": [
        "### MICE: Multivariate Imputation by Chained Equations\n",
        "\n",
        "Fa parte dei metodi a multiple imputation, ovvero quelli in cui i missing values sono generati più volte dal dataset. I dataset ottenuti vengono poi uniti, e i dati che rimpiazzeranno i missing values vengono scelti tramite qualche regola. \n",
        "\n",
        "### Fasi dei metodi a multiple imputation:\n",
        "1. imputation: calcolo in qualche modo il valore da assegnare al missing value;\n",
        "2. analisi dei risultati ottenuti dalle varie imputation;\n",
        "3. pooling: integrazione dei risultati nel dataset finale.\n",
        "\n",
        "### Fasi del metodo MICE:\n",
        "1. faccio una simple imputation per ogni missing value nel dataset;\n",
        "2. i missing value sono ripristinati;\n",
        "3. i valori osservati, cioè quelli generati dalle simple imputations, sono regressed dalle altre variabili nell'imputation model. \n",
        "4. i missing values sono quindi rimpiazzati con i valori predetti dal modello di regressione;\n",
        "5. gli step dal 2 al 4 vengono ripetuti per ogni variabile che ha missing values. La ripetizione di questi step costisuisce un ciclo. Alla fine di un ciclo i missing values sono stati rimpiazzati dai valori predetti dalla regressione che riflette le relazioni osservate nel dati;\n",
        "6. gli step dal 2 al 4 sono ripetuti per un numero fissato di cicli, e ad ogni ciclo i valori predetti vengono uppati. Alla fine di questi cicli i valori finali predetti andranno nel dataset. \n",
        "\n",
        "Di solito si effettuano dieci cicli. \n",
        "Idea: alla fine dei cicli, la distribuzione dei parametri che fornisce i valori predetti, deve convergere e diventare stabile. \n",
        "\n",
        "**Descrizione da scikit-learn:** models each feature with missing values as a function of other features, and uses that estimate for imputation. It does so in an iterated round-robin fashion: at each step, a feature column is designated as output y and the other feature columns are treated as inputs X. A regressor is fit on (X, y) for known y. Then, the regressor is used to predict the missing values of y. This is done for each feature in an iterative fashion, and then is repeated for max_iter imputation rounds. The results of the final imputation round are returned.\n",
        "\n",
        "Riferimenti: https://www.kaggle.com/residentmario/simple-techniques-for-missing-data-imputation\n",
        "\n",
        "IterativeImputer: https://scikit-learn.org/stable/modules/generated/sklearn.impute.IterativeImputer.html\n",
        "\n",
        "Uso IterativeImputer: https://www.geeksforgeeks.org/missing-data-imputation-with-fancyimpute/\n",
        "\n",
        "Note: MICE era prima presente in fancyimpute, ma poi è stato spostato in scikit-learn\n",
        "\n",
        "`split_by_day`: Funzione che splitta il `dataset` nel numero di `days` specificato. \n",
        "\n",
        "`select_col_by_nan`: seleziona le colonne del `dataset` se il numero di NaN che contengono è inferiore alla soglia `tresh`. \n",
        "\n",
        "`mice`: performa il MICE sul `dataset` specificato, considerando il numero di `days` specificato. \n"
      ]
    },
    {
      "cell_type": "code",
      "metadata": {
        "trusted": true,
        "id": "b9XkaROpX0iN"
      },
      "source": [
        "def split_by_day(dataset, days): \n",
        "    \n",
        "    day = 86400 # secondi in un giorno\n",
        "\n",
        "    # indici per il loop\n",
        "    start = day\n",
        "    end = day * 2 \n",
        "\n",
        "    data_splitted = {} # dizionario che contiene i vari set splittati per giorno\n",
        "    # loop per riempire il dizionario\n",
        "    for i in range(days):\n",
        "        data_splitted[i] = dataset[(dataset['TransactionDT'] >= (start)) & (dataset['TransactionDT'] < (end - 1))]\n",
        "        start += day\n",
        "        end += day\n",
        "        \n",
        "    return data_splitted\n",
        "\n",
        "def select_col_by_nan(dataset, tresh): # funzione per selezionare le colonne di un dataset in base al numero di NaN\n",
        "    cols = [] # lista che contiene le colonne con numero di NaN inferiore alla soglia \n",
        "    for col in dataset.columns:\n",
        "        if dataset[col].isna().sum() < tresh:\n",
        "            cols.append(col)\n",
        "    return cols\n",
        "\n",
        "def mice(dataset, days, tresh = 100000): # funzione che performa il MICE sul dataset selezionato\n",
        "    from sklearn.experimental import enable_iterative_imputer\n",
        "    from sklearn.impute import IterativeImputer\n",
        "    \n",
        "    cols = select_col_by_nan(dataset, tresh) # lista che contiene le colonne con meno nan della soglia\n",
        "    print(len(cols))\n",
        "    data = dataset[dataset.columns.intersection(cols)]\n",
        "    data_splitted = split_by_day(data, days) # dizionario con dataset splittato per giorno\n",
        "\n",
        "    fitted = {} # dizionario che contiene i dataset splittati con gli imputed values\n",
        "    for day in range(days): # faccio l'imputation su ogni dataset riguardante le transazioni giornaliere \n",
        "        # subset = data_splitted[day][[col for col in dataset.columns if col in cols]]\n",
        "        subset = data_splitted[day]\n",
        "        imp = IterativeImputer(missing_values=np.nan, random_state=0, n_nearest_features=5, max_iter = 40)                          \n",
        "        imp.fit(subset)\n",
        "        subset = imp.transform(subset)\n",
        "        fitted_set = subset\n",
        "        fitted[day] = pd.DataFrame(fitted_set, columns = cols).round(2) # trasformo la matrice ottenuta in un dataframe \n",
        "\n",
        "    return fitted # ritorno il dizionario i cui elementi sono i dataset giornalieri con i valori imputed\n"
      ],
      "execution_count": 65,
      "outputs": []
    },
    {
      "cell_type": "markdown",
      "metadata": {
        "id": "tBXxTzukX0iN"
      },
      "source": [
        "Faccio l'IterativeImputer su un singolo giorno. -> L'algoritmo non riesce a raggiungere la convergenza se ci sono colonne con troppi NaN.\n",
        "Errore:\n",
        "\n",
        "`/opt/conda/lib/python3.7/site-packages/sklearn/impute/_iterative.py:670: ConvergenceWarning: [IterativeImputer] Early stopping criterion not reached.\n",
        "  \" reached.\", ConvergenceWarning)`\n",
        "  \n",
        "Per risolvere il problema seleziono le colonne con meno di 100k NaN e aumento max_iter a 40. Paper [M.A] sottolineava come fossero troppo ottimistiche le stime di max_iter 10 per casi con tanti missing values. \n",
        "\n",
        "Dopo che ho fatto l'imputing, il dataset viene riunito nuovamente e viene prodotto un csv. \n",
        "\n",
        "Riferimento paper [M.A]: https://drive.google.com/file/d/1aK5py9lvjo6WHFDIROS7frXG-f-O5TEN/view?usp=sharing"
      ]
    },
    {
      "cell_type": "code",
      "metadata": {
        "trusted": true,
        "id": "bH1BtFR8X0iO"
      },
      "source": [
        "if not os.path.isfile('/content/drive/MyDrive/Tesi_magistrale/Dataset/IEEE/Output/fitted.csv'):\n",
        "# if os.path.isfile('/content/drive/MyDrive/Tesi_magistrale/Dataset/IEEE/Output/fitted.csv'):\n",
        "    numerical_data = original_data.select_dtypes(include=['int64','float64'])\n",
        "    fitted = mice(numerical_data, days=182)\n",
        "    selected_cols = select_col_by_nan(numerical_data, tresh=100000)\n",
        "    print('Number of selected columns: ', len(selected_cols))\n",
        "    fitted1 = pd.concat(fitted)\n",
        "    fitted1\n",
        "    fitted1.to_csv(r'./fitted.csv')"
      ],
      "execution_count": 66,
      "outputs": []
    },
    {
      "cell_type": "code",
      "metadata": {
        "trusted": true,
        "id": "WZVs-PYpX0iP"
      },
      "source": [
        "numerical_data = pd.read_csv('/content/drive/MyDrive/Tesi_magistrale/Dataset/IEEE/Output/fitted.csv')\n",
        "numerical_data.drop(numerical_data.columns[numerical_data.columns.str.contains('unnamed',case = False)],axis = 1, inplace = True)"
      ],
      "execution_count": 67,
      "outputs": []
    },
    {
      "cell_type": "markdown",
      "metadata": {
        "id": "tsvSZSU2X0iP"
      },
      "source": [
        "## 1.2 Dataset split in numerical e categorical\n",
        "\n",
        "Seleziono le feature i cui dati sono numerici. \n",
        "\n",
        "https://pandas.pydata.org/pandas--docs/stable/reference/api/pandas.DataFrame.select_dtypes.html"
      ]
    },
    {
      "cell_type": "code",
      "metadata": {
        "trusted": true,
        "id": "zLXTTpuEX0iP"
      },
      "source": [
        "num_data = numerical_data.drop(['isFraud','TransactionID','TransactionDT'], axis = 1)"
      ],
      "execution_count": 68,
      "outputs": []
    },
    {
      "cell_type": "markdown",
      "metadata": {
        "id": "hOutaZilX0iP"
      },
      "source": [
        "Seleziono le features i cui valori sono categorici. "
      ]
    },
    {
      "cell_type": "code",
      "metadata": {
        "id": "yD5H57qFGjPL"
      },
      "source": [
        "numerical_cols = original_data.select_dtypes(include=['int64','float64']).columns"
      ],
      "execution_count": 69,
      "outputs": []
    },
    {
      "cell_type": "code",
      "metadata": {
        "id": "KRz9gMIZIka5"
      },
      "source": [
        "categorical_col = []\r\n",
        "categorical_col.append('TransactionID')\r\n",
        "categorical_col.append('isFraud')\r\n",
        "for col in original_data:\r\n",
        "  if col not in numerical_cols:\r\n",
        "    categorical_col.append(col)\r\n",
        "\r\n",
        "len(categorical_col)\r\n",
        "categorical_data = original_data[original_data.columns.intersection(categorical_col)]"
      ],
      "execution_count": 70,
      "outputs": []
    },
    {
      "cell_type": "code",
      "metadata": {
        "id": "tLdu4iOvJ_Lw",
        "colab": {
          "base_uri": "https://localhost:8080/"
        },
        "outputId": "200b7667-0255-46cf-cda7-9eae1572c144"
      },
      "source": [
        "categorical_col"
      ],
      "execution_count": 71,
      "outputs": [
        {
          "output_type": "execute_result",
          "data": {
            "text/plain": [
              "['TransactionID',\n",
              " 'isFraud',\n",
              " 'ProductCD',\n",
              " 'card4',\n",
              " 'card6',\n",
              " 'P_emaildomain',\n",
              " 'R_emaildomain',\n",
              " 'M1',\n",
              " 'M2',\n",
              " 'M3',\n",
              " 'M4',\n",
              " 'M5',\n",
              " 'M6',\n",
              " 'M7',\n",
              " 'M8',\n",
              " 'M9',\n",
              " 'id_12',\n",
              " 'id_15',\n",
              " 'id_16',\n",
              " 'id_23',\n",
              " 'id_27',\n",
              " 'id_28',\n",
              " 'id_29',\n",
              " 'id_30',\n",
              " 'id_31',\n",
              " 'id_33',\n",
              " 'id_34',\n",
              " 'id_35',\n",
              " 'id_36',\n",
              " 'id_37',\n",
              " 'id_38',\n",
              " 'DeviceType',\n",
              " 'DeviceInfo']"
            ]
          },
          "metadata": {
            "tags": []
          },
          "execution_count": 71
        }
      ]
    },
    {
      "cell_type": "markdown",
      "metadata": {
        "id": "mnCQGfcNX0iQ"
      },
      "source": [
        "# 2. Exploratory analysis\n",
        "\n"
      ]
    },
    {
      "cell_type": "markdown",
      "metadata": {
        "id": "Onee7hZZutZe"
      },
      "source": [
        "Vedo su quanti giorni va il dataset e controllo la proporzione tra eventi fraudolenti e non. "
      ]
    },
    {
      "cell_type": "code",
      "metadata": {
        "trusted": true,
        "id": "2rCud_geX0iQ",
        "colab": {
          "base_uri": "https://localhost:8080/"
        },
        "outputId": "b537a9f7-d175-4e96-baa7-d2135d758b2d"
      },
      "source": [
        "total_days = np.ceil(max(original_data['TransactionDT'])/(86400))\n",
        "print('Dataset spans ', total_days, ' days')\n",
        "\n",
        "fraud = (original_data['isFraud'] == 1).sum()\n",
        "safe = (original_data['isFraud'] == 0).sum()\n",
        "print('Fraudolent events: ', fraud)\n",
        "print('Safe events: ', safe)\n",
        "print('Ratio Fraud/safe: ', fraud/(fraud + safe))"
      ],
      "execution_count": 72,
      "outputs": [
        {
          "output_type": "stream",
          "text": [
            "Dataset spans  183.0  days\n",
            "Fraudolent events:  20663\n",
            "Safe events:  569877\n",
            "Ratio Fraud/safe:  0.03499000914417313\n"
          ],
          "name": "stdout"
        }
      ]
    },
    {
      "cell_type": "markdown",
      "metadata": {
        "id": "JZrGRCHSX0iQ"
      },
      "source": [
        "## 2.1. Analisi feature numeriche\n",
        "\n",
        "Analizzo la distribuzione e la significatività statistica delle feature numeriche. \n",
        "\n",
        "Boxplot per confrontare la distribuzione delle feature numeriche tra transazioni fraudolente e non. \n",
        "\n",
        "Riferimento: https://stackoverflow.com/questions/62166292/seaborn-catplot-is-throwing-error-truth-value-is-ambiguous\n",
        "\n",
        "Riferimento map_dataframe: https://stackoverflow.com/questions/35131798/tweaking-seaborn-boxplot"
      ]
    },
    {
      "cell_type": "code",
      "metadata": {
        "trusted": true,
        "id": "gTSHgzyKX0iR",
        "colab": {
          "base_uri": "https://localhost:8080/",
          "height": 0
        },
        "outputId": "7eddd664-0492-4f11-80c0-93529b68a2f2"
      },
      "source": [
        "melted = []\n",
        "n_plot = 3 # len(cat_cols)\n",
        "target_col = \"isFraud\"\n",
        "cat_cols = num_data.columns[(num_data.dtypes == int) | (num_data.dtypes == float)]\n",
        "for i in range(n_plot):\n",
        "    melted.append(numerical_data.melt(id_vars=target_col,value_vars=cat_cols[i]))\n",
        "    g = sns.FacetGrid(melted[i], col='variable', sharex=False,col_wrap=1)\n",
        "    g.map_dataframe(sns.boxplot, x=\"isFraud\", y=\"value\", showfliers=False, hue = 'isFraud')\n",
        "    plt.show()"
      ],
      "execution_count": 73,
      "outputs": [
        {
          "output_type": "display_data",
          "data": {
            "image/png": "[encoded data removed]",
            "text/plain": [
              "<Figure size 216x216 with 1 Axes>"
            ]
          },
          "metadata": {
            "tags": [],
            "needs_background": "light"
          }
        },
        {
          "output_type": "display_data",
          "data": {
            "image/png": "[encoded data removed]",
            "text/plain": [
              "<Figure size 216x216 with 1 Axes>"
            ]
          },
          "metadata": {
            "tags": [],
            "needs_background": "light"
          }
        },
        {
          "output_type": "display_data",
          "data": {
            "image/png": "[encoded data removed]",
            "text/plain": [
              "<Figure size 216x216 with 1 Axes>"
            ]
          },
          "metadata": {
            "tags": [],
            "needs_background": "light"
          }
        }
      ]
    },
    {
      "cell_type": "markdown",
      "metadata": {
        "id": "IuKwvv9RX0iR"
      },
      "source": [
        "Visualizzo la differenza nella distribuzione di probabilità della feature a seconda della label. \r\n",
        "\r\n",
        "Documentazione histplot: https://seaborn.pydata.org/generated/seaborn.histplot.html"
      ]
    },
    {
      "cell_type": "code",
      "metadata": {
        "trusted": true,
        "id": "sCyymWUeX0iS",
        "colab": {
          "base_uri": "https://localhost:8080/",
          "height": 0
        },
        "outputId": "dec892ca-d341-4cf1-bf33-eb7cdd745ab5"
      },
      "source": [
        "sns.histplot(data=numerical_data[['card1','isFraud']], x=\"card1\", hue=\"isFraud\", element=\"step\", stat=\"density\", common_norm=False)"
      ],
      "execution_count": 74,
      "outputs": [
        {
          "output_type": "execute_result",
          "data": {
            "text/plain": [
              "<matplotlib.axes._subplots.AxesSubplot at 0x7f385993f898>"
            ]
          },
          "metadata": {
            "tags": []
          },
          "execution_count": 74
        },
        {
          "output_type": "display_data",
          "data": {
            "image/png": "[encoded data removed]",
            "text/plain": [
              "<Figure size 432x288 with 1 Axes>"
            ]
          },
          "metadata": {
            "tags": [],
            "needs_background": "light"
          }
        }
      ]
    },
    {
      "cell_type": "markdown",
      "metadata": {
        "id": "H08ltjIxX0iS"
      },
      "source": [
        "Calcolo le medie e le deviazioni standard per poter calcolare la variabile t ed effettuare il test di Welch."
      ]
    },
    {
      "cell_type": "code",
      "metadata": {
        "trusted": true,
        "id": "4rL4pRMzX0iS"
      },
      "source": [
        "def get_stat(dataset, mean = False, std = False):\n",
        "    col_to_drop = ['TransactionAmt','TransactionID','TransactionDT']\n",
        "    if mean:\n",
        "        means = dataset.groupby(['isFraud']).mean()\n",
        "        means = means.drop(col_to_drop, axis = 1)\n",
        "        return means\n",
        "    if std:\n",
        "        stds = dataset.groupby(['isFraud']).std()\n",
        "        stds = stds.drop(col_to_drop, axis = 1)\n",
        "        return stds\n",
        "    else:\n",
        "        print('Specificy if you want the mean or std')\n",
        "    \n",
        "def get_subFrame(dataset, safe = False, fraud = False):\n",
        "    col_to_drop = ['TransactionAmt','TransactionID','TransactionDT','isFraud']\n",
        "    if safe:\n",
        "        safe_dataset = dataset[dataset['isFraud']==0].drop(col_to_drop, axis = 1)\n",
        "        return safe_dataset\n",
        "    if fraud:\n",
        "        fraud_dataset = dataset[dataset['isFraud']==1].drop(col_to_drop, axis = 1)\n",
        "        return fraud_dataset\n",
        "    else:\n",
        "        print('Specificy if you want the safe or fraud rows')\n"
      ],
      "execution_count": 75,
      "outputs": []
    },
    {
      "cell_type": "code",
      "metadata": {
        "trusted": true,
        "id": "khIj6LE6X0iS"
      },
      "source": [
        "means = get_stat(numerical_data, mean=True)\n",
        "stds = get_stat(numerical_data, std=True)"
      ],
      "execution_count": 76,
      "outputs": []
    },
    {
      "cell_type": "code",
      "metadata": {
        "trusted": true,
        "id": "JmfbDDB8X0iT"
      },
      "source": [
        "safe_numerical = get_subFrame(numerical_data, safe = True)\n",
        "fraud_numerical = get_subFrame(numerical_data, fraud = True)"
      ],
      "execution_count": 77,
      "outputs": []
    },
    {
      "cell_type": "markdown",
      "metadata": {
        "id": "zt-rW_UiX0iT"
      },
      "source": [
        "Definisco le funzioni per poter effettuare il Welch test e lo effettuo. \r\n",
        "\r\n",
        "$ t = \\frac{\\mu_{0} - \\mu_{1}}{\\sqrt{\\frac{s_{0}^{2}}{N_{0}} + \\frac{s_{1}^{2}}{N_{1}}}}$\r\n",
        "\r\n",
        "$ \\nu = \\frac{(\\frac{s_{0}^{2}}{N_{0}} + \\frac{s_{1}^{2}}{N_{1}})^{2}}{{\\frac{s_{0}^{4}}{N_{0}^{2}\\nu_{0}} + \\frac{s_{1}^{4}}{N_{1}^{2}\\nu_{1}}}}$\r\n",
        " \r\n",
        "\r\n",
        "`t` e `dof` sono due dizionari. `t` contiene i valori della variabile t, e `dof` i gradi di libertà. \r\n",
        "\r\n",
        "Riferimento wikipedia Welch t-test:  https://en.wikipedia.org/wiki/Welch%27s_t-test"
      ]
    },
    {
      "cell_type": "code",
      "metadata": {
        "trusted": true,
        "id": "6CGV9DkCX0iT"
      },
      "source": [
        "from scipy import stats\n",
        "\n",
        "def diff(df):\n",
        "    res = {}\n",
        "    for col in df.columns:\n",
        "        res[col] = df[col][0] - df[col][1]\n",
        "    return res\n",
        "\n",
        "def s(df_safe, df_fraud):\n",
        "    res = {}\n",
        "    for col in df_safe.columns:\n",
        "        s0_2 = stds[col][0]**2\n",
        "        s1_2 = stds[col][1]**2\n",
        "        n0 = len(df_safe)\n",
        "        n1 = len(df_fraud)\n",
        "        res[col] = np.sqrt(s0_2 /n0 + s1_2 /n1)\n",
        "    return res\n",
        "\n",
        "def t(mean, std, df_safe, df_fraud):\n",
        "    res = {}\n",
        "    for col in mean.columns:\n",
        "        res[col] = diff(mean)[col] / s(df_safe, df_fraud)[col]\n",
        "    return res\n",
        "\n",
        "def v(df_safe, df_fraud):\n",
        "    res = {}\n",
        "    for col in df_safe.columns:\n",
        "        s0_2 = stds[col][0]**2\n",
        "        s1_2 = stds[col][1]**2\n",
        "        n0 = len(df_safe)\n",
        "        n1 = len(df_fraud)\n",
        "        v0 = n0 - 1\n",
        "        v1 = n1 - 1\n",
        "        v = ((s0_2 / n0 + s1_2 / n1)**2)/(s0_2**2/(n0**2 * v0) + s1_2**2/(n1**2 * v1))\n",
        "        res[col] = np.ceil(v)\n",
        "    return res\n"
      ],
      "execution_count": 78,
      "outputs": []
    },
    {
      "cell_type": "code",
      "metadata": {
        "trusted": true,
        "id": "2ppsws1qX0iT"
      },
      "source": [
        "t_variable = t(means, stds, safe_numerical, fraud_numerical)\n",
        "dof = v(safe_numerical, fraud_numerical)"
      ],
      "execution_count": 79,
      "outputs": []
    },
    {
      "cell_type": "markdown",
      "metadata": {
        "id": "-g2pdy0CX0iU"
      },
      "source": [
        "Una volta effettuato il test, scelgo il livello di significatività e vado a selezionare le feature con p-value superiore a tale livello. \n",
        "\n",
        "Calcolo del p-value: https://towardsdatascience.com/inferential-statistics-series-t-test-using-numpy-2718f8f9bf2f"
      ]
    },
    {
      "cell_type": "code",
      "metadata": {
        "trusted": true,
        "id": "mPy9G4vyX0iU"
      },
      "source": [
        "def sig_cols(t_variable, dataset, liv_sign = 0.95):\n",
        "    p_value = {}\n",
        "    sig_cols = 0\n",
        "    num_sign_col = []\n",
        "#     num_col_not_sign = []\n",
        "\n",
        "    for col in dataset.columns:    \n",
        "        p_value[col] = 1 - stats.t.cdf(t_variable[col], df = dof[col])\n",
        "        if p_value[col] > liv_sign:\n",
        "            num_sign_col.append(col)\n",
        "            print('Feature ', col, 'has a pvalue of: ', p_value[col])\n",
        "            sig_cols += 1\n",
        "#         else:\n",
        "#             num_col_not_sign.append(col)\n",
        "#             print('Feature ', col, 'is below significancy level')\n",
        "    print(len(num_sign_col), ' significative columns on ', len(dataset.columns), 'total columns')\n",
        "    return num_sign_col"
      ],
      "execution_count": 80,
      "outputs": []
    },
    {
      "cell_type": "markdown",
      "metadata": {
        "id": "_99iR6aCX0iU"
      },
      "source": [
        "`num_sign_col`: lista con le colonne numeriche significative tramite test di Welch e con missing values rimpiazzati tramite MICE. \n",
        "\n",
        "Riferimento scrittura file testo: https://stackoverflow.com/questions/899103/writing-a-list-to-a-file-with-python\n",
        "\n",
        "Riferimento lettura file testo: https://www.kite.com/python/answers/how-to-read-a-text-file-into-a-list-in-python\n",
        "\n"
      ]
    },
    {
      "cell_type": "code",
      "metadata": {
        "trusted": true,
        "id": "fgZTloZfX0iU",
        "colab": {
          "base_uri": "https://localhost:8080/"
        },
        "outputId": "30faf7d6-9fb3-4e7a-ef15-fa2bd6ca7973"
      },
      "source": [
        "if not os.path.isfile('/content/drive/MyDrive/Tesi_magistrale/Dataset/IEEE/Output/num_sign_col_mice.txt'):\n",
        "    num_sign_col = sig_cols(t_variable, safe_numerical)\n",
        "    with open('num_sign_col_mice.txt', 'w') as f:\n",
        "        for item in num_sign_col:\n",
        "            f.write(\"%s \" % item)\n",
        "            \n",
        "file = open(\"/content/drive/MyDrive/Tesi_magistrale/Dataset/IEEE/Output/num_sign_col_mice.txt\", \"r\")\n",
        "num_sign_col = file.read()\n",
        "num_sign_col = num_sign_col.split(\" \")\n",
        "file.close()\n",
        "num_sign_col.pop()\n",
        "len(num_sign_col)"
      ],
      "execution_count": 81,
      "outputs": [
        {
          "output_type": "execute_result",
          "data": {
            "text/plain": [
              "118"
            ]
          },
          "metadata": {
            "tags": []
          },
          "execution_count": 81
        }
      ]
    },
    {
      "cell_type": "markdown",
      "metadata": {
        "id": "RalFheDTX0iU"
      },
      "source": [
        "## 2.2. Analisi feature categoriche\n",
        "Analizzo il comportamento delle feature categoriche. "
      ]
    },
    {
      "cell_type": "markdown",
      "metadata": {
        "id": "BzOTjLjLX0iU"
      },
      "source": [
        "Istogrammi delle feature categoriche. "
      ]
    },
    {
      "cell_type": "code",
      "metadata": {
        "trusted": true,
        "id": "TPbb_RSWX0iV"
      },
      "source": [
        "done = False\n",
        "if done:\n",
        "  for col in categorical_col[3:10]:\n",
        "      ax = sns.catplot(data = categorical_data, x=col, hue='isFraud', kind = 'count')\n",
        "      ax.set(yscale=\"log\")\n",
        "      plt.show()"
      ],
      "execution_count": 82,
      "outputs": []
    },
    {
      "cell_type": "markdown",
      "metadata": {
        "id": "C9_21ZQ6X0iV"
      },
      "source": [
        "Inizializzo i dizionari che conterranno i conteggi e le frequenze relative a ciascuna feature. Inoltre elimino le colonne isFraud e TransactionID. "
      ]
    },
    {
      "cell_type": "code",
      "metadata": {
        "trusted": true,
        "id": "2Uwv4xzzX0iV"
      },
      "source": [
        "count = {}\n",
        "frequencies = {}\n",
        "done = False\n",
        "if not done:\n",
        "    categorical_col.remove('isFraud')\n",
        "    categorical_col.remove('TransactionID')\n",
        "    done = True"
      ],
      "execution_count": 83,
      "outputs": []
    },
    {
      "cell_type": "markdown",
      "metadata": {
        "id": "BofFJye0X0iV"
      },
      "source": [
        "Riferimento `group_by`: https://stackoverflow.com/questions/42563209/how-to-count-subgroups-of-categorical-data-in-a-pandas-dataframe\n"
      ]
    },
    {
      "cell_type": "code",
      "metadata": {
        "trusted": true,
        "id": "mffLKunyX0iV"
      },
      "source": [
        "for col in categorical_col:\n",
        "    count[col] = categorical_data.groupby('isFraud')[col].value_counts().unstack(fill_value=0)\n",
        "    frequencies[col] = categorical_data.groupby('isFraud')[col].value_counts(normalize = True).unstack(fill_value=0)    \n",
        "#     print(frequencies[col], '\\n')"
      ],
      "execution_count": 84,
      "outputs": []
    },
    {
      "cell_type": "markdown",
      "metadata": {
        "id": "W3EIw3JkX0iW"
      },
      "source": [
        "## Test $\\chi^2$\n",
        "Importo la funzione `chi2_contingency` che permette di effettuare il test $\\chi^2$. \n",
        "\n",
        "$H_{0}$: le differenze tra le frequenze nel caso di transazioni fraudolente e non, non siano statisticamente significative, cioè che siano il frutto di noise nel dataset. \n",
        "\n",
        "Risultato: Se il p-value è inferiore al livello di significatività del test, allora la differenza tra le frequenze è significativa, cioè non è casuale. \n",
        "\n",
        "Riferimenti `chi2_contingency`: \n",
        "\n",
        "* https://www.geeksforgeeks.org/python-pearsons-chi-square-test/\n",
        "\n",
        "* https://docs.scipy.org/doc/scipy/reference/generated/scipy.stats.chi2_contingency.html"
      ]
    },
    {
      "cell_type": "code",
      "metadata": {
        "trusted": true,
        "id": "T1tI--uyX0iW"
      },
      "source": [
        "def get_sign_cols(count, liv_sign = 0.95):\n",
        "    from scipy.stats import chi2_contingency \n",
        "\n",
        "    stat = {}\n",
        "    p = {}\n",
        "    dof = {}\n",
        "    expected = {}\n",
        "\n",
        "    # dizionari che contengono i nomi delle feature significative e non \n",
        "    cat_col_sign = []\n",
        "#     cat_col_not_sign = []\n",
        "\n",
        "    for col in count:\n",
        "        stat[col], p[col], dof[col], expected[col] = chi2_contingency(count[col]) \n",
        "        if p[col] < liv_sign:\n",
        "            cat_col_sign.append(col)\n",
        "            print('Feature ', col,' is significant \\t Chi square: ', stat[col], '\\t dof: ', dof[col], '\\n')\n",
        "#         else:\n",
        "#             cat_col_not_sign.append(col)\n",
        "#             print('Feature ', col,' is NOT significant \\t Chi square: ', stat[col], '\\t dof: ', dof[col], '\\n')\n",
        "\n",
        "    print('Number of significative features: ', len(cat_col_sign))\n",
        "    return cat_col_sign"
      ],
      "execution_count": 85,
      "outputs": []
    },
    {
      "cell_type": "markdown",
      "metadata": {
        "id": "whoWed2UX0iW"
      },
      "source": [
        "`cat_sign_col`: lista che contiene il nome delle colonne, con variabili categorihe, significative tramite test $\\chi^{2}$. "
      ]
    },
    {
      "cell_type": "code",
      "metadata": {
        "trusted": true,
        "id": "egi6GxAEX0iW",
        "colab": {
          "base_uri": "https://localhost:8080/",
          "height": 0
        },
        "outputId": "9129e8ab-73aa-41ac-fc5a-a7f91cd94693"
      },
      "source": [
        "if not os.path.isfile('/content/drive/MyDrive/Tesi_magistrale/Dataset/IEEE/Output/cat_sign_col.txt'):\n",
        "    cat_sign_col = get_sign_cols(count)\n",
        "    with open('cat_sign_col.txt', 'w') as f:\n",
        "        for item in cat_sign_col:\n",
        "            f.write(\"%s \" % item)\n",
        "            \n",
        "file = open(\"/content/drive/MyDrive/Tesi_magistrale/Dataset/IEEE/Output/cat_sign_col.txt\", \"r\")\n",
        "cat_sign_col = file.read() # importo il file\n",
        "cat_sign_col = cat_sign_col.split(\" \") # le colonne sono separate dallo spazio\n",
        "file.close() \n",
        "cat_sign_col.pop() # levo l'ultimo elemento che è vuoto"
      ],
      "execution_count": 86,
      "outputs": [
        {
          "output_type": "execute_result",
          "data": {
            "application/vnd.google.colaboratory.intrinsic+json": {
              "type": "string"
            },
            "text/plain": [
              "''"
            ]
          },
          "metadata": {
            "tags": []
          },
          "execution_count": 86
        }
      ]
    },
    {
      "cell_type": "code",
      "metadata": {
        "id": "3uGYzjycyK_L",
        "colab": {
          "base_uri": "https://localhost:8080/"
        },
        "outputId": "2e788158-27a8-4679-a88c-d4bfd5e14088"
      },
      "source": [
        "print(len(cat_sign_col), ' significative features on', len(categorical_col), ' total features')"
      ],
      "execution_count": 87,
      "outputs": [
        {
          "output_type": "stream",
          "text": [
            "30  significative features on 31  total features\n"
          ],
          "name": "stdout"
        }
      ]
    },
    {
      "cell_type": "markdown",
      "metadata": {
        "id": "HpvugRX9X0iW"
      },
      "source": [
        "## 2.3 Analisi delle correlazioni\n",
        "\n",
        "#### Funzioni:\n",
        "\n",
        "* `dropColNotSign(dataset, col_sign, not_ignore = None)`: funzione per eliminare le colonne non significative dal dataset. `not_ignore`: colonna da ritenere significativa anche se non presente nella lista `col_sign`. \n",
        "\n",
        "* `corr_matrix_plot(dataset, corr_matrix)`: funzione per plottare la matrice di correlazione. \n",
        "\n",
        "* `highest_correlations(corr_matrix, tresh = 0.8)`: restituisce le features con correlazione superiore alla soglia `tresh` specificata.\n",
        "\n",
        "* `corr_dict(corr)`: restituisce un dizionario i cui elementi sono le coppie di features correlate, con relativo valore di correlazione. \n",
        "\n",
        "#### Variabili: \n",
        "\n",
        "`col_sign` è una lista che conterrà le colonne significative, cioè quelle selezionate per portare avanti l'analisi. \n",
        "\n",
        "`corr_d`: dizionario con le coppie di features correlate e relativa correlazione. \n",
        "\n",
        "#### Riferimenti \n",
        "\n",
        "* Riferimento sul sort: https://stackoverflow.com/questions/17778394/list-highest-correlation-pairs-from-a-large-correlation-matrix-in-pandas\n",
        "\n",
        "- Riferimento `drop_duplicates`: https://stackoverflow.com/questions/30530663/how-to-select-distinct-across-multiple-data-frame-columns-in-pandas\n",
        "\n",
        "* Riferimento `corr_sorted[corr_sorted>tresh]`: https://stackoverflow.com/questions/32067054/remove-rows-of-zeros-from-a-pandas-series\n",
        "\n",
        "* Riferimento `corr_dict`: https://stackoverflow.com/questions/25929319/how-to-iterate-over-pandas-multiindex-dataframe-using-index\n",
        "\n",
        "* Riferimento `np.isnan`: https://numpy.org/doc/stable/reference/generated/numpy.isnan.html"
      ]
    },
    {
      "cell_type": "code",
      "metadata": {
        "trusted": true,
        "id": "V40aPMq1X0iX"
      },
      "source": [
        "def dropColNotSign(dataset, col_sign, not_ignore = None):\n",
        "  col_not_sign = []\n",
        "  if not fraud:\n",
        "      for col in dataset.columns:\n",
        "        if col not in col_sign and col != not_ignore:\n",
        "          col_not_sign.append(col)\n",
        "  dataset = dataset.drop(col_not_sign, axis=1)            \n",
        "  return dataset\n",
        "\n",
        "def corr_matrix_plot(dataset, corr_matrix):\n",
        "    f = plt.figure(figsize=(20, 20))\n",
        "    plt.matshow(corr_matrix, fignum=f.number)\n",
        "    plt.xticks(range(dataset.shape[1]), dataset.columns, fontsize=10, rotation=90)\n",
        "    plt.yticks(range(dataset.shape[1]), dataset.columns, fontsize=10)\n",
        "    cb = plt.colorbar()\n",
        "    cb.ax.tick_params(labelsize=14)\n",
        "    plt.title('Correlation Matrix', fontsize=16);\n",
        "    \n",
        "def highest_correlations(corr_matrix, tresh = 0.8):\n",
        "    corr_matrix_abs = corr_matrix.abs()\n",
        "    corr_matrix_abs = corr_matrix_abs.unstack()\n",
        "    corr_sorted = corr_matrix_abs.sort_values(kind=\"quicksort\")\n",
        "    corr_sorted = corr_sorted[:-len(num_sign_col)] # levo i termini sulla diagonale\n",
        "    corr_sorted = corr_sorted.drop_duplicates() # levo i termini doppi\n",
        "    corr_sorted = corr_sorted[corr_sorted>tresh]\n",
        "    return corr_sorted\n",
        "\n",
        "def corr_dict(corr):\n",
        "    corr_dict = {}\n",
        "    corr_list = []\n",
        "    for col1, df in corr.groupby(level=0):\n",
        "        for col2 in df:\n",
        "           if not np.isnan(corr.loc[col1,col2]):\n",
        "                corr_dict[col1,col2] = corr.loc[col1,col2]\n",
        "                corr_list.append([col1,col2])\n",
        "                corr_list.append([col2,col1])\n",
        "                \n",
        "    return corr_dict, corr_list"
      ],
      "execution_count": 88,
      "outputs": []
    },
    {
      "cell_type": "code",
      "metadata": {
        "trusted": true,
        "id": "UMbqDkl6X0iX",
        "colab": {
          "base_uri": "https://localhost:8080/"
        },
        "outputId": "81308c8d-d272-4dea-e211-ed48291aabd3"
      },
      "source": [
        "col_sign = num_sign_col + cat_sign_col # lista con le features significative\n",
        "print('Number of significative features: ', len(col_sign))\n",
        "correlation_data = dropColNotSign(numerical_data, num_sign_col) # dataset solo con le features significative\n",
        "correlation_data_fraud = dropColNotSign(numerical_data, num_sign_col, not_ignore = 'isFraud') \n",
        "correlation_data_fraud = correlation_data_fraud[correlation_data_fraud['isFraud'] == 1 ]"
      ],
      "execution_count": 89,
      "outputs": [
        {
          "output_type": "stream",
          "text": [
            "Number of significative features:  148\n"
          ],
          "name": "stdout"
        }
      ]
    },
    {
      "cell_type": "code",
      "metadata": {
        "trusted": true,
        "id": "rtjyiKqcX0iX"
      },
      "source": [
        "show_plots = False\n",
        "if show_plots:\n",
        "  corr_matrix = correlation_data.corr()\n",
        "  corr_matrix_plot(correlation_data, corr_matrix)\n",
        "  highest_corr = highest_correlations(corr_matrix)\n",
        "  highest_corr= highest_corr.unstack(level = 1)\n",
        "\n",
        "  corr_matrix_fraud = correlation_data_fraud.corr()\n",
        "  corr_matrix_plot(correlation_data_fraud, corr_matrix_fraud)\n",
        "  highest_corr_fraud = highest_correlations(corr_matrix_fraud)\n",
        "  highest_corr_fraud = highest_corr_fraud.unstack(level = 1)\n",
        "\n",
        "  corr_d, corr_list = corr_dict(highest_corr)\n",
        "  corr_d_fraud, corr_list_fraud = corr_dict(highest_corr_fraud)"
      ],
      "execution_count": 90,
      "outputs": []
    },
    {
      "cell_type": "markdown",
      "metadata": {
        "id": "DHAdvgpJrAIJ"
      },
      "source": [
        "Vado ad individuare le correlazioni che ci sono solo nel caso di transazioni fraudolente. "
      ]
    },
    {
      "cell_type": "code",
      "metadata": {
        "trusted": true,
        "id": "91djjeN5X0iX"
      },
      "source": [
        "if show_plots:\n",
        "  unique_corr = []\n",
        "  for item in corr_list_fraud:\n",
        "      if item not in corr_list:\n",
        "        unique_corr.append(item)"
      ],
      "execution_count": 91,
      "outputs": []
    },
    {
      "cell_type": "markdown",
      "metadata": {
        "id": "UAqXbMxNX0iY"
      },
      "source": [
        "Fare differenza delle correlazioni nel caso fraud e safe per vedere se spuntano correlazioni diverse. \r\n",
        "\r\n",
        "Riferimento `scatterplot`: https://seaborn.pydata.org/generated/seaborn.scatterplot.html"
      ]
    },
    {
      "cell_type": "code",
      "metadata": {
        "trusted": true,
        "id": "1-eM6qwvX0iY"
      },
      "source": [
        "done = False\r\n",
        "if done:\r\n",
        "  for item in unique_corr:\r\n",
        "    sns.scatterplot(data=correlation_data[item], x=item[0], y=item[1])\r\n",
        "    plt.show()"
      ],
      "execution_count": 92,
      "outputs": []
    },
    {
      "cell_type": "markdown",
      "metadata": {
        "id": "g58Hxnlhz1wW"
      },
      "source": [
        "# 3. Preparation to training"
      ]
    },
    {
      "cell_type": "markdown",
      "metadata": {
        "id": "snsMJMlJ3Dcu"
      },
      "source": [
        "## 3.0 Feature scaling"
      ]
    },
    {
      "cell_type": "markdown",
      "metadata": {
        "id": "fkebeV1E5pX-"
      },
      "source": [
        "Implemento il min max scaling delle features. \r\n",
        "\r\n",
        "Riferimento: https://towardsdatascience.com/data-normalization-with-pandas-and-scikit-learn-7c1cc6ed6475"
      ]
    },
    {
      "cell_type": "code",
      "metadata": {
        "id": "th9ixcnb3HRV"
      },
      "source": [
        "def min_max_scaling(data):\r\n",
        "  col_not_to_scale = ['isFraud','TransactionID', 'TransactionDT']\r\n",
        "  for col in data.columns:\r\n",
        "    if col not in col_not_to_scale:\r\n",
        "      data[col] = (data[col] - data[col].min()) / (data[col].max() - data[col].min())\r\n",
        "       \r\n",
        "  return data\r\n",
        "    \r\n",
        "# call the min_max_scaling function\r\n",
        "correlation_data = min_max_scaling(correlation_data)"
      ],
      "execution_count": 93,
      "outputs": []
    },
    {
      "cell_type": "markdown",
      "metadata": {
        "id": "FpbwsvUFX0iY"
      },
      "source": [
        "### Dataset merging"
      ]
    },
    {
      "cell_type": "markdown",
      "metadata": {
        "id": "6-XUASHDX0iY"
      },
      "source": [
        "Funzione che ritorna la lista delle colonne significative. "
      ]
    },
    {
      "cell_type": "code",
      "metadata": {
        "id": "fUhFjfNyHixl"
      },
      "source": [
        "import warnings\r\n",
        "warnings.simplefilter(action='ignore', category=FutureWarning) # serve per ignorare i FutureWarning\r\n",
        "\r\n",
        "def col_not_sign(dataset, sign_cols):\r\n",
        "  col_not_sign = []\r\n",
        "  for col in dataset.columns:\r\n",
        "    if col not in sign_cols and col != 'TransactionID':\r\n",
        "      col_not_sign.append(col)\r\n",
        "  col_not_sign.append('isFraud')\r\n",
        "  return col_not_sign"
      ],
      "execution_count": 94,
      "outputs": []
    },
    {
      "cell_type": "markdown",
      "metadata": {
        "id": "P_aHaIF0QR8W"
      },
      "source": [
        "Rimpiazzo i missing values in categorical data con unknown. \r\n",
        "\r\n",
        "Unisco i dataset numerici e categorici nel dataframe data. \r\n",
        "\r\n",
        "Riferimento fillna: https://jamesrledoux.com/code/imputation"
      ]
    },
    {
      "cell_type": "code",
      "metadata": {
        "id": "BN1EaQzYPpzV"
      },
      "source": [
        "col_to_drop = col_not_sign(categorical_data, cat_sign_col)\r\n",
        "categorical_data = categorical_data.drop(col_to_drop, axis=1)\r\n",
        "categorical_data = categorical_data.fillna('unknown')\r\n",
        "data = pd.merge(correlation_data, categorical_data, left_on='TransactionID', right_on='TransactionID', how='left')\r\n",
        "del correlation_data, categorical_data, numerical_data"
      ],
      "execution_count": 95,
      "outputs": []
    },
    {
      "cell_type": "markdown",
      "metadata": {
        "id": "3F2vcs2gSS6P"
      },
      "source": [
        "## 3.1 Categorical Boost"
      ]
    },
    {
      "cell_type": "markdown",
      "metadata": {
        "id": "Of4-16ucWeA_"
      },
      "source": [
        "Con tale tuning raggiungo AUC = 0.87 (anche se selezinono solo i primi 60 giorni come fatto per l'XGBoost).\r\n",
        "\r\n",
        "Non è stato fatto nè il one hot encoding nè l'easy ensemble.\r\n",
        "\r\n",
        "Documentazione: https://catboost.ai/docs/concepts/python-quickstart.html\r\n",
        "\r\n",
        "Categorical features parameter: https://github.com/catboost/catboost/issues/934"
      ]
    },
    {
      "cell_type": "code",
      "metadata": {
        "id": "ugFx7OyjSShs"
      },
      "source": [
        "cat = False\r\n",
        "if cat:\r\n",
        "\r\n",
        "  !pip install catboost\r\n",
        "  X_train, X_val, y_train, y_val = split(data, test_size = 0.2)\r\n",
        "  del data\r\n",
        "  X_train, X_test, y_train, y_test = train_test_split(X_train, y_train, test_size=0.25, random_state=42)"
      ],
      "execution_count": 2,
      "outputs": []
    },
    {
      "cell_type": "code",
      "metadata": {
        "id": "9ahy1mp6SScV"
      },
      "source": [
        "if cat:\r\n",
        "  from catboost import CatBoostClassifier, Pool\r\n",
        "  from sklearn.metrics import plot_roc_curve\r\n",
        "\r\n",
        "  model = CatBoostClassifier(iterations=40, depth=2, learning_rate=1, \r\n",
        "                            cat_features = cat_sign_col, loss_function='CrossEntropy', verbose=True)\r\n",
        "\r\n",
        "  model.fit(X_train, y_train)\r\n",
        "\r\n",
        "  plot_roc_curve(model, X_val, y_val)\r\n",
        "  plt.show()\r\n"
      ],
      "execution_count": 3,
      "outputs": []
    },
    {
      "cell_type": "markdown",
      "metadata": {
        "id": "jacF5JtkXHvp"
      },
      "source": [
        "## 3.2 One hot encoding"
      ]
    },
    {
      "cell_type": "markdown",
      "metadata": {
        "id": "0YusuKvQSS-V"
      },
      "source": [
        "One hot encoding delle features categoriche. Serve per lo smote e easy ensemble. \r\n",
        "\r\n",
        "Bisogna farlo prima dello split del dataset poichè rischio di perdere delle colonne. "
      ]
    },
    {
      "cell_type": "code",
      "metadata": {
        "id": "uDzEOd7O-E03"
      },
      "source": [
        "data = pd.get_dummies(data)"
      ],
      "execution_count": null,
      "outputs": []
    },
    {
      "cell_type": "markdown",
      "metadata": {
        "id": "SMz_bK6DTJRl"
      },
      "source": [
        "Seleziono i dati appartenenti ai primi 60 giorni. \r\n",
        "\r\n",
        "Se ne seleziono di più, l'easy ensemble non va. "
      ]
    },
    {
      "cell_type": "code",
      "metadata": {
        "id": "dhRSkafFKcEn"
      },
      "source": [
        "def select_days(dataset, days):\r\n",
        "  sec = 86400\r\n",
        "  tot = days * sec\r\n",
        "  dataset = dataset[dataset['TransactionDT'] < tot]\r\n",
        "  return dataset\r\n",
        "\r\n",
        "data = select_days(data, 60)"
      ],
      "execution_count": 96,
      "outputs": []
    },
    {
      "cell_type": "markdown",
      "metadata": {
        "id": "m8EkabwNTN1C"
      },
      "source": [
        "Splitto il dataset in train, validation e test set. "
      ]
    },
    {
      "cell_type": "code",
      "metadata": {
        "id": "3WMzRsY88mvb"
      },
      "source": [
        "from sklearn.model_selection import train_test_split\r\n",
        "def split(dataset, test_size):  \r\n",
        "\r\n",
        "  y = dataset['isFraud']\r\n",
        "  X = dataset.drop(['isFraud'], axis = 1)\r\n",
        "\r\n",
        "  X_train, X_val, y_train, y_val = train_test_split(X, y, test_size=test_size, random_state=42)\r\n",
        "  return X_train, X_val, y_train, y_val"
      ],
      "execution_count": 40,
      "outputs": []
    },
    {
      "cell_type": "code",
      "metadata": {
        "id": "0cz8y-FhBpi9"
      },
      "source": [
        "X_train, X_val, y_train, y_val = split(data, test_size = 0.2)\r\n",
        "del data\r\n",
        "X_train, X_test, y_train, y_test = train_test_split(X_train, y_train, test_size=0.25, random_state=42)"
      ],
      "execution_count": null,
      "outputs": []
    },
    {
      "cell_type": "markdown",
      "metadata": {
        "id": "EIX6IijNRgn0"
      },
      "source": [
        "## 3.3 Undersampling: Easy Ensemble"
      ]
    },
    {
      "cell_type": "markdown",
      "metadata": {
        "id": "sjJGUsMyNGuw"
      },
      "source": [
        "L'easy ensemble tramite un metodo unsupervised divide il dataset in diversi dataset undersampled. \r\n",
        "\r\n",
        "Documentazione easy ensemble: http://glemaitre.github.io/imbalanced-learn/generated/imblearn.ensemble.EasyEnsemble.html#imblearn.ensemble.EasyEnsemble\r\n",
        "\r\n",
        "Esempio applicazio ee: http://glemaitre.github.io/imbalanced-learn/auto_examples/ensemble/plot_easy_ensemble.html?highlight=easy%20ensemble"
      ]
    },
    {
      "cell_type": "code",
      "metadata": {
        "id": "vdiM8saOHFOI"
      },
      "source": [
        "from imblearn.ensemble import EasyEnsemble \r\n",
        "n_subsets = 5\r\n",
        "ee = EasyEnsemble(random_state=42, n_subsets=n_subsets)\r\n",
        "X_trainres, y_trainres = ee.fit_sample(X_train, y_train)"
      ],
      "execution_count": null,
      "outputs": []
    },
    {
      "cell_type": "markdown",
      "metadata": {
        "id": "nDxZx1ew9n2I"
      },
      "source": [
        "## 3.4 XGBoost\r\n",
        "\r\n",
        "Provo a trainare un random forest con cross validation sui vari dataset splittati attraverso easy ensemble. \r\n",
        "\r\n",
        "ROC curve: https://scikit-learn.org/stable/auto_examples/miscellaneous/plot_roc_curve_visualization_api.html#sphx-glr-auto-examples-miscellaneous-plot-roc-curve-visualization-api-py"
      ]
    },
    {
      "cell_type": "code",
      "metadata": {
        "id": "vSMZzaSzDSml"
      },
      "source": [
        "X_val = X_val.values"
      ],
      "execution_count": null,
      "outputs": []
    },
    {
      "cell_type": "code",
      "metadata": {
        "id": "1ohOclWl9naz",
        "colab": {
          "base_uri": "https://localhost:8080/",
          "height": 279
        },
        "outputId": "04304be3-56f1-4c12-d8fd-97d89cce7442"
      },
      "source": [
        "from sklearn.ensemble import RandomForestClassifier\r\n",
        "from sklearn.datasets import make_classification\r\n",
        "from sklearn.metrics import plot_roc_curve\r\n",
        "from xgboost import XGBClassifier\r\n",
        "\r\n",
        "clf = XGBClassifier()\r\n",
        "# clf = RandomForestClassifier(max_depth=2, random_state=0)\r\n",
        "# clf.fit(X_train, y_train)\r\n",
        "clf.fit(X_trainres[0], y_trainres[0])\r\n",
        "plot_roc_curve(clf, X_val, y_val)\r\n",
        "plt.show()"
      ],
      "execution_count": null,
      "outputs": [
        {
          "output_type": "display_data",
          "data": {
            "image/png": "[encoded data removed]",
            "text/plain": [
              "<Figure size 432x288 with 1 Axes>"
            ]
          },
          "metadata": {
            "tags": [],
            "needs_background": "light"
          }
        }
      ]
    },
    {
      "cell_type": "markdown",
      "metadata": {
        "id": "nVRW3sLJCBMg"
      },
      "source": [
        "#### ROC AUC curve\r\n",
        "\r\n",
        "Riferimento: https://scikit-learn.org/stable/auto_examples/model_selection/plot_roc_crossval.html#sphx-glr-auto-examples-model-selection-plot-roc-crossval-py"
      ]
    },
    {
      "cell_type": "code",
      "metadata": {
        "id": "GV2tW6K5_Qjs",
        "colab": {
          "base_uri": "https://localhost:8080/",
          "height": 295
        },
        "outputId": "a289bb37-3146-4c8d-de5d-dfe7fc14b6b7"
      },
      "source": [
        "from sklearn.metrics import auc\r\n",
        "from sklearn.metrics import plot_roc_curve\r\n",
        "from xgboost import XGBClassifier\r\n",
        "\r\n",
        "# classifier = RandomForestClassifier(max_depth=2, random_state=0)\r\n",
        "classifier = XGBClassifier()\r\n",
        "tprs = []\r\n",
        "aucs = []\r\n",
        "mean_fpr = np.linspace(0, 1, 100)\r\n",
        "\r\n",
        "fig, ax = plt.subplots()\r\n",
        "for i in range(n_subsets):\r\n",
        "    classifier.fit(X_trainres[i], y_trainres[i])\r\n",
        "    viz = plot_roc_curve(classifier, X_val, y_val,\r\n",
        "                         name='ROC fold {}'.format(i),\r\n",
        "                         alpha=0.3, lw=1, ax=ax)\r\n",
        "    interp_tpr = np.interp(mean_fpr, viz.fpr, viz.tpr)\r\n",
        "    interp_tpr[0] = 0.0\r\n",
        "    tprs.append(interp_tpr)\r\n",
        "    aucs.append(viz.roc_auc)\r\n",
        "\r\n",
        "ax.plot([0, 1], [0, 1], linestyle='--', lw=2, color='r',\r\n",
        "        label='Chance', alpha=.8)\r\n",
        "\r\n",
        "mean_tpr = np.mean(tprs, axis=0)\r\n",
        "mean_tpr[-1] = 1.0\r\n",
        "mean_auc = auc(mean_fpr, mean_tpr)\r\n",
        "std_auc = np.std(aucs)\r\n",
        "ax.plot(mean_fpr, mean_tpr, color='b',\r\n",
        "        label=r'Mean ROC (AUC = %0.2f $\\pm$ %0.2f)' % (mean_auc, std_auc),\r\n",
        "        lw=2, alpha=.8)\r\n",
        "\r\n",
        "std_tpr = np.std(tprs, axis=0)\r\n",
        "tprs_upper = np.minimum(mean_tpr + std_tpr, 1)\r\n",
        "tprs_lower = np.maximum(mean_tpr - std_tpr, 0)\r\n",
        "ax.fill_between(mean_fpr, tprs_lower, tprs_upper, color='grey', alpha=.2,\r\n",
        "                label=r'$\\pm$ 1 std. dev.')\r\n",
        "\r\n",
        "ax.set(xlim=[-0.05, 1.05], ylim=[-0.05, 1.05],\r\n",
        "       title=\"Receiver operating characteristic example\")\r\n",
        "ax.legend(loc=\"lower right\")\r\n",
        "plt.show()"
      ],
      "execution_count": null,
      "outputs": [
        {
          "output_type": "display_data",
          "data": {
            "image/png": "[encoded data removed]",
            "text/plain": [
              "<Figure size 432x288 with 1 Axes>"
            ]
          },
          "metadata": {
            "tags": [],
            "needs_background": "light"
          }
        }
      ]
    },
    {
      "cell_type": "markdown",
      "metadata": {
        "id": "o6qJmZ_uX0iZ"
      },
      "source": [
        "## 3.2 Model selection\n"
      ]
    },
    {
      "cell_type": "code",
      "metadata": {
        "id": "m8--O9XGQAlj"
      },
      "source": [
        "X_valres = X_val[:1000].to_numpy()\r\n",
        "y_valres = y_val[:1000].to_numpy()"
      ],
      "execution_count": null,
      "outputs": []
    },
    {
      "cell_type": "code",
      "metadata": {
        "id": "F5R0fo9sOpfQ",
        "colab": {
          "base_uri": "https://localhost:8080/"
        },
        "outputId": "c1b69bc9-99a1-458e-e2a1-087f125a2761"
      },
      "source": [
        "from xgboost import XGBClassifier\r\n",
        "from sklearn.metrics import accuracy_score\r\n",
        "\r\n",
        "model = XGBClassifier()\r\n",
        "model.fit(X_trainres[0], y_trainres[0])\r\n",
        "# make predictions for test data\r\n",
        "y_pred = model.predict(X_valres)\r\n",
        "predictions = [round(value) for value in y_pred]\r\n",
        "accuracy = accuracy_score(y_valres, predictions)\r\n",
        "print(\"Accuracy: %.2f%%\" % (accuracy * 100.0))"
      ],
      "execution_count": null,
      "outputs": [
        {
          "output_type": "stream",
          "text": [
            "Accuracy: 83.90%\n"
          ],
          "name": "stdout"
        }
      ]
    },
    {
      "cell_type": "markdown",
      "metadata": {
        "id": "qpRvec65X0iZ"
      },
      "source": [
        "Provo ad usare AdaBoost su un singolo subset. "
      ]
    },
    {
      "cell_type": "code",
      "metadata": {
        "trusted": true,
        "id": "87MYbKFjX0iZ"
      },
      "source": [
        "# https://scikit-learn.org/stable/modules/ensemble.html\n",
        "from sklearn.ensemble import AdaBoostClassifier\n",
        "from sklearn.model_selection import cross_val_score\n",
        "from sklearn.tree import DecisionTreeClassifier\n",
        "\n",
        "# for i in range(n_set):\n",
        "clf = AdaBoostClassifier(n_estimators=100)\n",
        "scores = cross_val_score(clf, X_train[0], y_train[0], cv=5)\n",
        "scores"
      ],
      "execution_count": null,
      "outputs": []
    },
    {
      "cell_type": "code",
      "metadata": {
        "trusted": true,
        "id": "rUl1jDE3X0iZ"
      },
      "source": [
        "# valuto le performance del modello\n",
        "clf.fit(X_train[0], y_train[0])\n",
        "y_pred = clf.predict(X_val[0])\n",
        "cm = confusion_matrix(y_val[0], y_pred)\n",
        "cm"
      ],
      "execution_count": null,
      "outputs": []
    },
    {
      "cell_type": "markdown",
      "metadata": {
        "id": "opJiG9ubX0ia"
      },
      "source": [
        "Prova del balanced random forest di imblearn. "
      ]
    },
    {
      "cell_type": "code",
      "metadata": {
        "trusted": true,
        "collapsed": true,
        "id": "Lt1of4DfX0ia"
      },
      "source": [
        "# from sklearn.ensemble import AdaBoostClassifier\n",
        "# from sklearn.metrics import confusion_matrix\n",
        "# from sklearn.metrics import balanced_accuracy_score\n",
        "# from imblearn.ensemble import BalancedRandomForestClassifier\n",
        "# from imblearn.metrics import geometric_mean_score\n",
        "\n",
        "# brf = BalancedRandomForestClassifier(n_estimators=100, random_state=0, n_jobs=-1)\n",
        "\n",
        "# brf.fit(X_train[i], y_train[i])\n",
        "# y_pred_brf = brf.predict(X_val[i])\n",
        "\n",
        "# print('Balanced Random Forest classifier performance:')\n",
        "# print('Balanced accuracy: {:.2f} - Geometric mean {:.2f}'\n",
        "#       .format(balanced_accuracy_score(y_val[i], y_pred_brf),\n",
        "#               geometric_mean_score(y_val[i], y_pred_brf)))\n",
        "# cm_brf = confusion_matrix(y_val[i], y_pred_brf)\n",
        "# cm_brf"
      ],
      "execution_count": null,
      "outputs": []
    },
    {
      "cell_type": "markdown",
      "metadata": {
        "id": "ZzdO2tXR4Jpb"
      },
      "source": [
        "Oversampling\r\n",
        "\r\n",
        "SMOTENC serve per lavorare con le feature categoriche. \r\n",
        "\r\n",
        "Riferimento SMOTENC: https://imbalanced-learn.readthedocs.io/en/stable/generated/imblearn.over_sampling.SMOTENC.html"
      ]
    },
    {
      "cell_type": "code",
      "metadata": {
        "id": "LBUnNsvy4NHJ"
      },
      "source": [
        "# def smote(X, y):\r\n",
        "#   from imblearn.over_sampling import SMOTENC\r\n",
        "  \r\n",
        "#   categorical_features = np.arange(177, 445)\r\n",
        "#   sm = SMOTENC(random_state=42, categorical_features = categorical_features)\r\n",
        "\r\n",
        "#   X_res, y_res = sm.fit_resample(X, y)\r\n",
        "\r\n",
        "#   return X_res, y_res\r\n",
        "\r\n",
        "# X_trainres, y_trainres = smote(X_train,y_train)\r\n",
        "# X_trainres"
      ],
      "execution_count": null,
      "outputs": []
    },
    {
      "cell_type": "code",
      "metadata": {
        "id": "KEOfHBh94P6c"
      },
      "source": [
        ""
      ],
      "execution_count": null,
      "outputs": []
    }
  ]
}