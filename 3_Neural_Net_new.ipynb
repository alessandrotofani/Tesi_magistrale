{
  "nbformat": 4,
  "nbformat_minor": 0,
  "metadata": {
    "colab": {
      "name": "3_Neural_Net.ipynb",
      "provenance": [],
      "authorship_tag": "ABX9TyPrmh85UcZcfuWoe5UZ+W8l",
      "include_colab_link": true
    },
    "kernelspec": {
      "name": "python3",
      "display_name": "Python 3"
    },
    "accelerator": "GPU"
  },
  "cells": [
    {
      "cell_type": "markdown",
      "metadata": {
        "id": "view-in-github",
        "colab_type": "text"
      },
      "source": [
        "<a href=\"https://colab.research.google.com/github/alessandrotofani/Tesi_magistrale/blob/master/3_Neural_Net_new.ipynb\" target=\"_parent\"><img src=\"https://colab.research.google.com/assets/colab-badge.svg\" alt=\"Open In Colab\"/></a>"
      ]
    },
    {
      "cell_type": "markdown",
      "metadata": {
        "id": "8-eTUKS6D9Fs"
      },
      "source": [
        "# Import"
      ]
    },
    {
      "cell_type": "code",
      "metadata": {
        "colab": {
          "base_uri": "https://localhost:8080/"
        },
        "id": "xtV-QCEPDVju",
        "outputId": "3468e361-32d1-48ad-fb27-ecf19677f224"
      },
      "source": [
        "import numpy as np # linear algebra\r\n",
        "import pandas as pd # data processing\r\n",
        "import matplotlib\r\n",
        "import matplotlib.pyplot as plt\r\n",
        "import seaborn as sns\r\n",
        "import os\r\n",
        "from google.colab import drive\r\n",
        "drive.mount('/content/drive')\r\n",
        "from sklearn.model_selection import train_test_split"
      ],
      "execution_count": 1,
      "outputs": [
        {
          "output_type": "stream",
          "text": [
            "Drive already mounted at /content/drive; to attempt to forcibly remount, call drive.mount(\"/content/drive\", force_remount=True).\n"
          ],
          "name": "stdout"
        }
      ]
    },
    {
      "cell_type": "code",
      "metadata": {
        "id": "QSvV9n8XDd1_"
      },
      "source": [
        "import sys \r\n",
        "sys.path.append('/content/drive/MyDrive/Tesi_magistrale/Tesi_magistrale')\r\n",
        "import mf\r\n",
        "import warnings\r\n",
        "warnings.simplefilter(action='ignore', category=FutureWarning)"
      ],
      "execution_count": 2,
      "outputs": []
    },
    {
      "cell_type": "code",
      "metadata": {
        "id": "vLwIrSvoSR7S"
      },
      "source": [
        "!pip install --quiet fastai==2.2.5"
      ],
      "execution_count": 3,
      "outputs": []
    },
    {
      "cell_type": "markdown",
      "metadata": {
        "id": "k5aTQo_7D3KW"
      },
      "source": [
        "# Preprocessing"
      ]
    },
    {
      "cell_type": "code",
      "metadata": {
        "id": "3CA67WePVnds"
      },
      "source": [
        "data = pd.read_csv('/content/drive/MyDrive/Tesi_magistrale/Dataset/IEEE/Output/data.csv')\r\n",
        "data = mf.new_processing(data)\r\n",
        "# data = pd.get_dummies(data)"
      ],
      "execution_count": 4,
      "outputs": []
    },
    {
      "cell_type": "code",
      "metadata": {
        "id": "ouq64I1r5lkR"
      },
      "source": [
        "cols = mf.get_col(data)"
      ],
      "execution_count": 5,
      "outputs": []
    },
    {
      "cell_type": "code",
      "metadata": {
        "id": "GRYQU4obQE8V"
      },
      "source": [
        "from fastai.tabular.all import *"
      ],
      "execution_count": 6,
      "outputs": []
    },
    {
      "cell_type": "code",
      "metadata": {
        "id": "ruoqZDmGS48a"
      },
      "source": [
        "categorical_col = data.select_dtypes(include=['object']).columns.tolist()"
      ],
      "execution_count": 7,
      "outputs": []
    },
    {
      "cell_type": "code",
      "metadata": {
        "id": "9WHzC-MHVTBV"
      },
      "source": [
        "numerical_col = []\n",
        "for col in data.columns:\n",
        "  if col not in categorical_col and col != 'isFraud':\n",
        "    cont_names.append(col)\n",
        "# cont_names"
      ],
      "execution_count": 8,
      "outputs": []
    },
    {
      "cell_type": "markdown",
      "metadata": {
        "id": "_IkJQpHuhnXm"
      },
      "source": [
        "Tutorial: https://docs.fast.ai/tutorial.tabular.html\n",
        "\n",
        "Book: https://github.com/fastai/fastbook/blob/master/09_tabular.ipynb"
      ]
    },
    {
      "cell_type": "code",
      "metadata": {
        "id": "uss-vsWXQE3E"
      },
      "source": [
        "fasted = TabularPandas(data, procs=[Categorify],\n",
        "                   cat_names = categorical_col,\n",
        "                   cont_names = numerical_col,\n",
        "                   y_names='isFraud')\n",
        "                  #  splits=splits)"
      ],
      "execution_count": 9,
      "outputs": []
    },
    {
      "cell_type": "code",
      "metadata": {
        "id": "X-fjffG1UwkY"
      },
      "source": [
        "X_train, y_train = fasted.train.xs, fasted.train.ys.values.ravel()\n",
        "# X_test, y_test = fasted.valid.xs, fasted.valid.ys.values.ravel()"
      ],
      "execution_count": 10,
      "outputs": []
    },
    {
      "cell_type": "markdown",
      "metadata": {
        "id": "WLwNC-RfdpGF"
      },
      "source": [
        "## Train validation test split"
      ]
    },
    {
      "cell_type": "markdown",
      "metadata": {
        "id": "m8EkabwNTN1C"
      },
      "source": [
        "Splitto il dataset in train, validation e test set. "
      ]
    },
    {
      "cell_type": "code",
      "metadata": {
        "id": "QTS6eJT9AGlU"
      },
      "source": [
        "def overSampling(X, y, frac_over=0.1):\n",
        "  from imblearn.over_sampling import SMOTE\n",
        "  sm = SMOTE(sampling_strategy=frac_over, random_state=42)\n",
        "  X_sm, y_sm = sm.fit_resample(X, y)  \n",
        "  return X_sm, y_sm"
      ],
      "execution_count": 11,
      "outputs": []
    },
    {
      "cell_type": "code",
      "metadata": {
        "id": "b1lw52XFUZBG"
      },
      "source": [
        "X_train, X_val, y_train, y_val = train_test_split(X_train, y_train, test_size = 0.2)\n",
        "X_train, X_test, y_train, y_test = train_test_split(X_train, y_train, test_size=0.25, random_state=42)\n",
        "X_train, y_train = overSampling(X_train, y_train)"
      ],
      "execution_count": 12,
      "outputs": []
    },
    {
      "cell_type": "code",
      "metadata": {
        "id": "dqOMoTQ-xkQo"
      },
      "source": [
        "save_id = False \r\n",
        "\r\n",
        "if save_id:\r\n",
        "  train_id = X_train.index.tolist()\r\n",
        "  val_id = X_val.index.tolist()\r\n",
        "  test_id = X_test.index.tolist()\r\n",
        "  mf.save_list('train_id',train_id)\r\n",
        "  mf.save_list('val_id', val_id)\r\n",
        "  mf.save_list('test_id', test_id)\r\n",
        "\r\n",
        "load_id = False \r\n",
        "if load_id:\r\n",
        "  mf.load_list('train_id',train_id)\r\n",
        "  mf.load_list('val_id', val_id)\r\n",
        "  mf.load_list('test_id', test_id)"
      ],
      "execution_count": 14,
      "outputs": []
    },
    {
      "cell_type": "markdown",
      "metadata": {
        "id": "XcNlmAIrLUcB"
      },
      "source": [
        "# Neural Network"
      ]
    },
    {
      "cell_type": "code",
      "metadata": {
        "id": "XZxClNXOwc2E"
      },
      "source": [
        "import tensorflow as tf\n",
        "from tensorflow import keras\n",
        "from tensorflow.keras.models import Sequential\n",
        "from tensorflow.keras.layers import Flatten, Dense, Dropout, Input\n",
        "\n",
        "keras.backend.clear_session()\n",
        "hidden_units = (32,4)\n",
        "movie_embedding_size = 8\n",
        "user_embedding_size = 8\n",
        "\n",
        "# Each instance will consist of two inputs: a single user id, and a single movie id\n",
        "user_id_input = keras.Input(shape=(1,), name='user_id')\n",
        "movie_id_input = keras.Input(shape=(1,), name='movie_id')\n",
        "user_embedded = keras.layers.Embedding(df.userId.max()+1, user_embedding_size, \n",
        "                                       input_length=1, name='user_embedding')(user_id_input)\n",
        "movie_embedded = keras.layers.Embedding(df.movieId.max()+1, movie_embedding_size, \n",
        "                                        input_length=1, name='movie_embedding')(movie_id_input)\n",
        "# Concatenate the embeddings (and remove the useless extra dimension)\n",
        "concatenated = keras.layers.Concatenate()([user_embedded, movie_embedded])\n",
        "out = keras.layers.Flatten()(concatenated)\n",
        "\n",
        "# Add one or more hidden layers\n",
        "for n_hidden in hidden_units:\n",
        "    out = keras.layers.Dense(n_hidden, activation='relu')(out)\n",
        "\n",
        "# A single output: our predicted rating\n",
        "out = keras.layers.Dense(1, activation='linear', name='prediction')(out)\n",
        "\n",
        "model = keras.Model(\n",
        "    inputs = [user_id_input, movie_id_input],\n",
        "    outputs = out,\n",
        ")\n",
        "model.summary(line_length=88)"
      ],
      "execution_count": null,
      "outputs": []
    },
    {
      "cell_type": "code",
      "metadata": {
        "id": "O4QoM8IfLXDx",
        "colab": {
          "base_uri": "https://localhost:8080/"
        },
        "outputId": "d8d0d516-fa3f-4a00-c1d3-28184a31b303"
      },
      "source": [
        "import tensorflow as tf\r\n",
        "from tensorflow import keras\r\n",
        "from tensorflow.keras.models import Sequential\r\n",
        "from tensorflow.keras.layers import Flatten, Dense, Dropout, Input\r\n",
        "\r\n",
        "keras.backend.clear_session()\r\n",
        "\r\n",
        "model = Sequential()\r\n",
        "model.add(Input(shape=(X_train.shape[1],))) \r\n",
        "model.add(Dense(64, activation='relu')) \r\n",
        "model.add(Dropout(0.7)) \r\n",
        "# model.add(Dense(1000, activation='relu')) \r\n",
        "# model.add(Dropout(0.7)) \r\n",
        "# model.add(Dense(512, activation='relu')) \r\n",
        "# model.add(Dropout(0.2)) \r\n",
        "# model.add(Dense(256, activation='relu')) \r\n",
        "# model.add(Dropout(0.2))\r\n",
        "# model.add(Dense(128, activation='relu')) \r\n",
        "# model.add(Dropout(0.2))\r\n",
        "# model.add(Dense(24, activation='relu')) \r\n",
        "# model.add(Dropout(0.2))\r\n",
        "# model.add(Dense(4, activation='relu')) \r\n",
        "# model.add(Dropout(0.2))\r\n",
        "model.add(Dense(1, activation='sigmoid'))\r\n",
        "model.summary()"
      ],
      "execution_count": 15,
      "outputs": [
        {
          "output_type": "stream",
          "text": [
            "Model: \"sequential\"\n",
            "_________________________________________________________________\n",
            "Layer (type)                 Output Shape              Param #   \n",
            "=================================================================\n",
            "dense (Dense)                (None, 64)                13504     \n",
            "_________________________________________________________________\n",
            "dropout (Dropout)            (None, 64)                0         \n",
            "_________________________________________________________________\n",
            "dense_1 (Dense)              (None, 1)                 65        \n",
            "=================================================================\n",
            "Total params: 13,569\n",
            "Trainable params: 13,569\n",
            "Non-trainable params: 0\n",
            "_________________________________________________________________\n"
          ],
          "name": "stdout"
        }
      ]
    },
    {
      "cell_type": "code",
      "metadata": {
        "id": "o6cl3yJ_NBEm"
      },
      "source": [
        "model.compile(\r\n",
        "    loss='binary_crossentropy',\r\n",
        "    optimizer='adam',\r\n",
        "    metrics=['accuracy']\r\n",
        ")"
      ],
      "execution_count": 16,
      "outputs": []
    },
    {
      "cell_type": "code",
      "metadata": {
        "colab": {
          "base_uri": "https://localhost:8080/"
        },
        "id": "DcxHJc6-OD5P",
        "outputId": "9178eeab-6089-44d1-e653-d55a409530c5"
      },
      "source": [
        "history = model.fit(\r\n",
        "    X_train, y_train,\r\n",
        "    epochs=80, \r\n",
        "    batch_size=500, \r\n",
        "    validation_data=(X_val,y_val),\r\n",
        "    verbose=1,\r\n",
        "    shuffle = True , #class_weight = {0: 1, 1: ratio / 2}\r\n",
        ")"
      ],
      "execution_count": 17,
      "outputs": [
        {
          "output_type": "stream",
          "text": [
            "Epoch 1/80\n",
            "753/753 [==============================] - 5s 4ms/step - loss: 0.5140 - accuracy: 0.8906 - val_loss: 0.1520 - val_accuracy: 0.9654\n",
            "Epoch 2/80\n",
            "753/753 [==============================] - 2s 3ms/step - loss: 0.2734 - accuracy: 0.9087 - val_loss: 0.1512 - val_accuracy: 0.9654\n",
            "Epoch 3/80\n",
            "753/753 [==============================] - 2s 3ms/step - loss: 0.2605 - accuracy: 0.9100 - val_loss: 0.1402 - val_accuracy: 0.9654\n",
            "Epoch 4/80\n",
            "753/753 [==============================] - 2s 3ms/step - loss: 0.2597 - accuracy: 0.9090 - val_loss: 0.1437 - val_accuracy: 0.9655\n",
            "Epoch 5/80\n",
            "753/753 [==============================] - 2s 3ms/step - loss: 0.2556 - accuracy: 0.9107 - val_loss: 0.1478 - val_accuracy: 0.9658\n",
            "Epoch 6/80\n",
            "753/753 [==============================] - 2s 3ms/step - loss: 0.2537 - accuracy: 0.9110 - val_loss: 0.1382 - val_accuracy: 0.9667\n",
            "Epoch 7/80\n",
            "753/753 [==============================] - 2s 3ms/step - loss: 0.2509 - accuracy: 0.9121 - val_loss: 0.1383 - val_accuracy: 0.9669\n",
            "Epoch 8/80\n",
            "753/753 [==============================] - 2s 3ms/step - loss: 0.2498 - accuracy: 0.9124 - val_loss: 0.1329 - val_accuracy: 0.9669\n",
            "Epoch 9/80\n",
            "753/753 [==============================] - 2s 3ms/step - loss: 0.2493 - accuracy: 0.9127 - val_loss: 0.1395 - val_accuracy: 0.9675\n",
            "Epoch 10/80\n",
            "753/753 [==============================] - 2s 3ms/step - loss: 0.2445 - accuracy: 0.9153 - val_loss: 0.1336 - val_accuracy: 0.9674\n",
            "Epoch 11/80\n",
            "753/753 [==============================] - 2s 3ms/step - loss: 0.2461 - accuracy: 0.9141 - val_loss: 0.1421 - val_accuracy: 0.9678\n",
            "Epoch 12/80\n",
            "753/753 [==============================] - 2s 3ms/step - loss: 0.2443 - accuracy: 0.9149 - val_loss: 0.1395 - val_accuracy: 0.9678\n",
            "Epoch 13/80\n",
            "753/753 [==============================] - 2s 3ms/step - loss: 0.2432 - accuracy: 0.9149 - val_loss: 0.1350 - val_accuracy: 0.9679\n",
            "Epoch 14/80\n",
            "753/753 [==============================] - 2s 3ms/step - loss: 0.2429 - accuracy: 0.9151 - val_loss: 0.1357 - val_accuracy: 0.9680\n",
            "Epoch 15/80\n",
            "753/753 [==============================] - 2s 3ms/step - loss: 0.2415 - accuracy: 0.9160 - val_loss: 0.1311 - val_accuracy: 0.9679\n",
            "Epoch 16/80\n",
            "753/753 [==============================] - 2s 3ms/step - loss: 0.2426 - accuracy: 0.9156 - val_loss: 0.1313 - val_accuracy: 0.9680\n",
            "Epoch 17/80\n",
            "753/753 [==============================] - 2s 3ms/step - loss: 0.2399 - accuracy: 0.9164 - val_loss: 0.1302 - val_accuracy: 0.9680\n",
            "Epoch 18/80\n",
            "753/753 [==============================] - 2s 3ms/step - loss: 0.2396 - accuracy: 0.9161 - val_loss: 0.1330 - val_accuracy: 0.9681\n",
            "Epoch 19/80\n",
            "753/753 [==============================] - 2s 3ms/step - loss: 0.2384 - accuracy: 0.9165 - val_loss: 0.1308 - val_accuracy: 0.9682\n",
            "Epoch 20/80\n",
            "753/753 [==============================] - 2s 3ms/step - loss: 0.2397 - accuracy: 0.9164 - val_loss: 0.1431 - val_accuracy: 0.9683\n",
            "Epoch 21/80\n",
            "753/753 [==============================] - 2s 3ms/step - loss: 0.2393 - accuracy: 0.9162 - val_loss: 0.1286 - val_accuracy: 0.9682\n",
            "Epoch 22/80\n",
            "753/753 [==============================] - 2s 3ms/step - loss: 0.2380 - accuracy: 0.9170 - val_loss: 0.1334 - val_accuracy: 0.9681\n",
            "Epoch 23/80\n",
            "753/753 [==============================] - 2s 3ms/step - loss: 0.2386 - accuracy: 0.9165 - val_loss: 0.1343 - val_accuracy: 0.9682\n",
            "Epoch 24/80\n",
            "753/753 [==============================] - 2s 3ms/step - loss: 0.2368 - accuracy: 0.9165 - val_loss: 0.1363 - val_accuracy: 0.9683\n",
            "Epoch 25/80\n",
            "753/753 [==============================] - 2s 3ms/step - loss: 0.2372 - accuracy: 0.9170 - val_loss: 0.1293 - val_accuracy: 0.9682\n",
            "Epoch 26/80\n",
            "753/753 [==============================] - 2s 3ms/step - loss: 0.2383 - accuracy: 0.9162 - val_loss: 0.1329 - val_accuracy: 0.9684\n",
            "Epoch 27/80\n",
            "753/753 [==============================] - 2s 3ms/step - loss: 0.2377 - accuracy: 0.9164 - val_loss: 0.1392 - val_accuracy: 0.9679\n",
            "Epoch 28/80\n",
            "753/753 [==============================] - 2s 3ms/step - loss: 0.2361 - accuracy: 0.9172 - val_loss: 0.1268 - val_accuracy: 0.9685\n",
            "Epoch 29/80\n",
            "753/753 [==============================] - 2s 3ms/step - loss: 0.2373 - accuracy: 0.9164 - val_loss: 0.1312 - val_accuracy: 0.9684\n",
            "Epoch 30/80\n",
            "753/753 [==============================] - 2s 3ms/step - loss: 0.2356 - accuracy: 0.9168 - val_loss: 0.1385 - val_accuracy: 0.9682\n",
            "Epoch 31/80\n",
            "753/753 [==============================] - 2s 3ms/step - loss: 0.2370 - accuracy: 0.9164 - val_loss: 0.1285 - val_accuracy: 0.9684\n",
            "Epoch 32/80\n",
            "753/753 [==============================] - 2s 3ms/step - loss: 0.2357 - accuracy: 0.9166 - val_loss: 0.1342 - val_accuracy: 0.9686\n",
            "Epoch 33/80\n",
            "753/753 [==============================] - 2s 3ms/step - loss: 0.2363 - accuracy: 0.9157 - val_loss: 0.1314 - val_accuracy: 0.9686\n",
            "Epoch 34/80\n",
            "753/753 [==============================] - 2s 3ms/step - loss: 0.2333 - accuracy: 0.9181 - val_loss: 0.1249 - val_accuracy: 0.9685\n",
            "Epoch 35/80\n",
            "753/753 [==============================] - 2s 3ms/step - loss: 0.2358 - accuracy: 0.9171 - val_loss: 0.1235 - val_accuracy: 0.9687\n",
            "Epoch 36/80\n",
            "753/753 [==============================] - 2s 3ms/step - loss: 0.2345 - accuracy: 0.9172 - val_loss: 0.1271 - val_accuracy: 0.9684\n",
            "Epoch 37/80\n",
            "753/753 [==============================] - 2s 3ms/step - loss: 0.2349 - accuracy: 0.9174 - val_loss: 0.1268 - val_accuracy: 0.9687\n",
            "Epoch 38/80\n",
            "753/753 [==============================] - 2s 3ms/step - loss: 0.2343 - accuracy: 0.9171 - val_loss: 0.1272 - val_accuracy: 0.9685\n",
            "Epoch 39/80\n",
            "753/753 [==============================] - 2s 3ms/step - loss: 0.2335 - accuracy: 0.9174 - val_loss: 0.1335 - val_accuracy: 0.9681\n",
            "Epoch 40/80\n",
            "753/753 [==============================] - 2s 3ms/step - loss: 0.2321 - accuracy: 0.9178 - val_loss: 0.1309 - val_accuracy: 0.9684\n",
            "Epoch 41/80\n",
            "753/753 [==============================] - 2s 3ms/step - loss: 0.2340 - accuracy: 0.9169 - val_loss: 0.1261 - val_accuracy: 0.9687\n",
            "Epoch 42/80\n",
            "753/753 [==============================] - 2s 3ms/step - loss: 0.2328 - accuracy: 0.9174 - val_loss: 0.1281 - val_accuracy: 0.9686\n",
            "Epoch 43/80\n",
            "753/753 [==============================] - 2s 3ms/step - loss: 0.2349 - accuracy: 0.9167 - val_loss: 0.1323 - val_accuracy: 0.9685\n",
            "Epoch 44/80\n",
            "753/753 [==============================] - 2s 3ms/step - loss: 0.2320 - accuracy: 0.9177 - val_loss: 0.1269 - val_accuracy: 0.9685\n",
            "Epoch 45/80\n",
            "753/753 [==============================] - 2s 3ms/step - loss: 0.2333 - accuracy: 0.9170 - val_loss: 0.1228 - val_accuracy: 0.9686\n",
            "Epoch 46/80\n",
            "753/753 [==============================] - 2s 3ms/step - loss: 0.2338 - accuracy: 0.9169 - val_loss: 0.1262 - val_accuracy: 0.9684\n",
            "Epoch 47/80\n",
            "753/753 [==============================] - 2s 3ms/step - loss: 0.2325 - accuracy: 0.9174 - val_loss: 0.1343 - val_accuracy: 0.9683\n",
            "Epoch 48/80\n",
            "753/753 [==============================] - 2s 3ms/step - loss: 0.2341 - accuracy: 0.9162 - val_loss: 0.1295 - val_accuracy: 0.9686\n",
            "Epoch 49/80\n",
            "753/753 [==============================] - 2s 3ms/step - loss: 0.2328 - accuracy: 0.9170 - val_loss: 0.1312 - val_accuracy: 0.9688\n",
            "Epoch 50/80\n",
            "753/753 [==============================] - 2s 3ms/step - loss: 0.2304 - accuracy: 0.9179 - val_loss: 0.1332 - val_accuracy: 0.9686\n",
            "Epoch 51/80\n",
            "753/753 [==============================] - 2s 3ms/step - loss: 0.2319 - accuracy: 0.9174 - val_loss: 0.1229 - val_accuracy: 0.9689\n",
            "Epoch 52/80\n",
            "753/753 [==============================] - 2s 3ms/step - loss: 0.2318 - accuracy: 0.9173 - val_loss: 0.1267 - val_accuracy: 0.9689\n",
            "Epoch 53/80\n",
            "753/753 [==============================] - 2s 3ms/step - loss: 0.2306 - accuracy: 0.9172 - val_loss: 0.1235 - val_accuracy: 0.9687\n",
            "Epoch 54/80\n",
            "753/753 [==============================] - 2s 3ms/step - loss: 0.2289 - accuracy: 0.9178 - val_loss: 0.1263 - val_accuracy: 0.9689\n",
            "Epoch 55/80\n",
            "753/753 [==============================] - 2s 3ms/step - loss: 0.2310 - accuracy: 0.9174 - val_loss: 0.1260 - val_accuracy: 0.9688\n",
            "Epoch 56/80\n",
            "753/753 [==============================] - 2s 3ms/step - loss: 0.2309 - accuracy: 0.9174 - val_loss: 0.1223 - val_accuracy: 0.9689\n",
            "Epoch 57/80\n",
            "753/753 [==============================] - 2s 3ms/step - loss: 0.2315 - accuracy: 0.9175 - val_loss: 0.1264 - val_accuracy: 0.9690\n",
            "Epoch 58/80\n",
            "753/753 [==============================] - 2s 3ms/step - loss: 0.2298 - accuracy: 0.9173 - val_loss: 0.1262 - val_accuracy: 0.9686\n",
            "Epoch 59/80\n",
            "753/753 [==============================] - 2s 3ms/step - loss: 0.2302 - accuracy: 0.9176 - val_loss: 0.1196 - val_accuracy: 0.9690\n",
            "Epoch 60/80\n",
            "753/753 [==============================] - 2s 3ms/step - loss: 0.2300 - accuracy: 0.9180 - val_loss: 0.1325 - val_accuracy: 0.9684\n",
            "Epoch 61/80\n",
            "753/753 [==============================] - 2s 3ms/step - loss: 0.2294 - accuracy: 0.9181 - val_loss: 0.1230 - val_accuracy: 0.9688\n",
            "Epoch 62/80\n",
            "753/753 [==============================] - 2s 3ms/step - loss: 0.2304 - accuracy: 0.9175 - val_loss: 0.1284 - val_accuracy: 0.9684\n",
            "Epoch 63/80\n",
            "753/753 [==============================] - 2s 3ms/step - loss: 0.2293 - accuracy: 0.9173 - val_loss: 0.1257 - val_accuracy: 0.9687\n",
            "Epoch 64/80\n",
            "753/753 [==============================] - 2s 3ms/step - loss: 0.2317 - accuracy: 0.9176 - val_loss: 0.1174 - val_accuracy: 0.9690\n",
            "Epoch 65/80\n",
            "753/753 [==============================] - 2s 3ms/step - loss: 0.2296 - accuracy: 0.9186 - val_loss: 0.1232 - val_accuracy: 0.9689\n",
            "Epoch 66/80\n",
            "753/753 [==============================] - 2s 3ms/step - loss: 0.2289 - accuracy: 0.9174 - val_loss: 0.1252 - val_accuracy: 0.9690\n",
            "Epoch 67/80\n",
            "753/753 [==============================] - 2s 3ms/step - loss: 0.2293 - accuracy: 0.9183 - val_loss: 0.1220 - val_accuracy: 0.9689\n",
            "Epoch 68/80\n",
            "753/753 [==============================] - 2s 3ms/step - loss: 0.2297 - accuracy: 0.9177 - val_loss: 0.1299 - val_accuracy: 0.9689\n",
            "Epoch 69/80\n",
            "753/753 [==============================] - 2s 3ms/step - loss: 0.2289 - accuracy: 0.9181 - val_loss: 0.1258 - val_accuracy: 0.9690\n",
            "Epoch 70/80\n",
            "753/753 [==============================] - 2s 3ms/step - loss: 0.2291 - accuracy: 0.9182 - val_loss: 0.1225 - val_accuracy: 0.9689\n",
            "Epoch 71/80\n",
            "753/753 [==============================] - 2s 3ms/step - loss: 0.2279 - accuracy: 0.9182 - val_loss: 0.1340 - val_accuracy: 0.9689\n",
            "Epoch 72/80\n",
            "753/753 [==============================] - 2s 3ms/step - loss: 0.2285 - accuracy: 0.9176 - val_loss: 0.1215 - val_accuracy: 0.9691\n",
            "Epoch 73/80\n",
            "753/753 [==============================] - 2s 3ms/step - loss: 0.2275 - accuracy: 0.9184 - val_loss: 0.1207 - val_accuracy: 0.9690\n",
            "Epoch 74/80\n",
            "753/753 [==============================] - 2s 3ms/step - loss: 0.2273 - accuracy: 0.9180 - val_loss: 0.1168 - val_accuracy: 0.9691\n",
            "Epoch 75/80\n",
            "753/753 [==============================] - 2s 3ms/step - loss: 0.2308 - accuracy: 0.9170 - val_loss: 0.1213 - val_accuracy: 0.9685\n",
            "Epoch 76/80\n",
            "753/753 [==============================] - 2s 3ms/step - loss: 0.2294 - accuracy: 0.9177 - val_loss: 0.1221 - val_accuracy: 0.9690\n",
            "Epoch 77/80\n",
            "753/753 [==============================] - 2s 3ms/step - loss: 0.2278 - accuracy: 0.9184 - val_loss: 0.1235 - val_accuracy: 0.9689\n",
            "Epoch 78/80\n",
            "753/753 [==============================] - 2s 3ms/step - loss: 0.2287 - accuracy: 0.9171 - val_loss: 0.1261 - val_accuracy: 0.9690\n",
            "Epoch 79/80\n",
            "753/753 [==============================] - 2s 3ms/step - loss: 0.2288 - accuracy: 0.9173 - val_loss: 0.1237 - val_accuracy: 0.9692\n",
            "Epoch 80/80\n",
            "753/753 [==============================] - 2s 3ms/step - loss: 0.2283 - accuracy: 0.9179 - val_loss: 0.1223 - val_accuracy: 0.9690\n"
          ],
          "name": "stdout"
        }
      ]
    },
    {
      "cell_type": "markdown",
      "metadata": {
        "id": "p-TwZZx0AOxO"
      },
      "source": [
        "# Performance evaluation"
      ]
    },
    {
      "cell_type": "code",
      "metadata": {
        "colab": {
          "base_uri": "https://localhost:8080/"
        },
        "id": "WKOHvmiVOsaP",
        "outputId": "302b21ff-701c-4290-e6e0-cef68386fcad"
      },
      "source": [
        "test_loss, test_acc = model.evaluate(X_test, y_test)\r\n",
        "\r\n",
        "print()\r\n",
        "print('Test Loss:\\t', test_loss)\r\n",
        "print('Test Accuracy:\\t', test_acc)"
      ],
      "execution_count": 18,
      "outputs": [
        {
          "output_type": "stream",
          "text": [
            "3691/3691 [==============================] - 6s 1ms/step - loss: 0.1238 - accuracy: 0.9678\n",
            "\n",
            "Test Loss:\t 0.12375960499048233\n",
            "Test Accuracy:\t 0.9678257703781128\n"
          ],
          "name": "stdout"
        }
      ]
    },
    {
      "cell_type": "code",
      "metadata": {
        "id": "ujQ7C2bhQXLN"
      },
      "source": [
        "y_pred = model.predict(X_test)"
      ],
      "execution_count": 19,
      "outputs": []
    },
    {
      "cell_type": "code",
      "metadata": {
        "colab": {
          "base_uri": "https://localhost:8080/",
          "height": 350
        },
        "id": "TWs-nW4IPaQC",
        "outputId": "05fec1f2-e901-4e07-a987-727a643da024"
      },
      "source": [
        "mf.plot_cm(y_test, y_pred, 'Blues')"
      ],
      "execution_count": 20,
      "outputs": [
        {
          "output_type": "display_data",
          "data": {
            "image/png": "[encoded data removed]",
            "text/plain": [
              "<Figure size 360x360 with 2 Axes>"
            ]
          },
          "metadata": {
            "tags": [],
            "needs_background": "light"
          }
        }
      ]
    },
    {
      "cell_type": "code",
      "metadata": {
        "colab": {
          "base_uri": "https://localhost:8080/",
          "height": 297
        },
        "id": "4ivKw-JpPkVG",
        "outputId": "8af1f836-7e94-49d9-8890-6237acc556dd"
      },
      "source": [
        "mf.plot_roc(\"ROC curve\", y_test, y_pred,color='blue')"
      ],
      "execution_count": 21,
      "outputs": [
        {
          "output_type": "stream",
          "text": [
            "AUC:  0.8575647860756712\n"
          ],
          "name": "stdout"
        },
        {
          "output_type": "display_data",
          "data": {
            "image/png": "[encoded data removed]",
            "text/plain": [
              "<Figure size 432x288 with 1 Axes>"
            ]
          },
          "metadata": {
            "tags": [],
            "needs_background": "light"
          }
        }
      ]
    },
    {
      "cell_type": "code",
      "metadata": {
        "colab": {
          "base_uri": "https://localhost:8080/",
          "height": 297
        },
        "id": "mbjYisJaYevS",
        "outputId": "f8a3344e-d34c-41d0-e9a5-e76ee2d00af2"
      },
      "source": [
        "mf.plot_ap('Precision-Recall curve', y_test, y_pred, color = 'red')"
      ],
      "execution_count": 22,
      "outputs": [
        {
          "output_type": "stream",
          "text": [
            "Average precision:  0.34381838254758135\n"
          ],
          "name": "stdout"
        },
        {
          "output_type": "display_data",
          "data": {
            "image/png": "[encoded data removed]",
            "text/plain": [
              "<Figure size 432x288 with 1 Axes>"
            ]
          },
          "metadata": {
            "tags": [],
            "needs_background": "light"
          }
        }
      ]
    },
    {
      "cell_type": "code",
      "metadata": {
        "id": "2G6888leAwmt"
      },
      "source": [
        "y_predicted = []\r\n",
        "for prob in y_pred:\r\n",
        "  if prob >= 0.5:\r\n",
        "    y_predicted.append(1)\r\n",
        "  else:\r\n",
        "    y_predicted.append(0)"
      ],
      "execution_count": 23,
      "outputs": []
    },
    {
      "cell_type": "code",
      "metadata": {
        "id": "9O9ms_BTfptM",
        "colab": {
          "base_uri": "https://localhost:8080/"
        },
        "outputId": "8e438337-f529-4b13-fa9d-5f9491ffb831"
      },
      "source": [
        "from sklearn.metrics import f1_score, recall_score, precision_score\r\n",
        "print('F1 score: ',f1_score(y_test, y_predicted, average=\"binary\"))\r\n",
        "print('Recall: ', recall_score(y_test, y_predicted, average='binary'))\r\n",
        "print('Precision: ', precision_score(y_test, y_predicted,  average='binary'))"
      ],
      "execution_count": 24,
      "outputs": [
        {
          "output_type": "stream",
          "text": [
            "F1 score:  0.19763513513513511\n",
            "Recall:  0.11231101511879049\n",
            "Precision:  0.8224956063268892\n"
          ],
          "name": "stdout"
        }
      ]
    },
    {
      "cell_type": "code",
      "metadata": {
        "id": "aYR5BCcTm108"
      },
      "source": [
        ""
      ],
      "execution_count": 24,
      "outputs": []
    }
  ]
}