{
  "nbformat": 4,
  "nbformat_minor": 0,
  "metadata": {
    "colab": {
      "name": "3_Neural_Net.ipynb",
      "provenance": [],
      "authorship_tag": "ABX9TyPyvwrjykoXHs2K/RAdzCr7",
      "include_colab_link": true
    },
    "kernelspec": {
      "name": "python3",
      "display_name": "Python 3"
    },
    "accelerator": "GPU"
  },
  "cells": [
    {
      "cell_type": "markdown",
      "metadata": {
        "id": "view-in-github",
        "colab_type": "text"
      },
      "source": [
        "<a href=\"https://colab.research.google.com/github/alessandrotofani/Tesi_magistrale/blob/master/3_Neural_Net_new.ipynb\" target=\"_parent\"><img src=\"https://colab.research.google.com/assets/colab-badge.svg\" alt=\"Open In Colab\"/></a>"
      ]
    },
    {
      "cell_type": "markdown",
      "metadata": {
        "id": "8-eTUKS6D9Fs"
      },
      "source": [
        "# Import"
      ]
    },
    {
      "cell_type": "code",
      "metadata": {
        "colab": {
          "base_uri": "https://localhost:8080/"
        },
        "id": "xtV-QCEPDVju",
        "outputId": "0488fda4-6fe3-4232-f583-73887cf1f294"
      },
      "source": [
        "import numpy as np # linear algebra\r\n",
        "import pandas as pd # data processing\r\n",
        "import matplotlib\r\n",
        "import matplotlib.pyplot as plt\r\n",
        "import seaborn as sns\r\n",
        "import os\r\n",
        "from google.colab import drive\r\n",
        "drive.mount('/content/drive')\r\n",
        "from sklearn.model_selection import train_test_split"
      ],
      "execution_count": 1,
      "outputs": [
        {
          "output_type": "stream",
          "text": [
            "Drive already mounted at /content/drive; to attempt to forcibly remount, call drive.mount(\"/content/drive\", force_remount=True).\n"
          ],
          "name": "stdout"
        }
      ]
    },
    {
      "cell_type": "code",
      "metadata": {
        "id": "QSvV9n8XDd1_"
      },
      "source": [
        "import sys \r\n",
        "sys.path.append('/content/drive/MyDrive/Tesi_magistrale/Tesi_magistrale')\r\n",
        "import mf\r\n",
        "import warnings\r\n",
        "warnings.simplefilter(action='ignore', category=FutureWarning)"
      ],
      "execution_count": 2,
      "outputs": []
    },
    {
      "cell_type": "markdown",
      "metadata": {
        "id": "k5aTQo_7D3KW"
      },
      "source": [
        "# Preprocessing"
      ]
    },
    {
      "cell_type": "code",
      "metadata": {
        "id": "3CA67WePVnds"
      },
      "source": [
        "data = pd.read_csv('/content/drive/MyDrive/Tesi_magistrale/Dataset/IEEE/Output/data.csv')\r\n",
        "data = mf.new_processing(data)\r\n",
        "data = pd.get_dummies(data)"
      ],
      "execution_count": 3,
      "outputs": []
    },
    {
      "cell_type": "code",
      "metadata": {
        "id": "ouq64I1r5lkR"
      },
      "source": [
        "cols = mf.get_col(data)"
      ],
      "execution_count": 4,
      "outputs": []
    },
    {
      "cell_type": "markdown",
      "metadata": {
        "id": "SMz_bK6DTJRl"
      },
      "source": [
        "Seleziono i dati appartenenti ai primi 60 giorni. \r\n",
        "\r\n",
        "Se ne seleziono di più, l'easy ensemble non va. "
      ]
    },
    {
      "cell_type": "markdown",
      "metadata": {
        "id": "WLwNC-RfdpGF"
      },
      "source": [
        "## Train validation test split"
      ]
    },
    {
      "cell_type": "markdown",
      "metadata": {
        "id": "m8EkabwNTN1C"
      },
      "source": [
        "Splitto il dataset in train, validation e test set. "
      ]
    },
    {
      "cell_type": "code",
      "metadata": {
        "id": "QTS6eJT9AGlU"
      },
      "source": [
        "def overSampling(X, y, frac_over=0.1):\n",
        "  from imblearn.over_sampling import SMOTE\n",
        "  sm = SMOTE(sampling_strategy=frac_over, random_state=42)\n",
        "  X_sm, y_sm = sm.fit_resample(X, y)  \n",
        "  return X_sm, y_sm"
      ],
      "execution_count": 5,
      "outputs": []
    },
    {
      "cell_type": "code",
      "metadata": {
        "id": "0cz8y-FhBpi9"
      },
      "source": [
        "X_train, X_val, y_train, y_val = mf.split(data, test_size = 0.2)\r\n",
        "del data\r\n",
        "X_train, X_test, y_train, y_test = train_test_split(X_train, y_train, test_size=0.25, random_state=42)\r\n",
        "X_train, y_train = overSampling(X_train, y_train)"
      ],
      "execution_count": 6,
      "outputs": []
    },
    {
      "cell_type": "code",
      "metadata": {
        "id": "dqOMoTQ-xkQo"
      },
      "source": [
        "save_id = False \r\n",
        "\r\n",
        "if save_id:\r\n",
        "  train_id = X_train.index.tolist()\r\n",
        "  val_id = X_val.index.tolist()\r\n",
        "  test_id = X_test.index.tolist()\r\n",
        "  mf.save_list('train_id',train_id)\r\n",
        "  mf.save_list('val_id', val_id)\r\n",
        "  mf.save_list('test_id', test_id)\r\n",
        "\r\n",
        "load_id = False \r\n",
        "if load_id:\r\n",
        "  mf.load_list('train_id',train_id)\r\n",
        "  mf.load_list('val_id', val_id)\r\n",
        "  mf.load_list('test_id', test_id)"
      ],
      "execution_count": 7,
      "outputs": []
    },
    {
      "cell_type": "markdown",
      "metadata": {
        "id": "XcNlmAIrLUcB"
      },
      "source": [
        "# Neural Network"
      ]
    },
    {
      "cell_type": "code",
      "metadata": {
        "id": "O4QoM8IfLXDx",
        "outputId": "e4a2ff6d-feae-436d-d5e9-2552a1ffc159",
        "colab": {
          "base_uri": "https://localhost:8080/"
        }
      },
      "source": [
        "import tensorflow as tf\r\n",
        "from tensorflow import keras\r\n",
        "from tensorflow.keras.models import Sequential\r\n",
        "from tensorflow.keras.layers import Flatten, Dense, Dropout, Input\r\n",
        "\r\n",
        "keras.backend.clear_session()\r\n",
        "\r\n",
        "model = Sequential()\r\n",
        "model.add(Input(shape=(X_train.shape[1],))) \r\n",
        "model.add(Dense(1000, activation='relu')) \r\n",
        "model.add(Dropout(0.7)) \r\n",
        "# model.add(Dense(512, activation='relu')) \r\n",
        "# model.add(Dropout(0.2)) \r\n",
        "# model.add(Dense(256, activation='relu')) \r\n",
        "# model.add(Dropout(0.2))\r\n",
        "# model.add(Dense(128, activation='relu')) \r\n",
        "# model.add(Dropout(0.2))\r\n",
        "# model.add(Dense(24, activation='relu')) \r\n",
        "# model.add(Dropout(0.2))\r\n",
        "# model.add(Dense(4, activation='relu')) \r\n",
        "# model.add(Dropout(0.2))\r\n",
        "model.add(Dense(1, activation='sigmoid'))\r\n",
        "model.summary()"
      ],
      "execution_count": 8,
      "outputs": [
        {
          "output_type": "stream",
          "text": [
            "Model: \"sequential\"\n",
            "_________________________________________________________________\n",
            "Layer (type)                 Output Shape              Param #   \n",
            "=================================================================\n",
            "dense (Dense)                (None, 1000)              734000    \n",
            "_________________________________________________________________\n",
            "dropout (Dropout)            (None, 1000)              0         \n",
            "_________________________________________________________________\n",
            "dense_1 (Dense)              (None, 1)                 1001      \n",
            "=================================================================\n",
            "Total params: 735,001\n",
            "Trainable params: 735,001\n",
            "Non-trainable params: 0\n",
            "_________________________________________________________________\n"
          ],
          "name": "stdout"
        }
      ]
    },
    {
      "cell_type": "code",
      "metadata": {
        "id": "o6cl3yJ_NBEm"
      },
      "source": [
        "model.compile(\r\n",
        "    loss='binary_crossentropy',\r\n",
        "    optimizer='adam',\r\n",
        "    metrics=['accuracy']\r\n",
        ")"
      ],
      "execution_count": 9,
      "outputs": []
    },
    {
      "cell_type": "code",
      "metadata": {
        "colab": {
          "base_uri": "https://localhost:8080/"
        },
        "id": "DcxHJc6-OD5P",
        "outputId": "f99e3756-6f0d-4e14-bef8-508368506a59"
      },
      "source": [
        "history = model.fit(\r\n",
        "    X_train, y_train,\r\n",
        "    epochs=20, \r\n",
        "    batch_size=500, \r\n",
        "    validation_data=(X_val,y_val),\r\n",
        "    verbose=1,\r\n",
        "    shuffle = True , #class_weight = {0: 1, 1: ratio / 2}\r\n",
        ")"
      ],
      "execution_count": 10,
      "outputs": [
        {
          "output_type": "stream",
          "text": [
            "Epoch 1/20\n",
            "753/753 [==============================] - 5s 6ms/step - loss: 0.2573 - accuracy: 0.9105 - val_loss: 0.1367 - val_accuracy: 0.9620\n",
            "Epoch 2/20\n",
            "753/753 [==============================] - 3s 4ms/step - loss: 0.2246 - accuracy: 0.9209 - val_loss: 0.1301 - val_accuracy: 0.9667\n",
            "Epoch 3/20\n",
            "753/753 [==============================] - 4s 5ms/step - loss: 0.2182 - accuracy: 0.9235 - val_loss: 0.1311 - val_accuracy: 0.9651\n",
            "Epoch 4/20\n",
            "753/753 [==============================] - 4s 5ms/step - loss: 0.2084 - accuracy: 0.9266 - val_loss: 0.1308 - val_accuracy: 0.9655\n",
            "Epoch 5/20\n",
            "753/753 [==============================] - 3s 5ms/step - loss: 0.2057 - accuracy: 0.9278 - val_loss: 0.1308 - val_accuracy: 0.9671\n",
            "Epoch 6/20\n",
            "753/753 [==============================] - 3s 4ms/step - loss: 0.2012 - accuracy: 0.9291 - val_loss: 0.1248 - val_accuracy: 0.9668\n",
            "Epoch 7/20\n",
            "753/753 [==============================] - 3s 4ms/step - loss: 0.1999 - accuracy: 0.9293 - val_loss: 0.1253 - val_accuracy: 0.9673\n",
            "Epoch 8/20\n",
            "753/753 [==============================] - 3s 4ms/step - loss: 0.1964 - accuracy: 0.9308 - val_loss: 0.1181 - val_accuracy: 0.9684\n",
            "Epoch 9/20\n",
            "753/753 [==============================] - 3s 4ms/step - loss: 0.1927 - accuracy: 0.9321 - val_loss: 0.1122 - val_accuracy: 0.9692\n",
            "Epoch 10/20\n",
            "753/753 [==============================] - 3s 4ms/step - loss: 0.1906 - accuracy: 0.9333 - val_loss: 0.1132 - val_accuracy: 0.9694\n",
            "Epoch 11/20\n",
            "753/753 [==============================] - 3s 4ms/step - loss: 0.1883 - accuracy: 0.9336 - val_loss: 0.1106 - val_accuracy: 0.9702\n",
            "Epoch 12/20\n",
            "753/753 [==============================] - 3s 4ms/step - loss: 0.1861 - accuracy: 0.9343 - val_loss: 0.1092 - val_accuracy: 0.9703\n",
            "Epoch 13/20\n",
            "753/753 [==============================] - 3s 4ms/step - loss: 0.1846 - accuracy: 0.9345 - val_loss: 0.1150 - val_accuracy: 0.9692\n",
            "Epoch 14/20\n",
            "753/753 [==============================] - 3s 4ms/step - loss: 0.1816 - accuracy: 0.9356 - val_loss: 0.1097 - val_accuracy: 0.9701\n",
            "Epoch 15/20\n",
            "753/753 [==============================] - 3s 4ms/step - loss: 0.1798 - accuracy: 0.9366 - val_loss: 0.1092 - val_accuracy: 0.9707\n",
            "Epoch 16/20\n",
            "753/753 [==============================] - 3s 4ms/step - loss: 0.1801 - accuracy: 0.9359 - val_loss: 0.1092 - val_accuracy: 0.9713\n",
            "Epoch 17/20\n",
            "753/753 [==============================] - 3s 4ms/step - loss: 0.1766 - accuracy: 0.9380 - val_loss: 0.1075 - val_accuracy: 0.9709\n",
            "Epoch 18/20\n",
            "753/753 [==============================] - 3s 4ms/step - loss: 0.1757 - accuracy: 0.9379 - val_loss: 0.1123 - val_accuracy: 0.9703\n",
            "Epoch 19/20\n",
            "753/753 [==============================] - 3s 4ms/step - loss: 0.1734 - accuracy: 0.9391 - val_loss: 0.1127 - val_accuracy: 0.9699\n",
            "Epoch 20/20\n",
            "753/753 [==============================] - 3s 4ms/step - loss: 0.1723 - accuracy: 0.9388 - val_loss: 0.1072 - val_accuracy: 0.9713\n"
          ],
          "name": "stdout"
        }
      ]
    },
    {
      "cell_type": "markdown",
      "metadata": {
        "id": "p-TwZZx0AOxO"
      },
      "source": [
        "# Performance evaluation"
      ]
    },
    {
      "cell_type": "code",
      "metadata": {
        "colab": {
          "base_uri": "https://localhost:8080/"
        },
        "id": "WKOHvmiVOsaP",
        "outputId": "8fa0b34c-f3a6-479b-93bf-e1b3be874ef1"
      },
      "source": [
        "test_loss, test_acc = model.evaluate(X_test, y_test)\r\n",
        "\r\n",
        "print()\r\n",
        "print('Test Loss:\\t', test_loss)\r\n",
        "print('Test Accuracy:\\t', test_acc)"
      ],
      "execution_count": 11,
      "outputs": [
        {
          "output_type": "stream",
          "text": [
            "3691/3691 [==============================] - 7s 2ms/step - loss: 0.1074 - accuracy: 0.9720\n",
            "\n",
            "Test Loss:\t 0.10743599385023117\n",
            "Test Accuracy:\t 0.9719745516777039\n"
          ],
          "name": "stdout"
        }
      ]
    },
    {
      "cell_type": "code",
      "metadata": {
        "id": "ujQ7C2bhQXLN"
      },
      "source": [
        "y_pred = model.predict(X_test)"
      ],
      "execution_count": 12,
      "outputs": []
    },
    {
      "cell_type": "code",
      "metadata": {
        "colab": {
          "base_uri": "https://localhost:8080/",
          "height": 350
        },
        "id": "TWs-nW4IPaQC",
        "outputId": "4340c71d-67a3-4b61-a6b5-e7f3806552cf"
      },
      "source": [
        "mf.plot_cm(y_test, y_pred, 'Blues')"
      ],
      "execution_count": 13,
      "outputs": [
        {
          "output_type": "display_data",
          "data": {
            "image/png": "[encoded data removed]",
            "text/plain": [
              "<Figure size 360x360 with 2 Axes>"
            ]
          },
          "metadata": {
            "tags": [],
            "needs_background": "light"
          }
        }
      ]
    },
    {
      "cell_type": "code",
      "metadata": {
        "colab": {
          "base_uri": "https://localhost:8080/",
          "height": 297
        },
        "id": "4ivKw-JpPkVG",
        "outputId": "96c3ae0e-f5b3-4017-ac04-d99be65a5a7d"
      },
      "source": [
        "mf.plot_roc(\"ROC curve\", y_test, y_pred,color='blue')"
      ],
      "execution_count": 14,
      "outputs": [
        {
          "output_type": "stream",
          "text": [
            "AUC:  0.8800629899469075\n"
          ],
          "name": "stdout"
        },
        {
          "output_type": "display_data",
          "data": {
            "image/png": "[encoded data removed]",
            "text/plain": [
              "<Figure size 432x288 with 1 Axes>"
            ]
          },
          "metadata": {
            "tags": [],
            "needs_background": "light"
          }
        }
      ]
    },
    {
      "cell_type": "code",
      "metadata": {
        "colab": {
          "base_uri": "https://localhost:8080/",
          "height": 297
        },
        "id": "mbjYisJaYevS",
        "outputId": "eee9519b-1f05-49c3-d8a7-fe93454e9358"
      },
      "source": [
        "mf.plot_ap('Precision-Recall curve', y_test, y_pred, color = 'red')"
      ],
      "execution_count": 15,
      "outputs": [
        {
          "output_type": "stream",
          "text": [
            "Average precision:  0.48683108770979744\n"
          ],
          "name": "stdout"
        },
        {
          "output_type": "display_data",
          "data": {
            "image/png": "[encoded data removed]",
            "text/plain": [
              "<Figure size 432x288 with 1 Axes>"
            ]
          },
          "metadata": {
            "tags": [],
            "needs_background": "light"
          }
        }
      ]
    },
    {
      "cell_type": "code",
      "metadata": {
        "id": "2G6888leAwmt"
      },
      "source": [
        "y_predicted = []\r\n",
        "for prob in y_pred:\r\n",
        "  if prob >= 0.5:\r\n",
        "    y_predicted.append(1)\r\n",
        "  else:\r\n",
        "    y_predicted.append(0)"
      ],
      "execution_count": 16,
      "outputs": []
    },
    {
      "cell_type": "code",
      "metadata": {
        "id": "9O9ms_BTfptM",
        "colab": {
          "base_uri": "https://localhost:8080/"
        },
        "outputId": "da275069-07d4-4e01-b2e6-0613fb60c7dd"
      },
      "source": [
        "from sklearn.metrics import f1_score, recall_score, precision_score\r\n",
        "print('F1 score: ',f1_score(y_test, y_predicted, average=\"binary\"))\r\n",
        "print('Recall: ', recall_score(y_test, y_predicted, average='binary'))\r\n",
        "print('Precision: ', precision_score(y_test, y_predicted,  average='binary'))"
      ],
      "execution_count": 17,
      "outputs": [
        {
          "output_type": "stream",
          "text": [
            "F1 score:  0.4666451820818563\n",
            "Recall:  0.3488316068417249\n",
            "Precision:  0.7046228710462287\n"
          ],
          "name": "stdout"
        }
      ]
    },
    {
      "cell_type": "code",
      "metadata": {
        "id": "aYR5BCcTm108"
      },
      "source": [
        ""
      ],
      "execution_count": 17,
      "outputs": []
    }
  ]
}