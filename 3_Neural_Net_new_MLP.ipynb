{
  "nbformat": 4,
  "nbformat_minor": 0,
  "metadata": {
    "colab": {
      "name": "3_Neural_Net.ipynb",
      "provenance": [],
      "authorship_tag": "ABX9TyOzqjxCd5eluGIzbnzD6+Xq",
      "include_colab_link": true
    },
    "kernelspec": {
      "name": "python3",
      "display_name": "Python 3"
    },
    "accelerator": "GPU"
  },
  "cells": [
    {
      "cell_type": "markdown",
      "metadata": {
        "id": "view-in-github",
        "colab_type": "text"
      },
      "source": [
        "<a href=\"https://colab.research.google.com/github/alessandrotofani/Tesi_magistrale/blob/master/3_Neural_Net_new_MLP.ipynb\" target=\"_parent\"><img src=\"https://colab.research.google.com/assets/colab-badge.svg\" alt=\"Open In Colab\"/></a>"
      ]
    },
    {
      "cell_type": "markdown",
      "metadata": {
        "id": "8-eTUKS6D9Fs"
      },
      "source": [
        "# Import"
      ]
    },
    {
      "cell_type": "code",
      "metadata": {
        "colab": {
          "base_uri": "https://localhost:8080/"
        },
        "id": "xtV-QCEPDVju",
        "outputId": "a9d99661-a939-4bf0-f691-6a4e6aac1844"
      },
      "source": [
        "import numpy as np # linear algebra\r\n",
        "import pandas as pd # data processing\r\n",
        "import matplotlib\r\n",
        "import matplotlib.pyplot as plt\r\n",
        "import seaborn as sns\r\n",
        "import os\r\n",
        "from google.colab import drive\r\n",
        "drive.mount('/content/drive')\r\n",
        "from sklearn.model_selection import train_test_split"
      ],
      "execution_count": 1,
      "outputs": [
        {
          "output_type": "stream",
          "text": [
            "Drive already mounted at /content/drive; to attempt to forcibly remount, call drive.mount(\"/content/drive\", force_remount=True).\n"
          ],
          "name": "stdout"
        }
      ]
    },
    {
      "cell_type": "code",
      "metadata": {
        "id": "x901qzYaZwqP",
        "outputId": "12a22be0-6ab7-48ac-a0ae-f31e0f4831dc",
        "colab": {
          "base_uri": "https://localhost:8080/"
        }
      },
      "source": [
        "!pip install --quiet fastai==2.2.5"
      ],
      "execution_count": 2,
      "outputs": [
        {
          "output_type": "stream",
          "text": [
            "\u001b[K     |████████████████████████████████| 194kB 18.7MB/s \n",
            "\u001b[K     |████████████████████████████████| 776.8MB 24kB/s \n",
            "\u001b[K     |████████████████████████████████| 61kB 9.6MB/s \n",
            "\u001b[K     |████████████████████████████████| 12.8MB 205kB/s \n",
            "\u001b[31mERROR: torchtext 0.9.0 has requirement torch==1.8.0, but you'll have torch 1.7.1 which is incompatible.\u001b[0m\n",
            "\u001b[?25h"
          ],
          "name": "stdout"
        }
      ]
    },
    {
      "cell_type": "code",
      "metadata": {
        "id": "QSvV9n8XDd1_"
      },
      "source": [
        "import sys \r\n",
        "sys.path.append('/content/drive/MyDrive/Tesi_magistrale/Tesi_magistrale')\r\n",
        "import mf\r\n",
        "import warnings\r\n",
        "warnings.simplefilter(action='ignore', category=FutureWarning)"
      ],
      "execution_count": 3,
      "outputs": []
    },
    {
      "cell_type": "markdown",
      "metadata": {
        "id": "k5aTQo_7D3KW"
      },
      "source": [
        "# Preprocessing"
      ]
    },
    {
      "cell_type": "code",
      "metadata": {
        "id": "3CA67WePVnds"
      },
      "source": [
        "data = pd.read_csv('/content/drive/MyDrive/Tesi_magistrale/Dataset/IEEE/Output/data.csv')\r\n",
        "data = mf.new_processing(data)"
      ],
      "execution_count": 4,
      "outputs": []
    },
    {
      "cell_type": "code",
      "metadata": {
        "id": "ouq64I1r5lkR"
      },
      "source": [
        "cols = mf.get_col(data)"
      ],
      "execution_count": 5,
      "outputs": []
    },
    {
      "cell_type": "code",
      "metadata": {
        "id": "GRYQU4obQE8V"
      },
      "source": [
        "from fastai.tabular.all import *"
      ],
      "execution_count": 6,
      "outputs": []
    },
    {
      "cell_type": "code",
      "metadata": {
        "id": "ruoqZDmGS48a"
      },
      "source": [
        "categorical_col = data.select_dtypes(include=['object']).columns.tolist()"
      ],
      "execution_count": 7,
      "outputs": []
    },
    {
      "cell_type": "code",
      "metadata": {
        "id": "9WHzC-MHVTBV"
      },
      "source": [
        "def get_numerical_col(data, categorical_col):\n",
        "  numerical_col = []\n",
        "  for col in data.columns:\n",
        "    if col not in categorical_col and col != 'isFraud':\n",
        "      numerical_col.append(col)\n",
        "  return numerical_col\n",
        "\n",
        "numerical_col = get_numerical_col(data, categorical_col)"
      ],
      "execution_count": 8,
      "outputs": []
    },
    {
      "cell_type": "markdown",
      "metadata": {
        "id": "_IkJQpHuhnXm"
      },
      "source": [
        "Tutorial: https://docs.fast.ai/tutorial.tabular.html\n",
        "\n",
        "Book: https://github.com/fastai/fastbook/blob/master/09_tabular.ipynb"
      ]
    },
    {
      "cell_type": "code",
      "metadata": {
        "id": "uss-vsWXQE3E"
      },
      "source": [
        "fasted = TabularPandas(data, procs=[Categorify],\n",
        "                   cat_names = categorical_col,\n",
        "                   cont_names = numerical_col,\n",
        "                   y_names='isFraud')\n",
        "                  #  splits=splits)"
      ],
      "execution_count": 9,
      "outputs": []
    },
    {
      "cell_type": "code",
      "metadata": {
        "id": "X-fjffG1UwkY"
      },
      "source": [
        "X_train, y_train = fasted.xs, fasted.ys.values.ravel()"
      ],
      "execution_count": 10,
      "outputs": []
    },
    {
      "cell_type": "code",
      "metadata": {
        "id": "Da6EBrZcrZpF"
      },
      "source": [
        "categorical_col_toemb = []\n",
        "one_hot_encode = []\n",
        "for col in categorical_col:\n",
        "  if X_train[col].max() > 7:\n",
        "    categorical_col_toemb.append(col)\n",
        "  else:\n",
        "    one_hot_encode.append(col)\n",
        "\n",
        "X_train = pd.get_dummies(X_train, columns=one_hot_encode)\n",
        "cols = mf.get_col(X_train)"
      ],
      "execution_count": 11,
      "outputs": []
    },
    {
      "cell_type": "code",
      "metadata": {
        "id": "pDwfRa1mr7Jy"
      },
      "source": [
        "numerical_col = get_numerical_col(X_train, categorical_col_toemb)"
      ],
      "execution_count": 12,
      "outputs": []
    },
    {
      "cell_type": "markdown",
      "metadata": {
        "id": "WLwNC-RfdpGF"
      },
      "source": [
        "## Train validation test split"
      ]
    },
    {
      "cell_type": "markdown",
      "metadata": {
        "id": "m8EkabwNTN1C"
      },
      "source": [
        "Splitto il dataset in train, validation e test set. "
      ]
    },
    {
      "cell_type": "code",
      "metadata": {
        "id": "QTS6eJT9AGlU"
      },
      "source": [
        "def overSampling(X, y, frac_over=0.08):\n",
        "  from imblearn.over_sampling import SMOTE\n",
        "  sm = SMOTE(sampling_strategy=frac_over, random_state=42)\n",
        "  X_sm, y_sm = sm.fit_resample(X, y)  \n",
        "  return X_sm, y_sm"
      ],
      "execution_count": 13,
      "outputs": []
    },
    {
      "cell_type": "code",
      "metadata": {
        "id": "b1lw52XFUZBG"
      },
      "source": [
        "X_train, X_test, y_train, y_test = train_test_split(X_train, y_train, test_size = 0.2)\n",
        "X_train, y_train = overSampling(X_train, y_train)\n",
        "X_train, X_val, y_train, y_val = train_test_split(X_train, y_train, test_size=0.25, random_state=42)"
      ],
      "execution_count": 14,
      "outputs": []
    },
    {
      "cell_type": "code",
      "metadata": {
        "id": "dqOMoTQ-xkQo"
      },
      "source": [
        "save = True \r\n",
        "\r\n",
        "if save:\r\n",
        "  # train_id = X_train.index.tolist()\r\n",
        "  # val_id = X_val.index.tolist()\r\n",
        "  test_id = X_test.index.tolist()\r\n",
        "  # mf.save_list('train_id',train_id)\r\n",
        "  # mf.save_list('val_id', val_id)\r\n",
        "  mf.save_list('test_id', test_id)\r\n",
        "\r\n",
        "load_id = False \r\n",
        "if load_id:\r\n",
        "  mf.load_list('train_id',train_id)\r\n",
        "  mf.load_list('val_id', val_id)\r\n",
        "  mf.load_list('test_id', test_id)"
      ],
      "execution_count": 15,
      "outputs": []
    },
    {
      "cell_type": "markdown",
      "metadata": {
        "id": "XcNlmAIrLUcB"
      },
      "source": [
        "# Neural Network"
      ]
    },
    {
      "cell_type": "markdown",
      "metadata": {
        "id": "HypjIBuVX2UT"
      },
      "source": [
        "Kaggle tutorial https://www.kaggle.com/colinmorris/embedding-layers\n",
        "\n",
        "Implementation: https://www.kaggle.com/blaskowitz100/dnn-keras-and-categorical-feature-embedding"
      ]
    },
    {
      "cell_type": "code",
      "metadata": {
        "id": "-19ItfoMTD0L"
      },
      "source": [
        "import tensorflow as tf\n",
        "from tensorflow import keras\n",
        "from tensorflow.keras import models\n",
        "from tensorflow.keras import layers\n",
        "\n",
        "keras.backend.clear_session()\n",
        "# Embedding for categorical features\n",
        "categorical_input = []\n",
        "numerical_input = []\n",
        "embeddings = []\n",
        "embedding_layer_names = []\n",
        "for col in categorical_col_toemb:\n",
        "# for col in categorical_col:\n",
        "    _input = layers.Input(shape=[1], name=col)\n",
        "    _embed = layers.Embedding(fasted[col].max() + 1, 3, name=col+'_emb')(_input)\n",
        "    categorical_input.append(_input)\n",
        "    embeddings.append(_embed)\n",
        "    embedding_layer_names.append(col+'_emb')\n",
        "    \n",
        "# Simple inputs for the numeric features\n",
        "for col in numerical_col:\n",
        "    numeric_input = layers.Input(shape=(1,), name=col)\n",
        "    numerical_input.append(numeric_input)\n",
        "    \n",
        "# Merge the numeric inputs\n",
        "merged_num_inputs = layers.concatenate(numerical_input)\n",
        "\n",
        "# Merge embedding and use a Droput to prevent overfittting\n",
        "merged_inputs = layers.concatenate(embeddings)\n",
        "spatial_dropout = layers.SpatialDropout1D(0.2)(merged_inputs) #0.05\n",
        "flat_embed = layers.Flatten()(spatial_dropout)\n",
        "\n",
        "# Merge embedding and numeric features\n",
        "all_features = layers.concatenate([flat_embed, merged_num_inputs])\n",
        "\n",
        "# MLP for classification\n",
        "x = layers.Dense(360, activation=tf.keras.activations.gelu)(all_features) #360\n",
        "x = layers.BatchNormalization()(x)\n",
        "x = layers.Dropout(0.05)(x) #0.05\n",
        "\n",
        "# Final model\n",
        "output = layers.Dense(1, activation='sigmoid')(x)\n",
        "model = models.Model(inputs=categorical_input + numerical_input, outputs=output)"
      ],
      "execution_count": 16,
      "outputs": []
    },
    {
      "cell_type": "code",
      "metadata": {
        "id": "UtPJD6YkUKZe"
      },
      "source": [
        "model.compile(loss='binary_crossentropy', optimizer='adam', metrics=['accuracy',tf.keras.metrics.Recall(), tf.keras.metrics.Precision()])"
      ],
      "execution_count": 17,
      "outputs": []
    },
    {
      "cell_type": "code",
      "metadata": {
        "id": "kJxOM99jPYxe"
      },
      "source": [
        "def get_keras_dataset(X, cols):\n",
        "  df = pd.DataFrame(data=X, columns=cols)\n",
        "  X = {str(col) : np.array(df[col]) for col in df.columns}\n",
        "  return X"
      ],
      "execution_count": 18,
      "outputs": []
    },
    {
      "cell_type": "code",
      "metadata": {
        "colab": {
          "base_uri": "https://localhost:8080/"
        },
        "id": "DcxHJc6-OD5P",
        "outputId": "7ff7fd4a-04f9-48b1-c27f-207b0c5e1a54"
      },
      "source": [
        "history = model.fit(\r\n",
        "    get_keras_dataset(X_train, cols), \r\n",
        "    y_train,\r\n",
        "    epochs=40, #30 \r\n",
        "    batch_size=512, # 512\r\n",
        "    validation_data=(get_keras_dataset(X_val, cols),y_val),\r\n",
        "    verbose=1,\r\n",
        "    shuffle = True , \r\n",
        "    class_weight = {0: 0.5, 1: 3.5} #5 3.5\r\n",
        ")"
      ],
      "execution_count": 19,
      "outputs": [
        {
          "output_type": "stream",
          "text": [
            "Epoch 1/40\n",
            "722/722 [==============================] - 25s 27ms/step - loss: 0.3733 - accuracy: 0.8183 - recall: 0.6133 - precision: 0.2385 - val_loss: 0.4940 - val_accuracy: 0.7963 - val_recall: 0.7571 - val_precision: 0.2310\n",
            "Epoch 2/40\n",
            "722/722 [==============================] - 18s 25ms/step - loss: 0.3083 - accuracy: 0.8756 - recall: 0.6522 - precision: 0.3291 - val_loss: 0.3063 - val_accuracy: 0.8715 - val_recall: 0.6628 - val_precision: 0.3203\n",
            "Epoch 3/40\n",
            "722/722 [==============================] - 18s 25ms/step - loss: 0.2949 - accuracy: 0.8789 - recall: 0.6756 - precision: 0.3400 - val_loss: 0.2869 - val_accuracy: 0.8745 - val_recall: 0.6489 - val_precision: 0.3245\n",
            "Epoch 4/40\n",
            "722/722 [==============================] - 18s 25ms/step - loss: 0.2858 - accuracy: 0.8841 - recall: 0.6922 - precision: 0.3567 - val_loss: 0.2398 - val_accuracy: 0.9175 - val_recall: 0.6029 - val_precision: 0.4553\n",
            "Epoch 5/40\n",
            "722/722 [==============================] - 18s 25ms/step - loss: 0.2744 - accuracy: 0.8903 - recall: 0.7020 - precision: 0.3698 - val_loss: 0.2773 - val_accuracy: 0.8913 - val_recall: 0.6717 - val_precision: 0.3696\n",
            "Epoch 6/40\n",
            "722/722 [==============================] - 18s 25ms/step - loss: 0.2719 - accuracy: 0.8909 - recall: 0.7127 - precision: 0.3763 - val_loss: 0.2369 - val_accuracy: 0.9217 - val_recall: 0.6388 - val_precision: 0.4767\n",
            "Epoch 7/40\n",
            "722/722 [==============================] - 18s 25ms/step - loss: 0.2652 - accuracy: 0.8942 - recall: 0.7163 - precision: 0.3838 - val_loss: 0.3151 - val_accuracy: 0.8819 - val_recall: 0.7288 - val_precision: 0.3537\n",
            "Epoch 8/40\n",
            "722/722 [==============================] - 18s 26ms/step - loss: 0.2630 - accuracy: 0.8957 - recall: 0.7193 - precision: 0.3915 - val_loss: 0.2397 - val_accuracy: 0.9107 - val_recall: 0.7030 - val_precision: 0.4347\n",
            "Epoch 9/40\n",
            "722/722 [==============================] - 18s 25ms/step - loss: 0.2600 - accuracy: 0.8976 - recall: 0.7276 - precision: 0.3965 - val_loss: 0.2655 - val_accuracy: 0.8998 - val_recall: 0.7312 - val_precision: 0.4013\n",
            "Epoch 10/40\n",
            "722/722 [==============================] - 18s 25ms/step - loss: 0.2531 - accuracy: 0.9004 - recall: 0.7379 - precision: 0.4062 - val_loss: 0.3041 - val_accuracy: 0.8803 - val_recall: 0.7758 - val_precision: 0.3567\n",
            "Epoch 11/40\n",
            "722/722 [==============================] - 18s 25ms/step - loss: 0.2528 - accuracy: 0.8993 - recall: 0.7364 - precision: 0.4017 - val_loss: 0.2403 - val_accuracy: 0.9061 - val_recall: 0.7095 - val_precision: 0.4192\n",
            "Epoch 12/40\n",
            "722/722 [==============================] - 18s 26ms/step - loss: 0.2517 - accuracy: 0.8991 - recall: 0.7426 - precision: 0.4029 - val_loss: 0.2076 - val_accuracy: 0.9257 - val_recall: 0.6776 - val_precision: 0.4969\n",
            "Epoch 13/40\n",
            "722/722 [==============================] - 18s 25ms/step - loss: 0.2446 - accuracy: 0.9042 - recall: 0.7495 - precision: 0.4187 - val_loss: 0.2476 - val_accuracy: 0.9015 - val_recall: 0.7189 - val_precision: 0.4053\n",
            "Epoch 14/40\n",
            "722/722 [==============================] - 18s 25ms/step - loss: 0.2415 - accuracy: 0.9048 - recall: 0.7542 - precision: 0.4217 - val_loss: 0.2651 - val_accuracy: 0.9003 - val_recall: 0.7663 - val_precision: 0.4064\n",
            "Epoch 15/40\n",
            "722/722 [==============================] - 18s 25ms/step - loss: 0.2393 - accuracy: 0.9061 - recall: 0.7523 - precision: 0.4230 - val_loss: 0.3139 - val_accuracy: 0.8748 - val_recall: 0.8004 - val_precision: 0.3482\n",
            "Epoch 16/40\n",
            "722/722 [==============================] - 18s 25ms/step - loss: 0.2366 - accuracy: 0.9063 - recall: 0.7579 - precision: 0.4232 - val_loss: 0.2764 - val_accuracy: 0.8910 - val_recall: 0.7936 - val_precision: 0.3841\n",
            "Epoch 17/40\n",
            "722/722 [==============================] - 18s 25ms/step - loss: 0.2317 - accuracy: 0.9086 - recall: 0.7660 - precision: 0.4336 - val_loss: 0.1860 - val_accuracy: 0.9350 - val_recall: 0.6391 - val_precision: 0.5509\n",
            "Epoch 18/40\n",
            "722/722 [==============================] - 18s 25ms/step - loss: 0.2339 - accuracy: 0.9083 - recall: 0.7629 - precision: 0.4335 - val_loss: 0.3737 - val_accuracy: 0.8390 - val_recall: 0.8593 - val_precision: 0.2960\n",
            "Epoch 19/40\n",
            "722/722 [==============================] - 18s 25ms/step - loss: 0.2293 - accuracy: 0.9100 - recall: 0.7691 - precision: 0.4340 - val_loss: 0.2060 - val_accuracy: 0.9280 - val_recall: 0.7177 - val_precision: 0.5081\n",
            "Epoch 20/40\n",
            "722/722 [==============================] - 18s 25ms/step - loss: 0.2246 - accuracy: 0.9130 - recall: 0.7778 - precision: 0.4472 - val_loss: 0.2494 - val_accuracy: 0.9038 - val_recall: 0.7830 - val_precision: 0.4187\n",
            "Epoch 21/40\n",
            "722/722 [==============================] - 18s 25ms/step - loss: 0.2247 - accuracy: 0.9106 - recall: 0.7759 - precision: 0.4414 - val_loss: 0.2115 - val_accuracy: 0.9227 - val_recall: 0.7311 - val_precision: 0.4841\n",
            "Epoch 22/40\n",
            "722/722 [==============================] - 18s 25ms/step - loss: 0.2224 - accuracy: 0.9114 - recall: 0.7815 - precision: 0.4444 - val_loss: 0.1855 - val_accuracy: 0.9321 - val_recall: 0.6923 - val_precision: 0.5304\n",
            "Epoch 23/40\n",
            "722/722 [==============================] - 18s 25ms/step - loss: 0.2226 - accuracy: 0.9132 - recall: 0.7815 - precision: 0.4527 - val_loss: 0.1837 - val_accuracy: 0.9351 - val_recall: 0.7042 - val_precision: 0.5466\n",
            "Epoch 24/40\n",
            "722/722 [==============================] - 18s 25ms/step - loss: 0.2214 - accuracy: 0.9116 - recall: 0.7825 - precision: 0.4440 - val_loss: 0.1484 - val_accuracy: 0.9489 - val_recall: 0.5892 - val_precision: 0.6765\n",
            "Epoch 25/40\n",
            "722/722 [==============================] - 18s 26ms/step - loss: 0.2193 - accuracy: 0.9137 - recall: 0.7818 - precision: 0.4519 - val_loss: 0.2607 - val_accuracy: 0.8990 - val_recall: 0.7893 - val_precision: 0.4049\n",
            "Epoch 26/40\n",
            "722/722 [==============================] - 18s 25ms/step - loss: 0.2175 - accuracy: 0.9151 - recall: 0.7839 - precision: 0.4553 - val_loss: 0.2236 - val_accuracy: 0.9189 - val_recall: 0.7781 - val_precision: 0.4698\n",
            "Epoch 27/40\n",
            "722/722 [==============================] - 18s 25ms/step - loss: 0.2173 - accuracy: 0.9144 - recall: 0.7892 - precision: 0.4595 - val_loss: 0.1791 - val_accuracy: 0.9360 - val_recall: 0.6967 - val_precision: 0.5524\n",
            "Epoch 28/40\n",
            "722/722 [==============================] - 18s 26ms/step - loss: 0.2144 - accuracy: 0.9158 - recall: 0.7911 - precision: 0.4602 - val_loss: 0.1509 - val_accuracy: 0.9471 - val_recall: 0.6287 - val_precision: 0.6446\n",
            "Epoch 29/40\n",
            "722/722 [==============================] - 18s 25ms/step - loss: 0.2112 - accuracy: 0.9176 - recall: 0.7897 - precision: 0.4671 - val_loss: 0.2527 - val_accuracy: 0.8982 - val_recall: 0.8078 - val_precision: 0.4046\n",
            "Epoch 30/40\n",
            "722/722 [==============================] - 18s 26ms/step - loss: 0.2089 - accuracy: 0.9177 - recall: 0.7941 - precision: 0.4682 - val_loss: 0.2384 - val_accuracy: 0.9061 - val_recall: 0.7921 - val_precision: 0.4265\n",
            "Epoch 31/40\n",
            "722/722 [==============================] - 18s 25ms/step - loss: 0.2089 - accuracy: 0.9180 - recall: 0.7924 - precision: 0.4677 - val_loss: 0.2382 - val_accuracy: 0.9103 - val_recall: 0.7912 - val_precision: 0.4398\n",
            "Epoch 32/40\n",
            "722/722 [==============================] - 18s 25ms/step - loss: 0.2089 - accuracy: 0.9178 - recall: 0.7970 - precision: 0.4687 - val_loss: 0.2704 - val_accuracy: 0.8877 - val_recall: 0.8152 - val_precision: 0.3786\n",
            "Epoch 33/40\n",
            "722/722 [==============================] - 18s 25ms/step - loss: 0.2084 - accuracy: 0.9175 - recall: 0.7974 - precision: 0.4662 - val_loss: 0.2598 - val_accuracy: 0.8949 - val_recall: 0.8295 - val_precision: 0.3980\n",
            "Epoch 34/40\n",
            "722/722 [==============================] - 18s 26ms/step - loss: 0.2061 - accuracy: 0.9199 - recall: 0.8013 - precision: 0.4782 - val_loss: 0.3830 - val_accuracy: 0.8329 - val_recall: 0.8904 - val_precision: 0.2922\n",
            "Epoch 35/40\n",
            "722/722 [==============================] - 18s 25ms/step - loss: 0.2036 - accuracy: 0.9194 - recall: 0.8005 - precision: 0.4761 - val_loss: 0.2130 - val_accuracy: 0.9157 - val_recall: 0.7783 - val_precision: 0.4578\n",
            "Epoch 36/40\n",
            "722/722 [==============================] - 18s 25ms/step - loss: 0.2036 - accuracy: 0.9204 - recall: 0.8022 - precision: 0.4788 - val_loss: 0.1691 - val_accuracy: 0.9397 - val_recall: 0.7099 - val_precision: 0.5737\n",
            "Epoch 37/40\n",
            "722/722 [==============================] - 18s 25ms/step - loss: 0.2010 - accuracy: 0.9204 - recall: 0.8046 - precision: 0.4799 - val_loss: 0.2655 - val_accuracy: 0.8938 - val_recall: 0.8152 - val_precision: 0.3936\n",
            "Epoch 38/40\n",
            "722/722 [==============================] - 18s 25ms/step - loss: 0.2002 - accuracy: 0.9208 - recall: 0.8075 - precision: 0.4803 - val_loss: 0.2253 - val_accuracy: 0.9138 - val_recall: 0.7872 - val_precision: 0.4516\n",
            "Epoch 39/40\n",
            "722/722 [==============================] - 18s 25ms/step - loss: 0.2010 - accuracy: 0.9207 - recall: 0.8039 - precision: 0.4799 - val_loss: 0.2198 - val_accuracy: 0.9159 - val_recall: 0.8064 - val_precision: 0.4599\n",
            "Epoch 40/40\n",
            "722/722 [==============================] - 18s 25ms/step - loss: 0.1967 - accuracy: 0.9229 - recall: 0.8081 - precision: 0.4830 - val_loss: 0.2882 - val_accuracy: 0.8862 - val_recall: 0.8479 - val_precision: 0.3786\n"
          ],
          "name": "stdout"
        }
      ]
    },
    {
      "cell_type": "code",
      "metadata": {
        "id": "WEE_Bv8JY4r7",
        "outputId": "913b34af-9e0b-474d-b502-4be79064740e",
        "colab": {
          "base_uri": "https://localhost:8080/"
        }
      },
      "source": [
        "if save:\n",
        "  model.save('centralized_mlp')"
      ],
      "execution_count": 20,
      "outputs": [
        {
          "output_type": "stream",
          "text": [
            "INFO:tensorflow:Assets written to: centralized_mlp/assets\n"
          ],
          "name": "stdout"
        }
      ]
    },
    {
      "cell_type": "markdown",
      "metadata": {
        "id": "p-TwZZx0AOxO"
      },
      "source": [
        "# Performance evaluation"
      ]
    },
    {
      "cell_type": "code",
      "metadata": {
        "id": "WKOHvmiVOsaP"
      },
      "source": [
        "# test_loss, test_acc = model.evaluate(get_keras_dataset(X_test, cols), y_test)\r\n",
        "\r\n",
        "# print()\r\n",
        "# print('Test Loss:\\t', test_loss)\r\n",
        "# print('Test Accuracy:\\t', test_acc)"
      ],
      "execution_count": 21,
      "outputs": []
    },
    {
      "cell_type": "code",
      "metadata": {
        "id": "ujQ7C2bhQXLN"
      },
      "source": [
        "y_pred = model.predict(get_keras_dataset(X_test, cols))"
      ],
      "execution_count": 22,
      "outputs": []
    },
    {
      "cell_type": "code",
      "metadata": {
        "id": "TWs-nW4IPaQC",
        "colab": {
          "base_uri": "https://localhost:8080/",
          "height": 350
        },
        "outputId": "4e83644c-99b0-4d89-c72d-4b5b0cac5670"
      },
      "source": [
        "mf.plot_cm(y_test, y_pred, 'Blues')"
      ],
      "execution_count": 23,
      "outputs": [
        {
          "output_type": "display_data",
          "data": {
            "image/png": "[encoded data removed]",
            "text/plain": [
              "<Figure size 360x360 with 2 Axes>"
            ]
          },
          "metadata": {
            "tags": [],
            "needs_background": "light"
          }
        }
      ]
    },
    {
      "cell_type": "code",
      "metadata": {
        "id": "4ivKw-JpPkVG",
        "colab": {
          "base_uri": "https://localhost:8080/",
          "height": 297
        },
        "outputId": "23e5ebd2-c430-4111-b6ac-7fd735a203c2"
      },
      "source": [
        "mf.plot_roc(\"ROC curve\", y_test, y_pred,color='blue')"
      ],
      "execution_count": 24,
      "outputs": [
        {
          "output_type": "stream",
          "text": [
            "AUC:  0.8911614041357129\n"
          ],
          "name": "stdout"
        },
        {
          "output_type": "display_data",
          "data": {
            "image/png": "[encoded data removed]",
            "text/plain": [
              "<Figure size 432x288 with 1 Axes>"
            ]
          },
          "metadata": {
            "tags": [],
            "needs_background": "light"
          }
        }
      ]
    },
    {
      "cell_type": "code",
      "metadata": {
        "id": "mbjYisJaYevS",
        "colab": {
          "base_uri": "https://localhost:8080/",
          "height": 297
        },
        "outputId": "a2b83370-32d6-4c6f-d374-0e6c747bea08"
      },
      "source": [
        "mf.plot_ap('Precision-Recall curve', y_test, y_pred, color = 'red')"
      ],
      "execution_count": 25,
      "outputs": [
        {
          "output_type": "stream",
          "text": [
            "Average precision:  0.5177506295391618\n"
          ],
          "name": "stdout"
        },
        {
          "output_type": "display_data",
          "data": {
            "image/png": "[encoded data removed]",
            "text/plain": [
              "<Figure size 432x288 with 1 Axes>"
            ]
          },
          "metadata": {
            "tags": [],
            "needs_background": "light"
          }
        }
      ]
    },
    {
      "cell_type": "code",
      "metadata": {
        "id": "2G6888leAwmt"
      },
      "source": [
        "y_predicted = []\r\n",
        "for prob in y_pred:\r\n",
        "  if prob >= 0.5:\r\n",
        "    y_predicted.append(1)\r\n",
        "  else:\r\n",
        "    y_predicted.append(0)"
      ],
      "execution_count": 26,
      "outputs": []
    },
    {
      "cell_type": "code",
      "metadata": {
        "id": "9O9ms_BTfptM",
        "colab": {
          "base_uri": "https://localhost:8080/"
        },
        "outputId": "05201e5d-fcbf-4bc3-e2c9-737d2d12355c"
      },
      "source": [
        "from sklearn.metrics import f1_score, recall_score, precision_score\r\n",
        "print('F1 score: ',f1_score(y_test, y_predicted, average=\"binary\"))\r\n",
        "print('Recall: ', recall_score(y_test, y_predicted, average='binary'))\r\n",
        "print('Precision: ', precision_score(y_test, y_predicted,  average='binary'))"
      ],
      "execution_count": 27,
      "outputs": [
        {
          "output_type": "stream",
          "text": [
            "F1 score:  0.3048323422117835\n",
            "Recall:  0.7345857418111753\n",
            "Precision:  0.19231981839964687\n"
          ],
          "name": "stdout"
        }
      ]
    },
    {
      "cell_type": "code",
      "metadata": {
        "id": "aYR5BCcTm108"
      },
      "source": [
        ""
      ],
      "execution_count": 27,
      "outputs": []
    }
  ]
}