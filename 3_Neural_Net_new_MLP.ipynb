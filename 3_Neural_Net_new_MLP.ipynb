{
  "nbformat": 4,
  "nbformat_minor": 0,
  "metadata": {
    "colab": {
      "name": "3_Neural_Net.ipynb",
      "provenance": [],
      "authorship_tag": "ABX9TyNtU2U17tD1Pf7TLdBNbcjw",
      "include_colab_link": true
    },
    "kernelspec": {
      "name": "python3",
      "display_name": "Python 3"
    },
    "accelerator": "GPU"
  },
  "cells": [
    {
      "cell_type": "markdown",
      "metadata": {
        "id": "view-in-github",
        "colab_type": "text"
      },
      "source": [
        "<a href=\"https://colab.research.google.com/github/alessandrotofani/Tesi_magistrale/blob/master/3_Neural_Net_new_MLP.ipynb\" target=\"_parent\"><img src=\"https://colab.research.google.com/assets/colab-badge.svg\" alt=\"Open In Colab\"/></a>"
      ]
    },
    {
      "cell_type": "markdown",
      "metadata": {
        "id": "8-eTUKS6D9Fs"
      },
      "source": [
        "# Import"
      ]
    },
    {
      "cell_type": "code",
      "metadata": {
        "colab": {
          "base_uri": "https://localhost:8080/"
        },
        "id": "xtV-QCEPDVju",
        "outputId": "fd4f5703-dff9-4195-ce33-01770607914d"
      },
      "source": [
        "import numpy as np # linear algebra\r\n",
        "import pandas as pd # data processing\r\n",
        "import matplotlib\r\n",
        "import matplotlib.pyplot as plt\r\n",
        "import seaborn as sns\r\n",
        "import os\r\n",
        "from google.colab import drive\r\n",
        "drive.mount('/content/drive')\r\n",
        "from sklearn.model_selection import train_test_split"
      ],
      "execution_count": 1,
      "outputs": [
        {
          "output_type": "stream",
          "text": [
            "Drive already mounted at /content/drive; to attempt to forcibly remount, call drive.mount(\"/content/drive\", force_remount=True).\n"
          ],
          "name": "stdout"
        }
      ]
    },
    {
      "cell_type": "code",
      "metadata": {
        "id": "QSvV9n8XDd1_"
      },
      "source": [
        "import sys \r\n",
        "sys.path.append('/content/drive/MyDrive/Tesi_magistrale/Tesi_magistrale')\r\n",
        "import mf\r\n",
        "import warnings\r\n",
        "warnings.simplefilter(action='ignore', category=FutureWarning)"
      ],
      "execution_count": 2,
      "outputs": []
    },
    {
      "cell_type": "code",
      "metadata": {
        "id": "vLwIrSvoSR7S"
      },
      "source": [
        "!pip install --quiet fastai==2.2.5"
      ],
      "execution_count": 3,
      "outputs": []
    },
    {
      "cell_type": "markdown",
      "metadata": {
        "id": "k5aTQo_7D3KW"
      },
      "source": [
        "# Preprocessing"
      ]
    },
    {
      "cell_type": "code",
      "metadata": {
        "id": "3CA67WePVnds"
      },
      "source": [
        "data = pd.read_csv('/content/drive/MyDrive/Tesi_magistrale/Dataset/IEEE/Output/data.csv')\r\n",
        "data = mf.new_processing(data)\r\n",
        "# data = pd.get_dummies(data)"
      ],
      "execution_count": 4,
      "outputs": []
    },
    {
      "cell_type": "code",
      "metadata": {
        "id": "ouq64I1r5lkR"
      },
      "source": [
        "cols = mf.get_col(data)"
      ],
      "execution_count": 5,
      "outputs": []
    },
    {
      "cell_type": "code",
      "metadata": {
        "id": "GRYQU4obQE8V"
      },
      "source": [
        "from fastai.tabular.all import *"
      ],
      "execution_count": 6,
      "outputs": []
    },
    {
      "cell_type": "code",
      "metadata": {
        "id": "ruoqZDmGS48a"
      },
      "source": [
        "categorical_col = data.select_dtypes(include=['object']).columns.tolist()"
      ],
      "execution_count": 7,
      "outputs": []
    },
    {
      "cell_type": "code",
      "metadata": {
        "id": "9WHzC-MHVTBV"
      },
      "source": [
        "def get_numerical_col(data, categorical_col):\n",
        "  numerical_col = []\n",
        "  for col in data.columns:\n",
        "    if col not in categorical_col and col != 'isFraud':\n",
        "      numerical_col.append(col)\n",
        "  return numerical_col\n",
        "\n",
        "numerical_col = get_numerical_col(data, categorical_col)"
      ],
      "execution_count": 8,
      "outputs": []
    },
    {
      "cell_type": "markdown",
      "metadata": {
        "id": "_IkJQpHuhnXm"
      },
      "source": [
        "Tutorial: https://docs.fast.ai/tutorial.tabular.html\n",
        "\n",
        "Book: https://github.com/fastai/fastbook/blob/master/09_tabular.ipynb"
      ]
    },
    {
      "cell_type": "code",
      "metadata": {
        "id": "uss-vsWXQE3E"
      },
      "source": [
        "fasted = TabularPandas(data, procs=[Categorify],\n",
        "                   cat_names = categorical_col,\n",
        "                   cont_names = numerical_col,\n",
        "                   y_names='isFraud')\n",
        "                  #  splits=splits)"
      ],
      "execution_count": 9,
      "outputs": []
    },
    {
      "cell_type": "code",
      "metadata": {
        "id": "X-fjffG1UwkY"
      },
      "source": [
        "X_train, y_train = fasted.xs, fasted.ys.values.ravel()\n",
        "# X_test, y_test = fasted.valid.xs, fasted.valid.ys.values.ravel()"
      ],
      "execution_count": 10,
      "outputs": []
    },
    {
      "cell_type": "code",
      "metadata": {
        "id": "GAffYKlMcKoQ"
      },
      "source": [
        "# for col in categorical_col:\n",
        "#   print('Feature',col, 'has',X_train[col].max(), 'different categorical values')"
      ],
      "execution_count": 11,
      "outputs": []
    },
    {
      "cell_type": "code",
      "metadata": {
        "id": "Da6EBrZcrZpF"
      },
      "source": [
        "categorical_col_toemb = []\n",
        "one_hot_encode = []\n",
        "for col in categorical_col:\n",
        "  if X_train[col].max() > 7:\n",
        "    categorical_col_toemb.append(col)\n",
        "  else:\n",
        "    one_hot_encode.append(col)\n",
        "\n",
        "X_train = pd.get_dummies(X_train, columns=one_hot_encode)\n",
        "cols = mf.get_col(X_train)"
      ],
      "execution_count": 12,
      "outputs": []
    },
    {
      "cell_type": "code",
      "metadata": {
        "id": "pDwfRa1mr7Jy"
      },
      "source": [
        "numerical_col = get_numerical_col(X_train, categorical_col_toemb)"
      ],
      "execution_count": 13,
      "outputs": []
    },
    {
      "cell_type": "markdown",
      "metadata": {
        "id": "WLwNC-RfdpGF"
      },
      "source": [
        "## Train validation test split"
      ]
    },
    {
      "cell_type": "markdown",
      "metadata": {
        "id": "m8EkabwNTN1C"
      },
      "source": [
        "Splitto il dataset in train, validation e test set. "
      ]
    },
    {
      "cell_type": "code",
      "metadata": {
        "id": "QTS6eJT9AGlU"
      },
      "source": [
        "def overSampling(X, y, frac_over=0.08):\n",
        "  from imblearn.over_sampling import SMOTE\n",
        "  sm = SMOTE(sampling_strategy=frac_over, random_state=42)\n",
        "  X_sm, y_sm = sm.fit_resample(X, y)  \n",
        "  return X_sm, y_sm"
      ],
      "execution_count": 14,
      "outputs": []
    },
    {
      "cell_type": "code",
      "metadata": {
        "id": "b1lw52XFUZBG"
      },
      "source": [
        "X_train, X_test, y_train, y_test = train_test_split(X_train, y_train, test_size = 0.2)\n",
        "X_train, y_train = overSampling(X_train, y_train)\n",
        "X_train, X_val, y_train, y_val = train_test_split(X_train, y_train, test_size=0.25, random_state=42)"
      ],
      "execution_count": 15,
      "outputs": []
    },
    {
      "cell_type": "code",
      "metadata": {
        "id": "dqOMoTQ-xkQo"
      },
      "source": [
        "save_id = False \r\n",
        "\r\n",
        "if save_id:\r\n",
        "  train_id = X_train.index.tolist()\r\n",
        "  val_id = X_val.index.tolist()\r\n",
        "  test_id = X_test.index.tolist()\r\n",
        "  mf.save_list('train_id',train_id)\r\n",
        "  mf.save_list('val_id', val_id)\r\n",
        "  mf.save_list('test_id', test_id)\r\n",
        "\r\n",
        "load_id = False \r\n",
        "if load_id:\r\n",
        "  mf.load_list('train_id',train_id)\r\n",
        "  mf.load_list('val_id', val_id)\r\n",
        "  mf.load_list('test_id', test_id)"
      ],
      "execution_count": 16,
      "outputs": []
    },
    {
      "cell_type": "markdown",
      "metadata": {
        "id": "XcNlmAIrLUcB"
      },
      "source": [
        "# Neural Network"
      ]
    },
    {
      "cell_type": "markdown",
      "metadata": {
        "id": "HypjIBuVX2UT"
      },
      "source": [
        "Kaggle tutorial https://www.kaggle.com/colinmorris/embedding-layers\n",
        "\n",
        "Implementation: https://www.kaggle.com/blaskowitz100/dnn-keras-and-categorical-feature-embedding"
      ]
    },
    {
      "cell_type": "code",
      "metadata": {
        "id": "-19ItfoMTD0L"
      },
      "source": [
        "import tensorflow as tf\n",
        "from tensorflow import keras\n",
        "from tensorflow.keras import models\n",
        "from tensorflow.keras import layers\n",
        "\n",
        "keras.backend.clear_session()\n",
        "# Embedding for categorical features\n",
        "categorical_input = []\n",
        "numerical_input = []\n",
        "embeddings = []\n",
        "embedding_layer_names = []\n",
        "for col in categorical_col_toemb:\n",
        "# for col in categorical_col:\n",
        "    _input = layers.Input(shape=[1], name=col)\n",
        "    _embed = layers.Embedding(fasted[col].max() + 1, 3, name=col+'_emb')(_input)\n",
        "    categorical_input.append(_input)\n",
        "    embeddings.append(_embed)\n",
        "    embedding_layer_names.append(col+'_emb')\n",
        "    \n",
        "# Simple inputs for the numeric features\n",
        "for col in numerical_col:\n",
        "    numeric_input = layers.Input(shape=(1,), name=col)\n",
        "    numerical_input.append(numeric_input)\n",
        "    \n",
        "# Merge the numeric inputs\n",
        "merged_num_inputs = layers.concatenate(numerical_input)\n",
        "\n",
        "# Merge embedding and use a Droput to prevent overfittting\n",
        "merged_inputs = layers.concatenate(embeddings)\n",
        "spatial_dropout = layers.SpatialDropout1D(0.2)(merged_inputs) #0.05\n",
        "flat_embed = layers.Flatten()(spatial_dropout)\n",
        "\n",
        "# Merge embedding and numeric features\n",
        "all_features = layers.concatenate([flat_embed, merged_num_inputs])\n",
        "\n",
        "# MLP for classification\n",
        "x = layers.Dense(360, activation=tf.keras.activations.gelu)(all_features) #360\n",
        "x = layers.BatchNormalization()(x)\n",
        "x = layers.Dropout(0.05)(x) #0.05\n",
        "# x = layers.Dense(128, activation=tf.keras.activations.gelu)(all_features)\n",
        "# x = layers.BatchNormalization()(x)\n",
        "# x = layers.Dropout(0.7)(x)\n",
        "# x = layers.Dense(64, activation=tf.keras.activations.gelu)(x)\n",
        "# x = layers.BatchNormalization()(x)\n",
        "# x = layers.Dropout(0.5)(x)\n",
        "# x = layers.Dense(32, activation=tf.keras.activations.gelu)(x)\n",
        "# x = layers.BatchNormalization()(x)\n",
        "# x = layers.Dropout(0.4)(x) \n",
        "# x = layers.Dense(16, activation=tf.keras.activations.gelu)(x)\n",
        "# x = layers.BatchNormalization()(x)\n",
        "# x = layers.Dropout(0.3)(x)\n",
        "\n",
        "\n",
        "# Final model\n",
        "output = layers.Dense(1, activation='sigmoid')(x)\n",
        "model = models.Model(inputs=categorical_input + numerical_input, outputs=output)"
      ],
      "execution_count": 142,
      "outputs": []
    },
    {
      "cell_type": "code",
      "metadata": {
        "id": "UtPJD6YkUKZe"
      },
      "source": [
        "model.compile(loss='binary_crossentropy', optimizer='adam', metrics=['accuracy',tf.keras.metrics.Recall(), tf.keras.metrics.Precision()])\n",
        "# print(model.summary())"
      ],
      "execution_count": 143,
      "outputs": []
    },
    {
      "cell_type": "code",
      "metadata": {
        "id": "kJxOM99jPYxe"
      },
      "source": [
        "def get_keras_dataset(X, cols):\n",
        "  df = pd.DataFrame(data=X, columns=cols)\n",
        "  X = {str(col) : np.array(df[col]) for col in df.columns}\n",
        "  return X"
      ],
      "execution_count": 144,
      "outputs": []
    },
    {
      "cell_type": "code",
      "metadata": {
        "colab": {
          "base_uri": "https://localhost:8080/"
        },
        "id": "DcxHJc6-OD5P",
        "outputId": "af3eb2f2-37fd-44f2-9c53-a66db55af7af"
      },
      "source": [
        "history = model.fit(\r\n",
        "    get_keras_dataset(X_train, cols), \r\n",
        "    y_train,\r\n",
        "    epochs=40, #30 \r\n",
        "    batch_size=512, # 512\r\n",
        "    validation_data=(get_keras_dataset(X_val, cols),y_val),\r\n",
        "    verbose=1,\r\n",
        "    shuffle = True , \r\n",
        "    class_weight = {0: 0.5, 1: 3.5} #5 3.5\r\n",
        ")"
      ],
      "execution_count": 145,
      "outputs": [
        {
          "output_type": "stream",
          "text": [
            "Epoch 1/40\n",
            "722/722 [==============================] - 23s 28ms/step - loss: 0.3602 - accuracy: 0.8187 - recall: 0.6250 - precision: 0.2411 - val_loss: 0.4206 - val_accuracy: 0.8214 - val_recall: 0.7541 - val_precision: 0.2586\n",
            "Epoch 2/40\n",
            "722/722 [==============================] - 18s 26ms/step - loss: 0.3041 - accuracy: 0.8782 - recall: 0.6578 - precision: 0.3331 - val_loss: 0.3413 - val_accuracy: 0.8730 - val_recall: 0.7011 - val_precision: 0.3316\n",
            "Epoch 3/40\n",
            "722/722 [==============================] - 19s 26ms/step - loss: 0.2939 - accuracy: 0.8803 - recall: 0.6795 - precision: 0.3447 - val_loss: 0.3687 - val_accuracy: 0.8453 - val_recall: 0.7606 - val_precision: 0.2917\n",
            "Epoch 4/40\n",
            "722/722 [==============================] - 19s 26ms/step - loss: 0.2853 - accuracy: 0.8836 - recall: 0.6936 - precision: 0.3559 - val_loss: 0.2242 - val_accuracy: 0.9278 - val_recall: 0.5505 - val_precision: 0.5121\n",
            "Epoch 5/40\n",
            "722/722 [==============================] - 19s 26ms/step - loss: 0.2760 - accuracy: 0.8891 - recall: 0.7081 - precision: 0.3693 - val_loss: 0.2242 - val_accuracy: 0.9134 - val_recall: 0.6114 - val_precision: 0.4398\n",
            "Epoch 6/40\n",
            "722/722 [==============================] - 19s 26ms/step - loss: 0.2702 - accuracy: 0.8909 - recall: 0.7129 - precision: 0.3757 - val_loss: 0.2535 - val_accuracy: 0.9057 - val_recall: 0.6825 - val_precision: 0.4169\n",
            "Epoch 7/40\n",
            "722/722 [==============================] - 19s 26ms/step - loss: 0.2663 - accuracy: 0.8930 - recall: 0.7173 - precision: 0.3800 - val_loss: 0.3305 - val_accuracy: 0.8720 - val_recall: 0.7627 - val_precision: 0.3389\n",
            "Epoch 8/40\n",
            "722/722 [==============================] - 18s 25ms/step - loss: 0.2612 - accuracy: 0.8955 - recall: 0.7261 - precision: 0.3893 - val_loss: 0.3830 - val_accuracy: 0.8315 - val_recall: 0.8237 - val_precision: 0.2822\n",
            "Epoch 9/40\n",
            "722/722 [==============================] - 19s 26ms/step - loss: 0.2551 - accuracy: 0.8993 - recall: 0.7339 - precision: 0.3987 - val_loss: 0.2693 - val_accuracy: 0.8883 - val_recall: 0.7324 - val_precision: 0.3716\n",
            "Epoch 10/40\n",
            "722/722 [==============================] - 19s 26ms/step - loss: 0.2537 - accuracy: 0.8978 - recall: 0.7378 - precision: 0.3976 - val_loss: 0.2708 - val_accuracy: 0.8991 - val_recall: 0.7275 - val_precision: 0.4006\n",
            "Epoch 11/40\n",
            "722/722 [==============================] - 19s 26ms/step - loss: 0.2488 - accuracy: 0.9002 - recall: 0.7450 - precision: 0.4042 - val_loss: 0.2836 - val_accuracy: 0.8926 - val_recall: 0.7628 - val_precision: 0.3864\n",
            "Epoch 12/40\n",
            "722/722 [==============================] - 19s 26ms/step - loss: 0.2483 - accuracy: 0.9012 - recall: 0.7469 - precision: 0.4092 - val_loss: 0.2596 - val_accuracy: 0.9068 - val_recall: 0.7392 - val_precision: 0.4261\n",
            "Epoch 13/40\n",
            "722/722 [==============================] - 19s 26ms/step - loss: 0.2448 - accuracy: 0.9035 - recall: 0.7470 - precision: 0.4137 - val_loss: 0.2424 - val_accuracy: 0.9153 - val_recall: 0.7158 - val_precision: 0.4547\n",
            "Epoch 14/40\n",
            "722/722 [==============================] - 19s 26ms/step - loss: 0.2423 - accuracy: 0.9048 - recall: 0.7538 - precision: 0.4191 - val_loss: 0.3065 - val_accuracy: 0.8813 - val_recall: 0.7890 - val_precision: 0.3623\n",
            "Epoch 15/40\n",
            "722/722 [==============================] - 19s 26ms/step - loss: 0.2414 - accuracy: 0.9047 - recall: 0.7598 - precision: 0.4247 - val_loss: 0.3669 - val_accuracy: 0.8490 - val_recall: 0.7677 - val_precision: 0.2985\n",
            "Epoch 16/40\n",
            "722/722 [==============================] - 19s 26ms/step - loss: 0.2371 - accuracy: 0.9066 - recall: 0.7632 - precision: 0.4278 - val_loss: 0.2730 - val_accuracy: 0.8943 - val_recall: 0.7948 - val_precision: 0.3944\n",
            "Epoch 17/40\n",
            "722/722 [==============================] - 19s 26ms/step - loss: 0.2336 - accuracy: 0.9067 - recall: 0.7658 - precision: 0.4272 - val_loss: 0.2805 - val_accuracy: 0.8880 - val_recall: 0.7645 - val_precision: 0.3750\n",
            "Epoch 18/40\n",
            "722/722 [==============================] - 19s 26ms/step - loss: 0.2322 - accuracy: 0.9081 - recall: 0.7624 - precision: 0.4315 - val_loss: 0.2934 - val_accuracy: 0.8840 - val_recall: 0.8102 - val_precision: 0.3708\n",
            "Epoch 19/40\n",
            "722/722 [==============================] - 19s 26ms/step - loss: 0.2299 - accuracy: 0.9084 - recall: 0.7696 - precision: 0.4327 - val_loss: 0.1668 - val_accuracy: 0.9387 - val_recall: 0.6331 - val_precision: 0.5796\n",
            "Epoch 20/40\n",
            "722/722 [==============================] - 18s 26ms/step - loss: 0.2262 - accuracy: 0.9105 - recall: 0.7759 - precision: 0.4419 - val_loss: 0.3094 - val_accuracy: 0.8789 - val_recall: 0.8138 - val_precision: 0.3600\n",
            "Epoch 21/40\n",
            "722/722 [==============================] - 18s 26ms/step - loss: 0.2229 - accuracy: 0.9106 - recall: 0.7799 - precision: 0.4420 - val_loss: 0.2768 - val_accuracy: 0.8924 - val_recall: 0.7945 - val_precision: 0.3894\n",
            "Epoch 22/40\n",
            "722/722 [==============================] - 19s 26ms/step - loss: 0.2227 - accuracy: 0.9111 - recall: 0.7814 - precision: 0.4470 - val_loss: 0.2680 - val_accuracy: 0.8918 - val_recall: 0.8007 - val_precision: 0.3887\n",
            "Epoch 23/40\n",
            "722/722 [==============================] - 19s 26ms/step - loss: 0.2212 - accuracy: 0.9109 - recall: 0.7812 - precision: 0.4417 - val_loss: 0.4160 - val_accuracy: 0.8192 - val_recall: 0.8861 - val_precision: 0.2760\n",
            "Epoch 24/40\n",
            "722/722 [==============================] - 18s 26ms/step - loss: 0.2210 - accuracy: 0.9118 - recall: 0.7846 - precision: 0.4475 - val_loss: 0.1963 - val_accuracy: 0.9248 - val_recall: 0.7261 - val_precision: 0.4954\n",
            "Epoch 25/40\n",
            "722/722 [==============================] - 19s 26ms/step - loss: 0.2173 - accuracy: 0.9136 - recall: 0.7898 - precision: 0.4533 - val_loss: 0.2495 - val_accuracy: 0.9052 - val_recall: 0.7970 - val_precision: 0.4256\n",
            "Epoch 26/40\n",
            "722/722 [==============================] - 19s 26ms/step - loss: 0.2160 - accuracy: 0.9149 - recall: 0.7866 - precision: 0.4558 - val_loss: 0.3151 - val_accuracy: 0.8698 - val_recall: 0.8377 - val_precision: 0.3446\n",
            "Epoch 27/40\n",
            "722/722 [==============================] - 19s 26ms/step - loss: 0.2164 - accuracy: 0.9143 - recall: 0.7901 - precision: 0.4565 - val_loss: 0.2382 - val_accuracy: 0.9040 - val_recall: 0.7880 - val_precision: 0.4212\n",
            "Epoch 28/40\n",
            "722/722 [==============================] - 19s 26ms/step - loss: 0.2118 - accuracy: 0.9161 - recall: 0.7911 - precision: 0.4588 - val_loss: 0.1906 - val_accuracy: 0.9287 - val_recall: 0.7308 - val_precision: 0.5135\n",
            "Epoch 29/40\n",
            "722/722 [==============================] - 19s 26ms/step - loss: 0.2111 - accuracy: 0.9160 - recall: 0.7942 - precision: 0.4601 - val_loss: 0.2057 - val_accuracy: 0.9241 - val_recall: 0.7534 - val_precision: 0.4923\n",
            "Epoch 30/40\n",
            "722/722 [==============================] - 19s 26ms/step - loss: 0.2111 - accuracy: 0.9156 - recall: 0.7957 - precision: 0.4602 - val_loss: 0.2191 - val_accuracy: 0.9163 - val_recall: 0.7790 - val_precision: 0.4620\n",
            "Epoch 31/40\n",
            "722/722 [==============================] - 19s 26ms/step - loss: 0.2102 - accuracy: 0.9161 - recall: 0.7941 - precision: 0.4619 - val_loss: 0.3197 - val_accuracy: 0.8694 - val_recall: 0.8593 - val_precision: 0.3466\n",
            "Epoch 32/40\n",
            "722/722 [==============================] - 19s 26ms/step - loss: 0.2062 - accuracy: 0.9193 - recall: 0.7997 - precision: 0.4741 - val_loss: 0.2522 - val_accuracy: 0.9054 - val_recall: 0.8127 - val_precision: 0.4275\n",
            "Epoch 33/40\n",
            "722/722 [==============================] - 19s 26ms/step - loss: 0.2079 - accuracy: 0.9181 - recall: 0.7949 - precision: 0.4683 - val_loss: 0.1731 - val_accuracy: 0.9379 - val_recall: 0.7332 - val_precision: 0.5625\n",
            "Epoch 34/40\n",
            "722/722 [==============================] - 19s 26ms/step - loss: 0.2064 - accuracy: 0.9202 - recall: 0.7993 - precision: 0.4755 - val_loss: 0.1784 - val_accuracy: 0.9337 - val_recall: 0.7401 - val_precision: 0.5385\n",
            "Epoch 35/40\n",
            "722/722 [==============================] - 19s 26ms/step - loss: 0.2026 - accuracy: 0.9192 - recall: 0.8053 - precision: 0.4749 - val_loss: 0.1865 - val_accuracy: 0.9316 - val_recall: 0.7528 - val_precision: 0.5270\n",
            "Epoch 36/40\n",
            "722/722 [==============================] - 19s 26ms/step - loss: 0.2027 - accuracy: 0.9187 - recall: 0.8036 - precision: 0.4721 - val_loss: 0.2376 - val_accuracy: 0.9066 - val_recall: 0.7968 - val_precision: 0.4300\n",
            "Epoch 37/40\n",
            "722/722 [==============================] - 19s 26ms/step - loss: 0.2018 - accuracy: 0.9196 - recall: 0.8076 - precision: 0.4761 - val_loss: 0.2021 - val_accuracy: 0.9303 - val_recall: 0.7557 - val_precision: 0.5206\n",
            "Epoch 38/40\n",
            "722/722 [==============================] - 19s 26ms/step - loss: 0.1995 - accuracy: 0.9199 - recall: 0.8079 - precision: 0.4752 - val_loss: 0.1637 - val_accuracy: 0.9436 - val_recall: 0.7096 - val_precision: 0.6016\n",
            "Epoch 39/40\n",
            "722/722 [==============================] - 19s 26ms/step - loss: 0.1992 - accuracy: 0.9199 - recall: 0.8076 - precision: 0.4744 - val_loss: 0.2264 - val_accuracy: 0.9124 - val_recall: 0.8051 - val_precision: 0.4495\n",
            "Epoch 40/40\n",
            "722/722 [==============================] - 19s 26ms/step - loss: 0.1975 - accuracy: 0.9216 - recall: 0.8072 - precision: 0.4809 - val_loss: 0.1733 - val_accuracy: 0.9400 - val_recall: 0.7344 - val_precision: 0.5746\n"
          ],
          "name": "stdout"
        }
      ]
    },
    {
      "cell_type": "markdown",
      "metadata": {
        "id": "p-TwZZx0AOxO"
      },
      "source": [
        "# Performance evaluation"
      ]
    },
    {
      "cell_type": "code",
      "metadata": {
        "id": "WKOHvmiVOsaP"
      },
      "source": [
        "# test_loss, test_acc = model.evaluate(get_keras_dataset(X_test, cols), y_test)\r\n",
        "\r\n",
        "# print()\r\n",
        "# print('Test Loss:\\t', test_loss)\r\n",
        "# print('Test Accuracy:\\t', test_acc)"
      ],
      "execution_count": 146,
      "outputs": []
    },
    {
      "cell_type": "code",
      "metadata": {
        "id": "ujQ7C2bhQXLN"
      },
      "source": [
        "y_pred = model.predict(get_keras_dataset(X_test, cols))"
      ],
      "execution_count": 147,
      "outputs": []
    },
    {
      "cell_type": "code",
      "metadata": {
        "id": "TWs-nW4IPaQC",
        "outputId": "215073f4-cf69-472a-c150-0e7292e87bf1",
        "colab": {
          "base_uri": "https://localhost:8080/",
          "height": 350
        }
      },
      "source": [
        "mf.plot_cm(y_test, y_pred, 'Blues')"
      ],
      "execution_count": 148,
      "outputs": [
        {
          "output_type": "display_data",
          "data": {
            "image/png": "[encoded data removed]",
            "text/plain": [
              "<Figure size 360x360 with 2 Axes>"
            ]
          },
          "metadata": {
            "tags": [],
            "needs_background": "light"
          }
        }
      ]
    },
    {
      "cell_type": "code",
      "metadata": {
        "id": "4ivKw-JpPkVG",
        "outputId": "115214c7-29bb-4ba6-92e6-a2443550743e",
        "colab": {
          "base_uri": "https://localhost:8080/",
          "height": 297
        }
      },
      "source": [
        "mf.plot_roc(\"ROC curve\", y_test, y_pred,color='blue')"
      ],
      "execution_count": 149,
      "outputs": [
        {
          "output_type": "stream",
          "text": [
            "AUC:  0.8947759952477615\n"
          ],
          "name": "stdout"
        },
        {
          "output_type": "display_data",
          "data": {
            "image/png": "[encoded data removed]",
            "text/plain": [
              "<Figure size 432x288 with 1 Axes>"
            ]
          },
          "metadata": {
            "tags": [],
            "needs_background": "light"
          }
        }
      ]
    },
    {
      "cell_type": "code",
      "metadata": {
        "id": "mbjYisJaYevS",
        "outputId": "0f166598-984c-45cd-b738-843e2b738b54",
        "colab": {
          "base_uri": "https://localhost:8080/",
          "height": 297
        }
      },
      "source": [
        "mf.plot_ap('Precision-Recall curve', y_test, y_pred, color = 'red')"
      ],
      "execution_count": 150,
      "outputs": [
        {
          "output_type": "stream",
          "text": [
            "Average precision:  0.5213549286285722\n"
          ],
          "name": "stdout"
        },
        {
          "output_type": "display_data",
          "data": {
            "image/png": "[encoded data removed]",
            "text/plain": [
              "<Figure size 432x288 with 1 Axes>"
            ]
          },
          "metadata": {
            "tags": [],
            "needs_background": "light"
          }
        }
      ]
    },
    {
      "cell_type": "code",
      "metadata": {
        "id": "2G6888leAwmt"
      },
      "source": [
        "y_predicted = []\r\n",
        "for prob in y_pred:\r\n",
        "  if prob >= 0.5:\r\n",
        "    y_predicted.append(1)\r\n",
        "  else:\r\n",
        "    y_predicted.append(0)"
      ],
      "execution_count": 151,
      "outputs": []
    },
    {
      "cell_type": "code",
      "metadata": {
        "id": "9O9ms_BTfptM",
        "outputId": "9cedfa5c-7bc7-4a9c-a45c-8e2d27a4b6b4",
        "colab": {
          "base_uri": "https://localhost:8080/"
        }
      },
      "source": [
        "from sklearn.metrics import f1_score, recall_score, precision_score\r\n",
        "print('F1 score: ',f1_score(y_test, y_predicted, average=\"binary\"))\r\n",
        "print('Recall: ', recall_score(y_test, y_predicted, average='binary'))\r\n",
        "print('Precision: ', precision_score(y_test, y_predicted,  average='binary'))"
      ],
      "execution_count": 152,
      "outputs": [
        {
          "output_type": "stream",
          "text": [
            "F1 score:  0.4368358913813459\n",
            "Recall:  0.614326375711575\n",
            "Precision:  0.33891651400157025\n"
          ],
          "name": "stdout"
        }
      ]
    },
    {
      "cell_type": "code",
      "metadata": {
        "id": "aYR5BCcTm108"
      },
      "source": [
        ""
      ],
      "execution_count": 152,
      "outputs": []
    }
  ]
}