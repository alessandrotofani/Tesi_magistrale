{
  "nbformat": 4,
  "nbformat_minor": 0,
  "metadata": {
    "accelerator": "GPU",
    "colab": {
      "name": "3_Pre_&_XGBoost.ipynb",
      "provenance": [],
      "authorship_tag": "ABX9TyNoLt28O9LGzKVr03o7y8NF",
      "include_colab_link": true
    },
    "kernelspec": {
      "display_name": "Python 3",
      "language": "python",
      "name": "python3"
    },
    "language_info": {
      "codemirror_mode": {
        "name": "ipython",
        "version": 3
      },
      "file_extension": ".py",
      "mimetype": "text/x-python",
      "name": "python",
      "nbconvert_exporter": "python",
      "pygments_lexer": "ipython3",
      "version": "3.8.5"
    }
  },
  "cells": [
    {
      "cell_type": "markdown",
      "metadata": {
        "id": "view-in-github",
        "colab_type": "text"
      },
      "source": [
        "<a href=\"https://colab.research.google.com/github/alessandrotofani/Tesi_magistrale/blob/master/3_XGBoost_new_class_weight_high.ipynb\" target=\"_parent\"><img src=\"https://colab.research.google.com/assets/colab-badge.svg\" alt=\"Open In Colab\"/></a>"
      ]
    },
    {
      "cell_type": "markdown",
      "metadata": {
        "id": "z-7rH_UhAPGR"
      },
      "source": [
        "# Import"
      ]
    },
    {
      "cell_type": "code",
      "metadata": {
        "colab": {
          "base_uri": "https://localhost:8080/"
        },
        "id": "SwkBbxNMK8Fv",
        "outputId": "08b8a9e6-8676-488d-fc02-a57cf0fa8920"
      },
      "source": [
        "import numpy as np # linear algebra\r\n",
        "import pandas as pd # data processing\r\n",
        "import matplotlib\r\n",
        "import matplotlib.pyplot as plt\r\n",
        "import seaborn as sns\r\n",
        "import os\r\n",
        "from google.colab import drive\r\n",
        "drive.mount('/content/drive')\r\n",
        "from sklearn.model_selection import train_test_split"
      ],
      "execution_count": 1,
      "outputs": [
        {
          "output_type": "stream",
          "text": [
            "Drive already mounted at /content/drive; to attempt to forcibly remount, call drive.mount(\"/content/drive\", force_remount=True).\n"
          ],
          "name": "stdout"
        }
      ]
    },
    {
      "cell_type": "code",
      "metadata": {
        "id": "WbVAoFqEU2GK"
      },
      "source": [
        "!pip install --quiet fastai==2.2.5"
      ],
      "execution_count": 2,
      "outputs": []
    },
    {
      "cell_type": "code",
      "metadata": {
        "id": "9UBtZ7vSkof3"
      },
      "source": [
        "import sys \r\n",
        "sys.path.append('/content/drive/MyDrive/Tesi_magistrale/Tesi_magistrale')\r\n",
        "import mf"
      ],
      "execution_count": 3,
      "outputs": []
    },
    {
      "cell_type": "markdown",
      "metadata": {
        "id": "snsMJMlJ3Dcu"
      },
      "source": [
        "#  Dataset import"
      ]
    },
    {
      "cell_type": "code",
      "metadata": {
        "id": "3CA67WePVnds"
      },
      "source": [
        "data = pd.read_csv('/content/drive/MyDrive/Tesi_magistrale/Dataset/IEEE/Output/data.csv')\r\n",
        "data = mf.new_processing(data)\r\n",
        "data = pd.get_dummies(data)"
      ],
      "execution_count": 4,
      "outputs": []
    },
    {
      "cell_type": "code",
      "metadata": {
        "id": "X_JsaLIj2xyk"
      },
      "source": [
        "cols = mf.get_col(data)"
      ],
      "execution_count": 5,
      "outputs": []
    },
    {
      "cell_type": "code",
      "metadata": {
        "id": "e67PX2M7__c4"
      },
      "source": [
        "load = False\r\n",
        "save_id = True \r\n",
        "\r\n",
        "if load:\r\n",
        "  X_train, y_train = mf.get_set('train_id', data, 'xgboost_numpy', labels = True)\r\n",
        "  X_val, y_val = mf.get_set('val_id', data, 'xgboost_numpy', labels = True)\r\n",
        "  X_test, y_test = mf.get_set('test_id', data, 'xgboost_numpy', labels = True)"
      ],
      "execution_count": 6,
      "outputs": []
    },
    {
      "cell_type": "markdown",
      "metadata": {
        "id": "m8EkabwNTN1C"
      },
      "source": [
        "Splitto il dataset in train, validation e test set. "
      ]
    },
    {
      "cell_type": "code",
      "metadata": {
        "id": "wLWOp7sa2_rE"
      },
      "source": [
        "def overSampling(X, y, frac_over=0.1):\n",
        "  from imblearn.over_sampling import SMOTE\n",
        "  sm = SMOTE(sampling_strategy=frac_over, random_state=42)\n",
        "  X_sm, y_sm = sm.fit_resample(X, y)  \n",
        "  return X_sm, y_sm"
      ],
      "execution_count": 7,
      "outputs": []
    },
    {
      "cell_type": "code",
      "metadata": {
        "id": "0cz8y-FhBpi9"
      },
      "source": [
        "if not load:\r\n",
        "  X_train, X_test, y_train, y_test = mf.split(data, test_size = 0.2)\r\n",
        "  # X_train, y_train = overSampling(X_train, y_train)\r\n",
        "  del data\r\n",
        "  X_train, X_val, y_train, y_val = train_test_split(X_train, y_train, test_size=0.25, random_state=42)"
      ],
      "execution_count": 8,
      "outputs": []
    },
    {
      "cell_type": "markdown",
      "metadata": {
        "id": "zeBXq4s40oIV"
      },
      "source": [
        "`save_list(filename, list)`: permette di salvare in un file .txt gli id dei dati su cui il modello verrà allenato e validato. "
      ]
    },
    {
      "cell_type": "code",
      "metadata": {
        "id": "MbcGznrT6siy"
      },
      "source": [
        "if save_id:\r\n",
        "  train_id = X_train.index.tolist()\r\n",
        "  val_id = X_val.index.tolist()\r\n",
        "  test_id = X_test.index.tolist()\r\n",
        "  mf.save_list('train_id',train_id)\r\n",
        "  mf.save_list('val_id', val_id)\r\n",
        "  mf.save_list('test_id', test_id)\r\n",
        "\r\n",
        "# load_id = False \r\n",
        "# if load_id:\r\n",
        "#   mf.load_list('train_id',train_id)\r\n",
        "#   mf.load_list('val_id', val_id)\r\n",
        "#   mf.load_list('test_id', test_id)"
      ],
      "execution_count": 9,
      "outputs": []
    },
    {
      "cell_type": "markdown",
      "metadata": {
        "id": "nDxZx1ew9n2I"
      },
      "source": [
        "# XGBoost\r\n",
        "\r\n",
        "ROC curve: https://scikit-learn.org/stable/auto_examples/miscellaneous/plot_roc_curve_visualization_api.html#sphx-glr-auto-examples-miscellaneous-plot-roc-curve-visualization-api-py\r\n",
        "\r\n",
        "XGBoost: https://www.analyticsvidhya.com/blog/2016/03/complete-guide-parameter-tuning-xgboost-with-codes-python/\r\n",
        "\r\n",
        "gpu_hist method: https://xgboost.readthedocs.io/en/latest/parameter.html#additional-parameters-for-hist-and-gpu-hist-tree-method"
      ]
    },
    {
      "cell_type": "markdown",
      "metadata": {
        "id": "mkOwSxMn_7cH"
      },
      "source": [
        "## Load model"
      ]
    },
    {
      "cell_type": "markdown",
      "metadata": {
        "id": "yk_aebUnAlUf"
      },
      "source": [
        "Tramite la libreria `joblib` viene caricato il modello già allenato. \r\n",
        "\r\n",
        "Riferimento: https://xgboost.readthedocs.io/en/latest/python/python_intro.html"
      ]
    },
    {
      "cell_type": "code",
      "metadata": {
        "id": "9YlNReHV_88W"
      },
      "source": [
        "if load:\r\n",
        "  from joblib import load\r\n",
        "  from xgboost import XGBClassifier\r\n",
        "\r\n",
        "  clf = load(\"/content/drive/MyDrive/Tesi_magistrale/Dataset/IEEE/Output/xgboost_numpy/xgb_np.joblib.dat\")"
      ],
      "execution_count": 10,
      "outputs": []
    },
    {
      "cell_type": "markdown",
      "metadata": {
        "id": "hxgqo8cx_-D3"
      },
      "source": [
        "## Training"
      ]
    },
    {
      "cell_type": "markdown",
      "metadata": {
        "id": "tDvAwriO0-Kt"
      },
      "source": [
        "Fase di training e tuning dei parametri del modello. \r\n",
        "\r\n",
        "Notare che i set devono essere trasformati da dataframe a array numpy, poichè sarà necessario per la fase di XAI."
      ]
    },
    {
      "cell_type": "code",
      "metadata": {
        "colab": {
          "base_uri": "https://localhost:8080/",
          "height": 279
        },
        "id": "1ohOclWl9naz",
        "outputId": "52cee686-f101-4e1f-e790-e05c8edf6dc4"
      },
      "source": [
        "from sklearn.metrics import plot_roc_curve\r\n",
        "import xgboost as xgb\r\n",
        "from xgboost import XGBClassifier\r\n",
        "\r\n",
        "if not load:\r\n",
        "  clf = XGBClassifier(n_estimators = 4000, \r\n",
        "                      max_depth = 10, \r\n",
        "                      objective='binary:logistic', \r\n",
        "                      learning_rate = 0.8, \r\n",
        "                      tree_method='gpu_hist',\r\n",
        "                      eta = 0.1,\r\n",
        "                      subsample = 0.5,\r\n",
        "                      #lambda = 0.5,\r\n",
        "                      scale_pos_weight = 8\r\n",
        "                      ) #, sample_weight = [1,30] ) \r\n",
        "  \r\n",
        "  clf.fit(X_train, y_train)\r\n",
        "\r\n",
        "plot_roc_curve(clf, X_val, y_val)\r\n",
        "plt.show()"
      ],
      "execution_count": 40,
      "outputs": [
        {
          "output_type": "display_data",
          "data": {
            "image/png": "[encoded data removed]",
            "text/plain": [
              "<Figure size 432x288 with 1 Axes>"
            ]
          },
          "metadata": {
            "tags": [],
            "needs_background": "light"
          }
        }
      ]
    },
    {
      "cell_type": "markdown",
      "metadata": {
        "id": "TGMupol1_x1d"
      },
      "source": [
        "# Save model"
      ]
    },
    {
      "cell_type": "markdown",
      "metadata": {
        "id": "T77dRnUg1Bj1"
      },
      "source": [
        "Tramite `joblib` salvo il modello appena allenato. "
      ]
    },
    {
      "cell_type": "code",
      "metadata": {
        "id": "fRJtfinpJq8Y"
      },
      "source": [
        "save = True\r\n",
        "if save:\r\n",
        "  from joblib import dump\r\n",
        "  dump(clf, \"xgb_np.joblib.dat\")"
      ],
      "execution_count": 41,
      "outputs": []
    },
    {
      "cell_type": "markdown",
      "metadata": {
        "id": "97biuCLd4dtB"
      },
      "source": [
        "# Perfomance evaluation"
      ]
    },
    {
      "cell_type": "markdown",
      "metadata": {
        "id": "p-il22xD4vpT"
      },
      "source": [
        "## Confusion matrix"
      ]
    },
    {
      "cell_type": "code",
      "metadata": {
        "id": "fJs0mEQelVpK"
      },
      "source": [
        "booster = clf.get_booster()"
      ],
      "execution_count": 42,
      "outputs": []
    },
    {
      "cell_type": "code",
      "metadata": {
        "id": "1I57lgUWldhK",
        "colab": {
          "base_uri": "https://localhost:8080/"
        },
        "outputId": "255e23f1-abff-4fd4-b75b-7a1972ef3e42"
      },
      "source": [
        "booster.feature_names"
      ],
      "execution_count": 43,
      "outputs": [
        {
          "output_type": "execute_result",
          "data": {
            "text/plain": [
              "['TransactionDT',\n",
              " 'TransactionAmt',\n",
              " 'card1',\n",
              " 'card2',\n",
              " 'card3',\n",
              " 'card5',\n",
              " 'addr1',\n",
              " 'addr2',\n",
              " 'C1',\n",
              " 'C2',\n",
              " 'C3',\n",
              " 'C4',\n",
              " 'C5',\n",
              " 'C6',\n",
              " 'C7',\n",
              " 'C8',\n",
              " 'C9',\n",
              " 'C10',\n",
              " 'C11',\n",
              " 'C12',\n",
              " 'C13',\n",
              " 'C14',\n",
              " 'D1',\n",
              " 'D10',\n",
              " 'D15',\n",
              " 'V12',\n",
              " 'V13',\n",
              " 'V14',\n",
              " 'V15',\n",
              " 'V16',\n",
              " 'V17',\n",
              " 'V18',\n",
              " 'V19',\n",
              " 'V20',\n",
              " 'V21',\n",
              " 'V22',\n",
              " 'V23',\n",
              " 'V24',\n",
              " 'V25',\n",
              " 'V26',\n",
              " 'V27',\n",
              " 'V28',\n",
              " 'V29',\n",
              " 'V30',\n",
              " 'V31',\n",
              " 'V32',\n",
              " 'V33',\n",
              " 'V34',\n",
              " 'V53',\n",
              " 'V54',\n",
              " 'V55',\n",
              " 'V56',\n",
              " 'V57',\n",
              " 'V58',\n",
              " 'V59',\n",
              " 'V60',\n",
              " 'V61',\n",
              " 'V62',\n",
              " 'V63',\n",
              " 'V64',\n",
              " 'V65',\n",
              " 'V66',\n",
              " 'V67',\n",
              " 'V68',\n",
              " 'V69',\n",
              " 'V70',\n",
              " 'V71',\n",
              " 'V72',\n",
              " 'V73',\n",
              " 'V74',\n",
              " 'V75',\n",
              " 'V76',\n",
              " 'V77',\n",
              " 'V78',\n",
              " 'V79',\n",
              " 'V80',\n",
              " 'V81',\n",
              " 'V82',\n",
              " 'V83',\n",
              " 'V84',\n",
              " 'V85',\n",
              " 'V86',\n",
              " 'V87',\n",
              " 'V88',\n",
              " 'V89',\n",
              " 'V90',\n",
              " 'V91',\n",
              " 'V92',\n",
              " 'V93',\n",
              " 'V94',\n",
              " 'V95',\n",
              " 'V96',\n",
              " 'V97',\n",
              " 'V98',\n",
              " 'V99',\n",
              " 'V100',\n",
              " 'V101',\n",
              " 'V102',\n",
              " 'V103',\n",
              " 'V104',\n",
              " 'V105',\n",
              " 'V106',\n",
              " 'V107',\n",
              " 'V108',\n",
              " 'V109',\n",
              " 'V110',\n",
              " 'V111',\n",
              " 'V112',\n",
              " 'V113',\n",
              " 'V114',\n",
              " 'V115',\n",
              " 'V116',\n",
              " 'V117',\n",
              " 'V118',\n",
              " 'V119',\n",
              " 'V120',\n",
              " 'V121',\n",
              " 'V122',\n",
              " 'V123',\n",
              " 'V124',\n",
              " 'V125',\n",
              " 'V126',\n",
              " 'V127',\n",
              " 'V128',\n",
              " 'V129',\n",
              " 'V130',\n",
              " 'V131',\n",
              " 'V132',\n",
              " 'V133',\n",
              " 'V134',\n",
              " 'V135',\n",
              " 'V136',\n",
              " 'V137',\n",
              " 'V279',\n",
              " 'V280',\n",
              " 'V281',\n",
              " 'V282',\n",
              " 'V283',\n",
              " 'V284',\n",
              " 'V285',\n",
              " 'V286',\n",
              " 'V287',\n",
              " 'V288',\n",
              " 'V289',\n",
              " 'V290',\n",
              " 'V291',\n",
              " 'V292',\n",
              " 'V293',\n",
              " 'V294',\n",
              " 'V295',\n",
              " 'V296',\n",
              " 'V297',\n",
              " 'V298',\n",
              " 'V299',\n",
              " 'V300',\n",
              " 'V301',\n",
              " 'V302',\n",
              " 'V303',\n",
              " 'V304',\n",
              " 'V305',\n",
              " 'V306',\n",
              " 'V307',\n",
              " 'V308',\n",
              " 'V309',\n",
              " 'V310',\n",
              " 'V311',\n",
              " 'V312',\n",
              " 'V313',\n",
              " 'V314',\n",
              " 'V315',\n",
              " 'V316',\n",
              " 'V317',\n",
              " 'V318',\n",
              " 'V319',\n",
              " 'V320',\n",
              " 'V321',\n",
              " 'os_version',\n",
              " 'browser_version',\n",
              " 'screen_w',\n",
              " 'screen_h',\n",
              " 'day',\n",
              " 'hour',\n",
              " 'ProductCD_C',\n",
              " 'ProductCD_H',\n",
              " 'ProductCD_R',\n",
              " 'ProductCD_S',\n",
              " 'ProductCD_W',\n",
              " 'card4_0',\n",
              " 'card4_american express',\n",
              " 'card4_discover',\n",
              " 'card4_mastercard',\n",
              " 'card4_visa',\n",
              " 'card6_0',\n",
              " 'card6_charge card',\n",
              " 'card6_credit',\n",
              " 'card6_debit',\n",
              " 'card6_debit or credit',\n",
              " 'P_emaildomain_0',\n",
              " 'P_emaildomain_aim.com',\n",
              " 'P_emaildomain_anonymous.com',\n",
              " 'P_emaildomain_aol.com',\n",
              " 'P_emaildomain_att.net',\n",
              " 'P_emaildomain_bellsouth.net',\n",
              " 'P_emaildomain_cableone.net',\n",
              " 'P_emaildomain_centurylink.net',\n",
              " 'P_emaildomain_cfl.rr.com',\n",
              " 'P_emaildomain_charter.net',\n",
              " 'P_emaildomain_comcast.net',\n",
              " 'P_emaildomain_cox.net',\n",
              " 'P_emaildomain_earthlink.net',\n",
              " 'P_emaildomain_embarqmail.com',\n",
              " 'P_emaildomain_frontier.com',\n",
              " 'P_emaildomain_frontiernet.net',\n",
              " 'P_emaildomain_gmail',\n",
              " 'P_emaildomain_gmail.com',\n",
              " 'P_emaildomain_gmx.de',\n",
              " 'P_emaildomain_hotmail.co.uk',\n",
              " 'P_emaildomain_hotmail.com',\n",
              " 'P_emaildomain_hotmail.de',\n",
              " 'P_emaildomain_hotmail.es',\n",
              " 'P_emaildomain_hotmail.fr',\n",
              " 'P_emaildomain_icloud.com',\n",
              " 'P_emaildomain_juno.com',\n",
              " 'P_emaildomain_live.com',\n",
              " 'P_emaildomain_live.com.mx',\n",
              " 'P_emaildomain_live.fr',\n",
              " 'P_emaildomain_mac.com',\n",
              " 'P_emaildomain_mail.com',\n",
              " 'P_emaildomain_me.com',\n",
              " 'P_emaildomain_msn.com',\n",
              " 'P_emaildomain_netzero.com',\n",
              " 'P_emaildomain_netzero.net',\n",
              " 'P_emaildomain_optonline.net',\n",
              " 'P_emaildomain_outlook.com',\n",
              " 'P_emaildomain_outlook.es',\n",
              " 'P_emaildomain_prodigy.net.mx',\n",
              " 'P_emaildomain_protonmail.com',\n",
              " 'P_emaildomain_ptd.net',\n",
              " 'P_emaildomain_q.com',\n",
              " 'P_emaildomain_roadrunner.com',\n",
              " 'P_emaildomain_rocketmail.com',\n",
              " 'P_emaildomain_sbcglobal.net',\n",
              " 'P_emaildomain_sc.rr.com',\n",
              " 'P_emaildomain_servicios-ta.com',\n",
              " 'P_emaildomain_suddenlink.net',\n",
              " 'P_emaildomain_twc.com',\n",
              " 'P_emaildomain_verizon.net',\n",
              " 'P_emaildomain_web.de',\n",
              " 'P_emaildomain_windstream.net',\n",
              " 'P_emaildomain_yahoo.co.jp',\n",
              " 'P_emaildomain_yahoo.co.uk',\n",
              " 'P_emaildomain_yahoo.com',\n",
              " 'P_emaildomain_yahoo.com.mx',\n",
              " 'P_emaildomain_yahoo.de',\n",
              " 'P_emaildomain_yahoo.es',\n",
              " 'P_emaildomain_yahoo.fr',\n",
              " 'P_emaildomain_ymail.com',\n",
              " 'R_emaildomain_0',\n",
              " 'R_emaildomain_aim.com',\n",
              " 'R_emaildomain_anonymous.com',\n",
              " 'R_emaildomain_aol.com',\n",
              " 'R_emaildomain_att.net',\n",
              " 'R_emaildomain_bellsouth.net',\n",
              " 'R_emaildomain_cableone.net',\n",
              " 'R_emaildomain_centurylink.net',\n",
              " 'R_emaildomain_cfl.rr.com',\n",
              " 'R_emaildomain_charter.net',\n",
              " 'R_emaildomain_comcast.net',\n",
              " 'R_emaildomain_cox.net',\n",
              " 'R_emaildomain_earthlink.net',\n",
              " 'R_emaildomain_embarqmail.com',\n",
              " 'R_emaildomain_frontier.com',\n",
              " 'R_emaildomain_frontiernet.net',\n",
              " 'R_emaildomain_gmail',\n",
              " 'R_emaildomain_gmail.com',\n",
              " 'R_emaildomain_gmx.de',\n",
              " 'R_emaildomain_hotmail.co.uk',\n",
              " 'R_emaildomain_hotmail.com',\n",
              " 'R_emaildomain_hotmail.de',\n",
              " 'R_emaildomain_hotmail.es',\n",
              " 'R_emaildomain_hotmail.fr',\n",
              " 'R_emaildomain_icloud.com',\n",
              " 'R_emaildomain_juno.com',\n",
              " 'R_emaildomain_live.com',\n",
              " 'R_emaildomain_live.com.mx',\n",
              " 'R_emaildomain_live.fr',\n",
              " 'R_emaildomain_mac.com',\n",
              " 'R_emaildomain_mail.com',\n",
              " 'R_emaildomain_me.com',\n",
              " 'R_emaildomain_msn.com',\n",
              " 'R_emaildomain_netzero.com',\n",
              " 'R_emaildomain_netzero.net',\n",
              " 'R_emaildomain_optonline.net',\n",
              " 'R_emaildomain_outlook.com',\n",
              " 'R_emaildomain_outlook.es',\n",
              " 'R_emaildomain_prodigy.net.mx',\n",
              " 'R_emaildomain_protonmail.com',\n",
              " 'R_emaildomain_ptd.net',\n",
              " 'R_emaildomain_q.com',\n",
              " 'R_emaildomain_roadrunner.com',\n",
              " 'R_emaildomain_rocketmail.com',\n",
              " 'R_emaildomain_sbcglobal.net',\n",
              " 'R_emaildomain_sc.rr.com',\n",
              " 'R_emaildomain_scranton.edu',\n",
              " 'R_emaildomain_servicios-ta.com',\n",
              " 'R_emaildomain_suddenlink.net',\n",
              " 'R_emaildomain_twc.com',\n",
              " 'R_emaildomain_verizon.net',\n",
              " 'R_emaildomain_web.de',\n",
              " 'R_emaildomain_windstream.net',\n",
              " 'R_emaildomain_yahoo.co.jp',\n",
              " 'R_emaildomain_yahoo.co.uk',\n",
              " 'R_emaildomain_yahoo.com',\n",
              " 'R_emaildomain_yahoo.com.mx',\n",
              " 'R_emaildomain_yahoo.de',\n",
              " 'R_emaildomain_yahoo.es',\n",
              " 'R_emaildomain_yahoo.fr',\n",
              " 'R_emaildomain_ymail.com',\n",
              " 'M2_0',\n",
              " 'M2_F',\n",
              " 'M2_T',\n",
              " 'M3_0',\n",
              " 'M3_F',\n",
              " 'M3_T',\n",
              " 'M4_0',\n",
              " 'M4_M0',\n",
              " 'M4_M1',\n",
              " 'M4_M2',\n",
              " 'M5_0',\n",
              " 'M5_F',\n",
              " 'M5_T',\n",
              " 'M6_0',\n",
              " 'M6_F',\n",
              " 'M6_T',\n",
              " 'M7_0',\n",
              " 'M7_F',\n",
              " 'M7_T',\n",
              " 'M8_0',\n",
              " 'M8_F',\n",
              " 'M8_T',\n",
              " 'M9_0',\n",
              " 'M9_F',\n",
              " 'M9_T',\n",
              " 'id_12_0',\n",
              " 'id_12_Found',\n",
              " 'id_12_NotFound',\n",
              " 'id_15_0',\n",
              " 'id_15_Found',\n",
              " 'id_15_New',\n",
              " 'id_15_Unknown',\n",
              " 'id_16_0',\n",
              " 'id_16_Found',\n",
              " 'id_16_NotFound',\n",
              " 'id_27_0',\n",
              " 'id_27_Found',\n",
              " 'id_27_NotFound',\n",
              " 'id_28_0',\n",
              " 'id_28_Found',\n",
              " 'id_28_New',\n",
              " 'id_29_0',\n",
              " 'id_29_Found',\n",
              " 'id_29_NotFound',\n",
              " 'id_35_0',\n",
              " 'id_35_F',\n",
              " 'id_35_T',\n",
              " 'id_36_0',\n",
              " 'id_36_F',\n",
              " 'id_36_T',\n",
              " 'id_37_0',\n",
              " 'id_37_F',\n",
              " 'id_37_T',\n",
              " 'id_38_0',\n",
              " 'id_38_F',\n",
              " 'id_38_T',\n",
              " 'DeviceType_0',\n",
              " 'DeviceType_desktop',\n",
              " 'DeviceType_mobile',\n",
              " 'device_name_0',\n",
              " 'device_name_HTC',\n",
              " 'device_name_Huawei',\n",
              " 'device_name_LG',\n",
              " 'device_name_MacOS',\n",
              " 'device_name_Motorola',\n",
              " 'device_name_Others',\n",
              " 'device_name_RV',\n",
              " 'device_name_Samsung',\n",
              " 'device_name_Sony',\n",
              " 'device_name_Trident',\n",
              " 'device_name_Windows',\n",
              " 'device_name_ZTE',\n",
              " 'device_name_iOS Device',\n",
              " 'device_version_0',\n",
              " 'device_version_14.6.A.1.236',\n",
              " 'device_version_18.6.A.0.182',\n",
              " 'device_version_19.4.A.0.182',\n",
              " 'device_version_2.12.111.1',\n",
              " 'device_version_23.5.A.1.291',\n",
              " 'device_version_24.0.A.5.14',\n",
              " 'device_version_26.1.A.3.111',\n",
              " 'device_version_26.3.A.1.33',\n",
              " 'device_version_27.3.A.0.129',\n",
              " 'device_version_27.3.A.0.165',\n",
              " 'device_version_29.1.A.0.101',\n",
              " 'device_version_29.2.A.0.166',\n",
              " 'device_version_30.2.A.1.21',\n",
              " 'device_version_32.4.A.1.54',\n",
              " 'device_version_33.2.A.3.81',\n",
              " 'device_version_33.2.A.4.70',\n",
              " 'device_version_33.3.A.1.115',\n",
              " 'device_version_33.3.A.1.97',\n",
              " 'device_version_34.2.A.2.47',\n",
              " 'device_version_34.3.A.0.228',\n",
              " 'device_version_34.3.A.0.238',\n",
              " 'device_version_34.3.A.0.252',\n",
              " 'device_version_34.4.A.2.19',\n",
              " 'device_version_35.0.D.2.25',\n",
              " 'device_version_36.0.A.2.146',\n",
              " 'device_version_36.1.A.1.86',\n",
              " 'device_version_37.0.A.2.108',\n",
              " 'device_version_37.0.A.2.248',\n",
              " 'device_version_4.28.502.2',\n",
              " 'device_version_40.0.A.6.135',\n",
              " 'device_version_40.0.A.6.175',\n",
              " 'device_version_40.0.A.6.189',\n",
              " 'device_version_41.2.A.7.76',\n",
              " 'device_version_42.0.A.4.101',\n",
              " 'device_version_42.0.A.4.167',\n",
              " 'device_version_43.0.A.5.79',\n",
              " 'device_version_43.0.A.7.25',\n",
              " 'device_version_47.1.A.5.51',\n",
              " 'device_version_5.320VZ.03.r',\n",
              " 'device_version_6.2.A.1.100',\n",
              " 'device_version_7.0',\n",
              " 'device_version_9.8.2I-50_SML-25',\n",
              " 'device_version_A310FXXU4CRB1 Build',\n",
              " 'device_version_E050L',\n",
              " 'device_version_G850FXXS2CQD9 Build',\n",
              " 'device_version_H44312g',\n",
              " 'device_version_H81021z',\n",
              " 'device_version_H81022f',\n",
              " 'device_version_H90022b',\n",
              " 'device_version_HONORBLN-L21',\n",
              " 'device_version_HONORBLN-L24',\n",
              " 'device_version_HONORBND-L21',\n",
              " 'device_version_HONORDLI-L22',\n",
              " 'device_version_HONORNEM-L51',\n",
              " 'device_version_HONORPLK-L01',\n",
              " 'device_version_HUAWEIALP-L09',\n",
              " 'device_version_HUAWEIALP-L09S',\n",
              " 'device_version_HUAWEIANE-LX3',\n",
              " 'device_version_HUAWEIBAC-L03',\n",
              " 'device_version_HUAWEIBAH-L09',\n",
              " 'device_version_HUAWEIBLA-L09',\n",
              " 'device_version_HUAWEIBLA-L29',\n",
              " 'device_version_HUAWEIBLL-L23',\n",
              " 'device_version_HUAWEICAM-L03',\n",
              " 'device_version_HUAWEICAN-L01',\n",
              " 'device_version_HUAWEICAN-L11',\n",
              " 'device_version_HUAWEICRO-L03',\n",
              " 'device_version_HUAWEICUN-L03',\n",
              " 'device_version_HUAWEIEML-L29',\n",
              " 'device_version_HUAWEIEVA-L09',\n",
              " 'device_version_HUAWEIEVA-L19',\n",
              " 'device_version_HUAWEIFIG-LX3',\n",
              " 'device_version_HUAWEIFRD-L04',\n",
              " 'device_version_HUAWEIFRD-L09',\n",
              " 'device_version_HUAWEIFRD-L14',\n",
              " 'device_version_HUAWEIGRA-L09',\n",
              " 'device_version_HUAWEIH1711',\n",
              " 'device_version_HUAWEILDN-LX3',\n",
              " 'device_version_HUAWEILUA-U23',\n",
              " 'device_version_HUAWEILYO-L21',\n",
              " 'device_version_HUAWEIM2-801W',\n",
              " 'device_version_HUAWEIMHA-L09',\n",
              " 'device_version_HUAWEIMHA-L29',\n",
              " 'device_version_HUAWEIMYA-L03',\n",
              " 'device_version_HUAWEIMYA-L13',\n",
              " 'device_version_HUAWEINXT-L09',\n",
              " 'device_version_HUAWEIPRA-LX1',\n",
              " 'device_version_HUAWEIPRA-LX3',\n",
              " 'device_version_HUAWEIRIO-L03',\n",
              " 'device_version_HUAWEIRNE-L03',\n",
              " 'device_version_HUAWEIRNE-L21',\n",
              " 'device_version_HUAWEIRNE-L22',\n",
              " 'device_version_HUAWEIRNE-L23',\n",
              " 'device_version_HUAWEISLA-L03',\n",
              " 'device_version_HUAWEISTF-L09',\n",
              " 'device_version_HUAWEITAG-L13',\n",
              " 'device_version_HUAWEITRT-L53',\n",
              " 'device_version_HUAWEIVKY-L09',\n",
              " 'device_version_HUAWEIVNS-L21',\n",
              " 'device_version_HUAWEIVNS-L23',\n",
              " 'device_version_HUAWEIVNS-L31',\n",
              " 'device_version_HUAWEIVNS-L53',\n",
              " 'device_version_HUAWEIVTR-AL00',\n",
              " 'device_version_HUAWEIVTR-L09',\n",
              " 'device_version_HUAWEIWAS-L03T',\n",
              " 'device_version_HUAWEIWAS-LX1',\n",
              " 'device_version_HUAWEIWAS-LX1A',\n",
              " 'device_version_HUAWEIWAS-LX3',\n",
              " 'device_version_HUAWEIWAS-TL10',\n",
              " 'device_version_HUAWEIY360-U23',\n",
              " 'device_version_HUAWEIY520-U03',\n",
              " 'device_version_HUAWEIY560-L03',\n",
              " 'device_version_HUAWEIY625-U13',\n",
              " 'device_version_HuaweiALE-L21',\n",
              " 'device_version_HuaweiALE-L23',\n",
              " 'device_version_HuaweiCHC-U03',\n",
              " 'device_version_HuaweiG7-L03',\n",
              " 'device_version_HuaweiY635-L03',\n",
              " 'device_version_IEXCNFN5902303111S',\n",
              " 'device_version_IML74K',\n",
              " 'device_version_JDQ39',\n",
              " 'device_version_JZO54K',\n",
              " 'device_version_KOT49H',\n",
              " 'device_version_KOT49I',\n",
              " 'device_version_KOT49I.V10a',\n",
              " 'device_version_KTU84M',\n",
              " 'device_version_KTU84P',\n",
              " 'device_version_KVT49L',\n",
              " 'device_version_KXB20.9-1.10-1.24-1.1',\n",
              " 'device_version_KXB21.14-L1.40',\n",
              " 'device_version_KXC21.5-40',\n",
              " 'device_version_L050U',\n",
              " 'device_version_LMY47D',\n",
              " 'device_version_LMY47I',\n",
              " 'device_version_LMY47O',\n",
              " 'device_version_LMY47V',\n",
              " 'device_version_LMY47X',\n",
              " 'device_version_LMY48B',\n",
              " 'device_version_LPAS23.12-21.7-1',\n",
              " 'device_version_LPBS23.13-56-2',\n",
              " 'device_version_LPBS23.13-57-2',\n",
              " 'device_version_LPCS23.13-34.8-3',\n",
              " 'device_version_LPCS23.13-56-5',\n",
              " 'device_version_LRX21M',\n",
              " 'device_version_LRX21R',\n",
              " 'device_version_LRX21T',\n",
              " 'device_version_LRX21V',\n",
              " 'device_version_LRX21Y',\n",
              " 'device_version_LRX22C',\n",
              " 'device_version_LRX22G',\n",
              " 'device_version_LVY48F',\n",
              " 'device_version_LenovoTB-X103F',\n",
              " 'device_version_LenovoTB2-X30F',\n",
              " 'device_version_M4B30Z',\n",
              " 'device_version_MCG24.251-5-5',\n",
              " 'device_version_MHC19Q',\n",
              " 'device_version_MMB28B',\n",
              " 'device_version_MMB29K',\n",
              " 'device_version_MMB29M',\n",
              " 'device_version_MMB29T',\n",
              " 'device_version_MOB30M',\n",
              " 'device_version_MPB24.65-34',\n",
              " 'device_version_MPB24.65-34-3',\n",
              " 'device_version_MPD24.107-52',\n",
              " 'device_version_MPD24.65-25',\n",
              " 'device_version_MPD24.65-33',\n",
              " 'device_version_MPDS24.107-52-5',\n",
              " 'device_version_MPDS24.65-33-1-3',\n",
              " 'device_version_MPDS24.65-33-1-30',\n",
              " 'device_version_MPI24.65-25',\n",
              " 'device_version_MPI24.65-25.1',\n",
              " 'device_version_MPI24.65-33.1-2',\n",
              " 'device_version_MPIS24.107-55-2-17',\n",
              " 'device_version_MPIS24.241-15.3-26',\n",
              " 'device_version_MPIS24.241-15.3-7',\n",
              " 'device_version_MPIS24.241-2.35-1-17',\n",
              " 'device_version_MPIS24.65-25.1-19',\n",
              " 'device_version_MPIS24.65-33.1-2-16',\n",
              " 'device_version_MRA58K',\n",
              " 'device_version_MXB48T',\n",
              " 'device_version_N2G47H',\n",
              " 'device_version_N6F27M',\n",
              " 'device_version_NCK25.118-10.5',\n",
              " 'device_version_NCLS26.118-23-13-3',\n",
              " 'device_version_NCLS26.118-23-13-6-5',\n",
              " 'device_version_NCQ26.69-56',\n",
              " 'device_version_NDNS26.118-23-12-3',\n",
              " 'device_version_NDQS26.69-23-2-3',\n",
              " 'device_version_NDQS26.69-64-2',\n",
              " 'device_version_NDSS26.118-23-15',\n",
              " 'device_version_NDSS26.118-23-19-6',\n",
              " 'device_version_NJH47F',\n",
              " 'device_version_NMA26.42-11-3',\n",
              " 'device_version_NMA26.42-142',\n",
              " 'device_version_NMA26.42-152',\n",
              " 'device_version_NMA26.42-19',\n",
              " 'device_version_NMA26.42-69',\n",
              " 'device_version_NMF26F',\n",
              " 'device_version_NMF26O',\n",
              " 'device_version_NMF26V',\n",
              " 'device_version_NMF26X',\n",
              " 'device_version_NPD26.48-24-1',\n",
              " 'device_version_NPHS25.200-15-8',\n",
              " 'device_version_NPHS25.200-23-1',\n",
              " 'device_version_NPI26.48-36',\n",
              " 'device_version_NPIS26.48-36-2',\n",
              " 'device_version_NPIS26.48-36-5',\n",
              " 'device_version_NPIS26.48-38-3',\n",
              " 'device_version_NPJ25.93-14',\n",
              " 'device_version_NPJ25.93-14.5',\n",
              " 'device_version_NPJ25.93-14.7',\n",
              " 'device_version_NPJS25.93-14-10',\n",
              " 'device_version_NPJS25.93-14-13',\n",
              " 'device_version_NPJS25.93-14-15',\n",
              " 'device_version_NPJS25.93-14-18',\n",
              " 'device_version_NPJS25.93-14-8',\n",
              " 'device_version_NPJS25.93-14-8.1-4',\n",
              " 'device_version_NPKS25.200-12-9',\n",
              " 'device_version_NPKS25.200-17-8',\n",
              " 'device_version_NPLS26.118-20-5-11',\n",
              " 'device_version_NPLS26.118-20-5-3',\n",
              " 'device_version_NPN25.137-15',\n",
              " 'device_version_NPN25.137-72',\n",
              " 'device_version_NPN25.137-82',\n",
              " 'device_version_NPN25.137-83',\n",
              " 'device_version_NPN25.137-92',\n",
              " 'device_version_NPN26.118-22-2',\n",
              " 'device_version_NPNS25.137-15-11',\n",
              " 'device_version_NPNS25.137-92-10',\n",
              " 'device_version_NPNS25.137-92-4',\n",
              " 'device_version_NPNS25.137-92-8',\n",
              " 'device_version_NPNS25.137-93-8',\n",
              " 'device_version_NPP25.137-15',\n",
              " 'device_version_NPP25.137-33',\n",
              " 'device_version_NPP25.137-38',\n",
              " 'device_version_NPP25.137-72',\n",
              " 'device_version_NPP25.137-82',\n",
              " 'device_version_NPP25.137-93',\n",
              " 'device_version_NPPS25.137-15-11',\n",
              " 'device_version_NPPS25.137-93-4',\n",
              " 'device_version_NPPS25.137-93-8',\n",
              " 'device_version_NPS26.118-19',\n",
              " 'device_version_NPS26.74-16-1',\n",
              " 'device_version_NPSS26.118-19-11',\n",
              " 'device_version_NPSS26.118-19-14',\n",
              " 'device_version_NPSS26.118-19-4',\n",
              " 'device_version_NPSS26.118-19-6',\n",
              " 'device_version_NPW26.83-18-2-0-4',\n",
              " 'device_version_NPW26.83-42',\n",
              " 'device_version_NRD90M',\n",
              " 'device_version_NRD90M.046',\n",
              " 'device_version_NRD90M.05.022',\n",
              " 'device_version_NRD90M.05.034',\n",
              " 'device_version_NRD90M.050',\n",
              " 'device_version_NRD90M.054',\n",
              " 'device_version_NRD90M.057',\n",
              " 'device_version_NRD90M.063',\n",
              " 'device_version_NRD90M.070',\n",
              " 'device_version_NRD90N',\n",
              " 'device_version_NRD90U',\n",
              " 'device_version_O00623',\n",
              " 'device_version_OPM1.171019.011',\n",
              " 'device_version_OPM1.171019.012',\n",
              " 'device_version_OPM1.171019.013',\n",
              " 'device_version_OPM1.171019.016',\n",
              " 'device_version_OPM1.171019.019',\n",
              " 'device_version_OPM1.171019.021',\n",
              " 'device_version_OPM2.171019.016',\n",
              " 'device_version_OPM2.171019.029',\n",
              " 'device_version_OPM2.171019.029.B1',\n",
              " 'device_version_OPM3.171019.013',\n",
              " 'device_version_OPM4.171019.016.B1',\n",
              " 'device_version_OPN27.76-12-22',\n",
              " 'device_version_OPP27.61-14-4',\n",
              " 'device_version_OPR1.170623.026',\n",
              " 'device_version_OPR1.170623.032',\n",
              " 'device_version_OPR3.170623.013',\n",
              " 'device_version_OPR4.170623.006',\n",
              " 'device_version_OPR5.170623.011',\n",
              " 'device_version_OPR5.170623.014',\n",
              " 'device_version_OPR6.170623.013',\n",
              " 'device_version_OPW27.57-40',\n",
              " 'device_version_OPWS27.57-40-14',\n",
              " 'device_version_OPWS27.57-40-6',\n",
              " 'device_version_Q1010',\n",
              " 'device_version_R16NW',\n",
              " 'device_version_S100',\n",
              " 'device_version_SU6-7.7',\n",
              " 'device_version_V100',\n",
              " 'device_version_V41020c',\n",
              " 'device_version_V49520l',\n",
              " 'device_version_Vision',\n",
              " 'device_version_XXU2DRC1 Build',\n",
              " 'os_name_0',\n",
              " 'os_name_Android',\n",
              " 'os_name_Linux',\n",
              " 'os_name_Mac',\n",
              " 'os_name_Windows',\n",
              " 'os_name_func',\n",
              " 'os_name_iOS',\n",
              " 'os_name_other',\n",
              " 'browser_name_0',\n",
              " 'browser_name_BLU/Dash',\n",
              " 'browser_name_Cherry',\n",
              " 'browser_name_Generic/Android',\n",
              " 'browser_name_Inco/Minion',\n",
              " 'browser_name_LG/K-200',\n",
              " 'browser_name_Lanix/Ilium',\n",
              " 'browser_name_M4Tel/M4',\n",
              " 'browser_name_Microsoft/Windows',\n",
              " 'browser_name_Mozilla/Firefox',\n",
              " 'browser_name_Nokia/Lumia',\n",
              " 'browser_name_Samsung/SCH',\n",
              " 'browser_name_Samsung/SM-G531H',\n",
              " 'browser_name_Samsung/SM-G532M',\n",
              " 'browser_name_ZTE/Blade',\n",
              " 'browser_name_android',\n",
              " 'browser_name_aol',\n",
              " 'browser_name_chrome',\n",
              " 'browser_name_chromium',\n",
              " 'browser_name_comodo',\n",
              " 'browser_name_cyberfox',\n",
              " 'browser_name_edge',\n",
              " 'browser_name_facebook',\n",
              " 'browser_name_firefox',\n",
              " 'browser_name_google',\n",
              " 'browser_name_icedragon',\n",
              " 'browser_name_ie',\n",
              " 'browser_name_iron',\n",
              " 'browser_name_line',\n",
              " 'browser_name_maxthon',\n",
              " 'browser_name_mobile',\n",
              " 'browser_name_opera',\n",
              " 'browser_name_other',\n",
              " 'browser_name_palemoon',\n",
              " 'browser_name_puffin',\n",
              " 'browser_name_safari',\n",
              " 'browser_name_samsung',\n",
              " 'browser_name_seamonkey',\n",
              " 'browser_name_silk',\n",
              " 'browser_name_waterfox']"
            ]
          },
          "metadata": {
            "tags": []
          },
          "execution_count": 43
        }
      ]
    },
    {
      "cell_type": "code",
      "metadata": {
        "colab": {
          "base_uri": "https://localhost:8080/",
          "height": 331
        },
        "id": "152ZWY4k4xWd",
        "outputId": "0c821f0a-512b-4cd3-87fa-e73774a4f65d"
      },
      "source": [
        "mf.conf_matrix(clf, X_test, y_test)"
      ],
      "execution_count": 44,
      "outputs": [
        {
          "output_type": "stream",
          "text": [
            "[[113254    599]\n",
            " [  1497   2757]]\n"
          ],
          "name": "stdout"
        },
        {
          "output_type": "display_data",
          "data": {
            "image/png": "[encoded data removed]",
            "text/plain": [
              "<Figure size 432x288 with 2 Axes>"
            ]
          },
          "metadata": {
            "tags": [],
            "needs_background": "light"
          }
        }
      ]
    },
    {
      "cell_type": "markdown",
      "metadata": {
        "id": "YUTV54eK4iHR"
      },
      "source": [
        "## Mean average precision"
      ]
    },
    {
      "cell_type": "markdown",
      "metadata": {
        "id": "gVLAZnmzu8IS"
      },
      "source": [
        "AP max = 0.84\r\n",
        "\r\n",
        "AP: https://scikit-learn.org/stable/auto_examples/model_selection/plot_precision_recall.html#sphx-glr-auto-examples-model-selection-plot-precision-recall-py"
      ]
    },
    {
      "cell_type": "code",
      "metadata": {
        "colab": {
          "base_uri": "https://localhost:8080/",
          "height": 295
        },
        "id": "YOkqeK8SfH_L",
        "outputId": "599928c0-2ed5-40d0-c342-92a0993f4575"
      },
      "source": [
        "mf.ap_metric(clf, X_test, y_test, proba = True)"
      ],
      "execution_count": 45,
      "outputs": [
        {
          "output_type": "display_data",
          "data": {
            "image/png": "[encoded data removed]",
            "text/plain": [
              "<Figure size 432x288 with 1 Axes>"
            ]
          },
          "metadata": {
            "tags": [],
            "needs_background": "light"
          }
        }
      ]
    },
    {
      "cell_type": "code",
      "metadata": {
        "colab": {
          "base_uri": "https://localhost:8080/"
        },
        "id": "xQUfQxSkh7PC",
        "outputId": "2d9219d6-148b-4bec-f043-4920ac15700f"
      },
      "source": [
        "mf.f1(clf, X_test, y_test)"
      ],
      "execution_count": 46,
      "outputs": [
        {
          "output_type": "execute_result",
          "data": {
            "text/plain": [
              "0.7245729303547964"
            ]
          },
          "metadata": {
            "tags": []
          },
          "execution_count": 46
        }
      ]
    },
    {
      "cell_type": "code",
      "metadata": {
        "colab": {
          "base_uri": "https://localhost:8080/",
          "height": 1000
        },
        "id": "cHKlwO5Q1Qfl",
        "outputId": "5c037e14-5199-4a76-bca7-8d5297dfbb30"
      },
      "source": [
        "soglie = [0.5, 0.2, 0.1, 0.05, 0.02, 0.01, 0.005, 0.002]\r\n",
        "proba = clf.predict_proba(X_test)\r\n",
        "cmap = 'Blues'\r\n",
        "precision, recall, f1 = mf.tresh(soglie, proba, y_test, cmap)"
      ],
      "execution_count": 47,
      "outputs": [
        {
          "output_type": "stream",
          "text": [
            "Soglia:  0.5\n",
            "F1 score:  0.72\n",
            "Recall:  0.65\n",
            "Precision:  0.82\n",
            "\n",
            "\n"
          ],
          "name": "stdout"
        },
        {
          "output_type": "display_data",
          "data": {
            "image/png": "[encoded data removed]",
            "text/plain": [
              "<Figure size 360x360 with 2 Axes>"
            ]
          },
          "metadata": {
            "tags": [],
            "needs_background": "light"
          }
        },
        {
          "output_type": "stream",
          "text": [
            "\n",
            "\n",
            "Soglia:  0.2\n",
            "F1 score:  0.72\n",
            "Recall:  0.68\n",
            "Precision:  0.77\n",
            "\n",
            "\n"
          ],
          "name": "stdout"
        },
        {
          "output_type": "display_data",
          "data": {
            "image/png": "[encoded data removed]",
            "text/plain": [
              "<Figure size 360x360 with 2 Axes>"
            ]
          },
          "metadata": {
            "tags": [],
            "needs_background": "light"
          }
        },
        {
          "output_type": "stream",
          "text": [
            "\n",
            "\n",
            "Soglia:  0.1\n",
            "F1 score:  0.71\n",
            "Recall:  0.7\n",
            "Precision:  0.72\n",
            "\n",
            "\n"
          ],
          "name": "stdout"
        },
        {
          "output_type": "display_data",
          "data": {
            "image/png": "[encoded data removed]",
            "text/plain": [
              "<Figure size 360x360 with 2 Axes>"
            ]
          },
          "metadata": {
            "tags": [],
            "needs_background": "light"
          }
        },
        {
          "output_type": "stream",
          "text": [
            "\n",
            "\n",
            "Soglia:  0.05\n",
            "F1 score:  0.69\n",
            "Recall:  0.71\n",
            "Precision:  0.68\n",
            "\n",
            "\n"
          ],
          "name": "stdout"
        },
        {
          "output_type": "display_data",
          "data": {
            "image/png": "[encoded data removed]",
            "text/plain": [
              "<Figure size 360x360 with 2 Axes>"
            ]
          },
          "metadata": {
            "tags": [],
            "needs_background": "light"
          }
        },
        {
          "output_type": "stream",
          "text": [
            "\n",
            "\n",
            "Soglia:  0.02\n",
            "F1 score:  0.67\n",
            "Recall:  0.73\n",
            "Precision:  0.62\n",
            "\n",
            "\n"
          ],
          "name": "stdout"
        },
        {
          "output_type": "display_data",
          "data": {
            "image/png": "[encoded data removed]",
            "text/plain": [
              "<Figure size 360x360 with 2 Axes>"
            ]
          },
          "metadata": {
            "tags": [],
            "needs_background": "light"
          }
        },
        {
          "output_type": "stream",
          "text": [
            "\n",
            "\n",
            "Soglia:  0.01\n",
            "F1 score:  0.65\n",
            "Recall:  0.74\n",
            "Precision:  0.58\n",
            "\n",
            "\n"
          ],
          "name": "stdout"
        },
        {
          "output_type": "display_data",
          "data": {
            "image/png": "[encoded data removed]",
            "text/plain": [
              "<Figure size 360x360 with 2 Axes>"
            ]
          },
          "metadata": {
            "tags": [],
            "needs_background": "light"
          }
        },
        {
          "output_type": "stream",
          "text": [
            "\n",
            "\n",
            "Soglia:  0.005\n",
            "F1 score:  0.62\n",
            "Recall:  0.76\n",
            "Precision:  0.53\n",
            "\n",
            "\n"
          ],
          "name": "stdout"
        },
        {
          "output_type": "display_data",
          "data": {
            "image/png": "[encoded data removed]",
            "text/plain": [
              "<Figure size 360x360 with 2 Axes>"
            ]
          },
          "metadata": {
            "tags": [],
            "needs_background": "light"
          }
        },
        {
          "output_type": "stream",
          "text": [
            "\n",
            "\n",
            "Soglia:  0.002\n",
            "F1 score:  0.59\n",
            "Recall:  0.77\n",
            "Precision:  0.47\n",
            "\n",
            "\n"
          ],
          "name": "stdout"
        },
        {
          "output_type": "display_data",
          "data": {
            "image/png": "[encoded data removed]",
            "text/plain": [
              "<Figure size 360x360 with 2 Axes>"
            ]
          },
          "metadata": {
            "tags": [],
            "needs_background": "light"
          }
        },
        {
          "output_type": "stream",
          "text": [
            "\n",
            "\n"
          ],
          "name": "stdout"
        }
      ]
    },
    {
      "cell_type": "markdown",
      "metadata": {
        "id": "MSOj-LJO4oUF"
      },
      "source": [
        "## Feature importance"
      ]
    },
    {
      "cell_type": "markdown",
      "metadata": {
        "id": "3dKb0FYl91xi"
      },
      "source": [
        "Cambio il nome delle feature assegnato di default da xgboost quando viene trainato su un array numpy. \r\n",
        "\r\n",
        "Riferimento: https://stackoverflow.com/questions/54933804/how-to-get-actual-feature-names-in-xgboost-feature-importance-plot-without-retra"
      ]
    },
    {
      "cell_type": "code",
      "metadata": {
        "id": "cwKIBo6b9mUZ"
      },
      "source": [
        "# clf.get_booster().feature_names = cols"
      ],
      "execution_count": 48,
      "outputs": []
    },
    {
      "cell_type": "code",
      "metadata": {
        "colab": {
          "base_uri": "https://localhost:8080/",
          "height": 313
        },
        "id": "4QajIT0n-XsG",
        "outputId": "507f746c-1316-4fc5-a1f6-d1d80ac1dc58"
      },
      "source": [
        "xgb.plot_importance(clf, max_num_features = 10, importance_type='gain', show_values=False, title='Feature importance by gain')"
      ],
      "execution_count": 49,
      "outputs": [
        {
          "output_type": "execute_result",
          "data": {
            "text/plain": [
              "<matplotlib.axes._subplots.AxesSubplot at 0x7fd781670810>"
            ]
          },
          "metadata": {
            "tags": []
          },
          "execution_count": 49
        },
        {
          "output_type": "display_data",
          "data": {
            "image/png": "[encoded data removed]",
            "text/plain": [
              "<Figure size 432x288 with 1 Axes>"
            ]
          },
          "metadata": {
            "tags": [],
            "needs_background": "light"
          }
        }
      ]
    },
    {
      "cell_type": "code",
      "metadata": {
        "colab": {
          "base_uri": "https://localhost:8080/",
          "height": 313
        },
        "id": "PwH_lULojeHr",
        "outputId": "f006ac9b-0e27-49d6-8eef-a8d0be47456f"
      },
      "source": [
        "xgb.plot_importance(clf, max_num_features = 10, importance_type='weight', show_values=False, title='Feature importance by weight')"
      ],
      "execution_count": 50,
      "outputs": [
        {
          "output_type": "execute_result",
          "data": {
            "text/plain": [
              "<matplotlib.axes._subplots.AxesSubplot at 0x7fd78912a390>"
            ]
          },
          "metadata": {
            "tags": []
          },
          "execution_count": 50
        },
        {
          "output_type": "display_data",
          "data": {
            "image/png": "[encoded data removed]",
            "text/plain": [
              "<Figure size 432x288 with 1 Axes>"
            ]
          },
          "metadata": {
            "tags": [],
            "needs_background": "light"
          }
        }
      ]
    },
    {
      "cell_type": "code",
      "metadata": {
        "colab": {
          "base_uri": "https://localhost:8080/",
          "height": 313
        },
        "id": "3bOfpsCmjiJR",
        "outputId": "052ac785-bd82-4281-a91a-247fcfcddd46"
      },
      "source": [
        "xgb.plot_importance(clf, max_num_features = 10, importance_type='cover', show_values=False, title='Feature importance by cover')"
      ],
      "execution_count": 51,
      "outputs": [
        {
          "output_type": "execute_result",
          "data": {
            "text/plain": [
              "<matplotlib.axes._subplots.AxesSubplot at 0x7fd781960d10>"
            ]
          },
          "metadata": {
            "tags": []
          },
          "execution_count": 51
        },
        {
          "output_type": "display_data",
          "data": {
            "image/png": "[encoded data removed]",
            "text/plain": [
              "<Figure size 432x288 with 1 Axes>"
            ]
          },
          "metadata": {
            "tags": [],
            "needs_background": "light"
          }
        }
      ]
    },
    {
      "cell_type": "markdown",
      "metadata": {
        "id": "rWQX6HxT1Uql"
      },
      "source": [
        "`ratio_dictionary(clf, data, n_features)`: permette di selezionare le n_features più importanti e controllare il ratio di eventi fraudolenti che tali features individuano. "
      ]
    }
  ]
}